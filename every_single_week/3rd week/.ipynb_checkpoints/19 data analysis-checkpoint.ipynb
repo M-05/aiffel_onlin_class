{
 "cells": [
  {
   "cell_type": "code",
   "execution_count": 1,
   "id": "4cacb65f",
   "metadata": {},
   "outputs": [
    {
     "name": "stdout",
     "output_type": "stream",
     "text": [
      "ln: failed to create symbolic link '/aiffel/aiffel/data_analysis_basic/data/customer.csv': File exists\r\n",
      "ln: failed to create symbolic link '/aiffel/aiffel/data_analysis_basic/data/Sales.csv': File exists\r\n"
     ]
    }
   ],
   "source": [
    "!mkdir -p ~/aiffel/data_analysis_basic/data\n",
    "!ln -s ~/data/* ~/aiffel/data_analysis_basic/data"
   ]
  },
  {
   "cell_type": "code",
   "execution_count": 2,
   "id": "578f46bf",
   "metadata": {},
   "outputs": [],
   "source": [
    "import pandas as pd\n",
    "import matplotlib.pyplot as plt"
   ]
  },
  {
   "cell_type": "code",
   "execution_count": 5,
   "id": "3de92b66",
   "metadata": {},
   "outputs": [
    {
     "data": {
      "text/html": [
       "<div>\n",
       "<style scoped>\n",
       "    .dataframe tbody tr th:only-of-type {\n",
       "        vertical-align: middle;\n",
       "    }\n",
       "\n",
       "    .dataframe tbody tr th {\n",
       "        vertical-align: top;\n",
       "    }\n",
       "\n",
       "    .dataframe thead th {\n",
       "        text-align: right;\n",
       "    }\n",
       "</style>\n",
       "<table border=\"1\" class=\"dataframe\">\n",
       "  <thead>\n",
       "    <tr style=\"text-align: right;\">\n",
       "      <th></th>\n",
       "      <th>install</th>\n",
       "      <th>Time_stamp</th>\n",
       "      <th>Game_Name</th>\n",
       "      <th>Status</th>\n",
       "      <th>Payment</th>\n",
       "      <th>Customer_ID</th>\n",
       "    </tr>\n",
       "  </thead>\n",
       "  <tbody>\n",
       "    <tr>\n",
       "      <th>0</th>\n",
       "      <td>2022-01-08</td>\n",
       "      <td>2022-02-05</td>\n",
       "      <td>MineGround</td>\n",
       "      <td>play</td>\n",
       "      <td>4900</td>\n",
       "      <td>facilis140</td>\n",
       "    </tr>\n",
       "    <tr>\n",
       "      <th>1</th>\n",
       "      <td>2022-01-05</td>\n",
       "      <td>2022-02-17</td>\n",
       "      <td>MineGround</td>\n",
       "      <td>play</td>\n",
       "      <td>29900</td>\n",
       "      <td>debitis994</td>\n",
       "    </tr>\n",
       "    <tr>\n",
       "      <th>2</th>\n",
       "      <td>2022-01-29</td>\n",
       "      <td>2022-02-06</td>\n",
       "      <td>MineGround</td>\n",
       "      <td>play</td>\n",
       "      <td>4900</td>\n",
       "      <td>possimus246</td>\n",
       "    </tr>\n",
       "    <tr>\n",
       "      <th>3</th>\n",
       "      <td>2022-01-09</td>\n",
       "      <td>2022-02-05</td>\n",
       "      <td>MineGround</td>\n",
       "      <td>play</td>\n",
       "      <td>900</td>\n",
       "      <td>occaecati138</td>\n",
       "    </tr>\n",
       "    <tr>\n",
       "      <th>4</th>\n",
       "      <td>2022-01-08</td>\n",
       "      <td>2022-02-01</td>\n",
       "      <td>MineGround</td>\n",
       "      <td>play</td>\n",
       "      <td>900</td>\n",
       "      <td>corrupti325</td>\n",
       "    </tr>\n",
       "  </tbody>\n",
       "</table>\n",
       "</div>"
      ],
      "text/plain": [
       "      install  Time_stamp   Game_Name Status  Payment   Customer_ID\n",
       "0  2022-01-08  2022-02-05  MineGround   play     4900    facilis140\n",
       "1  2022-01-05  2022-02-17  MineGround   play    29900    debitis994\n",
       "2  2022-01-29  2022-02-06  MineGround   play     4900   possimus246\n",
       "3  2022-01-09  2022-02-05  MineGround   play      900  occaecati138\n",
       "4  2022-01-08  2022-02-01  MineGround   play      900   corrupti325"
      ]
     },
     "execution_count": 5,
     "metadata": {},
     "output_type": "execute_result"
    }
   ],
   "source": [
    "sal_l = pd.read_csv('~/aiffel/data_analysis_basic/data/Sales.csv')\n",
    "sal_l.head()"
   ]
  },
  {
   "cell_type": "code",
   "execution_count": 15,
   "id": "9f74c817",
   "metadata": {},
   "outputs": [
    {
     "data": {
      "text/plain": [
       "['Annotation',\n",
       " 'Arrow',\n",
       " 'Artist',\n",
       " 'AutoLocator',\n",
       " 'Axes',\n",
       " 'Button',\n",
       " 'Circle',\n",
       " 'Figure',\n",
       " 'FigureCanvasBase',\n",
       " 'FixedFormatter',\n",
       " 'FixedLocator',\n",
       " 'FormatStrFormatter',\n",
       " 'Formatter',\n",
       " 'FuncFormatter',\n",
       " 'GridSpec',\n",
       " 'IndexLocator',\n",
       " 'Line2D',\n",
       " 'LinearLocator',\n",
       " 'Locator',\n",
       " 'LogFormatter',\n",
       " 'LogFormatterExponent',\n",
       " 'LogFormatterMathtext',\n",
       " 'LogLocator',\n",
       " 'MaxNLocator',\n",
       " 'MouseButton',\n",
       " 'MultipleLocator',\n",
       " 'Normalize',\n",
       " 'NullFormatter',\n",
       " 'NullLocator',\n",
       " 'Number',\n",
       " 'PolarAxes',\n",
       " 'Polygon',\n",
       " 'Rectangle',\n",
       " 'ScalarFormatter',\n",
       " 'Slider',\n",
       " 'Subplot',\n",
       " 'SubplotSpec',\n",
       " 'SubplotTool',\n",
       " 'Text',\n",
       " 'TickHelper',\n",
       " 'Widget',\n",
       " '_INSTALL_FIG_OBSERVER',\n",
       " '_IP_REGISTERED',\n",
       " '_IoffContext',\n",
       " '_IonContext',\n",
       " '__builtins__',\n",
       " '__cached__',\n",
       " '__doc__',\n",
       " '__file__',\n",
       " '__loader__',\n",
       " '__name__',\n",
       " '__package__',\n",
       " '__spec__',\n",
       " '_api',\n",
       " '_auto_draw_if_interactive',\n",
       " '_backend_mod',\n",
       " '_code_objs',\n",
       " '_copy_docstring_and_deprecators',\n",
       " '_get_required_interactive_framework',\n",
       " '_interactive_bk',\n",
       " '_log',\n",
       " '_pylab_helpers',\n",
       " '_setup_pyplot_info_docstrings',\n",
       " '_warn_if_gui_out_of_main_thread',\n",
       " '_xkcd',\n",
       " 'acorr',\n",
       " 'angle_spectrum',\n",
       " 'annotate',\n",
       " 'arrow',\n",
       " 'autoscale',\n",
       " 'autumn',\n",
       " 'axes',\n",
       " 'axhline',\n",
       " 'axhspan',\n",
       " 'axis',\n",
       " 'axline',\n",
       " 'axvline',\n",
       " 'axvspan',\n",
       " 'bar',\n",
       " 'bar_label',\n",
       " 'barbs',\n",
       " 'barh',\n",
       " 'bone',\n",
       " 'box',\n",
       " 'boxplot',\n",
       " 'broken_barh',\n",
       " 'cbook',\n",
       " 'cla',\n",
       " 'clabel',\n",
       " 'clf',\n",
       " 'clim',\n",
       " 'close',\n",
       " 'cm',\n",
       " 'cohere',\n",
       " 'colorbar',\n",
       " 'colormaps',\n",
       " 'connect',\n",
       " 'contour',\n",
       " 'contourf',\n",
       " 'cool',\n",
       " 'copper',\n",
       " 'csd',\n",
       " 'cycler',\n",
       " 'delaxes',\n",
       " 'disconnect',\n",
       " 'docstring',\n",
       " 'draw',\n",
       " 'draw_all',\n",
       " 'draw_if_interactive',\n",
       " 'errorbar',\n",
       " 'eventplot',\n",
       " 'figaspect',\n",
       " 'figimage',\n",
       " 'figlegend',\n",
       " 'fignum_exists',\n",
       " 'figtext',\n",
       " 'figure',\n",
       " 'fill',\n",
       " 'fill_between',\n",
       " 'fill_betweenx',\n",
       " 'findobj',\n",
       " 'flag',\n",
       " 'functools',\n",
       " 'gca',\n",
       " 'gcf',\n",
       " 'gci',\n",
       " 'get',\n",
       " 'get_backend',\n",
       " 'get_cmap',\n",
       " 'get_current_fig_manager',\n",
       " 'get_figlabels',\n",
       " 'get_fignums',\n",
       " 'get_plot_commands',\n",
       " 'get_scale_names',\n",
       " 'getp',\n",
       " 'ginput',\n",
       " 'gray',\n",
       " 'grid',\n",
       " 'hexbin',\n",
       " 'hist',\n",
       " 'hist2d',\n",
       " 'hlines',\n",
       " 'hot',\n",
       " 'hsv',\n",
       " 'importlib',\n",
       " 'imread',\n",
       " 'imsave',\n",
       " 'imshow',\n",
       " 'inferno',\n",
       " 'inspect',\n",
       " 'install_repl_displayhook',\n",
       " 'interactive',\n",
       " 'ioff',\n",
       " 'ion',\n",
       " 'isinteractive',\n",
       " 'jet',\n",
       " 'legend',\n",
       " 'locator_params',\n",
       " 'logging',\n",
       " 'loglog',\n",
       " 'magma',\n",
       " 'magnitude_spectrum',\n",
       " 'margins',\n",
       " 'matplotlib',\n",
       " 'matshow',\n",
       " 'minorticks_off',\n",
       " 'minorticks_on',\n",
       " 'mlab',\n",
       " 'new_figure_manager',\n",
       " 'nipy_spectral',\n",
       " 'np',\n",
       " 'pause',\n",
       " 'pcolor',\n",
       " 'pcolormesh',\n",
       " 'phase_spectrum',\n",
       " 'pie',\n",
       " 'pink',\n",
       " 'plasma',\n",
       " 'plot',\n",
       " 'plot_date',\n",
       " 'plotting',\n",
       " 'polar',\n",
       " 'prism',\n",
       " 'psd',\n",
       " 'quiver',\n",
       " 'quiverkey',\n",
       " 'rc',\n",
       " 'rcParams',\n",
       " 'rcParamsDefault',\n",
       " 'rcParamsOrig',\n",
       " 'rc_context',\n",
       " 'rcdefaults',\n",
       " 'rcsetup',\n",
       " 're',\n",
       " 'register_cmap',\n",
       " 'rgrids',\n",
       " 'savefig',\n",
       " 'sca',\n",
       " 'scatter',\n",
       " 'sci',\n",
       " 'semilogx',\n",
       " 'semilogy',\n",
       " 'set_cmap',\n",
       " 'set_loglevel',\n",
       " 'setp',\n",
       " 'show',\n",
       " 'specgram',\n",
       " 'spring',\n",
       " 'spy',\n",
       " 'stackplot',\n",
       " 'stairs',\n",
       " 'stem',\n",
       " 'step',\n",
       " 'streamplot',\n",
       " 'style',\n",
       " 'subplot',\n",
       " 'subplot2grid',\n",
       " 'subplot_mosaic',\n",
       " 'subplot_tool',\n",
       " 'subplots',\n",
       " 'subplots_adjust',\n",
       " 'summer',\n",
       " 'suptitle',\n",
       " 'switch_backend',\n",
       " 'sys',\n",
       " 'table',\n",
       " 'text',\n",
       " 'thetagrids',\n",
       " 'threading',\n",
       " 'tick_params',\n",
       " 'ticklabel_format',\n",
       " 'tight_layout',\n",
       " 'time',\n",
       " 'title',\n",
       " 'tricontour',\n",
       " 'tricontourf',\n",
       " 'tripcolor',\n",
       " 'triplot',\n",
       " 'twinx',\n",
       " 'twiny',\n",
       " 'uninstall_repl_displayhook',\n",
       " 'violinplot',\n",
       " 'viridis',\n",
       " 'vlines',\n",
       " 'waitforbuttonpress',\n",
       " 'winter',\n",
       " 'xcorr',\n",
       " 'xkcd',\n",
       " 'xlabel',\n",
       " 'xlim',\n",
       " 'xscale',\n",
       " 'xticks',\n",
       " 'ylabel',\n",
       " 'ylim',\n",
       " 'yscale',\n",
       " 'yticks']"
      ]
     },
     "execution_count": 15,
     "metadata": {},
     "output_type": "execute_result"
    }
   ],
   "source": [
    "dir(plt)"
   ]
  },
  {
   "cell_type": "code",
   "execution_count": 17,
   "id": "50d52df3",
   "metadata": {},
   "outputs": [
    {
     "name": "stdout",
     "output_type": "stream",
     "text": [
      "Help on function title in module matplotlib.pyplot:\n",
      "\n",
      "title(label, fontdict=None, loc=None, pad=None, *, y=None, **kwargs)\n",
      "    Set a title for the Axes.\n",
      "    \n",
      "    Set one of the three available Axes titles. The available titles\n",
      "    are positioned above the Axes in the center, flush with the left\n",
      "    edge, and flush with the right edge.\n",
      "    \n",
      "    Parameters\n",
      "    ----------\n",
      "    label : str\n",
      "        Text to use for the title\n",
      "    \n",
      "    fontdict : dict\n",
      "        A dictionary controlling the appearance of the title text,\n",
      "        the default *fontdict* is::\n",
      "    \n",
      "           {'fontsize': rcParams['axes.titlesize'],\n",
      "            'fontweight': rcParams['axes.titleweight'],\n",
      "            'color': rcParams['axes.titlecolor'],\n",
      "            'verticalalignment': 'baseline',\n",
      "            'horizontalalignment': loc}\n",
      "    \n",
      "    loc : {'center', 'left', 'right'}, default: :rc:`axes.titlelocation`\n",
      "        Which title to set.\n",
      "    \n",
      "    y : float, default: :rc:`axes.titley`\n",
      "        Vertical Axes loation for the title (1.0 is the top).  If\n",
      "        None (the default), y is determined automatically to avoid\n",
      "        decorators on the Axes.\n",
      "    \n",
      "    pad : float, default: :rc:`axes.titlepad`\n",
      "        The offset of the title from the top of the Axes, in points.\n",
      "    \n",
      "    Returns\n",
      "    -------\n",
      "    `.Text`\n",
      "        The matplotlib text instance representing the title\n",
      "    \n",
      "    Other Parameters\n",
      "    ----------------\n",
      "    **kwargs : `.Text` properties\n",
      "        Other keyword arguments are text properties, see `.Text` for a list\n",
      "        of valid text properties.\n",
      "\n"
     ]
    }
   ],
   "source": [
    "help(plt.title)"
   ]
  },
  {
   "cell_type": "code",
   "execution_count": 6,
   "id": "f2dedc62",
   "metadata": {},
   "outputs": [
    {
     "name": "stdout",
     "output_type": "stream",
     "text": [
      "<class 'pandas.core.frame.DataFrame'>\n",
      "RangeIndex: 99845 entries, 0 to 99844\n",
      "Data columns (total 6 columns):\n",
      " #   Column       Non-Null Count  Dtype \n",
      "---  ------       --------------  ----- \n",
      " 0   install      99845 non-null  object\n",
      " 1   Time_stamp   99845 non-null  object\n",
      " 2   Game_Name    99845 non-null  object\n",
      " 3   Status       99845 non-null  object\n",
      " 4   Payment      99845 non-null  int64 \n",
      " 5   Customer_ID  99845 non-null  object\n",
      "dtypes: int64(1), object(5)\n",
      "memory usage: 4.6+ MB\n"
     ]
    }
   ],
   "source": [
    "sal_l.info()"
   ]
  },
  {
   "cell_type": "code",
   "execution_count": 8,
   "id": "084cc7d6",
   "metadata": {},
   "outputs": [
    {
     "data": {
      "text/plain": [
       "0     4900\n",
       "1    29900\n",
       "2     4900\n",
       "3      900\n",
       "4      900\n",
       "Name: Payment, dtype: int64"
      ]
     },
     "execution_count": 8,
     "metadata": {},
     "output_type": "execute_result"
    }
   ],
   "source": [
    "sal_l['Payment'].head()"
   ]
  },
  {
   "cell_type": "code",
   "execution_count": 12,
   "id": "e8d5f588",
   "metadata": {},
   "outputs": [
    {
     "data": {
      "text/plain": [
       "144443100"
      ]
     },
     "execution_count": 12,
     "metadata": {},
     "output_type": "execute_result"
    }
   ],
   "source": [
    "sal_l['Payment'].sum()"
   ]
  },
  {
   "cell_type": "code",
   "execution_count": 14,
   "id": "1a94a575",
   "metadata": {},
   "outputs": [
    {
     "data": {
      "text/plain": [
       "<function matplotlib.pyplot.show(close=None, block=None)>"
      ]
     },
     "execution_count": 14,
     "metadata": {},
     "output_type": "execute_result"
    },
    {
     "data": {
      "image/png": "[encoded data removed]",
      "text/plain": [
       "<Figure size 432x288 with 1 Axes>"
      ]
     },
     "metadata": {
      "needs_background": "light"
     },
     "output_type": "display_data"
    }
   ],
   "source": [
    "plt.hist(sal_l['Payment'])\n",
    "plt.show"
   ]
  },
  {
   "cell_type": "code",
   "execution_count": 13,
   "id": "90e4fa15",
   "metadata": {},
   "outputs": [
    {
     "data": {
      "image/png": "[encoded data removed]",
      "text/plain": [
       "<Figure size 432x288 with 1 Axes>"
      ]
     },
     "metadata": {
      "needs_background": "light"
     },
     "output_type": "display_data"
    }
   ],
   "source": [
    "plt.hist(sal_l['Payment'])\n",
    "plt.title('Sales Status')\n",
    "plt.show()"
   ]
  },
  {
   "cell_type": "code",
   "execution_count": 19,
   "id": "16ccbbdf",
   "metadata": {},
   "outputs": [
    {
     "data": {
      "image/png": "[encoded data removed]",
      "text/plain": [
       "<Figure size 432x288 with 1 Axes>"
      ]
     },
     "metadata": {
      "needs_background": "light"
     },
     "output_type": "display_data"
    }
   ],
   "source": [
    "sales = sal_l[sal_l['Payment'] != 0]\n",
    "\n",
    "plt.hist(sales['Payment'])\n",
    "plt.title('Sales Status only Payment')\n",
    "plt.show()"
   ]
  },
  {
   "cell_type": "code",
   "execution_count": 20,
   "id": "7e021920",
   "metadata": {},
   "outputs": [
    {
     "data": {
      "text/plain": [
       "count    15309.000000\n",
       "mean      9435.175387\n",
       "std      11897.228643\n",
       "min        900.000000\n",
       "25%        900.000000\n",
       "50%       4900.000000\n",
       "75%       9900.000000\n",
       "max      49900.000000\n",
       "Name: Payment, dtype: float64"
      ]
     },
     "execution_count": 20,
     "metadata": {},
     "output_type": "execute_result"
    }
   ],
   "source": [
    "sales['Payment'].describe()"
   ]
  },
  {
   "cell_type": "markdown",
   "id": "87029631",
   "metadata": {},
   "source": [
    "mean      9435\n",
    "min        900\n",
    "50%       4900 중위값"
   ]
  },
  {
   "cell_type": "code",
   "execution_count": 21,
   "id": "60a821d2",
   "metadata": {},
   "outputs": [
    {
     "data": {
      "image/png": "[encoded data removed]",
      "text/plain": [
       "<Figure size 432x288 with 1 Axes>"
      ]
     },
     "metadata": {
      "needs_background": "light"
     },
     "output_type": "display_data"
    }
   ],
   "source": [
    "plt.boxplot(sales['Payment'])\n",
    "plt.title(\"Payment Box Plot\")\n",
    "plt.show()"
   ]
  },
  {
   "cell_type": "code",
   "execution_count": 22,
   "id": "8d652520",
   "metadata": {},
   "outputs": [
    {
     "data": {
      "text/plain": [
       "900      5369\n",
       "4900     3807\n",
       "9900     3086\n",
       "19900    1544\n",
       "29900     766\n",
       "49900     737\n",
       "Name: Payment, dtype: int64"
      ]
     },
     "execution_count": 22,
     "metadata": {},
     "output_type": "execute_result"
    }
   ],
   "source": [
    "sales['Payment'].value_counts()"
   ]
  },
  {
   "cell_type": "code",
   "execution_count": 25,
   "id": "ee92c2cd",
   "metadata": {},
   "outputs": [
    {
     "data": {
      "text/plain": [
       "15309"
      ]
     },
     "execution_count": 25,
     "metadata": {},
     "output_type": "execute_result"
    }
   ],
   "source": [
    "len(sales['Payment'])"
   ]
  },
  {
   "cell_type": "code",
   "execution_count": 26,
   "id": "7fc78c8a",
   "metadata": {},
   "outputs": [
    {
     "data": {
      "text/plain": [
       "900      0.350709\n",
       "4900     0.248677\n",
       "9900     0.201581\n",
       "19900    0.100856\n",
       "29900    0.050036\n",
       "49900    0.048142\n",
       "Name: Payment, dtype: float64"
      ]
     },
     "execution_count": 26,
     "metadata": {},
     "output_type": "execute_result"
    }
   ],
   "source": [
    "sales['Payment'].value_counts() / len(sales['Payment'])"
   ]
  },
  {
   "cell_type": "code",
   "execution_count": 27,
   "id": "59c618c4",
   "metadata": {},
   "outputs": [],
   "source": [
    "sal_l[\"Month\"] = sal_l['Time_stamp'].str[:7]"
   ]
  },
  {
   "cell_type": "code",
   "execution_count": 28,
   "id": "25bbb0c3",
   "metadata": {},
   "outputs": [
    {
     "data": {
      "text/plain": [
       "Month\n",
       "2022-02    80841800\n",
       "2022-03    63601300\n",
       "Name: Payment, dtype: int64"
      ]
     },
     "execution_count": 28,
     "metadata": {},
     "output_type": "execute_result"
    }
   ],
   "source": [
    "sal_l[\"Payment\"].groupby(sal_l['Month']).sum()"
   ]
  },
  {
   "cell_type": "markdown",
   "id": "06942543",
   "metadata": {},
   "source": [
    "월별로 결제금액을 나눠보니\n",
    "1월에는 결제금액이 아예 없고, \n",
    "2월에 비해 3월 결제금액이 줄었다"
   ]
  },
  {
   "cell_type": "code",
   "execution_count": 29,
   "id": "6a8cfa2c",
   "metadata": {},
   "outputs": [
    {
     "data": {
      "text/plain": [
       "Index(['install', 'Time_stamp', 'Game_Name', 'Status', 'Payment',\n",
       "       'Customer_ID', 'Month'],\n",
       "      dtype='object')"
      ]
     },
     "execution_count": 29,
     "metadata": {},
     "output_type": "execute_result"
    }
   ],
   "source": [
    "sal_l.columns"
   ]
  },
  {
   "cell_type": "code",
   "execution_count": 30,
   "id": "ce9cd985",
   "metadata": {},
   "outputs": [],
   "source": [
    "temp_d = sal_l['Payment'].groupby(sal_l['Month']).sum()"
   ]
  },
  {
   "cell_type": "code",
   "execution_count": 31,
   "id": "7d9ffc84",
   "metadata": {},
   "outputs": [
    {
     "data": {
      "image/png": "[encoded data removed]",
      "text/plain": [
       "<Figure size 432x288 with 1 Axes>"
      ]
     },
     "metadata": {
      "needs_background": "light"
     },
     "output_type": "display_data"
    }
   ],
   "source": [
    "ax = plt.bar(temp_d.index, temp_d)"
   ]
  },
  {
   "cell_type": "code",
   "execution_count": 38,
   "id": "15a9b215",
   "metadata": {},
   "outputs": [
    {
     "data": {
      "text/plain": [
       "[Text(0, 0, '80,841,800'), Text(0, 0, '63,601,300')]"
      ]
     },
     "execution_count": 38,
     "metadata": {},
     "output_type": "execute_result"
    },
    {
     "data": {
      "image/png": "[encoded data removed]",
      "text/plain": [
       "<Figure size 432x288 with 1 Axes>"
      ]
     },
     "metadata": {
      "needs_background": "light"
     },
     "output_type": "display_data"
    }
   ],
   "source": [
    "plt.bar_label(ax, labels = [f'{x:,.0f}' for x in ax.datavalues], label_type = 'center')\n",
    "#f'{x:,.0f}' 꼭 이대로 써야함 ㅠ\n",
    "# x: 위치는 띄어쓰기 해도 됨 ㅠ"
   ]
  },
  {
   "cell_type": "code",
   "execution_count": 41,
   "id": "6171bc86",
   "metadata": {},
   "outputs": [
    {
     "data": {
      "image/png": "[encoded data removed]",
      "text/plain": [
       "<Figure size 432x288 with 1 Axes>"
      ]
     },
     "metadata": {
      "needs_background": "light"
     },
     "output_type": "display_data"
    }
   ],
   "source": [
    "plt.title(\"Payment by Month\")\n",
    "plt.show()"
   ]
  },
  {
   "cell_type": "code",
   "execution_count": 42,
   "id": "225227a4",
   "metadata": {},
   "outputs": [
    {
     "data": {
      "image/png": "[encoded data removed]",
      "text/plain": [
       "<Figure size 432x288 with 1 Axes>"
      ]
     },
     "metadata": {
      "needs_background": "light"
     },
     "output_type": "display_data"
    }
   ],
   "source": [
    "temp_d = sal_l['Payment'].groupby(sal_l['Month']).sum()\n",
    "ax = plt.bar(temp_d.index, temp_d)\n",
    "plt.bar_label(ax, labels = [f'{x:,.0f}' for x in ax.datavalues], label_type = 'center')\n",
    "plt.title(\"Payment by Month\")\n",
    "plt.show()"
   ]
  },
  {
   "cell_type": "code",
   "execution_count": 43,
   "id": "30e79331",
   "metadata": {},
   "outputs": [],
   "source": [
    "sal2 = sal_l[(sal_l['Month'] == '2022-02') & (sal_l['Payment'] != 0)]"
   ]
  },
  {
   "cell_type": "code",
   "execution_count": 44,
   "id": "21b333aa",
   "metadata": {},
   "outputs": [
    {
     "data": {
      "text/html": [
       "<div>\n",
       "<style scoped>\n",
       "    .dataframe tbody tr th:only-of-type {\n",
       "        vertical-align: middle;\n",
       "    }\n",
       "\n",
       "    .dataframe tbody tr th {\n",
       "        vertical-align: top;\n",
       "    }\n",
       "\n",
       "    .dataframe thead th {\n",
       "        text-align: right;\n",
       "    }\n",
       "</style>\n",
       "<table border=\"1\" class=\"dataframe\">\n",
       "  <thead>\n",
       "    <tr style=\"text-align: right;\">\n",
       "      <th></th>\n",
       "      <th>install</th>\n",
       "      <th>Time_stamp</th>\n",
       "      <th>Game_Name</th>\n",
       "      <th>Status</th>\n",
       "      <th>Payment</th>\n",
       "      <th>Customer_ID</th>\n",
       "      <th>Month</th>\n",
       "    </tr>\n",
       "  </thead>\n",
       "  <tbody>\n",
       "    <tr>\n",
       "      <th>0</th>\n",
       "      <td>2022-01-08</td>\n",
       "      <td>2022-02-05</td>\n",
       "      <td>MineGround</td>\n",
       "      <td>play</td>\n",
       "      <td>4900</td>\n",
       "      <td>facilis140</td>\n",
       "      <td>2022-02</td>\n",
       "    </tr>\n",
       "    <tr>\n",
       "      <th>1</th>\n",
       "      <td>2022-01-05</td>\n",
       "      <td>2022-02-17</td>\n",
       "      <td>MineGround</td>\n",
       "      <td>play</td>\n",
       "      <td>29900</td>\n",
       "      <td>debitis994</td>\n",
       "      <td>2022-02</td>\n",
       "    </tr>\n",
       "    <tr>\n",
       "      <th>2</th>\n",
       "      <td>2022-01-29</td>\n",
       "      <td>2022-02-06</td>\n",
       "      <td>MineGround</td>\n",
       "      <td>play</td>\n",
       "      <td>4900</td>\n",
       "      <td>possimus246</td>\n",
       "      <td>2022-02</td>\n",
       "    </tr>\n",
       "    <tr>\n",
       "      <th>3</th>\n",
       "      <td>2022-01-09</td>\n",
       "      <td>2022-02-05</td>\n",
       "      <td>MineGround</td>\n",
       "      <td>play</td>\n",
       "      <td>900</td>\n",
       "      <td>occaecati138</td>\n",
       "      <td>2022-02</td>\n",
       "    </tr>\n",
       "    <tr>\n",
       "      <th>4</th>\n",
       "      <td>2022-01-08</td>\n",
       "      <td>2022-02-01</td>\n",
       "      <td>MineGround</td>\n",
       "      <td>play</td>\n",
       "      <td>900</td>\n",
       "      <td>corrupti325</td>\n",
       "      <td>2022-02</td>\n",
       "    </tr>\n",
       "    <tr>\n",
       "      <th>...</th>\n",
       "      <td>...</td>\n",
       "      <td>...</td>\n",
       "      <td>...</td>\n",
       "      <td>...</td>\n",
       "      <td>...</td>\n",
       "      <td>...</td>\n",
       "      <td>...</td>\n",
       "    </tr>\n",
       "    <tr>\n",
       "      <th>8537</th>\n",
       "      <td>2022-02-12</td>\n",
       "      <td>2022-02-14</td>\n",
       "      <td>SoccerManager</td>\n",
       "      <td>play</td>\n",
       "      <td>4900</td>\n",
       "      <td>quam946</td>\n",
       "      <td>2022-02</td>\n",
       "    </tr>\n",
       "    <tr>\n",
       "      <th>8538</th>\n",
       "      <td>2022-02-10</td>\n",
       "      <td>2022-02-14</td>\n",
       "      <td>SoccerManager</td>\n",
       "      <td>play</td>\n",
       "      <td>4900</td>\n",
       "      <td>commodi507</td>\n",
       "      <td>2022-02</td>\n",
       "    </tr>\n",
       "    <tr>\n",
       "      <th>8539</th>\n",
       "      <td>2022-02-16</td>\n",
       "      <td>2022-02-21</td>\n",
       "      <td>SoccerManager</td>\n",
       "      <td>play</td>\n",
       "      <td>900</td>\n",
       "      <td>rerum275</td>\n",
       "      <td>2022-02</td>\n",
       "    </tr>\n",
       "    <tr>\n",
       "      <th>8540</th>\n",
       "      <td>2022-02-16</td>\n",
       "      <td>2022-02-20</td>\n",
       "      <td>SoccerManager</td>\n",
       "      <td>play</td>\n",
       "      <td>9900</td>\n",
       "      <td>quo151</td>\n",
       "      <td>2022-02</td>\n",
       "    </tr>\n",
       "    <tr>\n",
       "      <th>8541</th>\n",
       "      <td>2022-02-07</td>\n",
       "      <td>2022-02-12</td>\n",
       "      <td>SoccerManager</td>\n",
       "      <td>play</td>\n",
       "      <td>4900</td>\n",
       "      <td>aspernatur159</td>\n",
       "      <td>2022-02</td>\n",
       "    </tr>\n",
       "  </tbody>\n",
       "</table>\n",
       "<p>8542 rows × 7 columns</p>\n",
       "</div>"
      ],
      "text/plain": [
       "         install  Time_stamp      Game_Name Status  Payment    Customer_ID  \\\n",
       "0     2022-01-08  2022-02-05     MineGround   play     4900     facilis140   \n",
       "1     2022-01-05  2022-02-17     MineGround   play    29900     debitis994   \n",
       "2     2022-01-29  2022-02-06     MineGround   play     4900    possimus246   \n",
       "3     2022-01-09  2022-02-05     MineGround   play      900   occaecati138   \n",
       "4     2022-01-08  2022-02-01     MineGround   play      900    corrupti325   \n",
       "...          ...         ...            ...    ...      ...            ...   \n",
       "8537  2022-02-12  2022-02-14  SoccerManager   play     4900        quam946   \n",
       "8538  2022-02-10  2022-02-14  SoccerManager   play     4900     commodi507   \n",
       "8539  2022-02-16  2022-02-21  SoccerManager   play      900       rerum275   \n",
       "8540  2022-02-16  2022-02-20  SoccerManager   play     9900         quo151   \n",
       "8541  2022-02-07  2022-02-12  SoccerManager   play     4900  aspernatur159   \n",
       "\n",
       "        Month  \n",
       "0     2022-02  \n",
       "1     2022-02  \n",
       "2     2022-02  \n",
       "3     2022-02  \n",
       "4     2022-02  \n",
       "...       ...  \n",
       "8537  2022-02  \n",
       "8538  2022-02  \n",
       "8539  2022-02  \n",
       "8540  2022-02  \n",
       "8541  2022-02  \n",
       "\n",
       "[8542 rows x 7 columns]"
      ]
     },
     "execution_count": 44,
     "metadata": {},
     "output_type": "execute_result"
    }
   ],
   "source": [
    "sal2.reset_index(drop = True)"
   ]
  },
  {
   "cell_type": "code",
   "execution_count": 45,
   "id": "dffa34a8",
   "metadata": {},
   "outputs": [],
   "source": [
    "temp_d2 = sal2['Payment'].groupby(sal2['Time_stamp']).sum()"
   ]
  },
  {
   "cell_type": "code",
   "execution_count": 62,
   "id": "dadf3ce5",
   "metadata": {},
   "outputs": [
    {
     "data": {
      "text/plain": [
       "<Figure size 2160x360 with 0 Axes>"
      ]
     },
     "execution_count": 62,
     "metadata": {},
     "output_type": "execute_result"
    },
    {
     "data": {
      "text/plain": [
       "<Figure size 2160x360 with 0 Axes>"
      ]
     },
     "metadata": {},
     "output_type": "display_data"
    }
   ],
   "source": [
    "plt.figure(figsize = (30, 5))"
   ]
  },
  {
   "cell_type": "code",
   "execution_count": 63,
   "id": "d625b4ec",
   "metadata": {},
   "outputs": [
    {
     "data": {
      "text/plain": [
       "<BarContainer object of 27 artists>"
      ]
     },
     "execution_count": 63,
     "metadata": {},
     "output_type": "execute_result"
    },
    {
     "data": {
      "image/png": "[encoded data removed]",
      "text/plain": [
       "<Figure size 432x288 with 1 Axes>"
      ]
     },
     "metadata": {
      "needs_background": "light"
     },
     "output_type": "display_data"
    }
   ],
   "source": [
    "plt.bar(temp_d2.index, temp_d2)"
   ]
  },
  {
   "cell_type": "code",
   "execution_count": 50,
   "id": "3f0f81fc",
   "metadata": {},
   "outputs": [
    {
     "data": {
      "text/plain": [
       "Text(0.5, 1.0, 'Feb Payments')"
      ]
     },
     "execution_count": 50,
     "metadata": {},
     "output_type": "execute_result"
    },
    {
     "data": {
      "image/png": "[encoded data removed]",
      "text/plain": [
       "<Figure size 432x288 with 1 Axes>"
      ]
     },
     "metadata": {
      "needs_background": "light"
     },
     "output_type": "display_data"
    }
   ],
   "source": [
    "plt.title(\"Feb Payments\")"
   ]
  },
  {
   "cell_type": "code",
   "execution_count": 52,
   "id": "1f86769c",
   "metadata": {},
   "outputs": [
    {
     "data": {
      "text/plain": [
       "(array([0. , 0.2, 0.4, 0.6, 0.8, 1. ]),\n",
       " [Text(0, 0, ''),\n",
       "  Text(0, 0, ''),\n",
       "  Text(0, 0, ''),\n",
       "  Text(0, 0, ''),\n",
       "  Text(0, 0, ''),\n",
       "  Text(0, 0, '')])"
      ]
     },
     "execution_count": 52,
     "metadata": {},
     "output_type": "execute_result"
    },
    {
     "data": {
      "image/png": "[encoded data removed]",
      "text/plain": [
       "<Figure size 432x288 with 1 Axes>"
      ]
     },
     "metadata": {
      "needs_background": "light"
     },
     "output_type": "display_data"
    }
   ],
   "source": [
    "plt.xticks(rotation = 45)"
   ]
  },
  {
   "cell_type": "code",
   "execution_count": 53,
   "id": "41c9178c",
   "metadata": {},
   "outputs": [],
   "source": [
    "plt.show()"
   ]
  },
  {
   "cell_type": "code",
   "execution_count": 66,
   "id": "2cd9f0c6",
   "metadata": {},
   "outputs": [
    {
     "data": {
      "image/png": "[encoded data removed]",
      "text/plain": [
       "<Figure size 7200x360 with 1 Axes>"
      ]
     },
     "metadata": {
      "needs_background": "light"
     },
     "output_type": "display_data"
    }
   ],
   "source": [
    "temp_d2 = sal2['Payment'].groupby(sal2['Time_stamp']).sum()\n",
    "plt.figure(figsize = (100, 5))\n",
    "plt.bar(temp_d2.index, temp_d2)\n",
    "plt.title(\"Feb Payments\")\n",
    "plt.xticks(rotation = 45)\n",
    "plt.show()"
   ]
  },
  {
   "cell_type": "code",
   "execution_count": 68,
   "id": "52bcb88d",
   "metadata": {},
   "outputs": [
    {
     "data": {
      "image/png": "[encoded data removed]",
      "text/plain": [
       "<Figure size 2160x360 with 1 Axes>"
      ]
     },
     "metadata": {
      "needs_background": "light"
     },
     "output_type": "display_data"
    }
   ],
   "source": [
    "sal3 = sal_l[(sal_l['Month'] == '2022-03') & (sal_l['Payment'] != 0)]\n",
    "sal3.reset_index(drop = True)\n",
    "\n",
    "\n",
    "temp_d3 = sal3['Payment'].groupby(sal3['Time_stamp']).sum()\n",
    "plt.figure(figsize = (30, 5))\n",
    "plt.bar(temp_d3.index, temp_d3)\n",
    "plt.title(\"Feb Payments\")\n",
    "plt.xticks(rotation = 45)\n",
    "plt.show()"
   ]
  },
  {
   "cell_type": "code",
   "execution_count": 69,
   "id": "1e369400",
   "metadata": {},
   "outputs": [
    {
     "name": "stdout",
     "output_type": "stream",
     "text": [
      "          Customer_ID Name     Nickname  Password  \\\n",
      "0          facilis140  이영순         quos  ********   \n",
      "1          debitis994  김중수    molestiae  ********   \n",
      "2         possimus246  양은경          rem  ********   \n",
      "3        occaecati138  백도윤       libero  ********   \n",
      "4         corrupti325  김영수   temporibus  ********   \n",
      "...               ...  ...          ...       ...   \n",
      "99840        dicta630  김예지          sit  ********   \n",
      "99841      tempora976  문은경         modi  ********   \n",
      "99842        iusto840  강중수        iusto  ********   \n",
      "99843         nemo273  황정남     deleniti  ********   \n",
      "99844  consequatur371  이영식  accusantium  ********   \n",
      "\n",
      "                              Email       Birth  Gender              C.P.  \\\n",
      "0                   coejongsu@yu.kr  1989-03-11  female  01x9-4x625-x5x3x   \n",
      "1                   jiweon02@ju.org  1995-11-19    male  01x9-3x228-x3x9x   \n",
      "2           coesubin@jusighoesa.com  2005-12-24  female  01x9-7x873-x2x2x   \n",
      "3            yeongceol80@gangryu.kr  2003-02-09  female  01x9-3x519-x7x1x   \n",
      "4                   jiweon96@yu.net  2004-05-04    male  01x9-0x079-x9x2x   \n",
      "...                             ...         ...     ...               ...   \n",
      "99840           ggim@yuhanhoesa.com  1992-07-31    male  01x9-8x787-x6x7x   \n",
      "99841  gimjeongnam@gimgweonjang.com  1990-09-17    male  01x9-5x401-x0x0x   \n",
      "99842                  qu@gimgim.kr  1984-12-25  female  01x9-3x247-x9x7x   \n",
      "99843            yejun90@imubag.com  1985-05-11    male  01x9-5x324-x8x7x   \n",
      "99844        seongsu95@hwangryu.com  2000-02-18  female  01x9-5x277-x4x5x   \n",
      "\n",
      "      MobileCompany       OS  \n",
      "0               LGU      iOS  \n",
      "1                KT      iOS  \n",
      "2               LGU  Android  \n",
      "3               SKT      iOS  \n",
      "4               LGU  Android  \n",
      "...             ...      ...  \n",
      "99840           LGU      iOS  \n",
      "99841            KT  Android  \n",
      "99842           SKT      iOS  \n",
      "99843           LGU      iOS  \n",
      "99844            KT      iOS  \n",
      "\n",
      "[99845 rows x 10 columns]\n"
     ]
    }
   ],
   "source": [
    "cus_l = pd.read_csv('~/aiffel/data_analysis_basic/data/customer.csv')\n",
    "print(cus_l)"
   ]
  },
  {
   "cell_type": "code",
   "execution_count": 70,
   "id": "a53d9cea",
   "metadata": {},
   "outputs": [
    {
     "name": "stdout",
     "output_type": "stream",
     "text": [
      "<class 'pandas.core.frame.DataFrame'>\n",
      "RangeIndex: 99845 entries, 0 to 99844\n",
      "Data columns (total 10 columns):\n",
      " #   Column         Non-Null Count  Dtype \n",
      "---  ------         --------------  ----- \n",
      " 0   Customer_ID    99845 non-null  object\n",
      " 1   Name           99845 non-null  object\n",
      " 2   Nickname       99845 non-null  object\n",
      " 3   Password       99845 non-null  object\n",
      " 4   Email          99845 non-null  object\n",
      " 5   Birth          99845 non-null  object\n",
      " 6   Gender         99845 non-null  object\n",
      " 7   C.P.           99845 non-null  object\n",
      " 8   MobileCompany  99845 non-null  object\n",
      " 9   OS             99845 non-null  object\n",
      "dtypes: object(10)\n",
      "memory usage: 7.6+ MB\n"
     ]
    }
   ],
   "source": [
    "cus_l.info()"
   ]
  },
  {
   "cell_type": "code",
   "execution_count": 71,
   "id": "16cd4d8f",
   "metadata": {},
   "outputs": [],
   "source": [
    "pie_d = cus_l.groupby([\"Gender\"]).count().Name"
   ]
  },
  {
   "cell_type": "code",
   "execution_count": 73,
   "id": "6743a86b",
   "metadata": {},
   "outputs": [
    {
     "data": {
      "text/plain": [
       "([<matplotlib.patches.Wedge at 0x7f7daab0c1c0>,\n",
       "  <matplotlib.patches.Wedge at 0x7f7daab0c970>],\n",
       " [Text(0.3329656865208806, 1.0483958468058137, 'female'),\n",
       "  Text(-0.33296558836297563, -1.0483958779803064, 'male')],\n",
       " [Text(0.18161764719320758, 0.5718522800758983, '40.2%'),\n",
       "  Text(-0.18161759365253216, -0.571852297080167, '59.8%')])"
      ]
     },
     "execution_count": 73,
     "metadata": {},
     "output_type": "execute_result"
    },
    {
     "data": {
      "image/png": "[encoded data removed]",
      "text/plain": [
       "<Figure size 432x288 with 1 Axes>"
      ]
     },
     "metadata": {},
     "output_type": "display_data"
    }
   ],
   "source": [
    "plt.pie(pie_d, labels = pie_d.index, autopct = '%1.1f%%')"
   ]
  },
  {
   "cell_type": "code",
   "execution_count": 74,
   "id": "60d6e9ea",
   "metadata": {},
   "outputs": [
    {
     "data": {
      "text/plain": [
       "Text(0.5, 1.0, 'Customer Gender')"
      ]
     },
     "execution_count": 74,
     "metadata": {},
     "output_type": "execute_result"
    },
    {
     "data": {
      "image/png": "[encoded data removed]",
      "text/plain": [
       "<Figure size 432x288 with 1 Axes>"
      ]
     },
     "metadata": {
      "needs_background": "light"
     },
     "output_type": "display_data"
    }
   ],
   "source": [
    "plt.title(\"Customer Gender\")"
   ]
  },
  {
   "cell_type": "code",
   "execution_count": 75,
   "id": "aff4af0a",
   "metadata": {},
   "outputs": [],
   "source": [
    "plt.show()"
   ]
  },
  {
   "cell_type": "code",
   "execution_count": 76,
   "id": "392202c6",
   "metadata": {},
   "outputs": [
    {
     "data": {
      "image/png": "[encoded data removed]",
      "text/plain": [
       "<Figure size 432x288 with 1 Axes>"
      ]
     },
     "metadata": {},
     "output_type": "display_data"
    }
   ],
   "source": [
    "pie_d = cus_l.groupby([\"Gender\"]).count().Name\n",
    "plt.pie(pie_d, labels = pie_d.index, autopct = '%1.1f%%')\n",
    "plt.title(\"Customer Gender\")\n",
    "plt.show()"
   ]
  },
  {
   "cell_type": "code",
   "execution_count": 77,
   "id": "033b1ce5",
   "metadata": {},
   "outputs": [],
   "source": [
    "total_d = pd.merge(cus_l, sal_l)"
   ]
  },
  {
   "cell_type": "code",
   "execution_count": 78,
   "id": "32c41bfb",
   "metadata": {},
   "outputs": [],
   "source": [
    "pay_cus = total_d[(total_d[\"Payment\"] != 0)]"
   ]
  },
  {
   "cell_type": "code",
   "execution_count": 79,
   "id": "7114aedf",
   "metadata": {},
   "outputs": [],
   "source": [
    "pie_d = pay_cus.groupby(['Gender']).count().Name"
   ]
  },
  {
   "cell_type": "code",
   "execution_count": 80,
   "id": "50740542",
   "metadata": {},
   "outputs": [
    {
     "data": {
      "text/plain": [
       "([<matplotlib.patches.Wedge at 0x7f7daaa8fe20>,\n",
       "  <matplotlib.patches.Wedge at 0x7f7daaa84e80>],\n",
       " [Text(0.3639993419676102, 1.0380291320801873, 'female'),\n",
       "  Text(-0.36399924478030743, -1.0380291661602608, 'male')],\n",
       " [Text(0.19854509561869643, 0.5661977084073748, '39.3%'),\n",
       "  Text(-0.19854504260744038, -0.5661977269965057, '60.7%')])"
      ]
     },
     "execution_count": 80,
     "metadata": {},
     "output_type": "execute_result"
    },
    {
     "data": {
      "image/png": "[encoded data removed]",
      "text/plain": [
       "<Figure size 432x288 with 1 Axes>"
      ]
     },
     "metadata": {},
     "output_type": "display_data"
    }
   ],
   "source": [
    "plt.pie(pie_d, labels = pie_d.index, autopct = '%1.1f%%')"
   ]
  },
  {
   "cell_type": "code",
   "execution_count": 81,
   "id": "1831a36b",
   "metadata": {},
   "outputs": [
    {
     "data": {
      "image/png": "[encoded data removed]",
      "text/plain": [
       "<Figure size 432x288 with 1 Axes>"
      ]
     },
     "metadata": {
      "needs_background": "light"
     },
     "output_type": "display_data"
    }
   ],
   "source": [
    "plt.title(\"Payment Customer Gender\")\n",
    "plt.show()"
   ]
  },
  {
   "cell_type": "code",
   "execution_count": 82,
   "id": "9e65eb91",
   "metadata": {},
   "outputs": [
    {
     "data": {
      "image/png": "[encoded data removed]",
      "text/plain": [
       "<Figure size 432x288 with 1 Axes>"
      ]
     },
     "metadata": {},
     "output_type": "display_data"
    }
   ],
   "source": [
    "total_d = pd.merge(cus_l, sal_l)\n",
    "pay_cus = total_d[(total_d[\"Payment\"] != 0)]\n",
    "pie_d = pay_cus.groupby(['Gender']).count().Name\n",
    "plt.pie(pie_d, labels = pie_d.index, autopct = '%1.1f%%')\n",
    "\n",
    "plt.title(\"Payment Customer Gender\")\n",
    "plt.show()"
   ]
  },
  {
   "cell_type": "code",
   "execution_count": 84,
   "id": "33d411af",
   "metadata": {},
   "outputs": [
    {
     "data": {
      "image/png": "[encoded data removed]",
      "text/plain": [
       "<Figure size 432x288 with 1 Axes>"
      ]
     },
     "metadata": {},
     "output_type": "display_data"
    }
   ],
   "source": [
    "pie_d = pay_cus.groupby([\"MobileCompany\"]).count().Name\n",
    "plt.pie(pie_d, labels = pie_d.index, autopct = '%1.1f%%')\n",
    "plt.title('Payment Customer Mobile')\n",
    "plt.show()"
   ]
  },
  {
   "cell_type": "code",
   "execution_count": 85,
   "id": "a08019fb",
   "metadata": {},
   "outputs": [
    {
     "data": {
      "image/png": "[encoded data removed]",
      "text/plain": [
       "<Figure size 432x288 with 1 Axes>"
      ]
     },
     "metadata": {},
     "output_type": "display_data"
    }
   ],
   "source": [
    "pie_d = pay_cus.groupby([\"OS\"]).count().Name\n",
    "plt.pie(pie_d, labels = pie_d.index, autopct = '%1.1f%%')\n",
    "plt.title('Payment Customer OS')\n",
    "plt.show()"
   ]
  },
  {
   "cell_type": "code",
   "execution_count": null,
   "id": "eb7dbcd0",
   "metadata": {},
   "outputs": [],
   "source": []
  }
 ],
 "metadata": {
  "kernelspec": {
   "display_name": "Python 3 (ipykernel)",
   "language": "python",
   "name": "python3"
  },
  "language_info": {
   "codemirror_mode": {
    "name": "ipython",
    "version": 3
   },
   "file_extension": ".py",
   "mimetype": "text/x-python",
   "name": "python",
   "nbconvert_exporter": "python",
   "pygments_lexer": "ipython3",
   "version": "3.9.7"
  }
 },
 "nbformat": 4,
 "nbformat_minor": 5
}
