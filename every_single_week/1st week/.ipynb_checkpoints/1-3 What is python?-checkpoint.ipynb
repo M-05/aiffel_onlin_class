{
 "cells": [
  {
   "cell_type": "code",
   "execution_count": 1,
   "id": "ee9e6030",
   "metadata": {},
   "outputs": [],
   "source": [
    "%config Completer.use_jedi = False"
   ]
  },
  {
   "cell_type": "code",
   "execution_count": 2,
   "id": "1e47409f",
   "metadata": {
    "scrolled": true
   },
   "outputs": [
    {
     "name": "stdout",
     "output_type": "stream",
     "text": [
      "The Zen of Python, by Tim Peters\n",
      "\n",
      "Beautiful is better than ugly.\n",
      "Explicit is better than implicit.\n",
      "Simple is better than complex.\n",
      "Complex is better than complicated.\n",
      "Flat is better than nested.\n",
      "Sparse is better than dense.\n",
      "Readability counts.\n",
      "Special cases aren't special enough to break the rules.\n",
      "Although practicality beats purity.\n",
      "Errors should never pass silently.\n",
      "Unless explicitly silenced.\n",
      "In the face of ambiguity, refuse the temptation to guess.\n",
      "There should be one-- and preferably only one --obvious way to do it.\n",
      "Although that way may not be obvious at first unless you're Dutch.\n",
      "Now is better than never.\n",
      "Although never is often better than *right* now.\n",
      "If the implementation is hard to explain, it's a bad idea.\n",
      "If the implementation is easy to explain, it may be a good idea.\n",
      "Namespaces are one honking great idea -- let's do more of those!\n"
     ]
    }
   ],
   "source": [
    "import this"
   ]
  },
  {
   "cell_type": "code",
   "execution_count": 3,
   "id": "f6fe5032",
   "metadata": {},
   "outputs": [
    {
     "name": "stdout",
     "output_type": "stream",
     "text": [
      "The Zen of Python, by Tim Peters\n",
      "\n",
      "Beautiful is better than ugly.\n",
      "Explicit is better than implicit.\n",
      "Simple is better than complex.\n",
      "Complex is better than complicated.\n",
      "Flat is better than nested.\n",
      "Sparse is better than dense.\n",
      "Readability counts.\n",
      "Special cases aren't special enough to break the rules.\n",
      "Although practicality beats purity.\n",
      "Errors should never pass silently.\n",
      "Unless explicitly silenced.\n",
      "In the face of ambiguity, refuse the temptation to guess.\n",
      "There should be one-- and preferably only one --obvious way to do it.\n",
      "Although that way may not be obvious at first unless you're Dutch.\n",
      "Now is better than never.\n",
      "Although never is often better than *right* now.\n",
      "If the implementation is hard to explain, it's a bad idea.\n",
      "If the implementation is easy to explain, it may be a good idea.\n",
      "Namespaces are one honking great idea -- let's do more of those!\n"
     ]
    }
   ],
   "source": [
    "print(\"\"\"\\\n",
    "The Zen of Python, by Tim Peters\n",
    "\n",
    "Beautiful is better than ugly.\n",
    "Explicit is better than implicit.\n",
    "Simple is better than complex.\n",
    "Complex is better than complicated.\n",
    "Flat is better than nested.\n",
    "Sparse is better than dense.\n",
    "Readability counts.\n",
    "Special cases aren't special enough to break the rules.\n",
    "Although practicality beats purity.\n",
    "Errors should never pass silently.\n",
    "Unless explicitly silenced.\n",
    "In the face of ambiguity, refuse the temptation to guess.\n",
    "There should be one-- and preferably only one --obvious way to do it.\n",
    "Although that way may not be obvious at first unless you're Dutch.\n",
    "Now is better than never.\n",
    "Although never is often better than *right* now.\n",
    "If the implementation is hard to explain, it's a bad idea.\n",
    "If the implementation is easy to explain, it may be a good idea.\n",
    "Namespaces are one honking great idea -- let's do more of those!\\\n",
    "\"\"\")"
   ]
  },
  {
   "cell_type": "code",
   "execution_count": 4,
   "id": "9411fb60",
   "metadata": {},
   "outputs": [
    {
     "data": {
      "text/plain": [
       "'Hello, World!'"
      ]
     },
     "execution_count": 4,
     "metadata": {},
     "output_type": "execute_result"
    }
   ],
   "source": [
    "#표현식 = Expression = 어떤 값을 만들어내는 간단한 코드\n",
    "123 # 숫자\n",
    "1 + 2 + 3 + 4 + 5 # 수식\n",
    "'Hello, World!' # 문자열"
   ]
  },
  {
   "cell_type": "code",
   "execution_count": 5,
   "id": "d6faced6",
   "metadata": {},
   "outputs": [
    {
     "name": "stdout",
     "output_type": "stream",
     "text": [
      "Hello, World!\n"
     ]
    }
   ],
   "source": [
    "#문장 = Statement = 표현식 하나 이상 모이면\n",
    "print('Hello, World!')"
   ]
  },
  {
   "cell_type": "code",
   "execution_count": 6,
   "id": "69fecd46",
   "metadata": {},
   "outputs": [
    {
     "name": "stdout",
     "output_type": "stream",
     "text": [
      "[1, 2]\n",
      "3\n",
      "[[4, 5, 6], 7]\n",
      "8\n",
      "9\n"
     ]
    }
   ],
   "source": [
    "#프로그램 = Program = 문장들이 모인 것\n",
    "overlap = [[1,2], 3, [[4, 5, 6], 7], 8, 9]\n",
    "#overlap = 중복, 겹치다 \n",
    "#element = 요소\n",
    "for element in overlap:\n",
    "    print(element)"
   ]
  },
  {
   "cell_type": "markdown",
   "id": "9c094c46",
   "metadata": {},
   "source": [
    "## 중첩 리스트 풀고 싶다\n",
    "하......"
   ]
  },
  {
   "cell_type": "code",
   "execution_count": 18,
   "id": "0de59895",
   "metadata": {
    "scrolled": true
   },
   "outputs": [
    {
     "name": "stdout",
     "output_type": "stream",
     "text": [
      "[]\n"
     ]
    }
   ],
   "source": [
    "overlap = [[1,2], 3, [[4, 5, 6], 7], 8, 9]\n",
    "완료 = []\n",
    "for element in overlap:\n",
    "    if type(element) is list:\n",
    "        완료 += element\n",
    "    else:\n",
    "        완료.append(element)\n",
    "# for w in element:\n",
    "#     if type(w) == list:\n",
    "#         완료 += w\n",
    "#     else:\n",
    "#         완료.append(w)\n",
    "    \n",
    "print(완료)"
   ]
  },
  {
   "cell_type": "code",
   "execution_count": 8,
   "id": "503ec989",
   "metadata": {},
   "outputs": [
    {
     "name": "stdout",
     "output_type": "stream",
     "text": [
      "Hello, Python\n",
      "123\n",
      "안녕 111 123\n",
      "\n",
      "-------------------------\n",
      "\n",
      "\n",
      "-------------------------\n"
     ]
    }
   ],
   "source": [
    "# 직접 주석을 풀고 코드를 돌려 봅시다.\n",
    "print(\"Hello, Python\")\n",
    "# 하나만 출력하기\n",
    "print(123)\n",
    "# 여러개 출력하기\n",
    "print('안녕', 111, \"123\")\n",
    "print()\n",
    "print('-' * 25)\n",
    "print()\n",
    "print()\n",
    "print('-' * 25)"
   ]
  },
  {
   "cell_type": "code",
   "execution_count": 9,
   "id": "e0dc0578",
   "metadata": {},
   "outputs": [
    {
     "name": "stdout",
     "output_type": "stream",
     "text": [
      "*\n",
      "**\n",
      "***\n",
      "****\n",
      "*****\n",
      "******\n",
      "*******\n",
      "********\n",
      "*********\n"
     ]
    }
   ],
   "source": [
    "for i in range(1, 10):\n",
    "    a ='*' * i\n",
    "    print(a)\n"
   ]
  },
  {
   "cell_type": "code",
   "execution_count": 1,
   "id": "11d5c489",
   "metadata": {},
   "outputs": [
    {
     "name": "stdout",
     "output_type": "stream",
     "text": [
      "%%%%%%%%%%\n",
      "%%%%%%%%%\n",
      "%%%%%%%%\n",
      "%%%%%%%\n",
      "%%%%%%\n",
      "%%%%%\n",
      "%%%%\n",
      "%%%\n",
      "%%\n",
      "%\n",
      "\n"
     ]
    }
   ],
   "source": [
    "for w in range(10, -1, -1):\n",
    "    퍼센트 = '%' * w\n",
    "    print(퍼센트)"
   ]
  },
  {
   "cell_type": "code",
   "execution_count": 10,
   "id": "2a3da460",
   "metadata": {},
   "outputs": [
    {
     "name": "stdout",
     "output_type": "stream",
     "text": [
      "#########\n",
      "########\n",
      "#######\n",
      "######\n",
      "#####\n",
      "####\n",
      "###\n",
      "##\n",
      "#\n"
     ]
    }
   ],
   "source": [
    "for e in reversed(range(1, 10)):\n",
    "    b = '#' * e\n",
    "    print(b)"
   ]
  },
  {
   "cell_type": "code",
   "execution_count": 11,
   "id": "6edf6f16",
   "metadata": {},
   "outputs": [
    {
     "name": "stdout",
     "output_type": "stream",
     "text": [
      "<class 'int'>\n",
      "<class 'float'>\n",
      "<class 'str'>\n",
      "<class 'NoneType'>\n"
     ]
    }
   ],
   "source": [
    "print(type(0))\n",
    "print(type(1.0))\n",
    "print(type(\"hello\"))\n",
    "print(type(None))"
   ]
  },
  {
   "cell_type": "code",
   "execution_count": 12,
   "id": "bf46b284",
   "metadata": {},
   "outputs": [
    {
     "name": "stdout",
     "output_type": "stream",
     "text": [
      "2\n",
      "3.3\n",
      "3.4\n",
      "1024.0\n"
     ]
    }
   ],
   "source": [
    "# 정수 + 정수\n",
    "print(1 + 1)\n",
    "# 실수 + 실수\n",
    "print(1.0 + 2.3)\n",
    "# 정수 + 실수\n",
    "print(1+ 2.4)\n",
    "# 다른 연산자\n",
    "print(2.0 ** 10)"
   ]
  },
  {
   "cell_type": "code",
   "execution_count": 13,
   "id": "cc1e84a7",
   "metadata": {},
   "outputs": [
    {
     "name": "stdout",
     "output_type": "stream",
     "text": [
      "9\n",
      "10\n",
      "3\n",
      "3\n",
      "1048576\n"
     ]
    }
   ],
   "source": [
    "# 원래 대입식\n",
    "a = 7\n",
    "a += 2\n",
    "print(a)\n",
    "# 복합 대입 연산자\n",
    "b = 5\n",
    "b *= 2\n",
    "print(b)\n",
    "# 다른 연산자도 가능\n",
    "c= 10\n",
    "c //= 3\n",
    "print(c)\n",
    "\n",
    "d = 15\n",
    "d %= 4\n",
    "print(d)\n",
    "\n",
    "e = 2\n",
    "e **= 20\n",
    "print(e)"
   ]
  },
  {
   "cell_type": "code",
   "execution_count": 14,
   "id": "7b4f0f0c",
   "metadata": {},
   "outputs": [
    {
     "data": {
      "text/plain": [
       "('안녕하세요, 저는 큰 따옴표입니다.', '안녕하세요, 저는 작은 따옴표입니다.')"
      ]
     },
     "execution_count": 14,
     "metadata": {},
     "output_type": "execute_result"
    }
   ],
   "source": [
    "\"안녕하세요, 저는 큰 따옴표입니다.\", '안녕하세요, 저는 작은 따옴표입니다.'"
   ]
  },
  {
   "cell_type": "code",
   "execution_count": 15,
   "id": "5833d509",
   "metadata": {},
   "outputs": [
    {
     "name": "stdout",
     "output_type": "stream",
     "text": [
      "<class 'int'> <class 'str'> <class 'str'>\n"
     ]
    }
   ],
   "source": [
    "# 숫자형에도 따옴표를 둘러싸면 문자열이 된다.\n",
    "# 자료형 확인\n",
    "print(type(7), type('7'), type(\"\"\"월일\"\"\"))"
   ]
  },
  {
   "cell_type": "code",
   "execution_count": 16,
   "id": "2d034b57",
   "metadata": {},
   "outputs": [
    {
     "name": "stdout",
     "output_type": "stream",
     "text": [
      "\n",
      "Only i can change my lift,\n",
      "no one can do it for me.\n",
      "\n",
      "Only i can change my lift,\n",
      "no one can do it for me.\n",
      "Only i can change my life, \n",
      "no one can do it for me.\n",
      "\"Do not worry!\"\n",
      "\"Don't worry!\"\n",
      "thirty\tone\n",
      "동짓달 기나긴 밤을 한 허리를 베어내어 봄바람 이불 아래 서리서리 넣었다가 정든 임 오신 날 밤이거든 굽이굽이 펴리라\n"
     ]
    }
   ],
   "source": [
    "# 작은 따옴표 3개로 감싸기\n",
    "multi_line = '''\n",
    "Only i can change my lift,\n",
    "no one can do it for me.'''\n",
    "print(multi_line)\n",
    "\n",
    "# 큰 따옴표 3개로 감싸기\n",
    "multi_line_2 = \"\"\"\n",
    "Only i can change my lift,\n",
    "no one can do it for me.\"\"\"\n",
    "print(multi_line_2)\n",
    "\n",
    "# '\\n' : 줄 바꿈 escape code\n",
    "multi_line_3 = 'Only i can change my life, \\nno one can do it for me.'\n",
    "print(multi_line_3)\n",
    "\n",
    "# 작은 따옴표를 포함한 문자열을 큰 따옴표로 둘러싸기\n",
    "answer = '\"Do not worry!\"'\n",
    "print(answer)\n",
    "\n",
    "answer_2 = '\\\"Don\\'t worry!\\\"'\n",
    "print(answer_2)\n",
    "\n",
    "# '\\t'\n",
    "tab_line = 'thirty\\tone'\n",
    "print(tab_line)\n",
    "\n",
    "# '\\' 가독성 좋게 3줄로 표시하였지만 한 줄의 문자열로 정의\n",
    "sentence = '동짓달 기나긴 밤을 한 허리를 베어내어 \\\n",
    "봄바람 이불 아래 서리서리 넣었다가 \\\n",
    "정든 임 오신 날 밤이거든 굽이굽이 펴리라'\n",
    "print(sentence)"
   ]
  },
  {
   "cell_type": "code",
   "execution_count": 17,
   "id": "f2e30ff8",
   "metadata": {
    "scrolled": true
   },
   "outputs": [
    {
     "name": "stdout",
     "output_type": "stream",
     "text": [
      "꾸준히python\n",
      "heyheyheyheyheyheyheyheyheyheyheyheyheyheyheyheyheyheyheyheyheyheyheyheyheyheyhey\n",
      "===================================\n",
      "My Assignment\n",
      "===================================\n",
      "7lucky\n",
      "1998 Seoul Olympic\n",
      "4\n",
      "5\n",
      "p p\n",
      "w\n",
      "Where\n",
      "is\n",
      "Where\n",
      "way\n",
      "Hello, Python!\n"
     ]
    }
   ],
   "source": [
    "head = '꾸준히'\n",
    "tail = 'python'\n",
    "\n",
    "print(head + tail)\n",
    "print('hey' * 27)\n",
    "\n",
    "#모든 문자열을 곱할 수 있다.\n",
    "print('=' * 35)\n",
    "print('My Assignment')\n",
    "print('=' * 35)\n",
    "#문자열 + 숫자 \n",
    "a = 7\n",
    "b = 'lucky'\n",
    "print(str(a) + b)\n",
    "#자료형 일치\n",
    "print(str(1998) + ' Seoul Olympic')\n",
    "a = 'life'\n",
    "print(len(a))\n",
    "#공백 포함한 길이를 구한다\n",
    "b = ' life'\n",
    "print(len(b))\n",
    "# a[0] = a[-0]\n",
    "a= 'python'\n",
    "print(a[0], a[-0])\n",
    "#문자열 길 때, 뒤에서 세는 인덱시을 자주 사용한다.\n",
    "a = 'Where there is a will there is a way'\n",
    "print(a[-3])\n",
    "# a[시작 번호, 끝 번호 + 1]로 잘라낸다.\n",
    "# 0 ~ 4까지 슬라이싱하고 싶으면 [0:5]로 표시\n",
    "print(a[0:4 + 1])\n",
    "#음수일때도 마찬가지\n",
    "print(a[-8:-7 + 1])\n",
    "#슬라이싱 앞부분을 생략하면 처음부터 뽑아낸다.\n",
    "print(a[:5])\n",
    "#슬라이싱 뒷부분을 생략하면 끝까지 뽑아낸다.\n",
    "print(a[-3:])\n",
    "a = 'Hello, world!'\n",
    "b = a.replace('world', 'Python')\n",
    "print(b)"
   ]
  },
  {
   "cell_type": "code",
   "execution_count": null,
   "id": "34f89783",
   "metadata": {},
   "outputs": [],
   "source": []
  }
 ],
 "metadata": {
  "kernelspec": {
   "display_name": "Python 3 (ipykernel)",
   "language": "python",
   "name": "python3"
  },
  "language_info": {
   "codemirror_mode": {
    "name": "ipython",
    "version": 3
   },
   "file_extension": ".py",
   "mimetype": "text/x-python",
   "name": "python",
   "nbconvert_exporter": "python",
   "pygments_lexer": "ipython3",
   "version": "3.9.7"
  }
 },
 "nbformat": 4,
 "nbformat_minor": 5
}
