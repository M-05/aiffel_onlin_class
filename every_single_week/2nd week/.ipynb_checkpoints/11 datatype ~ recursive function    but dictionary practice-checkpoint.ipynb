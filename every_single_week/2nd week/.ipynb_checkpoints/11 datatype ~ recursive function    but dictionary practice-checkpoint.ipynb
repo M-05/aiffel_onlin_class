{
 "cells": [
  {
   "cell_type": "code",
   "execution_count": 4,
   "id": "30120f8c",
   "metadata": {},
   "outputs": [],
   "source": []
  },
  {
   "cell_type": "code",
   "execution_count": 31,
   "id": "f0eeaf7a",
   "metadata": {},
   "outputs": [],
   "source": [
    "dict_key = {'name': \"배고파\" , type: \"쥬스\", True : '포도', False : '족발' , None : '보쌈'}"
   ]
  },
  {
   "cell_type": "code",
   "execution_count": 32,
   "id": "3ec230b7",
   "metadata": {},
   "outputs": [
    {
     "data": {
      "text/plain": [
       "'보쌈'"
      ]
     },
     "execution_count": 32,
     "metadata": {},
     "output_type": "execute_result"
    }
   ],
   "source": [
    "dict_key[None]"
   ]
  },
  {
   "cell_type": "code",
   "execution_count": 33,
   "id": "31e96c75",
   "metadata": {},
   "outputs": [
    {
     "name": "stdout",
     "output_type": "stream",
     "text": [
      "name 배고파\n",
      "<class 'type'> 쥬스\n",
      "True 포도\n",
      "False 족발\n",
      "None 보쌈\n"
     ]
    }
   ],
   "source": [
    "for key, value in dict_key.items():\n",
    "    print(key, value)"
   ]
  },
  {
   "cell_type": "code",
   "execution_count": 34,
   "id": "1306f40e",
   "metadata": {},
   "outputs": [
    {
     "data": {
      "text/plain": [
       "dict_items([('name', '배고파'), (<class 'type'>, '쥬스'), (True, '포도'), (False, '족발'), (None, '보쌈')])"
      ]
     },
     "execution_count": 34,
     "metadata": {},
     "output_type": "execute_result"
    }
   ],
   "source": [
    "dict_key.items()"
   ]
  },
  {
   "cell_type": "code",
   "execution_count": null,
   "id": "5587f3c3",
   "metadata": {},
   "outputs": [],
   "source": []
  },
  {
   "cell_type": "code",
   "execution_count": 36,
   "id": "0615581e",
   "metadata": {},
   "outputs": [
    {
     "data": {
      "text/plain": [
       "17711"
      ]
     },
     "execution_count": 36,
     "metadata": {},
     "output_type": "execute_result"
    }
   ],
   "source": [
    "memo = {1 : 1, 2 : 1}\n",
    "\n",
    "def fibo(n):\n",
    "    if n in memo:\n",
    "        return memo[n]\n",
    "    else:\n",
    "        temp = fibo(n - 1) + fibo(n - 2)\n",
    "        memo[n] = temp\n",
    "    return temp\n",
    "\n",
    "fibo(22)"
   ]
  },
  {
   "cell_type": "code",
   "execution_count": null,
   "id": "aa50fee1",
   "metadata": {},
   "outputs": [],
   "source": []
  }
 ],
 "metadata": {
  "kernelspec": {
   "display_name": "Python 3 (ipykernel)",
   "language": "python",
   "name": "python3"
  },
  "language_info": {
   "codemirror_mode": {
    "name": "ipython",
    "version": 3
   },
   "file_extension": ".py",
   "mimetype": "text/x-python",
   "name": "python",
   "nbconvert_exporter": "python",
   "pygments_lexer": "ipython3",
   "version": "3.9.7"
  }
 },
 "nbformat": 4,
 "nbformat_minor": 5
}
