{
 "cells": [
  {
   "cell_type": "markdown",
   "metadata": {
    "id": "_AJNOQ0b-J1L"
   },
   "source": [
    "# EDA 기초\n",
    "\n",
    "지난 시간에는 결측치를 어떻게 채울지에 대해서 고민해보았습니다.\n",
    "\n",
    "그런데 일일히 조건을 하나하나 찾아서 집어넣어주는 것 역시 품이 많이 드는 일일것 같습니다.\n",
    "\n",
    "우리가 지금까지 공부한 인공지능이 대신하게 하는 방법은 없을까요?"
   ]
  },
  {
   "cell_type": "code",
   "execution_count": 7,
   "metadata": {
    "id": "HauYID6DNeEC"
   },
   "outputs": [],
   "source": [
    "import pandas as pd\n",
    "import matplotlib.pyplot as plt\n",
    "import seaborn as sns\n",
    "import numpy as np\n",
    "from scipy.stats import norm\n",
    "from sklearn.preprocessing import StandardScaler\n",
    "from scipy import stats\n",
    "import warnings\n",
    "warnings.filterwarnings('ignore')\n",
    "%matplotlib inline"
   ]
  },
  {
   "cell_type": "code",
   "execution_count": 6,
   "metadata": {},
   "outputs": [
    {
     "name": "stdout",
     "output_type": "stream",
     "text": [
      " 1st_week.ipynb\r\n",
      " 2nd_week.ipynb\r\n",
      "'2] The mathematical building blocks of neural networks.ipynb'\r\n",
      " class.csv\r\n",
      "'import numpy[Numerical Python] as np.ipynb'\r\n",
      " vgsales_lecture.csv\r\n",
      " zoo.csv\r\n"
     ]
    }
   ],
   "source": [
    "ls"
   ]
  },
  {
   "cell_type": "code",
   "execution_count": 8,
   "metadata": {
    "id": "xjYLpBLd-HIe"
   },
   "outputs": [],
   "source": [
    "df = pd.read_csv(\"vgsales_lecture.csv\")"
   ]
  },
  {
   "cell_type": "code",
   "execution_count": 3,
   "metadata": {},
   "outputs": [],
   "source": [
    "df = df.dropna(subset=[\"Year\"])"
   ]
  },
  {
   "cell_type": "code",
   "execution_count": 4,
   "metadata": {},
   "outputs": [
    {
     "data": {
      "text/plain": [
       "0"
      ]
     },
     "execution_count": 4,
     "metadata": {},
     "output_type": "execute_result"
    }
   ],
   "source": [
    "df[\"Year\"].isnull().sum()"
   ]
  },
  {
   "cell_type": "code",
   "execution_count": 5,
   "metadata": {},
   "outputs": [
    {
     "data": {
      "text/plain": [
       "'Adventure'"
      ]
     },
     "execution_count": 5,
     "metadata": {},
     "output_type": "execute_result"
    }
   ],
   "source": [
    "df[\"Year\"][13538]"
   ]
  },
  {
   "cell_type": "code",
   "execution_count": null,
   "metadata": {},
   "outputs": [],
   "source": []
  },
  {
   "cell_type": "code",
   "execution_count": null,
   "metadata": {},
   "outputs": [],
   "source": []
  },
  {
   "cell_type": "code",
   "execution_count": null,
   "metadata": {},
   "outputs": [],
   "source": [
    "DataFrame.dropna(axis=0, how='any', thresh=None, subset=None, inplace=False)"
   ]
  },
  {
   "cell_type": "code",
   "execution_count": null,
   "metadata": {},
   "outputs": [],
   "source": []
  },
  {
   "cell_type": "code",
   "execution_count": null,
   "metadata": {},
   "outputs": [],
   "source": []
  },
  {
   "cell_type": "code",
   "execution_count": 7,
   "metadata": {},
   "outputs": [],
   "source": [
    "df1 = pd.read_csv(\"zoo.csv\")"
   ]
  },
  {
   "cell_type": "code",
   "execution_count": 10,
   "metadata": {},
   "outputs": [
    {
     "data": {
      "text/html": [
       "<div>\n",
       "<style scoped>\n",
       "    .dataframe tbody tr th:only-of-type {\n",
       "        vertical-align: middle;\n",
       "    }\n",
       "\n",
       "    .dataframe tbody tr th {\n",
       "        vertical-align: top;\n",
       "    }\n",
       "\n",
       "    .dataframe thead th {\n",
       "        text-align: right;\n",
       "    }\n",
       "</style>\n",
       "<table border=\"1\" class=\"dataframe\">\n",
       "  <thead>\n",
       "    <tr style=\"text-align: right;\">\n",
       "      <th></th>\n",
       "      <th>animal_name</th>\n",
       "      <th>hair</th>\n",
       "      <th>feathers</th>\n",
       "      <th>eggs</th>\n",
       "      <th>milk</th>\n",
       "      <th>airborne</th>\n",
       "      <th>aquatic</th>\n",
       "      <th>predator</th>\n",
       "      <th>toothed</th>\n",
       "      <th>backbone</th>\n",
       "      <th>breathes</th>\n",
       "      <th>venomous</th>\n",
       "      <th>fins</th>\n",
       "      <th>legs</th>\n",
       "      <th>tail</th>\n",
       "      <th>domestic</th>\n",
       "      <th>catsize</th>\n",
       "      <th>class_type</th>\n",
       "    </tr>\n",
       "  </thead>\n",
       "  <tbody>\n",
       "    <tr>\n",
       "      <th>0</th>\n",
       "      <td>aardvark</td>\n",
       "      <td>1</td>\n",
       "      <td>0</td>\n",
       "      <td>0</td>\n",
       "      <td>1</td>\n",
       "      <td>0</td>\n",
       "      <td>0</td>\n",
       "      <td>1</td>\n",
       "      <td>1</td>\n",
       "      <td>1</td>\n",
       "      <td>1</td>\n",
       "      <td>0</td>\n",
       "      <td>0</td>\n",
       "      <td>4</td>\n",
       "      <td>0</td>\n",
       "      <td>0</td>\n",
       "      <td>1</td>\n",
       "      <td>1</td>\n",
       "    </tr>\n",
       "    <tr>\n",
       "      <th>1</th>\n",
       "      <td>antelope</td>\n",
       "      <td>1</td>\n",
       "      <td>0</td>\n",
       "      <td>0</td>\n",
       "      <td>1</td>\n",
       "      <td>0</td>\n",
       "      <td>0</td>\n",
       "      <td>0</td>\n",
       "      <td>1</td>\n",
       "      <td>1</td>\n",
       "      <td>1</td>\n",
       "      <td>0</td>\n",
       "      <td>0</td>\n",
       "      <td>4</td>\n",
       "      <td>1</td>\n",
       "      <td>0</td>\n",
       "      <td>1</td>\n",
       "      <td>1</td>\n",
       "    </tr>\n",
       "    <tr>\n",
       "      <th>2</th>\n",
       "      <td>bass</td>\n",
       "      <td>0</td>\n",
       "      <td>0</td>\n",
       "      <td>1</td>\n",
       "      <td>0</td>\n",
       "      <td>0</td>\n",
       "      <td>1</td>\n",
       "      <td>1</td>\n",
       "      <td>1</td>\n",
       "      <td>1</td>\n",
       "      <td>0</td>\n",
       "      <td>0</td>\n",
       "      <td>1</td>\n",
       "      <td>0</td>\n",
       "      <td>1</td>\n",
       "      <td>0</td>\n",
       "      <td>0</td>\n",
       "      <td>4</td>\n",
       "    </tr>\n",
       "    <tr>\n",
       "      <th>3</th>\n",
       "      <td>bear</td>\n",
       "      <td>1</td>\n",
       "      <td>0</td>\n",
       "      <td>0</td>\n",
       "      <td>1</td>\n",
       "      <td>0</td>\n",
       "      <td>0</td>\n",
       "      <td>1</td>\n",
       "      <td>1</td>\n",
       "      <td>1</td>\n",
       "      <td>1</td>\n",
       "      <td>0</td>\n",
       "      <td>0</td>\n",
       "      <td>4</td>\n",
       "      <td>0</td>\n",
       "      <td>0</td>\n",
       "      <td>1</td>\n",
       "      <td>1</td>\n",
       "    </tr>\n",
       "    <tr>\n",
       "      <th>4</th>\n",
       "      <td>boar</td>\n",
       "      <td>1</td>\n",
       "      <td>0</td>\n",
       "      <td>0</td>\n",
       "      <td>1</td>\n",
       "      <td>0</td>\n",
       "      <td>0</td>\n",
       "      <td>1</td>\n",
       "      <td>1</td>\n",
       "      <td>1</td>\n",
       "      <td>1</td>\n",
       "      <td>0</td>\n",
       "      <td>0</td>\n",
       "      <td>4</td>\n",
       "      <td>1</td>\n",
       "      <td>0</td>\n",
       "      <td>1</td>\n",
       "      <td>1</td>\n",
       "    </tr>\n",
       "  </tbody>\n",
       "</table>\n",
       "</div>"
      ],
      "text/plain": [
       "  animal_name  hair  feathers  eggs  milk  airborne  aquatic  predator  \\\n",
       "0    aardvark     1         0     0     1         0        0         1   \n",
       "1    antelope     1         0     0     1         0        0         0   \n",
       "2        bass     0         0     1     0         0        1         1   \n",
       "3        bear     1         0     0     1         0        0         1   \n",
       "4        boar     1         0     0     1         0        0         1   \n",
       "\n",
       "   toothed  backbone  breathes  venomous  fins  legs  tail  domestic  catsize  \\\n",
       "0        1         1         1         0     0     4     0         0        1   \n",
       "1        1         1         1         0     0     4     1         0        1   \n",
       "2        1         1         0         0     1     0     1         0        0   \n",
       "3        1         1         1         0     0     4     0         0        1   \n",
       "4        1         1         1         0     0     4     1         0        1   \n",
       "\n",
       "   class_type  \n",
       "0           1  \n",
       "1           1  \n",
       "2           4  \n",
       "3           1  \n",
       "4           1  "
      ]
     },
     "execution_count": 10,
     "metadata": {},
     "output_type": "execute_result"
    }
   ],
   "source": [
    "df1.head()"
   ]
  },
  {
   "cell_type": "code",
   "execution_count": 12,
   "metadata": {},
   "outputs": [
    {
     "name": "stdout",
     "output_type": "stream",
     "text": [
      "<class 'pandas.core.frame.DataFrame'>\n",
      "RangeIndex: 101 entries, 0 to 100\n",
      "Data columns (total 18 columns):\n",
      " #   Column       Non-Null Count  Dtype \n",
      "---  ------       --------------  ----- \n",
      " 0   animal_name  101 non-null    object\n",
      " 1   hair         101 non-null    int64 \n",
      " 2   feathers     101 non-null    int64 \n",
      " 3   eggs         101 non-null    int64 \n",
      " 4   milk         101 non-null    int64 \n",
      " 5   airborne     101 non-null    int64 \n",
      " 6   aquatic      101 non-null    int64 \n",
      " 7   predator     101 non-null    int64 \n",
      " 8   toothed      101 non-null    int64 \n",
      " 9   backbone     101 non-null    int64 \n",
      " 10  breathes     101 non-null    int64 \n",
      " 11  venomous     101 non-null    int64 \n",
      " 12  fins         101 non-null    int64 \n",
      " 13  legs         101 non-null    int64 \n",
      " 14  tail         101 non-null    int64 \n",
      " 15  domestic     101 non-null    int64 \n",
      " 16  catsize      101 non-null    int64 \n",
      " 17  class_type   101 non-null    int64 \n",
      "dtypes: int64(17), object(1)\n",
      "memory usage: 14.3+ KB\n"
     ]
    }
   ],
   "source": [
    "df1.info()"
   ]
  },
  {
   "cell_type": "code",
   "execution_count": 43,
   "metadata": {},
   "outputs": [
    {
     "data": {
      "text/plain": [
       "array(['aardvark', 'antelope', 'bass', 'bear', 'boar', 'buffalo', 'calf',\n",
       "       'carp', 'catfish', 'cavy', 'cheetah', 'chicken', 'chub', 'clam',\n",
       "       'crab', 'crayfish', 'crow', 'deer', 'dogfish', 'dolphin', 'dove',\n",
       "       'duck', 'elephant', 'flamingo', 'flea', 'frog', 'fruitbat',\n",
       "       'giraffe', 'girl', 'gnat', 'goat', 'gorilla', 'gull', 'haddock',\n",
       "       'hamster', 'hare', 'hawk', 'herring', 'honeybee', 'housefly',\n",
       "       'kiwi', 'ladybird', 'lark', 'leopard', 'lion', 'lobster', 'lynx',\n",
       "       'mink', 'mole', 'mongoose', 'moth', 'newt', 'octopus', 'opossum',\n",
       "       'oryx', 'ostrich', 'parakeet', 'penguin', 'pheasant', 'pike',\n",
       "       'piranha', 'pitviper', 'platypus', 'polecat', 'pony', 'porpoise',\n",
       "       'puma', 'pussycat', 'raccoon', 'reindeer', 'rhea', 'scorpion',\n",
       "       'seahorse', 'seal', 'sealion', 'seasnake', 'seawasp', 'skimmer',\n",
       "       'skua', 'slowworm', 'slug', 'sole', 'sparrow', 'squirrel',\n",
       "       'starfish', 'stingray', 'swan', 'termite', 'toad', 'tortoise',\n",
       "       'tuatara', 'tuna', 'vampire', 'vole', 'vulture', 'wallaby', 'wasp',\n",
       "       'wolf', 'worm', 'wren'], dtype=object)"
      ]
     },
     "execution_count": 43,
     "metadata": {},
     "output_type": "execute_result"
    }
   ],
   "source": [
    "df1[\"animal_name\"].unique()"
   ]
  },
  {
   "cell_type": "code",
   "execution_count": 18,
   "metadata": {},
   "outputs": [
    {
     "data": {
      "text/html": [
       "<div>\n",
       "<style scoped>\n",
       "    .dataframe tbody tr th:only-of-type {\n",
       "        vertical-align: middle;\n",
       "    }\n",
       "\n",
       "    .dataframe tbody tr th {\n",
       "        vertical-align: top;\n",
       "    }\n",
       "\n",
       "    .dataframe thead th {\n",
       "        text-align: right;\n",
       "    }\n",
       "</style>\n",
       "<table border=\"1\" class=\"dataframe\">\n",
       "  <thead>\n",
       "    <tr style=\"text-align: right;\">\n",
       "      <th></th>\n",
       "      <th>hair</th>\n",
       "      <th>feathers</th>\n",
       "      <th>eggs</th>\n",
       "      <th>milk</th>\n",
       "      <th>airborne</th>\n",
       "      <th>aquatic</th>\n",
       "      <th>predator</th>\n",
       "      <th>toothed</th>\n",
       "      <th>backbone</th>\n",
       "      <th>breathes</th>\n",
       "      <th>venomous</th>\n",
       "      <th>fins</th>\n",
       "      <th>legs</th>\n",
       "      <th>tail</th>\n",
       "      <th>domestic</th>\n",
       "      <th>catsize</th>\n",
       "      <th>class_type</th>\n",
       "    </tr>\n",
       "  </thead>\n",
       "  <tbody>\n",
       "    <tr>\n",
       "      <th>hair</th>\n",
       "      <td>1.000000</td>\n",
       "      <td>-0.427851</td>\n",
       "      <td>-0.817382</td>\n",
       "      <td>0.878503</td>\n",
       "      <td>-0.198431</td>\n",
       "      <td>-0.473554</td>\n",
       "      <td>-0.154769</td>\n",
       "      <td>0.492531</td>\n",
       "      <td>0.191681</td>\n",
       "      <td>0.441149</td>\n",
       "      <td>-0.104245</td>\n",
       "      <td>-0.280313</td>\n",
       "      <td>0.394009</td>\n",
       "      <td>0.048973</td>\n",
       "      <td>0.207208</td>\n",
       "      <td>0.455020</td>\n",
       "      <td>-0.562384</td>\n",
       "    </tr>\n",
       "    <tr>\n",
       "      <th>feathers</th>\n",
       "      <td>-0.427851</td>\n",
       "      <td>1.000000</td>\n",
       "      <td>0.419248</td>\n",
       "      <td>-0.410761</td>\n",
       "      <td>0.656553</td>\n",
       "      <td>-0.058552</td>\n",
       "      <td>-0.104430</td>\n",
       "      <td>-0.613631</td>\n",
       "      <td>0.231403</td>\n",
       "      <td>0.254588</td>\n",
       "      <td>-0.145739</td>\n",
       "      <td>-0.223541</td>\n",
       "      <td>-0.206686</td>\n",
       "      <td>0.292569</td>\n",
       "      <td>0.031586</td>\n",
       "      <td>-0.135934</td>\n",
       "      <td>-0.197520</td>\n",
       "    </tr>\n",
       "    <tr>\n",
       "      <th>eggs</th>\n",
       "      <td>-0.817382</td>\n",
       "      <td>0.419248</td>\n",
       "      <td>1.000000</td>\n",
       "      <td>-0.938848</td>\n",
       "      <td>0.376646</td>\n",
       "      <td>0.376244</td>\n",
       "      <td>0.011605</td>\n",
       "      <td>-0.642150</td>\n",
       "      <td>-0.340420</td>\n",
       "      <td>-0.382777</td>\n",
       "      <td>0.098689</td>\n",
       "      <td>0.164796</td>\n",
       "      <td>-0.224918</td>\n",
       "      <td>-0.221090</td>\n",
       "      <td>-0.155610</td>\n",
       "      <td>-0.514650</td>\n",
       "      <td>0.661825</td>\n",
       "    </tr>\n",
       "    <tr>\n",
       "      <th>milk</th>\n",
       "      <td>0.878503</td>\n",
       "      <td>-0.410761</td>\n",
       "      <td>-0.938848</td>\n",
       "      <td>1.000000</td>\n",
       "      <td>-0.366765</td>\n",
       "      <td>-0.362613</td>\n",
       "      <td>-0.029721</td>\n",
       "      <td>0.628168</td>\n",
       "      <td>0.384958</td>\n",
       "      <td>0.423527</td>\n",
       "      <td>-0.242449</td>\n",
       "      <td>-0.156328</td>\n",
       "      <td>0.214196</td>\n",
       "      <td>0.210026</td>\n",
       "      <td>0.163928</td>\n",
       "      <td>0.574906</td>\n",
       "      <td>-0.723683</td>\n",
       "    </tr>\n",
       "    <tr>\n",
       "      <th>airborne</th>\n",
       "      <td>-0.198431</td>\n",
       "      <td>0.656553</td>\n",
       "      <td>0.376646</td>\n",
       "      <td>-0.366765</td>\n",
       "      <td>1.000000</td>\n",
       "      <td>-0.172638</td>\n",
       "      <td>-0.295181</td>\n",
       "      <td>-0.594311</td>\n",
       "      <td>-0.104718</td>\n",
       "      <td>0.286039</td>\n",
       "      <td>0.008528</td>\n",
       "      <td>-0.251157</td>\n",
       "      <td>0.043712</td>\n",
       "      <td>0.009482</td>\n",
       "      <td>0.063274</td>\n",
       "      <td>-0.349768</td>\n",
       "      <td>0.022677</td>\n",
       "    </tr>\n",
       "    <tr>\n",
       "      <th>aquatic</th>\n",
       "      <td>-0.473554</td>\n",
       "      <td>-0.058552</td>\n",
       "      <td>0.376244</td>\n",
       "      <td>-0.362613</td>\n",
       "      <td>-0.172638</td>\n",
       "      <td>1.000000</td>\n",
       "      <td>0.375978</td>\n",
       "      <td>0.053150</td>\n",
       "      <td>0.022463</td>\n",
       "      <td>-0.637506</td>\n",
       "      <td>0.087915</td>\n",
       "      <td>0.604492</td>\n",
       "      <td>-0.360638</td>\n",
       "      <td>-0.034642</td>\n",
       "      <td>-0.224308</td>\n",
       "      <td>-0.111866</td>\n",
       "      <td>0.326639</td>\n",
       "    </tr>\n",
       "    <tr>\n",
       "      <th>predator</th>\n",
       "      <td>-0.154769</td>\n",
       "      <td>-0.104430</td>\n",
       "      <td>0.011605</td>\n",
       "      <td>-0.029721</td>\n",
       "      <td>-0.295181</td>\n",
       "      <td>0.375978</td>\n",
       "      <td>1.000000</td>\n",
       "      <td>0.129452</td>\n",
       "      <td>0.051022</td>\n",
       "      <td>-0.262931</td>\n",
       "      <td>0.115391</td>\n",
       "      <td>0.190302</td>\n",
       "      <td>-0.099723</td>\n",
       "      <td>0.018947</td>\n",
       "      <td>-0.309794</td>\n",
       "      <td>0.144790</td>\n",
       "      <td>0.061179</td>\n",
       "    </tr>\n",
       "    <tr>\n",
       "      <th>toothed</th>\n",
       "      <td>0.492531</td>\n",
       "      <td>-0.613631</td>\n",
       "      <td>-0.642150</td>\n",
       "      <td>0.628168</td>\n",
       "      <td>-0.594311</td>\n",
       "      <td>0.053150</td>\n",
       "      <td>0.129452</td>\n",
       "      <td>1.000000</td>\n",
       "      <td>0.575085</td>\n",
       "      <td>-0.065690</td>\n",
       "      <td>-0.062344</td>\n",
       "      <td>0.364292</td>\n",
       "      <td>-0.193476</td>\n",
       "      <td>0.310368</td>\n",
       "      <td>0.069430</td>\n",
       "      <td>0.344010</td>\n",
       "      <td>-0.471527</td>\n",
       "    </tr>\n",
       "    <tr>\n",
       "      <th>backbone</th>\n",
       "      <td>0.191681</td>\n",
       "      <td>0.231403</td>\n",
       "      <td>-0.340420</td>\n",
       "      <td>0.384958</td>\n",
       "      <td>-0.104718</td>\n",
       "      <td>0.022463</td>\n",
       "      <td>0.051022</td>\n",
       "      <td>0.575085</td>\n",
       "      <td>1.000000</td>\n",
       "      <td>0.207666</td>\n",
       "      <td>-0.246611</td>\n",
       "      <td>0.209499</td>\n",
       "      <td>-0.432856</td>\n",
       "      <td>0.731762</td>\n",
       "      <td>0.101733</td>\n",
       "      <td>0.356976</td>\n",
       "      <td>-0.828845</td>\n",
       "    </tr>\n",
       "    <tr>\n",
       "      <th>breathes</th>\n",
       "      <td>0.441149</td>\n",
       "      <td>0.254588</td>\n",
       "      <td>-0.382777</td>\n",
       "      <td>0.423527</td>\n",
       "      <td>0.286039</td>\n",
       "      <td>-0.637506</td>\n",
       "      <td>-0.262931</td>\n",
       "      <td>-0.065690</td>\n",
       "      <td>0.207666</td>\n",
       "      <td>1.000000</td>\n",
       "      <td>-0.120752</td>\n",
       "      <td>-0.617219</td>\n",
       "      <td>0.369868</td>\n",
       "      <td>0.088952</td>\n",
       "      <td>0.124068</td>\n",
       "      <td>0.204125</td>\n",
       "      <td>-0.519308</td>\n",
       "    </tr>\n",
       "    <tr>\n",
       "      <th>venomous</th>\n",
       "      <td>-0.104245</td>\n",
       "      <td>-0.145739</td>\n",
       "      <td>0.098689</td>\n",
       "      <td>-0.242449</td>\n",
       "      <td>0.008528</td>\n",
       "      <td>0.087915</td>\n",
       "      <td>0.115391</td>\n",
       "      <td>-0.062344</td>\n",
       "      <td>-0.246611</td>\n",
       "      <td>-0.120752</td>\n",
       "      <td>1.000000</td>\n",
       "      <td>-0.033956</td>\n",
       "      <td>0.022964</td>\n",
       "      <td>-0.162724</td>\n",
       "      <td>-0.003252</td>\n",
       "      <td>-0.183748</td>\n",
       "      <td>0.321476</td>\n",
       "    </tr>\n",
       "    <tr>\n",
       "      <th>fins</th>\n",
       "      <td>-0.280313</td>\n",
       "      <td>-0.223541</td>\n",
       "      <td>0.164796</td>\n",
       "      <td>-0.156328</td>\n",
       "      <td>-0.251157</td>\n",
       "      <td>0.604492</td>\n",
       "      <td>0.190302</td>\n",
       "      <td>0.364292</td>\n",
       "      <td>0.209499</td>\n",
       "      <td>-0.617219</td>\n",
       "      <td>-0.033956</td>\n",
       "      <td>1.000000</td>\n",
       "      <td>-0.605652</td>\n",
       "      <td>0.204349</td>\n",
       "      <td>-0.093887</td>\n",
       "      <td>0.031705</td>\n",
       "      <td>0.099430</td>\n",
       "    </tr>\n",
       "    <tr>\n",
       "      <th>legs</th>\n",
       "      <td>0.394009</td>\n",
       "      <td>-0.206686</td>\n",
       "      <td>-0.224918</td>\n",
       "      <td>0.214196</td>\n",
       "      <td>0.043712</td>\n",
       "      <td>-0.360638</td>\n",
       "      <td>-0.099723</td>\n",
       "      <td>-0.193476</td>\n",
       "      <td>-0.432856</td>\n",
       "      <td>0.369868</td>\n",
       "      <td>0.022964</td>\n",
       "      <td>-0.605652</td>\n",
       "      <td>1.000000</td>\n",
       "      <td>-0.348295</td>\n",
       "      <td>0.073931</td>\n",
       "      <td>0.068791</td>\n",
       "      <td>0.131693</td>\n",
       "    </tr>\n",
       "    <tr>\n",
       "      <th>tail</th>\n",
       "      <td>0.048973</td>\n",
       "      <td>0.292569</td>\n",
       "      <td>-0.221090</td>\n",
       "      <td>0.210026</td>\n",
       "      <td>0.009482</td>\n",
       "      <td>-0.034642</td>\n",
       "      <td>0.018947</td>\n",
       "      <td>0.310368</td>\n",
       "      <td>0.731762</td>\n",
       "      <td>0.088952</td>\n",
       "      <td>-0.162724</td>\n",
       "      <td>0.204349</td>\n",
       "      <td>-0.348295</td>\n",
       "      <td>1.000000</td>\n",
       "      <td>0.023434</td>\n",
       "      <td>0.243277</td>\n",
       "      <td>-0.631830</td>\n",
       "    </tr>\n",
       "    <tr>\n",
       "      <th>domestic</th>\n",
       "      <td>0.207208</td>\n",
       "      <td>0.031586</td>\n",
       "      <td>-0.155610</td>\n",
       "      <td>0.163928</td>\n",
       "      <td>0.063274</td>\n",
       "      <td>-0.224308</td>\n",
       "      <td>-0.309794</td>\n",
       "      <td>0.069430</td>\n",
       "      <td>0.101733</td>\n",
       "      <td>0.124068</td>\n",
       "      <td>-0.003252</td>\n",
       "      <td>-0.093887</td>\n",
       "      <td>0.073931</td>\n",
       "      <td>0.023434</td>\n",
       "      <td>1.000000</td>\n",
       "      <td>0.020073</td>\n",
       "      <td>-0.181043</td>\n",
       "    </tr>\n",
       "    <tr>\n",
       "      <th>catsize</th>\n",
       "      <td>0.455020</td>\n",
       "      <td>-0.135934</td>\n",
       "      <td>-0.514650</td>\n",
       "      <td>0.574906</td>\n",
       "      <td>-0.349768</td>\n",
       "      <td>-0.111866</td>\n",
       "      <td>0.144790</td>\n",
       "      <td>0.344010</td>\n",
       "      <td>0.356976</td>\n",
       "      <td>0.204125</td>\n",
       "      <td>-0.183748</td>\n",
       "      <td>0.031705</td>\n",
       "      <td>0.068791</td>\n",
       "      <td>0.243277</td>\n",
       "      <td>0.020073</td>\n",
       "      <td>1.000000</td>\n",
       "      <td>-0.521030</td>\n",
       "    </tr>\n",
       "    <tr>\n",
       "      <th>class_type</th>\n",
       "      <td>-0.562384</td>\n",
       "      <td>-0.197520</td>\n",
       "      <td>0.661825</td>\n",
       "      <td>-0.723683</td>\n",
       "      <td>0.022677</td>\n",
       "      <td>0.326639</td>\n",
       "      <td>0.061179</td>\n",
       "      <td>-0.471527</td>\n",
       "      <td>-0.828845</td>\n",
       "      <td>-0.519308</td>\n",
       "      <td>0.321476</td>\n",
       "      <td>0.099430</td>\n",
       "      <td>0.131693</td>\n",
       "      <td>-0.631830</td>\n",
       "      <td>-0.181043</td>\n",
       "      <td>-0.521030</td>\n",
       "      <td>1.000000</td>\n",
       "    </tr>\n",
       "  </tbody>\n",
       "</table>\n",
       "</div>"
      ],
      "text/plain": [
       "                hair  feathers      eggs      milk  airborne   aquatic  \\\n",
       "hair        1.000000 -0.427851 -0.817382  0.878503 -0.198431 -0.473554   \n",
       "feathers   -0.427851  1.000000  0.419248 -0.410761  0.656553 -0.058552   \n",
       "eggs       -0.817382  0.419248  1.000000 -0.938848  0.376646  0.376244   \n",
       "milk        0.878503 -0.410761 -0.938848  1.000000 -0.366765 -0.362613   \n",
       "airborne   -0.198431  0.656553  0.376646 -0.366765  1.000000 -0.172638   \n",
       "aquatic    -0.473554 -0.058552  0.376244 -0.362613 -0.172638  1.000000   \n",
       "predator   -0.154769 -0.104430  0.011605 -0.029721 -0.295181  0.375978   \n",
       "toothed     0.492531 -0.613631 -0.642150  0.628168 -0.594311  0.053150   \n",
       "backbone    0.191681  0.231403 -0.340420  0.384958 -0.104718  0.022463   \n",
       "breathes    0.441149  0.254588 -0.382777  0.423527  0.286039 -0.637506   \n",
       "venomous   -0.104245 -0.145739  0.098689 -0.242449  0.008528  0.087915   \n",
       "fins       -0.280313 -0.223541  0.164796 -0.156328 -0.251157  0.604492   \n",
       "legs        0.394009 -0.206686 -0.224918  0.214196  0.043712 -0.360638   \n",
       "tail        0.048973  0.292569 -0.221090  0.210026  0.009482 -0.034642   \n",
       "domestic    0.207208  0.031586 -0.155610  0.163928  0.063274 -0.224308   \n",
       "catsize     0.455020 -0.135934 -0.514650  0.574906 -0.349768 -0.111866   \n",
       "class_type -0.562384 -0.197520  0.661825 -0.723683  0.022677  0.326639   \n",
       "\n",
       "            predator   toothed  backbone  breathes  venomous      fins  \\\n",
       "hair       -0.154769  0.492531  0.191681  0.441149 -0.104245 -0.280313   \n",
       "feathers   -0.104430 -0.613631  0.231403  0.254588 -0.145739 -0.223541   \n",
       "eggs        0.011605 -0.642150 -0.340420 -0.382777  0.098689  0.164796   \n",
       "milk       -0.029721  0.628168  0.384958  0.423527 -0.242449 -0.156328   \n",
       "airborne   -0.295181 -0.594311 -0.104718  0.286039  0.008528 -0.251157   \n",
       "aquatic     0.375978  0.053150  0.022463 -0.637506  0.087915  0.604492   \n",
       "predator    1.000000  0.129452  0.051022 -0.262931  0.115391  0.190302   \n",
       "toothed     0.129452  1.000000  0.575085 -0.065690 -0.062344  0.364292   \n",
       "backbone    0.051022  0.575085  1.000000  0.207666 -0.246611  0.209499   \n",
       "breathes   -0.262931 -0.065690  0.207666  1.000000 -0.120752 -0.617219   \n",
       "venomous    0.115391 -0.062344 -0.246611 -0.120752  1.000000 -0.033956   \n",
       "fins        0.190302  0.364292  0.209499 -0.617219 -0.033956  1.000000   \n",
       "legs       -0.099723 -0.193476 -0.432856  0.369868  0.022964 -0.605652   \n",
       "tail        0.018947  0.310368  0.731762  0.088952 -0.162724  0.204349   \n",
       "domestic   -0.309794  0.069430  0.101733  0.124068 -0.003252 -0.093887   \n",
       "catsize     0.144790  0.344010  0.356976  0.204125 -0.183748  0.031705   \n",
       "class_type  0.061179 -0.471527 -0.828845 -0.519308  0.321476  0.099430   \n",
       "\n",
       "                legs      tail  domestic   catsize  class_type  \n",
       "hair        0.394009  0.048973  0.207208  0.455020   -0.562384  \n",
       "feathers   -0.206686  0.292569  0.031586 -0.135934   -0.197520  \n",
       "eggs       -0.224918 -0.221090 -0.155610 -0.514650    0.661825  \n",
       "milk        0.214196  0.210026  0.163928  0.574906   -0.723683  \n",
       "airborne    0.043712  0.009482  0.063274 -0.349768    0.022677  \n",
       "aquatic    -0.360638 -0.034642 -0.224308 -0.111866    0.326639  \n",
       "predator   -0.099723  0.018947 -0.309794  0.144790    0.061179  \n",
       "toothed    -0.193476  0.310368  0.069430  0.344010   -0.471527  \n",
       "backbone   -0.432856  0.731762  0.101733  0.356976   -0.828845  \n",
       "breathes    0.369868  0.088952  0.124068  0.204125   -0.519308  \n",
       "venomous    0.022964 -0.162724 -0.003252 -0.183748    0.321476  \n",
       "fins       -0.605652  0.204349 -0.093887  0.031705    0.099430  \n",
       "legs        1.000000 -0.348295  0.073931  0.068791    0.131693  \n",
       "tail       -0.348295  1.000000  0.023434  0.243277   -0.631830  \n",
       "domestic    0.073931  0.023434  1.000000  0.020073   -0.181043  \n",
       "catsize     0.068791  0.243277  0.020073  1.000000   -0.521030  \n",
       "class_type  0.131693 -0.631830 -0.181043 -0.521030    1.000000  "
      ]
     },
     "execution_count": 18,
     "metadata": {},
     "output_type": "execute_result"
    }
   ],
   "source": [
    "df1.corr()"
   ]
  },
  {
   "cell_type": "code",
   "execution_count": 30,
   "metadata": {},
   "outputs": [
    {
     "data": {
      "text/plain": [
       "Index(['animal_name', 'hair', 'feathers', 'eggs', 'milk', 'airborne',\n",
       "       'aquatic', 'predator', 'toothed', 'backbone', 'breathes', 'venomous',\n",
       "       'fins', 'legs', 'tail', 'domestic', 'catsize', 'class_type'],\n",
       "      dtype='object')"
      ]
     },
     "execution_count": 30,
     "metadata": {},
     "output_type": "execute_result"
    }
   ],
   "source": [
    "df1.columns"
   ]
  },
  {
   "cell_type": "code",
   "execution_count": 36,
   "metadata": {
    "scrolled": true
   },
   "outputs": [
    {
     "data": {
      "text/plain": [
       "<AxesSubplot:>"
      ]
     },
     "execution_count": 36,
     "metadata": {},
     "output_type": "execute_result"
    },
    {
     "data": {
      "image/png": "[encoded data removed]",
      "text/plain": [
       "<Figure size 432x288 with 2 Axes>"
      ]
     },
     "metadata": {
      "needs_background": "light"
     },
     "output_type": "display_data"
    }
   ],
   "source": [
    "sns.heatmap(df1[[\"milk\", \"eggs\", \"hair\"]])"
   ]
  },
  {
   "cell_type": "code",
   "execution_count": 45,
   "metadata": {},
   "outputs": [
    {
     "data": {
      "text/plain": [
       "<AxesSubplot:>"
      ]
     },
     "execution_count": 45,
     "metadata": {},
     "output_type": "execute_result"
    },
    {
     "data": {
      "image/png": "[encoded data removed]",
      "text/plain": [
       "<Figure size 432x288 with 2 Axes>"
      ]
     },
     "metadata": {
      "needs_background": "light"
     },
     "output_type": "display_data"
    }
   ],
   "source": [
    "sns.heatmap(df1.corr())"
   ]
  },
  {
   "cell_type": "code",
   "execution_count": 48,
   "metadata": {},
   "outputs": [
    {
     "data": {
      "image/png": "[encoded data removed]",
      "text/plain": [
       "<Figure size 432x288 with 2 Axes>"
      ]
     },
     "metadata": {
      "needs_background": "light"
     },
     "output_type": "display_data"
    }
   ],
   "source": [
    "corr = df1.corr()\n",
    "sns.heatmap(corr,annot = True)\n",
    "plt.show()"
   ]
  },
  {
   "cell_type": "code",
   "execution_count": 15,
   "metadata": {},
   "outputs": [
    {
     "data": {
      "text/plain": [
       "array([1, 4, 2, 7, 6, 5, 3])"
      ]
     },
     "execution_count": 15,
     "metadata": {},
     "output_type": "execute_result"
    }
   ],
   "source": [
    "df1[\"class_type\"].unique()"
   ]
  },
  {
   "cell_type": "code",
   "execution_count": 8,
   "metadata": {},
   "outputs": [],
   "source": [
    "df2 = pd.read_csv(\"class.csv\")"
   ]
  },
  {
   "cell_type": "code",
   "execution_count": 16,
   "metadata": {
    "scrolled": true
   },
   "outputs": [
    {
     "data": {
      "text/html": [
       "<div>\n",
       "<style scoped>\n",
       "    .dataframe tbody tr th:only-of-type {\n",
       "        vertical-align: middle;\n",
       "    }\n",
       "\n",
       "    .dataframe tbody tr th {\n",
       "        vertical-align: top;\n",
       "    }\n",
       "\n",
       "    .dataframe thead th {\n",
       "        text-align: right;\n",
       "    }\n",
       "</style>\n",
       "<table border=\"1\" class=\"dataframe\">\n",
       "  <thead>\n",
       "    <tr style=\"text-align: right;\">\n",
       "      <th></th>\n",
       "      <th>Class_Number</th>\n",
       "      <th>Number_Of_Animal_Species_In_Class</th>\n",
       "      <th>Class_Type</th>\n",
       "      <th>Animal_Names</th>\n",
       "    </tr>\n",
       "  </thead>\n",
       "  <tbody>\n",
       "    <tr>\n",
       "      <th>0</th>\n",
       "      <td>1</td>\n",
       "      <td>41</td>\n",
       "      <td>Mammal</td>\n",
       "      <td>aardvark, antelope, bear, boar, buffalo, calf,...</td>\n",
       "    </tr>\n",
       "    <tr>\n",
       "      <th>1</th>\n",
       "      <td>2</td>\n",
       "      <td>20</td>\n",
       "      <td>Bird</td>\n",
       "      <td>chicken, crow, dove, duck, flamingo, gull, haw...</td>\n",
       "    </tr>\n",
       "    <tr>\n",
       "      <th>2</th>\n",
       "      <td>3</td>\n",
       "      <td>5</td>\n",
       "      <td>Reptile</td>\n",
       "      <td>pitviper, seasnake, slowworm, tortoise, tuatara</td>\n",
       "    </tr>\n",
       "    <tr>\n",
       "      <th>3</th>\n",
       "      <td>4</td>\n",
       "      <td>13</td>\n",
       "      <td>Fish</td>\n",
       "      <td>bass, carp, catfish, chub, dogfish, haddock, h...</td>\n",
       "    </tr>\n",
       "    <tr>\n",
       "      <th>4</th>\n",
       "      <td>5</td>\n",
       "      <td>4</td>\n",
       "      <td>Amphibian</td>\n",
       "      <td>frog, frog, newt, toad</td>\n",
       "    </tr>\n",
       "    <tr>\n",
       "      <th>5</th>\n",
       "      <td>6</td>\n",
       "      <td>8</td>\n",
       "      <td>Bug</td>\n",
       "      <td>flea, gnat, honeybee, housefly, ladybird, moth...</td>\n",
       "    </tr>\n",
       "    <tr>\n",
       "      <th>6</th>\n",
       "      <td>7</td>\n",
       "      <td>10</td>\n",
       "      <td>Invertebrate</td>\n",
       "      <td>clam, crab, crayfish, lobster, octopus, scorpi...</td>\n",
       "    </tr>\n",
       "  </tbody>\n",
       "</table>\n",
       "</div>"
      ],
      "text/plain": [
       "   Class_Number  Number_Of_Animal_Species_In_Class    Class_Type  \\\n",
       "0             1                                 41        Mammal   \n",
       "1             2                                 20          Bird   \n",
       "2             3                                  5       Reptile   \n",
       "3             4                                 13          Fish   \n",
       "4             5                                  4     Amphibian   \n",
       "5             6                                  8           Bug   \n",
       "6             7                                 10  Invertebrate   \n",
       "\n",
       "                                        Animal_Names  \n",
       "0  aardvark, antelope, bear, boar, buffalo, calf,...  \n",
       "1  chicken, crow, dove, duck, flamingo, gull, haw...  \n",
       "2    pitviper, seasnake, slowworm, tortoise, tuatara  \n",
       "3  bass, carp, catfish, chub, dogfish, haddock, h...  \n",
       "4                             frog, frog, newt, toad  \n",
       "5  flea, gnat, honeybee, housefly, ladybird, moth...  \n",
       "6  clam, crab, crayfish, lobster, octopus, scorpi...  "
      ]
     },
     "execution_count": 16,
     "metadata": {},
     "output_type": "execute_result"
    }
   ],
   "source": [
    "df2"
   ]
  },
  {
   "cell_type": "code",
   "execution_count": 17,
   "metadata": {},
   "outputs": [
    {
     "data": {
      "text/plain": [
       "array([1, 2, 3, 4, 5, 6, 7])"
      ]
     },
     "execution_count": 17,
     "metadata": {},
     "output_type": "execute_result"
    }
   ],
   "source": [
    "df2[\"Class_Number\"].unique()"
   ]
  },
  {
   "cell_type": "code",
   "execution_count": 13,
   "metadata": {},
   "outputs": [
    {
     "name": "stdout",
     "output_type": "stream",
     "text": [
      "<class 'pandas.core.frame.DataFrame'>\n",
      "RangeIndex: 7 entries, 0 to 6\n",
      "Data columns (total 4 columns):\n",
      " #   Column                             Non-Null Count  Dtype \n",
      "---  ------                             --------------  ----- \n",
      " 0   Class_Number                       7 non-null      int64 \n",
      " 1   Number_Of_Animal_Species_In_Class  7 non-null      int64 \n",
      " 2   Class_Type                         7 non-null      object\n",
      " 3   Animal_Names                       7 non-null      object\n",
      "dtypes: int64(2), object(2)\n",
      "memory usage: 352.0+ bytes\n"
     ]
    }
   ],
   "source": [
    "df2.info()"
   ]
  },
  {
   "cell_type": "code",
   "execution_count": null,
   "metadata": {},
   "outputs": [],
   "source": []
  },
  {
   "cell_type": "code",
   "execution_count": null,
   "metadata": {},
   "outputs": [],
   "source": []
  },
  {
   "cell_type": "code",
   "execution_count": null,
   "metadata": {},
   "outputs": [],
   "source": []
  },
  {
   "cell_type": "markdown",
   "metadata": {
    "id": "brCuSXfMCGON"
   },
   "source": [
    "## Unit 4. 머신러닝\n",
    "\n",
    "본격적으로 들어가기 전에 잠깐 한가지 생각해봅시다\n",
    "\n",
    "지난 시간 우리는 Exploration 2와 fundamental 일부에서 머신러닝을 배운바 있습니다.\n",
    "\n",
    "머신러닝과 딥러닝의 가장 큰 차이는 비선형성의 유무라고 하는데요, 단편적으로 말하면 머신러닝은 선형 데이터에 강하고 비선형 데이터에 비교적 약하다, 라고도 말할 수 있을 것 같습니다.\n",
    "\n",
    "그럼 데이터가 선형인지 비 선형인지는 어떻게 알 수 있을까요?"
   ]
  },
  {
   "cell_type": "markdown",
   "metadata": {
    "id": "S_I35J2NYcUq"
   },
   "source": [
    "## Unit 4-1. EDA\n",
    "\n",
    "유닛 이름에 1이 붙은 이유는 이번 시간에는 Exploration에서 나오는 데이터수집 및 분석 - 모델설계 - 학습 - 평가 순서를 그대로 따라갈 예정이기 때문입니다.\n",
    "\n",
    "우리는 이 데이터에 대해선 지난 시간에 이어 충분히 살펴봤기 때문에 4-1에선 간단하게 이 데이터에 알맞는 모델을 찾는 작업만 해보겠습니다.(실습에선 여러분이 생각하셨을때 필요할 법한 작업을 EDA 과정에 포함해주세요)"
   ]
  },
  {
   "cell_type": "code",
   "execution_count": 49,
   "metadata": {
    "id": "L9cadRxSNixR"
   },
   "outputs": [
    {
     "data": {
      "text/html": [
       "<div>\n",
       "<style scoped>\n",
       "    .dataframe tbody tr th:only-of-type {\n",
       "        vertical-align: middle;\n",
       "    }\n",
       "\n",
       "    .dataframe tbody tr th {\n",
       "        vertical-align: top;\n",
       "    }\n",
       "\n",
       "    .dataframe thead th {\n",
       "        text-align: right;\n",
       "    }\n",
       "</style>\n",
       "<table border=\"1\" class=\"dataframe\">\n",
       "  <thead>\n",
       "    <tr style=\"text-align: right;\">\n",
       "      <th></th>\n",
       "      <th>Rank</th>\n",
       "      <th>Name</th>\n",
       "      <th>Platform</th>\n",
       "      <th>Year</th>\n",
       "      <th>Genre</th>\n",
       "      <th>Publisher</th>\n",
       "      <th>NA_Sales</th>\n",
       "      <th>EU_Sales</th>\n",
       "      <th>JP_Sales</th>\n",
       "      <th>Other_Sales</th>\n",
       "      <th>Global_Sales</th>\n",
       "    </tr>\n",
       "  </thead>\n",
       "  <tbody>\n",
       "    <tr>\n",
       "      <th>0</th>\n",
       "      <td>1</td>\n",
       "      <td>Wii Sports</td>\n",
       "      <td>Wii</td>\n",
       "      <td>2006</td>\n",
       "      <td>Sports</td>\n",
       "      <td>Nintendo</td>\n",
       "      <td>41.49</td>\n",
       "      <td>29.02</td>\n",
       "      <td>3.77</td>\n",
       "      <td>8.46</td>\n",
       "      <td>82.74</td>\n",
       "    </tr>\n",
       "    <tr>\n",
       "      <th>1</th>\n",
       "      <td>2</td>\n",
       "      <td>Super Mario Bros.</td>\n",
       "      <td>NES</td>\n",
       "      <td>1985</td>\n",
       "      <td>Platform</td>\n",
       "      <td>Nintendo</td>\n",
       "      <td>29.08</td>\n",
       "      <td>3.58</td>\n",
       "      <td>6.81</td>\n",
       "      <td>0.77</td>\n",
       "      <td>40.24</td>\n",
       "    </tr>\n",
       "    <tr>\n",
       "      <th>2</th>\n",
       "      <td>3</td>\n",
       "      <td>Mario Kart Wii</td>\n",
       "      <td>Wii</td>\n",
       "      <td>2008</td>\n",
       "      <td>Racing</td>\n",
       "      <td>Nintendo</td>\n",
       "      <td>15.85</td>\n",
       "      <td>12.88</td>\n",
       "      <td>3.79</td>\n",
       "      <td>3.31</td>\n",
       "      <td>35.82</td>\n",
       "    </tr>\n",
       "    <tr>\n",
       "      <th>3</th>\n",
       "      <td>4</td>\n",
       "      <td>Wii Sports Resort</td>\n",
       "      <td>Wii</td>\n",
       "      <td>2009</td>\n",
       "      <td>Sports</td>\n",
       "      <td>Nintendo</td>\n",
       "      <td>15.75</td>\n",
       "      <td>11.01</td>\n",
       "      <td>3.28</td>\n",
       "      <td>2.96</td>\n",
       "      <td>33.00</td>\n",
       "    </tr>\n",
       "    <tr>\n",
       "      <th>4</th>\n",
       "      <td>5</td>\n",
       "      <td>Pokemon Red/Pokemon Blue</td>\n",
       "      <td>GB</td>\n",
       "      <td>1996</td>\n",
       "      <td>Role-Playing</td>\n",
       "      <td>Nintendo</td>\n",
       "      <td>11.27</td>\n",
       "      <td>8.89</td>\n",
       "      <td>10.22</td>\n",
       "      <td>1.00</td>\n",
       "      <td>31.37</td>\n",
       "    </tr>\n",
       "  </tbody>\n",
       "</table>\n",
       "</div>"
      ],
      "text/plain": [
       "   Rank                      Name Platform  Year         Genre Publisher  \\\n",
       "0     1                Wii Sports      Wii  2006        Sports  Nintendo   \n",
       "1     2         Super Mario Bros.      NES  1985      Platform  Nintendo   \n",
       "2     3            Mario Kart Wii      Wii  2008        Racing  Nintendo   \n",
       "3     4         Wii Sports Resort      Wii  2009        Sports  Nintendo   \n",
       "4     5  Pokemon Red/Pokemon Blue       GB  1996  Role-Playing  Nintendo   \n",
       "\n",
       "   NA_Sales  EU_Sales  JP_Sales  Other_Sales  Global_Sales  \n",
       "0     41.49     29.02      3.77         8.46         82.74  \n",
       "1     29.08      3.58      6.81         0.77         40.24  \n",
       "2     15.85     12.88      3.79         3.31         35.82  \n",
       "3     15.75     11.01      3.28         2.96         33.00  \n",
       "4     11.27      8.89     10.22         1.00         31.37  "
      ]
     },
     "execution_count": 49,
     "metadata": {},
     "output_type": "execute_result"
    }
   ],
   "source": [
    "df.head()"
   ]
  },
  {
   "cell_type": "markdown",
   "metadata": {
    "id": "FkITvHKKe0Bb"
   },
   "source": [
    "이 중에서 우리는 NA_Sales와 EU_Sales만을 우선 그려보겠습니다."
   ]
  },
  {
   "cell_type": "code",
   "execution_count": 50,
   "metadata": {
    "id": "tvPX8oI6Yb6I"
   },
   "outputs": [
    {
     "data": {
      "image/png": "[encoded data removed]",
      "text/plain": [
       "<Figure size 432x288 with 1 Axes>"
      ]
     },
     "metadata": {
      "needs_background": "light"
     },
     "output_type": "display_data"
    }
   ],
   "source": [
    "plt.scatter(df['NA_Sales'], df['EU_Sales'])\n",
    "plt.show()"
   ]
  },
  {
   "cell_type": "markdown",
   "metadata": {
    "id": "lb_E4iYXfFtM"
   },
   "source": [
    "점이 너무 몰려있어 경향성이 분명하게 보이진 않는군요.\n",
    "\n",
    "범위를 제한해서 점이 몰려있는 곳을 살펴보겠습니다."
   ]
  },
  {
   "cell_type": "code",
   "execution_count": 55,
   "metadata": {
    "scrolled": true
   },
   "outputs": [
    {
     "data": {
      "text/html": [
       "<div>\n",
       "<style scoped>\n",
       "    .dataframe tbody tr th:only-of-type {\n",
       "        vertical-align: middle;\n",
       "    }\n",
       "\n",
       "    .dataframe tbody tr th {\n",
       "        vertical-align: top;\n",
       "    }\n",
       "\n",
       "    .dataframe thead th {\n",
       "        text-align: right;\n",
       "    }\n",
       "</style>\n",
       "<table border=\"1\" class=\"dataframe\">\n",
       "  <thead>\n",
       "    <tr style=\"text-align: right;\">\n",
       "      <th></th>\n",
       "      <th>Rank</th>\n",
       "      <th>Name</th>\n",
       "      <th>Platform</th>\n",
       "      <th>Year</th>\n",
       "      <th>Genre</th>\n",
       "      <th>Publisher</th>\n",
       "      <th>NA_Sales</th>\n",
       "      <th>EU_Sales</th>\n",
       "      <th>JP_Sales</th>\n",
       "      <th>Other_Sales</th>\n",
       "      <th>Global_Sales</th>\n",
       "    </tr>\n",
       "  </thead>\n",
       "  <tbody>\n",
       "    <tr>\n",
       "      <th>2</th>\n",
       "      <td>3</td>\n",
       "      <td>Mario Kart Wii</td>\n",
       "      <td>Wii</td>\n",
       "      <td>2008</td>\n",
       "      <td>Racing</td>\n",
       "      <td>Nintendo</td>\n",
       "      <td>15.85</td>\n",
       "      <td>12.88</td>\n",
       "      <td>3.79</td>\n",
       "      <td>3.31</td>\n",
       "      <td>35.82</td>\n",
       "    </tr>\n",
       "    <tr>\n",
       "      <th>3</th>\n",
       "      <td>4</td>\n",
       "      <td>Wii Sports Resort</td>\n",
       "      <td>Wii</td>\n",
       "      <td>2009</td>\n",
       "      <td>Sports</td>\n",
       "      <td>Nintendo</td>\n",
       "      <td>15.75</td>\n",
       "      <td>11.01</td>\n",
       "      <td>3.28</td>\n",
       "      <td>2.96</td>\n",
       "      <td>33.00</td>\n",
       "    </tr>\n",
       "    <tr>\n",
       "      <th>4</th>\n",
       "      <td>5</td>\n",
       "      <td>Pokemon Red/Pokemon Blue</td>\n",
       "      <td>GB</td>\n",
       "      <td>1996</td>\n",
       "      <td>Role-Playing</td>\n",
       "      <td>Nintendo</td>\n",
       "      <td>11.27</td>\n",
       "      <td>8.89</td>\n",
       "      <td>10.22</td>\n",
       "      <td>1.00</td>\n",
       "      <td>31.37</td>\n",
       "    </tr>\n",
       "    <tr>\n",
       "      <th>6</th>\n",
       "      <td>7</td>\n",
       "      <td>New Super Mario Bros.</td>\n",
       "      <td>DS</td>\n",
       "      <td>2006</td>\n",
       "      <td>Platform</td>\n",
       "      <td>Nintendo</td>\n",
       "      <td>11.38</td>\n",
       "      <td>9.23</td>\n",
       "      <td>6.50</td>\n",
       "      <td>2.90</td>\n",
       "      <td>30.01</td>\n",
       "    </tr>\n",
       "    <tr>\n",
       "      <th>7</th>\n",
       "      <td>8</td>\n",
       "      <td>Wii Play</td>\n",
       "      <td>Wii</td>\n",
       "      <td>2006</td>\n",
       "      <td>Misc</td>\n",
       "      <td>Nintendo</td>\n",
       "      <td>14.03</td>\n",
       "      <td>9.20</td>\n",
       "      <td>2.93</td>\n",
       "      <td>2.85</td>\n",
       "      <td>29.02</td>\n",
       "    </tr>\n",
       "    <tr>\n",
       "      <th>...</th>\n",
       "      <td>...</td>\n",
       "      <td>...</td>\n",
       "      <td>...</td>\n",
       "      <td>...</td>\n",
       "      <td>...</td>\n",
       "      <td>...</td>\n",
       "      <td>...</td>\n",
       "      <td>...</td>\n",
       "      <td>...</td>\n",
       "      <td>...</td>\n",
       "      <td>...</td>\n",
       "    </tr>\n",
       "    <tr>\n",
       "      <th>16591</th>\n",
       "      <td>16594</td>\n",
       "      <td>Myst IV: Revelation</td>\n",
       "      <td>PC</td>\n",
       "      <td>2004</td>\n",
       "      <td>Adventure</td>\n",
       "      <td>Ubisoft</td>\n",
       "      <td>0.01</td>\n",
       "      <td>NaN</td>\n",
       "      <td>NaN</td>\n",
       "      <td>NaN</td>\n",
       "      <td>0.01</td>\n",
       "    </tr>\n",
       "    <tr>\n",
       "      <th>16592</th>\n",
       "      <td>16595</td>\n",
       "      <td>Plushees</td>\n",
       "      <td>DS</td>\n",
       "      <td>2008</td>\n",
       "      <td>Simulation</td>\n",
       "      <td>Destineer</td>\n",
       "      <td>0.01</td>\n",
       "      <td>NaN</td>\n",
       "      <td>NaN</td>\n",
       "      <td>NaN</td>\n",
       "      <td>0.01</td>\n",
       "    </tr>\n",
       "    <tr>\n",
       "      <th>16593</th>\n",
       "      <td>16596</td>\n",
       "      <td>Woody Woodpecker in Crazy Castle 5</td>\n",
       "      <td>GBA</td>\n",
       "      <td>2002</td>\n",
       "      <td>Platform</td>\n",
       "      <td>Kemco</td>\n",
       "      <td>0.01</td>\n",
       "      <td>NaN</td>\n",
       "      <td>NaN</td>\n",
       "      <td>NaN</td>\n",
       "      <td>0.01</td>\n",
       "    </tr>\n",
       "    <tr>\n",
       "      <th>16594</th>\n",
       "      <td>16597</td>\n",
       "      <td>Men in Black II: Alien Escape</td>\n",
       "      <td>GC</td>\n",
       "      <td>2003</td>\n",
       "      <td>Shooter</td>\n",
       "      <td>Infogrames</td>\n",
       "      <td>0.01</td>\n",
       "      <td>NaN</td>\n",
       "      <td>NaN</td>\n",
       "      <td>NaN</td>\n",
       "      <td>0.01</td>\n",
       "    </tr>\n",
       "    <tr>\n",
       "      <th>16597</th>\n",
       "      <td>16600</td>\n",
       "      <td>Spirits &amp; Spells</td>\n",
       "      <td>GBA</td>\n",
       "      <td>2003</td>\n",
       "      <td>Platform</td>\n",
       "      <td>Wanadoo</td>\n",
       "      <td>0.01</td>\n",
       "      <td>NaN</td>\n",
       "      <td>NaN</td>\n",
       "      <td>NaN</td>\n",
       "      <td>0.01</td>\n",
       "    </tr>\n",
       "  </tbody>\n",
       "</table>\n",
       "<p>12095 rows × 11 columns</p>\n",
       "</div>"
      ],
      "text/plain": [
       "        Rank                                Name Platform  Year         Genre  \\\n",
       "2          3                      Mario Kart Wii      Wii  2008        Racing   \n",
       "3          4                   Wii Sports Resort      Wii  2009        Sports   \n",
       "4          5            Pokemon Red/Pokemon Blue       GB  1996  Role-Playing   \n",
       "6          7               New Super Mario Bros.       DS  2006      Platform   \n",
       "7          8                            Wii Play      Wii  2006          Misc   \n",
       "...      ...                                 ...      ...   ...           ...   \n",
       "16591  16594                 Myst IV: Revelation       PC  2004     Adventure   \n",
       "16592  16595                            Plushees       DS  2008    Simulation   \n",
       "16593  16596  Woody Woodpecker in Crazy Castle 5      GBA  2002      Platform   \n",
       "16594  16597       Men in Black II: Alien Escape       GC  2003       Shooter   \n",
       "16597  16600                    Spirits & Spells      GBA  2003      Platform   \n",
       "\n",
       "        Publisher  NA_Sales  EU_Sales  JP_Sales  Other_Sales  Global_Sales  \n",
       "2        Nintendo     15.85     12.88      3.79         3.31         35.82  \n",
       "3        Nintendo     15.75     11.01      3.28         2.96         33.00  \n",
       "4        Nintendo     11.27      8.89     10.22         1.00         31.37  \n",
       "6        Nintendo     11.38      9.23      6.50         2.90         30.01  \n",
       "7        Nintendo     14.03      9.20      2.93         2.85         29.02  \n",
       "...           ...       ...       ...       ...          ...           ...  \n",
       "16591     Ubisoft      0.01       NaN       NaN          NaN          0.01  \n",
       "16592   Destineer      0.01       NaN       NaN          NaN          0.01  \n",
       "16593       Kemco      0.01       NaN       NaN          NaN          0.01  \n",
       "16594  Infogrames      0.01       NaN       NaN          NaN          0.01  \n",
       "16597     Wanadoo      0.01       NaN       NaN          NaN          0.01  \n",
       "\n",
       "[12095 rows x 11 columns]"
      ]
     },
     "execution_count": 55,
     "metadata": {},
     "output_type": "execute_result"
    }
   ],
   "source": [
    "df[df['NA_Sales'] < 20]"
   ]
  },
  {
   "cell_type": "code",
   "execution_count": 53,
   "metadata": {
    "scrolled": true
   },
   "outputs": [
    {
     "data": {
      "text/plain": [
       "2        12.88\n",
       "3        11.01\n",
       "4         8.89\n",
       "6         9.23\n",
       "7         9.20\n",
       "         ...  \n",
       "16591      NaN\n",
       "16592      NaN\n",
       "16593      NaN\n",
       "16594      NaN\n",
       "16597      NaN\n",
       "Name: EU_Sales, Length: 12095, dtype: float64"
      ]
     },
     "execution_count": 53,
     "metadata": {},
     "output_type": "execute_result"
    }
   ],
   "source": [
    "df[df['NA_Sales'] < 20]['EU_Sales']"
   ]
  },
  {
   "cell_type": "code",
   "execution_count": 51,
   "metadata": {
    "id": "pg_uh1D4ezgN",
    "scrolled": true
   },
   "outputs": [
    {
     "data": {
      "image/png": "[encoded data removed]",
      "text/plain": [
       "<Figure size 432x288 with 1 Axes>"
      ]
     },
     "metadata": {
      "needs_background": "light"
     },
     "output_type": "display_data"
    }
   ],
   "source": [
    "plt.scatter(df[df['NA_Sales'] < 20]['NA_Sales'], df[df['NA_Sales'] < 20]['EU_Sales'])\n",
    "plt.show()"
   ]
  },
  {
   "cell_type": "markdown",
   "metadata": {
    "id": "tYBYDf5NZyU5"
   },
   "source": [
    "반대로 너무 작은 값들을 제하고 살펴보겠습니다."
   ]
  },
  {
   "cell_type": "code",
   "execution_count": 52,
   "metadata": {
    "id": "jZq8_IRaZmuv"
   },
   "outputs": [
    {
     "data": {
      "image/png": "[encoded data removed]",
      "text/plain": [
       "<Figure size 432x288 with 1 Axes>"
      ]
     },
     "metadata": {
      "needs_background": "light"
     },
     "output_type": "display_data"
    }
   ],
   "source": [
    "plt.scatter(df[df['NA_Sales'] > 3]['NA_Sales'], df[df['NA_Sales'] > 3]['EU_Sales'])\n",
    "plt.show()"
   ]
  },
  {
   "cell_type": "markdown",
   "metadata": {
    "id": "rmyg3qJciVvo"
   },
   "source": [
    "확대해보니 분명하진 않지만 NA 지역과 EU 지역 사이에는 어떤 연관성(선형성)이 있어 보입니다.\n",
    "\n",
    "데이터가 얼마나 선형인지는 어떻게 수치화할 수 있을까요?\n",
    "\n",
    "여러가지 방법이 있겠지만 바로 아래서 간단한 함수를 통해 살펴보겠습니다."
   ]
  },
  {
   "cell_type": "code",
   "execution_count": 56,
   "metadata": {
    "id": "oGb-P0S96LUg"
   },
   "outputs": [
    {
     "data": {
      "text/html": [
       "<div>\n",
       "<style scoped>\n",
       "    .dataframe tbody tr th:only-of-type {\n",
       "        vertical-align: middle;\n",
       "    }\n",
       "\n",
       "    .dataframe tbody tr th {\n",
       "        vertical-align: top;\n",
       "    }\n",
       "\n",
       "    .dataframe thead th {\n",
       "        text-align: right;\n",
       "    }\n",
       "</style>\n",
       "<table border=\"1\" class=\"dataframe\">\n",
       "  <thead>\n",
       "    <tr style=\"text-align: right;\">\n",
       "      <th></th>\n",
       "      <th>Rank</th>\n",
       "      <th>NA_Sales</th>\n",
       "      <th>EU_Sales</th>\n",
       "      <th>JP_Sales</th>\n",
       "      <th>Other_Sales</th>\n",
       "      <th>Global_Sales</th>\n",
       "    </tr>\n",
       "  </thead>\n",
       "  <tbody>\n",
       "    <tr>\n",
       "      <th>Rank</th>\n",
       "      <td>1.000000</td>\n",
       "      <td>-0.406506</td>\n",
       "      <td>-0.386400</td>\n",
       "      <td>-0.388086</td>\n",
       "      <td>-0.338654</td>\n",
       "      <td>-0.427397</td>\n",
       "    </tr>\n",
       "    <tr>\n",
       "      <th>NA_Sales</th>\n",
       "      <td>-0.406506</td>\n",
       "      <td>1.000000</td>\n",
       "      <td>0.763417</td>\n",
       "      <td>0.500311</td>\n",
       "      <td>0.619445</td>\n",
       "      <td>0.943535</td>\n",
       "    </tr>\n",
       "    <tr>\n",
       "      <th>EU_Sales</th>\n",
       "      <td>-0.386400</td>\n",
       "      <td>0.763417</td>\n",
       "      <td>1.000000</td>\n",
       "      <td>0.483069</td>\n",
       "      <td>0.738459</td>\n",
       "      <td>0.905477</td>\n",
       "    </tr>\n",
       "    <tr>\n",
       "      <th>JP_Sales</th>\n",
       "      <td>-0.388086</td>\n",
       "      <td>0.500311</td>\n",
       "      <td>0.483069</td>\n",
       "      <td>1.000000</td>\n",
       "      <td>0.272884</td>\n",
       "      <td>0.623417</td>\n",
       "    </tr>\n",
       "    <tr>\n",
       "      <th>Other_Sales</th>\n",
       "      <td>-0.338654</td>\n",
       "      <td>0.619445</td>\n",
       "      <td>0.738459</td>\n",
       "      <td>0.272884</td>\n",
       "      <td>1.000000</td>\n",
       "      <td>0.740327</td>\n",
       "    </tr>\n",
       "    <tr>\n",
       "      <th>Global_Sales</th>\n",
       "      <td>-0.427397</td>\n",
       "      <td>0.943535</td>\n",
       "      <td>0.905477</td>\n",
       "      <td>0.623417</td>\n",
       "      <td>0.740327</td>\n",
       "      <td>1.000000</td>\n",
       "    </tr>\n",
       "  </tbody>\n",
       "</table>\n",
       "</div>"
      ],
      "text/plain": [
       "                  Rank  NA_Sales  EU_Sales  JP_Sales  Other_Sales  \\\n",
       "Rank          1.000000 -0.406506 -0.386400 -0.388086    -0.338654   \n",
       "NA_Sales     -0.406506  1.000000  0.763417  0.500311     0.619445   \n",
       "EU_Sales     -0.386400  0.763417  1.000000  0.483069     0.738459   \n",
       "JP_Sales     -0.388086  0.500311  0.483069  1.000000     0.272884   \n",
       "Other_Sales  -0.338654  0.619445  0.738459  0.272884     1.000000   \n",
       "Global_Sales -0.427397  0.943535  0.905477  0.623417     0.740327   \n",
       "\n",
       "              Global_Sales  \n",
       "Rank             -0.427397  \n",
       "NA_Sales          0.943535  \n",
       "EU_Sales          0.905477  \n",
       "JP_Sales          0.623417  \n",
       "Other_Sales       0.740327  \n",
       "Global_Sales      1.000000  "
      ]
     },
     "execution_count": 56,
     "metadata": {},
     "output_type": "execute_result"
    }
   ],
   "source": [
    "df.corr()"
   ]
  },
  {
   "cell_type": "markdown",
   "metadata": {
    "id": "COR2giXY6fZQ"
   },
   "source": [
    "df.corr() 함수는 숫자형 데이터인 항목간 비교해줍니다.\n",
    "\n",
    "물론 아래와 같이 필요한 항목만을 뽑아서 볼 수도 있습니다."
   ]
  },
  {
   "cell_type": "code",
   "execution_count": 57,
   "metadata": {
    "id": "zfgr9JMY40dI"
   },
   "outputs": [
    {
     "data": {
      "text/html": [
       "<div>\n",
       "<style scoped>\n",
       "    .dataframe tbody tr th:only-of-type {\n",
       "        vertical-align: middle;\n",
       "    }\n",
       "\n",
       "    .dataframe tbody tr th {\n",
       "        vertical-align: top;\n",
       "    }\n",
       "\n",
       "    .dataframe thead th {\n",
       "        text-align: right;\n",
       "    }\n",
       "</style>\n",
       "<table border=\"1\" class=\"dataframe\">\n",
       "  <thead>\n",
       "    <tr style=\"text-align: right;\">\n",
       "      <th></th>\n",
       "      <th>NA_Sales</th>\n",
       "      <th>EU_Sales</th>\n",
       "    </tr>\n",
       "  </thead>\n",
       "  <tbody>\n",
       "    <tr>\n",
       "      <th>NA_Sales</th>\n",
       "      <td>1.000000</td>\n",
       "      <td>0.763417</td>\n",
       "    </tr>\n",
       "    <tr>\n",
       "      <th>EU_Sales</th>\n",
       "      <td>0.763417</td>\n",
       "      <td>1.000000</td>\n",
       "    </tr>\n",
       "  </tbody>\n",
       "</table>\n",
       "</div>"
      ],
      "text/plain": [
       "          NA_Sales  EU_Sales\n",
       "NA_Sales  1.000000  0.763417\n",
       "EU_Sales  0.763417  1.000000"
      ]
     },
     "execution_count": 57,
     "metadata": {},
     "output_type": "execute_result"
    }
   ],
   "source": [
    "df[['NA_Sales', 'EU_Sales']].corr()"
   ]
  },
  {
   "cell_type": "markdown",
   "metadata": {
    "id": "6RpbapWBAM0f"
   },
   "source": [
    "0.76이면 강한 상관관계를 갖고 있군요.\n",
    "\n",
    "보통 상관관계라고하면 피어슨 상관관계(Pearson correlation coefficient)를 많이 말합니다.\n",
    "\n",
    "위 corr() 함수 소개에서도 설명을 드리진 않았지만 method 파라미터의 기본값은 'pearson'입니다.\n",
    "\n",
    "그럼 피어슨 상관 관계 말고 다른 상관관계는 어떤게 있을지 아래 블로그를 보고 살펴봅시다."
   ]
  },
  {
   "cell_type": "markdown",
   "metadata": {
    "id": "0Gj5BumOCata"
   },
   "source": [
    "Pearson, Spearman, Kendall 상관 계수의 차이\n",
    "\n",
    "https://bskyvision.com/116\n",
    "\n",
    "Kendall 상관 계수\n",
    "\n",
    "https://medium.com/@leejukyung/%EC%BC%84%EB%8B%AC%ED%83%80%EC%9A%B0-kendalltau-18fb90ba4e7"
   ]
  },
  {
   "cell_type": "markdown",
   "metadata": {
    "id": "cKx4vpYPVLgs"
   },
   "source": [
    "### 조별과제\n",
    "\n",
    "아래 링크는 kaggle 데이터를 모아둔 페이지입니다.\n",
    "\n",
    "https://www.kaggle.com/datasets\n",
    "\n",
    "여기에선 trending dataset이나 popular dataset도 제공하지만 조금 더 내려보면 사진과 같이 각각의 카테고리에 따라 제공하기도 합니다.\n",
    "\n",
    "![kaggle_dataset.jpg](data:image/jpeg;base64,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)\n",
    "\n",
    "조별로 카테고리를 정하고 그 중 하나의 데이터 셋을 골라서 해당 데이터는 어떤 상관관계가 있을지 생각해봅시다.\n",
    "\n",
    "이미지 같은 데이터셋을 골랐다고 하더라도 그 안에는 강하고 약하고를 떠나 분명 어떤 관계가 있을 것입니다."
   ]
  },
  {
   "cell_type": "code",
   "execution_count": null,
   "metadata": {
    "id": "eTUnXoSrhOnl"
   },
   "outputs": [],
   "source": []
  },
  {
   "cell_type": "code",
   "execution_count": null,
   "metadata": {
    "id": "hoqDCRwuhOhT"
   },
   "outputs": [],
   "source": []
  },
  {
   "cell_type": "markdown",
   "metadata": {
    "id": "bJEdd8UNabuH"
   },
   "source": [
    "## Unit 4-2. 데이터 전처리\n",
    "\n",
    "데이터 전처리는 각각의 분야나 업무에 따라 다양한 작업을 내포하고 있겠지만 인공지능 분야에서는 모델이 받아들일 수 있도록 데이터를 정제한다는 의미가 포함되어있습니다.(당연히 다른 의미가 없다는 것은 아닙니다)\n",
    "\n",
    "해당 작업을 해보도록 하겠습니다."
   ]
  },
  {
   "cell_type": "markdown",
   "metadata": {
    "id": "jipn6wNMbfOL"
   },
   "source": [
    "train set과 test set은 NA_Sales와 EU_Sales를 예측변수(value)로 삼고 JP_Sales를 정답(label)로 하는 데이터로 만들어보겠습니다."
   ]
  },
  {
   "cell_type": "code",
   "execution_count": 59,
   "metadata": {},
   "outputs": [
    {
     "data": {
      "text/plain": [
       "12099"
      ]
     },
     "execution_count": 59,
     "metadata": {},
     "output_type": "execute_result"
    }
   ],
   "source": [
    "df[\"NA_Sales\"].notnull().sum()"
   ]
  },
  {
   "cell_type": "code",
   "execution_count": 66,
   "metadata": {},
   "outputs": [
    {
     "ename": "IndexingError",
     "evalue": "Too many indexers",
     "output_type": "error",
     "traceback": [
      "\u001b[0;31m---------------------------------------------------------------------------\u001b[0m",
      "\u001b[0;31mIndexingError\u001b[0m                             Traceback (most recent call last)",
      "\u001b[0;32m/tmp/ipykernel_111/3387595141.py\u001b[0m in \u001b[0;36m<module>\u001b[0;34m\u001b[0m\n\u001b[0;32m----> 1\u001b[0;31m \u001b[0mdf\u001b[0m\u001b[0;34m[\u001b[0m\u001b[0;34m\"JP_Sales\"\u001b[0m\u001b[0;34m]\u001b[0m\u001b[0;34m.\u001b[0m\u001b[0mnotnull\u001b[0m\u001b[0;34m(\u001b[0m\u001b[0;34m)\u001b[0m\u001b[0;34m.\u001b[0m\u001b[0mloc\u001b[0m\u001b[0;34m[\u001b[0m\u001b[0;34m:\u001b[0m\u001b[0;34m,\u001b[0m \u001b[0;34m[\u001b[0m\u001b[0;34m\"NA_Sales\"\u001b[0m\u001b[0;34m,\u001b[0m \u001b[0;34m\"EU_Sales\"\u001b[0m\u001b[0;34m,\u001b[0m \u001b[0;34m\"JP_Sales\"\u001b[0m\u001b[0;34m]\u001b[0m\u001b[0;34m]\u001b[0m\u001b[0;34m\u001b[0m\u001b[0;34m\u001b[0m\u001b[0m\n\u001b[0m",
      "\u001b[0;32m/opt/conda/lib/python3.9/site-packages/pandas/core/indexing.py\u001b[0m in \u001b[0;36m__getitem__\u001b[0;34m(self, key)\u001b[0m\n\u001b[1;32m    923\u001b[0m                 \u001b[0;32mwith\u001b[0m \u001b[0msuppress\u001b[0m\u001b[0;34m(\u001b[0m\u001b[0mKeyError\u001b[0m\u001b[0;34m,\u001b[0m \u001b[0mIndexError\u001b[0m\u001b[0;34m)\u001b[0m\u001b[0;34m:\u001b[0m\u001b[0;34m\u001b[0m\u001b[0;34m\u001b[0m\u001b[0m\n\u001b[1;32m    924\u001b[0m                     \u001b[0;32mreturn\u001b[0m \u001b[0mself\u001b[0m\u001b[0;34m.\u001b[0m\u001b[0mobj\u001b[0m\u001b[0;34m.\u001b[0m\u001b[0m_get_value\u001b[0m\u001b[0;34m(\u001b[0m\u001b[0;34m*\u001b[0m\u001b[0mkey\u001b[0m\u001b[0;34m,\u001b[0m \u001b[0mtakeable\u001b[0m\u001b[0;34m=\u001b[0m\u001b[0mself\u001b[0m\u001b[0;34m.\u001b[0m\u001b[0m_takeable\u001b[0m\u001b[0;34m)\u001b[0m\u001b[0;34m\u001b[0m\u001b[0;34m\u001b[0m\u001b[0m\n\u001b[0;32m--> 925\u001b[0;31m             \u001b[0;32mreturn\u001b[0m \u001b[0mself\u001b[0m\u001b[0;34m.\u001b[0m\u001b[0m_getitem_tuple\u001b[0m\u001b[0;34m(\u001b[0m\u001b[0mkey\u001b[0m\u001b[0;34m)\u001b[0m\u001b[0;34m\u001b[0m\u001b[0;34m\u001b[0m\u001b[0m\n\u001b[0m\u001b[1;32m    926\u001b[0m         \u001b[0;32melse\u001b[0m\u001b[0;34m:\u001b[0m\u001b[0;34m\u001b[0m\u001b[0;34m\u001b[0m\u001b[0m\n\u001b[1;32m    927\u001b[0m             \u001b[0;31m# we by definition only have the 0th axis\u001b[0m\u001b[0;34m\u001b[0m\u001b[0;34m\u001b[0m\u001b[0m\n",
      "\u001b[0;32m/opt/conda/lib/python3.9/site-packages/pandas/core/indexing.py\u001b[0m in \u001b[0;36m_getitem_tuple\u001b[0;34m(self, tup)\u001b[0m\n\u001b[1;32m   1101\u001b[0m \u001b[0;34m\u001b[0m\u001b[0m\n\u001b[1;32m   1102\u001b[0m         \u001b[0;31m# no multi-index, so validate all of the indexers\u001b[0m\u001b[0;34m\u001b[0m\u001b[0;34m\u001b[0m\u001b[0m\n\u001b[0;32m-> 1103\u001b[0;31m         \u001b[0mself\u001b[0m\u001b[0;34m.\u001b[0m\u001b[0m_has_valid_tuple\u001b[0m\u001b[0;34m(\u001b[0m\u001b[0mtup\u001b[0m\u001b[0;34m)\u001b[0m\u001b[0;34m\u001b[0m\u001b[0;34m\u001b[0m\u001b[0m\n\u001b[0m\u001b[1;32m   1104\u001b[0m \u001b[0;34m\u001b[0m\u001b[0m\n\u001b[1;32m   1105\u001b[0m         \u001b[0;31m# ugly hack for GH #836\u001b[0m\u001b[0;34m\u001b[0m\u001b[0;34m\u001b[0m\u001b[0m\n",
      "\u001b[0;32m/opt/conda/lib/python3.9/site-packages/pandas/core/indexing.py\u001b[0m in \u001b[0;36m_has_valid_tuple\u001b[0;34m(self, key)\u001b[0m\n\u001b[1;32m    749\u001b[0m         \u001b[0mCheck\u001b[0m \u001b[0mthe\u001b[0m \u001b[0mkey\u001b[0m \u001b[0;32mfor\u001b[0m \u001b[0mvalid\u001b[0m \u001b[0mkeys\u001b[0m \u001b[0macross\u001b[0m \u001b[0mmy\u001b[0m \u001b[0mindexer\u001b[0m\u001b[0;34m.\u001b[0m\u001b[0;34m\u001b[0m\u001b[0;34m\u001b[0m\u001b[0m\n\u001b[1;32m    750\u001b[0m         \"\"\"\n\u001b[0;32m--> 751\u001b[0;31m         \u001b[0mself\u001b[0m\u001b[0;34m.\u001b[0m\u001b[0m_validate_key_length\u001b[0m\u001b[0;34m(\u001b[0m\u001b[0mkey\u001b[0m\u001b[0;34m)\u001b[0m\u001b[0;34m\u001b[0m\u001b[0;34m\u001b[0m\u001b[0m\n\u001b[0m\u001b[1;32m    752\u001b[0m         \u001b[0;32mfor\u001b[0m \u001b[0mi\u001b[0m\u001b[0;34m,\u001b[0m \u001b[0mk\u001b[0m \u001b[0;32min\u001b[0m \u001b[0menumerate\u001b[0m\u001b[0;34m(\u001b[0m\u001b[0mkey\u001b[0m\u001b[0;34m)\u001b[0m\u001b[0;34m:\u001b[0m\u001b[0;34m\u001b[0m\u001b[0;34m\u001b[0m\u001b[0m\n\u001b[1;32m    753\u001b[0m             \u001b[0;32mtry\u001b[0m\u001b[0;34m:\u001b[0m\u001b[0;34m\u001b[0m\u001b[0;34m\u001b[0m\u001b[0m\n",
      "\u001b[0;32m/opt/conda/lib/python3.9/site-packages/pandas/core/indexing.py\u001b[0m in \u001b[0;36m_validate_key_length\u001b[0;34m(self, key)\u001b[0m\n\u001b[1;32m    790\u001b[0m     \u001b[0;32mdef\u001b[0m \u001b[0m_validate_key_length\u001b[0m\u001b[0;34m(\u001b[0m\u001b[0mself\u001b[0m\u001b[0;34m,\u001b[0m \u001b[0mkey\u001b[0m\u001b[0;34m:\u001b[0m \u001b[0mSequence\u001b[0m\u001b[0;34m[\u001b[0m\u001b[0mAny\u001b[0m\u001b[0;34m]\u001b[0m\u001b[0;34m)\u001b[0m \u001b[0;34m->\u001b[0m \u001b[0;32mNone\u001b[0m\u001b[0;34m:\u001b[0m\u001b[0;34m\u001b[0m\u001b[0;34m\u001b[0m\u001b[0m\n\u001b[1;32m    791\u001b[0m         \u001b[0;32mif\u001b[0m \u001b[0mlen\u001b[0m\u001b[0;34m(\u001b[0m\u001b[0mkey\u001b[0m\u001b[0;34m)\u001b[0m \u001b[0;34m>\u001b[0m \u001b[0mself\u001b[0m\u001b[0;34m.\u001b[0m\u001b[0mndim\u001b[0m\u001b[0;34m:\u001b[0m\u001b[0;34m\u001b[0m\u001b[0;34m\u001b[0m\u001b[0m\n\u001b[0;32m--> 792\u001b[0;31m             \u001b[0;32mraise\u001b[0m \u001b[0mIndexingError\u001b[0m\u001b[0;34m(\u001b[0m\u001b[0;34m\"Too many indexers\"\u001b[0m\u001b[0;34m)\u001b[0m\u001b[0;34m\u001b[0m\u001b[0;34m\u001b[0m\u001b[0m\n\u001b[0m\u001b[1;32m    793\u001b[0m \u001b[0;34m\u001b[0m\u001b[0m\n\u001b[1;32m    794\u001b[0m     \u001b[0;32mdef\u001b[0m \u001b[0m_getitem_tuple_same_dim\u001b[0m\u001b[0;34m(\u001b[0m\u001b[0mself\u001b[0m\u001b[0;34m,\u001b[0m \u001b[0mtup\u001b[0m\u001b[0;34m:\u001b[0m \u001b[0mtuple\u001b[0m\u001b[0;34m)\u001b[0m\u001b[0;34m:\u001b[0m\u001b[0;34m\u001b[0m\u001b[0;34m\u001b[0m\u001b[0m\n",
      "\u001b[0;31mIndexingError\u001b[0m: Too many indexers"
     ]
    }
   ],
   "source": [
    "df[\"JP_Sales\"].notnull().loc[:, [\"NA_Sales\", \"EU_Sales\", \"JP_Sales\"]]"
   ]
  },
  {
   "cell_type": "code",
   "execution_count": 9,
   "metadata": {
    "id": "ec-8bzsKNisI"
   },
   "outputs": [],
   "source": [
    "# 실은 맨 뒤에 .loc[:, [\"NA_Sales\", \"EU_Sales\", \"JP_Sales\"]] 부분은 없어도 되지만 편의상 넣었습니다.\n",
    "\n",
    "train_data = df[df[\"NA_Sales\"].notnull() & df[\"EU_Sales\"].notnull() & df[\"JP_Sales\"].notnull()].loc[:, [\"NA_Sales\", \"EU_Sales\", \"JP_Sales\"]]\n",
    "\n",
    "target_data = df[df[\"NA_Sales\"].notnull() & df[\"EU_Sales\"].notnull() & df[\"JP_Sales\"].isnull()].loc[:, [\"NA_Sales\", \"EU_Sales\", \"JP_Sales\"]]"
   ]
  },
  {
   "cell_type": "code",
   "execution_count": 68,
   "metadata": {
    "id": "ztAvbdBXbSEA"
   },
   "outputs": [
    {
     "name": "stdout",
     "output_type": "stream",
     "text": [
      "<class 'pandas.core.frame.DataFrame'>\n",
      "Int64Index: 2439 entries, 0 to 14301\n",
      "Data columns (total 3 columns):\n",
      " #   Column    Non-Null Count  Dtype  \n",
      "---  ------    --------------  -----  \n",
      " 0   NA_Sales  2439 non-null   float64\n",
      " 1   EU_Sales  2439 non-null   float64\n",
      " 2   JP_Sales  2439 non-null   float64\n",
      "dtypes: float64(3)\n",
      "memory usage: 76.2 KB\n"
     ]
    }
   ],
   "source": [
    "train_data.info()"
   ]
  },
  {
   "cell_type": "code",
   "execution_count": 69,
   "metadata": {
    "id": "VHGg2mBSbR8A"
   },
   "outputs": [
    {
     "name": "stdout",
     "output_type": "stream",
     "text": [
      "<class 'pandas.core.frame.DataFrame'>\n",
      "Int64Index: 7305 entries, 60 to 16284\n",
      "Data columns (total 3 columns):\n",
      " #   Column    Non-Null Count  Dtype  \n",
      "---  ------    --------------  -----  \n",
      " 0   NA_Sales  7305 non-null   float64\n",
      " 1   EU_Sales  7305 non-null   float64\n",
      " 2   JP_Sales  0 non-null      float64\n",
      "dtypes: float64(3)\n",
      "memory usage: 228.3 KB\n"
     ]
    }
   ],
   "source": [
    "target_data.info()"
   ]
  },
  {
   "cell_type": "code",
   "execution_count": 70,
   "metadata": {
    "id": "bsoYHSp9Nimy"
   },
   "outputs": [
    {
     "data": {
      "text/html": [
       "<div>\n",
       "<style scoped>\n",
       "    .dataframe tbody tr th:only-of-type {\n",
       "        vertical-align: middle;\n",
       "    }\n",
       "\n",
       "    .dataframe tbody tr th {\n",
       "        vertical-align: top;\n",
       "    }\n",
       "\n",
       "    .dataframe thead th {\n",
       "        text-align: right;\n",
       "    }\n",
       "</style>\n",
       "<table border=\"1\" class=\"dataframe\">\n",
       "  <thead>\n",
       "    <tr style=\"text-align: right;\">\n",
       "      <th></th>\n",
       "      <th>NA_Sales</th>\n",
       "      <th>EU_Sales</th>\n",
       "      <th>JP_Sales</th>\n",
       "    </tr>\n",
       "  </thead>\n",
       "  <tbody>\n",
       "    <tr>\n",
       "      <th>NA_Sales</th>\n",
       "      <td>1.000000</td>\n",
       "      <td>0.769302</td>\n",
       "      <td>0.512546</td>\n",
       "    </tr>\n",
       "    <tr>\n",
       "      <th>EU_Sales</th>\n",
       "      <td>0.769302</td>\n",
       "      <td>1.000000</td>\n",
       "      <td>0.482180</td>\n",
       "    </tr>\n",
       "    <tr>\n",
       "      <th>JP_Sales</th>\n",
       "      <td>0.512546</td>\n",
       "      <td>0.482180</td>\n",
       "      <td>1.000000</td>\n",
       "    </tr>\n",
       "  </tbody>\n",
       "</table>\n",
       "</div>"
      ],
      "text/plain": [
       "          NA_Sales  EU_Sales  JP_Sales\n",
       "NA_Sales  1.000000  0.769302  0.512546\n",
       "EU_Sales  0.769302  1.000000  0.482180\n",
       "JP_Sales  0.512546  0.482180  1.000000"
      ]
     },
     "execution_count": 70,
     "metadata": {},
     "output_type": "execute_result"
    }
   ],
   "source": [
    "train_data.corr(method = 'pearson')"
   ]
  },
  {
   "cell_type": "code",
   "execution_count": 71,
   "metadata": {
    "id": "IwhKkbENNiZh"
   },
   "outputs": [
    {
     "data": {
      "text/html": [
       "<div>\n",
       "<style scoped>\n",
       "    .dataframe tbody tr th:only-of-type {\n",
       "        vertical-align: middle;\n",
       "    }\n",
       "\n",
       "    .dataframe tbody tr th {\n",
       "        vertical-align: top;\n",
       "    }\n",
       "\n",
       "    .dataframe thead th {\n",
       "        text-align: right;\n",
       "    }\n",
       "</style>\n",
       "<table border=\"1\" class=\"dataframe\">\n",
       "  <thead>\n",
       "    <tr style=\"text-align: right;\">\n",
       "      <th></th>\n",
       "      <th>NA_Sales</th>\n",
       "      <th>EU_Sales</th>\n",
       "      <th>JP_Sales</th>\n",
       "    </tr>\n",
       "  </thead>\n",
       "  <tbody>\n",
       "    <tr>\n",
       "      <th>NA_Sales</th>\n",
       "      <td>1.000000</td>\n",
       "      <td>0.580697</td>\n",
       "      <td>0.132134</td>\n",
       "    </tr>\n",
       "    <tr>\n",
       "      <th>EU_Sales</th>\n",
       "      <td>0.580697</td>\n",
       "      <td>1.000000</td>\n",
       "      <td>0.085725</td>\n",
       "    </tr>\n",
       "    <tr>\n",
       "      <th>JP_Sales</th>\n",
       "      <td>0.132134</td>\n",
       "      <td>0.085725</td>\n",
       "      <td>1.000000</td>\n",
       "    </tr>\n",
       "  </tbody>\n",
       "</table>\n",
       "</div>"
      ],
      "text/plain": [
       "          NA_Sales  EU_Sales  JP_Sales\n",
       "NA_Sales  1.000000  0.580697  0.132134\n",
       "EU_Sales  0.580697  1.000000  0.085725\n",
       "JP_Sales  0.132134  0.085725  1.000000"
      ]
     },
     "execution_count": 71,
     "metadata": {},
     "output_type": "execute_result"
    }
   ],
   "source": [
    "train_data.corr(method = 'kendall')"
   ]
  },
  {
   "cell_type": "code",
   "execution_count": 72,
   "metadata": {
    "id": "UVSOkyNMfFXM"
   },
   "outputs": [
    {
     "data": {
      "text/html": [
       "<div>\n",
       "<style scoped>\n",
       "    .dataframe tbody tr th:only-of-type {\n",
       "        vertical-align: middle;\n",
       "    }\n",
       "\n",
       "    .dataframe tbody tr th {\n",
       "        vertical-align: top;\n",
       "    }\n",
       "\n",
       "    .dataframe thead th {\n",
       "        text-align: right;\n",
       "    }\n",
       "</style>\n",
       "<table border=\"1\" class=\"dataframe\">\n",
       "  <thead>\n",
       "    <tr style=\"text-align: right;\">\n",
       "      <th></th>\n",
       "      <th>NA_Sales</th>\n",
       "      <th>EU_Sales</th>\n",
       "      <th>JP_Sales</th>\n",
       "    </tr>\n",
       "  </thead>\n",
       "  <tbody>\n",
       "    <tr>\n",
       "      <th>NA_Sales</th>\n",
       "      <td>1.000000</td>\n",
       "      <td>0.749634</td>\n",
       "      <td>0.189089</td>\n",
       "    </tr>\n",
       "    <tr>\n",
       "      <th>EU_Sales</th>\n",
       "      <td>0.749634</td>\n",
       "      <td>1.000000</td>\n",
       "      <td>0.117528</td>\n",
       "    </tr>\n",
       "    <tr>\n",
       "      <th>JP_Sales</th>\n",
       "      <td>0.189089</td>\n",
       "      <td>0.117528</td>\n",
       "      <td>1.000000</td>\n",
       "    </tr>\n",
       "  </tbody>\n",
       "</table>\n",
       "</div>"
      ],
      "text/plain": [
       "          NA_Sales  EU_Sales  JP_Sales\n",
       "NA_Sales  1.000000  0.749634  0.189089\n",
       "EU_Sales  0.749634  1.000000  0.117528\n",
       "JP_Sales  0.189089  0.117528  1.000000"
      ]
     },
     "execution_count": 72,
     "metadata": {},
     "output_type": "execute_result"
    }
   ],
   "source": [
    "train_data.corr(method = 'spearman')"
   ]
  },
  {
   "cell_type": "markdown",
   "metadata": {
    "id": "-KXQU3X3eWfL"
   },
   "source": [
    "혹시 데이터를 전처리하는 과정동안 변화가 있을 수 있기 때문에 다시 한 번 상관관계를 분석해보니 선형성이 나쁘지 않아서 선형모델을 통해서도 충분히 예측 할 수 있을 것 같습니다.\n",
    "\n",
    "그럼 마지막 작업으로 데이터를 모델이 받아들일 수 있는 형태로 변경해보겠습니다."
   ]
  },
  {
   "cell_type": "code",
   "execution_count": 10,
   "metadata": {
    "id": "Sm7RO6nzfFQI"
   },
   "outputs": [],
   "source": [
    "X_train = train_data[[\"NA_Sales\", \"EU_Sales\"]].values\n",
    "y_train = train_data[[\"JP_Sales\"]].values"
   ]
  },
  {
   "cell_type": "code",
   "execution_count": 20,
   "metadata": {
    "scrolled": true
   },
   "outputs": [
    {
     "data": {
      "text/plain": [
       "Rank                            2\n",
       "Name            Super Mario Bros.\n",
       "Platform                      NES\n",
       "Year                         1985\n",
       "Genre                    Platform\n",
       "Publisher                Nintendo\n",
       "NA_Sales                    29.08\n",
       "EU_Sales                     3.58\n",
       "JP_Sales                     6.81\n",
       "Other_Sales                  0.77\n",
       "Global_Sales                40.24\n",
       "Name: 1, dtype: object"
      ]
     },
     "execution_count": 20,
     "metadata": {},
     "output_type": "execute_result"
    }
   ],
   "source": [
    "df.iloc[1]"
   ]
  },
  {
   "cell_type": "code",
   "execution_count": 26,
   "metadata": {
    "scrolled": false
   },
   "outputs": [
    {
     "data": {
      "text/plain": [
       "array([2, 'Super Mario Bros.', 'NES', '1985', 'Platform', 'Nintendo',\n",
       "       29.08, 3.58, 6.81, 0.77, 40.24], dtype=object)"
      ]
     },
     "execution_count": 26,
     "metadata": {},
     "output_type": "execute_result"
    }
   ],
   "source": [
    "df.iloc[1].values"
   ]
  },
  {
   "cell_type": "code",
   "execution_count": 24,
   "metadata": {},
   "outputs": [
    {
     "data": {
      "text/plain": [
       "2                    1\n",
       "Super Mario Bros.    1\n",
       "NES                  1\n",
       "1985                 1\n",
       "Platform             1\n",
       "Nintendo             1\n",
       "29.08                1\n",
       "3.58                 1\n",
       "6.81                 1\n",
       "0.77                 1\n",
       "40.24                1\n",
       "Name: 1, dtype: int64"
      ]
     },
     "execution_count": 24,
     "metadata": {},
     "output_type": "execute_result"
    }
   ],
   "source": [
    "df.iloc[1].value_counts()"
   ]
  },
  {
   "cell_type": "code",
   "execution_count": null,
   "metadata": {},
   "outputs": [],
   "source": []
  },
  {
   "cell_type": "code",
   "execution_count": 11,
   "metadata": {
    "id": "mnA3zkjchcMf"
   },
   "outputs": [],
   "source": [
    "from sklearn.model_selection import train_test_split\n",
    "\n",
    "X_train, X_test, y_train, y_test = train_test_split(X_train, y_train, test_size=0.2, random_state=42)"
   ]
  },
  {
   "cell_type": "code",
   "execution_count": 75,
   "metadata": {
    "id": "VCAkmpTJ1pIc"
   },
   "outputs": [],
   "source": [
    "X_target = target_data[[\"NA_Sales\", \"EU_Sales\"]].values\n",
    "y_target = target_data[[\"JP_Sales\"]].values"
   ]
  },
  {
   "cell_type": "markdown",
   "metadata": {
    "id": "vldPJZqMvqQK"
   },
   "source": [
    "혹시 헷깔리실 수 있으니 정리해드리겠습니다.\n",
    "\n",
    "train data : 모델이 학습할 데이터\n",
    "\n",
    "test data : 모델 성능을 평가할 데이터\n",
    "\n",
    "target data : 처음 목적대로 JP_Sales가 비어있는 데이터(우리가 모델로 예측해서 채워넣을 데이터)"
   ]
  },
  {
   "cell_type": "markdown",
   "metadata": {
    "id": "SyC233jVejET"
   },
   "source": [
    "## Unit 4-3. 모델링\n",
    "\n",
    "모델은 위의 EDA 과정을 통해 선형모델을 사용하면 될 것 같습니다."
   ]
  },
  {
   "cell_type": "code",
   "execution_count": 76,
   "metadata": {
    "id": "FPaHAaUB1pGb"
   },
   "outputs": [],
   "source": [
    "from sklearn.linear_model import LinearRegression\n",
    "\n",
    "model = LinearRegression()"
   ]
  },
  {
   "cell_type": "markdown",
   "metadata": {
    "id": "tJvsD2wCfm6Z"
   },
   "source": [
    "## Unit 4-4. 학습 및 평가하기"
   ]
  },
  {
   "cell_type": "code",
   "execution_count": 77,
   "metadata": {
    "id": "h_NU2JoX1pEk"
   },
   "outputs": [
    {
     "data": {
      "text/plain": [
       "LinearRegression()"
      ]
     },
     "execution_count": 77,
     "metadata": {},
     "output_type": "execute_result"
    }
   ],
   "source": [
    "model.fit(X_train, y_train)"
   ]
  },
  {
   "cell_type": "code",
   "execution_count": 78,
   "metadata": {
    "id": "kRnEfFgB1pCl"
   },
   "outputs": [
    {
     "data": {
      "text/plain": [
       "array([[0.43737109],\n",
       "       [0.4442917 ],\n",
       "       [0.25736551],\n",
       "       [0.21332938],\n",
       "       [0.41592162],\n",
       "       [0.20827326],\n",
       "       [0.17354398],\n",
       "       [0.39302725],\n",
       "       [0.8708736 ],\n",
       "       [0.18221134]])"
      ]
     },
     "execution_count": 78,
     "metadata": {},
     "output_type": "execute_result"
    }
   ],
   "source": [
    "prediction = model.predict(X_test)\n",
    "prediction[:10]"
   ]
  },
  {
   "cell_type": "code",
   "execution_count": 79,
   "metadata": {
    "id": "2KxKBzKrpVnP"
   },
   "outputs": [
    {
     "data": {
      "text/plain": [
       "0.24784872119567944"
      ]
     },
     "execution_count": 79,
     "metadata": {},
     "output_type": "execute_result"
    }
   ],
   "source": [
    "from sklearn.metrics import mean_squared_error\n",
    "\n",
    "mse = mean_squared_error(y_test, prediction)\n",
    "mse"
   ]
  },
  {
   "cell_type": "code",
   "execution_count": 80,
   "metadata": {
    "id": "lbcnKAbO0ng1"
   },
   "outputs": [],
   "source": [
    "from mpl_toolkits.mplot3d import Axes3D"
   ]
  },
  {
   "cell_type": "code",
   "execution_count": 81,
   "metadata": {
    "id": "jig4MPm-0oqC"
   },
   "outputs": [
    {
     "ename": "NameError",
     "evalue": "name 'color' is not defined",
     "output_type": "error",
     "traceback": [
      "\u001b[0;31m---------------------------------------------------------------------------\u001b[0m",
      "\u001b[0;31mNameError\u001b[0m                                 Traceback (most recent call last)",
      "\u001b[0;32m/tmp/ipykernel_111/3044649028.py\u001b[0m in \u001b[0;36m<module>\u001b[0;34m\u001b[0m\n\u001b[1;32m      6\u001b[0m \u001b[0mfig\u001b[0m \u001b[0;34m=\u001b[0m \u001b[0mplt\u001b[0m\u001b[0;34m.\u001b[0m\u001b[0mfigure\u001b[0m\u001b[0;34m(\u001b[0m\u001b[0mfigsize\u001b[0m\u001b[0;34m=\u001b[0m\u001b[0;34m(\u001b[0m\u001b[0;36m6\u001b[0m\u001b[0;34m,\u001b[0m \u001b[0;36m6\u001b[0m\u001b[0;34m)\u001b[0m\u001b[0;34m)\u001b[0m\u001b[0;34m\u001b[0m\u001b[0;34m\u001b[0m\u001b[0m\n\u001b[1;32m      7\u001b[0m \u001b[0max\u001b[0m \u001b[0;34m=\u001b[0m \u001b[0mfig\u001b[0m\u001b[0;34m.\u001b[0m\u001b[0madd_subplot\u001b[0m\u001b[0;34m(\u001b[0m\u001b[0;36m111\u001b[0m\u001b[0;34m,\u001b[0m \u001b[0mprojection\u001b[0m\u001b[0;34m=\u001b[0m\u001b[0;34m'3d'\u001b[0m\u001b[0;34m)\u001b[0m\u001b[0;34m\u001b[0m\u001b[0;34m\u001b[0m\u001b[0m\n\u001b[0;32m----> 8\u001b[0;31m \u001b[0max\u001b[0m\u001b[0;34m.\u001b[0m\u001b[0mscatter\u001b[0m\u001b[0;34m(\u001b[0m\u001b[0mxs\u001b[0m\u001b[0;34m,\u001b[0m \u001b[0mys\u001b[0m\u001b[0;34m,\u001b[0m \u001b[0mzs\u001b[0m\u001b[0;34m,\u001b[0m \u001b[0mc\u001b[0m\u001b[0;34m=\u001b[0m\u001b[0mcolor\u001b[0m\u001b[0;34m,\u001b[0m \u001b[0mmarker\u001b[0m\u001b[0;34m=\u001b[0m\u001b[0;34m'o'\u001b[0m\u001b[0;34m,\u001b[0m \u001b[0ms\u001b[0m\u001b[0;34m=\u001b[0m\u001b[0;36m15\u001b[0m\u001b[0;34m,\u001b[0m \u001b[0mcmap\u001b[0m\u001b[0;34m=\u001b[0m\u001b[0;34m'Greens'\u001b[0m\u001b[0;34m)\u001b[0m\u001b[0;34m\u001b[0m\u001b[0;34m\u001b[0m\u001b[0m\n\u001b[0m\u001b[1;32m      9\u001b[0m \u001b[0max\u001b[0m\u001b[0;34m.\u001b[0m\u001b[0mscatter\u001b[0m\u001b[0;34m(\u001b[0m\u001b[0mxs\u001b[0m\u001b[0;34m,\u001b[0m \u001b[0mys\u001b[0m\u001b[0;34m,\u001b[0m \u001b[0mps\u001b[0m\u001b[0;34m,\u001b[0m \u001b[0mmarker\u001b[0m\u001b[0;34m=\u001b[0m\u001b[0;34m'o'\u001b[0m\u001b[0;34m,\u001b[0m \u001b[0ms\u001b[0m\u001b[0;34m=\u001b[0m\u001b[0;36m15\u001b[0m\u001b[0;34m)\u001b[0m\u001b[0;34m\u001b[0m\u001b[0;34m\u001b[0m\u001b[0m\n\u001b[1;32m     10\u001b[0m \u001b[0;34m\u001b[0m\u001b[0m\n",
      "\u001b[0;31mNameError\u001b[0m: name 'color' is not defined"
     ]
    },
    {
     "data": {
      "image/png": "[encoded data removed]",
      "text/plain": [
       "<Figure size 432x432 with 1 Axes>"
      ]
     },
     "metadata": {
      "needs_background": "light"
     },
     "output_type": "display_data"
    }
   ],
   "source": [
    "xs = X_test[:, 0]\n",
    "ys = X_test[:, 1]\n",
    "zs = y_test\n",
    "ps = prediction\n",
    "\n",
    "fig = plt.figure(figsize=(6, 6))\n",
    "ax = fig.add_subplot(111, projection='3d')\n",
    "ax.scatter(xs, ys, zs, c=color, marker='o', s=15, cmap='Greens')\n",
    "ax.scatter(xs, ys, ps, marker='o', s=15)\n",
    "\n",
    "plt.show()"
   ]
  },
  {
   "cell_type": "code",
   "execution_count": null,
   "metadata": {
    "id": "8KrYi6Pk0oib"
   },
   "outputs": [],
   "source": []
  },
  {
   "cell_type": "code",
   "execution_count": 82,
   "metadata": {
    "id": "qgcYao-MzZoO"
   },
   "outputs": [
    {
     "data": {
      "image/png": "[encoded data removed]",
      "text/plain": [
       "<Figure size 432x288 with 1 Axes>"
      ]
     },
     "metadata": {
      "needs_background": "light"
     },
     "output_type": "display_data"
    }
   ],
   "source": [
    "plt.scatter(X_test[:, 0], y_test, label=\"true\")\n",
    "plt.scatter(X_test[:, 0], prediction, label=\"pred\")\n",
    "plt.legend()\n",
    "plt.show()"
   ]
  },
  {
   "cell_type": "code",
   "execution_count": 83,
   "metadata": {
    "id": "gKcz7q92vQl4"
   },
   "outputs": [
    {
     "data": {
      "image/png": "[encoded data removed]",
      "text/plain": [
       "<Figure size 432x288 with 1 Axes>"
      ]
     },
     "metadata": {
      "needs_background": "light"
     },
     "output_type": "display_data"
    }
   ],
   "source": [
    "plt.scatter(X_test[:, 1], y_test, label=\"true\")\n",
    "plt.scatter(X_test[:, 1], prediction, label=\"pred\")\n",
    "plt.legend()\n",
    "plt.show()"
   ]
  },
  {
   "cell_type": "markdown",
   "metadata": {
    "id": "usokXqXa9-mM"
   },
   "source": [
    "## Unit 4-5. 적용하기\n",
    "\n",
    "어떤가요? 모델의 성능이 마음에 드시나요?\n",
    "\n",
    "모델 개선은 여러분의 몫으로 남겨두고 전 이 모델을 사용해보도록 하겠습니다."
   ]
  },
  {
   "cell_type": "code",
   "execution_count": 84,
   "metadata": {
    "id": "Xp3EGJdcvQep"
   },
   "outputs": [
    {
     "data": {
      "text/plain": [
       "array([[1.2615871 ],\n",
       "       [1.14738139],\n",
       "       [1.01913333],\n",
       "       [0.94094368],\n",
       "       [0.95524681],\n",
       "       [0.91082489],\n",
       "       [0.89884816],\n",
       "       [1.01396603],\n",
       "       [0.77396613],\n",
       "       [0.70089439]])"
      ]
     },
     "execution_count": 84,
     "metadata": {},
     "output_type": "execute_result"
    }
   ],
   "source": [
    "tgt_predictions = model.predict(X_target)\n",
    "tgt_predictions[:10]"
   ]
  },
  {
   "cell_type": "code",
   "execution_count": 85,
   "metadata": {
    "id": "RcL9VK9X1pAq"
   },
   "outputs": [
    {
     "data": {
      "text/plain": [
       "numpy.ndarray"
      ]
     },
     "execution_count": 85,
     "metadata": {},
     "output_type": "execute_result"
    }
   ],
   "source": [
    "type(tgt_predictions)"
   ]
  },
  {
   "cell_type": "markdown",
   "metadata": {
    "id": "O5tHkHB9-cww"
   },
   "source": [
    "prediction의 결과물은 numpy array로 나왔습니다."
   ]
  },
  {
   "cell_type": "code",
   "execution_count": 86,
   "metadata": {
    "id": "foiq8w0_3Vxv"
   },
   "outputs": [
    {
     "data": {
      "text/plain": [
       "array([[nan],\n",
       "       [nan],\n",
       "       [nan],\n",
       "       ...,\n",
       "       [nan],\n",
       "       [nan],\n",
       "       [nan]])"
      ]
     },
     "execution_count": 86,
     "metadata": {},
     "output_type": "execute_result"
    }
   ],
   "source": [
    "target_data[[\"JP_Sales\"]].values"
   ]
  },
  {
   "cell_type": "code",
   "execution_count": 87,
   "metadata": {
    "id": "kej7od77-X7F"
   },
   "outputs": [
    {
     "data": {
      "text/plain": [
       "numpy.ndarray"
      ]
     },
     "execution_count": 87,
     "metadata": {},
     "output_type": "execute_result"
    }
   ],
   "source": [
    "type(target_data[[\"JP_Sales\"]].values)"
   ]
  },
  {
   "cell_type": "markdown",
   "metadata": {
    "id": "hPPI3Fk_-U9k"
   },
   "source": [
    "다행히도 pandas는 방금 보셨듯 numpy와 자유자재로 넘나들 수 있습니다."
   ]
  },
  {
   "cell_type": "code",
   "execution_count": 88,
   "metadata": {
    "id": "7sB5er-z1o-w"
   },
   "outputs": [],
   "source": [
    "target_data[[\"JP_Sales\"]] = tgt_predictions"
   ]
  },
  {
   "cell_type": "code",
   "execution_count": 89,
   "metadata": {
    "id": "jZ07Nb_S1o8r"
   },
   "outputs": [
    {
     "data": {
      "text/plain": [
       "array([[1.2615871 ],\n",
       "       [1.14738139],\n",
       "       [1.01913333],\n",
       "       ...,\n",
       "       [0.12864651],\n",
       "       [0.12864651],\n",
       "       [0.12864651]])"
      ]
     },
     "execution_count": 89,
     "metadata": {},
     "output_type": "execute_result"
    }
   ],
   "source": [
    "target_data[[\"JP_Sales\"]].values"
   ]
  },
  {
   "cell_type": "code",
   "execution_count": 90,
   "metadata": {
    "id": "hTdi3B8C7oYQ"
   },
   "outputs": [
    {
     "data": {
      "text/html": [
       "<div>\n",
       "<style scoped>\n",
       "    .dataframe tbody tr th:only-of-type {\n",
       "        vertical-align: middle;\n",
       "    }\n",
       "\n",
       "    .dataframe tbody tr th {\n",
       "        vertical-align: top;\n",
       "    }\n",
       "\n",
       "    .dataframe thead th {\n",
       "        text-align: right;\n",
       "    }\n",
       "</style>\n",
       "<table border=\"1\" class=\"dataframe\">\n",
       "  <thead>\n",
       "    <tr style=\"text-align: right;\">\n",
       "      <th></th>\n",
       "      <th>NA_Sales</th>\n",
       "      <th>EU_Sales</th>\n",
       "      <th>JP_Sales</th>\n",
       "    </tr>\n",
       "  </thead>\n",
       "  <tbody>\n",
       "    <tr>\n",
       "      <th>60</th>\n",
       "      <td>6.05</td>\n",
       "      <td>3.15</td>\n",
       "      <td>1.261587</td>\n",
       "    </tr>\n",
       "    <tr>\n",
       "      <th>83</th>\n",
       "      <td>0.98</td>\n",
       "      <td>6.42</td>\n",
       "      <td>1.147381</td>\n",
       "    </tr>\n",
       "    <tr>\n",
       "      <th>89</th>\n",
       "      <td>7.28</td>\n",
       "      <td>0.45</td>\n",
       "      <td>1.019133</td>\n",
       "    </tr>\n",
       "    <tr>\n",
       "      <th>98</th>\n",
       "      <td>4.79</td>\n",
       "      <td>1.90</td>\n",
       "      <td>0.940944</td>\n",
       "    </tr>\n",
       "    <tr>\n",
       "      <th>102</th>\n",
       "      <td>3.51</td>\n",
       "      <td>3.03</td>\n",
       "      <td>0.955247</td>\n",
       "    </tr>\n",
       "    <tr>\n",
       "      <th>...</th>\n",
       "      <td>...</td>\n",
       "      <td>...</td>\n",
       "      <td>...</td>\n",
       "    </tr>\n",
       "    <tr>\n",
       "      <th>16135</th>\n",
       "      <td>0.01</td>\n",
       "      <td>0.01</td>\n",
       "      <td>0.128647</td>\n",
       "    </tr>\n",
       "    <tr>\n",
       "      <th>16154</th>\n",
       "      <td>0.01</td>\n",
       "      <td>0.01</td>\n",
       "      <td>0.128647</td>\n",
       "    </tr>\n",
       "    <tr>\n",
       "      <th>16193</th>\n",
       "      <td>0.01</td>\n",
       "      <td>0.01</td>\n",
       "      <td>0.128647</td>\n",
       "    </tr>\n",
       "    <tr>\n",
       "      <th>16222</th>\n",
       "      <td>0.01</td>\n",
       "      <td>0.01</td>\n",
       "      <td>0.128647</td>\n",
       "    </tr>\n",
       "    <tr>\n",
       "      <th>16284</th>\n",
       "      <td>0.01</td>\n",
       "      <td>0.01</td>\n",
       "      <td>0.128647</td>\n",
       "    </tr>\n",
       "  </tbody>\n",
       "</table>\n",
       "<p>7305 rows × 3 columns</p>\n",
       "</div>"
      ],
      "text/plain": [
       "       NA_Sales  EU_Sales  JP_Sales\n",
       "60         6.05      3.15  1.261587\n",
       "83         0.98      6.42  1.147381\n",
       "89         7.28      0.45  1.019133\n",
       "98         4.79      1.90  0.940944\n",
       "102        3.51      3.03  0.955247\n",
       "...         ...       ...       ...\n",
       "16135      0.01      0.01  0.128647\n",
       "16154      0.01      0.01  0.128647\n",
       "16193      0.01      0.01  0.128647\n",
       "16222      0.01      0.01  0.128647\n",
       "16284      0.01      0.01  0.128647\n",
       "\n",
       "[7305 rows x 3 columns]"
      ]
     },
     "execution_count": 90,
     "metadata": {},
     "output_type": "execute_result"
    }
   ],
   "source": [
    "target_data"
   ]
  },
  {
   "cell_type": "markdown",
   "metadata": {
    "id": "alsRC-68xX92"
   },
   "source": [
    "### 조별과제\n",
    "\n",
    "성능이야 어쨌든 처음엔 비어있었을 JP_Sales 데이터에 우리가 예측한 데이터로 잘 채워넣었습니다!\n",
    "\n",
    "저희는 target_data를 따로 만들어 진행했지만 df에 직접 반영하실 수도 있겠죠?\n",
    "\n",
    "물론 우리는 NA지역과 EU지역의 데이터만을 이용해 보았을 뿐 알아보지 않았지 연도정보라던가 플랫폼, 장르 등 판매량에 영향을 미칠 수 있는 부분이 더 많이 있을 것입니다.\n",
    "\n",
    "혹은 다른 부분, 전처리, 모델링 부분에서도 개선할 점이 널려있겠죠!(lms에서는 어떤 것을 했는지 다시 한 번 살펴보면 더 많은 것을 찾아내실 수 있을겁니다!)\n",
    "\n",
    "1. 어떻게 개선할까?(20분)\n",
    "\n",
    "2. 개선 방안 적용해보기\n",
    "\n",
    "3. (Optional)원하는 데이터를 골라서 Unit 4를 진행해보기"
   ]
  },
  {
   "cell_type": "code",
   "execution_count": 91,
   "metadata": {
    "id": "lx17e4p-y1Hj"
   },
   "outputs": [
    {
     "data": {
      "text/html": [
       "<div>\n",
       "<style scoped>\n",
       "    .dataframe tbody tr th:only-of-type {\n",
       "        vertical-align: middle;\n",
       "    }\n",
       "\n",
       "    .dataframe tbody tr th {\n",
       "        vertical-align: top;\n",
       "    }\n",
       "\n",
       "    .dataframe thead th {\n",
       "        text-align: right;\n",
       "    }\n",
       "</style>\n",
       "<table border=\"1\" class=\"dataframe\">\n",
       "  <thead>\n",
       "    <tr style=\"text-align: right;\">\n",
       "      <th></th>\n",
       "      <th>Rank</th>\n",
       "      <th>Name</th>\n",
       "      <th>Platform</th>\n",
       "      <th>Year</th>\n",
       "      <th>Genre</th>\n",
       "      <th>Publisher</th>\n",
       "      <th>NA_Sales</th>\n",
       "      <th>EU_Sales</th>\n",
       "      <th>JP_Sales</th>\n",
       "      <th>Other_Sales</th>\n",
       "      <th>Global_Sales</th>\n",
       "    </tr>\n",
       "  </thead>\n",
       "  <tbody>\n",
       "    <tr>\n",
       "      <th>0</th>\n",
       "      <td>1</td>\n",
       "      <td>Wii Sports</td>\n",
       "      <td>Wii</td>\n",
       "      <td>2006</td>\n",
       "      <td>Sports</td>\n",
       "      <td>Nintendo</td>\n",
       "      <td>41.49</td>\n",
       "      <td>29.02</td>\n",
       "      <td>3.77</td>\n",
       "      <td>8.46</td>\n",
       "      <td>82.74</td>\n",
       "    </tr>\n",
       "    <tr>\n",
       "      <th>1</th>\n",
       "      <td>2</td>\n",
       "      <td>Super Mario Bros.</td>\n",
       "      <td>NES</td>\n",
       "      <td>1985</td>\n",
       "      <td>Platform</td>\n",
       "      <td>Nintendo</td>\n",
       "      <td>29.08</td>\n",
       "      <td>3.58</td>\n",
       "      <td>6.81</td>\n",
       "      <td>0.77</td>\n",
       "      <td>40.24</td>\n",
       "    </tr>\n",
       "    <tr>\n",
       "      <th>2</th>\n",
       "      <td>3</td>\n",
       "      <td>Mario Kart Wii</td>\n",
       "      <td>Wii</td>\n",
       "      <td>2008</td>\n",
       "      <td>Racing</td>\n",
       "      <td>Nintendo</td>\n",
       "      <td>15.85</td>\n",
       "      <td>12.88</td>\n",
       "      <td>3.79</td>\n",
       "      <td>3.31</td>\n",
       "      <td>35.82</td>\n",
       "    </tr>\n",
       "    <tr>\n",
       "      <th>3</th>\n",
       "      <td>4</td>\n",
       "      <td>Wii Sports Resort</td>\n",
       "      <td>Wii</td>\n",
       "      <td>2009</td>\n",
       "      <td>Sports</td>\n",
       "      <td>Nintendo</td>\n",
       "      <td>15.75</td>\n",
       "      <td>11.01</td>\n",
       "      <td>3.28</td>\n",
       "      <td>2.96</td>\n",
       "      <td>33.00</td>\n",
       "    </tr>\n",
       "    <tr>\n",
       "      <th>4</th>\n",
       "      <td>5</td>\n",
       "      <td>Pokemon Red/Pokemon Blue</td>\n",
       "      <td>GB</td>\n",
       "      <td>1996</td>\n",
       "      <td>Role-Playing</td>\n",
       "      <td>Nintendo</td>\n",
       "      <td>11.27</td>\n",
       "      <td>8.89</td>\n",
       "      <td>10.22</td>\n",
       "      <td>1.00</td>\n",
       "      <td>31.37</td>\n",
       "    </tr>\n",
       "    <tr>\n",
       "      <th>...</th>\n",
       "      <td>...</td>\n",
       "      <td>...</td>\n",
       "      <td>...</td>\n",
       "      <td>...</td>\n",
       "      <td>...</td>\n",
       "      <td>...</td>\n",
       "      <td>...</td>\n",
       "      <td>...</td>\n",
       "      <td>...</td>\n",
       "      <td>...</td>\n",
       "      <td>...</td>\n",
       "    </tr>\n",
       "    <tr>\n",
       "      <th>16593</th>\n",
       "      <td>16596</td>\n",
       "      <td>Woody Woodpecker in Crazy Castle 5</td>\n",
       "      <td>GBA</td>\n",
       "      <td>2002</td>\n",
       "      <td>Platform</td>\n",
       "      <td>Kemco</td>\n",
       "      <td>0.01</td>\n",
       "      <td>NaN</td>\n",
       "      <td>NaN</td>\n",
       "      <td>NaN</td>\n",
       "      <td>0.01</td>\n",
       "    </tr>\n",
       "    <tr>\n",
       "      <th>16594</th>\n",
       "      <td>16597</td>\n",
       "      <td>Men in Black II: Alien Escape</td>\n",
       "      <td>GC</td>\n",
       "      <td>2003</td>\n",
       "      <td>Shooter</td>\n",
       "      <td>Infogrames</td>\n",
       "      <td>0.01</td>\n",
       "      <td>NaN</td>\n",
       "      <td>NaN</td>\n",
       "      <td>NaN</td>\n",
       "      <td>0.01</td>\n",
       "    </tr>\n",
       "    <tr>\n",
       "      <th>16595</th>\n",
       "      <td>16598</td>\n",
       "      <td>SCORE International Baja 1000: The Official Game</td>\n",
       "      <td>PS2</td>\n",
       "      <td>2008</td>\n",
       "      <td>Racing</td>\n",
       "      <td>Activision</td>\n",
       "      <td>NaN</td>\n",
       "      <td>NaN</td>\n",
       "      <td>NaN</td>\n",
       "      <td>NaN</td>\n",
       "      <td>0.01</td>\n",
       "    </tr>\n",
       "    <tr>\n",
       "      <th>16596</th>\n",
       "      <td>16599</td>\n",
       "      <td>Know How 2</td>\n",
       "      <td>DS</td>\n",
       "      <td>2010</td>\n",
       "      <td>Puzzle</td>\n",
       "      <td>7G//AMES</td>\n",
       "      <td>NaN</td>\n",
       "      <td>0.01</td>\n",
       "      <td>NaN</td>\n",
       "      <td>NaN</td>\n",
       "      <td>0.01</td>\n",
       "    </tr>\n",
       "    <tr>\n",
       "      <th>16597</th>\n",
       "      <td>16600</td>\n",
       "      <td>Spirits &amp; Spells</td>\n",
       "      <td>GBA</td>\n",
       "      <td>2003</td>\n",
       "      <td>Platform</td>\n",
       "      <td>Wanadoo</td>\n",
       "      <td>0.01</td>\n",
       "      <td>NaN</td>\n",
       "      <td>NaN</td>\n",
       "      <td>NaN</td>\n",
       "      <td>0.01</td>\n",
       "    </tr>\n",
       "  </tbody>\n",
       "</table>\n",
       "<p>16598 rows × 11 columns</p>\n",
       "</div>"
      ],
      "text/plain": [
       "        Rank                                              Name Platform  Year  \\\n",
       "0          1                                        Wii Sports      Wii  2006   \n",
       "1          2                                 Super Mario Bros.      NES  1985   \n",
       "2          3                                    Mario Kart Wii      Wii  2008   \n",
       "3          4                                 Wii Sports Resort      Wii  2009   \n",
       "4          5                          Pokemon Red/Pokemon Blue       GB  1996   \n",
       "...      ...                                               ...      ...   ...   \n",
       "16593  16596                Woody Woodpecker in Crazy Castle 5      GBA  2002   \n",
       "16594  16597                     Men in Black II: Alien Escape       GC  2003   \n",
       "16595  16598  SCORE International Baja 1000: The Official Game      PS2  2008   \n",
       "16596  16599                                        Know How 2       DS  2010   \n",
       "16597  16600                                  Spirits & Spells      GBA  2003   \n",
       "\n",
       "              Genre   Publisher  NA_Sales  EU_Sales  JP_Sales  Other_Sales  \\\n",
       "0            Sports    Nintendo     41.49     29.02      3.77         8.46   \n",
       "1          Platform    Nintendo     29.08      3.58      6.81         0.77   \n",
       "2            Racing    Nintendo     15.85     12.88      3.79         3.31   \n",
       "3            Sports    Nintendo     15.75     11.01      3.28         2.96   \n",
       "4      Role-Playing    Nintendo     11.27      8.89     10.22         1.00   \n",
       "...             ...         ...       ...       ...       ...          ...   \n",
       "16593      Platform       Kemco      0.01       NaN       NaN          NaN   \n",
       "16594       Shooter  Infogrames      0.01       NaN       NaN          NaN   \n",
       "16595        Racing  Activision       NaN       NaN       NaN          NaN   \n",
       "16596        Puzzle    7G//AMES       NaN      0.01       NaN          NaN   \n",
       "16597      Platform     Wanadoo      0.01       NaN       NaN          NaN   \n",
       "\n",
       "       Global_Sales  \n",
       "0             82.74  \n",
       "1             40.24  \n",
       "2             35.82  \n",
       "3             33.00  \n",
       "4             31.37  \n",
       "...             ...  \n",
       "16593          0.01  \n",
       "16594          0.01  \n",
       "16595          0.01  \n",
       "16596          0.01  \n",
       "16597          0.01  \n",
       "\n",
       "[16598 rows x 11 columns]"
      ]
     },
     "execution_count": 91,
     "metadata": {},
     "output_type": "execute_result"
    }
   ],
   "source": [
    "df"
   ]
  },
  {
   "cell_type": "code",
   "execution_count": 95,
   "metadata": {},
   "outputs": [
    {
     "data": {
      "text/html": [
       "<div>\n",
       "<style scoped>\n",
       "    .dataframe tbody tr th:only-of-type {\n",
       "        vertical-align: middle;\n",
       "    }\n",
       "\n",
       "    .dataframe tbody tr th {\n",
       "        vertical-align: top;\n",
       "    }\n",
       "\n",
       "    .dataframe thead th {\n",
       "        text-align: right;\n",
       "    }\n",
       "</style>\n",
       "<table border=\"1\" class=\"dataframe\">\n",
       "  <thead>\n",
       "    <tr style=\"text-align: right;\">\n",
       "      <th></th>\n",
       "      <th>Rank</th>\n",
       "      <th>Name</th>\n",
       "      <th>Platform</th>\n",
       "      <th>Year</th>\n",
       "      <th>Genre</th>\n",
       "      <th>Publisher</th>\n",
       "      <th>NA_Sales</th>\n",
       "      <th>EU_Sales</th>\n",
       "      <th>JP_Sales</th>\n",
       "      <th>Other_Sales</th>\n",
       "      <th>Global_Sales</th>\n",
       "    </tr>\n",
       "  </thead>\n",
       "  <tbody>\n",
       "    <tr>\n",
       "      <th>0</th>\n",
       "      <td>NaN</td>\n",
       "      <td>NaN</td>\n",
       "      <td>NaN</td>\n",
       "      <td>NaN</td>\n",
       "      <td>NaN</td>\n",
       "      <td>NaN</td>\n",
       "      <td>NaN</td>\n",
       "      <td>NaN</td>\n",
       "      <td>NaN</td>\n",
       "      <td>NaN</td>\n",
       "      <td>NaN</td>\n",
       "    </tr>\n",
       "    <tr>\n",
       "      <th>1</th>\n",
       "      <td>NaN</td>\n",
       "      <td>NaN</td>\n",
       "      <td>NaN</td>\n",
       "      <td>NaN</td>\n",
       "      <td>NaN</td>\n",
       "      <td>NaN</td>\n",
       "      <td>NaN</td>\n",
       "      <td>NaN</td>\n",
       "      <td>NaN</td>\n",
       "      <td>NaN</td>\n",
       "      <td>NaN</td>\n",
       "    </tr>\n",
       "    <tr>\n",
       "      <th>2</th>\n",
       "      <td>NaN</td>\n",
       "      <td>NaN</td>\n",
       "      <td>NaN</td>\n",
       "      <td>NaN</td>\n",
       "      <td>NaN</td>\n",
       "      <td>NaN</td>\n",
       "      <td>NaN</td>\n",
       "      <td>NaN</td>\n",
       "      <td>NaN</td>\n",
       "      <td>NaN</td>\n",
       "      <td>NaN</td>\n",
       "    </tr>\n",
       "    <tr>\n",
       "      <th>3</th>\n",
       "      <td>NaN</td>\n",
       "      <td>NaN</td>\n",
       "      <td>NaN</td>\n",
       "      <td>NaN</td>\n",
       "      <td>NaN</td>\n",
       "      <td>NaN</td>\n",
       "      <td>NaN</td>\n",
       "      <td>NaN</td>\n",
       "      <td>NaN</td>\n",
       "      <td>NaN</td>\n",
       "      <td>NaN</td>\n",
       "    </tr>\n",
       "    <tr>\n",
       "      <th>4</th>\n",
       "      <td>NaN</td>\n",
       "      <td>NaN</td>\n",
       "      <td>NaN</td>\n",
       "      <td>NaN</td>\n",
       "      <td>NaN</td>\n",
       "      <td>NaN</td>\n",
       "      <td>NaN</td>\n",
       "      <td>NaN</td>\n",
       "      <td>NaN</td>\n",
       "      <td>NaN</td>\n",
       "      <td>NaN</td>\n",
       "    </tr>\n",
       "    <tr>\n",
       "      <th>...</th>\n",
       "      <td>...</td>\n",
       "      <td>...</td>\n",
       "      <td>...</td>\n",
       "      <td>...</td>\n",
       "      <td>...</td>\n",
       "      <td>...</td>\n",
       "      <td>...</td>\n",
       "      <td>...</td>\n",
       "      <td>...</td>\n",
       "      <td>...</td>\n",
       "      <td>...</td>\n",
       "    </tr>\n",
       "    <tr>\n",
       "      <th>16593</th>\n",
       "      <td>NaN</td>\n",
       "      <td>NaN</td>\n",
       "      <td>NaN</td>\n",
       "      <td>NaN</td>\n",
       "      <td>NaN</td>\n",
       "      <td>NaN</td>\n",
       "      <td>NaN</td>\n",
       "      <td>NaN</td>\n",
       "      <td>NaN</td>\n",
       "      <td>NaN</td>\n",
       "      <td>NaN</td>\n",
       "    </tr>\n",
       "    <tr>\n",
       "      <th>16594</th>\n",
       "      <td>NaN</td>\n",
       "      <td>NaN</td>\n",
       "      <td>NaN</td>\n",
       "      <td>NaN</td>\n",
       "      <td>NaN</td>\n",
       "      <td>NaN</td>\n",
       "      <td>NaN</td>\n",
       "      <td>NaN</td>\n",
       "      <td>NaN</td>\n",
       "      <td>NaN</td>\n",
       "      <td>NaN</td>\n",
       "    </tr>\n",
       "    <tr>\n",
       "      <th>16595</th>\n",
       "      <td>NaN</td>\n",
       "      <td>NaN</td>\n",
       "      <td>NaN</td>\n",
       "      <td>NaN</td>\n",
       "      <td>NaN</td>\n",
       "      <td>NaN</td>\n",
       "      <td>NaN</td>\n",
       "      <td>NaN</td>\n",
       "      <td>NaN</td>\n",
       "      <td>NaN</td>\n",
       "      <td>NaN</td>\n",
       "    </tr>\n",
       "    <tr>\n",
       "      <th>16596</th>\n",
       "      <td>NaN</td>\n",
       "      <td>NaN</td>\n",
       "      <td>NaN</td>\n",
       "      <td>NaN</td>\n",
       "      <td>NaN</td>\n",
       "      <td>NaN</td>\n",
       "      <td>NaN</td>\n",
       "      <td>NaN</td>\n",
       "      <td>NaN</td>\n",
       "      <td>NaN</td>\n",
       "      <td>NaN</td>\n",
       "    </tr>\n",
       "    <tr>\n",
       "      <th>16597</th>\n",
       "      <td>NaN</td>\n",
       "      <td>NaN</td>\n",
       "      <td>NaN</td>\n",
       "      <td>NaN</td>\n",
       "      <td>NaN</td>\n",
       "      <td>NaN</td>\n",
       "      <td>NaN</td>\n",
       "      <td>NaN</td>\n",
       "      <td>NaN</td>\n",
       "      <td>NaN</td>\n",
       "      <td>NaN</td>\n",
       "    </tr>\n",
       "  </tbody>\n",
       "</table>\n",
       "<p>16598 rows × 11 columns</p>\n",
       "</div>"
      ],
      "text/plain": [
       "       Rank Name Platform Year Genre Publisher  NA_Sales  EU_Sales  JP_Sales  \\\n",
       "0       NaN  NaN      NaN  NaN   NaN       NaN       NaN       NaN       NaN   \n",
       "1       NaN  NaN      NaN  NaN   NaN       NaN       NaN       NaN       NaN   \n",
       "2       NaN  NaN      NaN  NaN   NaN       NaN       NaN       NaN       NaN   \n",
       "3       NaN  NaN      NaN  NaN   NaN       NaN       NaN       NaN       NaN   \n",
       "4       NaN  NaN      NaN  NaN   NaN       NaN       NaN       NaN       NaN   \n",
       "...     ...  ...      ...  ...   ...       ...       ...       ...       ...   \n",
       "16593   NaN  NaN      NaN  NaN   NaN       NaN       NaN       NaN       NaN   \n",
       "16594   NaN  NaN      NaN  NaN   NaN       NaN       NaN       NaN       NaN   \n",
       "16595   NaN  NaN      NaN  NaN   NaN       NaN       NaN       NaN       NaN   \n",
       "16596   NaN  NaN      NaN  NaN   NaN       NaN       NaN       NaN       NaN   \n",
       "16597   NaN  NaN      NaN  NaN   NaN       NaN       NaN       NaN       NaN   \n",
       "\n",
       "       Other_Sales  Global_Sales  \n",
       "0              NaN           NaN  \n",
       "1              NaN           NaN  \n",
       "2              NaN           NaN  \n",
       "3              NaN           NaN  \n",
       "4              NaN           NaN  \n",
       "...            ...           ...  \n",
       "16593          NaN           NaN  \n",
       "16594          NaN           NaN  \n",
       "16595          NaN           NaN  \n",
       "16596          NaN           NaN  \n",
       "16597          NaN           NaN  \n",
       "\n",
       "[16598 rows x 11 columns]"
      ]
     },
     "execution_count": 95,
     "metadata": {},
     "output_type": "execute_result"
    }
   ],
   "source": [
    "df[df.isnull()]"
   ]
  },
  {
   "cell_type": "code",
   "execution_count": 97,
   "metadata": {},
   "outputs": [],
   "source": [
    "df3 = df[\"Year\"].dropna()"
   ]
  },
  {
   "cell_type": "code",
   "execution_count": 98,
   "metadata": {},
   "outputs": [
    {
     "data": {
      "text/plain": [
       "0        2006\n",
       "1        1985\n",
       "2        2008\n",
       "3        2009\n",
       "4        1996\n",
       "         ... \n",
       "16593    2002\n",
       "16594    2003\n",
       "16595    2008\n",
       "16596    2010\n",
       "16597    2003\n",
       "Name: Year, Length: 16327, dtype: object"
      ]
     },
     "execution_count": 98,
     "metadata": {},
     "output_type": "execute_result"
    }
   ],
   "source": []
  },
  {
   "cell_type": "code",
   "execution_count": null,
   "metadata": {},
   "outputs": [],
   "source": []
  }
 ],
 "metadata": {
  "colab": {
   "collapsed_sections": [],
   "name": "2nd_week.ipynb",
   "provenance": [],
   "toc_visible": true
  },
  "kernelspec": {
   "display_name": "Python 3 (ipykernel)",
   "language": "python",
   "name": "python3"
  },
  "language_info": {
   "codemirror_mode": {
    "name": "ipython",
    "version": 3
   },
   "file_extension": ".py",
   "mimetype": "text/x-python",
   "name": "python",
   "nbconvert_exporter": "python",
   "pygments_lexer": "ipython3",
   "version": "3.9.7"
  }
 },
 "nbformat": 4,
 "nbformat_minor": 1
}
