{
 "cells": [
  {
   "cell_type": "code",
   "execution_count": 1,
   "id": "19963188",
   "metadata": {},
   "outputs": [],
   "source": [
    "import glob\n",
    "import pandas as pd\n",
    "import re\n",
    "import os"
   ]
  },
  {
   "cell_type": "markdown",
   "id": "77eb73d1",
   "metadata": {},
   "source": [
    "###  위치 설정 바람"
   ]
  },
  {
   "cell_type": "code",
   "execution_count": 2,
   "id": "c868b7a4",
   "metadata": {},
   "outputs": [],
   "source": [
    "train_path = os.getenv('HOME') + \"/aiffel/abc/train_ori/TS_01. KAKAO(1)\""
   ]
  },
  {
   "cell_type": "code",
   "execution_count": 3,
   "id": "832e3ff0",
   "metadata": {},
   "outputs": [
    {
     "data": {
      "text/plain": [
       "'/aiffel/aiffel/abc/train_ori/TS_01. KAKAO(1)'"
      ]
     },
     "execution_count": 3,
     "metadata": {},
     "output_type": "execute_result"
    }
   ],
   "source": [
    "train_path"
   ]
  },
  {
   "cell_type": "code",
   "execution_count": 3,
   "id": "3ccbba1d",
   "metadata": {},
   "outputs": [],
   "source": [
    "def make_table(txt_path):\n",
    "    files = glob.glob(txt_path + \"/*.txt\")  \n",
    "    \n",
    "    df =  pd.DataFrame(index=range(0,len(files)), columns=['idx', 'class','conversation'])\n",
    "    i = 0\n",
    "    for file in files:\n",
    "        f = open(file, 'r', encoding=\"UTF-8\")\n",
    "        line = f.readlines()\n",
    "        df['idx'][i] = i\n",
    "        df['class'][i] = '일상대화'\n",
    "        df['conversation'][i] = line\n",
    "        \n",
    "        i += 1\n",
    "    \n",
    "    return df"
   ]
  },
  {
   "cell_type": "code",
   "execution_count": 4,
   "id": "fa4b0a94",
   "metadata": {},
   "outputs": [
    {
     "data": {
      "text/html": [
       "<div>\n",
       "<style scoped>\n",
       "    .dataframe tbody tr th:only-of-type {\n",
       "        vertical-align: middle;\n",
       "    }\n",
       "\n",
       "    .dataframe tbody tr th {\n",
       "        vertical-align: top;\n",
       "    }\n",
       "\n",
       "    .dataframe thead th {\n",
       "        text-align: right;\n",
       "    }\n",
       "</style>\n",
       "<table border=\"1\" class=\"dataframe\">\n",
       "  <thead>\n",
       "    <tr style=\"text-align: right;\">\n",
       "      <th></th>\n",
       "      <th>idx</th>\n",
       "      <th>class</th>\n",
       "      <th>conversation</th>\n",
       "    </tr>\n",
       "  </thead>\n",
       "  <tbody>\n",
       "    <tr>\n",
       "      <th>0</th>\n",
       "      <td>0</td>\n",
       "      <td>일상대화</td>\n",
       "      <td>[1 : 핸드폰 앱 중에 제일 자주 사용하는 게 뭐야? sn s빼고\\n, 2 : 나...</td>\n",
       "    </tr>\n",
       "    <tr>\n",
       "      <th>1</th>\n",
       "      <td>1</td>\n",
       "      <td>일상대화</td>\n",
       "      <td>[1 : 겨울에 눈 오는 거 좋아해?\\n, 2 : 눈 오는 거 이쁘고 좋지 키키 춥...</td>\n",
       "    </tr>\n",
       "    <tr>\n",
       "      <th>2</th>\n",
       "      <td>2</td>\n",
       "      <td>일상대화</td>\n",
       "      <td>[1 : 언니는 여행 다니는 거 좋아해?\\n, 2 : 엄청 좋아해 특히 즉흥 여행!...</td>\n",
       "    </tr>\n",
       "    <tr>\n",
       "      <th>3</th>\n",
       "      <td>3</td>\n",
       "      <td>일상대화</td>\n",
       "      <td>[1 : 나도 다시 다이어트를 시작해볼까~ 요즘 너무 먹네\\n, 2 : 너 살 많이...</td>\n",
       "    </tr>\n",
       "    <tr>\n",
       "      <th>4</th>\n",
       "      <td>4</td>\n",
       "      <td>일상대화</td>\n",
       "      <td>[1 : 키키 우리 그러면 귀여워지기 위해 등산 가장 하하\\n, 2 : 등산을 하면...</td>\n",
       "    </tr>\n",
       "    <tr>\n",
       "      <th>...</th>\n",
       "      <td>...</td>\n",
       "      <td>...</td>\n",
       "      <td>...</td>\n",
       "    </tr>\n",
       "    <tr>\n",
       "      <th>17995</th>\n",
       "      <td>17995</td>\n",
       "      <td>일상대화</td>\n",
       "      <td>[1 : 너네는 해리포터 영화로 다 봤어?\\n, 2 : 어어! 당연히 봤지!\\n, ...</td>\n",
       "    </tr>\n",
       "    <tr>\n",
       "      <th>17996</th>\n",
       "      <td>17996</td>\n",
       "      <td>일상대화</td>\n",
       "      <td>[1 : 10월 1일이 국군의 날이었대 키키\\n, 알지\\n, 2 : 10월 1일 국...</td>\n",
       "    </tr>\n",
       "    <tr>\n",
       "      <th>17997</th>\n",
       "      <td>17997</td>\n",
       "      <td>일상대화</td>\n",
       "      <td>[1 : 아 요즘 잠을 좀 많이 잤더니 피부가 좋아졌어\\n, 2 : 키키 나는 요즘...</td>\n",
       "    </tr>\n",
       "    <tr>\n",
       "      <th>17998</th>\n",
       "      <td>17998</td>\n",
       "      <td>일상대화</td>\n",
       "      <td>[1 : 트럼프가 왜 난리지?\\n, 2 : 트럼프 ?\\n, 2 : 트럼프 무슨 짓 ...</td>\n",
       "    </tr>\n",
       "    <tr>\n",
       "      <th>17999</th>\n",
       "      <td>17999</td>\n",
       "      <td>일상대화</td>\n",
       "      <td>[1 : 아 진짜 가을만 되면 왜 이렇게 옆구리가 시리냐 키키\\n, 2 : 연애를 ...</td>\n",
       "    </tr>\n",
       "  </tbody>\n",
       "</table>\n",
       "<p>18000 rows × 3 columns</p>\n",
       "</div>"
      ],
      "text/plain": [
       "         idx class                                       conversation\n",
       "0          0  일상대화  [1 : 핸드폰 앱 중에 제일 자주 사용하는 게 뭐야? sn s빼고\\n, 2 : 나...\n",
       "1          1  일상대화  [1 : 겨울에 눈 오는 거 좋아해?\\n, 2 : 눈 오는 거 이쁘고 좋지 키키 춥...\n",
       "2          2  일상대화  [1 : 언니는 여행 다니는 거 좋아해?\\n, 2 : 엄청 좋아해 특히 즉흥 여행!...\n",
       "3          3  일상대화  [1 : 나도 다시 다이어트를 시작해볼까~ 요즘 너무 먹네\\n, 2 : 너 살 많이...\n",
       "4          4  일상대화  [1 : 키키 우리 그러면 귀여워지기 위해 등산 가장 하하\\n, 2 : 등산을 하면...\n",
       "...      ...   ...                                                ...\n",
       "17995  17995  일상대화  [1 : 너네는 해리포터 영화로 다 봤어?\\n, 2 : 어어! 당연히 봤지!\\n, ...\n",
       "17996  17996  일상대화  [1 : 10월 1일이 국군의 날이었대 키키\\n, 알지\\n, 2 : 10월 1일 국...\n",
       "17997  17997  일상대화  [1 : 아 요즘 잠을 좀 많이 잤더니 피부가 좋아졌어\\n, 2 : 키키 나는 요즘...\n",
       "17998  17998  일상대화  [1 : 트럼프가 왜 난리지?\\n, 2 : 트럼프 ?\\n, 2 : 트럼프 무슨 짓 ...\n",
       "17999  17999  일상대화  [1 : 아 진짜 가을만 되면 왜 이렇게 옆구리가 시리냐 키키\\n, 2 : 연애를 ...\n",
       "\n",
       "[18000 rows x 3 columns]"
      ]
     },
     "execution_count": 4,
     "metadata": {},
     "output_type": "execute_result"
    }
   ],
   "source": [
    "df = make_table(train_path)\n",
    "df"
   ]
  },
  {
   "cell_type": "code",
   "execution_count": 5,
   "id": "a11e06b5",
   "metadata": {},
   "outputs": [],
   "source": [
    "# df['conversation'][0][1][4:]"
   ]
  },
  {
   "cell_type": "code",
   "execution_count": 9,
   "id": "45e76d3c",
   "metadata": {},
   "outputs": [
    {
     "data": {
      "text/plain": [
       "4"
      ]
     },
     "execution_count": 9,
     "metadata": {},
     "output_type": "execute_result"
    }
   ],
   "source": [
    "len(\"3 : \")"
   ]
  },
  {
   "cell_type": "code",
   "execution_count": null,
   "id": "47a1154e",
   "metadata": {},
   "outputs": [],
   "source": []
  },
  {
   "cell_type": "code",
   "execution_count": 7,
   "id": "29444c3d",
   "metadata": {},
   "outputs": [
    {
     "data": {
      "text/plain": [
       "4"
      ]
     },
     "execution_count": 7,
     "metadata": {},
     "output_type": "execute_result"
    }
   ],
   "source": [
    "len('1 : ')"
   ]
  },
  {
   "cell_type": "code",
   "execution_count": 5,
   "id": "8a97bab1",
   "metadata": {},
   "outputs": [],
   "source": [
    "for i in range(len(df['conversation'])):\n",
    "    for j in range(len(df['conversation'][i])):\n",
    "        df['conversation'][i][j] = df['conversation'][i][j][4:]\n",
    "        df['conversation'][i][j] = df['conversation'][i][j].replace('1 : ',\"\")\n",
    "        df['conversation'][i][j] = df['conversation'][i][j].replace('2 : ',\"\")\n",
    "        df['conversation'][i][j] = df['conversation'][i][j].replace('3 : ',\"\")\n",
    "\n",
    "    df['conversation'][i] = ''.join(df['conversation'][i])"
   ]
  },
  {
   "cell_type": "code",
   "execution_count": 7,
   "id": "bebe5879",
   "metadata": {},
   "outputs": [
    {
     "data": {
      "text/html": [
       "<div>\n",
       "<style scoped>\n",
       "    .dataframe tbody tr th:only-of-type {\n",
       "        vertical-align: middle;\n",
       "    }\n",
       "\n",
       "    .dataframe tbody tr th {\n",
       "        vertical-align: top;\n",
       "    }\n",
       "\n",
       "    .dataframe thead th {\n",
       "        text-align: right;\n",
       "    }\n",
       "</style>\n",
       "<table border=\"1\" class=\"dataframe\">\n",
       "  <thead>\n",
       "    <tr style=\"text-align: right;\">\n",
       "      <th></th>\n",
       "      <th>idx</th>\n",
       "      <th>class</th>\n",
       "      <th>conversation</th>\n",
       "    </tr>\n",
       "  </thead>\n",
       "  <tbody>\n",
       "    <tr>\n",
       "      <th>0</th>\n",
       "      <td>0</td>\n",
       "      <td>일상대화</td>\n",
       "      <td>핸드폰 앱 중에 제일 자주 사용하는 게 뭐야? sn s빼고\\n나 요즘 당근마켓을 제...</td>\n",
       "    </tr>\n",
       "    <tr>\n",
       "      <th>1</th>\n",
       "      <td>1</td>\n",
       "      <td>일상대화</td>\n",
       "      <td>겨울에 눈 오는 거 좋아해?\\n눈 오는 거 이쁘고 좋지 키키 춥지만\\n근데 너무 오...</td>\n",
       "    </tr>\n",
       "    <tr>\n",
       "      <th>2</th>\n",
       "      <td>2</td>\n",
       "      <td>일상대화</td>\n",
       "      <td>언니는 여행 다니는 거 좋아해?\\n엄청 좋아해 특히 즉흥 여행!\\n헐?! 즉흥 여행...</td>\n",
       "    </tr>\n",
       "    <tr>\n",
       "      <th>3</th>\n",
       "      <td>3</td>\n",
       "      <td>일상대화</td>\n",
       "      <td>나도 다시 다이어트를 시작해볼까~ 요즘 너무 먹네\\n너 살 많이 빠졌던데 더 빼려고...</td>\n",
       "    </tr>\n",
       "    <tr>\n",
       "      <th>4</th>\n",
       "      <td>4</td>\n",
       "      <td>일상대화</td>\n",
       "      <td>키키 우리 그러면 귀여워지기 위해 등산 가장 하하\\n등산을 하면 더러워지는 것밖에 ...</td>\n",
       "    </tr>\n",
       "    <tr>\n",
       "      <th>...</th>\n",
       "      <td>...</td>\n",
       "      <td>...</td>\n",
       "      <td>...</td>\n",
       "    </tr>\n",
       "    <tr>\n",
       "      <th>17995</th>\n",
       "      <td>17995</td>\n",
       "      <td>일상대화</td>\n",
       "      <td>너네는 해리포터 영화로 다 봤어?\\n어어! 당연히 봤지!\\n난 아즈카반의 죄수 넘 ...</td>\n",
       "    </tr>\n",
       "    <tr>\n",
       "      <th>17996</th>\n",
       "      <td>17996</td>\n",
       "      <td>일상대화</td>\n",
       "      <td>10월 1일이 국군의 날이었대 키키\\n10월 1일 국군의 날 키키\\n국군의 날에 국...</td>\n",
       "    </tr>\n",
       "    <tr>\n",
       "      <th>17997</th>\n",
       "      <td>17997</td>\n",
       "      <td>일상대화</td>\n",
       "      <td>아 요즘 잠을 좀 많이 잤더니 피부가 좋아졌어\\n키키 나는 요즘 피곤해서 피부가 안...</td>\n",
       "    </tr>\n",
       "    <tr>\n",
       "      <th>17998</th>\n",
       "      <td>17998</td>\n",
       "      <td>일상대화</td>\n",
       "      <td>트럼프가 왜 난리지?\\n트럼프 ?\\n트럼프 무슨 짓 한 건데\\n트럼프 그만두지 않았...</td>\n",
       "    </tr>\n",
       "    <tr>\n",
       "      <th>17999</th>\n",
       "      <td>17999</td>\n",
       "      <td>일상대화</td>\n",
       "      <td>아 진짜 가을만 되면 왜 이렇게 옆구리가 시리냐 키키\\n연애를 안 해서 그런 거지 ...</td>\n",
       "    </tr>\n",
       "  </tbody>\n",
       "</table>\n",
       "<p>18000 rows × 3 columns</p>\n",
       "</div>"
      ],
      "text/plain": [
       "         idx class                                       conversation\n",
       "0          0  일상대화  핸드폰 앱 중에 제일 자주 사용하는 게 뭐야? sn s빼고\\n나 요즘 당근마켓을 제...\n",
       "1          1  일상대화  겨울에 눈 오는 거 좋아해?\\n눈 오는 거 이쁘고 좋지 키키 춥지만\\n근데 너무 오...\n",
       "2          2  일상대화  언니는 여행 다니는 거 좋아해?\\n엄청 좋아해 특히 즉흥 여행!\\n헐?! 즉흥 여행...\n",
       "3          3  일상대화  나도 다시 다이어트를 시작해볼까~ 요즘 너무 먹네\\n너 살 많이 빠졌던데 더 빼려고...\n",
       "4          4  일상대화  키키 우리 그러면 귀여워지기 위해 등산 가장 하하\\n등산을 하면 더러워지는 것밖에 ...\n",
       "...      ...   ...                                                ...\n",
       "17995  17995  일상대화  너네는 해리포터 영화로 다 봤어?\\n어어! 당연히 봤지!\\n난 아즈카반의 죄수 넘 ...\n",
       "17996  17996  일상대화  10월 1일이 국군의 날이었대 키키\\n10월 1일 국군의 날 키키\\n국군의 날에 국...\n",
       "17997  17997  일상대화  아 요즘 잠을 좀 많이 잤더니 피부가 좋아졌어\\n키키 나는 요즘 피곤해서 피부가 안...\n",
       "17998  17998  일상대화  트럼프가 왜 난리지?\\n트럼프 ?\\n트럼프 무슨 짓 한 건데\\n트럼프 그만두지 않았...\n",
       "17999  17999  일상대화  아 진짜 가을만 되면 왜 이렇게 옆구리가 시리냐 키키\\n연애를 안 해서 그런 거지 ...\n",
       "\n",
       "[18000 rows x 3 columns]"
      ]
     },
     "execution_count": 7,
     "metadata": {},
     "output_type": "execute_result"
    }
   ],
   "source": [
    "df"
   ]
  },
  {
   "cell_type": "markdown",
   "id": "562dc864",
   "metadata": {},
   "source": [
    "###  이름 설정 바꾸길 바람"
   ]
  },
  {
   "cell_type": "code",
   "execution_count": 6,
   "id": "c88d62f7",
   "metadata": {},
   "outputs": [],
   "source": [
    "df.to_csv(\"train_kakao_1.csv\", mode='w', index=False)"
   ]
  },
  {
   "cell_type": "code",
   "execution_count": 20,
   "id": "f29c9bd2",
   "metadata": {},
   "outputs": [
    {
     "name": "stdout",
     "output_type": "stream",
     "text": [
      " gal.ipynb           \u001b[0m\u001b[01;34m__MACOSX\u001b[0m/           train_ori.zip\r\n",
      " kakao-Copy1.ipynb   train_kakao_1.csv  \u001b[01;34m'TS_01. KAKAO(1)csv'\u001b[0m/\r\n",
      " kakao.ipynb         \u001b[01;34mtrain_ori\u001b[0m/          Untitled.ipynb\r\n"
     ]
    }
   ],
   "source": [
    "ls"
   ]
  },
  {
   "cell_type": "markdown",
   "id": "9f44e7c1",
   "metadata": {},
   "source": [
    "###  확인 과정"
   ]
  },
  {
   "cell_type": "code",
   "execution_count": 9,
   "id": "29322a2d",
   "metadata": {},
   "outputs": [
    {
     "data": {
      "text/html": [
       "<div>\n",
       "<style scoped>\n",
       "    .dataframe tbody tr th:only-of-type {\n",
       "        vertical-align: middle;\n",
       "    }\n",
       "\n",
       "    .dataframe tbody tr th {\n",
       "        vertical-align: top;\n",
       "    }\n",
       "\n",
       "    .dataframe thead th {\n",
       "        text-align: right;\n",
       "    }\n",
       "</style>\n",
       "<table border=\"1\" class=\"dataframe\">\n",
       "  <thead>\n",
       "    <tr style=\"text-align: right;\">\n",
       "      <th></th>\n",
       "      <th>idx</th>\n",
       "      <th>class</th>\n",
       "      <th>conversation</th>\n",
       "    </tr>\n",
       "  </thead>\n",
       "  <tbody>\n",
       "    <tr>\n",
       "      <th>0</th>\n",
       "      <td>0</td>\n",
       "      <td>일상대화</td>\n",
       "      <td>핸드폰 앱 중에 제일 자주 사용하는 게 뭐야? sn s빼고\\n나 요즘 당근마켓을 제...</td>\n",
       "    </tr>\n",
       "    <tr>\n",
       "      <th>1</th>\n",
       "      <td>1</td>\n",
       "      <td>일상대화</td>\n",
       "      <td>겨울에 눈 오는 거 좋아해?\\n눈 오는 거 이쁘고 좋지 키키 춥지만\\n근데 너무 오...</td>\n",
       "    </tr>\n",
       "    <tr>\n",
       "      <th>2</th>\n",
       "      <td>2</td>\n",
       "      <td>일상대화</td>\n",
       "      <td>언니는 여행 다니는 거 좋아해?\\n엄청 좋아해 특히 즉흥 여행!\\n헐?! 즉흥 여행...</td>\n",
       "    </tr>\n",
       "    <tr>\n",
       "      <th>3</th>\n",
       "      <td>3</td>\n",
       "      <td>일상대화</td>\n",
       "      <td>나도 다시 다이어트를 시작해볼까~ 요즘 너무 먹네\\n너 살 많이 빠졌던데 더 빼려고...</td>\n",
       "    </tr>\n",
       "    <tr>\n",
       "      <th>4</th>\n",
       "      <td>4</td>\n",
       "      <td>일상대화</td>\n",
       "      <td>키키 우리 그러면 귀여워지기 위해 등산 가장 하하\\n등산을 하면 더러워지는 것밖에 ...</td>\n",
       "    </tr>\n",
       "    <tr>\n",
       "      <th>...</th>\n",
       "      <td>...</td>\n",
       "      <td>...</td>\n",
       "      <td>...</td>\n",
       "    </tr>\n",
       "    <tr>\n",
       "      <th>17995</th>\n",
       "      <td>17995</td>\n",
       "      <td>일상대화</td>\n",
       "      <td>너네는 해리포터 영화로 다 봤어?\\n어어! 당연히 봤지!\\n난 아즈카반의 죄수 넘 ...</td>\n",
       "    </tr>\n",
       "    <tr>\n",
       "      <th>17996</th>\n",
       "      <td>17996</td>\n",
       "      <td>일상대화</td>\n",
       "      <td>10월 1일이 국군의 날이었대 키키\\n10월 1일 국군의 날 키키\\n국군의 날에 국...</td>\n",
       "    </tr>\n",
       "    <tr>\n",
       "      <th>17997</th>\n",
       "      <td>17997</td>\n",
       "      <td>일상대화</td>\n",
       "      <td>아 요즘 잠을 좀 많이 잤더니 피부가 좋아졌어\\n키키 나는 요즘 피곤해서 피부가 안...</td>\n",
       "    </tr>\n",
       "    <tr>\n",
       "      <th>17998</th>\n",
       "      <td>17998</td>\n",
       "      <td>일상대화</td>\n",
       "      <td>트럼프가 왜 난리지?\\n트럼프 ?\\n트럼프 무슨 짓 한 건데\\n트럼프 그만두지 않았...</td>\n",
       "    </tr>\n",
       "    <tr>\n",
       "      <th>17999</th>\n",
       "      <td>17999</td>\n",
       "      <td>일상대화</td>\n",
       "      <td>아 진짜 가을만 되면 왜 이렇게 옆구리가 시리냐 키키\\n연애를 안 해서 그런 거지 ...</td>\n",
       "    </tr>\n",
       "  </tbody>\n",
       "</table>\n",
       "<p>18000 rows × 3 columns</p>\n",
       "</div>"
      ],
      "text/plain": [
       "         idx class                                       conversation\n",
       "0          0  일상대화  핸드폰 앱 중에 제일 자주 사용하는 게 뭐야? sn s빼고\\n나 요즘 당근마켓을 제...\n",
       "1          1  일상대화  겨울에 눈 오는 거 좋아해?\\n눈 오는 거 이쁘고 좋지 키키 춥지만\\n근데 너무 오...\n",
       "2          2  일상대화  언니는 여행 다니는 거 좋아해?\\n엄청 좋아해 특히 즉흥 여행!\\n헐?! 즉흥 여행...\n",
       "3          3  일상대화  나도 다시 다이어트를 시작해볼까~ 요즘 너무 먹네\\n너 살 많이 빠졌던데 더 빼려고...\n",
       "4          4  일상대화  키키 우리 그러면 귀여워지기 위해 등산 가장 하하\\n등산을 하면 더러워지는 것밖에 ...\n",
       "...      ...   ...                                                ...\n",
       "17995  17995  일상대화  너네는 해리포터 영화로 다 봤어?\\n어어! 당연히 봤지!\\n난 아즈카반의 죄수 넘 ...\n",
       "17996  17996  일상대화  10월 1일이 국군의 날이었대 키키\\n10월 1일 국군의 날 키키\\n국군의 날에 국...\n",
       "17997  17997  일상대화  아 요즘 잠을 좀 많이 잤더니 피부가 좋아졌어\\n키키 나는 요즘 피곤해서 피부가 안...\n",
       "17998  17998  일상대화  트럼프가 왜 난리지?\\n트럼프 ?\\n트럼프 무슨 짓 한 건데\\n트럼프 그만두지 않았...\n",
       "17999  17999  일상대화  아 진짜 가을만 되면 왜 이렇게 옆구리가 시리냐 키키\\n연애를 안 해서 그런 거지 ...\n",
       "\n",
       "[18000 rows x 3 columns]"
      ]
     },
     "execution_count": 9,
     "metadata": {},
     "output_type": "execute_result"
    }
   ],
   "source": [
    "pd.read_csv(\"train_kakao_1.csv\")"
   ]
  },
  {
   "cell_type": "code",
   "execution_count": 22,
   "id": "a8cabbe5",
   "metadata": {},
   "outputs": [
    {
     "data": {
      "text/html": [
       "<div>\n",
       "<style scoped>\n",
       "    .dataframe tbody tr th:only-of-type {\n",
       "        vertical-align: middle;\n",
       "    }\n",
       "\n",
       "    .dataframe tbody tr th {\n",
       "        vertical-align: top;\n",
       "    }\n",
       "\n",
       "    .dataframe thead th {\n",
       "        text-align: right;\n",
       "    }\n",
       "</style>\n",
       "<table border=\"1\" class=\"dataframe\">\n",
       "  <thead>\n",
       "    <tr style=\"text-align: right;\">\n",
       "      <th></th>\n",
       "      <th>idx</th>\n",
       "      <th>class</th>\n",
       "      <th>conversation</th>\n",
       "    </tr>\n",
       "  </thead>\n",
       "  <tbody>\n",
       "    <tr>\n",
       "      <th>0</th>\n",
       "      <td>0</td>\n",
       "      <td>일상대화</td>\n",
       "      <td>핸드폰 앱 중에 제일 자주 사용하는 게 뭐야? sn s빼고\\n나 요즘 당근마켓을 제...</td>\n",
       "    </tr>\n",
       "    <tr>\n",
       "      <th>1</th>\n",
       "      <td>1</td>\n",
       "      <td>일상대화</td>\n",
       "      <td>겨울에 눈 오는 거 좋아해?\\n눈 오는 거 이쁘고 좋지 키키 춥지만\\n근데 너무 오...</td>\n",
       "    </tr>\n",
       "    <tr>\n",
       "      <th>2</th>\n",
       "      <td>2</td>\n",
       "      <td>일상대화</td>\n",
       "      <td>언니는 여행 다니는 거 좋아해?\\n엄청 좋아해 특히 즉흥 여행!\\n헐?! 즉흥 여행...</td>\n",
       "    </tr>\n",
       "    <tr>\n",
       "      <th>3</th>\n",
       "      <td>3</td>\n",
       "      <td>일상대화</td>\n",
       "      <td>나도 다시 다이어트를 시작해볼까~ 요즘 너무 먹네\\n너 살 많이 빠졌던데 더 빼려고...</td>\n",
       "    </tr>\n",
       "    <tr>\n",
       "      <th>4</th>\n",
       "      <td>4</td>\n",
       "      <td>일상대화</td>\n",
       "      <td>키키 우리 그러면 귀여워지기 위해 등산 가장 하하\\n등산을 하면 더러워지는 것밖에 ...</td>\n",
       "    </tr>\n",
       "    <tr>\n",
       "      <th>...</th>\n",
       "      <td>...</td>\n",
       "      <td>...</td>\n",
       "      <td>...</td>\n",
       "    </tr>\n",
       "    <tr>\n",
       "      <th>17995</th>\n",
       "      <td>17995</td>\n",
       "      <td>일상대화</td>\n",
       "      <td>너네는 해리포터 영화로 다 봤어?\\n어어! 당연히 봤지!\\n난 아즈카반의 죄수 넘 ...</td>\n",
       "    </tr>\n",
       "    <tr>\n",
       "      <th>17996</th>\n",
       "      <td>17996</td>\n",
       "      <td>일상대화</td>\n",
       "      <td>10월 1일이 국군의 날이었대 키키\\n알지\\n10월 1일 국군의 날 키키\\n국군의 ...</td>\n",
       "    </tr>\n",
       "    <tr>\n",
       "      <th>17997</th>\n",
       "      <td>17997</td>\n",
       "      <td>일상대화</td>\n",
       "      <td>아 요즘 잠을 좀 많이 잤더니 피부가 좋아졌어\\n키키 나는 요즘 피곤해서 피부가 안...</td>\n",
       "    </tr>\n",
       "    <tr>\n",
       "      <th>17998</th>\n",
       "      <td>17998</td>\n",
       "      <td>일상대화</td>\n",
       "      <td>트럼프가 왜 난리지?\\n트럼프 ?\\n트럼프 무슨 짓 한 건데\\n트럼프 그만두지 않았...</td>\n",
       "    </tr>\n",
       "    <tr>\n",
       "      <th>17999</th>\n",
       "      <td>17999</td>\n",
       "      <td>일상대화</td>\n",
       "      <td>아 진짜 가을만 되면 왜 이렇게 옆구리가 시리냐 키키\\n연애를 안 해서 그런 거지 ...</td>\n",
       "    </tr>\n",
       "  </tbody>\n",
       "</table>\n",
       "<p>18000 rows × 3 columns</p>\n",
       "</div>"
      ],
      "text/plain": [
       "         idx class                                       conversation\n",
       "0          0  일상대화  핸드폰 앱 중에 제일 자주 사용하는 게 뭐야? sn s빼고\\n나 요즘 당근마켓을 제...\n",
       "1          1  일상대화  겨울에 눈 오는 거 좋아해?\\n눈 오는 거 이쁘고 좋지 키키 춥지만\\n근데 너무 오...\n",
       "2          2  일상대화  언니는 여행 다니는 거 좋아해?\\n엄청 좋아해 특히 즉흥 여행!\\n헐?! 즉흥 여행...\n",
       "3          3  일상대화  나도 다시 다이어트를 시작해볼까~ 요즘 너무 먹네\\n너 살 많이 빠졌던데 더 빼려고...\n",
       "4          4  일상대화  키키 우리 그러면 귀여워지기 위해 등산 가장 하하\\n등산을 하면 더러워지는 것밖에 ...\n",
       "...      ...   ...                                                ...\n",
       "17995  17995  일상대화  너네는 해리포터 영화로 다 봤어?\\n어어! 당연히 봤지!\\n난 아즈카반의 죄수 넘 ...\n",
       "17996  17996  일상대화  10월 1일이 국군의 날이었대 키키\\n알지\\n10월 1일 국군의 날 키키\\n국군의 ...\n",
       "17997  17997  일상대화  아 요즘 잠을 좀 많이 잤더니 피부가 좋아졌어\\n키키 나는 요즘 피곤해서 피부가 안...\n",
       "17998  17998  일상대화  트럼프가 왜 난리지?\\n트럼프 ?\\n트럼프 무슨 짓 한 건데\\n트럼프 그만두지 않았...\n",
       "17999  17999  일상대화  아 진짜 가을만 되면 왜 이렇게 옆구리가 시리냐 키키\\n연애를 안 해서 그런 거지 ...\n",
       "\n",
       "[18000 rows x 3 columns]"
      ]
     },
     "execution_count": 22,
     "metadata": {},
     "output_type": "execute_result"
    }
   ],
   "source": [
    "df"
   ]
  },
  {
   "cell_type": "code",
   "execution_count": null,
   "id": "7d4dd303",
   "metadata": {},
   "outputs": [],
   "source": []
  }
 ],
 "metadata": {
  "kernelspec": {
   "display_name": "Python 3 (ipykernel)",
   "language": "python",
   "name": "python3"
  },
  "language_info": {
   "codemirror_mode": {
    "name": "ipython",
    "version": 3
   },
   "file_extension": ".py",
   "mimetype": "text/x-python",
   "name": "python",
   "nbconvert_exporter": "python",
   "pygments_lexer": "ipython3",
   "version": "3.9.7"
  }
 },
 "nbformat": 4,
 "nbformat_minor": 5
}
