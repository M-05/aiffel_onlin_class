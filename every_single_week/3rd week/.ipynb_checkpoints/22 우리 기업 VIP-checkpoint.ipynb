{
 "cells": [
  {
   "cell_type": "code",
   "execution_count": 46,
   "id": "35f4f89f",
   "metadata": {},
   "outputs": [
    {
     "name": "stdout",
     "output_type": "stream",
     "text": [
      "ln: failed to create symbolic link '/aiffel/aiffel/data_analysis_basic/data/sales_05_8.csv': File exists\r\n"
     ]
    }
   ],
   "source": [
    "!mkdir -p ~/aiffel/data_analysis_basic/data\n",
    "!ln -s ~/data/* ~/aiffel/data_analysis_basic/data"
   ]
  },
  {
   "cell_type": "code",
   "execution_count": 47,
   "id": "32412c30",
   "metadata": {},
   "outputs": [
    {
     "data": {
      "text/html": [
       "<div>\n",
       "<style scoped>\n",
       "    .dataframe tbody tr th:only-of-type {\n",
       "        vertical-align: middle;\n",
       "    }\n",
       "\n",
       "    .dataframe tbody tr th {\n",
       "        vertical-align: top;\n",
       "    }\n",
       "\n",
       "    .dataframe thead th {\n",
       "        text-align: right;\n",
       "    }\n",
       "</style>\n",
       "<table border=\"1\" class=\"dataframe\">\n",
       "  <thead>\n",
       "    <tr style=\"text-align: right;\">\n",
       "      <th></th>\n",
       "      <th>Install</th>\n",
       "      <th>Time_stamp</th>\n",
       "      <th>Status</th>\n",
       "      <th>ID</th>\n",
       "      <th>Payment</th>\n",
       "      <th>Game_Name</th>\n",
       "    </tr>\n",
       "  </thead>\n",
       "  <tbody>\n",
       "    <tr>\n",
       "      <th>0</th>\n",
       "      <td>2022-01-14</td>\n",
       "      <td>2022-01-27</td>\n",
       "      <td>purchase</td>\n",
       "      <td>Heidi_635</td>\n",
       "      <td>19900</td>\n",
       "      <td>Soccer Manager</td>\n",
       "    </tr>\n",
       "    <tr>\n",
       "      <th>1</th>\n",
       "      <td>2022-03-10</td>\n",
       "      <td>2022-03-13</td>\n",
       "      <td>purchase</td>\n",
       "      <td>Courtney_067</td>\n",
       "      <td>900</td>\n",
       "      <td>Mine Ground</td>\n",
       "    </tr>\n",
       "    <tr>\n",
       "      <th>2</th>\n",
       "      <td>2022-02-13</td>\n",
       "      <td>2022-02-19</td>\n",
       "      <td>purchase</td>\n",
       "      <td>David_737</td>\n",
       "      <td>9900</td>\n",
       "      <td>Soccer Manager</td>\n",
       "    </tr>\n",
       "    <tr>\n",
       "      <th>3</th>\n",
       "      <td>2022-02-07</td>\n",
       "      <td>2022-02-25</td>\n",
       "      <td>purchase</td>\n",
       "      <td>Lindsay_820</td>\n",
       "      <td>4900</td>\n",
       "      <td>Mine Ground</td>\n",
       "    </tr>\n",
       "    <tr>\n",
       "      <th>4</th>\n",
       "      <td>2022-03-06</td>\n",
       "      <td>2022-03-10</td>\n",
       "      <td>purchase</td>\n",
       "      <td>Jon_823</td>\n",
       "      <td>49900</td>\n",
       "      <td>Soccer Manager</td>\n",
       "    </tr>\n",
       "  </tbody>\n",
       "</table>\n",
       "</div>"
      ],
      "text/plain": [
       "      Install  Time_stamp    Status            ID  Payment       Game_Name\n",
       "0  2022-01-14  2022-01-27  purchase     Heidi_635    19900  Soccer Manager\n",
       "1  2022-03-10  2022-03-13  purchase  Courtney_067      900     Mine Ground\n",
       "2  2022-02-13  2022-02-19  purchase     David_737     9900  Soccer Manager\n",
       "3  2022-02-07  2022-02-25  purchase   Lindsay_820     4900     Mine Ground\n",
       "4  2022-03-06  2022-03-10  purchase       Jon_823    49900  Soccer Manager"
      ]
     },
     "execution_count": 47,
     "metadata": {},
     "output_type": "execute_result"
    }
   ],
   "source": [
    "# Pandas, Numpy, Matplotlib, Seaborn을 호출\n",
    "import pandas as pd\n",
    "import numpy as np\n",
    "import matplotlib.pyplot as plt\n",
    "plt.style.use('default')\n",
    "import seaborn as sns\n",
    "import datetime as dt\n",
    "\n",
    "# sales_data 변수를 만들고 sales_05.csv 값을 할당\n",
    "sales_data = pd.read_csv('~/aiffel/data_analysis_basic/data/sales_05_8.csv')\n",
    "\n",
    "# sales_data의 head 값 확인하기\n",
    "sales_data.head()"
   ]
  },
  {
   "cell_type": "code",
   "execution_count": 48,
   "id": "de633ba7",
   "metadata": {},
   "outputs": [
    {
     "name": "stdout",
     "output_type": "stream",
     "text": [
      "<class 'pandas.core.frame.DataFrame'>\n",
      "RangeIndex: 75087 entries, 0 to 75086\n",
      "Data columns (total 6 columns):\n",
      " #   Column      Non-Null Count  Dtype \n",
      "---  ------      --------------  ----- \n",
      " 0   Install     75087 non-null  object\n",
      " 1   Time_stamp  75087 non-null  object\n",
      " 2   Status      75087 non-null  object\n",
      " 3   ID          75087 non-null  object\n",
      " 4   Payment     75087 non-null  int64 \n",
      " 5   Game_Name   75087 non-null  object\n",
      "dtypes: int64(1), object(5)\n",
      "memory usage: 3.4+ MB\n"
     ]
    },
    {
     "data": {
      "text/html": [
       "<div>\n",
       "<style scoped>\n",
       "    .dataframe tbody tr th:only-of-type {\n",
       "        vertical-align: middle;\n",
       "    }\n",
       "\n",
       "    .dataframe tbody tr th {\n",
       "        vertical-align: top;\n",
       "    }\n",
       "\n",
       "    .dataframe thead th {\n",
       "        text-align: right;\n",
       "    }\n",
       "</style>\n",
       "<table border=\"1\" class=\"dataframe\">\n",
       "  <thead>\n",
       "    <tr style=\"text-align: right;\">\n",
       "      <th></th>\n",
       "      <th>Payment</th>\n",
       "    </tr>\n",
       "  </thead>\n",
       "  <tbody>\n",
       "    <tr>\n",
       "      <th>count</th>\n",
       "      <td>75087.000000</td>\n",
       "    </tr>\n",
       "    <tr>\n",
       "      <th>mean</th>\n",
       "      <td>3531.114574</td>\n",
       "    </tr>\n",
       "    <tr>\n",
       "      <th>std</th>\n",
       "      <td>8690.145281</td>\n",
       "    </tr>\n",
       "    <tr>\n",
       "      <th>min</th>\n",
       "      <td>0.000000</td>\n",
       "    </tr>\n",
       "    <tr>\n",
       "      <th>25%</th>\n",
       "      <td>0.000000</td>\n",
       "    </tr>\n",
       "    <tr>\n",
       "      <th>50%</th>\n",
       "      <td>0.000000</td>\n",
       "    </tr>\n",
       "    <tr>\n",
       "      <th>75%</th>\n",
       "      <td>900.000000</td>\n",
       "    </tr>\n",
       "    <tr>\n",
       "      <th>max</th>\n",
       "      <td>49900.000000</td>\n",
       "    </tr>\n",
       "  </tbody>\n",
       "</table>\n",
       "</div>"
      ],
      "text/plain": [
       "            Payment\n",
       "count  75087.000000\n",
       "mean    3531.114574\n",
       "std     8690.145281\n",
       "min        0.000000\n",
       "25%        0.000000\n",
       "50%        0.000000\n",
       "75%      900.000000\n",
       "max    49900.000000"
      ]
     },
     "execution_count": 48,
     "metadata": {},
     "output_type": "execute_result"
    }
   ],
   "source": [
    "sales_data.info()\n",
    "sales_data.describe()"
   ]
  },
  {
   "cell_type": "code",
   "execution_count": 49,
   "id": "01c1c7f9",
   "metadata": {},
   "outputs": [
    {
     "data": {
      "text/plain": [
       "75087"
      ]
     },
     "execution_count": 49,
     "metadata": {},
     "output_type": "execute_result"
    }
   ],
   "source": [
    "len(sales_data)"
   ]
  },
  {
   "cell_type": "code",
   "execution_count": 50,
   "id": "a15c0bb4",
   "metadata": {},
   "outputs": [
    {
     "data": {
      "text/plain": [
       "75087"
      ]
     },
     "execution_count": 50,
     "metadata": {},
     "output_type": "execute_result"
    }
   ],
   "source": [
    "len(sales_data['ID'])"
   ]
  },
  {
   "cell_type": "code",
   "execution_count": 51,
   "id": "02c944d6",
   "metadata": {},
   "outputs": [
    {
     "data": {
      "text/plain": [
       "52672"
      ]
     },
     "execution_count": 51,
     "metadata": {},
     "output_type": "execute_result"
    }
   ],
   "source": [
    "len(sales_data['ID'].unique())"
   ]
  },
  {
   "cell_type": "code",
   "execution_count": 52,
   "id": "abcbc6ca",
   "metadata": {},
   "outputs": [
    {
     "data": {
      "text/html": [
       "<div>\n",
       "<style scoped>\n",
       "    .dataframe tbody tr th:only-of-type {\n",
       "        vertical-align: middle;\n",
       "    }\n",
       "\n",
       "    .dataframe tbody tr th {\n",
       "        vertical-align: top;\n",
       "    }\n",
       "\n",
       "    .dataframe thead th {\n",
       "        text-align: right;\n",
       "    }\n",
       "</style>\n",
       "<table border=\"1\" class=\"dataframe\">\n",
       "  <thead>\n",
       "    <tr style=\"text-align: right;\">\n",
       "      <th></th>\n",
       "      <th>Install</th>\n",
       "      <th>Time_stamp</th>\n",
       "      <th>Status</th>\n",
       "      <th>ID</th>\n",
       "      <th>Payment</th>\n",
       "      <th>Game_Name</th>\n",
       "    </tr>\n",
       "  </thead>\n",
       "  <tbody>\n",
       "    <tr>\n",
       "      <th>0</th>\n",
       "      <td>2022-01-14</td>\n",
       "      <td>2022-01-27</td>\n",
       "      <td>purchase</td>\n",
       "      <td>Heidi_635</td>\n",
       "      <td>19900</td>\n",
       "      <td>Soccer Manager</td>\n",
       "    </tr>\n",
       "    <tr>\n",
       "      <th>1</th>\n",
       "      <td>2022-03-10</td>\n",
       "      <td>2022-03-13</td>\n",
       "      <td>purchase</td>\n",
       "      <td>Courtney_067</td>\n",
       "      <td>900</td>\n",
       "      <td>Mine Ground</td>\n",
       "    </tr>\n",
       "    <tr>\n",
       "      <th>2</th>\n",
       "      <td>2022-02-13</td>\n",
       "      <td>2022-02-19</td>\n",
       "      <td>purchase</td>\n",
       "      <td>David_737</td>\n",
       "      <td>9900</td>\n",
       "      <td>Soccer Manager</td>\n",
       "    </tr>\n",
       "    <tr>\n",
       "      <th>3</th>\n",
       "      <td>2022-02-07</td>\n",
       "      <td>2022-02-25</td>\n",
       "      <td>purchase</td>\n",
       "      <td>Lindsay_820</td>\n",
       "      <td>4900</td>\n",
       "      <td>Mine Ground</td>\n",
       "    </tr>\n",
       "    <tr>\n",
       "      <th>4</th>\n",
       "      <td>2022-03-06</td>\n",
       "      <td>2022-03-10</td>\n",
       "      <td>purchase</td>\n",
       "      <td>Jon_823</td>\n",
       "      <td>49900</td>\n",
       "      <td>Soccer Manager</td>\n",
       "    </tr>\n",
       "    <tr>\n",
       "      <th>...</th>\n",
       "      <td>...</td>\n",
       "      <td>...</td>\n",
       "      <td>...</td>\n",
       "      <td>...</td>\n",
       "      <td>...</td>\n",
       "      <td>...</td>\n",
       "    </tr>\n",
       "    <tr>\n",
       "      <th>75082</th>\n",
       "      <td>2022-04-12</td>\n",
       "      <td>2022-04-20</td>\n",
       "      <td>play</td>\n",
       "      <td>Harold_873</td>\n",
       "      <td>0</td>\n",
       "      <td>Soccer Manager</td>\n",
       "    </tr>\n",
       "    <tr>\n",
       "      <th>75083</th>\n",
       "      <td>2022-01-29</td>\n",
       "      <td>2022-02-03</td>\n",
       "      <td>play</td>\n",
       "      <td>Mark_684</td>\n",
       "      <td>0</td>\n",
       "      <td>Mine Ground</td>\n",
       "    </tr>\n",
       "    <tr>\n",
       "      <th>75084</th>\n",
       "      <td>2022-01-11</td>\n",
       "      <td>2022-01-18</td>\n",
       "      <td>play</td>\n",
       "      <td>Roy_084</td>\n",
       "      <td>0</td>\n",
       "      <td>Soccer Manager</td>\n",
       "    </tr>\n",
       "    <tr>\n",
       "      <th>75085</th>\n",
       "      <td>2022-01-09</td>\n",
       "      <td>2022-01-23</td>\n",
       "      <td>play</td>\n",
       "      <td>Erika_151</td>\n",
       "      <td>0</td>\n",
       "      <td>Mine Ground</td>\n",
       "    </tr>\n",
       "    <tr>\n",
       "      <th>75086</th>\n",
       "      <td>2022-02-18</td>\n",
       "      <td>2022-02-28</td>\n",
       "      <td>play</td>\n",
       "      <td>Franklin_013</td>\n",
       "      <td>0</td>\n",
       "      <td>Mine Ground</td>\n",
       "    </tr>\n",
       "  </tbody>\n",
       "</table>\n",
       "<p>75087 rows × 6 columns</p>\n",
       "</div>"
      ],
      "text/plain": [
       "          Install  Time_stamp    Status            ID  Payment       Game_Name\n",
       "0      2022-01-14  2022-01-27  purchase     Heidi_635    19900  Soccer Manager\n",
       "1      2022-03-10  2022-03-13  purchase  Courtney_067      900     Mine Ground\n",
       "2      2022-02-13  2022-02-19  purchase     David_737     9900  Soccer Manager\n",
       "3      2022-02-07  2022-02-25  purchase   Lindsay_820     4900     Mine Ground\n",
       "4      2022-03-06  2022-03-10  purchase       Jon_823    49900  Soccer Manager\n",
       "...           ...         ...       ...           ...      ...             ...\n",
       "75082  2022-04-12  2022-04-20      play    Harold_873        0  Soccer Manager\n",
       "75083  2022-01-29  2022-02-03      play      Mark_684        0     Mine Ground\n",
       "75084  2022-01-11  2022-01-18      play       Roy_084        0  Soccer Manager\n",
       "75085  2022-01-09  2022-01-23      play     Erika_151        0     Mine Ground\n",
       "75086  2022-02-18  2022-02-28      play  Franklin_013        0     Mine Ground\n",
       "\n",
       "[75087 rows x 6 columns]"
      ]
     },
     "execution_count": 52,
     "metadata": {},
     "output_type": "execute_result"
    }
   ],
   "source": [
    "sales_data"
   ]
  },
  {
   "cell_type": "code",
   "execution_count": 53,
   "id": "457cbd65",
   "metadata": {},
   "outputs": [
    {
     "data": {
      "text/plain": [
       "Install           2022-01-14\n",
       "Time_stamp        2022-01-27\n",
       "Status              purchase\n",
       "ID                 Heidi_635\n",
       "Payment                19900\n",
       "Game_Name     Soccer Manager\n",
       "Name: 0, dtype: object"
      ]
     },
     "execution_count": 53,
     "metadata": {},
     "output_type": "execute_result"
    }
   ],
   "source": [
    "sales_data.loc[0]"
   ]
  },
  {
   "cell_type": "code",
   "execution_count": 54,
   "id": "e8c3c85c",
   "metadata": {},
   "outputs": [],
   "source": [
    "sales_data['Now'] = '2022-06-10'\n",
    "# sal_d['Now'] = pd.to_datetime(sales_data['Now'])"
   ]
  },
  {
   "cell_type": "code",
   "execution_count": 55,
   "id": "7401ebfb",
   "metadata": {},
   "outputs": [],
   "source": [
    "sales_data['Now'] = pd.to_datetime(sales_data['Now'])\n",
    "sales_data['Time_stamp'] = pd.to_datetime(sales_data['Time_stamp'])"
   ]
  },
  {
   "cell_type": "code",
   "execution_count": 56,
   "id": "63591c82",
   "metadata": {},
   "outputs": [
    {
     "name": "stdout",
     "output_type": "stream",
     "text": [
      "<class 'pandas.core.frame.DataFrame'>\n",
      "Int64Index: 27682 entries, 0 to 27681\n",
      "Data columns (total 7 columns):\n",
      " #   Column      Non-Null Count  Dtype         \n",
      "---  ------      --------------  -----         \n",
      " 0   Install     27682 non-null  object        \n",
      " 1   Time_stamp  27682 non-null  datetime64[ns]\n",
      " 2   Status      27682 non-null  object        \n",
      " 3   ID          27682 non-null  object        \n",
      " 4   Payment     27682 non-null  int64         \n",
      " 5   Game_Name   27682 non-null  object        \n",
      " 6   Now         27682 non-null  datetime64[ns]\n",
      "dtypes: datetime64[ns](2), int64(1), object(4)\n",
      "memory usage: 1.7+ MB\n"
     ]
    },
    {
     "data": {
      "text/html": [
       "<div>\n",
       "<style scoped>\n",
       "    .dataframe tbody tr th:only-of-type {\n",
       "        vertical-align: middle;\n",
       "    }\n",
       "\n",
       "    .dataframe tbody tr th {\n",
       "        vertical-align: top;\n",
       "    }\n",
       "\n",
       "    .dataframe thead th {\n",
       "        text-align: right;\n",
       "    }\n",
       "</style>\n",
       "<table border=\"1\" class=\"dataframe\">\n",
       "  <thead>\n",
       "    <tr style=\"text-align: right;\">\n",
       "      <th></th>\n",
       "      <th>Payment</th>\n",
       "    </tr>\n",
       "  </thead>\n",
       "  <tbody>\n",
       "    <tr>\n",
       "      <th>count</th>\n",
       "      <td>27682.000000</td>\n",
       "    </tr>\n",
       "    <tr>\n",
       "      <th>mean</th>\n",
       "      <td>9578.094068</td>\n",
       "    </tr>\n",
       "    <tr>\n",
       "      <th>std</th>\n",
       "      <td>12121.351082</td>\n",
       "    </tr>\n",
       "    <tr>\n",
       "      <th>min</th>\n",
       "      <td>900.000000</td>\n",
       "    </tr>\n",
       "    <tr>\n",
       "      <th>25%</th>\n",
       "      <td>900.000000</td>\n",
       "    </tr>\n",
       "    <tr>\n",
       "      <th>50%</th>\n",
       "      <td>4900.000000</td>\n",
       "    </tr>\n",
       "    <tr>\n",
       "      <th>75%</th>\n",
       "      <td>9900.000000</td>\n",
       "    </tr>\n",
       "    <tr>\n",
       "      <th>max</th>\n",
       "      <td>49900.000000</td>\n",
       "    </tr>\n",
       "  </tbody>\n",
       "</table>\n",
       "</div>"
      ],
      "text/plain": [
       "            Payment\n",
       "count  27682.000000\n",
       "mean    9578.094068\n",
       "std    12121.351082\n",
       "min      900.000000\n",
       "25%      900.000000\n",
       "50%     4900.000000\n",
       "75%     9900.000000\n",
       "max    49900.000000"
      ]
     },
     "execution_count": 56,
     "metadata": {},
     "output_type": "execute_result"
    }
   ],
   "source": [
    "sales_data = sales_data[sales_data['Status'] == 'purchase']\n",
    "sales_data.info()\n",
    "sales_data.describe()"
   ]
  },
  {
   "cell_type": "code",
   "execution_count": 57,
   "id": "a81b669b",
   "metadata": {},
   "outputs": [
    {
     "data": {
      "text/html": [
       "<div>\n",
       "<style scoped>\n",
       "    .dataframe tbody tr th:only-of-type {\n",
       "        vertical-align: middle;\n",
       "    }\n",
       "\n",
       "    .dataframe tbody tr th {\n",
       "        vertical-align: top;\n",
       "    }\n",
       "\n",
       "    .dataframe thead th {\n",
       "        text-align: right;\n",
       "    }\n",
       "</style>\n",
       "<table border=\"1\" class=\"dataframe\">\n",
       "  <thead>\n",
       "    <tr style=\"text-align: right;\">\n",
       "      <th></th>\n",
       "      <th>Install</th>\n",
       "      <th>Time_stamp</th>\n",
       "      <th>Status</th>\n",
       "      <th>ID</th>\n",
       "      <th>Payment</th>\n",
       "      <th>Game_Name</th>\n",
       "      <th>Now</th>\n",
       "    </tr>\n",
       "  </thead>\n",
       "  <tbody>\n",
       "    <tr>\n",
       "      <th>0</th>\n",
       "      <td>2022-01-14</td>\n",
       "      <td>2022-01-27</td>\n",
       "      <td>purchase</td>\n",
       "      <td>Heidi_635</td>\n",
       "      <td>19900</td>\n",
       "      <td>Soccer Manager</td>\n",
       "      <td>2022-06-10</td>\n",
       "    </tr>\n",
       "    <tr>\n",
       "      <th>1</th>\n",
       "      <td>2022-03-10</td>\n",
       "      <td>2022-03-13</td>\n",
       "      <td>purchase</td>\n",
       "      <td>Courtney_067</td>\n",
       "      <td>900</td>\n",
       "      <td>Mine Ground</td>\n",
       "      <td>2022-06-10</td>\n",
       "    </tr>\n",
       "    <tr>\n",
       "      <th>2</th>\n",
       "      <td>2022-02-13</td>\n",
       "      <td>2022-02-19</td>\n",
       "      <td>purchase</td>\n",
       "      <td>David_737</td>\n",
       "      <td>9900</td>\n",
       "      <td>Soccer Manager</td>\n",
       "      <td>2022-06-10</td>\n",
       "    </tr>\n",
       "    <tr>\n",
       "      <th>3</th>\n",
       "      <td>2022-02-07</td>\n",
       "      <td>2022-02-25</td>\n",
       "      <td>purchase</td>\n",
       "      <td>Lindsay_820</td>\n",
       "      <td>4900</td>\n",
       "      <td>Mine Ground</td>\n",
       "      <td>2022-06-10</td>\n",
       "    </tr>\n",
       "    <tr>\n",
       "      <th>4</th>\n",
       "      <td>2022-03-06</td>\n",
       "      <td>2022-03-10</td>\n",
       "      <td>purchase</td>\n",
       "      <td>Jon_823</td>\n",
       "      <td>49900</td>\n",
       "      <td>Soccer Manager</td>\n",
       "      <td>2022-06-10</td>\n",
       "    </tr>\n",
       "    <tr>\n",
       "      <th>...</th>\n",
       "      <td>...</td>\n",
       "      <td>...</td>\n",
       "      <td>...</td>\n",
       "      <td>...</td>\n",
       "      <td>...</td>\n",
       "      <td>...</td>\n",
       "      <td>...</td>\n",
       "    </tr>\n",
       "    <tr>\n",
       "      <th>27677</th>\n",
       "      <td>2022-05-11</td>\n",
       "      <td>2022-05-30</td>\n",
       "      <td>purchase</td>\n",
       "      <td>Debra_720</td>\n",
       "      <td>900</td>\n",
       "      <td>Mine Ground</td>\n",
       "      <td>2022-06-10</td>\n",
       "    </tr>\n",
       "    <tr>\n",
       "      <th>27678</th>\n",
       "      <td>2022-04-26</td>\n",
       "      <td>2022-04-28</td>\n",
       "      <td>purchase</td>\n",
       "      <td>Kevin_404</td>\n",
       "      <td>900</td>\n",
       "      <td>Soccer Manager</td>\n",
       "      <td>2022-06-10</td>\n",
       "    </tr>\n",
       "    <tr>\n",
       "      <th>27679</th>\n",
       "      <td>2022-03-30</td>\n",
       "      <td>2022-04-09</td>\n",
       "      <td>purchase</td>\n",
       "      <td>Roberto_426</td>\n",
       "      <td>9900</td>\n",
       "      <td>Mine Ground</td>\n",
       "      <td>2022-06-10</td>\n",
       "    </tr>\n",
       "    <tr>\n",
       "      <th>27680</th>\n",
       "      <td>2022-05-09</td>\n",
       "      <td>2022-05-27</td>\n",
       "      <td>purchase</td>\n",
       "      <td>Craig_278</td>\n",
       "      <td>4900</td>\n",
       "      <td>Mine Ground</td>\n",
       "      <td>2022-06-10</td>\n",
       "    </tr>\n",
       "    <tr>\n",
       "      <th>27681</th>\n",
       "      <td>2022-03-17</td>\n",
       "      <td>2022-04-06</td>\n",
       "      <td>purchase</td>\n",
       "      <td>Madison_120</td>\n",
       "      <td>900</td>\n",
       "      <td>Soccer Manager</td>\n",
       "      <td>2022-06-10</td>\n",
       "    </tr>\n",
       "  </tbody>\n",
       "</table>\n",
       "<p>27682 rows × 7 columns</p>\n",
       "</div>"
      ],
      "text/plain": [
       "          Install Time_stamp    Status            ID  Payment       Game_Name  \\\n",
       "0      2022-01-14 2022-01-27  purchase     Heidi_635    19900  Soccer Manager   \n",
       "1      2022-03-10 2022-03-13  purchase  Courtney_067      900     Mine Ground   \n",
       "2      2022-02-13 2022-02-19  purchase     David_737     9900  Soccer Manager   \n",
       "3      2022-02-07 2022-02-25  purchase   Lindsay_820     4900     Mine Ground   \n",
       "4      2022-03-06 2022-03-10  purchase       Jon_823    49900  Soccer Manager   \n",
       "...           ...        ...       ...           ...      ...             ...   \n",
       "27677  2022-05-11 2022-05-30  purchase     Debra_720      900     Mine Ground   \n",
       "27678  2022-04-26 2022-04-28  purchase     Kevin_404      900  Soccer Manager   \n",
       "27679  2022-03-30 2022-04-09  purchase   Roberto_426     9900     Mine Ground   \n",
       "27680  2022-05-09 2022-05-27  purchase     Craig_278     4900     Mine Ground   \n",
       "27681  2022-03-17 2022-04-06  purchase   Madison_120      900  Soccer Manager   \n",
       "\n",
       "             Now  \n",
       "0     2022-06-10  \n",
       "1     2022-06-10  \n",
       "2     2022-06-10  \n",
       "3     2022-06-10  \n",
       "4     2022-06-10  \n",
       "...          ...  \n",
       "27677 2022-06-10  \n",
       "27678 2022-06-10  \n",
       "27679 2022-06-10  \n",
       "27680 2022-06-10  \n",
       "27681 2022-06-10  \n",
       "\n",
       "[27682 rows x 7 columns]"
      ]
     },
     "execution_count": 57,
     "metadata": {},
     "output_type": "execute_result"
    }
   ],
   "source": [
    "sales_data"
   ]
  },
  {
   "cell_type": "code",
   "execution_count": 58,
   "id": "c1227c54",
   "metadata": {},
   "outputs": [
    {
     "name": "stderr",
     "output_type": "stream",
     "text": [
      "/tmp/ipykernel_37/296579985.py:1: SettingWithCopyWarning: \n",
      "A value is trying to be set on a copy of a slice from a DataFrame.\n",
      "Try using .loc[row_indexer,col_indexer] = value instead\n",
      "\n",
      "See the caveats in the documentation: https://pandas.pydata.org/pandas-docs/stable/user_guide/indexing.html#returning-a-view-versus-a-copy\n",
      "  sales_data['Interval'] = sales_data['Now'] - sales_data['Time_stamp']\n"
     ]
    }
   ],
   "source": [
    "sales_data['Interval'] = sales_data['Now'] - sales_data['Time_stamp']"
   ]
  },
  {
   "cell_type": "code",
   "execution_count": 59,
   "id": "d53dfb09",
   "metadata": {},
   "outputs": [
    {
     "data": {
      "text/html": [
       "<div>\n",
       "<style scoped>\n",
       "    .dataframe tbody tr th:only-of-type {\n",
       "        vertical-align: middle;\n",
       "    }\n",
       "\n",
       "    .dataframe tbody tr th {\n",
       "        vertical-align: top;\n",
       "    }\n",
       "\n",
       "    .dataframe thead th {\n",
       "        text-align: right;\n",
       "    }\n",
       "</style>\n",
       "<table border=\"1\" class=\"dataframe\">\n",
       "  <thead>\n",
       "    <tr style=\"text-align: right;\">\n",
       "      <th></th>\n",
       "      <th>Recency</th>\n",
       "      <th>Frequency</th>\n",
       "      <th>Monetary</th>\n",
       "    </tr>\n",
       "    <tr>\n",
       "      <th>ID</th>\n",
       "      <th></th>\n",
       "      <th></th>\n",
       "      <th></th>\n",
       "    </tr>\n",
       "  </thead>\n",
       "  <tbody>\n",
       "    <tr>\n",
       "      <th>Aaron_027</th>\n",
       "      <td>60 days</td>\n",
       "      <td>5</td>\n",
       "      <td>40500</td>\n",
       "    </tr>\n",
       "    <tr>\n",
       "      <th>Aaron_031</th>\n",
       "      <td>102 days</td>\n",
       "      <td>5</td>\n",
       "      <td>17500</td>\n",
       "    </tr>\n",
       "    <tr>\n",
       "      <th>Aaron_077</th>\n",
       "      <td>40 days</td>\n",
       "      <td>4</td>\n",
       "      <td>26600</td>\n",
       "    </tr>\n",
       "    <tr>\n",
       "      <th>Aaron_165</th>\n",
       "      <td>21 days</td>\n",
       "      <td>4</td>\n",
       "      <td>49600</td>\n",
       "    </tr>\n",
       "    <tr>\n",
       "      <th>Aaron_224</th>\n",
       "      <td>108 days</td>\n",
       "      <td>1</td>\n",
       "      <td>900</td>\n",
       "    </tr>\n",
       "  </tbody>\n",
       "</table>\n",
       "</div>"
      ],
      "text/plain": [
       "           Recency  Frequency  Monetary\n",
       "ID                                     \n",
       "Aaron_027  60 days          5     40500\n",
       "Aaron_031 102 days          5     17500\n",
       "Aaron_077  40 days          4     26600\n",
       "Aaron_165  21 days          4     49600\n",
       "Aaron_224 108 days          1       900"
      ]
     },
     "execution_count": 59,
     "metadata": {},
     "output_type": "execute_result"
    }
   ],
   "source": [
    "# RFM_data 변수를 만들고 Groupby()함수를 이용해서 Recency, Frequency, Monetary 집계하기\n",
    "RFM_data = sales_data.groupby(['ID']).agg({'Interval':'min','ID': 'count', 'Payment': 'sum'})\n",
    "\n",
    "# RFM_data의 열 값을 각각 Recency, Frequency, Monetary로 변경\n",
    "RFM_data.columns = ['Recency', 'Frequency', 'Monetary']\n",
    "RFM_data.head()"
   ]
  },
  {
   "cell_type": "code",
   "execution_count": 60,
   "id": "b33676f6",
   "metadata": {},
   "outputs": [
    {
     "data": {
      "text/html": [
       "<div>\n",
       "<style scoped>\n",
       "    .dataframe tbody tr th:only-of-type {\n",
       "        vertical-align: middle;\n",
       "    }\n",
       "\n",
       "    .dataframe tbody tr th {\n",
       "        vertical-align: top;\n",
       "    }\n",
       "\n",
       "    .dataframe thead th {\n",
       "        text-align: right;\n",
       "    }\n",
       "</style>\n",
       "<table border=\"1\" class=\"dataframe\">\n",
       "  <thead>\n",
       "    <tr style=\"text-align: right;\">\n",
       "      <th></th>\n",
       "      <th>Recency</th>\n",
       "      <th>Frequency</th>\n",
       "      <th>Monetary</th>\n",
       "    </tr>\n",
       "    <tr>\n",
       "      <th>ID</th>\n",
       "      <th></th>\n",
       "      <th></th>\n",
       "      <th></th>\n",
       "    </tr>\n",
       "  </thead>\n",
       "  <tbody>\n",
       "    <tr>\n",
       "      <th>Aaron_027</th>\n",
       "      <td>60</td>\n",
       "      <td>5</td>\n",
       "      <td>40500</td>\n",
       "    </tr>\n",
       "    <tr>\n",
       "      <th>Aaron_031</th>\n",
       "      <td>102</td>\n",
       "      <td>5</td>\n",
       "      <td>17500</td>\n",
       "    </tr>\n",
       "    <tr>\n",
       "      <th>Aaron_077</th>\n",
       "      <td>40</td>\n",
       "      <td>4</td>\n",
       "      <td>26600</td>\n",
       "    </tr>\n",
       "    <tr>\n",
       "      <th>Aaron_165</th>\n",
       "      <td>21</td>\n",
       "      <td>4</td>\n",
       "      <td>49600</td>\n",
       "    </tr>\n",
       "    <tr>\n",
       "      <th>Aaron_224</th>\n",
       "      <td>108</td>\n",
       "      <td>1</td>\n",
       "      <td>900</td>\n",
       "    </tr>\n",
       "    <tr>\n",
       "      <th>...</th>\n",
       "      <td>...</td>\n",
       "      <td>...</td>\n",
       "      <td>...</td>\n",
       "    </tr>\n",
       "    <tr>\n",
       "      <th>Zachary_937</th>\n",
       "      <td>101</td>\n",
       "      <td>4</td>\n",
       "      <td>11600</td>\n",
       "    </tr>\n",
       "    <tr>\n",
       "      <th>Zachary_948</th>\n",
       "      <td>48</td>\n",
       "      <td>5</td>\n",
       "      <td>26500</td>\n",
       "    </tr>\n",
       "    <tr>\n",
       "      <th>Zoe_163</th>\n",
       "      <td>11</td>\n",
       "      <td>5</td>\n",
       "      <td>105500</td>\n",
       "    </tr>\n",
       "    <tr>\n",
       "      <th>Zoe_536</th>\n",
       "      <td>88</td>\n",
       "      <td>1</td>\n",
       "      <td>900</td>\n",
       "    </tr>\n",
       "    <tr>\n",
       "      <th>Zoe_638</th>\n",
       "      <td>117</td>\n",
       "      <td>3</td>\n",
       "      <td>25700</td>\n",
       "    </tr>\n",
       "  </tbody>\n",
       "</table>\n",
       "<p>5267 rows × 3 columns</p>\n",
       "</div>"
      ],
      "text/plain": [
       "             Recency  Frequency  Monetary\n",
       "ID                                       \n",
       "Aaron_027         60          5     40500\n",
       "Aaron_031        102          5     17500\n",
       "Aaron_077         40          4     26600\n",
       "Aaron_165         21          4     49600\n",
       "Aaron_224        108          1       900\n",
       "...              ...        ...       ...\n",
       "Zachary_937      101          4     11600\n",
       "Zachary_948       48          5     26500\n",
       "Zoe_163           11          5    105500\n",
       "Zoe_536           88          1       900\n",
       "Zoe_638          117          3     25700\n",
       "\n",
       "[5267 rows x 3 columns]"
      ]
     },
     "execution_count": 60,
     "metadata": {},
     "output_type": "execute_result"
    }
   ],
   "source": [
    "# RFM_data의 Recency 열 값을 숫자로 변경\n",
    "RFM_data['Recency'] = RFM_data['Recency'].dt.days\n",
    "RFM_data"
   ]
  },
  {
   "cell_type": "code",
   "execution_count": null,
   "id": "01ba990f",
   "metadata": {},
   "outputs": [],
   "source": [
    "ax = sns.boxplot(data=temp_var, x='Recency')\n",
    "plt.title('Recency Box plot')\n",
    "plt.show()"
   ]
  },
  {
   "cell_type": "code",
   "execution_count": null,
   "id": "d42d05db",
   "metadata": {},
   "outputs": [],
   "source": [
    "# RFM_data의 R_score열을 만들고, Recency열 값을 기준으로 1부터 100까지의 실수로 정규화합니다. \n",
    "RFM_data['R_score'] = np.interp(RFM_data['Recency'], (RFM_data['Recency'].min(), RFM_data['Recency'].max()), (100, 1)).round(2)\n",
    "\n",
    "# 만들어진 RFM_data의 Head 값을 확인합니다. \n",
    "RFM_data.head()"
   ]
  },
  {
   "cell_type": "code",
   "execution_count": null,
   "id": "39720c37",
   "metadata": {},
   "outputs": [],
   "source": [
    "# RFM_data에 Class열을 만들고, RFM_score와 지정한 분위값 범위에 따라 labels 값을 입력합니다\n",
    "\n",
    "RFM_data[\"Class\"] = pd.qcut(RFM_data['RFM_score'], q=[0, 0.4, 0.65, 0.85, 0.99, 1], labels=[5,4,3,2,1])"
   ]
  },
  {
   "cell_type": "code",
   "execution_count": null,
   "id": "b2f09c74",
   "metadata": {},
   "outputs": [],
   "source": [
    "# RFM_data의 Recency열 값을 내림차순(높은값에서 낮은 값 순서로)으로 정렬\n",
    "temp_var = RFM_data.sort_values(by=['Recency'], ascending=False)\n",
    "temp_var.head()"
   ]
  },
  {
   "cell_type": "code",
   "execution_count": null,
   "id": "eec90168",
   "metadata": {},
   "outputs": [],
   "source": [
    "# Class가 입력된 RFM_data의 인덱스를 재정렬합니다.\n",
    "RFM_data = RFM_data.reset_index()\n",
    "RFM_data"
   ]
  },
  {
   "cell_type": "code",
   "execution_count": null,
   "id": "a5b60592",
   "metadata": {},
   "outputs": [],
   "source": [
    "# R_score와 M_score를 기준으로 산포도(scatter) 그리기\n",
    "sns.scatterplot(data=RFM_data, x='R_score', y='M_score', hue='Class')\n",
    "plt.title('Customer By Class')\n",
    "plt.show()"
   ]
  },
  {
   "cell_type": "code",
   "execution_count": null,
   "id": "f5a282f4",
   "metadata": {},
   "outputs": [],
   "source": [
    "# 집계된 temp_var의 MultiIndex를 NormalIndex로 변환합니다. \n",
    "temp_var.index = temp_var.index.tolist()\n",
    "temp_var"
   ]
  },
  {
   "cell_type": "code",
   "execution_count": null,
   "id": "6b8f488a",
   "metadata": {},
   "outputs": [],
   "source": [
    "# 각 Class별 평균 Monetary를 시각화합니다. \n",
    "ax = sns.barplot(data=temp_var, x='Class', y='Monetary')\n",
    "containers = ax.containers[0]\n",
    "ax.bar_label(containers, labels=[f'{x:,.0f}' for x in containers.datavalues], label_type='center')\n",
    "plt.title('Monetary By Class')\n",
    "plt.show()"
   ]
  },
  {
   "cell_type": "code",
   "execution_count": null,
   "id": "a6c480d3",
   "metadata": {},
   "outputs": [],
   "source": []
  },
  {
   "cell_type": "code",
   "execution_count": null,
   "id": "3862f3ce",
   "metadata": {},
   "outputs": [],
   "source": [
    "VIP_customer = RFM_data[RFM_data['Class'] == 1]\n",
    "VIP_customer = VIP_customer.reset_index(drop=True)\n",
    "\n",
    "VIP_customer"
   ]
  },
  {
   "cell_type": "code",
   "execution_count": 63,
   "id": "f9d87b1c",
   "metadata": {},
   "outputs": [
    {
     "data": {
      "text/plain": [
       "<function seaborn.palettes.color_palette(palette=None, n_colors=None, desat=None, as_cmap=False)>"
      ]
     },
     "execution_count": 63,
     "metadata": {},
     "output_type": "execute_result"
    }
   ],
   "source": [
    "sns.color_palette()"
   ]
  },
  {
   "cell_type": "code",
   "execution_count": 66,
   "id": "34958a5c",
   "metadata": {},
   "outputs": [
    {
     "name": "stdout",
     "output_type": "stream",
     "text": [
      "KeysView(<matplotlib.cm._DeprecatedCmapDictWrapper object at 0x7f4e95837760>)\n"
     ]
    }
   ],
   "source": [
    "import matplotlib.cm\n",
    "\n",
    "print(matplotlib.cm.cmap_d.keys())"
   ]
  },
  {
   "cell_type": "code",
   "execution_count": null,
   "id": "4fd73931",
   "metadata": {},
   "outputs": [],
   "source": []
  }
 ],
 "metadata": {
  "kernelspec": {
   "display_name": "Python 3 (ipykernel)",
   "language": "python",
   "name": "python3"
  },
  "language_info": {
   "codemirror_mode": {
    "name": "ipython",
    "version": 3
   },
   "file_extension": ".py",
   "mimetype": "text/x-python",
   "name": "python",
   "nbconvert_exporter": "python",
   "pygments_lexer": "ipython3",
   "version": "3.9.7"
  }
 },
 "nbformat": 4,
 "nbformat_minor": 5
}
