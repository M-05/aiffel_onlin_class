{
 "cells": [
  {
   "cell_type": "markdown",
   "id": "6a67d9c6",
   "metadata": {},
   "source": [
    "# 5-9. IMDB 영화리뷰 감성분석 (2) 딥러닝 모델 설계와 훈련"
   ]
  },
  {
   "cell_type": "code",
   "execution_count": 42,
   "id": "5200b569",
   "metadata": {},
   "outputs": [],
   "source": [
    "vocab_size = 10000    # 어휘 사전의 크기입니다(10,000개의 단어)\n",
    "word_vector_dim = 16  # 워드 벡터의 차원 수 (변경 가능한 하이퍼파라미터)"
   ]
  },
  {
   "cell_type": "code",
   "execution_count": 43,
   "id": "868bb73a",
   "metadata": {},
   "outputs": [],
   "source": [
    "# model 설계 - 딥러닝 모델 코드를 직접 작성해 주세요.\n",
    "model = tf.keras.Sequential()\n",
    "model.add(tf.keras.layers.Embedding(input_dim = vocab_size,\n",
    "                                   output_dim = word_vector_dim,\n",
    "                                   input_shape=(None,)))\n",
    "model.add(tf.keras.layers.Conv1D(64, 5, activation='relu'))\n",
    "model.add(tf.keras.layers.MaxPooling1D(5))\n",
    "model.add(tf.keras.layers.Conv1D(64, 5, activation='relu'))\n",
    "# model.add(tf.keras.layers.Conv1D(64, 5, activation='relu'))\n",
    "# model.add(tf.keras.layers.GlobalMaxPooling1D())\n",
    "# model.add(tf.keras.layers.Conv1D(64, 5, activation='relu'))\n",
    "\n",
    "\n",
    "model.add(tf.keras.layers.Conv1D(128, 5, activation='relu'))\n",
    "model.add(tf.keras.layers.MaxPooling1D(5))\n",
    "model.add(tf.keras.layers.Conv1D(128, 5, activation='relu'))\n",
    "# model.add(tf.keras.layers.GlobalMaxPooling1D())\n",
    "# model.add(tf.keras.layers.Conv1D(128, 3, activation='relu'))\n",
    "\n",
    "\n",
    "# model.add(tf.keras.layers.Conv1D(256, 5, activation='relu'))\n",
    "# model.add(tf.keras.layers.MaxPooling1D(5))\n",
    "# model.add(tf.keras.layers.Conv1D(256, 5, activation='relu'))\n",
    "# model.add(tf.keras.layers.GlobalMaxPooling1D())\n",
    "\n",
    "model.add(tf.keras.layers.Dense(64, activation='relu'))\n",
    "model.add(tf.keras.layers.Dense(1, activation='sigmoid'))  "
   ]
  },
  {
   "cell_type": "markdown",
   "id": "bd390b0f",
   "metadata": {},
   "source": [
    "expected min_ndim=3, found ndim=2. Full shape received: (None, 64)"
   ]
  },
  {
   "cell_type": "code",
   "execution_count": 139,
   "id": "bb5e40e6",
   "metadata": {},
   "outputs": [
    {
     "name": "stdout",
     "output_type": "stream",
     "text": [
      "Model: \"sequential_15\"\n",
      "_________________________________________________________________\n",
      "Layer (type)                 Output Shape              Param #   \n",
      "=================================================================\n",
      "embedding_18 (Embedding)     (None, None, 16)          160000    \n",
      "_________________________________________________________________\n",
      "conv1d_47 (Conv1D)           (None, None, 64)          5184      \n",
      "_________________________________________________________________\n",
      "max_pooling1d_19 (MaxPooling (None, None, 64)          0         \n",
      "_________________________________________________________________\n",
      "conv1d_48 (Conv1D)           (None, None, 64)          20544     \n",
      "_________________________________________________________________\n",
      "conv1d_49 (Conv1D)           (None, None, 128)         41088     \n",
      "_________________________________________________________________\n",
      "max_pooling1d_20 (MaxPooling (None, None, 128)         0         \n",
      "_________________________________________________________________\n",
      "conv1d_50 (Conv1D)           (None, None, 128)         82048     \n",
      "_________________________________________________________________\n",
      "dense_12 (Dense)             (None, None, 64)          8256      \n",
      "_________________________________________________________________\n",
      "dense_13 (Dense)             (None, None, 1)           65        \n",
      "=================================================================\n",
      "Total params: 317,185\n",
      "Trainable params: 317,185\n",
      "Non-trainable params: 0\n",
      "_________________________________________________________________\n"
     ]
    }
   ],
   "source": [
    "model.summary()"
   ]
  },
  {
   "cell_type": "code",
   "execution_count": 131,
   "id": "68c64b98",
   "metadata": {},
   "outputs": [
    {
     "data": {
      "text/plain": [
       "(25000, 580)"
      ]
     },
     "execution_count": 131,
     "metadata": {},
     "output_type": "execute_result"
    }
   ],
   "source": [
    "pre_x_train.shape"
   ]
  },
  {
   "cell_type": "code",
   "execution_count": 44,
   "id": "8cd4427e",
   "metadata": {},
   "outputs": [],
   "source": [
    "# validation set 10000건 분리 \n",
    "x_val = x_train[:10000]   \n",
    "y_val = y_train[:10000]\n",
    "\n",
    "# validation set을 제외한 나머지 15000건\n",
    "partial_x_train = x_train[10000:]  \n",
    "partial_y_train = y_train[10000:]"
   ]
  },
  {
   "cell_type": "code",
   "execution_count": 45,
   "id": "269d731d",
   "metadata": {},
   "outputs": [
    {
     "data": {
      "text/plain": [
       "((15000, 580), (15000,), (10000, 580), (10000,))"
      ]
     },
     "execution_count": 45,
     "metadata": {},
     "output_type": "execute_result"
    }
   ],
   "source": [
    "partial_x_train.shape, partial_y_train.shape, x_val.shape, y_val.shape"
   ]
  },
  {
   "cell_type": "code",
   "execution_count": 46,
   "id": "2ec6a90c",
   "metadata": {},
   "outputs": [
    {
     "name": "stdout",
     "output_type": "stream",
     "text": [
      "Epoch 1/20\n",
      "30/30 [==============================] - 34s 93ms/step - loss: 0.6932 - accuracy: 0.5043 - val_loss: 0.6934 - val_accuracy: 0.4947\n",
      "Epoch 2/20\n",
      "30/30 [==============================] - 1s 37ms/step - loss: 0.6757 - accuracy: 0.5594 - val_loss: 0.6149 - val_accuracy: 0.6184\n",
      "Epoch 3/20\n",
      "30/30 [==============================] - 1s 38ms/step - loss: 0.5605 - accuracy: 0.6557 - val_loss: 0.5632 - val_accuracy: 0.6598\n",
      "Epoch 4/20\n",
      "30/30 [==============================] - 1s 38ms/step - loss: 0.5000 - accuracy: 0.6912 - val_loss: 0.5418 - val_accuracy: 0.6670\n",
      "Epoch 5/20\n",
      "30/30 [==============================] - 1s 38ms/step - loss: 0.4692 - accuracy: 0.7039 - val_loss: 0.5477 - val_accuracy: 0.6670\n",
      "Epoch 6/20\n",
      "30/30 [==============================] - 1s 38ms/step - loss: 0.4508 - accuracy: 0.7148 - val_loss: 0.5612 - val_accuracy: 0.6651\n",
      "Epoch 7/20\n",
      "30/30 [==============================] - 1s 38ms/step - loss: 0.4445 - accuracy: 0.7128 - val_loss: 0.5825 - val_accuracy: 0.6596\n",
      "Epoch 8/20\n",
      "30/30 [==============================] - 1s 38ms/step - loss: 0.4306 - accuracy: 0.7198 - val_loss: 0.6256 - val_accuracy: 0.6574\n",
      "Epoch 9/20\n",
      "30/30 [==============================] - 1s 38ms/step - loss: 0.4182 - accuracy: 0.7280 - val_loss: 0.6237 - val_accuracy: 0.6653\n",
      "Epoch 10/20\n",
      "30/30 [==============================] - 1s 38ms/step - loss: 0.4078 - accuracy: 0.7300 - val_loss: 0.6523 - val_accuracy: 0.6626\n",
      "Epoch 11/20\n",
      "30/30 [==============================] - 1s 38ms/step - loss: 0.4031 - accuracy: 0.7343 - val_loss: 0.6656 - val_accuracy: 0.6560\n",
      "Epoch 12/20\n",
      "30/30 [==============================] - 1s 38ms/step - loss: 0.3923 - accuracy: 0.7347 - val_loss: 0.7022 - val_accuracy: 0.6623\n",
      "Epoch 13/20\n",
      "30/30 [==============================] - 1s 38ms/step - loss: 0.3826 - accuracy: 0.7432 - val_loss: 0.7340 - val_accuracy: 0.6564\n",
      "Epoch 14/20\n",
      "30/30 [==============================] - 1s 38ms/step - loss: 0.3748 - accuracy: 0.7468 - val_loss: 0.7917 - val_accuracy: 0.6511\n",
      "Epoch 15/20\n",
      "30/30 [==============================] - 1s 38ms/step - loss: 0.3734 - accuracy: 0.7427 - val_loss: 0.7958 - val_accuracy: 0.6537\n",
      "Epoch 16/20\n",
      "30/30 [==============================] - 1s 38ms/step - loss: 0.3637 - accuracy: 0.7473 - val_loss: 0.8330 - val_accuracy: 0.6537\n",
      "Epoch 17/20\n",
      "30/30 [==============================] - 1s 38ms/step - loss: 0.3560 - accuracy: 0.7542 - val_loss: 0.8832 - val_accuracy: 0.6534\n",
      "Epoch 18/20\n",
      "30/30 [==============================] - 1s 38ms/step - loss: 0.3519 - accuracy: 0.7518 - val_loss: 0.9264 - val_accuracy: 0.6546\n",
      "Epoch 19/20\n",
      "30/30 [==============================] - 1s 45ms/step - loss: 0.3469 - accuracy: 0.7573 - val_loss: 0.9730 - val_accuracy: 0.6532\n",
      "Epoch 20/20\n",
      "30/30 [==============================] - 1s 38ms/step - loss: 0.3442 - accuracy: 0.7580 - val_loss: 1.0177 - val_accuracy: 0.6530\n"
     ]
    }
   ],
   "source": [
    "model.compile(optimizer='adam',\n",
    "              loss='binary_crossentropy',\n",
    "              metrics=['accuracy'])\n",
    "              \n",
    "epochs=20  # 몇 epoch를 훈련하면 좋을지 결과를 보면서 바꾸어 봅시다. \n",
    "\n",
    "history = model.fit(partial_x_train,\n",
    "                    partial_y_train,\n",
    "                    epochs=epochs,\n",
    "                    batch_size=512,\n",
    "                    validation_data=(x_val, y_val),\n",
    "                    verbose=1)"
   ]
  },
  {
   "cell_type": "code",
   "execution_count": 47,
   "id": "fb4961e8",
   "metadata": {},
   "outputs": [
    {
     "name": "stdout",
     "output_type": "stream",
     "text": [
      "782/782 - 3s - loss: 1.1114 - accuracy: 0.6355\n",
      "[1.1114479303359985, 0.6354963779449463]\n"
     ]
    }
   ],
   "source": [
    "results = model.evaluate(x_test,  y_test, verbose=2)\n",
    "\n",
    "print(results)"
   ]
  },
  {
   "cell_type": "code",
   "execution_count": 48,
   "id": "f7f71d01",
   "metadata": {},
   "outputs": [
    {
     "name": "stdout",
     "output_type": "stream",
     "text": [
      "dict_keys(['loss', 'accuracy', 'val_loss', 'val_accuracy'])\n"
     ]
    }
   ],
   "source": [
    "history_dict = history.history\n",
    "print(history_dict.keys()) # epoch에 따른 그래프를 그려볼 수 있는 항목들"
   ]
  },
  {
   "cell_type": "code",
   "execution_count": 50,
   "id": "4426f23a",
   "metadata": {},
   "outputs": [
    {
     "data": {
      "image/png": "[encoded data removed]",
      "text/plain": [
       "<Figure size 432x288 with 1 Axes>"
      ]
     },
     "metadata": {},
     "output_type": "display_data"
    },
    {
     "data": {
      "image/png": "[encoded data removed]",
      "text/plain": [
       "<Figure size 432x288 with 1 Axes>"
      ]
     },
     "metadata": {},
     "output_type": "display_data"
    }
   ],
   "source": [
    "acc = history_dict['accuracy']\n",
    "val_acc = history_dict['val_accuracy']\n",
    "loss = history_dict['loss']\n",
    "val_loss = history_dict['val_loss']\n",
    "\n",
    "epochs = range(1, len(acc) + 1)\n",
    "\n",
    "# \"bo\"는 \"파란색 점\"입니다\n",
    "plt.plot(epochs, loss, 'bo', label='Training loss')\n",
    "# b는 \"파란 실선\"입니다\n",
    "plt.plot(epochs, val_loss, 'b', label='Validation loss')\n",
    "plt.title('Training and validation loss')\n",
    "plt.xlabel('Epochs')\n",
    "plt.ylabel('Loss')\n",
    "plt.legend()\n",
    "\n",
    "plt.figure()\n",
    "plt.plot(epochs, acc, 'ko', label='Training loss')\n",
    "plt.plot(epochs, val_acc, 'k', label='Validation loss')\n",
    "plt.title('Training and validation loss')\n",
    "plt.xlabel('Epochs')\n",
    "plt.ylabel('Accuracy')\n",
    "plt.legend()\n",
    "\n",
    "plt.show()"
   ]
  },
  {
   "cell_type": "code",
   "execution_count": 135,
   "id": "7f692737",
   "metadata": {},
   "outputs": [],
   "source": [
    "# validation set 10000건 분리 \n",
    "x_val = pre_x_train[:10000]   \n",
    "y_val = y_train[:10000]\n",
    "\n",
    "# validation set을 제외한 나머지 15000건\n",
    "partial_x_train = pre_x_train[10000:]  \n",
    "partial_y_train = y_train[10000:]"
   ]
  },
  {
   "cell_type": "code",
   "execution_count": 136,
   "id": "9070af04",
   "metadata": {},
   "outputs": [
    {
     "data": {
      "text/plain": [
       "((15000, 580), (15000,), (10000, 580), (10000,))"
      ]
     },
     "execution_count": 136,
     "metadata": {},
     "output_type": "execute_result"
    }
   ],
   "source": [
    "partial_x_train.shape, partial_y_train.shape, x_val.shape, y_val.shape"
   ]
  },
  {
   "cell_type": "code",
   "execution_count": 140,
   "id": "6dbb309c",
   "metadata": {},
   "outputs": [
    {
     "name": "stdout",
     "output_type": "stream",
     "text": [
      "Epoch 1/20\n",
      "30/30 [==============================] - 34s 99ms/step - loss: 0.6933 - accuracy: 0.5017 - val_loss: 0.6932 - val_accuracy: 0.4947\n",
      "Epoch 2/20\n",
      "30/30 [==============================] - 1s 39ms/step - loss: 0.6930 - accuracy: 0.5035 - val_loss: 0.6914 - val_accuracy: 0.4948\n",
      "Epoch 3/20\n",
      "30/30 [==============================] - 1s 40ms/step - loss: 0.6442 - accuracy: 0.5876 - val_loss: 0.5901 - val_accuracy: 0.6270\n",
      "Epoch 4/20\n",
      "30/30 [==============================] - 1s 40ms/step - loss: 0.5478 - accuracy: 0.6618 - val_loss: 0.5640 - val_accuracy: 0.6516\n",
      "Epoch 5/20\n",
      "30/30 [==============================] - 1s 40ms/step - loss: 0.5049 - accuracy: 0.6831 - val_loss: 0.5703 - val_accuracy: 0.6475\n",
      "Epoch 6/20\n",
      "30/30 [==============================] - 1s 40ms/step - loss: 0.4761 - accuracy: 0.6936 - val_loss: 0.5868 - val_accuracy: 0.6495\n",
      "Epoch 7/20\n",
      "30/30 [==============================] - 1s 40ms/step - loss: 0.4574 - accuracy: 0.7062 - val_loss: 0.6037 - val_accuracy: 0.6494\n",
      "Epoch 8/20\n",
      "30/30 [==============================] - 1s 40ms/step - loss: 0.4409 - accuracy: 0.7128 - val_loss: 0.6487 - val_accuracy: 0.6409\n",
      "Epoch 9/20\n",
      "30/30 [==============================] - 1s 40ms/step - loss: 0.4303 - accuracy: 0.7163 - val_loss: 0.6672 - val_accuracy: 0.6402\n",
      "Epoch 10/20\n",
      "30/30 [==============================] - 1s 40ms/step - loss: 0.4185 - accuracy: 0.7244 - val_loss: 0.6986 - val_accuracy: 0.6436\n",
      "Epoch 11/20\n",
      "30/30 [==============================] - 1s 41ms/step - loss: 0.4039 - accuracy: 0.7299 - val_loss: 0.7491 - val_accuracy: 0.6423\n",
      "Epoch 12/20\n",
      "30/30 [==============================] - 1s 40ms/step - loss: 0.3922 - accuracy: 0.7347 - val_loss: 0.8052 - val_accuracy: 0.6371\n",
      "Epoch 13/20\n",
      "30/30 [==============================] - 1s 40ms/step - loss: 0.3924 - accuracy: 0.7336 - val_loss: 0.8094 - val_accuracy: 0.6411\n",
      "Epoch 14/20\n",
      "30/30 [==============================] - 1s 41ms/step - loss: 0.3800 - accuracy: 0.7383 - val_loss: 0.8955 - val_accuracy: 0.6371\n",
      "Epoch 15/20\n",
      "30/30 [==============================] - 1s 40ms/step - loss: 0.3725 - accuracy: 0.7417 - val_loss: 0.9132 - val_accuracy: 0.6358\n",
      "Epoch 16/20\n",
      "30/30 [==============================] - 1s 40ms/step - loss: 0.3661 - accuracy: 0.7428 - val_loss: 0.9893 - val_accuracy: 0.6348\n",
      "Epoch 17/20\n",
      "30/30 [==============================] - 1s 40ms/step - loss: 0.3621 - accuracy: 0.7442 - val_loss: 1.0472 - val_accuracy: 0.6338\n",
      "Epoch 18/20\n",
      "30/30 [==============================] - 1s 40ms/step - loss: 0.3595 - accuracy: 0.7449 - val_loss: 1.0974 - val_accuracy: 0.6334\n",
      "Epoch 19/20\n",
      "30/30 [==============================] - 1s 40ms/step - loss: 0.3574 - accuracy: 0.7475 - val_loss: 1.1406 - val_accuracy: 0.6377\n",
      "Epoch 20/20\n",
      "30/30 [==============================] - 1s 40ms/step - loss: 0.3563 - accuracy: 0.7465 - val_loss: 1.1842 - val_accuracy: 0.6372\n"
     ]
    }
   ],
   "source": [
    "model.compile(optimizer='adam',\n",
    "              loss='binary_crossentropy',\n",
    "              metrics=['accuracy'])\n",
    "              \n",
    "epochs=20  # 몇 epoch를 훈련하면 좋을지 결과를 보면서 바꾸어 봅시다. \n",
    "\n",
    "history = model.fit(partial_x_train,\n",
    "                    partial_y_train,\n",
    "                    epochs=epochs,\n",
    "                    batch_size=512,\n",
    "                    validation_data=(x_val, y_val),\n",
    "                    verbose=1)"
   ]
  },
  {
   "cell_type": "markdown",
   "id": "7ff45aaf",
   "metadata": {},
   "source": [
    "ValueError: Negative dimension size caused by subtracting 5 from 2 for '{{node sequential_14/conv1d_46/conv1d}} = Conv2D[T=DT_FLOAT, data_format=\"NHWC\", dilations=[1, 1, 1, 1], explicit_paddings=[], padding=\"VALID\", strides=[1, 1, 1, 1], use_cudnn_on_gpu=true](sequential_14/conv1d_46/conv1d/ExpandDims, sequential_14/conv1d_46/conv1d/ExpandDims_1)' with input shapes: [?,1,2,256], [1,5,256,256]."
   ]
  },
  {
   "cell_type": "code",
   "execution_count": 141,
   "id": "ce68ac79",
   "metadata": {},
   "outputs": [
    {
     "name": "stdout",
     "output_type": "stream",
     "text": [
      "782/782 - 3s - loss: 1.1210 - accuracy: 0.6277\n",
      "[1.1209816932678223, 0.6277253031730652]\n"
     ]
    }
   ],
   "source": [
    "results = model.evaluate(x_test,  y_test, verbose=2)\n",
    "\n",
    "print(results)"
   ]
  },
  {
   "cell_type": "code",
   "execution_count": 142,
   "id": "64b73cba",
   "metadata": {},
   "outputs": [
    {
     "name": "stdout",
     "output_type": "stream",
     "text": [
      "dict_keys(['loss', 'accuracy', 'val_loss', 'val_accuracy'])\n"
     ]
    }
   ],
   "source": [
    "history_dict = history.history\n",
    "print(history_dict.keys()) # epoch에 따른 그래프를 그려볼 수 있는 항목들"
   ]
  },
  {
   "cell_type": "code",
   "execution_count": 49,
   "id": "fe4fbd9b",
   "metadata": {},
   "outputs": [],
   "source": [
    "import matplotlib.pyplot as plt\n",
    "import seaborn as sns\n",
    "sns.set(style=\"whitegrid\")"
   ]
  },
  {
   "cell_type": "code",
   "execution_count": 145,
   "id": "8d4b7a69",
   "metadata": {},
   "outputs": [
    {
     "data": {
      "image/png": "[encoded data removed]",
      "text/plain": [
       "<Figure size 432x288 with 1 Axes>"
      ]
     },
     "metadata": {},
     "output_type": "display_data"
    },
    {
     "data": {
      "image/png": "[encoded data removed]",
      "text/plain": [
       "<Figure size 432x288 with 1 Axes>"
      ]
     },
     "metadata": {},
     "output_type": "display_data"
    }
   ],
   "source": [
    "acc = history_dict['accuracy']\n",
    "val_acc = history_dict['val_accuracy']\n",
    "loss = history_dict['loss']\n",
    "val_loss = history_dict['val_loss']\n",
    "\n",
    "epochs = range(1, len(acc) + 1)\n",
    "\n",
    "# \"bo\"는 \"파란색 점\"입니다\n",
    "plt.plot(epochs, loss, 'bo', label='Training loss')\n",
    "# b는 \"파란 실선\"입니다\n",
    "plt.plot(epochs, val_loss, 'b', label='Validation loss')\n",
    "plt.title('Training and validation loss')\n",
    "plt.xlabel('Epochs')\n",
    "plt.ylabel('Loss')\n",
    "plt.legend()\n",
    "\n",
    "plt.figure()\n",
    "plt.plot(epochs, acc, 'ko', label='Training loss')\n",
    "plt.plot(epochs, val_acc, 'k', label='Validation loss')\n",
    "plt.title('Training and validation loss')\n",
    "plt.xlabel('Epochs')\n",
    "plt.ylabel('Accuracy')\n",
    "plt.legend()\n",
    "\n",
    "plt.show()"
   ]
  },
  {
   "cell_type": "markdown",
   "id": "8306da83",
   "metadata": {},
   "source": [
    "plt.clf()   # 그림을 초기화합니다"
   ]
  },
  {
   "cell_type": "markdown",
   "id": "000d35e1",
   "metadata": {},
   "source": [
    "# 5-10. IMDB 영화리뷰 감성분석 (3) Word2Vec의 적용\n",
    "\n",
    "pip list | grep gensim  \n",
    " Gensim is a Python library for topic modelling, document indexing and similarity retrieval with large corpora. Target audience is the natural language processing (NLP) and information retrieval (IR) community."
   ]
  },
  {
   "cell_type": "code",
   "execution_count": 146,
   "id": "435eaca5",
   "metadata": {},
   "outputs": [
    {
     "name": "stdout",
     "output_type": "stream",
     "text": [
      "Package                       Version\r\n",
      "----------------------------- ------------------\r\n",
      "absl-py                       0.12.0\r\n",
      "aiohttp                       3.8.1\r\n",
      "aiosignal                     1.2.0\r\n",
      "albumentations                1.1.0\r\n",
      "antlr4-python3-runtime        4.8\r\n",
      "anyio                         3.4.0\r\n",
      "appdirs                       1.4.4\r\n",
      "argon2-cffi                   21.1.0\r\n",
      "astunparse                    1.6.3\r\n",
      "async-generator               1.10\r\n",
      "async-timeout                 4.0.1\r\n",
      "attrs                         21.2.0\r\n",
      "audioread                     2.1.9\r\n",
      "backcall                      0.2.0\r\n",
      "backports.functools-lru-cache 1.6.4\r\n",
      "beautifulsoup4                4.6.0\r\n",
      "black                         21.12b0\r\n",
      "bleach                        4.1.0\r\n",
      "branca                        0.4.2\r\n",
      "brotlipy                      0.7.0\r\n",
      "cachetools                    4.2.4\r\n",
      "certifi                       2021.10.8\r\n",
      "cffi                          1.15.0\r\n",
      "chardet                       3.0.4\r\n",
      "charset-normalizer            2.0.8\r\n",
      "clang                         5.0\r\n",
      "click                         8.0.3\r\n",
      "click-plugins                 1.1.1\r\n",
      "cligj                         0.7.2\r\n",
      "cloudpickle                   2.0.0\r\n",
      "cmake                         3.21.3\r\n",
      "colorama                      0.4.4\r\n",
      "conda                         4.11.0\r\n",
      "conda-build                   3.21.7\r\n",
      "conda-package-handling        1.7.3\r\n",
      "cryptography                  36.0.0\r\n",
      "cssselect                     1.1.0\r\n",
      "customized-konlpy             0.0.64\r\n",
      "cycler                        0.11.0\r\n",
      "Cython                        0.29.24\r\n",
      "dataclasses                   0.6\r\n",
      "datasets                      1.14.0\r\n",
      "debugpy                       1.5.1\r\n",
      "decorator                     4.4.2\r\n",
      "defusedxml                    0.7.1\r\n",
      "delayed                       0.11.0b1\r\n",
      "Deprecated                    1.2.13\r\n",
      "dill                          0.3.4\r\n",
      "dlib                          19.22.1\r\n",
      "docutils                      0.18.1\r\n",
      "editdistance                  0.6.0\r\n",
      "efficientnet                  1.0.0\r\n",
      "efficientnet-pytorch          0.7.1\r\n",
      "entrypoints                   0.3\r\n",
      "essential-generators          1.0\r\n",
      "face-recognition              1.3.0\r\n",
      "face-recognition-models       0.3.0\r\n",
      "feedfinder2                   0.0.4\r\n",
      "feedparser                    6.0.8\r\n",
      "filelock                      3.4.0\r\n",
      "Fiona                         1.8.20\r\n",
      "Flask                         2.0.2\r\n",
      "flask-ngrok                   0.0.25\r\n",
      "flatbuffers                   1.12\r\n",
      "folium                        0.12.1\r\n",
      "fonttools                     4.28.3\r\n",
      "frozenlist                    1.2.0\r\n",
      "fsspec                        2021.11.1\r\n",
      "future                        0.18.2\r\n",
      "fvcore                        0.1.5.post20211023\r\n",
      "gast                          0.4.0\r\n",
      "gensim                        4.1.2\r\n",
      "geopandas                     0.10.1\r\n",
      "glob2                         0.7\r\n",
      "google-api-core               2.2.2\r\n",
      "google-api-python-client      2.26.1\r\n",
      "google-auth                   2.3.3\r\n",
      "google-auth-httplib2          0.1.0\r\n",
      "google-auth-oauthlib          0.4.6\r\n",
      "google-cloud-vision           2.5.0\r\n",
      "google-pasta                  0.2.0\r\n",
      "googleapis-common-protos      1.53.0\r\n",
      "googletrans                   3.0.0\r\n",
      "grpcio                        1.42.0\r\n",
      "grpcio-status                 1.42.0\r\n",
      "h11                           0.9.0\r\n",
      "h2                            3.2.0\r\n",
      "h3                            3.7.3\r\n",
      "h5py                          3.1.0\r\n",
      "hiredis                       2.0.0\r\n",
      "hpack                         3.0.0\r\n",
      "hstspreload                   2021.12.1\r\n",
      "httpcore                      0.9.1\r\n",
      "httplib2                      0.20.2\r\n",
      "httpx                         0.13.3\r\n",
      "huggingface-hub               0.0.19\r\n",
      "hydra-core                    1.1.1\r\n",
      "hyperframe                    5.2.0\r\n",
      "idna                          2.10\r\n",
      "imageio                       2.9.0\r\n",
      "imageio-ffmpeg                0.4.5\r\n",
      "imantics                      0.1.12\r\n",
      "imbalanced-learn              0.8.1\r\n",
      "imgaug                        0.4.0\r\n",
      "implicit                      0.4.8\r\n",
      "importlib-metadata            4.8.2\r\n",
      "importlib-resources           5.4.0\r\n",
      "iopath                        0.1.9\r\n",
      "ipykernel                     6.6.0\r\n",
      "ipython                       7.28.0\r\n",
      "ipython-genutils              0.2.0\r\n",
      "ipywidgets                    7.6.5\r\n",
      "itsdangerous                  2.0.1\r\n",
      "jedi                          0.18.1\r\n",
      "jieba3k                       0.35.1\r\n",
      "Jinja2                        3.0.3\r\n",
      "joblib                        1.1.0\r\n",
      "JPype1                        1.3.0\r\n",
      "jsonpickle                    2.0.0\r\n",
      "jsonschema                    4.2.1\r\n",
      "jupyter-client                7.1.0\r\n",
      "jupyter-core                  4.9.1\r\n",
      "jupyter-desktop-server        0.1.3\r\n",
      "jupyter-server                1.13.1\r\n",
      "jupyter-server-proxy          3.2.0\r\n",
      "jupyterlab-pygments           0.1.2\r\n",
      "jupyterlab-widgets            1.0.2\r\n",
      "keras                         2.6.0\r\n",
      "Keras-Applications            1.0.8\r\n",
      "keras-ocr                     0.8.8\r\n",
      "Keras-Preprocessing           1.1.2\r\n",
      "kiwisolver                    1.3.2\r\n",
      "konlpy                        0.5.2\r\n",
      "labelme2coco                  0.1.2\r\n",
      "libarchive-c                  3.2\r\n",
      "librosa                       0.8.1\r\n",
      "lightgbm                      3.3.0\r\n",
      "llvmlite                      0.36.0\r\n",
      "lmdb                          1.2.1\r\n",
      "loguru                        0.5.3\r\n",
      "lxml                          4.6.3\r\n",
      "Markdown                      3.3.6\r\n",
      "MarkupSafe                    2.0.1\r\n",
      "matplotlib                    3.4.3\r\n",
      "matplotlib-inline             0.1.3\r\n",
      "matplotlib-venn               0.11.6\r\n",
      "mecab-python                  0.996-ko-0.9.2\r\n",
      "mido                          1.2.10\r\n",
      "missingno                     0.5.0\r\n",
      "mistune                       0.8.4\r\n",
      "moviepy                       1.0.3\r\n",
      "msgpack                       1.0.3\r\n",
      "multidict                     5.2.0\r\n",
      "multiprocess                  0.70.12.2\r\n",
      "munch                         2.5.0\r\n",
      "mypy-extensions               0.4.3\r\n",
      "nbclient                      0.5.9\r\n",
      "nbconvert                     6.3.0\r\n",
      "nbformat                      5.1.3\r\n",
      "nest-asyncio                  1.5.4\r\n",
      "networkx                      2.6.3\r\n",
      "newspaper3k                   0.2.8\r\n",
      "nltk                          3.6.5\r\n",
      "notebook                      6.1.6\r\n",
      "numba                         0.53.1\r\n",
      "numpy                         1.21.4\r\n",
      "oauthlib                      3.1.1\r\n",
      "omegaconf                     2.1.1\r\n",
      "opencv-contrib-python         4.5.3.56\r\n",
      "opencv-python                 4.5.3.56\r\n",
      "opencv-python-headless        4.5.4.60\r\n",
      "opt-einsum                    3.3.0\r\n",
      "outcome                       1.1.0\r\n",
      "packaging                     21.3\r\n",
      "pandas                        1.3.3\r\n",
      "pandocfilters                 1.5.0\r\n",
      "parso                         0.8.3\r\n",
      "pathspec                      0.9.0\r\n",
      "patsy                         0.5.2\r\n",
      "pexpect                       4.8.0\r\n",
      "pickleshare                   0.7.5\r\n",
      "Pillow                        8.3.2\r\n",
      "pip                           21.3.1\r\n",
      "pixellib                      0.7.1\r\n",
      "pkginfo                       1.8.1\r\n",
      "platformdirs                  2.4.0\r\n",
      "pmdarima                      1.8.3\r\n",
      "pooch                         1.5.2\r\n",
      "portalocker                   2.3.2\r\n",
      "proglog                       0.1.9\r\n",
      "prometheus-client             0.12.0\r\n",
      "promise                       2.3\r\n",
      "prompt-toolkit                3.0.22\r\n",
      "proto-plus                    1.19.8\r\n",
      "protobuf                      3.19.1\r\n",
      "psutil                        5.8.0\r\n",
      "ptyprocess                    0.7.0\r\n",
      "py4j                          0.10.9\r\n",
      "pyarrow                       6.0.1\r\n",
      "pyasn1                        0.4.8\r\n",
      "pyasn1-modules                0.2.8\r\n",
      "pyclipper                     1.3.0.post2\r\n",
      "pycosat                       0.6.3\r\n",
      "pycparser                     2.21\r\n",
      "pydot                         1.4.2\r\n",
      "pydotplus                     2.0.2\r\n",
      "Pygments                      2.10.0\r\n",
      "pyOpenSSL                     21.0.0\r\n",
      "pyparsing                     3.0.6\r\n",
      "pyproj                        3.2.1\r\n",
      "PyQt5                         5.15.6\r\n",
      "PyQt5-Qt5                     5.15.2\r\n",
      "PyQt5-sip                     12.9.0\r\n",
      "pyrsistent                    0.18.0\r\n",
      "PySocks                       1.7.1\r\n",
      "pyspark                       3.1.2\r\n",
      "pytesseract                   0.3.8\r\n",
      "python-dateutil               2.8.2\r\n",
      "python-Levenshtein            0.12.2\r\n",
      "pytz                          2021.3\r\n",
      "pyvis                         0.1.9\r\n",
      "PyWavelets                    1.2.0\r\n",
      "PyYAML                        6.0\r\n",
      "pyzmq                         22.3.0\r\n",
      "qudida                        0.0.4\r\n",
      "ray                           1.7.0\r\n",
      "redis                         4.0.2\r\n",
      "regex                         2021.11.10\r\n",
      "requests                      2.26.0\r\n",
      "requests-file                 1.5.1\r\n",
      "requests-oauthlib             1.3.0\r\n",
      "resampy                       0.2.2\r\n",
      "rfc3986                       1.5.0\r\n",
      "rsa                           4.8\r\n",
      "ruamel-yaml-conda             0.15.80\r\n",
      "sacremoses                    0.0.46\r\n",
      "scikit-image                  0.18.3\r\n",
      "scikit-learn                  1.0\r\n",
      "scipy                         1.7.1\r\n",
      "seaborn                       0.11.2\r\n",
      "selenium                      4.0.0\r\n",
      "Send2Trash                    1.8.0\r\n",
      "sentencepiece                 0.1.96\r\n",
      "setuptools                    59.4.0\r\n",
      "sgmllib3k                     1.0.0\r\n",
      "Shapely                       1.7.1\r\n",
      "simpervisor                   0.4\r\n",
      "six                           1.16.0\r\n",
      "smart-open                    5.2.1\r\n",
      "sniffio                       1.2.0\r\n",
      "sortedcontainers              2.4.0\r\n",
      "SoundFile                     0.10.3.post1\r\n",
      "soupsieve                     2.3.1\r\n",
      "soynlp                        0.0.493\r\n",
      "statistics                    1.0.3.5\r\n",
      "statsmodels                   0.13.0\r\n",
      "summa                         1.2.0\r\n",
      "tabulate                      0.8.9\r\n",
      "tensorboard                   2.7.0\r\n",
      "tensorboard-data-server       0.6.1\r\n",
      "tensorboard-plugin-wit        1.8.0\r\n",
      "tensorflow-addons             0.14.0\r\n",
      "tensorflow-datasets           4.4.0\r\n",
      "tensorflow-estimator          2.7.0\r\n",
      "tensorflow-gpu                2.6.0\r\n",
      "tensorflow-hub                0.12.0\r\n",
      "tensorflow-metadata           1.5.0\r\n",
      "termcolor                     1.1.0\r\n",
      "terminado                     0.12.1\r\n",
      "testpath                      0.5.0\r\n",
      "threadpoolctl                 3.0.0\r\n",
      "tifffile                      2021.11.2\r\n",
      "tinysegmenter                 0.3\r\n",
      "tldextract                    3.1.2\r\n",
      "tokenizers                    0.10.3\r\n",
      "tomli                         1.2.2\r\n",
      "torch                         1.9.1+cu111\r\n",
      "torchaudio                    0.9.1\r\n",
      "torchvision                   0.10.1+cu111\r\n",
      "tornado                       6.1\r\n",
      "tqdm                          4.62.3\r\n",
      "traitlets                     5.1.1\r\n",
      "transformers                  4.11.3\r\n",
      "trio                          0.19.0\r\n",
      "trio-websocket                0.9.2\r\n",
      "tweepy                        3.10.0\r\n",
      "typeguard                     2.13.2\r\n",
      "typing_extensions             4.0.1\r\n",
      "uritemplate                   4.1.1\r\n",
      "urllib3                       1.26.7\r\n",
      "validators                    0.18.2\r\n",
      "wcwidth                       0.2.5\r\n",
      "webencodings                  0.5.1\r\n",
      "websocket-client              1.2.3\r\n",
      "websockify                    0.10.0\r\n",
      "Werkzeug                      2.0.2\r\n",
      "wget                          3.2\r\n",
      "wheel                         0.37.0\r\n",
      "widgetsnbextension            3.5.2\r\n",
      "wordcloud                     1.8.1\r\n",
      "wrapt                         1.12.1\r\n",
      "wsproto                       1.0.0\r\n",
      "xgboost                       1.4.2\r\n",
      "xmljson                       0.2.1\r\n",
      "xxhash                        2.0.2\r\n",
      "yacs                          0.1.8\r\n",
      "yarl                          1.7.2\r\n",
      "zipp                          3.6.0\r\n"
     ]
    },
    {
     "name": "stdout",
     "output_type": "stream",
     "text": [
      "Note: you may need to restart the kernel to use updated packages.\n"
     ]
    }
   ],
   "source": [
    "pip list"
   ]
  },
  {
   "cell_type": "code",
   "execution_count": 148,
   "id": "67276d6a",
   "metadata": {},
   "outputs": [
    {
     "name": "stdout",
     "output_type": "stream",
     "text": [
      "Usage: grep [OPTION]... PATTERNS [FILE]...\n",
      "Try 'grep --help' for more information.\n",
      "ERROR: Pipe to stdout was broken\n",
      "Exception ignored in: <_io.TextIOWrapper name='<stdout>' mode='w' encoding='utf-8'>\n",
      "BrokenPipeError: [Errno 32] Broken pipe\n",
      "Note: you may need to restart the kernel to use updated packages.\n"
     ]
    }
   ],
   "source": [
    "pip list | grep"
   ]
  },
  {
   "cell_type": "code",
   "execution_count": 51,
   "id": "731373bd",
   "metadata": {},
   "outputs": [],
   "source": [
    "embedding_layer = model.layers[0]\n",
    "weights = embedding_layer.get_weights()[0]"
   ]
  },
  {
   "cell_type": "code",
   "execution_count": 150,
   "id": "6a140dad",
   "metadata": {},
   "outputs": [
    {
     "name": "stdout",
     "output_type": "stream",
     "text": [
      "(10000, 16)\n"
     ]
    }
   ],
   "source": [
    "print(weights.shape)    # shape: (vocab_size, embedding_dim)"
   ]
  },
  {
   "cell_type": "code",
   "execution_count": 151,
   "id": "53e89909",
   "metadata": {},
   "outputs": [
    {
     "data": {
      "text/plain": [
       "<keras.layers.embeddings.Embedding at 0x7f13ba1ff700>"
      ]
     },
     "execution_count": 151,
     "metadata": {},
     "output_type": "execute_result"
    }
   ],
   "source": [
    "embedding_layer"
   ]
  },
  {
   "cell_type": "code",
   "execution_count": 152,
   "id": "d31caaa2",
   "metadata": {},
   "outputs": [
    {
     "data": {
      "text/plain": [
       "array([[-0.01558519,  0.02728641, -0.00322082, ..., -0.02080571,\n",
       "         0.00459833, -0.00366097],\n",
       "       [ 0.01042187, -0.03607398,  0.00197485, ...,  0.00310774,\n",
       "         0.02502138, -0.01322552],\n",
       "       [-0.01569632,  0.0061611 , -0.00060585, ..., -0.01738184,\n",
       "        -0.0073849 ,  0.02866323],\n",
       "       ...,\n",
       "       [ 0.02530695,  0.01404232, -0.00234446, ..., -0.05122976,\n",
       "        -0.04733543, -0.03112797],\n",
       "       [-0.06122705, -0.12701838, -0.03817035, ...,  0.06791796,\n",
       "        -0.02352854,  0.08983693],\n",
       "       [-0.01807636,  0.05567204,  0.05302667, ..., -0.05653928,\n",
       "         0.13901089, -0.02293701]], dtype=float32)"
      ]
     },
     "execution_count": 152,
     "metadata": {},
     "output_type": "execute_result"
    }
   ],
   "source": [
    "weights"
   ]
  },
  {
   "cell_type": "code",
   "execution_count": 52,
   "id": "ff5cc07e",
   "metadata": {},
   "outputs": [
    {
     "data": {
      "text/plain": [
       "8"
      ]
     },
     "execution_count": 52,
     "metadata": {},
     "output_type": "execute_result"
    }
   ],
   "source": [
    "# 학습한 Embedding 파라미터를 파일에 써서 저장합니다. \n",
    "word2vec_file_path = os.getenv('HOME')+'/aiffel/sentiment_classification/data/word2vec.txt'\n",
    "f = open(word2vec_file_path, 'w')\n",
    "f.write('{} {}\\n'.format(vocab_size -4, word_vector_dim))  # 몇개의 벡터를 얼마 사이즈로 기재할지 타이틀을 씁니다."
   ]
  },
  {
   "cell_type": "code",
   "execution_count": 53,
   "id": "50652935",
   "metadata": {},
   "outputs": [
    {
     "data": {
      "text/plain": [
       "10000"
      ]
     },
     "execution_count": 53,
     "metadata": {},
     "output_type": "execute_result"
    }
   ],
   "source": [
    "vocab_size"
   ]
  },
  {
   "cell_type": "code",
   "execution_count": 54,
   "id": "e002078f",
   "metadata": {},
   "outputs": [
    {
     "data": {
      "text/plain": [
       "16"
      ]
     },
     "execution_count": 54,
     "metadata": {},
     "output_type": "execute_result"
    }
   ],
   "source": [
    "word_vector_dim"
   ]
  },
  {
   "cell_type": "code",
   "execution_count": 55,
   "id": "d78bd669",
   "metadata": {},
   "outputs": [],
   "source": [
    "# 단어 개수(에서 특수문자 4개는 제외하고)만큼의 워드 벡터를 파일에 기록합니다. \n",
    "vectors = model.get_weights()[0]\n",
    "for i in range(4, vocab_size):\n",
    "    f.write('{} {}\\n'.format(index_to_word[i], ' '.join(map(str, list(vectors[i, :])))))\n",
    "f.close()"
   ]
  },
  {
   "cell_type": "code",
   "execution_count": 56,
   "id": "4f1fadf5",
   "metadata": {},
   "outputs": [
    {
     "data": {
      "text/plain": [
       "array([[ 0.04312138,  0.00104227,  0.00205824, ..., -0.0306549 ,\n",
       "         0.00463929, -0.00848961],\n",
       "       [-0.06327255,  0.02163192,  0.12213379, ..., -0.03013272,\n",
       "        -0.03268394, -0.00462104],\n",
       "       [ 0.03316801, -0.02939896,  0.03327263, ...,  0.03347839,\n",
       "        -0.00047757, -0.05649702],\n",
       "       ...,\n",
       "       [ 0.0524331 , -0.04091349, -0.04587016, ...,  0.07847244,\n",
       "        -0.03834896, -0.0452961 ],\n",
       "       [-0.03504276,  0.10197242,  0.08281329, ..., -0.07209317,\n",
       "         0.00089787, -0.00906769],\n",
       "       [-0.02753892,  0.03782456,  0.06298878, ...,  0.00554873,\n",
       "        -0.04175111, -0.03841277]], dtype=float32)"
      ]
     },
     "execution_count": 56,
     "metadata": {},
     "output_type": "execute_result"
    }
   ],
   "source": [
    "vectors"
   ]
  },
  {
   "cell_type": "code",
   "execution_count": 157,
   "id": "b52fbcdc",
   "metadata": {},
   "outputs": [
    {
     "data": {
      "text/plain": [
       "(10000, 16)"
      ]
     },
     "execution_count": 157,
     "metadata": {},
     "output_type": "execute_result"
    }
   ],
   "source": [
    "vectors.shape"
   ]
  },
  {
   "cell_type": "code",
   "execution_count": 158,
   "id": "104cadd4",
   "metadata": {},
   "outputs": [
    {
     "data": {
      "text/plain": [
       "10000"
      ]
     },
     "execution_count": 158,
     "metadata": {},
     "output_type": "execute_result"
    }
   ],
   "source": [
    "vocab_size"
   ]
  },
  {
   "cell_type": "markdown",
   "id": "0159c46a",
   "metadata": {},
   "source": [
    "dir(Word2VecKeyedVectors)\n",
    " 'load',\n",
    " 'load_word2vec_format',\n",
    " 'log_accuracy',\n",
    " 'log_evaluate_word_pairs',\n",
    " 'most_similar',\n",
    " 'most_similar_cosmul',\n",
    " 'most_similar_to_given',\n",
    " 'n_similarity',\n",
    " 'rank',\n",
    " 'rank_by_centrality',\n",
    " 'relative_cosine_similarity',\n",
    " 'resize_vectors',\n",
    " 'save',\n",
    " 'save_word2vec_format',"
   ]
  },
  {
   "cell_type": "markdown",
   "id": "f76fdd28",
   "metadata": {},
   "source": [
    "`Word2VecKeyedVectors.load_word2vec_format`  \n",
    "(\n",
    "    fname,\n",
    "    fvocab=None,\n",
    "    binary=False,\n",
    "    encoding='utf8',\n",
    "    unicode_errors='strict',\n",
    "    limit=None,\n",
    "    datatype=<class 'numpy.float32'>,\n",
    "    no_header=False,\n",
    ")\n",
    "Docstring:\n",
    "Load KeyedVectors from a file produced by the original C word2vec-tool format."
   ]
  },
  {
   "cell_type": "code",
   "execution_count": 57,
   "id": "4e891178",
   "metadata": {},
   "outputs": [
    {
     "data": {
      "text/plain": [
       "array([-0.03946383, -0.03228891, -0.0026424 ,  0.00866796,  0.02075857,\n",
       "       -0.03027608, -0.02326338,  0.00719543,  0.04905571,  0.0501758 ,\n",
       "        0.03962787,  0.03466666, -0.0015206 ,  0.07242784,  0.0071018 ,\n",
       "       -0.00280075], dtype=float32)"
      ]
     },
     "execution_count": 57,
     "metadata": {},
     "output_type": "execute_result"
    }
   ],
   "source": [
    "from gensim.models.keyedvectors import Word2VecKeyedVectors\n",
    "\n",
    "word_vectors = Word2VecKeyedVectors.load_word2vec_format(word2vec_file_path, binary=False)\n",
    "vector = word_vectors['computer']\n",
    "vector"
   ]
  },
  {
   "cell_type": "markdown",
   "id": "6bc8d6f0",
   "metadata": {},
   "source": [
    "위와 같이 얻은 워드 벡터를 가지고 재미있는 실험을 해볼 수 있습니다.  \n",
    "워드 벡터가 의미 벡터 공간상에 유의미하게 학습되었는지 확인하는 방법 중에,  \n",
    "단어를 하나 주고 그와 가장 유사한 단어와 그 유사도를 확인하는 방법이 있습니다.  \n",
    "gensim을 사용하면 아래와 같이 해볼 수 있습니다."
   ]
  },
  {
   "cell_type": "markdown",
   "id": "0056ee1b",
   "metadata": {},
   "source": [
    "word_vectors.`similar_by_word`(word, topn=10, restrict_vocab=None)  \n",
    "\n",
    "Docstring: Compatibility alias for similar_by_key()."
   ]
  },
  {
   "cell_type": "code",
   "execution_count": 164,
   "id": "cdbde09e",
   "metadata": {},
   "outputs": [
    {
     "data": {
      "text/plain": [
       "[('testament', 0.891566276550293),\n",
       " ('bursts', 0.8795433640480042),\n",
       " ('posh', 0.8724913001060486),\n",
       " (\"person's\", 0.8661274909973145),\n",
       " ('discussed', 0.8604552745819092),\n",
       " ('courage', 0.8581267595291138),\n",
       " ('photos', 0.8553259968757629),\n",
       " ('easy', 0.8540221452713013),\n",
       " ('revealing', 0.8514817953109741),\n",
       " ('wondered', 0.8490517139434814)]"
      ]
     },
     "execution_count": 164,
     "metadata": {},
     "output_type": "execute_result"
    }
   ],
   "source": [
    "word_vectors.similar_by_word(\"love\")"
   ]
  },
  {
   "cell_type": "code",
   "execution_count": 167,
   "id": "03ff244f",
   "metadata": {},
   "outputs": [
    {
     "data": {
      "text/plain": [
       "[('corporate', 0.7556795477867126),\n",
       " ('supreme', 0.7392893433570862),\n",
       " ('noam', 0.7363121509552002),\n",
       " ('project', 0.7090692520141602),\n",
       " ('fired', 0.6882835626602173),\n",
       " ('rocker', 0.6858129501342773),\n",
       " ('created', 0.6826217770576477),\n",
       " ('chuckle', 0.6824902296066284),\n",
       " ('morgan', 0.6761656999588013),\n",
       " ('hart', 0.6720351576805115)]"
      ]
     },
     "execution_count": 167,
     "metadata": {},
     "output_type": "execute_result"
    }
   ],
   "source": [
    "word_vectors.similar_by_word(\"coffee\")"
   ]
  },
  {
   "cell_type": "code",
   "execution_count": 174,
   "id": "7f75ac53",
   "metadata": {},
   "outputs": [
    {
     "data": {
      "text/plain": [
       "[(\"they'd\", 0.765717089176178),\n",
       " ('artwork', 0.7414347529411316),\n",
       " ('peck', 0.7158447504043579),\n",
       " (\"movie's\", 0.713764488697052),\n",
       " ('other', 0.706948459148407),\n",
       " ('him', 0.7061700224876404),\n",
       " ('hamilton', 0.7039506435394287),\n",
       " ('tendency', 0.6904435157775879),\n",
       " ('laced', 0.688815712928772),\n",
       " ('ultimate', 0.6825063228607178)]"
      ]
     },
     "execution_count": 174,
     "metadata": {},
     "output_type": "execute_result"
    }
   ],
   "source": [
    "word_vectors.similar_by_word(\"cream\")"
   ]
  },
  {
   "cell_type": "markdown",
   "id": "910635d2",
   "metadata": {},
   "source": [
    "그래서 이번에는 구글에서 제공하는 Word2Vec이라는 사전학습된(Pretrained) 워드 임베딩 모델을 가져다 활용해 보겠습니다.  \n",
    "Word2Vec은 무려 1억 개의 단어로 구성된 Google News dataset을 바탕으로 학습되었습니다.  \n",
    "총 300만 개의 단어를 각각 300차원의 벡터로 표현한 것입니다.  \n",
    "Word2Vec이 학습되는 원리에 대해서는 차후 깊이 있게 다루게 될 것입니다.  \n",
    "하지만 그렇게 해서 학습된 Word2Vec이라는 것도 실은 방금 우리가 파일에 써본 Embedding Layer와 원리는 동일합니다.\n",
    "\n",
    "임베딩의 개념에 대해 아주 잘 정리된 책 한국어 임베딩의 서론에서 왜 사전학습된 임베딩을 활용하는 것이 유리한지 설명해 주고 있습니다.  \n",
    "바로 전이학습 때문입니다.  "
   ]
  },
  {
   "cell_type": "markdown",
   "id": "81754212",
   "metadata": {},
   "source": [
    "`KeyedVectors.load_word2vec_format`  \n",
    "(\n",
    "    fname,\n",
    "    fvocab=None,\n",
    "    __binary=False__,\n",
    "    encoding='utf8',\n",
    "    unicode_errors='strict',\n",
    "    __limit=None__,\n",
    "    datatype=<class 'numpy.float32'>,\n",
    "    no_header=False,\n",
    ")\n",
    "Docstring:\n",
    "Load KeyedVectors from a file produced by the original C word2vec-tool format."
   ]
  },
  {
   "cell_type": "code",
   "execution_count": 58,
   "id": "c6c19c69",
   "metadata": {},
   "outputs": [
    {
     "data": {
      "text/plain": [
       "array([ 1.07421875e-01, -2.01171875e-01,  1.23046875e-01,  2.11914062e-01,\n",
       "       -9.13085938e-02,  2.16796875e-01, -1.31835938e-01,  8.30078125e-02,\n",
       "        2.02148438e-01,  4.78515625e-02,  3.66210938e-02, -2.45361328e-02,\n",
       "        2.39257812e-02, -1.60156250e-01, -2.61230469e-02,  9.71679688e-02,\n",
       "       -6.34765625e-02,  1.84570312e-01,  1.70898438e-01, -1.63085938e-01,\n",
       "       -1.09375000e-01,  1.49414062e-01, -4.65393066e-04,  9.61914062e-02,\n",
       "        1.68945312e-01,  2.60925293e-03,  8.93554688e-02,  6.49414062e-02,\n",
       "        3.56445312e-02, -6.93359375e-02, -1.46484375e-01, -1.21093750e-01,\n",
       "       -2.27539062e-01,  2.45361328e-02, -1.24511719e-01, -3.18359375e-01,\n",
       "       -2.20703125e-01,  1.30859375e-01,  3.66210938e-02, -3.63769531e-02,\n",
       "       -1.13281250e-01,  1.95312500e-01,  9.76562500e-02,  1.26953125e-01,\n",
       "        6.59179688e-02,  6.93359375e-02,  1.02539062e-02,  1.75781250e-01,\n",
       "       -1.68945312e-01,  1.21307373e-03, -2.98828125e-01, -1.15234375e-01,\n",
       "        5.66406250e-02, -1.77734375e-01, -2.08984375e-01,  1.76757812e-01,\n",
       "        2.38037109e-02, -2.57812500e-01, -4.46777344e-02,  1.88476562e-01,\n",
       "        5.51757812e-02,  5.02929688e-02, -1.06933594e-01,  1.89453125e-01,\n",
       "       -1.16210938e-01,  8.49609375e-02, -1.71875000e-01,  2.45117188e-01,\n",
       "       -1.73828125e-01, -8.30078125e-03,  4.56542969e-02, -1.61132812e-02,\n",
       "        1.86523438e-01, -6.05468750e-02, -4.17480469e-02,  1.82617188e-01,\n",
       "        2.20703125e-01, -1.22558594e-01, -2.55126953e-02, -3.08593750e-01,\n",
       "        9.13085938e-02,  1.60156250e-01,  1.70898438e-01,  1.19628906e-01,\n",
       "        7.08007812e-02, -2.64892578e-02, -3.08837891e-02,  4.06250000e-01,\n",
       "       -1.01562500e-01,  5.71289062e-02, -7.26318359e-03, -9.17968750e-02,\n",
       "       -1.50390625e-01, -2.55859375e-01,  2.16796875e-01, -3.63769531e-02,\n",
       "        2.24609375e-01,  8.00781250e-02,  1.56250000e-01,  5.27343750e-02,\n",
       "        1.50390625e-01, -1.14746094e-01, -8.64257812e-02,  1.19140625e-01,\n",
       "       -7.17773438e-02,  2.73437500e-01, -1.64062500e-01,  7.29370117e-03,\n",
       "        4.21875000e-01, -1.12792969e-01, -1.35742188e-01, -1.31835938e-01,\n",
       "       -1.37695312e-01, -7.66601562e-02,  6.25000000e-02,  4.98046875e-02,\n",
       "       -1.91406250e-01, -6.03027344e-02,  2.27539062e-01,  5.88378906e-02,\n",
       "       -3.24218750e-01,  5.41992188e-02, -1.35742188e-01,  8.17871094e-03,\n",
       "       -5.24902344e-02, -1.74713135e-03, -9.81445312e-02, -2.86865234e-02,\n",
       "        3.61328125e-02,  2.15820312e-01,  5.98144531e-02, -3.08593750e-01,\n",
       "       -2.27539062e-01,  2.61718750e-01,  9.86328125e-02, -5.07812500e-02,\n",
       "        1.78222656e-02,  1.31835938e-01, -5.35156250e-01, -1.81640625e-01,\n",
       "        1.38671875e-01, -3.10546875e-01, -9.71679688e-02,  1.31835938e-01,\n",
       "       -1.16210938e-01,  7.03125000e-02,  2.85156250e-01,  3.51562500e-02,\n",
       "       -1.01562500e-01, -3.75976562e-02,  1.41601562e-01,  1.42578125e-01,\n",
       "       -5.68847656e-02,  2.65625000e-01, -2.09960938e-01,  9.64355469e-03,\n",
       "       -6.68945312e-02, -4.83398438e-02, -6.10351562e-02,  2.45117188e-01,\n",
       "       -9.66796875e-02,  1.78222656e-02, -1.27929688e-01, -4.78515625e-02,\n",
       "       -7.26318359e-03,  1.79687500e-01,  2.78320312e-02, -2.10937500e-01,\n",
       "       -1.43554688e-01, -1.27929688e-01,  1.73339844e-02, -3.60107422e-03,\n",
       "       -2.04101562e-01,  3.63159180e-03, -1.19628906e-01, -6.15234375e-02,\n",
       "        5.93261719e-02, -3.23486328e-03, -1.70898438e-01, -3.14941406e-02,\n",
       "       -8.88671875e-02, -2.89062500e-01,  3.44238281e-02, -1.87500000e-01,\n",
       "        2.94921875e-01,  1.58203125e-01, -1.19628906e-01,  7.61718750e-02,\n",
       "        6.39648438e-02, -4.68750000e-02, -6.83593750e-02,  1.21459961e-02,\n",
       "       -1.44531250e-01,  4.54101562e-02,  3.68652344e-02,  3.88671875e-01,\n",
       "        1.45507812e-01, -2.55859375e-01, -4.46777344e-02, -1.33789062e-01,\n",
       "       -1.38671875e-01,  6.59179688e-02,  1.37695312e-01,  1.14746094e-01,\n",
       "        2.03125000e-01, -4.78515625e-02,  1.80664062e-02, -8.54492188e-02,\n",
       "       -2.48046875e-01, -3.39843750e-01, -2.83203125e-02,  1.05468750e-01,\n",
       "       -2.14843750e-01, -8.74023438e-02,  7.12890625e-02,  1.87500000e-01,\n",
       "       -1.12304688e-01,  2.73437500e-01, -3.26171875e-01, -1.77734375e-01,\n",
       "       -4.24804688e-02, -2.69531250e-01,  6.64062500e-02, -6.88476562e-02,\n",
       "       -1.99218750e-01, -7.03125000e-02, -2.43164062e-01, -3.66210938e-02,\n",
       "       -7.37304688e-02, -1.77734375e-01,  9.17968750e-02, -1.25000000e-01,\n",
       "       -1.65039062e-01, -3.57421875e-01, -2.85156250e-01, -1.66992188e-01,\n",
       "        1.97265625e-01, -1.53320312e-01,  2.31933594e-02,  2.06054688e-01,\n",
       "        1.80664062e-01, -2.74658203e-02, -1.92382812e-01, -9.61914062e-02,\n",
       "       -1.06811523e-02, -4.73632812e-02,  6.54296875e-02, -1.25732422e-02,\n",
       "        1.78222656e-02, -8.00781250e-02, -2.59765625e-01,  9.37500000e-02,\n",
       "       -7.81250000e-02,  4.68750000e-02, -2.22167969e-02,  1.86767578e-02,\n",
       "        3.11279297e-02,  1.04980469e-02, -1.69921875e-01,  2.58789062e-02,\n",
       "       -3.41796875e-02, -1.44042969e-02, -5.46875000e-02, -8.78906250e-02,\n",
       "        1.96838379e-03,  2.23632812e-01, -1.36718750e-01,  1.75781250e-01,\n",
       "       -1.63085938e-01,  1.87500000e-01,  3.44238281e-02, -5.63964844e-02,\n",
       "       -2.27689743e-05,  4.27246094e-02,  5.81054688e-02, -1.07910156e-01,\n",
       "       -3.88183594e-02, -2.69531250e-01,  3.34472656e-02,  9.81445312e-02,\n",
       "        5.63964844e-02,  2.23632812e-01, -5.49316406e-02,  1.46484375e-01,\n",
       "        5.93261719e-02, -2.19726562e-01,  6.39648438e-02,  1.66015625e-02,\n",
       "        4.56542969e-02,  3.26171875e-01, -3.80859375e-01,  1.70898438e-01,\n",
       "        5.66406250e-02, -1.04492188e-01,  1.38671875e-01, -1.57226562e-01,\n",
       "        3.23486328e-03, -4.80957031e-02, -2.48046875e-01, -6.20117188e-02],\n",
       "      dtype=float32)"
      ]
     },
     "execution_count": 58,
     "metadata": {},
     "output_type": "execute_result"
    }
   ],
   "source": [
    "from gensim.models import KeyedVectors\n",
    "\n",
    "word2vec_path = os.getenv('HOME')+'/aiffel/sentiment_classification/data/GoogleNews-vectors-negative300.bin.gz'\n",
    "word2vec = KeyedVectors.load_word2vec_format(word2vec_path, \n",
    "                                             binary=True, \n",
    "                                             limit=1000000)\n",
    "# 메모리가 충분하다면 limt=None으로 하시면 300만 개를 모두 로딩합니다.\n",
    "\n",
    "vector = word2vec['computer']\n",
    "vector     # 무려 300dim의 워드 벡터입니다."
   ]
  },
  {
   "cell_type": "markdown",
   "id": "f30b23b4",
   "metadata": {},
   "source": [
    "300dim의 벡터로 이루어진 300만 개의 단어입니다. 이 단어 사전을 메모리에 모두 로딩하면 아주 높은 확률로 여러분의 실습환경에 메모리 에러가 날 것입니다. 그래서 KeyedVectors.load_word2vec_format 메서드로 워드 벡터를 로딩할 때 가장 많이 사용되는 상위 100만 개만 limt으로 조건을 주어 로딩했습니다."
   ]
  },
  {
   "cell_type": "markdown",
   "id": "990e191f",
   "metadata": {},
   "source": [
    "메모리가 충분하다면 limt=None으로 하시면 300만 개를 모두 로딩합니다."
   ]
  },
  {
   "cell_type": "code",
   "execution_count": 59,
   "id": "515568ea",
   "metadata": {},
   "outputs": [
    {
     "data": {
      "text/plain": [
       "(300,)"
      ]
     },
     "execution_count": 59,
     "metadata": {},
     "output_type": "execute_result"
    }
   ],
   "source": [
    "vector.shape"
   ]
  },
  {
   "cell_type": "code",
   "execution_count": 176,
   "id": "f9bb3df5",
   "metadata": {},
   "outputs": [
    {
     "data": {
      "text/plain": [
       "[('loved', 0.6907791495323181),\n",
       " ('adore', 0.6816873550415039),\n",
       " ('loves', 0.661863386631012),\n",
       " ('passion', 0.6100708842277527),\n",
       " ('hate', 0.600395679473877),\n",
       " ('loving', 0.5886635780334473),\n",
       " ('affection', 0.5664337873458862),\n",
       " ('undying_love', 0.5547304749488831),\n",
       " ('absolutely_adore', 0.5536840558052063),\n",
       " ('adores', 0.5440906882286072)]"
      ]
     },
     "execution_count": 176,
     "metadata": {},
     "output_type": "execute_result"
    }
   ],
   "source": [
    "# 메모리를 다소 많이 소비하는 작업이니 유의해 주세요.\n",
    "word2vec.similar_by_word(\"love\")"
   ]
  },
  {
   "cell_type": "code",
   "execution_count": 178,
   "id": "8ce9287a",
   "metadata": {},
   "outputs": [
    {
     "data": {
      "text/plain": [
       "[('ice_cream', 0.6833236813545227),\n",
       " ('icecreams', 0.6506314277648926),\n",
       " ('ice_creams', 0.6471222639083862),\n",
       " ('lollies', 0.6184884905815125),\n",
       " ('Ice_cream', 0.569530189037323),\n",
       " ('biscuit', 0.5643337965011597),\n",
       " ('Mr_Whippy', 0.5594308376312256),\n",
       " ('lolly', 0.5510672330856323),\n",
       " ('crisps', 0.5448859333992004),\n",
       " ('Ice_Cream', 0.5431604385375977)]"
      ]
     },
     "execution_count": 178,
     "metadata": {},
     "output_type": "execute_result"
    }
   ],
   "source": [
    "word2vec.similar_by_word(\"icecream\")"
   ]
  },
  {
   "cell_type": "code",
   "execution_count": 69,
   "id": "c5c26b95",
   "metadata": {},
   "outputs": [],
   "source": [
    "vocab_size = 10000    # 어휘 사전의 크기입니다(10,000개의 단어)\n",
    "word_vector_dim = 300  # 워드 벡터의 차원수\n",
    "embedding_matrix = np.random.rand(vocab_size, word_vector_dim)\n",
    "\n",
    "# embedding_matrix에 Word2Vec 워드 벡터를 단어 하나씩마다 차례차례 카피한다.\n",
    "for i in range(4,vocab_size):\n",
    "    if index_to_word[i] in word2vec:\n",
    "        embedding_matrix[i] = word2vec[index_to_word[i]]"
   ]
  },
  {
   "cell_type": "code",
   "execution_count": 179,
   "id": "014687c5",
   "metadata": {},
   "outputs": [
    {
     "name": "stdout",
     "output_type": "stream",
     "text": [
      "[[ 0.61233047  0.40604822  0.03935857 ...  0.2191575   0.14118157\n",
      "   0.14095034]\n",
      " [ 0.41727279  0.63861532  0.4596283  ...  0.90781632  0.81209348\n",
      "   0.04731334]\n",
      " [ 0.08487455  0.12212133  0.52826286 ...  0.3947899   0.3324172\n",
      "   0.12744241]\n",
      " ...\n",
      " [ 0.14160156 -0.0043335  -0.17285156 ...  0.07861328 -0.15136719\n",
      "   0.05004883]\n",
      " [ 0.04785156  0.12792969 -0.07763672 ...  0.13867188  0.31640625\n",
      "   0.02001953]\n",
      " [-0.02526855  0.36328125  0.09033203 ... -0.20019531  0.40625\n",
      "   0.13574219]]\n"
     ]
    }
   ],
   "source": [
    "print(embedding_matrix)"
   ]
  },
  {
   "cell_type": "code",
   "execution_count": 183,
   "id": "b3c49f7d",
   "metadata": {},
   "outputs": [
    {
     "data": {
      "text/plain": [
       "33616"
      ]
     },
     "execution_count": 183,
     "metadata": {},
     "output_type": "execute_result"
    }
   ],
   "source": [
    "300 * 7 * 16 + 16"
   ]
  },
  {
   "cell_type": "markdown",
   "id": "01ae090f",
   "metadata": {},
   "source": [
    "`Constant(value=0)`  \n",
    "     \n",
    "Initializer that generates tensors with constant values."
   ]
  },
  {
   "cell_type": "code",
   "execution_count": 70,
   "id": "d3693491",
   "metadata": {},
   "outputs": [
    {
     "name": "stdout",
     "output_type": "stream",
     "text": [
      "Model: \"sequential_1\"\n",
      "_________________________________________________________________\n",
      "Layer (type)                 Output Shape              Param #   \n",
      "=================================================================\n",
      "embedding_5 (Embedding)      (None, 580, 300)          3000000   \n",
      "_________________________________________________________________\n",
      "conv1d_4 (Conv1D)            (None, 574, 16)           33616     \n",
      "_________________________________________________________________\n",
      "max_pooling1d_2 (MaxPooling1 (None, 114, 16)           0         \n",
      "_________________________________________________________________\n",
      "conv1d_5 (Conv1D)            (None, 108, 16)           1808      \n",
      "_________________________________________________________________\n",
      "global_max_pooling1d (Global (None, 16)                0         \n",
      "_________________________________________________________________\n",
      "dense_2 (Dense)              (None, 8)                 136       \n",
      "_________________________________________________________________\n",
      "dense_3 (Dense)              (None, 1)                 9         \n",
      "=================================================================\n",
      "Total params: 3,035,569\n",
      "Trainable params: 3,035,569\n",
      "Non-trainable params: 0\n",
      "_________________________________________________________________\n"
     ]
    }
   ],
   "source": [
    "from tensorflow.keras.initializers import Constant\n",
    "\n",
    "vocab_size = 10000    # 어휘 사전의 크기입니다(10,000개의 단어)\n",
    "word_vector_dim = 300  # 워드 벡터의 차원 수 \n",
    "\n",
    "# 모델 구성\n",
    "model = tf.keras.Sequential()\n",
    "model.add(tf.keras.layers.Embedding(vocab_size, \n",
    "                                 word_vector_dim, \n",
    "                                 embeddings_initializer=Constant(embedding_matrix),  # 카피한 임베딩을 여기서 활용\n",
    "                                 input_length=maxlen, \n",
    "                                 trainable=True))   # trainable을 True로 주면 Fine-tuning\n",
    "model.add(tf.keras.layers.Conv1D(16, 7, activation='relu'))\n",
    "model.add(tf.keras.layers.MaxPooling1D(5))\n",
    "\n",
    "model.add(tf.keras.layers.Conv1D(16, 7, activation='relu'))\n",
    "model.add(tf.keras.layers.GlobalMaxPooling1D())\n",
    "\n",
    "model.add(tf.keras.layers.Dense(8, activation='relu'))\n",
    "model.add(tf.keras.layers.Dense(1, activation='sigmoid')) \n",
    "\n",
    "model.summary()"
   ]
  },
  {
   "cell_type": "code",
   "execution_count": 73,
   "id": "c7b32ea7",
   "metadata": {},
   "outputs": [
    {
     "name": "stdout",
     "output_type": "stream",
     "text": [
      "Epoch 1/20\n",
      "15/15 [==============================] - 3s 140ms/step - loss: 0.6865 - accuracy: 0.5397 - val_loss: 0.6789 - val_accuracy: 0.5688\n",
      "Epoch 2/20\n",
      "15/15 [==============================] - 2s 127ms/step - loss: 0.6617 - accuracy: 0.6070 - val_loss: 0.6563 - val_accuracy: 0.6064\n",
      "Epoch 3/20\n",
      "15/15 [==============================] - 2s 127ms/step - loss: 0.6180 - accuracy: 0.6773 - val_loss: 0.6088 - val_accuracy: 0.6621\n",
      "Epoch 4/20\n",
      "15/15 [==============================] - 2s 128ms/step - loss: 0.5389 - accuracy: 0.7521 - val_loss: 0.5068 - val_accuracy: 0.7726\n",
      "Epoch 5/20\n",
      "15/15 [==============================] - 2s 128ms/step - loss: 0.4339 - accuracy: 0.8210 - val_loss: 0.4220 - val_accuracy: 0.8167\n",
      "Epoch 6/20\n",
      "15/15 [==============================] - 2s 128ms/step - loss: 0.3468 - accuracy: 0.8629 - val_loss: 0.3631 - val_accuracy: 0.8436\n",
      "Epoch 7/20\n",
      "15/15 [==============================] - 2s 128ms/step - loss: 0.2842 - accuracy: 0.8915 - val_loss: 0.3326 - val_accuracy: 0.8579\n",
      "Epoch 8/20\n",
      "15/15 [==============================] - 2s 128ms/step - loss: 0.2339 - accuracy: 0.9144 - val_loss: 0.3245 - val_accuracy: 0.8612\n",
      "Epoch 9/20\n",
      "15/15 [==============================] - 2s 128ms/step - loss: 0.1971 - accuracy: 0.9301 - val_loss: 0.3129 - val_accuracy: 0.8678\n",
      "Epoch 10/20\n",
      "15/15 [==============================] - 2s 128ms/step - loss: 0.1653 - accuracy: 0.9465 - val_loss: 0.3079 - val_accuracy: 0.8704\n",
      "Epoch 11/20\n",
      "15/15 [==============================] - 2s 129ms/step - loss: 0.1449 - accuracy: 0.9561 - val_loss: 0.3120 - val_accuracy: 0.8714\n",
      "Epoch 12/20\n",
      "15/15 [==============================] - 2s 129ms/step - loss: 0.1132 - accuracy: 0.9698 - val_loss: 0.3132 - val_accuracy: 0.8724\n",
      "Epoch 13/20\n",
      "15/15 [==============================] - 2s 129ms/step - loss: 0.0914 - accuracy: 0.9801 - val_loss: 0.3190 - val_accuracy: 0.8724\n",
      "Epoch 14/20\n",
      "15/15 [==============================] - 2s 129ms/step - loss: 0.0750 - accuracy: 0.9855 - val_loss: 0.3236 - val_accuracy: 0.8742\n",
      "Epoch 15/20\n",
      "15/15 [==============================] - 2s 129ms/step - loss: 0.0597 - accuracy: 0.9901 - val_loss: 0.3352 - val_accuracy: 0.8716\n",
      "Epoch 16/20\n",
      "15/15 [==============================] - 2s 129ms/step - loss: 0.0494 - accuracy: 0.9934 - val_loss: 0.3453 - val_accuracy: 0.8712\n",
      "Epoch 17/20\n",
      "15/15 [==============================] - 2s 130ms/step - loss: 0.0415 - accuracy: 0.9955 - val_loss: 0.3546 - val_accuracy: 0.8742\n",
      "Epoch 18/20\n",
      "15/15 [==============================] - 2s 129ms/step - loss: 0.0317 - accuracy: 0.9974 - val_loss: 0.3724 - val_accuracy: 0.8732\n",
      "Epoch 19/20\n",
      "15/15 [==============================] - 2s 130ms/step - loss: 0.0250 - accuracy: 0.9987 - val_loss: 0.3859 - val_accuracy: 0.8721\n",
      "Epoch 20/20\n",
      "15/15 [==============================] - 2s 129ms/step - loss: 0.0208 - accuracy: 0.9991 - val_loss: 0.3916 - val_accuracy: 0.8712\n"
     ]
    }
   ],
   "source": [
    "# 학습의 진행\n",
    "model.compile(optimizer=tf.keras.optimizers.Adam(learning_rate=0.001),\n",
    "              loss='binary_crossentropy',\n",
    "              metrics=['accuracy'])\n",
    "              \n",
    "epochs=20  # 몇 epoch를 훈련하면 좋을지 결과를 보면서 바꾸어 봅시다. \n",
    "\n",
    "history = model.fit(partial_x_train,\n",
    "                    partial_y_train,\n",
    "                    epochs=epochs,\n",
    "                    batch_size=1024,\n",
    "                    validation_data=(x_val, y_val),\n",
    "                    verbose=1)"
   ]
  },
  {
   "cell_type": "code",
   "execution_count": 181,
   "id": "6884c8c8",
   "metadata": {},
   "outputs": [
    {
     "name": "stdout",
     "output_type": "stream",
     "text": [
      "Epoch 1/20\n",
      "30/30 [==============================] - 7s 193ms/step - loss: 0.6945 - accuracy: 0.5375 - val_loss: 0.6786 - val_accuracy: 0.5714\n",
      "Epoch 2/20\n",
      "30/30 [==============================] - 5s 152ms/step - loss: 0.6513 - accuracy: 0.6249 - val_loss: 0.6504 - val_accuracy: 0.6230\n",
      "Epoch 3/20\n",
      "30/30 [==============================] - 5s 153ms/step - loss: 0.5820 - accuracy: 0.7191 - val_loss: 0.5589 - val_accuracy: 0.7246\n",
      "Epoch 4/20\n",
      "30/30 [==============================] - 5s 154ms/step - loss: 0.4433 - accuracy: 0.8157 - val_loss: 0.4127 - val_accuracy: 0.8204\n",
      "Epoch 5/20\n",
      "30/30 [==============================] - 5s 153ms/step - loss: 0.3121 - accuracy: 0.8813 - val_loss: 0.3549 - val_accuracy: 0.8492\n",
      "Epoch 6/20\n",
      "30/30 [==============================] - 5s 152ms/step - loss: 0.2285 - accuracy: 0.9186 - val_loss: 0.3514 - val_accuracy: 0.8500\n",
      "Epoch 7/20\n",
      "30/30 [==============================] - 5s 152ms/step - loss: 0.1664 - accuracy: 0.9497 - val_loss: 0.3323 - val_accuracy: 0.8616\n",
      "Epoch 8/20\n",
      "30/30 [==============================] - 5s 151ms/step - loss: 0.1189 - accuracy: 0.9683 - val_loss: 0.3384 - val_accuracy: 0.8629\n",
      "Epoch 9/20\n",
      "30/30 [==============================] - 4s 149ms/step - loss: 0.0835 - accuracy: 0.9825 - val_loss: 0.3591 - val_accuracy: 0.8603\n",
      "Epoch 10/20\n",
      "30/30 [==============================] - 4s 149ms/step - loss: 0.0591 - accuracy: 0.9903 - val_loss: 0.3703 - val_accuracy: 0.8621\n",
      "Epoch 11/20\n",
      "30/30 [==============================] - 4s 149ms/step - loss: 0.0380 - accuracy: 0.9963 - val_loss: 0.3912 - val_accuracy: 0.8617\n",
      "Epoch 12/20\n",
      "30/30 [==============================] - 4s 149ms/step - loss: 0.0249 - accuracy: 0.9981 - val_loss: 0.4034 - val_accuracy: 0.8629\n",
      "Epoch 13/20\n",
      "30/30 [==============================] - 4s 148ms/step - loss: 0.0174 - accuracy: 0.9991 - val_loss: 0.4198 - val_accuracy: 0.8612\n",
      "Epoch 14/20\n",
      "30/30 [==============================] - 4s 148ms/step - loss: 0.0131 - accuracy: 0.9994 - val_loss: 0.4359 - val_accuracy: 0.8617\n",
      "Epoch 15/20\n",
      "30/30 [==============================] - 4s 149ms/step - loss: 0.0101 - accuracy: 0.9994 - val_loss: 0.4534 - val_accuracy: 0.8622\n",
      "Epoch 16/20\n",
      "30/30 [==============================] - 4s 149ms/step - loss: 0.0083 - accuracy: 0.9994 - val_loss: 0.4645 - val_accuracy: 0.8621\n",
      "Epoch 17/20\n",
      "30/30 [==============================] - 4s 149ms/step - loss: 0.0069 - accuracy: 0.9995 - val_loss: 0.4779 - val_accuracy: 0.8615\n",
      "Epoch 18/20\n",
      "30/30 [==============================] - 4s 150ms/step - loss: 0.0058 - accuracy: 0.9996 - val_loss: 0.4871 - val_accuracy: 0.8616\n",
      "Epoch 19/20\n",
      "30/30 [==============================] - 4s 140ms/step - loss: 0.0050 - accuracy: 0.9996 - val_loss: 0.4965 - val_accuracy: 0.8611\n",
      "Epoch 20/20\n",
      "30/30 [==============================] - 2s 72ms/step - loss: 0.0045 - accuracy: 0.9997 - val_loss: 0.5046 - val_accuracy: 0.8620\n"
     ]
    }
   ],
   "source": [
    "# 학습의 진행\n",
    "model.compile(optimizer='adam',\n",
    "              loss='binary_crossentropy',\n",
    "              metrics=['accuracy'])\n",
    "              \n",
    "epochs=20  # 몇 epoch를 훈련하면 좋을지 결과를 보면서 바꾸어 봅시다. \n",
    "\n",
    "history = model.fit(partial_x_train,\n",
    "                    partial_y_train,\n",
    "                    epochs=epochs,\n",
    "                    batch_size=512,\n",
    "                    validation_data=(x_val, y_val),\n",
    "                    verbose=1)"
   ]
  },
  {
   "cell_type": "code",
   "execution_count": 182,
   "id": "409996d3",
   "metadata": {},
   "outputs": [
    {
     "name": "stdout",
     "output_type": "stream",
     "text": [
      "782/782 - 2s - loss: 0.5472 - accuracy: 0.8464\n",
      "[0.5471704602241516, 0.8463600277900696]\n"
     ]
    }
   ],
   "source": [
    "# 테스트셋을 통한 모델 평가\n",
    "results = model.evaluate(x_test,  y_test, verbose=2)\n",
    "\n",
    "print(results)"
   ]
  },
  {
   "cell_type": "markdown",
   "id": "26c58c21",
   "metadata": {},
   "source": [
    "Word2Vec을 정상적으로 잘 활용하면 \n",
    "그렇지 않은 경우보다 5% 이상의 성능 향상이 발생합니다.  \n",
    "적절한 모델 구성, 하이퍼파라미터를 고려하여  \n",
    "감정 분석 모델의 성능을 최대한으로 끌어올려 봅시다."
   ]
  },
  {
   "cell_type": "code",
   "execution_count": 74,
   "id": "b02882d2",
   "metadata": {},
   "outputs": [
    {
     "name": "stdout",
     "output_type": "stream",
     "text": [
      "782/782 - 2s - loss: 0.4289 - accuracy: 0.8560\n",
      "[0.4288981258869171, 0.8560000061988831]\n"
     ]
    }
   ],
   "source": [
    "results = model.evaluate(x_test,  y_test, verbose=2)\n",
    "\n",
    "print(results)"
   ]
  },
  {
   "cell_type": "code",
   "execution_count": null,
   "id": "79e82814",
   "metadata": {},
   "outputs": [],
   "source": []
  }
 ],
 "metadata": {
  "kernelspec": {
   "display_name": "Python 3 (ipykernel)",
   "language": "python",
   "name": "python3"
  },
  "language_info": {
   "codemirror_mode": {
    "name": "ipython",
    "version": 3
   },
   "file_extension": ".py",
   "mimetype": "text/x-python",
   "name": "python",
   "nbconvert_exporter": "python",
   "pygments_lexer": "ipython3",
   "version": "3.9.7"
  }
 },
 "nbformat": 4,
 "nbformat_minor": 5
}
