{
 "cells": [
  {
   "cell_type": "code",
   "execution_count": 1,
   "id": "a8b552e2",
   "metadata": {},
   "outputs": [
    {
     "name": "stdout",
     "output_type": "stream",
     "text": [
      "An error has occurred\n"
     ]
    }
   ],
   "source": [
    "a = 10\n",
    "b = 0\n",
    "try:\n",
    "    print(a / b) #ZeroDivisionError: division by zero\n",
    "    \n",
    "except:\n",
    "    print('An error has occurred')"
   ]
  },
  {
   "cell_type": "code",
   "execution_count": 2,
   "id": "314b6588",
   "metadata": {},
   "outputs": [
    {
     "name": "stdout",
     "output_type": "stream",
     "text": [
      "An error has occurred\n",
      "Modified value : 10.0\n"
     ]
    }
   ],
   "source": [
    "a = 10\n",
    "b = 0\n",
    "try:\n",
    "    print(a / b) #ZeroDivisionError: division by zero\n",
    "    \n",
    "except:\n",
    "    print('An error has occurred')\n",
    "    \n",
    "    b += 1\n",
    "    print(\"Modified value :\", a / b)"
   ]
  },
  {
   "cell_type": "code",
   "execution_count": 3,
   "id": "a59df446",
   "metadata": {},
   "outputs": [
    {
     "name": "stdout",
     "output_type": "stream",
     "text": [
      "finish p1\n",
      "finish p2\n",
      "\n",
      "\n",
      "finish p3\n",
      "finish p4\n",
      "\n",
      "\n",
      "time : 10.056286811828613\n"
     ]
    }
   ],
   "source": [
    "import multiprocessing\n",
    "import time\n",
    "\n",
    "num_list = ['p1', 'p2', 'p3', 'p4']\n",
    "start = time.time()\n",
    "\n",
    "def count(name):\n",
    "    time.sleep(5)\n",
    "    print(\"finish {}\\n\".format(name))\n",
    "    \n",
    "if __name__ == '__main__':\n",
    "    pool = multiprocessing.Pool(processes = 2)\n",
    "    pool.map(count, num_list)\n",
    "    pool.close()\n",
    "    pool.join()\n",
    "    \n",
    "print(\"time :\", time.time() - start)"
   ]
  },
  {
   "cell_type": "code",
   "execution_count": 5,
   "id": "2579a3ca",
   "metadata": {},
   "outputs": [
    {
     "name": "stdout",
     "output_type": "stream",
     "text": [
      "A maximum value is  45\n",
      "A maximum value is  77\n"
     ]
    }
   ],
   "source": [
    "list_data = [11, 22, 33, 45]\n",
    "list_data2 = [44, 55, 66, 77]\n",
    "\n",
    "def max_function(x):\n",
    "    length = len(x) #len(list_data)\n",
    "    max_result = x[0] #list_data[0] 최댓값을 0번째로 옮길려고??\n",
    "    for i in range(length):\n",
    "        if max_result < x[i]:\n",
    "            max_result = x[i] #max_result가 순차적으로 바뀐다.\n",
    "    return max_result\n",
    "\n",
    "print(\"A maximum value is \", max_function(list_data))\n",
    "print(\"A maximum value is \", max_function(list_data2))"
   ]
  },
  {
   "cell_type": "markdown",
   "id": "28e502ff",
   "metadata": {},
   "source": [
    "#### 함수 안에 함수를 만들 수는 있지만 \n",
    "안에 있는 함수는 가장 밖에 있는 def가 쳐놓은 울타리 안에서만 생활할 수 있는 것이죠! \n",
    "\n",
    "그렇기 때문에 그 울타리 외부에서는 사용하지 못합니다."
   ]
  },
  {
   "cell_type": "code",
   "execution_count": 7,
   "id": "b905a198",
   "metadata": {},
   "outputs": [
    {
     "name": "stdout",
     "output_type": "stream",
     "text": [
      "Hi, there!\n",
      "Hi, there!\n"
     ]
    }
   ],
   "source": [
    "def say_something(txt):\n",
    "    return txt\n",
    "\n",
    "def send(function, count):\n",
    "    for i in range(count):\n",
    "        print(function)\n",
    "        \n",
    "send(say_something(\"Hi, there!\"), 2)"
   ]
  },
  {
   "cell_type": "code",
   "execution_count": 8,
   "id": "db7c0720",
   "metadata": {},
   "outputs": [
    {
     "name": "stdout",
     "output_type": "stream",
     "text": [
      "A minimum value is  5\n",
      "A maximum value is  444\n"
     ]
    }
   ],
   "source": [
    "list_data = [333, 22, 444, 5]\n",
    "\n",
    "def minmax_function(x_list):\n",
    "    \n",
    "    def inner_min_function(x):\n",
    "        length = len(x)\n",
    "        min_result = x[0]\n",
    "        for i in range(length):\n",
    "            if min_result > x[i]:\n",
    "                min_result = x[i]\n",
    "        return min_result\n",
    "    \n",
    "    def inner_max_function(x):\n",
    "        length = len(x)\n",
    "        max_result = x[0]\n",
    "        for i in range(length):\n",
    "            if max_result < x[i]:\n",
    "                max_result = x[i]\n",
    "        return max_result\n",
    "    \n",
    "    x_min = inner_min_function(x_list) #5\n",
    "    x_max = inner_max_function(x_list) #444\n",
    "    \n",
    "    return x_min, x_max\n",
    "\n",
    "min_value, max_value = minmax_function(list_data) # 5, 444\n",
    "\n",
    "print(\"A minimum value is \", min_value)\n",
    "print(\"A maximum value is \", max_value)"
   ]
  },
  {
   "cell_type": "markdown",
   "id": "58abd03d",
   "metadata": {},
   "source": [
    "#### Lambda[ ˈlæmdə ] Expression"
   ]
  },
  {
   "cell_type": "code",
   "execution_count": 9,
   "id": "39d3621b",
   "metadata": {},
   "outputs": [],
   "source": [
    "def add(x, y): return x + y"
   ]
  },
  {
   "cell_type": "code",
   "execution_count": 10,
   "id": "96977554",
   "metadata": {},
   "outputs": [
    {
     "name": "stdout",
     "output_type": "stream",
     "text": [
      "187\n"
     ]
    }
   ],
   "source": [
    "print((lambda x, y : x + y)(99, 88))"
   ]
  },
  {
   "cell_type": "code",
   "execution_count": 17,
   "id": "d506de04",
   "metadata": {},
   "outputs": [
    {
     "data": {
      "text/plain": [
       "<function __main__.<lambda>(x, y, z)>"
      ]
     },
     "execution_count": 17,
     "metadata": {},
     "output_type": "execute_result"
    }
   ],
   "source": [
    "lambda x, y, z : x + y * z"
   ]
  },
  {
   "cell_type": "code",
   "execution_count": 18,
   "id": "f3935762",
   "metadata": {},
   "outputs": [
    {
     "ename": "SyntaxError",
     "evalue": "invalid syntax (1401916420.py, line 1)",
     "output_type": "error",
     "traceback": [
      "\u001b[0;36m  File \u001b[0;32m\"/tmp/ipykernel_32/1401916420.py\"\u001b[0;36m, line \u001b[0;32m1\u001b[0m\n\u001b[0;31m    print((lambda)(5, 4, 3))\u001b[0m\n\u001b[0m                 ^\u001b[0m\n\u001b[0;31mSyntaxError\u001b[0m\u001b[0;31m:\u001b[0m invalid syntax\n"
     ]
    }
   ],
   "source": [
    "print((lambda)(5, 4, 3))"
   ]
  },
  {
   "cell_type": "code",
   "execution_count": 19,
   "id": "ce564af2",
   "metadata": {},
   "outputs": [
    {
     "data": {
      "text/plain": [
       "<function __main__.<lambda>(x, y, z)>"
      ]
     },
     "execution_count": 19,
     "metadata": {},
     "output_type": "execute_result"
    }
   ],
   "source": [
    "lambda x, y, z : x + y * z (5, 4 ,3)"
   ]
  },
  {
   "cell_type": "code",
   "execution_count": 20,
   "id": "2ada677f",
   "metadata": {},
   "outputs": [
    {
     "name": "stdout",
     "output_type": "stream",
     "text": [
      "17\n"
     ]
    }
   ],
   "source": [
    "print((lambda x, y, z : x + y * z)(5, 4, 3))"
   ]
  },
  {
   "cell_type": "code",
   "execution_count": null,
   "id": "bbd5cd95",
   "metadata": {},
   "outputs": [],
   "source": []
  }
 ],
 "metadata": {
  "kernelspec": {
   "display_name": "Python 3 (ipykernel)",
   "language": "python",
   "name": "python3"
  },
  "language_info": {
   "codemirror_mode": {
    "name": "ipython",
    "version": 3
   },
   "file_extension": ".py",
   "mimetype": "text/x-python",
   "name": "python",
   "nbconvert_exporter": "python",
   "pygments_lexer": "ipython3",
   "version": "3.9.7"
  }
 },
 "nbformat": 4,
 "nbformat_minor": 5
}
