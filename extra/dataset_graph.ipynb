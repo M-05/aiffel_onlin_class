{
 "cells": [
  {
   "cell_type": "markdown",
   "id": "0942f931",
   "metadata": {},
   "source": [
    "### import"
   ]
  },
  {
   "cell_type": "code",
   "execution_count": 1,
   "id": "e939b31e",
   "metadata": {},
   "outputs": [],
   "source": [
    "# import wandb\n",
    "import pandas as pd\n",
    "import matplotlib.pyplot as plt\n",
    "import seaborn as sns"
   ]
  },
  {
   "cell_type": "code",
   "execution_count": 2,
   "id": "2e7802d4",
   "metadata": {},
   "outputs": [],
   "source": [
    "plt.rc('font', family='NanumGothic')\n",
    "sns.set(style=\"whitegrid\")\n",
    "\n",
    "plt.rcParams['font.family']"
   ]
  },
  {
   "cell_type": "code",
   "execution_count": 3,
   "id": "bc7509f2",
   "metadata": {},
   "outputs": [
    {
     "name": "stdout",
     "output_type": "stream",
     "text": [
      "daily_train.csv              immoral.csv             merged_dktc_train.csv\r\n",
      "daily_val.csv                immoral_over_1_5.csv    Untitled.ipynb\r\n",
      "dktc_ori_exp_0422_82e-2.csv  immoral_over_1_7.csv\r\n",
      "dktc_ori_imp_0422_82e-2.csv  immoral_over_2_0_v.csv\r\n"
     ]
    }
   ],
   "source": [
    "ls"
   ]
  },
  {
   "cell_type": "markdown",
   "id": "8bd4b1fa",
   "metadata": {},
   "source": [
    "### load data "
   ]
  },
  {
   "cell_type": "code",
   "execution_count": 3,
   "id": "e39e7b21",
   "metadata": {},
   "outputs": [],
   "source": [
    "df_daily = pd.read_csv(\"daily_train.csv\")\n",
    "df_immo = pd.read_csv(\"immoral.csv\")\n",
    "df_dktc = pd.read_csv(\"DKTC_train.csv\")\n",
    "df_exp = pd.read_csv(\"dktc_ori_exp_0422_82e-2.csv\")\n",
    "df_imp = pd.read_csv(\"dktc_ori_imp_0422_82e-2.csv\")"
   ]
  },
  {
   "cell_type": "code",
   "execution_count": 4,
   "id": "1778c678",
   "metadata": {},
   "outputs": [],
   "source": [
    "df_immo['Unnamed: 0'] = df_immo['class']\n",
    "df_immo = df_immo[['Unnamed: 0', 'conversation']]\n",
    "df_immo.rename(columns={\"Unnamed: 0\" : \"class\"}, inplace=True)"
   ]
  },
  {
   "cell_type": "code",
   "execution_count": 5,
   "id": "64cb41fd",
   "metadata": {},
   "outputs": [],
   "source": [
    "df_daily = df_daily[['class', \"conversation\"]]\n",
    "df_dktc = df_dktc[['class', \"conversation\"]]\n",
    "df_imp = df_imp[['class', \"conversation\"]]\n",
    "df_exp = df_exp[['class', \"conversation\"]]"
   ]
  },
  {
   "cell_type": "code",
   "execution_count": 12,
   "id": "c8835f96",
   "metadata": {},
   "outputs": [
    {
     "data": {
      "text/html": [
       "<div>\n",
       "<style scoped>\n",
       "    .dataframe tbody tr th:only-of-type {\n",
       "        vertical-align: middle;\n",
       "    }\n",
       "\n",
       "    .dataframe tbody tr th {\n",
       "        vertical-align: top;\n",
       "    }\n",
       "\n",
       "    .dataframe thead th {\n",
       "        text-align: right;\n",
       "    }\n",
       "</style>\n",
       "<table border=\"1\" class=\"dataframe\">\n",
       "  <thead>\n",
       "    <tr style=\"text-align: right;\">\n",
       "      <th></th>\n",
       "      <th>class</th>\n",
       "      <th>conversation</th>\n",
       "    </tr>\n",
       "  </thead>\n",
       "  <tbody>\n",
       "    <tr>\n",
       "      <th>0</th>\n",
       "      <td>갈취 대화</td>\n",
       "      <td>저기요 혹시 날이 너무 뜨겁잖아요? 저희 회사에서 이 선크림 파는데 한 번 손등에 ...</td>\n",
       "    </tr>\n",
       "    <tr>\n",
       "      <th>1</th>\n",
       "      <td>직장 내 괴롭힘 대화</td>\n",
       "      <td>나 이틀 뒤에 가나다 음식점 예약 좀 해줘. 저녁 7시로.\\n가나다 음식점이요.\\n...</td>\n",
       "    </tr>\n",
       "    <tr>\n",
       "      <th>2</th>\n",
       "      <td>갈취 대화</td>\n",
       "      <td>자네 세금계산서 보내준 거 메일이랑 수치가 다르던데?\\n그게.\\n얼마나 해먹었어? ...</td>\n",
       "    </tr>\n",
       "    <tr>\n",
       "      <th>3</th>\n",
       "      <td>갈취 대화</td>\n",
       "      <td>잠깐만 거기 학생.\\n예?\\n저 부르셨어요?\\n그럼 누구겠어.\\n왜 부르시죠.\\n내...</td>\n",
       "    </tr>\n",
       "    <tr>\n",
       "      <th>4</th>\n",
       "      <td>협박 대화</td>\n",
       "      <td>네가 민수라는 남자 제자니?\\n네 맞는데요 왜 그러시죠? 혹시 저희 선생님께 무슨 ...</td>\n",
       "    </tr>\n",
       "  </tbody>\n",
       "</table>\n",
       "</div>"
      ],
      "text/plain": [
       "         class                                       conversation\n",
       "0        갈취 대화  저기요 혹시 날이 너무 뜨겁잖아요? 저희 회사에서 이 선크림 파는데 한 번 손등에 ...\n",
       "1  직장 내 괴롭힘 대화  나 이틀 뒤에 가나다 음식점 예약 좀 해줘. 저녁 7시로.\\n가나다 음식점이요.\\n...\n",
       "2        갈취 대화  자네 세금계산서 보내준 거 메일이랑 수치가 다르던데?\\n그게.\\n얼마나 해먹었어? ...\n",
       "3        갈취 대화  잠깐만 거기 학생.\\n예?\\n저 부르셨어요?\\n그럼 누구겠어.\\n왜 부르시죠.\\n내...\n",
       "4        협박 대화  네가 민수라는 남자 제자니?\\n네 맞는데요 왜 그러시죠? 혹시 저희 선생님께 무슨 ..."
      ]
     },
     "execution_count": 12,
     "metadata": {},
     "output_type": "execute_result"
    }
   ],
   "source": [
    "df_imp.head()"
   ]
  },
  {
   "cell_type": "code",
   "execution_count": 13,
   "id": "a90fc24c",
   "metadata": {},
   "outputs": [
    {
     "data": {
      "text/html": [
       "<div>\n",
       "<style scoped>\n",
       "    .dataframe tbody tr th:only-of-type {\n",
       "        vertical-align: middle;\n",
       "    }\n",
       "\n",
       "    .dataframe tbody tr th {\n",
       "        vertical-align: top;\n",
       "    }\n",
       "\n",
       "    .dataframe thead th {\n",
       "        text-align: right;\n",
       "    }\n",
       "</style>\n",
       "<table border=\"1\" class=\"dataframe\">\n",
       "  <thead>\n",
       "    <tr style=\"text-align: right;\">\n",
       "      <th></th>\n",
       "      <th>class</th>\n",
       "      <th>conversation</th>\n",
       "    </tr>\n",
       "  </thead>\n",
       "  <tbody>\n",
       "    <tr>\n",
       "      <th>0</th>\n",
       "      <td>협박 대화</td>\n",
       "      <td>지금 너 스스로를 죽여달라고 애원하는 것인가?\\n아닙니다.\\n죄송합니다.\\n죽을 거...</td>\n",
       "    </tr>\n",
       "    <tr>\n",
       "      <th>1</th>\n",
       "      <td>협박 대화</td>\n",
       "      <td>길동 경찰서입니다.\\n9시 40분 마트에 폭발물을 설치할 거다.\\n네?\\n똑바로 들...</td>\n",
       "    </tr>\n",
       "    <tr>\n",
       "      <th>2</th>\n",
       "      <td>기타 괴롭힘 대화</td>\n",
       "      <td>너 되게 귀여운 거 알지?\\n나보다 작은 남자는 첨 봤어.\\n그만해.\\n너희들 놀리...</td>\n",
       "    </tr>\n",
       "    <tr>\n",
       "      <th>3</th>\n",
       "      <td>갈취 대화</td>\n",
       "      <td>어이 거기.\\n예?\\n너 말이야 너. 이리 오라고.\\n무슨 일.\\n너 옷 좋아 보인...</td>\n",
       "    </tr>\n",
       "    <tr>\n",
       "      <th>4</th>\n",
       "      <td>기타 괴롭힘 대화</td>\n",
       "      <td>35번 손님 아이스커피 두 잔 나왔습니다.\\n아이스커피?\\n네 맛있게 드세요.\\n저...</td>\n",
       "    </tr>\n",
       "  </tbody>\n",
       "</table>\n",
       "</div>"
      ],
      "text/plain": [
       "       class                                       conversation\n",
       "0      협박 대화  지금 너 스스로를 죽여달라고 애원하는 것인가?\\n아닙니다.\\n죄송합니다.\\n죽을 거...\n",
       "1      협박 대화  길동 경찰서입니다.\\n9시 40분 마트에 폭발물을 설치할 거다.\\n네?\\n똑바로 들...\n",
       "2  기타 괴롭힘 대화  너 되게 귀여운 거 알지?\\n나보다 작은 남자는 첨 봤어.\\n그만해.\\n너희들 놀리...\n",
       "3      갈취 대화  어이 거기.\\n예?\\n너 말이야 너. 이리 오라고.\\n무슨 일.\\n너 옷 좋아 보인...\n",
       "4  기타 괴롭힘 대화  35번 손님 아이스커피 두 잔 나왔습니다.\\n아이스커피?\\n네 맛있게 드세요.\\n저..."
      ]
     },
     "execution_count": 13,
     "metadata": {},
     "output_type": "execute_result"
    }
   ],
   "source": [
    "df_exp.head()"
   ]
  },
  {
   "cell_type": "markdown",
   "id": "4979e738",
   "metadata": {},
   "source": [
    "### concat"
   ]
  },
  {
   "cell_type": "code",
   "execution_count": 6,
   "id": "6f288de5",
   "metadata": {},
   "outputs": [],
   "source": [
    "df1 = pd.concat([df_daily, df_dktc, df_immo], \n",
    "                       join='inner', axis=0)\n",
    "\n",
    "df2 = pd.concat([df_imp, df_exp], \n",
    "            join='inner', axis=0)"
   ]
  },
  {
   "cell_type": "code",
   "execution_count": 24,
   "id": "f6f7a91a",
   "metadata": {},
   "outputs": [
    {
     "data": {
      "text/plain": [
       "위협대화           118140\n",
       "일상대화            87689\n",
       "기타 괴롭힘 대화        1563\n",
       "갈취 대화            1379\n",
       "직장 내 괴롭힘 대화      1346\n",
       "협박 대화            1279\n",
       "Name: class, dtype: int64"
      ]
     },
     "execution_count": 24,
     "metadata": {},
     "output_type": "execute_result"
    }
   ],
   "source": [
    "df1['class'].value_counts()"
   ]
  },
  {
   "cell_type": "code",
   "execution_count": 25,
   "id": "936bf034",
   "metadata": {},
   "outputs": [
    {
     "data": {
      "text/plain": [
       "기타 괴롭힘 대화      1094\n",
       "갈취 대화           979\n",
       "직장 내 괴롭힘 대화     976\n",
       "협박 대화           891\n",
       "Name: class, dtype: int64"
      ]
     },
     "execution_count": 25,
     "metadata": {},
     "output_type": "execute_result"
    }
   ],
   "source": [
    "df2['class'].value_counts()"
   ]
  },
  {
   "cell_type": "code",
   "execution_count": 47,
   "id": "87fcce39",
   "metadata": {},
   "outputs": [
    {
     "data": {
      "image/png": "[encoded data removed]",
      "text/plain": [
       "<Figure size 432x288 with 1 Axes>"
      ]
     },
     "metadata": {},
     "output_type": "display_data"
    }
   ],
   "source": [
    "sns.countplot(y='class', data=df1)\n",
    "plt.title(\"Total Dataset\", fontsize=15);"
   ]
  },
  {
   "cell_type": "code",
   "execution_count": 61,
   "id": "935e2d4e",
   "metadata": {},
   "outputs": [],
   "source": [
    "labels = ['갈취 대화', '기타 괴롭힘 대화', '직장 내 괴롭힘 대화', '협박 대화']"
   ]
  },
  {
   "cell_type": "code",
   "execution_count": 60,
   "id": "bee8e862",
   "metadata": {},
   "outputs": [
    {
     "data": {
      "text/plain": [
       "갈취 대화          1379\n",
       "기타 괴롭힘 대화      1563\n",
       "직장 내 괴롭힘 대화    1346\n",
       "협박 대화          1279\n",
       "Name: class, dtype: int64"
      ]
     },
     "execution_count": 60,
     "metadata": {},
     "output_type": "execute_result"
    }
   ],
   "source": [
    "df_dktc['class'].value_counts().sort_index()"
   ]
  },
  {
   "cell_type": "code",
   "execution_count": 57,
   "id": "8ef09fda",
   "metadata": {},
   "outputs": [
    {
     "data": {
      "text/plain": [
       "갈취 대화          306\n",
       "직장 내 괴롭힘 대화    246\n",
       "기타 괴롭힘 대화      169\n",
       "협박 대화          122\n",
       "Name: class, dtype: int64"
      ]
     },
     "execution_count": 57,
     "metadata": {},
     "output_type": "execute_result"
    }
   ],
   "source": [
    "df_imp['class'].value_counts()"
   ]
  },
  {
   "cell_type": "code",
   "execution_count": 118,
   "id": "f41f21d5",
   "metadata": {},
   "outputs": [
    {
     "data": {
      "text/plain": [
       "갈취 대화           981\n",
       "기타 괴롭힘 대화      1094\n",
       "직장 내 괴롭힘 대화     979\n",
       "협박 대화           896\n",
       "Name: class, dtype: int64"
      ]
     },
     "execution_count": 118,
     "metadata": {},
     "output_type": "execute_result"
    }
   ],
   "source": [
    "dktc_df['class'].value_counts().sort_index()"
   ]
  },
  {
   "cell_type": "code",
   "execution_count": 120,
   "id": "94ab64a5",
   "metadata": {},
   "outputs": [
    {
     "data": {
      "image/png": "[encoded data removed]",
      "text/plain": [
       "<Figure size 432x288 with 1 Axes>"
      ]
     },
     "metadata": {},
     "output_type": "display_data"
    }
   ],
   "source": [
    "plt.bar(x=labels, height=df_dktc['class'].value_counts().sort_index(), color='royalblue' , label=\"dktc\")\n",
    "plt.bar(x=labels, height=df_imp['class'].value_counts().sort_index(), color='skyblue', label='implicit')\n",
    "plt.xticks(rotation=45)\n",
    "plt.title(\"Implicit dataset in DKTC\", fontsize=13, fontweight=\"bold\");"
   ]
  },
  {
   "cell_type": "code",
   "execution_count": 121,
   "id": "fd220faa",
   "metadata": {},
   "outputs": [
    {
     "data": {
      "image/png": "[encoded data removed]",
      "text/plain": [
       "<Figure size 432x288 with 1 Axes>"
      ]
     },
     "metadata": {},
     "output_type": "display_data"
    }
   ],
   "source": [
    "plt.bar(x=labels, height=df_dktc['class'].value_counts().sort_index(), color='royalblue' , label=\"dktc\")\n",
    "plt.bar(x=labels, height=df_exp['class'].value_counts().sort_index(), color='mediumslateblue', label='explicit')\n",
    "plt.xticks(rotation=45)\n",
    "plt.title(\"Explicit dataset in DKTC\", fontsize=13, fontweight=\"bold\");"
   ]
  },
  {
   "cell_type": "code",
   "execution_count": 73,
   "id": "7a3a5e6c",
   "metadata": {},
   "outputs": [
    {
     "data": {
      "text/plain": [
       "갈취 대화          673\n",
       "기타 괴롭힘 대화      925\n",
       "직장 내 괴롭힘 대화    730\n",
       "협박 대화          769\n",
       "Name: class, dtype: int64"
      ]
     },
     "execution_count": 73,
     "metadata": {},
     "output_type": "execute_result"
    }
   ],
   "source": [
    "df_exp['class'].value_counts().sort_index()"
   ]
  },
  {
   "cell_type": "code",
   "execution_count": null,
   "id": "0ae129d0",
   "metadata": {},
   "outputs": [],
   "source": []
  },
  {
   "cell_type": "code",
   "execution_count": 106,
   "id": "4bd2864d",
   "metadata": {},
   "outputs": [],
   "source": [
    "color = sns.hls_palette(22, l= .85, s= .9)"
   ]
  },
  {
   "cell_type": "code",
   "execution_count": 108,
   "id": "12095e92",
   "metadata": {},
   "outputs": [
    {
     "data": {
      "image/png": "[encoded data removed]",
      "text/plain": [
       "<Figure size 720x720 with 1 Axes>"
      ]
     },
     "metadata": {},
     "output_type": "display_data"
    }
   ],
   "source": [
    "plt.figure(figsize= (10, 10))\n",
    "df1['class'].value_counts().plot(kind='pie', autopct= '%1.1f%%', colors= color)\n",
    "plt.title(\"Total Dataset\", fontsize=15);"
   ]
  },
  {
   "cell_type": "code",
   "execution_count": null,
   "id": "d7879113",
   "metadata": {},
   "outputs": [],
   "source": []
  }
 ],
 "metadata": {
  "kernelspec": {
   "display_name": "Python 3 (ipykernel)",
   "language": "python",
   "name": "python3"
  },
  "language_info": {
   "codemirror_mode": {
    "name": "ipython",
    "version": 3
   },
   "file_extension": ".py",
   "mimetype": "text/x-python",
   "name": "python",
   "nbconvert_exporter": "python",
   "pygments_lexer": "ipython3",
   "version": "3.9.7"
  }
 },
 "nbformat": 4,
 "nbformat_minor": 5
}
