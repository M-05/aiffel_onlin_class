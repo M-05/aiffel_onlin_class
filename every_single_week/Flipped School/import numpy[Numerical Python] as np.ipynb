{
 "cells": [
  {
   "cell_type": "code",
   "execution_count": 1,
   "id": "35e8546e",
   "metadata": {},
   "outputs": [
    {
     "data": {
      "text/plain": [
       "'1.22.2'"
      ]
     },
     "execution_count": 1,
     "metadata": {},
     "output_type": "execute_result"
    }
   ],
   "source": [
    "import numpy as np\n",
    "np.__version__"
   ]
  },
  {
   "cell_type": "code",
   "execution_count": 2,
   "id": "bb715bbb",
   "metadata": {},
   "outputs": [
    {
     "name": "stdout",
     "output_type": "stream",
     "text": [
      "[1 2 3 4 5]\n",
      "<class 'numpy.ndarray'>\n",
      "(5,)\n",
      "1\n",
      "[1 2 3 4 5]\n",
      "[9 8 7 4 5]\n"
     ]
    }
   ],
   "source": [
    "a1 = np.array([1, 2, 3, 4, 5])\n",
    "print(a1)\n",
    "print(type(a1))\n",
    "#<class 'numpy.ndarray'> -> N차원 array\n",
    "\n",
    "print(a1.shape)\n",
    "#(5,) -> (5개의 요소[要素][성분], 1차원 배열) \n",
    "\n",
    "print(a1[0])\n",
    "print(a1[:])\n",
    "a1[0] = 9 #성분[成分]element 바꿀수 있다.\n",
    "a1[1] = 8\n",
    "a1[2] = 7\n",
    "print(a1)"
   ]
  },
  {
   "cell_type": "code",
   "execution_count": 3,
   "id": "1d8d47b5",
   "metadata": {},
   "outputs": [
    {
     "name": "stdout",
     "output_type": "stream",
     "text": [
      "[[1 2 3]\n",
      " [4 5 6]\n",
      " [7 8 9]]\n",
      "(3, 3)\n",
      "[1 2 3] [4 5 6] [7 8 9]\n",
      "[[2 5 8]\n",
      " [4 5 6]\n",
      " [7 8 9]]\n"
     ]
    }
   ],
   "source": [
    "a2 = np.array([[1, 2, 3], [4, 5, 6], [7, 8, 9]]) #list in list\n",
    "print(a2)\n",
    "print(a2.shape)\n",
    "#(3, 3) -> 3 x 3 배열, 2차원 배열(행row가로줄, 열column세로줄)\n",
    "\n",
    "print(a2[0, :], a2[1, :], a2[2, :])\n",
    "\n",
    "a2[0, :] = 2, 5, 8\n",
    "print(a2)"
   ]
  },
  {
   "cell_type": "code",
   "execution_count": 4,
   "id": "9b6d6ecd",
   "metadata": {},
   "outputs": [
    {
     "name": "stdout",
     "output_type": "stream",
     "text": [
      "[[[  1   2   3]\n",
      "  [  4   5   6]\n",
      "  [  7   8   9]]\n",
      "\n",
      " [[ 11  22  33]\n",
      "  [ 44  55  66]\n",
      "  [ 77  88  99]]\n",
      "\n",
      " [[111 222 333]\n",
      "  [444 555 666]\n",
      "  [777 888 999]]]\n",
      "(3, 3, 3)\n"
     ]
    }
   ],
   "source": [
    "a3 = np.array([ [ [1, 2, 3], [4, 5, 6], [7, 8, 9] ],\n",
    "                [ [11, 22, 33], [44, 55, 66], [77, 88, 99]],\n",
    "                [ [111, 222, 333], [444, 555, 666], [777, 888, 999]]])\n",
    "print(a3, a3.shape, sep = \"\\n\")\n",
    "# (3, 3, 3) -> 3 x 3 x 3, 3차원 배열(row가로줄, column세로줄, width폭[幅 はば], 너비)"
   ]
  },
  {
   "cell_type": "code",
   "execution_count": 5,
   "id": "3ca71aa6",
   "metadata": {},
   "outputs": [
    {
     "data": {
      "text/plain": [
       "array([1., 1., 1., 1., 1., 1., 1., 1., 1., 1.])"
      ]
     },
     "execution_count": 5,
     "metadata": {},
     "output_type": "execute_result"
    }
   ],
   "source": [
    "#배열 생성 및 초기화\n",
    "#zeros(), ones(), full(), eye(), tri(), empty(), _like()\n",
    "\n",
    "np.zeros(10) # 10개의 요소를 0으로 초기화된 배열로 만들어줘\n",
    "np.ones(10) # 10개의 요소를 1로 배열되게 만들어줘\n",
    "np.ones((3, 3)) # 2차원 형태로 1로써 배열되게 만들어줘\n",
    "np.full((3, 3), 5.55) # 모든 요소를 5.55(fill value)로 초기화 시켜줘\n",
    "np.eye(5) # identity matrix(단위 행렬) 생성, 주 대각선의 원소가 모두 1, 나머지 원소는 0인 정사각 행렬\n",
    "np.tri(4) # 삼각행렬 생성\n",
    "np.empty(10) # 초기화되지 않는 배열 생성 -> 초기화 없어 배열 생성비용 저렴하고 빠름, 기존 메모리 위치에 존재하는 값(x)이 있다.\n",
    "#array([1., 1., 1., 1., 1., 1., 1., 1., 1., 1.])"
   ]
  },
  {
   "cell_type": "code",
   "execution_count": 6,
   "id": "eb7e795d",
   "metadata": {},
   "outputs": [
    {
     "name": "stdout",
     "output_type": "stream",
     "text": [
      "[9 8 7 4 5]\n",
      "[[2 5 8]\n",
      " [4 5 6]\n",
      " [7 8 9]]\n",
      "[[[  1   2   3]\n",
      "  [  4   5   6]\n",
      "  [  7   8   9]]\n",
      "\n",
      " [[ 11  22  33]\n",
      "  [ 44  55  66]\n",
      "  [ 77  88  99]]\n",
      "\n",
      " [[111 222 333]\n",
      "  [444 555 666]\n",
      "  [777 888 999]]]\n"
     ]
    },
    {
     "data": {
      "text/plain": [
       "array([[[5, 5, 5],\n",
       "        [5, 5, 5],\n",
       "        [5, 5, 5]],\n",
       "\n",
       "       [[5, 5, 5],\n",
       "        [5, 5, 5],\n",
       "        [5, 5, 5]],\n",
       "\n",
       "       [[5, 5, 5],\n",
       "        [5, 5, 5],\n",
       "        [5, 5, 5]]])"
      ]
     },
     "execution_count": 6,
     "metadata": {},
     "output_type": "execute_result"
    }
   ],
   "source": [
    "# _like()\n",
    "\n",
    "print(a1)\n",
    "np.zeros_like(a1) #a1의 shape와 같은 모양으로 0으로 채워진 배열 만들어줘\n",
    "#[9 8 7 4 5]\n",
    "#array([0, 0, 0, 0, 0])\n",
    "\n",
    "print(a2)\n",
    "np.ones_like(a2)\n",
    "# array([[1, 1, 1],\n",
    "#        [1, 1, 1],\n",
    "#        [1, 1, 1]])\n",
    "\n",
    "\n",
    "print(a3)\n",
    "np.full_like(a3, 5 ) #full은 fill value 입력! float실수 x\n",
    "# array([[[5, 5, 5],\n",
    "#         [5, 5, 5],\n",
    "#         [5, 5, 5]],\n",
    "\n",
    "#        [[5, 5, 5],\n",
    "#         [5, 5, 5],\n",
    "#         [5, 5, 5]],\n",
    "\n",
    "#        [[5, 5, 5],\n",
    "#         [5, 5, 5],\n",
    "#         [5, 5, 5]]])\n"
   ]
  },
  {
   "cell_type": "code",
   "execution_count": 7,
   "id": "bf552b44",
   "metadata": {},
   "outputs": [
    {
     "data": {
      "text/plain": [
       "array([ 1.25892541,  2.11348904,  3.54813389,  5.95662144, 10.        ])"
      ]
     },
     "execution_count": 7,
     "metadata": {},
     "output_type": "execute_result"
    }
   ],
   "source": [
    "#생성한 값을로 배열 생성\n",
    "# arange(), linspace(), logspace()\n",
    "\n",
    "np.arange(0, 10 + 1, 2) # array + range -> 정수 범위로 배열 생성\n",
    "#array([ 0,  2,  4,  6,  8, 10])\n",
    "\n",
    "#generating linearly[ˈlɪniə(r)li] spaced values = 선형 간격의 값을[선 면 입체]만들다\n",
    "np.linspace(0, 1, 5) # ->  0부터 1를 균둥 간격으로 5개의 배열로 만들어줘\n",
    "#array([0.  , 0.25, 0.5 , 0.75, 1.  ])\n",
    "\n",
    "np.logspace(0.1, 1, 5) #(0.1 ~ 1까지 5개)범위 내에서 균등간격으로 log 스케일로 배열 생성\n",
    "#array([ 1.25892541,  2.11348904,  3.54813389,  5.95662144, 10.        ])\n"
   ]
  },
  {
   "cell_type": "code",
   "execution_count": 8,
   "id": "d9d27b6e",
   "metadata": {},
   "outputs": [
    {
     "data": {
      "text/plain": [
       "array([[ 1.11848362, -0.19961653,  0.60482711],\n",
       "       [ 0.06958418, -0.11404273,  0.45969971],\n",
       "       [ 0.18953035, -0.98390487,  0.33786542]])"
      ]
     },
     "execution_count": 8,
     "metadata": {},
     "output_type": "execute_result"
    }
   ],
   "source": [
    "#랜덤값으로 배열 생성\n",
    "#random(), randint(, normal(), rand(), randn()\n",
    "\n",
    "np.random.random((3, 3)) \n",
    "# (0.0 ~ 1.0)랜덤 수를 3 x 3의 형태로 배열시켜줘\n",
    "\n",
    "np.random.randint(0, 10 + 1, (3, 3)) \n",
    "# 0 ~ 10까지의 수를 랜덤으로 3 x 3의 형태로 배열시켜줘\n",
    "\n",
    "np.random.normal(0, 1, (3, 3)) # 정규분포(normal distribution)를 고려한 랜덤한 수의 배열 생성\n",
    "#평균 = 0, 표준편차 = 1, 3 x 3의 배열\n",
    "\n",
    "np.random.rand(3, 3) # 균등분포(uniform distribution)를 고려한 랜덤한 수의 배열 생성\n",
    "# 느낌상 0.0 ~ 1.0 사이의 랜덤 값을 3 x 3의 배열\n",
    "\n",
    "np.random.randn(3, 3) # 표준 정규 분포(standard normal distribution)를 고려한 랜덤한 수의 배열 생성\n",
    "#평균 = 0, 표준편차 = 1 를 표준화 시켜 정규분포[正規分布,せいきぶんぷ] 시킨 것"
   ]
  },
  {
   "cell_type": "code",
   "execution_count": 9,
   "id": "b6b6a302",
   "metadata": {},
   "outputs": [
    {
     "data": {
      "text/plain": [
       "array([[1., 1., 1.],\n",
       "       [1., 1., 1.],\n",
       "       [1., 1., 1.]])"
      ]
     },
     "execution_count": 9,
     "metadata": {},
     "output_type": "execute_result"
    }
   ],
   "source": [
    "#표준 데이터 타입 dtype\n",
    "#uint16 = unsigned integer(0 ~ 65535)\n",
    "\n",
    "np.zeros(10, dtype = int)\n",
    "#array([0, 0, 0, 0, 0, 0, 0, 0, 0, 0])\n",
    "\n",
    "np.ones((3, 3), dtype = bool) # 1 = true in boolean\n",
    "# array([[ True,  True,  True],\n",
    "#        [ True,  True,  True],\n",
    "#        [ True,  True,  True]])\n",
    "\n",
    "np.full((3, 3), 1.0, dtype = float)\n",
    "# array([[1., 1., 1.],\n",
    "#        [1., 1., 1.],\n",
    "#        [1., 1., 1.]])\n",
    "\n"
   ]
  },
  {
   "cell_type": "code",
   "execution_count": 10,
   "id": "480f82e8",
   "metadata": {
    "scrolled": true
   },
   "outputs": [
    {
     "data": {
      "text/plain": [
       "numpy.datetime64('2024-01-01T12:00:12.340000000')"
      ]
     },
     "execution_count": 10,
     "metadata": {},
     "output_type": "execute_result"
    }
   ],
   "source": [
    "#날짜&시간 배열 생성\n",
    "\n",
    "date = np.array('2023-01-01', dtype = np.datetime64)\n",
    "date\n",
    "#array('2023-01-01', dtype='datetime64[D]')\n",
    "\n",
    "date + np.arange(10)\n",
    "# array(['2023-01-01', '2023-01-02', '2023-01-03', '2023-01-04',\n",
    "#        '2023-01-05', '2023-01-06', '2023-01-07', '2023-01-08',\n",
    "#        '2023-01-09', '2023-01-10'], dtype='datetime64[D]')\n",
    "\n",
    "datetime = np.datetime64('2024-01-01 12:00')\n",
    "datetime\n",
    "#numpy.datetime64('2024-01-01T12:00')\n",
    "\n",
    "datetime= np.datetime64('2024-01-01 12:00:12.34', 'ns') #ns = nanosecond\n",
    "datetime\n",
    "#numpy.datetime64('2024-01-01T12:00:12.340000000')"
   ]
  },
  {
   "cell_type": "code",
   "execution_count": 11,
   "id": "2306e42a",
   "metadata": {},
   "outputs": [
    {
     "name": "stdout",
     "output_type": "stream",
     "text": [
      "[9 8 7 4 5]\n",
      "ndim :  1\n",
      "shape :  (5,)\n",
      "dtype :  int64\n",
      "size :  5\n",
      "itemsize :  8\n",
      "nbytes :  40\n",
      "strides :  (8,)\n",
      "[[2 5 8]\n",
      " [4 5 6]\n",
      " [7 8 9]]\n",
      "ndim :  2\n",
      "shape :  (3, 3)\n",
      "dtype :  int64\n",
      "size :  9\n",
      "itemsize :  8\n",
      "nbytes :  72\n",
      "strides :  (24, 8)\n",
      "[[[  1   2   3]\n",
      "  [  4   5   6]\n",
      "  [  7   8   9]]\n",
      "\n",
      " [[ 11  22  33]\n",
      "  [ 44  55  66]\n",
      "  [ 77  88  99]]\n",
      "\n",
      " [[111 222 333]\n",
      "  [444 555 666]\n",
      "  [777 888 999]]]\n",
      "ndim :  3\n",
      "shape :  (3, 3, 3)\n",
      "dtype :  int64\n",
      "size :  27\n",
      "itemsize :  8\n",
      "nbytes :  216\n",
      "strides :  (72, 24, 8)\n"
     ]
    }
   ],
   "source": [
    "#배열 속성 정보\n",
    "\n",
    "def array_info(array):\n",
    "    print(array)\n",
    "    print(\"ndim : \", array.ndim) # N dimension\n",
    "    print(\"shape : \", array.shape)\n",
    "    print(\"dtype : \", array.dtype)\n",
    "    print(\"size : \", array.size)\n",
    "    print(\"itemsize : \", array.itemsize)\n",
    "    print(\"nbytes : \", array.nbytes)\n",
    "    print(\"strides : \", array.strides)\n",
    "\n",
    "array_info(a1)\n",
    "# [9 8 7 4 5]\n",
    "# ndim :  1      -> 1차원\n",
    "# shape :  (5,)  -> 5개의 요소, 1차원\n",
    "# dtype :  int64 -> 정수\n",
    "# size :  5      -> 5개의 요소 갯수\n",
    "# itemsize :  8  -> 8 bytes\n",
    "# nbytes :  40   -> 5 * 8bytes = 40 bytes 전체 bytes\n",
    "# strides :  (8,)-> (9 -> 8 -> 7 -> 4 -> 5 )로 넘어가는데 8 bytes 필요\n",
    "\n",
    "array_info(a2)\n",
    "# [[2 5 8]\n",
    "#  [4 5 6]\n",
    "#  [7 8 9]]\n",
    "# ndim :  2\n",
    "# shape :  (3, 3)\n",
    "# dtype :  int64\n",
    "# size :  9\n",
    "# itemsize :  8\n",
    "# nbytes :  72\n",
    "# strides :  (24, 8) -> [2 5 8] -> [4 5 6] 로 넘어가는데 24 bytes 필요\n",
    "\n",
    "array_info(a3)\n",
    "# [[[  1   2   3]\n",
    "#   [  4   5   6]\n",
    "#   [  7   8   9]]\n",
    "\n",
    "#  [[ 11  22  33]\n",
    "#   [ 44  55  66]\n",
    "#   [ 77  88  99]]\n",
    "\n",
    "#  [[111 222 333]\n",
    "#   [444 555 666]\n",
    "#   [777 888 999]]]\n",
    "# ndim :  3\n",
    "# shape :  (3, 3, 3)\n",
    "# dtype :  int64\n",
    "# size :  27        -> 1개의 차원에 9개 * 총 3개의 차원 = 27\n",
    "# itemsize :  8\n",
    "# nbytes :  216\n",
    "# strides :  (72, 24, 8)"
   ]
  },
  {
   "cell_type": "code",
   "execution_count": 12,
   "id": "6e46c2dc",
   "metadata": {},
   "outputs": [
    {
     "name": "stdout",
     "output_type": "stream",
     "text": [
      "[9 8 7 4 5]\n",
      "[9 8 7 4]\n",
      "[5 4 7 8 9]\n",
      "[[2 5 8]\n",
      " [4 5 6]\n",
      " [7 8 9]]\n",
      "[2 5 8]\n",
      "[6 5 4]\n",
      "[[[  1   2   3]\n",
      "  [  4   5   6]\n",
      "  [  7   8   9]]\n",
      "\n",
      " [[ 11  22  33]\n",
      "  [ 44  55  66]\n",
      "  [ 77  88  99]]\n",
      "\n",
      " [[111 222 333]\n",
      "  [444 555 666]\n",
      "  [777 888 999]]]\n",
      "[1 2 3]\n",
      "[333 222 111]\n"
     ]
    }
   ],
   "source": [
    "#indexing & Slicing\n",
    "\n",
    "print(a1)\n",
    "# [9 8 7 4 5]\n",
    "print(a1[:-1])\n",
    "# [9 8 7 4]\n",
    "print(a1[::-1])\n",
    "# [5 4 7 8 9]\n",
    "\n",
    "print(a2)\n",
    "print(a2[0, :])\n",
    "# [2 5 8]\n",
    "print(a2[1, ::-1])\n",
    "# [6 5 4]\n",
    "\n",
    "print(a3)\n",
    "print(a3[0, 0, :])\n",
    "#[1 2 3]\n",
    "print(a3[2, 0, ::-1])\n",
    "#[333 222 111]"
   ]
  },
  {
   "cell_type": "code",
   "execution_count": 13,
   "id": "96b907dc",
   "metadata": {},
   "outputs": [
    {
     "name": "stdout",
     "output_type": "stream",
     "text": [
      "[[2 5 8]\n",
      " [4 5 6]\n",
      " [7 8 9]]\n",
      "[[7 8 9]\n",
      " [4 5 6]\n",
      " [2 5 8]]\n",
      "[[9 8 7]\n",
      " [6 5 4]\n",
      " [8 5 2]]\n"
     ]
    }
   ],
   "source": [
    "print(a2)\n",
    "print(a2[::-1])\n",
    "# [[7 8 9]\n",
    "#  [4 5 6]\n",
    "#  [2 5 8]]\n",
    "print(a2[::-1, ::-1])\n",
    "# [[9 8 7]\n",
    "#  [6 5 4]\n",
    "#  [8 5 2]]"
   ]
  },
  {
   "cell_type": "code",
   "execution_count": 14,
   "id": "f8ac66ed",
   "metadata": {},
   "outputs": [
    {
     "name": "stdout",
     "output_type": "stream",
     "text": [
      "[9 8 7 4 5]\n"
     ]
    },
    {
     "ename": "NameError",
     "evalue": "name 'bi1' is not defined",
     "output_type": "error",
     "traceback": [
      "\u001b[0;31m---------------------------------------------------------------------------\u001b[0m",
      "\u001b[0;31mNameError\u001b[0m                                 Traceback (most recent call last)",
      "\u001b[0;32m/tmp/ipykernel_82/1294174920.py\u001b[0m in \u001b[0;36m<module>\u001b[0;34m\u001b[0m\n\u001b[1;32m      4\u001b[0m \u001b[0;31m# [9 8 7 4 5]\u001b[0m\u001b[0;34m\u001b[0m\u001b[0;34m\u001b[0m\u001b[0m\n\u001b[1;32m      5\u001b[0m \u001b[0mbi_1\u001b[0m \u001b[0;34m=\u001b[0m \u001b[0;34m[\u001b[0m\u001b[0;32mFalse\u001b[0m\u001b[0;34m,\u001b[0m \u001b[0;32mTrue\u001b[0m\u001b[0;34m,\u001b[0m \u001b[0;32mTrue\u001b[0m\u001b[0;34m,\u001b[0m \u001b[0;32mFalse\u001b[0m\u001b[0;34m,\u001b[0m \u001b[0;32mTrue\u001b[0m\u001b[0;34m]\u001b[0m \u001b[0;31m#True 위치의 값만 출력\u001b[0m\u001b[0;34m\u001b[0m\u001b[0;34m\u001b[0m\u001b[0m\n\u001b[0;32m----> 6\u001b[0;31m \u001b[0mprint\u001b[0m\u001b[0;34m(\u001b[0m\u001b[0ma1\u001b[0m\u001b[0;34m[\u001b[0m\u001b[0mbi1\u001b[0m\u001b[0;34m]\u001b[0m\u001b[0;34m)\u001b[0m\u001b[0;34m\u001b[0m\u001b[0;34m\u001b[0m\u001b[0m\n\u001b[0m\u001b[1;32m      7\u001b[0m \u001b[0;31m# [8 7 5]\u001b[0m\u001b[0;34m\u001b[0m\u001b[0;34m\u001b[0m\u001b[0m\n\u001b[1;32m      8\u001b[0m \u001b[0;34m\u001b[0m\u001b[0m\n",
      "\u001b[0;31mNameError\u001b[0m: name 'bi1' is not defined"
     ]
    }
   ],
   "source": [
    "#Boolean indexing\n",
    "\n",
    "print(a1)\n",
    "# [9 8 7 4 5]\n",
    "bi_1 = [False, True, True, False, True] #True 위치의 값만 출력\n",
    "print(a1[bi1])\n",
    "# [8 7 5]\n",
    "\n",
    "print(a2)\n",
    "# [[2 5 8]\n",
    "#  [4 5 6]\n",
    "#  [7 8 9]]\n",
    "bi_2 = np.random.randint(0, 2, (3, 3), dtype = bool) #0이상 2이하 -> 2까지가 한계인듯?!\n",
    "print(bi_2)\n",
    "# randome 값으로 계속 변함\n",
    "# [[False False  True]\n",
    "#  [ True False  True]\n",
    "#  [ True  True  True]]\n",
    "print(a2[bi_2])\n",
    "#True로 인덱싱된 부분을 출력\n",
    "# [8 4 6 7 8 9]"
   ]
  },
  {
   "cell_type": "code",
   "execution_count": null,
   "id": "c2f37d77",
   "metadata": {},
   "outputs": [],
   "source": [
    "#Fancy indexing\n",
    "\n",
    "print(a1)\n",
    "# [9 8 7 4 5]\n",
    "print([a1[0], a1[2]])\n",
    "# [9, 7]\n",
    "print(a1[1], a1[3])\n",
    "# 8 4\n",
    "\n",
    "ind = [1, 4]\n",
    "print(a1[ind])\n",
    "# [8 5]\n",
    "\n",
    "ind = np.array([[0, 1],\n",
    "               [2, 0]])\n",
    "print(a1[ind])\n",
    "# [[9 8]\n",
    "#  [7 9]]\n",
    "\n",
    "print(a2)\n",
    "# [[2 5 8]\n",
    "#  [4 5 6]\n",
    "#  [7 8 9]]\n",
    "row = np.array([0, 2]) # 0, 2번째 행\n",
    "col = np.array([1, 2]) # 1, 2번째 열\n",
    "\n",
    "print(a2[row, col]) # a2[0, 1] -> 5, a2[2, 2] -> 9\n",
    "# [5 9]\n",
    "\n",
    "print(a2[row, :])\n",
    "# [[2 5 8]\n",
    "#  [7 8 9]]\n",
    "print(a2[row, 2])\n",
    "# [8 9]\n",
    "print(a2[:, col])\n",
    "# [[5 8]\n",
    "#  [5 6]\n",
    "#  [8 9]]\n",
    "print(a2[1, col])\n",
    "# [5 6]"
   ]
  },
  {
   "cell_type": "code",
   "execution_count": null,
   "id": "a7f84ab5",
   "metadata": {},
   "outputs": [],
   "source": [
    "#배열 값 삽입\n",
    "print(a1)\n",
    "# [9 8 7 4 5]\n",
    "b1 = np.insert(a1, 0, 10) \n",
    "print(b1)\n",
    "# [10  9  8  7  4  5]\n",
    "print(a1) #원본은 변경되지 않는다. b1에 a1을 사용한 것 뿐이다.\n",
    "# [9 8 7 4 5]\n",
    "\n",
    "c1 = np.insert(a1, 2, 10)\n",
    "print(c1)\n",
    "# [ 9  8 10  7  4  5]"
   ]
  },
  {
   "cell_type": "code",
   "execution_count": null,
   "id": "8afe1298",
   "metadata": {},
   "outputs": [],
   "source": [
    "print(a2)\n",
    "# [[2 5 8]\n",
    "#  [4 5 6]\n",
    "#  [7 8 9]]\n",
    "b2 = np.insert(a2, 2, 10, axis = 0)\n",
    "print(b2)\n",
    "# [[ 2  5  8]\n",
    "#  [ 4  5  6]\n",
    "#  [10 10 10]\n",
    "#  [ 7  8  9]]\n",
    "\n",
    "c2 = np.insert(a2, 0, 10, axis = 1)\n",
    "print(c2)\n",
    "# [[10  2  5  8]\n",
    "#  [10  4  5  6]\n",
    "#  [10  7  8  9]]"
   ]
  },
  {
   "cell_type": "code",
   "execution_count": null,
   "id": "dbe1cd39",
   "metadata": {},
   "outputs": [],
   "source": [
    "#배열갑 수정\n",
    "a1[:] = 9, 8, 7, 4, 5\n",
    "print(a1)\n",
    "\n",
    "a1[-2:] = 8\n",
    "print(a1)\n",
    "\n",
    "a1[:1 +1] = 1, 9\n",
    "print(a1)"
   ]
  },
  {
   "cell_type": "code",
   "execution_count": null,
   "id": "7509d739",
   "metadata": {},
   "outputs": [],
   "source": [
    "i = np.array([1, 3, 4])\n",
    "a1[i] = 0\n",
    "print(a1)\n",
    "\n",
    "a1[i] += 4\n",
    "print(a1)"
   ]
  },
  {
   "cell_type": "code",
   "execution_count": null,
   "id": "6163fe91",
   "metadata": {},
   "outputs": [],
   "source": [
    "print(a2)\n",
    "a2[0: , 2] = 9\n",
    "print(a2)\n",
    "\n",
    "row = np.array([0, 1])\n",
    "col = np.array([1, 1])\n",
    "a2[row, col] = 0\n",
    "print(a2)"
   ]
  },
  {
   "cell_type": "code",
   "execution_count": null,
   "id": "2d952c31",
   "metadata": {},
   "outputs": [],
   "source": [
    "#배열 값 삭제\n",
    "print(a1)\n",
    "b1 = np.delete(a1, 1)\n",
    "print(b1)\n",
    "print(a1)"
   ]
  },
  {
   "cell_type": "code",
   "execution_count": null,
   "id": "3f74d145",
   "metadata": {},
   "outputs": [],
   "source": [
    "print(a2)\n",
    "b2 = np.delete(a2, 1, axis = 0) # 1차원 기준으로 삭제 해줘\n",
    "print(b2)\n",
    "print(a2)\n",
    "\n",
    "c2 = np.delete(a2, 1, axis = 1)\n",
    "print(c2)"
   ]
  },
  {
   "cell_type": "code",
   "execution_count": null,
   "id": "73b585b5",
   "metadata": {},
   "outputs": [],
   "source": [
    "#배열 값 복사\n",
    "print(a2)\n",
    "# [[2 0 9]\n",
    "#  [4 0 9]\n",
    "#  [7 8 9]]\n",
    "\n",
    "print(a2[:2, :2])\n",
    "# [[2 0]\n",
    "#  [4 0]]\n",
    "a2_sub = a2[:2, :2]\n",
    "print(a2_sub)\n",
    "# [[2 0]\n",
    "#  [4 0]]\n",
    "\n",
    "a2_sub[:, 1] = 5\n",
    "print(a2_sub)\n",
    "# [[2 5]\n",
    "#  [4 5]]\n",
    "\n",
    "print(a2)\n",
    "# [[2 5 9]\n",
    "#  [4 5 9]\n",
    "#  [7 8 9]]"
   ]
  },
  {
   "cell_type": "code",
   "execution_count": null,
   "id": "19654fd7",
   "metadata": {},
   "outputs": [],
   "source": [
    "print(a2)\n",
    "# [[2 5 9]\n",
    "#  [4 5 9]\n",
    "#  [7 8 9]]\n",
    "a2_sub_copy = a2[:2, :2].copy()\n",
    "print(a2_sub_copy)\n",
    "# [[2 5]\n",
    "#  [4 5]]\n",
    "\n",
    "a2_sub_copy[:, 1] = 1\n",
    "print(a2_sub_copy)\n",
    "# [[2 1]\n",
    "#  [4 1]]\n",
    "\n",
    "print(a2)\n",
    "# [[2 5 9]\n",
    "#  [4 5 9]\n",
    "#  [7 8 9]]"
   ]
  },
  {
   "cell_type": "code",
   "execution_count": null,
   "id": "d8f71cb6",
   "metadata": {},
   "outputs": [],
   "source": [
    "#배열 전치 및 축 변경\n",
    "print(a2)\n",
    "print(a2.T)"
   ]
  },
  {
   "cell_type": "code",
   "execution_count": null,
   "id": "d7c51702",
   "metadata": {},
   "outputs": [],
   "source": [
    "print(a3)\n",
    "print(a3.T)"
   ]
  },
  {
   "cell_type": "code",
   "execution_count": null,
   "id": "995e64c6",
   "metadata": {},
   "outputs": [],
   "source": [
    "print(a2)\n",
    "print(a2.swapaxes(1, 0))"
   ]
  },
  {
   "cell_type": "code",
   "execution_count": null,
   "id": "56cbaa67",
   "metadata": {},
   "outputs": [],
   "source": [
    "print(a3)\n",
    "print(a3.swapaxes(0, 1))\n",
    "print(a3.swapaxes(1, 2))"
   ]
  },
  {
   "cell_type": "code",
   "execution_count": null,
   "id": "6c9f5f0c",
   "metadata": {
    "scrolled": true
   },
   "outputs": [],
   "source": [
    "#배열 재구조화\n",
    "\n",
    "n1 = np.arange(1, 10)\n",
    "print(n1)\n",
    "\n",
    "print(n1.reshape(3, 3))"
   ]
  },
  {
   "cell_type": "code",
   "execution_count": null,
   "id": "edcf85a3",
   "metadata": {},
   "outputs": [],
   "source": [
    "print(n1)\n",
    "print(n1[np.newaxis, :5])\n",
    "print(n1[:5, np.newaxis])"
   ]
  },
  {
   "cell_type": "code",
   "execution_count": null,
   "id": "0d0caaa6",
   "metadata": {},
   "outputs": [],
   "source": [
    "#배열 모양만 변경\n",
    "\n",
    "n2 = np.random.randint(0, 10, (2, 5))\n",
    "print(n2)\n",
    "\n",
    "n2.resize((5, 2))\n",
    "print(n2)\n",
    "\n",
    "# [[7 9 5 1 3]\n",
    "#  [0 6 8 4 6]]\n",
    "# [[7 9]\n",
    "#  [5 1]\n",
    "#  [3 0]\n",
    "#  [6 8]\n",
    "#  [4 6]]"
   ]
  },
  {
   "cell_type": "code",
   "execution_count": null,
   "id": "4ddf1ce9",
   "metadata": {},
   "outputs": [],
   "source": [
    "n2.resize((5, 5))\n",
    "print(n2)\n",
    "# [[2 4 1 7 7]\n",
    "#  [7 6 1 5 5]\n",
    "#  [0 0 0 0 0]\n",
    "#  [0 0 0 0 0]\n",
    "#  [0 0 0 0 0]]"
   ]
  },
  {
   "cell_type": "code",
   "execution_count": null,
   "id": "376fcc02",
   "metadata": {},
   "outputs": [],
   "source": [
    "n2.resize((3, 3))\n",
    "print((n2))\n",
    "\n",
    "# [[2 4 1]\n",
    "#  [7 7 7]\n",
    "#  [6 1 5]]"
   ]
  },
  {
   "cell_type": "code",
   "execution_count": null,
   "id": "839bed6e",
   "metadata": {},
   "outputs": [],
   "source": [
    "# 배열 추가\n",
    "a2 = np.arange(1, 10).reshape(3, 3)\n",
    "print(a2)\n",
    "\n",
    "b2 = np.arange(10, 19).reshape(3, 3)\n",
    "print(b2)\n",
    "# [[1 2 3]\n",
    "#  [4 5 6]\n",
    "#  [7 8 9]]\n",
    "# [[10 11 12]\n",
    "#  [13 14 15]\n",
    "#  [16 17 18]]"
   ]
  },
  {
   "cell_type": "code",
   "execution_count": null,
   "id": "4fcb5879",
   "metadata": {},
   "outputs": [],
   "source": [
    "c2 = np.append(a2, b2)\n",
    "print(c2)"
   ]
  },
  {
   "cell_type": "code",
   "execution_count": null,
   "id": "f7d9fa2b",
   "metadata": {},
   "outputs": [],
   "source": [
    "c2 = np.append(a2, b2, axis = 0)\n",
    "print(c2)"
   ]
  },
  {
   "cell_type": "code",
   "execution_count": null,
   "id": "bd8ddae5",
   "metadata": {},
   "outputs": [],
   "source": [
    "c2 = np.append(a2, b2, axis = 1)\n",
    "print(c2)"
   ]
  },
  {
   "cell_type": "code",
   "execution_count": null,
   "id": "d74eb8f9",
   "metadata": {},
   "outputs": [],
   "source": [
    "#배열 연결\n",
    "\n",
    "a1 = np.array([1, 3, 5])\n",
    "b1 = np.array([2, 4, 6])\n",
    "np.concatenate([a1, b1])\n",
    "c1 = np.array([7, 8, 9])\n",
    "np.concatenate([a1, b1, c1])"
   ]
  },
  {
   "cell_type": "code",
   "execution_count": null,
   "id": "d4716981",
   "metadata": {},
   "outputs": [],
   "source": [
    "a2 = np.array([[1, 2, 3],\n",
    "               [4, 5, 6]])\n",
    "np.concatenate([a2, a2])"
   ]
  },
  {
   "cell_type": "code",
   "execution_count": null,
   "id": "c13cbfc8",
   "metadata": {},
   "outputs": [],
   "source": [
    "np.concatenate([a2, a2], axis = 1)"
   ]
  },
  {
   "cell_type": "code",
   "execution_count": null,
   "id": "7b6367d5",
   "metadata": {},
   "outputs": [],
   "source": [
    "np.vstack([a2, a2])"
   ]
  },
  {
   "cell_type": "code",
   "execution_count": null,
   "id": "6c861a91",
   "metadata": {},
   "outputs": [],
   "source": [
    "np.hstack([a2, a2])\n",
    "# array([[1, 2, 3, 1, 2, 3],\n",
    "#        [4, 5, 6, 4, 5, 6]])"
   ]
  },
  {
   "cell_type": "code",
   "execution_count": null,
   "id": "1c0584ac",
   "metadata": {},
   "outputs": [],
   "source": [
    "np.dstack([a2, a2])"
   ]
  },
  {
   "cell_type": "code",
   "execution_count": null,
   "id": "3e3db513",
   "metadata": {},
   "outputs": [],
   "source": [
    "np.stack([a2, a2])"
   ]
  },
  {
   "cell_type": "code",
   "execution_count": null,
   "id": "65a39909",
   "metadata": {},
   "outputs": [],
   "source": [
    "#분할\n",
    "\n",
    "a1 = np.arange(0, 10)\n",
    "print(a1)\n",
    "b1, c1 = np.split(a1, [5])\n",
    "print(b1, c1)\n",
    "\n",
    "b1, c1, d1, e1, f1 = np.split(a1, [2, 4, 6, 8])\n",
    "print(b1, c1, d1, e1, f1)"
   ]
  },
  {
   "cell_type": "code",
   "execution_count": null,
   "id": "ec755a9b",
   "metadata": {},
   "outputs": [],
   "source": [
    "a2 = np.arange(1, 10).reshape(3, 3)\n",
    "print(a2)\n",
    "\n",
    "b2, c2 = np.vsplit(a2, [2])\n",
    "print(b2, c2, sep = \"\\n\")"
   ]
  },
  {
   "cell_type": "code",
   "execution_count": null,
   "id": "a35f5b47",
   "metadata": {},
   "outputs": [],
   "source": [
    "a2 = np.arange(1, 10).reshape(3, 3)\n",
    "print(a2)\n",
    "\n",
    "b2, c2 = np.hsplit(a2, [2])\n",
    "print(b2, c2, sep = \"\\n\")"
   ]
  },
  {
   "cell_type": "code",
   "execution_count": null,
   "id": "50ee19fa",
   "metadata": {},
   "outputs": [],
   "source": [
    "a3 = np.arange(1, 27 +1).reshape(3, 3, 3)\n",
    "print(a3)\n",
    "\n",
    "b3, c3 = np.dsplit(a3, [2])\n",
    "print(b3, c3, sep = \"\\n\")"
   ]
  },
  {
   "cell_type": "code",
   "execution_count": null,
   "id": "7bb97e80",
   "metadata": {},
   "outputs": [],
   "source": [
    "a1 = np.arange(1, 3 +1).reshape(1, 3)\n",
    "print(a1)\n",
    "print(a1 + 10)"
   ]
  },
  {
   "cell_type": "code",
   "execution_count": null,
   "id": "805ed356",
   "metadata": {},
   "outputs": [],
   "source": [
    "a2 = np.arange(1, 9 +1).reshape(3, 3)\n",
    "print(a2)\n",
    "print(a1 + a2)"
   ]
  },
  {
   "cell_type": "code",
   "execution_count": null,
   "id": "bc0db678",
   "metadata": {},
   "outputs": [],
   "source": [
    "a3 = np.arange(1, 3 +1).reshape(3, 1)\n",
    "print(a3)\n",
    "print(a1 + a3)"
   ]
  },
  {
   "cell_type": "code",
   "execution_count": 15,
   "id": "349cb02a",
   "metadata": {},
   "outputs": [
    {
     "name": "stdout",
     "output_type": "stream",
     "text": [
      "[11 12 13 14 15 16 17 18 19]\n",
      "[11 12 13 14 15 16 17 18 19]\n"
     ]
    }
   ],
   "source": [
    "a1 = np.arange(1, 9 +1)\n",
    "print(a1 + 10)\n",
    "print(np.add(a1, 10))\n"
   ]
  },
  {
   "cell_type": "code",
   "execution_count": null,
   "id": "9ac99877",
   "metadata": {},
   "outputs": [],
   "source": [
    "print(a1)\n",
    "print(a1 - 10)\n",
    "print(np.subtract(a1, - 5))"
   ]
  },
  {
   "cell_type": "code",
   "execution_count": null,
   "id": "f8e15086",
   "metadata": {},
   "outputs": [],
   "source": [
    "print(-a1 - 50)\n",
    "print(np.negative(a1))"
   ]
  },
  {
   "cell_type": "code",
   "execution_count": 17,
   "id": "06f8de06",
   "metadata": {},
   "outputs": [
    {
     "name": "stdout",
     "output_type": "stream",
     "text": [
      "[ 1  4  9 16 25 36 49 64 81]\n",
      "[1 2 3 4 5 6 7 8 9]\n",
      "[  2   8  18  32  50  72  98 128 162]\n",
      "[1 2 3 4 5 6 7 8 9]\n"
     ]
    }
   ],
   "source": [
    "print(a1 * a1)\n",
    "print(a1)\n",
    "print(np.multiply(a1, a1 * 2))\n",
    "print(a1)"
   ]
  },
  {
   "cell_type": "code",
   "execution_count": 18,
   "id": "520c85fb",
   "metadata": {},
   "outputs": [
    {
     "name": "stdout",
     "output_type": "stream",
     "text": [
      "[0.1 0.2 0.3 0.4 0.5 0.6 0.7 0.8 0.9]\n",
      "[1 2 3 4 5 6 7 8 9]\n",
      "[1. 1. 1. 1. 1. 1. 1. 1. 1.]\n",
      "[1 2 3 4 5 6 7 8 9]\n"
     ]
    }
   ],
   "source": [
    "print(a1 / 10)\n",
    "print(a1)\n",
    "print(np.divide(a1, a1))\n",
    "print(a1)"
   ]
  },
  {
   "cell_type": "code",
   "execution_count": 19,
   "id": "7c392259",
   "metadata": {},
   "outputs": [
    {
     "name": "stdout",
     "output_type": "stream",
     "text": [
      "[1 2 3 4 5 6 7 8 9]\n",
      "[0 1 1 2 2 3 3 4 4]\n",
      "[1 1 1 1 1 1 1 1 1]\n"
     ]
    }
   ],
   "source": [
    "print(a1)\n",
    "print(a1 // 2)\n",
    "print(np.floor_divide(a1, a1))"
   ]
  },
  {
   "cell_type": "code",
   "execution_count": 20,
   "id": "240d287a",
   "metadata": {},
   "outputs": [
    {
     "name": "stdout",
     "output_type": "stream",
     "text": [
      "[ 1  4  9 16 25 36 49 64 81]\n",
      "[ 1  4  9 16 25 36 49 64 81]\n"
     ]
    }
   ],
   "source": [
    "print(a1 ** 2)\n",
    "print(np.power(a1, 2))"
   ]
  },
  {
   "cell_type": "code",
   "execution_count": 21,
   "id": "ce0b778b",
   "metadata": {},
   "outputs": [
    {
     "name": "stdout",
     "output_type": "stream",
     "text": [
      "[1 0 1 0 1 0 1 0 1]\n",
      "[1 0 1 0 1 0 1 0 1]\n"
     ]
    }
   ],
   "source": [
    "print(a1 % 2)\n",
    "print(np.mod(a1, 2))"
   ]
  },
  {
   "cell_type": "code",
   "execution_count": 27,
   "id": "73ca7739",
   "metadata": {},
   "outputs": [
    {
     "name": "stdout",
     "output_type": "stream",
     "text": [
      "[ 4  5  9 11  7 14 11  5 11]\n"
     ]
    }
   ],
   "source": [
    "b1 = np.random.randint(1, 20 +1, size = 9)\n",
    "print(b1)"
   ]
  },
  {
   "cell_type": "code",
   "execution_count": 29,
   "id": "4f59b005",
   "metadata": {},
   "outputs": [
    {
     "name": "stdout",
     "output_type": "stream",
     "text": [
      "[[ 2  8  7]\n",
      " [ 6 14  7]\n",
      " [10 11 18]]\n",
      "[[ 0 -4 -1]\n",
      " [ 2 -4  5]\n",
      " [ 4  5  0]]\n",
      "[[ 1 12 12]\n",
      " [ 8 45  6]\n",
      " [21 24 81]]\n",
      "[[1.         0.33333333 0.75      ]\n",
      " [2.         0.55555556 6.        ]\n",
      " [2.33333333 2.66666667 1.        ]]\n",
      "[[        1        64        81]\n",
      " [       16   1953125         6]\n",
      " [      343       512 387420489]]\n",
      "[[1 0 0]\n",
      " [2 0 6]\n",
      " [2 2 1]]\n",
      "[[0 2 3]\n",
      " [0 5 0]\n",
      " [1 2 0]]\n"
     ]
    }
   ],
   "source": [
    "a2 = np.arange(1, 9 +1).reshape(3, 3)\n",
    "b2 = np.random.randint(1, 9 +1, size = (3, 3))\n",
    "print(a2 + b2)\n",
    "print(a2 - b2)\n",
    "print(a2 * b2)\n",
    "print(a2 / b2)\n",
    "print(a2 ** b2)\n",
    "print(a2 // b2)\n",
    "print(a2 % b2)"
   ]
  },
  {
   "cell_type": "code",
   "execution_count": 40,
   "id": "a8948a62",
   "metadata": {},
   "outputs": [
    {
     "name": "stdout",
     "output_type": "stream",
     "text": [
      "[-9  8  3 -9 -3]\n",
      "[9 8 3 9 3]\n",
      "[9 8 3 9 3]\n"
     ]
    }
   ],
   "source": [
    "a1 = np.random.randint(-10, 10+1, size = 5)\n",
    "print(a1)\n",
    "print(np.abs(a1))\n",
    "print(np.absolute(a1))"
   ]
  },
  {
   "cell_type": "code",
   "execution_count": 37,
   "id": "9c0299e9",
   "metadata": {},
   "outputs": [
    {
     "name": "stdout",
     "output_type": "stream",
     "text": [
      "[-1 -8  8  2 -4]\n",
      "[       nan        nan 2.82842712 1.41421356        nan]\n",
      "[ 1 64 64  4 16]\n"
     ]
    },
    {
     "name": "stderr",
     "output_type": "stream",
     "text": [
      "/tmp/ipykernel_82/2003209105.py:2: RuntimeWarning: invalid value encountered in sqrt\n",
      "  print(np.sqrt(a1))\n"
     ]
    }
   ],
   "source": [
    "print(a1)\n",
    "print(np.sqrt(a1))\n",
    "print(np.square(a1))"
   ]
  },
  {
   "cell_type": "code",
   "execution_count": null,
   "id": "6bb4f7df",
   "metadata": {},
   "outputs": [],
   "source": [
    "# [-1 -8  8  2 -4]\n",
    "# [       nan        nan 2.82842712 1.41421356        nan]\n",
    "# [ 1 64 64  4 16]\n",
    "# /tmp/ipykernel_82/2003209105.py:2: RuntimeWarning: invalid value encountered in sqrt\n",
    "#   print(np.sqrt(a1))"
   ]
  },
  {
   "cell_type": "code",
   "execution_count": 63,
   "id": "314be787",
   "metadata": {},
   "outputs": [
    {
     "name": "stdout",
     "output_type": "stream",
     "text": [
      "[ 7  2 10  9  4]\n",
      "[1.09663316e+03 7.38905610e+00 2.20264658e+04 8.10308393e+03\n",
      " 5.45981500e+01]\n",
      "[ 128.    4. 1024.  512.   16.]\n",
      "[ 49   4 100  81  16]\n"
     ]
    }
   ],
   "source": [
    "a1 = np.random.randint(1, 10 +1, size = 5)\n",
    "print(a1)\n",
    "print(np.exp(a1))\n",
    "print(np.exp2(a1))\n",
    "print(np.power(a1, 2))"
   ]
  },
  {
   "cell_type": "code",
   "execution_count": 64,
   "id": "2872e9ba",
   "metadata": {},
   "outputs": [
    {
     "name": "stdout",
     "output_type": "stream",
     "text": [
      "[ 7  2 10  9  4]\n",
      "[1.94591015 0.69314718 2.30258509 2.19722458 1.38629436]\n",
      "[2.80735492 1.         3.32192809 3.169925   2.        ]\n",
      "[0.84509804 0.30103    1.         0.95424251 0.60205999]\n"
     ]
    }
   ],
   "source": [
    "print(a1)\n",
    "print(np.log(a1))\n",
    "print(np.log2(a1))\n",
    "print(np.log10(a1))"
   ]
  },
  {
   "cell_type": "code",
   "execution_count": 66,
   "id": "a7c24cf3",
   "metadata": {},
   "outputs": [
    {
     "name": "stdout",
     "output_type": "stream",
     "text": [
      "[0.         1.57079633 3.14159265]\n",
      "[0.0000000e+00 1.0000000e+00 1.2246468e-16]\n",
      "[ 1.000000e+00  6.123234e-17 -1.000000e+00]\n",
      "[ 0.00000000e+00  1.63312394e+16 -1.22464680e-16]\n"
     ]
    }
   ],
   "source": [
    "t = np.linspace(0, np.pi, 3)\n",
    "print(t)\n",
    "print(np.sin(t))\n",
    "print(np.cos(t))\n",
    "print(np.tan(t))"
   ]
  },
  {
   "cell_type": "code",
   "execution_count": 67,
   "id": "a3d87cc9",
   "metadata": {},
   "outputs": [
    {
     "name": "stdout",
     "output_type": "stream",
     "text": [
      "[-1, 0, 1]\n",
      "[-1.57079633  0.          1.57079633]\n",
      "[3.14159265 1.57079633 0.        ]\n",
      "[-0.78539816  0.          0.78539816]\n"
     ]
    }
   ],
   "source": [
    "x = [-1, 0, 1]\n",
    "print(x)\n",
    "print(np.arcsin(x))\n",
    "print(np.arccos(x))\n",
    "print(np.arctan(x))"
   ]
  },
  {
   "cell_type": "code",
   "execution_count": 68,
   "id": "1cccfd05",
   "metadata": {},
   "outputs": [
    {
     "name": "stdout",
     "output_type": "stream",
     "text": [
      "[[7 8 4]\n",
      " [4 6 7]\n",
      " [2 7 1]]\n",
      "46 46\n",
      "[13 21 12] [13 21 12]\n",
      "[19 17 10] [19 17 10]\n"
     ]
    }
   ],
   "source": [
    "a2 = np.random.randint(1, 9 +1, size = (3, 3))\n",
    "print(a2)\n",
    "print(a2.sum(), np.sum(a2))\n",
    "print(a2.sum(axis = 0), np.sum(a2, axis = 0))\n",
    "print(a2.sum(axis = 1), np.sum(a2, axis = 1))\n"
   ]
  },
  {
   "cell_type": "code",
   "execution_count": 72,
   "id": "dfb0f8c5",
   "metadata": {},
   "outputs": [
    {
     "name": "stdout",
     "output_type": "stream",
     "text": [
      "[[1 2 5]\n",
      " [2 1 3]\n",
      " [4 6 4]]\n",
      "[ 1  3  8 10 11 14 18 24 28]\n",
      "[[ 1  2  5]\n",
      " [ 3  3  8]\n",
      " [ 7  9 12]]\n",
      "[[ 1  3  8]\n",
      " [ 2  3  6]\n",
      " [ 4 10 14]]\n"
     ]
    }
   ],
   "source": [
    "a2 = np.random.randint(1, 9 +1, size = (3, 3))\n",
    "print(a2)\n",
    "print(np.cumsum(a2))\n",
    "print(np.cumsum(a2, axis = 0))\n",
    "print(np.cumsum(a2, axis = 1))"
   ]
  },
  {
   "cell_type": "code",
   "execution_count": 73,
   "id": "e289e77c",
   "metadata": {},
   "outputs": [
    {
     "name": "stdout",
     "output_type": "stream",
     "text": [
      "[[5 9 2]\n",
      " [1 6 9]\n",
      " [9 8 1]]\n",
      "[[ 4 -7]\n",
      " [ 5  3]\n",
      " [-1 -7]]\n",
      "[[-4 -3  7]\n",
      " [ 8  2 -8]]\n",
      "[[ 4 -7]\n",
      " [ 5  3]\n",
      " [-1 -7]]\n"
     ]
    }
   ],
   "source": [
    "a2 = np.random.randint(1, 9 +1, size = (3, 3))\n",
    "print(a2)\n",
    "print(np.diff(a2))\n",
    "print(np.diff(a2, axis = 0))\n",
    "print(np.diff(a2, axis = 1))"
   ]
  },
  {
   "cell_type": "code",
   "execution_count": 76,
   "id": "63446fbd",
   "metadata": {},
   "outputs": [
    {
     "name": "stdout",
     "output_type": "stream",
     "text": [
      "[1 2 3 4 5 6 7 8 9]\n",
      "[False False False False  True False False False False]\n",
      "[ True  True  True  True False  True  True  True  True]\n",
      "[ True  True  True  True False False False False False]\n",
      "[False False False False False  True  True  True  True]\n",
      "[ True  True  True  True  True False False False False]\n",
      "[False False False False  True  True  True  True  True]\n"
     ]
    }
   ],
   "source": [
    "a1 = np.arange(1, 9 + 1)\n",
    "print(a1)\n",
    "print(a1 == 5)\n",
    "print(a1 != 5)\n",
    "print(a1 < 5)\n",
    "print(a1 > 5)\n",
    "print(a1 <= 5)\n",
    "print(a1 >= 5)"
   ]
  },
  {
   "cell_type": "code",
   "execution_count": 77,
   "id": "f5348dfa",
   "metadata": {},
   "outputs": [
    {
     "name": "stdout",
     "output_type": "stream",
     "text": [
      "[[1 2 3]\n",
      " [4 5 6]\n",
      " [7 8 9]]\n",
      "45\n",
      "4\n",
      "4\n",
      "[1 1 2]\n",
      "[0 1 3]\n"
     ]
    }
   ],
   "source": [
    "a2 = np.arange(1, 10).reshape(3, 3)\n",
    "print(a2)\n",
    "print(np.sum(a2))\n",
    "print(np.count_nonzero(a2 > 5)) #0이 아니면서 5를 초과한 것의 갯수\n",
    "print(np.sum(a2 > 5))\n",
    "print(np.sum(a2 > 5, axis = 0))\n",
    "print(np.sum(a2 > 5, axis = 1))"
   ]
  },
  {
   "cell_type": "code",
   "execution_count": 78,
   "id": "6e0a93e2",
   "metadata": {},
   "outputs": [
    {
     "name": "stdout",
     "output_type": "stream",
     "text": [
      "True\n",
      "[ True  True  True]\n",
      "[False  True  True]\n",
      "False\n",
      "[False False False]\n",
      "[False False  True]\n"
     ]
    }
   ],
   "source": [
    "print(np.any(a2 > 5))\n",
    "print(np.any(a2 > 5, axis = 0))\n",
    "print(np.any(a2 > 5, axis = 1))\n",
    "print(np.all(a2 > 5))\n",
    "print(np.all(a2 > 5, axis = 0))\n",
    "print(np.all(a2 > 5, axis = 1))\n"
   ]
  },
  {
   "cell_type": "code",
   "execution_count": null,
   "id": "18ad8b2d",
   "metadata": {},
   "outputs": [],
   "source": [
    "# True\n",
    "# [ True  True  True]\n",
    "# [False  True  True]\n",
    "# False\n",
    "# [False False False]\n",
    "# [False False  True]"
   ]
  }
 ],
 "metadata": {
  "kernelspec": {
   "display_name": "Python 3 (ipykernel)",
   "language": "python",
   "name": "python3"
  },
  "language_info": {
   "codemirror_mode": {
    "name": "ipython",
    "version": 3
   },
   "file_extension": ".py",
   "mimetype": "text/x-python",
   "name": "python",
   "nbconvert_exporter": "python",
   "pygments_lexer": "ipython3",
   "version": "3.9.7"
  }
 },
 "nbformat": 4,
 "nbformat_minor": 5
}
