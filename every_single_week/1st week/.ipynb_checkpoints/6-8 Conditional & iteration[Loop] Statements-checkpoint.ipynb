{
 "cells": [
  {
   "cell_type": "code",
   "execution_count": 12,
   "id": "861f9a5c",
   "metadata": {},
   "outputs": [
    {
     "name": "stdout",
     "output_type": "stream",
     "text": [
      "False\n",
      "True\n"
     ]
    }
   ],
   "source": [
    "a = \"10\"\n",
    "b = \"hungry\"\n",
    "\n",
    "print(str.isdigit(b))\n",
    "print(a.isdigit())"
   ]
  },
  {
   "cell_type": "code",
   "execution_count": 8,
   "id": "c5cd2542",
   "metadata": {},
   "outputs": [
    {
     "name": "stdout",
     "output_type": "stream",
     "text": [
      "토끼 인형 22 개 있습니다. 몇 개 드릴까요?\n",
      "주문 개수: 20\n",
      "\n",
      "20 개 드리겠습니다. 감사합니다.\n",
      "남은 토끼인형은 2 개 입니다.\n",
      "토끼 인형 2 개 있습니다. 몇 개 드릴까요?\n",
      "주문 개수: 2\n",
      "\n",
      "2 개 드리겠습니다. 감사합니다.\n",
      "남은 토끼인형은 0 개 입니다.\n",
      "이제 토끼 인형 품절입니다. 다팔았다, 예이~\n"
     ]
    }
   ],
   "source": [
    "stuffed_bunny = 22\n",
    "while stuffed_bunny :\n",
    "    print('토끼 인형',stuffed_bunny,'개 있습니다. 몇 개 드릴까요?')\n",
    "    order = int(input('주문 개수: '))\n",
    "    print()\n",
    "    if order > stuffed_bunny:\n",
    "        print('제가 가지고 있는 것 보다 많이 살 수는 없겠네요. 죄송합니다.')\n",
    "        re_try = input('다시 주문해 주세요.(enter)')\n",
    "        if re_try == 'y' or 'Y' or '네'or '네.':\n",
    "            continue\n",
    "\n",
    "        else:\n",
    "            print('제대로 입력하세요.')\n",
    "            continue\n",
    "    elif order ==22:\n",
    "        stuffed_bunny -= stuffed_bunny\n",
    "        print('싹 다 가져가시네요! 토끼 사랑해! 우주 최고다!')\n",
    "    else :\n",
    "        stuffed_bunny -= order\n",
    "        print(order,'개 드리겠습니다. 감사합니다.')\n",
    "        print('남은 토끼인형은',stuffed_bunny,'개 입니다.')\n",
    "        continue\n",
    "    \n",
    "    \n",
    "#if not stuffed_bunny:    \n",
    "if stuffed_bunny <= 0:\n",
    "    print('이제 토끼 인형 품절입니다. 다팔았다, 예이~')"
   ]
  },
  {
   "cell_type": "code",
   "execution_count": 7,
   "id": "7c94eb44",
   "metadata": {},
   "outputs": [
    {
     "name": "stdout",
     "output_type": "stream",
     "text": [
      "현재 돈이 얼마인지?1\n",
      "목이 마른건 참고 버스를 탄다.\n"
     ]
    }
   ],
   "source": [
    "temp = input('현재 돈이 얼마인지?')\n",
    "if temp.isdigit():\n",
    "    money = int(temp)\n",
    "    if money >= 16000:\n",
    "        print('택시도 타고, 커피도 사먹는다.')\n",
    "    elif money >= 12000:\n",
    "        print('커피는 포기하고 택시를 탄다.')\n",
    "    elif money >= 5300:\n",
    "        print('아메리카노 사고 버스에 탄다.')\n",
    "    else:\n",
    "        print('목이 마른건 참고 버스를 탄다.')\n",
    "else:\n",
    "    input('다시 실행')"
   ]
  },
  {
   "cell_type": "code",
   "execution_count": 5,
   "id": "ad5000a8",
   "metadata": {},
   "outputs": [
    {
     "data": {
      "text/plain": [
       "True"
      ]
     },
     "execution_count": 5,
     "metadata": {},
     "output_type": "execute_result"
    }
   ],
   "source": [
    "# not True -> False\n",
    "# not Flase -> True\n",
    "not not True\n",
    "# not 을 - 로 생각 해보았당"
   ]
  },
  {
   "cell_type": "code",
   "execution_count": 23,
   "id": "45556ca2",
   "metadata": {
    "scrolled": true
   },
   "outputs": [
    {
     "name": "stdout",
     "output_type": "stream",
     "text": [
      "False <class 'bool'>\n",
      "True\n",
      "False\n"
     ]
    },
    {
     "data": {
      "text/plain": [
       "False"
      ]
     },
     "execution_count": 23,
     "metadata": {},
     "output_type": "execute_result"
    }
   ],
   "source": [
    "a = not + True\n",
    "print(a, type(a))\n",
    "\n",
    "aiffel = 'a', 'i', 'f', 'f', 'e', 'l', 'ㅐ'\n",
    "flip = ['f', 'l', 'i', 'p']\n",
    "school = 's', 'c', 'h', 'o', 'o', 'l'\n",
    "print('ㅐ' in aiffel)\n",
    "print(school in aiffel)\n",
    "# 식별자로 확인 불가능..........하.......\n",
    "\n",
    "'y' not in 'flip school by aiffel'"
   ]
  },
  {
   "cell_type": "code",
   "execution_count": null,
   "id": "991773a1",
   "metadata": {},
   "outputs": [],
   "source": [
    "b = 's', 'c', 'h', 'o', 'o', 'l'\n",
    "a = 's', 'c', 'h', 'o', 'o', 'l'\n",
    "print(a in b)"
   ]
  },
  {
   "cell_type": "code",
   "execution_count": 15,
   "id": "b6971b3a",
   "metadata": {},
   "outputs": [
    {
     "name": "stdout",
     "output_type": "stream",
     "text": [
      "성적, 입력해줘용>>>90\n",
      "お疲れ様\n"
     ]
    }
   ],
   "source": [
    "# 정수 외의 다른 것을 작성 할 경우 어떻게 만들어하나...\n",
    "\n",
    "score = input(\"성적, 입력해줘용>>>\")\n",
    "score = int(score)\n",
    "# if score is str(score):\n",
    "#     print(input(\"숫자\"))\n",
    "if score >= 80:\n",
    "    print(\"お疲れ様\")\n",
    "else:\n",
    "    print(\"ご苦労様\")\n",
    "#가끔은 error도 삑사리가 뜰 때 있다. 재 시작..."
   ]
  },
  {
   "cell_type": "code",
   "execution_count": 21,
   "id": "1288642c",
   "metadata": {},
   "outputs": [
    {
     "name": "stdout",
     "output_type": "stream",
     "text": [
      "짝수입니다 <class 'int'>\n"
     ]
    }
   ],
   "source": [
    "x = 6  \n",
    "if x % 2 == 0:  # x가 짝수인지 확인하는 조건\n",
    "    print('짝수입니다')"
   ]
  },
  {
   "cell_type": "markdown",
   "id": "a5d1505c",
   "metadata": {},
   "source": [
    "### While"
   ]
  },
  {
   "cell_type": "code",
   "execution_count": 23,
   "id": "a4dc94a3",
   "metadata": {},
   "outputs": [
    {
     "name": "stdout",
     "output_type": "stream",
     "text": [
      "[1, 2, 3, 4, 5, 6, 7, 8, 9, 10, 11, 12, 13, 14, 15, 16, 17, 18, 19, 20, 21, 22, 23, 24, 25, 26, 27, 28, 29, 30, 31, 32, 33, 34, 35, 36, 37, 38, 39, 40, 41, 42, 43, 44, 45, 46, 47, 48, 49, 50, 51, 52, 53, 54, 55, 56, 57, 58, 59, 60, 61, 62, 63, 64, 65, 66, 67, 68, 69, 70, 71, 72, 73, 74, 75, 76, 77, 78, 79, 80, 81, 82, 83, 84, 85, 86, 87, 88, 89, 90, 91, 92, 93, 94, 95, 96, 97, 98, 99, 100]\n",
      "5050\n"
     ]
    }
   ],
   "source": [
    "num = 1\n",
    "a = []\n",
    "while num <= 100:\n",
    "#     print(num)\n",
    "    num += 1\n",
    "    a += [num - 1]\n",
    "print(a)\n",
    "    \n",
    "sum = 0\n",
    "for i in a:\n",
    "    sum += i\n",
    "print(sum)   "
   ]
  },
  {
   "cell_type": "code",
   "execution_count": 21,
   "id": "40d23ded",
   "metadata": {},
   "outputs": [
    {
     "name": "stdout",
     "output_type": "stream",
     "text": [
      "1\n",
      "3\n",
      "6\n",
      "10\n",
      "15\n",
      "21\n",
      "28\n",
      "36\n",
      "45\n",
      "55\n",
      "sum값은 : 55\n"
     ]
    }
   ],
   "source": [
    "num = 1\n",
    "sum = 0\n",
    "while num <= 10:\n",
    "    sum += num\n",
    "    print(sum)\n",
    "    num += 1\n",
    "print(\"sum값은 : {}\".format(sum))"
   ]
  },
  {
   "cell_type": "markdown",
   "id": "a4f41fb4",
   "metadata": {},
   "source": [
    "## 정수 외에 작성시 어떻게 풀어야 할까나?"
   ]
  },
  {
   "cell_type": "code",
   "execution_count": 28,
   "id": "ddf19fa7",
   "metadata": {},
   "outputs": [
    {
     "name": "stdout",
     "output_type": "stream",
     "text": [
      "프렛즐 10개 남았어요!\n",
      "주문 갯수는 :rk\n"
     ]
    },
    {
     "ename": "ValueError",
     "evalue": "invalid literal for int() with base 10: 'rk'",
     "output_type": "error",
     "traceback": [
      "\u001b[0;31m---------------------------------------------------------------------------\u001b[0m",
      "\u001b[0;31mValueError\u001b[0m                                Traceback (most recent call last)",
      "\u001b[0;32m/tmp/ipykernel_31/1877310872.py\u001b[0m in \u001b[0;36m<module>\u001b[0;34m\u001b[0m\n\u001b[1;32m      2\u001b[0m \u001b[0;32mwhile\u001b[0m \u001b[0mPretzel\u001b[0m\u001b[0;34m:\u001b[0m\u001b[0;34m\u001b[0m\u001b[0;34m\u001b[0m\u001b[0m\n\u001b[1;32m      3\u001b[0m     \u001b[0mprint\u001b[0m\u001b[0;34m(\u001b[0m\u001b[0;34m\"프렛즐 {}개 남았어요!\"\u001b[0m\u001b[0;34m.\u001b[0m\u001b[0mformat\u001b[0m\u001b[0;34m(\u001b[0m\u001b[0mPretzel\u001b[0m\u001b[0;34m)\u001b[0m\u001b[0;34m)\u001b[0m\u001b[0;34m\u001b[0m\u001b[0;34m\u001b[0m\u001b[0m\n\u001b[0;32m----> 4\u001b[0;31m     \u001b[0morder\u001b[0m \u001b[0;34m=\u001b[0m \u001b[0mint\u001b[0m\u001b[0;34m(\u001b[0m\u001b[0minput\u001b[0m\u001b[0;34m(\u001b[0m\u001b[0;34m'주문 갯수는 :'\u001b[0m\u001b[0;34m)\u001b[0m\u001b[0;34m)\u001b[0m\u001b[0;34m\u001b[0m\u001b[0;34m\u001b[0m\u001b[0m\n\u001b[0m\u001b[1;32m      5\u001b[0m     \u001b[0mPretzel\u001b[0m \u001b[0;34m-=\u001b[0m \u001b[0morder\u001b[0m\u001b[0;34m\u001b[0m\u001b[0;34m\u001b[0m\u001b[0m\n\u001b[1;32m      6\u001b[0m     \u001b[0mprint\u001b[0m\u001b[0;34m(\u001b[0m\u001b[0;34m\"프렛즐 {}개 남았어요!\"\u001b[0m\u001b[0;34m.\u001b[0m\u001b[0mformat\u001b[0m\u001b[0;34m(\u001b[0m\u001b[0mPretzel\u001b[0m\u001b[0;34m)\u001b[0m\u001b[0;34m)\u001b[0m\u001b[0;34m\u001b[0m\u001b[0;34m\u001b[0m\u001b[0m\n",
      "\u001b[0;31mValueError\u001b[0m: invalid literal for int() with base 10: 'rk'"
     ]
    }
   ],
   "source": [
    "Pretzel = 10\n",
    "while Pretzel:\n",
    "    print(\"프렛즐 {}개 남았어요!\".format(Pretzel))\n",
    "    order = int(input('주문 갯수는 :'))\n",
    "    Pretzel -= order\n",
    "    print(\"프렛즐 {}개 남았어요!\".format(Pretzel))\n",
    "    print(\"*\" * 27)\n",
    "    if Pretzel <= 0:\n",
    "        print(\"Pretzel 빠이~\")\n",
    "        break"
   ]
  },
  {
   "cell_type": "markdown",
   "id": "0ceadf4c",
   "metadata": {},
   "source": [
    "### 어떻게 해야...  11 이상 안나오게 하나........  a<= 10 기준으로.....\n",
    "if 문 안에 if 문으 안되나봐유\n",
    "else는 이유를 쓰면 안되나봐유...\n",
    "\n",
    "어떻게든 되었다유"
   ]
  },
  {
   "cell_type": "code",
   "execution_count": 9,
   "id": "7f2c7f7b",
   "metadata": {},
   "outputs": [
    {
     "name": "stdout",
     "output_type": "stream",
     "text": [
      "1는 odd number!\n",
      "2는 even number!\n",
      "3는 odd number!\n",
      "4는 even number!\n",
      "5는 odd number!\n",
      "6는 even number!\n",
      "7는 odd number!\n",
      "8는 even number!\n",
      "9는 odd number!\n",
      "10는 even number!\n",
      "the End\n"
     ]
    }
   ],
   "source": [
    "a = 0\n",
    "while a <= 10 :\n",
    "    a += 1\n",
    "    if a % 2 == 0:\n",
    "        print(\"{}는 even number!\".format(a))\n",
    "    elif a > 10:\n",
    "        print(\"the End\")\n",
    "    else:\n",
    "        print(\"{}는 odd number!\".format(a))\n",
    "#         continue\n",
    "#         if a > 11:\n",
    "#             print(\"10을 초과 했다유!\")\n",
    "#     elif a > 11:\n",
    "#         print(\"10을 초과 했다유!\")\n",
    "#     else:\n",
    "#         break"
   ]
  },
  {
   "cell_type": "markdown",
   "id": "47f91410",
   "metadata": {},
   "source": [
    "## for 문 활용 이다유\n",
    "\n",
    "튜플은 변경 못하니까. 리스트 사용하나?!"
   ]
  },
  {
   "cell_type": "code",
   "execution_count": 11,
   "id": "5fad0c6b",
   "metadata": {},
   "outputs": [
    {
     "name": "stdout",
     "output_type": "stream",
     "text": [
      "Apple는 앗뽀루\n",
      "Banana는 바나나\n",
      "Melon는 메로온\n",
      "[('Apple', '앗뽀루'), ('Banana', '바나나'), ('Melon', '메로온')] <class 'list'>\n"
     ]
    },
    {
     "data": {
      "text/plain": [
       "('Apple', '앗뽀루')"
      ]
     },
     "execution_count": 11,
     "metadata": {},
     "output_type": "execute_result"
    }
   ],
   "source": [
    "Friuts = [('Apple', '앗뽀루'), ('Banana', '바나나'), ('Melon', '메로온')]\n",
    "for en, ja_ko in Friuts:\n",
    "    print(\"{}는 {}\".format(en, ja_ko))\n",
    "print(Friuts, type(Friuts))\n",
    "Friuts[0]"
   ]
  },
  {
   "cell_type": "code",
   "execution_count": 8,
   "id": "f2021b0e",
   "metadata": {},
   "outputs": [
    {
     "name": "stdout",
     "output_type": "stream",
     "text": [
      "은정 님 합격을 축하합니다.\n",
      "초희 님 합격을 축하합니다.\n",
      "선영 님 합격을 축하합니다.\n"
     ]
    }
   ],
   "source": [
    "# for문과 continue 예시\n",
    "a = [('은정', 98), ('경애', 59), ('초희',  72), ('선영', 80), ('영미', 50)]\n",
    "for (name, score) in a:\n",
    "    if score < 60:\n",
    "        continue\n",
    "    print(name,'님 합격을 축하합니다.')"
   ]
  },
  {
   "cell_type": "code",
   "execution_count": 17,
   "id": "5a8a025f",
   "metadata": {},
   "outputs": [
    {
     "name": "stdout",
     "output_type": "stream",
     "text": [
      "0\n",
      "1\n",
      "2\n",
      "3\n",
      "4\n",
      "5\n",
      "6\n",
      "7\n",
      "8\n",
      "9\n"
     ]
    }
   ],
   "source": [
    "for i in range(10,):\n",
    "    print(i)"
   ]
  },
  {
   "cell_type": "code",
   "execution_count": 23,
   "id": "056ee5d0",
   "metadata": {},
   "outputs": [
    {
     "name": "stdout",
     "output_type": "stream",
     "text": [
      "10\n",
      "9\n",
      "8\n",
      "7\n",
      "6\n",
      "5\n",
      "4\n",
      "3\n",
      "2\n",
      "1\n",
      "0\n"
     ]
    }
   ],
   "source": [
    "for i in reversed(range(10 + 1)):\n",
    "    print(i)"
   ]
  },
  {
   "cell_type": "code",
   "execution_count": 5,
   "id": "9e1c8bf8",
   "metadata": {},
   "outputs": [],
   "source": [
    "def add(a, b):\n",
    "    return a + b\n",
    "def sub(a, b):\n",
    "    return a - b\n",
    "def mul(a, b):\n",
    "    return a * b\n",
    "def div(a, b):\n",
    "    return a / b\n",
    "def 제곱(a, b):\n",
    "    return a ** b\n",
    "def 몫(a, b):\n",
    "    return a // b\n",
    "def 나머지(a, b):\n",
    "    return a % b"
   ]
  },
  {
   "cell_type": "code",
   "execution_count": 8,
   "id": "2458efd9",
   "metadata": {
    "scrolled": true
   },
   "outputs": [
    {
     "name": "stdout",
     "output_type": "stream",
     "text": [
      "3.3333333333333335\n",
      "3\n"
     ]
    }
   ],
   "source": [
    "print(div(10, 3))\n",
    "print(몫(10, 3))"
   ]
  },
  {
   "cell_type": "code",
   "execution_count": 14,
   "id": "a66b42b7",
   "metadata": {},
   "outputs": [
    {
     "name": "stdout",
     "output_type": "stream",
     "text": [
      "<function hi at 0x7f7be00df1f0>\n",
      "Hello, my Dear!\n"
     ]
    },
    {
     "data": {
      "text/plain": [
       "'Hello, my Dear!'"
      ]
     },
     "execution_count": 14,
     "metadata": {},
     "output_type": "execute_result"
    }
   ],
   "source": [
    "def hi():\n",
    "    return \"Hello, my Dear!\"\n",
    "print(hi)\n",
    "print(hi())\n",
    "hi()"
   ]
  },
  {
   "cell_type": "code",
   "execution_count": 20,
   "id": "3288e9d3",
   "metadata": {},
   "outputs": [
    {
     "name": "stdout",
     "output_type": "stream",
     "text": [
      "hihihihihi!"
     ]
    }
   ],
   "source": [
    "print(mul('hi', 5), end = \"!\")"
   ]
  },
  {
   "cell_type": "code",
   "execution_count": null,
   "id": "84d61622",
   "metadata": {},
   "outputs": [],
   "source": []
  }
 ],
 "metadata": {
  "kernelspec": {
   "display_name": "Python 3 (ipykernel)",
   "language": "python",
   "name": "python3"
  },
  "language_info": {
   "codemirror_mode": {
    "name": "ipython",
    "version": 3
   },
   "file_extension": ".py",
   "mimetype": "text/x-python",
   "name": "python",
   "nbconvert_exporter": "python",
   "pygments_lexer": "ipython3",
   "version": "3.9.7"
  }
 },
 "nbformat": 4,
 "nbformat_minor": 5
}
