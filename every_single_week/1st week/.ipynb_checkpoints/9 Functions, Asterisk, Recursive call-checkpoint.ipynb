{
 "cells": [
  {
   "cell_type": "code",
   "execution_count": 7,
   "id": "06e7f1cb",
   "metadata": {},
   "outputs": [
    {
     "name": "stdout",
     "output_type": "stream",
     "text": [
      "20 30 10\n",
      "25 39 50\n"
     ]
    }
   ],
   "source": [
    "def print_nums(a, b, c):\n",
    "    print(b, c, a)\n",
    "print_nums(10, 20, 30)\n",
    "\n",
    "a = [50, 25, 39]\n",
    "print_nums(*a)\n",
    "#Asterisk *"
   ]
  },
  {
   "cell_type": "code",
   "execution_count": 15,
   "id": "86f4806f",
   "metadata": {},
   "outputs": [],
   "source": [
    "# sum_ = 0\n",
    "# mul_ = 1\n",
    "\n",
    "def sum(*args):\n",
    "    \n",
    "    sum_ = 0\n",
    "    \n",
    "    for arg in args:\n",
    "        sum_ += arg\n",
    "    return sum_\n",
    "\n",
    "def mul(*args):\n",
    "    \n",
    "    mul_ = 1\n",
    "    \n",
    "    for arg in args:\n",
    "        mul_ *=  arg\n",
    "    return mul_"
   ]
  },
  {
   "cell_type": "code",
   "execution_count": 28,
   "id": "d1610887",
   "metadata": {},
   "outputs": [
    {
     "name": "stdout",
     "output_type": "stream",
     "text": [
      "55\n",
      "120\n",
      "30 3840\n",
      "<class 'tuple'> 25 945\n",
      "<class 'list'> 40 30240\n"
     ]
    }
   ],
   "source": [
    "print(sum(1, 2, 3, 4, 5, 6, 7, 8, 9, 10))\n",
    "print(mul(1, 2, 3, 4, 5))\n",
    "\n",
    "b = (2, 4, 6, 8, 10)\n",
    "c = 1, 3, 5, 7, 9\n",
    "d = [6, 7, 8, 9, 10]\n",
    "print(sum(*b), mul(*b), sep = \" \")\n",
    "print(type(c), sum(*c), mul(*c), sep = \" \")\n",
    "print(type(d), sum(*d), mul(*d), sep = \" \")"
   ]
  },
  {
   "cell_type": "code",
   "execution_count": 23,
   "id": "c2b53594",
   "metadata": {},
   "outputs": [
    {
     "name": "stdout",
     "output_type": "stream",
     "text": [
      "0\n"
     ]
    }
   ],
   "source": [
    "#임의 개수의 인수를 받기 때문에 3개 뿐만 아니라 아무런 인수가 없어도 에러 없이 리턴값을 출력\n",
    "print(sum())"
   ]
  },
  {
   "cell_type": "code",
   "execution_count": 36,
   "id": "78e4fd29",
   "metadata": {},
   "outputs": [
    {
     "name": "stdout",
     "output_type": "stream",
     "text": [
      "이름 : 규봉\n",
      "나이 : 130\t품종 : 진돗개\n",
      "\n",
      "이름 : 봉이\n",
      "나이 : 33\t품종 : 진짜 개\n",
      "이름 : name\n",
      "나이 : age\t품종 : breed\n"
     ]
    }
   ],
   "source": [
    "def dog_info(name, age, breed):\n",
    "    print(f\"이름 : {name}\\n나이 : {age}\\t품종 : {breed}\")\n",
    "    \n",
    "dog_info(age = 130, breed = '진돗개', name = '규봉')\n",
    "\n",
    "print()\n",
    "\n",
    "a = {'name':'봉이', 'age':33, 'breed':'진짜 개'}\n",
    "\n",
    "dog_info(**a)\n",
    "#어스퍼 한번 쓰면 key, value 값만 출력. 딕셔너리\n",
    "dog_info(*a)"
   ]
  },
  {
   "cell_type": "code",
   "execution_count": 40,
   "id": "196c2274",
   "metadata": {},
   "outputs": [
    {
     "name": "stdout",
     "output_type": "stream",
     "text": [
      "name : 미루낙\n",
      "age : 8\n",
      "breed : 대전구\n",
      "gender : female\n"
     ]
    }
   ],
   "source": [
    "def cat_info(**keywords):\n",
    "    for key, value in keywords.items():\n",
    "        print(f\"{key} : {value}\")\n",
    "        \n",
    "a = {'name':'미루낙', 'age':8, 'breed':'대전구', 'gender':'female'}\n",
    "\n",
    "dog_info(**a)"
   ]
  },
  {
   "cell_type": "code",
   "execution_count": 51,
   "id": "e55f10bc",
   "metadata": {},
   "outputs": [
    {
     "name": "stdout",
     "output_type": "stream",
     "text": [
      "오늘 할인율은 15.0 % 입니다.\n",
      "할인된 가격은 8500.0 원 입니다.\n",
      "오늘 할인율은 30.0 % 입니다.\n",
      "할인된 가격은 7000.0 원 입니다.\n"
     ]
    }
   ],
   "source": [
    "sale_rate = 0.15 #전역 변수\n",
    "\n",
    "def notice():\n",
    "    print('오늘 할인율은', sale_rate * 100, '% 입니다.')\n",
    "def cal_price(price):\n",
    "    print('할인된 가격은', price * (1 - sale_rate), '원 입니다.')\n",
    "\n",
    "notice()\n",
    "cal_price(10000)\n",
    "\n",
    "sale_rate = 0.3 #전역 변수\n",
    "\n",
    "notice()\n",
    "cal_price(10000)"
   ]
  },
  {
   "cell_type": "code",
   "execution_count": 58,
   "id": "5b88d1d3",
   "metadata": {},
   "outputs": [
    {
     "name": "stdout",
     "output_type": "stream",
     "text": [
      "Hello, my Dear 169\n",
      "Hello, my Dear 168\n",
      "Hello, my Dear 167\n",
      "Hello, my Dear 166\n",
      "Hello, my Dear 165\n",
      "Hello, my Dear 164\n",
      "Hello, my Dear 163\n",
      "Hello, my Dear 162\n",
      "Hello, my Dear 161\n",
      "Hello, my Dear 160\n",
      "Hello, my Dear 159\n",
      "Hello, my Dear 158\n",
      "Hello, my Dear 157\n",
      "Hello, my Dear 156\n",
      "Hello, my Dear 155\n",
      "Hello, my Dear 154\n",
      "Hello, my Dear 153\n",
      "Hello, my Dear 152\n",
      "Hello, my Dear 151\n",
      "Hello, my Dear 150\n",
      "Hello, my Dear 149\n",
      "Hello, my Dear 148\n",
      "Hello, my Dear 147\n",
      "Hello, my Dear 146\n",
      "Hello, my Dear 145\n",
      "Hello, my Dear 144\n",
      "Hello, my Dear 143\n",
      "Hello, my Dear 142\n",
      "Hello, my Dear 141\n",
      "Hello, my Dear 140\n",
      "Hello, my Dear 139\n",
      "Hello, my Dear 138\n",
      "Hello, my Dear 137\n",
      "Hello, my Dear 136\n",
      "Hello, my Dear 135\n",
      "Hello, my Dear 134\n",
      "Hello, my Dear 133\n",
      "Hello, my Dear 132\n",
      "Hello, my Dear 131\n",
      "Hello, my Dear 130\n",
      "Hello, my Dear 129\n",
      "Hello, my Dear 128\n",
      "Hello, my Dear 127\n",
      "Hello, my Dear 126\n",
      "Hello, my Dear 125\n",
      "Hello, my Dear 124\n",
      "Hello, my Dear 123\n",
      "Hello, my Dear 122\n",
      "Hello, my Dear 121\n",
      "Hello, my Dear 120\n",
      "Hello, my Dear 119\n",
      "Hello, my Dear 118\n",
      "Hello, my Dear 117\n",
      "Hello, my Dear 116\n",
      "Hello, my Dear 115\n",
      "Hello, my Dear 114\n",
      "Hello, my Dear 113\n",
      "Hello, my Dear 112\n",
      "Hello, my Dear 111\n",
      "Hello, my Dear 110\n",
      "Hello, my Dear 109\n",
      "Hello, my Dear 108\n",
      "Hello, my Dear 107\n",
      "Hello, my Dear 106\n",
      "Hello, my Dear 105\n",
      "Hello, my Dear 104\n",
      "Hello, my Dear 103\n",
      "Hello, my Dear 102\n",
      "Hello, my Dear 101\n",
      "Hello, my Dear 100\n",
      "Hello, my Dear 99\n",
      "Hello, my Dear 98\n",
      "Hello, my Dear 97\n",
      "Hello, my Dear 96\n",
      "Hello, my Dear 95\n",
      "Hello, my Dear 94\n",
      "Hello, my Dear 93\n",
      "Hello, my Dear 92\n",
      "Hello, my Dear 91\n",
      "Hello, my Dear 90\n",
      "Hello, my Dear 89\n",
      "Hello, my Dear 88\n",
      "Hello, my Dear 87\n",
      "Hello, my Dear 86\n",
      "Hello, my Dear 85\n",
      "Hello, my Dear 84\n",
      "Hello, my Dear 83\n",
      "Hello, my Dear 82\n",
      "Hello, my Dear 81\n",
      "Hello, my Dear 80\n",
      "Hello, my Dear 79\n",
      "Hello, my Dear 78\n",
      "Hello, my Dear 77\n",
      "Hello, my Dear 76\n",
      "Hello, my Dear 75\n",
      "Hello, my Dear 74\n",
      "Hello, my Dear 73\n",
      "Hello, my Dear 72\n",
      "Hello, my Dear 71\n",
      "Hello, my Dear 70\n",
      "Hello, my Dear 69\n",
      "Hello, my Dear 68\n",
      "Hello, my Dear 67\n",
      "Hello, my Dear 66\n",
      "Hello, my Dear 65\n",
      "Hello, my Dear 64\n",
      "Hello, my Dear 63\n",
      "Hello, my Dear 62\n",
      "Hello, my Dear 61\n",
      "Hello, my Dear 60\n",
      "Hello, my Dear 59\n",
      "Hello, my Dear 58\n",
      "Hello, my Dear 57\n",
      "Hello, my Dear 56\n",
      "Hello, my Dear 55\n",
      "Hello, my Dear 54\n",
      "Hello, my Dear 53\n",
      "Hello, my Dear 52\n",
      "Hello, my Dear 51\n",
      "Hello, my Dear 50\n",
      "Hello, my Dear 49\n",
      "Hello, my Dear 48\n",
      "Hello, my Dear 47\n",
      "Hello, my Dear 46\n",
      "Hello, my Dear 45\n",
      "Hello, my Dear 44\n",
      "Hello, my Dear 43\n",
      "Hello, my Dear 42\n",
      "Hello, my Dear 41\n",
      "Hello, my Dear 40\n",
      "Hello, my Dear 39\n",
      "Hello, my Dear 38\n",
      "Hello, my Dear 37\n",
      "Hello, my Dear 36\n",
      "Hello, my Dear 35\n",
      "Hello, my Dear 34\n",
      "Hello, my Dear 33\n",
      "Hello, my Dear 32\n",
      "Hello, my Dear 31\n",
      "Hello, my Dear 30\n",
      "Hello, my Dear 29\n",
      "Hello, my Dear 28\n",
      "Hello, my Dear 27\n",
      "Hello, my Dear 26\n",
      "Hello, my Dear 25\n",
      "Hello, my Dear 24\n",
      "Hello, my Dear 23\n",
      "Hello, my Dear 22\n",
      "Hello, my Dear 21\n",
      "Hello, my Dear 20\n",
      "Hello, my Dear 19\n",
      "Hello, my Dear 18\n",
      "Hello, my Dear 17\n",
      "Hello, my Dear 16\n",
      "Hello, my Dear 15\n",
      "Hello, my Dear 14\n",
      "Hello, my Dear 13\n",
      "Hello, my Dear 12\n",
      "Hello, my Dear 11\n",
      "Hello, my Dear 10\n",
      "Hello, my Dear 9\n",
      "Hello, my Dear 8\n",
      "Hello, my Dear 7\n",
      "Hello, my Dear 6\n",
      "Hello, my Dear 5\n",
      "Hello, my Dear 4\n",
      "Hello, my Dear 3\n",
      "Hello, my Dear 2\n",
      "Hello, my Dear 1\n"
     ]
    }
   ],
   "source": [
    "def hello(count):\n",
    "    if count == 0:  # 종료 조건\n",
    "        return      # if문이 참이면 그대로 끝\n",
    "    print('Hello, my Dear',  count)\n",
    "    \n",
    "    count -= 1\n",
    "    hello(count) #함수 안에서 함수 자기자신을 호출하는 방식을 재귀호출(recursive call)\n",
    "\n",
    "hello(13 ** 2)"
   ]
  },
  {
   "cell_type": "code",
   "execution_count": null,
   "id": "c753cac7",
   "metadata": {},
   "outputs": [],
   "source": []
  }
 ],
 "metadata": {
  "kernelspec": {
   "display_name": "Python 3 (ipykernel)",
   "language": "python",
   "name": "python3"
  },
  "language_info": {
   "codemirror_mode": {
    "name": "ipython",
    "version": 3
   },
   "file_extension": ".py",
   "mimetype": "text/x-python",
   "name": "python",
   "nbconvert_exporter": "python",
   "pygments_lexer": "ipython3",
   "version": "3.9.7"
  }
 },
 "nbformat": 4,
 "nbformat_minor": 5
}
