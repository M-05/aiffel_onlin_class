{
 "cells": [
  {
   "cell_type": "code",
   "execution_count": 1,
   "id": "6f1d50f1",
   "metadata": {},
   "outputs": [
    {
     "name": "stdout",
     "output_type": "stream",
     "text": [
      "하루\n",
      "나츠\n"
     ]
    }
   ],
   "source": [
    "name = '하루'\n",
    "\n",
    "def say_name():\n",
    "    print(name)\n",
    "    \n",
    "say_name()\n",
    "\n",
    "\n",
    "name = '나츠'\n",
    "\n",
    "say_name()"
   ]
  },
  {
   "cell_type": "code",
   "execution_count": 9,
   "id": "be4c17c3",
   "metadata": {
    "scrolled": true
   },
   "outputs": [
    {
     "name": "stdout",
     "output_type": "stream",
     "text": [
      "함수 내의 print 값은 : 후유\n",
      "함수 내의 print 값은 : 후유\n",
      "변경된 이름은 : None\n",
      "아키\n"
     ]
    }
   ],
   "source": [
    "name = '아키' #global scope\n",
    "\n",
    "def change_name():\n",
    "    name = '후유' #local scope\n",
    "    print(\"함수 내의 print 값은 : {}\".format(name))\n",
    "    \n",
    "change_name()\n",
    "print(\"변경된 이름은 : {}\".format(change_name()))\n",
    "\n",
    "print(name)"
   ]
  },
  {
   "cell_type": "code",
   "execution_count": 13,
   "id": "493b3f78",
   "metadata": {},
   "outputs": [
    {
     "name": "stdout",
     "output_type": "stream",
     "text": [
      "아키\n"
     ]
    }
   ],
   "source": [
    "name = '아키' #global scope\n",
    "\n",
    "def change_name(name):\n",
    "    name = '후유' #local scope\n",
    "#     print(\"함수 내의 print 값은 : {}\".format(name))\n",
    "    \n",
    "change_name(\"나츠키\")\n",
    "# print(\"변경된 이름은 : {}\".format(change_name()))\n",
    "\n",
    "print(name)"
   ]
  },
  {
   "cell_type": "code",
   "execution_count": 14,
   "id": "efd39c95",
   "metadata": {},
   "outputs": [
    {
     "name": "stdout",
     "output_type": "stream",
     "text": [
      "나츠키\n",
      "아키\n"
     ]
    }
   ],
   "source": [
    "name = '아키' #global scope\n",
    "\n",
    "def change_name(name):\n",
    "    print(name)\n",
    "    \n",
    "change_name(\"나츠키\")\n",
    "\n",
    "print(name)"
   ]
  },
  {
   "cell_type": "code",
   "execution_count": null,
   "id": "36a8b9b3",
   "metadata": {},
   "outputs": [],
   "source": []
  },
  {
   "cell_type": "code",
   "execution_count": 17,
   "id": "778b7125",
   "metadata": {},
   "outputs": [
    {
     "name": "stdout",
     "output_type": "stream",
     "text": [
      "안녕, somebody ?!\n",
      "안녕, 아키라 ?!\n",
      "안녕, 하루카 ?!\n"
     ]
    }
   ],
   "source": [
    "def say_hi_default(name = 'somebody'):\n",
    "    print(\"안녕, {} ?!\".format(name))\n",
    "    \n",
    "say_hi_default()\n",
    "say_hi_default('아키라')\n",
    "say_hi_default(name = \"하루카\")"
   ]
  },
  {
   "cell_type": "code",
   "execution_count": 18,
   "id": "2806eabb",
   "metadata": {},
   "outputs": [
    {
     "ename": "SyntaxError",
     "evalue": "non-default argument follows default argument (2111757738.py, line 1)",
     "output_type": "error",
     "traceback": [
      "\u001b[0;36m  File \u001b[0;32m\"/tmp/ipykernel_32/2111757738.py\"\u001b[0;36m, line \u001b[0;32m1\u001b[0m\n\u001b[0;31m    def say_hi_couple_default(name1 = 'nobody', name2):\u001b[0m\n\u001b[0m                                                     ^\u001b[0m\n\u001b[0;31mSyntaxError\u001b[0m\u001b[0;31m:\u001b[0m non-default argument follows default argument\n"
     ]
    }
   ],
   "source": [
    "def say_hi_couple_default(name1 = 'nobody', name2):\n",
    "    print(\"미즈\",\"히\")"
   ]
  },
  {
   "cell_type": "code",
   "execution_count": 22,
   "id": "cfb960ed",
   "metadata": {},
   "outputs": [
    {
     "name": "stdout",
     "output_type": "stream",
     "text": [
      "미즈 히\n"
     ]
    }
   ],
   "source": [
    "def say_hi_couple_default(name1, name2):\n",
    "    print(name1, name2)\n",
    "    \n",
    "say_hi_couple_default(\"미즈\", \"히\")"
   ]
  },
  {
   "cell_type": "code",
   "execution_count": 26,
   "id": "529165c7",
   "metadata": {},
   "outputs": [
    {
     "name": "stdout",
     "output_type": "stream",
     "text": [
      "미즈 sombody\n"
     ]
    }
   ],
   "source": [
    "def say_hi_couple_default(name1 = 'nobody', name2 = 'sombody'):\n",
    "    print(name1, name2)\n",
    "    \n",
    "say_hi_couple_default(\"미즈\")"
   ]
  },
  {
   "cell_type": "code",
   "execution_count": 27,
   "id": "03d389f9",
   "metadata": {},
   "outputs": [
    {
     "name": "stdout",
     "output_type": "stream",
     "text": [
      "사이 하잇\n"
     ]
    }
   ],
   "source": [
    "def say_hi_couple_default(name1 = 'nobody', name2 = 'sombody'):\n",
    "    print(name1, name2)\n",
    "    \n",
    "say_hi_couple_default(name2 = \"하잇\", name1 = \"사이\")"
   ]
  },
  {
   "cell_type": "markdown",
   "id": "6bae2c8b",
   "metadata": {},
   "source": [
    "def print_two , def print_return 정의 시작.\n",
    "\n",
    "print_two() 호출\n",
    "\n",
    "그 내부에서\n",
    "def print_return의 CC, DD 호출\n",
    "\n",
    "def print_return안에서 \n",
    "print_two(DD, CC)가\n",
    "\n",
    "def print_two로 가서\n",
    "차례대로\n",
    "DD\n",
    "CC\n",
    "출력\n",
    "\n",
    "남은 AA, pirnt_return(BB)\n",
    "word 1 = AA\n",
    "word 3 = BB\n",
    "\n",
    "그래서\n",
    "\n",
    "DD\n",
    "CC\n",
    "AA\n",
    "BB\n",
    "\n",
    "?!"
   ]
  },
  {
   "cell_type": "code",
   "execution_count": 33,
   "id": "ed03f61c",
   "metadata": {},
   "outputs": [
    {
     "name": "stdout",
     "output_type": "stream",
     "text": [
      "DD\n",
      "CC\n",
      "AA\n",
      "BB\n"
     ]
    }
   ],
   "source": [
    "def print_two(word1, word2): #3\n",
    "    print(word1)\n",
    "    print(word2)\n",
    "    \n",
    "def print_return(word3, word4, word5):\n",
    "    print_two(word5, word4) #1\n",
    "    return word3 #4\n",
    "\n",
    "print_two('AA', print_return(\"BB\", \"CC\", \"DD\")) #2"
   ]
  },
  {
   "cell_type": "markdown",
   "id": "3c5f47b9",
   "metadata": {},
   "source": [
    " print_and_return('B', 'C', 'D')이 호출\n",
    " \n",
    " print_and_return('B', 'C', 'D')이 호출되면서\n",
    " \n",
    " 이 함수 안에 있는 함수 print_two(word3, word2)이 호출\n",
    " \n",
    " D와 C가 출력\n",
    " \n",
    " 그 후 print_two('A', print_and_return('B', 'C', 'D'))이 호출\n",
    " \n",
    " print('A')과 print(print_and_return('B', 'C', 'D'))이 실행\n",
    " \n",
    " print('A')에서는 A\n",
    " \n",
    " print(print_and_return('B', 'C', 'D'))에서는 return 값인 B가 출력\n",
    " \n",
    " D C A B"
   ]
  },
  {
   "cell_type": "markdown",
   "id": "423a3b63",
   "metadata": {},
   "source": [
    "# 흐름을 제어하는 제어문 control"
   ]
  },
  {
   "cell_type": "code",
   "execution_count": 36,
   "id": "c66edd78",
   "metadata": {},
   "outputs": [
    {
     "name": "stdout",
     "output_type": "stream",
     "text": [
      "+\n",
      "0\n",
      "-\n"
     ]
    }
   ],
   "source": [
    "def print_whether_positive_or_negative_or_zero(number):\n",
    "    if number > 0:\n",
    "        print('+')\n",
    "    elif number == 0: # is !=  ==\n",
    "        print('0')\n",
    "    else:\n",
    "        print('-')\n",
    "#- 숫자가 양수이면 +를, 음수이면 -를, 양수도 음수도 아닌 0일 경우 그대로 0을 출력합니다.\n",
    "\n",
    "print_whether_positive_or_negative_or_zero(1)\n",
    "print_whether_positive_or_negative_or_zero(0)\n",
    "print_whether_positive_or_negative_or_zero(-1)"
   ]
  },
  {
   "cell_type": "code",
   "execution_count": 38,
   "id": "989ab53d",
   "metadata": {},
   "outputs": [
    {
     "name": "stdout",
     "output_type": "stream",
     "text": [
      "negative or odd : 1\n",
      "0 입니다.\n",
      "negative or odd : -1\n",
      "negative or odd : 123\n",
      "positive and even : 246\n",
      "negative or odd : -987\n",
      "negative or odd : -543\n"
     ]
    }
   ],
   "source": [
    "def p_if(num):\n",
    "    if num > 0 and num % 2 == 0:\n",
    "        print(\"positive and even : {}\".format(num))\n",
    "        \n",
    "    elif num < 0  or num % 2 == 1:\n",
    "        print(\"negative or odd : {}\".format(num))\n",
    "    else:\n",
    "        print(\"0 입니다.\")\n",
    "        \n",
    "p_if(1)\n",
    "p_if(0)\n",
    "p_if(-1)\n",
    "p_if(123)\n",
    "p_if(246)\n",
    "p_if(-987)\n",
    "p_if(-543)"
   ]
  },
  {
   "cell_type": "markdown",
   "id": "b0b92be6",
   "metadata": {},
   "source": [
    "fibonacci"
   ]
  },
  {
   "cell_type": "code",
   "execution_count": 40,
   "id": "d34c8eea",
   "metadata": {},
   "outputs": [
    {
     "name": "stdout",
     "output_type": "stream",
     "text": [
      "1\n",
      "1\n",
      "2\n",
      "3\n",
      "5\n",
      "8\n",
      "13\n",
      "21\n",
      "34\n",
      "55\n",
      "--end--\n"
     ]
    }
   ],
   "source": [
    "def fibonacci(n):\n",
    "    if n <= 2:\n",
    "        return 1\n",
    "    else:\n",
    "        return fibonacci(n - 2) + fibonacci(n - 1)\n",
    "    \n",
    "n = 1\n",
    "while n <= 10:\n",
    "    print(fibonacci(n))\n",
    "    n = n + 1 \n",
    "print('--end--')"
   ]
  },
  {
   "cell_type": "markdown",
   "id": "08118565",
   "metadata": {},
   "source": [
    "### for\n",
    "iterate 하나씩 순서대로 넘길 수 있다\n",
    "iterable 하니씩 순서대로 넘길 수 있는 값들을 반복 가능한 것"
   ]
  },
  {
   "cell_type": "code",
   "execution_count": 49,
   "id": "81d1ff41",
   "metadata": {},
   "outputs": [
    {
     "name": "stdout",
     "output_type": "stream",
     "text": [
      "True\n"
     ]
    }
   ],
   "source": [
    "c = \"hi\"\n",
    "print('h' + 'i' == c)"
   ]
  },
  {
   "cell_type": "code",
   "execution_count": 48,
   "id": "73940150",
   "metadata": {},
   "outputs": [
    {
     "name": "stdout",
     "output_type": "stream",
     "text": [
      "h\n",
      "e\n",
      "l\n",
      "l\n",
      "o\n",
      ",\n",
      " \n",
      "m\n",
      "y\n",
      " \n",
      "d\n",
      "e\n",
      "a\n",
      "r\n",
      "s\n",
      "['h', 'e', 'l', 'l', 'o', ',', ' ', 'm', 'y', ' ', 'd', 'e', 'a', 'r', 's']\n"
     ]
    }
   ],
   "source": [
    "a = \"hello, my dears\"\n",
    "\n",
    "for iterable in a:\n",
    "    print(iterable)\n",
    "    \n",
    "b = []    \n",
    "    \n",
    "for iterable in a:\n",
    "    if type(a) is str:\n",
    "        b += iterable\n",
    "print(b)\n",
    "        "
   ]
  },
  {
   "cell_type": "markdown",
   "id": "056a79f4",
   "metadata": {},
   "source": []
  },
  {
   "cell_type": "markdown",
   "id": "8cfa1ff2",
   "metadata": {},
   "source": [
    "### 구구단"
   ]
  },
  {
   "cell_type": "code",
   "execution_count": 66,
   "id": "ab9fca59",
   "metadata": {},
   "outputs": [
    {
     "name": "stdout",
     "output_type": "stream",
     "text": [
      "15단 : 0\n",
      "15단 : 15\n",
      "15단 : 30\n",
      "15단 : 45\n",
      "15단 : 60\n",
      "15단 : 75\n",
      "15단 : 90\n",
      "15단 : 105\n",
      "15단 : 120\n",
      "15단 : 135\n",
      "15단 : 150\n"
     ]
    }
   ],
   "source": [
    "#for w in range(1, 10):\n",
    "for i in range(0, 150 + 1, 15):\n",
    "    print(\"15단 : {}\".format(i))"
   ]
  },
  {
   "cell_type": "code",
   "execution_count": 87,
   "id": "7ae990e6",
   "metadata": {},
   "outputs": [
    {
     "name": "stdout",
     "output_type": "stream",
     "text": [
      "구구단, 몇 단으로 하실꺼?(정수만 입력!) : 15\n",
      "15 * 1 =  15\n",
      "15 * 2 =  30\n",
      "15 * 3 =  45\n",
      "15 * 4 =  60\n",
      "15 * 5 =  75\n",
      "15 * 6 =  90\n",
      "15 * 7 =  105\n",
      "15 * 8 =  120\n",
      "15 * 9 =  135\n",
      "15 * 10 =  150\n"
     ]
    }
   ],
   "source": [
    "x = int(input(\"구구단, 몇 단으로 하실꺼?(정수만 입력!) : \"))\n",
    "for y in range(1, 10 + 1):\n",
    "    print(\"{} * {} = \".format(x, y), x * y)"
   ]
  },
  {
   "cell_type": "code",
   "execution_count": 88,
   "id": "edc09a69",
   "metadata": {},
   "outputs": [
    {
     "name": "stdout",
     "output_type": "stream",
     "text": [
      "2 * 1 =  2\n",
      "2 * 2 =  4\n",
      "2 * 3 =  6\n",
      "2 * 4 =  8\n",
      "2 * 5 =  10\n",
      "2 * 6 =  12\n",
      "2 * 7 =  14\n",
      "2 * 8 =  16\n",
      "2 * 9 =  18\n",
      "2 * 10 =  20\n",
      "\n",
      "3 * 1 =  3\n",
      "3 * 2 =  6\n",
      "3 * 3 =  9\n",
      "3 * 4 =  12\n",
      "3 * 5 =  15\n",
      "3 * 6 =  18\n",
      "3 * 7 =  21\n",
      "3 * 8 =  24\n",
      "3 * 9 =  27\n",
      "3 * 10 =  30\n",
      "\n",
      "4 * 1 =  4\n",
      "4 * 2 =  8\n",
      "4 * 3 =  12\n",
      "4 * 4 =  16\n",
      "4 * 5 =  20\n",
      "4 * 6 =  24\n",
      "4 * 7 =  28\n",
      "4 * 8 =  32\n",
      "4 * 9 =  36\n",
      "4 * 10 =  40\n",
      "\n",
      "5 * 1 =  5\n",
      "5 * 2 =  10\n",
      "5 * 3 =  15\n",
      "5 * 4 =  20\n",
      "5 * 5 =  25\n",
      "5 * 6 =  30\n",
      "5 * 7 =  35\n",
      "5 * 8 =  40\n",
      "5 * 9 =  45\n",
      "5 * 10 =  50\n",
      "\n"
     ]
    }
   ],
   "source": [
    "for x in range(2, 5 + 1):\n",
    "    for y in range(1, 10 + 1):\n",
    "        print(\"{} * {} = \".format(x, y), x * y)\n",
    "        if y == 10:\n",
    "            print()"
   ]
  },
  {
   "cell_type": "code",
   "execution_count": null,
   "id": "c16cfe5d",
   "metadata": {},
   "outputs": [],
   "source": []
  }
 ],
 "metadata": {
  "kernelspec": {
   "display_name": "Python 3 (ipykernel)",
   "language": "python",
   "name": "python3"
  },
  "language_info": {
   "codemirror_mode": {
    "name": "ipython",
    "version": 3
   },
   "file_extension": ".py",
   "mimetype": "text/x-python",
   "name": "python",
   "nbconvert_exporter": "python",
   "pygments_lexer": "ipython3",
   "version": "3.9.7"
  }
 },
 "nbformat": 4,
 "nbformat_minor": 5
}
