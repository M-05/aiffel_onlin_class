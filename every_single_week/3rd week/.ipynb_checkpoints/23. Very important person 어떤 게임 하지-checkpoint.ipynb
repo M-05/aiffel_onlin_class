{
 "cells": [
  {
   "cell_type": "code",
   "execution_count": 1,
   "id": "6ecc2628",
   "metadata": {},
   "outputs": [
    {
     "name": "stdout",
     "output_type": "stream",
     "text": [
      "ln: failed to create symbolic link '/aiffel/aiffel/data_analysis_basic/data/customer_for_cluster.csv': File exists\r\n"
     ]
    }
   ],
   "source": [
    "!mkdir -p ~/aiffel/data_analysis_basic/data\n",
    "!ln -s ~/data/* ~/aiffel/data_analysis_basic/data"
   ]
  },
  {
   "cell_type": "code",
   "execution_count": null,
   "id": "cf54a41d",
   "metadata": {},
   "outputs": [],
   "source": [
    "# Pandas, Numpy, Matplotlib, Seaborn을 호출\n",
    "import pandas as pd\n",
    "import matplotlib.pyplot as plt\n",
    "plt.style.use('default')\n",
    "import seaborn as sns\n",
    "\n",
    "\n",
    "# customer_data 변수를 만들고 customer_for_cluster.csv 파일의 데이터를 할당\n",
    "customer_data = pd.read_csv('~/aiffel/data_analysis_basic/data/customer_for_cluster.csv')\n",
    "\n",
    "# customer_data의 head 값 확인하기\n",
    "customer_data.head()"
   ]
  },
  {
   "cell_type": "code",
   "execution_count": null,
   "id": "8c04f29a",
   "metadata": {},
   "outputs": [],
   "source": [
    "# customer_data의 정보 확인하기\n",
    "customer_data.info()"
   ]
  }
 ],
 "metadata": {
  "kernelspec": {
   "display_name": "Python 3 (ipykernel)",
   "language": "python",
   "name": "python3"
  },
  "language_info": {
   "codemirror_mode": {
    "name": "ipython",
    "version": 3
   },
   "file_extension": ".py",
   "mimetype": "text/x-python",
   "name": "python",
   "nbconvert_exporter": "python",
   "pygments_lexer": "ipython3",
   "version": "3.9.7"
  }
 },
 "nbformat": 4,
 "nbformat_minor": 5
}
