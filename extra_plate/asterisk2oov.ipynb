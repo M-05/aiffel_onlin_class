{
 "cells": [
  {
   "cell_type": "code",
   "execution_count": 1,
   "id": "69f946f3",
   "metadata": {},
   "outputs": [],
   "source": [
    "import pandas as pd\n",
    "import re\n",
    "from tqdm import tqdm"
   ]
  },
  {
   "cell_type": "code",
   "execution_count": 2,
   "id": "a9d226e9",
   "metadata": {},
   "outputs": [],
   "source": [
    "train_df = pd.read_csv(\"daily_train.csv\")\n",
    "val_df = pd.read_csv(\"daily_val.csv\")"
   ]
  },
  {
   "cell_type": "code",
   "execution_count": 4,
   "id": "f9d4dfe9",
   "metadata": {},
   "outputs": [
    {
     "data": {
      "text/plain": [
       "idx             0\n",
       "class           0\n",
       "conversation    1\n",
       "dtype: int64"
      ]
     },
     "execution_count": 4,
     "metadata": {},
     "output_type": "execute_result"
    }
   ],
   "source": [
    "train_df.isnull().sum()"
   ]
  },
  {
   "cell_type": "code",
   "execution_count": 5,
   "id": "cf0cd283",
   "metadata": {},
   "outputs": [
    {
     "data": {
      "text/html": [
       "<div>\n",
       "<style scoped>\n",
       "    .dataframe tbody tr th:only-of-type {\n",
       "        vertical-align: middle;\n",
       "    }\n",
       "\n",
       "    .dataframe tbody tr th {\n",
       "        vertical-align: top;\n",
       "    }\n",
       "\n",
       "    .dataframe thead th {\n",
       "        text-align: right;\n",
       "    }\n",
       "</style>\n",
       "<table border=\"1\" class=\"dataframe\">\n",
       "  <thead>\n",
       "    <tr style=\"text-align: right;\">\n",
       "      <th></th>\n",
       "      <th>idx</th>\n",
       "      <th>class</th>\n",
       "      <th>conversation</th>\n",
       "    </tr>\n",
       "  </thead>\n",
       "  <tbody>\n",
       "    <tr>\n",
       "      <th>0</th>\n",
       "      <td>0</td>\n",
       "      <td>일상대화</td>\n",
       "      <td>오늘 네이버 멤버십 데이 키키\\n아 키키 네이버 멤버십 데이면 뭐가 좋은데 키키\\n...</td>\n",
       "    </tr>\n",
       "    <tr>\n",
       "      <th>1</th>\n",
       "      <td>1</td>\n",
       "      <td>일상대화</td>\n",
       "      <td>평소에 대중교통은 자주 타는 편이에요?\\n지하철 버스 자주 이용해요! 편해요\\n버스...</td>\n",
       "    </tr>\n",
       "    <tr>\n",
       "      <th>2</th>\n",
       "      <td>2</td>\n",
       "      <td>일상대화</td>\n",
       "      <td>요즘 너무 볼 게 없어서 심심하노...\\n앗 그래? 그럼 나 뭐 하나 추천해도 되나...</td>\n",
       "    </tr>\n",
       "    <tr>\n",
       "      <th>3</th>\n",
       "      <td>3</td>\n",
       "      <td>일상대화</td>\n",
       "      <td>** 언니가 골프 완전 프로 수준이래\\n와 진짜 대박? 하하\\n키키 악 그 정도는 ...</td>\n",
       "    </tr>\n",
       "    <tr>\n",
       "      <th>4</th>\n",
       "      <td>4</td>\n",
       "      <td>일상대화</td>\n",
       "      <td>진짜 결국 일이 터져버렸네...\\n무슨 일?\\n뭐가 결국 터져버렸는데?\\n명절 후 ...</td>\n",
       "    </tr>\n",
       "    <tr>\n",
       "      <th>...</th>\n",
       "      <td>...</td>\n",
       "      <td>...</td>\n",
       "      <td>...</td>\n",
       "    </tr>\n",
       "    <tr>\n",
       "      <th>87684</th>\n",
       "      <td>87684</td>\n",
       "      <td>일상대화</td>\n",
       "      <td>너 가수 fun 알아?\\n오 알지 많이 들어보긴 했어\\n나는 맨처음에 한 사람인 줄...</td>\n",
       "    </tr>\n",
       "    <tr>\n",
       "      <th>87685</th>\n",
       "      <td>87685</td>\n",
       "      <td>일상대화</td>\n",
       "      <td>생각보다 동대문 나들이가 밋밋해지네\\n왜 키키 별로 재미없어?\\n아기는 아직까지는 ...</td>\n",
       "    </tr>\n",
       "    <tr>\n",
       "      <th>87686</th>\n",
       "      <td>87686</td>\n",
       "      <td>일상대화</td>\n",
       "      <td>날이 정말 추워서 집에만 있어야 할 것 같아\\n맞아 벌써 영하권 가까이 돌입해서 너...</td>\n",
       "    </tr>\n",
       "    <tr>\n",
       "      <th>87687</th>\n",
       "      <td>87687</td>\n",
       "      <td>일상대화</td>\n",
       "      <td>요즘 핑크뮬리 다시 시작됐던데 가봤어?\\n헐 진짜!?! 대박 ㅜㅜ 핑크뮬리라니\\n단...</td>\n",
       "    </tr>\n",
       "    <tr>\n",
       "      <th>87688</th>\n",
       "      <td>87688</td>\n",
       "      <td>일상대화</td>\n",
       "      <td>요즘 웹툰 추천 좀 해줘\\n웹툰하면 나혼자 레벌업 아닌가?\\n그건 이미 봤어 다른건...</td>\n",
       "    </tr>\n",
       "  </tbody>\n",
       "</table>\n",
       "<p>87689 rows × 3 columns</p>\n",
       "</div>"
      ],
      "text/plain": [
       "         idx class                                       conversation\n",
       "0          0  일상대화  오늘 네이버 멤버십 데이 키키\\n아 키키 네이버 멤버십 데이면 뭐가 좋은데 키키\\n...\n",
       "1          1  일상대화  평소에 대중교통은 자주 타는 편이에요?\\n지하철 버스 자주 이용해요! 편해요\\n버스...\n",
       "2          2  일상대화  요즘 너무 볼 게 없어서 심심하노...\\n앗 그래? 그럼 나 뭐 하나 추천해도 되나...\n",
       "3          3  일상대화  ** 언니가 골프 완전 프로 수준이래\\n와 진짜 대박? 하하\\n키키 악 그 정도는 ...\n",
       "4          4  일상대화  진짜 결국 일이 터져버렸네...\\n무슨 일?\\n뭐가 결국 터져버렸는데?\\n명절 후 ...\n",
       "...      ...   ...                                                ...\n",
       "87684  87684  일상대화  너 가수 fun 알아?\\n오 알지 많이 들어보긴 했어\\n나는 맨처음에 한 사람인 줄...\n",
       "87685  87685  일상대화  생각보다 동대문 나들이가 밋밋해지네\\n왜 키키 별로 재미없어?\\n아기는 아직까지는 ...\n",
       "87686  87686  일상대화  날이 정말 추워서 집에만 있어야 할 것 같아\\n맞아 벌써 영하권 가까이 돌입해서 너...\n",
       "87687  87687  일상대화  요즘 핑크뮬리 다시 시작됐던데 가봤어?\\n헐 진짜!?! 대박 ㅜㅜ 핑크뮬리라니\\n단...\n",
       "87688  87688  일상대화  요즘 웹툰 추천 좀 해줘\\n웹툰하면 나혼자 레벌업 아닌가?\\n그건 이미 봤어 다른건...\n",
       "\n",
       "[87689 rows x 3 columns]"
      ]
     },
     "execution_count": 5,
     "metadata": {},
     "output_type": "execute_result"
    }
   ],
   "source": [
    "train_df = train_df.dropna()\n",
    "train_df = train_df.reset_index().reset_index()\n",
    "train_df = train_df[['level_0', \"class\", \"conversation\"]]\n",
    "train_df.rename(columns={\"level_0\": \"idx\"}, inplace=True)\n",
    "train_df"
   ]
  },
  {
   "cell_type": "code",
   "execution_count": 6,
   "id": "ec21399b",
   "metadata": {},
   "outputs": [
    {
     "name": "stderr",
     "output_type": "stream",
     "text": [
      "  0%|          | 0/87689 [00:00<?, ?it/s]/opt/conda/lib/python3.9/site-packages/pandas/core/indexing.py:1732: SettingWithCopyWarning: \n",
      "A value is trying to be set on a copy of a slice from a DataFrame\n",
      "\n",
      "See the caveats in the documentation: https://pandas.pydata.org/pandas-docs/stable/user_guide/indexing.html#returning-a-view-versus-a-copy\n",
      "  self._setitem_single_block(indexer, value, name)\n",
      "100%|██████████| 87689/87689 [01:18<00:00, 1121.65it/s]\n"
     ]
    }
   ],
   "source": [
    "for i in tqdm(range(len(train_df))):\n",
    "    train_df['conversation'].iloc[i] = re.sub('[*]{1,}', '<oov>', train_df['conversation'].iloc[i])"
   ]
  },
  {
   "cell_type": "markdown",
   "id": "45c659f1",
   "metadata": {},
   "source": [
    "### 확인"
   ]
  },
  {
   "cell_type": "code",
   "execution_count": 7,
   "id": "fc15891f",
   "metadata": {},
   "outputs": [
    {
     "data": {
      "text/html": [
       "<div>\n",
       "<style scoped>\n",
       "    .dataframe tbody tr th:only-of-type {\n",
       "        vertical-align: middle;\n",
       "    }\n",
       "\n",
       "    .dataframe tbody tr th {\n",
       "        vertical-align: top;\n",
       "    }\n",
       "\n",
       "    .dataframe thead th {\n",
       "        text-align: right;\n",
       "    }\n",
       "</style>\n",
       "<table border=\"1\" class=\"dataframe\">\n",
       "  <thead>\n",
       "    <tr style=\"text-align: right;\">\n",
       "      <th></th>\n",
       "      <th>idx</th>\n",
       "      <th>class</th>\n",
       "      <th>conversation</th>\n",
       "    </tr>\n",
       "  </thead>\n",
       "  <tbody>\n",
       "  </tbody>\n",
       "</table>\n",
       "</div>"
      ],
      "text/plain": [
       "Empty DataFrame\n",
       "Columns: [idx, class, conversation]\n",
       "Index: []"
      ]
     },
     "execution_count": 7,
     "metadata": {},
     "output_type": "execute_result"
    }
   ],
   "source": [
    "train_df[train_df['conversation'].str.contains('\\*')]"
   ]
  },
  {
   "cell_type": "markdown",
   "id": "74079394",
   "metadata": {},
   "source": [
    "### validation oov 처리"
   ]
  },
  {
   "cell_type": "code",
   "execution_count": 8,
   "id": "73428f1c",
   "metadata": {},
   "outputs": [
    {
     "name": "stderr",
     "output_type": "stream",
     "text": [
      "  0%|          | 0/10962 [00:00<?, ?it/s]/opt/conda/lib/python3.9/site-packages/pandas/core/indexing.py:1732: SettingWithCopyWarning: \n",
      "A value is trying to be set on a copy of a slice from a DataFrame\n",
      "\n",
      "See the caveats in the documentation: https://pandas.pydata.org/pandas-docs/stable/user_guide/indexing.html#returning-a-view-versus-a-copy\n",
      "  self._setitem_single_block(indexer, value, name)\n",
      "100%|██████████| 10962/10962 [00:04<00:00, 2197.54it/s]\n"
     ]
    }
   ],
   "source": [
    "for i in tqdm(range(len(val_df))):\n",
    "    val_df['conversation'].iloc[i] = re.sub('[*]{1,}', '<oov>', val_df['conversation'].iloc[i])"
   ]
  },
  {
   "cell_type": "markdown",
   "id": "c0cad34b",
   "metadata": {},
   "source": [
    "### 확인"
   ]
  },
  {
   "cell_type": "code",
   "execution_count": 9,
   "id": "061ba8c9",
   "metadata": {},
   "outputs": [
    {
     "data": {
      "text/html": [
       "<div>\n",
       "<style scoped>\n",
       "    .dataframe tbody tr th:only-of-type {\n",
       "        vertical-align: middle;\n",
       "    }\n",
       "\n",
       "    .dataframe tbody tr th {\n",
       "        vertical-align: top;\n",
       "    }\n",
       "\n",
       "    .dataframe thead th {\n",
       "        text-align: right;\n",
       "    }\n",
       "</style>\n",
       "<table border=\"1\" class=\"dataframe\">\n",
       "  <thead>\n",
       "    <tr style=\"text-align: right;\">\n",
       "      <th></th>\n",
       "      <th>idx</th>\n",
       "      <th>class</th>\n",
       "      <th>conversation</th>\n",
       "    </tr>\n",
       "  </thead>\n",
       "  <tbody>\n",
       "  </tbody>\n",
       "</table>\n",
       "</div>"
      ],
      "text/plain": [
       "Empty DataFrame\n",
       "Columns: [idx, class, conversation]\n",
       "Index: []"
      ]
     },
     "execution_count": 9,
     "metadata": {},
     "output_type": "execute_result"
    }
   ],
   "source": [
    "val_df[val_df['conversation'].str.contains('\\*')]"
   ]
  },
  {
   "cell_type": "markdown",
   "id": "17701977",
   "metadata": {},
   "source": [
    "### 저장"
   ]
  },
  {
   "cell_type": "code",
   "execution_count": 10,
   "id": "7deb5f45",
   "metadata": {},
   "outputs": [],
   "source": [
    "train_df.to_csv(\"daily_train(oov).csv\", index=False)\n",
    "val_df.to_csv(\"daily_val(oov).csv\", index=False)"
   ]
  },
  {
   "cell_type": "markdown",
   "id": "3122191e",
   "metadata": {},
   "source": [
    "### 불러오기"
   ]
  },
  {
   "cell_type": "code",
   "execution_count": 11,
   "id": "017f251e",
   "metadata": {},
   "outputs": [],
   "source": [
    "train_oov = pd.read_csv(\"daily_train(oov).csv\")\n",
    "val_oov = pd.read_csv(\"daily_val(oov).csv\")"
   ]
  },
  {
   "cell_type": "markdown",
   "id": "b47e34ac",
   "metadata": {},
   "source": [
    "---\n",
    "\n",
    "### 확인"
   ]
  },
  {
   "cell_type": "code",
   "execution_count": 12,
   "id": "a1258163",
   "metadata": {},
   "outputs": [
    {
     "data": {
      "text/html": [
       "<div>\n",
       "<style scoped>\n",
       "    .dataframe tbody tr th:only-of-type {\n",
       "        vertical-align: middle;\n",
       "    }\n",
       "\n",
       "    .dataframe tbody tr th {\n",
       "        vertical-align: top;\n",
       "    }\n",
       "\n",
       "    .dataframe thead th {\n",
       "        text-align: right;\n",
       "    }\n",
       "</style>\n",
       "<table border=\"1\" class=\"dataframe\">\n",
       "  <thead>\n",
       "    <tr style=\"text-align: right;\">\n",
       "      <th></th>\n",
       "      <th>idx</th>\n",
       "      <th>class</th>\n",
       "      <th>conversation</th>\n",
       "    </tr>\n",
       "  </thead>\n",
       "  <tbody>\n",
       "    <tr>\n",
       "      <th>0</th>\n",
       "      <td>0</td>\n",
       "      <td>일상대화</td>\n",
       "      <td>오늘 네이버 멤버십 데이 키키\\n아 키키 네이버 멤버십 데이면 뭐가 좋은데 키키\\n...</td>\n",
       "    </tr>\n",
       "    <tr>\n",
       "      <th>1</th>\n",
       "      <td>1</td>\n",
       "      <td>일상대화</td>\n",
       "      <td>평소에 대중교통은 자주 타는 편이에요?\\n지하철 버스 자주 이용해요! 편해요\\n버스...</td>\n",
       "    </tr>\n",
       "    <tr>\n",
       "      <th>2</th>\n",
       "      <td>2</td>\n",
       "      <td>일상대화</td>\n",
       "      <td>요즘 너무 볼 게 없어서 심심하노...\\n앗 그래? 그럼 나 뭐 하나 추천해도 되나...</td>\n",
       "    </tr>\n",
       "    <tr>\n",
       "      <th>3</th>\n",
       "      <td>3</td>\n",
       "      <td>일상대화</td>\n",
       "      <td>&lt;oov&gt; 언니가 골프 완전 프로 수준이래\\n와 진짜 대박? 하하\\n키키 악 그 정...</td>\n",
       "    </tr>\n",
       "    <tr>\n",
       "      <th>4</th>\n",
       "      <td>4</td>\n",
       "      <td>일상대화</td>\n",
       "      <td>진짜 결국 일이 터져버렸네...\\n무슨 일?\\n뭐가 결국 터져버렸는데?\\n명절 후 ...</td>\n",
       "    </tr>\n",
       "    <tr>\n",
       "      <th>...</th>\n",
       "      <td>...</td>\n",
       "      <td>...</td>\n",
       "      <td>...</td>\n",
       "    </tr>\n",
       "    <tr>\n",
       "      <th>87684</th>\n",
       "      <td>87684</td>\n",
       "      <td>일상대화</td>\n",
       "      <td>너 가수 fun 알아?\\n오 알지 많이 들어보긴 했어\\n나는 맨처음에 한 사람인 줄...</td>\n",
       "    </tr>\n",
       "    <tr>\n",
       "      <th>87685</th>\n",
       "      <td>87685</td>\n",
       "      <td>일상대화</td>\n",
       "      <td>생각보다 동대문 나들이가 밋밋해지네\\n왜 키키 별로 재미없어?\\n아기는 아직까지는 ...</td>\n",
       "    </tr>\n",
       "    <tr>\n",
       "      <th>87686</th>\n",
       "      <td>87686</td>\n",
       "      <td>일상대화</td>\n",
       "      <td>날이 정말 추워서 집에만 있어야 할 것 같아\\n맞아 벌써 영하권 가까이 돌입해서 너...</td>\n",
       "    </tr>\n",
       "    <tr>\n",
       "      <th>87687</th>\n",
       "      <td>87687</td>\n",
       "      <td>일상대화</td>\n",
       "      <td>요즘 핑크뮬리 다시 시작됐던데 가봤어?\\n헐 진짜!?! 대박 ㅜㅜ 핑크뮬리라니\\n단...</td>\n",
       "    </tr>\n",
       "    <tr>\n",
       "      <th>87688</th>\n",
       "      <td>87688</td>\n",
       "      <td>일상대화</td>\n",
       "      <td>요즘 웹툰 추천 좀 해줘\\n웹툰하면 나혼자 레벌업 아닌가?\\n그건 이미 봤어 다른건...</td>\n",
       "    </tr>\n",
       "  </tbody>\n",
       "</table>\n",
       "<p>87689 rows × 3 columns</p>\n",
       "</div>"
      ],
      "text/plain": [
       "         idx class                                       conversation\n",
       "0          0  일상대화  오늘 네이버 멤버십 데이 키키\\n아 키키 네이버 멤버십 데이면 뭐가 좋은데 키키\\n...\n",
       "1          1  일상대화  평소에 대중교통은 자주 타는 편이에요?\\n지하철 버스 자주 이용해요! 편해요\\n버스...\n",
       "2          2  일상대화  요즘 너무 볼 게 없어서 심심하노...\\n앗 그래? 그럼 나 뭐 하나 추천해도 되나...\n",
       "3          3  일상대화  <oov> 언니가 골프 완전 프로 수준이래\\n와 진짜 대박? 하하\\n키키 악 그 정...\n",
       "4          4  일상대화  진짜 결국 일이 터져버렸네...\\n무슨 일?\\n뭐가 결국 터져버렸는데?\\n명절 후 ...\n",
       "...      ...   ...                                                ...\n",
       "87684  87684  일상대화  너 가수 fun 알아?\\n오 알지 많이 들어보긴 했어\\n나는 맨처음에 한 사람인 줄...\n",
       "87685  87685  일상대화  생각보다 동대문 나들이가 밋밋해지네\\n왜 키키 별로 재미없어?\\n아기는 아직까지는 ...\n",
       "87686  87686  일상대화  날이 정말 추워서 집에만 있어야 할 것 같아\\n맞아 벌써 영하권 가까이 돌입해서 너...\n",
       "87687  87687  일상대화  요즘 핑크뮬리 다시 시작됐던데 가봤어?\\n헐 진짜!?! 대박 ㅜㅜ 핑크뮬리라니\\n단...\n",
       "87688  87688  일상대화  요즘 웹툰 추천 좀 해줘\\n웹툰하면 나혼자 레벌업 아닌가?\\n그건 이미 봤어 다른건...\n",
       "\n",
       "[87689 rows x 3 columns]"
      ]
     },
     "execution_count": 12,
     "metadata": {},
     "output_type": "execute_result"
    }
   ],
   "source": [
    "train_oov"
   ]
  },
  {
   "cell_type": "code",
   "execution_count": 15,
   "id": "24b21e3e",
   "metadata": {},
   "outputs": [
    {
     "data": {
      "text/html": [
       "<div>\n",
       "<style scoped>\n",
       "    .dataframe tbody tr th:only-of-type {\n",
       "        vertical-align: middle;\n",
       "    }\n",
       "\n",
       "    .dataframe tbody tr th {\n",
       "        vertical-align: top;\n",
       "    }\n",
       "\n",
       "    .dataframe thead th {\n",
       "        text-align: right;\n",
       "    }\n",
       "</style>\n",
       "<table border=\"1\" class=\"dataframe\">\n",
       "  <thead>\n",
       "    <tr style=\"text-align: right;\">\n",
       "      <th></th>\n",
       "      <th>idx</th>\n",
       "      <th>class</th>\n",
       "      <th>conversation</th>\n",
       "    </tr>\n",
       "  </thead>\n",
       "  <tbody>\n",
       "  </tbody>\n",
       "</table>\n",
       "</div>"
      ],
      "text/plain": [
       "Empty DataFrame\n",
       "Columns: [idx, class, conversation]\n",
       "Index: []"
      ]
     },
     "execution_count": 15,
     "metadata": {},
     "output_type": "execute_result"
    }
   ],
   "source": [
    "train_oov[train_oov['conversation'].str.contains('\\*')]"
   ]
  },
  {
   "cell_type": "markdown",
   "id": "1e2a8530",
   "metadata": {},
   "source": [
    "---\n",
    "\n",
    "### 확인"
   ]
  },
  {
   "cell_type": "code",
   "execution_count": 13,
   "id": "089d86b4",
   "metadata": {},
   "outputs": [
    {
     "data": {
      "text/html": [
       "<div>\n",
       "<style scoped>\n",
       "    .dataframe tbody tr th:only-of-type {\n",
       "        vertical-align: middle;\n",
       "    }\n",
       "\n",
       "    .dataframe tbody tr th {\n",
       "        vertical-align: top;\n",
       "    }\n",
       "\n",
       "    .dataframe thead th {\n",
       "        text-align: right;\n",
       "    }\n",
       "</style>\n",
       "<table border=\"1\" class=\"dataframe\">\n",
       "  <thead>\n",
       "    <tr style=\"text-align: right;\">\n",
       "      <th></th>\n",
       "      <th>idx</th>\n",
       "      <th>class</th>\n",
       "      <th>conversation</th>\n",
       "    </tr>\n",
       "  </thead>\n",
       "  <tbody>\n",
       "    <tr>\n",
       "      <th>0</th>\n",
       "      <td>0</td>\n",
       "      <td>일상대화</td>\n",
       "      <td>갯마을 차차차 다 봤나 저번 주 꺼까지 ㅠ 나 아껴 두는 중\\n야 나도 하나 남아서...</td>\n",
       "    </tr>\n",
       "    <tr>\n",
       "      <th>1</th>\n",
       "      <td>1</td>\n",
       "      <td>일상대화</td>\n",
       "      <td>요즘 비가 자주 와서 그런지 관절이 쑤시네 ㅜ\\n나이 먹었나 봐 ㅜ\\n나는 아직 못...</td>\n",
       "    </tr>\n",
       "    <tr>\n",
       "      <th>2</th>\n",
       "      <td>2</td>\n",
       "      <td>일상대화</td>\n",
       "      <td>여보는 여보네 오빠랑 자취했었지?\\n응 어렸을 때 그렇게 했었지.\\n그때 여보 동생...</td>\n",
       "    </tr>\n",
       "    <tr>\n",
       "      <th>3</th>\n",
       "      <td>3</td>\n",
       "      <td>일상대화</td>\n",
       "      <td>모가디슈 요새 핫하대... 키키 영화 봤나?\\n오 ㅠ 아니 안 그래도 보고 싶었는데...</td>\n",
       "    </tr>\n",
       "    <tr>\n",
       "      <th>4</th>\n",
       "      <td>4</td>\n",
       "      <td>일상대화</td>\n",
       "      <td>요즘 인테리어 많이 한다던데 다들 집에만 있어서 그런가 집 소중…\\n요즘 집에만 박...</td>\n",
       "    </tr>\n",
       "    <tr>\n",
       "      <th>...</th>\n",
       "      <td>...</td>\n",
       "      <td>...</td>\n",
       "      <td>...</td>\n",
       "    </tr>\n",
       "    <tr>\n",
       "      <th>10957</th>\n",
       "      <td>10957</td>\n",
       "      <td>일상대화</td>\n",
       "      <td>요즘에 반려동물 용품이 진짜 비싼 거 같아 ㅜㅜ\\n맞아... 펫텍스 무시 못하는 것...</td>\n",
       "    </tr>\n",
       "    <tr>\n",
       "      <th>10958</th>\n",
       "      <td>10958</td>\n",
       "      <td>일상대화</td>\n",
       "      <td>지금 회사 점심시간이지? 밥 먹었어?\\n언니 나 지금 집이야!！키키 나 재택 근무 ...</td>\n",
       "    </tr>\n",
       "    <tr>\n",
       "      <th>10959</th>\n",
       "      <td>10959</td>\n",
       "      <td>일상대화</td>\n",
       "      <td>오늘 점심 메뉴는 뭐 먹었어 키키\\n오늘 너무 바빠서 점심을 못 먹었어...! 감자...</td>\n",
       "    </tr>\n",
       "    <tr>\n",
       "      <th>10960</th>\n",
       "      <td>10960</td>\n",
       "      <td>일상대화</td>\n",
       "      <td>나 성형하고 싶은 곳이 있어\\n어디 하고 싶은 거니?\\n코랑 이마 하고 싶어\\n코는...</td>\n",
       "    </tr>\n",
       "    <tr>\n",
       "      <th>10961</th>\n",
       "      <td>10961</td>\n",
       "      <td>일상대화</td>\n",
       "      <td>이번 집은 주차는 어때 괜찮아?\\n한 집당 한 대씩 대는 거라 주차는 가능해 키키 ...</td>\n",
       "    </tr>\n",
       "  </tbody>\n",
       "</table>\n",
       "<p>10962 rows × 3 columns</p>\n",
       "</div>"
      ],
      "text/plain": [
       "         idx class                                       conversation\n",
       "0          0  일상대화  갯마을 차차차 다 봤나 저번 주 꺼까지 ㅠ 나 아껴 두는 중\\n야 나도 하나 남아서...\n",
       "1          1  일상대화  요즘 비가 자주 와서 그런지 관절이 쑤시네 ㅜ\\n나이 먹었나 봐 ㅜ\\n나는 아직 못...\n",
       "2          2  일상대화  여보는 여보네 오빠랑 자취했었지?\\n응 어렸을 때 그렇게 했었지.\\n그때 여보 동생...\n",
       "3          3  일상대화  모가디슈 요새 핫하대... 키키 영화 봤나?\\n오 ㅠ 아니 안 그래도 보고 싶었는데...\n",
       "4          4  일상대화  요즘 인테리어 많이 한다던데 다들 집에만 있어서 그런가 집 소중…\\n요즘 집에만 박...\n",
       "...      ...   ...                                                ...\n",
       "10957  10957  일상대화  요즘에 반려동물 용품이 진짜 비싼 거 같아 ㅜㅜ\\n맞아... 펫텍스 무시 못하는 것...\n",
       "10958  10958  일상대화  지금 회사 점심시간이지? 밥 먹었어?\\n언니 나 지금 집이야!！키키 나 재택 근무 ...\n",
       "10959  10959  일상대화  오늘 점심 메뉴는 뭐 먹었어 키키\\n오늘 너무 바빠서 점심을 못 먹었어...! 감자...\n",
       "10960  10960  일상대화  나 성형하고 싶은 곳이 있어\\n어디 하고 싶은 거니?\\n코랑 이마 하고 싶어\\n코는...\n",
       "10961  10961  일상대화  이번 집은 주차는 어때 괜찮아?\\n한 집당 한 대씩 대는 거라 주차는 가능해 키키 ...\n",
       "\n",
       "[10962 rows x 3 columns]"
      ]
     },
     "execution_count": 13,
     "metadata": {},
     "output_type": "execute_result"
    }
   ],
   "source": [
    "val_oov"
   ]
  },
  {
   "cell_type": "code",
   "execution_count": 14,
   "id": "0f011ed1",
   "metadata": {},
   "outputs": [
    {
     "data": {
      "text/html": [
       "<div>\n",
       "<style scoped>\n",
       "    .dataframe tbody tr th:only-of-type {\n",
       "        vertical-align: middle;\n",
       "    }\n",
       "\n",
       "    .dataframe tbody tr th {\n",
       "        vertical-align: top;\n",
       "    }\n",
       "\n",
       "    .dataframe thead th {\n",
       "        text-align: right;\n",
       "    }\n",
       "</style>\n",
       "<table border=\"1\" class=\"dataframe\">\n",
       "  <thead>\n",
       "    <tr style=\"text-align: right;\">\n",
       "      <th></th>\n",
       "      <th>idx</th>\n",
       "      <th>class</th>\n",
       "      <th>conversation</th>\n",
       "    </tr>\n",
       "  </thead>\n",
       "  <tbody>\n",
       "  </tbody>\n",
       "</table>\n",
       "</div>"
      ],
      "text/plain": [
       "Empty DataFrame\n",
       "Columns: [idx, class, conversation]\n",
       "Index: []"
      ]
     },
     "execution_count": 14,
     "metadata": {},
     "output_type": "execute_result"
    }
   ],
   "source": [
    "val_oov[val_oov['conversation'].str.contains('\\*')]"
   ]
  },
  {
   "cell_type": "code",
   "execution_count": null,
   "id": "c78212a7",
   "metadata": {},
   "outputs": [],
   "source": []
  }
 ],
 "metadata": {
  "kernelspec": {
   "display_name": "Python 3 (ipykernel)",
   "language": "python",
   "name": "python3"
  },
  "language_info": {
   "codemirror_mode": {
    "name": "ipython",
    "version": 3
   },
   "file_extension": ".py",
   "mimetype": "text/x-python",
   "name": "python",
   "nbconvert_exporter": "python",
   "pygments_lexer": "ipython3",
   "version": "3.9.7"
  }
 },
 "nbformat": 4,
 "nbformat_minor": 5
}
