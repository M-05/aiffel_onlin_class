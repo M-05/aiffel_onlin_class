{
 "cells": [
  {
   "cell_type": "code",
   "execution_count": 181,
   "id": "b19f9e0f",
   "metadata": {},
   "outputs": [],
   "source": [
    "import pandas as pd\n",
    "import json\n",
    "import os\n",
    "import numpy as np\n",
    "from tqdm import tqdm"
   ]
  },
  {
   "cell_type": "code",
   "execution_count": 2,
   "id": "7cb6ed5c",
   "metadata": {},
   "outputs": [
    {
     "name": "stdout",
     "output_type": "stream",
     "text": [
      "talksets-train-1_aihub.json  talksets-train-3.json  talksets-train-5.json\r\n",
      "talksets-train-2.json        talksets-train-4.json\r\n"
     ]
    }
   ],
   "source": [
    "ls immoral_json_talksets/talksets-train-1_aihub.json"
   ]
  },
  {
   "cell_type": "code",
   "execution_count": 6,
   "id": "ddd8e292",
   "metadata": {},
   "outputs": [
    {
     "data": {
      "text/plain": [
       "['talksets-train-2.json',\n",
       " 'talksets-train-5.json',\n",
       " 'talksets-train-1_aihub.json',\n",
       " 'talksets-train-4.json',\n",
       " 'talksets-train-3.json']"
      ]
     },
     "execution_count": 6,
     "metadata": {},
     "output_type": "execute_result"
    }
   ],
   "source": [
    "json_files = os.listdir(\"immoral_json_talksets\")\n",
    "json_files"
   ]
  },
  {
   "cell_type": "code",
   "execution_count": 7,
   "id": "17879a48",
   "metadata": {},
   "outputs": [],
   "source": [
    "json_files.sort()"
   ]
  },
  {
   "cell_type": "code",
   "execution_count": 8,
   "id": "37e1b957",
   "metadata": {},
   "outputs": [
    {
     "data": {
      "text/plain": [
       "['talksets-train-1_aihub.json',\n",
       " 'talksets-train-2.json',\n",
       " 'talksets-train-3.json',\n",
       " 'talksets-train-4.json',\n",
       " 'talksets-train-5.json']"
      ]
     },
     "execution_count": 8,
     "metadata": {},
     "output_type": "execute_result"
    }
   ],
   "source": [
    "json_files"
   ]
  },
  {
   "cell_type": "code",
   "execution_count": 11,
   "id": "1397312d",
   "metadata": {},
   "outputs": [],
   "source": [
    "path = \"immoral_json_talksets\""
   ]
  },
  {
   "cell_type": "markdown",
   "id": "68035191",
   "metadata": {},
   "source": [
    "###  json 파일 열고 내용물 확인"
   ]
  },
  {
   "cell_type": "code",
   "execution_count": 12,
   "id": "9956653e",
   "metadata": {},
   "outputs": [],
   "source": [
    "with open(os.path.join(path, json_files[0]), 'r') as f:\n",
    "    json_data = json.load(f)"
   ]
  },
  {
   "cell_type": "code",
   "execution_count": 14,
   "id": "b9753e30",
   "metadata": {},
   "outputs": [
    {
     "data": {
      "text/plain": [
       "{'id': '615281b0aab10bca18a468e2',\n",
       " 'sentences': [{'id': '615281b0aab10bca18a468e2-1',\n",
       "   'speaker': 1,\n",
       "   'origin_text': '부랴부랴 왔는데 아무도 안왔네. 시간개념들이 없네',\n",
       "   'text': '부랴부랴 왔는데 아무도 안왔네. 시간개념들이 없네',\n",
       "   'types': ['CENSURE'],\n",
       "   'is_immoral': True,\n",
       "   'intensity': 2.0,\n",
       "   'intensity_sum': 10,\n",
       "   'votes': [{'intensity': 'IRRITABLE',\n",
       "     'voter': {'gender': 'MALE', 'age': 20}},\n",
       "    {'intensity': 'IRRITABLE', 'voter': {'gender': 'MALE', 'age': 40}},\n",
       "    {'intensity': 'IRRITABLE', 'voter': {'gender': 'MALE', 'age': 60}},\n",
       "    {'intensity': 'IRRITABLE', 'voter': {'gender': 'MALE', 'age': 50}},\n",
       "    {'intensity': 'IRRITABLE', 'voter': {'gender': 'MALE', 'age': 20}}],\n",
       "   'frame_id': 48327,\n",
       "   'mapped_slots': [{'slot': 'V1', 'token': '오다', 'lu_id': 19549},\n",
       "    {'slot': 'N1', 'token': '아무', 'lu_id': 12468},\n",
       "    {'slot': 'V2', 'token': '안오다', 'lu_id': 42059},\n",
       "    {'slot': 'N2', 'token': '시간', 'lu_id': 11939},\n",
       "    {'slot': 'N3', 'token': '개념들', 'lu_id': 20303},\n",
       "    {'slot': 'V3', 'token': '없다', 'lu_id': 19543}]},\n",
       "  {'id': '615281b0aab10bca18a468e2-2',\n",
       "   'speaker': 2,\n",
       "   'origin_text': '맞아. 사람들이 진짜 개념이없다',\n",
       "   'text': '맞아. 사람들이 진짜 개념이없다',\n",
       "   'types': ['CENSURE'],\n",
       "   'is_immoral': True,\n",
       "   'intensity': 2.0,\n",
       "   'intensity_sum': 10,\n",
       "   'votes': [{'intensity': 'IRRITABLE',\n",
       "     'voter': {'gender': 'MALE', 'age': 20}},\n",
       "    {'intensity': 'IRRITABLE', 'voter': {'gender': 'MALE', 'age': 40}},\n",
       "    {'intensity': 'IRRITABLE', 'voter': {'gender': 'MALE', 'age': 60}},\n",
       "    {'intensity': 'IRRITABLE', 'voter': {'gender': 'MALE', 'age': 50}},\n",
       "    {'intensity': 'IRRITABLE', 'voter': {'gender': 'MALE', 'age': 20}}],\n",
       "   'frame_id': 48328,\n",
       "   'mapped_slots': [{'slot': 'N1', 'token': '사람들', 'lu_id': 28723},\n",
       "    {'slot': 'N2', 'token': '개념', 'lu_id': 4847},\n",
       "    {'slot': 'V1', 'token': '없다', 'lu_id': 19543}]},\n",
       "  {'id': '615281b0aab10bca18a468e2-3',\n",
       "   'speaker': 1,\n",
       "   'origin_text': '저렇게는 살지 말아야지',\n",
       "   'text': '저렇게는 살지 말아야지',\n",
       "   'types': ['CENSURE'],\n",
       "   'is_immoral': True,\n",
       "   'intensity': 2.0,\n",
       "   'intensity_sum': 10,\n",
       "   'votes': [{'intensity': 'IRRITABLE',\n",
       "     'voter': {'gender': 'MALE', 'age': 20}},\n",
       "    {'intensity': 'IRRITABLE', 'voter': {'gender': 'MALE', 'age': 40}},\n",
       "    {'intensity': 'IRRITABLE', 'voter': {'gender': 'MALE', 'age': 60}},\n",
       "    {'intensity': 'IRRITABLE', 'voter': {'gender': 'MALE', 'age': 50}},\n",
       "    {'intensity': 'IRRITABLE', 'voter': {'gender': 'MALE', 'age': 20}}],\n",
       "   'frame_id': 48329,\n",
       "   'mapped_slots': [{'slot': 'V1', 'token': '저렇다', 'lu_id': 42435},\n",
       "    {'slot': 'V2', 'token': '살다', 'lu_id': 19481}]},\n",
       "  {'id': '615281b0aab10bca18a468e2-4',\n",
       "   'speaker': 2,\n",
       "   'origin_text': '그러게 게으르고 멍청한 사람들은 맞아야해',\n",
       "   'text': '그러게 게으르고 멍청한 사람들은 맞아야해',\n",
       "   'types': ['CENSURE'],\n",
       "   'is_immoral': True,\n",
       "   'intensity': 2.0,\n",
       "   'intensity_sum': 10,\n",
       "   'votes': [{'intensity': 'IRRITABLE',\n",
       "     'voter': {'gender': 'MALE', 'age': 20}},\n",
       "    {'intensity': 'IRRITABLE', 'voter': {'gender': 'MALE', 'age': 40}},\n",
       "    {'intensity': 'IRRITABLE', 'voter': {'gender': 'MALE', 'age': 60}},\n",
       "    {'intensity': 'IRRITABLE', 'voter': {'gender': 'MALE', 'age': 50}},\n",
       "    {'intensity': 'IRRITABLE', 'voter': {'gender': 'MALE', 'age': 20}}],\n",
       "   'frame_id': 48330,\n",
       "   'mapped_slots': [{'slot': 'V1', 'token': '그러하다', 'lu_id': 59326},\n",
       "    {'slot': 'V2', 'token': '게으르다', 'lu_id': 58858},\n",
       "    {'slot': 'V3', 'token': '멍청하다', 'lu_id': 61259},\n",
       "    {'slot': 'N1', 'token': '사람들', 'lu_id': 28723},\n",
       "    {'slot': 'V4', 'token': '맞다', 'lu_id': 19411},\n",
       "    {'slot': 'V5', 'token': '하다', 'lu_id': 19662}]}]}"
      ]
     },
     "execution_count": 14,
     "metadata": {},
     "output_type": "execute_result"
    }
   ],
   "source": [
    "json_data[0]"
   ]
  },
  {
   "cell_type": "markdown",
   "id": "c99c55ef",
   "metadata": {},
   "source": [
    "### 19,689 대화문이 있다"
   ]
  },
  {
   "cell_type": "code",
   "execution_count": 20,
   "id": "c266dd41",
   "metadata": {},
   "outputs": [
    {
     "data": {
      "text/plain": [
       "(list, 19689)"
      ]
     },
     "execution_count": 20,
     "metadata": {},
     "output_type": "execute_result"
    }
   ],
   "source": [
    "type(json_data), len(json_data)"
   ]
  },
  {
   "cell_type": "code",
   "execution_count": 24,
   "id": "661699dc",
   "metadata": {},
   "outputs": [
    {
     "data": {
      "text/plain": [
       "dict_keys(['id', 'sentences'])"
      ]
     },
     "execution_count": 24,
     "metadata": {},
     "output_type": "execute_result"
    }
   ],
   "source": [
    "json_data[0].keys()"
   ]
  },
  {
   "cell_type": "code",
   "execution_count": 26,
   "id": "8acc3213",
   "metadata": {},
   "outputs": [
    {
     "data": {
      "text/plain": [
       "[{'id': '615281b0aab10bca18a468e2-1',\n",
       "  'speaker': 1,\n",
       "  'origin_text': '부랴부랴 왔는데 아무도 안왔네. 시간개념들이 없네',\n",
       "  'text': '부랴부랴 왔는데 아무도 안왔네. 시간개념들이 없네',\n",
       "  'types': ['CENSURE'],\n",
       "  'is_immoral': True,\n",
       "  'intensity': 2.0,\n",
       "  'intensity_sum': 10,\n",
       "  'votes': [{'intensity': 'IRRITABLE', 'voter': {'gender': 'MALE', 'age': 20}},\n",
       "   {'intensity': 'IRRITABLE', 'voter': {'gender': 'MALE', 'age': 40}},\n",
       "   {'intensity': 'IRRITABLE', 'voter': {'gender': 'MALE', 'age': 60}},\n",
       "   {'intensity': 'IRRITABLE', 'voter': {'gender': 'MALE', 'age': 50}},\n",
       "   {'intensity': 'IRRITABLE', 'voter': {'gender': 'MALE', 'age': 20}}],\n",
       "  'frame_id': 48327,\n",
       "  'mapped_slots': [{'slot': 'V1', 'token': '오다', 'lu_id': 19549},\n",
       "   {'slot': 'N1', 'token': '아무', 'lu_id': 12468},\n",
       "   {'slot': 'V2', 'token': '안오다', 'lu_id': 42059},\n",
       "   {'slot': 'N2', 'token': '시간', 'lu_id': 11939},\n",
       "   {'slot': 'N3', 'token': '개념들', 'lu_id': 20303},\n",
       "   {'slot': 'V3', 'token': '없다', 'lu_id': 19543}]},\n",
       " {'id': '615281b0aab10bca18a468e2-2',\n",
       "  'speaker': 2,\n",
       "  'origin_text': '맞아. 사람들이 진짜 개념이없다',\n",
       "  'text': '맞아. 사람들이 진짜 개념이없다',\n",
       "  'types': ['CENSURE'],\n",
       "  'is_immoral': True,\n",
       "  'intensity': 2.0,\n",
       "  'intensity_sum': 10,\n",
       "  'votes': [{'intensity': 'IRRITABLE', 'voter': {'gender': 'MALE', 'age': 20}},\n",
       "   {'intensity': 'IRRITABLE', 'voter': {'gender': 'MALE', 'age': 40}},\n",
       "   {'intensity': 'IRRITABLE', 'voter': {'gender': 'MALE', 'age': 60}},\n",
       "   {'intensity': 'IRRITABLE', 'voter': {'gender': 'MALE', 'age': 50}},\n",
       "   {'intensity': 'IRRITABLE', 'voter': {'gender': 'MALE', 'age': 20}}],\n",
       "  'frame_id': 48328,\n",
       "  'mapped_slots': [{'slot': 'N1', 'token': '사람들', 'lu_id': 28723},\n",
       "   {'slot': 'N2', 'token': '개념', 'lu_id': 4847},\n",
       "   {'slot': 'V1', 'token': '없다', 'lu_id': 19543}]},\n",
       " {'id': '615281b0aab10bca18a468e2-3',\n",
       "  'speaker': 1,\n",
       "  'origin_text': '저렇게는 살지 말아야지',\n",
       "  'text': '저렇게는 살지 말아야지',\n",
       "  'types': ['CENSURE'],\n",
       "  'is_immoral': True,\n",
       "  'intensity': 2.0,\n",
       "  'intensity_sum': 10,\n",
       "  'votes': [{'intensity': 'IRRITABLE', 'voter': {'gender': 'MALE', 'age': 20}},\n",
       "   {'intensity': 'IRRITABLE', 'voter': {'gender': 'MALE', 'age': 40}},\n",
       "   {'intensity': 'IRRITABLE', 'voter': {'gender': 'MALE', 'age': 60}},\n",
       "   {'intensity': 'IRRITABLE', 'voter': {'gender': 'MALE', 'age': 50}},\n",
       "   {'intensity': 'IRRITABLE', 'voter': {'gender': 'MALE', 'age': 20}}],\n",
       "  'frame_id': 48329,\n",
       "  'mapped_slots': [{'slot': 'V1', 'token': '저렇다', 'lu_id': 42435},\n",
       "   {'slot': 'V2', 'token': '살다', 'lu_id': 19481}]},\n",
       " {'id': '615281b0aab10bca18a468e2-4',\n",
       "  'speaker': 2,\n",
       "  'origin_text': '그러게 게으르고 멍청한 사람들은 맞아야해',\n",
       "  'text': '그러게 게으르고 멍청한 사람들은 맞아야해',\n",
       "  'types': ['CENSURE'],\n",
       "  'is_immoral': True,\n",
       "  'intensity': 2.0,\n",
       "  'intensity_sum': 10,\n",
       "  'votes': [{'intensity': 'IRRITABLE', 'voter': {'gender': 'MALE', 'age': 20}},\n",
       "   {'intensity': 'IRRITABLE', 'voter': {'gender': 'MALE', 'age': 40}},\n",
       "   {'intensity': 'IRRITABLE', 'voter': {'gender': 'MALE', 'age': 60}},\n",
       "   {'intensity': 'IRRITABLE', 'voter': {'gender': 'MALE', 'age': 50}},\n",
       "   {'intensity': 'IRRITABLE', 'voter': {'gender': 'MALE', 'age': 20}}],\n",
       "  'frame_id': 48330,\n",
       "  'mapped_slots': [{'slot': 'V1', 'token': '그러하다', 'lu_id': 59326},\n",
       "   {'slot': 'V2', 'token': '게으르다', 'lu_id': 58858},\n",
       "   {'slot': 'V3', 'token': '멍청하다', 'lu_id': 61259},\n",
       "   {'slot': 'N1', 'token': '사람들', 'lu_id': 28723},\n",
       "   {'slot': 'V4', 'token': '맞다', 'lu_id': 19411},\n",
       "   {'slot': 'V5', 'token': '하다', 'lu_id': 19662}]}]"
      ]
     },
     "execution_count": 26,
     "metadata": {},
     "output_type": "execute_result"
    }
   ],
   "source": [
    "json_data[0]['sentences'] # 0 ~ 19688"
   ]
  },
  {
   "cell_type": "markdown",
   "id": "4223abe0",
   "metadata": {},
   "source": [
    "### 1개의 대화문에 총 4개의 문장이 있다."
   ]
  },
  {
   "cell_type": "code",
   "execution_count": 29,
   "id": "a795748a",
   "metadata": {},
   "outputs": [
    {
     "data": {
      "text/plain": [
       "(list, 4)"
      ]
     },
     "execution_count": 29,
     "metadata": {},
     "output_type": "execute_result"
    }
   ],
   "source": [
    "type(json_data[0]['sentences']), len(json_data[0]['sentences'])"
   ]
  },
  {
   "cell_type": "code",
   "execution_count": 45,
   "id": "c5f491ff",
   "metadata": {
    "scrolled": true
   },
   "outputs": [
    {
     "data": {
      "text/plain": [
       "[{'id': '615281b0aab10bca18a468e2-1',\n",
       "  'speaker': 1,\n",
       "  'origin_text': '부랴부랴 왔는데 아무도 안왔네. 시간개념들이 없네',\n",
       "  'text': '부랴부랴 왔는데 아무도 안왔네. 시간개념들이 없네',\n",
       "  'types': ['CENSURE'],\n",
       "  'is_immoral': True,\n",
       "  'intensity': 2.0,\n",
       "  'intensity_sum': 10,\n",
       "  'votes': [{'intensity': 'IRRITABLE', 'voter': {'gender': 'MALE', 'age': 20}},\n",
       "   {'intensity': 'IRRITABLE', 'voter': {'gender': 'MALE', 'age': 40}},\n",
       "   {'intensity': 'IRRITABLE', 'voter': {'gender': 'MALE', 'age': 60}},\n",
       "   {'intensity': 'IRRITABLE', 'voter': {'gender': 'MALE', 'age': 50}},\n",
       "   {'intensity': 'IRRITABLE', 'voter': {'gender': 'MALE', 'age': 20}}],\n",
       "  'frame_id': 48327,\n",
       "  'mapped_slots': [{'slot': 'V1', 'token': '오다', 'lu_id': 19549},\n",
       "   {'slot': 'N1', 'token': '아무', 'lu_id': 12468},\n",
       "   {'slot': 'V2', 'token': '안오다', 'lu_id': 42059},\n",
       "   {'slot': 'N2', 'token': '시간', 'lu_id': 11939},\n",
       "   {'slot': 'N3', 'token': '개념들', 'lu_id': 20303},\n",
       "   {'slot': 'V3', 'token': '없다', 'lu_id': 19543}]},\n",
       " {'id': '615281b0aab10bca18a468e2-2',\n",
       "  'speaker': 2,\n",
       "  'origin_text': '맞아. 사람들이 진짜 개념이없다',\n",
       "  'text': '맞아. 사람들이 진짜 개념이없다',\n",
       "  'types': ['CENSURE'],\n",
       "  'is_immoral': True,\n",
       "  'intensity': 2.0,\n",
       "  'intensity_sum': 10,\n",
       "  'votes': [{'intensity': 'IRRITABLE', 'voter': {'gender': 'MALE', 'age': 20}},\n",
       "   {'intensity': 'IRRITABLE', 'voter': {'gender': 'MALE', 'age': 40}},\n",
       "   {'intensity': 'IRRITABLE', 'voter': {'gender': 'MALE', 'age': 60}},\n",
       "   {'intensity': 'IRRITABLE', 'voter': {'gender': 'MALE', 'age': 50}},\n",
       "   {'intensity': 'IRRITABLE', 'voter': {'gender': 'MALE', 'age': 20}}],\n",
       "  'frame_id': 48328,\n",
       "  'mapped_slots': [{'slot': 'N1', 'token': '사람들', 'lu_id': 28723},\n",
       "   {'slot': 'N2', 'token': '개념', 'lu_id': 4847},\n",
       "   {'slot': 'V1', 'token': '없다', 'lu_id': 19543}]},\n",
       " {'id': '615281b0aab10bca18a468e2-3',\n",
       "  'speaker': 1,\n",
       "  'origin_text': '저렇게는 살지 말아야지',\n",
       "  'text': '저렇게는 살지 말아야지',\n",
       "  'types': ['CENSURE'],\n",
       "  'is_immoral': True,\n",
       "  'intensity': 2.0,\n",
       "  'intensity_sum': 10,\n",
       "  'votes': [{'intensity': 'IRRITABLE', 'voter': {'gender': 'MALE', 'age': 20}},\n",
       "   {'intensity': 'IRRITABLE', 'voter': {'gender': 'MALE', 'age': 40}},\n",
       "   {'intensity': 'IRRITABLE', 'voter': {'gender': 'MALE', 'age': 60}},\n",
       "   {'intensity': 'IRRITABLE', 'voter': {'gender': 'MALE', 'age': 50}},\n",
       "   {'intensity': 'IRRITABLE', 'voter': {'gender': 'MALE', 'age': 20}}],\n",
       "  'frame_id': 48329,\n",
       "  'mapped_slots': [{'slot': 'V1', 'token': '저렇다', 'lu_id': 42435},\n",
       "   {'slot': 'V2', 'token': '살다', 'lu_id': 19481}]},\n",
       " {'id': '615281b0aab10bca18a468e2-4',\n",
       "  'speaker': 2,\n",
       "  'origin_text': '그러게 게으르고 멍청한 사람들은 맞아야해',\n",
       "  'text': '그러게 게으르고 멍청한 사람들은 맞아야해',\n",
       "  'types': ['CENSURE'],\n",
       "  'is_immoral': True,\n",
       "  'intensity': 2.0,\n",
       "  'intensity_sum': 10,\n",
       "  'votes': [{'intensity': 'IRRITABLE', 'voter': {'gender': 'MALE', 'age': 20}},\n",
       "   {'intensity': 'IRRITABLE', 'voter': {'gender': 'MALE', 'age': 40}},\n",
       "   {'intensity': 'IRRITABLE', 'voter': {'gender': 'MALE', 'age': 60}},\n",
       "   {'intensity': 'IRRITABLE', 'voter': {'gender': 'MALE', 'age': 50}},\n",
       "   {'intensity': 'IRRITABLE', 'voter': {'gender': 'MALE', 'age': 20}}],\n",
       "  'frame_id': 48330,\n",
       "  'mapped_slots': [{'slot': 'V1', 'token': '그러하다', 'lu_id': 59326},\n",
       "   {'slot': 'V2', 'token': '게으르다', 'lu_id': 58858},\n",
       "   {'slot': 'V3', 'token': '멍청하다', 'lu_id': 61259},\n",
       "   {'slot': 'N1', 'token': '사람들', 'lu_id': 28723},\n",
       "   {'slot': 'V4', 'token': '맞다', 'lu_id': 19411},\n",
       "   {'slot': 'V5', 'token': '하다', 'lu_id': 19662}]}]"
      ]
     },
     "execution_count": 45,
     "metadata": {},
     "output_type": "execute_result"
    }
   ],
   "source": [
    "json_data[0]['sentences'][:] # 0123"
   ]
  },
  {
   "cell_type": "code",
   "execution_count": 36,
   "id": "d6339c86",
   "metadata": {},
   "outputs": [
    {
     "data": {
      "text/plain": [
       "dict_keys(['id', 'speaker', 'origin_text', 'text', 'types', 'is_immoral', 'intensity', 'intensity_sum', 'votes', 'frame_id', 'mapped_slots'])"
      ]
     },
     "execution_count": 36,
     "metadata": {},
     "output_type": "execute_result"
    }
   ],
   "source": [
    "json_data[0]['sentences'][0].keys()"
   ]
  },
  {
   "cell_type": "code",
   "execution_count": 37,
   "id": "d1359339",
   "metadata": {},
   "outputs": [
    {
     "data": {
      "text/plain": [
       "'부랴부랴 왔는데 아무도 안왔네. 시간개념들이 없네'"
      ]
     },
     "execution_count": 37,
     "metadata": {},
     "output_type": "execute_result"
    }
   ],
   "source": [
    "json_data[0]['sentences'][0]['text']"
   ]
  },
  {
   "cell_type": "code",
   "execution_count": 38,
   "id": "243b82f8",
   "metadata": {},
   "outputs": [
    {
     "data": {
      "text/plain": [
       "2.0"
      ]
     },
     "execution_count": 38,
     "metadata": {},
     "output_type": "execute_result"
    }
   ],
   "source": [
    "json_data[0]['sentences'][0]['intensity']\n",
    "\n",
    "# 대화문 안에 2.0이상이 있는 것만 추출.\n",
    "# 2.0 <= x  "
   ]
  },
  {
   "cell_type": "code",
   "execution_count": 40,
   "id": "b610cca5",
   "metadata": {},
   "outputs": [
    {
     "data": {
      "text/plain": [
       "True"
      ]
     },
     "execution_count": 40,
     "metadata": {},
     "output_type": "execute_result"
    }
   ],
   "source": [
    "json_data[0]['sentences'][0]['is_immoral']"
   ]
  },
  {
   "cell_type": "code",
   "execution_count": 41,
   "id": "5fb26361",
   "metadata": {},
   "outputs": [
    {
     "data": {
      "text/plain": [
       "['CENSURE']"
      ]
     },
     "execution_count": 41,
     "metadata": {},
     "output_type": "execute_result"
    }
   ],
   "source": [
    "json_data[0]['sentences'][0]['types']"
   ]
  },
  {
   "cell_type": "code",
   "execution_count": null,
   "id": "8ce9c347",
   "metadata": {},
   "outputs": [],
   "source": []
  },
  {
   "cell_type": "markdown",
   "id": "0eb3327c",
   "metadata": {},
   "source": [
    "### text, intensity, is_immoral, types 추출"
   ]
  },
  {
   "cell_type": "code",
   "execution_count": 162,
   "id": "4c995a81",
   "metadata": {},
   "outputs": [],
   "source": [
    "text = []\n",
    "intensity = []\n",
    "is_immoral = []\n",
    "types = []\n",
    "\n",
    "for i in range(len(json_data[0]['sentences'])):\n",
    "    text.append(json_data[0]['sentences'][i]['text'])\n",
    "    intensity.append(json_data[0]['sentences'][i]['intensity'])  # 2.0 <=\n",
    "    is_immoral.append(json_data[0]['sentences'][i]['is_immoral']) # True\n",
    "    types.append(json_data[0]['sentences'][i]['types']) # censure"
   ]
  },
  {
   "cell_type": "code",
   "execution_count": 163,
   "id": "31e38bb9",
   "metadata": {},
   "outputs": [
    {
     "data": {
      "text/plain": [
       "(['부랴부랴 왔는데 아무도 안왔네. 시간개념들이 없네',\n",
       "  '맞아. 사람들이 진짜 개념이없다',\n",
       "  '저렇게는 살지 말아야지',\n",
       "  '그러게 게으르고 멍청한 사람들은 맞아야해'],\n",
       " [2.0, 2.0, 2.0, 2.0],\n",
       " [True, True, True, True],\n",
       " [['CENSURE'], ['CENSURE'], ['CENSURE'], ['CENSURE']])"
      ]
     },
     "execution_count": 163,
     "metadata": {},
     "output_type": "execute_result"
    }
   ],
   "source": [
    "text, intensity, is_immoral, types"
   ]
  },
  {
   "cell_type": "code",
   "execution_count": 164,
   "id": "bdeb958b",
   "metadata": {
    "scrolled": true
   },
   "outputs": [
    {
     "data": {
      "text/plain": [
       "2.0"
      ]
     },
     "execution_count": 164,
     "metadata": {},
     "output_type": "execute_result"
    }
   ],
   "source": [
    "num_intensity = sum(intensity) / len(intensity)\n",
    "num_intensity"
   ]
  },
  {
   "cell_type": "code",
   "execution_count": 165,
   "id": "f5e56cee",
   "metadata": {},
   "outputs": [
    {
     "data": {
      "text/plain": [
       "1.0"
      ]
     },
     "execution_count": 165,
     "metadata": {},
     "output_type": "execute_result"
    }
   ],
   "source": [
    "num_immoral = 0\n",
    "for i in is_immoral:\n",
    "    num_immoral += int(i)\n",
    "    \n",
    "num_immoral /= len(is_immoral)\n",
    "num_immoral"
   ]
  },
  {
   "cell_type": "markdown",
   "id": "337ec7f7",
   "metadata": {},
   "source": [
    "\"\\n\".join(text)  \n",
    "> '부랴부랴 왔는데 아무도 안왔네. 시간개념들이 없네\\n맞아. 사람들이 진짜 개념이없다\\n저렇게는 살지 말아야지\\n그러게 게으르고 멍청한 사람들은 맞아야해'"
   ]
  },
  {
   "cell_type": "markdown",
   "id": "a9fa29e6",
   "metadata": {},
   "source": [
    "\"\\n\".join(np.ndarray.flatten(np.array(types)).tolist())\n",
    "> 'CENSURE\\nCENSURE\\nCENSURE\\nCENSURE'  \n",
    "> str"
   ]
  },
  {
   "cell_type": "code",
   "execution_count": 168,
   "id": "64c26cb9",
   "metadata": {},
   "outputs": [],
   "source": [
    "types = np.ndarray.flatten(np.array(types)).tolist()"
   ]
  },
  {
   "cell_type": "markdown",
   "id": "c7b53a4b",
   "metadata": {},
   "source": [
    "### empty dataframe"
   ]
  },
  {
   "cell_type": "code",
   "execution_count": 169,
   "id": "2777e3a8",
   "metadata": {},
   "outputs": [
    {
     "data": {
      "text/html": [
       "<div>\n",
       "<style scoped>\n",
       "    .dataframe tbody tr th:only-of-type {\n",
       "        vertical-align: middle;\n",
       "    }\n",
       "\n",
       "    .dataframe tbody tr th {\n",
       "        vertical-align: top;\n",
       "    }\n",
       "\n",
       "    .dataframe thead th {\n",
       "        text-align: right;\n",
       "    }\n",
       "</style>\n",
       "<table border=\"1\" class=\"dataframe\">\n",
       "  <thead>\n",
       "    <tr style=\"text-align: right;\">\n",
       "      <th></th>\n",
       "      <th>idx</th>\n",
       "      <th>class</th>\n",
       "      <th>conversation</th>\n",
       "      <th>types</th>\n",
       "      <th>intensity</th>\n",
       "      <th>is_immoral</th>\n",
       "    </tr>\n",
       "  </thead>\n",
       "  <tbody>\n",
       "    <tr>\n",
       "      <th>0</th>\n",
       "      <td>NaN</td>\n",
       "      <td>NaN</td>\n",
       "      <td>NaN</td>\n",
       "      <td>NaN</td>\n",
       "      <td>NaN</td>\n",
       "      <td>NaN</td>\n",
       "    </tr>\n",
       "  </tbody>\n",
       "</table>\n",
       "</div>"
      ],
      "text/plain": [
       "   idx class conversation types intensity is_immoral\n",
       "0  NaN   NaN          NaN   NaN       NaN        NaN"
      ]
     },
     "execution_count": 169,
     "metadata": {},
     "output_type": "execute_result"
    }
   ],
   "source": [
    "df = pd.DataFrame(index=range(1), columns=['idx', 'class','conversation', 'types', 'intensity', 'is_immoral'])\n",
    "df"
   ]
  },
  {
   "cell_type": "code",
   "execution_count": 170,
   "id": "bd89ca0c",
   "metadata": {},
   "outputs": [],
   "source": [
    "df['idx'][0] = 0\n",
    "df['class'][0] = \"위협대화\"\n",
    "df['conversation'][0] = \"\\n\".join(text)\n",
    "df['types'][0] = \"\\n\".join(types)\n",
    "df['intensity'][0] = num_intensity\n",
    "df['is_immoral'][0] = num_immoral"
   ]
  },
  {
   "cell_type": "code",
   "execution_count": 171,
   "id": "cac1a5ac",
   "metadata": {},
   "outputs": [
    {
     "data": {
      "text/html": [
       "<div>\n",
       "<style scoped>\n",
       "    .dataframe tbody tr th:only-of-type {\n",
       "        vertical-align: middle;\n",
       "    }\n",
       "\n",
       "    .dataframe tbody tr th {\n",
       "        vertical-align: top;\n",
       "    }\n",
       "\n",
       "    .dataframe thead th {\n",
       "        text-align: right;\n",
       "    }\n",
       "</style>\n",
       "<table border=\"1\" class=\"dataframe\">\n",
       "  <thead>\n",
       "    <tr style=\"text-align: right;\">\n",
       "      <th></th>\n",
       "      <th>idx</th>\n",
       "      <th>class</th>\n",
       "      <th>conversation</th>\n",
       "      <th>types</th>\n",
       "      <th>intensity</th>\n",
       "      <th>is_immoral</th>\n",
       "    </tr>\n",
       "  </thead>\n",
       "  <tbody>\n",
       "    <tr>\n",
       "      <th>0</th>\n",
       "      <td>0</td>\n",
       "      <td>위협대화</td>\n",
       "      <td>부랴부랴 왔는데 아무도 안왔네. 시간개념들이 없네\\n맞아. 사람들이 진짜 개념이없다...</td>\n",
       "      <td>CENSURE\\nCENSURE\\nCENSURE\\nCENSURE</td>\n",
       "      <td>2.0</td>\n",
       "      <td>1.0</td>\n",
       "    </tr>\n",
       "  </tbody>\n",
       "</table>\n",
       "</div>"
      ],
      "text/plain": [
       "  idx class                                       conversation  \\\n",
       "0   0  위협대화  부랴부랴 왔는데 아무도 안왔네. 시간개념들이 없네\\n맞아. 사람들이 진짜 개념이없다...   \n",
       "\n",
       "                                types intensity is_immoral  \n",
       "0  CENSURE\\nCENSURE\\nCENSURE\\nCENSURE       2.0        1.0  "
      ]
     },
     "execution_count": 171,
     "metadata": {},
     "output_type": "execute_result"
    }
   ],
   "source": [
    "df"
   ]
  },
  {
   "cell_type": "markdown",
   "id": "a93d7824",
   "metadata": {},
   "source": [
    "---\n",
    "\n",
    "### test 성공이넹"
   ]
  },
  {
   "cell_type": "code",
   "execution_count": 174,
   "id": "5d5fe457",
   "metadata": {},
   "outputs": [
    {
     "data": {
      "text/html": [
       "<div>\n",
       "<style scoped>\n",
       "    .dataframe tbody tr th:only-of-type {\n",
       "        vertical-align: middle;\n",
       "    }\n",
       "\n",
       "    .dataframe tbody tr th {\n",
       "        vertical-align: top;\n",
       "    }\n",
       "\n",
       "    .dataframe thead th {\n",
       "        text-align: right;\n",
       "    }\n",
       "</style>\n",
       "<table border=\"1\" class=\"dataframe\">\n",
       "  <thead>\n",
       "    <tr style=\"text-align: right;\">\n",
       "      <th></th>\n",
       "      <th>idx</th>\n",
       "      <th>class</th>\n",
       "      <th>conversation</th>\n",
       "      <th>types</th>\n",
       "      <th>intensity</th>\n",
       "      <th>is_immoral</th>\n",
       "    </tr>\n",
       "  </thead>\n",
       "  <tbody>\n",
       "    <tr>\n",
       "      <th>0</th>\n",
       "      <td>0</td>\n",
       "      <td>위협대화</td>\n",
       "      <td>부랴부랴 왔는데 아무도 안왔네. 시간개념들이 없네\\n맞아. 사람들이 진짜 개념이없다...</td>\n",
       "      <td>CENSURE\\nCENSURE\\nCENSURE\\nCENSURE</td>\n",
       "      <td>2.0</td>\n",
       "      <td>1.0</td>\n",
       "    </tr>\n",
       "  </tbody>\n",
       "</table>\n",
       "</div>"
      ],
      "text/plain": [
       "  idx class                                       conversation  \\\n",
       "0   0  위협대화  부랴부랴 왔는데 아무도 안왔네. 시간개념들이 없네\\n맞아. 사람들이 진짜 개념이없다...   \n",
       "\n",
       "                                types intensity is_immoral  \n",
       "0  CENSURE\\nCENSURE\\nCENSURE\\nCENSURE       2.0        1.0  "
      ]
     },
     "execution_count": 174,
     "metadata": {},
     "output_type": "execute_result"
    }
   ],
   "source": [
    "df[df['types'].str.contains(\"CENSURE\")]"
   ]
  },
  {
   "cell_type": "code",
   "execution_count": 175,
   "id": "8e8faf4b",
   "metadata": {},
   "outputs": [
    {
     "data": {
      "text/html": [
       "<div>\n",
       "<style scoped>\n",
       "    .dataframe tbody tr th:only-of-type {\n",
       "        vertical-align: middle;\n",
       "    }\n",
       "\n",
       "    .dataframe tbody tr th {\n",
       "        vertical-align: top;\n",
       "    }\n",
       "\n",
       "    .dataframe thead th {\n",
       "        text-align: right;\n",
       "    }\n",
       "</style>\n",
       "<table border=\"1\" class=\"dataframe\">\n",
       "  <thead>\n",
       "    <tr style=\"text-align: right;\">\n",
       "      <th></th>\n",
       "      <th>idx</th>\n",
       "      <th>class</th>\n",
       "      <th>conversation</th>\n",
       "      <th>types</th>\n",
       "      <th>intensity</th>\n",
       "      <th>is_immoral</th>\n",
       "    </tr>\n",
       "  </thead>\n",
       "  <tbody>\n",
       "    <tr>\n",
       "      <th>0</th>\n",
       "      <td>0</td>\n",
       "      <td>위협대화</td>\n",
       "      <td>부랴부랴 왔는데 아무도 안왔네. 시간개념들이 없네\\n맞아. 사람들이 진짜 개념이없다...</td>\n",
       "      <td>CENSURE\\nCENSURE\\nCENSURE\\nCENSURE</td>\n",
       "      <td>2.0</td>\n",
       "      <td>1.0</td>\n",
       "    </tr>\n",
       "  </tbody>\n",
       "</table>\n",
       "</div>"
      ],
      "text/plain": [
       "  idx class                                       conversation  \\\n",
       "0   0  위협대화  부랴부랴 왔는데 아무도 안왔네. 시간개념들이 없네\\n맞아. 사람들이 진짜 개념이없다...   \n",
       "\n",
       "                                types intensity is_immoral  \n",
       "0  CENSURE\\nCENSURE\\nCENSURE\\nCENSURE       2.0        1.0  "
      ]
     },
     "execution_count": 175,
     "metadata": {},
     "output_type": "execute_result"
    }
   ],
   "source": [
    "df[df['intensity'] >= 2.0]"
   ]
  },
  {
   "cell_type": "code",
   "execution_count": 176,
   "id": "2bd7b4b6",
   "metadata": {},
   "outputs": [
    {
     "data": {
      "text/html": [
       "<div>\n",
       "<style scoped>\n",
       "    .dataframe tbody tr th:only-of-type {\n",
       "        vertical-align: middle;\n",
       "    }\n",
       "\n",
       "    .dataframe tbody tr th {\n",
       "        vertical-align: top;\n",
       "    }\n",
       "\n",
       "    .dataframe thead th {\n",
       "        text-align: right;\n",
       "    }\n",
       "</style>\n",
       "<table border=\"1\" class=\"dataframe\">\n",
       "  <thead>\n",
       "    <tr style=\"text-align: right;\">\n",
       "      <th></th>\n",
       "      <th>idx</th>\n",
       "      <th>class</th>\n",
       "      <th>conversation</th>\n",
       "      <th>types</th>\n",
       "      <th>intensity</th>\n",
       "      <th>is_immoral</th>\n",
       "    </tr>\n",
       "  </thead>\n",
       "  <tbody>\n",
       "    <tr>\n",
       "      <th>0</th>\n",
       "      <td>0</td>\n",
       "      <td>위협대화</td>\n",
       "      <td>부랴부랴 왔는데 아무도 안왔네. 시간개념들이 없네\\n맞아. 사람들이 진짜 개념이없다...</td>\n",
       "      <td>CENSURE\\nCENSURE\\nCENSURE\\nCENSURE</td>\n",
       "      <td>2.0</td>\n",
       "      <td>1.0</td>\n",
       "    </tr>\n",
       "  </tbody>\n",
       "</table>\n",
       "</div>"
      ],
      "text/plain": [
       "  idx class                                       conversation  \\\n",
       "0   0  위협대화  부랴부랴 왔는데 아무도 안왔네. 시간개념들이 없네\\n맞아. 사람들이 진짜 개념이없다...   \n",
       "\n",
       "                                types intensity is_immoral  \n",
       "0  CENSURE\\nCENSURE\\nCENSURE\\nCENSURE       2.0        1.0  "
      ]
     },
     "execution_count": 176,
     "metadata": {},
     "output_type": "execute_result"
    }
   ],
   "source": [
    "df[df['is_immoral'] >= .1]"
   ]
  },
  {
   "cell_type": "markdown",
   "id": "5e131b63",
   "metadata": {},
   "source": [
    "---\n",
    "---"
   ]
  },
  {
   "cell_type": "code",
   "execution_count": 180,
   "id": "a33c2e97",
   "metadata": {},
   "outputs": [
    {
     "data": {
      "text/plain": [
       "{'id': '616ace499cbb21a30433958b',\n",
       " 'sentences': [{'id': '616ace499cbb21a30433958b-1',\n",
       "   'speaker': 1,\n",
       "   'origin_text': '엄친아들 다 없애버리고 싶다',\n",
       "   'text': '엄친아들 다 없애버리고 싶다',\n",
       "   'types': ['CENSURE', 'HATE'],\n",
       "   'is_immoral': True,\n",
       "   'intensity': 1.6,\n",
       "   'intensity_sum': 8,\n",
       "   'votes': [{'intensity': 'IRRITABLE',\n",
       "     'voter': {'gender': 'MALE', 'age': 20}},\n",
       "    {'intensity': 'UNPLEASANT', 'voter': {'gender': 'FEMALE', 'age': 30}},\n",
       "    {'intensity': 'IRRITABLE', 'voter': {'gender': 'MALE', 'age': 40}},\n",
       "    {'intensity': 'UNPLEASANT', 'voter': {'gender': 'FEMALE', 'age': 50}},\n",
       "    {'intensity': 'IRRITABLE', 'voter': {'gender': 'FEMALE', 'age': 30}}],\n",
       "   'frame_id': 132424,\n",
       "   'mapped_slots': [{'slot': 'N1', 'token': '엄친아들', 'lu_id': 52026},\n",
       "    {'slot': 'V1', 'token': '없애다', 'lu_id': 42184},\n",
       "    {'slot': 'V2', 'token': '버리다', 'lu_id': 41485}]},\n",
       "  {'id': '616ace499cbb21a30433958b-2',\n",
       "   'speaker': 2,\n",
       "   'origin_text': '왜그래.. 너도 누군가에겐 엄친아라고',\n",
       "   'text': '왜그래.. 너도 누군가에겐 엄친아라고',\n",
       "   'types': ['IMMORAL_NONE'],\n",
       "   'is_immoral': False,\n",
       "   'intensity': 0,\n",
       "   'intensity_sum': 0,\n",
       "   'votes': None,\n",
       "   'frame_id': 0,\n",
       "   'mapped_slots': []},\n",
       "  {'id': '616ace499cbb21a30433958b-3',\n",
       "   'speaker': 1,\n",
       "   'origin_text': '나 같은 걸 누가 엄친아라고 생각하겠니',\n",
       "   'text': '나 같은 걸 누가 엄친아라고 생각하겠니',\n",
       "   'types': ['HATE'],\n",
       "   'is_immoral': True,\n",
       "   'intensity': 1.0,\n",
       "   'intensity_sum': 5,\n",
       "   'votes': [{'intensity': 'UNPLEASANT',\n",
       "     'voter': {'gender': 'MALE', 'age': 20}},\n",
       "    {'intensity': 'UNPLEASANT', 'voter': {'gender': 'FEMALE', 'age': 30}},\n",
       "    {'intensity': 'UNPLEASANT', 'voter': {'gender': 'MALE', 'age': 40}},\n",
       "    {'intensity': 'UNPLEASANT', 'voter': {'gender': 'FEMALE', 'age': 50}},\n",
       "    {'intensity': 'UNPLEASANT', 'voter': {'gender': 'FEMALE', 'age': 30}}],\n",
       "   'frame_id': 132425,\n",
       "   'mapped_slots': [{'slot': 'N1', 'token': '나', 'lu_id': 3559},\n",
       "    {'slot': 'V1', 'token': '같다', 'lu_id': 19273},\n",
       "    {'slot': 'N2', 'token': '거', 'lu_id': 3469},\n",
       "    {'slot': 'N3', 'token': '누구', 'lu_id': 7026},\n",
       "    {'slot': 'N4', 'token': '엄친아', 'lu_id': 32030},\n",
       "    {'slot': 'V2', 'token': '생각하다', 'lu_id': 62953}]}]}"
      ]
     },
     "execution_count": 180,
     "metadata": {},
     "output_type": "execute_result"
    }
   ],
   "source": [
    "json_data[-1]"
   ]
  },
  {
   "cell_type": "code",
   "execution_count": 177,
   "id": "1b9ff357",
   "metadata": {},
   "outputs": [
    {
     "data": {
      "text/plain": [
       "19689"
      ]
     },
     "execution_count": 177,
     "metadata": {},
     "output_type": "execute_result"
    }
   ],
   "source": [
    "len(json_data)"
   ]
  },
  {
   "cell_type": "code",
   "execution_count": 206,
   "id": "3d5f8c87",
   "metadata": {},
   "outputs": [],
   "source": [
    "df = pd.DataFrame(index=range(0, len(json_data)), columns=['idx', 'class','conversation', 'types', 'intensity', 'is_immoral'])"
   ]
  },
  {
   "cell_type": "code",
   "execution_count": 207,
   "id": "d3f4100b",
   "metadata": {},
   "outputs": [
    {
     "data": {
      "text/html": [
       "<div>\n",
       "<style scoped>\n",
       "    .dataframe tbody tr th:only-of-type {\n",
       "        vertical-align: middle;\n",
       "    }\n",
       "\n",
       "    .dataframe tbody tr th {\n",
       "        vertical-align: top;\n",
       "    }\n",
       "\n",
       "    .dataframe thead th {\n",
       "        text-align: right;\n",
       "    }\n",
       "</style>\n",
       "<table border=\"1\" class=\"dataframe\">\n",
       "  <thead>\n",
       "    <tr style=\"text-align: right;\">\n",
       "      <th></th>\n",
       "      <th>idx</th>\n",
       "      <th>class</th>\n",
       "      <th>conversation</th>\n",
       "      <th>types</th>\n",
       "      <th>intensity</th>\n",
       "      <th>is_immoral</th>\n",
       "    </tr>\n",
       "  </thead>\n",
       "  <tbody>\n",
       "    <tr>\n",
       "      <th>0</th>\n",
       "      <td>NaN</td>\n",
       "      <td>NaN</td>\n",
       "      <td>NaN</td>\n",
       "      <td>NaN</td>\n",
       "      <td>NaN</td>\n",
       "      <td>NaN</td>\n",
       "    </tr>\n",
       "    <tr>\n",
       "      <th>1</th>\n",
       "      <td>NaN</td>\n",
       "      <td>NaN</td>\n",
       "      <td>NaN</td>\n",
       "      <td>NaN</td>\n",
       "      <td>NaN</td>\n",
       "      <td>NaN</td>\n",
       "    </tr>\n",
       "    <tr>\n",
       "      <th>2</th>\n",
       "      <td>NaN</td>\n",
       "      <td>NaN</td>\n",
       "      <td>NaN</td>\n",
       "      <td>NaN</td>\n",
       "      <td>NaN</td>\n",
       "      <td>NaN</td>\n",
       "    </tr>\n",
       "    <tr>\n",
       "      <th>3</th>\n",
       "      <td>NaN</td>\n",
       "      <td>NaN</td>\n",
       "      <td>NaN</td>\n",
       "      <td>NaN</td>\n",
       "      <td>NaN</td>\n",
       "      <td>NaN</td>\n",
       "    </tr>\n",
       "    <tr>\n",
       "      <th>4</th>\n",
       "      <td>NaN</td>\n",
       "      <td>NaN</td>\n",
       "      <td>NaN</td>\n",
       "      <td>NaN</td>\n",
       "      <td>NaN</td>\n",
       "      <td>NaN</td>\n",
       "    </tr>\n",
       "    <tr>\n",
       "      <th>...</th>\n",
       "      <td>...</td>\n",
       "      <td>...</td>\n",
       "      <td>...</td>\n",
       "      <td>...</td>\n",
       "      <td>...</td>\n",
       "      <td>...</td>\n",
       "    </tr>\n",
       "    <tr>\n",
       "      <th>19684</th>\n",
       "      <td>NaN</td>\n",
       "      <td>NaN</td>\n",
       "      <td>NaN</td>\n",
       "      <td>NaN</td>\n",
       "      <td>NaN</td>\n",
       "      <td>NaN</td>\n",
       "    </tr>\n",
       "    <tr>\n",
       "      <th>19685</th>\n",
       "      <td>NaN</td>\n",
       "      <td>NaN</td>\n",
       "      <td>NaN</td>\n",
       "      <td>NaN</td>\n",
       "      <td>NaN</td>\n",
       "      <td>NaN</td>\n",
       "    </tr>\n",
       "    <tr>\n",
       "      <th>19686</th>\n",
       "      <td>NaN</td>\n",
       "      <td>NaN</td>\n",
       "      <td>NaN</td>\n",
       "      <td>NaN</td>\n",
       "      <td>NaN</td>\n",
       "      <td>NaN</td>\n",
       "    </tr>\n",
       "    <tr>\n",
       "      <th>19687</th>\n",
       "      <td>NaN</td>\n",
       "      <td>NaN</td>\n",
       "      <td>NaN</td>\n",
       "      <td>NaN</td>\n",
       "      <td>NaN</td>\n",
       "      <td>NaN</td>\n",
       "    </tr>\n",
       "    <tr>\n",
       "      <th>19688</th>\n",
       "      <td>NaN</td>\n",
       "      <td>NaN</td>\n",
       "      <td>NaN</td>\n",
       "      <td>NaN</td>\n",
       "      <td>NaN</td>\n",
       "      <td>NaN</td>\n",
       "    </tr>\n",
       "  </tbody>\n",
       "</table>\n",
       "<p>19689 rows × 6 columns</p>\n",
       "</div>"
      ],
      "text/plain": [
       "       idx class conversation types intensity is_immoral\n",
       "0      NaN   NaN          NaN   NaN       NaN        NaN\n",
       "1      NaN   NaN          NaN   NaN       NaN        NaN\n",
       "2      NaN   NaN          NaN   NaN       NaN        NaN\n",
       "3      NaN   NaN          NaN   NaN       NaN        NaN\n",
       "4      NaN   NaN          NaN   NaN       NaN        NaN\n",
       "...    ...   ...          ...   ...       ...        ...\n",
       "19684  NaN   NaN          NaN   NaN       NaN        NaN\n",
       "19685  NaN   NaN          NaN   NaN       NaN        NaN\n",
       "19686  NaN   NaN          NaN   NaN       NaN        NaN\n",
       "19687  NaN   NaN          NaN   NaN       NaN        NaN\n",
       "19688  NaN   NaN          NaN   NaN       NaN        NaN\n",
       "\n",
       "[19689 rows x 6 columns]"
      ]
     },
     "execution_count": 207,
     "metadata": {},
     "output_type": "execute_result"
    }
   ],
   "source": [
    "df"
   ]
  },
  {
   "cell_type": "code",
   "execution_count": 208,
   "id": "c2e27f74",
   "metadata": {},
   "outputs": [
    {
     "name": "stderr",
     "output_type": "stream",
     "text": [
      "100%|██████████| 19689/19689 [00:17<00:00, 1101.59it/s]\n"
     ]
    }
   ],
   "source": [
    "for i in tqdm(range(len(json_data))):\n",
    "    text = []\n",
    "    intensity = []\n",
    "    is_immoral = []\n",
    "    types = []\n",
    "    for j in range(len(json_data[i]['sentences'])):\n",
    "        text.append(json_data[i]['sentences'][j]['text'])\n",
    "        intensity.append(json_data[i]['sentences'][j]['intensity'])  # 2.0 <=\n",
    "        is_immoral.append(json_data[i]['sentences'][j]['is_immoral']) # True\n",
    "        types += json_data[i]['sentences'][j]['types'] # censure\n",
    "    \n",
    "    # 타입을 평탄화 및 리스트 형태로 변경\n",
    "    types = np.ndarray.flatten(np.array(types)).tolist()\n",
    "    \n",
    "    # 점수를 평균화 시킨당\n",
    "    num_intensity = sum(intensity) / len(intensity)\n",
    "\n",
    "    # blooean을 숫자로 바꾼당\n",
    "    num_immoral = 0\n",
    "    for k in is_immoral: \n",
    "        num_immoral += int(k)\n",
    "    num_immoral /= len(is_immoral)\n",
    "    \n",
    "#     print(types)\n",
    "    \n",
    "    # dataframe 에 넣기\n",
    "    df['idx'][i] = i\n",
    "    df['class'][i] = \"위협대화\"\n",
    "    df['conversation'][i] = \"\\n\".join(text)\n",
    "    df['types'][i] = \"\\n\".join(types)\n",
    "    df['intensity'][i] = num_intensity\n",
    "    df['is_immoral'][i] = num_immoral"
   ]
  },
  {
   "cell_type": "code",
   "execution_count": 209,
   "id": "eeceb58d",
   "metadata": {},
   "outputs": [
    {
     "data": {
      "text/html": [
       "<div>\n",
       "<style scoped>\n",
       "    .dataframe tbody tr th:only-of-type {\n",
       "        vertical-align: middle;\n",
       "    }\n",
       "\n",
       "    .dataframe tbody tr th {\n",
       "        vertical-align: top;\n",
       "    }\n",
       "\n",
       "    .dataframe thead th {\n",
       "        text-align: right;\n",
       "    }\n",
       "</style>\n",
       "<table border=\"1\" class=\"dataframe\">\n",
       "  <thead>\n",
       "    <tr style=\"text-align: right;\">\n",
       "      <th></th>\n",
       "      <th>idx</th>\n",
       "      <th>class</th>\n",
       "      <th>conversation</th>\n",
       "      <th>types</th>\n",
       "      <th>intensity</th>\n",
       "      <th>is_immoral</th>\n",
       "    </tr>\n",
       "  </thead>\n",
       "  <tbody>\n",
       "    <tr>\n",
       "      <th>0</th>\n",
       "      <td>0</td>\n",
       "      <td>위협대화</td>\n",
       "      <td>부랴부랴 왔는데 아무도 안왔네. 시간개념들이 없네\\n맞아. 사람들이 진짜 개념이없다...</td>\n",
       "      <td>CENSURE\\nCENSURE\\nCENSURE\\nCENSURE</td>\n",
       "      <td>2.0</td>\n",
       "      <td>1.0</td>\n",
       "    </tr>\n",
       "    <tr>\n",
       "      <th>1</th>\n",
       "      <td>1</td>\n",
       "      <td>위협대화</td>\n",
       "      <td>인방 보는 남자는 거르는게 맞다\\n특히 벗방보는 애들은 진짜 거세 시켜야함\\n볼 게...</td>\n",
       "      <td>CENSURE\\nHATE\\nCENSURE\\nSEXUAL\\nCENSURE\\nSEXUA...</td>\n",
       "      <td>1.5</td>\n",
       "      <td>1.0</td>\n",
       "    </tr>\n",
       "    <tr>\n",
       "      <th>2</th>\n",
       "      <td>2</td>\n",
       "      <td>위협대화</td>\n",
       "      <td>댓글에 빠순이들 몰려와서 즈그 주인님 쉴드치는 꼴 좀 봐\\n이래서 인방충~ 인방충~...</td>\n",
       "      <td>HATE\\nCENSURE\\nHATE\\nCENSURE\\nIMMORAL_NONE</td>\n",
       "      <td>1.333333</td>\n",
       "      <td>0.666667</td>\n",
       "    </tr>\n",
       "    <tr>\n",
       "      <th>3</th>\n",
       "      <td>3</td>\n",
       "      <td>위협대화</td>\n",
       "      <td>에로배우들을 데려다가 아이돌을 만드네\\n쟤네들은 표정이 딱 야동인데..</td>\n",
       "      <td>CENSURE\\nSEXUAL\\nCENSURE\\nSEXUAL</td>\n",
       "      <td>2.0</td>\n",
       "      <td>1.0</td>\n",
       "    </tr>\n",
       "    <tr>\n",
       "      <th>4</th>\n",
       "      <td>4</td>\n",
       "      <td>위협대화</td>\n",
       "      <td>솔직히 여자 48kg이상은 나가 디져야 하는 거 아님\\n그렇게 따지면 남자 170c...</td>\n",
       "      <td>HATE\\nCENSURE\\nCENSURE\\nCENSURE</td>\n",
       "      <td>1.333333</td>\n",
       "      <td>1.0</td>\n",
       "    </tr>\n",
       "    <tr>\n",
       "      <th>...</th>\n",
       "      <td>...</td>\n",
       "      <td>...</td>\n",
       "      <td>...</td>\n",
       "      <td>...</td>\n",
       "      <td>...</td>\n",
       "      <td>...</td>\n",
       "    </tr>\n",
       "    <tr>\n",
       "      <th>19684</th>\n",
       "      <td>19684</td>\n",
       "      <td>위협대화</td>\n",
       "      <td>너네 아기 좋아하는 편이야?\\n응 나는 아기 너무너무 좋아해\\n다들 정말 귀엽고, ...</td>\n",
       "      <td>IMMORAL_NONE\\nIMMORAL_NONE\\nIMMORAL_NONE\\nVIOL...</td>\n",
       "      <td>0.566667</td>\n",
       "      <td>0.333333</td>\n",
       "    </tr>\n",
       "    <tr>\n",
       "      <th>19685</th>\n",
       "      <td>19685</td>\n",
       "      <td>위협대화</td>\n",
       "      <td>나 남자친구랑 엄청 사이 좋은데 헤어지고 싶어\\n앞뒤의 말이 너무 다른 거 아니야?...</td>\n",
       "      <td>IMMORAL_NONE\\nIMMORAL_NONE\\nIMMORAL_NONE\\nIMMO...</td>\n",
       "      <td>0.266667</td>\n",
       "      <td>0.166667</td>\n",
       "    </tr>\n",
       "    <tr>\n",
       "      <th>19686</th>\n",
       "      <td>19686</td>\n",
       "      <td>위협대화</td>\n",
       "      <td>난 걔 다리 벌어질 때 보면 진심 꼴리더라.\\n종아리 너무 짧아서 비율 극혐이던데....</td>\n",
       "      <td>SEXUAL\\nCENSURE\\nSEXUAL</td>\n",
       "      <td>1.8</td>\n",
       "      <td>1.0</td>\n",
       "    </tr>\n",
       "    <tr>\n",
       "      <th>19687</th>\n",
       "      <td>19687</td>\n",
       "      <td>위협대화</td>\n",
       "      <td>앰생이 같은 게 같이 다녀줬더니 내가 니 친구로 보이냐?\\n누가 누굴 데리고 다녀 ...</td>\n",
       "      <td>CENSURE\\nABUSE\\nCENSURE\\nVIOLENCE</td>\n",
       "      <td>1.866667</td>\n",
       "      <td>1.0</td>\n",
       "    </tr>\n",
       "    <tr>\n",
       "      <th>19688</th>\n",
       "      <td>19688</td>\n",
       "      <td>위협대화</td>\n",
       "      <td>엄친아들 다 없애버리고 싶다\\n왜그래.. 너도 누군가에겐 엄친아라고\\n나 같은 걸 ...</td>\n",
       "      <td>CENSURE\\nHATE\\nIMMORAL_NONE\\nHATE</td>\n",
       "      <td>0.866667</td>\n",
       "      <td>0.666667</td>\n",
       "    </tr>\n",
       "  </tbody>\n",
       "</table>\n",
       "<p>19689 rows × 6 columns</p>\n",
       "</div>"
      ],
      "text/plain": [
       "         idx class                                       conversation  \\\n",
       "0          0  위협대화  부랴부랴 왔는데 아무도 안왔네. 시간개념들이 없네\\n맞아. 사람들이 진짜 개념이없다...   \n",
       "1          1  위협대화  인방 보는 남자는 거르는게 맞다\\n특히 벗방보는 애들은 진짜 거세 시켜야함\\n볼 게...   \n",
       "2          2  위협대화  댓글에 빠순이들 몰려와서 즈그 주인님 쉴드치는 꼴 좀 봐\\n이래서 인방충~ 인방충~...   \n",
       "3          3  위협대화            에로배우들을 데려다가 아이돌을 만드네\\n쟤네들은 표정이 딱 야동인데..   \n",
       "4          4  위협대화  솔직히 여자 48kg이상은 나가 디져야 하는 거 아님\\n그렇게 따지면 남자 170c...   \n",
       "...      ...   ...                                                ...   \n",
       "19684  19684  위협대화  너네 아기 좋아하는 편이야?\\n응 나는 아기 너무너무 좋아해\\n다들 정말 귀엽고, ...   \n",
       "19685  19685  위협대화  나 남자친구랑 엄청 사이 좋은데 헤어지고 싶어\\n앞뒤의 말이 너무 다른 거 아니야?...   \n",
       "19686  19686  위협대화  난 걔 다리 벌어질 때 보면 진심 꼴리더라.\\n종아리 너무 짧아서 비율 극혐이던데....   \n",
       "19687  19687  위협대화  앰생이 같은 게 같이 다녀줬더니 내가 니 친구로 보이냐?\\n누가 누굴 데리고 다녀 ...   \n",
       "19688  19688  위협대화  엄친아들 다 없애버리고 싶다\\n왜그래.. 너도 누군가에겐 엄친아라고\\n나 같은 걸 ...   \n",
       "\n",
       "                                                   types intensity is_immoral  \n",
       "0                     CENSURE\\nCENSURE\\nCENSURE\\nCENSURE       2.0        1.0  \n",
       "1      CENSURE\\nHATE\\nCENSURE\\nSEXUAL\\nCENSURE\\nSEXUA...       1.5        1.0  \n",
       "2             HATE\\nCENSURE\\nHATE\\nCENSURE\\nIMMORAL_NONE  1.333333   0.666667  \n",
       "3                       CENSURE\\nSEXUAL\\nCENSURE\\nSEXUAL       2.0        1.0  \n",
       "4                        HATE\\nCENSURE\\nCENSURE\\nCENSURE  1.333333        1.0  \n",
       "...                                                  ...       ...        ...  \n",
       "19684  IMMORAL_NONE\\nIMMORAL_NONE\\nIMMORAL_NONE\\nVIOL...  0.566667   0.333333  \n",
       "19685  IMMORAL_NONE\\nIMMORAL_NONE\\nIMMORAL_NONE\\nIMMO...  0.266667   0.166667  \n",
       "19686                            SEXUAL\\nCENSURE\\nSEXUAL       1.8        1.0  \n",
       "19687                  CENSURE\\nABUSE\\nCENSURE\\nVIOLENCE  1.866667        1.0  \n",
       "19688                  CENSURE\\nHATE\\nIMMORAL_NONE\\nHATE  0.866667   0.666667  \n",
       "\n",
       "[19689 rows x 6 columns]"
      ]
     },
     "execution_count": 209,
     "metadata": {},
     "output_type": "execute_result"
    }
   ],
   "source": [
    "df"
   ]
  },
  {
   "cell_type": "code",
   "execution_count": 234,
   "id": "91e72b11",
   "metadata": {},
   "outputs": [],
   "source": [
    "df_copy = df.copy()"
   ]
  },
  {
   "cell_type": "code",
   "execution_count": 226,
   "id": "43b1c298",
   "metadata": {},
   "outputs": [],
   "source": [
    "df_copy['class'][19689] = \"위협대화\""
   ]
  },
  {
   "cell_type": "code",
   "execution_count": 210,
   "id": "372bc75b",
   "metadata": {},
   "outputs": [
    {
     "data": {
      "text/plain": [
       "'immoral_json_talksets'"
      ]
     },
     "execution_count": 210,
     "metadata": {},
     "output_type": "execute_result"
    }
   ],
   "source": [
    "path"
   ]
  },
  {
   "cell_type": "code",
   "execution_count": 211,
   "id": "71c52c58",
   "metadata": {},
   "outputs": [
    {
     "data": {
      "text/plain": [
       "['talksets-train-2.json',\n",
       " 'talksets-train-5.json',\n",
       " 'talksets-train-1_aihub.json',\n",
       " 'talksets-train-4.json',\n",
       " 'talksets-train-3.json']"
      ]
     },
     "execution_count": 211,
     "metadata": {},
     "output_type": "execute_result"
    }
   ],
   "source": [
    "os.listdir(path)"
   ]
  },
  {
   "cell_type": "code",
   "execution_count": 212,
   "id": "137b9f85",
   "metadata": {},
   "outputs": [],
   "source": [
    "from glob import glob"
   ]
  },
  {
   "cell_type": "code",
   "execution_count": 215,
   "id": "1cda9ea3",
   "metadata": {},
   "outputs": [],
   "source": [
    "files = glob(path + \"/*.json\")"
   ]
  },
  {
   "cell_type": "code",
   "execution_count": 217,
   "id": "26716d92",
   "metadata": {},
   "outputs": [
    {
     "data": {
      "text/plain": [
       "'immoral_json_talksets/talksets-train-2.json'"
      ]
     },
     "execution_count": 217,
     "metadata": {},
     "output_type": "execute_result"
    }
   ],
   "source": [
    "files[0]"
   ]
  },
  {
   "cell_type": "code",
   "execution_count": 233,
   "id": "4d6d89ff",
   "metadata": {},
   "outputs": [
    {
     "data": {
      "text/plain": [
       "['talksets-train-1_aihub.json',\n",
       " 'talksets-train-2.json',\n",
       " 'talksets-train-3.json',\n",
       " 'talksets-train-4.json',\n",
       " 'talksets-train-5.json']"
      ]
     },
     "execution_count": 233,
     "metadata": {},
     "output_type": "execute_result"
    }
   ],
   "source": [
    "json_files"
   ]
  },
  {
   "cell_type": "markdown",
   "id": "1eda5a9d",
   "metadata": {},
   "source": [
    "### 머리가 안돌아가니까 노가다 고\n",
    "for loop 쓰면 될거 같은디"
   ]
  },
  {
   "cell_type": "code",
   "execution_count": 235,
   "id": "cf1879d8",
   "metadata": {},
   "outputs": [],
   "source": [
    "with open(os.path.join(path, json_files[1]), 'r') as f:\n",
    "    json_data = json.load(f)"
   ]
  },
  {
   "cell_type": "code",
   "execution_count": 238,
   "id": "e8321be5",
   "metadata": {},
   "outputs": [],
   "source": [
    "def make_df(json_data):\n",
    "    pd.DataFrame(index=range(0, len(json_data)), columns=['idx', 'class','conversation', 'types', 'intensity', 'is_immoral'])\n",
    "\n",
    "    for i in tqdm(range(len(json_data))):\n",
    "        text = []\n",
    "        intensity = []\n",
    "        is_immoral = []\n",
    "        types = []\n",
    "        for j in range(len(json_data[i]['sentences'])):\n",
    "            text.append(json_data[i]['sentences'][j]['text'])\n",
    "            intensity.append(json_data[i]['sentences'][j]['intensity'])  # 2.0 <=\n",
    "            is_immoral.append(json_data[i]['sentences'][j]['is_immoral']) # True\n",
    "            types += json_data[i]['sentences'][j]['types'] # censure\n",
    "\n",
    "        # 타입을 평탄화 및 리스트 형태로 변경\n",
    "        types = np.ndarray.flatten(np.array(types)).tolist()\n",
    "\n",
    "        # 점수를 평균화 시킨당\n",
    "        num_intensity = sum(intensity) / len(intensity)\n",
    "\n",
    "        # blooean을 숫자로 바꾼당\n",
    "        num_immoral = 0\n",
    "        for k in is_immoral: \n",
    "            num_immoral += int(k)\n",
    "        num_immoral /= len(is_immoral)\n",
    "\n",
    "    #     print(types)\n",
    "\n",
    "        # dataframe 에 넣기\n",
    "        df['idx'][i] = i\n",
    "        df['class'][i] = \"위협대화\"\n",
    "        df['conversation'][i] = \"\\n\".join(text)\n",
    "        df['types'][i] = \"\\n\".join(types)\n",
    "        df['intensity'][i] = num_intensity\n",
    "        df['is_immoral'][i] = num_immoral\n",
    "        \n",
    "    return df"
   ]
  },
  {
   "cell_type": "code",
   "execution_count": 239,
   "id": "a61ca1b3",
   "metadata": {},
   "outputs": [
    {
     "name": "stderr",
     "output_type": "stream",
     "text": [
      "100%|██████████| 19678/19678 [00:19<00:00, 1001.44it/s]\n"
     ]
    }
   ],
   "source": [
    "df1 = make_df(json_data)"
   ]
  },
  {
   "cell_type": "code",
   "execution_count": 240,
   "id": "5f414161",
   "metadata": {},
   "outputs": [
    {
     "data": {
      "text/plain": [
       "['talksets-train-1_aihub.json',\n",
       " 'talksets-train-2.json',\n",
       " 'talksets-train-3.json',\n",
       " 'talksets-train-4.json',\n",
       " 'talksets-train-5.json']"
      ]
     },
     "execution_count": 240,
     "metadata": {},
     "output_type": "execute_result"
    }
   ],
   "source": [
    "json_files"
   ]
  },
  {
   "cell_type": "code",
   "execution_count": 241,
   "id": "fd0c5893",
   "metadata": {},
   "outputs": [],
   "source": [
    "with open(os.path.join(path, json_files[2]), 'r') as f:\n",
    "    json_data = json.load(f)"
   ]
  },
  {
   "cell_type": "code",
   "execution_count": 242,
   "id": "55c4085a",
   "metadata": {},
   "outputs": [
    {
     "name": "stderr",
     "output_type": "stream",
     "text": [
      "100%|██████████| 19685/19685 [00:19<00:00, 996.87it/s] \n"
     ]
    }
   ],
   "source": [
    "df2 = make_df(json_data)"
   ]
  },
  {
   "cell_type": "code",
   "execution_count": null,
   "id": "8998347f",
   "metadata": {},
   "outputs": [],
   "source": []
  },
  {
   "cell_type": "code",
   "execution_count": 243,
   "id": "c93521e2",
   "metadata": {},
   "outputs": [],
   "source": [
    "with open(os.path.join(path, json_files[3]), 'r') as f:\n",
    "    json_data = json.load(f)"
   ]
  },
  {
   "cell_type": "code",
   "execution_count": 244,
   "id": "e4f3a6a3",
   "metadata": {},
   "outputs": [
    {
     "name": "stderr",
     "output_type": "stream",
     "text": [
      "100%|██████████| 19683/19683 [00:19<00:00, 1020.10it/s]\n"
     ]
    }
   ],
   "source": [
    "df3 = make_df(json_data)"
   ]
  },
  {
   "cell_type": "code",
   "execution_count": null,
   "id": "3186ebdc",
   "metadata": {},
   "outputs": [],
   "source": []
  },
  {
   "cell_type": "code",
   "execution_count": 245,
   "id": "41c12a31",
   "metadata": {},
   "outputs": [],
   "source": [
    "with open(os.path.join(path, json_files[4]), 'r') as f:\n",
    "    json_data = json.load(f)"
   ]
  },
  {
   "cell_type": "code",
   "execution_count": 246,
   "id": "e0f8b1ff",
   "metadata": {},
   "outputs": [
    {
     "name": "stderr",
     "output_type": "stream",
     "text": [
      "100%|██████████| 26070/26070 [00:46<00:00, 559.83it/s] \n"
     ]
    }
   ],
   "source": [
    "df4 = make_df(json_data)"
   ]
  },
  {
   "cell_type": "code",
   "execution_count": null,
   "id": "a7e62b40",
   "metadata": {},
   "outputs": [],
   "source": []
  },
  {
   "cell_type": "code",
   "execution_count": 248,
   "id": "e844a222",
   "metadata": {},
   "outputs": [],
   "source": [
    "full_df = pd.concat([df, df1, df2, df3, df4], axis=0)"
   ]
  },
  {
   "cell_type": "code",
   "execution_count": 249,
   "id": "ad57fe11",
   "metadata": {},
   "outputs": [
    {
     "data": {
      "text/html": [
       "<div>\n",
       "<style scoped>\n",
       "    .dataframe tbody tr th:only-of-type {\n",
       "        vertical-align: middle;\n",
       "    }\n",
       "\n",
       "    .dataframe tbody tr th {\n",
       "        vertical-align: top;\n",
       "    }\n",
       "\n",
       "    .dataframe thead th {\n",
       "        text-align: right;\n",
       "    }\n",
       "</style>\n",
       "<table border=\"1\" class=\"dataframe\">\n",
       "  <thead>\n",
       "    <tr style=\"text-align: right;\">\n",
       "      <th></th>\n",
       "      <th>idx</th>\n",
       "      <th>class</th>\n",
       "      <th>conversation</th>\n",
       "      <th>types</th>\n",
       "      <th>intensity</th>\n",
       "      <th>is_immoral</th>\n",
       "    </tr>\n",
       "  </thead>\n",
       "  <tbody>\n",
       "    <tr>\n",
       "      <th>0</th>\n",
       "      <td>0</td>\n",
       "      <td>위협대화</td>\n",
       "      <td>형광색 바지 입는 급식들 왜 이렇게 많아?\\nㅈ같은 유행 돌았나보네ㅋㅋ\\n형광 바지...</td>\n",
       "      <td>IMMORAL_NONE\\nABUSE\\nVIOLENCE</td>\n",
       "      <td>1.133333</td>\n",
       "      <td>0.666667</td>\n",
       "    </tr>\n",
       "    <tr>\n",
       "      <th>1</th>\n",
       "      <td>1</td>\n",
       "      <td>위협대화</td>\n",
       "      <td>자기 몸 긍정 운동가들이라고 하면서 꼴값 떠는 한녀들을 죽여 버리고 싶다.\\n자기 ...</td>\n",
       "      <td>HATE\\nVIOLENCE\\nIMMORAL_NONE\\nIMMORAL_NONE\\nIM...</td>\n",
       "      <td>0.32</td>\n",
       "      <td>0.2</td>\n",
       "    </tr>\n",
       "    <tr>\n",
       "      <th>2</th>\n",
       "      <td>2</td>\n",
       "      <td>위협대화</td>\n",
       "      <td>난 아침에는 항상 시리얼을 먹어\\n그딴 과자부스러기를 왜먹어?\\n너도 같은 부스러기...</td>\n",
       "      <td>IMMORAL_NONE\\nCENSURE\\nHATE\\nCENSURE</td>\n",
       "      <td>0.8</td>\n",
       "      <td>0.666667</td>\n",
       "    </tr>\n",
       "    <tr>\n",
       "      <th>3</th>\n",
       "      <td>3</td>\n",
       "      <td>위협대화</td>\n",
       "      <td>저는 제 와이프가 너무 자랑스러워요\\n유일하게 남자들 세계를 잘 이해해주거든요\\n자...</td>\n",
       "      <td>IMMORAL_NONE\\nIMMORAL_NONE\\nCENSURE</td>\n",
       "      <td>0.333333</td>\n",
       "      <td>0.333333</td>\n",
       "    </tr>\n",
       "    <tr>\n",
       "      <th>4</th>\n",
       "      <td>4</td>\n",
       "      <td>위협대화</td>\n",
       "      <td>애들은 흙을 좀 만지면서 커야 해.\\n그랬다가 나중에 공부라도 못하게 된다면 도시로...</td>\n",
       "      <td>IMMORAL_NONE\\nCENSURE\\nCENSURE</td>\n",
       "      <td>0.8</td>\n",
       "      <td>0.666667</td>\n",
       "    </tr>\n",
       "    <tr>\n",
       "      <th>...</th>\n",
       "      <td>...</td>\n",
       "      <td>...</td>\n",
       "      <td>...</td>\n",
       "      <td>...</td>\n",
       "      <td>...</td>\n",
       "      <td>...</td>\n",
       "    </tr>\n",
       "    <tr>\n",
       "      <th>19684</th>\n",
       "      <td>19684</td>\n",
       "      <td>위협대화</td>\n",
       "      <td>울 학교 선배들 벌써부터 군기 잡더라\\n머가리 곡괭이로 요단강 내버리고 싶겠네ㅋㅋ\\...</td>\n",
       "      <td>IMMORAL_NONE\\nVIOLENCE\\nVIOLENCE</td>\n",
       "      <td>1.2</td>\n",
       "      <td>0.666667</td>\n",
       "    </tr>\n",
       "    <tr>\n",
       "      <th>19685</th>\n",
       "      <td>19685</td>\n",
       "      <td>위협대화</td>\n",
       "      <td>월급 들어오기까지 한참 남았는데 돈 나갈 일이 너무 많네\\n너 여자니까 몸이 상품이...</td>\n",
       "      <td>IMMORAL_NONE\\nDISCRIMINATION\\nHATE\\nCENSURE\\nS...</td>\n",
       "      <td>1.2</td>\n",
       "      <td>0.666667</td>\n",
       "    </tr>\n",
       "    <tr>\n",
       "      <th>19686</th>\n",
       "      <td>19686</td>\n",
       "      <td>위협대화</td>\n",
       "      <td>쟤 아버지가 도박 중독자라며?\\n맞아 조만간 빚더미에 앉을걸?\\n도박하는 사람들이랑...</td>\n",
       "      <td>CENSURE\\nCENSURE\\nIMMORAL_NONE\\nDISCRIMINATION...</td>\n",
       "      <td>1.2</td>\n",
       "      <td>0.8</td>\n",
       "    </tr>\n",
       "    <tr>\n",
       "      <th>19687</th>\n",
       "      <td>19687</td>\n",
       "      <td>위협대화</td>\n",
       "      <td>너 여자친구랑 동거해?\\n응응 동거하지\\n진짜 징하게 먹겠네</td>\n",
       "      <td>IMMORAL_NONE\\nIMMORAL_NONE\\nSEXUAL</td>\n",
       "      <td>0.6</td>\n",
       "      <td>0.333333</td>\n",
       "    </tr>\n",
       "    <tr>\n",
       "      <th>19688</th>\n",
       "      <td>19688</td>\n",
       "      <td>위협대화</td>\n",
       "      <td>생각 좀 하고 살았으면 좋겠다 보통 누가 저런짓을 하냐\\n지가 개념이 없는거면서 남...</td>\n",
       "      <td>IMMORAL_NONE\\nIMMORAL_NONE\\nCENSURE</td>\n",
       "      <td>0.333333</td>\n",
       "      <td>0.333333</td>\n",
       "    </tr>\n",
       "  </tbody>\n",
       "</table>\n",
       "<p>98445 rows × 6 columns</p>\n",
       "</div>"
      ],
      "text/plain": [
       "         idx class                                       conversation  \\\n",
       "0          0  위협대화  형광색 바지 입는 급식들 왜 이렇게 많아?\\nㅈ같은 유행 돌았나보네ㅋㅋ\\n형광 바지...   \n",
       "1          1  위협대화  자기 몸 긍정 운동가들이라고 하면서 꼴값 떠는 한녀들을 죽여 버리고 싶다.\\n자기 ...   \n",
       "2          2  위협대화  난 아침에는 항상 시리얼을 먹어\\n그딴 과자부스러기를 왜먹어?\\n너도 같은 부스러기...   \n",
       "3          3  위협대화  저는 제 와이프가 너무 자랑스러워요\\n유일하게 남자들 세계를 잘 이해해주거든요\\n자...   \n",
       "4          4  위협대화  애들은 흙을 좀 만지면서 커야 해.\\n그랬다가 나중에 공부라도 못하게 된다면 도시로...   \n",
       "...      ...   ...                                                ...   \n",
       "19684  19684  위협대화  울 학교 선배들 벌써부터 군기 잡더라\\n머가리 곡괭이로 요단강 내버리고 싶겠네ㅋㅋ\\...   \n",
       "19685  19685  위협대화  월급 들어오기까지 한참 남았는데 돈 나갈 일이 너무 많네\\n너 여자니까 몸이 상품이...   \n",
       "19686  19686  위협대화  쟤 아버지가 도박 중독자라며?\\n맞아 조만간 빚더미에 앉을걸?\\n도박하는 사람들이랑...   \n",
       "19687  19687  위협대화                  너 여자친구랑 동거해?\\n응응 동거하지\\n진짜 징하게 먹겠네   \n",
       "19688  19688  위협대화  생각 좀 하고 살았으면 좋겠다 보통 누가 저런짓을 하냐\\n지가 개념이 없는거면서 남...   \n",
       "\n",
       "                                                   types intensity is_immoral  \n",
       "0                          IMMORAL_NONE\\nABUSE\\nVIOLENCE  1.133333   0.666667  \n",
       "1      HATE\\nVIOLENCE\\nIMMORAL_NONE\\nIMMORAL_NONE\\nIM...      0.32        0.2  \n",
       "2                   IMMORAL_NONE\\nCENSURE\\nHATE\\nCENSURE       0.8   0.666667  \n",
       "3                    IMMORAL_NONE\\nIMMORAL_NONE\\nCENSURE  0.333333   0.333333  \n",
       "4                         IMMORAL_NONE\\nCENSURE\\nCENSURE       0.8   0.666667  \n",
       "...                                                  ...       ...        ...  \n",
       "19684                   IMMORAL_NONE\\nVIOLENCE\\nVIOLENCE       1.2   0.666667  \n",
       "19685  IMMORAL_NONE\\nDISCRIMINATION\\nHATE\\nCENSURE\\nS...       1.2   0.666667  \n",
       "19686  CENSURE\\nCENSURE\\nIMMORAL_NONE\\nDISCRIMINATION...       1.2        0.8  \n",
       "19687                 IMMORAL_NONE\\nIMMORAL_NONE\\nSEXUAL       0.6   0.333333  \n",
       "19688                IMMORAL_NONE\\nIMMORAL_NONE\\nCENSURE  0.333333   0.333333  \n",
       "\n",
       "[98445 rows x 6 columns]"
      ]
     },
     "execution_count": 249,
     "metadata": {},
     "output_type": "execute_result"
    }
   ],
   "source": [
    "full_df"
   ]
  },
  {
   "cell_type": "code",
   "execution_count": 254,
   "id": "bebf87fd",
   "metadata": {},
   "outputs": [],
   "source": [
    "full_df = full_df.reset_index().reset_index()"
   ]
  },
  {
   "cell_type": "code",
   "execution_count": 256,
   "id": "0cadf713",
   "metadata": {},
   "outputs": [],
   "source": [
    "full_df.drop(labels=['index', 'idx'], axis=1, inplace=True)"
   ]
  },
  {
   "cell_type": "code",
   "execution_count": 257,
   "id": "cad1a4d2",
   "metadata": {},
   "outputs": [
    {
     "data": {
      "text/html": [
       "<div>\n",
       "<style scoped>\n",
       "    .dataframe tbody tr th:only-of-type {\n",
       "        vertical-align: middle;\n",
       "    }\n",
       "\n",
       "    .dataframe tbody tr th {\n",
       "        vertical-align: top;\n",
       "    }\n",
       "\n",
       "    .dataframe thead th {\n",
       "        text-align: right;\n",
       "    }\n",
       "</style>\n",
       "<table border=\"1\" class=\"dataframe\">\n",
       "  <thead>\n",
       "    <tr style=\"text-align: right;\">\n",
       "      <th></th>\n",
       "      <th>level_0</th>\n",
       "      <th>class</th>\n",
       "      <th>conversation</th>\n",
       "      <th>types</th>\n",
       "      <th>intensity</th>\n",
       "      <th>is_immoral</th>\n",
       "    </tr>\n",
       "  </thead>\n",
       "  <tbody>\n",
       "    <tr>\n",
       "      <th>0</th>\n",
       "      <td>0</td>\n",
       "      <td>위협대화</td>\n",
       "      <td>형광색 바지 입는 급식들 왜 이렇게 많아?\\nㅈ같은 유행 돌았나보네ㅋㅋ\\n형광 바지...</td>\n",
       "      <td>IMMORAL_NONE\\nABUSE\\nVIOLENCE</td>\n",
       "      <td>1.133333</td>\n",
       "      <td>0.666667</td>\n",
       "    </tr>\n",
       "    <tr>\n",
       "      <th>1</th>\n",
       "      <td>1</td>\n",
       "      <td>위협대화</td>\n",
       "      <td>자기 몸 긍정 운동가들이라고 하면서 꼴값 떠는 한녀들을 죽여 버리고 싶다.\\n자기 ...</td>\n",
       "      <td>HATE\\nVIOLENCE\\nIMMORAL_NONE\\nIMMORAL_NONE\\nIM...</td>\n",
       "      <td>0.32</td>\n",
       "      <td>0.2</td>\n",
       "    </tr>\n",
       "    <tr>\n",
       "      <th>2</th>\n",
       "      <td>2</td>\n",
       "      <td>위협대화</td>\n",
       "      <td>난 아침에는 항상 시리얼을 먹어\\n그딴 과자부스러기를 왜먹어?\\n너도 같은 부스러기...</td>\n",
       "      <td>IMMORAL_NONE\\nCENSURE\\nHATE\\nCENSURE</td>\n",
       "      <td>0.8</td>\n",
       "      <td>0.666667</td>\n",
       "    </tr>\n",
       "    <tr>\n",
       "      <th>3</th>\n",
       "      <td>3</td>\n",
       "      <td>위협대화</td>\n",
       "      <td>저는 제 와이프가 너무 자랑스러워요\\n유일하게 남자들 세계를 잘 이해해주거든요\\n자...</td>\n",
       "      <td>IMMORAL_NONE\\nIMMORAL_NONE\\nCENSURE</td>\n",
       "      <td>0.333333</td>\n",
       "      <td>0.333333</td>\n",
       "    </tr>\n",
       "    <tr>\n",
       "      <th>4</th>\n",
       "      <td>4</td>\n",
       "      <td>위협대화</td>\n",
       "      <td>애들은 흙을 좀 만지면서 커야 해.\\n그랬다가 나중에 공부라도 못하게 된다면 도시로...</td>\n",
       "      <td>IMMORAL_NONE\\nCENSURE\\nCENSURE</td>\n",
       "      <td>0.8</td>\n",
       "      <td>0.666667</td>\n",
       "    </tr>\n",
       "    <tr>\n",
       "      <th>...</th>\n",
       "      <td>...</td>\n",
       "      <td>...</td>\n",
       "      <td>...</td>\n",
       "      <td>...</td>\n",
       "      <td>...</td>\n",
       "      <td>...</td>\n",
       "    </tr>\n",
       "    <tr>\n",
       "      <th>98440</th>\n",
       "      <td>98440</td>\n",
       "      <td>위협대화</td>\n",
       "      <td>울 학교 선배들 벌써부터 군기 잡더라\\n머가리 곡괭이로 요단강 내버리고 싶겠네ㅋㅋ\\...</td>\n",
       "      <td>IMMORAL_NONE\\nVIOLENCE\\nVIOLENCE</td>\n",
       "      <td>1.2</td>\n",
       "      <td>0.666667</td>\n",
       "    </tr>\n",
       "    <tr>\n",
       "      <th>98441</th>\n",
       "      <td>98441</td>\n",
       "      <td>위협대화</td>\n",
       "      <td>월급 들어오기까지 한참 남았는데 돈 나갈 일이 너무 많네\\n너 여자니까 몸이 상품이...</td>\n",
       "      <td>IMMORAL_NONE\\nDISCRIMINATION\\nHATE\\nCENSURE\\nS...</td>\n",
       "      <td>1.2</td>\n",
       "      <td>0.666667</td>\n",
       "    </tr>\n",
       "    <tr>\n",
       "      <th>98442</th>\n",
       "      <td>98442</td>\n",
       "      <td>위협대화</td>\n",
       "      <td>쟤 아버지가 도박 중독자라며?\\n맞아 조만간 빚더미에 앉을걸?\\n도박하는 사람들이랑...</td>\n",
       "      <td>CENSURE\\nCENSURE\\nIMMORAL_NONE\\nDISCRIMINATION...</td>\n",
       "      <td>1.2</td>\n",
       "      <td>0.8</td>\n",
       "    </tr>\n",
       "    <tr>\n",
       "      <th>98443</th>\n",
       "      <td>98443</td>\n",
       "      <td>위협대화</td>\n",
       "      <td>너 여자친구랑 동거해?\\n응응 동거하지\\n진짜 징하게 먹겠네</td>\n",
       "      <td>IMMORAL_NONE\\nIMMORAL_NONE\\nSEXUAL</td>\n",
       "      <td>0.6</td>\n",
       "      <td>0.333333</td>\n",
       "    </tr>\n",
       "    <tr>\n",
       "      <th>98444</th>\n",
       "      <td>98444</td>\n",
       "      <td>위협대화</td>\n",
       "      <td>생각 좀 하고 살았으면 좋겠다 보통 누가 저런짓을 하냐\\n지가 개념이 없는거면서 남...</td>\n",
       "      <td>IMMORAL_NONE\\nIMMORAL_NONE\\nCENSURE</td>\n",
       "      <td>0.333333</td>\n",
       "      <td>0.333333</td>\n",
       "    </tr>\n",
       "  </tbody>\n",
       "</table>\n",
       "<p>98445 rows × 6 columns</p>\n",
       "</div>"
      ],
      "text/plain": [
       "       level_0 class                                       conversation  \\\n",
       "0            0  위협대화  형광색 바지 입는 급식들 왜 이렇게 많아?\\nㅈ같은 유행 돌았나보네ㅋㅋ\\n형광 바지...   \n",
       "1            1  위협대화  자기 몸 긍정 운동가들이라고 하면서 꼴값 떠는 한녀들을 죽여 버리고 싶다.\\n자기 ...   \n",
       "2            2  위협대화  난 아침에는 항상 시리얼을 먹어\\n그딴 과자부스러기를 왜먹어?\\n너도 같은 부스러기...   \n",
       "3            3  위협대화  저는 제 와이프가 너무 자랑스러워요\\n유일하게 남자들 세계를 잘 이해해주거든요\\n자...   \n",
       "4            4  위협대화  애들은 흙을 좀 만지면서 커야 해.\\n그랬다가 나중에 공부라도 못하게 된다면 도시로...   \n",
       "...        ...   ...                                                ...   \n",
       "98440    98440  위협대화  울 학교 선배들 벌써부터 군기 잡더라\\n머가리 곡괭이로 요단강 내버리고 싶겠네ㅋㅋ\\...   \n",
       "98441    98441  위협대화  월급 들어오기까지 한참 남았는데 돈 나갈 일이 너무 많네\\n너 여자니까 몸이 상품이...   \n",
       "98442    98442  위협대화  쟤 아버지가 도박 중독자라며?\\n맞아 조만간 빚더미에 앉을걸?\\n도박하는 사람들이랑...   \n",
       "98443    98443  위협대화                  너 여자친구랑 동거해?\\n응응 동거하지\\n진짜 징하게 먹겠네   \n",
       "98444    98444  위협대화  생각 좀 하고 살았으면 좋겠다 보통 누가 저런짓을 하냐\\n지가 개념이 없는거면서 남...   \n",
       "\n",
       "                                                   types intensity is_immoral  \n",
       "0                          IMMORAL_NONE\\nABUSE\\nVIOLENCE  1.133333   0.666667  \n",
       "1      HATE\\nVIOLENCE\\nIMMORAL_NONE\\nIMMORAL_NONE\\nIM...      0.32        0.2  \n",
       "2                   IMMORAL_NONE\\nCENSURE\\nHATE\\nCENSURE       0.8   0.666667  \n",
       "3                    IMMORAL_NONE\\nIMMORAL_NONE\\nCENSURE  0.333333   0.333333  \n",
       "4                         IMMORAL_NONE\\nCENSURE\\nCENSURE       0.8   0.666667  \n",
       "...                                                  ...       ...        ...  \n",
       "98440                   IMMORAL_NONE\\nVIOLENCE\\nVIOLENCE       1.2   0.666667  \n",
       "98441  IMMORAL_NONE\\nDISCRIMINATION\\nHATE\\nCENSURE\\nS...       1.2   0.666667  \n",
       "98442  CENSURE\\nCENSURE\\nIMMORAL_NONE\\nDISCRIMINATION...       1.2        0.8  \n",
       "98443                 IMMORAL_NONE\\nIMMORAL_NONE\\nSEXUAL       0.6   0.333333  \n",
       "98444                IMMORAL_NONE\\nIMMORAL_NONE\\nCENSURE  0.333333   0.333333  \n",
       "\n",
       "[98445 rows x 6 columns]"
      ]
     },
     "execution_count": 257,
     "metadata": {},
     "output_type": "execute_result"
    }
   ],
   "source": [
    "full_df['intensity']"
   ]
  },
  {
   "cell_type": "code",
   "execution_count": 268,
   "id": "22254a9f",
   "metadata": {},
   "outputs": [],
   "source": [
    "full_df.rename(columns={'level_0':'idx'}, inplace=True)"
   ]
  },
  {
   "cell_type": "code",
   "execution_count": 269,
   "id": "4772efc2",
   "metadata": {},
   "outputs": [],
   "source": [
    "full_df.to_csv(\"full_immoral.csv\", index=False)"
   ]
  },
  {
   "cell_type": "code",
   "execution_count": 270,
   "id": "1d7a2a0c",
   "metadata": {},
   "outputs": [
    {
     "name": "stdout",
     "output_type": "stream",
     "text": [
      " \u001b[0m\u001b[01;34martifacts\u001b[0m/                 immoral_json_talksets.zip     \u001b[01;34mwandb\u001b[0m/\r\n",
      " backward_translate.ipynb  'json2csv(immoral).ipynb'     'weights&biases.ipynb'\r\n",
      " full_immoral.csv           \u001b[01;34m__MACOSX\u001b[0m/                     \u001b[01;34m갈\u001b[0m/\r\n",
      " \u001b[01;34mimmoral_json_talksets\u001b[0m/     preprocessed_dktc_train.csv\r\n"
     ]
    }
   ],
   "source": [
    "ls"
   ]
  },
  {
   "cell_type": "code",
   "execution_count": 266,
   "id": "3837584e",
   "metadata": {},
   "outputs": [
    {
     "data": {
      "text/plain": [
       "IMMORAL_NONE\\nCENSURE\\nCENSURE                                                                                                                                                                             5690\n",
       "IMMORAL_NONE\\nIMMORAL_NONE\\nCENSURE                                                                                                                                                                        5590\n",
       "IMMORAL_NONE\\nCENSURE\\nIMMORAL_NONE                                                                                                                                                                        3875\n",
       "CENSURE\\nCENSURE\\nCENSURE                                                                                                                                                                                  3085\n",
       "CENSURE\\nIMMORAL_NONE\\nCENSURE                                                                                                                                                                             2410\n",
       "                                                                                                                                                                                                           ... \n",
       "HATE\\nHATE\\nSEXUAL\\nHATE\\nSEXUAL                                                                                                                                                                              5\n",
       "CENSURE\\nIMMORAL_NONE\\nVIOLENCE\\nCRIME\\nCENSURE\\nCENSURE\\nVIOLENCE\\nCRIME\\nIMMORAL_NONE\\nVIOLENCE\\nCRIME\\nIMMORAL_NONE                                                                                        5\n",
       "CENSURE\\nCENSURE\\nCENSURE\\nCENSURE\\nCENSURE\\nVIOLENCE                                                                                                                                                         5\n",
       "HATE\\nABUSE\\nCENSURE\\nCENSURE\\nCENSURE\\nABUSE\\nHATE\\nHATE\\nCENSURE\\nCENSURE\\nHATE\\nCENSURE\\nABUSE\\nDISCRIMINATION\\nHATE\\nCENSURE\\nABUSE\\nVIOLENCE\\nHATE\\nIMMORAL_NONE\\nCENSURE\\nCENSURE\\nHATE\\nVIOLENCE       5\n",
       "IMMORAL_NONE\\nDISCRIMINATION\\nHATE\\nCENSURE\\nSEXUAL\\nCENSURE\\nSEXUAL\\nDISCRIMINATION\\nHATE                                                                                                                    5\n",
       "Name: types, Length: 4689, dtype: int64"
      ]
     },
     "execution_count": 266,
     "metadata": {},
     "output_type": "execute_result"
    }
   ],
   "source": [
    "full_df['types']"
   ]
  },
  {
   "cell_type": "code",
   "execution_count": null,
   "id": "68a88259",
   "metadata": {},
   "outputs": [],
   "source": []
  },
  {
   "cell_type": "code",
   "execution_count": 271,
   "id": "9b2aa1fb",
   "metadata": {},
   "outputs": [],
   "source": [
    "try_df = pd.DataFrame(index=range(1), columns=['intensity', 'is_immoral'])"
   ]
  },
  {
   "cell_type": "code",
   "execution_count": 276,
   "id": "fdfb5d9d",
   "metadata": {},
   "outputs": [],
   "source": [
    "try_df['intensity'][0] = [0, 1.0, 2.0, 3.0]\n",
    "try_df['is_immoral'][0] =  [True, True, False, False]"
   ]
  },
  {
   "cell_type": "code",
   "execution_count": 277,
   "id": "90224ebf",
   "metadata": {},
   "outputs": [
    {
     "data": {
      "text/html": [
       "<div>\n",
       "<style scoped>\n",
       "    .dataframe tbody tr th:only-of-type {\n",
       "        vertical-align: middle;\n",
       "    }\n",
       "\n",
       "    .dataframe tbody tr th {\n",
       "        vertical-align: top;\n",
       "    }\n",
       "\n",
       "    .dataframe thead th {\n",
       "        text-align: right;\n",
       "    }\n",
       "</style>\n",
       "<table border=\"1\" class=\"dataframe\">\n",
       "  <thead>\n",
       "    <tr style=\"text-align: right;\">\n",
       "      <th></th>\n",
       "      <th>intensity</th>\n",
       "      <th>is_immoral</th>\n",
       "    </tr>\n",
       "  </thead>\n",
       "  <tbody>\n",
       "    <tr>\n",
       "      <th>0</th>\n",
       "      <td>[0, 1.0, 2.0, 3.0]</td>\n",
       "      <td>[True, True, False, False]</td>\n",
       "    </tr>\n",
       "  </tbody>\n",
       "</table>\n",
       "</div>"
      ],
      "text/plain": [
       "            intensity                  is_immoral\n",
       "0  [0, 1.0, 2.0, 3.0]  [True, True, False, False]"
      ]
     },
     "execution_count": 277,
     "metadata": {},
     "output_type": "execute_result"
    }
   ],
   "source": [
    "try_df"
   ]
  },
  {
   "cell_type": "code",
   "execution_count": 278,
   "id": "f46911ba",
   "metadata": {},
   "outputs": [
    {
     "data": {
      "text/plain": [
       "0    [0, 1.0, 2.0, 3.0]\n",
       "Name: intensity, dtype: object"
      ]
     },
     "execution_count": 278,
     "metadata": {},
     "output_type": "execute_result"
    }
   ],
   "source": [
    "2.0 in try_df['intensity']"
   ]
  },
  {
   "cell_type": "code",
   "execution_count": 287,
   "id": "fd37636d",
   "metadata": {},
   "outputs": [],
   "source": [
    "def has_large_intensity(intensities):\n",
    "    print(intensities)\n",
    "    return any([intensity >= 2.0 for intensity in intensities])"
   ]
  },
  {
   "cell_type": "code",
   "execution_count": 288,
   "id": "2754077e",
   "metadata": {},
   "outputs": [
    {
     "name": "stdout",
     "output_type": "stream",
     "text": [
      "[0, 1.0, 2.0, 3.0]\n"
     ]
    },
    {
     "data": {
      "text/plain": [
       "0    True\n",
       "Name: intensity, dtype: bool"
      ]
     },
     "execution_count": 288,
     "metadata": {},
     "output_type": "execute_result"
    }
   ],
   "source": [
    "try_df['intensity'].apply(has_large_intensity)"
   ]
  },
  {
   "cell_type": "markdown",
   "id": "91062ceb",
   "metadata": {},
   "source": [
    "# 최종으로 선택받은 df 만들기\n",
    "intensity, is_immoral의 열을 리스트 형태로 넣기"
   ]
  },
  {
   "cell_type": "code",
   "execution_count": 311,
   "id": "3a3ddf39",
   "metadata": {},
   "outputs": [],
   "source": [
    "def make_dataframe(json_data):\n",
    "    pd.DataFrame(index=range(0, len(json_data)), columns=['idx', 'class','conversation', 'types', 'intensity', 'is_immoral'])\n",
    "\n",
    "    for i in tqdm(range(len(json_data))):\n",
    "        text = []\n",
    "        intensity = []\n",
    "        is_immoral = []\n",
    "        types = []\n",
    "        for j in range(len(json_data[i]['sentences'])):\n",
    "            text.append(json_data[i]['sentences'][j]['text'])\n",
    "            intensity.append(json_data[i]['sentences'][j]['intensity'])  # 2.0 <=\n",
    "            is_immoral.append(json_data[i]['sentences'][j]['is_immoral']) # True\n",
    "            types += json_data[i]['sentences'][j]['types'] # censure\n",
    "\n",
    "        # 타입을 평탄화 및 리스트 형태로 변경\n",
    "        types = np.ndarray.flatten(np.array(types)).tolist()\n",
    "\n",
    "        # dataframe 에 넣기\n",
    "        df['idx'][i] = i\n",
    "        df['class'][i] = \"위협대화\"\n",
    "        df['conversation'][i] = \"\\n\".join(text)\n",
    "        df['types'][i] = \"\\n\".join(types)\n",
    "        df['intensity'][i] = intensity\n",
    "        df['is_immoral'][i] = is_immoral\n",
    "        \n",
    "    return df"
   ]
  },
  {
   "cell_type": "code",
   "execution_count": 291,
   "id": "0e94039a",
   "metadata": {},
   "outputs": [
    {
     "data": {
      "text/plain": [
       "(['talksets-train-1_aihub.json',\n",
       "  'talksets-train-2.json',\n",
       "  'talksets-train-3.json',\n",
       "  'talksets-train-4.json',\n",
       "  'talksets-train-5.json'],\n",
       " 5)"
      ]
     },
     "execution_count": 291,
     "metadata": {},
     "output_type": "execute_result"
    }
   ],
   "source": [
    "json_files, len(json_files)"
   ]
  },
  {
   "cell_type": "code",
   "execution_count": 312,
   "id": "27cbc515",
   "metadata": {},
   "outputs": [],
   "source": [
    "with open(os.path.join(path, json_files[0]), 'r') as f:\n",
    "    json_data = json.load(f)"
   ]
  },
  {
   "cell_type": "code",
   "execution_count": 313,
   "id": "c22adc1a",
   "metadata": {},
   "outputs": [
    {
     "name": "stderr",
     "output_type": "stream",
     "text": [
      "100%|██████████| 19689/19689 [00:20<00:00, 968.72it/s] \n"
     ]
    }
   ],
   "source": [
    "af = make_dataframe(json_data)"
   ]
  },
  {
   "cell_type": "code",
   "execution_count": 314,
   "id": "bce1421d",
   "metadata": {},
   "outputs": [],
   "source": [
    "with open(os.path.join(path, json_files[1]), 'r') as f:\n",
    "    json_data = json.load(f)"
   ]
  },
  {
   "cell_type": "code",
   "execution_count": 315,
   "id": "2e1736f7",
   "metadata": {},
   "outputs": [
    {
     "name": "stderr",
     "output_type": "stream",
     "text": [
      "100%|██████████| 19678/19678 [00:21<00:00, 934.03it/s] \n"
     ]
    }
   ],
   "source": [
    "af1 = make_dataframe(json_data)"
   ]
  },
  {
   "cell_type": "code",
   "execution_count": 316,
   "id": "d980061d",
   "metadata": {},
   "outputs": [],
   "source": [
    "with open(os.path.join(path, json_files[2]), 'r') as f:\n",
    "    json_data = json.load(f)"
   ]
  },
  {
   "cell_type": "code",
   "execution_count": 317,
   "id": "536afe4f",
   "metadata": {},
   "outputs": [
    {
     "name": "stderr",
     "output_type": "stream",
     "text": [
      "100%|██████████| 19685/19685 [00:21<00:00, 930.23it/s] \n"
     ]
    }
   ],
   "source": [
    "af2 = make_dataframe(json_data)"
   ]
  },
  {
   "cell_type": "code",
   "execution_count": 318,
   "id": "ad055ad4",
   "metadata": {},
   "outputs": [],
   "source": [
    "with open(os.path.join(path, json_files[3]), 'r') as f:\n",
    "    json_data = json.load(f)"
   ]
  },
  {
   "cell_type": "code",
   "execution_count": 319,
   "id": "a4433a92",
   "metadata": {},
   "outputs": [
    {
     "name": "stderr",
     "output_type": "stream",
     "text": [
      "100%|██████████| 19683/19683 [00:20<00:00, 945.99it/s] \n"
     ]
    }
   ],
   "source": [
    "af3 = make_dataframe(json_data)"
   ]
  },
  {
   "cell_type": "code",
   "execution_count": 320,
   "id": "c3f945ed",
   "metadata": {},
   "outputs": [],
   "source": [
    "with open(os.path.join(path, json_files[4]), 'r') as f:\n",
    "    json_data = json.load(f)"
   ]
  },
  {
   "cell_type": "code",
   "execution_count": 321,
   "id": "78c22471",
   "metadata": {},
   "outputs": [
    {
     "name": "stderr",
     "output_type": "stream",
     "text": [
      "100%|██████████| 26070/26070 [00:49<00:00, 525.42it/s] \n"
     ]
    }
   ],
   "source": [
    "af4 = make_dataframe(json_data)"
   ]
  },
  {
   "cell_type": "markdown",
   "id": "da756ae1",
   "metadata": {},
   "source": [
    "### 데이터프레임 붙이기"
   ]
  },
  {
   "cell_type": "code",
   "execution_count": 322,
   "id": "f18ef4c1",
   "metadata": {},
   "outputs": [],
   "source": [
    "full_af = pd.concat([af, af1, af2, af3, af4], axis=0)"
   ]
  },
  {
   "cell_type": "code",
   "execution_count": 323,
   "id": "68d356f5",
   "metadata": {},
   "outputs": [],
   "source": [
    "full_af = full_af.reset_index().reset_index()\n",
    "full_af.drop(labels=['index', 'idx'], axis=1, inplace=True)\n",
    "full_af.rename(columns={'level_0':'idx'}, inplace=True)"
   ]
  },
  {
   "cell_type": "code",
   "execution_count": 324,
   "id": "d4cc478c",
   "metadata": {},
   "outputs": [],
   "source": [
    "full_af.to_csv(\"full_immoral(_ing).csv\", index=False)"
   ]
  },
  {
   "cell_type": "code",
   "execution_count": 308,
   "id": "1ce67267",
   "metadata": {},
   "outputs": [
    {
     "name": "stdout",
     "output_type": "stream",
     "text": [
      " \u001b[0m\u001b[01;34martifacts\u001b[0m/                 'json2csv(immoral).ipynb'\r\n",
      " backward_translate.ipynb    \u001b[01;34m__MACOSX\u001b[0m/\r\n",
      " full_immoral.csv            preprocessed_dktc_train.csv\r\n",
      "'full_immoral(_ing).csv'     \u001b[01;34mwandb\u001b[0m/\r\n",
      " \u001b[01;34mimmoral_json_talksets\u001b[0m/     'weights&biases.ipynb'\r\n",
      " immoral_json_talksets.zip   \u001b[01;34m갈\u001b[0m/\r\n"
     ]
    }
   ],
   "source": [
    "ls"
   ]
  },
  {
   "cell_type": "code",
   "execution_count": 325,
   "id": "5c9f8ebc",
   "metadata": {},
   "outputs": [
    {
     "data": {
      "text/html": [
       "<div>\n",
       "<style scoped>\n",
       "    .dataframe tbody tr th:only-of-type {\n",
       "        vertical-align: middle;\n",
       "    }\n",
       "\n",
       "    .dataframe tbody tr th {\n",
       "        vertical-align: top;\n",
       "    }\n",
       "\n",
       "    .dataframe thead th {\n",
       "        text-align: right;\n",
       "    }\n",
       "</style>\n",
       "<table border=\"1\" class=\"dataframe\">\n",
       "  <thead>\n",
       "    <tr style=\"text-align: right;\">\n",
       "      <th></th>\n",
       "      <th>idx</th>\n",
       "      <th>class</th>\n",
       "      <th>conversation</th>\n",
       "      <th>types</th>\n",
       "      <th>intensity</th>\n",
       "      <th>is_immoral</th>\n",
       "    </tr>\n",
       "  </thead>\n",
       "  <tbody>\n",
       "    <tr>\n",
       "      <th>0</th>\n",
       "      <td>0</td>\n",
       "      <td>위협대화</td>\n",
       "      <td>형광색 바지 입는 급식들 왜 이렇게 많아?\\nㅈ같은 유행 돌았나보네ㅋㅋ\\n형광 바지...</td>\n",
       "      <td>IMMORAL_NONE\\nABUSE\\nVIOLENCE</td>\n",
       "      <td>[0, 1.6, 1.8]</td>\n",
       "      <td>[False, True, True]</td>\n",
       "    </tr>\n",
       "    <tr>\n",
       "      <th>1</th>\n",
       "      <td>1</td>\n",
       "      <td>위협대화</td>\n",
       "      <td>자기 몸 긍정 운동가들이라고 하면서 꼴값 떠는 한녀들을 죽여 버리고 싶다.\\n자기 ...</td>\n",
       "      <td>HATE\\nVIOLENCE\\nIMMORAL_NONE\\nIMMORAL_NONE\\nIM...</td>\n",
       "      <td>[1.6, 0, 0, 0, 0]</td>\n",
       "      <td>[True, False, False, False, False]</td>\n",
       "    </tr>\n",
       "    <tr>\n",
       "      <th>2</th>\n",
       "      <td>2</td>\n",
       "      <td>위협대화</td>\n",
       "      <td>난 아침에는 항상 시리얼을 먹어\\n그딴 과자부스러기를 왜먹어?\\n너도 같은 부스러기...</td>\n",
       "      <td>IMMORAL_NONE\\nCENSURE\\nHATE\\nCENSURE</td>\n",
       "      <td>[0, 1.0, 1.4]</td>\n",
       "      <td>[False, True, True]</td>\n",
       "    </tr>\n",
       "    <tr>\n",
       "      <th>3</th>\n",
       "      <td>3</td>\n",
       "      <td>위협대화</td>\n",
       "      <td>저는 제 와이프가 너무 자랑스러워요\\n유일하게 남자들 세계를 잘 이해해주거든요\\n자...</td>\n",
       "      <td>IMMORAL_NONE\\nIMMORAL_NONE\\nCENSURE</td>\n",
       "      <td>[0, 0, 1.0]</td>\n",
       "      <td>[False, False, True]</td>\n",
       "    </tr>\n",
       "    <tr>\n",
       "      <th>4</th>\n",
       "      <td>4</td>\n",
       "      <td>위협대화</td>\n",
       "      <td>애들은 흙을 좀 만지면서 커야 해.\\n그랬다가 나중에 공부라도 못하게 된다면 도시로...</td>\n",
       "      <td>IMMORAL_NONE\\nCENSURE\\nCENSURE</td>\n",
       "      <td>[0, 1.4, 1.0]</td>\n",
       "      <td>[False, True, True]</td>\n",
       "    </tr>\n",
       "    <tr>\n",
       "      <th>...</th>\n",
       "      <td>...</td>\n",
       "      <td>...</td>\n",
       "      <td>...</td>\n",
       "      <td>...</td>\n",
       "      <td>...</td>\n",
       "      <td>...</td>\n",
       "    </tr>\n",
       "    <tr>\n",
       "      <th>98440</th>\n",
       "      <td>98440</td>\n",
       "      <td>위협대화</td>\n",
       "      <td>울 학교 선배들 벌써부터 군기 잡더라\\n머가리 곡괭이로 요단강 내버리고 싶겠네ㅋㅋ\\...</td>\n",
       "      <td>IMMORAL_NONE\\nVIOLENCE\\nVIOLENCE</td>\n",
       "      <td>[0, 1.8, 1.8]</td>\n",
       "      <td>[False, True, True]</td>\n",
       "    </tr>\n",
       "    <tr>\n",
       "      <th>98441</th>\n",
       "      <td>98441</td>\n",
       "      <td>위협대화</td>\n",
       "      <td>월급 들어오기까지 한참 남았는데 돈 나갈 일이 너무 많네\\n너 여자니까 몸이 상품이...</td>\n",
       "      <td>IMMORAL_NONE\\nDISCRIMINATION\\nHATE\\nCENSURE\\nS...</td>\n",
       "      <td>[0, 1.8, 1.8]</td>\n",
       "      <td>[False, True, True]</td>\n",
       "    </tr>\n",
       "    <tr>\n",
       "      <th>98442</th>\n",
       "      <td>98442</td>\n",
       "      <td>위협대화</td>\n",
       "      <td>쟤 아버지가 도박 중독자라며?\\n맞아 조만간 빚더미에 앉을걸?\\n도박하는 사람들이랑...</td>\n",
       "      <td>CENSURE\\nCENSURE\\nIMMORAL_NONE\\nDISCRIMINATION...</td>\n",
       "      <td>[1.6, 1.4, 0, 1.6, 1.4]</td>\n",
       "      <td>[True, True, False, True, True]</td>\n",
       "    </tr>\n",
       "    <tr>\n",
       "      <th>98443</th>\n",
       "      <td>98443</td>\n",
       "      <td>위협대화</td>\n",
       "      <td>너 여자친구랑 동거해?\\n응응 동거하지\\n진짜 징하게 먹겠네</td>\n",
       "      <td>IMMORAL_NONE\\nIMMORAL_NONE\\nSEXUAL</td>\n",
       "      <td>[0, 0, 1.8]</td>\n",
       "      <td>[False, False, True]</td>\n",
       "    </tr>\n",
       "    <tr>\n",
       "      <th>98444</th>\n",
       "      <td>98444</td>\n",
       "      <td>위협대화</td>\n",
       "      <td>생각 좀 하고 살았으면 좋겠다 보통 누가 저런짓을 하냐\\n지가 개념이 없는거면서 남...</td>\n",
       "      <td>IMMORAL_NONE\\nIMMORAL_NONE\\nCENSURE</td>\n",
       "      <td>[0, 0, 1.0]</td>\n",
       "      <td>[False, False, True]</td>\n",
       "    </tr>\n",
       "  </tbody>\n",
       "</table>\n",
       "<p>98445 rows × 6 columns</p>\n",
       "</div>"
      ],
      "text/plain": [
       "         idx class                                       conversation  \\\n",
       "0          0  위협대화  형광색 바지 입는 급식들 왜 이렇게 많아?\\nㅈ같은 유행 돌았나보네ㅋㅋ\\n형광 바지...   \n",
       "1          1  위협대화  자기 몸 긍정 운동가들이라고 하면서 꼴값 떠는 한녀들을 죽여 버리고 싶다.\\n자기 ...   \n",
       "2          2  위협대화  난 아침에는 항상 시리얼을 먹어\\n그딴 과자부스러기를 왜먹어?\\n너도 같은 부스러기...   \n",
       "3          3  위협대화  저는 제 와이프가 너무 자랑스러워요\\n유일하게 남자들 세계를 잘 이해해주거든요\\n자...   \n",
       "4          4  위협대화  애들은 흙을 좀 만지면서 커야 해.\\n그랬다가 나중에 공부라도 못하게 된다면 도시로...   \n",
       "...      ...   ...                                                ...   \n",
       "98440  98440  위협대화  울 학교 선배들 벌써부터 군기 잡더라\\n머가리 곡괭이로 요단강 내버리고 싶겠네ㅋㅋ\\...   \n",
       "98441  98441  위협대화  월급 들어오기까지 한참 남았는데 돈 나갈 일이 너무 많네\\n너 여자니까 몸이 상품이...   \n",
       "98442  98442  위협대화  쟤 아버지가 도박 중독자라며?\\n맞아 조만간 빚더미에 앉을걸?\\n도박하는 사람들이랑...   \n",
       "98443  98443  위협대화                  너 여자친구랑 동거해?\\n응응 동거하지\\n진짜 징하게 먹겠네   \n",
       "98444  98444  위협대화  생각 좀 하고 살았으면 좋겠다 보통 누가 저런짓을 하냐\\n지가 개념이 없는거면서 남...   \n",
       "\n",
       "                                                   types  \\\n",
       "0                          IMMORAL_NONE\\nABUSE\\nVIOLENCE   \n",
       "1      HATE\\nVIOLENCE\\nIMMORAL_NONE\\nIMMORAL_NONE\\nIM...   \n",
       "2                   IMMORAL_NONE\\nCENSURE\\nHATE\\nCENSURE   \n",
       "3                    IMMORAL_NONE\\nIMMORAL_NONE\\nCENSURE   \n",
       "4                         IMMORAL_NONE\\nCENSURE\\nCENSURE   \n",
       "...                                                  ...   \n",
       "98440                   IMMORAL_NONE\\nVIOLENCE\\nVIOLENCE   \n",
       "98441  IMMORAL_NONE\\nDISCRIMINATION\\nHATE\\nCENSURE\\nS...   \n",
       "98442  CENSURE\\nCENSURE\\nIMMORAL_NONE\\nDISCRIMINATION...   \n",
       "98443                 IMMORAL_NONE\\nIMMORAL_NONE\\nSEXUAL   \n",
       "98444                IMMORAL_NONE\\nIMMORAL_NONE\\nCENSURE   \n",
       "\n",
       "                     intensity                          is_immoral  \n",
       "0                [0, 1.6, 1.8]                 [False, True, True]  \n",
       "1            [1.6, 0, 0, 0, 0]  [True, False, False, False, False]  \n",
       "2                [0, 1.0, 1.4]                 [False, True, True]  \n",
       "3                  [0, 0, 1.0]                [False, False, True]  \n",
       "4                [0, 1.4, 1.0]                 [False, True, True]  \n",
       "...                        ...                                 ...  \n",
       "98440            [0, 1.8, 1.8]                 [False, True, True]  \n",
       "98441            [0, 1.8, 1.8]                 [False, True, True]  \n",
       "98442  [1.6, 1.4, 0, 1.6, 1.4]     [True, True, False, True, True]  \n",
       "98443              [0, 0, 1.8]                [False, False, True]  \n",
       "98444              [0, 0, 1.0]                [False, False, True]  \n",
       "\n",
       "[98445 rows x 6 columns]"
      ]
     },
     "execution_count": 325,
     "metadata": {},
     "output_type": "execute_result"
    }
   ],
   "source": [
    "full_af"
   ]
  },
  {
   "cell_type": "code",
   "execution_count": 327,
   "id": "e7589d8a",
   "metadata": {
    "scrolled": false
   },
   "outputs": [
    {
     "data": {
      "text/html": [
       "<div>\n",
       "<style scoped>\n",
       "    .dataframe tbody tr th:only-of-type {\n",
       "        vertical-align: middle;\n",
       "    }\n",
       "\n",
       "    .dataframe tbody tr th {\n",
       "        vertical-align: top;\n",
       "    }\n",
       "\n",
       "    .dataframe thead th {\n",
       "        text-align: right;\n",
       "    }\n",
       "</style>\n",
       "<table border=\"1\" class=\"dataframe\">\n",
       "  <thead>\n",
       "    <tr style=\"text-align: right;\">\n",
       "      <th></th>\n",
       "      <th>idx</th>\n",
       "      <th>class</th>\n",
       "      <th>conversation</th>\n",
       "      <th>types</th>\n",
       "      <th>intensity</th>\n",
       "      <th>is_immoral</th>\n",
       "    </tr>\n",
       "  </thead>\n",
       "  <tbody>\n",
       "    <tr>\n",
       "      <th>0</th>\n",
       "      <td>0</td>\n",
       "      <td>위협대화</td>\n",
       "      <td>형광색 바지 입는 급식들 왜 이렇게 많아?\\nㅈ같은 유행 돌았나보네ㅋㅋ\\n형광 바지...</td>\n",
       "      <td>IMMORAL_NONE\\nABUSE\\nVIOLENCE</td>\n",
       "      <td>[0, 1.6, 1.8]</td>\n",
       "      <td>[False, True, True]</td>\n",
       "    </tr>\n",
       "    <tr>\n",
       "      <th>1</th>\n",
       "      <td>1</td>\n",
       "      <td>위협대화</td>\n",
       "      <td>자기 몸 긍정 운동가들이라고 하면서 꼴값 떠는 한녀들을 죽여 버리고 싶다.\\n자기 ...</td>\n",
       "      <td>HATE\\nVIOLENCE\\nIMMORAL_NONE\\nIMMORAL_NONE\\nIM...</td>\n",
       "      <td>[1.6, 0, 0, 0, 0]</td>\n",
       "      <td>[True, False, False, False, False]</td>\n",
       "    </tr>\n",
       "    <tr>\n",
       "      <th>2</th>\n",
       "      <td>2</td>\n",
       "      <td>위협대화</td>\n",
       "      <td>난 아침에는 항상 시리얼을 먹어\\n그딴 과자부스러기를 왜먹어?\\n너도 같은 부스러기...</td>\n",
       "      <td>IMMORAL_NONE\\nCENSURE\\nHATE\\nCENSURE</td>\n",
       "      <td>[0, 1.0, 1.4]</td>\n",
       "      <td>[False, True, True]</td>\n",
       "    </tr>\n",
       "    <tr>\n",
       "      <th>3</th>\n",
       "      <td>3</td>\n",
       "      <td>위협대화</td>\n",
       "      <td>저는 제 와이프가 너무 자랑스러워요\\n유일하게 남자들 세계를 잘 이해해주거든요\\n자...</td>\n",
       "      <td>IMMORAL_NONE\\nIMMORAL_NONE\\nCENSURE</td>\n",
       "      <td>[0, 0, 1.0]</td>\n",
       "      <td>[False, False, True]</td>\n",
       "    </tr>\n",
       "    <tr>\n",
       "      <th>4</th>\n",
       "      <td>4</td>\n",
       "      <td>위협대화</td>\n",
       "      <td>애들은 흙을 좀 만지면서 커야 해.\\n그랬다가 나중에 공부라도 못하게 된다면 도시로...</td>\n",
       "      <td>IMMORAL_NONE\\nCENSURE\\nCENSURE</td>\n",
       "      <td>[0, 1.4, 1.0]</td>\n",
       "      <td>[False, True, True]</td>\n",
       "    </tr>\n",
       "    <tr>\n",
       "      <th>...</th>\n",
       "      <td>...</td>\n",
       "      <td>...</td>\n",
       "      <td>...</td>\n",
       "      <td>...</td>\n",
       "      <td>...</td>\n",
       "      <td>...</td>\n",
       "    </tr>\n",
       "    <tr>\n",
       "      <th>98440</th>\n",
       "      <td>98440</td>\n",
       "      <td>위협대화</td>\n",
       "      <td>울 학교 선배들 벌써부터 군기 잡더라\\n머가리 곡괭이로 요단강 내버리고 싶겠네ㅋㅋ\\...</td>\n",
       "      <td>IMMORAL_NONE\\nVIOLENCE\\nVIOLENCE</td>\n",
       "      <td>[0, 1.8, 1.8]</td>\n",
       "      <td>[False, True, True]</td>\n",
       "    </tr>\n",
       "    <tr>\n",
       "      <th>98441</th>\n",
       "      <td>98441</td>\n",
       "      <td>위협대화</td>\n",
       "      <td>월급 들어오기까지 한참 남았는데 돈 나갈 일이 너무 많네\\n너 여자니까 몸이 상품이...</td>\n",
       "      <td>IMMORAL_NONE\\nDISCRIMINATION\\nHATE\\nCENSURE\\nS...</td>\n",
       "      <td>[0, 1.8, 1.8]</td>\n",
       "      <td>[False, True, True]</td>\n",
       "    </tr>\n",
       "    <tr>\n",
       "      <th>98442</th>\n",
       "      <td>98442</td>\n",
       "      <td>위협대화</td>\n",
       "      <td>쟤 아버지가 도박 중독자라며?\\n맞아 조만간 빚더미에 앉을걸?\\n도박하는 사람들이랑...</td>\n",
       "      <td>CENSURE\\nCENSURE\\nIMMORAL_NONE\\nDISCRIMINATION...</td>\n",
       "      <td>[1.6, 1.4, 0, 1.6, 1.4]</td>\n",
       "      <td>[True, True, False, True, True]</td>\n",
       "    </tr>\n",
       "    <tr>\n",
       "      <th>98443</th>\n",
       "      <td>98443</td>\n",
       "      <td>위협대화</td>\n",
       "      <td>너 여자친구랑 동거해?\\n응응 동거하지\\n진짜 징하게 먹겠네</td>\n",
       "      <td>IMMORAL_NONE\\nIMMORAL_NONE\\nSEXUAL</td>\n",
       "      <td>[0, 0, 1.8]</td>\n",
       "      <td>[False, False, True]</td>\n",
       "    </tr>\n",
       "    <tr>\n",
       "      <th>98444</th>\n",
       "      <td>98444</td>\n",
       "      <td>위협대화</td>\n",
       "      <td>생각 좀 하고 살았으면 좋겠다 보통 누가 저런짓을 하냐\\n지가 개념이 없는거면서 남...</td>\n",
       "      <td>IMMORAL_NONE\\nIMMORAL_NONE\\nCENSURE</td>\n",
       "      <td>[0, 0, 1.0]</td>\n",
       "      <td>[False, False, True]</td>\n",
       "    </tr>\n",
       "  </tbody>\n",
       "</table>\n",
       "<p>98445 rows × 6 columns</p>\n",
       "</div>"
      ],
      "text/plain": [
       "         idx class                                       conversation  \\\n",
       "0          0  위협대화  형광색 바지 입는 급식들 왜 이렇게 많아?\\nㅈ같은 유행 돌았나보네ㅋㅋ\\n형광 바지...   \n",
       "1          1  위협대화  자기 몸 긍정 운동가들이라고 하면서 꼴값 떠는 한녀들을 죽여 버리고 싶다.\\n자기 ...   \n",
       "2          2  위협대화  난 아침에는 항상 시리얼을 먹어\\n그딴 과자부스러기를 왜먹어?\\n너도 같은 부스러기...   \n",
       "3          3  위협대화  저는 제 와이프가 너무 자랑스러워요\\n유일하게 남자들 세계를 잘 이해해주거든요\\n자...   \n",
       "4          4  위협대화  애들은 흙을 좀 만지면서 커야 해.\\n그랬다가 나중에 공부라도 못하게 된다면 도시로...   \n",
       "...      ...   ...                                                ...   \n",
       "98440  98440  위협대화  울 학교 선배들 벌써부터 군기 잡더라\\n머가리 곡괭이로 요단강 내버리고 싶겠네ㅋㅋ\\...   \n",
       "98441  98441  위협대화  월급 들어오기까지 한참 남았는데 돈 나갈 일이 너무 많네\\n너 여자니까 몸이 상품이...   \n",
       "98442  98442  위협대화  쟤 아버지가 도박 중독자라며?\\n맞아 조만간 빚더미에 앉을걸?\\n도박하는 사람들이랑...   \n",
       "98443  98443  위협대화                  너 여자친구랑 동거해?\\n응응 동거하지\\n진짜 징하게 먹겠네   \n",
       "98444  98444  위협대화  생각 좀 하고 살았으면 좋겠다 보통 누가 저런짓을 하냐\\n지가 개념이 없는거면서 남...   \n",
       "\n",
       "                                                   types  \\\n",
       "0                          IMMORAL_NONE\\nABUSE\\nVIOLENCE   \n",
       "1      HATE\\nVIOLENCE\\nIMMORAL_NONE\\nIMMORAL_NONE\\nIM...   \n",
       "2                   IMMORAL_NONE\\nCENSURE\\nHATE\\nCENSURE   \n",
       "3                    IMMORAL_NONE\\nIMMORAL_NONE\\nCENSURE   \n",
       "4                         IMMORAL_NONE\\nCENSURE\\nCENSURE   \n",
       "...                                                  ...   \n",
       "98440                   IMMORAL_NONE\\nVIOLENCE\\nVIOLENCE   \n",
       "98441  IMMORAL_NONE\\nDISCRIMINATION\\nHATE\\nCENSURE\\nS...   \n",
       "98442  CENSURE\\nCENSURE\\nIMMORAL_NONE\\nDISCRIMINATION...   \n",
       "98443                 IMMORAL_NONE\\nIMMORAL_NONE\\nSEXUAL   \n",
       "98444                IMMORAL_NONE\\nIMMORAL_NONE\\nCENSURE   \n",
       "\n",
       "                     intensity                          is_immoral  \n",
       "0                [0, 1.6, 1.8]                 [False, True, True]  \n",
       "1            [1.6, 0, 0, 0, 0]  [True, False, False, False, False]  \n",
       "2                [0, 1.0, 1.4]                 [False, True, True]  \n",
       "3                  [0, 0, 1.0]                [False, False, True]  \n",
       "4                [0, 1.4, 1.0]                 [False, True, True]  \n",
       "...                        ...                                 ...  \n",
       "98440            [0, 1.8, 1.8]                 [False, True, True]  \n",
       "98441            [0, 1.8, 1.8]                 [False, True, True]  \n",
       "98442  [1.6, 1.4, 0, 1.6, 1.4]     [True, True, False, True, True]  \n",
       "98443              [0, 0, 1.8]                [False, False, True]  \n",
       "98444              [0, 0, 1.0]                [False, False, True]  \n",
       "\n",
       "[98445 rows x 6 columns]"
      ]
     },
     "execution_count": 327,
     "metadata": {},
     "output_type": "execute_result"
    }
   ],
   "source": [
    "pd.read_csv('full_immoral(_ing).csv')"
   ]
  },
  {
   "cell_type": "code",
   "execution_count": 328,
   "id": "cd585c70",
   "metadata": {},
   "outputs": [
    {
     "data": {
      "text/plain": [
       "<function __main__.has_large_intensity(intensities)>"
      ]
     },
     "execution_count": 328,
     "metadata": {},
     "output_type": "execute_result"
    }
   ],
   "source": [
    "has_large_intensity"
   ]
  },
  {
   "cell_type": "markdown",
   "id": "b6cb0eb6",
   "metadata": {},
   "source": [
    "### 본격적으로 분리 시작"
   ]
  },
  {
   "cell_type": "code",
   "execution_count": 329,
   "id": "b24e202b",
   "metadata": {},
   "outputs": [],
   "source": [
    "try_df = full_af.copy()"
   ]
  },
  {
   "cell_type": "code",
   "execution_count": 330,
   "id": "43f5cc47",
   "metadata": {},
   "outputs": [
    {
     "data": {
      "text/html": [
       "<div>\n",
       "<style scoped>\n",
       "    .dataframe tbody tr th:only-of-type {\n",
       "        vertical-align: middle;\n",
       "    }\n",
       "\n",
       "    .dataframe tbody tr th {\n",
       "        vertical-align: top;\n",
       "    }\n",
       "\n",
       "    .dataframe thead th {\n",
       "        text-align: right;\n",
       "    }\n",
       "</style>\n",
       "<table border=\"1\" class=\"dataframe\">\n",
       "  <thead>\n",
       "    <tr style=\"text-align: right;\">\n",
       "      <th></th>\n",
       "      <th>idx</th>\n",
       "      <th>class</th>\n",
       "      <th>conversation</th>\n",
       "      <th>types</th>\n",
       "      <th>intensity</th>\n",
       "      <th>is_immoral</th>\n",
       "    </tr>\n",
       "  </thead>\n",
       "  <tbody>\n",
       "    <tr>\n",
       "      <th>0</th>\n",
       "      <td>0</td>\n",
       "      <td>위협대화</td>\n",
       "      <td>형광색 바지 입는 급식들 왜 이렇게 많아?\\nㅈ같은 유행 돌았나보네ㅋㅋ\\n형광 바지...</td>\n",
       "      <td>IMMORAL_NONE\\nABUSE\\nVIOLENCE</td>\n",
       "      <td>[0, 1.6, 1.8]</td>\n",
       "      <td>[False, True, True]</td>\n",
       "    </tr>\n",
       "    <tr>\n",
       "      <th>1</th>\n",
       "      <td>1</td>\n",
       "      <td>위협대화</td>\n",
       "      <td>자기 몸 긍정 운동가들이라고 하면서 꼴값 떠는 한녀들을 죽여 버리고 싶다.\\n자기 ...</td>\n",
       "      <td>HATE\\nVIOLENCE\\nIMMORAL_NONE\\nIMMORAL_NONE\\nIM...</td>\n",
       "      <td>[1.6, 0, 0, 0, 0]</td>\n",
       "      <td>[True, False, False, False, False]</td>\n",
       "    </tr>\n",
       "    <tr>\n",
       "      <th>2</th>\n",
       "      <td>2</td>\n",
       "      <td>위협대화</td>\n",
       "      <td>난 아침에는 항상 시리얼을 먹어\\n그딴 과자부스러기를 왜먹어?\\n너도 같은 부스러기...</td>\n",
       "      <td>IMMORAL_NONE\\nCENSURE\\nHATE\\nCENSURE</td>\n",
       "      <td>[0, 1.0, 1.4]</td>\n",
       "      <td>[False, True, True]</td>\n",
       "    </tr>\n",
       "    <tr>\n",
       "      <th>3</th>\n",
       "      <td>3</td>\n",
       "      <td>위협대화</td>\n",
       "      <td>저는 제 와이프가 너무 자랑스러워요\\n유일하게 남자들 세계를 잘 이해해주거든요\\n자...</td>\n",
       "      <td>IMMORAL_NONE\\nIMMORAL_NONE\\nCENSURE</td>\n",
       "      <td>[0, 0, 1.0]</td>\n",
       "      <td>[False, False, True]</td>\n",
       "    </tr>\n",
       "    <tr>\n",
       "      <th>4</th>\n",
       "      <td>4</td>\n",
       "      <td>위협대화</td>\n",
       "      <td>애들은 흙을 좀 만지면서 커야 해.\\n그랬다가 나중에 공부라도 못하게 된다면 도시로...</td>\n",
       "      <td>IMMORAL_NONE\\nCENSURE\\nCENSURE</td>\n",
       "      <td>[0, 1.4, 1.0]</td>\n",
       "      <td>[False, True, True]</td>\n",
       "    </tr>\n",
       "    <tr>\n",
       "      <th>...</th>\n",
       "      <td>...</td>\n",
       "      <td>...</td>\n",
       "      <td>...</td>\n",
       "      <td>...</td>\n",
       "      <td>...</td>\n",
       "      <td>...</td>\n",
       "    </tr>\n",
       "    <tr>\n",
       "      <th>98440</th>\n",
       "      <td>98440</td>\n",
       "      <td>위협대화</td>\n",
       "      <td>울 학교 선배들 벌써부터 군기 잡더라\\n머가리 곡괭이로 요단강 내버리고 싶겠네ㅋㅋ\\...</td>\n",
       "      <td>IMMORAL_NONE\\nVIOLENCE\\nVIOLENCE</td>\n",
       "      <td>[0, 1.8, 1.8]</td>\n",
       "      <td>[False, True, True]</td>\n",
       "    </tr>\n",
       "    <tr>\n",
       "      <th>98441</th>\n",
       "      <td>98441</td>\n",
       "      <td>위협대화</td>\n",
       "      <td>월급 들어오기까지 한참 남았는데 돈 나갈 일이 너무 많네\\n너 여자니까 몸이 상품이...</td>\n",
       "      <td>IMMORAL_NONE\\nDISCRIMINATION\\nHATE\\nCENSURE\\nS...</td>\n",
       "      <td>[0, 1.8, 1.8]</td>\n",
       "      <td>[False, True, True]</td>\n",
       "    </tr>\n",
       "    <tr>\n",
       "      <th>98442</th>\n",
       "      <td>98442</td>\n",
       "      <td>위협대화</td>\n",
       "      <td>쟤 아버지가 도박 중독자라며?\\n맞아 조만간 빚더미에 앉을걸?\\n도박하는 사람들이랑...</td>\n",
       "      <td>CENSURE\\nCENSURE\\nIMMORAL_NONE\\nDISCRIMINATION...</td>\n",
       "      <td>[1.6, 1.4, 0, 1.6, 1.4]</td>\n",
       "      <td>[True, True, False, True, True]</td>\n",
       "    </tr>\n",
       "    <tr>\n",
       "      <th>98443</th>\n",
       "      <td>98443</td>\n",
       "      <td>위협대화</td>\n",
       "      <td>너 여자친구랑 동거해?\\n응응 동거하지\\n진짜 징하게 먹겠네</td>\n",
       "      <td>IMMORAL_NONE\\nIMMORAL_NONE\\nSEXUAL</td>\n",
       "      <td>[0, 0, 1.8]</td>\n",
       "      <td>[False, False, True]</td>\n",
       "    </tr>\n",
       "    <tr>\n",
       "      <th>98444</th>\n",
       "      <td>98444</td>\n",
       "      <td>위협대화</td>\n",
       "      <td>생각 좀 하고 살았으면 좋겠다 보통 누가 저런짓을 하냐\\n지가 개념이 없는거면서 남...</td>\n",
       "      <td>IMMORAL_NONE\\nIMMORAL_NONE\\nCENSURE</td>\n",
       "      <td>[0, 0, 1.0]</td>\n",
       "      <td>[False, False, True]</td>\n",
       "    </tr>\n",
       "  </tbody>\n",
       "</table>\n",
       "<p>98445 rows × 6 columns</p>\n",
       "</div>"
      ],
      "text/plain": [
       "         idx class                                       conversation  \\\n",
       "0          0  위협대화  형광색 바지 입는 급식들 왜 이렇게 많아?\\nㅈ같은 유행 돌았나보네ㅋㅋ\\n형광 바지...   \n",
       "1          1  위협대화  자기 몸 긍정 운동가들이라고 하면서 꼴값 떠는 한녀들을 죽여 버리고 싶다.\\n자기 ...   \n",
       "2          2  위협대화  난 아침에는 항상 시리얼을 먹어\\n그딴 과자부스러기를 왜먹어?\\n너도 같은 부스러기...   \n",
       "3          3  위협대화  저는 제 와이프가 너무 자랑스러워요\\n유일하게 남자들 세계를 잘 이해해주거든요\\n자...   \n",
       "4          4  위협대화  애들은 흙을 좀 만지면서 커야 해.\\n그랬다가 나중에 공부라도 못하게 된다면 도시로...   \n",
       "...      ...   ...                                                ...   \n",
       "98440  98440  위협대화  울 학교 선배들 벌써부터 군기 잡더라\\n머가리 곡괭이로 요단강 내버리고 싶겠네ㅋㅋ\\...   \n",
       "98441  98441  위협대화  월급 들어오기까지 한참 남았는데 돈 나갈 일이 너무 많네\\n너 여자니까 몸이 상품이...   \n",
       "98442  98442  위협대화  쟤 아버지가 도박 중독자라며?\\n맞아 조만간 빚더미에 앉을걸?\\n도박하는 사람들이랑...   \n",
       "98443  98443  위협대화                  너 여자친구랑 동거해?\\n응응 동거하지\\n진짜 징하게 먹겠네   \n",
       "98444  98444  위협대화  생각 좀 하고 살았으면 좋겠다 보통 누가 저런짓을 하냐\\n지가 개념이 없는거면서 남...   \n",
       "\n",
       "                                                   types  \\\n",
       "0                          IMMORAL_NONE\\nABUSE\\nVIOLENCE   \n",
       "1      HATE\\nVIOLENCE\\nIMMORAL_NONE\\nIMMORAL_NONE\\nIM...   \n",
       "2                   IMMORAL_NONE\\nCENSURE\\nHATE\\nCENSURE   \n",
       "3                    IMMORAL_NONE\\nIMMORAL_NONE\\nCENSURE   \n",
       "4                         IMMORAL_NONE\\nCENSURE\\nCENSURE   \n",
       "...                                                  ...   \n",
       "98440                   IMMORAL_NONE\\nVIOLENCE\\nVIOLENCE   \n",
       "98441  IMMORAL_NONE\\nDISCRIMINATION\\nHATE\\nCENSURE\\nS...   \n",
       "98442  CENSURE\\nCENSURE\\nIMMORAL_NONE\\nDISCRIMINATION...   \n",
       "98443                 IMMORAL_NONE\\nIMMORAL_NONE\\nSEXUAL   \n",
       "98444                IMMORAL_NONE\\nIMMORAL_NONE\\nCENSURE   \n",
       "\n",
       "                     intensity                          is_immoral  \n",
       "0                [0, 1.6, 1.8]                 [False, True, True]  \n",
       "1            [1.6, 0, 0, 0, 0]  [True, False, False, False, False]  \n",
       "2                [0, 1.0, 1.4]                 [False, True, True]  \n",
       "3                  [0, 0, 1.0]                [False, False, True]  \n",
       "4                [0, 1.4, 1.0]                 [False, True, True]  \n",
       "...                        ...                                 ...  \n",
       "98440            [0, 1.8, 1.8]                 [False, True, True]  \n",
       "98441            [0, 1.8, 1.8]                 [False, True, True]  \n",
       "98442  [1.6, 1.4, 0, 1.6, 1.4]     [True, True, False, True, True]  \n",
       "98443              [0, 0, 1.8]                [False, False, True]  \n",
       "98444              [0, 0, 1.0]                [False, False, True]  \n",
       "\n",
       "[98445 rows x 6 columns]"
      ]
     },
     "execution_count": 330,
     "metadata": {},
     "output_type": "execute_result"
    }
   ],
   "source": [
    "try_df"
   ]
  },
  {
   "cell_type": "markdown",
   "id": "2bfa5615",
   "metadata": {},
   "source": [
    "### 2.0 이상인 값이 존재하는지 검사"
   ]
  },
  {
   "cell_type": "code",
   "execution_count": 331,
   "id": "5c85820a",
   "metadata": {},
   "outputs": [],
   "source": [
    "# 2.0 이상인 값이 존재하는지 검사하는 함수\n",
    "def has_large_intensity(intensities):\n",
    "    return any([intensity >= 2.0 for intensity in intensities])\n",
    "\n",
    "# apply() 함수를 사용하여 has_large_intensity 함수를 적용\n",
    "more_than_2_df = try_df['intensity'].apply(has_large_intensity)"
   ]
  },
  {
   "cell_type": "code",
   "execution_count": 332,
   "id": "113be2f4",
   "metadata": {},
   "outputs": [
    {
     "data": {
      "text/plain": [
       "0        False\n",
       "1        False\n",
       "2        False\n",
       "3        False\n",
       "4        False\n",
       "         ...  \n",
       "98440    False\n",
       "98441    False\n",
       "98442    False\n",
       "98443    False\n",
       "98444    False\n",
       "Name: intensity, Length: 98445, dtype: bool"
      ]
     },
     "execution_count": 332,
     "metadata": {},
     "output_type": "execute_result"
    }
   ],
   "source": [
    "more_than_2_df"
   ]
  },
  {
   "cell_type": "code",
   "execution_count": 334,
   "id": "6d5287e4",
   "metadata": {},
   "outputs": [
    {
     "data": {
      "text/plain": [
       "9        True\n",
       "16       True\n",
       "25       True\n",
       "27       True\n",
       "29       True\n",
       "         ... \n",
       "98407    True\n",
       "98421    True\n",
       "98430    True\n",
       "98434    True\n",
       "98435    True\n",
       "Name: intensity, Length: 14305, dtype: bool"
      ]
     },
     "execution_count": 334,
     "metadata": {},
     "output_type": "execute_result"
    }
   ],
   "source": [
    "more_than_2_df[more_than_2_df]"
   ]
  },
  {
   "cell_type": "code",
   "execution_count": 333,
   "id": "89e1f876",
   "metadata": {
    "scrolled": true
   },
   "outputs": [
    {
     "name": "stdout",
     "output_type": "stream",
     "text": [
      "[9, 16, 25, 27, 29, 33, 51, 58, 66, 68, 78, 85, 90, 94, 101, 104, 106, 107, 111, 117, 120, 125, 140, 144, 146, 155, 156, 160, 181, 189, 190, 191, 196, 198, 199, 201, 202, 210, 216, 221, 223, 227, 228, 231, 236, 263, 270, 276, 278, 280, 286, 290, 295, 302, 304, 305, 328, 329, 334, 336, 345, 348, 351, 359, 369, 387, 399, 402, 403, 406, 407, 409, 413, 419, 423, 431, 445, 473, 474, 475, 480, 498, 504, 505, 524, 529, 533, 535, 546, 547, 553, 554, 555, 560, 563, 579, 584, 597, 606, 607, 619, 628, 656, 658, 659, 667, 681, 684, 701, 711, 715, 730, 733, 749, 753, 764, 766, 770, 775, 776, 779, 785, 795, 796, 809, 817, 818, 825, 827, 829, 847, 850, 854, 878, 891, 895, 901, 907, 909, 912, 927, 931, 936, 943, 947, 953, 954, 965, 970, 974, 975, 984, 991, 993, 995, 999, 1002, 1011, 1014, 1017, 1031, 1034, 1038, 1042, 1070, 1073, 1089, 1098, 1129, 1135, 1144, 1147, 1167, 1172, 1173, 1174, 1178, 1181, 1183, 1190, 1197, 1207, 1209, 1220, 1227, 1231, 1247, 1248, 1249, 1252, 1264, 1265, 1280, 1283, 1286, 1289, 1291, 1300, 1321, 1338, 1347, 1360, 1363, 1380, 1386, 1388, 1396, 1399, 1405, 1415, 1429, 1433, 1445, 1453, 1456, 1458, 1463, 1478, 1484, 1491, 1499, 1503, 1507, 1525, 1547, 1548, 1549, 1559, 1560, 1562, 1570, 1590, 1601, 1607, 1624, 1636, 1642, 1648, 1656, 1675, 1682, 1686, 1687, 1689, 1695, 1711, 1712, 1713, 1722, 1723, 1728, 1736, 1739, 1741, 1744, 1752, 1763, 1766, 1776, 1777, 1783, 1793, 1811, 1815, 1834, 1838, 1841, 1850, 1852, 1857, 1860, 1868, 1870, 1871, 1873, 1878, 1887, 1890, 1893, 1895, 1900, 1904, 1906, 1911, 1912, 1922, 1924, 1936, 1939, 1963, 1964, 1970, 1973, 1977, 1982, 1984, 1990, 1995, 2002, 2005, 2007, 2012, 2033, 2045, 2056, 2067, 2075, 2076, 2084, 2087, 2096, 2105, 2121, 2122, 2130, 2131, 2150, 2154, 2162, 2178, 2183, 2208, 2221, 2226, 2233, 2235, 2238, 2241, 2243, 2252, 2268, 2281, 2289, 2305, 2309, 2312, 2325, 2335, 2337, 2340, 2346, 2357, 2358, 2362, 2366, 2370, 2380, 2384, 2390, 2392, 2399, 2410, 2411, 2412, 2415, 2426, 2432, 2442, 2445, 2448, 2450, 2454, 2456, 2460, 2470, 2481, 2486, 2494, 2497, 2501, 2508, 2518, 2521, 2525, 2529, 2550, 2564, 2595, 2599, 2617, 2627, 2636, 2639, 2646, 2647, 2669, 2673, 2675, 2694, 2696, 2713, 2722, 2730, 2751, 2752, 2762, 2766, 2775, 2782, 2787, 2791, 2792, 2800, 2804, 2808, 2814, 2829, 2847, 2848, 2852, 2856, 2866, 2868, 2876, 2877, 2882, 2883, 2894, 2903, 2911, 2914, 2919, 2924, 2928, 2934, 2935, 2939, 2942, 2947, 2955, 2965, 2973, 2974, 2978, 2979, 2980, 2988, 3000, 3020, 3025, 3027, 3031, 3048, 3053, 3055, 3063, 3067, 3072, 3084, 3085, 3102, 3127, 3131, 3134, 3135, 3159, 3160, 3163, 3167, 3169, 3173, 3174, 3188, 3195, 3207, 3214, 3217, 3219, 3222, 3249, 3259, 3263, 3264, 3268, 3269, 3275, 3278, 3283, 3288, 3305, 3343, 3350, 3356, 3369, 3372, 3381, 3391, 3395, 3408, 3416, 3434, 3438, 3445, 3446, 3483, 3487, 3489, 3495, 3505, 3514, 3518, 3519, 3531, 3539, 3543, 3544, 3556, 3560, 3567, 3571, 3588, 3613, 3622, 3628, 3636, 3637, 3639, 3643, 3673, 3682, 3689, 3694, 3696, 3699, 3703, 3706, 3715, 3717, 3729, 3731, 3736, 3742, 3748, 3752, 3755, 3757, 3762, 3765, 3768, 3773, 3775, 3785, 3786, 3789, 3793, 3795, 3796, 3804, 3816, 3819, 3824, 3828, 3829, 3832, 3843, 3844, 3849, 3856, 3859, 3867, 3870, 3871, 3884, 3894, 3913, 3916, 3917, 3924, 3932, 3938, 3946, 3957, 3959, 3976, 3978, 3990, 3995, 3999, 4016, 4027, 4030, 4036, 4038, 4043, 4044, 4048, 4053, 4073, 4079, 4090, 4094, 4096, 4097, 4102, 4105, 4107, 4114, 4126, 4127, 4138, 4139, 4153, 4154, 4162, 4178, 4181, 4192, 4208, 4212, 4225, 4227, 4238, 4239, 4240, 4244, 4248, 4254, 4257, 4267, 4274, 4275, 4282, 4293, 4298, 4299, 4304, 4305, 4308, 4309, 4312, 4349, 4355, 4378, 4383, 4395, 4396, 4405, 4406, 4420, 4436, 4437, 4438, 4442, 4451, 4461, 4483, 4485, 4488, 4503, 4504, 4510, 4516, 4524, 4531, 4532, 4543, 4545, 4547, 4548, 4553, 4554, 4562, 4574, 4581, 4587, 4595, 4596, 4598, 4599, 4601, 4602, 4609, 4623, 4631, 4638, 4642, 4650, 4652, 4656, 4662, 4666, 4683, 4690, 4697, 4701, 4709, 4736, 4764, 4773, 4778, 4793, 4798, 4804, 4807, 4826, 4835, 4839, 4841, 4842, 4853, 4857, 4859, 4865, 4877, 4880, 4884, 4888, 4898, 4911, 4929, 4931, 4939, 4941, 4945, 4954, 4957, 4958, 4968, 4971, 4975, 4976, 4990, 5002, 5005, 5012, 5016, 5019, 5039, 5045, 5064, 5072, 5074, 5092, 5096, 5100, 5105, 5111, 5112, 5139, 5154, 5156, 5160, 5163, 5166, 5169, 5176, 5181, 5189, 5195, 5199, 5213, 5220, 5221, 5225, 5227, 5231, 5232, 5235, 5238, 5246, 5248, 5256, 5266, 5271, 5277, 5287, 5293, 5294, 5297, 5304, 5314, 5316, 5327, 5329, 5330, 5335, 5336, 5348, 5353, 5355, 5374, 5385, 5393, 5394, 5417, 5419, 5427, 5428, 5436, 5437, 5445, 5454, 5471, 5475, 5482, 5486, 5493, 5495, 5505, 5517, 5534, 5542, 5543, 5547, 5548, 5562, 5566, 5584, 5585, 5586, 5603, 5613, 5615, 5616, 5617, 5623, 5628, 5632, 5637, 5641, 5651, 5675, 5681, 5685, 5689, 5694, 5722, 5731, 5741, 5745, 5755, 5764, 5766, 5768, 5778, 5789, 5791, 5805, 5809, 5814, 5816, 5817, 5825, 5837, 5841, 5843, 5863, 5868, 5869, 5875, 5884, 5903, 5927, 5928, 5929, 5933, 5941, 5942, 5947, 5952, 5953, 5954, 5968, 5971, 5978, 5979, 5990, 5993, 5995, 6009, 6012, 6014, 6032, 6046, 6053, 6054, 6056, 6065, 6072, 6080, 6084, 6090, 6092, 6096, 6104, 6121, 6142, 6148, 6155, 6157, 6168, 6172, 6173, 6175, 6178, 6182, 6184, 6187, 6189, 6191, 6192, 6206, 6208, 6211, 6213, 6218, 6225, 6244, 6245, 6246, 6251, 6261, 6262, 6273, 6278, 6279, 6287, 6292, 6299, 6303, 6315, 6317, 6330, 6336, 6339, 6345, 6349, 6353, 6360, 6366, 6371, 6380, 6387, 6389, 6391, 6404, 6416, 6420, 6422, 6434, 6452, 6464, 6465, 6466, 6468, 6469, 6478, 6491, 6494, 6501, 6503, 6505, 6507, 6509, 6517, 6534, 6537, 6541, 6546, 6552, 6557, 6593, 6599, 6602, 6615, 6626, 6634, 6648, 6651, 6653, 6659, 6667, 6668, 6670, 6672, 6681, 6696, 6702, 6703, 6716, 6717, 6723, 6725, 6728, 6735, 6741, 6745, 6750, 6752, 6764, 6766, 6771, 6774, 6785, 6795, 6805, 6816, 6817, 6826, 6827, 6828, 6830, 6835, 6840, 6854, 6855, 6857, 6859, 6861, 6866, 6871, 6898, 6902, 6904, 6931, 6937, 6943, 6947, 6958, 6966, 6981, 6988, 7007, 7014, 7018, 7022, 7028, 7030, 7041, 7042, 7044, 7048, 7051, 7052, 7053, 7055, 7065, 7074, 7095, 7106, 7113, 7128, 7133, 7148, 7150, 7161, 7178, 7186, 7202, 7210, 7223, 7236, 7240, 7241, 7243, 7254, 7262, 7266, 7271, 7276, 7278, 7295, 7309, 7317, 7344, 7346, 7351, 7359, 7360, 7362, 7363, 7388, 7389, 7402, 7416, 7417, 7422, 7427, 7431, 7435, 7440, 7441, 7453, 7466, 7474, 7480, 7481, 7483, 7484, 7493, 7499, 7500, 7505, 7513, 7527, 7532, 7551, 7555, 7558, 7559, 7563, 7567, 7568, 7569, 7579, 7582, 7592, 7593, 7597, 7598, 7609, 7610, 7617, 7621, 7622, 7634, 7637, 7638, 7639, 7646, 7647, 7650, 7651, 7653, 7658, 7663, 7668, 7669, 7684, 7685, 7696, 7719, 7720, 7725, 7729, 7734, 7749, 7755, 7757, 7763, 7764, 7765, 7775, 7776, 7791, 7792, 7793, 7804, 7820, 7828, 7829, 7836, 7860, 7865, 7867, 7868, 7881, 7886, 7889, 7891, 7892, 7901, 7902, 7905, 7907, 7911, 7915, 7917, 7925, 7938, 7941, 7945, 7946, 7948, 7955, 7960, 7969, 7971, 7972, 7993, 8004, 8008, 8009, 8024, 8028, 8035, 8038, 8046, 8049, 8051, 8052, 8064, 8083, 8091, 8104, 8106, 8110, 8119, 8127, 8143, 8145, 8149, 8155, 8169, 8172, 8176, 8182, 8188, 8190, 8191, 8194, 8196, 8209, 8237, 8260, 8263, 8272, 8274, 8275, 8279, 8284, 8293, 8311, 8314, 8332, 8334, 8336, 8339, 8345, 8348, 8349, 8351, 8356, 8360, 8369, 8371, 8376, 8379, 8383, 8384, 8386, 8389, 8400, 8411, 8427, 8430, 8432, 8438, 8439, 8445, 8448, 8455, 8464, 8466, 8470, 8471, 8487, 8488, 8491, 8495, 8508, 8513, 8520, 8526, 8547, 8548, 8554, 8557, 8565, 8571, 8577, 8583, 8620, 8631, 8632, 8643, 8646, 8648, 8656, 8667, 8675, 8684, 8698, 8702, 8714, 8724, 8733, 8746, 8752, 8753, 8772, 8774, 8777, 8784, 8798, 8814, 8819, 8831, 8836, 8843, 8848, 8852, 8873, 8886, 8890, 8898, 8902, 8907, 8919, 8922, 8945, 8954, 8955, 8966, 8972, 8974, 8979, 8982, 8992, 8995, 8999, 9001, 9002, 9004, 9008, 9014, 9017, 9028, 9041, 9051, 9058, 9069, 9075, 9084, 9086, 9089, 9092, 9107, 9114, 9123, 9129, 9132, 9136, 9139, 9146, 9149, 9165, 9169, 9173, 9175, 9178, 9185, 9195, 9200, 9201, 9211, 9213, 9238, 9250, 9251, 9254, 9259, 9268, 9272, 9281, 9283, 9292, 9311, 9331, 9338, 9351, 9354, 9364, 9370, 9373, 9376, 9391, 9395, 9396, 9420, 9425, 9431, 9436, 9441, 9460, 9463, 9465, 9470, 9472, 9475, 9477, 9486, 9488, 9497, 9510, 9528, 9532, 9539, 9540, 9546, 9556, 9559, 9560, 9561, 9562, 9564, 9569, 9572, 9578, 9585, 9586, 9588, 9594, 9598, 9610, 9612, 9615, 9617, 9641, 9660, 9667, 9669, 9674, 9676, 9679, 9682, 9683, 9705, 9718, 9726, 9732, 9735, 9736, 9740, 9741, 9742, 9752, 9759, 9760, 9762, 9795, 9797, 9827, 9849, 9851, 9868, 9882, 9884, 9886, 9889, 9890, 9898, 9900, 9901, 9903, 9915, 9921, 9927, 9930, 9943, 9944, 9950, 9953, 9961, 9969, 9973, 9981, 9995, 10009, 10012, 10015, 10018, 10025, 10028, 10031, 10032, 10039, 10043, 10055, 10056, 10057, 10061, 10068, 10070, 10074, 10085, 10094, 10096, 10106, 10107, 10108, 10110, 10117, 10130, 10135, 10138, 10143, 10146, 10149, 10154, 10166, 10170, 10171, 10182, 10184, 10185, 10191, 10218, 10224, 10227, 10228, 10242, 10250, 10252, 10257, 10258, 10265, 10268, 10273, 10293, 10302, 10303, 10325, 10342, 10347, 10349, 10358, 10360, 10363, 10374, 10376, 10378, 10396, 10408, 10437, 10441, 10442, 10456, 10467, 10483, 10486, 10491, 10494, 10497, 10502, 10505, 10506, 10510, 10515, 10518, 10523, 10537, 10555, 10557, 10561, 10572, 10576, 10595, 10598, 10605, 10616, 10633, 10634, 10642, 10644, 10653, 10654, 10663, 10664, 10668, 10675, 10681, 10685, 10704, 10713, 10722, 10724, 10726, 10730, 10737, 10739, 10742, 10743, 10747, 10749, 10753, 10763, 10765, 10767, 10773, 10775, 10777, 10800, 10810, 10820, 10821, 10832, 10841, 10847, 10851, 10853, 10856, 10859, 10860, 10867, 10869, 10877, 10887, 10888, 10889, 10895, 10896, 10897, 10899, 10911, 10919, 10928, 10931, 10939, 10940, 10941, 10947, 10955, 10956, 10957, 10962, 10967, 10979, 10981, 10989, 10993, 11001, 11002, 11006, 11009, 11015, 11020, 11029, 11036, 11042, 11048, 11055, 11062, 11063, 11074, 11084, 11102, 11107, 11125, 11136, 11138, 11140, 11141, 11144, 11149, 11151, 11152, 11156, 11159, 11164, 11168, 11183, 11188, 11190, 11198, 11205, 11221, 11233, 11241, 11245, 11247, 11252, 11257, 11260, 11266, 11272, 11273, 11291, 11301, 11313, 11326, 11329, 11333, 11335, 11337, 11352, 11357, 11360, 11395, 11398, 11401, 11407, 11432, 11436, 11437, 11451, 11471, 11484, 11485, 11492, 11496, 11499, 11511, 11514, 11522, 11523, 11526, 11527, 11542, 11569, 11571, 11580, 11589, 11594, 11600, 11602, 11610, 11614, 11619, 11630, 11647, 11650, 11652, 11655, 11669, 11683, 11690, 11692, 11693, 11695, 11705, 11706, 11710, 11711, 11755, 11761, 11775, 11783, 11787, 11792, 11793, 11799, 11804, 11806, 11814, 11815, 11816, 11823, 11831, 11858, 11865, 11885, 11887, 11891, 11892, 11894, 11916, 11925, 11935, 11936, 11937, 11958, 11962, 11965, 11970, 11971, 11975, 11985, 11999, 12001, 12002, 12005, 12006, 12012, 12020, 12035, 12038, 12041, 12070, 12080, 12086, 12087, 12091, 12102, 12110, 12113, 12116, 12119, 12132, 12138, 12145, 12160, 12161, 12165, 12168, 12171, 12174, 12176, 12181, 12185, 12187, 12203, 12205, 12209, 12210, 12214, 12217, 12219, 12222, 12225, 12239, 12244, 12245, 12256, 12259, 12263, 12264, 12273, 12277, 12278, 12290, 12294, 12298, 12300, 12314, 12329, 12332, 12340, 12341, 12344, 12353, 12354, 12356, 12357, 12359, 12365, 12375, 12378, 12382, 12404, 12414, 12421, 12430, 12432, 12441, 12442, 12447, 12459, 12460, 12464, 12475, 12476, 12482, 12483, 12495, 12497, 12498, 12499, 12508, 12521, 12527, 12534, 12541, 12547, 12556, 12587, 12590, 12598, 12613, 12620, 12634, 12647, 12653, 12657, 12665, 12666, 12677, 12680, 12681, 12697, 12700, 12702, 12709, 12721, 12749, 12756, 12767, 12770, 12775, 12778, 12781, 12790, 12791, 12795, 12796, 12816, 12840, 12844, 12845, 12846, 12849, 12850, 12861, 12864, 12870, 12882, 12887, 12899, 12903, 12904, 12910, 12915, 12919, 12922, 12926, 12935, 12951, 12962, 12978, 12981, 12983, 12991, 12997, 13011, 13012, 13027, 13032, 13039, 13043, 13057, 13058, 13062, 13063, 13065, 13069, 13075, 13102, 13110, 13118, 13124, 13138, 13139, 13144, 13147, 13167, 13170, 13179, 13180, 13183, 13194, 13217, 13222, 13228, 13232, 13245, 13276, 13287, 13288, 13309, 13318, 13319, 13326, 13330, 13333, 13336, 13343, 13344, 13348, 13350, 13363, 13365, 13374, 13392, 13398, 13399, 13400, 13404, 13412, 13415, 13417, 13419, 13421, 13437, 13449, 13451, 13454, 13483, 13485, 13487, 13492, 13495, 13506, 13510, 13513, 13514, 13520, 13522, 13536, 13539, 13544, 13550, 13556, 13557, 13579, 13584, 13601, 13611, 13612, 13623, 13624, 13644, 13646, 13648, 13664, 13665, 13666, 13671, 13674, 13678, 13679, 13684, 13694, 13718, 13723, 13725, 13726, 13734, 13740, 13745, 13759, 13760, 13767, 13772, 13778, 13780, 13781, 13782, 13790, 13809, 13815, 13836, 13838, 13847, 13850, 13877, 13882, 13903, 13928, 13931, 13939, 13940, 13945, 13950, 13970, 13981, 13987, 14009, 14016, 14018, 14023, 14041, 14053, 14084, 14093, 14096, 14097, 14115, 14117, 14135, 14148, 14153, 14158, 14178, 14185, 14190, 14203, 14207, 14214, 14215, 14216, 14229, 14230, 14245, 14253, 14258, 14269, 14282, 14288, 14297, 14315, 14338, 14344, 14362, 14375, 14380, 14385, 14386, 14402, 14403, 14404, 14407, 14415, 14435, 14459, 14460, 14464, 14465, 14473, 14476, 14486, 14487, 14505, 14509, 14513, 14516, 14534, 14540, 14542, 14543, 14544, 14550, 14561, 14563, 14564, 14566, 14568, 14570, 14571, 14577, 14578, 14588, 14589, 14598, 14606, 14614, 14620, 14632, 14635, 14636, 14646, 14660, 14662, 14675, 14677, 14679, 14697, 14701, 14705, 14715, 14723, 14725, 14732, 14736, 14741, 14745, 14746, 14751, 14770, 14772, 14775, 14782, 14783, 14795, 14797, 14801, 14804, 14810, 14812, 14814, 14816, 14817, 14820, 14832, 14836, 14838, 14839, 14842, 14851, 14860, 14861, 14864, 14877, 14878, 14896, 14904, 14908, 14909, 14920, 14921, 14948, 14969, 14971, 14973, 14975, 15017, 15020, 15025, 15038, 15039, 15044, 15049, 15058, 15067, 15073, 15078, 15089, 15095, 15096, 15097, 15098, 15103, 15109, 15112, 15116, 15125, 15127, 15152, 15154, 15171, 15184, 15190, 15191, 15194, 15199, 15200, 15204, 15211, 15212, 15217, 15220, 15229, 15230, 15236, 15251, 15270, 15299, 15307, 15308, 15312, 15315, 15332, 15334, 15337, 15339, 15341, 15345, 15351, 15352, 15369, 15374, 15380, 15381, 15382, 15385, 15392, 15393, 15396, 15401, 15402, 15408, 15413, 15422, 15424, 15428, 15433, 15438, 15454, 15475, 15483, 15487, 15491, 15494, 15502, 15510, 15518, 15540, 15544, 15555, 15557, 15569, 15574, 15575, 15576, 15585, 15587, 15593, 15595, 15598, 15617, 15619, 15649, 15652, 15669, 15676, 15688, 15693, 15697, 15701, 15714, 15722, 15729, 15733, 15734, 15740, 15744, 15750, 15751, 15755, 15756, 15765, 15769, 15783, 15807, 15808, 15818, 15819, 15825, 15834, 15837, 15839, 15849, 15852, 15855, 15857, 15870, 15902, 15904, 15909, 15914, 15915, 15916, 15917, 15920, 15937, 15944, 15966, 15967, 15985, 15991, 15999, 16018, 16019, 16038, 16043, 16053, 16071, 16086, 16088, 16091, 16095, 16097, 16101, 16109, 16111, 16119, 16134, 16142, 16147, 16153, 16163, 16166, 16186, 16190, 16193, 16196, 16205, 16208, 16226, 16228, 16237, 16246, 16253, 16258, 16260, 16266, 16269, 16271, 16278, 16285, 16296, 16300, 16306, 16311, 16324, 16328, 16338, 16345, 16350, 16352, 16358, 16369, 16370, 16378, 16379, 16385, 16389, 16391, 16399, 16400, 16406, 16408, 16416, 16421, 16427, 16433, 16441, 16450, 16460, 16475, 16479, 16483, 16499, 16507, 16518, 16520, 16538, 16539, 16549, 16565, 16591, 16592, 16598, 16603, 16605, 16620, 16621, 16634, 16653, 16671, 16676, 16679, 16680, 16697, 16715, 16716, 16720, 16725, 16732, 16760, 16761, 16788, 16799, 16821, 16822, 16832, 16835, 16836, 16840, 16842, 16852, 16856, 16858, 16862, 16875, 16902, 16907, 16908, 16925, 16926, 16928, 16934, 16968, 16987, 16991, 16995, 17005, 17007, 17009, 17011, 17021, 17022, 17027, 17045, 17047, 17053, 17067, 17071, 17078, 17087, 17089, 17094, 17098, 17103, 17124, 17148, 17153, 17157, 17161, 17164, 17165, 17170, 17186, 17200, 17205, 17218, 17220, 17227, 17241, 17261, 17264, 17267, 17272, 17276, 17278, 17282, 17287, 17289, 17290, 17292, 17297, 17303, 17308, 17309, 17314, 17316, 17334, 17337, 17341, 17352, 17365, 17371, 17377, 17381, 17383, 17393, 17394, 17397, 17399, 17400, 17412, 17414, 17421, 17430, 17436, 17441, 17455, 17456, 17457, 17459, 17465, 17470, 17479, 17492, 17493, 17499, 17501, 17506, 17508, 17513, 17517, 17535, 17539, 17545, 17551, 17559, 17563, 17564, 17570, 17575, 17576, 17578, 17584, 17594, 17595, 17598, 17602, 17605, 17617, 17620, 17623, 17630, 17638, 17640, 17645, 17657, 17660, 17661, 17668, 17695, 17703, 17707, 17709, 17712, 17723, 17732, 17737, 17740, 17751, 17754, 17756, 17765, 17768, 17781, 17815, 17828, 17836, 17845, 17848, 17854, 17869, 17873, 17879, 17890, 17892, 17894, 17897, 17907, 17910, 17911, 17928, 17930, 17936, 17938, 17939, 17961, 17998, 17999, 18003, 18021, 18031, 18034, 18036, 18041, 18042, 18045, 18048, 18052, 18060, 18061, 18062, 18064, 18075, 18077, 18079, 18082, 18098, 18113, 18116, 18125, 18136, 18137, 18140, 18148, 18149, 18162, 18164, 18167, 18177, 18178, 18181, 18182, 18188, 18189, 18196, 18198, 18213, 18251, 18255, 18257, 18263, 18267, 18272, 18298, 18317, 18325, 18334, 18341, 18342, 18354, 18356, 18365, 18366, 18368, 18371, 18381, 18396, 18402, 18405, 18413, 18421, 18424, 18426, 18431, 18446, 18469, 18480, 18481, 18516, 18519, 18529, 18530, 18540, 18544, 18549, 18554, 18560, 18583, 18593, 18600, 18617, 18621, 18627, 18631, 18638, 18639, 18645, 18648, 18654, 18655, 18674, 18683, 18686, 18693, 18705, 18709, 18711, 18716, 18730, 18742, 18752, 18753, 18754, 18755, 18761, 18763, 18765, 18777, 18783, 18791, 18793, 18805, 18807, 18816, 18819, 18830, 18831, 18837, 18838, 18855, 18857, 18867, 18883, 18895, 18898, 18920, 18928, 18934, 18937, 18938, 18945, 18957, 18975, 18979, 18984, 18989, 19007, 19008, 19017, 19023, 19033, 19034, 19045, 19049, 19053, 19056, 19058, 19063, 19069, 19070, 19074, 19078, 19086, 19090, 19091, 19101, 19102, 19104, 19109, 19110, 19132, 19139, 19140, 19160, 19161, 19163, 19174, 19176, 19187, 19194, 19196, 19199, 19201, 19204, 19220, 19227, 19233, 19247, 19261, 19269, 19273, 19277, 19285, 19289, 19302, 19305, 19307, 19310, 19313, 19329, 19334, 19354, 19360, 19364, 19366, 19369, 19377, 19388, 19389, 19395, 19400, 19409, 19427, 19432, 19434, 19440, 19455, 19458, 19468, 19471, 19474, 19476, 19478, 19481, 19482, 19492, 19501, 19502, 19504, 19509, 19516, 19531, 19544, 19551, 19560, 19568, 19578, 19579, 19587, 19592, 19594, 19604, 19608, 19614, 19619, 19623, 19634, 19651, 19665, 19674, 19678, 19679, 19698, 19705, 19714, 19716, 19718, 19722, 19740, 19747, 19755, 19757, 19767, 19774, 19779, 19783, 19790, 19793, 19795, 19796, 19800, 19806, 19809, 19814, 19829, 19833, 19835, 19844, 19845, 19849, 19870, 19878, 19879, 19880, 19885, 19887, 19888, 19890, 19891, 19899, 19905, 19910, 19912, 19916, 19917, 19920, 19925, 19952, 19959, 19965, 19967, 19969, 19975, 19979, 19984, 19991, 19993, 19994, 20017, 20018, 20023, 20025, 20034, 20037, 20040, 20048, 20058, 20076, 20088, 20091, 20092, 20095, 20096, 20098, 20102, 20108, 20112, 20120, 20134, 20162, 20163, 20164, 20169, 20187, 20193, 20194, 20213, 20218, 20222, 20224, 20235, 20236, 20242, 20243, 20244, 20249, 20252, 20268, 20273, 20286, 20295, 20296, 20308, 20317, 20345, 20347, 20348, 20356, 20370, 20373, 20390, 20400, 20404, 20419, 20422, 20438, 20442, 20453, 20455, 20459, 20464, 20465, 20468, 20474, 20484, 20485, 20498, 20506, 20507, 20514, 20516, 20518, 20536, 20539, 20543, 20567, 20580, 20584, 20590, 20596, 20598, 20601, 20616, 20620, 20625, 20632, 20636, 20642, 20643, 20654, 20659, 20663, 20664, 20673, 20680, 20682, 20684, 20688, 20691, 20700, 20703, 20706, 20720, 20723, 20727, 20731, 20759, 20762, 20778, 20787, 20818, 20824, 20833, 20836, 20856, 20861, 20862, 20863, 20867, 20870, 20872, 20879, 20886, 20896, 20898, 20909, 20916, 20920, 20936, 20937, 20938, 20941, 20953, 20954, 20969, 20972, 20975, 20978, 20980, 20989, 21010, 21027, 21036, 21049, 21052, 21069, 21075, 21077, 21085, 21088, 21094, 21104, 21118, 21122, 21134, 21142, 21145, 21147, 21152, 21167, 21173, 21180, 21188, 21192, 21196, 21214, 21236, 21237, 21238, 21248, 21249, 21251, 21259, 21279, 21290, 21296, 21313, 21325, 21331, 21337, 21345, 21364, 21371, 21375, 21376, 21378, 21384, 21400, 21401, 21402, 21411, 21412, 21417, 21425, 21428, 21430, 21433, 21441, 21452, 21455, 21465, 21466, 21472, 21482, 21500, 21504, 21523, 21527, 21530, 21539, 21541, 21546, 21549, 21557, 21559, 21560, 21562, 21567, 21576, 21579, 21582, 21584, 21589, 21593, 21595, 21600, 21601, 21611, 21613, 21625, 21628, 21652, 21653, 21659, 21662, 21666, 21671, 21673, 21679, 21684, 21691, 21694, 21696, 21701, 21722, 21734, 21745, 21756, 21764, 21765, 21773, 21776, 21785, 21794, 21810, 21811, 21819, 21820, 21839, 21843, 21851, 21867, 21872, 21897, 21910, 21915, 21922, 21924, 21927, 21930, 21932, 21941, 21957, 21970, 21978, 21994, 21998, 22001, 22014, 22024, 22026, 22029, 22035, 22046, 22047, 22051, 22055, 22059, 22069, 22073, 22079, 22081, 22088, 22099, 22100, 22101, 22104, 22115, 22121, 22131, 22134, 22137, 22139, 22143, 22145, 22149, 22159, 22170, 22175, 22183, 22186, 22190, 22197, 22207, 22210, 22214, 22218, 22239, 22253, 22284, 22288, 22306, 22316, 22325, 22328, 22335, 22336, 22358, 22362, 22364, 22383, 22385, 22402, 22411, 22419, 22440, 22441, 22451, 22455, 22464, 22471, 22476, 22480, 22481, 22489, 22493, 22497, 22503, 22518, 22536, 22537, 22541, 22545, 22555, 22557, 22565, 22566, 22571, 22572, 22583, 22592, 22600, 22603, 22608, 22613, 22617, 22623, 22624, 22628, 22631, 22636, 22644, 22654, 22662, 22663, 22667, 22668, 22669, 22677, 22689, 22709, 22714, 22716, 22720, 22737, 22742, 22744, 22752, 22756, 22761, 22773, 22774, 22791, 22816, 22820, 22823, 22824, 22848, 22849, 22852, 22856, 22858, 22862, 22863, 22877, 22884, 22896, 22903, 22906, 22908, 22911, 22938, 22948, 22952, 22953, 22957, 22958, 22964, 22967, 22972, 22977, 22994, 23032, 23039, 23045, 23058, 23061, 23070, 23080, 23084, 23097, 23105, 23123, 23127, 23134, 23135, 23172, 23176, 23178, 23184, 23194, 23203, 23207, 23208, 23220, 23228, 23232, 23233, 23245, 23249, 23256, 23260, 23277, 23302, 23311, 23317, 23325, 23326, 23328, 23332, 23362, 23371, 23378, 23383, 23385, 23388, 23392, 23395, 23404, 23406, 23418, 23420, 23425, 23431, 23437, 23441, 23444, 23446, 23451, 23454, 23457, 23462, 23464, 23474, 23475, 23478, 23482, 23484, 23485, 23493, 23505, 23508, 23513, 23517, 23518, 23521, 23532, 23533, 23538, 23545, 23548, 23556, 23559, 23560, 23573, 23583, 23602, 23605, 23606, 23613, 23621, 23627, 23635, 23646, 23648, 23665, 23667, 23679, 23684, 23688, 23705, 23716, 23719, 23725, 23727, 23732, 23733, 23737, 23742, 23762, 23768, 23779, 23783, 23785, 23786, 23791, 23794, 23796, 23803, 23815, 23816, 23827, 23828, 23842, 23843, 23851, 23867, 23870, 23881, 23897, 23901, 23914, 23916, 23927, 23928, 23929, 23933, 23937, 23943, 23946, 23956, 23963, 23964, 23971, 23982, 23987, 23988, 23993, 23994, 23997, 23998, 24001, 24038, 24044, 24067, 24072, 24084, 24085, 24094, 24095, 24109, 24125, 24126, 24127, 24131, 24140, 24150, 24172, 24174, 24177, 24192, 24193, 24199, 24205, 24213, 24220, 24221, 24232, 24234, 24236, 24237, 24242, 24243, 24251, 24263, 24270, 24276, 24284, 24285, 24287, 24288, 24290, 24291, 24298, 24312, 24320, 24327, 24331, 24339, 24341, 24345, 24351, 24355, 24372, 24379, 24386, 24390, 24398, 24425, 24453, 24462, 24467, 24482, 24487, 24493, 24496, 24515, 24524, 24528, 24530, 24531, 24542, 24546, 24548, 24554, 24566, 24569, 24573, 24577, 24587, 24600, 24618, 24620, 24628, 24630, 24634, 24643, 24646, 24647, 24657, 24660, 24664, 24665, 24679, 24691, 24694, 24701, 24705, 24708, 24728, 24734, 24753, 24761, 24763, 24781, 24785, 24789, 24794, 24800, 24801, 24828, 24843, 24845, 24849, 24852, 24855, 24858, 24865, 24870, 24878, 24884, 24888, 24902, 24909, 24910, 24914, 24916, 24920, 24921, 24924, 24927, 24935, 24937, 24945, 24955, 24960, 24966, 24976, 24982, 24983, 24986, 24993, 25003, 25005, 25016, 25018, 25019, 25024, 25025, 25037, 25042, 25044, 25063, 25074, 25082, 25083, 25106, 25108, 25116, 25117, 25125, 25126, 25134, 25143, 25160, 25164, 25171, 25175, 25182, 25184, 25194, 25206, 25223, 25231, 25232, 25236, 25237, 25251, 25255, 25273, 25274, 25275, 25292, 25302, 25304, 25305, 25306, 25312, 25317, 25321, 25326, 25330, 25340, 25364, 25370, 25374, 25378, 25383, 25411, 25420, 25430, 25434, 25444, 25453, 25455, 25457, 25467, 25478, 25480, 25494, 25498, 25503, 25505, 25506, 25514, 25526, 25530, 25532, 25552, 25557, 25558, 25564, 25573, 25592, 25616, 25617, 25618, 25622, 25630, 25631, 25636, 25641, 25642, 25643, 25657, 25660, 25667, 25668, 25679, 25682, 25684, 25698, 25701, 25703, 25721, 25735, 25742, 25743, 25745, 25754, 25761, 25769, 25773, 25779, 25781, 25785, 25793, 25810, 25831, 25837, 25844, 25846, 25857, 25861, 25862, 25864, 25867, 25871, 25873, 25876, 25878, 25880, 25881, 25895, 25897, 25900, 25902, 25907, 25914, 25933, 25934, 25935, 25940, 25950, 25951, 25962, 25967, 25968, 25976, 25981, 25988, 25992, 26004, 26006, 26019, 26025, 26028, 26034, 26038, 26042, 26049, 26055, 26060, 26069, 26076, 26078, 26080, 26093, 26105, 26109, 26111, 26123, 26141, 26153, 26154, 26155, 26157, 26158, 26167, 26180, 26183, 26190, 26192, 26194, 26196, 26198, 26206, 26223, 26226, 26230, 26235, 26241, 26246, 26282, 26288, 26291, 26304, 26315, 26323, 26337, 26340, 26342, 26348, 26356, 26357, 26359, 26361, 26370, 26385, 26391, 26392, 26405, 26406, 26412, 26414, 26417, 26424, 26430, 26434, 26439, 26441, 26453, 26455, 26460, 26463, 26474, 26484, 26494, 26505, 26506, 26515, 26516, 26517, 26519, 26524, 26529, 26543, 26544, 26546, 26548, 26550, 26555, 26560, 26587, 26591, 26593, 26620, 26626, 26632, 26636, 26647, 26655, 26670, 26677, 26696, 26703, 26707, 26711, 26717, 26719, 26730, 26731, 26733, 26737, 26740, 26741, 26742, 26744, 26754, 26763, 26784, 26795, 26802, 26817, 26822, 26837, 26839, 26850, 26867, 26875, 26891, 26899, 26912, 26925, 26929, 26930, 26932, 26943, 26951, 26955, 26960, 26965, 26967, 26984, 26998, 27006, 27033, 27035, 27040, 27048, 27049, 27051, 27052, 27077, 27078, 27091, 27105, 27106, 27111, 27116, 27120, 27124, 27129, 27130, 27142, 27155, 27163, 27169, 27170, 27172, 27173, 27182, 27188, 27189, 27194, 27202, 27216, 27221, 27240, 27244, 27247, 27248, 27252, 27256, 27257, 27258, 27268, 27271, 27281, 27282, 27286, 27287, 27298, 27299, 27306, 27310, 27311, 27323, 27326, 27327, 27328, 27335, 27336, 27339, 27340, 27342, 27347, 27352, 27357, 27358, 27373, 27374, 27385, 27408, 27409, 27414, 27418, 27423, 27438, 27444, 27446, 27452, 27453, 27454, 27464, 27465, 27480, 27481, 27482, 27493, 27509, 27517, 27518, 27525, 27549, 27554, 27556, 27557, 27570, 27575, 27578, 27580, 27581, 27590, 27591, 27594, 27596, 27600, 27604, 27606, 27614, 27627, 27630, 27634, 27635, 27637, 27644, 27649, 27658, 27660, 27661, 27682, 27693, 27697, 27698, 27713, 27717, 27724, 27727, 27735, 27738, 27740, 27741, 27753, 27772, 27780, 27793, 27795, 27799, 27808, 27816, 27832, 27834, 27838, 27844, 27858, 27861, 27865, 27871, 27877, 27879, 27880, 27883, 27885, 27898, 27926, 27949, 27952, 27961, 27963, 27964, 27968, 27973, 27982, 28000, 28003, 28021, 28023, 28025, 28028, 28034, 28037, 28038, 28040, 28045, 28049, 28058, 28060, 28065, 28068, 28072, 28073, 28075, 28078, 28089, 28100, 28116, 28119, 28121, 28127, 28128, 28134, 28137, 28144, 28153, 28155, 28159, 28160, 28176, 28177, 28180, 28184, 28197, 28202, 28209, 28215, 28236, 28237, 28243, 28246, 28254, 28260, 28266, 28272, 28309, 28320, 28321, 28332, 28335, 28337, 28345, 28356, 28364, 28373, 28387, 28391, 28403, 28413, 28422, 28435, 28441, 28442, 28461, 28463, 28466, 28473, 28487, 28503, 28508, 28520, 28525, 28532, 28537, 28541, 28562, 28575, 28579, 28587, 28591, 28596, 28608, 28611, 28634, 28643, 28644, 28655, 28661, 28663, 28668, 28671, 28681, 28684, 28688, 28690, 28691, 28693, 28697, 28703, 28706, 28717, 28730, 28740, 28747, 28758, 28764, 28773, 28775, 28778, 28781, 28796, 28803, 28812, 28818, 28821, 28825, 28828, 28835, 28838, 28854, 28858, 28862, 28864, 28867, 28874, 28884, 28889, 28890, 28900, 28902, 28927, 28939, 28940, 28943, 28948, 28957, 28961, 28970, 28972, 28981, 29000, 29020, 29027, 29040, 29043, 29053, 29059, 29062, 29065, 29080, 29084, 29085, 29109, 29114, 29120, 29125, 29130, 29149, 29152, 29154, 29159, 29161, 29164, 29166, 29175, 29177, 29186, 29199, 29217, 29221, 29228, 29229, 29235, 29245, 29248, 29249, 29250, 29251, 29253, 29258, 29261, 29267, 29274, 29275, 29277, 29283, 29287, 29299, 29301, 29304, 29306, 29330, 29349, 29356, 29358, 29363, 29365, 29368, 29371, 29372, 29394, 29407, 29415, 29421, 29424, 29425, 29429, 29430, 29431, 29441, 29448, 29449, 29451, 29484, 29486, 29516, 29538, 29540, 29557, 29571, 29573, 29575, 29578, 29579, 29587, 29589, 29590, 29592, 29604, 29610, 29616, 29619, 29632, 29633, 29639, 29642, 29650, 29658, 29662, 29670, 29684, 29698, 29701, 29704, 29707, 29714, 29717, 29720, 29721, 29728, 29732, 29744, 29745, 29746, 29750, 29757, 29759, 29763, 29774, 29783, 29785, 29795, 29796, 29797, 29799, 29806, 29819, 29824, 29827, 29832, 29835, 29838, 29843, 29855, 29859, 29860, 29871, 29873, 29874, 29880, 29907, 29913, 29916, 29917, 29931, 29939, 29941, 29946, 29947, 29954, 29957, 29962, 29982, 29991, 29992, 30014, 30031, 30036, 30038, 30047, 30049, 30052, 30063, 30065, 30067, 30085, 30097, 30126, 30130, 30131, 30145, 30156, 30172, 30175, 30180, 30183, 30186, 30191, 30194, 30195, 30199, 30204, 30207, 30212, 30226, 30244, 30246, 30250, 30261, 30265, 30284, 30287, 30294, 30305, 30322, 30323, 30331, 30333, 30342, 30343, 30352, 30353, 30357, 30364, 30370, 30374, 30393, 30402, 30411, 30413, 30415, 30419, 30426, 30428, 30431, 30432, 30436, 30438, 30442, 30452, 30454, 30456, 30462, 30464, 30466, 30489, 30499, 30509, 30510, 30521, 30530, 30536, 30540, 30542, 30545, 30548, 30549, 30556, 30558, 30566, 30576, 30577, 30578, 30584, 30585, 30586, 30588, 30600, 30608, 30617, 30620, 30628, 30629, 30630, 30636, 30644, 30645, 30646, 30651, 30656, 30668, 30670, 30678, 30682, 30690, 30691, 30695, 30698, 30704, 30709, 30718, 30725, 30731, 30737, 30744, 30751, 30752, 30763, 30773, 30791, 30796, 30814, 30825, 30827, 30829, 30830, 30833, 30838, 30840, 30841, 30845, 30848, 30853, 30857, 30872, 30877, 30879, 30887, 30894, 30910, 30922, 30930, 30934, 30936, 30941, 30946, 30949, 30955, 30961, 30962, 30980, 30990, 31002, 31015, 31018, 31022, 31024, 31026, 31041, 31046, 31049, 31084, 31087, 31090, 31096, 31121, 31125, 31126, 31140, 31160, 31173, 31174, 31181, 31185, 31188, 31200, 31203, 31211, 31212, 31215, 31216, 31231, 31258, 31260, 31269, 31278, 31283, 31289, 31291, 31299, 31303, 31308, 31319, 31336, 31339, 31341, 31344, 31358, 31372, 31379, 31381, 31382, 31384, 31394, 31395, 31399, 31400, 31444, 31450, 31464, 31472, 31476, 31481, 31482, 31488, 31493, 31495, 31503, 31504, 31505, 31512, 31520, 31547, 31554, 31574, 31576, 31580, 31581, 31583, 31605, 31614, 31624, 31625, 31626, 31647, 31651, 31654, 31659, 31660, 31664, 31674, 31688, 31690, 31691, 31694, 31695, 31701, 31709, 31724, 31727, 31730, 31759, 31769, 31775, 31776, 31780, 31791, 31799, 31802, 31805, 31808, 31821, 31827, 31834, 31849, 31850, 31854, 31857, 31860, 31863, 31865, 31870, 31874, 31876, 31892, 31894, 31898, 31899, 31903, 31906, 31908, 31911, 31914, 31928, 31933, 31934, 31945, 31948, 31952, 31953, 31962, 31966, 31967, 31979, 31983, 31987, 31989, 32003, 32018, 32021, 32029, 32030, 32033, 32042, 32043, 32045, 32046, 32048, 32054, 32064, 32067, 32071, 32093, 32103, 32110, 32119, 32121, 32130, 32131, 32136, 32148, 32149, 32153, 32164, 32165, 32171, 32172, 32184, 32186, 32187, 32188, 32197, 32210, 32216, 32223, 32230, 32236, 32245, 32276, 32279, 32287, 32302, 32309, 32323, 32336, 32342, 32346, 32354, 32355, 32366, 32369, 32370, 32386, 32389, 32391, 32398, 32410, 32438, 32445, 32456, 32459, 32464, 32467, 32470, 32479, 32480, 32484, 32485, 32505, 32529, 32533, 32534, 32535, 32538, 32539, 32550, 32553, 32559, 32571, 32576, 32588, 32592, 32593, 32599, 32604, 32608, 32611, 32615, 32624, 32640, 32651, 32667, 32670, 32672, 32680, 32686, 32700, 32701, 32716, 32721, 32728, 32732, 32746, 32747, 32751, 32752, 32754, 32758, 32764, 32791, 32799, 32807, 32813, 32827, 32828, 32833, 32836, 32856, 32859, 32868, 32869, 32872, 32883, 32906, 32911, 32917, 32921, 32934, 32965, 32976, 32977, 32998, 33007, 33008, 33015, 33019, 33022, 33025, 33032, 33033, 33037, 33039, 33052, 33054, 33063, 33081, 33087, 33088, 33089, 33093, 33101, 33104, 33106, 33108, 33110, 33126, 33138, 33140, 33143, 33172, 33174, 33176, 33181, 33184, 33195, 33199, 33202, 33203, 33209, 33211, 33225, 33228, 33233, 33239, 33245, 33246, 33268, 33273, 33290, 33300, 33301, 33312, 33313, 33333, 33335, 33337, 33353, 33354, 33355, 33360, 33363, 33367, 33368, 33373, 33383, 33407, 33412, 33414, 33415, 33423, 33429, 33434, 33448, 33449, 33456, 33461, 33467, 33469, 33470, 33471, 33479, 33498, 33504, 33525, 33527, 33536, 33539, 33566, 33571, 33592, 33617, 33620, 33628, 33629, 33634, 33639, 33659, 33670, 33676, 33698, 33705, 33707, 33712, 33730, 33742, 33773, 33782, 33785, 33786, 33804, 33806, 33824, 33837, 33842, 33847, 33867, 33874, 33879, 33892, 33896, 33903, 33904, 33905, 33918, 33919, 33934, 33942, 33947, 33958, 33971, 33977, 33986, 34004, 34027, 34033, 34051, 34064, 34069, 34074, 34075, 34091, 34092, 34093, 34096, 34104, 34124, 34148, 34149, 34153, 34154, 34162, 34165, 34175, 34176, 34194, 34198, 34202, 34205, 34223, 34229, 34231, 34232, 34233, 34239, 34250, 34252, 34253, 34255, 34257, 34259, 34260, 34266, 34267, 34277, 34278, 34287, 34295, 34303, 34309, 34321, 34324, 34325, 34335, 34349, 34351, 34364, 34366, 34368, 34386, 34390, 34394, 34404, 34412, 34414, 34421, 34425, 34430, 34434, 34435, 34440, 34459, 34461, 34464, 34471, 34472, 34484, 34486, 34490, 34493, 34499, 34501, 34503, 34505, 34506, 34509, 34521, 34525, 34527, 34528, 34531, 34540, 34549, 34550, 34553, 34566, 34567, 34585, 34593, 34597, 34598, 34609, 34610, 34637, 34658, 34660, 34662, 34664, 34706, 34709, 34714, 34727, 34728, 34733, 34738, 34747, 34756, 34762, 34767, 34778, 34784, 34785, 34786, 34787, 34792, 34798, 34801, 34805, 34814, 34816, 34841, 34843, 34860, 34873, 34879, 34880, 34883, 34888, 34889, 34893, 34900, 34901, 34906, 34909, 34918, 34919, 34925, 34940, 34959, 34988, 34996, 34997, 35001, 35004, 35021, 35023, 35026, 35028, 35030, 35034, 35040, 35041, 35058, 35063, 35069, 35070, 35071, 35074, 35081, 35082, 35085, 35090, 35091, 35097, 35102, 35111, 35113, 35117, 35122, 35127, 35143, 35164, 35172, 35176, 35180, 35183, 35191, 35199, 35207, 35229, 35233, 35244, 35246, 35258, 35263, 35264, 35265, 35274, 35276, 35282, 35284, 35287, 35306, 35308, 35338, 35341, 35358, 35365, 35377, 35382, 35386, 35390, 35403, 35411, 35418, 35422, 35423, 35429, 35433, 35439, 35440, 35444, 35445, 35454, 35458, 35472, 35496, 35497, 35507, 35508, 35514, 35523, 35526, 35528, 35538, 35541, 35544, 35546, 35559, 35591, 35593, 35598, 35603, 35604, 35605, 35606, 35609, 35626, 35633, 35655, 35656, 35674, 35680, 35688, 35707, 35708, 35727, 35732, 35742, 35760, 35775, 35777, 35780, 35784, 35786, 35790, 35798, 35800, 35808, 35823, 35831, 35836, 35842, 35852, 35855, 35875, 35879, 35882, 35885, 35894, 35897, 35915, 35917, 35926, 35935, 35942, 35947, 35949, 35955, 35958, 35960, 35967, 35974, 35985, 35989, 35995, 36000, 36013, 36017, 36027, 36034, 36039, 36041, 36047, 36058, 36059, 36067, 36068, 36074, 36078, 36080, 36088, 36089, 36095, 36097, 36105, 36110, 36116, 36122, 36130, 36139, 36149, 36164, 36168, 36172, 36188, 36196, 36207, 36209, 36227, 36228, 36238, 36254, 36280, 36281, 36287, 36292, 36294, 36309, 36310, 36323, 36342, 36360, 36365, 36368, 36369, 36386, 36404, 36405, 36409, 36414, 36421, 36449, 36450, 36477, 36488, 36510, 36511, 36521, 36524, 36525, 36529, 36531, 36541, 36545, 36547, 36551, 36564, 36591, 36596, 36597, 36614, 36615, 36617, 36623, 36657, 36676, 36680, 36684, 36694, 36696, 36698, 36700, 36710, 36711, 36716, 36734, 36736, 36742, 36756, 36760, 36767, 36776, 36778, 36783, 36787, 36792, 36813, 36837, 36842, 36846, 36850, 36853, 36854, 36859, 36875, 36889, 36894, 36907, 36909, 36916, 36930, 36950, 36953, 36956, 36961, 36965, 36967, 36971, 36976, 36978, 36979, 36981, 36986, 36992, 36997, 36998, 37003, 37005, 37023, 37026, 37030, 37041, 37054, 37060, 37066, 37070, 37072, 37082, 37083, 37086, 37088, 37089, 37101, 37103, 37110, 37119, 37125, 37130, 37144, 37145, 37146, 37148, 37154, 37159, 37168, 37181, 37182, 37188, 37190, 37195, 37197, 37202, 37206, 37224, 37228, 37234, 37240, 37248, 37252, 37253, 37259, 37264, 37265, 37267, 37273, 37283, 37284, 37287, 37291, 37294, 37306, 37309, 37312, 37319, 37327, 37329, 37334, 37346, 37349, 37350, 37357, 37384, 37392, 37396, 37398, 37401, 37412, 37421, 37426, 37429, 37440, 37443, 37445, 37454, 37457, 37470, 37504, 37517, 37525, 37534, 37537, 37543, 37558, 37562, 37568, 37579, 37581, 37583, 37586, 37596, 37599, 37600, 37617, 37619, 37625, 37627, 37628, 37650, 37687, 37688, 37692, 37710, 37720, 37723, 37725, 37730, 37731, 37734, 37737, 37741, 37749, 37750, 37751, 37753, 37764, 37766, 37768, 37771, 37787, 37802, 37805, 37814, 37825, 37826, 37829, 37837, 37838, 37851, 37853, 37856, 37866, 37867, 37870, 37871, 37877, 37878, 37885, 37887, 37902, 37940, 37944, 37946, 37952, 37956, 37961, 37987, 38006, 38014, 38023, 38030, 38031, 38043, 38045, 38054, 38055, 38057, 38060, 38070, 38085, 38091, 38094, 38102, 38110, 38113, 38115, 38120, 38135, 38158, 38169, 38170, 38205, 38208, 38218, 38219, 38229, 38233, 38238, 38243, 38249, 38272, 38282, 38289, 38306, 38310, 38316, 38320, 38327, 38328, 38334, 38337, 38343, 38344, 38363, 38372, 38375, 38382, 38394, 38398, 38400, 38405, 38419, 38431, 38441, 38442, 38443, 38444, 38450, 38452, 38454, 38466, 38472, 38480, 38482, 38494, 38496, 38505, 38508, 38519, 38520, 38526, 38527, 38544, 38546, 38556, 38572, 38584, 38587, 38609, 38617, 38623, 38626, 38627, 38634, 38646, 38664, 38668, 38673, 38678, 38696, 38697, 38706, 38712, 38722, 38723, 38734, 38738, 38742, 38745, 38747, 38752, 38758, 38759, 38763, 38767, 38775, 38779, 38780, 38790, 38791, 38793, 38798, 38799, 38821, 38828, 38829, 38849, 38850, 38852, 38863, 38865, 38876, 38883, 38885, 38888, 38890, 38893, 38909, 38916, 38922, 38936, 38950, 38958, 38962, 38966, 38974, 38978, 38991, 38994, 38996, 38999, 39002, 39018, 39023, 39043, 39049, 39053, 39055, 39058, 39066, 39077, 39078, 39084, 39089, 39098, 39116, 39121, 39123, 39129, 39144, 39147, 39157, 39160, 39163, 39165, 39167, 39170, 39171, 39181, 39190, 39191, 39193, 39198, 39205, 39220, 39233, 39240, 39249, 39257, 39267, 39268, 39276, 39281, 39283, 39293, 39297, 39303, 39308, 39312, 39323, 39340, 39354, 39363, 39367, 39368, 39387, 39394, 39403, 39405, 39407, 39411, 39429, 39436, 39444, 39446, 39456, 39463, 39468, 39472, 39479, 39482, 39484, 39485, 39489, 39495, 39498, 39503, 39518, 39522, 39524, 39533, 39534, 39538, 39559, 39567, 39568, 39569, 39574, 39576, 39577, 39579, 39580, 39588, 39594, 39599, 39601, 39605, 39606, 39609, 39614, 39641, 39648, 39654, 39656, 39658, 39664, 39668, 39673, 39680, 39682, 39683, 39706, 39707, 39712, 39714, 39723, 39726, 39729, 39737, 39747, 39765, 39777, 39780, 39781, 39784, 39785, 39787, 39791, 39797, 39801, 39809, 39823, 39851, 39852, 39853, 39858, 39876, 39882, 39883, 39902, 39907, 39911, 39913, 39924, 39925, 39931, 39932, 39933, 39938, 39941, 39957, 39962, 39975, 39984, 39985, 39997, 40006, 40034, 40036, 40037, 40045, 40059, 40062, 40079, 40089, 40093, 40108, 40111, 40127, 40131, 40142, 40144, 40148, 40153, 40154, 40157, 40163, 40173, 40174, 40187, 40195, 40196, 40203, 40205, 40207, 40225, 40228, 40232, 40256, 40269, 40273, 40279, 40285, 40287, 40290, 40305, 40309, 40314, 40321, 40325, 40331, 40332, 40343, 40348, 40352, 40353, 40362, 40369, 40371, 40373, 40377, 40380, 40389, 40392, 40395, 40409, 40412, 40416, 40420, 40448, 40451, 40467, 40476, 40507, 40513, 40522, 40525, 40545, 40550, 40551, 40552, 40556, 40559, 40561, 40568, 40575, 40585, 40587, 40598, 40605, 40609, 40625, 40626, 40627, 40630, 40642, 40643, 40658, 40661, 40664, 40667, 40669, 40678, 40699, 40716, 40725, 40738, 40741, 40758, 40764, 40766, 40774, 40777, 40783, 40793, 40807, 40811, 40823, 40831, 40834, 40836, 40841, 40856, 40862, 40869, 40877, 40881, 40885, 40903, 40925, 40926, 40927, 40937, 40938, 40940, 40948, 40968, 40979, 40985, 41002, 41014, 41020, 41026, 41034, 41053, 41060, 41064, 41065, 41067, 41073, 41089, 41090, 41091, 41100, 41101, 41106, 41114, 41117, 41119, 41122, 41130, 41141, 41144, 41154, 41155, 41161, 41171, 41189, 41193, 41212, 41216, 41219, 41228, 41230, 41235, 41238, 41246, 41248, 41249, 41251, 41256, 41265, 41268, 41271, 41273, 41278, 41282, 41284, 41289, 41290, 41300, 41302, 41314, 41317, 41341, 41342, 41348, 41351, 41355, 41360, 41362, 41368, 41373, 41380, 41383, 41385, 41390, 41411, 41423, 41434, 41445, 41453, 41454, 41462, 41465, 41474, 41483, 41499, 41500, 41508, 41509, 41528, 41532, 41540, 41556, 41561, 41586, 41599, 41604, 41611, 41613, 41616, 41619, 41621, 41630, 41646, 41659, 41667, 41683, 41687, 41690, 41703, 41713, 41715, 41718, 41724, 41735, 41736, 41740, 41744, 41748, 41758, 41762, 41768, 41770, 41777, 41788, 41789, 41790, 41793, 41804, 41810, 41820, 41823, 41826, 41828, 41832, 41834, 41838, 41848, 41859, 41864, 41872, 41875, 41879, 41886, 41896, 41899, 41903, 41907, 41928, 41942, 41973, 41977, 41995, 42005, 42014, 42017, 42024, 42025, 42047, 42051, 42053, 42072, 42074, 42091, 42100, 42108, 42129, 42130, 42140, 42144, 42153, 42160, 42165, 42169, 42170, 42178, 42182, 42186, 42192, 42207, 42225, 42226, 42230, 42234, 42244, 42246, 42254, 42255, 42260, 42261, 42272, 42281, 42289, 42292, 42297, 42302, 42306, 42312, 42313, 42317, 42320, 42325, 42333, 42343, 42351, 42352, 42356, 42357, 42358, 42366, 42378, 42398, 42403, 42405, 42409, 42426, 42431, 42433, 42441, 42445, 42450, 42462, 42463, 42480, 42505, 42509, 42512, 42513, 42537, 42538, 42541, 42545, 42547, 42551, 42552, 42566, 42573, 42585, 42592, 42595, 42597, 42600, 42627, 42637, 42641, 42642, 42646, 42647, 42653, 42656, 42661, 42666, 42683, 42721, 42728, 42734, 42747, 42750, 42759, 42769, 42773, 42786, 42794, 42812, 42816, 42823, 42824, 42861, 42865, 42867, 42873, 42883, 42892, 42896, 42897, 42909, 42917, 42921, 42922, 42934, 42938, 42945, 42949, 42966, 42991, 43000, 43006, 43014, 43015, 43017, 43021, 43051, 43060, 43067, 43072, 43074, 43077, 43081, 43084, 43093, 43095, 43107, 43109, 43114, 43120, 43126, 43130, 43133, 43135, 43140, 43143, 43146, 43151, 43153, 43163, 43164, 43167, 43171, 43173, 43174, 43182, 43194, 43197, 43202, 43206, 43207, 43210, 43221, 43222, 43227, 43234, 43237, 43245, 43248, 43249, 43262, 43272, 43291, 43294, 43295, 43302, 43310, 43316, 43324, 43335, 43337, 43354, 43356, 43368, 43373, 43377, 43394, 43405, 43408, 43414, 43416, 43421, 43422, 43426, 43431, 43451, 43457, 43468, 43472, 43474, 43475, 43480, 43483, 43485, 43492, 43504, 43505, 43516, 43517, 43531, 43532, 43540, 43556, 43559, 43570, 43586, 43590, 43603, 43605, 43616, 43617, 43618, 43622, 43626, 43632, 43635, 43645, 43652, 43653, 43660, 43671, 43676, 43677, 43682, 43683, 43686, 43687, 43690, 43727, 43733, 43756, 43761, 43773, 43774, 43783, 43784, 43798, 43814, 43815, 43816, 43820, 43829, 43839, 43861, 43863, 43866, 43881, 43882, 43888, 43894, 43902, 43909, 43910, 43921, 43923, 43925, 43926, 43931, 43932, 43940, 43952, 43959, 43965, 43973, 43974, 43976, 43977, 43979, 43980, 43987, 44001, 44009, 44016, 44020, 44028, 44030, 44034, 44040, 44044, 44061, 44068, 44075, 44079, 44087, 44114, 44142, 44151, 44156, 44171, 44176, 44182, 44185, 44204, 44213, 44217, 44219, 44220, 44231, 44235, 44237, 44243, 44255, 44258, 44262, 44266, 44276, 44289, 44307, 44309, 44317, 44319, 44323, 44332, 44335, 44336, 44346, 44349, 44353, 44354, 44368, 44380, 44383, 44390, 44394, 44397, 44417, 44423, 44442, 44450, 44452, 44470, 44474, 44478, 44483, 44489, 44490, 44517, 44532, 44534, 44538, 44541, 44544, 44547, 44554, 44559, 44567, 44573, 44577, 44591, 44598, 44599, 44603, 44605, 44609, 44610, 44613, 44616, 44624, 44626, 44634, 44644, 44649, 44655, 44665, 44671, 44672, 44675, 44682, 44692, 44694, 44705, 44707, 44708, 44713, 44714, 44726, 44731, 44733, 44752, 44763, 44771, 44772, 44795, 44797, 44805, 44806, 44814, 44815, 44823, 44832, 44849, 44853, 44860, 44864, 44871, 44873, 44883, 44895, 44912, 44920, 44921, 44925, 44926, 44940, 44944, 44962, 44963, 44964, 44981, 44991, 44993, 44994, 44995, 45001, 45006, 45010, 45015, 45019, 45029, 45053, 45059, 45063, 45067, 45072, 45100, 45109, 45119, 45123, 45133, 45142, 45144, 45146, 45156, 45167, 45169, 45183, 45187, 45192, 45194, 45195, 45203, 45215, 45219, 45221, 45241, 45246, 45247, 45253, 45262, 45281, 45305, 45306, 45307, 45311, 45319, 45320, 45325, 45330, 45331, 45332, 45346, 45349, 45356, 45357, 45368, 45371, 45373, 45387, 45390, 45392, 45410, 45424, 45431, 45432, 45434, 45443, 45450, 45458, 45462, 45468, 45470, 45474, 45482, 45499, 45520, 45526, 45533, 45535, 45546, 45550, 45551, 45553, 45556, 45560, 45562, 45565, 45567, 45569, 45570, 45584, 45586, 45589, 45591, 45596, 45603, 45622, 45623, 45624, 45629, 45639, 45640, 45651, 45656, 45657, 45665, 45670, 45677, 45681, 45693, 45695, 45708, 45714, 45717, 45723, 45727, 45731, 45738, 45744, 45749, 45758, 45765, 45767, 45769, 45782, 45794, 45798, 45800, 45812, 45830, 45842, 45843, 45844, 45846, 45847, 45856, 45869, 45872, 45879, 45881, 45883, 45885, 45887, 45895, 45912, 45915, 45919, 45924, 45930, 45935, 45971, 45977, 45980, 45993, 46004, 46012, 46026, 46029, 46031, 46037, 46045, 46046, 46048, 46050, 46059, 46074, 46080, 46081, 46094, 46095, 46101, 46103, 46106, 46113, 46119, 46123, 46128, 46130, 46142, 46144, 46149, 46152, 46163, 46173, 46183, 46194, 46195, 46204, 46205, 46206, 46208, 46213, 46218, 46232, 46233, 46235, 46237, 46239, 46244, 46249, 46276, 46280, 46282, 46309, 46315, 46321, 46325, 46336, 46344, 46359, 46366, 46385, 46392, 46396, 46400, 46406, 46408, 46419, 46420, 46422, 46426, 46429, 46430, 46431, 46433, 46443, 46452, 46473, 46484, 46491, 46506, 46511, 46526, 46528, 46539, 46556, 46564, 46580, 46588, 46601, 46614, 46618, 46619, 46621, 46632, 46640, 46644, 46649, 46654, 46656, 46673, 46687, 46695, 46722, 46724, 46729, 46737, 46738, 46740, 46741, 46766, 46767, 46780, 46794, 46795, 46800, 46805, 46809, 46813, 46818, 46819, 46831, 46844, 46852, 46858, 46859, 46861, 46862, 46871, 46877, 46878, 46883, 46891, 46905, 46910, 46929, 46933, 46936, 46937, 46941, 46945, 46946, 46947, 46957, 46960, 46970, 46971, 46975, 46976, 46987, 46988, 46995, 46999, 47000, 47012, 47015, 47016, 47017, 47024, 47025, 47028, 47029, 47031, 47036, 47041, 47046, 47047, 47062, 47063, 47074, 47097, 47098, 47103, 47107, 47112, 47127, 47133, 47135, 47141, 47142, 47143, 47153, 47154, 47169, 47170, 47171, 47182, 47198, 47206, 47207, 47214, 47238, 47243, 47245, 47246, 47259, 47264, 47267, 47269, 47270, 47279, 47280, 47283, 47285, 47289, 47293, 47295, 47303, 47316, 47319, 47323, 47324, 47326, 47333, 47338, 47347, 47349, 47350, 47371, 47382, 47386, 47387, 47402, 47406, 47413, 47416, 47424, 47427, 47429, 47430, 47442, 47461, 47469, 47482, 47484, 47488, 47497, 47505, 47521, 47523, 47527, 47533, 47547, 47550, 47554, 47560, 47566, 47568, 47569, 47572, 47574, 47587, 47615, 47638, 47641, 47650, 47652, 47653, 47657, 47662, 47671, 47689, 47692, 47710, 47712, 47714, 47717, 47723, 47726, 47727, 47729, 47734, 47738, 47747, 47749, 47754, 47757, 47761, 47762, 47764, 47767, 47778, 47789, 47805, 47808, 47810, 47816, 47817, 47823, 47826, 47833, 47842, 47844, 47848, 47849, 47865, 47866, 47869, 47873, 47886, 47891, 47898, 47904, 47925, 47926, 47932, 47935, 47943, 47949, 47955, 47961, 47998, 48009, 48010, 48021, 48024, 48026, 48034, 48045, 48053, 48062, 48076, 48080, 48092, 48102, 48111, 48124, 48130, 48131, 48150, 48152, 48155, 48162, 48176, 48192, 48197, 48209, 48214, 48221, 48226, 48230, 48251, 48264, 48268, 48276, 48280, 48285, 48297, 48300, 48323, 48332, 48333, 48344, 48350, 48352, 48357, 48360, 48370, 48373, 48377, 48379, 48380, 48382, 48386, 48392, 48395, 48406, 48419, 48429, 48436, 48447, 48453, 48462, 48464, 48467, 48470, 48485, 48492, 48501, 48507, 48510, 48514, 48517, 48524, 48527, 48543, 48547, 48551, 48553, 48556, 48563, 48573, 48578, 48579, 48589, 48591, 48616, 48628, 48629, 48632, 48637, 48646, 48650, 48659, 48661, 48670, 48689, 48709, 48716, 48729, 48732, 48742, 48748, 48751, 48754, 48769, 48773, 48774, 48798, 48803, 48809, 48814, 48819, 48838, 48841, 48843, 48848, 48850, 48853, 48855, 48864, 48866, 48875, 48888, 48906, 48910, 48917, 48918, 48924, 48934, 48937, 48938, 48939, 48940, 48942, 48947, 48950, 48956, 48963, 48964, 48966, 48972, 48976, 48988, 48990, 48993, 48995, 49019, 49038, 49045, 49047, 49052, 49054, 49057, 49060, 49061, 49083, 49096, 49104, 49110, 49113, 49114, 49118, 49119, 49120, 49130, 49137, 49138, 49140, 49173, 49175, 49205, 49227, 49229, 49246, 49260, 49262, 49264, 49267, 49268, 49276, 49278, 49279, 49281, 49293, 49299, 49305, 49308, 49321, 49322, 49328, 49331, 49339, 49347, 49351, 49359, 49373, 49387, 49390, 49393, 49396, 49403, 49406, 49409, 49410, 49417, 49421, 49433, 49434, 49435, 49439, 49446, 49448, 49452, 49463, 49472, 49474, 49484, 49485, 49486, 49488, 49495, 49508, 49513, 49516, 49521, 49524, 49527, 49532, 49544, 49548, 49549, 49560, 49562, 49563, 49569, 49596, 49602, 49605, 49606, 49620, 49628, 49630, 49635, 49636, 49643, 49646, 49651, 49671, 49680, 49681, 49703, 49720, 49725, 49727, 49736, 49738, 49741, 49752, 49754, 49756, 49774, 49786, 49815, 49819, 49820, 49834, 49845, 49861, 49864, 49869, 49872, 49875, 49880, 49883, 49884, 49888, 49893, 49896, 49901, 49915, 49933, 49935, 49939, 49950, 49954, 49973, 49976, 49983, 49994, 50011, 50012, 50020, 50022, 50031, 50032, 50041, 50042, 50046, 50053, 50059, 50063, 50082, 50091, 50100, 50102, 50104, 50108, 50115, 50117, 50120, 50121, 50125, 50127, 50131, 50141, 50143, 50145, 50151, 50153, 50155, 50178, 50188, 50198, 50199, 50210, 50219, 50225, 50229, 50231, 50234, 50237, 50238, 50245, 50247, 50255, 50265, 50266, 50267, 50273, 50274, 50275, 50277, 50289, 50297, 50306, 50309, 50317, 50318, 50319, 50325, 50333, 50334, 50335, 50340, 50345, 50357, 50359, 50367, 50371, 50379, 50380, 50384, 50387, 50393, 50398, 50407, 50414, 50420, 50426, 50433, 50440, 50441, 50452, 50462, 50480, 50485, 50503, 50514, 50516, 50518, 50519, 50522, 50527, 50529, 50530, 50534, 50537, 50542, 50546, 50561, 50566, 50568, 50576, 50583, 50599, 50611, 50619, 50623, 50625, 50630, 50635, 50638, 50644, 50650, 50651, 50669, 50679, 50691, 50704, 50707, 50711, 50713, 50715, 50730, 50735, 50738, 50773, 50776, 50779, 50785, 50810, 50814, 50815, 50829, 50849, 50862, 50863, 50870, 50874, 50877, 50889, 50892, 50900, 50901, 50904, 50905, 50920, 50947, 50949, 50958, 50967, 50972, 50978, 50980, 50988, 50992, 50997, 51008, 51025, 51028, 51030, 51033, 51047, 51061, 51068, 51070, 51071, 51073, 51083, 51084, 51088, 51089, 51133, 51139, 51153, 51161, 51165, 51170, 51171, 51177, 51182, 51184, 51192, 51193, 51194, 51201, 51209, 51236, 51243, 51263, 51265, 51269, 51270, 51272, 51294, 51303, 51313, 51314, 51315, 51336, 51340, 51343, 51348, 51349, 51353, 51363, 51377, 51379, 51380, 51383, 51384, 51390, 51398, 51413, 51416, 51419, 51448, 51458, 51464, 51465, 51469, 51480, 51488, 51491, 51494, 51497, 51510, 51516, 51523, 51538, 51539, 51543, 51546, 51549, 51552, 51554, 51559, 51563, 51565, 51581, 51583, 51587, 51588, 51592, 51595, 51597, 51600, 51603, 51617, 51622, 51623, 51634, 51637, 51641, 51642, 51651, 51655, 51656, 51668, 51672, 51676, 51678, 51692, 51707, 51710, 51718, 51719, 51722, 51731, 51732, 51734, 51735, 51737, 51743, 51753, 51756, 51760, 51782, 51792, 51799, 51808, 51810, 51819, 51820, 51825, 51837, 51838, 51842, 51853, 51854, 51860, 51861, 51873, 51875, 51876, 51877, 51886, 51899, 51905, 51912, 51919, 51925, 51934, 51965, 51968, 51976, 51991, 51998, 52012, 52025, 52031, 52035, 52043, 52044, 52055, 52058, 52059, 52075, 52078, 52080, 52087, 52099, 52127, 52134, 52145, 52148, 52153, 52156, 52159, 52168, 52169, 52173, 52174, 52194, 52218, 52222, 52223, 52224, 52227, 52228, 52239, 52242, 52248, 52260, 52265, 52277, 52281, 52282, 52288, 52293, 52297, 52300, 52304, 52313, 52329, 52340, 52356, 52359, 52361, 52369, 52375, 52389, 52390, 52405, 52410, 52417, 52421, 52435, 52436, 52440, 52441, 52443, 52447, 52453, 52480, 52488, 52496, 52502, 52516, 52517, 52522, 52525, 52545, 52548, 52557, 52558, 52561, 52572, 52595, 52600, 52606, 52610, 52623, 52654, 52665, 52666, 52687, 52696, 52697, 52704, 52708, 52711, 52714, 52721, 52722, 52726, 52728, 52741, 52743, 52752, 52770, 52776, 52777, 52778, 52782, 52790, 52793, 52795, 52797, 52799, 52815, 52827, 52829, 52832, 52861, 52863, 52865, 52870, 52873, 52884, 52888, 52891, 52892, 52898, 52900, 52914, 52917, 52922, 52928, 52934, 52935, 52957, 52962, 52979, 52989, 52990, 53001, 53002, 53022, 53024, 53026, 53042, 53043, 53044, 53049, 53052, 53056, 53057, 53062, 53072, 53096, 53101, 53103, 53104, 53112, 53118, 53123, 53137, 53138, 53145, 53150, 53156, 53158, 53159, 53160, 53168, 53187, 53193, 53214, 53216, 53225, 53228, 53255, 53260, 53281, 53306, 53309, 53317, 53318, 53323, 53328, 53348, 53359, 53365, 53387, 53394, 53396, 53401, 53419, 53431, 53462, 53471, 53474, 53475, 53493, 53495, 53513, 53526, 53531, 53536, 53556, 53563, 53568, 53581, 53585, 53592, 53593, 53594, 53607, 53608, 53623, 53631, 53636, 53647, 53660, 53666, 53675, 53693, 53716, 53722, 53740, 53753, 53758, 53763, 53764, 53780, 53781, 53782, 53785, 53793, 53813, 53837, 53838, 53842, 53843, 53851, 53854, 53864, 53865, 53883, 53887, 53891, 53894, 53912, 53918, 53920, 53921, 53922, 53928, 53939, 53941, 53942, 53944, 53946, 53948, 53949, 53955, 53956, 53966, 53967, 53976, 53984, 53992, 53998, 54010, 54013, 54014, 54024, 54038, 54040, 54053, 54055, 54057, 54075, 54079, 54083, 54093, 54101, 54103, 54110, 54114, 54119, 54123, 54124, 54129, 54148, 54150, 54153, 54160, 54161, 54173, 54175, 54179, 54182, 54188, 54190, 54192, 54194, 54195, 54198, 54210, 54214, 54216, 54217, 54220, 54229, 54238, 54239, 54242, 54255, 54256, 54274, 54282, 54286, 54287, 54298, 54299, 54326, 54347, 54349, 54351, 54353, 54395, 54398, 54403, 54416, 54417, 54422, 54427, 54436, 54445, 54451, 54456, 54467, 54473, 54474, 54475, 54476, 54481, 54487, 54490, 54494, 54503, 54505, 54530, 54532, 54549, 54562, 54568, 54569, 54572, 54577, 54578, 54582, 54589, 54590, 54595, 54598, 54607, 54608, 54614, 54629, 54648, 54677, 54685, 54686, 54690, 54693, 54710, 54712, 54715, 54717, 54719, 54723, 54729, 54730, 54747, 54752, 54758, 54759, 54760, 54763, 54770, 54771, 54774, 54779, 54780, 54786, 54791, 54800, 54802, 54806, 54811, 54816, 54832, 54853, 54861, 54865, 54869, 54872, 54880, 54888, 54896, 54918, 54922, 54933, 54935, 54947, 54952, 54953, 54954, 54963, 54965, 54971, 54973, 54976, 54995, 54997, 55027, 55030, 55047, 55054, 55066, 55071, 55075, 55079, 55092, 55100, 55107, 55111, 55112, 55118, 55122, 55128, 55129, 55133, 55134, 55143, 55147, 55161, 55185, 55186, 55196, 55197, 55203, 55212, 55215, 55217, 55227, 55230, 55233, 55235, 55248, 55280, 55282, 55287, 55292, 55293, 55294, 55295, 55298, 55315, 55322, 55344, 55345, 55363, 55369, 55377, 55396, 55397, 55416, 55421, 55431, 55449, 55464, 55466, 55469, 55473, 55475, 55479, 55487, 55489, 55497, 55512, 55520, 55525, 55531, 55541, 55544, 55564, 55568, 55571, 55574, 55583, 55586, 55604, 55606, 55615, 55624, 55631, 55636, 55638, 55644, 55647, 55649, 55656, 55663, 55674, 55678, 55684, 55689, 55702, 55706, 55716, 55723, 55728, 55730, 55736, 55747, 55748, 55756, 55757, 55763, 55767, 55769, 55777, 55778, 55784, 55786, 55794, 55799, 55805, 55811, 55819, 55828, 55838, 55853, 55857, 55861, 55877, 55885, 55896, 55898, 55916, 55917, 55927, 55943, 55969, 55970, 55976, 55981, 55983, 55998, 55999, 56012, 56031, 56049, 56054, 56057, 56058, 56075, 56093, 56094, 56098, 56103, 56110, 56138, 56139, 56166, 56177, 56199, 56200, 56210, 56213, 56214, 56218, 56220, 56230, 56234, 56236, 56240, 56253, 56280, 56285, 56286, 56303, 56304, 56306, 56312, 56346, 56365, 56369, 56373, 56383, 56385, 56387, 56389, 56399, 56400, 56405, 56423, 56425, 56431, 56445, 56449, 56456, 56465, 56467, 56472, 56476, 56481, 56502, 56526, 56531, 56535, 56539, 56542, 56543, 56548, 56564, 56578, 56583, 56596, 56598, 56605, 56619, 56639, 56642, 56645, 56650, 56654, 56656, 56660, 56665, 56667, 56668, 56670, 56675, 56681, 56686, 56687, 56692, 56694, 56712, 56715, 56719, 56730, 56743, 56749, 56755, 56759, 56761, 56771, 56772, 56775, 56777, 56778, 56790, 56792, 56799, 56808, 56814, 56819, 56833, 56834, 56835, 56837, 56843, 56848, 56857, 56870, 56871, 56877, 56879, 56884, 56886, 56891, 56895, 56913, 56917, 56923, 56929, 56937, 56941, 56942, 56948, 56953, 56954, 56956, 56962, 56972, 56973, 56976, 56980, 56983, 56995, 56998, 57001, 57008, 57016, 57018, 57023, 57035, 57038, 57039, 57046, 57073, 57081, 57085, 57087, 57090, 57101, 57110, 57115, 57118, 57129, 57132, 57134, 57143, 57146, 57159, 57193, 57206, 57214, 57223, 57226, 57232, 57247, 57251, 57257, 57268, 57270, 57272, 57275, 57285, 57288, 57289, 57306, 57308, 57314, 57316, 57317, 57339, 57376, 57377, 57381, 57399, 57409, 57412, 57414, 57419, 57420, 57423, 57426, 57430, 57438, 57439, 57440, 57442, 57453, 57455, 57457, 57460, 57476, 57491, 57494, 57503, 57514, 57515, 57518, 57526, 57527, 57540, 57542, 57545, 57555, 57556, 57559, 57560, 57566, 57567, 57574, 57576, 57591, 57629, 57633, 57635, 57641, 57645, 57650, 57676, 57695, 57703, 57712, 57719, 57720, 57732, 57734, 57743, 57744, 57746, 57749, 57759, 57774, 57780, 57783, 57791, 57799, 57802, 57804, 57809, 57824, 57847, 57858, 57859, 57894, 57897, 57907, 57908, 57918, 57922, 57927, 57932, 57938, 57961, 57971, 57978, 57995, 57999, 58005, 58009, 58016, 58017, 58023, 58026, 58032, 58033, 58052, 58061, 58064, 58071, 58083, 58087, 58089, 58094, 58108, 58120, 58130, 58131, 58132, 58133, 58139, 58141, 58143, 58155, 58161, 58169, 58171, 58183, 58185, 58194, 58197, 58208, 58209, 58215, 58216, 58233, 58235, 58245, 58261, 58273, 58276, 58298, 58306, 58312, 58315, 58316, 58323, 58335, 58353, 58357, 58362, 58367, 58385, 58386, 58395, 58401, 58411, 58412, 58423, 58427, 58431, 58434, 58436, 58441, 58447, 58448, 58452, 58456, 58464, 58468, 58469, 58479, 58480, 58482, 58487, 58488, 58510, 58517, 58518, 58538, 58539, 58541, 58552, 58554, 58565, 58572, 58574, 58577, 58579, 58582, 58598, 58605, 58611, 58625, 58639, 58647, 58651, 58655, 58663, 58667, 58680, 58683, 58685, 58688, 58691, 58707, 58712, 58732, 58738, 58742, 58744, 58747, 58755, 58766, 58767, 58773, 58778, 58787, 58805, 58810, 58812, 58818, 58833, 58836, 58846, 58849, 58852, 58854, 58856, 58859, 58860, 58870, 58879, 58880, 58882, 58887, 58894, 58909, 58922, 58929, 58938, 58946, 58956, 58957, 58965, 58970, 58972, 58982, 58986, 58992, 58997, 59001, 59012, 59029, 59043, 59052, 59056, 59057, 59076, 59083, 59092, 59094, 59096, 59100, 59118, 59125, 59133, 59135, 59145, 59152, 59157, 59161, 59168, 59171, 59173, 59174, 59178, 59184, 59187, 59192, 59207, 59211, 59213, 59222, 59223, 59227, 59248, 59256, 59257, 59258, 59263, 59265, 59266, 59268, 59269, 59277, 59283, 59288, 59290, 59294, 59295, 59298, 59303, 59330, 59337, 59343, 59345, 59347, 59353, 59357, 59362, 59369, 59371, 59372, 59395, 59396, 59401, 59403, 59412, 59415, 59418, 59426, 59436, 59454, 59466, 59469, 59470, 59473, 59474, 59476, 59480, 59486, 59490, 59498, 59512, 59540, 59541, 59542, 59547, 59565, 59571, 59572, 59591, 59596, 59600, 59602, 59613, 59614, 59620, 59621, 59622, 59627, 59630, 59646, 59651, 59664, 59673, 59674, 59686, 59695, 59723, 59725, 59726, 59734, 59748, 59751, 59768, 59778, 59782, 59797, 59800, 59816, 59820, 59831, 59833, 59837, 59842, 59843, 59846, 59852, 59862, 59863, 59876, 59884, 59885, 59892, 59894, 59896, 59914, 59917, 59921, 59945, 59958, 59962, 59968, 59974, 59976, 59979, 59994, 59998, 60003, 60010, 60014, 60020, 60021, 60032, 60037, 60041, 60042, 60051, 60058, 60060, 60062, 60066, 60069, 60078, 60081, 60084, 60098, 60101, 60105, 60109, 60137, 60140, 60156, 60165, 60196, 60202, 60211, 60214, 60234, 60239, 60240, 60241, 60245, 60248, 60250, 60257, 60264, 60274, 60276, 60287, 60294, 60298, 60314, 60315, 60316, 60319, 60331, 60332, 60347, 60350, 60353, 60356, 60358, 60367, 60388, 60405, 60414, 60427, 60430, 60447, 60453, 60455, 60463, 60466, 60472, 60482, 60496, 60500, 60512, 60520, 60523, 60525, 60530, 60545, 60551, 60558, 60566, 60570, 60574, 60592, 60614, 60615, 60616, 60626, 60627, 60629, 60637, 60657, 60668, 60674, 60691, 60703, 60709, 60715, 60723, 60742, 60749, 60753, 60754, 60756, 60762, 60778, 60779, 60780, 60789, 60790, 60795, 60803, 60806, 60808, 60811, 60819, 60830, 60833, 60843, 60844, 60850, 60860, 60878, 60882, 60901, 60905, 60908, 60917, 60919, 60924, 60927, 60935, 60937, 60938, 60940, 60945, 60954, 60957, 60960, 60962, 60967, 60971, 60973, 60978, 60979, 60989, 60991, 61003, 61006, 61030, 61031, 61037, 61040, 61044, 61049, 61051, 61057, 61062, 61069, 61072, 61074, 61079, 61100, 61112, 61123, 61134, 61142, 61143, 61151, 61154, 61163, 61172, 61188, 61189, 61197, 61198, 61217, 61221, 61229, 61245, 61250, 61275, 61288, 61293, 61300, 61302, 61305, 61308, 61310, 61319, 61335, 61348, 61356, 61372, 61376, 61379, 61392, 61402, 61404, 61407, 61413, 61424, 61425, 61429, 61433, 61437, 61447, 61451, 61457, 61459, 61466, 61477, 61478, 61479, 61482, 61493, 61499, 61509, 61512, 61515, 61517, 61521, 61523, 61527, 61537, 61548, 61553, 61561, 61564, 61568, 61575, 61585, 61588, 61592, 61596, 61617, 61631, 61662, 61666, 61684, 61694, 61703, 61706, 61713, 61714, 61736, 61740, 61742, 61761, 61763, 61780, 61789, 61797, 61818, 61819, 61829, 61833, 61842, 61849, 61854, 61858, 61859, 61867, 61871, 61875, 61881, 61896, 61914, 61915, 61919, 61923, 61933, 61935, 61943, 61944, 61949, 61950, 61961, 61970, 61978, 61981, 61986, 61991, 61995, 62001, 62002, 62006, 62009, 62014, 62022, 62032, 62040, 62041, 62045, 62046, 62047, 62055, 62067, 62087, 62092, 62094, 62098, 62115, 62120, 62122, 62130, 62134, 62139, 62151, 62152, 62169, 62194, 62198, 62201, 62202, 62226, 62227, 62230, 62234, 62236, 62240, 62241, 62255, 62262, 62274, 62281, 62284, 62286, 62289, 62316, 62326, 62330, 62331, 62335, 62336, 62342, 62345, 62350, 62355, 62372, 62410, 62417, 62423, 62436, 62439, 62448, 62458, 62462, 62475, 62483, 62501, 62505, 62512, 62513, 62550, 62554, 62556, 62562, 62572, 62581, 62585, 62586, 62598, 62606, 62610, 62611, 62623, 62627, 62634, 62638, 62655, 62680, 62689, 62695, 62703, 62704, 62706, 62710, 62740, 62749, 62756, 62761, 62763, 62766, 62770, 62773, 62782, 62784, 62796, 62798, 62803, 62809, 62815, 62819, 62822, 62824, 62829, 62832, 62835, 62840, 62842, 62852, 62853, 62856, 62860, 62862, 62863, 62871, 62883, 62886, 62891, 62895, 62896, 62899, 62910, 62911, 62916, 62923, 62926, 62934, 62937, 62938, 62951, 62961, 62980, 62983, 62984, 62991, 62999, 63005, 63013, 63024, 63026, 63043, 63045, 63057, 63062, 63066, 63083, 63094, 63097, 63103, 63105, 63110, 63111, 63115, 63120, 63140, 63146, 63157, 63161, 63163, 63164, 63169, 63172, 63174, 63181, 63193, 63194, 63205, 63206, 63220, 63221, 63229, 63245, 63248, 63259, 63275, 63279, 63292, 63294, 63305, 63306, 63307, 63311, 63315, 63321, 63324, 63334, 63341, 63342, 63349, 63360, 63365, 63366, 63371, 63372, 63375, 63376, 63379, 63416, 63422, 63445, 63450, 63462, 63463, 63472, 63473, 63487, 63503, 63504, 63505, 63509, 63518, 63528, 63550, 63552, 63555, 63570, 63571, 63577, 63583, 63591, 63598, 63599, 63610, 63612, 63614, 63615, 63620, 63621, 63629, 63641, 63648, 63654, 63662, 63663, 63665, 63666, 63668, 63669, 63676, 63690, 63698, 63705, 63709, 63717, 63719, 63723, 63729, 63733, 63750, 63757, 63764, 63768, 63776, 63803, 63831, 63840, 63845, 63860, 63865, 63871, 63874, 63893, 63902, 63906, 63908, 63909, 63920, 63924, 63926, 63932, 63944, 63947, 63951, 63955, 63965, 63978, 63996, 63998, 64006, 64008, 64012, 64021, 64024, 64025, 64035, 64038, 64042, 64043, 64057, 64069, 64072, 64079, 64083, 64086, 64106, 64112, 64131, 64139, 64141, 64159, 64163, 64167, 64172, 64178, 64179, 64206, 64221, 64223, 64227, 64230, 64233, 64236, 64243, 64248, 64256, 64262, 64266, 64280, 64287, 64288, 64292, 64294, 64298, 64299, 64302, 64305, 64313, 64315, 64323, 64333, 64338, 64344, 64354, 64360, 64361, 64364, 64371, 64381, 64383, 64394, 64396, 64397, 64402, 64403, 64415, 64420, 64422, 64441, 64452, 64460, 64461, 64484, 64486, 64494, 64495, 64503, 64504, 64512, 64521, 64538, 64542, 64549, 64553, 64560, 64562, 64572, 64584, 64601, 64609, 64610, 64614, 64615, 64629, 64633, 64651, 64652, 64653, 64670, 64680, 64682, 64683, 64684, 64690, 64695, 64699, 64704, 64708, 64718, 64742, 64748, 64752, 64756, 64761, 64789, 64798, 64808, 64812, 64822, 64831, 64833, 64835, 64845, 64856, 64858, 64872, 64876, 64881, 64883, 64884, 64892, 64904, 64908, 64910, 64930, 64935, 64936, 64942, 64951, 64970, 64994, 64995, 64996, 65000, 65008, 65009, 65014, 65019, 65020, 65021, 65035, 65038, 65045, 65046, 65057, 65060, 65062, 65076, 65079, 65081, 65099, 65113, 65120, 65121, 65123, 65132, 65139, 65147, 65151, 65157, 65159, 65163, 65171, 65188, 65209, 65215, 65222, 65224, 65235, 65239, 65240, 65242, 65245, 65249, 65251, 65254, 65256, 65258, 65259, 65273, 65275, 65278, 65280, 65285, 65292, 65311, 65312, 65313, 65318, 65328, 65329, 65340, 65345, 65346, 65354, 65359, 65366, 65370, 65382, 65384, 65397, 65403, 65406, 65412, 65416, 65420, 65427, 65433, 65438, 65447, 65454, 65456, 65458, 65471, 65483, 65487, 65489, 65501, 65519, 65531, 65532, 65533, 65535, 65536, 65545, 65558, 65561, 65568, 65570, 65572, 65574, 65576, 65584, 65601, 65604, 65608, 65613, 65619, 65624, 65660, 65666, 65669, 65682, 65693, 65701, 65715, 65718, 65720, 65726, 65734, 65735, 65737, 65739, 65748, 65763, 65769, 65770, 65783, 65784, 65790, 65792, 65795, 65802, 65808, 65812, 65817, 65819, 65831, 65833, 65838, 65841, 65852, 65862, 65872, 65883, 65884, 65893, 65894, 65895, 65897, 65902, 65907, 65921, 65922, 65924, 65926, 65928, 65933, 65938, 65965, 65969, 65971, 65998, 66004, 66010, 66014, 66025, 66033, 66048, 66055, 66074, 66081, 66085, 66089, 66095, 66097, 66108, 66109, 66111, 66115, 66118, 66119, 66120, 66122, 66132, 66141, 66162, 66173, 66180, 66195, 66200, 66215, 66217, 66228, 66245, 66253, 66269, 66277, 66290, 66303, 66307, 66308, 66310, 66321, 66329, 66333, 66338, 66343, 66345, 66362, 66376, 66384, 66411, 66413, 66418, 66426, 66427, 66429, 66430, 66455, 66456, 66469, 66483, 66484, 66489, 66494, 66498, 66502, 66507, 66508, 66520, 66533, 66541, 66547, 66548, 66550, 66551, 66560, 66566, 66567, 66572, 66580, 66594, 66599, 66618, 66622, 66625, 66626, 66630, 66634, 66635, 66636, 66646, 66649, 66659, 66660, 66664, 66665, 66676, 66677, 66684, 66688, 66689, 66701, 66704, 66705, 66706, 66713, 66714, 66717, 66718, 66720, 66725, 66730, 66735, 66736, 66751, 66752, 66763, 66786, 66787, 66792, 66796, 66801, 66816, 66822, 66824, 66830, 66831, 66832, 66842, 66843, 66858, 66859, 66860, 66871, 66887, 66895, 66896, 66903, 66927, 66932, 66934, 66935, 66948, 66953, 66956, 66958, 66959, 66968, 66969, 66972, 66974, 66978, 66982, 66984, 66992, 67005, 67008, 67012, 67013, 67015, 67022, 67027, 67036, 67038, 67039, 67060, 67071, 67075, 67076, 67091, 67095, 67102, 67105, 67113, 67116, 67118, 67119, 67131, 67150, 67158, 67171, 67173, 67177, 67186, 67194, 67210, 67212, 67216, 67222, 67236, 67239, 67243, 67249, 67255, 67257, 67258, 67261, 67263, 67276, 67304, 67327, 67330, 67339, 67341, 67342, 67346, 67351, 67360, 67378, 67381, 67399, 67401, 67403, 67406, 67412, 67415, 67416, 67418, 67423, 67427, 67436, 67438, 67443, 67446, 67450, 67451, 67453, 67456, 67467, 67478, 67494, 67497, 67499, 67505, 67506, 67512, 67515, 67522, 67531, 67533, 67537, 67538, 67554, 67555, 67558, 67562, 67575, 67580, 67587, 67593, 67614, 67615, 67621, 67624, 67632, 67638, 67644, 67650, 67687, 67698, 67699, 67710, 67713, 67715, 67723, 67734, 67742, 67751, 67765, 67769, 67781, 67791, 67800, 67813, 67819, 67820, 67839, 67841, 67844, 67851, 67865, 67881, 67886, 67898, 67903, 67910, 67915, 67919, 67940, 67953, 67957, 67965, 67969, 67974, 67986, 67989, 68012, 68021, 68022, 68033, 68039, 68041, 68046, 68049, 68059, 68062, 68066, 68068, 68069, 68071, 68075, 68081, 68084, 68095, 68108, 68118, 68125, 68136, 68142, 68151, 68153, 68156, 68159, 68174, 68181, 68190, 68196, 68199, 68203, 68206, 68213, 68216, 68232, 68236, 68240, 68242, 68245, 68252, 68262, 68267, 68268, 68278, 68280, 68305, 68317, 68318, 68321, 68326, 68335, 68339, 68348, 68350, 68359, 68378, 68398, 68405, 68418, 68421, 68431, 68437, 68440, 68443, 68458, 68462, 68463, 68487, 68492, 68498, 68503, 68508, 68527, 68530, 68532, 68537, 68539, 68542, 68544, 68553, 68555, 68564, 68577, 68595, 68599, 68606, 68607, 68613, 68623, 68626, 68627, 68628, 68629, 68631, 68636, 68639, 68645, 68652, 68653, 68655, 68661, 68665, 68677, 68679, 68682, 68684, 68708, 68727, 68734, 68736, 68741, 68743, 68746, 68749, 68750, 68772, 68785, 68793, 68799, 68802, 68803, 68807, 68808, 68809, 68819, 68826, 68827, 68829, 68862, 68864, 68894, 68916, 68918, 68935, 68949, 68951, 68953, 68956, 68957, 68965, 68967, 68968, 68970, 68982, 68988, 68994, 68997, 69010, 69011, 69017, 69020, 69028, 69036, 69040, 69048, 69062, 69076, 69079, 69082, 69085, 69092, 69095, 69098, 69099, 69106, 69110, 69122, 69123, 69124, 69128, 69135, 69137, 69141, 69152, 69161, 69163, 69173, 69174, 69175, 69177, 69184, 69197, 69202, 69205, 69210, 69213, 69216, 69221, 69233, 69237, 69238, 69249, 69251, 69252, 69258, 69285, 69291, 69294, 69295, 69309, 69317, 69319, 69324, 69325, 69332, 69335, 69340, 69360, 69369, 69370, 69392, 69409, 69414, 69416, 69425, 69427, 69430, 69441, 69443, 69445, 69463, 69475, 69504, 69508, 69509, 69523, 69534, 69550, 69553, 69558, 69561, 69564, 69569, 69572, 69573, 69577, 69582, 69585, 69590, 69604, 69622, 69624, 69628, 69639, 69643, 69662, 69665, 69672, 69683, 69700, 69701, 69709, 69711, 69720, 69721, 69730, 69731, 69735, 69742, 69748, 69752, 69771, 69780, 69789, 69791, 69793, 69797, 69804, 69806, 69809, 69810, 69814, 69816, 69820, 69830, 69832, 69834, 69840, 69842, 69844, 69867, 69877, 69887, 69888, 69899, 69908, 69914, 69918, 69920, 69923, 69926, 69927, 69934, 69936, 69944, 69954, 69955, 69956, 69962, 69963, 69964, 69966, 69978, 69986, 69995, 69998, 70006, 70007, 70008, 70014, 70022, 70023, 70024, 70029, 70034, 70046, 70048, 70056, 70060, 70068, 70069, 70073, 70076, 70082, 70087, 70096, 70103, 70109, 70115, 70122, 70129, 70130, 70141, 70151, 70169, 70174, 70192, 70203, 70205, 70207, 70208, 70211, 70216, 70218, 70219, 70223, 70226, 70231, 70235, 70250, 70255, 70257, 70265, 70272, 70288, 70300, 70308, 70312, 70314, 70319, 70324, 70327, 70333, 70339, 70340, 70358, 70368, 70380, 70393, 70396, 70400, 70402, 70404, 70419, 70424, 70427, 70462, 70465, 70468, 70474, 70499, 70503, 70504, 70518, 70538, 70551, 70552, 70559, 70563, 70566, 70578, 70581, 70589, 70590, 70593, 70594, 70609, 70636, 70638, 70647, 70656, 70661, 70667, 70669, 70677, 70681, 70686, 70697, 70714, 70717, 70719, 70722, 70736, 70750, 70757, 70759, 70760, 70762, 70772, 70773, 70777, 70778, 70822, 70828, 70842, 70850, 70854, 70859, 70860, 70866, 70871, 70873, 70881, 70882, 70883, 70890, 70898, 70925, 70932, 70952, 70954, 70958, 70959, 70961, 70983, 70992, 71002, 71003, 71004, 71025, 71029, 71032, 71037, 71038, 71042, 71052, 71066, 71068, 71069, 71072, 71073, 71079, 71087, 71102, 71105, 71108, 71137, 71147, 71153, 71154, 71158, 71169, 71177, 71180, 71183, 71186, 71199, 71205, 71212, 71227, 71228, 71232, 71235, 71238, 71241, 71243, 71248, 71252, 71254, 71270, 71272, 71276, 71277, 71281, 71284, 71286, 71289, 71292, 71306, 71311, 71312, 71323, 71326, 71330, 71331, 71340, 71344, 71345, 71357, 71361, 71365, 71367, 71381, 71396, 71399, 71407, 71408, 71411, 71420, 71421, 71423, 71424, 71426, 71432, 71442, 71445, 71449, 71471, 71481, 71488, 71497, 71499, 71508, 71509, 71514, 71526, 71527, 71531, 71542, 71543, 71549, 71550, 71562, 71564, 71565, 71566, 71575, 71588, 71594, 71601, 71608, 71614, 71623, 71654, 71657, 71665, 71680, 71687, 71701, 71714, 71720, 71724, 71732, 71733, 71744, 71747, 71748, 71764, 71767, 71769, 71776, 71788, 71816, 71823, 71834, 71837, 71842, 71845, 71848, 71857, 71858, 71862, 71863, 71883, 71907, 71911, 71912, 71913, 71916, 71917, 71928, 71931, 71937, 71949, 71954, 71966, 71970, 71971, 71977, 71982, 71986, 71989, 71993, 72002, 72018, 72029, 72045, 72048, 72050, 72058, 72064, 72078, 72079, 72094, 72099, 72106, 72110, 72124, 72125, 72129, 72130, 72132, 72136, 72142, 72169, 72177, 72185, 72191, 72205, 72206, 72211, 72214, 72234, 72237, 72246, 72247, 72250, 72261, 72284, 72289, 72295, 72299, 72312, 72343, 72354, 72355, 72376, 72385, 72386, 72393, 72397, 72400, 72403, 72410, 72411, 72415, 72417, 72430, 72432, 72441, 72459, 72465, 72466, 72467, 72471, 72479, 72482, 72484, 72486, 72488, 72504, 72516, 72518, 72521, 72550, 72552, 72554, 72559, 72562, 72573, 72577, 72580, 72581, 72587, 72589, 72603, 72606, 72611, 72617, 72623, 72624, 72646, 72651, 72668, 72678, 72679, 72690, 72691, 72711, 72713, 72715, 72731, 72732, 72733, 72738, 72741, 72745, 72746, 72751, 72761, 72785, 72790, 72792, 72793, 72801, 72807, 72812, 72826, 72827, 72834, 72839, 72845, 72847, 72848, 72849, 72857, 72876, 72882, 72903, 72905, 72914, 72917, 72944, 72949, 72970, 72995, 72998, 73006, 73007, 73012, 73017, 73037, 73048, 73054, 73076, 73083, 73085, 73090, 73108, 73120, 73151, 73160, 73163, 73164, 73182, 73184, 73202, 73215, 73220, 73225, 73245, 73252, 73257, 73270, 73274, 73281, 73282, 73283, 73296, 73297, 73312, 73320, 73325, 73336, 73349, 73355, 73364, 73382, 73405, 73411, 73429, 73442, 73447, 73452, 73453, 73469, 73470, 73471, 73474, 73482, 73502, 73526, 73527, 73531, 73532, 73540, 73543, 73553, 73554, 73572, 73576, 73580, 73583, 73601, 73607, 73609, 73610, 73611, 73617, 73628, 73630, 73631, 73633, 73635, 73637, 73638, 73644, 73645, 73655, 73656, 73665, 73673, 73681, 73687, 73699, 73702, 73703, 73713, 73727, 73729, 73742, 73744, 73746, 73764, 73768, 73772, 73782, 73790, 73792, 73799, 73803, 73808, 73812, 73813, 73818, 73837, 73839, 73842, 73849, 73850, 73862, 73864, 73868, 73871, 73877, 73879, 73881, 73883, 73884, 73887, 73899, 73903, 73905, 73906, 73909, 73918, 73927, 73928, 73931, 73944, 73945, 73963, 73971, 73975, 73976, 73987, 73988, 74015, 74036, 74038, 74040, 74042, 74084, 74087, 74092, 74105, 74106, 74111, 74116, 74125, 74134, 74140, 74145, 74156, 74162, 74163, 74164, 74165, 74170, 74176, 74179, 74183, 74192, 74194, 74219, 74221, 74238, 74251, 74257, 74258, 74261, 74266, 74267, 74271, 74278, 74279, 74284, 74287, 74296, 74297, 74303, 74318, 74337, 74366, 74374, 74375, 74379, 74382, 74399, 74401, 74404, 74406, 74408, 74412, 74418, 74419, 74436, 74441, 74447, 74448, 74449, 74452, 74459, 74460, 74463, 74468, 74469, 74475, 74480, 74489, 74491, 74495, 74500, 74505, 74521, 74542, 74550, 74554, 74558, 74561, 74569, 74577, 74585, 74607, 74611, 74622, 74624, 74636, 74641, 74642, 74643, 74652, 74654, 74660, 74662, 74665, 74684, 74686, 74716, 74719, 74736, 74743, 74755, 74760, 74764, 74768, 74781, 74789, 74796, 74800, 74801, 74807, 74811, 74817, 74818, 74822, 74823, 74832, 74836, 74850, 74874, 74875, 74885, 74886, 74892, 74901, 74904, 74906, 74916, 74919, 74922, 74924, 74937, 74969, 74971, 74976, 74981, 74982, 74983, 74984, 74987, 75004, 75011, 75033, 75034, 75052, 75058, 75066, 75085, 75086, 75105, 75110, 75120, 75138, 75153, 75155, 75158, 75162, 75164, 75168, 75176, 75178, 75186, 75201, 75209, 75214, 75220, 75230, 75233, 75253, 75257, 75260, 75263, 75272, 75275, 75293, 75295, 75304, 75313, 75320, 75325, 75327, 75333, 75336, 75338, 75345, 75352, 75363, 75367, 75373, 75378, 75391, 75395, 75405, 75412, 75417, 75419, 75425, 75436, 75437, 75445, 75446, 75452, 75456, 75458, 75466, 75467, 75473, 75475, 75483, 75488, 75494, 75500, 75508, 75517, 75527, 75542, 75546, 75550, 75566, 75574, 75585, 75587, 75605, 75606, 75616, 75632, 75658, 75659, 75665, 75670, 75672, 75687, 75688, 75701, 75720, 75738, 75743, 75746, 75747, 75764, 75782, 75783, 75787, 75792, 75799, 75827, 75828, 75855, 75866, 75888, 75889, 75899, 75902, 75903, 75907, 75909, 75919, 75923, 75925, 75929, 75942, 75969, 75974, 75975, 75992, 75993, 75995, 76001, 76035, 76054, 76058, 76062, 76072, 76074, 76076, 76078, 76088, 76089, 76094, 76112, 76114, 76120, 76134, 76138, 76145, 76154, 76156, 76161, 76165, 76170, 76191, 76215, 76220, 76224, 76228, 76231, 76232, 76237, 76253, 76267, 76272, 76285, 76287, 76294, 76308, 76328, 76331, 76334, 76339, 76343, 76345, 76349, 76354, 76356, 76357, 76359, 76364, 76370, 76375, 76376, 76381, 76383, 76401, 76404, 76408, 76419, 76432, 76438, 76444, 76448, 76450, 76460, 76461, 76464, 76466, 76467, 76479, 76481, 76488, 76497, 76503, 76508, 76522, 76523, 76524, 76526, 76532, 76537, 76546, 76559, 76560, 76566, 76568, 76573, 76575, 76580, 76584, 76602, 76606, 76612, 76618, 76626, 76630, 76631, 76637, 76642, 76643, 76645, 76651, 76661, 76662, 76665, 76669, 76672, 76684, 76687, 76690, 76697, 76705, 76707, 76712, 76724, 76727, 76728, 76735, 76762, 76770, 76774, 76776, 76779, 76790, 76799, 76804, 76807, 76818, 76821, 76823, 76832, 76835, 76848, 76882, 76895, 76903, 76912, 76915, 76921, 76936, 76940, 76946, 76957, 76959, 76961, 76964, 76974, 76977, 76978, 76995, 76997, 77003, 77005, 77006, 77028, 77065, 77066, 77070, 77088, 77098, 77101, 77103, 77108, 77109, 77112, 77115, 77119, 77127, 77128, 77129, 77131, 77142, 77144, 77146, 77149, 77165, 77180, 77183, 77192, 77203, 77204, 77207, 77215, 77216, 77229, 77231, 77234, 77244, 77245, 77248, 77249, 77255, 77256, 77263, 77265, 77280, 77318, 77322, 77324, 77330, 77334, 77339, 77365, 77384, 77392, 77401, 77408, 77409, 77421, 77423, 77432, 77433, 77435, 77438, 77448, 77463, 77469, 77472, 77480, 77488, 77491, 77493, 77498, 77513, 77536, 77547, 77548, 77583, 77586, 77596, 77597, 77607, 77611, 77616, 77621, 77627, 77650, 77660, 77667, 77684, 77688, 77694, 77698, 77705, 77706, 77712, 77715, 77721, 77722, 77741, 77750, 77753, 77760, 77772, 77776, 77778, 77783, 77797, 77809, 77819, 77820, 77821, 77822, 77828, 77830, 77832, 77844, 77850, 77858, 77860, 77872, 77874, 77883, 77886, 77897, 77898, 77904, 77905, 77922, 77924, 77934, 77950, 77962, 77965, 77987, 77995, 78001, 78004, 78005, 78012, 78024, 78042, 78046, 78051, 78056, 78074, 78075, 78084, 78090, 78100, 78101, 78112, 78116, 78120, 78123, 78125, 78130, 78136, 78137, 78141, 78145, 78153, 78157, 78158, 78168, 78169, 78171, 78176, 78177, 78199, 78206, 78207, 78227, 78228, 78230, 78241, 78243, 78254, 78261, 78263, 78266, 78268, 78271, 78287, 78294, 78300, 78314, 78328, 78336, 78340, 78344, 78352, 78356, 78369, 78372, 78374, 78377, 78380, 78396, 78401, 78421, 78427, 78431, 78433, 78436, 78444, 78455, 78456, 78462, 78467, 78476, 78494, 78499, 78501, 78507, 78522, 78525, 78535, 78538, 78541, 78543, 78545, 78548, 78549, 78559, 78568, 78569, 78571, 78576, 78583, 78598, 78611, 78618, 78627, 78635, 78645, 78646, 78654, 78659, 78661, 78671, 78675, 78681, 78686, 78690, 78701, 78718, 78732, 78741, 78745, 78746, 78765, 78772, 78781, 78783, 78785, 78789, 78807, 78814, 78822, 78824, 78834, 78841, 78846, 78850, 78857, 78860, 78862, 78863, 78867, 78873, 78876, 78881, 78896, 78900, 78902, 78911, 78912, 78916, 78937, 78945, 78946, 78947, 78952, 78954, 78955, 78957, 78958, 78966, 78972, 78977, 78979, 78983, 78984, 78987, 78992, 79019, 79026, 79032, 79034, 79036, 79042, 79046, 79051, 79058, 79060, 79061, 79084, 79085, 79090, 79092, 79101, 79104, 79107, 79115, 79125, 79143, 79155, 79158, 79159, 79162, 79163, 79165, 79169, 79175, 79179, 79187, 79201, 79229, 79230, 79231, 79236, 79254, 79260, 79261, 79280, 79285, 79289, 79291, 79302, 79303, 79309, 79310, 79311, 79316, 79319, 79335, 79340, 79353, 79362, 79363, 79375, 79384, 79412, 79414, 79415, 79423, 79437, 79440, 79457, 79467, 79471, 79486, 79489, 79505, 79509, 79520, 79522, 79526, 79531, 79532, 79535, 79541, 79551, 79552, 79565, 79573, 79574, 79581, 79583, 79585, 79603, 79606, 79610, 79634, 79647, 79651, 79657, 79663, 79665, 79668, 79683, 79687, 79692, 79699, 79703, 79709, 79710, 79721, 79726, 79730, 79731, 79740, 79747, 79749, 79751, 79755, 79758, 79767, 79770, 79773, 79787, 79790, 79794, 79798, 79826, 79829, 79845, 79854, 79885, 79891, 79900, 79903, 79923, 79928, 79929, 79930, 79934, 79937, 79939, 79946, 79953, 79963, 79965, 79976, 79983, 79987, 80003, 80004, 80005, 80008, 80020, 80021, 80036, 80039, 80042, 80045, 80047, 80056, 80077, 80094, 80103, 80116, 80119, 80136, 80142, 80144, 80152, 80155, 80161, 80171, 80185, 80189, 80201, 80209, 80212, 80214, 80219, 80234, 80240, 80247, 80255, 80259, 80263, 80281, 80303, 80304, 80305, 80315, 80316, 80318, 80326, 80346, 80357, 80363, 80380, 80392, 80398, 80404, 80412, 80431, 80438, 80442, 80443, 80445, 80451, 80467, 80468, 80469, 80478, 80479, 80484, 80492, 80495, 80497, 80500, 80508, 80519, 80522, 80532, 80533, 80539, 80549, 80567, 80571, 80590, 80594, 80597, 80606, 80608, 80613, 80616, 80624, 80626, 80627, 80629, 80634, 80643, 80646, 80649, 80651, 80656, 80660, 80662, 80667, 80668, 80678, 80680, 80692, 80695, 80719, 80720, 80726, 80729, 80733, 80738, 80740, 80746, 80751, 80758, 80761, 80763, 80768, 80789, 80801, 80812, 80823, 80831, 80832, 80840, 80843, 80852, 80861, 80877, 80878, 80886, 80887, 80906, 80910, 80918, 80934, 80939, 80964, 80977, 80982, 80989, 80991, 80994, 80997, 80999, 81008, 81024, 81037, 81045, 81061, 81065, 81068, 81081, 81091, 81093, 81096, 81102, 81113, 81114, 81118, 81122, 81126, 81136, 81140, 81146, 81148, 81155, 81166, 81167, 81168, 81171, 81182, 81188, 81198, 81201, 81204, 81206, 81210, 81212, 81216, 81226, 81237, 81242, 81250, 81253, 81257, 81264, 81274, 81277, 81281, 81285, 81306, 81320, 81351, 81355, 81373, 81383, 81392, 81395, 81402, 81403, 81425, 81429, 81431, 81450, 81452, 81469, 81478, 81486, 81507, 81508, 81518, 81522, 81531, 81538, 81543, 81547, 81548, 81556, 81560, 81564, 81570, 81585, 81603, 81604, 81608, 81612, 81622, 81624, 81632, 81633, 81638, 81639, 81650, 81659, 81667, 81670, 81675, 81680, 81684, 81690, 81691, 81695, 81698, 81703, 81711, 81721, 81729, 81730, 81734, 81735, 81736, 81744, 81756, 81776, 81781, 81783, 81787, 81804, 81809, 81811, 81819, 81823, 81828, 81840, 81841, 81858, 81883, 81887, 81890, 81891, 81915, 81916, 81919, 81923, 81925, 81929, 81930, 81944, 81951, 81963, 81970, 81973, 81975, 81978, 82005, 82015, 82019, 82020, 82024, 82025, 82031, 82034, 82039, 82044, 82061, 82099, 82106, 82112, 82125, 82128, 82137, 82147, 82151, 82164, 82172, 82190, 82194, 82201, 82202, 82239, 82243, 82245, 82251, 82261, 82270, 82274, 82275, 82287, 82295, 82299, 82300, 82312, 82316, 82323, 82327, 82344, 82369, 82378, 82384, 82392, 82393, 82395, 82399, 82429, 82438, 82445, 82450, 82452, 82455, 82459, 82462, 82471, 82473, 82485, 82487, 82492, 82498, 82504, 82508, 82511, 82513, 82518, 82521, 82524, 82529, 82531, 82541, 82542, 82545, 82549, 82551, 82552, 82560, 82572, 82575, 82580, 82584, 82585, 82588, 82599, 82600, 82605, 82612, 82615, 82623, 82626, 82627, 82640, 82650, 82669, 82672, 82673, 82680, 82688, 82694, 82702, 82713, 82715, 82732, 82734, 82746, 82751, 82755, 82772, 82783, 82786, 82792, 82794, 82799, 82800, 82804, 82809, 82829, 82835, 82846, 82850, 82852, 82853, 82858, 82861, 82863, 82870, 82882, 82883, 82894, 82895, 82909, 82910, 82918, 82934, 82937, 82948, 82964, 82968, 82981, 82983, 82994, 82995, 82996, 83000, 83004, 83010, 83013, 83023, 83030, 83031, 83038, 83049, 83054, 83055, 83060, 83061, 83064, 83065, 83068, 83105, 83111, 83134, 83139, 83151, 83152, 83161, 83162, 83176, 83192, 83193, 83194, 83198, 83207, 83217, 83239, 83241, 83244, 83259, 83260, 83266, 83272, 83280, 83287, 83288, 83299, 83301, 83303, 83304, 83309, 83310, 83318, 83330, 83337, 83343, 83351, 83352, 83354, 83355, 83357, 83358, 83365, 83379, 83387, 83394, 83398, 83406, 83408, 83412, 83418, 83422, 83439, 83446, 83453, 83457, 83465, 83492, 83520, 83529, 83534, 83549, 83554, 83560, 83563, 83582, 83591, 83595, 83597, 83598, 83609, 83613, 83615, 83621, 83633, 83636, 83640, 83644, 83654, 83667, 83685, 83687, 83695, 83697, 83701, 83710, 83713, 83714, 83724, 83727, 83731, 83732, 83746, 83758, 83761, 83768, 83772, 83775, 83795, 83801, 83820, 83828, 83830, 83848, 83852, 83856, 83861, 83867, 83868, 83895, 83910, 83912, 83916, 83919, 83922, 83925, 83932, 83937, 83945, 83951, 83955, 83969, 83976, 83977, 83981, 83983, 83987, 83988, 83991, 83994, 84002, 84004, 84012, 84022, 84027, 84033, 84043, 84049, 84050, 84053, 84060, 84070, 84072, 84083, 84085, 84086, 84091, 84092, 84104, 84109, 84111, 84130, 84141, 84149, 84150, 84173, 84175, 84183, 84184, 84192, 84193, 84201, 84210, 84227, 84231, 84238, 84242, 84249, 84251, 84261, 84273, 84290, 84298, 84299, 84303, 84304, 84318, 84322, 84340, 84341, 84342, 84359, 84369, 84371, 84372, 84373, 84379, 84384, 84388, 84393, 84397, 84407, 84431, 84437, 84441, 84445, 84450, 84478, 84487, 84497, 84501, 84511, 84520, 84522, 84524, 84534, 84545, 84547, 84561, 84565, 84570, 84572, 84573, 84581, 84593, 84597, 84599, 84619, 84624, 84625, 84631, 84640, 84659, 84683, 84684, 84685, 84689, 84697, 84698, 84703, 84708, 84709, 84710, 84724, 84727, 84734, 84735, 84746, 84749, 84751, 84765, 84768, 84770, 84788, 84802, 84809, 84810, 84812, 84821, 84828, 84836, 84840, 84846, 84848, 84852, 84860, 84877, 84898, 84904, 84911, 84913, 84924, 84928, 84929, 84931, 84934, 84938, 84940, 84943, 84945, 84947, 84948, 84962, 84964, 84967, 84969, 84974, 84981, 85000, 85001, 85002, 85007, 85017, 85018, 85029, 85034, 85035, 85043, 85048, 85055, 85059, 85071, 85073, 85086, 85092, 85095, 85101, 85105, 85109, 85116, 85122, 85127, 85136, 85143, 85145, 85147, 85160, 85172, 85176, 85178, 85190, 85208, 85220, 85221, 85222, 85224, 85225, 85234, 85247, 85250, 85257, 85259, 85261, 85263, 85265, 85273, 85290, 85293, 85297, 85302, 85308, 85313, 85349, 85355, 85358, 85371, 85382, 85390, 85404, 85407, 85409, 85415, 85423, 85424, 85426, 85428, 85437, 85452, 85458, 85459, 85472, 85473, 85479, 85481, 85484, 85491, 85497, 85501, 85506, 85508, 85520, 85522, 85527, 85530, 85541, 85551, 85561, 85572, 85573, 85582, 85583, 85584, 85586, 85591, 85596, 85610, 85611, 85613, 85615, 85617, 85622, 85627, 85654, 85658, 85660, 85687, 85693, 85699, 85703, 85714, 85722, 85737, 85744, 85763, 85770, 85774, 85778, 85784, 85786, 85797, 85798, 85800, 85804, 85807, 85808, 85809, 85811, 85821, 85830, 85851, 85862, 85869, 85884, 85889, 85904, 85906, 85917, 85934, 85942, 85958, 85966, 85979, 85992, 85996, 85997, 85999, 86010, 86018, 86022, 86027, 86032, 86034, 86051, 86065, 86073, 86100, 86102, 86107, 86115, 86116, 86118, 86119, 86144, 86145, 86158, 86172, 86173, 86178, 86183, 86187, 86191, 86196, 86197, 86209, 86222, 86230, 86236, 86237, 86239, 86240, 86249, 86255, 86256, 86261, 86269, 86283, 86288, 86307, 86311, 86314, 86315, 86319, 86323, 86324, 86325, 86335, 86338, 86348, 86349, 86353, 86354, 86365, 86366, 86373, 86377, 86378, 86390, 86393, 86394, 86395, 86402, 86403, 86406, 86407, 86409, 86414, 86419, 86424, 86425, 86440, 86441, 86452, 86475, 86476, 86481, 86485, 86490, 86505, 86511, 86513, 86519, 86520, 86521, 86531, 86532, 86547, 86548, 86549, 86560, 86576, 86584, 86585, 86592, 86616, 86621, 86623, 86624, 86637, 86642, 86645, 86647, 86648, 86657, 86658, 86661, 86663, 86667, 86671, 86673, 86681, 86694, 86697, 86701, 86702, 86704, 86711, 86716, 86725, 86727, 86728, 86749, 86760, 86764, 86765, 86780, 86784, 86791, 86794, 86802, 86805, 86807, 86808, 86820, 86839, 86847, 86860, 86862, 86866, 86875, 86883, 86899, 86901, 86905, 86911, 86925, 86928, 86932, 86938, 86944, 86946, 86947, 86950, 86952, 86965, 86993, 87016, 87019, 87028, 87030, 87031, 87035, 87040, 87049, 87067, 87070, 87088, 87090, 87092, 87095, 87101, 87104, 87105, 87107, 87112, 87116, 87125, 87127, 87132, 87135, 87139, 87140, 87142, 87145, 87156, 87167, 87183, 87186, 87188, 87194, 87195, 87201, 87204, 87211, 87220, 87222, 87226, 87227, 87243, 87244, 87247, 87251, 87264, 87269, 87276, 87282, 87303, 87304, 87310, 87313, 87321, 87327, 87333, 87339, 87376, 87387, 87388, 87399, 87402, 87404, 87412, 87423, 87431, 87440, 87454, 87458, 87470, 87480, 87489, 87502, 87508, 87509, 87528, 87530, 87533, 87540, 87554, 87570, 87575, 87587, 87592, 87599, 87604, 87608, 87629, 87642, 87646, 87654, 87658, 87663, 87675, 87678, 87701, 87710, 87711, 87722, 87728, 87730, 87735, 87738, 87748, 87751, 87755, 87757, 87758, 87760, 87764, 87770, 87773, 87784, 87797, 87807, 87814, 87825, 87831, 87840, 87842, 87845, 87848, 87863, 87870, 87879, 87885, 87888, 87892, 87895, 87902, 87905, 87921, 87925, 87929, 87931, 87934, 87941, 87951, 87956, 87957, 87967, 87969, 87994, 88006, 88007, 88010, 88015, 88024, 88028, 88037, 88039, 88048, 88067, 88087, 88094, 88107, 88110, 88120, 88126, 88129, 88132, 88147, 88151, 88152, 88176, 88181, 88187, 88192, 88197, 88216, 88219, 88221, 88226, 88228, 88231, 88233, 88242, 88244, 88253, 88266, 88284, 88288, 88295, 88296, 88302, 88312, 88315, 88316, 88317, 88318, 88320, 88325, 88328, 88334, 88341, 88342, 88344, 88350, 88354, 88366, 88368, 88371, 88373, 88397, 88416, 88423, 88425, 88430, 88432, 88435, 88438, 88439, 88461, 88474, 88482, 88488, 88491, 88492, 88496, 88497, 88498, 88508, 88515, 88516, 88518, 88551, 88553, 88583, 88605, 88607, 88624, 88638, 88640, 88642, 88645, 88646, 88654, 88656, 88657, 88659, 88671, 88677, 88683, 88686, 88699, 88700, 88706, 88709, 88717, 88725, 88729, 88737, 88751, 88765, 88768, 88771, 88774, 88781, 88784, 88787, 88788, 88795, 88799, 88811, 88812, 88813, 88817, 88824, 88826, 88830, 88841, 88850, 88852, 88862, 88863, 88864, 88866, 88873, 88886, 88891, 88894, 88899, 88902, 88905, 88910, 88922, 88926, 88927, 88938, 88940, 88941, 88947, 88974, 88980, 88983, 88984, 88998, 89006, 89008, 89013, 89014, 89021, 89024, 89029, 89049, 89058, 89059, 89081, 89098, 89103, 89105, 89114, 89116, 89119, 89130, 89132, 89134, 89152, 89164, 89193, 89197, 89198, 89212, 89223, 89239, 89242, 89247, 89250, 89253, 89258, 89261, 89262, 89266, 89271, 89274, 89279, 89293, 89311, 89313, 89317, 89328, 89332, 89351, 89354, 89361, 89372, 89389, 89390, 89398, 89400, 89409, 89410, 89419, 89420, 89424, 89431, 89437, 89441, 89460, 89469, 89478, 89480, 89482, 89486, 89493, 89495, 89498, 89499, 89503, 89505, 89509, 89519, 89521, 89523, 89529, 89531, 89533, 89556, 89566, 89576, 89577, 89588, 89597, 89603, 89607, 89609, 89612, 89615, 89616, 89623, 89625, 89633, 89643, 89644, 89645, 89651, 89652, 89653, 89655, 89667, 89675, 89684, 89687, 89695, 89696, 89697, 89703, 89711, 89712, 89713, 89718, 89723, 89735, 89737, 89745, 89749, 89757, 89758, 89762, 89765, 89771, 89776, 89785, 89792, 89798, 89804, 89811, 89818, 89819, 89830, 89840, 89858, 89863, 89881, 89892, 89894, 89896, 89897, 89900, 89905, 89907, 89908, 89912, 89915, 89920, 89924, 89939, 89944, 89946, 89954, 89961, 89977, 89989, 89997, 90001, 90003, 90008, 90013, 90016, 90022, 90028, 90029, 90047, 90057, 90069, 90082, 90085, 90089, 90091, 90093, 90108, 90113, 90116, 90151, 90154, 90157, 90163, 90188, 90192, 90193, 90207, 90227, 90240, 90241, 90248, 90252, 90255, 90267, 90270, 90278, 90279, 90282, 90283, 90298, 90325, 90327, 90336, 90345, 90350, 90356, 90358, 90366, 90370, 90375, 90386, 90403, 90406, 90408, 90411, 90425, 90439, 90446, 90448, 90449, 90451, 90461, 90462, 90466, 90467, 90511, 90517, 90531, 90539, 90543, 90548, 90549, 90555, 90560, 90562, 90570, 90571, 90572, 90579, 90587, 90614, 90621, 90641, 90643, 90647, 90648, 90650, 90672, 90681, 90691, 90692, 90693, 90714, 90718, 90721, 90726, 90727, 90731, 90741, 90755, 90757, 90758, 90761, 90762, 90768, 90776, 90791, 90794, 90797, 90826, 90836, 90842, 90843, 90847, 90858, 90866, 90869, 90872, 90875, 90888, 90894, 90901, 90916, 90917, 90921, 90924, 90927, 90930, 90932, 90937, 90941, 90943, 90959, 90961, 90965, 90966, 90970, 90973, 90975, 90978, 90981, 90995, 91000, 91001, 91012, 91015, 91019, 91020, 91029, 91033, 91034, 91046, 91050, 91054, 91056, 91070, 91085, 91088, 91096, 91097, 91100, 91109, 91110, 91112, 91113, 91115, 91121, 91131, 91134, 91138, 91160, 91170, 91177, 91186, 91188, 91197, 91198, 91203, 91215, 91216, 91220, 91231, 91232, 91238, 91239, 91251, 91253, 91254, 91255, 91264, 91277, 91283, 91290, 91297, 91303, 91312, 91343, 91346, 91354, 91369, 91376, 91390, 91403, 91409, 91413, 91421, 91422, 91433, 91436, 91437, 91453, 91456, 91458, 91465, 91477, 91505, 91512, 91523, 91526, 91531, 91534, 91537, 91546, 91547, 91551, 91552, 91572, 91596, 91600, 91601, 91602, 91605, 91606, 91617, 91620, 91626, 91638, 91643, 91655, 91659, 91660, 91666, 91671, 91675, 91678, 91682, 91691, 91707, 91718, 91734, 91737, 91739, 91747, 91753, 91767, 91768, 91783, 91788, 91795, 91799, 91813, 91814, 91818, 91819, 91821, 91825, 91831, 91858, 91866, 91874, 91880, 91894, 91895, 91900, 91903, 91923, 91926, 91935, 91936, 91939, 91950, 91973, 91978, 91984, 91988, 92001, 92032, 92043, 92044, 92065, 92074, 92075, 92082, 92086, 92089, 92092, 92099, 92100, 92104, 92106, 92119, 92121, 92130, 92148, 92154, 92155, 92156, 92160, 92168, 92171, 92173, 92175, 92177, 92193, 92205, 92207, 92210, 92239, 92241, 92243, 92248, 92251, 92262, 92266, 92269, 92270, 92276, 92278, 92292, 92295, 92300, 92306, 92312, 92313, 92335, 92340, 92357, 92367, 92368, 92379, 92380, 92400, 92402, 92404, 92420, 92421, 92422, 92427, 92430, 92434, 92435, 92440, 92450, 92474, 92479, 92481, 92482, 92490, 92496, 92501, 92515, 92516, 92523, 92528, 92534, 92536, 92537, 92538, 92546, 92565, 92571, 92592, 92594, 92603, 92606, 92633, 92638, 92659, 92684, 92687, 92695, 92696, 92701, 92706, 92726, 92737, 92743, 92765, 92772, 92774, 92779, 92797, 92809, 92840, 92849, 92852, 92853, 92871, 92873, 92891, 92904, 92909, 92914, 92934, 92941, 92946, 92959, 92963, 92970, 92971, 92972, 92985, 92986, 93001, 93009, 93014, 93025, 93038, 93044, 93053, 93071, 93094, 93100, 93118, 93131, 93136, 93141, 93142, 93158, 93159, 93160, 93163, 93171, 93191, 93215, 93216, 93220, 93221, 93229, 93232, 93242, 93243, 93261, 93265, 93269, 93272, 93290, 93296, 93298, 93299, 93300, 93306, 93317, 93319, 93320, 93322, 93324, 93326, 93327, 93333, 93334, 93344, 93345, 93354, 93362, 93370, 93376, 93388, 93391, 93392, 93402, 93416, 93418, 93431, 93433, 93435, 93453, 93457, 93461, 93471, 93479, 93481, 93488, 93492, 93497, 93501, 93502, 93507, 93526, 93528, 93531, 93538, 93539, 93551, 93553, 93557, 93560, 93566, 93568, 93570, 93572, 93573, 93576, 93588, 93592, 93594, 93595, 93598, 93607, 93616, 93617, 93620, 93633, 93634, 93652, 93660, 93664, 93665, 93676, 93677, 93704, 93725, 93727, 93729, 93731, 93773, 93776, 93781, 93794, 93795, 93800, 93805, 93814, 93823, 93829, 93834, 93845, 93851, 93852, 93853, 93854, 93859, 93865, 93868, 93872, 93881, 93883, 93908, 93910, 93927, 93940, 93946, 93947, 93950, 93955, 93956, 93960, 93967, 93968, 93973, 93976, 93985, 93986, 93992, 94007, 94026, 94055, 94063, 94064, 94068, 94071, 94088, 94090, 94093, 94095, 94097, 94101, 94107, 94108, 94125, 94130, 94136, 94137, 94138, 94141, 94148, 94149, 94152, 94157, 94158, 94164, 94169, 94178, 94180, 94184, 94189, 94194, 94210, 94231, 94239, 94243, 94247, 94250, 94258, 94266, 94274, 94296, 94300, 94311, 94313, 94325, 94330, 94331, 94332, 94341, 94343, 94349, 94351, 94354, 94373, 94375, 94405, 94408, 94425, 94432, 94444, 94449, 94453, 94457, 94470, 94478, 94485, 94489, 94490, 94496, 94500, 94506, 94507, 94511, 94512, 94521, 94525, 94539, 94563, 94564, 94574, 94575, 94581, 94590, 94593, 94595, 94605, 94608, 94611, 94613, 94626, 94658, 94660, 94665, 94670, 94671, 94672, 94673, 94676, 94693, 94700, 94722, 94723, 94741, 94747, 94755, 94774, 94775, 94794, 94799, 94809, 94827, 94842, 94844, 94847, 94851, 94853, 94857, 94865, 94867, 94875, 94890, 94898, 94903, 94909, 94919, 94922, 94942, 94946, 94949, 94952, 94961, 94964, 94982, 94984, 94993, 95002, 95009, 95014, 95016, 95022, 95025, 95027, 95034, 95041, 95052, 95056, 95062, 95067, 95080, 95084, 95094, 95101, 95106, 95108, 95114, 95125, 95126, 95134, 95135, 95141, 95145, 95147, 95155, 95156, 95162, 95164, 95172, 95177, 95183, 95189, 95197, 95206, 95216, 95231, 95235, 95239, 95255, 95263, 95274, 95276, 95294, 95295, 95305, 95321, 95347, 95348, 95354, 95359, 95361, 95376, 95377, 95390, 95409, 95427, 95432, 95435, 95436, 95453, 95471, 95472, 95476, 95481, 95488, 95516, 95517, 95544, 95555, 95577, 95578, 95588, 95591, 95592, 95596, 95598, 95608, 95612, 95614, 95618, 95631, 95658, 95663, 95664, 95681, 95682, 95684, 95690, 95724, 95743, 95747, 95751, 95761, 95763, 95765, 95767, 95777, 95778, 95783, 95801, 95803, 95809, 95823, 95827, 95834, 95843, 95845, 95850, 95854, 95859, 95880, 95904, 95909, 95913, 95917, 95920, 95921, 95926, 95942, 95956, 95961, 95974, 95976, 95983, 95997, 96017, 96020, 96023, 96028, 96032, 96034, 96038, 96043, 96045, 96046, 96048, 96053, 96059, 96064, 96065, 96070, 96072, 96090, 96093, 96097, 96108, 96121, 96127, 96133, 96137, 96139, 96149, 96150, 96153, 96155, 96156, 96168, 96170, 96177, 96186, 96192, 96197, 96211, 96212, 96213, 96215, 96221, 96226, 96235, 96248, 96249, 96255, 96257, 96262, 96264, 96269, 96273, 96291, 96295, 96301, 96307, 96315, 96319, 96320, 96326, 96331, 96332, 96334, 96340, 96350, 96351, 96354, 96358, 96361, 96373, 96376, 96379, 96386, 96394, 96396, 96401, 96413, 96416, 96417, 96424, 96451, 96459, 96463, 96465, 96468, 96479, 96488, 96493, 96496, 96507, 96510, 96512, 96521, 96524, 96537, 96571, 96584, 96592, 96601, 96604, 96610, 96625, 96629, 96635, 96646, 96648, 96650, 96653, 96663, 96666, 96667, 96684, 96686, 96692, 96694, 96695, 96717, 96754, 96755, 96759, 96777, 96787, 96790, 96792, 96797, 96798, 96801, 96804, 96808, 96816, 96817, 96818, 96820, 96831, 96833, 96835, 96838, 96854, 96869, 96872, 96881, 96892, 96893, 96896, 96904, 96905, 96918, 96920, 96923, 96933, 96934, 96937, 96938, 96944, 96945, 96952, 96954, 96969, 97007, 97011, 97013, 97019, 97023, 97028, 97054, 97073, 97081, 97090, 97097, 97098, 97110, 97112, 97121, 97122, 97124, 97127, 97137, 97152, 97158, 97161, 97169, 97177, 97180, 97182, 97187, 97202, 97225, 97236, 97237, 97272, 97275, 97285, 97286, 97296, 97300, 97305, 97310, 97316, 97339, 97349, 97356, 97373, 97377, 97383, 97387, 97394, 97395, 97401, 97404, 97410, 97411, 97430, 97439, 97442, 97449, 97461, 97465, 97467, 97472, 97486, 97498, 97508, 97509, 97510, 97511, 97517, 97519, 97521, 97533, 97539, 97547, 97549, 97561, 97563, 97572, 97575, 97586, 97587, 97593, 97594, 97611, 97613, 97623, 97639, 97651, 97654, 97676, 97684, 97690, 97693, 97694, 97701, 97713, 97731, 97735, 97740, 97745, 97763, 97764, 97773, 97779, 97789, 97790, 97801, 97805, 97809, 97812, 97814, 97819, 97825, 97826, 97830, 97834, 97842, 97846, 97847, 97857, 97858, 97860, 97865, 97866, 97888, 97895, 97896, 97916, 97917, 97919, 97930, 97932, 97943, 97950, 97952, 97955, 97957, 97960, 97976, 97983, 97989, 98003, 98017, 98025, 98029, 98033, 98041, 98045, 98058, 98061, 98063, 98066, 98069, 98085, 98090, 98110, 98116, 98120, 98122, 98125, 98133, 98144, 98145, 98151, 98156, 98165, 98183, 98188, 98190, 98196, 98211, 98214, 98224, 98227, 98230, 98232, 98234, 98237, 98238, 98248, 98257, 98258, 98260, 98265, 98272, 98287, 98300, 98307, 98316, 98324, 98334, 98335, 98343, 98348, 98350, 98360, 98364, 98370, 98375, 98379, 98390, 98407, 98421, 98430, 98434, 98435]\n"
     ]
    }
   ],
   "source": [
    "# has_large_intensity_df에서 값이 True인 인덱스를 추출하여 리스트로 변환\n",
    "more_than_2_df_idx = list(more_than_2_df[more_than_2_df].index)\n",
    "\n",
    "print(more_than_2_df_idx)"
   ]
  },
  {
   "cell_type": "code",
   "execution_count": 357,
   "id": "821c1be9",
   "metadata": {},
   "outputs": [
    {
     "data": {
      "text/html": [
       "<div>\n",
       "<style scoped>\n",
       "    .dataframe tbody tr th:only-of-type {\n",
       "        vertical-align: middle;\n",
       "    }\n",
       "\n",
       "    .dataframe tbody tr th {\n",
       "        vertical-align: top;\n",
       "    }\n",
       "\n",
       "    .dataframe thead th {\n",
       "        text-align: right;\n",
       "    }\n",
       "</style>\n",
       "<table border=\"1\" class=\"dataframe\">\n",
       "  <thead>\n",
       "    <tr style=\"text-align: right;\">\n",
       "      <th></th>\n",
       "      <th>idx</th>\n",
       "      <th>class</th>\n",
       "      <th>conversation</th>\n",
       "      <th>types</th>\n",
       "      <th>intensity</th>\n",
       "      <th>is_immoral</th>\n",
       "    </tr>\n",
       "  </thead>\n",
       "  <tbody>\n",
       "    <tr>\n",
       "      <th>9</th>\n",
       "      <td>9</td>\n",
       "      <td>위협대화</td>\n",
       "      <td>#@# 주변 지나갈 일이 있었는데, 클럽 앞에 사람들 엄청 바글바글하더라\\n저 노는...</td>\n",
       "      <td>IMMORAL_NONE\\nCENSURE\\nHATE\\nCENSURE\\nVIOLENCE</td>\n",
       "      <td>[0, 1.8, 2.4]</td>\n",
       "      <td>[False, True, True]</td>\n",
       "    </tr>\n",
       "    <tr>\n",
       "      <th>16</th>\n",
       "      <td>16</td>\n",
       "      <td>위협대화</td>\n",
       "      <td>아들아 이번 시험은 꼭 1등 하거라\\n네 항상 최선을 다하고 있어요\\n최선을 다하는...</td>\n",
       "      <td>IMMORAL_NONE\\nIMMORAL_NONE\\nABUSE\\nCENSURE</td>\n",
       "      <td>[0, 0, 2.0]</td>\n",
       "      <td>[False, False, True]</td>\n",
       "    </tr>\n",
       "    <tr>\n",
       "      <th>25</th>\n",
       "      <td>25</td>\n",
       "      <td>위협대화</td>\n",
       "      <td>아 진짜 너무 힘들어서 진심으로 죽고 싶다\\n말만 하지말고 진짜 죽어버려\\n마트 가...</td>\n",
       "      <td>VIOLENCE\\nVIOLENCE\\nVIOLENCE</td>\n",
       "      <td>[1.4, 1.8, 2.0]</td>\n",
       "      <td>[True, True, True]</td>\n",
       "    </tr>\n",
       "    <tr>\n",
       "      <th>27</th>\n",
       "      <td>27</td>\n",
       "      <td>위협대화</td>\n",
       "      <td>너 아직도 공무원 공부 해?\\n응,, 올해 까지만 해보려구\\n그 정도 했음 니 뇌구...</td>\n",
       "      <td>CENSURE\\nIMMORAL_NONE\\nABUSE</td>\n",
       "      <td>[1.0, 0, 2.0]</td>\n",
       "      <td>[True, False, True]</td>\n",
       "    </tr>\n",
       "    <tr>\n",
       "      <th>29</th>\n",
       "      <td>29</td>\n",
       "      <td>위협대화</td>\n",
       "      <td>요즘 정치 판국 돌아가는 거 보면 국민 평균은 오등급이란 말이 틀리지 않았다..\\n...</td>\n",
       "      <td>CENSURE\\nHATE\\nCENSURE\\nIMMORAL_NONE</td>\n",
       "      <td>[2.0, 1.8, 0]</td>\n",
       "      <td>[True, True, False]</td>\n",
       "    </tr>\n",
       "    <tr>\n",
       "      <th>...</th>\n",
       "      <td>...</td>\n",
       "      <td>...</td>\n",
       "      <td>...</td>\n",
       "      <td>...</td>\n",
       "      <td>...</td>\n",
       "      <td>...</td>\n",
       "    </tr>\n",
       "    <tr>\n",
       "      <th>98407</th>\n",
       "      <td>98407</td>\n",
       "      <td>위협대화</td>\n",
       "      <td>니 여자친구 너무 어려보이더라\\n실제로 고딩인데 어린게 얼마나 맛있는줄 아냐?\\n그...</td>\n",
       "      <td>IMMORAL_NONE\\nCRIME\\nSEXUAL\\nIMMORAL_NONE</td>\n",
       "      <td>[0, 3.0, 0]</td>\n",
       "      <td>[False, True, False]</td>\n",
       "    </tr>\n",
       "    <tr>\n",
       "      <th>98421</th>\n",
       "      <td>98421</td>\n",
       "      <td>위협대화</td>\n",
       "      <td>아 아비가 벌초하러 가자고 하니까 진짜 가기 싫다.\\n너네 아버지 돌아가시면 네가 ...</td>\n",
       "      <td>IMMORAL_NONE\\nIMMORAL_NONE\\nVIOLENCE\\nCRIME</td>\n",
       "      <td>[0, 0, 2.4]</td>\n",
       "      <td>[False, False, True]</td>\n",
       "    </tr>\n",
       "    <tr>\n",
       "      <th>98430</th>\n",
       "      <td>98430</td>\n",
       "      <td>위협대화</td>\n",
       "      <td>떡 쳐보고 싶은데 정부에서 20대 남녀 강제 성관계 정책 내면 안 되나?\\n저출산 ...</td>\n",
       "      <td>SEXUAL\\nIMMORAL_NONE\\nSEXUAL</td>\n",
       "      <td>[1.6, 0, 2.0]</td>\n",
       "      <td>[True, False, True]</td>\n",
       "    </tr>\n",
       "    <tr>\n",
       "      <th>98434</th>\n",
       "      <td>98434</td>\n",
       "      <td>위협대화</td>\n",
       "      <td>너 얼굴이 왜 상처 생겼어?\\n공차다 넘어졌어, 잘생긴 얼굴 어쩌지\\n이미 니 얼굴...</td>\n",
       "      <td>IMMORAL_NONE\\nIMMORAL_NONE\\nVIOLENCE\\nCENSURE</td>\n",
       "      <td>[0, 0, 2.4]</td>\n",
       "      <td>[False, False, True]</td>\n",
       "    </tr>\n",
       "    <tr>\n",
       "      <th>98435</th>\n",
       "      <td>98435</td>\n",
       "      <td>위협대화</td>\n",
       "      <td>김밥집에서 왜 식중독에 걸리는 거야?\\n계산하고 돈만지고 그 손으로 김밥 말고ㅋㅋㅋ...</td>\n",
       "      <td>IMMORAL_NONE\\nCENSURE</td>\n",
       "      <td>[0, 2.0]</td>\n",
       "      <td>[False, True]</td>\n",
       "    </tr>\n",
       "  </tbody>\n",
       "</table>\n",
       "<p>14305 rows × 6 columns</p>\n",
       "</div>"
      ],
      "text/plain": [
       "         idx class                                       conversation  \\\n",
       "9          9  위협대화  #@# 주변 지나갈 일이 있었는데, 클럽 앞에 사람들 엄청 바글바글하더라\\n저 노는...   \n",
       "16        16  위협대화  아들아 이번 시험은 꼭 1등 하거라\\n네 항상 최선을 다하고 있어요\\n최선을 다하는...   \n",
       "25        25  위협대화  아 진짜 너무 힘들어서 진심으로 죽고 싶다\\n말만 하지말고 진짜 죽어버려\\n마트 가...   \n",
       "27        27  위협대화  너 아직도 공무원 공부 해?\\n응,, 올해 까지만 해보려구\\n그 정도 했음 니 뇌구...   \n",
       "29        29  위협대화  요즘 정치 판국 돌아가는 거 보면 국민 평균은 오등급이란 말이 틀리지 않았다..\\n...   \n",
       "...      ...   ...                                                ...   \n",
       "98407  98407  위협대화  니 여자친구 너무 어려보이더라\\n실제로 고딩인데 어린게 얼마나 맛있는줄 아냐?\\n그...   \n",
       "98421  98421  위협대화  아 아비가 벌초하러 가자고 하니까 진짜 가기 싫다.\\n너네 아버지 돌아가시면 네가 ...   \n",
       "98430  98430  위협대화  떡 쳐보고 싶은데 정부에서 20대 남녀 강제 성관계 정책 내면 안 되나?\\n저출산 ...   \n",
       "98434  98434  위협대화  너 얼굴이 왜 상처 생겼어?\\n공차다 넘어졌어, 잘생긴 얼굴 어쩌지\\n이미 니 얼굴...   \n",
       "98435  98435  위협대화  김밥집에서 왜 식중독에 걸리는 거야?\\n계산하고 돈만지고 그 손으로 김밥 말고ㅋㅋㅋ...   \n",
       "\n",
       "                                                types        intensity  \\\n",
       "9      IMMORAL_NONE\\nCENSURE\\nHATE\\nCENSURE\\nVIOLENCE    [0, 1.8, 2.4]   \n",
       "16         IMMORAL_NONE\\nIMMORAL_NONE\\nABUSE\\nCENSURE      [0, 0, 2.0]   \n",
       "25                       VIOLENCE\\nVIOLENCE\\nVIOLENCE  [1.4, 1.8, 2.0]   \n",
       "27                       CENSURE\\nIMMORAL_NONE\\nABUSE    [1.0, 0, 2.0]   \n",
       "29               CENSURE\\nHATE\\nCENSURE\\nIMMORAL_NONE    [2.0, 1.8, 0]   \n",
       "...                                               ...              ...   \n",
       "98407       IMMORAL_NONE\\nCRIME\\nSEXUAL\\nIMMORAL_NONE      [0, 3.0, 0]   \n",
       "98421     IMMORAL_NONE\\nIMMORAL_NONE\\nVIOLENCE\\nCRIME      [0, 0, 2.4]   \n",
       "98430                    SEXUAL\\nIMMORAL_NONE\\nSEXUAL    [1.6, 0, 2.0]   \n",
       "98434   IMMORAL_NONE\\nIMMORAL_NONE\\nVIOLENCE\\nCENSURE      [0, 0, 2.4]   \n",
       "98435                           IMMORAL_NONE\\nCENSURE         [0, 2.0]   \n",
       "\n",
       "                 is_immoral  \n",
       "9       [False, True, True]  \n",
       "16     [False, False, True]  \n",
       "25       [True, True, True]  \n",
       "27      [True, False, True]  \n",
       "29      [True, True, False]  \n",
       "...                     ...  \n",
       "98407  [False, True, False]  \n",
       "98421  [False, False, True]  \n",
       "98430   [True, False, True]  \n",
       "98434  [False, False, True]  \n",
       "98435         [False, True]  \n",
       "\n",
       "[14305 rows x 6 columns]"
      ]
     },
     "execution_count": 357,
     "metadata": {},
     "output_type": "execute_result"
    }
   ],
   "source": [
    "commit_df = try_df.iloc[more_than_2_df_idx]\n",
    "commit_df"
   ]
  },
  {
   "cell_type": "markdown",
   "id": "3feb3f7d",
   "metadata": {},
   "source": [
    "---\n",
    "\n",
    "### True 있나 없나 확인"
   ]
  },
  {
   "cell_type": "code",
   "execution_count": 351,
   "id": "557bffd3",
   "metadata": {},
   "outputs": [
    {
     "data": {
      "text/plain": [
       "True"
      ]
     },
     "execution_count": 351,
     "metadata": {},
     "output_type": "execute_result"
    }
   ],
   "source": [
    "True in try_df['is_immoral'][0]"
   ]
  },
  {
   "cell_type": "code",
   "execution_count": 352,
   "id": "e803b7c3",
   "metadata": {},
   "outputs": [
    {
     "data": {
      "text/plain": [
       "98445"
      ]
     },
     "execution_count": 352,
     "metadata": {},
     "output_type": "execute_result"
    }
   ],
   "source": [
    "len(try_df['is_immoral'])"
   ]
  },
  {
   "cell_type": "code",
   "execution_count": 354,
   "id": "bd37b6b0",
   "metadata": {},
   "outputs": [
    {
     "name": "stderr",
     "output_type": "stream",
     "text": [
      "\n",
      "  0%|          | 0/98445 [00:00<?, ?it/s]\u001b[A\n",
      " 21%|██        | 20388/98445 [00:00<00:00, 203863.18it/s]\u001b[A\n",
      " 42%|████▏     | 41223/98445 [00:00<00:00, 206489.77it/s]\u001b[A\n",
      " 64%|██████▎   | 62647/98445 [00:00<00:00, 210020.14it/s]\u001b[A\n",
      "100%|██████████| 98445/98445 [00:00<00:00, 213190.19it/s]\u001b[A\n"
     ]
    }
   ],
   "source": [
    "idx = []\n",
    "for i in tqdm(range(len(try_df['is_immoral']))):\n",
    "    if True in try_df['is_immoral'][i]:\n",
    "        idx.append(i)"
   ]
  },
  {
   "cell_type": "code",
   "execution_count": 356,
   "id": "baac491d",
   "metadata": {},
   "outputs": [
    {
     "data": {
      "text/plain": [
       "98445"
      ]
     },
     "execution_count": 356,
     "metadata": {},
     "output_type": "execute_result"
    }
   ],
   "source": [
    "len(idx)"
   ]
  },
  {
   "cell_type": "markdown",
   "id": "3d1960fc",
   "metadata": {},
   "source": [
    "### 다듬기"
   ]
  },
  {
   "cell_type": "code",
   "execution_count": 371,
   "id": "3ebaac3f",
   "metadata": {},
   "outputs": [
    {
     "data": {
      "text/html": [
       "<div>\n",
       "<style scoped>\n",
       "    .dataframe tbody tr th:only-of-type {\n",
       "        vertical-align: middle;\n",
       "    }\n",
       "\n",
       "    .dataframe tbody tr th {\n",
       "        vertical-align: top;\n",
       "    }\n",
       "\n",
       "    .dataframe thead th {\n",
       "        text-align: right;\n",
       "    }\n",
       "</style>\n",
       "<table border=\"1\" class=\"dataframe\">\n",
       "  <thead>\n",
       "    <tr style=\"text-align: right;\">\n",
       "      <th></th>\n",
       "      <th>class</th>\n",
       "      <th>conversation</th>\n",
       "      <th>types</th>\n",
       "    </tr>\n",
       "  </thead>\n",
       "  <tbody>\n",
       "    <tr>\n",
       "      <th>9</th>\n",
       "      <td>위협대화</td>\n",
       "      <td>#@# 주변 지나갈 일이 있었는데, 클럽 앞에 사람들 엄청 바글바글하더라\\n저 노는...</td>\n",
       "      <td>IMMORAL_NONE\\nCENSURE\\nHATE\\nCENSURE\\nVIOLENCE</td>\n",
       "    </tr>\n",
       "    <tr>\n",
       "      <th>16</th>\n",
       "      <td>위협대화</td>\n",
       "      <td>아들아 이번 시험은 꼭 1등 하거라\\n네 항상 최선을 다하고 있어요\\n최선을 다하는...</td>\n",
       "      <td>IMMORAL_NONE\\nIMMORAL_NONE\\nABUSE\\nCENSURE</td>\n",
       "    </tr>\n",
       "    <tr>\n",
       "      <th>25</th>\n",
       "      <td>위협대화</td>\n",
       "      <td>아 진짜 너무 힘들어서 진심으로 죽고 싶다\\n말만 하지말고 진짜 죽어버려\\n마트 가...</td>\n",
       "      <td>VIOLENCE\\nVIOLENCE\\nVIOLENCE</td>\n",
       "    </tr>\n",
       "    <tr>\n",
       "      <th>27</th>\n",
       "      <td>위협대화</td>\n",
       "      <td>너 아직도 공무원 공부 해?\\n응,, 올해 까지만 해보려구\\n그 정도 했음 니 뇌구...</td>\n",
       "      <td>CENSURE\\nIMMORAL_NONE\\nABUSE</td>\n",
       "    </tr>\n",
       "    <tr>\n",
       "      <th>29</th>\n",
       "      <td>위협대화</td>\n",
       "      <td>요즘 정치 판국 돌아가는 거 보면 국민 평균은 오등급이란 말이 틀리지 않았다..\\n...</td>\n",
       "      <td>CENSURE\\nHATE\\nCENSURE\\nIMMORAL_NONE</td>\n",
       "    </tr>\n",
       "    <tr>\n",
       "      <th>...</th>\n",
       "      <td>...</td>\n",
       "      <td>...</td>\n",
       "      <td>...</td>\n",
       "    </tr>\n",
       "    <tr>\n",
       "      <th>98407</th>\n",
       "      <td>위협대화</td>\n",
       "      <td>니 여자친구 너무 어려보이더라\\n실제로 고딩인데 어린게 얼마나 맛있는줄 아냐?\\n그...</td>\n",
       "      <td>IMMORAL_NONE\\nCRIME\\nSEXUAL\\nIMMORAL_NONE</td>\n",
       "    </tr>\n",
       "    <tr>\n",
       "      <th>98421</th>\n",
       "      <td>위협대화</td>\n",
       "      <td>아 아비가 벌초하러 가자고 하니까 진짜 가기 싫다.\\n너네 아버지 돌아가시면 네가 ...</td>\n",
       "      <td>IMMORAL_NONE\\nIMMORAL_NONE\\nVIOLENCE\\nCRIME</td>\n",
       "    </tr>\n",
       "    <tr>\n",
       "      <th>98430</th>\n",
       "      <td>위협대화</td>\n",
       "      <td>떡 쳐보고 싶은데 정부에서 20대 남녀 강제 성관계 정책 내면 안 되나?\\n저출산 ...</td>\n",
       "      <td>SEXUAL\\nIMMORAL_NONE\\nSEXUAL</td>\n",
       "    </tr>\n",
       "    <tr>\n",
       "      <th>98434</th>\n",
       "      <td>위협대화</td>\n",
       "      <td>너 얼굴이 왜 상처 생겼어?\\n공차다 넘어졌어, 잘생긴 얼굴 어쩌지\\n이미 니 얼굴...</td>\n",
       "      <td>IMMORAL_NONE\\nIMMORAL_NONE\\nVIOLENCE\\nCENSURE</td>\n",
       "    </tr>\n",
       "    <tr>\n",
       "      <th>98435</th>\n",
       "      <td>위협대화</td>\n",
       "      <td>김밥집에서 왜 식중독에 걸리는 거야?\\n계산하고 돈만지고 그 손으로 김밥 말고ㅋㅋㅋ...</td>\n",
       "      <td>IMMORAL_NONE\\nCENSURE</td>\n",
       "    </tr>\n",
       "  </tbody>\n",
       "</table>\n",
       "<p>14305 rows × 3 columns</p>\n",
       "</div>"
      ],
      "text/plain": [
       "      class                                       conversation  \\\n",
       "9      위협대화  #@# 주변 지나갈 일이 있었는데, 클럽 앞에 사람들 엄청 바글바글하더라\\n저 노는...   \n",
       "16     위협대화  아들아 이번 시험은 꼭 1등 하거라\\n네 항상 최선을 다하고 있어요\\n최선을 다하는...   \n",
       "25     위협대화  아 진짜 너무 힘들어서 진심으로 죽고 싶다\\n말만 하지말고 진짜 죽어버려\\n마트 가...   \n",
       "27     위협대화  너 아직도 공무원 공부 해?\\n응,, 올해 까지만 해보려구\\n그 정도 했음 니 뇌구...   \n",
       "29     위협대화  요즘 정치 판국 돌아가는 거 보면 국민 평균은 오등급이란 말이 틀리지 않았다..\\n...   \n",
       "...     ...                                                ...   \n",
       "98407  위협대화  니 여자친구 너무 어려보이더라\\n실제로 고딩인데 어린게 얼마나 맛있는줄 아냐?\\n그...   \n",
       "98421  위협대화  아 아비가 벌초하러 가자고 하니까 진짜 가기 싫다.\\n너네 아버지 돌아가시면 네가 ...   \n",
       "98430  위협대화  떡 쳐보고 싶은데 정부에서 20대 남녀 강제 성관계 정책 내면 안 되나?\\n저출산 ...   \n",
       "98434  위협대화  너 얼굴이 왜 상처 생겼어?\\n공차다 넘어졌어, 잘생긴 얼굴 어쩌지\\n이미 니 얼굴...   \n",
       "98435  위협대화  김밥집에서 왜 식중독에 걸리는 거야?\\n계산하고 돈만지고 그 손으로 김밥 말고ㅋㅋㅋ...   \n",
       "\n",
       "                                                types  \n",
       "9      IMMORAL_NONE\\nCENSURE\\nHATE\\nCENSURE\\nVIOLENCE  \n",
       "16         IMMORAL_NONE\\nIMMORAL_NONE\\nABUSE\\nCENSURE  \n",
       "25                       VIOLENCE\\nVIOLENCE\\nVIOLENCE  \n",
       "27                       CENSURE\\nIMMORAL_NONE\\nABUSE  \n",
       "29               CENSURE\\nHATE\\nCENSURE\\nIMMORAL_NONE  \n",
       "...                                               ...  \n",
       "98407       IMMORAL_NONE\\nCRIME\\nSEXUAL\\nIMMORAL_NONE  \n",
       "98421     IMMORAL_NONE\\nIMMORAL_NONE\\nVIOLENCE\\nCRIME  \n",
       "98430                    SEXUAL\\nIMMORAL_NONE\\nSEXUAL  \n",
       "98434   IMMORAL_NONE\\nIMMORAL_NONE\\nVIOLENCE\\nCENSURE  \n",
       "98435                           IMMORAL_NONE\\nCENSURE  \n",
       "\n",
       "[14305 rows x 3 columns]"
      ]
     },
     "execution_count": 371,
     "metadata": {},
     "output_type": "execute_result"
    }
   ],
   "source": [
    "commit_dfs = commit_df[['class', 'conversation', 'types']]\n",
    "commit_dfs"
   ]
  },
  {
   "cell_type": "code",
   "execution_count": 363,
   "id": "4d68dbd1",
   "metadata": {},
   "outputs": [
    {
     "data": {
      "text/html": [
       "<div>\n",
       "<style scoped>\n",
       "    .dataframe tbody tr th:only-of-type {\n",
       "        vertical-align: middle;\n",
       "    }\n",
       "\n",
       "    .dataframe tbody tr th {\n",
       "        vertical-align: top;\n",
       "    }\n",
       "\n",
       "    .dataframe thead th {\n",
       "        text-align: right;\n",
       "    }\n",
       "</style>\n",
       "<table border=\"1\" class=\"dataframe\">\n",
       "  <thead>\n",
       "    <tr style=\"text-align: right;\">\n",
       "      <th></th>\n",
       "      <th>level_0</th>\n",
       "      <th>index</th>\n",
       "      <th>class</th>\n",
       "      <th>conversation</th>\n",
       "      <th>types</th>\n",
       "    </tr>\n",
       "  </thead>\n",
       "  <tbody>\n",
       "    <tr>\n",
       "      <th>0</th>\n",
       "      <td>0</td>\n",
       "      <td>9</td>\n",
       "      <td>위협대화</td>\n",
       "      <td>#@# 주변 지나갈 일이 있었는데, 클럽 앞에 사람들 엄청 바글바글하더라\\n저 노는...</td>\n",
       "      <td>IMMORAL_NONE\\nCENSURE\\nHATE\\nCENSURE\\nVIOLENCE</td>\n",
       "    </tr>\n",
       "    <tr>\n",
       "      <th>1</th>\n",
       "      <td>1</td>\n",
       "      <td>16</td>\n",
       "      <td>위협대화</td>\n",
       "      <td>아들아 이번 시험은 꼭 1등 하거라\\n네 항상 최선을 다하고 있어요\\n최선을 다하는...</td>\n",
       "      <td>IMMORAL_NONE\\nIMMORAL_NONE\\nABUSE\\nCENSURE</td>\n",
       "    </tr>\n",
       "    <tr>\n",
       "      <th>2</th>\n",
       "      <td>2</td>\n",
       "      <td>25</td>\n",
       "      <td>위협대화</td>\n",
       "      <td>아 진짜 너무 힘들어서 진심으로 죽고 싶다\\n말만 하지말고 진짜 죽어버려\\n마트 가...</td>\n",
       "      <td>VIOLENCE\\nVIOLENCE\\nVIOLENCE</td>\n",
       "    </tr>\n",
       "    <tr>\n",
       "      <th>3</th>\n",
       "      <td>3</td>\n",
       "      <td>27</td>\n",
       "      <td>위협대화</td>\n",
       "      <td>너 아직도 공무원 공부 해?\\n응,, 올해 까지만 해보려구\\n그 정도 했음 니 뇌구...</td>\n",
       "      <td>CENSURE\\nIMMORAL_NONE\\nABUSE</td>\n",
       "    </tr>\n",
       "    <tr>\n",
       "      <th>4</th>\n",
       "      <td>4</td>\n",
       "      <td>29</td>\n",
       "      <td>위협대화</td>\n",
       "      <td>요즘 정치 판국 돌아가는 거 보면 국민 평균은 오등급이란 말이 틀리지 않았다..\\n...</td>\n",
       "      <td>CENSURE\\nHATE\\nCENSURE\\nIMMORAL_NONE</td>\n",
       "    </tr>\n",
       "    <tr>\n",
       "      <th>...</th>\n",
       "      <td>...</td>\n",
       "      <td>...</td>\n",
       "      <td>...</td>\n",
       "      <td>...</td>\n",
       "      <td>...</td>\n",
       "    </tr>\n",
       "    <tr>\n",
       "      <th>14300</th>\n",
       "      <td>14300</td>\n",
       "      <td>98407</td>\n",
       "      <td>위협대화</td>\n",
       "      <td>니 여자친구 너무 어려보이더라\\n실제로 고딩인데 어린게 얼마나 맛있는줄 아냐?\\n그...</td>\n",
       "      <td>IMMORAL_NONE\\nCRIME\\nSEXUAL\\nIMMORAL_NONE</td>\n",
       "    </tr>\n",
       "    <tr>\n",
       "      <th>14301</th>\n",
       "      <td>14301</td>\n",
       "      <td>98421</td>\n",
       "      <td>위협대화</td>\n",
       "      <td>아 아비가 벌초하러 가자고 하니까 진짜 가기 싫다.\\n너네 아버지 돌아가시면 네가 ...</td>\n",
       "      <td>IMMORAL_NONE\\nIMMORAL_NONE\\nVIOLENCE\\nCRIME</td>\n",
       "    </tr>\n",
       "    <tr>\n",
       "      <th>14302</th>\n",
       "      <td>14302</td>\n",
       "      <td>98430</td>\n",
       "      <td>위협대화</td>\n",
       "      <td>떡 쳐보고 싶은데 정부에서 20대 남녀 강제 성관계 정책 내면 안 되나?\\n저출산 ...</td>\n",
       "      <td>SEXUAL\\nIMMORAL_NONE\\nSEXUAL</td>\n",
       "    </tr>\n",
       "    <tr>\n",
       "      <th>14303</th>\n",
       "      <td>14303</td>\n",
       "      <td>98434</td>\n",
       "      <td>위협대화</td>\n",
       "      <td>너 얼굴이 왜 상처 생겼어?\\n공차다 넘어졌어, 잘생긴 얼굴 어쩌지\\n이미 니 얼굴...</td>\n",
       "      <td>IMMORAL_NONE\\nIMMORAL_NONE\\nVIOLENCE\\nCENSURE</td>\n",
       "    </tr>\n",
       "    <tr>\n",
       "      <th>14304</th>\n",
       "      <td>14304</td>\n",
       "      <td>98435</td>\n",
       "      <td>위협대화</td>\n",
       "      <td>김밥집에서 왜 식중독에 걸리는 거야?\\n계산하고 돈만지고 그 손으로 김밥 말고ㅋㅋㅋ...</td>\n",
       "      <td>IMMORAL_NONE\\nCENSURE</td>\n",
       "    </tr>\n",
       "  </tbody>\n",
       "</table>\n",
       "<p>14305 rows × 5 columns</p>\n",
       "</div>"
      ],
      "text/plain": [
       "       level_0  index class  \\\n",
       "0            0      9  위협대화   \n",
       "1            1     16  위협대화   \n",
       "2            2     25  위협대화   \n",
       "3            3     27  위협대화   \n",
       "4            4     29  위협대화   \n",
       "...        ...    ...   ...   \n",
       "14300    14300  98407  위협대화   \n",
       "14301    14301  98421  위협대화   \n",
       "14302    14302  98430  위협대화   \n",
       "14303    14303  98434  위협대화   \n",
       "14304    14304  98435  위협대화   \n",
       "\n",
       "                                            conversation  \\\n",
       "0      #@# 주변 지나갈 일이 있었는데, 클럽 앞에 사람들 엄청 바글바글하더라\\n저 노는...   \n",
       "1      아들아 이번 시험은 꼭 1등 하거라\\n네 항상 최선을 다하고 있어요\\n최선을 다하는...   \n",
       "2      아 진짜 너무 힘들어서 진심으로 죽고 싶다\\n말만 하지말고 진짜 죽어버려\\n마트 가...   \n",
       "3      너 아직도 공무원 공부 해?\\n응,, 올해 까지만 해보려구\\n그 정도 했음 니 뇌구...   \n",
       "4      요즘 정치 판국 돌아가는 거 보면 국민 평균은 오등급이란 말이 틀리지 않았다..\\n...   \n",
       "...                                                  ...   \n",
       "14300  니 여자친구 너무 어려보이더라\\n실제로 고딩인데 어린게 얼마나 맛있는줄 아냐?\\n그...   \n",
       "14301  아 아비가 벌초하러 가자고 하니까 진짜 가기 싫다.\\n너네 아버지 돌아가시면 네가 ...   \n",
       "14302  떡 쳐보고 싶은데 정부에서 20대 남녀 강제 성관계 정책 내면 안 되나?\\n저출산 ...   \n",
       "14303  너 얼굴이 왜 상처 생겼어?\\n공차다 넘어졌어, 잘생긴 얼굴 어쩌지\\n이미 니 얼굴...   \n",
       "14304  김밥집에서 왜 식중독에 걸리는 거야?\\n계산하고 돈만지고 그 손으로 김밥 말고ㅋㅋㅋ...   \n",
       "\n",
       "                                                types  \n",
       "0      IMMORAL_NONE\\nCENSURE\\nHATE\\nCENSURE\\nVIOLENCE  \n",
       "1          IMMORAL_NONE\\nIMMORAL_NONE\\nABUSE\\nCENSURE  \n",
       "2                        VIOLENCE\\nVIOLENCE\\nVIOLENCE  \n",
       "3                        CENSURE\\nIMMORAL_NONE\\nABUSE  \n",
       "4                CENSURE\\nHATE\\nCENSURE\\nIMMORAL_NONE  \n",
       "...                                               ...  \n",
       "14300       IMMORAL_NONE\\nCRIME\\nSEXUAL\\nIMMORAL_NONE  \n",
       "14301     IMMORAL_NONE\\nIMMORAL_NONE\\nVIOLENCE\\nCRIME  \n",
       "14302                    SEXUAL\\nIMMORAL_NONE\\nSEXUAL  \n",
       "14303   IMMORAL_NONE\\nIMMORAL_NONE\\nVIOLENCE\\nCENSURE  \n",
       "14304                           IMMORAL_NONE\\nCENSURE  \n",
       "\n",
       "[14305 rows x 5 columns]"
      ]
     },
     "execution_count": 363,
     "metadata": {},
     "output_type": "execute_result"
    }
   ],
   "source": [
    "commit_dfs = commit_dfs.reset_index().reset_index()\n",
    "commit_dfs"
   ]
  },
  {
   "cell_type": "code",
   "execution_count": 365,
   "id": "67589c25",
   "metadata": {},
   "outputs": [],
   "source": [
    "commit_dfs.drop(labels=\"index\", axis=1, inplace=True)"
   ]
  },
  {
   "cell_type": "code",
   "execution_count": 367,
   "id": "7f8778c3",
   "metadata": {},
   "outputs": [],
   "source": [
    "commit_dfs.rename(columns={'level_0': 'idx'}, inplace=True)"
   ]
  },
  {
   "cell_type": "markdown",
   "id": "7048f688",
   "metadata": {},
   "source": [
    "### 저장"
   ]
  },
  {
   "cell_type": "code",
   "execution_count": 369,
   "id": "24b155a6",
   "metadata": {},
   "outputs": [],
   "source": [
    "commit_dfs.to_csv(\"more_than_2_immoral.csv\", index=False)"
   ]
  },
  {
   "cell_type": "markdown",
   "id": "91badb8d",
   "metadata": {},
   "source": [
    "### 체크"
   ]
  },
  {
   "cell_type": "code",
   "execution_count": 370,
   "id": "f25d74d6",
   "metadata": {
    "scrolled": true
   },
   "outputs": [
    {
     "data": {
      "text/html": [
       "<div>\n",
       "<style scoped>\n",
       "    .dataframe tbody tr th:only-of-type {\n",
       "        vertical-align: middle;\n",
       "    }\n",
       "\n",
       "    .dataframe tbody tr th {\n",
       "        vertical-align: top;\n",
       "    }\n",
       "\n",
       "    .dataframe thead th {\n",
       "        text-align: right;\n",
       "    }\n",
       "</style>\n",
       "<table border=\"1\" class=\"dataframe\">\n",
       "  <thead>\n",
       "    <tr style=\"text-align: right;\">\n",
       "      <th></th>\n",
       "      <th>idx</th>\n",
       "      <th>class</th>\n",
       "      <th>conversation</th>\n",
       "      <th>types</th>\n",
       "    </tr>\n",
       "  </thead>\n",
       "  <tbody>\n",
       "    <tr>\n",
       "      <th>0</th>\n",
       "      <td>0</td>\n",
       "      <td>위협대화</td>\n",
       "      <td>#@# 주변 지나갈 일이 있었는데, 클럽 앞에 사람들 엄청 바글바글하더라\\n저 노는...</td>\n",
       "      <td>IMMORAL_NONE\\nCENSURE\\nHATE\\nCENSURE\\nVIOLENCE</td>\n",
       "    </tr>\n",
       "    <tr>\n",
       "      <th>1</th>\n",
       "      <td>1</td>\n",
       "      <td>위협대화</td>\n",
       "      <td>아들아 이번 시험은 꼭 1등 하거라\\n네 항상 최선을 다하고 있어요\\n최선을 다하는...</td>\n",
       "      <td>IMMORAL_NONE\\nIMMORAL_NONE\\nABUSE\\nCENSURE</td>\n",
       "    </tr>\n",
       "    <tr>\n",
       "      <th>2</th>\n",
       "      <td>2</td>\n",
       "      <td>위협대화</td>\n",
       "      <td>아 진짜 너무 힘들어서 진심으로 죽고 싶다\\n말만 하지말고 진짜 죽어버려\\n마트 가...</td>\n",
       "      <td>VIOLENCE\\nVIOLENCE\\nVIOLENCE</td>\n",
       "    </tr>\n",
       "    <tr>\n",
       "      <th>3</th>\n",
       "      <td>3</td>\n",
       "      <td>위협대화</td>\n",
       "      <td>너 아직도 공무원 공부 해?\\n응,, 올해 까지만 해보려구\\n그 정도 했음 니 뇌구...</td>\n",
       "      <td>CENSURE\\nIMMORAL_NONE\\nABUSE</td>\n",
       "    </tr>\n",
       "    <tr>\n",
       "      <th>4</th>\n",
       "      <td>4</td>\n",
       "      <td>위협대화</td>\n",
       "      <td>요즘 정치 판국 돌아가는 거 보면 국민 평균은 오등급이란 말이 틀리지 않았다..\\n...</td>\n",
       "      <td>CENSURE\\nHATE\\nCENSURE\\nIMMORAL_NONE</td>\n",
       "    </tr>\n",
       "    <tr>\n",
       "      <th>...</th>\n",
       "      <td>...</td>\n",
       "      <td>...</td>\n",
       "      <td>...</td>\n",
       "      <td>...</td>\n",
       "    </tr>\n",
       "    <tr>\n",
       "      <th>14300</th>\n",
       "      <td>14300</td>\n",
       "      <td>위협대화</td>\n",
       "      <td>니 여자친구 너무 어려보이더라\\n실제로 고딩인데 어린게 얼마나 맛있는줄 아냐?\\n그...</td>\n",
       "      <td>IMMORAL_NONE\\nCRIME\\nSEXUAL\\nIMMORAL_NONE</td>\n",
       "    </tr>\n",
       "    <tr>\n",
       "      <th>14301</th>\n",
       "      <td>14301</td>\n",
       "      <td>위협대화</td>\n",
       "      <td>아 아비가 벌초하러 가자고 하니까 진짜 가기 싫다.\\n너네 아버지 돌아가시면 네가 ...</td>\n",
       "      <td>IMMORAL_NONE\\nIMMORAL_NONE\\nVIOLENCE\\nCRIME</td>\n",
       "    </tr>\n",
       "    <tr>\n",
       "      <th>14302</th>\n",
       "      <td>14302</td>\n",
       "      <td>위협대화</td>\n",
       "      <td>떡 쳐보고 싶은데 정부에서 20대 남녀 강제 성관계 정책 내면 안 되나?\\n저출산 ...</td>\n",
       "      <td>SEXUAL\\nIMMORAL_NONE\\nSEXUAL</td>\n",
       "    </tr>\n",
       "    <tr>\n",
       "      <th>14303</th>\n",
       "      <td>14303</td>\n",
       "      <td>위협대화</td>\n",
       "      <td>너 얼굴이 왜 상처 생겼어?\\n공차다 넘어졌어, 잘생긴 얼굴 어쩌지\\n이미 니 얼굴...</td>\n",
       "      <td>IMMORAL_NONE\\nIMMORAL_NONE\\nVIOLENCE\\nCENSURE</td>\n",
       "    </tr>\n",
       "    <tr>\n",
       "      <th>14304</th>\n",
       "      <td>14304</td>\n",
       "      <td>위협대화</td>\n",
       "      <td>김밥집에서 왜 식중독에 걸리는 거야?\\n계산하고 돈만지고 그 손으로 김밥 말고ㅋㅋㅋ...</td>\n",
       "      <td>IMMORAL_NONE\\nCENSURE</td>\n",
       "    </tr>\n",
       "  </tbody>\n",
       "</table>\n",
       "<p>14305 rows × 4 columns</p>\n",
       "</div>"
      ],
      "text/plain": [
       "         idx class                                       conversation  \\\n",
       "0          0  위협대화  #@# 주변 지나갈 일이 있었는데, 클럽 앞에 사람들 엄청 바글바글하더라\\n저 노는...   \n",
       "1          1  위협대화  아들아 이번 시험은 꼭 1등 하거라\\n네 항상 최선을 다하고 있어요\\n최선을 다하는...   \n",
       "2          2  위협대화  아 진짜 너무 힘들어서 진심으로 죽고 싶다\\n말만 하지말고 진짜 죽어버려\\n마트 가...   \n",
       "3          3  위협대화  너 아직도 공무원 공부 해?\\n응,, 올해 까지만 해보려구\\n그 정도 했음 니 뇌구...   \n",
       "4          4  위협대화  요즘 정치 판국 돌아가는 거 보면 국민 평균은 오등급이란 말이 틀리지 않았다..\\n...   \n",
       "...      ...   ...                                                ...   \n",
       "14300  14300  위협대화  니 여자친구 너무 어려보이더라\\n실제로 고딩인데 어린게 얼마나 맛있는줄 아냐?\\n그...   \n",
       "14301  14301  위협대화  아 아비가 벌초하러 가자고 하니까 진짜 가기 싫다.\\n너네 아버지 돌아가시면 네가 ...   \n",
       "14302  14302  위협대화  떡 쳐보고 싶은데 정부에서 20대 남녀 강제 성관계 정책 내면 안 되나?\\n저출산 ...   \n",
       "14303  14303  위협대화  너 얼굴이 왜 상처 생겼어?\\n공차다 넘어졌어, 잘생긴 얼굴 어쩌지\\n이미 니 얼굴...   \n",
       "14304  14304  위협대화  김밥집에서 왜 식중독에 걸리는 거야?\\n계산하고 돈만지고 그 손으로 김밥 말고ㅋㅋㅋ...   \n",
       "\n",
       "                                                types  \n",
       "0      IMMORAL_NONE\\nCENSURE\\nHATE\\nCENSURE\\nVIOLENCE  \n",
       "1          IMMORAL_NONE\\nIMMORAL_NONE\\nABUSE\\nCENSURE  \n",
       "2                        VIOLENCE\\nVIOLENCE\\nVIOLENCE  \n",
       "3                        CENSURE\\nIMMORAL_NONE\\nABUSE  \n",
       "4                CENSURE\\nHATE\\nCENSURE\\nIMMORAL_NONE  \n",
       "...                                               ...  \n",
       "14300       IMMORAL_NONE\\nCRIME\\nSEXUAL\\nIMMORAL_NONE  \n",
       "14301     IMMORAL_NONE\\nIMMORAL_NONE\\nVIOLENCE\\nCRIME  \n",
       "14302                    SEXUAL\\nIMMORAL_NONE\\nSEXUAL  \n",
       "14303   IMMORAL_NONE\\nIMMORAL_NONE\\nVIOLENCE\\nCENSURE  \n",
       "14304                           IMMORAL_NONE\\nCENSURE  \n",
       "\n",
       "[14305 rows x 4 columns]"
      ]
     },
     "execution_count": 370,
     "metadata": {},
     "output_type": "execute_result"
    }
   ],
   "source": [
    "pd.read_csv(\"more_than_2_immoral.csv\")"
   ]
  },
  {
   "cell_type": "code",
   "execution_count": null,
   "id": "df7c1b38",
   "metadata": {},
   "outputs": [],
   "source": []
  },
  {
   "cell_type": "markdown",
   "id": "241dbc02",
   "metadata": {},
   "source": [
    "# 1.5 이상"
   ]
  },
  {
   "cell_type": "code",
   "execution_count": 374,
   "id": "01456066",
   "metadata": {},
   "outputs": [],
   "source": [
    "def has_large_intensity(intensities):\n",
    "    return any([intensity >= 1.5 for intensity in intensities])\n",
    "\n",
    "more_than_15_df = try_df['intensity'].apply(has_large_intensity)"
   ]
  },
  {
   "cell_type": "code",
   "execution_count": 377,
   "id": "60f218b5",
   "metadata": {},
   "outputs": [
    {
     "name": "stdout",
     "output_type": "stream",
     "text": [
      "[0, 1, 5, 9, 10, 12, 14, 16, 17, 25, 27, 28, 29, 33, 35, 36, 40, 43, 44, 45, 47, 50, 51, 54, 55, 56, 58, 61, 62, 63, 66, 68, 70, 71, 74, 75, 77, 78, 80, 81, 85, 90, 92, 93, 94, 95, 100, 101, 103, 104, 105, 106, 107, 108, 110, 111, 112, 115, 116, 117, 118, 120, 125, 126, 130, 132, 135, 137, 140, 141, 142, 144, 145, 146, 147, 148, 150, 152, 154, 155, 156, 157, 158, 159, 160, 161, 164, 167, 171, 172, 179, 181, 184, 186, 188, 189, 190, 191, 195, 196, 198, 199, 201, 202, 204, 205, 206, 207, 210, 211, 212, 213, 214, 216, 220, 221, 223, 227, 228, 230, 231, 232, 234, 235, 236, 237, 239, 240, 241, 243, 245, 246, 247, 250, 251, 255, 257, 260, 262, 263, 264, 266, 267, 269, 270, 271, 273, 275, 276, 277, 278, 279, 280, 282, 283, 285, 286, 287, 288, 289, 290, 291, 293, 294, 295, 296, 297, 298, 299, 300, 302, 303, 304, 305, 308, 312, 314, 318, 321, 323, 324, 328, 329, 333, 334, 335, 336, 337, 340, 344, 345, 346, 347, 348, 350, 351, 353, 354, 359, 361, 365, 366, 367, 369, 370, 371, 375, 377, 379, 383, 386, 387, 388, 389, 392, 396, 398, 399, 400, 402, 403, 404, 405, 406, 407, 408, 409, 410, 412, 413, 414, 415, 416, 418, 419, 421, 422, 423, 426, 427, 430, 431, 434, 436, 437, 438, 439, 441, 442, 444, 445, 447, 450, 452, 458, 460, 461, 462, 465, 467, 472, 473, 474, 475, 476, 477, 479, 480, 482, 483, 488, 490, 492, 494, 495, 496, 498, 500, 503, 504, 505, 506, 509, 513, 514, 517, 519, 521, 524, 526, 529, 530, 532, 533, 535, 538, 540, 541, 545, 546, 547, 549, 551, 553, 554, 555, 556, 559, 560, 561, 562, 563, 564, 565, 566, 567, 568, 569, 574, 575, 576, 577, 578, 579, 580, 582, 583, 584, 587, 588, 590, 591, 594, 597, 600, 602, 603, 605, 606, 607, 608, 609, 611, 612, 616, 617, 618, 619, 623, 624, 625, 626, 628, 629, 632, 635, 639, 640, 642, 647, 648, 649, 653, 654, 655, 656, 658, 659, 661, 662, 663, 667, 669, 676, 677, 679, 681, 683, 684, 685, 687, 692, 693, 695, 696, 700, 701, 704, 705, 706, 708, 711, 712, 714, 715, 716, 718, 719, 720, 721, 722, 723, 727, 728, 729, 730, 733, 735, 742, 743, 747, 748, 749, 753, 760, 761, 763, 764, 766, 767, 768, 770, 775, 776, 778, 779, 782, 783, 785, 787, 793, 794, 795, 796, 797, 803, 805, 809, 811, 812, 813, 814, 816, 817, 818, 819, 822, 823, 825, 826, 827, 828, 829, 830, 832, 833, 836, 838, 839, 842, 843, 844, 845, 846, 847, 848, 849, 850, 851, 854, 855, 857, 858, 859, 862, 863, 866, 868, 874, 877, 878, 880, 881, 882, 886, 890, 891, 893, 895, 898, 899, 901, 905, 906, 907, 909, 910, 912, 915, 916, 917, 918, 919, 920, 925, 926, 927, 928, 929, 930, 931, 932, 934, 935, 936, 937, 941, 942, 943, 944, 945, 947, 948, 949, 950, 951, 952, 953, 954, 956, 958, 961, 963, 964, 965, 968, 970, 974, 975, 976, 982, 984, 985, 989, 991, 993, 994, 995, 996, 997, 998, 999, 1000, 1002, 1003, 1006, 1011, 1012, 1013, 1014, 1016, 1017, 1018, 1022, 1024, 1026, 1027, 1028, 1029, 1030, 1031, 1032, 1033, 1034, 1037, 1038, 1039, 1040, 1042, 1043, 1047, 1048, 1049, 1051, 1053, 1054, 1058, 1059, 1062, 1063, 1065, 1066, 1069, 1070, 1071, 1073, 1075, 1081, 1082, 1089, 1096, 1097, 1098, 1099, 1102, 1103, 1104, 1105, 1107, 1109, 1110, 1111, 1112, 1113, 1117, 1119, 1120, 1122, 1124, 1127, 1129, 1131, 1135, 1138, 1139, 1144, 1147, 1149, 1152, 1153, 1157, 1160, 1161, 1167, 1168, 1169, 1170, 1171, 1172, 1173, 1174, 1177, 1178, 1180, 1181, 1183, 1184, 1188, 1190, 1192, 1194, 1197, 1198, 1200, 1206, 1207, 1209, 1211, 1213, 1215, 1216, 1217, 1218, 1219, 1220, 1221, 1223, 1224, 1225, 1226, 1227, 1229, 1230, 1231, 1232, 1235, 1237, 1238, 1239, 1243, 1247, 1248, 1249, 1250, 1251, 1252, 1253, 1256, 1257, 1259, 1260, 1264, 1265, 1268, 1272, 1279, 1280, 1283, 1285, 1286, 1288, 1289, 1290, 1291, 1293, 1294, 1296, 1297, 1298, 1299, 1300, 1301, 1302, 1303, 1304, 1305, 1306, 1308, 1311, 1317, 1318, 1319, 1320, 1321, 1322, 1324, 1326, 1327, 1328, 1330, 1335, 1338, 1340, 1341, 1343, 1345, 1346, 1347, 1351, 1353, 1355, 1356, 1358, 1359, 1360, 1362, 1363, 1364, 1365, 1367, 1368, 1369, 1372, 1373, 1377, 1378, 1380, 1386, 1388, 1389, 1392, 1395, 1396, 1399, 1402, 1403, 1405, 1406, 1410, 1411, 1414, 1415, 1417, 1418, 1419, 1424, 1427, 1428, 1429, 1430, 1433, 1435, 1443, 1444, 1445, 1446, 1447, 1449, 1450, 1451, 1452, 1453, 1454, 1456, 1458, 1459, 1460, 1462, 1463, 1464, 1465, 1469, 1471, 1473, 1475, 1476, 1478, 1481, 1483, 1484, 1488, 1491, 1493, 1496, 1497, 1498, 1499, 1501, 1502, 1503, 1506, 1507, 1508, 1509, 1510, 1513, 1514, 1516, 1522, 1524, 1525, 1528, 1530, 1532, 1537, 1543, 1544, 1546, 1547, 1548, 1549, 1550, 1553, 1555, 1556, 1557, 1559, 1560, 1561, 1562, 1565, 1566, 1567, 1568, 1569, 1570, 1571, 1573, 1575, 1576, 1579, 1580, 1581, 1583, 1585, 1590, 1591, 1592, 1593, 1594, 1595, 1597, 1599, 1601, 1607, 1608, 1610, 1611, 1612, 1615, 1616, 1619, 1622, 1623, 1624, 1625, 1627, 1628, 1629, 1631, 1632, 1636, 1638, 1639, 1641, 1642, 1643, 1645, 1648, 1653, 1656, 1657, 1658, 1661, 1666, 1667, 1669, 1671, 1672, 1675, 1677, 1681, 1682, 1684, 1686, 1687, 1688, 1689, 1695, 1699, 1700, 1702, 1706, 1711, 1712, 1713, 1716, 1717, 1721, 1722, 1723, 1724, 1725, 1726, 1727, 1728, 1729, 1730, 1733, 1735, 1736, 1737, 1739, 1741, 1744, 1747, 1748, 1749, 1750, 1752, 1754, 1756, 1759, 1763, 1764, 1766, 1770, 1775, 1776, 1777, 1779, 1780, 1781, 1783, 1785, 1786, 1787, 1792, 1793, 1797, 1800, 1802, 1803, 1805, 1807, 1809, 1811, 1812, 1814, 1815, 1816, 1817, 1820, 1822, 1826, 1828, 1829, 1830, 1834, 1835, 1838, 1839, 1841, 1842, 1843, 1844, 1845, 1847, 1848, 1850, 1851, 1852, 1854, 1855, 1856, 1857, 1858, 1860, 1866, 1868, 1869, 1870, 1871, 1873, 1875, 1878, 1879, 1881, 1887, 1888, 1889, 1890, 1893, 1894, 1895, 1900, 1901, 1904, 1905, 1906, 1908, 1910, 1911, 1912, 1914, 1921, 1922, 1923, 1924, 1925, 1929, 1931, 1936, 1937, 1939, 1942, 1943, 1947, 1950, 1953, 1954, 1958, 1959, 1960, 1961, 1962, 1963, 1964, 1970, 1972, 1973, 1977, 1978, 1979, 1982, 1983, 1984, 1988, 1989, 1990, 1991, 1994, 1995, 1996, 1997, 1998, 2000, 2001, 2002, 2003, 2004, 2005, 2007, 2010, 2011, 2012, 2013, 2014, 2016, 2017, 2026, 2027, 2030, 2031, 2032, 2033, 2034, 2035, 2037, 2038, 2040, 2042, 2044, 2045, 2048, 2051, 2053, 2054, 2055, 2056, 2058, 2061, 2062, 2064, 2066, 2067, 2068, 2069, 2070, 2071, 2075, 2076, 2081, 2082, 2084, 2086, 2087, 2089, 2090, 2091, 2093, 2094, 2095, 2096, 2099, 2100, 2101, 2102, 2103, 2104, 2105, 2108, 2109, 2111, 2113, 2114, 2120, 2121, 2122, 2126, 2127, 2128, 2130, 2131, 2133, 2135, 2140, 2143, 2144, 2147, 2148, 2149, 2150, 2152, 2153, 2154, 2156, 2157, 2158, 2160, 2161, 2162, 2164, 2168, 2173, 2175, 2178, 2179, 2182, 2183, 2185, 2187, 2191, 2192, 2193, 2194, 2195, 2198, 2199, 2200, 2201, 2204, 2205, 2207, 2208, 2211, 2214, 2215, 2216, 2217, 2219, 2221, 2222, 2223, 2225, 2226, 2227, 2229, 2230, 2231, 2232, 2233, 2235, 2236, 2238, 2239, 2241, 2243, 2245, 2246, 2247, 2248, 2249, 2250, 2251, 2252, 2254, 2257, 2258, 2260, 2261, 2262, 2263, 2265, 2268, 2273, 2274, 2276, 2277, 2278, 2279, 2280, 2281, 2284, 2285, 2289, 2296, 2298, 2300, 2305, 2306, 2309, 2310, 2312, 2317, 2319, 2320, 2325, 2326, 2327, 2329, 2332, 2333, 2335, 2336, 2337, 2340, 2342, 2343, 2346, 2349, 2350, 2351, 2354, 2356, 2357, 2358, 2362, 2366, 2368, 2369, 2370, 2371, 2372, 2373, 2374, 2380, 2383, 2384, 2387, 2388, 2389, 2390, 2391, 2392, 2395, 2396, 2398, 2399, 2400, 2403, 2407, 2410, 2411, 2412, 2413, 2414, 2415, 2425, 2426, 2427, 2429, 2431, 2432, 2433, 2436, 2437, 2440, 2441, 2442, 2444, 2445, 2446, 2448, 2449, 2450, 2451, 2453, 2454, 2456, 2457, 2460, 2462, 2463, 2464, 2466, 2467, 2468, 2470, 2471, 2474, 2479, 2480, 2481, 2485, 2486, 2489, 2490, 2491, 2493, 2494, 2495, 2496, 2497, 2500, 2501, 2502, 2505, 2508, 2509, 2511, 2516, 2518, 2519, 2521, 2525, 2528, 2529, 2530, 2533, 2535, 2536, 2538, 2543, 2544, 2547, 2549, 2550, 2551, 2553, 2557, 2558, 2560, 2561, 2562, 2563, 2564, 2566, 2567, 2568, 2574, 2583, 2585, 2587, 2588, 2590, 2591, 2593, 2594, 2595, 2596, 2599, 2600, 2603, 2606, 2607, 2608, 2609, 2610, 2611, 2613, 2614, 2617, 2619, 2620, 2625, 2627, 2631, 2634, 2636, 2639, 2642, 2643, 2645, 2646, 2647, 2648, 2650, 2655, 2656, 2657, 2659, 2660, 2662, 2665, 2666, 2669, 2670, 2671, 2673, 2674, 2675, 2677, 2678, 2679, 2683, 2685, 2690, 2694, 2696, 2700, 2703, 2706, 2707, 2708, 2711, 2713, 2714, 2715, 2717, 2720, 2722, 2723, 2724, 2725, 2727, 2728, 2730, 2731, 2733, 2736, 2737, 2739, 2740, 2741, 2743, 2744, 2747, 2749, 2750, 2751, 2752, 2754, 2757, 2760, 2761, 2762, 2763, 2765, 2766, 2774, 2775, 2776, 2777, 2778, 2780, 2782, 2783, 2784, 2785, 2787, 2788, 2791, 2792, 2794, 2795, 2797, 2798, 2800, 2801, 2802, 2804, 2805, 2806, 2807, 2808, 2814, 2815, 2817, 2819, 2821, 2823, 2826, 2829, 2831, 2841, 2843, 2844, 2845, 2846, 2847, 2848, 2851, 2852, 2853, 2855, 2856, 2857, 2861, 2864, 2866, 2868, 2869, 2871, 2872, 2873, 2874, 2876, 2877, 2879, 2882, 2883, 2884, 2885, 2886, 2887, 2888, 2893, 2894, 2895, 2896, 2897, 2899, 2900, 2901, 2903, 2906, 2907, 2908, 2911, 2912, 2913, 2914, 2915, 2917, 2919, 2920, 2924, 2925, 2926, 2927, 2928, 2929, 2931, 2934, 2935, 2936, 2939, 2942, 2943, 2944, 2945, 2947, 2950, 2951, 2952, 2955, 2956, 2960, 2961, 2965, 2967, 2973, 2974, 2975, 2976, 2978, 2979, 2980, 2981, 2982, 2983, 2985, 2986, 2988, 2990, 2992, 2993, 2994, 2996, 2999, 3000, 3004, 3005, 3009, 3011, 3012, 3013, 3017, 3020, 3022, 3023, 3025, 3026, 3027, 3031, 3032, 3033, 3036, 3037, 3039, 3042, 3043, 3045, 3048, 3049, 3053, 3054, 3055, 3056, 3059, 3061, 3063, 3065, 3067, 3070, 3072, 3075, 3077, 3082, 3084, 3085, 3086, 3087, 3088, 3090, 3091, 3094, 3095, 3096, 3100, 3102, 3107, 3108, 3109, 3111, 3112, 3114, 3115, 3116, 3119, 3120, 3127, 3131, 3134, 3135, 3137, 3140, 3141, 3142, 3147, 3148, 3149, 3153, 3154, 3155, 3159, 3160, 3161, 3163, 3164, 3167, 3168, 3169, 3170, 3171, 3173, 3174, 3175, 3179, 3183, 3187, 3188, 3189, 3191, 3192, 3195, 3196, 3197, 3198, 3202, 3203, 3204, 3206, 3207, 3209, 3210, 3211, 3212, 3213, 3214, 3215, 3217, 3218, 3219, 3221, 3222, 3225, 3227, 3229, 3231, 3232, 3234, 3235, 3239, 3241, 3242, 3244, 3247, 3249, 3253, 3254, 3258, 3259, 3260, 3262, 3263, 3264, 3268, 3269, 3271, 3272, 3273, 3275, 3276, 3278, 3283, 3285, 3286, 3288, 3290, 3291, 3293, 3294, 3295, 3296, 3298, 3300, 3301, 3302, 3305, 3308, 3313, 3316, 3317, 3318, 3320, 3322, 3324, 3326, 3328, 3329, 3332, 3333, 3334, 3335, 3337, 3341, 3342, 3343, 3347, 3348, 3349, 3350, 3351, 3352, 3353, 3356, 3358, 3360, 3362, 3363, 3366, 3368, 3369, 3371, 3372, 3373, 3374, 3375, 3376, 3377, 3381, 3383, 3386, 3391, 3392, 3393, 3394, 3395, 3398, 3400, 3408, 3411, 3414, 3415, 3416, 3417, 3419, 3420, 3426, 3429, 3430, 3432, 3433, 3434, 3436, 3438, 3445, 3446, 3447, 3449, 3452, 3453, 3456, 3458, 3459, 3460, 3464, 3466, 3470, 3474, 3475, 3480, 3481, 3483, 3485, 3486, 3487, 3489, 3490, 3491, 3492, 3493, 3494, 3495, 3498, 3499, 3501, 3504, 3505, 3509, 3511, 3514, 3515, 3516, 3518, 3519, 3522, 3523, 3525, 3526, 3530, 3531, 3532, 3533, 3536, 3537, 3538, 3539, 3541, 3542, 3543, 3544, 3545, 3547, 3548, 3550, 3552, 3555, 3556, 3559, 3560, 3563, 3566, 3567, 3569, 3571, 3575, 3580, 3583, 3585, 3588, 3589, 3590, 3592, 3593, 3594, 3595, 3596, 3597, 3598, 3599, 3600, 3602, 3603, 3605, 3606, 3610, 3611, 3612, 3613, 3614, 3616, 3617, 3620, 3622, 3623, 3627, 3628, 3629, 3631, 3632, 3635, 3636, 3637, 3638, 3639, 3640, 3641, 3642, 3643, 3644, 3649, 3661, 3664, 3665, 3670, 3672, 3673, 3674, 3675, 3678, 3680, 3681, 3682, 3689, 3692, 3694, 3696, 3697, 3698, 3699, 3701, 3703, 3704, 3705, 3706, 3707, 3708, 3709, 3710, 3712, 3713, 3714, 3715, 3717, 3724, 3725, 3729, 3731, 3733, 3734, 3736, 3741, 3742, 3744, 3745, 3746, 3747, 3748, 3750, 3752, 3753, 3754, 3755, 3756, 3757, 3759, 3762, 3763, 3764, 3765, 3766, 3767, 3768, 3769, 3770, 3771, 3773, 3775, 3778, 3781, 3785, 3786, 3789, 3790, 3791, 3792, 3793, 3794, 3795, 3796, 3797, 3798, 3800, 3804, 3805, 3811, 3812, 3816, 3817, 3819, 3821, 3824, 3826, 3828, 3829, 3830, 3832, 3835, 3836, 3837, 3839, 3843, 3844, 3846, 3848, 3849, 3851, 3852, 3854, 3856, 3857, 3858, 3859, 3864, 3866, 3867, 3869, 3870, 3871, 3874, 3876, 3879, 3882, 3883, 3884, 3886, 3890, 3891, 3892, 3894, 3895, 3897, 3898, 3899, 3900, 3902, 3903, 3904, 3906, 3907, 3908, 3910, 3913, 3916, 3917, 3919, 3921, 3924, 3927, 3928, 3929, 3931, 3932, 3933, 3934, 3936, 3937, 3938, 3939, 3941, 3943, 3944, 3946, 3947, 3948, 3951, 3955, 3957, 3959, 3961, 3964, 3965, 3966, 3969, 3970, 3974, 3975, 3976, 3978, 3979, 3982, 3983, 3984, 3988, 3990, 3995, 3998, 3999, 4000, 4001, 4005, 4006, 4008, 4009, 4014, 4015, 4016, 4017, 4020, 4022, 4026, 4027, 4028, 4030, 4032, 4033, 4034, 4036, 4038, 4040, 4043, 4044, 4047, 4048, 4049, 4053, 4056, 4057, 4059, 4062, 4064, 4065, 4066, 4067, 4068, 4069, 4070, 4072, 4073, 4075, 4079, 4080, 4083, 4086, 4087, 4090, 4092, 4094, 4095, 4096, 4097, 4102, 4103, 4105, 4106, 4107, 4108, 4109, 4110, 4111, 4113, 4114, 4115, 4116, 4119, 4124, 4126, 4127, 4132, 4134, 4136, 4138, 4139, 4140, 4143, 4145, 4147, 4151, 4152, 4153, 4154, 4156, 4160, 4161, 4162, 4163, 4165, 4166, 4167, 4171, 4174, 4176, 4177, 4178, 4179, 4181, 4183, 4186, 4188, 4190, 4192, 4194, 4197, 4198, 4200, 4202, 4206, 4208, 4209, 4210, 4212, 4217, 4218, 4221, 4222, 4223, 4225, 4227, 4228, 4229, 4230, 4231, 4236, 4238, 4239, 4240, 4241, 4244, 4246, 4247, 4248, 4249, 4251, 4252, 4254, 4255, 4257, 4260, 4266, 4267, 4268, 4274, 4275, 4278, 4282, 4284, 4288, 4291, 4293, 4294, 4298, 4299, 4301, 4302, 4304, 4305, 4306, 4308, 4309, 4310, 4312, 4314, 4316, 4317, 4318, 4320, 4324, 4325, 4326, 4327, 4328, 4329, 4330, 4331, 4333, 4334, 4335, 4338, 4339, 4342, 4345, 4346, 4347, 4349, 4353, 4354, 4355, 4357, 4360, 4363, 4369, 4370, 4371, 4373, 4375, 4378, 4379, 4380, 4381, 4383, 4385, 4390, 4391, 4393, 4395, 4396, 4397, 4398, 4399, 4405, 4406, 4407, 4410, 4411, 4412, 4413, 4414, 4415, 4416, 4418, 4420, 4421, 4422, 4424, 4425, 4427, 4428, 4429, 4430, 4431, 4432, 4433, 4436, 4437, 4438, 4440, 4441, 4442, 4443, 4451, 4453, 4455, 4458, 4461, 4462, 4467, 4468, 4472, 4473, 4474, 4477, 4478, 4479, 4480, 4482, 4483, 4485, 4486, 4488, 4495, 4499, 4502, 4503, 4504, 4506, 4509, 4510, 4511, 4513, 4515, 4516, 4517, 4518, 4520, 4521, 4523, 4524, 4526, 4529, 4531, 4532, 4535, 4537, 4539, 4540, 4541, 4542, 4543, 4544, 4545, 4546, 4547, 4548, 4550, 4552, 4553, 4554, 4555, 4556, 4557, 4558, 4562, 4567, 4568, 4574, 4575, 4578, 4580, 4581, 4582, 4584, 4587, 4588, 4590, 4592, 4594, 4595, 4596, 4597, 4598, 4599, 4601, 4602, 4603, 4605, 4608, 4609, 4615, 4616, 4620, 4621, 4623, 4624, 4626, 4630, 4631, 4635, 4636, 4637, 4638, 4639, 4640, 4642, 4646, 4649, 4650, 4651, 4652, 4654, 4656, 4662, 4666, 4673, 4674, 4677, 4679, 4681, 4683, 4684, 4687, 4689, 4690, 4691, 4692, 4695, 4697, 4698, 4699, 4701, 4702, 4708, 4709, 4710, 4711, 4713, 4714, 4715, 4716, 4718, 4719, 4720, 4726, 4736, 4737, 4740, 4741, 4742, 4745, 4747, 4748, 4749, 4753, 4754, 4755, 4756, 4757, 4760, 4764, 4766, 4768, 4770, 4772, 4773, 4775, 4778, 4779, 4780, 4781, 4785, 4786, 4788, 4790, 4791, 4793, 4794, 4795, 4798, 4799, 4801, 4803, 4804, 4807, 4810, 4812, 4814, 4816, 4818, 4820, 4821, 4826, 4827, 4828, 4829, 4830, 4831, 4835, 4836, 4837, 4838, 4839, 4840, 4841, 4842, 4844, 4847, 4850, 4853, 4857, 4858, 4859, 4861, 4865, 4866, 4868, 4869, 4870, 4873, 4874, 4875, 4876, 4877, 4880, 4882, 4883, 4884, 4886, 4888, 4892, 4893, 4894, 4898, 4899, 4901, 4904, 4906, 4909, 4910, 4911, 4913, 4915, 4916, 4917, 4918, 4919, 4920, 4922, 4923, 4925, 4927, 4929, 4931, 4932, 4933, 4934, 4935, 4938, 4939, 4941, 4942, 4943, 4945, 4948, 4949, 4950, 4954, 4956, 4957, 4958, 4960, 4961, 4962, 4964, 4965, 4968, 4969, 4971, 4972, 4975, 4976, 4977, 4980, 4982, 4986, 4988, 4990, 4991, 4993, 4995, 4996, 4997, 4998, 4999, 5001, 5002, 5005, 5006, 5007, 5009, 5010, 5012, 5013, 5015, 5016, 5019, 5023, 5024, 5027, 5031, 5033, 5034, 5036, 5039, 5041, 5043, 5045, 5046, 5047, 5048, 5050, 5052, 5053, 5054, 5056, 5060, 5062, 5064, 5066, 5067, 5070, 5071, 5072, 5073, 5074, 5076, 5079, 5080, 5081, 5083, 5085, 5086, 5091, 5092, 5095, 5096, 5098, 5099, 5100, 5103, 5104, 5105, 5107, 5108, 5110, 5111, 5112, 5116, 5117, 5120, 5122, 5124, 5126, 5127, 5129, 5130, 5133, 5134, 5135, 5136, 5137, 5138, 5139, 5142, 5143, 5144, 5145, 5146, 5148, 5152, 5153, 5154, 5156, 5157, 5159, 5160, 5161, 5163, 5166, 5168, 5169, 5173, 5175, 5176, 5179, 5180, 5181, 5183, 5184, 5185, 5187, 5188, 5189, 5190, 5191, 5195, 5198, 5199, 5200, 5202, 5204, 5205, 5206, 5207, 5211, 5213, 5218, 5219, 5220, 5221, 5222, 5223, 5225, 5226, 5227, 5228, 5231, 5232, 5235, 5236, 5237, 5238, 5245, 5246, 5248, 5255, 5256, 5257, 5258, 5259, 5260, 5261, 5265, 5266, 5267, 5268, 5269, 5271, 5273, 5275, 5277, 5278, 5287, 5288, 5293, 5294, 5297, 5301, 5302, 5304, 5305, 5306, 5307, 5310, 5311, 5313, 5314, 5316, 5317, 5318, 5319, 5320, 5324, 5325, 5327, 5328, 5329, 5330, 5331, 5332, 5335, 5336, 5337, 5338, 5343, 5345, 5346, 5347, 5348, 5349, 5352, 5353, 5355, 5356, 5357, 5358, 5361, 5364, 5365, 5367, 5369, 5370, 5371, 5373, 5374, 5375, 5380, 5381, 5384, 5385, 5386, 5387, 5388, 5390, 5392, 5393, 5394, 5398, 5402, 5404, 5405, 5409, 5412, 5413, 5417, 5418, 5419, 5421, 5425, 5427, 5428, 5430, 5431, 5432, 5433, 5434, 5435, 5436, 5437, 5440, 5443, 5445, 5447, 5450, 5451, 5454, 5456, 5457, 5458, 5460, 5462, 5465, 5466, 5469, 5470, 5471, 5472, 5473, 5475, 5477, 5480, 5482, 5484, 5486, 5487, 5490, 5492, 5493, 5494, 5495, 5498, 5501, 5503, 5505, 5508, 5509, 5511, 5512, 5513, 5516, 5517, 5520, 5524, 5527, 5534, 5538, 5539, 5541, 5542, 5543, 5545, 5546, 5547, 5548, 5549, 5551, 5552, 5554, 5556, 5558, 5562, 5563, 5565, 5566, 5567, 5569, 5571, 5580, 5584, 5585, 5586, 5588, 5589, 5591, 5594, 5596, 5597, 5600, 5601, 5603, 5604, 5605, 5606, 5607, 5609, 5610, 5611, 5612, 5613, 5614, 5615, 5616, 5617, 5618, 5620, 5622, 5623, 5624, 5626, 5628, 5630, 5632, 5634, 5635, 5637, 5640, 5641, 5644, 5646, 5647, 5648, 5650, 5651, 5654, 5655, 5661, 5665, 5667, 5669, 5671, 5673, 5675, 5677, 5678, 5681, 5682, 5685, 5686, 5687, 5688, 5689, 5690, 5692, 5694, 5695, 5696, 5697, 5699, 5700, 5701, 5702, 5703, 5704, 5706, 5708, 5710, 5713, 5720, 5722, 5723, 5724, 5725, 5727, 5729, 5730, 5731, 5733, 5734, 5736, 5738, 5740, 5741, 5744, 5745, 5747, 5748, 5751, 5753, 5755, 5760, 5764, 5765, 5766, 5767, 5768, 5769, 5770, 5773, 5774, 5775, 5777, 5778, 5780, 5782, 5783, 5786, 5789, 5791, 5793, 5795, 5799, 5800, 5801, 5802, 5805, 5807, 5809, 5812, 5814, 5816, 5817, 5818, 5822, 5823, 5825, 5826, 5827, 5829, 5831, 5833, 5837, 5839, 5840, 5841, 5842, 5843, 5844, 5846, 5849, 5852, 5853, 5854, 5856, 5860, 5862, 5863, 5864, 5866, 5868, 5869, 5871, 5875, 5877, 5884, 5885, 5888, 5889, 5895, 5900, 5901, 5903, 5904, 5906, 5907, 5908, 5909, 5911, 5912, 5913, 5916, 5918, 5921, 5926, 5927, 5928, 5929, 5931, 5933, 5935, 5941, 5942, 5945, 5947, 5948, 5949, 5951, 5952, 5953, 5954, 5955, 5956, 5958, 5962, 5963, 5964, 5965, 5966, 5967, 5968, 5969, 5970, 5971, 5972, 5973, 5978, 5979, 5981, 5984, 5987, 5988, 5990, 5991, 5993, 5994, 5995, 5996, 5998, 5999, 6000, 6001, 6003, 6005, 6008, 6009, 6010, 6012, 6013, 6014, 6015, 6017, 6020, 6021, 6022, 6023, 6024, 6025, 6027, 6028, 6032, 6033, 6034, 6035, 6037, 6039, 6044, 6046, 6051, 6052, 6053, 6054, 6055, 6056, 6057, 6058, 6059, 6061, 6062, 6065, 6066, 6069, 6070, 6071, 6072, 6073, 6074, 6075, 6077, 6078, 6079, 6080, 6082, 6083, 6084, 6086, 6087, 6088, 6090, 6091, 6092, 6093, 6094, 6096, 6100, 6101, 6102, 6103, 6104, 6105, 6107, 6109, 6110, 6111, 6112, 6113, 6119, 6120, 6121, 6122, 6129, 6130, 6131, 6137, 6138, 6140, 6142, 6143, 6146, 6147, 6148, 6150, 6153, 6154, 6155, 6157, 6158, 6161, 6164, 6165, 6166, 6168, 6172, 6173, 6174, 6175, 6176, 6177, 6178, 6179, 6180, 6182, 6184, 6187, 6188, 6189, 6190, 6191, 6192, 6195, 6196, 6197, 6199, 6202, 6205, 6206, 6208, 6210, 6211, 6213, 6217, 6218, 6219, 6220, 6221, 6225, 6226, 6227, 6229, 6230, 6231, 6232, 6235, 6236, 6237, 6238, 6239, 6240, 6241, 6243, 6244, 6245, 6246, 6248, 6249, 6251, 6256, 6260, 6261, 6262, 6263, 6264, 6271, 6273, 6275, 6276, 6278, 6279, 6282, 6284, 6287, 6290, 6292, 6295, 6296, 6297, 6299, 6301, 6303, 6304, 6306, 6308, 6309, 6311, 6312, 6315, 6316, 6317, 6319, 6321, 6322, 6323, 6324, 6326, 6329, 6330, 6331, 6332, 6333, 6336, 6339, 6345, 6348, 6349, 6350, 6351, 6353, 6355, 6356, 6358, 6360, 6361, 6362, 6365, 6366, 6368, 6370, 6371, 6372, 6373, 6374, 6375, 6377, 6379, 6380, 6381, 6382, 6383, 6385, 6387, 6389, 6391, 6392, 6393, 6395, 6397, 6398, 6403, 6404, 6405, 6408, 6409, 6411, 6412, 6415, 6416, 6418, 6420, 6421, 6422, 6423, 6424, 6428, 6429, 6432, 6434, 6435, 6439, 6444, 6448, 6452, 6453, 6455, 6458, 6459, 6461, 6463, 6464, 6465, 6466, 6467, 6468, 6469, 6471, 6472, 6478, 6481, 6482, 6483, 6486, 6489, 6491, 6494, 6497, 6498, 6499, 6501, 6503, 6505, 6506, 6507, 6508, 6509, 6510, 6511, 6512, 6516, 6517, 6518, 6519, 6522, 6523, 6525, 6527, 6534, 6536, 6537, 6538, 6541, 6546, 6550, 6552, 6555, 6557, 6559, 6562, 6563, 6566, 6571, 6574, 6575, 6576, 6577, 6578, 6580, 6581, 6584, 6585, 6587, 6590, 6592, 6593, 6595, 6598, 6599, 6600, 6601, 6602, 6603, 6604, 6605, 6609, 6612, 6614, 6615, 6617, 6619, 6621, 6622, 6625, 6626, 6631, 6632, 6633, 6634, 6635, 6638, 6639, 6640, 6645, 6646, 6648, 6649, 6650, 6651, 6652, 6653, 6654, 6655, 6656, 6658, 6659, 6663, 6667, 6668, 6669, 6670, 6672, 6674, 6675, 6676, 6677, 6678, 6680, 6681, 6683, 6687, 6689, 6690, 6691, 6692, 6693, 6694, 6696, 6697, 6702, 6703, 6704, 6706, 6708, 6710, 6711, 6713, 6716, 6717, 6721, 6722, 6723, 6724, 6725, 6726, 6727, 6728, 6729, 6730, 6731, 6732, 6733, 6734, 6735, 6737, 6739, 6740, 6741, 6742, 6743, 6745, 6746, 6748, 6750, 6751, 6752, 6755, 6756, 6757, 6759, 6760, 6764, 6765, 6766, 6770, 6771, 6772, 6773, 6774, 6783, 6784, 6785, 6786, 6787, 6789, 6794, 6795, 6796, 6798, 6799, 6800, 6803, 6805, 6806, 6810, 6813, 6815, 6816, 6817, 6818, 6820, 6822, 6823, 6824, 6825, 6826, 6827, 6828, 6829, 6830, 6833, 6835, 6836, 6840, 6841, 6846, 6852, 6853, 6854, 6855, 6857, 6858, 6859, 6861, 6864, 6865, 6866, 6867, 6868, 6870, 6871, 6874, 6875, 6876, 6881, 6882, 6884, 6886, 6888, 6891, 6893, 6897, 6898, 6900, 6901, 6902, 6903, 6904, 6905, 6908, 6911, 6917, 6918, 6919, 6927, 6928, 6931, 6932, 6933, 6937, 6938, 6939, 6941, 6942, 6943, 6944, 6946, 6947, 6948, 6949, 6952, 6953, 6954, 6955, 6956, 6958, 6960, 6966, 6967, 6968, 6977, 6978, 6979, 6981, 6983, 6987, 6988, 6989, 6992, 6995, 7003, 7004, 7005, 7006, 7007, 7009, 7011, 7013, 7014, 7015, 7017, 7018, 7019, 7020, 7021, 7022, 7023, 7024, 7026, 7028, 7030, 7031, 7032, 7033, 7035, 7036, 7039, 7040, 7041, 7042, 7044, 7046, 7047, 7048, 7051, 7052, 7053, 7054, 7055, 7056, 7057, 7060, 7063, 7065, 7066, 7067, 7072, 7073, 7074, 7076, 7079, 7080, 7083, 7084, 7085, 7086, 7089, 7095, 7096, 7097, 7098, 7099, 7100, 7103, 7104, 7105, 7106, 7107, 7111, 7112, 7113, 7114, 7118, 7119, 7121, 7122, 7123, 7126, 7127, 7128, 7130, 7133, 7139, 7140, 7141, 7142, 7148, 7150, 7152, 7154, 7160, 7161, 7164, 7165, 7168, 7173, 7177, 7178, 7184, 7185, 7186, 7189, 7193, 7194, 7201, 7202, 7203, 7207, 7208, 7210, 7212, 7213, 7218, 7220, 7221, 7223, 7224, 7225, 7226, 7229, 7232, 7234, 7236, 7237, 7240, 7241, 7242, 7243, 7245, 7246, 7247, 7254, 7258, 7259, 7260, 7261, 7262, 7263, 7265, 7266, 7268, 7271, 7273, 7274, 7276, 7277, 7278, 7279, 7282, 7283, 7284, 7285, 7286, 7290, 7291, 7292, 7295, 7297, 7301, 7302, 7305, 7309, 7312, 7314, 7315, 7317, 7318, 7319, 7320, 7321, 7323, 7324, 7327, 7328, 7333, 7334, 7335, 7336, 7338, 7344, 7345, 7346, 7348, 7349, 7350, 7351, 7352, 7354, 7358, 7359, 7360, 7361, 7362, 7363, 7365, 7368, 7370, 7371, 7377, 7378, 7379, 7382, 7384, 7385, 7387, 7388, 7389, 7392, 7393, 7394, 7399, 7402, 7404, 7407, 7408, 7412, 7414, 7415, 7416, 7417, 7422, 7423, 7427, 7428, 7431, 7433, 7434, 7435, 7439, 7440, 7441, 7442, 7443, 7446, 7447, 7448, 7450, 7451, 7453, 7458, 7460, 7463, 7464, 7465, 7466, 7467, 7468, 7469, 7471, 7473, 7474, 7476, 7477, 7478, 7480, 7481, 7483, 7484, 7488, 7492, 7493, 7494, 7495, 7496, 7497, 7499, 7500, 7505, 7507, 7508, 7509, 7511, 7512, 7513, 7515, 7517, 7518, 7521, 7523, 7524, 7527, 7529, 7531, 7532, 7534, 7535, 7537, 7540, 7542, 7543, 7546, 7548, 7549, 7550, 7551, 7554, 7555, 7556, 7557, 7558, 7559, 7560, 7563, 7566, 7567, 7568, 7569, 7570, 7574, 7575, 7577, 7579, 7582, 7587, 7590, 7592, 7593, 7596, 7597, 7598, 7601, 7604, 7605, 7607, 7608, 7609, 7610, 7611, 7613, 7614, 7617, 7620, 7621, 7622, 7623, 7624, 7630, 7632, 7633, 7634, 7637, 7638, 7639, 7642, 7645, 7646, 7647, 7650, 7651, 7652, 7653, 7657, 7658, 7661, 7662, 7663, 7667, 7668, 7669, 7672, 7675, 7676, 7679, 7683, 7684, 7685, 7687, 7692, 7696, 7699, 7700, 7704, 7710, 7711, 7716, 7718, 7719, 7720, 7721, 7723, 7724, 7725, 7726, 7727, 7729, 7730, 7732, 7734, 7738, 7739, 7741, 7742, 7747, 7748, 7749, 7750, 7755, 7756, 7757, 7758, 7760, 7761, 7763, 7764, 7765, 7767, 7774, 7775, 7776, 7777, 7778, 7779, 7780, 7782, 7783, 7788, 7789, 7791, 7792, 7793, 7794, 7796, 7799, 7802, 7803, 7804, 7806, 7807, 7808, 7809, 7813, 7814, 7815, 7817, 7818, 7820, 7821, 7824, 7828, 7829, 7830, 7832, 7836, 7838, 7840, 7844, 7845, 7846, 7848, 7851, 7858, 7860, 7861, 7865, 7866, 7867, 7868, 7869, 7870, 7871, 7872, 7874, 7877, 7880, 7881, 7885, 7886, 7888, 7889, 7891, 7892, 7896, 7900, 7901, 7902, 7903, 7904, 7905, 7907, 7908, 7909, 7910, 7911, 7912, 7915, 7916, 7917, 7918, 7919, 7920, 7923, 7924, 7925, 7926, 7929, 7935, 7936, 7938, 7940, 7941, 7942, 7944, 7945, 7946, 7947, 7948, 7949, 7953, 7954, 7955, 7956, 7960, 7961, 7963, 7964, 7965, 7967, 7968, 7969, 7970, 7971, 7972, 7974, 7976, 7978, 7979, 7982, 7984, 7989, 7992, 7993, 7997, 7998, 7999, 8000, 8004, 8006, 8008, 8009, 8010, 8012, 8014, 8017, 8019, 8023, 8024, 8026, 8027, 8028, 8032, 8033, 8035, 8036, 8037, 8038, 8040, 8041, 8046, 8048, 8049, 8051, 8052, 8056, 8057, 8064, 8066, 8068, 8069, 8070, 8072, 8078, 8082, 8083, 8087, 8091, 8092, 8093, 8094, 8096, 8097, 8101, 8103, 8104, 8106, 8109, 8110, 8111, 8112, 8113, 8114, 8119, 8122, 8123, 8126, 8127, 8132, 8133, 8134, 8135, 8139, 8140, 8141, 8142, 8143, 8145, 8149, 8155, 8156, 8159, 8160, 8161, 8164, 8166, 8167, 8168, 8169, 8170, 8171, 8172, 8173, 8175, 8176, 8178, 8182, 8184, 8185, 8186, 8188, 8190, 8191, 8192, 8193, 8194, 8196, 8197, 8198, 8199, 8200, 8201, 8202, 8203, 8204, 8206, 8207, 8209, 8213, 8214, 8217, 8222, 8223, 8229, 8230, 8231, 8234, 8235, 8237, 8240, 8241, 8242, 8243, 8249, 8250, 8252, 8255, 8256, 8259, 8260, 8262, 8263, 8265, 8268, 8269, 8272, 8273, 8274, 8275, 8276, 8277, 8278, 8279, 8283, 8284, 8285, 8287, 8288, 8289, 8290, 8292, 8293, 8300, 8301, 8302, 8303, 8304, 8305, 8306, 8307, 8308, 8309, 8311, 8314, 8315, 8316, 8317, 8318, 8321, 8323, 8324, 8325, 8326, 8329, 8330, 8331, 8332, 8334, 8336, 8339, 8341, 8345, 8346, 8347, 8348, 8349, 8350, 8351, 8352, 8354, 8356, 8358, 8359, 8360, 8361, 8362, 8363, 8364, 8365, 8366, 8369, 8371, 8372, 8373, 8374, 8376, 8377, 8378, 8379, 8380, 8383, 8384, 8385, 8386, 8387, 8389, 8390, 8391, 8393, 8395, 8399, 8400, 8401, 8402, 8405, 8407, 8408, 8409, 8411, 8414, 8416, 8417, 8418, 8419, 8422, 8424, 8425, 8427, 8428, 8429, 8430, 8432, 8437, 8438, 8439, 8441, 8444, 8445, 8446, 8448, 8449, 8450, 8452, 8455, 8457, 8458, 8459, 8460, 8463, 8464, 8465, 8466, 8468, 8469, 8470, 8471, 8473, 8474, 8477, 8479, 8480, 8481, 8482, 8483, 8486, 8487, 8488, 8489, 8491, 8492, 8493, 8495, 8496, 8498, 8499, 8500, 8501, 8502, 8503, 8506, 8508, 8511, 8512, 8513, 8514, 8516, 8517, 8518, 8519, 8520, 8525, 8526, 8530, 8534, 8536, 8537, 8538, 8539, 8542, 8545, 8546, 8547, 8548, 8550, 8553, 8554, 8557, 8565, 8566, 8568, 8569, 8571, 8572, 8573, 8574, 8575, 8577, 8578, 8583, 8584, 8586, 8587, 8588, 8589, 8592, 8593, 8599, 8601, 8603, 8604, 8605, 8607, 8609, 8613, 8614, 8616, 8618, 8620, 8621, 8626, 8627, 8628, 8629, 8631, 8632, 8634, 8635, 8636, 8637, 8638, 8640, 8642, 8643, 8644, 8645, 8646, 8648, 8649, 8651, 8653, 8656, 8658, 8659, 8662, 8667, 8668, 8669, 8670, 8671, 8672, 8675, 8677, 8679, 8681, 8682, 8684, 8685, 8686, 8688, 8692, 8694, 8695, 8696, 8698, 8700, 8702, 8703, 8708, 8709, 8711, 8712, 8713, 8714, 8715, 8716, 8719, 8721, 8724, 8726, 8727, 8733, 8738, 8741, 8743, 8746, 8747, 8749, 8750, 8752, 8753, 8754, 8755, 8756, 8762, 8764, 8769, 8770, 8771, 8772, 8773, 8774, 8775, 8776, 8777, 8781, 8782, 8783, 8784, 8785, 8786, 8788, 8790, 8792, 8793, 8794, 8795, 8798, 8802, 8803, 8804, 8805, 8807, 8808, 8810, 8812, 8814, 8815, 8817, 8818, 8819, 8820, 8822, 8823, 8826, 8827, 8828, 8829, 8830, 8831, 8832, 8834, 8836, 8838, 8840, 8841, 8843, 8845, 8848, 8849, 8852, 8853, 8855, 8857, 8860, 8864, 8868, 8870, 8873, 8874, 8878, 8879, 8880, 8884, 8886, 8888, 8890, 8891, 8894, 8895, 8896, 8898, 8901, 8902, 8904, 8906, 8907, 8908, 8911, 8915, 8917, 8918, 8919, 8921, 8922, 8923, 8925, 8931, 8934, 8936, 8937, 8938, 8941, 8942, 8943, 8945, 8946, 8947, 8948, 8950, 8953, 8954, 8955, 8956, 8959, 8964, 8965, 8966, 8970, 8972, 8974, 8975, 8979, 8982, 8983, 8986, 8990, 8991, 8992, 8994, 8995, 8999, 9001, 9002, 9004, 9005, 9006, 9007, 9008, 9011, 9012, 9014, 9015, 9017, 9022, 9024, 9026, 9027, 9028, 9030, 9033, 9038, 9040, 9041, 9043, 9044, 9046, 9047, 9048, 9049, 9050, 9051, 9052, 9054, 9056, 9058, 9059, 9060, 9061, 9065, 9066, 9067, 9068, 9069, 9071, 9073, 9075, 9076, 9078, 9084, 9086, 9087, 9088, 9089, 9092, 9093, 9094, 9097, 9100, 9101, 9104, 9105, 9106, 9107, 9109, 9111, 9114, 9117, 9118, 9119, 9120, 9123, 9127, 9129, 9132, 9134, 9136, 9137, 9139, 9140, 9142, 9144, 9146, 9147, 9149, 9150, 9151, 9152, 9154, 9156, 9157, 9159, 9160, 9163, 9164, 9165, 9169, 9173, 9174, 9175, 9178, 9180, 9181, 9183, 9185, 9186, 9187, 9189, 9190, 9191, 9194, 9195, 9196, 9197, 9200, 9201, 9202, 9203, 9204, 9205, 9206, 9208, 9211, 9213, 9214, 9215, 9221, 9222, 9223, 9225, 9231, 9232, 9233, 9235, 9237, 9238, 9239, 9240, 9241, 9245, 9246, 9248, 9250, 9251, 9253, 9254, 9255, 9256, 9259, 9260, 9261, 9268, 9269, 9271, 9272, 9274, 9276, 9281, 9283, 9287, 9288, 9290, 9292, 9294, 9296, 9301, 9302, 9303, 9306, 9307, 9309, 9311, 9312, 9313, 9314, 9315, 9316, 9318, 9321, 9322, 9323, 9324, 9325, 9327, 9328, 9329, 9330, 9331, 9332, 9333, 9335, 9338, 9340, 9346, 9347, 9349, 9350, 9351, 9352, 9353, 9354, 9355, 9356, 9357, 9359, 9360, 9361, 9362, 9363, 9364, 9365, 9367, 9368, 9370, 9371, 9372, 9373, 9376, 9379, 9381, 9382, 9384, 9387, 9391, 9392, 9395, 9396, 9398, 9401, 9403, 9404, 9405, 9406, 9407, 9408, 9413, 9414, 9416, 9417, 9419, 9420, 9424, 9425, 9426, 9428, 9429, 9431, 9433, 9434, 9435, 9436, 9438, 9441, 9444, 9447, 9448, 9450, 9452, 9455, 9456, 9458, 9460, 9461, 9462, 9463, 9465, 9466, 9470, 9472, 9473, 9475, 9477, 9478, 9479, 9481, 9482, 9485, 9486, 9488, 9490, 9491, 9494, 9495, 9496, 9497, 9499, 9501, 9502, 9505, 9506, 9507, 9509, 9510, 9511, 9514, 9515, 9516, 9519, 9520, 9528, 9531, 9532, 9533, 9534, 9537, 9539, 9540, 9541, 9542, 9546, 9547, 9548, 9550, 9552, 9553, 9554, 9556, 9558, 9559, 9560, 9561, 9562, 9563, 9564, 9568, 9569, 9570, 9572, 9574, 9576, 9577, 9578, 9580, 9583, 9585, 9586, 9588, 9594, 9595, 9597, 9598, 9601, 9603, 9604, 9607, 9608, 9610, 9611, 9612, 9613, 9615, 9617, 9620, 9622, 9623, 9625, 9626, 9630, 9632, 9633, 9634, 9641, 9651, 9652, 9654, 9655, 9658, 9660, 9661, 9662, 9664, 9666, 9667, 9669, 9672, 9673, 9674, 9675, 9676, 9677, 9679, 9682, 9683, 9685, 9688, 9690, 9693, 9694, 9695, 9698, 9701, 9703, 9704, 9705, 9706, 9707, 9708, 9710, 9711, 9713, 9714, 9718, 9719, 9721, 9722, 9723, 9725, 9726, 9727, 9729, 9730, 9731, 9732, 9735, 9736, 9738, 9740, 9741, 9742, 9743, 9745, 9748, 9750, 9752, 9753, 9756, 9757, 9759, 9760, 9761, 9762, 9766, 9767, 9768, 9776, 9779, 9781, 9784, 9785, 9787, 9788, 9795, 9797, 9798, 9799, 9800, 9801, 9802, 9805, 9806, 9808, 9813, 9815, 9817, 9818, 9821, 9822, 9823, 9825, 9826, 9827, 9828, 9830, 9833, 9836, 9838, 9839, 9841, 9842, 9844, 9846, 9849, 9851, 9852, 9855, 9857, 9859, 9863, 9864, 9865, 9868, 9869, 9873, 9874, 9875, 9876, 9878, 9879, 9880, 9881, 9882, 9884, 9886, 9887, 9888, 9889, 9890, 9891, 9894, 9895, 9896, 9898, 9899, 9900, 9901, 9903, 9905, 9906, 9907, 9911, 9912, 9913, 9915, 9917, 9921, 9922, 9923, 9924, 9926, 9927, 9929, 9930, 9934, 9935, 9938, 9941, 9943, 9944, 9945, 9946, 9947, 9948, 9950, 9951, 9953, 9955, 9957, 9958, 9959, 9960, 9961, 9962, 9963, 9966, 9967, 9968, 9969, 9971, 9972, 9973, 9975, 9976, 9978, 9981, 9982, 9988, 9989, 9993, 9994, 9995, 9997, 9998, 9999, 10001, 10004, 10005, 10007, 10008, 10009, 10011, 10012, 10013, 10015, 10017, 10018, 10019, 10021, 10022, 10025, 10028, 10029, 10030, 10031, 10032, 10034, 10035, 10037, 10038, 10039, 10040, 10043, 10046, 10048, 10052, 10055, 10056, 10057, 10060, 10061, 10062, 10067, 10068, 10070, 10073, 10074, 10075, 10076, 10077, 10079, 10080, 10081, 10085, 10086, 10087, 10088, 10091, 10093, 10094, 10095, 10096, 10097, 10098, 10100, 10104, 10106, 10107, 10108, 10109, 10110, 10111, 10112, 10113, 10116, 10117, 10118, 10119, 10123, 10125, 10127, 10128, 10130, 10133, 10135, 10137, 10138, 10140, 10142, 10143, 10144, 10146, 10148, 10149, 10153, 10154, 10156, 10158, 10160, 10163, 10164, 10165, 10166, 10169, 10170, 10171, 10174, 10176, 10177, 10180, 10181, 10182, 10184, 10185, 10190, 10191, 10193, 10195, 10199, 10200, 10203, 10204, 10205, 10206, 10207, 10208, 10210, 10211, 10213, 10214, 10215, 10217, 10218, 10220, 10222, 10224, 10226, 10227, 10228, 10229, 10230, 10231, 10232, 10233, 10234, 10236, 10238, 10239, 10242, 10243, 10244, 10245, 10246, 10250, 10251, 10252, 10253, 10257, 10258, 10260, 10265, 10268, 10269, 10270, 10271, 10272, 10273, 10274, 10275, 10276, 10277, 10279, 10282, 10284, 10285, 10287, 10288, 10290, 10292, 10293, 10294, 10295, 10297, 10298, 10300, 10302, 10303, 10304, 10308, 10309, 10310, 10311, 10317, 10318, 10323, 10324, 10325, 10327, 10328, 10329, 10330, 10331, 10334, 10336, 10340, 10342, 10346, 10347, 10349, 10350, 10353, 10354, 10356, 10357, 10358, 10360, 10362, 10363, 10367, 10368, 10372, 10374, 10376, 10378, 10381, 10382, 10383, 10384, 10386, 10387, 10389, 10391, 10392, 10394, 10395, 10396, 10397, 10398, 10400, 10402, 10408, 10409, 10413, 10414, 10415, 10418, 10419, 10420, 10422, 10423, 10426, 10429, 10430, 10431, 10433, 10435, 10436, 10437, 10438, 10440, 10441, 10442, 10445, 10446, 10448, 10449, 10450, 10452, 10453, 10456, 10457, 10459, 10460, 10461, 10462, 10466, 10467, 10472, 10473, 10475, 10477, 10478, 10479, 10481, 10483, 10484, 10485, 10486, 10488, 10490, 10491, 10493, 10494, 10496, 10497, 10499, 10502, 10505, 10506, 10507, 10508, 10509, 10510, 10511, 10512, 10513, 10515, 10518, 10520, 10523, 10530, 10531, 10537, 10538, 10541, 10544, 10545, 10548, 10550, 10555, 10556, 10557, 10561, 10562, 10563, 10564, 10566, 10567, 10569, 10571, 10572, 10574, 10575, 10576, 10577, 10578, 10580, 10582, 10583, 10584, 10585, 10586, 10587, 10588, 10589, 10595, 10597, 10598, 10599, 10600, 10601, 10603, 10604, 10605, 10608, 10610, 10611, 10612, 10615, 10616, 10617, 10618, 10620, 10622, 10623, 10624, 10632, 10633, 10634, 10636, 10638, 10642, 10643, 10644, 10646, 10647, 10648, 10650, 10652, 10653, 10654, 10655, 10656, 10658, 10661, 10662, 10663, 10664, 10665, 10666, 10667, 10668, 10670, 10671, 10673, 10674, 10675, 10676, 10678, 10681, 10683, 10685, 10686, 10691, 10693, 10695, 10699, 10700, 10703, 10704, 10708, 10709, 10712, 10713, 10718, 10720, 10722, 10724, 10726, 10728, 10729, 10730, 10733, 10734, 10737, 10738, 10739, 10741, 10742, 10743, 10744, 10745, 10746, 10747, 10749, 10751, 10752, 10753, 10754, 10755, 10759, 10763, 10765, 10766, 10767, 10769, 10770, 10773, 10774, 10775, 10776, 10777, 10780, 10781, 10786, 10787, 10788, 10789, 10791, 10792, 10794, 10797, 10800, 10804, 10805, 10807, 10808, 10810, 10815, 10817, 10818, 10819, 10820, 10821, 10822, 10823, 10826, 10832, 10841, 10843, 10844, 10847, 10848, 10850, 10851, 10853, 10855, 10856, 10857, 10858, 10859, 10860, 10861, 10863, 10865, 10867, 10869, 10870, 10871, 10875, 10877, 10881, 10883, 10885, 10886, 10887, 10888, 10889, 10893, 10895, 10896, 10897, 10899, 10903, 10908, 10909, 10911, 10913, 10916, 10917, 10919, 10920, 10922, 10926, 10927, 10928, 10931, 10932, 10934, 10939, 10940, 10941, 10946, 10947, 10948, 10950, 10952, 10955, 10956, 10957, 10959, 10962, 10963, 10964, 10966, 10967, 10968, 10970, 10971, 10972, 10978, 10979, 10980, 10981, 10987, 10989, 10990, 10993, 10994, 10995, 10998, 10999, 11000, 11001, 11002, 11003, 11006, 11007, 11009, 11013, 11015, 11016, 11017, 11018, 11020, 11023, 11029, 11031, 11032, 11036, 11038, 11039, 11042, 11048, 11049, 11055, 11056, 11057, 11058, 11062, 11063, 11067, 11068, 11069, 11073, 11074, 11076, 11078, 11080, 11081, 11084, 11085, 11088, 11090, 11093, 11094, 11095, 11096, 11097, 11099, 11100, 11101, 11102, 11105, 11106, 11107, 11108, 11109, 11110, 11111, 11114, 11117, 11118, 11125, 11126, 11129, 11132, 11133, 11134, 11136, 11138, 11140, 11141, 11144, 11147, 11149, 11150, 11151, 11152, 11154, 11155, 11156, 11159, 11160, 11161, 11163, 11164, 11165, 11168, 11170, 11172, 11174, 11175, 11176, 11180, 11183, 11184, 11187, 11188, 11190, 11191, 11192, 11193, 11194, 11196, 11198, 11199, 11203, 11204, 11205, 11208, 11210, 11214, 11215, 11220, 11221, 11223, 11224, 11227, 11231, 11232, 11233, 11235, 11240, 11241, 11242, 11244, 11245, 11247, 11248, 11249, 11250, 11252, 11253, 11255, 11257, 11258, 11259, 11260, 11261, 11264, 11266, 11267, 11268, 11269, 11271, 11272, 11273, 11275, 11278, 11279, 11281, 11284, 11286, 11287, 11289, 11290, 11291, 11295, 11300, 11301, 11302, 11304, 11305, 11307, 11310, 11312, 11313, 11315, 11318, 11319, 11320, 11321, 11322, 11324, 11326, 11327, 11328, 11329, 11330, 11333, 11334, 11335, 11336, 11337, 11338, 11340, 11342, 11343, 11344, 11346, 11350, 11352, 11353, 11355, 11357, 11358, 11359, 11360, 11361, 11363, 11365, 11369, 11371, 11373, 11378, 11384, 11385, 11386, 11388, 11389, 11391, 11395, 11397, 11398, 11400, 11401, 11402, 11403, 11405, 11406, 11407, 11408, 11409, 11411, 11418, 11420, 11421, 11423, 11425, 11427, 11429, 11430, 11432, 11433, 11434, 11436, 11437, 11441, 11443, 11444, 11445, 11448, 11450, 11451, 11453, 11456, 11457, 11459, 11464, 11468, 11469, 11470, 11471, 11472, 11474, 11477, 11478, 11479, 11481, 11484, 11485, 11486, 11490, 11492, 11496, 11497, 11499, 11500, 11502, 11503, 11505, 11507, 11508, 11509, 11510, 11511, 11514, 11516, 11517, 11518, 11519, 11520, 11521, 11522, 11523, 11526, 11527, 11534, 11536, 11538, 11542, 11544, 11546, 11549, 11550, 11553, 11554, 11555, 11556, 11557, 11559, 11562, 11564, 11568, 11569, 11570, 11571, 11574, 11575, 11576, 11578, 11580, 11581, 11582, 11584, 11586, 11587, 11589, 11590, 11591, 11592, 11594, 11595, 11597, 11598, 11600, 11601, 11602, 11603, 11605, 11607, 11608, 11609, 11610, 11614, 11616, 11617, 11619, 11620, 11622, 11623, 11628, 11629, 11630, 11631, 11632, 11635, 11641, 11647, 11648, 11649, 11650, 11652, 11654, 11655, 11656, 11658, 11659, 11664, 11666, 11667, 11668, 11669, 11670, 11673, 11674, 11676, 11678, 11679, 11681, 11682, 11683, 11684, 11690, 11692, 11693, 11694, 11695, 11697, 11704, 11705, 11706, 11708, 11710, 11711, 11712, 11713, 11715, 11719, 11720, 11722, 11723, 11724, 11725, 11729, 11730, 11733, 11734, 11739, 11740, 11741, 11743, 11744, 11745, 11746, 11751, 11752, 11755, 11756, 11758, 11759, 11761, 11769, 11770, 11773, 11775, 11776, 11777, 11779, 11780, 11781, 11782, 11783, 11785, 11786, 11787, 11789, 11792, 11793, 11796, 11798, 11799, 11800, 11802, 11804, 11806, 11807, 11810, 11811, 11812, 11814, 11815, 11816, 11817, 11820, 11823, 11828, 11830, 11831, 11832, 11833, 11836, 11837, 11838, 11840, 11847, 11848, 11849, 11850, 11851, 11853, 11855, 11857, 11858, 11859, 11860, 11861, 11864, 11865, 11866, 11869, 11873, 11874, 11875, 11877, 11878, 11880, 11882, 11884, 11885, 11887, 11888, 11889, 11891, 11892, 11894, 11895, 11897, 11902, 11908, 11909, 11910, 11914, 11916, 11917, 11918, 11925, 11926, 11928, 11929, 11930, 11932, 11935, 11936, 11937, 11938, 11940, 11945, 11946, 11948, 11949, 11951, 11952, 11954, 11957, 11958, 11959, 11960, 11962, 11965, 11966, 11967, 11968, 11969, 11970, 11971, 11972, 11974, 11975, 11981, 11982, 11983, 11985, 11988, 11991, 11992, 11993, 11997, 11999, 12001, 12002, 12003, 12005, 12006, 12007, 12012, 12014, 12015, 12016, 12019, 12020, 12021, 12022, 12024, 12026, 12029, 12031, 12033, 12034, 12035, 12036, 12038, 12040, 12041, 12042, 12044, 12047, 12050, 12054, 12055, 12056, 12059, 12060, 12061, 12063, 12064, 12065, 12068, 12069, 12070, 12072, 12074, 12080, 12082, 12084, 12086, 12087, 12088, 12090, 12091, 12092, 12093, 12094, 12100, 12101, 12102, 12104, 12106, 12110, 12111, 12113, 12114, 12116, 12119, 12120, 12131, 12132, 12134, 12135, 12136, 12138, 12140, 12141, 12142, 12144, 12145, 12146, 12147, 12149, 12152, 12155, 12156, 12157, 12158, 12160, 12161, 12162, 12163, 12165, 12166, 12167, 12168, 12169, 12170, 12171, 12172, 12173, 12174, 12175, 12176, 12177, 12179, 12180, 12181, 12184, 12185, 12187, 12188, 12189, 12190, 12195, 12196, 12197, 12199, 12200, 12201, 12202, 12203, 12205, 12209, 12210, 12211, 12212, 12213, 12214, 12217, 12219, 12221, 12222, 12225, 12229, 12232, 12234, 12236, 12238, 12239, 12241, 12244, 12245, 12248, 12249, 12250, 12253, 12254, 12256, 12258, 12259, 12261, 12262, 12263, 12264, 12265, 12270, 12273, 12274, 12275, 12277, 12278, 12282, 12283, 12287, 12290, 12292, 12293, 12294, 12298, 12300, 12302, 12305, 12307, 12308, 12309, 12311, 12314, 12316, 12317, 12318, 12320, 12325, 12327, 12328, 12329, 12330, 12332, 12334, 12340, 12341, 12342, 12343, 12344, 12348, 12350, 12351, 12353, 12354, 12356, 12357, 12358, 12359, 12360, 12361, 12364, 12365, 12371, 12375, 12378, 12380, 12382, 12383, 12384, 12385, 12386, 12388, 12390, 12393, 12396, 12399, 12400, 12403, 12404, 12408, 12411, 12414, 12416, 12417, 12418, 12420, 12421, 12422, 12424, 12425, 12426, 12427, 12428, 12429, 12430, 12431, 12432, 12433, 12434, 12438, 12440, 12441, 12442, 12443, 12445, 12447, 12448, 12450, 12453, 12456, 12458, 12459, 12460, 12461, 12462, 12463, 12464, 12467, 12471, 12472, 12475, 12476, 12477, 12478, 12479, 12480, 12481, 12482, 12483, 12484, 12490, 12491, 12492, 12495, 12497, 12498, 12499, 12500, 12501, 12503, 12507, 12508, 12511, 12512, 12514, 12516, 12517, 12518, 12519, 12520, 12521, 12522, 12523, 12526, 12527, 12530, 12531, 12534, 12535, 12539, 12541, 12542, 12543, 12545, 12547, 12554, 12556, 12559, 12563, 12564, 12569, 12570, 12575, 12577, 12580, 12583, 12584, 12586, 12587, 12589, 12590, 12593, 12597, 12598, 12610, 12613, 12618, 12619, 12620, 12622, 12624, 12626, 12628, 12630, 12631, 12633, 12634, 12638, 12640, 12646, 12647, 12649, 12652, 12653, 12657, 12659, 12663, 12664, 12665, 12666, 12667, 12674, 12675, 12676, 12677, 12678, 12680, 12681, 12682, 12683, 12690, 12692, 12693, 12694, 12697, 12698, 12699, 12700, 12701, 12702, 12707, 12708, 12709, 12712, 12713, 12714, 12716, 12719, 12721, 12724, 12726, 12727, 12729, 12734, 12736, 12740, 12743, 12746, 12747, 12749, 12750, 12751, 12752, 12754, 12756, 12758, 12762, 12764, 12766, 12767, 12768, 12769, 12770, 12774, 12775, 12776, 12777, 12778, 12779, 12780, 12781, 12784, 12786, 12790, 12791, 12792, 12795, 12796, 12801, 12802, 12803, 12807, 12809, 12812, 12814, 12816, 12818, 12819, 12822, 12825, 12827, 12831, 12832, 12834, 12835, 12837, 12838, 12839, 12840, 12842, 12844, 12845, 12846, 12847, 12848, 12849, 12850, 12851, 12852, 12853, 12855, 12857, 12859, 12860, 12861, 12863, 12864, 12867, 12870, 12874, 12875, 12878, 12880, 12881, 12882, 12883, 12887, 12888, 12889, 12892, 12896, 12899, 12900, 12903, 12904, 12907, 12908, 12909, 12910, 12914, 12915, 12917, 12919, 12920, 12922, 12924, 12926, 12927, 12931, 12933, 12934, 12935, 12937, 12939, 12940, 12944, 12945, 12947, 12948, 12950, 12951, 12952, 12953, 12954, 12957, 12958, 12959, 12961, 12962, 12966, 12967, 12968, 12970, 12973, 12974, 12975, 12976, 12978, 12980, 12981, 12983, 12984, 12985, 12987, 12991, 12992, 12993, 12994, 12995, 12996, 12997, 13000, 13001, 13004, 13007, 13011, 13012, 13013, 13014, 13015, 13022, 13025, 13026, 13027, 13032, 13033, 13034, 13037, 13038, 13039, 13041, 13043, 13046, 13052, 13056, 13057, 13058, 13059, 13061, 13062, 13063, 13064, 13065, 13068, 13069, 13070, 13071, 13072, 13075, 13077, 13086, 13088, 13089, 13090, 13092, 13093, 13094, 13097, 13101, 13102, 13103, 13104, 13106, 13107, 13108, 13109, 13110, 13112, 13115, 13116, 13118, 13122, 13123, 13124, 13125, 13127, 13128, 13129, 13131, 13132, 13134, 13136, 13138, 13139, 13140, 13142, 13144, 13147, 13149, 13150, 13151, 13152, 13153, 13160, 13161, 13162, 13164, 13167, 13169, 13170, 13178, 13179, 13180, 13181, 13182, 13183, 13184, 13185, 13186, 13187, 13189, 13191, 13192, 13193, 13194, 13196, 13197, 13198, 13207, 13208, 13209, 13210, 13214, 13216, 13217, 13219, 13220, 13222, 13223, 13225, 13226, 13227, 13228, 13229, 13232, 13234, 13237, 13238, 13240, 13243, 13245, 13247, 13248, 13250, 13253, 13254, 13259, 13260, 13263, 13265, 13267, 13268, 13269, 13271, 13272, 13274, 13276, 13277, 13279, 13280, 13281, 13285, 13286, 13287, 13288, 13289, 13290, 13292, 13294, 13297, 13299, 13300, 13301, 13304, 13307, 13309, 13310, 13311, 13312, 13314, 13316, 13317, 13318, 13319, 13323, 13324, 13326, 13328, 13329, 13330, 13332, 13333, 13334, 13335, 13336, 13337, 13338, 13340, 13341, 13343, 13344, 13348, 13349, 13350, 13351, 13357, 13358, 13362, 13363, 13365, 13367, 13369, 13370, 13374, 13375, 13376, 13377, 13378, 13379, 13381, 13382, 13384, 13385, 13387, 13389, 13391, 13392, 13393, 13398, 13399, 13400, 13401, 13403, 13404, 13406, 13407, 13408, 13412, 13413, 13415, 13417, 13418, 13419, 13420, 13421, 13425, 13431, 13437, 13443, 13447, 13449, 13451, 13452, 13453, 13454, 13455, 13456, 13457, 13462, 13463, 13464, 13466, 13468, 13469, 13470, 13471, 13472, 13474, 13475, 13476, 13477, 13480, 13481, 13483, 13485, 13486, 13487, 13489, 13490, 13492, 13493, 13495, 13500, 13501, 13503, 13504, 13505, 13506, 13507, 13508, 13510, 13511, 13513, 13514, 13515, 13519, 13520, 13522, 13524, 13525, 13526, 13528, 13530, 13531, 13532, 13533, 13536, 13538, 13539, 13540, 13542, 13543, 13544, 13546, 13547, 13548, 13549, 13550, 13551, 13555, 13556, 13557, 13562, 13563, 13565, 13567, 13568, 13578, 13579, 13581, 13584, 13585, 13586, 13593, 13595, 13596, 13597, 13600, 13601, 13603, 13604, 13605, 13606, 13610, 13611, 13612, 13613, 13614, 13617, 13618, 13619, 13623, 13624, 13625, 13626, 13627, 13629, 13630, 13631, 13632, 13633, 13637, 13639, 13640, 13642, 13643, 13644, 13645, 13646, 13647, 13648, 13650, 13651, 13654, 13655, 13656, 13657, 13659, 13664, 13665, 13666, 13669, 13671, 13673, 13674, 13675, 13678, 13679, 13680, 13681, 13682, 13684, 13688, 13689, 13692, 13693, 13694, 13700, 13702, 13706, 13708, 13710, 13711, 13712, 13714, 13715, 13718, 13719, 13721, 13722, 13723, 13725, 13726, 13729, 13730, 13731, 13734, 13739, 13740, 13741, 13742, 13745, 13747, 13749, 13757, 13758, 13759, 13760, 13761, 13763, 13766, 13767, 13768, 13771, 13772, 13776, 13778, 13779, 13780, 13781, 13782, 13783, 13784, 13790, 13792, 13793, 13794, 13797, 13798, 13799, 13802, 13804, 13805, 13806, 13808, 13809, 13810, 13811, 13814, 13815, 13817, 13819, 13820, 13822, 13825, 13826, 13827, 13829, 13831, 13832, 13833, 13834, 13836, 13837, 13838, 13840, 13842, 13844, 13847, 13850, 13851, 13857, 13858, 13860, 13861, 13867, 13869, 13872, 13874, 13876, 13877, 13878, 13880, 13881, 13882, 13883, 13887, 13894, 13896, 13897, 13898, 13899, 13902, 13903, 13904, 13905, 13908, 13909, 13911, 13912, 13914, 13917, 13921, 13924, 13925, 13928, 13931, 13932, 13934, 13939, 13940, 13943, 13945, 13949, 13950, 13951, 13952, 13954, 13957, 13958, 13959, 13960, 13963, 13969, 13970, 13976, 13977, 13978, 13981, 13982, 13983, 13984, 13987, 13992, 13994, 13998, 13999, 14004, 14005, 14006, 14007, 14009, 14010, 14012, 14013, 14014, 14016, 14018, 14019, 14021, 14022, 14023, 14024, 14026, 14031, 14032, 14035, 14038, 14039, 14041, 14045, 14047, 14049, 14053, 14056, 14059, 14061, 14062, 14063, 14066, 14069, 14073, 14074, 14076, 14078, 14081, 14082, 14083, 14084, 14085, 14088, 14089, 14092, 14093, 14096, 14097, 14098, 14100, 14104, 14105, 14108, 14112, 14115, 14117, 14118, 14119, 14128, 14129, 14132, 14133, 14134, 14135, 14137, 14142, 14143, 14144, 14145, 14146, 14148, 14151, 14152, 14153, 14156, 14158, 14162, 14164, 14165, 14167, 14171, 14173, 14174, 14175, 14176, 14177, 14178, 14181, 14185, 14190, 14191, 14193, 14195, 14196, 14198, 14202, 14203, 14204, 14205, 14207, 14208, 14210, 14213, 14214, 14215, 14216, 14220, 14225, 14226, 14228, 14229, 14230, 14233, 14235, 14239, 14240, 14241, 14242, 14243, 14245, 14247, 14248, 14250, 14253, 14254, 14258, 14262, 14263, 14269, 14271, 14275, 14276, 14282, 14285, 14288, 14289, 14291, 14292, 14293, 14297, 14298, 14300, 14302, 14303, 14304, 14309, 14312, 14314, 14315, 14317, 14318, 14321, 14323, 14324, 14325, 14330, 14334, 14335, 14337, 14338, 14344, 14345, 14347, 14349, 14351, 14353, 14356, 14357, 14359, 14361, 14362, 14363, 14364, 14368, 14372, 14373, 14375, 14378, 14380, 14383, 14385, 14386, 14402, 14403, 14404, 14407, 14408, 14414, 14415, 14416, 14417, 14418, 14419, 14421, 14422, 14424, 14428, 14433, 14435, 14436, 14437, 14439, 14441, 14442, 14443, 14444, 14445, 14447, 14451, 14453, 14456, 14457, 14458, 14459, 14460, 14461, 14462, 14463, 14464, 14465, 14467, 14473, 14474, 14475, 14476, 14478, 14481, 14484, 14485, 14486, 14487, 14488, 14489, 14492, 14493, 14494, 14495, 14499, 14504, 14505, 14506, 14507, 14509, 14510, 14513, 14514, 14515, 14516, 14518, 14519, 14520, 14521, 14522, 14523, 14525, 14527, 14529, 14530, 14531, 14534, 14537, 14538, 14539, 14540, 14542, 14543, 14544, 14545, 14547, 14549, 14550, 14554, 14561, 14562, 14563, 14564, 14566, 14568, 14569, 14570, 14571, 14572, 14576, 14577, 14578, 14580, 14582, 14584, 14587, 14588, 14589, 14590, 14592, 14594, 14595, 14596, 14598, 14599, 14600, 14602, 14603, 14604, 14606, 14607, 14610, 14611, 14612, 14614, 14617, 14620, 14622, 14624, 14625, 14626, 14632, 14633, 14635, 14636, 14637, 14638, 14641, 14642, 14645, 14646, 14648, 14649, 14650, 14651, 14652, 14654, 14657, 14659, 14660, 14661, 14662, 14664, 14665, 14668, 14671, 14675, 14676, 14677, 14679, 14680, 14681, 14682, 14683, 14688, 14689, 14690, 14692, 14695, 14697, 14698, 14701, 14705, 14713, 14714, 14715, 14718, 14719, 14720, 14722, 14723, 14724, 14725, 14727, 14729, 14730, 14731, 14732, 14733, 14734, 14736, 14738, 14739, 14740, 14741, 14742, 14744, 14745, 14746, 14747, 14749, 14751, 14754, 14755, 14756, 14760, 14763, 14764, 14766, 14768, 14770, 14772, 14773, 14774, 14775, 14776, 14777, 14778, 14780, 14782, 14783, 14789, 14790, 14791, 14793, 14794, 14795, 14797, 14798, 14799, 14800, 14801, 14804, 14810, 14812, 14813, 14814, 14816, 14817, 14818, 14820, 14825, 14827, 14828, 14830, 14831, 14832, 14836, 14838, 14839, 14841, 14842, 14844, 14845, 14846, 14847, 14848, 14851, 14854, 14855, 14858, 14859, 14860, 14861, 14862, 14863, 14864, 14866, 14869, 14870, 14871, 14872, 14875, 14876, 14877, 14878, 14879, 14881, 14883, 14885, 14888, 14889, 14890, 14891, 14892, 14893, 14896, 14897, 14898, 14899, 14901, 14902, 14904, 14905, 14906, 14908, 14909, 14911, 14913, 14914, 14915, 14917, 14918, 14920, 14921, 14923, 14924, 14925, 14926, 14927, 14929, 14932, 14935, 14937, 14940, 14942, 14945, 14946, 14948, 14953, 14956, 14959, 14962, 14969, 14971, 14973, 14974, 14975, 14980, 14982, 14983, 14984, 14987, 14988, 14989, 14990, 14991, 14994, 14995, 14997, 14998, 14999, 15000, 15003, 15006, 15007, 15008, 15009, 15010, 15012, 15016, 15017, 15020, 15021, 15022, 15023, 15024, 15025, 15027, 15028, 15030, 15033, 15036, 15038, 15039, 15044, 15045, 15046, 15049, 15050, 15052, 15054, 15055, 15058, 15059, 15060, 15066, 15067, 15068, 15070, 15073, 15074, 15076, 15078, 15080, 15082, 15083, 15085, 15086, 15088, 15089, 15091, 15095, 15096, 15097, 15098, 15103, 15104, 15105, 15106, 15108, 15109, 15112, 15116, 15117, 15120, 15121, 15125, 15126, 15127, 15128, 15129, 15132, 15134, 15135, 15136, 15137, 15139, 15143, 15151, 15152, 15154, 15156, 15157, 15160, 15161, 15166, 15168, 15169, 15171, 15172, 15173, 15174, 15180, 15181, 15182, 15183, 15184, 15186, 15190, 15191, 15192, 15193, 15194, 15195, 15197, 15198, 15199, 15200, 15203, 15204, 15208, 15209, 15210, 15211, 15212, 15213, 15215, 15216, 15217, 15220, 15221, 15227, 15228, 15229, 15230, 15232, 15234, 15235, 15236, 15237, 15238, 15240, 15241, 15242, 15244, 15247, 15249, 15251, 15252, 15257, 15258, 15259, 15260, 15262, 15263, 15264, 15268, 15269, 15270, 15271, 15272, 15275, 15277, 15278, 15284, 15285, 15287, 15293, 15294, 15295, 15296, 15299, 15303, 15304, 15306, 15307, 15308, 15311, 15312, 15313, 15315, 15316, 15317, 15326, 15327, 15328, 15329, 15330, 15331, 15332, 15334, 15336, 15337, 15338, 15339, 15341, 15343, 15344, 15345, 15346, 15347, 15349, 15351, 15352, 15354, 15356, 15357, 15359, 15362, 15363, 15366, 15367, 15369, 15370, 15372, 15373, 15374, 15375, 15377, 15378, 15379, 15380, 15381, 15382, 15384, 15385, 15387, 15388, 15391, 15392, 15393, 15396, 15397, 15398, 15399, 15400, 15401, 15402, 15404, 15406, 15408, 15409, 15412, 15413, 15416, 15418, 15419, 15422, 15424, 15427, 15428, 15430, 15432, 15433, 15435, 15438, 15441, 15442, 15443, 15444, 15445, 15447, 15448, 15451, 15453, 15454, 15455, 15456, 15457, 15460, 15461, 15462, 15464, 15466, 15467, 15468, 15472, 15473, 15475, 15477, 15478, 15481, 15482, 15483, 15484, 15486, 15487, 15488, 15490, 15491, 15493, 15494, 15496, 15498, 15499, 15500, 15502, 15503, 15507, 15508, 15510, 15511, 15518, 15523, 15526, 15527, 15530, 15532, 15533, 15538, 15540, 15543, 15544, 15546, 15547, 15553, 15554, 15555, 15556, 15557, 15558, 15562, 15564, 15566, 15567, 15568, 15569, 15570, 15571, 15573, 15574, 15575, 15576, 15577, 15581, 15582, 15585, 15586, 15587, 15588, 15589, 15591, 15592, 15593, 15594, 15595, 15597, 15598, 15601, 15602, 15603, 15604, 15605, 15606, 15608, 15610, 15611, 15616, 15617, 15619, 15622, 15623, 15625, 15630, 15631, 15632, 15635, 15636, 15638, 15640, 15641, 15643, 15645, 15646, 15648, 15649, 15652, 15655, 15656, 15657, 15658, 15661, 15663, 15664, 15669, 15670, 15671, 15676, 15680, 15681, 15684, 15688, 15693, 15695, 15697, 15698, 15700, 15701, 15702, 15706, 15710, 15712, 15714, 15722, 15723, 15725, 15726, 15729, 15730, 15732, 15733, 15734, 15736, 15737, 15738, 15739, 15740, 15744, 15746, 15747, 15748, 15750, 15751, 15752, 15753, 15755, 15756, 15759, 15760, 15765, 15766, 15769, 15774, 15775, 15776, 15777, 15778, 15783, 15785, 15786, 15787, 15788, 15789, 15792, 15794, 15795, 15796, 15797, 15798, 15802, 15803, 15807, 15808, 15812, 15817, 15818, 15819, 15821, 15822, 15823, 15825, 15826, 15828, 15829, 15830, 15832, 15834, 15835, 15837, 15838, 15839, 15840, 15842, 15843, 15844, 15845, 15849, 15850, 15851, 15852, 15855, 15856, 15857, 15858, 15859, 15861, 15866, 15870, 15871, 15872, 15873, 15878, 15879, 15883, 15885, 15887, 15888, 15890, 15892, 15893, 15894, 15896, 15897, 15899, 15902, 15904, 15905, 15906, 15907, 15909, 15912, 15914, 15915, 15916, 15917, 15919, 15920, 15921, 15922, 15923, 15924, 15925, 15926, 15928, 15932, 15933, 15935, 15937, 15938, 15939, 15940, 15941, 15942, 15943, 15944, 15945, 15946, 15947, 15948, 15951, 15952, 15953, 15955, 15956, 15957, 15958, 15959, 15960, 15962, 15965, 15966, 15967, 15969, 15970, 15974, 15979, 15980, 15982, 15984, 15985, 15989, 15990, 15991, 15992, 15994, 15995, 15998, 15999, 16002, 16003, 16006, 16007, 16009, 16011, 16015, 16016, 16017, 16018, 16019, 16022, 16023, 16026, 16032, 16033, 16034, 16036, 16037, 16038, 16040, 16041, 16043, 16047, 16053, 16059, 16060, 16061, 16064, 16066, 16068, 16069, 16071, 16074, 16075, 16076, 16080, 16083, 16085, 16086, 16087, 16088, 16089, 16091, 16095, 16096, 16097, 16098, 16099, 16101, 16102, 16103, 16105, 16107, 16109, 16110, 16111, 16113, 16114, 16115, 16119, 16120, 16121, 16122, 16124, 16127, 16128, 16129, 16130, 16132, 16134, 16137, 16142, 16143, 16144, 16147, 16149, 16153, 16154, 16155, 16158, 16159, 16162, 16163, 16164, 16166, 16168, 16171, 16174, 16177, 16178, 16180, 16181, 16186, 16187, 16189, 16190, 16193, 16196, 16200, 16202, 16205, 16207, 16208, 16214, 16217, 16218, 16219, 16220, 16222, 16223, 16226, 16227, 16228, 16231, 16232, 16234, 16235, 16237, 16239, 16240, 16243, 16244, 16245, 16246, 16248, 16253, 16254, 16256, 16257, 16258, 16259, 16260, 16261, 16266, 16269, 16271, 16272, 16275, 16276, 16278, 16279, 16282, 16284, 16285, 16288, 16290, 16291, 16293, 16295, 16296, 16297, 16300, 16301, 16303, 16305, 16306, 16307, 16308, 16309, 16310, 16311, 16315, 16316, 16318, 16321, 16322, 16324, 16326, 16327, 16328, 16331, 16335, 16337, 16338, 16340, 16341, 16342, 16344, 16345, 16346, 16347, 16349, 16350, 16352, 16354, 16355, 16358, 16360, 16361, 16364, 16367, 16368, 16369, 16370, 16373, 16375, 16378, 16379, 16380, 16382, 16384, 16385, 16388, 16389, 16390, 16391, 16396, 16397, 16398, 16399, 16400, 16402, 16403, 16405, 16406, 16407, 16408, 16409, 16410, 16415, 16416, 16417, 16419, 16421, 16426, 16427, 16428, 16433, 16434, 16435, 16440, 16441, 16444, 16446, 16447, 16448, 16450, 16452, 16453, 16454, 16455, 16460, 16461, 16463, 16466, 16475, 16478, 16479, 16482, 16483, 16487, 16488, 16494, 16495, 16496, 16497, 16498, 16499, 16500, 16501, 16507, 16508, 16510, 16514, 16517, 16518, 16520, 16521, 16522, 16523, 16524, 16527, 16528, 16529, 16530, 16533, 16534, 16538, 16539, 16540, 16541, 16549, 16553, 16556, 16558, 16559, 16561, 16563, 16565, 16570, 16572, 16573, 16574, 16575, 16576, 16583, 16584, 16585, 16586, 16590, 16591, 16592, 16595, 16597, 16598, 16600, 16603, 16605, 16606, 16610, 16611, 16612, 16614, 16615, 16616, 16620, 16621, 16625, 16627, 16630, 16634, 16639, 16641, 16643, 16644, 16645, 16647, 16652, 16653, 16657, 16662, 16663, 16665, 16669, 16670, 16671, 16673, 16676, 16677, 16678, 16679, 16680, 16683, 16685, 16687, 16690, 16691, 16692, 16693, 16694, 16695, 16696, 16697, 16698, 16699, 16700, 16701, 16702, 16704, 16708, 16713, 16715, 16716, 16717, 16718, 16719, 16720, 16722, 16725, 16726, 16727, 16728, 16732, 16735, 16738, 16741, 16744, 16748, 16750, 16753, 16754, 16756, 16757, 16758, 16760, 16761, 16763, 16764, 16766, 16768, 16769, 16770, 16774, 16776, 16778, 16782, 16784, 16785, 16786, 16788, 16790, 16791, 16792, 16794, 16795, 16799, 16801, 16802, 16804, 16805, 16808, 16810, 16812, 16817, 16819, 16820, 16821, 16822, 16824, 16826, 16830, 16831, 16832, 16834, 16835, 16836, 16838, 16840, 16842, 16843, 16844, 16845, 16847, 16849, 16850, 16851, 16852, 16853, 16854, 16856, 16857, 16858, 16859, 16862, 16863, 16864, 16866, 16868, 16870, 16872, 16874, 16875, 16876, 16877, 16878, 16883, 16884, 16887, 16888, 16890, 16891, 16892, 16897, 16900, 16901, 16902, 16903, 16905, 16906, 16907, 16908, 16910, 16911, 16912, 16915, 16921, 16922, 16924, 16925, 16926, 16927, 16928, 16929, 16930, 16933, 16934, 16939, 16940, 16941, 16943, 16947, 16948, 16949, 16951, 16955, 16956, 16958, 16959, 16962, 16963, 16964, 16966, 16967, 16968, 16969, 16979, 16981, 16982, 16984, 16986, 16987, 16990, 16991, 16993, 16995, 16998, 16999, 17001, 17002, 17005, 17007, 17009, 17011, 17014, 17016, 17017, 17020, 17021, 17022, 17024, 17027, 17029, 17031, 17032, 17033, 17034, 17036, 17040, 17042, 17043, 17044, 17045, 17047, 17049, 17051, 17053, 17054, 17056, 17058, 17059, 17060, 17063, 17066, 17067, 17068, 17069, 17070, 17071, 17072, 17073, 17074, 17077, 17078, 17080, 17082, 17083, 17085, 17087, 17089, 17091, 17094, 17097, 17098, 17102, 17103, 17106, 17108, 17110, 17118, 17120, 17124, 17125, 17127, 17130, 17131, 17132, 17136, 17140, 17141, 17142, 17146, 17148, 17149, 17150, 17151, 17152, 17153, 17157, 17161, 17163, 17164, 17165, 17169, 17170, 17173, 17174, 17177, 17181, 17183, 17185, 17186, 17187, 17188, 17190, 17191, 17195, 17198, 17199, 17200, 17201, 17202, 17204, 17205, 17210, 17213, 17218, 17220, 17221, 17222, 17224, 17226, 17227, 17231, 17241, 17244, 17246, 17248, 17249, 17253, 17255, 17256, 17259, 17260, 17261, 17262, 17263, 17264, 17266, 17267, 17268, 17269, 17270, 17272, 17276, 17277, 17278, 17281, 17282, 17284, 17287, 17289, 17290, 17292, 17293, 17294, 17297, 17302, 17303, 17307, 17308, 17309, 17311, 17314, 17316, 17317, 17319, 17320, 17325, 17326, 17327, 17328, 17329, 17330, 17333, 17334, 17337, 17339, 17340, 17341, 17343, 17344, 17345, 17350, 17352, 17362, 17364, 17365, 17366, 17369, 17371, 17373, 17374, 17377, 17378, 17380, 17381, 17382, 17383, 17384, 17386, 17387, 17390, 17393, 17394, 17397, 17398, 17399, 17400, 17403, 17405, 17406, 17410, 17412, 17413, 17414, 17415, 17416, 17418, 17419, 17420, 17421, 17424, 17427, 17430, 17431, 17432, 17436, 17437, 17439, 17441, 17442, 17443, 17444, 17446, 17450, 17452, 17453, 17454, 17455, 17456, 17457, 17458, 17459, 17460, 17464, 17465, 17466, 17470, 17471, 17473, 17474, 17477, 17479, 17480, 17482, 17486, 17488, 17491, 17492, 17493, 17495, 17496, 17497, 17499, 17500, 17501, 17503, 17504, 17505, 17506, 17507, 17508, 17512, 17513, 17514, 17516, 17517, 17518, 17520, 17524, 17527, 17528, 17530, 17532, 17533, 17534, 17535, 17537, 17538, 17539, 17540, 17541, 17542, 17545, 17548, 17549, 17550, 17551, 17554, 17557, 17558, 17559, 17560, 17561, 17562, 17563, 17564, 17567, 17569, 17570, 17572, 17573, 17575, 17576, 17578, 17579, 17581, 17582, 17584, 17585, 17588, 17589, 17591, 17592, 17593, 17594, 17595, 17596, 17597, 17598, 17599, 17602, 17604, 17605, 17606, 17607, 17615, 17617, 17618, 17619, 17620, 17622, 17623, 17624, 17626, 17627, 17629, 17630, 17631, 17633, 17634, 17635, 17638, 17640, 17645, 17646, 17648, 17652, 17653, 17654, 17655, 17657, 17658, 17660, 17661, 17663, 17665, 17666, 17667, 17668, 17669, 17670, 17672, 17675, 17676, 17678, 17679, 17682, 17685, 17686, 17687, 17688, 17693, 17695, 17697, 17698, 17699, 17701, 17702, 17703, 17705, 17707, 17708, 17709, 17710, 17711, 17712, 17716, 17719, 17720, 17721, 17722, 17723, 17725, 17727, 17729, 17730, 17732, 17734, 17735, 17736, 17737, 17739, 17740, 17743, 17746, 17747, 17748, 17751, 17754, 17756, 17759, 17760, 17761, 17763, 17764, 17765, 17766, 17768, 17771, 17773, 17775, 17776, 17778, 17780, 17781, 17782, 17785, 17787, 17788, 17789, 17801, 17803, 17808, 17810, 17815, 17816, 17817, 17821, 17826, 17828, 17829, 17830, 17831, 17832, 17834, 17835, 17836, 17838, 17840, 17841, 17844, 17845, 17846, 17848, 17849, 17851, 17852, 17854, 17855, 17858, 17861, 17862, 17869, 17870, 17871, 17872, 17873, 17874, 17877, 17879, 17880, 17885, 17886, 17887, 17890, 17892, 17893, 17894, 17895, 17896, 17897, 17899, 17901, 17904, 17905, 17906, 17907, 17910, 17911, 17914, 17916, 17918, 17920, 17921, 17922, 17923, 17925, 17927, 17928, 17930, 17931, 17933, 17934, 17935, 17936, 17938, 17939, 17940, 17942, 17943, 17945, 17949, 17954, 17955, 17956, 17958, 17960, 17961, 17962, 17963, 17965, 17967, 17968, 17971, 17972, 17977, 17978, 17979, 17981, 17982, 17986, 17988, 17989, 17990, 17991, 17992, 17993, 17994, 17996, 17998, 17999, 18001, 18002, 18003, 18004, 18005, 18006, 18008, 18009, 18010, 18012, 18014, 18016, 18019, 18020, 18021, 18022, 18023, 18026, 18027, 18028, 18030, 18031, 18032, 18033, 18034, 18036, 18041, 18042, 18043, 18045, 18048, 18052, 18053, 18054, 18056, 18060, 18061, 18062, 18063, 18064, 18067, 18073, 18074, 18075, 18076, 18077, 18079, 18082, 18084, 18085, 18087, 18088, 18089, 18096, 18097, 18098, 18099, 18101, 18102, 18105, 18106, 18108, 18109, 18110, 18113, 18116, 18120, 18125, 18128, 18131, 18134, 18136, 18137, 18138, 18140, 18142, 18143, 18144, 18145, 18147, 18148, 18149, 18150, 18152, 18153, 18155, 18161, 18162, 18163, 18164, 18165, 18166, 18167, 18169, 18170, 18177, 18178, 18179, 18181, 18182, 18183, 18184, 18188, 18189, 18190, 18191, 18192, 18194, 18196, 18198, 18202, 18203, 18204, 18207, 18208, 18210, 18213, 18214, 18217, 18219, 18220, 18221, 18222, 18223, 18224, 18227, 18228, 18230, 18232, 18234, 18240, 18242, 18243, 18244, 18245, 18250, 18251, 18253, 18254, 18255, 18256, 18257, 18258, 18263, 18265, 18266, 18267, 18271, 18272, 18273, 18276, 18280, 18282, 18283, 18284, 18290, 18292, 18293, 18294, 18295, 18296, 18297, 18298, 18299, 18301, 18303, 18304, 18305, 18312, 18314, 18315, 18316, 18317, 18319, 18320, 18321, 18323, 18324, 18325, 18326, 18329, 18331, 18333, 18334, 18339, 18341, 18342, 18345, 18346, 18347, 18350, 18354, 18356, 18360, 18362, 18365, 18366, 18367, 18368, 18369, 18370, 18371, 18375, 18376, 18380, 18381, 18382, 18388, 18389, 18390, 18391, 18396, 18397, 18399, 18401, 18402, 18403, 18404, 18405, 18409, 18413, 18414, 18416, 18419, 18421, 18424, 18426, 18427, 18429, 18431, 18435, 18436, 18438, 18443, 18446, 18448, 18449, 18450, 18452, 18453, 18457, 18460, 18462, 18466, 18467, 18469, 18471, 18472, 18473, 18475, 18479, 18480, 18481, 18484, 18485, 18486, 18487, 18490, 18491, 18496, 18497, 18498, 18507, 18509, 18512, 18514, 18516, 18519, 18522, 18526, 18527, 18528, 18529, 18530, 18534, 18535, 18537, 18540, 18543, 18544, 18546, 18547, 18549, 18550, 18552, 18553, 18554, 18555, 18560, 18561, 18563, 18564, 18566, 18567, 18569, 18571, 18573, 18574, 18576, 18577, 18578, 18582, 18583, 18584, 18586, 18593, 18594, 18595, 18596, 18598, 18599, 18600, 18601, 18604, 18605, 18606, 18608, 18609, 18610, 18612, 18613, 18615, 18617, 18619, 18620, 18621, 18626, 18627, 18628, 18631, 18632, 18633, 18634, 18636, 18637, 18638, 18639, 18644, 18645, 18646, 18647, 18648, 18651, 18654, 18655, 18656, 18657, 18658, 18659, 18661, 18663, 18664, 18665, 18666, 18669, 18671, 18674, 18677, 18681, 18683, 18684, 18685, 18686, 18687, 18689, 18691, 18692, 18693, 18696, 18697, 18702, 18703, 18704, 18705, 18709, 18710, 18711, 18712, 18714, 18716, 18717, 18723, 18724, 18727, 18728, 18730, 18731, 18734, 18740, 18741, 18742, 18743, 18744, 18746, 18749, 18750, 18752, 18753, 18754, 18755, 18757, 18759, 18760, 18761, 18762, 18763, 18764, 18765, 18767, 18768, 18769, 18771, 18772, 18773, 18775, 18776, 18777, 18779, 18782, 18783, 18785, 18787, 18788, 18790, 18791, 18793, 18800, 18805, 18806, 18807, 18808, 18815, 18816, 18818, 18819, 18820, 18822, 18823, 18824, 18825, 18827, 18828, 18830, 18831, 18833, 18834, 18836, 18837, 18838, 18839, 18840, 18847, 18850, 18852, 18853, 18855, 18857, 18858, 18859, 18861, 18862, 18864, 18866, 18867, 18869, 18874, 18875, 18876, 18880, 18881, 18883, 18884, 18888, 18889, 18890, 18891, 18894, 18895, 18896, 18898, 18901, 18902, 18904, 18908, 18909, 18910, 18911, 18912, 18917, 18920, 18924, 18925, 18928, 18929, 18931, 18933, 18934, 18936, 18937, 18938, 18940, 18941, 18942, 18943, 18944, 18945, 18946, 18948, 18949, 18950, 18951, 18954, 18955, 18957, 18962, 18966, 18971, 18972, 18974, 18975, 18976, 18978, 18979, 18980, 18983, 18984, 18989, 18991, 18992, 18996, 19000, 19001, 19002, 19003, 19007, 19008, 19010, 19011, 19015, 19017, 19019, 19022, 19023, 19025, 19027, 19033, 19034, 19035, 19039, 19040, 19045, 19049, 19051, 19052, 19053, 19054, 19055, 19056, 19057, 19058, 19061, 19062, 19063, 19065, 19066, 19067, 19068, 19069, 19070, 19071, 19074, 19075, 19076, 19078, 19085, 19086, 19090, 19091, 19094, 19095, 19098, 19099, 19101, 19102, 19104, 19108, 19109, 19110, 19111, 19112, 19116, 19117, 19120, 19121, 19124, 19127, 19131, 19132, 19134, 19139, 19140, 19142, 19145, 19147, 19148, 19149, 19150, 19155, 19157, 19160, 19161, 19163, 19166, 19167, 19174, 19175, 19176, 19177, 19178, 19180, 19181, 19182, 19183, 19186, 19187, 19188, 19189, 19192, 19194, 19195, 19196, 19197, 19198, 19199, 19201, 19202, 19204, 19205, 19208, 19210, 19211, 19212, 19213, 19218, 19219, 19220, 19221, 19222, 19223, 19224, 19226, 19227, 19228, 19231, 19232, 19233, 19234, 19236, 19239, 19240, 19242, 19245, 19247, 19252, 19257, 19258, 19261, 19264, 19265, 19266, 19267, 19268, 19269, 19273, 19275, 19277, 19279, 19281, 19282, 19283, 19285, 19289, 19292, 19294, 19298, 19299, 19300, 19302, 19304, 19305, 19307, 19310, 19311, 19312, 19313, 19316, 19317, 19318, 19320, 19322, 19326, 19327, 19329, 19334, 19337, 19338, 19339, 19340, 19343, 19345, 19349, 19350, 19351, 19354, 19360, 19362, 19364, 19366, 19368, 19369, 19370, 19371, 19372, 19373, 19374, 19376, 19377, 19381, 19383, 19385, 19386, 19387, 19388, 19389, 19391, 19392, 19395, 19396, 19397, 19400, 19404, 19406, 19409, 19413, 19414, 19415, 19418, 19419, 19420, 19421, 19425, 19426, 19427, 19430, 19431, 19432, 19434, 19435, 19439, 19440, 19441, 19446, 19449, 19450, 19451, 19452, 19453, 19454, 19455, 19456, 19458, 19460, 19462, 19467, 19468, 19469, 19471, 19472, 19473, 19474, 19475, 19476, 19477, 19478, 19480, 19481, 19482, 19484, 19487, 19488, 19489, 19492, 19494, 19496, 19498, 19500, 19501, 19502, 19503, 19504, 19508, 19509, 19510, 19516, 19518, 19520, 19521, 19522, 19524, 19525, 19526, 19528, 19529, 19531, 19532, 19537, 19538, 19539, 19541, 19542, 19544, 19546, 19548, 19550, 19551, 19552, 19556, 19557, 19560, 19561, 19566, 19568, 19570, 19574, 19575, 19578, 19579, 19580, 19586, 19587, 19588, 19591, 19592, 19594, 19597, 19601, 19602, 19604, 19606, 19607, 19608, 19609, 19611, 19612, 19614, 19616, 19617, 19619, 19621, 19623, 19625, 19626, 19627, 19628, 19632, 19633, 19634, 19635, 19636, 19637, 19639, 19641, 19643, 19644, 19645, 19647, 19651, 19652, 19654, 19655, 19656, 19657, 19658, 19660, 19662, 19664, 19665, 19672, 19673, 19674, 19675, 19678, 19679, 19681, 19682, 19683, 19684, 19685, 19686, 19687, 19689, 19690, 19694, 19698, 19699, 19701, 19703, 19705, 19706, 19714, 19716, 19717, 19718, 19722, 19724, 19725, 19729, 19732, 19733, 19734, 19736, 19739, 19740, 19743, 19744, 19745, 19747, 19750, 19751, 19752, 19755, 19757, 19759, 19760, 19763, 19764, 19766, 19767, 19769, 19770, 19774, 19779, 19781, 19782, 19783, 19784, 19789, 19790, 19792, 19793, 19794, 19795, 19796, 19797, 19799, 19800, 19801, 19804, 19805, 19806, 19807, 19809, 19814, 19815, 19819, 19821, 19824, 19826, 19829, 19830, 19831, 19833, 19834, 19835, 19836, 19837, 19839, 19841, 19843, 19844, 19845, 19846, 19847, 19848, 19849, 19850, 19853, 19856, 19860, 19861, 19868, 19870, 19873, 19875, 19877, 19878, 19879, 19880, 19884, 19885, 19887, 19888, 19890, 19891, 19893, 19894, 19895, 19896, 19899, 19900, 19901, 19902, 19903, 19905, 19909, 19910, 19912, 19916, 19917, 19919, 19920, 19921, 19923, 19924, 19925, 19926, 19928, 19929, 19930, 19932, 19934, 19935, 19936, 19939, 19940, 19944, 19946, 19949, 19951, 19952, 19953, 19955, 19956, 19958, 19959, 19960, 19962, 19964, 19965, 19966, 19967, 19968, 19969, 19971, 19972, 19974, 19975, 19976, 19977, 19978, 19979, 19980, 19982, 19983, 19984, 19985, 19986, 19987, 19988, 19989, 19991, 19992, 19993, 19994, 19997, 20001, 20003, 20007, 20010, 20012, 20013, 20017, 20018, 20022, 20023, 20024, 20025, 20026, 20029, 20033, 20034, 20035, 20036, 20037, 20039, 20040, 20042, 20043, 20048, 20050, 20054, 20055, 20056, 20058, 20059, 20060, 20064, 20066, 20068, 20072, 20075, 20076, 20077, 20078, 20081, 20085, 20087, 20088, 20089, 20091, 20092, 20093, 20094, 20095, 20096, 20097, 20098, 20099, 20101, 20102, 20103, 20104, 20105, 20107, 20108, 20110, 20111, 20112, 20115, 20116, 20119, 20120, 20123, 20125, 20126, 20127, 20128, 20130, 20131, 20133, 20134, 20136, 20139, 20141, 20147, 20149, 20150, 20151, 20154, 20156, 20161, 20162, 20163, 20164, 20165, 20166, 20168, 20169, 20171, 20172, 20177, 20179, 20181, 20183, 20184, 20185, 20187, 20189, 20192, 20193, 20194, 20195, 20198, 20202, 20203, 20206, 20208, 20210, 20213, 20215, 20218, 20219, 20221, 20222, 20224, 20227, 20229, 20230, 20234, 20235, 20236, 20238, 20240, 20242, 20243, 20244, 20245, 20248, 20249, 20250, 20251, 20252, 20253, 20254, 20255, 20256, 20257, 20258, 20263, 20264, 20265, 20266, 20267, 20268, 20269, 20271, 20272, 20273, 20276, 20277, 20279, 20280, 20283, 20286, 20289, 20291, 20292, 20294, 20295, 20296, 20297, 20298, 20300, 20301, 20305, 20306, 20307, 20308, 20312, 20313, 20314, 20315, 20317, 20318, 20321, 20324, 20328, 20329, 20331, 20336, 20337, 20338, 20342, 20343, 20344, 20345, 20347, 20348, 20350, 20351, 20352, 20356, 20358, 20365, 20366, 20368, 20370, 20372, 20373, 20374, 20376, 20381, 20382, 20384, 20385, 20389, 20390, 20393, 20394, 20395, 20397, 20400, 20401, 20403, 20404, 20405, 20407, 20408, 20409, 20410, 20411, 20412, 20416, 20417, 20418, 20419, 20422, 20424, 20431, 20432, 20436, 20437, 20438, 20442, 20449, 20450, 20452, 20453, 20455, 20456, 20457, 20459, 20464, 20465, 20467, 20468, 20471, 20472, 20474, 20476, 20482, 20483, 20484, 20485, 20486, 20492, 20494, 20498, 20500, 20501, 20502, 20503, 20505, 20506, 20507, 20508, 20511, 20512, 20514, 20515, 20516, 20517, 20518, 20519, 20521, 20522, 20525, 20527, 20528, 20531, 20532, 20533, 20534, 20535, 20536, 20537, 20538, 20539, 20540, 20543, 20544, 20546, 20547, 20548, 20551, 20552, 20555, 20557, 20563, 20566, 20567, 20569, 20570, 20571, 20575, 20579, 20580, 20582, 20584, 20587, 20588, 20590, 20594, 20595, 20596, 20598, 20599, 20601, 20604, 20605, 20606, 20607, 20608, 20609, 20614, 20615, 20616, 20617, 20618, 20619, 20620, 20621, 20623, 20624, 20625, 20626, 20630, 20631, 20632, 20633, 20634, 20636, 20637, 20638, 20639, 20640, 20641, 20642, 20643, 20645, 20647, 20650, 20652, 20653, 20654, 20657, 20659, 20663, 20664, 20665, 20671, 20673, 20674, 20678, 20680, 20682, 20683, 20684, 20685, 20686, 20687, 20688, 20689, 20691, 20692, 20695, 20700, 20701, 20702, 20703, 20705, 20706, 20707, 20711, 20713, 20715, 20716, 20717, 20718, 20719, 20720, 20721, 20722, 20723, 20726, 20727, 20728, 20729, 20731, 20732, 20736, 20737, 20738, 20740, 20742, 20743, 20747, 20748, 20751, 20752, 20754, 20755, 20758, 20759, 20760, 20762, 20764, 20770, 20771, 20778, 20785, 20786, 20787, 20788, 20791, 20792, 20793, 20794, 20796, 20798, 20799, 20800, 20801, 20802, 20806, 20808, 20809, 20811, 20813, 20816, 20818, 20820, 20824, 20827, 20828, 20833, 20836, 20838, 20841, 20842, 20846, 20849, 20850, 20856, 20857, 20858, 20859, 20860, 20861, 20862, 20863, 20866, 20867, 20869, 20870, 20872, 20873, 20877, 20879, 20881, 20883, 20886, 20887, 20889, 20895, 20896, 20898, 20900, 20902, 20904, 20905, 20906, 20907, 20908, 20909, 20910, 20912, 20913, 20914, 20915, 20916, 20918, 20919, 20920, 20921, 20924, 20926, 20927, 20928, 20932, 20936, 20937, 20938, 20939, 20940, 20941, 20942, 20945, 20946, 20948, 20949, 20953, 20954, 20957, 20961, 20968, 20969, 20972, 20974, 20975, 20977, 20978, 20979, 20980, 20982, 20983, 20985, 20986, 20987, 20988, 20989, 20990, 20991, 20992, 20993, 20994, 20995, 20997, 21000, 21006, 21007, 21008, 21009, 21010, 21011, 21013, 21015, 21016, 21017, 21019, 21024, 21027, 21029, 21030, 21032, 21034, 21035, 21036, 21040, 21042, 21044, 21045, 21047, 21048, 21049, 21051, 21052, 21053, 21054, 21056, 21057, 21058, 21061, 21062, 21066, 21067, 21069, 21075, 21077, 21078, 21081, 21084, 21085, 21088, 21091, 21092, 21094, 21095, 21099, 21100, 21103, 21104, 21106, 21107, 21108, 21113, 21116, 21117, 21118, 21119, 21122, 21124, 21132, 21133, 21134, 21135, 21136, 21138, 21139, 21140, 21141, 21142, 21143, 21145, 21147, 21148, 21149, 21151, 21152, 21153, 21154, 21158, 21160, 21162, 21164, 21165, 21167, 21170, 21172, 21173, 21177, 21180, 21182, 21185, 21186, 21187, 21188, 21190, 21191, 21192, 21195, 21196, 21197, 21198, 21199, 21202, 21203, 21205, 21211, 21213, 21214, 21217, 21219, 21221, 21226, 21232, 21233, 21235, 21236, 21237, 21238, 21239, 21242, 21244, 21245, 21246, 21248, 21249, 21250, 21251, 21254, 21255, 21256, 21257, 21258, 21259, 21260, 21262, 21264, 21265, 21268, 21269, 21270, 21272, 21274, 21279, 21280, 21281, 21282, 21283, 21284, 21286, 21288, 21290, 21296, 21297, 21299, 21300, 21301, 21304, 21305, 21308, 21311, 21312, 21313, 21314, 21316, 21317, 21318, 21320, 21321, 21325, 21327, 21328, 21330, 21331, 21332, 21334, 21337, 21342, 21345, 21346, 21347, 21350, 21355, 21356, 21358, 21360, 21361, 21364, 21366, 21370, 21371, 21373, 21375, 21376, 21377, 21378, 21384, 21388, 21389, 21391, 21395, 21400, 21401, 21402, 21405, 21406, 21410, 21411, 21412, 21413, 21414, 21415, 21416, 21417, 21418, 21419, 21422, 21424, 21425, 21426, 21428, 21430, 21433, 21436, 21437, 21438, 21439, 21441, 21443, 21445, 21448, 21452, 21453, 21455, 21459, 21464, 21465, 21466, 21468, 21469, 21470, 21472, 21474, 21475, 21476, 21481, 21482, 21486, 21489, 21491, 21492, 21494, 21496, 21498, 21500, 21501, 21503, 21504, 21505, 21506, 21509, 21511, 21515, 21517, 21518, 21519, 21523, 21524, 21527, 21528, 21530, 21531, 21532, 21533, 21534, 21536, 21537, 21539, 21540, 21541, 21543, 21544, 21545, 21546, 21547, 21549, 21555, 21557, 21558, 21559, 21560, 21562, 21564, 21567, 21568, 21570, 21576, 21577, 21578, 21579, 21582, 21583, 21584, 21589, 21590, 21593, 21594, 21595, 21597, 21599, 21600, 21601, 21603, 21610, 21611, 21612, 21613, 21614, 21618, 21620, 21625, 21626, 21628, 21631, 21632, 21636, 21639, 21642, 21643, 21647, 21648, 21649, 21650, 21651, 21652, 21653, 21659, 21661, 21662, 21666, 21667, 21668, 21671, 21672, 21673, 21677, 21678, 21679, 21680, 21683, 21684, 21685, 21686, 21687, 21689, 21690, 21691, 21692, 21693, 21694, 21696, 21699, 21700, 21701, 21702, 21703, 21705, 21706, 21715, 21716, 21719, 21720, 21721, 21722, 21723, 21724, 21726, 21727, 21729, 21731, 21733, 21734, 21737, 21740, 21742, 21743, 21744, 21745, 21747, 21750, 21751, 21753, 21755, 21756, 21757, 21758, 21759, 21760, 21764, 21765, 21770, 21771, 21773, 21775, 21776, 21778, 21779, 21780, 21782, 21783, 21784, 21785, 21788, 21789, 21790, 21791, 21792, 21793, 21794, 21797, 21798, 21800, 21802, 21803, 21809, 21810, 21811, 21815, 21816, 21817, 21819, 21820, 21822, 21824, 21829, 21832, 21833, 21836, 21837, 21838, 21839, 21841, 21842, 21843, 21845, 21846, 21847, 21849, 21850, 21851, 21853, 21857, 21862, 21864, 21867, 21868, 21871, 21872, 21874, 21876, 21880, 21881, 21882, 21883, 21884, 21887, 21888, 21889, 21890, 21893, 21894, 21896, 21897, 21900, 21903, 21904, 21905, 21906, 21908, 21910, 21911, 21912, 21914, 21915, 21916, 21918, 21919, 21920, 21921, 21922, 21924, 21925, 21927, 21928, 21930, 21932, 21934, 21935, 21936, 21937, 21938, 21939, 21940, 21941, 21943, 21946, 21947, 21949, 21950, 21951, 21952, 21954, 21957, 21962, 21963, 21965, 21966, 21967, 21968, 21969, 21970, 21973, 21974, 21978, 21985, 21987, 21989, 21994, 21995, 21998, 21999, 22001, 22006, 22008, 22009, 22014, 22015, 22016, 22018, 22021, 22022, 22024, 22025, 22026, 22029, 22031, 22032, 22035, 22038, 22039, 22040, 22043, 22045, 22046, 22047, 22051, 22055, 22057, 22058, 22059, 22060, 22061, 22062, 22063, 22069, 22072, 22073, 22076, 22077, 22078, 22079, 22080, 22081, 22084, 22085, 22087, 22088, 22089, 22092, 22096, 22099, 22100, 22101, 22102, 22103, 22104, 22114, 22115, 22116, 22118, 22120, 22121, 22122, 22125, 22126, 22129, 22130, 22131, 22133, 22134, 22135, 22137, 22138, 22139, 22140, 22142, 22143, 22145, 22146, 22149, 22151, 22152, 22153, 22155, 22156, 22157, 22159, 22160, 22163, 22168, 22169, 22170, 22174, 22175, 22178, 22179, 22180, 22182, 22183, 22184, 22185, 22186, 22189, 22190, 22191, 22194, 22197, 22198, 22200, 22205, 22207, 22208, 22210, 22214, 22217, 22218, 22219, 22222, 22224, 22225, 22227, 22232, 22233, 22236, 22238, 22239, 22240, 22242, 22246, 22247, 22249, 22250, 22251, 22252, 22253, 22255, 22256, 22257, 22263, 22272, 22274, 22276, 22277, 22279, 22280, 22282, 22283, 22284, 22285, 22288, 22289, 22292, 22295, 22296, 22297, 22298, 22299, 22300, 22302, 22303, 22306, 22308, 22309, 22314, 22316, 22320, 22323, 22325, 22328, 22331, 22332, 22334, 22335, 22336, 22337, 22339, 22344, 22345, 22346, 22348, 22349, 22351, 22354, 22355, 22358, 22359, 22360, 22362, 22363, 22364, 22366, 22367, 22368, 22372, 22374, 22379, 22383, 22385, 22389, 22392, 22395, 22396, 22397, 22400, 22402, 22403, 22404, 22406, 22409, 22411, 22412, 22413, 22414, 22416, 22417, 22419, 22420, 22422, 22425, 22426, 22428, 22429, 22430, 22432, 22433, 22436, 22438, 22439, 22440, 22441, 22443, 22446, 22449, 22450, 22451, 22452, 22454, 22455, 22463, 22464, 22465, 22466, 22467, 22469, 22471, 22472, 22473, 22474, 22476, 22477, 22480, 22481, 22483, 22484, 22486, 22487, 22489, 22490, 22491, 22493, 22494, 22495, 22496, 22497, 22503, 22504, 22506, 22508, 22510, 22512, 22515, 22518, 22520, 22530, 22532, 22533, 22534, 22535, 22536, 22537, 22540, 22541, 22542, 22544, 22545, 22546, 22550, 22553, 22555, 22557, 22558, 22560, 22561, 22562, 22563, 22565, 22566, 22568, 22571, 22572, 22573, 22574, 22575, 22576, 22577, 22582, 22583, 22584, 22585, 22586, 22588, 22589, 22590, 22592, 22595, 22596, 22597, 22600, 22601, 22602, 22603, 22604, 22606, 22608, 22609, 22613, 22614, 22615, 22616, 22617, 22618, 22620, 22623, 22624, 22625, 22628, 22631, 22632, 22633, 22634, 22636, 22639, 22640, 22641, 22644, 22645, 22649, 22650, 22654, 22656, 22662, 22663, 22664, 22665, 22667, 22668, 22669, 22670, 22671, 22672, 22674, 22675, 22677, 22679, 22681, 22682, 22683, 22685, 22688, 22689, 22693, 22694, 22698, 22700, 22701, 22702, 22706, 22709, 22711, 22712, 22714, 22715, 22716, 22720, 22721, 22722, 22725, 22726, 22728, 22731, 22732, 22734, 22737, 22738, 22742, 22743, 22744, 22745, 22748, 22750, 22752, 22754, 22756, 22759, 22761, 22764, 22766, 22771, 22773, 22774, 22775, 22776, 22777, 22779, 22780, 22783, 22784, 22785, 22789, 22791, 22796, 22797, 22798, 22800, 22801, 22803, 22804, 22805, 22808, 22809, 22816, 22820, 22823, 22824, 22826, 22829, 22830, 22831, 22836, 22837, 22838, 22842, 22843, 22844, 22848, 22849, 22850, 22852, 22853, 22856, 22857, 22858, 22859, 22860, 22862, 22863, 22864, 22868, 22872, 22876, 22877, 22878, 22880, 22881, 22884, 22885, 22886, 22887, 22891, 22892, 22893, 22895, 22896, 22898, 22899, 22900, 22901, 22902, 22903, 22904, 22906, 22907, 22908, 22910, 22911, 22914, 22916, 22918, 22920, 22921, 22923, 22924, 22928, 22930, 22931, 22933, 22936, 22938, 22942, 22943, 22947, 22948, 22949, 22951, 22952, 22953, 22957, 22958, 22960, 22961, 22962, 22964, 22965, 22967, 22972, 22974, 22975, 22977, 22979, 22980, 22982, 22983, 22984, 22985, 22987, 22989, 22990, 22991, 22994, 22997, 23002, 23005, 23006, 23007, 23009, 23011, 23013, 23015, 23017, 23018, 23021, 23022, 23023, 23024, 23026, 23030, 23031, 23032, 23036, 23037, 23038, 23039, 23040, 23041, 23042, 23045, 23047, 23049, 23051, 23052, 23055, 23057, 23058, 23060, 23061, 23062, 23063, 23064, 23065, 23066, 23070, 23072, 23075, 23080, 23081, 23082, 23083, 23084, 23087, 23089, 23097, 23100, 23103, 23104, 23105, 23106, 23108, 23109, 23115, 23118, 23119, 23121, 23122, 23123, 23125, 23127, 23134, 23135, 23136, 23138, 23141, 23142, 23145, 23147, 23148, 23149, 23153, 23155, 23159, 23163, 23164, 23169, 23170, 23172, 23174, 23175, 23176, 23178, 23179, 23180, 23181, 23182, 23183, 23184, 23187, 23188, 23190, 23193, 23194, 23198, 23200, 23203, 23204, 23205, 23207, 23208, 23211, 23212, 23214, 23215, 23219, 23220, 23221, 23222, 23225, 23226, 23227, 23228, 23230, 23231, 23232, 23233, 23234, 23236, 23237, 23239, 23241, 23244, 23245, 23248, 23249, 23252, 23255, 23256, 23258, 23260, 23264, 23269, 23272, 23274, 23277, 23278, 23279, 23281, 23282, 23283, 23284, 23285, 23286, 23287, 23288, 23289, 23291, 23292, 23294, 23295, 23299, 23300, 23301, 23302, 23303, 23305, 23306, 23309, 23311, 23312, 23316, 23317, 23318, 23320, 23321, 23324, 23325, 23326, 23327, 23328, 23329, 23330, 23331, 23332, 23333, 23338, 23350, 23353, 23354, 23359, 23361, 23362, 23363, 23364, 23367, 23369, 23370, 23371, 23378, 23381, 23383, 23385, 23386, 23387, 23388, 23390, 23392, 23393, 23394, 23395, 23396, 23397, 23398, 23399, 23401, 23402, 23403, 23404, 23406, 23413, 23414, 23418, 23420, 23422, 23423, 23425, 23430, 23431, 23433, 23434, 23435, 23436, 23437, 23439, 23441, 23442, 23443, 23444, 23445, 23446, 23448, 23451, 23452, 23453, 23454, 23455, 23456, 23457, 23458, 23459, 23460, 23462, 23464, 23467, 23470, 23474, 23475, 23478, 23479, 23480, 23481, 23482, 23483, 23484, 23485, 23486, 23487, 23489, 23493, 23494, 23500, 23501, 23505, 23506, 23508, 23510, 23513, 23515, 23517, 23518, 23519, 23521, 23524, 23525, 23526, 23528, 23532, 23533, 23535, 23537, 23538, 23540, 23541, 23543, 23545, 23546, 23547, 23548, 23553, 23555, 23556, 23558, 23559, 23560, 23563, 23565, 23568, 23571, 23572, 23573, 23575, 23579, 23580, 23581, 23583, 23584, 23586, 23587, 23588, 23589, 23591, 23592, 23593, 23595, 23596, 23597, 23599, 23602, 23605, 23606, 23608, 23610, 23613, 23616, 23617, 23618, 23620, 23621, 23622, 23623, 23625, 23626, 23627, 23628, 23630, 23632, 23633, 23635, 23636, 23637, 23640, 23644, 23646, 23648, 23650, 23653, 23654, 23655, 23658, 23659, 23663, 23664, 23665, 23667, 23668, 23671, 23672, 23673, 23677, 23679, 23684, 23687, 23688, 23689, 23690, 23694, 23695, 23697, 23698, 23703, 23704, 23705, 23706, 23709, 23711, 23715, 23716, 23717, 23719, 23721, 23722, 23723, 23725, 23727, 23729, 23732, 23733, 23736, 23737, 23738, 23742, 23745, 23746, 23748, 23751, 23753, 23754, 23755, 23756, 23757, 23758, 23759, 23761, 23762, 23764, 23768, 23769, 23772, 23775, 23776, 23779, 23781, 23783, 23784, 23785, 23786, 23791, 23792, 23794, 23795, 23796, 23797, 23798, 23799, 23800, 23802, 23803, 23804, 23805, 23808, 23813, 23815, 23816, 23821, 23823, 23825, 23827, 23828, 23829, 23832, 23834, 23836, 23840, 23841, 23842, 23843, 23845, 23849, 23850, 23851, 23852, 23854, 23855, 23856, 23860, 23863, 23865, 23866, 23867, 23868, 23870, 23872, 23875, 23877, 23879, 23881, 23883, 23886, 23887, 23889, 23891, 23895, 23897, 23898, 23899, 23901, 23906, 23907, 23910, 23911, 23912, 23914, 23916, 23917, 23918, 23919, 23920, 23925, 23927, 23928, 23929, 23930, 23933, 23935, 23936, 23937, 23938, 23940, 23941, 23943, 23944, 23946, 23949, 23955, 23956, 23957, 23963, 23964, 23967, 23971, 23973, 23977, 23980, 23982, 23983, 23987, 23988, 23990, 23991, 23993, 23994, 23995, 23997, 23998, 23999, 24001, 24003, 24005, 24006, 24007, 24009, 24013, 24014, 24015, 24016, 24017, 24018, 24019, 24020, 24022, 24023, 24024, 24027, 24028, 24031, 24034, 24035, 24036, 24038, 24042, 24043, 24044, 24046, 24049, 24052, 24058, 24059, 24060, 24062, 24064, 24067, 24068, 24069, 24070, 24072, 24074, 24079, 24080, 24082, 24084, 24085, 24086, 24087, 24088, 24094, 24095, 24096, 24099, 24100, 24101, 24102, 24103, 24104, 24105, 24107, 24109, 24110, 24111, 24113, 24114, 24116, 24117, 24118, 24119, 24120, 24121, 24122, 24125, 24126, 24127, 24129, 24130, 24131, 24132, 24140, 24142, 24144, 24147, 24150, 24151, 24156, 24157, 24161, 24162, 24163, 24166, 24167, 24168, 24169, 24171, 24172, 24174, 24175, 24177, 24184, 24188, 24191, 24192, 24193, 24195, 24198, 24199, 24200, 24202, 24204, 24205, 24206, 24207, 24209, 24210, 24212, 24213, 24215, 24218, 24220, 24221, 24224, 24226, 24228, 24229, 24230, 24231, 24232, 24233, 24234, 24235, 24236, 24237, 24239, 24241, 24242, 24243, 24244, 24245, 24246, 24247, 24251, 24256, 24257, 24263, 24264, 24267, 24269, 24270, 24271, 24273, 24276, 24277, 24279, 24281, 24283, 24284, 24285, 24286, 24287, 24288, 24290, 24291, 24292, 24294, 24297, 24298, 24304, 24305, 24309, 24310, 24312, 24313, 24315, 24319, 24320, 24324, 24325, 24326, 24327, 24328, 24329, 24331, 24335, 24338, 24339, 24340, 24341, 24343, 24345, 24351, 24355, 24362, 24363, 24366, 24368, 24370, 24372, 24373, 24376, 24378, 24379, 24380, 24381, 24384, 24386, 24387, 24388, 24390, 24391, 24397, 24398, 24399, 24400, 24402, 24403, 24404, 24405, 24407, 24408, 24409, 24415, 24425, 24426, 24429, 24430, 24431, 24434, 24436, 24437, 24438, 24442, 24443, 24444, 24445, 24446, 24449, 24453, 24455, 24457, 24459, 24461, 24462, 24464, 24467, 24468, 24469, 24470, 24474, 24475, 24477, 24479, 24480, 24482, 24483, 24484, 24487, 24488, 24490, 24492, 24493, 24496, 24499, 24501, 24503, 24505, 24507, 24509, 24510, 24515, 24516, 24517, 24518, 24519, 24520, 24524, 24525, 24526, 24527, 24528, 24529, 24530, 24531, 24533, 24536, 24539, 24542, 24546, 24547, 24548, 24550, 24554, 24555, 24557, 24558, 24559, 24562, 24563, 24564, 24565, 24566, 24569, 24571, 24572, 24573, 24575, 24577, 24581, 24582, 24583, 24587, 24588, 24590, 24593, 24595, 24598, 24599, 24600, 24602, 24604, 24605, 24606, 24607, 24608, 24609, 24611, 24612, 24614, 24616, 24618, 24620, 24621, 24622, 24623, 24624, 24627, 24628, 24630, 24631, 24632, 24634, 24637, 24638, 24639, 24643, 24645, 24646, 24647, 24649, 24650, 24651, 24653, 24654, 24657, 24658, 24660, 24661, 24664, 24665, 24666, 24669, 24671, 24675, 24677, 24679, 24680, 24682, 24684, 24685, 24686, 24687, 24688, 24690, 24691, 24694, 24695, 24696, 24698, 24699, 24701, 24702, 24704, 24705, 24708, 24712, 24713, 24716, 24720, 24722, 24723, 24725, 24728, 24730, 24732, 24734, 24735, 24736, 24737, 24739, 24741, 24742, 24743, 24745, 24749, 24751, 24753, 24755, 24756, 24759, 24760, 24761, 24762, 24763, 24765, 24768, 24769, 24770, 24772, 24774, 24775, 24780, 24781, 24784, 24785, 24787, 24788, 24789, 24792, 24793, 24794, 24796, 24797, 24799, 24800, 24801, 24805, 24806, 24809, 24811, 24813, 24815, 24816, 24818, 24819, 24822, 24823, 24824, 24825, 24826, 24827, 24828, 24831, 24832, 24833, 24834, 24835, 24837, 24841, 24842, 24843, 24845, 24846, 24848, 24849, 24850, 24852, 24855, 24857, 24858, 24862, 24864, 24865, 24868, 24869, 24870, 24872, 24873, 24874, 24876, 24877, 24878, 24879, 24880, 24884, 24887, 24888, 24889, 24891, 24893, 24894, 24895, 24896, 24900, 24902, 24907, 24908, 24909, 24910, 24911, 24912, 24914, 24915, 24916, 24917, 24920, 24921, 24924, 24925, 24926, 24927, 24934, 24935, 24937, 24944, 24945, 24946, 24947, 24948, 24949, 24950, 24954, 24955, 24956, 24957, 24958, 24960, 24962, 24964, 24966, 24967, 24976, 24977, 24982, 24983, 24986, 24990, 24991, 24993, 24994, 24995, 24996, 24999, 25000, 25002, 25003, 25005, 25006, 25007, 25008, 25009, 25013, 25014, 25016, 25017, 25018, 25019, 25020, 25021, 25024, 25025, 25026, 25027, 25032, 25034, 25035, 25036, 25037, 25038, 25041, 25042, 25044, 25045, 25046, 25047, 25050, 25053, 25054, 25056, 25058, 25059, 25060, 25062, 25063, 25064, 25069, 25070, 25073, 25074, 25075, 25076, 25077, 25079, 25081, 25082, 25083, 25087, 25091, 25093, 25094, 25098, 25101, 25102, 25106, 25107, 25108, 25110, 25114, 25116, 25117, 25119, 25120, 25121, 25122, 25123, 25124, 25125, 25126, 25129, 25132, 25134, 25136, 25139, 25140, 25143, 25145, 25146, 25147, 25149, 25151, 25154, 25155, 25158, 25159, 25160, 25161, 25162, 25164, 25166, 25169, 25171, 25173, 25175, 25176, 25179, 25181, 25182, 25183, 25184, 25187, 25190, 25192, 25194, 25197, 25198, 25200, 25201, 25202, 25205, 25206, 25209, 25213, 25216, 25223, 25227, 25228, 25230, 25231, 25232, 25234, 25235, 25236, 25237, 25238, 25240, 25241, 25243, 25245, 25247, 25251, 25252, 25254, 25255, 25256, 25258, 25260, 25269, 25273, 25274, 25275, 25277, 25278, 25280, 25283, 25285, 25286, 25289, 25290, 25292, 25293, 25294, 25295, 25296, 25298, 25299, 25300, 25301, 25302, 25303, 25304, 25305, 25306, 25307, 25309, 25311, 25312, 25313, 25315, 25317, 25319, 25321, 25323, 25324, 25326, 25329, 25330, 25333, 25335, 25336, 25337, 25339, 25340, 25343, 25344, 25350, 25354, 25356, 25358, 25360, 25362, 25364, 25366, 25367, 25370, 25371, 25374, 25375, 25376, 25377, 25378, 25379, 25381, 25383, 25384, 25385, 25386, 25388, 25389, 25390, 25391, 25392, 25393, 25395, 25397, 25399, 25402, 25409, 25411, 25412, 25413, 25414, 25416, 25418, 25419, 25420, 25422, 25423, 25425, 25427, 25429, 25430, 25433, 25434, 25436, 25437, 25440, 25442, 25444, 25449, 25453, 25454, 25455, 25456, 25457, 25458, 25459, 25462, 25463, 25464, 25466, 25467, 25469, 25471, 25472, 25475, 25478, 25480, 25482, 25484, 25488, 25489, 25490, 25491, 25494, 25496, 25498, 25501, 25503, 25505, 25506, 25507, 25511, 25512, 25514, 25515, 25516, 25518, 25520, 25522, 25526, 25528, 25529, 25530, 25531, 25532, 25533, 25535, 25538, 25541, 25542, 25543, 25545, 25549, 25551, 25552, 25553, 25555, 25557, 25558, 25560, 25564, 25566, 25573, 25574, 25577, 25578, 25584, 25589, 25590, 25592, 25593, 25595, 25596, 25597, 25598, 25600, 25601, 25602, 25605, 25607, 25610, 25615, 25616, 25617, 25618, 25620, 25622, 25624, 25630, 25631, 25634, 25636, 25637, 25638, 25640, 25641, 25642, 25643, 25644, 25645, 25647, 25651, 25652, 25653, 25654, 25655, 25656, 25657, 25658, 25659, 25660, 25661, 25662, 25667, 25668, 25670, 25673, 25676, 25677, 25679, 25680, 25682, 25683, 25684, 25685, 25687, 25688, 25689, 25690, 25692, 25694, 25697, 25698, 25699, 25701, 25702, 25703, 25704, 25706, 25709, 25710, 25711, 25712, 25713, 25714, 25716, 25717, 25721, 25722, 25723, 25724, 25726, 25728, 25733, 25735, 25740, 25741, 25742, 25743, 25744, 25745, 25746, 25747, 25748, 25750, 25751, 25754, 25755, 25758, 25759, 25760, 25761, 25762, 25763, 25764, 25766, 25767, 25768, 25769, 25771, 25772, 25773, 25775, 25776, 25777, 25779, 25780, 25781, 25782, 25783, 25785, 25789, 25790, 25791, 25792, 25793, 25794, 25796, 25798, 25799, 25800, 25801, 25802, 25808, 25809, 25810, 25811, 25818, 25819, 25820, 25826, 25827, 25829, 25831, 25832, 25835, 25836, 25837, 25839, 25842, 25843, 25844, 25846, 25847, 25850, 25853, 25854, 25855, 25857, 25861, 25862, 25863, 25864, 25865, 25866, 25867, 25868, 25869, 25871, 25873, 25876, 25877, 25878, 25879, 25880, 25881, 25884, 25885, 25886, 25888, 25891, 25894, 25895, 25897, 25899, 25900, 25902, 25906, 25907, 25908, 25909, 25910, 25914, 25915, 25916, 25918, 25919, 25920, 25921, 25924, 25925, 25926, 25927, 25928, 25929, 25930, 25932, 25933, 25934, 25935, 25937, 25938, 25940, 25945, 25949, 25950, 25951, 25952, 25953, 25960, 25962, 25964, 25965, 25967, 25968, 25971, 25973, 25976, 25979, 25981, 25984, 25985, 25986, 25988, 25990, 25992, 25993, 25995, 25997, 25998, 26000, 26001, 26004, 26005, 26006, 26008, 26010, 26011, 26012, 26013, 26015, 26018, 26019, 26020, 26021, 26022, 26025, 26028, 26034, 26037, 26038, 26039, 26040, 26042, 26044, 26045, 26047, 26049, 26050, 26051, 26054, 26055, 26057, 26059, 26060, 26061, 26062, 26063, 26064, 26066, 26068, 26069, 26070, 26071, 26072, 26074, 26076, 26078, 26080, 26081, 26082, 26084, 26086, 26087, 26092, 26093, 26094, 26097, 26098, 26100, 26101, 26104, 26105, 26107, 26109, 26110, 26111, 26112, 26113, 26117, 26118, 26121, 26123, 26124, 26128, 26133, 26137, 26141, 26142, 26144, 26147, 26148, 26150, 26152, 26153, 26154, 26155, 26156, 26157, 26158, 26160, 26161, 26167, 26170, 26171, 26172, 26175, 26178, 26180, 26183, 26186, 26187, 26188, 26190, 26192, 26194, 26195, 26196, 26197, 26198, 26199, 26200, 26201, 26205, 26206, 26207, 26208, 26211, 26212, 26214, 26216, 26223, 26225, 26226, 26227, 26230, 26235, 26239, 26241, 26244, 26246, 26248, 26251, 26252, 26255, 26260, 26263, 26264, 26265, 26266, 26267, 26269, 26270, 26273, 26274, 26276, 26279, 26281, 26282, 26284, 26287, 26288, 26289, 26290, 26291, 26292, 26293, 26294, 26298, 26301, 26303, 26304, 26306, 26308, 26310, 26311, 26314, 26315, 26320, 26321, 26322, 26323, 26324, 26327, 26328, 26329, 26334, 26335, 26337, 26338, 26339, 26340, 26341, 26342, 26343, 26344, 26345, 26347, 26348, 26352, 26356, 26357, 26358, 26359, 26361, 26363, 26364, 26365, 26366, 26367, 26369, 26370, 26372, 26376, 26378, 26379, 26380, 26381, 26382, 26383, 26385, 26386, 26391, 26392, 26393, 26395, 26397, 26399, 26400, 26402, 26405, 26406, 26410, 26411, 26412, 26413, 26414, 26415, 26416, 26417, 26418, 26419, 26420, 26421, 26422, 26423, 26424, 26426, 26428, 26429, 26430, 26431, 26432, 26434, 26435, 26437, 26439, 26440, 26441, 26444, 26445, 26446, 26448, 26449, 26453, 26454, 26455, 26459, 26460, 26461, 26462, 26463, 26472, 26473, 26474, 26475, 26476, 26478, 26483, 26484, 26485, 26487, 26488, 26489, 26492, 26494, 26495, 26499, 26502, 26504, 26505, 26506, 26507, 26509, 26511, 26512, 26513, 26514, 26515, 26516, 26517, 26518, 26519, 26522, 26524, 26525, 26529, 26530, 26535, 26541, 26542, 26543, 26544, 26546, 26547, 26548, 26550, 26553, 26554, 26555, 26556, 26557, 26559, 26560, 26563, 26564, 26565, 26570, 26571, 26573, 26575, 26577, 26580, 26582, 26586, 26587, 26589, 26590, 26591, 26592, 26593, 26594, 26597, 26600, 26606, 26607, 26608, 26616, 26617, 26620, 26621, 26622, 26626, 26627, 26628, 26630, 26631, 26632, 26633, 26635, 26636, 26637, 26638, 26641, 26642, 26643, 26644, 26645, 26647, 26649, 26655, 26656, 26657, 26666, 26667, 26668, 26670, 26672, 26676, 26677, 26678, 26681, 26684, 26692, 26693, 26694, 26695, 26696, 26698, 26700, 26702, 26703, 26704, 26706, 26707, 26708, 26709, 26710, 26711, 26712, 26713, 26715, 26717, 26719, 26720, 26721, 26722, 26724, 26725, 26728, 26729, 26730, 26731, 26733, 26735, 26736, 26737, 26740, 26741, 26742, 26743, 26744, 26745, 26746, 26749, 26752, 26754, 26755, 26756, 26761, 26762, 26763, 26765, 26768, 26769, 26772, 26773, 26774, 26775, 26778, 26784, 26785, 26786, 26787, 26788, 26789, 26792, 26793, 26794, 26795, 26796, 26800, 26801, 26802, 26803, 26807, 26808, 26810, 26811, 26812, 26815, 26816, 26817, 26819, 26822, 26828, 26829, 26830, 26831, 26837, 26839, 26841, 26843, 26849, 26850, 26853, 26854, 26857, 26862, 26866, 26867, 26873, 26874, 26875, 26878, 26882, 26883, 26890, 26891, 26892, 26896, 26897, 26899, 26901, 26902, 26907, 26909, 26910, 26912, 26913, 26914, 26915, 26918, 26921, 26923, 26925, 26926, 26929, 26930, 26931, 26932, 26934, 26935, 26936, 26943, 26947, 26948, 26949, 26950, 26951, 26952, 26954, 26955, 26957, 26960, 26962, 26963, 26965, 26966, 26967, 26968, 26971, 26972, 26973, 26974, 26975, 26979, 26980, 26981, 26984, 26986, 26990, 26991, 26994, 26998, 27001, 27003, 27004, 27006, 27007, 27008, 27009, 27010, 27012, 27013, 27016, 27017, 27022, 27023, 27024, 27025, 27027, 27033, 27034, 27035, 27037, 27038, 27039, 27040, 27041, 27043, 27047, 27048, 27049, 27050, 27051, 27052, 27054, 27057, 27059, 27060, 27066, 27067, 27068, 27071, 27073, 27074, 27076, 27077, 27078, 27081, 27082, 27083, 27088, 27091, 27093, 27096, 27097, 27101, 27103, 27104, 27105, 27106, 27111, 27112, 27116, 27117, 27120, 27122, 27123, 27124, 27128, 27129, 27130, 27131, 27132, 27135, 27136, 27137, 27139, 27140, 27142, 27147, 27149, 27152, 27153, 27154, 27155, 27156, 27157, 27158, 27160, 27162, 27163, 27165, 27166, 27167, 27169, 27170, 27172, 27173, 27177, 27181, 27182, 27183, 27184, 27185, 27186, 27188, 27189, 27194, 27196, 27197, 27198, 27200, 27201, 27202, 27204, 27206, 27207, 27210, 27212, 27213, 27216, 27218, 27220, 27221, 27223, 27224, 27226, 27229, 27231, 27232, 27235, 27237, 27238, 27239, 27240, 27243, 27244, 27245, 27246, 27247, 27248, 27249, 27252, 27255, 27256, 27257, 27258, 27259, 27263, 27264, 27266, 27268, 27271, 27276, 27279, 27281, 27282, 27285, 27286, 27287, 27290, 27293, 27294, 27296, 27297, 27298, 27299, 27300, 27302, 27303, 27306, 27309, 27310, 27311, 27312, 27313, 27319, 27321, 27322, 27323, 27326, 27327, 27328, 27331, 27334, 27335, 27336, 27339, 27340, 27341, 27342, 27346, 27347, 27350, 27351, 27352, 27356, 27357, 27358, 27361, 27364, 27365, 27368, 27372, 27373, 27374, 27376, 27381, 27385, 27388, 27389, 27393, 27399, 27400, 27405, 27407, 27408, 27409, 27410, 27412, 27413, 27414, 27415, 27416, 27418, 27419, 27421, 27423, 27427, 27428, 27430, 27431, 27436, 27437, 27438, 27439, 27444, 27445, 27446, 27447, 27449, 27450, 27452, 27453, 27454, 27456, 27463, 27464, 27465, 27466, 27467, 27468, 27469, 27471, 27472, 27477, 27478, 27480, 27481, 27482, 27483, 27485, 27488, 27491, 27492, 27493, 27495, 27496, 27497, 27498, 27502, 27503, 27504, 27506, 27507, 27509, 27510, 27513, 27517, 27518, 27519, 27521, 27525, 27527, 27529, 27533, 27534, 27535, 27537, 27540, 27547, 27549, 27550, 27554, 27555, 27556, 27557, 27558, 27559, 27560, 27561, 27563, 27566, 27569, 27570, 27574, 27575, 27577, 27578, 27580, 27581, 27585, 27589, 27590, 27591, 27592, 27593, 27594, 27596, 27597, 27598, 27599, 27600, 27601, 27604, 27605, 27606, 27607, 27608, 27609, 27612, 27613, 27614, 27615, 27618, 27624, 27625, 27627, 27629, 27630, 27631, 27633, 27634, 27635, 27636, 27637, 27638, 27642, 27643, 27644, 27645, 27649, 27650, 27652, 27653, 27654, 27656, 27657, 27658, 27659, 27660, 27661, 27663, 27665, 27667, 27668, 27671, 27673, 27678, 27681, 27682, 27686, 27687, 27688, 27689, 27693, 27695, 27697, 27698, 27699, 27701, 27703, 27706, 27708, 27712, 27713, 27715, 27716, 27717, 27721, 27722, 27724, 27725, 27726, 27727, 27729, 27730, 27735, 27737, 27738, 27740, 27741, 27745, 27746, 27753, 27755, 27757, 27758, 27759, 27761, 27767, 27771, 27772, 27776, 27780, 27781, 27782, 27783, 27785, 27786, 27790, 27792, 27793, 27795, 27798, 27799, 27800, 27801, 27802, 27803, 27808, 27811, 27812, 27815, 27816, 27821, 27822, 27823, 27824, 27828, 27829, 27830, 27831, 27832, 27834, 27838, 27844, 27845, 27848, 27849, 27850, 27853, 27855, 27856, 27857, 27858, 27859, 27860, 27861, 27862, 27864, 27865, 27867, 27871, 27873, 27874, 27875, 27877, 27879, 27880, 27881, 27882, 27883, 27885, 27886, 27887, 27888, 27889, 27890, 27891, 27892, 27893, 27895, 27896, 27898, 27902, 27903, 27906, 27911, 27912, 27918, 27919, 27920, 27923, 27924, 27926, 27929, 27930, 27931, 27932, 27938, 27939, 27941, 27944, 27945, 27948, 27949, 27951, 27952, 27954, 27957, 27958, 27961, 27962, 27963, 27964, 27965, 27966, 27967, 27968, 27972, 27973, 27974, 27976, 27977, 27978, 27979, 27981, 27982, 27989, 27990, 27991, 27992, 27993, 27994, 27995, 27996, 27997, 27998, 28000, 28003, 28004, 28005, 28006, 28007, 28010, 28012, 28013, 28014, 28015, 28018, 28019, 28020, 28021, 28023, 28025, 28028, 28030, 28034, 28035, 28036, 28037, 28038, 28039, 28040, 28041, 28043, 28045, 28047, 28048, 28049, 28050, 28051, 28052, 28053, 28054, 28055, 28058, 28060, 28061, 28062, 28063, 28065, 28066, 28067, 28068, 28069, 28072, 28073, 28074, 28075, 28076, 28078, 28079, 28080, 28082, 28084, 28088, 28089, 28090, 28091, 28094, 28096, 28097, 28098, 28100, 28103, 28105, 28106, 28107, 28108, 28111, 28113, 28114, 28116, 28117, 28118, 28119, 28121, 28126, 28127, 28128, 28130, 28133, 28134, 28135, 28137, 28138, 28139, 28141, 28144, 28146, 28147, 28148, 28149, 28152, 28153, 28154, 28155, 28157, 28158, 28159, 28160, 28162, 28163, 28166, 28168, 28169, 28170, 28171, 28172, 28175, 28176, 28177, 28178, 28180, 28181, 28182, 28184, 28185, 28187, 28188, 28189, 28190, 28191, 28192, 28195, 28197, 28200, 28201, 28202, 28203, 28205, 28206, 28207, 28208, 28209, 28214, 28215, 28219, 28223, 28225, 28226, 28227, 28228, 28231, 28234, 28235, 28236, 28237, 28239, 28242, 28243, 28246, 28254, 28255, 28257, 28258, 28260, 28261, 28262, 28263, 28264, 28266, 28267, 28272, 28273, 28275, 28276, 28277, 28278, 28281, 28282, 28288, 28290, 28292, 28293, 28294, 28296, 28298, 28302, 28303, 28305, 28307, 28309, 28310, 28315, 28316, 28317, 28318, 28320, 28321, 28323, 28324, 28325, 28326, 28327, 28329, 28331, 28332, 28333, 28334, 28335, 28337, 28338, 28340, 28342, 28345, 28347, 28348, 28351, 28356, 28357, 28358, 28359, 28360, 28361, 28364, 28366, 28368, 28370, 28371, 28373, 28374, 28375, 28377, 28381, 28383, 28384, 28385, 28387, 28389, 28391, 28392, 28397, 28398, 28400, 28401, 28402, 28403, 28404, 28405, 28408, 28410, 28413, 28415, 28416, 28422, 28427, 28430, 28432, 28435, 28436, 28438, 28439, 28441, 28442, 28443, 28444, 28445, 28451, 28453, 28458, 28459, 28460, 28461, 28462, 28463, 28464, 28465, 28466, 28470, 28471, 28472, 28473, 28474, 28475, 28477, 28479, 28481, 28482, 28483, 28484, 28487, 28491, 28492, 28493, 28494, 28496, 28497, 28499, 28501, 28503, 28504, 28506, 28507, 28508, 28509, 28511, 28512, 28515, 28516, 28517, 28518, 28519, 28520, 28521, 28523, 28525, 28527, 28529, 28530, 28532, 28534, 28537, 28538, 28541, 28542, 28544, 28546, 28549, 28553, 28557, 28559, 28562, 28563, 28567, 28568, 28569, 28573, 28575, 28577, 28579, 28580, 28583, 28584, 28585, 28587, 28590, 28591, 28593, 28595, 28596, 28597, 28600, 28604, 28606, 28607, 28608, 28610, 28611, 28612, 28614, 28620, 28623, 28625, 28626, 28627, 28630, 28631, 28632, 28634, 28635, 28636, 28637, 28639, 28642, 28643, 28644, 28645, 28648, 28653, 28654, 28655, 28659, 28661, 28663, 28664, 28668, 28671, 28672, 28675, 28679, 28680, 28681, 28683, 28684, 28688, 28690, 28691, 28693, 28694, 28695, 28696, 28697, 28700, 28701, 28703, 28704, 28706, 28711, 28713, 28715, 28716, 28717, 28719, 28722, 28727, 28729, 28730, 28732, 28733, 28735, 28736, 28737, 28738, 28739, 28740, 28741, 28743, 28745, 28747, 28748, 28749, 28750, 28754, 28755, 28756, 28757, 28758, 28760, 28762, 28764, 28765, 28767, 28773, 28775, 28776, 28777, 28778, 28781, 28782, 28783, 28786, 28789, 28790, 28793, 28794, 28795, 28796, 28798, 28800, 28803, 28806, 28807, 28808, 28809, 28812, 28816, 28818, 28821, 28823, 28825, 28826, 28828, 28829, 28831, 28833, 28835, 28836, 28838, 28839, 28840, 28841, 28843, 28845, 28846, 28848, 28849, 28852, 28853, 28854, 28858, 28862, 28863, 28864, 28867, 28869, 28870, 28872, 28874, 28875, 28876, 28878, 28879, 28880, 28883, 28884, 28885, 28886, 28889, 28890, 28891, 28892, 28893, 28894, 28895, 28897, 28900, 28902, 28903, 28904, 28910, 28911, 28912, 28914, 28920, 28921, 28922, 28924, 28926, 28927, 28928, 28929, 28930, 28934, 28935, 28937, 28939, 28940, 28942, 28943, 28944, 28945, 28948, 28949, 28950, 28957, 28958, 28960, 28961, 28963, 28965, 28970, 28972, 28976, 28977, 28979, 28981, 28983, 28985, 28990, 28991, 28992, 28995, 28996, 28998, 29000, 29001, 29002, 29003, 29004, 29005, 29007, 29010, 29011, 29012, 29013, 29014, 29016, 29017, 29018, 29019, 29020, 29021, 29022, 29024, 29027, 29029, 29035, 29036, 29038, 29039, 29040, 29041, 29042, 29043, 29044, 29045, 29046, 29048, 29049, 29050, 29051, 29052, 29053, 29054, 29056, 29057, 29059, 29060, 29061, 29062, 29065, 29068, 29070, 29071, 29073, 29076, 29080, 29081, 29084, 29085, 29087, 29090, 29092, 29093, 29094, 29095, 29096, 29097, 29102, 29103, 29105, 29106, 29108, 29109, 29113, 29114, 29115, 29117, 29118, 29120, 29122, 29123, 29124, 29125, 29127, 29130, 29133, 29136, 29137, 29139, 29141, 29144, 29145, 29147, 29149, 29150, 29151, 29152, 29154, 29155, 29159, 29161, 29162, 29164, 29166, 29167, 29168, 29170, 29171, 29174, 29175, 29177, 29179, 29180, 29183, 29184, 29185, 29186, 29188, 29190, 29191, 29194, 29195, 29196, 29198, 29199, 29200, 29203, 29204, 29205, 29208, 29209, 29217, 29220, 29221, 29222, 29223, 29226, 29228, 29229, 29230, 29231, 29235, 29236, 29237, 29239, 29241, 29242, 29243, 29245, 29247, 29248, 29249, 29250, 29251, 29252, 29253, 29257, 29258, 29259, 29261, 29263, 29265, 29266, 29267, 29269, 29272, 29274, 29275, 29277, 29283, 29284, 29286, 29287, 29290, 29292, 29293, 29296, 29297, 29299, 29300, 29301, 29302, 29304, 29306, 29309, 29311, 29312, 29314, 29315, 29319, 29321, 29322, 29323, 29330, 29340, 29341, 29343, 29344, 29347, 29349, 29350, 29351, 29353, 29355, 29356, 29358, 29361, 29362, 29363, 29364, 29365, 29366, 29368, 29371, 29372, 29374, 29377, 29379, 29382, 29383, 29384, 29387, 29390, 29392, 29393, 29394, 29395, 29396, 29397, 29399, 29400, 29402, 29403, 29407, 29408, 29410, 29411, 29412, 29414, 29415, 29416, 29418, 29419, 29420, 29421, 29424, 29425, 29427, 29429, 29430, 29431, 29432, 29434, 29437, 29439, 29441, 29442, 29445, 29446, 29448, 29449, 29450, 29451, 29455, 29456, 29457, 29465, 29468, 29470, 29473, 29474, 29476, 29477, 29484, 29486, 29487, 29488, 29489, 29490, 29491, 29494, 29495, 29497, 29502, 29504, 29506, 29507, 29510, 29511, 29512, 29514, 29515, 29516, 29517, 29519, 29522, 29525, 29527, 29528, 29530, 29531, 29533, 29535, 29538, 29540, 29541, 29544, 29546, 29548, 29552, 29553, 29554, 29557, 29558, 29562, 29563, 29564, 29565, 29567, 29568, 29569, 29570, 29571, 29573, 29575, 29576, 29577, 29578, 29579, 29580, 29583, 29584, 29585, 29587, 29588, 29589, 29590, 29592, 29594, 29595, 29596, 29600, 29601, 29602, 29604, 29606, 29610, 29611, 29612, 29613, 29615, 29616, 29618, 29619, 29623, 29624, 29627, 29630, 29632, 29633, 29634, 29635, 29636, 29637, 29639, 29640, 29642, 29644, 29646, 29647, 29648, 29649, 29650, 29651, 29652, 29655, 29656, 29657, 29658, 29660, 29661, 29662, 29664, 29665, 29667, 29670, 29671, 29677, 29678, 29682, 29683, 29684, 29686, 29687, 29688, 29690, 29693, 29694, 29696, 29697, 29698, 29700, 29701, 29702, 29704, 29706, 29707, 29708, 29710, 29711, 29714, 29717, 29718, 29719, 29720, 29721, 29723, 29724, 29726, 29727, 29728, 29729, 29732, 29735, 29737, 29741, 29744, 29745, 29746, 29749, 29750, 29751, 29756, 29757, 29759, 29762, 29763, 29764, 29765, 29766, 29768, 29769, 29770, 29774, 29775, 29776, 29777, 29780, 29782, 29783, 29784, 29785, 29786, 29787, 29789, 29793, 29795, 29796, 29797, 29798, 29799, 29800, 29801, 29802, 29805, 29806, 29807, 29808, 29812, 29814, 29816, 29817, 29819, 29822, 29824, 29826, 29827, 29829, 29831, 29832, 29833, 29835, 29837, 29838, 29842, 29843, 29845, 29847, 29849, 29852, 29853, 29854, 29855, 29858, 29859, 29860, 29863, 29865, 29866, 29869, 29870, 29871, 29873, 29874, 29879, 29880, 29882, 29884, 29888, 29889, 29892, 29893, 29894, 29895, 29896, 29897, 29899, 29900, 29902, 29903, 29904, 29906, 29907, 29909, 29911, 29913, 29915, 29916, 29917, 29918, 29919, 29920, 29921, 29922, 29923, 29925, 29927, 29928, 29931, 29932, 29933, 29934, 29935, 29939, 29940, 29941, 29942, 29946, 29947, 29949, 29954, 29957, 29958, 29959, 29960, 29961, 29962, 29963, 29964, 29965, 29966, 29968, 29971, 29973, 29974, 29976, 29977, 29979, 29981, 29982, 29983, 29984, 29986, 29987, 29989, 29991, 29992, 29993, 29997, 29998, 29999, 30000, 30006, 30007, 30012, 30013, 30014, 30016, 30017, 30018, 30019, 30020, 30023, 30025, 30029, 30031, 30035, 30036, 30038, 30039, 30042, 30043, 30045, 30046, 30047, 30049, 30051, 30052, 30056, 30057, 30061, 30063, 30065, 30067, 30070, 30071, 30072, 30073, 30075, 30076, 30078, 30080, 30081, 30083, 30084, 30085, 30086, 30087, 30089, 30091, 30097, 30098, 30102, 30103, 30104, 30107, 30108, 30109, 30111, 30112, 30115, 30118, 30119, 30120, 30122, 30124, 30125, 30126, 30127, 30129, 30130, 30131, 30134, 30135, 30137, 30138, 30139, 30141, 30142, 30145, 30146, 30148, 30149, 30150, 30151, 30155, 30156, 30161, 30162, 30164, 30166, 30167, 30168, 30170, 30172, 30173, 30174, 30175, 30177, 30179, 30180, 30182, 30183, 30185, 30186, 30188, 30191, 30194, 30195, 30196, 30197, 30198, 30199, 30200, 30201, 30202, 30204, 30207, 30209, 30212, 30219, 30220, 30226, 30227, 30230, 30233, 30234, 30237, 30239, 30244, 30245, 30246, 30250, 30251, 30252, 30253, 30255, 30256, 30258, 30260, 30261, 30263, 30264, 30265, 30266, 30267, 30269, 30271, 30272, 30273, 30274, 30275, 30276, 30277, 30278, 30284, 30286, 30287, 30288, 30289, 30290, 30292, 30293, 30294, 30297, 30299, 30300, 30301, 30304, 30305, 30306, 30307, 30309, 30311, 30312, 30313, 30321, 30322, 30323, 30325, 30327, 30331, 30332, 30333, 30335, 30336, 30337, 30339, 30341, 30342, 30343, 30344, 30345, 30347, 30350, 30351, 30352, 30353, 30354, 30355, 30356, 30357, 30359, 30360, 30362, 30363, 30364, 30365, 30367, 30370, 30372, 30374, 30375, 30380, 30382, 30384, 30388, 30389, 30392, 30393, 30397, 30398, 30401, 30402, 30407, 30409, 30411, 30413, 30415, 30417, 30418, 30419, 30422, 30423, 30426, 30427, 30428, 30430, 30431, 30432, 30433, 30434, 30435, 30436, 30438, 30440, 30441, 30442, 30443, 30444, 30448, 30452, 30454, 30455, 30456, 30458, 30459, 30462, 30463, 30464, 30465, 30466, 30469, 30470, 30475, 30476, 30477, 30478, 30480, 30481, 30483, 30486, 30489, 30493, 30494, 30496, 30497, 30499, 30504, 30506, 30507, 30508, 30509, 30510, 30511, 30512, 30515, 30521, 30530, 30532, 30533, 30536, 30537, 30539, 30540, 30542, 30544, 30545, 30546, 30547, 30548, 30549, 30550, 30552, 30554, 30556, 30558, 30559, 30560, 30564, 30566, 30570, 30572, 30574, 30575, 30576, 30577, 30578, 30582, 30584, 30585, 30586, 30588, 30592, 30597, 30598, 30600, 30602, 30605, 30606, 30608, 30609, 30611, 30615, 30616, 30617, 30620, 30621, 30623, 30628, 30629, 30630, 30635, 30636, 30637, 30639, 30641, 30644, 30645, 30646, 30648, 30651, 30652, 30653, 30655, 30656, 30657, 30659, 30660, 30661, 30667, 30668, 30669, 30670, 30676, 30678, 30679, 30682, 30683, 30684, 30687, 30688, 30689, 30690, 30691, 30692, 30695, 30696, 30698, 30702, 30704, 30705, 30706, 30707, 30709, 30712, 30718, 30720, 30721, 30725, 30727, 30728, 30731, 30737, 30738, 30744, 30745, 30746, 30747, 30751, 30752, 30756, 30757, 30758, 30762, 30763, 30765, 30767, 30769, 30770, 30773, 30774, 30777, 30779, 30782, 30783, 30784, 30785, 30786, 30788, 30789, 30790, 30791, 30794, 30795, 30796, 30797, 30798, 30799, 30800, 30803, 30806, 30807, 30814, 30815, 30818, 30821, 30822, 30823, 30825, 30827, 30829, 30830, 30833, 30836, 30838, 30839, 30840, 30841, 30843, 30844, 30845, 30848, 30849, 30850, 30852, 30853, 30854, 30857, 30859, 30861, 30863, 30864, 30865, 30869, 30872, 30873, 30876, 30877, 30879, 30880, 30881, 30882, 30883, 30885, 30887, 30888, 30892, 30893, 30894, 30897, 30899, 30903, 30904, 30909, 30910, 30912, 30913, 30916, 30920, 30921, 30922, 30924, 30929, 30930, 30931, 30933, 30934, 30936, 30937, 30938, 30939, 30941, 30942, 30944, 30946, 30947, 30948, 30949, 30950, 30953, 30955, 30956, 30957, 30958, 30960, 30961, 30962, 30964, 30967, 30968, 30970, 30973, 30975, 30976, 30978, 30979, 30980, 30984, 30989, 30990, 30991, 30993, 30994, 30996, 30999, 31001, 31002, 31004, 31007, 31008, 31009, 31010, 31011, 31013, 31015, 31016, 31017, 31018, 31019, 31022, 31023, 31024, 31025, 31026, 31027, 31029, 31031, 31032, 31033, 31035, 31039, 31041, 31042, 31044, 31046, 31047, 31048, 31049, 31050, 31052, 31054, 31058, 31060, 31062, 31067, 31073, 31074, 31075, 31077, 31078, 31080, 31084, 31086, 31087, 31089, 31090, 31091, 31092, 31094, 31095, 31096, 31097, 31098, 31100, 31107, 31109, 31110, 31112, 31114, 31116, 31118, 31119, 31121, 31122, 31123, 31125, 31126, 31130, 31132, 31133, 31134, 31137, 31139, 31140, 31142, 31145, 31146, 31148, 31153, 31157, 31158, 31159, 31160, 31161, 31163, 31166, 31167, 31168, 31170, 31173, 31174, 31175, 31179, 31181, 31185, 31186, 31188, 31189, 31191, 31192, 31194, 31196, 31197, 31198, 31199, 31200, 31203, 31205, 31206, 31207, 31208, 31209, 31210, 31211, 31212, 31215, 31216, 31223, 31225, 31227, 31231, 31233, 31235, 31238, 31239, 31242, 31243, 31244, 31245, 31246, 31248, 31251, 31253, 31257, 31258, 31259, 31260, 31263, 31264, 31265, 31267, 31269, 31270, 31271, 31273, 31275, 31276, 31278, 31279, 31280, 31281, 31283, 31284, 31286, 31287, 31289, 31290, 31291, 31292, 31294, 31296, 31297, 31298, 31299, 31303, 31305, 31306, 31308, 31309, 31311, 31312, 31317, 31318, 31319, 31320, 31321, 31324, 31330, 31336, 31337, 31338, 31339, 31341, 31343, 31344, 31345, 31347, 31348, 31353, 31355, 31356, 31357, 31358, 31359, 31362, 31363, 31365, 31367, 31368, 31370, 31371, 31372, 31373, 31379, 31381, 31382, 31383, 31384, 31386, 31393, 31394, 31395, 31397, 31399, 31400, 31401, 31402, 31404, 31408, 31409, 31411, 31412, 31413, 31414, 31418, 31419, 31422, 31423, 31428, 31429, 31430, 31432, 31433, 31434, 31435, 31440, 31441, 31444, 31445, 31447, 31448, 31450, 31458, 31459, 31462, 31464, 31465, 31466, 31468, 31469, 31470, 31471, 31472, 31474, 31475, 31476, 31478, 31481, 31482, 31485, 31487, 31488, 31489, 31491, 31493, 31495, 31496, 31499, 31500, 31501, 31503, 31504, 31505, 31506, 31509, 31512, 31517, 31519, 31520, 31521, 31522, 31525, 31526, 31527, 31529, 31536, 31537, 31538, 31539, 31540, 31542, 31544, 31546, 31547, 31548, 31549, 31550, 31553, 31554, 31555, 31558, 31562, 31563, 31564, 31566, 31567, 31569, 31571, 31573, 31574, 31576, 31577, 31578, 31580, 31581, 31583, 31584, 31586, 31591, 31597, 31598, 31599, 31603, 31605, 31606, 31607, 31614, 31615, 31617, 31618, 31619, 31621, 31624, 31625, 31626, 31627, 31629, 31634, 31635, 31637, 31638, 31640, 31641, 31643, 31646, 31647, 31648, 31649, 31651, 31654, 31655, 31656, 31657, 31658, 31659, 31660, 31661, 31663, 31664, 31670, 31671, 31672, 31674, 31677, 31680, 31681, 31682, 31686, 31688, 31690, 31691, 31692, 31694, 31695, 31696, 31701, 31703, 31704, 31705, 31708, 31709, 31710, 31711, 31713, 31715, 31718, 31720, 31722, 31723, 31724, 31725, 31727, 31729, 31730, 31731, 31733, 31736, 31739, 31743, 31744, 31745, 31748, 31749, 31750, 31752, 31753, 31754, 31757, 31758, 31759, 31761, 31763, 31769, 31771, 31773, 31775, 31776, 31777, 31779, 31780, 31781, 31782, 31783, 31789, 31790, 31791, 31793, 31795, 31799, 31800, 31802, 31803, 31805, 31808, 31809, 31820, 31821, 31823, 31824, 31825, 31827, 31829, 31830, 31831, 31833, 31834, 31835, 31836, 31838, 31841, 31844, 31845, 31846, 31847, 31849, 31850, 31851, 31852, 31854, 31855, 31856, 31857, 31858, 31859, 31860, 31861, 31862, 31863, 31864, 31865, 31866, 31868, 31869, 31870, 31873, 31874, 31876, 31877, 31878, 31879, 31884, 31885, 31886, 31888, 31889, 31890, 31891, 31892, 31894, 31898, 31899, 31900, 31901, 31902, 31903, 31906, 31908, 31910, 31911, 31914, 31918, 31921, 31923, 31925, 31927, 31928, 31930, 31933, 31934, 31937, 31938, 31939, 31942, 31943, 31945, 31947, 31948, 31950, 31951, 31952, 31953, 31954, 31959, 31962, 31963, 31964, 31966, 31967, 31971, 31972, 31976, 31979, 31981, 31982, 31983, 31987, 31989, 31991, 31994, 31996, 31997, 31998, 32000, 32003, 32005, 32006, 32007, 32009, 32014, 32016, 32017, 32018, 32019, 32021, 32023, 32029, 32030, 32031, 32032, 32033, 32037, 32039, 32040, 32042, 32043, 32045, 32046, 32047, 32048, 32049, 32050, 32053, 32054, 32060, 32064, 32067, 32069, 32071, 32072, 32073, 32074, 32075, 32077, 32079, 32082, 32085, 32088, 32089, 32092, 32093, 32097, 32100, 32103, 32105, 32106, 32107, 32109, 32110, 32111, 32113, 32114, 32115, 32116, 32117, 32118, 32119, 32120, 32121, 32122, 32123, 32127, 32129, 32130, 32131, 32132, 32134, 32136, 32137, 32139, 32142, 32145, 32147, 32148, 32149, 32150, 32151, 32152, 32153, 32156, 32160, 32161, 32164, 32165, 32166, 32167, 32168, 32169, 32170, 32171, 32172, 32173, 32179, 32180, 32181, 32184, 32186, 32187, 32188, 32189, 32190, 32192, 32196, 32197, 32200, 32201, 32203, 32205, 32206, 32207, 32208, 32209, 32210, 32211, 32212, 32215, 32216, 32219, 32220, 32223, 32224, 32228, 32230, 32231, 32232, 32234, 32236, 32243, 32245, 32248, 32252, 32253, 32258, 32259, 32264, 32266, 32269, 32272, 32273, 32275, 32276, 32278, 32279, 32282, 32286, 32287, 32299, 32302, 32307, 32308, 32309, 32311, 32313, 32315, 32317, 32319, 32320, 32322, 32323, 32327, 32329, 32335, 32336, 32338, 32341, 32342, 32346, 32348, 32352, 32353, 32354, 32355, 32356, 32363, 32364, 32365, 32366, 32367, 32369, 32370, 32371, 32372, 32379, 32381, 32382, 32383, 32386, 32387, 32388, 32389, 32390, 32391, 32396, 32397, 32398, 32401, 32402, 32403, 32405, 32408, 32410, 32413, 32415, 32416, 32418, 32423, 32425, 32429, 32432, 32435, 32436, 32438, 32439, 32440, 32441, 32443, 32445, 32447, 32451, 32453, 32455, 32456, 32457, 32458, 32459, 32463, 32464, 32465, 32466, 32467, 32468, 32469, 32470, 32473, 32475, 32479, 32480, 32481, 32484, 32485, 32490, 32491, 32492, 32496, 32498, 32501, 32503, 32505, 32507, 32508, 32511, 32514, 32516, 32520, 32521, 32523, 32524, 32526, 32527, 32528, 32529, 32531, 32533, 32534, 32535, 32536, 32537, 32538, 32539, 32540, 32541, 32542, 32544, 32546, 32548, 32549, 32550, 32552, 32553, 32556, 32559, 32563, 32564, 32567, 32569, 32570, 32571, 32572, 32576, 32577, 32578, 32581, 32585, 32588, 32589, 32592, 32593, 32596, 32597, 32598, 32599, 32603, 32604, 32606, 32608, 32609, 32611, 32613, 32615, 32616, 32620, 32622, 32623, 32624, 32626, 32628, 32629, 32633, 32634, 32636, 32637, 32639, 32640, 32641, 32642, 32643, 32646, 32647, 32648, 32650, 32651, 32655, 32656, 32657, 32659, 32662, 32663, 32664, 32665, 32667, 32669, 32670, 32672, 32673, 32674, 32676, 32680, 32681, 32682, 32683, 32684, 32685, 32686, 32689, 32690, 32693, 32696, 32700, 32701, 32702, 32703, 32704, 32711, 32714, 32715, 32716, 32721, 32722, 32723, 32726, 32727, 32728, 32730, 32732, 32735, 32741, 32745, 32746, 32747, 32748, 32750, 32751, 32752, 32753, 32754, 32757, 32758, 32759, 32760, 32761, 32764, 32766, 32775, 32777, 32778, 32779, 32781, 32782, 32783, 32786, 32790, 32791, 32792, 32793, 32795, 32796, 32797, 32798, 32799, 32801, 32804, 32805, 32807, 32811, 32812, 32813, 32814, 32816, 32817, 32818, 32820, 32821, 32823, 32825, 32827, 32828, 32829, 32831, 32833, 32836, 32838, 32839, 32840, 32841, 32842, 32849, 32850, 32851, 32853, 32856, 32858, 32859, 32867, 32868, 32869, 32870, 32871, 32872, 32873, 32874, 32875, 32876, 32878, 32880, 32881, 32882, 32883, 32885, 32886, 32887, 32896, 32897, 32898, 32899, 32903, 32905, 32906, 32908, 32909, 32911, 32912, 32914, 32915, 32916, 32917, 32918, 32921, 32923, 32926, 32927, 32929, 32932, 32934, 32936, 32937, 32939, 32942, 32943, 32948, 32949, 32952, 32954, 32956, 32957, 32958, 32960, 32961, 32963, 32965, 32966, 32968, 32969, 32970, 32974, 32975, 32976, 32977, 32978, 32979, 32981, 32983, 32986, 32988, 32989, 32990, 32993, 32996, 32998, 32999, 33000, 33001, 33003, 33005, 33006, 33007, 33008, 33012, 33013, 33015, 33017, 33018, 33019, 33021, 33022, 33023, 33024, 33025, 33026, 33027, 33029, 33030, 33032, 33033, 33037, 33038, 33039, 33040, 33046, 33047, 33051, 33052, 33054, 33056, 33058, 33059, 33063, 33064, 33065, 33066, 33067, 33068, 33070, 33071, 33073, 33074, 33076, 33078, 33080, 33081, 33082, 33087, 33088, 33089, 33090, 33092, 33093, 33095, 33096, 33097, 33101, 33102, 33104, 33106, 33107, 33108, 33109, 33110, 33114, 33120, 33126, 33132, 33136, 33138, 33140, 33141, 33142, 33143, 33144, 33145, 33146, 33151, 33152, 33153, 33155, 33157, 33158, 33159, 33160, 33161, 33163, 33164, 33165, 33166, 33169, 33170, 33172, 33174, 33175, 33176, 33178, 33179, 33181, 33182, 33184, 33189, 33190, 33192, 33193, 33194, 33195, 33196, 33197, 33199, 33200, 33202, 33203, 33204, 33208, 33209, 33211, 33213, 33214, 33215, 33217, 33219, 33220, 33221, 33222, 33225, 33227, 33228, 33229, 33231, 33232, 33233, 33235, 33236, 33237, 33238, 33239, 33240, 33244, 33245, 33246, 33251, 33252, 33254, 33256, 33257, 33267, 33268, 33270, 33273, 33274, 33275, 33282, 33284, 33285, 33286, 33289, 33290, 33292, 33293, 33294, 33295, 33299, 33300, 33301, 33302, 33303, 33306, 33307, 33308, 33312, 33313, 33314, 33315, 33316, 33318, 33319, 33320, 33321, 33322, 33326, 33328, 33329, 33331, 33332, 33333, 33334, 33335, 33336, 33337, 33339, 33340, 33343, 33344, 33345, 33346, 33348, 33353, 33354, 33355, 33358, 33360, 33362, 33363, 33364, 33367, 33368, 33369, 33370, 33371, 33373, 33377, 33378, 33381, 33382, 33383, 33389, 33391, 33395, 33397, 33399, 33400, 33401, 33403, 33404, 33407, 33408, 33410, 33411, 33412, 33414, 33415, 33418, 33419, 33420, 33423, 33428, 33429, 33430, 33431, 33434, 33436, 33438, 33446, 33447, 33448, 33449, 33450, 33452, 33455, 33456, 33457, 33460, 33461, 33465, 33467, 33468, 33469, 33470, 33471, 33472, 33473, 33479, 33481, 33482, 33483, 33486, 33487, 33488, 33491, 33493, 33494, 33495, 33497, 33498, 33499, 33500, 33503, 33504, 33506, 33508, 33509, 33511, 33514, 33515, 33516, 33518, 33520, 33521, 33522, 33523, 33525, 33526, 33527, 33529, 33531, 33533, 33536, 33539, 33540, 33546, 33547, 33549, 33550, 33556, 33558, 33561, 33563, 33565, 33566, 33567, 33569, 33570, 33571, 33572, 33576, 33583, 33585, 33586, 33587, 33588, 33591, 33592, 33593, 33594, 33597, 33598, 33600, 33601, 33603, 33606, 33610, 33613, 33614, 33617, 33620, 33621, 33623, 33628, 33629, 33632, 33634, 33638, 33639, 33640, 33641, 33643, 33646, 33647, 33648, 33649, 33652, 33658, 33659, 33665, 33666, 33667, 33670, 33671, 33672, 33673, 33676, 33681, 33683, 33687, 33688, 33693, 33694, 33695, 33696, 33698, 33699, 33701, 33702, 33703, 33705, 33707, 33708, 33710, 33711, 33712, 33713, 33715, 33720, 33721, 33724, 33727, 33728, 33730, 33734, 33736, 33738, 33742, 33745, 33748, 33750, 33751, 33752, 33755, 33758, 33762, 33763, 33765, 33767, 33770, 33771, 33772, 33773, 33774, 33777, 33778, 33781, 33782, 33785, 33786, 33787, 33789, 33793, 33794, 33797, 33801, 33804, 33806, 33807, 33808, 33817, 33818, 33821, 33822, 33823, 33824, 33826, 33831, 33832, 33833, 33834, 33835, 33837, 33840, 33841, 33842, 33845, 33847, 33851, 33853, 33854, 33856, 33860, 33862, 33863, 33864, 33865, 33866, 33867, 33870, 33874, 33879, 33880, 33882, 33884, 33885, 33887, 33891, 33892, 33893, 33894, 33896, 33897, 33899, 33902, 33903, 33904, 33905, 33909, 33914, 33915, 33917, 33918, 33919, 33922, 33924, 33928, 33929, 33930, 33931, 33932, 33934, 33936, 33937, 33939, 33942, 33943, 33947, 33951, 33952, 33958, 33960, 33964, 33965, 33971, 33974, 33977, 33978, 33980, 33981, 33982, 33986, 33987, 33989, 33991, 33992, 33993, 33998, 34001, 34003, 34004, 34006, 34007, 34010, 34012, 34013, 34014, 34019, 34023, 34024, 34026, 34027, 34033, 34034, 34036, 34038, 34040, 34042, 34045, 34046, 34048, 34050, 34051, 34052, 34053, 34057, 34061, 34062, 34064, 34067, 34069, 34072, 34074, 34075, 34091, 34092, 34093, 34096, 34097, 34103, 34104, 34105, 34106, 34107, 34108, 34110, 34111, 34113, 34117, 34122, 34124, 34125, 34126, 34128, 34130, 34131, 34132, 34133, 34134, 34136, 34140, 34142, 34145, 34146, 34147, 34148, 34149, 34150, 34151, 34152, 34153, 34154, 34156, 34162, 34163, 34164, 34165, 34167, 34170, 34173, 34174, 34175, 34176, 34177, 34178, 34181, 34182, 34183, 34184, 34188, 34193, 34194, 34195, 34196, 34198, 34199, 34202, 34203, 34204, 34205, 34207, 34208, 34209, 34210, 34211, 34212, 34214, 34216, 34218, 34219, 34220, 34223, 34226, 34227, 34228, 34229, 34231, 34232, 34233, 34234, 34236, 34238, 34239, 34243, 34250, 34251, 34252, 34253, 34255, 34257, 34258, 34259, 34260, 34261, 34265, 34266, 34267, 34269, 34271, 34273, 34276, 34277, 34278, 34279, 34281, 34283, 34284, 34285, 34287, 34288, 34289, 34291, 34292, 34293, 34295, 34296, 34299, 34300, 34301, 34303, 34306, 34309, 34311, 34313, 34314, 34315, 34321, 34322, 34324, 34325, 34326, 34327, 34330, 34331, 34334, 34335, 34337, 34338, 34339, 34340, 34341, 34343, 34346, 34348, 34349, 34350, 34351, 34353, 34354, 34357, 34360, 34364, 34365, 34366, 34368, 34369, 34370, 34371, 34372, 34377, 34378, 34379, 34381, 34384, 34386, 34387, 34390, 34394, 34402, 34403, 34404, 34407, 34408, 34409, 34411, 34412, 34413, 34414, 34416, 34418, 34419, 34420, 34421, 34422, 34423, 34425, 34427, 34428, 34429, 34430, 34431, 34433, 34434, 34435, 34436, 34438, 34440, 34443, 34444, 34445, 34449, 34452, 34453, 34455, 34457, 34459, 34461, 34462, 34463, 34464, 34465, 34466, 34467, 34469, 34471, 34472, 34478, 34479, 34480, 34482, 34483, 34484, 34486, 34487, 34488, 34489, 34490, 34493, 34499, 34501, 34502, 34503, 34505, 34506, 34507, 34509, 34514, 34516, 34517, 34519, 34520, 34521, 34525, 34527, 34528, 34530, 34531, 34533, 34534, 34535, 34536, 34537, 34540, 34543, 34544, 34547, 34548, 34549, 34550, 34551, 34552, 34553, 34555, 34558, 34559, 34560, 34561, 34564, 34565, 34566, 34567, 34568, 34570, 34572, 34574, 34577, 34578, 34579, 34580, 34581, 34582, 34585, 34586, 34587, 34588, 34590, 34591, 34593, 34594, 34595, 34597, 34598, 34600, 34602, 34603, 34604, 34606, 34607, 34609, 34610, 34612, 34613, 34614, 34615, 34616, 34618, 34621, 34624, 34626, 34629, 34631, 34634, 34635, 34637, 34642, 34645, 34648, 34651, 34658, 34660, 34662, 34663, 34664, 34669, 34671, 34672, 34673, 34676, 34677, 34678, 34679, 34680, 34683, 34684, 34686, 34687, 34688, 34689, 34692, 34695, 34696, 34697, 34698, 34699, 34701, 34705, 34706, 34709, 34710, 34711, 34712, 34713, 34714, 34716, 34717, 34719, 34722, 34725, 34727, 34728, 34733, 34734, 34735, 34738, 34739, 34741, 34743, 34744, 34747, 34748, 34749, 34755, 34756, 34757, 34759, 34762, 34763, 34765, 34767, 34769, 34771, 34772, 34774, 34775, 34777, 34778, 34780, 34784, 34785, 34786, 34787, 34792, 34793, 34794, 34795, 34797, 34798, 34801, 34805, 34806, 34809, 34810, 34814, 34815, 34816, 34817, 34818, 34821, 34823, 34824, 34825, 34826, 34828, 34832, 34840, 34841, 34843, 34845, 34846, 34849, 34850, 34855, 34857, 34858, 34860, 34861, 34862, 34863, 34869, 34870, 34871, 34872, 34873, 34875, 34879, 34880, 34881, 34882, 34883, 34884, 34886, 34887, 34888, 34889, 34892, 34893, 34897, 34898, 34899, 34900, 34901, 34902, 34904, 34905, 34906, 34909, 34910, 34916, 34917, 34918, 34919, 34921, 34923, 34924, 34925, 34926, 34927, 34929, 34930, 34931, 34933, 34936, 34938, 34940, 34941, 34946, 34947, 34948, 34949, 34951, 34952, 34953, 34957, 34958, 34959, 34960, 34961, 34964, 34966, 34967, 34973, 34974, 34976, 34982, 34983, 34984, 34985, 34988, 34992, 34993, 34995, 34996, 34997, 35000, 35001, 35002, 35004, 35005, 35006, 35015, 35016, 35017, 35018, 35019, 35020, 35021, 35023, 35025, 35026, 35027, 35028, 35030, 35032, 35033, 35034, 35035, 35036, 35038, 35040, 35041, 35043, 35045, 35046, 35048, 35051, 35052, 35055, 35056, 35058, 35059, 35061, 35062, 35063, 35064, 35066, 35067, 35068, 35069, 35070, 35071, 35073, 35074, 35076, 35077, 35080, 35081, 35082, 35085, 35086, 35087, 35088, 35089, 35090, 35091, 35093, 35095, 35097, 35098, 35101, 35102, 35105, 35107, 35108, 35111, 35113, 35116, 35117, 35119, 35121, 35122, 35124, 35127, 35130, 35131, 35132, 35133, 35134, 35136, 35137, 35140, 35142, 35143, 35144, 35145, 35146, 35149, 35150, 35151, 35153, 35155, 35156, 35157, 35161, 35162, 35164, 35166, 35167, 35170, 35171, 35172, 35173, 35175, 35176, 35177, 35179, 35180, 35182, 35183, 35185, 35187, 35188, 35189, 35191, 35192, 35196, 35197, 35199, 35200, 35207, 35212, 35215, 35216, 35219, 35221, 35222, 35227, 35229, 35232, 35233, 35235, 35236, 35242, 35243, 35244, 35245, 35246, 35247, 35251, 35253, 35255, 35256, 35257, 35258, 35259, 35260, 35262, 35263, 35264, 35265, 35266, 35270, 35271, 35274, 35275, 35276, 35277, 35278, 35280, 35281, 35282, 35283, 35284, 35286, 35287, 35290, 35291, 35292, 35293, 35294, 35295, 35297, 35299, 35300, 35305, 35306, 35308, 35311, 35312, 35314, 35319, 35320, 35321, 35324, 35325, 35327, 35329, 35330, 35332, 35334, 35335, 35337, 35338, 35341, 35344, 35345, 35346, 35347, 35350, 35352, 35353, 35358, 35359, 35360, 35365, 35369, 35370, 35373, 35377, 35382, 35384, 35386, 35387, 35389, 35390, 35391, 35395, 35399, 35401, 35403, 35411, 35412, 35414, 35415, 35418, 35419, 35421, 35422, 35423, 35425, 35426, 35427, 35428, 35429, 35433, 35435, 35436, 35437, 35439, 35440, 35441, 35442, 35444, 35445, 35448, 35449, 35454, 35455, 35458, 35463, 35464, 35465, 35466, 35467, 35472, 35474, 35475, 35476, 35477, 35478, 35481, 35483, 35484, 35485, 35486, 35487, 35491, 35492, 35496, 35497, 35501, 35506, 35507, 35508, 35510, 35511, 35512, 35514, 35515, 35517, 35518, 35519, 35521, 35523, 35524, 35526, 35527, 35528, 35529, 35531, 35532, 35533, 35534, 35538, 35539, 35540, 35541, 35544, 35545, 35546, 35547, 35548, 35550, 35555, 35559, 35560, 35561, 35562, 35567, 35568, 35572, 35574, 35576, 35577, 35579, 35581, 35582, 35583, 35585, 35586, 35588, 35591, 35593, 35594, 35595, 35596, 35598, 35601, 35603, 35604, 35605, 35606, 35608, 35609, 35610, 35611, 35612, 35613, 35614, 35615, 35617, 35621, 35622, 35624, 35626, 35627, 35628, 35629, 35630, 35631, 35632, 35633, 35634, 35635, 35636, 35637, 35640, 35641, 35642, 35644, 35645, 35646, 35647, 35648, 35649, 35651, 35654, 35655, 35656, 35658, 35659, 35663, 35668, 35669, 35671, 35673, 35674, 35678, 35679, 35680, 35681, 35683, 35684, 35687, 35688, 35691, 35692, 35695, 35696, 35698, 35700, 35704, 35705, 35706, 35707, 35708, 35711, 35712, 35715, 35721, 35722, 35723, 35725, 35726, 35727, 35729, 35730, 35732, 35736, 35742, 35748, 35749, 35750, 35753, 35755, 35757, 35758, 35760, 35763, 35764, 35765, 35769, 35772, 35774, 35775, 35776, 35777, 35778, 35780, 35784, 35785, 35786, 35787, 35788, 35790, 35791, 35792, 35794, 35796, 35798, 35799, 35800, 35802, 35803, 35804, 35808, 35809, 35810, 35811, 35813, 35816, 35817, 35818, 35819, 35821, 35823, 35826, 35831, 35832, 35833, 35836, 35838, 35842, 35843, 35844, 35847, 35848, 35851, 35852, 35853, 35855, 35857, 35860, 35863, 35866, 35867, 35869, 35870, 35875, 35876, 35878, 35879, 35882, 35885, 35889, 35891, 35894, 35896, 35897, 35903, 35906, 35907, 35908, 35909, 35911, 35912, 35915, 35916, 35917, 35920, 35921, 35923, 35924, 35926, 35928, 35929, 35932, 35933, 35934, 35935, 35937, 35942, 35943, 35945, 35946, 35947, 35948, 35949, 35950, 35955, 35958, 35960, 35961, 35964, 35965, 35967, 35968, 35971, 35973, 35974, 35977, 35979, 35980, 35982, 35984, 35985, 35986, 35989, 35990, 35992, 35994, 35995, 35996, 35997, 35998, 35999, 36000, 36004, 36005, 36007, 36010, 36011, 36013, 36015, 36016, 36017, 36020, 36024, 36026, 36027, 36029, 36030, 36031, 36033, 36034, 36035, 36036, 36038, 36039, 36041, 36043, 36044, 36047, 36049, 36050, 36053, 36056, 36057, 36058, 36059, 36062, 36064, 36067, 36068, 36069, 36071, 36073, 36074, 36077, 36078, 36079, 36080, 36085, 36086, 36087, 36088, 36089, 36091, 36092, 36094, 36095, 36096, 36097, 36098, 36099, 36104, 36105, 36106, 36108, 36110, 36115, 36116, 36117, 36122, 36123, 36124, 36129, 36130, 36133, 36135, 36136, 36137, 36139, 36141, 36142, 36143, 36144, 36149, 36150, 36152, 36155, 36164, 36167, 36168, 36171, 36172, 36176, 36177, 36183, 36184, 36185, 36186, 36187, 36188, 36189, 36190, 36196, 36197, 36199, 36203, 36206, 36207, 36209, 36210, 36211, 36212, 36213, 36216, 36217, 36218, 36219, 36222, 36223, 36227, 36228, 36229, 36230, 36238, 36242, 36245, 36247, 36248, 36250, 36252, 36254, 36259, 36261, 36262, 36263, 36264, 36265, 36272, 36273, 36274, 36275, 36279, 36280, 36281, 36284, 36286, 36287, 36289, 36292, 36294, 36295, 36299, 36300, 36301, 36303, 36304, 36305, 36309, 36310, 36314, 36316, 36319, 36323, 36328, 36330, 36332, 36333, 36334, 36336, 36341, 36342, 36346, 36351, 36352, 36354, 36358, 36359, 36360, 36362, 36365, 36366, 36367, 36368, 36369, 36372, 36374, 36376, 36379, 36380, 36381, 36382, 36383, 36384, 36385, 36386, 36387, 36388, 36389, 36390, 36391, 36393, 36397, 36402, 36404, 36405, 36406, 36407, 36408, 36409, 36411, 36414, 36415, 36416, 36417, 36421, 36424, 36427, 36430, 36433, 36437, 36439, 36442, 36443, 36445, 36446, 36447, 36449, 36450, 36452, 36453, 36455, 36457, 36458, 36459, 36463, 36465, 36467, 36471, 36473, 36474, 36475, 36477, 36479, 36480, 36481, 36483, 36484, 36488, 36490, 36491, 36493, 36494, 36497, 36499, 36501, 36506, 36508, 36509, 36510, 36511, 36513, 36515, 36519, 36520, 36521, 36523, 36524, 36525, 36527, 36529, 36531, 36532, 36533, 36534, 36536, 36538, 36539, 36540, 36541, 36542, 36543, 36545, 36546, 36547, 36548, 36551, 36552, 36553, 36555, 36557, 36559, 36561, 36563, 36564, 36565, 36566, 36567, 36572, 36573, 36576, 36577, 36579, 36580, 36581, 36586, 36589, 36590, 36591, 36592, 36594, 36595, 36596, 36597, 36599, 36600, 36601, 36604, 36610, 36611, 36613, 36614, 36615, 36616, 36617, 36618, 36619, 36622, 36623, 36628, 36629, 36630, 36632, 36636, 36637, 36638, 36640, 36644, 36645, 36647, 36648, 36651, 36652, 36653, 36655, 36656, 36657, 36658, 36668, 36670, 36671, 36673, 36675, 36676, 36679, 36680, 36682, 36684, 36687, 36688, 36690, 36691, 36694, 36696, 36698, 36700, 36703, 36705, 36706, 36709, 36710, 36711, 36713, 36716, 36718, 36720, 36721, 36722, 36723, 36725, 36729, 36731, 36732, 36733, 36734, 36736, 36738, 36740, 36742, 36743, 36745, 36747, 36748, 36749, 36752, 36755, 36756, 36757, 36758, 36759, 36760, 36761, 36762, 36763, 36766, 36767, 36769, 36771, 36772, 36774, 36776, 36778, 36780, 36783, 36786, 36787, 36791, 36792, 36795, 36797, 36799, 36807, 36809, 36813, 36814, 36816, 36819, 36820, 36821, 36825, 36829, 36830, 36831, 36835, 36837, 36838, 36839, 36840, 36841, 36842, 36846, 36850, 36852, 36853, 36854, 36858, 36859, 36862, 36863, 36866, 36870, 36872, 36874, 36875, 36876, 36877, 36879, 36880, 36884, 36887, 36888, 36889, 36890, 36891, 36893, 36894, 36899, 36902, 36907, 36909, 36910, 36911, 36913, 36915, 36916, 36920, 36930, 36933, 36935, 36937, 36938, 36942, 36944, 36945, 36948, 36949, 36950, 36951, 36952, 36953, 36955, 36956, 36957, 36958, 36959, 36961, 36965, 36966, 36967, 36970, 36971, 36973, 36976, 36978, 36979, 36981, 36982, 36983, 36986, 36991, 36992, 36996, 36997, 36998, 37000, 37003, 37005, 37006, 37008, 37009, 37014, 37015, 37016, 37017, 37018, 37019, 37022, 37023, 37026, 37028, 37029, 37030, 37032, 37033, 37034, 37039, 37041, 37051, 37053, 37054, 37055, 37058, 37060, 37062, 37063, 37066, 37067, 37069, 37070, 37071, 37072, 37073, 37075, 37076, 37079, 37082, 37083, 37086, 37087, 37088, 37089, 37092, 37094, 37095, 37099, 37101, 37102, 37103, 37104, 37105, 37107, 37108, 37109, 37110, 37113, 37116, 37119, 37120, 37121, 37125, 37126, 37128, 37130, 37131, 37132, 37133, 37135, 37139, 37141, 37142, 37143, 37144, 37145, 37146, 37147, 37148, 37149, 37153, 37154, 37155, 37159, 37160, 37162, 37163, 37166, 37168, 37169, 37171, 37175, 37177, 37180, 37181, 37182, 37184, 37185, 37186, 37188, 37189, 37190, 37192, 37193, 37194, 37195, 37196, 37197, 37201, 37202, 37203, 37205, 37206, 37207, 37209, 37213, 37216, 37217, 37219, 37221, 37222, 37223, 37224, 37226, 37227, 37228, 37229, 37230, 37231, 37234, 37237, 37238, 37239, 37240, 37243, 37246, 37247, 37248, 37249, 37250, 37251, 37252, 37253, 37256, 37258, 37259, 37261, 37262, 37264, 37265, 37267, 37268, 37270, 37271, 37273, 37274, 37277, 37278, 37280, 37281, 37282, 37283, 37284, 37285, 37286, 37287, 37288, 37291, 37293, 37294, 37295, 37296, 37304, 37306, 37307, 37308, 37309, 37311, 37312, 37313, 37315, 37316, 37318, 37319, 37320, 37322, 37323, 37324, 37327, 37329, 37334, 37335, 37337, 37341, 37342, 37343, 37344, 37346, 37347, 37349, 37350, 37352, 37354, 37355, 37356, 37357, 37358, 37359, 37361, 37364, 37365, 37367, 37368, 37371, 37374, 37375, 37376, 37377, 37382, 37384, 37386, 37387, 37388, 37390, 37391, 37392, 37394, 37396, 37397, 37398, 37399, 37400, 37401, 37405, 37408, 37409, 37410, 37411, 37412, 37414, 37416, 37418, 37419, 37421, 37423, 37424, 37425, 37426, 37428, 37429, 37432, 37435, 37436, 37437, 37440, 37443, 37445, 37448, 37449, 37450, 37452, 37453, 37454, 37455, 37457, 37460, 37462, 37464, 37465, 37467, 37469, 37470, 37471, 37474, 37476, 37477, 37478, 37490, 37492, 37497, 37499, 37504, 37505, 37506, 37510, 37515, 37517, 37518, 37519, 37520, 37521, 37523, 37524, 37525, 37527, 37529, 37530, 37533, 37534, 37535, 37537, 37538, 37540, 37541, 37543, 37544, 37547, 37550, 37551, 37558, 37559, 37560, 37561, 37562, 37563, 37566, 37568, 37569, 37574, 37575, 37576, 37579, 37581, 37582, 37583, 37584, 37585, 37586, 37588, 37590, 37593, 37594, 37595, 37596, 37599, 37600, 37603, 37605, 37607, 37609, 37610, 37611, 37612, 37614, 37616, 37617, 37619, 37620, 37622, 37623, 37624, 37625, 37627, 37628, 37629, 37631, 37632, 37634, 37638, 37643, 37644, 37645, 37647, 37649, 37650, 37651, 37652, 37654, 37656, 37657, 37660, 37661, 37666, 37667, 37668, 37670, 37671, 37675, 37677, 37678, 37679, 37680, 37681, 37682, 37683, 37685, 37687, 37688, 37690, 37691, 37692, 37693, 37694, 37695, 37697, 37698, 37699, 37701, 37703, 37705, 37708, 37709, 37710, 37711, 37712, 37715, 37716, 37717, 37719, 37720, 37721, 37722, 37723, 37725, 37730, 37731, 37732, 37734, 37737, 37741, 37742, 37743, 37745, 37749, 37750, 37751, 37752, 37753, 37756, 37762, 37763, 37764, 37765, 37766, 37768, 37771, 37773, 37774, 37776, 37777, 37778, 37785, 37786, 37787, 37788, 37790, 37791, 37794, 37795, 37797, 37798, 37799, 37802, 37805, 37809, 37814, 37817, 37820, 37823, 37825, 37826, 37827, 37829, 37831, 37832, 37833, 37834, 37836, 37837, 37838, 37839, 37841, 37842, 37844, 37850, 37851, 37852, 37853, 37854, 37855, 37856, 37858, 37859, 37866, 37867, 37868, 37870, 37871, 37872, 37873, 37877, 37878, 37879, 37880, 37881, 37883, 37885, 37887, 37891, 37892, 37893, 37896, 37897, 37899, 37902, 37903, 37906, 37908, 37909, 37910, 37911, 37912, 37913, 37916, 37917, 37919, 37921, 37923, 37929, 37931, 37932, 37933, 37934, 37939, 37940, 37942, 37943, 37944, 37945, 37946, 37947, 37952, 37954, 37955, 37956, 37960, 37961, 37962, 37965, 37969, 37971, 37972, 37973, 37979, 37981, 37982, 37983, 37984, 37985, 37986, 37987, 37988, 37990, 37992, 37993, 37994, 38001, 38003, 38004, 38005, 38006, 38008, 38009, 38010, 38012, 38013, 38014, 38015, 38018, 38020, 38022, 38023, 38028, 38030, 38031, 38034, 38035, 38036, 38039, 38043, 38045, 38049, 38051, 38054, 38055, 38056, 38057, 38058, 38059, 38060, 38064, 38065, 38069, 38070, 38071, 38077, 38078, 38079, 38080, 38085, 38086, 38088, 38090, 38091, 38092, 38093, 38094, 38098, 38102, 38103, 38105, 38108, 38110, 38113, 38115, 38116, 38118, 38120, 38124, 38125, 38127, 38132, 38135, 38137, 38138, 38139, 38141, 38142, 38146, 38149, 38151, 38155, 38156, 38158, 38160, 38161, 38162, 38164, 38168, 38169, 38170, 38173, 38174, 38175, 38176, 38179, 38180, 38185, 38186, 38187, 38196, 38198, 38201, 38203, 38205, 38208, 38211, 38215, 38216, 38217, 38218, 38219, 38223, 38224, 38226, 38229, 38232, 38233, 38235, 38236, 38238, 38239, 38241, 38242, 38243, 38244, 38249, 38250, 38252, 38253, 38255, 38256, 38258, 38260, 38262, 38263, 38265, 38266, 38267, 38271, 38272, 38273, 38275, 38282, 38283, 38284, 38285, 38287, 38288, 38289, 38290, 38293, 38294, 38295, 38297, 38298, 38299, 38301, 38302, 38304, 38306, 38308, 38309, 38310, 38315, 38316, 38317, 38320, 38321, 38322, 38323, 38325, 38326, 38327, 38328, 38333, 38334, 38335, 38336, 38337, 38340, 38343, 38344, 38345, 38346, 38347, 38348, 38350, 38352, 38353, 38354, 38355, 38358, 38360, 38363, 38366, 38370, 38372, 38373, 38374, 38375, 38376, 38378, 38380, 38381, 38382, 38385, 38386, 38391, 38392, 38393, 38394, 38398, 38399, 38400, 38401, 38403, 38405, 38406, 38412, 38413, 38416, 38417, 38419, 38420, 38423, 38429, 38430, 38431, 38432, 38433, 38435, 38438, 38439, 38441, 38442, 38443, 38444, 38446, 38448, 38449, 38450, 38451, 38452, 38453, 38454, 38456, 38457, 38458, 38460, 38461, 38462, 38464, 38465, 38466, 38468, 38471, 38472, 38474, 38476, 38477, 38479, 38480, 38482, 38489, 38494, 38495, 38496, 38497, 38504, 38505, 38507, 38508, 38509, 38511, 38512, 38513, 38514, 38516, 38517, 38519, 38520, 38522, 38523, 38525, 38526, 38527, 38528, 38529, 38536, 38539, 38541, 38542, 38544, 38546, 38547, 38548, 38550, 38551, 38553, 38555, 38556, 38558, 38563, 38564, 38565, 38569, 38570, 38572, 38573, 38577, 38578, 38579, 38580, 38583, 38584, 38585, 38587, 38590, 38591, 38593, 38597, 38598, 38599, 38600, 38601, 38606, 38609, 38613, 38614, 38617, 38618, 38620, 38622, 38623, 38625, 38626, 38627, 38629, 38630, 38631, 38632, 38633, 38634, 38635, 38637, 38638, 38639, 38640, 38643, 38644, 38646, 38651, 38655, 38660, 38661, 38663, 38664, 38665, 38667, 38668, 38669, 38672, 38673, 38678, 38680, 38681, 38685, 38689, 38690, 38691, 38692, 38696, 38697, 38699, 38700, 38704, 38706, 38708, 38711, 38712, 38714, 38716, 38722, 38723, 38724, 38728, 38729, 38734, 38738, 38740, 38741, 38742, 38743, 38744, 38745, 38746, 38747, 38750, 38751, 38752, 38754, 38755, 38756, 38757, 38758, 38759, 38760, 38763, 38764, 38765, 38767, 38774, 38775, 38779, 38780, 38783, 38784, 38787, 38788, 38790, 38791, 38793, 38797, 38798, 38799, 38800, 38801, 38805, 38806, 38809, 38810, 38813, 38816, 38820, 38821, 38823, 38828, 38829, 38831, 38834, 38836, 38837, 38838, 38839, 38844, 38846, 38849, 38850, 38852, 38855, 38856, 38863, 38864, 38865, 38866, 38867, 38869, 38870, 38871, 38872, 38875, 38876, 38877, 38878, 38881, 38883, 38884, 38885, 38886, 38887, 38888, 38890, 38891, 38893, 38894, 38897, 38899, 38900, 38901, 38902, 38907, 38908, 38909, 38910, 38911, 38912, 38913, 38915, 38916, 38917, 38920, 38921, 38922, 38923, 38925, 38928, 38929, 38931, 38934, 38936, 38941, 38946, 38947, 38950, 38953, 38954, 38955, 38956, 38957, 38958, 38962, 38964, 38966, 38968, 38970, 38971, 38972, 38974, 38978, 38981, 38983, 38987, 38988, 38989, 38991, 38993, 38994, 38996, 38999, 39000, 39001, 39002, 39005, 39006, 39007, 39009, 39011, 39015, 39016, 39018, 39023, 39026, 39027, 39028, 39029, 39032, 39034, 39038, 39039, 39040, 39043, 39049, 39051, 39053, 39055, 39057, 39058, 39059, 39060, 39061, 39062, 39063, 39065, 39066, 39070, 39072, 39074, 39075, 39076, 39077, 39078, 39080, 39081, 39084, 39085, 39086, 39089, 39093, 39095, 39098, 39102, 39103, 39104, 39107, 39108, 39109, 39110, 39114, 39115, 39116, 39119, 39120, 39121, 39123, 39124, 39128, 39129, 39130, 39135, 39138, 39139, 39140, 39141, 39142, 39143, 39144, 39145, 39147, 39149, 39151, 39156, 39157, 39158, 39160, 39161, 39162, 39163, 39164, 39165, 39166, 39167, 39169, 39170, 39171, 39173, 39176, 39177, 39178, 39181, 39183, 39185, 39187, 39189, 39190, 39191, 39192, 39193, 39197, 39198, 39199, 39205, 39207, 39209, 39210, 39211, 39213, 39214, 39215, 39217, 39218, 39220, 39221, 39226, 39227, 39228, 39230, 39231, 39233, 39235, 39237, 39239, 39240, 39241, 39245, 39246, 39249, 39250, 39255, 39257, 39259, 39263, 39264, 39267, 39268, 39269, 39275, 39276, 39277, 39280, 39281, 39283, 39286, 39290, 39291, 39293, 39295, 39296, 39297, 39298, 39300, 39301, 39303, 39305, 39306, 39308, 39310, 39312, 39314, 39315, 39316, 39317, 39321, 39322, 39323, 39324, 39325, 39326, 39328, 39330, 39332, 39333, 39334, 39336, 39340, 39341, 39343, 39344, 39345, 39346, 39347, 39349, 39351, 39353, 39354, 39361, 39362, 39363, 39364, 39367, 39368, 39370, 39371, 39372, 39373, 39374, 39375, 39376, 39378, 39379, 39383, 39387, 39388, 39390, 39392, 39394, 39395, 39403, 39405, 39406, 39407, 39411, 39413, 39414, 39418, 39421, 39422, 39423, 39425, 39428, 39429, 39432, 39433, 39434, 39436, 39439, 39440, 39441, 39444, 39446, 39448, 39449, 39452, 39453, 39455, 39456, 39458, 39459, 39463, 39468, 39470, 39471, 39472, 39473, 39478, 39479, 39481, 39482, 39483, 39484, 39485, 39486, 39488, 39489, 39490, 39493, 39494, 39495, 39496, 39498, 39503, 39504, 39508, 39510, 39513, 39515, 39518, 39519, 39520, 39522, 39523, 39524, 39525, 39526, 39528, 39530, 39532, 39533, 39534, 39535, 39536, 39537, 39538, 39539, 39542, 39545, 39549, 39550, 39557, 39559, 39562, 39564, 39566, 39567, 39568, 39569, 39573, 39574, 39576, 39577, 39579, 39580, 39582, 39583, 39584, 39585, 39588, 39589, 39590, 39591, 39592, 39594, 39598, 39599, 39601, 39605, 39606, 39608, 39609, 39610, 39612, 39613, 39614, 39615, 39617, 39618, 39619, 39621, 39623, 39624, 39625, 39628, 39629, 39633, 39635, 39638, 39640, 39641, 39642, 39644, 39645, 39647, 39648, 39649, 39651, 39653, 39654, 39655, 39656, 39657, 39658, 39660, 39661, 39663, 39664, 39665, 39666, 39667, 39668, 39669, 39671, 39672, 39673, 39674, 39675, 39676, 39677, 39678, 39680, 39681, 39682, 39683, 39686, 39690, 39692, 39696, 39699, 39701, 39702, 39706, 39707, 39711, 39712, 39713, 39714, 39715, 39718, 39722, 39723, 39724, 39725, 39726, 39728, 39729, 39731, 39732, 39737, 39739, 39743, 39744, 39745, 39747, 39748, 39749, 39753, 39755, 39757, 39761, 39764, 39765, 39766, 39767, 39770, 39774, 39776, 39777, 39778, 39780, 39781, 39782, 39783, 39784, 39785, 39786, 39787, 39788, 39790, 39791, 39792, 39793, 39794, 39796, 39797, 39799, 39800, 39801, 39804, 39805, 39808, 39809, 39812, 39814, 39815, 39816, 39817, 39819, 39820, 39822, 39823, 39825, 39828, 39830, 39836, 39838, 39839, 39840, 39843, 39845, 39850, 39851, 39852, 39853, 39854, 39855, 39857, 39858, 39860, 39861, 39866, 39868, 39870, 39872, 39873, 39874, 39876, 39878, 39881, 39882, 39883, 39884, 39887, 39891, 39892, 39895, 39897, 39899, 39902, 39904, 39907, 39908, 39910, 39911, 39913, 39916, 39918, 39919, 39923, 39924, 39925, 39927, 39929, 39931, 39932, 39933, 39934, 39937, 39938, 39939, 39940, 39941, 39942, 39943, 39944, 39945, 39946, 39947, 39952, 39953, 39954, 39955, 39956, 39957, 39958, 39960, 39961, 39962, 39965, 39966, 39968, 39969, 39972, 39975, 39978, 39980, 39981, 39983, 39984, 39985, 39986, 39987, 39989, 39990, 39994, 39995, 39996, 39997, 40001, 40002, 40003, 40004, 40006, 40007, 40010, 40013, 40017, 40018, 40020, 40025, 40026, 40027, 40031, 40032, 40033, 40034, 40036, 40037, 40039, 40040, 40041, 40045, 40047, 40054, 40055, 40057, 40059, 40061, 40062, 40063, 40065, 40070, 40071, 40073, 40074, 40078, 40079, 40082, 40083, 40084, 40086, 40089, 40090, 40092, 40093, 40094, 40096, 40097, 40098, 40099, 40100, 40101, 40105, 40106, 40107, 40108, 40111, 40113, 40120, 40121, 40125, 40126, 40127, 40131, 40138, 40139, 40141, 40142, 40144, 40145, 40146, 40148, 40153, 40154, 40156, 40157, 40160, 40161, 40163, 40165, 40171, 40172, 40173, 40174, 40175, 40181, 40183, 40187, 40189, 40190, 40191, 40192, 40194, 40195, 40196, 40197, 40200, 40201, 40203, 40204, 40205, 40206, 40207, 40208, 40210, 40211, 40214, 40216, 40217, 40220, 40221, 40222, 40223, 40224, 40225, 40226, 40227, 40228, 40229, 40232, 40233, 40235, 40236, 40237, 40240, 40241, 40244, 40246, 40252, 40255, 40256, 40258, 40259, 40260, 40264, 40268, 40269, 40271, 40273, 40276, 40277, 40279, 40283, 40284, 40285, 40287, 40288, 40290, 40293, 40294, 40295, 40296, 40297, 40298, 40303, 40304, 40305, 40306, 40307, 40308, 40309, 40310, 40312, 40313, 40314, 40315, 40319, 40320, 40321, 40322, 40323, 40325, 40326, 40327, 40328, 40329, 40330, 40331, 40332, 40334, 40336, 40339, 40341, 40342, 40343, 40346, 40348, 40352, 40353, 40354, 40360, 40362, 40363, 40367, 40369, 40371, 40372, 40373, 40374, 40375, 40376, 40377, 40378, 40380, 40381, 40384, 40389, 40390, 40391, 40392, 40394, 40395, 40396, 40400, 40402, 40404, 40405, 40406, 40407, 40408, 40409, 40410, 40411, 40412, 40415, 40416, 40417, 40418, 40420, 40421, 40425, 40426, 40427, 40429, 40431, 40432, 40436, 40437, 40440, 40441, 40443, 40444, 40447, 40448, 40449, 40451, 40453, 40459, 40460, 40467, 40474, 40475, 40476, 40477, 40480, 40481, 40482, 40483, 40485, 40487, 40488, 40489, 40490, 40491, 40495, 40497, 40498, 40500, 40502, 40505, 40507, 40509, 40513, 40516, 40517, 40522, 40525, 40527, 40530, 40531, 40535, 40538, 40539, 40545, 40546, 40547, 40548, 40549, 40550, 40551, 40552, 40555, 40556, 40558, 40559, 40561, 40562, 40566, 40568, 40570, 40572, 40575, 40576, 40578, 40584, 40585, 40587, 40589, 40591, 40593, 40594, 40595, 40596, 40597, 40598, 40599, 40601, 40602, 40603, 40604, 40605, 40607, 40608, 40609, 40610, 40613, 40615, 40616, 40617, 40621, 40625, 40626, 40627, 40628, 40629, 40630, 40631, 40634, 40635, 40637, 40638, 40642, 40643, 40646, 40650, 40657, 40658, 40661, 40663, 40664, 40666, 40667, 40668, 40669, 40671, 40672, 40674, 40675, 40676, 40677, 40678, 40679, 40680, 40681, 40682, 40683, 40684, 40686, 40689, 40695, 40696, 40697, 40698, 40699, 40700, 40702, 40704, 40705, 40706, 40708, 40713, 40716, 40718, 40719, 40721, 40723, 40724, 40725, 40729, 40731, 40733, 40734, 40736, 40737, 40738, 40740, 40741, 40742, 40743, 40745, 40746, 40747, 40750, 40751, 40755, 40756, 40758, 40764, 40766, 40767, 40770, 40773, 40774, 40777, 40780, 40781, 40783, 40784, 40788, 40789, 40792, 40793, 40795, 40796, 40797, 40802, 40805, 40806, 40807, 40808, 40811, 40813, 40821, 40822, 40823, 40824, 40825, 40827, 40828, 40829, 40830, 40831, 40832, 40834, 40836, 40837, 40838, 40840, 40841, 40842, 40843, 40847, 40849, 40851, 40853, 40854, 40856, 40859, 40861, 40862, 40866, 40869, 40871, 40874, 40875, 40876, 40877, 40879, 40880, 40881, 40884, 40885, 40886, 40887, 40888, 40891, 40892, 40894, 40900, 40902, 40903, 40906, 40908, 40910, 40915, 40921, 40922, 40924, 40925, 40926, 40927, 40928, 40931, 40933, 40934, 40935, 40937, 40938, 40939, 40940, 40943, 40944, 40945, 40946, 40947, 40948, 40949, 40951, 40953, 40954, 40957, 40958, 40959, 40961, 40963, 40968, 40969, 40970, 40971, 40972, 40973, 40975, 40977, 40979, 40985, 40986, 40988, 40989, 40990, 40993, 40994, 40997, 41000, 41001, 41002, 41003, 41005, 41006, 41007, 41009, 41010, 41014, 41016, 41017, 41019, 41020, 41021, 41023, 41026, 41031, 41034, 41035, 41036, 41039, 41044, 41045, 41047, 41049, 41050, 41053, 41055, 41059, 41060, 41062, 41064, 41065, 41066, 41067, 41073, 41077, 41078, 41080, 41084, 41089, 41090, 41091, 41094, 41095, 41099, 41100, 41101, 41102, 41103, 41104, 41105, 41106, 41107, 41108, 41111, 41113, 41114, 41115, 41117, 41119, 41122, 41125, 41126, 41127, 41128, 41130, 41132, 41134, 41137, 41141, 41142, 41144, 41148, 41153, 41154, 41155, 41157, 41158, 41159, 41161, 41163, 41164, 41165, 41170, 41171, 41175, 41178, 41180, 41181, 41183, 41185, 41187, 41189, 41190, 41192, 41193, 41194, 41195, 41198, 41200, 41204, 41206, 41207, 41208, 41212, 41213, 41216, 41217, 41219, 41220, 41221, 41222, 41223, 41225, 41226, 41228, 41229, 41230, 41232, 41233, 41234, 41235, 41236, 41238, 41244, 41246, 41247, 41248, 41249, 41251, 41253, 41256, 41257, 41259, 41265, 41266, 41267, 41268, 41271, 41272, 41273, 41278, 41279, 41282, 41283, 41284, 41286, 41288, 41289, 41290, 41292, 41299, 41300, 41301, 41302, 41303, 41307, 41309, 41314, 41315, 41317, 41320, 41321, 41325, 41328, 41331, 41332, 41336, 41337, 41338, 41339, 41340, 41341, 41342, 41348, 41350, 41351, 41355, 41356, 41357, 41360, 41361, 41362, 41366, 41367, 41368, 41369, 41372, 41373, 41374, 41375, 41376, 41378, 41379, 41380, 41381, 41382, 41383, 41385, 41388, 41389, 41390, 41391, 41392, 41394, 41395, 41404, 41405, 41408, 41409, 41410, 41411, 41412, 41413, 41415, 41416, 41418, 41420, 41422, 41423, 41426, 41429, 41431, 41432, 41433, 41434, 41436, 41439, 41440, 41442, 41444, 41445, 41446, 41447, 41448, 41449, 41453, 41454, 41459, 41460, 41462, 41464, 41465, 41467, 41468, 41469, 41471, 41472, 41473, 41474, 41477, 41478, 41479, 41480, 41481, 41482, 41483, 41486, 41487, 41489, 41491, 41492, 41498, 41499, 41500, 41504, 41505, 41506, 41508, 41509, 41511, 41513, 41518, 41521, 41522, 41525, 41526, 41527, 41528, 41530, 41531, 41532, 41534, 41535, 41536, 41538, 41539, 41540, 41542, 41546, 41551, 41553, 41556, 41557, 41560, 41561, 41563, 41565, 41569, 41570, 41571, 41572, 41573, 41576, 41577, 41578, 41579, 41582, 41583, 41585, 41586, 41589, 41592, 41593, 41594, 41595, 41597, 41599, 41600, 41601, 41603, 41604, 41605, 41607, 41608, 41609, 41610, 41611, 41613, 41614, 41616, 41617, 41619, 41621, 41623, 41624, 41625, 41626, 41627, 41628, 41629, 41630, 41632, 41635, 41636, 41638, 41639, 41640, 41641, 41643, 41646, 41651, 41652, 41654, 41655, 41656, 41657, 41658, 41659, 41662, 41663, 41667, 41674, 41676, 41678, 41683, 41684, 41687, 41688, 41690, 41695, 41697, 41698, 41703, 41704, 41705, 41707, 41710, 41711, 41713, 41714, 41715, 41718, 41720, 41721, 41724, 41727, 41728, 41729, 41732, 41734, 41735, 41736, 41740, 41744, 41746, 41747, 41748, 41749, 41750, 41751, 41752, 41758, 41761, 41762, 41765, 41766, 41767, 41768, 41769, 41770, 41773, 41774, 41776, 41777, 41778, 41781, 41785, 41788, 41789, 41790, 41791, 41792, 41793, 41803, 41804, 41805, 41807, 41809, 41810, 41811, 41814, 41815, 41818, 41819, 41820, 41822, 41823, 41824, 41826, 41827, 41828, 41829, 41831, 41832, 41834, 41835, 41838, 41840, 41841, 41842, 41844, 41845, 41846, 41848, 41849, 41852, 41857, 41858, 41859, 41863, 41864, 41867, 41868, 41869, 41871, 41872, 41873, 41874, 41875, 41878, 41879, 41880, 41883, 41886, 41887, 41889, 41894, 41896, 41897, 41899, 41903, 41906, 41907, 41908, 41911, 41913, 41914, 41916, 41921, 41922, 41925, 41927, 41928, 41929, 41931, 41935, 41936, 41938, 41939, 41940, 41941, 41942, 41944, 41945, 41946, 41952, 41961, 41963, 41965, 41966, 41968, 41969, 41971, 41972, 41973, 41974, 41977, 41978, 41981, 41984, 41985, 41986, 41987, 41988, 41989, 41991, 41992, 41995, 41997, 41998, 42003, 42005, 42009, 42012, 42014, 42017, 42020, 42021, 42023, 42024, 42025, 42026, 42028, 42033, 42034, 42035, 42037, 42038, 42040, 42043, 42044, 42047, 42048, 42049, 42051, 42052, 42053, 42055, 42056, 42057, 42061, 42063, 42068, 42072, 42074, 42078, 42081, 42084, 42085, 42086, 42089, 42091, 42092, 42093, 42095, 42098, 42100, 42101, 42102, 42103, 42105, 42106, 42108, 42109, 42111, 42114, 42115, 42117, 42118, 42119, 42121, 42122, 42125, 42127, 42128, 42129, 42130, 42132, 42135, 42138, 42139, 42140, 42141, 42143, 42144, 42152, 42153, 42154, 42155, 42156, 42158, 42160, 42161, 42162, 42163, 42165, 42166, 42169, 42170, 42172, 42173, 42175, 42176, 42178, 42179, 42180, 42182, 42183, 42184, 42185, 42186, 42192, 42193, 42195, 42197, 42199, 42201, 42204, 42207, 42209, 42219, 42221, 42222, 42223, 42224, 42225, 42226, 42229, 42230, 42231, 42233, 42234, 42235, 42239, 42242, 42244, 42246, 42247, 42249, 42250, 42251, 42252, 42254, 42255, 42257, 42260, 42261, 42262, 42263, 42264, 42265, 42266, 42271, 42272, 42273, 42274, 42275, 42277, 42278, 42279, 42281, 42284, 42285, 42286, 42289, 42290, 42291, 42292, 42293, 42295, 42297, 42298, 42302, 42303, 42304, 42305, 42306, 42307, 42309, 42312, 42313, 42314, 42317, 42320, 42321, 42322, 42323, 42325, 42328, 42329, 42330, 42333, 42334, 42338, 42339, 42343, 42345, 42351, 42352, 42353, 42354, 42356, 42357, 42358, 42359, 42360, 42361, 42363, 42364, 42366, 42368, 42370, 42371, 42372, 42374, 42377, 42378, 42382, 42383, 42387, 42389, 42390, 42391, 42395, 42398, 42400, 42401, 42403, 42404, 42405, 42409, 42410, 42411, 42414, 42415, 42417, 42420, 42421, 42423, 42426, 42427, 42431, 42432, 42433, 42434, 42437, 42439, 42441, 42443, 42445, 42448, 42450, 42453, 42455, 42460, 42462, 42463, 42464, 42465, 42466, 42468, 42469, 42472, 42473, 42474, 42478, 42480, 42485, 42486, 42487, 42489, 42490, 42492, 42493, 42494, 42497, 42498, 42505, 42509, 42512, 42513, 42515, 42518, 42519, 42520, 42525, 42526, 42527, 42531, 42532, 42533, 42537, 42538, 42539, 42541, 42542, 42545, 42546, 42547, 42548, 42549, 42551, 42552, 42553, 42557, 42561, 42565, 42566, 42567, 42569, 42570, 42573, 42574, 42575, 42576, 42580, 42581, 42582, 42584, 42585, 42587, 42588, 42589, 42590, 42591, 42592, 42593, 42595, 42596, 42597, 42599, 42600, 42603, 42605, 42607, 42609, 42610, 42612, 42613, 42617, 42619, 42620, 42622, 42625, 42627, 42631, 42632, 42636, 42637, 42638, 42640, 42641, 42642, 42646, 42647, 42649, 42650, 42651, 42653, 42654, 42656, 42661, 42663, 42664, 42666, 42668, 42669, 42671, 42672, 42673, 42674, 42676, 42678, 42679, 42680, 42683, 42686, 42691, 42694, 42695, 42696, 42698, 42700, 42702, 42704, 42706, 42707, 42710, 42711, 42712, 42713, 42715, 42719, 42720, 42721, 42725, 42726, 42727, 42728, 42729, 42730, 42731, 42734, 42736, 42738, 42740, 42741, 42744, 42746, 42747, 42749, 42750, 42751, 42752, 42753, 42754, 42755, 42759, 42761, 42764, 42769, 42770, 42771, 42772, 42773, 42776, 42778, 42786, 42789, 42792, 42793, 42794, 42795, 42797, 42798, 42804, 42807, 42808, 42810, 42811, 42812, 42814, 42816, 42823, 42824, 42825, 42827, 42830, 42831, 42834, 42836, 42837, 42838, 42842, 42844, 42848, 42852, 42853, 42858, 42859, 42861, 42863, 42864, 42865, 42867, 42868, 42869, 42870, 42871, 42872, 42873, 42876, 42877, 42879, 42882, 42883, 42887, 42889, 42892, 42893, 42894, 42896, 42897, 42900, 42901, 42903, 42904, 42908, 42909, 42910, 42911, 42914, 42915, 42916, 42917, 42919, 42920, 42921, 42922, 42923, 42925, 42926, 42928, 42930, 42933, 42934, 42937, 42938, 42941, 42944, 42945, 42947, 42949, 42953, 42958, 42961, 42963, 42966, 42967, 42968, 42970, 42971, 42972, 42973, 42974, 42975, 42976, 42977, 42978, 42980, 42981, 42983, 42984, 42988, 42989, 42990, 42991, 42992, 42994, 42995, 42998, 43000, 43001, 43005, 43006, 43007, 43009, 43010, 43013, 43014, 43015, 43016, 43017, 43018, 43019, 43020, 43021, 43022, 43027, 43039, 43042, 43043, 43048, 43050, 43051, 43052, 43053, 43056, 43058, 43059, 43060, 43067, 43070, 43072, 43074, 43075, 43076, 43077, 43079, 43081, 43082, 43083, 43084, 43085, 43086, 43087, 43088, 43090, 43091, 43092, 43093, 43095, 43102, 43103, 43107, 43109, 43111, 43112, 43114, 43119, 43120, 43122, 43123, 43124, 43125, 43126, 43128, 43130, 43131, 43132, 43133, 43134, 43135, 43137, 43140, 43141, 43142, 43143, 43144, 43145, 43146, 43147, 43148, 43149, 43151, 43153, 43156, 43159, 43163, 43164, 43167, 43168, 43169, 43170, 43171, 43172, 43173, 43174, 43175, 43176, 43178, 43182, 43183, 43189, 43190, 43194, 43195, 43197, 43199, 43202, 43204, 43206, 43207, 43208, 43210, 43213, 43214, 43215, 43217, 43221, 43222, 43224, 43226, 43227, 43229, 43230, 43232, 43234, 43235, 43236, 43237, 43242, 43244, 43245, 43247, 43248, 43249, 43252, 43254, 43257, 43260, 43261, 43262, 43264, 43268, 43269, 43270, 43272, 43273, 43275, 43276, 43277, 43278, 43280, 43281, 43282, 43284, 43285, 43286, 43288, 43291, 43294, 43295, 43297, 43299, 43302, 43305, 43306, 43307, 43309, 43310, 43311, 43312, 43314, 43315, 43316, 43317, 43319, 43321, 43322, 43324, 43325, 43326, 43329, 43333, 43335, 43337, 43339, 43342, 43343, 43344, 43347, 43348, 43352, 43353, 43354, 43356, 43357, 43360, 43361, 43362, 43366, 43368, 43373, 43376, 43377, 43378, 43379, 43383, 43384, 43386, 43387, 43392, 43393, 43394, 43395, 43398, 43400, 43404, 43405, 43406, 43408, 43410, 43411, 43412, 43414, 43416, 43418, 43421, 43422, 43425, 43426, 43427, 43431, 43434, 43435, 43437, 43440, 43442, 43443, 43444, 43445, 43446, 43447, 43448, 43450, 43451, 43453, 43457, 43458, 43461, 43464, 43465, 43468, 43470, 43472, 43473, 43474, 43475, 43480, 43481, 43483, 43484, 43485, 43486, 43487, 43488, 43489, 43491, 43492, 43493, 43494, 43497, 43502, 43504, 43505, 43510, 43512, 43514, 43516, 43517, 43518, 43521, 43523, 43525, 43529, 43530, 43531, 43532, 43534, 43538, 43539, 43540, 43541, 43543, 43544, 43545, 43549, 43552, 43554, 43555, 43556, 43557, 43559, 43561, 43564, 43566, 43568, 43570, 43572, 43575, 43576, 43578, 43580, 43584, 43586, 43587, 43588, 43590, 43595, 43596, 43599, 43600, 43601, 43603, 43605, 43606, 43607, 43608, 43609, 43614, 43616, 43617, 43618, 43619, 43622, 43624, 43625, 43626, 43627, 43629, 43630, 43632, 43633, 43635, 43638, 43644, 43645, 43646, 43652, 43653, 43656, 43660, 43662, 43666, 43669, 43671, 43672, 43676, 43677, 43679, 43680, 43682, 43683, 43684, 43686, 43687, 43688, 43690, 43692, 43694, 43695, 43696, 43698, 43702, 43703, 43704, 43705, 43706, 43707, 43708, 43709, 43711, 43712, 43713, 43716, 43717, 43720, 43723, 43724, 43725, 43727, 43731, 43732, 43733, 43735, 43738, 43741, 43747, 43748, 43749, 43751, 43753, 43756, 43757, 43758, 43759, 43761, 43763, 43768, 43769, 43771, 43773, 43774, 43775, 43776, 43777, 43783, 43784, 43785, 43788, 43789, 43790, 43791, 43792, 43793, 43794, 43796, 43798, 43799, 43800, 43802, 43803, 43805, 43806, 43807, 43808, 43809, 43810, 43811, 43814, 43815, 43816, 43818, 43819, 43820, 43821, 43829, 43831, 43833, 43836, 43839, 43840, 43845, 43846, 43850, 43851, 43852, 43855, 43856, 43857, 43858, 43860, 43861, 43863, 43864, 43866, 43873, 43877, 43880, 43881, 43882, 43884, 43887, 43888, 43889, 43891, 43893, 43894, 43895, 43896, 43898, 43899, 43901, 43902, 43904, 43907, 43909, 43910, 43913, 43915, 43917, 43918, 43919, 43920, 43921, 43922, 43923, 43924, 43925, 43926, 43928, 43930, 43931, 43932, 43933, 43934, 43935, 43936, 43940, 43945, 43946, 43952, 43953, 43956, 43958, 43959, 43960, 43962, 43965, 43966, 43968, 43970, 43972, 43973, 43974, 43975, 43976, 43977, 43979, 43980, 43981, 43983, 43986, 43987, 43993, 43994, 43998, 43999, 44001, 44002, 44004, 44008, 44009, 44013, 44014, 44015, 44016, 44017, 44018, 44020, 44024, 44027, 44028, 44029, 44030, 44032, 44034, 44040, 44044, 44051, 44052, 44055, 44057, 44059, 44061, 44062, 44065, 44067, 44068, 44069, 44070, 44073, 44075, 44076, 44077, 44079, 44080, 44086, 44087, 44088, 44089, 44091, 44092, 44093, 44094, 44096, 44097, 44098, 44104, 44114, 44115, 44118, 44119, 44120, 44123, 44125, 44126, 44127, 44131, 44132, 44133, 44134, 44135, 44138, 44142, 44144, 44146, 44148, 44150, 44151, 44153, 44156, 44157, 44158, 44159, 44163, 44164, 44166, 44168, 44169, 44171, 44172, 44173, 44176, 44177, 44179, 44181, 44182, 44185, 44188, 44190, 44192, 44194, 44196, 44198, 44199, 44204, 44205, 44206, 44207, 44208, 44209, 44213, 44214, 44215, 44216, 44217, 44218, 44219, 44220, 44222, 44225, 44228, 44231, 44235, 44236, 44237, 44239, 44243, 44244, 44246, 44247, 44248, 44251, 44252, 44253, 44254, 44255, 44258, 44260, 44261, 44262, 44264, 44266, 44270, 44271, 44272, 44276, 44277, 44279, 44282, 44284, 44287, 44288, 44289, 44291, 44293, 44294, 44295, 44296, 44297, 44298, 44300, 44301, 44303, 44305, 44307, 44309, 44310, 44311, 44312, 44313, 44316, 44317, 44319, 44320, 44321, 44323, 44326, 44327, 44328, 44332, 44334, 44335, 44336, 44338, 44339, 44340, 44342, 44343, 44346, 44347, 44349, 44350, 44353, 44354, 44355, 44358, 44360, 44364, 44366, 44368, 44369, 44371, 44373, 44374, 44375, 44376, 44377, 44379, 44380, 44383, 44384, 44385, 44387, 44388, 44390, 44391, 44393, 44394, 44397, 44401, 44402, 44405, 44409, 44411, 44412, 44414, 44417, 44419, 44421, 44423, 44424, 44425, 44426, 44428, 44430, 44431, 44432, 44434, 44438, 44440, 44442, 44444, 44445, 44448, 44449, 44450, 44451, 44452, 44454, 44457, 44458, 44459, 44461, 44463, 44464, 44469, 44470, 44473, 44474, 44476, 44477, 44478, 44481, 44482, 44483, 44485, 44486, 44488, 44489, 44490, 44494, 44495, 44498, 44500, 44502, 44504, 44505, 44507, 44508, 44511, 44512, 44513, 44514, 44515, 44516, 44517, 44520, 44521, 44522, 44523, 44524, 44526, 44530, 44531, 44532, 44534, 44535, 44537, 44538, 44539, 44541, 44544, 44546, 44547, 44551, 44553, 44554, 44557, 44558, 44559, 44561, 44562, 44563, 44565, 44566, 44567, 44568, 44569, 44573, 44576, 44577, 44578, 44580, 44582, 44583, 44584, 44585, 44589, 44591, 44596, 44597, 44598, 44599, 44600, 44601, 44603, 44604, 44605, 44606, 44609, 44610, 44613, 44614, 44615, 44616, 44623, 44624, 44626, 44633, 44634, 44635, 44636, 44637, 44638, 44639, 44643, 44644, 44645, 44646, 44647, 44649, 44651, 44653, 44655, 44656, 44665, 44666, 44671, 44672, 44675, 44679, 44680, 44682, 44683, 44684, 44685, 44688, 44689, 44691, 44692, 44694, 44695, 44696, 44697, 44698, 44702, 44703, 44705, 44706, 44707, 44708, 44709, 44710, 44713, 44714, 44715, 44716, 44721, 44723, 44724, 44725, 44726, 44727, 44730, 44731, 44733, 44734, 44735, 44736, 44739, 44742, 44743, 44745, 44747, 44748, 44749, 44751, 44752, 44753, 44758, 44759, 44762, 44763, 44764, 44765, 44766, 44768, 44770, 44771, 44772, 44776, 44780, 44782, 44783, 44787, 44790, 44791, 44795, 44796, 44797, 44799, 44803, 44805, 44806, 44808, 44809, 44810, 44811, 44812, 44813, 44814, 44815, 44818, 44821, 44823, 44825, 44828, 44829, 44832, 44834, 44835, 44836, 44838, 44840, 44843, 44844, 44847, 44848, 44849, 44850, 44851, 44853, 44855, 44858, 44860, 44862, 44864, 44865, 44868, 44870, 44871, 44872, 44873, 44876, 44879, 44881, 44883, 44886, 44887, 44889, 44890, 44891, 44894, 44895, 44898, 44902, 44905, 44912, 44916, 44917, 44919, 44920, 44921, 44923, 44924, 44925, 44926, 44927, 44929, 44930, 44932, 44934, 44936, 44940, 44941, 44943, 44944, 44945, 44947, 44949, 44958, 44962, 44963, 44964, 44966, 44967, 44969, 44972, 44974, 44975, 44978, 44979, 44981, 44982, 44983, 44984, 44985, 44987, 44988, 44989, 44990, 44991, 44992, 44993, 44994, 44995, 44996, 44998, 45000, 45001, 45002, 45004, 45006, 45008, 45010, 45012, 45013, 45015, 45018, 45019, 45022, 45024, 45025, 45026, 45028, 45029, 45032, 45033, 45039, 45043, 45045, 45047, 45049, 45051, 45053, 45055, 45056, 45059, 45060, 45063, 45064, 45065, 45066, 45067, 45068, 45070, 45072, 45073, 45074, 45075, 45077, 45078, 45079, 45080, 45081, 45082, 45084, 45086, 45088, 45091, 45098, 45100, 45101, 45102, 45103, 45105, 45107, 45108, 45109, 45111, 45112, 45114, 45116, 45118, 45119, 45122, 45123, 45125, 45126, 45129, 45131, 45133, 45138, 45142, 45143, 45144, 45145, 45146, 45147, 45148, 45151, 45152, 45153, 45155, 45156, 45158, 45160, 45161, 45164, 45167, 45169, 45171, 45173, 45177, 45178, 45179, 45180, 45183, 45185, 45187, 45190, 45192, 45194, 45195, 45196, 45200, 45201, 45203, 45204, 45205, 45207, 45209, 45211, 45215, 45217, 45218, 45219, 45220, 45221, 45222, 45224, 45227, 45230, 45231, 45232, 45234, 45238, 45240, 45241, 45242, 45244, 45246, 45247, 45249, 45253, 45255, 45262, 45263, 45266, 45267, 45273, 45278, 45279, 45281, 45282, 45284, 45285, 45286, 45287, 45289, 45290, 45291, 45294, 45296, 45299, 45304, 45305, 45306, 45307, 45309, 45311, 45313, 45319, 45320, 45323, 45325, 45326, 45327, 45329, 45330, 45331, 45332, 45333, 45334, 45336, 45340, 45341, 45342, 45343, 45344, 45345, 45346, 45347, 45348, 45349, 45350, 45351, 45356, 45357, 45359, 45362, 45365, 45366, 45368, 45369, 45371, 45372, 45373, 45374, 45376, 45377, 45378, 45379, 45381, 45383, 45386, 45387, 45388, 45390, 45391, 45392, 45393, 45395, 45398, 45399, 45400, 45401, 45402, 45403, 45405, 45406, 45410, 45411, 45412, 45413, 45415, 45417, 45422, 45424, 45429, 45430, 45431, 45432, 45433, 45434, 45435, 45436, 45437, 45439, 45440, 45443, 45444, 45447, 45448, 45449, 45450, 45451, 45452, 45453, 45455, 45456, 45457, 45458, 45460, 45461, 45462, 45464, 45465, 45466, 45468, 45469, 45470, 45471, 45472, 45474, 45478, 45479, 45480, 45481, 45482, 45483, 45485, 45487, 45488, 45489, 45490, 45491, 45497, 45498, 45499, 45500, 45507, 45508, 45509, 45515, 45516, 45518, 45520, 45521, 45524, 45525, 45526, 45528, 45531, 45532, 45533, 45535, 45536, 45539, 45542, 45543, 45544, 45546, 45550, 45551, 45552, 45553, 45554, 45555, 45556, 45557, 45558, 45560, 45562, 45565, 45566, 45567, 45568, 45569, 45570, 45573, 45574, 45575, 45577, 45580, 45583, 45584, 45586, 45588, 45589, 45591, 45595, 45596, 45597, 45598, 45599, 45603, 45604, 45605, 45607, 45608, 45609, 45610, 45613, 45614, 45615, 45616, 45617, 45618, 45619, 45621, 45622, 45623, 45624, 45626, 45627, 45629, 45634, 45638, 45639, 45640, 45641, 45642, 45649, 45651, 45653, 45654, 45656, 45657, 45660, 45662, 45665, 45668, 45670, 45673, 45674, 45675, 45677, 45679, 45681, 45682, 45684, 45686, 45687, 45689, 45690, 45693, 45694, 45695, 45697, 45699, 45700, 45701, 45702, 45704, 45707, 45708, 45709, 45710, 45711, 45714, 45717, 45723, 45726, 45727, 45728, 45729, 45731, 45733, 45734, 45736, 45738, 45739, 45740, 45743, 45744, 45746, 45748, 45749, 45750, 45751, 45752, 45753, 45755, 45757, 45758, 45759, 45760, 45761, 45763, 45765, 45767, 45769, 45770, 45771, 45773, 45775, 45776, 45781, 45782, 45783, 45786, 45787, 45789, 45790, 45793, 45794, 45796, 45798, 45799, 45800, 45801, 45802, 45806, 45807, 45810, 45812, 45813, 45817, 45822, 45826, 45830, 45831, 45833, 45836, 45837, 45839, 45841, 45842, 45843, 45844, 45845, 45846, 45847, 45849, 45850, 45856, 45859, 45860, 45861, 45864, 45867, 45869, 45872, 45875, 45876, 45877, 45879, 45881, 45883, 45884, 45885, 45886, 45887, 45888, 45889, 45890, 45894, 45895, 45896, 45897, 45900, 45901, 45903, 45905, 45912, 45914, 45915, 45916, 45919, 45924, 45928, 45930, 45933, 45935, 45937, 45940, 45941, 45944, 45949, 45952, 45953, 45954, 45955, 45956, 45958, 45959, 45962, 45963, 45965, 45968, 45970, 45971, 45973, 45976, 45977, 45978, 45979, 45980, 45981, 45982, 45983, 45987, 45990, 45992, 45993, 45995, 45997, 45999, 46000, 46003, 46004, 46009, 46010, 46011, 46012, 46013, 46016, 46017, 46018, 46023, 46024, 46026, 46027, 46028, 46029, 46030, 46031, 46032, 46033, 46034, 46036, 46037, 46041, 46045, 46046, 46047, 46048, 46050, 46052, 46053, 46054, 46055, 46056, 46058, 46059, 46061, 46065, 46067, 46068, 46069, 46070, 46071, 46072, 46074, 46075, 46080, 46081, 46082, 46084, 46086, 46088, 46089, 46091, 46094, 46095, 46099, 46100, 46101, 46102, 46103, 46104, 46105, 46106, 46107, 46108, 46109, 46110, 46111, 46112, 46113, 46115, 46117, 46118, 46119, 46120, 46121, 46123, 46124, 46126, 46128, 46129, 46130, 46133, 46134, 46135, 46137, 46138, 46142, 46143, 46144, 46148, 46149, 46150, 46151, 46152, 46161, 46162, 46163, 46164, 46165, 46167, 46172, 46173, 46174, 46176, 46177, 46178, 46181, 46183, 46184, 46188, 46191, 46193, 46194, 46195, 46196, 46198, 46200, 46201, 46202, 46203, 46204, 46205, 46206, 46207, 46208, 46211, 46213, 46214, 46218, 46219, 46224, 46230, 46231, 46232, 46233, 46235, 46236, 46237, 46239, 46242, 46243, 46244, 46245, 46246, 46248, 46249, 46252, 46253, 46254, 46259, 46260, 46262, 46264, 46266, 46269, 46271, 46275, 46276, 46278, 46279, 46280, 46281, 46282, 46283, 46286, 46289, 46295, 46296, 46297, 46305, 46306, 46309, 46310, 46311, 46315, 46316, 46317, 46319, 46320, 46321, 46322, 46324, 46325, 46326, 46327, 46330, 46331, 46332, 46333, 46334, 46336, 46338, 46344, 46345, 46346, 46355, 46356, 46357, 46359, 46361, 46365, 46366, 46367, 46370, 46373, 46381, 46382, 46383, 46384, 46385, 46387, 46389, 46391, 46392, 46393, 46395, 46396, 46397, 46398, 46399, 46400, 46401, 46402, 46404, 46406, 46408, 46409, 46410, 46411, 46413, 46414, 46417, 46418, 46419, 46420, 46422, 46424, 46425, 46426, 46429, 46430, 46431, 46432, 46433, 46434, 46435, 46438, 46441, 46443, 46444, 46445, 46450, 46451, 46452, 46454, 46457, 46458, 46461, 46462, 46463, 46464, 46467, 46473, 46474, 46475, 46476, 46477, 46478, 46481, 46482, 46483, 46484, 46485, 46489, 46490, 46491, 46492, 46496, 46497, 46499, 46500, 46501, 46504, 46505, 46506, 46508, 46511, 46517, 46518, 46519, 46520, 46526, 46528, 46530, 46532, 46538, 46539, 46542, 46543, 46546, 46551, 46555, 46556, 46562, 46563, 46564, 46567, 46571, 46572, 46579, 46580, 46581, 46585, 46586, 46588, 46590, 46591, 46596, 46598, 46599, 46601, 46602, 46603, 46604, 46607, 46610, 46612, 46614, 46615, 46618, 46619, 46620, 46621, 46623, 46624, 46625, 46632, 46636, 46637, 46638, 46639, 46640, 46641, 46643, 46644, 46646, 46649, 46651, 46652, 46654, 46655, 46656, 46657, 46660, 46661, 46662, 46663, 46664, 46668, 46669, 46670, 46673, 46675, 46679, 46680, 46683, 46687, 46690, 46692, 46693, 46695, 46696, 46697, 46698, 46699, 46701, 46702, 46705, 46706, 46711, 46712, 46713, 46714, 46716, 46722, 46723, 46724, 46726, 46727, 46728, 46729, 46730, 46732, 46736, 46737, 46738, 46739, 46740, 46741, 46743, 46746, 46748, 46749, 46755, 46756, 46757, 46760, 46762, 46763, 46765, 46766, 46767, 46770, 46771, 46772, 46777, 46780, 46782, 46785, 46786, 46790, 46792, 46793, 46794, 46795, 46800, 46801, 46805, 46806, 46809, 46811, 46812, 46813, 46817, 46818, 46819, 46820, 46821, 46824, 46825, 46826, 46828, 46829, 46831, 46836, 46838, 46841, 46842, 46843, 46844, 46845, 46846, 46847, 46849, 46851, 46852, 46854, 46855, 46856, 46858, 46859, 46861, 46862, 46866, 46870, 46871, 46872, 46873, 46874, 46875, 46877, 46878, 46883, 46885, 46886, 46887, 46889, 46890, 46891, 46893, 46895, 46896, 46899, 46901, 46902, 46905, 46907, 46909, 46910, 46912, 46913, 46915, 46918, 46920, 46921, 46924, 46926, 46927, 46928, 46929, 46932, 46933, 46934, 46935, 46936, 46937, 46938, 46941, 46944, 46945, 46946, 46947, 46948, 46952, 46953, 46955, 46957, 46960, 46965, 46968, 46970, 46971, 46974, 46975, 46976, 46979, 46982, 46983, 46985, 46986, 46987, 46988, 46989, 46991, 46992, 46995, 46998, 46999, 47000, 47001, 47002, 47008, 47010, 47011, 47012, 47015, 47016, 47017, 47020, 47023, 47024, 47025, 47028, 47029, 47030, 47031, 47035, 47036, 47039, 47040, 47041, 47045, 47046, 47047, 47050, 47053, 47054, 47057, 47061, 47062, 47063, 47065, 47070, 47074, 47077, 47078, 47082, 47088, 47089, 47094, 47096, 47097, 47098, 47099, 47101, 47102, 47103, 47104, 47105, 47107, 47108, 47110, 47112, 47116, 47117, 47119, 47120, 47125, 47126, 47127, 47128, 47133, 47134, 47135, 47136, 47138, 47139, 47141, 47142, 47143, 47145, 47152, 47153, 47154, 47155, 47156, 47157, 47158, 47160, 47161, 47166, 47167, 47169, 47170, 47171, 47172, 47174, 47177, 47180, 47181, 47182, 47184, 47185, 47186, 47187, 47191, 47192, 47193, 47195, 47196, 47198, 47199, 47202, 47206, 47207, 47208, 47210, 47214, 47216, 47218, 47222, 47223, 47224, 47226, 47229, 47236, 47238, 47239, 47243, 47244, 47245, 47246, 47247, 47248, 47249, 47250, 47252, 47255, 47258, 47259, 47263, 47264, 47266, 47267, 47269, 47270, 47274, 47278, 47279, 47280, 47281, 47282, 47283, 47285, 47286, 47287, 47288, 47289, 47290, 47293, 47294, 47295, 47296, 47297, 47298, 47301, 47302, 47303, 47304, 47307, 47313, 47314, 47316, 47318, 47319, 47320, 47322, 47323, 47324, 47325, 47326, 47327, 47331, 47332, 47333, 47334, 47338, 47339, 47341, 47342, 47343, 47345, 47346, 47347, 47348, 47349, 47350, 47352, 47354, 47356, 47357, 47360, 47362, 47367, 47370, 47371, 47375, 47376, 47377, 47378, 47382, 47384, 47386, 47387, 47388, 47390, 47392, 47395, 47397, 47401, 47402, 47404, 47405, 47406, 47410, 47411, 47413, 47414, 47415, 47416, 47418, 47419, 47424, 47426, 47427, 47429, 47430, 47434, 47435, 47442, 47444, 47446, 47447, 47448, 47450, 47456, 47460, 47461, 47465, 47469, 47470, 47471, 47472, 47474, 47475, 47479, 47481, 47482, 47484, 47487, 47488, 47489, 47490, 47491, 47492, 47497, 47500, 47501, 47504, 47505, 47510, 47511, 47512, 47513, 47517, 47518, 47519, 47520, 47521, 47523, 47527, 47533, 47534, 47537, 47538, 47539, 47542, 47544, 47545, 47546, 47547, 47548, 47549, 47550, 47551, 47553, 47554, 47556, 47560, 47562, 47563, 47564, 47566, 47568, 47569, 47570, 47571, 47572, 47574, 47575, 47576, 47577, 47578, 47579, 47580, 47581, 47582, 47584, 47585, 47587, 47591, 47592, 47595, 47600, 47601, 47607, 47608, 47609, 47612, 47613, 47615, 47618, 47619, 47620, 47621, 47627, 47628, 47630, 47633, 47634, 47637, 47638, 47640, 47641, 47643, 47646, 47647, 47650, 47651, 47652, 47653, 47654, 47655, 47656, 47657, 47661, 47662, 47663, 47665, 47666, 47667, 47668, 47670, 47671, 47678, 47679, 47680, 47681, 47682, 47683, 47684, 47685, 47686, 47687, 47689, 47692, 47693, 47694, 47695, 47696, 47699, 47701, 47702, 47703, 47704, 47707, 47708, 47709, 47710, 47712, 47714, 47717, 47719, 47723, 47724, 47725, 47726, 47727, 47728, 47729, 47730, 47732, 47734, 47736, 47737, 47738, 47739, 47740, 47741, 47742, 47743, 47744, 47747, 47749, 47750, 47751, 47752, 47754, 47755, 47756, 47757, 47758, 47761, 47762, 47763, 47764, 47765, 47767, 47768, 47769, 47771, 47773, 47777, 47778, 47779, 47780, 47783, 47785, 47786, 47787, 47789, 47792, 47794, 47795, 47796, 47797, 47800, 47802, 47803, 47805, 47806, 47807, 47808, 47810, 47815, 47816, 47817, 47819, 47822, 47823, 47824, 47826, 47827, 47828, 47830, 47833, 47835, 47836, 47837, 47838, 47841, 47842, 47843, 47844, 47846, 47847, 47848, 47849, 47851, 47852, 47855, 47857, 47858, 47859, 47860, 47861, 47864, 47865, 47866, 47867, 47869, 47870, 47871, 47873, 47874, 47876, 47877, 47878, 47879, 47880, 47881, 47884, 47886, 47889, 47890, 47891, 47892, 47894, 47895, 47896, 47897, 47898, 47903, 47904, 47908, 47912, 47914, 47915, 47916, 47917, 47920, 47923, 47924, 47925, 47926, 47928, 47931, 47932, 47935, 47943, 47944, 47946, 47947, 47949, 47950, 47951, 47952, 47953, 47955, 47956, 47961, 47962, 47964, 47965, 47966, 47967, 47970, 47971, 47977, 47979, 47981, 47982, 47983, 47985, 47987, 47991, 47992, 47994, 47996, 47998, 47999, 48004, 48005, 48006, 48007, 48009, 48010, 48012, 48013, 48014, 48015, 48016, 48018, 48020, 48021, 48022, 48023, 48024, 48026, 48027, 48029, 48031, 48034, 48036, 48037, 48040, 48045, 48046, 48047, 48048, 48049, 48050, 48053, 48055, 48057, 48059, 48060, 48062, 48063, 48064, 48066, 48070, 48072, 48073, 48074, 48076, 48078, 48080, 48081, 48086, 48087, 48089, 48090, 48091, 48092, 48093, 48094, 48097, 48099, 48102, 48104, 48105, 48111, 48116, 48119, 48121, 48124, 48125, 48127, 48128, 48130, 48131, 48132, 48133, 48134, 48140, 48142, 48147, 48148, 48149, 48150, 48151, 48152, 48153, 48154, 48155, 48159, 48160, 48161, 48162, 48163, 48164, 48166, 48168, 48170, 48171, 48172, 48173, 48176, 48180, 48181, 48182, 48183, 48185, 48186, 48188, 48190, 48192, 48193, 48195, 48196, 48197, 48198, 48200, 48201, 48204, 48205, 48206, 48207, 48208, 48209, 48210, 48212, 48214, 48216, 48218, 48219, 48221, 48223, 48226, 48227, 48230, 48231, 48233, 48235, 48238, 48242, 48246, 48248, 48251, 48252, 48256, 48257, 48258, 48262, 48264, 48266, 48268, 48269, 48272, 48273, 48274, 48276, 48279, 48280, 48282, 48284, 48285, 48286, 48289, 48293, 48295, 48296, 48297, 48299, 48300, 48301, 48303, 48309, 48312, 48314, 48315, 48316, 48319, 48320, 48321, 48323, 48324, 48325, 48326, 48328, 48331, 48332, 48333, 48334, 48337, 48342, 48343, 48344, 48348, 48350, 48352, 48353, 48357, 48360, 48361, 48364, 48368, 48369, 48370, 48372, 48373, 48377, 48379, 48380, 48382, 48383, 48384, 48385, 48386, 48389, 48390, 48392, 48393, 48395, 48400, 48402, 48404, 48405, 48406, 48408, 48411, 48416, 48418, 48419, 48421, 48422, 48424, 48425, 48426, 48427, 48428, 48429, 48430, 48432, 48434, 48436, 48437, 48438, 48439, 48443, 48444, 48445, 48446, 48447, 48449, 48451, 48453, 48454, 48456, 48462, 48464, 48465, 48466, 48467, 48470, 48471, 48472, 48475, 48478, 48479, 48482, 48483, 48484, 48485, 48487, 48489, 48492, 48495, 48496, 48497, 48498, 48501, 48505, 48507, 48510, 48512, 48514, 48515, 48517, 48518, 48520, 48522, 48524, 48525, 48527, 48528, 48529, 48530, 48532, 48534, 48535, 48537, 48538, 48541, 48542, 48543, 48547, 48551, 48552, 48553, 48556, 48558, 48559, 48561, 48563, 48564, 48565, 48567, 48568, 48569, 48572, 48573, 48574, 48575, 48578, 48579, 48580, 48581, 48582, 48583, 48584, 48586, 48589, 48591, 48592, 48593, 48599, 48600, 48601, 48603, 48609, 48610, 48611, 48613, 48615, 48616, 48617, 48618, 48619, 48623, 48624, 48626, 48628, 48629, 48631, 48632, 48633, 48634, 48637, 48638, 48639, 48646, 48647, 48649, 48650, 48652, 48654, 48659, 48661, 48665, 48666, 48668, 48670, 48672, 48674, 48679, 48680, 48681, 48684, 48685, 48687, 48689, 48690, 48691, 48692, 48693, 48694, 48696, 48699, 48700, 48701, 48702, 48703, 48705, 48706, 48707, 48708, 48709, 48710, 48711, 48713, 48716, 48718, 48724, 48725, 48727, 48728, 48729, 48730, 48731, 48732, 48733, 48734, 48735, 48737, 48738, 48739, 48740, 48741, 48742, 48743, 48745, 48746, 48748, 48749, 48750, 48751, 48754, 48757, 48759, 48760, 48762, 48765, 48769, 48770, 48773, 48774, 48776, 48779, 48781, 48782, 48783, 48784, 48785, 48786, 48791, 48792, 48794, 48795, 48797, 48798, 48802, 48803, 48804, 48806, 48807, 48809, 48811, 48812, 48813, 48814, 48816, 48819, 48822, 48825, 48826, 48828, 48830, 48833, 48834, 48836, 48838, 48839, 48840, 48841, 48843, 48844, 48848, 48850, 48851, 48853, 48855, 48856, 48857, 48859, 48860, 48863, 48864, 48866, 48868, 48869, 48872, 48873, 48874, 48875, 48877, 48879, 48880, 48883, 48884, 48885, 48887, 48888, 48889, 48892, 48893, 48894, 48897, 48898, 48906, 48909, 48910, 48911, 48912, 48915, 48917, 48918, 48919, 48920, 48924, 48925, 48926, 48928, 48930, 48931, 48932, 48934, 48936, 48937, 48938, 48939, 48940, 48941, 48942, 48946, 48947, 48948, 48950, 48952, 48954, 48955, 48956, 48958, 48961, 48963, 48964, 48966, 48972, 48973, 48975, 48976, 48979, 48981, 48982, 48985, 48986, 48988, 48989, 48990, 48991, 48993, 48995, 48998, 49000, 49001, 49003, 49004, 49008, 49010, 49011, 49012, 49019, 49029, 49030, 49032, 49033, 49036, 49038, 49039, 49040, 49042, 49044, 49045, 49047, 49050, 49051, 49052, 49053, 49054, 49055, 49057, 49060, 49061, 49063, 49066, 49068, 49071, 49072, 49073, 49076, 49079, 49081, 49082, 49083, 49084, 49085, 49086, 49088, 49089, 49091, 49092, 49096, 49097, 49099, 49100, 49101, 49103, 49104, 49105, 49107, 49108, 49109, 49110, 49113, 49114, 49116, 49118, 49119, 49120, 49121, 49123, 49126, 49128, 49130, 49131, 49134, 49135, 49137, 49138, 49139, 49140, 49144, 49145, 49146, 49154, 49157, 49159, 49162, 49163, 49165, 49166, 49173, 49175, 49176, 49177, 49178, 49179, 49180, 49183, 49184, 49186, 49191, 49193, 49195, 49196, 49199, 49200, 49201, 49203, 49204, 49205, 49206, 49208, 49211, 49214, 49216, 49217, 49219, 49220, 49222, 49224, 49227, 49229, 49230, 49233, 49235, 49237, 49241, 49242, 49243, 49246, 49247, 49251, 49252, 49253, 49254, 49256, 49257, 49258, 49259, 49260, 49262, 49264, 49265, 49266, 49267, 49268, 49269, 49272, 49273, 49274, 49276, 49277, 49278, 49279, 49281, 49283, 49284, 49285, 49289, 49290, 49291, 49293, 49295, 49299, 49300, 49301, 49302, 49304, 49305, 49307, 49308, 49312, 49313, 49316, 49319, 49321, 49322, 49323, 49324, 49325, 49326, 49328, 49329, 49331, 49333, 49335, 49336, 49337, 49338, 49339, 49340, 49341, 49344, 49345, 49346, 49347, 49349, 49350, 49351, 49353, 49354, 49356, 49359, 49360, 49366, 49367, 49371, 49372, 49373, 49375, 49376, 49377, 49379, 49382, 49383, 49385, 49386, 49387, 49389, 49390, 49391, 49393, 49395, 49396, 49397, 49399, 49400, 49403, 49406, 49407, 49408, 49409, 49410, 49412, 49413, 49415, 49416, 49417, 49418, 49421, 49424, 49426, 49430, 49433, 49434, 49435, 49438, 49439, 49440, 49445, 49446, 49448, 49451, 49452, 49453, 49454, 49455, 49457, 49458, 49459, 49463, 49464, 49465, 49466, 49469, 49471, 49472, 49473, 49474, 49475, 49476, 49478, 49482, 49484, 49485, 49486, 49487, 49488, 49489, 49490, 49491, 49494, 49495, 49496, 49497, 49501, 49503, 49505, 49506, 49508, 49511, 49513, 49515, 49516, 49518, 49520, 49521, 49522, 49524, 49526, 49527, 49531, 49532, 49534, 49536, 49538, 49541, 49542, 49543, 49544, 49547, 49548, 49549, 49552, 49554, 49555, 49558, 49559, 49560, 49562, 49563, 49568, 49569, 49571, 49573, 49577, 49578, 49581, 49582, 49583, 49584, 49585, 49586, 49588, 49589, 49591, 49592, 49593, 49595, 49596, 49598, 49600, 49602, 49604, 49605, 49606, 49607, 49608, 49609, 49610, 49611, 49612, 49614, 49616, 49617, 49620, 49621, 49622, 49623, 49624, 49628, 49629, 49630, 49631, 49635, 49636, 49638, 49643, 49646, 49647, 49648, 49649, 49650, 49651, 49652, 49653, 49654, 49655, 49657, 49660, 49662, 49663, 49665, 49666, 49668, 49670, 49671, 49672, 49673, 49675, 49676, 49678, 49680, 49681, 49682, 49686, 49687, 49688, 49689, 49695, 49696, 49701, 49702, 49703, 49705, 49706, 49707, 49708, 49709, 49712, 49714, 49718, 49720, 49724, 49725, 49727, 49728, 49731, 49732, 49734, 49735, 49736, 49738, 49740, 49741, 49745, 49746, 49750, 49752, 49754, 49756, 49759, 49760, 49761, 49762, 49764, 49765, 49767, 49769, 49770, 49772, 49773, 49774, 49775, 49776, 49778, 49780, 49786, 49787, 49791, 49792, 49793, 49796, 49797, 49798, 49800, 49801, 49804, 49807, 49808, 49809, 49811, 49813, 49814, 49815, 49816, 49818, 49819, 49820, 49823, 49824, 49826, 49827, 49828, 49830, 49831, 49834, 49835, 49837, 49838, 49839, 49840, 49844, 49845, 49850, 49851, 49853, 49855, 49856, 49857, 49859, 49861, 49862, 49863, 49864, 49866, 49868, 49869, 49871, 49872, 49874, 49875, 49877, 49880, 49883, 49884, 49885, 49886, 49887, 49888, 49889, 49890, 49891, 49893, 49896, 49898, 49901, 49908, 49909, 49915, 49916, 49919, 49922, 49923, 49926, 49928, 49933, 49934, 49935, 49939, 49940, 49941, 49942, 49944, 49945, 49947, 49949, 49950, 49952, 49953, 49954, 49955, 49956, 49958, 49960, 49961, 49962, 49963, 49964, 49965, 49966, 49967, 49973, 49975, 49976, 49977, 49978, 49979, 49981, 49982, 49983, 49986, 49988, 49989, 49990, 49993, 49994, 49995, 49996, 49998, 50000, 50001, 50002, 50010, 50011, 50012, 50014, 50016, 50020, 50021, 50022, 50024, 50025, 50026, 50028, 50030, 50031, 50032, 50033, 50034, 50036, 50039, 50040, 50041, 50042, 50043, 50044, 50045, 50046, 50048, 50049, 50051, 50052, 50053, 50054, 50056, 50059, 50061, 50063, 50064, 50069, 50071, 50073, 50077, 50078, 50081, 50082, 50086, 50087, 50090, 50091, 50096, 50098, 50100, 50102, 50104, 50106, 50107, 50108, 50111, 50112, 50115, 50116, 50117, 50119, 50120, 50121, 50122, 50123, 50124, 50125, 50127, 50129, 50130, 50131, 50132, 50133, 50137, 50141, 50143, 50144, 50145, 50147, 50148, 50151, 50152, 50153, 50154, 50155, 50158, 50159, 50164, 50165, 50166, 50167, 50169, 50170, 50172, 50175, 50178, 50182, 50183, 50185, 50186, 50188, 50193, 50195, 50196, 50197, 50198, 50199, 50200, 50201, 50204, 50210, 50219, 50221, 50222, 50225, 50226, 50228, 50229, 50231, 50233, 50234, 50235, 50236, 50237, 50238, 50239, 50241, 50243, 50245, 50247, 50248, 50249, 50253, 50255, 50259, 50261, 50263, 50264, 50265, 50266, 50267, 50271, 50273, 50274, 50275, 50277, 50281, 50286, 50287, 50289, 50291, 50294, 50295, 50297, 50298, 50300, 50304, 50305, 50306, 50309, 50310, 50312, 50317, 50318, 50319, 50324, 50325, 50326, 50328, 50330, 50333, 50334, 50335, 50337, 50340, 50341, 50342, 50344, 50345, 50346, 50348, 50349, 50350, 50356, 50357, 50358, 50359, 50365, 50367, 50368, 50371, 50372, 50373, 50376, 50377, 50378, 50379, 50380, 50381, 50384, 50385, 50387, 50391, 50393, 50394, 50395, 50396, 50398, 50401, 50407, 50409, 50410, 50414, 50416, 50417, 50420, 50426, 50427, 50433, 50434, 50435, 50436, 50440, 50441, 50445, 50446, 50447, 50451, 50452, 50454, 50456, 50458, 50459, 50462, 50463, 50466, 50468, 50471, 50472, 50473, 50474, 50475, 50477, 50478, 50479, 50480, 50483, 50484, 50485, 50486, 50487, 50488, 50489, 50492, 50495, 50496, 50503, 50504, 50507, 50510, 50511, 50512, 50514, 50516, 50518, 50519, 50522, 50525, 50527, 50528, 50529, 50530, 50532, 50533, 50534, 50537, 50538, 50539, 50541, 50542, 50543, 50546, 50548, 50550, 50552, 50553, 50554, 50558, 50561, 50562, 50565, 50566, 50568, 50569, 50570, 50571, 50572, 50574, 50576, 50577, 50581, 50582, 50583, 50586, 50588, 50592, 50593, 50598, 50599, 50601, 50602, 50605, 50609, 50610, 50611, 50613, 50618, 50619, 50620, 50622, 50623, 50625, 50626, 50627, 50628, 50630, 50631, 50633, 50635, 50636, 50637, 50638, 50639, 50642, 50644, 50645, 50646, 50647, 50649, 50650, 50651, 50653, 50656, 50657, 50659, 50662, 50664, 50665, 50667, 50668, 50669, 50673, 50678, 50679, 50680, 50682, 50683, 50685, 50688, 50690, 50691, 50693, 50696, 50697, 50698, 50699, 50700, 50702, 50704, 50705, 50706, 50707, 50708, 50711, 50712, 50713, 50714, 50715, 50716, 50718, 50720, 50721, 50722, 50724, 50728, 50730, 50731, 50733, 50735, 50736, 50737, 50738, 50739, 50741, 50743, 50747, 50749, 50751, 50756, 50762, 50763, 50764, 50766, 50767, 50769, 50773, 50775, 50776, 50778, 50779, 50780, 50781, 50783, 50784, 50785, 50786, 50787, 50789, 50796, 50798, 50799, 50801, 50803, 50805, 50807, 50808, 50810, 50811, 50812, 50814, 50815, 50819, 50821, 50822, 50823, 50826, 50828, 50829, 50831, 50834, 50835, 50837, 50842, 50846, 50847, 50848, 50849, 50850, 50852, 50855, 50856, 50857, 50859, 50862, 50863, 50864, 50868, 50870, 50874, 50875, 50877, 50878, 50880, 50881, 50883, 50885, 50886, 50887, 50888, 50889, 50892, 50894, 50895, 50896, 50897, 50898, 50899, 50900, 50901, 50904, 50905, 50912, 50914, 50916, 50920, 50922, 50924, 50927, 50928, 50931, 50932, 50933, 50934, 50935, 50937, 50940, 50942, 50946, 50947, 50948, 50949, 50952, 50953, 50954, 50956, 50958, 50959, 50960, 50962, 50964, 50965, 50967, 50968, 50969, 50970, 50972, 50973, 50975, 50976, 50978, 50979, 50980, 50981, 50983, 50985, 50986, 50987, 50988, 50992, 50994, 50995, 50997, 50998, 51000, 51001, 51006, 51007, 51008, 51009, 51010, 51013, 51019, 51025, 51026, 51027, 51028, 51030, 51032, 51033, 51034, 51036, 51037, 51042, 51044, 51045, 51046, 51047, 51048, 51051, 51052, 51054, 51056, 51057, 51059, 51060, 51061, 51062, 51068, 51070, 51071, 51072, 51073, 51075, 51082, 51083, 51084, 51086, 51088, 51089, 51090, 51091, 51093, 51097, 51098, 51100, 51101, 51102, 51103, 51107, 51108, 51111, 51112, 51117, 51118, 51119, 51121, 51122, 51123, 51124, 51129, 51130, 51133, 51134, 51136, 51137, 51139, 51147, 51148, 51151, 51153, 51154, 51155, 51157, 51158, 51159, 51160, 51161, 51163, 51164, 51165, 51167, 51170, 51171, 51174, 51176, 51177, 51178, 51180, 51182, 51184, 51185, 51188, 51189, 51190, 51192, 51193, 51194, 51195, 51198, 51201, 51206, 51208, 51209, 51210, 51211, 51214, 51215, 51216, 51218, 51225, 51226, 51227, 51228, 51229, 51231, 51233, 51235, 51236, 51237, 51238, 51239, 51242, 51243, 51244, 51247, 51251, 51252, 51253, 51255, 51256, 51258, 51260, 51262, 51263, 51265, 51266, 51267, 51269, 51270, 51272, 51273, 51275, 51280, 51286, 51287, 51288, 51292, 51294, 51295, 51296, 51303, 51304, 51306, 51307, 51308, 51310, 51313, 51314, 51315, 51316, 51318, 51323, 51324, 51326, 51327, 51329, 51330, 51332, 51335, 51336, 51337, 51338, 51340, 51343, 51344, 51345, 51346, 51347, 51348, 51349, 51350, 51352, 51353, 51359, 51360, 51361, 51363, 51366, 51369, 51370, 51371, 51375, 51377, 51379, 51380, 51381, 51383, 51384, 51385, 51390, 51392, 51393, 51394, 51397, 51398, 51399, 51400, 51402, 51404, 51407, 51409, 51411, 51412, 51413, 51414, 51416, 51418, 51419, 51420, 51422, 51425, 51428, 51432, 51433, 51434, 51437, 51438, 51439, 51441, 51442, 51443, 51446, 51447, 51448, 51450, 51452, 51458, 51460, 51462, 51464, 51465, 51466, 51468, 51469, 51470, 51471, 51472, 51478, 51479, 51480, 51482, 51484, 51488, 51489, 51491, 51492, 51494, 51497, 51498, 51509, 51510, 51512, 51513, 51514, 51516, 51518, 51519, 51520, 51522, 51523, 51524, 51525, 51527, 51530, 51533, 51534, 51535, 51536, 51538, 51539, 51540, 51541, 51543, 51544, 51545, 51546, 51547, 51548, 51549, 51550, 51551, 51552, 51553, 51554, 51555, 51557, 51558, 51559, 51562, 51563, 51565, 51566, 51567, 51568, 51573, 51574, 51575, 51577, 51578, 51579, 51580, 51581, 51583, 51587, 51588, 51589, 51590, 51591, 51592, 51595, 51597, 51599, 51600, 51603, 51607, 51610, 51612, 51614, 51616, 51617, 51619, 51622, 51623, 51626, 51627, 51628, 51631, 51632, 51634, 51636, 51637, 51639, 51640, 51641, 51642, 51643, 51648, 51651, 51652, 51653, 51655, 51656, 51660, 51661, 51665, 51668, 51670, 51671, 51672, 51676, 51678, 51680, 51683, 51685, 51686, 51687, 51689, 51692, 51694, 51695, 51696, 51698, 51703, 51705, 51706, 51707, 51708, 51710, 51712, 51718, 51719, 51720, 51721, 51722, 51726, 51728, 51729, 51731, 51732, 51734, 51735, 51736, 51737, 51738, 51739, 51742, 51743, 51749, 51753, 51756, 51758, 51760, 51761, 51762, 51763, 51764, 51766, 51768, 51771, 51774, 51777, 51778, 51781, 51782, 51786, 51789, 51792, 51794, 51795, 51796, 51798, 51799, 51800, 51802, 51803, 51804, 51805, 51806, 51807, 51808, 51809, 51810, 51811, 51812, 51816, 51818, 51819, 51820, 51821, 51823, 51825, 51826, 51828, 51831, 51834, 51836, 51837, 51838, 51839, 51840, 51841, 51842, 51845, 51849, 51850, 51853, 51854, 51855, 51856, 51857, 51858, 51859, 51860, 51861, 51862, 51868, 51869, 51870, 51873, 51875, 51876, 51877, 51878, 51879, 51881, 51885, 51886, 51889, 51890, 51892, 51894, 51895, 51896, 51897, 51898, 51899, 51900, 51901, 51904, 51905, 51908, 51909, 51912, 51913, 51917, 51919, 51920, 51921, 51923, 51925, 51932, 51934, 51937, 51941, 51942, 51947, 51948, 51953, 51955, 51958, 51961, 51962, 51964, 51965, 51967, 51968, 51971, 51975, 51976, 51988, 51991, 51996, 51997, 51998, 52000, 52002, 52004, 52006, 52008, 52009, 52011, 52012, 52016, 52018, 52024, 52025, 52027, 52030, 52031, 52035, 52037, 52041, 52042, 52043, 52044, 52045, 52052, 52053, 52054, 52055, 52056, 52058, 52059, 52060, 52061, 52068, 52070, 52071, 52072, 52075, 52076, 52077, 52078, 52079, 52080, 52085, 52086, 52087, 52090, 52091, 52092, 52094, 52097, 52099, 52102, 52104, 52105, 52107, 52112, 52114, 52118, 52121, 52124, 52125, 52127, 52128, 52129, 52130, 52132, 52134, 52136, 52140, 52142, 52144, 52145, 52146, 52147, 52148, 52152, 52153, 52154, 52155, 52156, 52157, 52158, 52159, 52162, 52164, 52168, 52169, 52170, 52173, 52174, 52179, 52180, 52181, 52185, 52187, 52190, 52192, 52194, 52196, 52197, 52200, 52203, 52205, 52209, 52210, 52212, 52213, 52215, 52216, 52217, 52218, 52220, 52222, 52223, 52224, 52225, 52226, 52227, 52228, 52229, 52230, 52231, 52233, 52235, 52237, 52238, 52239, 52241, 52242, 52245, 52248, 52252, 52253, 52256, 52258, 52259, 52260, 52261, 52265, 52266, 52267, 52270, 52274, 52277, 52278, 52281, 52282, 52285, 52286, 52287, 52288, 52292, 52293, 52295, 52297, 52298, 52300, 52302, 52304, 52305, 52309, 52311, 52312, 52313, 52315, 52317, 52318, 52322, 52323, 52325, 52326, 52328, 52329, 52330, 52331, 52332, 52335, 52336, 52337, 52339, 52340, 52344, 52345, 52346, 52348, 52351, 52352, 52353, 52354, 52356, 52358, 52359, 52361, 52362, 52363, 52365, 52369, 52370, 52371, 52372, 52373, 52374, 52375, 52378, 52379, 52382, 52385, 52389, 52390, 52391, 52392, 52393, 52400, 52403, 52404, 52405, 52410, 52411, 52412, 52415, 52416, 52417, 52419, 52421, 52424, 52430, 52434, 52435, 52436, 52437, 52439, 52440, 52441, 52442, 52443, 52446, 52447, 52448, 52449, 52450, 52453, 52455, 52464, 52466, 52467, 52468, 52470, 52471, 52472, 52475, 52479, 52480, 52481, 52482, 52484, 52485, 52486, 52487, 52488, 52490, 52493, 52494, 52496, 52500, 52501, 52502, 52503, 52505, 52506, 52507, 52509, 52510, 52512, 52514, 52516, 52517, 52518, 52520, 52522, 52525, 52527, 52528, 52529, 52530, 52531, 52538, 52539, 52540, 52542, 52545, 52547, 52548, 52556, 52557, 52558, 52559, 52560, 52561, 52562, 52563, 52564, 52565, 52567, 52569, 52570, 52571, 52572, 52574, 52575, 52576, 52585, 52586, 52587, 52588, 52592, 52594, 52595, 52597, 52598, 52600, 52601, 52603, 52604, 52605, 52606, 52607, 52610, 52612, 52615, 52616, 52618, 52621, 52623, 52625, 52626, 52628, 52631, 52632, 52637, 52638, 52641, 52643, 52645, 52646, 52647, 52649, 52650, 52652, 52654, 52655, 52657, 52658, 52659, 52663, 52664, 52665, 52666, 52667, 52668, 52670, 52672, 52675, 52677, 52678, 52679, 52682, 52685, 52687, 52688, 52689, 52690, 52692, 52694, 52695, 52696, 52697, 52701, 52702, 52704, 52706, 52707, 52708, 52710, 52711, 52712, 52713, 52714, 52715, 52716, 52718, 52719, 52721, 52722, 52726, 52727, 52728, 52729, 52735, 52736, 52740, 52741, 52743, 52745, 52747, 52748, 52752, 52753, 52754, 52755, 52756, 52757, 52759, 52760, 52762, 52763, 52765, 52767, 52769, 52770, 52771, 52776, 52777, 52778, 52779, 52781, 52782, 52784, 52785, 52786, 52790, 52791, 52793, 52795, 52796, 52797, 52798, 52799, 52803, 52809, 52815, 52821, 52825, 52827, 52829, 52830, 52831, 52832, 52833, 52834, 52835, 52840, 52841, 52842, 52844, 52846, 52847, 52848, 52849, 52850, 52852, 52853, 52854, 52855, 52858, 52859, 52861, 52863, 52864, 52865, 52867, 52868, 52870, 52871, 52873, 52878, 52879, 52881, 52882, 52883, 52884, 52885, 52886, 52888, 52889, 52891, 52892, 52893, 52897, 52898, 52900, 52902, 52903, 52904, 52906, 52908, 52909, 52910, 52911, 52914, 52916, 52917, 52918, 52920, 52921, 52922, 52924, 52925, 52926, 52927, 52928, 52929, 52933, 52934, 52935, 52940, 52941, 52943, 52945, 52946, 52956, 52957, 52959, 52962, 52963, 52964, 52971, 52973, 52974, 52975, 52978, 52979, 52981, 52982, 52983, 52984, 52988, 52989, 52990, 52991, 52992, 52995, 52996, 52997, 53001, 53002, 53003, 53004, 53005, 53007, 53008, 53009, 53010, 53011, 53015, 53017, 53018, 53020, 53021, 53022, 53023, 53024, 53025, 53026, 53028, 53029, 53032, 53033, 53034, 53035, 53037, 53042, 53043, 53044, 53047, 53049, 53051, 53052, 53053, 53056, 53057, 53058, 53059, 53060, 53062, 53066, 53067, 53070, 53071, 53072, 53078, 53080, 53084, 53086, 53088, 53089, 53090, 53092, 53093, 53096, 53097, 53099, 53100, 53101, 53103, 53104, 53107, 53108, 53109, 53112, 53117, 53118, 53119, 53120, 53123, 53125, 53127, 53135, 53136, 53137, 53138, 53139, 53141, 53144, 53145, 53146, 53149, 53150, 53154, 53156, 53157, 53158, 53159, 53160, 53161, 53162, 53168, 53170, 53171, 53172, 53175, 53176, 53177, 53180, 53182, 53183, 53184, 53186, 53187, 53188, 53189, 53192, 53193, 53195, 53197, 53198, 53200, 53203, 53204, 53205, 53207, 53209, 53210, 53211, 53212, 53214, 53215, 53216, 53218, 53220, 53222, 53225, 53228, 53229, 53235, 53236, 53238, 53239, 53245, 53247, 53250, 53252, 53254, 53255, 53256, 53258, 53259, 53260, 53261, 53265, 53272, 53274, 53275, 53276, 53277, 53280, 53281, 53282, 53283, 53286, 53287, 53289, 53290, 53292, 53295, 53299, 53302, 53303, 53306, 53309, 53310, 53312, 53317, 53318, 53321, 53323, 53327, 53328, 53329, 53330, 53332, 53335, 53336, 53337, 53338, 53341, 53347, 53348, 53354, 53355, 53356, 53359, 53360, 53361, 53362, 53365, 53370, 53372, 53376, 53377, 53382, 53383, 53384, 53385, 53387, 53388, 53390, 53391, 53392, 53394, 53396, 53397, 53399, 53400, 53401, 53402, 53404, 53409, 53410, 53413, 53416, 53417, 53419, 53423, 53425, 53427, 53431, 53434, 53437, 53439, 53440, 53441, 53444, 53447, 53451, 53452, 53454, 53456, 53459, 53460, 53461, 53462, 53463, 53466, 53467, 53470, 53471, 53474, 53475, 53476, 53478, 53482, 53483, 53486, 53490, 53493, 53495, 53496, 53497, 53506, 53507, 53510, 53511, 53512, 53513, 53515, 53520, 53521, 53522, 53523, 53524, 53526, 53529, 53530, 53531, 53534, 53536, 53540, 53542, 53543, 53545, 53549, 53551, 53552, 53553, 53554, 53555, 53556, 53559, 53563, 53568, 53569, 53571, 53573, 53574, 53576, 53580, 53581, 53582, 53583, 53585, 53586, 53588, 53591, 53592, 53593, 53594, 53598, 53603, 53604, 53606, 53607, 53608, 53611, 53613, 53617, 53618, 53619, 53620, 53621, 53623, 53625, 53626, 53628, 53631, 53632, 53636, 53640, 53641, 53647, 53649, 53653, 53654, 53660, 53663, 53666, 53667, 53669, 53670, 53671, 53675, 53676, 53678, 53680, 53681, 53682, 53687, 53690, 53692, 53693, 53695, 53696, 53699, 53701, 53702, 53703, 53708, 53712, 53713, 53715, 53716, 53722, 53723, 53725, 53727, 53729, 53731, 53734, 53735, 53737, 53739, 53740, 53741, 53742, 53746, 53750, 53751, 53753, 53756, 53758, 53761, 53763, 53764, 53780, 53781, 53782, 53785, 53786, 53792, 53793, 53794, 53795, 53796, 53797, 53799, 53800, 53802, 53806, 53811, 53813, 53814, 53815, 53817, 53819, 53820, 53821, 53822, 53823, 53825, 53829, 53831, 53834, 53835, 53836, 53837, 53838, 53839, 53840, 53841, 53842, 53843, 53845, 53851, 53852, 53853, 53854, 53856, 53859, 53862, 53863, 53864, 53865, 53866, 53867, 53870, 53871, 53872, 53873, 53877, 53882, 53883, 53884, 53885, 53887, 53888, 53891, 53892, 53893, 53894, 53896, 53897, 53898, 53899, 53900, 53901, 53903, 53905, 53907, 53908, 53909, 53912, 53915, 53916, 53917, 53918, 53920, 53921, 53922, 53923, 53925, 53927, 53928, 53932, 53939, 53940, 53941, 53942, 53944, 53946, 53947, 53948, 53949, 53950, 53954, 53955, 53956, 53958, 53960, 53962, 53965, 53966, 53967, 53968, 53970, 53972, 53973, 53974, 53976, 53977, 53978, 53980, 53981, 53982, 53984, 53985, 53988, 53989, 53990, 53992, 53995, 53998, 54000, 54002, 54003, 54004, 54010, 54011, 54013, 54014, 54015, 54016, 54019, 54020, 54023, 54024, 54026, 54027, 54028, 54029, 54030, 54032, 54035, 54037, 54038, 54039, 54040, 54042, 54043, 54046, 54049, 54053, 54054, 54055, 54057, 54058, 54059, 54060, 54061, 54066, 54067, 54068, 54070, 54073, 54075, 54076, 54079, 54083, 54091, 54092, 54093, 54096, 54097, 54098, 54100, 54101, 54102, 54103, 54105, 54107, 54108, 54109, 54110, 54111, 54112, 54114, 54116, 54117, 54118, 54119, 54120, 54122, 54123, 54124, 54125, 54127, 54129, 54132, 54133, 54134, 54138, 54141, 54142, 54144, 54146, 54148, 54150, 54151, 54152, 54153, 54154, 54155, 54156, 54158, 54160, 54161, 54167, 54168, 54169, 54171, 54172, 54173, 54175, 54176, 54177, 54178, 54179, 54182, 54188, 54190, 54191, 54192, 54194, 54195, 54196, 54198, 54203, 54205, 54206, 54208, 54209, 54210, 54214, 54216, 54217, 54219, 54220, 54222, 54223, 54224, 54225, 54226, 54229, 54232, 54233, 54236, 54237, 54238, 54239, 54240, 54241, 54242, 54244, 54247, 54248, 54249, 54250, 54253, 54254, 54255, 54256, 54257, 54259, 54261, 54263, 54266, 54267, 54268, 54269, 54270, 54271, 54274, 54275, 54276, 54277, 54279, 54280, 54282, 54283, 54284, 54286, 54287, 54289, 54291, 54292, 54293, 54295, 54296, 54298, 54299, 54301, 54302, 54303, 54304, 54305, 54307, 54310, 54313, 54315, 54318, 54320, 54323, 54324, 54326, 54331, 54334, 54337, 54340, 54347, 54349, 54351, 54352, 54353, 54358, 54360, 54361, 54362, 54365, 54366, 54367, 54368, 54369, 54372, 54373, 54375, 54376, 54377, 54378, 54381, 54384, 54385, 54386, 54387, 54388, 54390, 54394, 54395, 54398, 54399, 54400, 54401, 54402, 54403, 54405, 54406, 54408, 54411, 54414, 54416, 54417, 54422, 54423, 54424, 54427, 54428, 54430, 54432, 54433, 54436, 54437, 54438, 54444, 54445, 54446, 54448, 54451, 54452, 54454, 54456, 54458, 54460, 54461, 54463, 54464, 54466, 54467, 54469, 54473, 54474, 54475, 54476, 54481, 54482, 54483, 54484, 54486, 54487, 54490, 54494, 54495, 54498, 54499, 54503, 54504, 54505, 54506, 54507, 54510, 54512, 54513, 54514, 54515, 54517, 54521, 54529, 54530, 54532, 54534, 54535, 54538, 54539, 54544, 54546, 54547, 54549, 54550, 54551, 54552, 54558, 54559, 54560, 54561, 54562, 54564, 54568, 54569, 54570, 54571, 54572, 54573, 54575, 54576, 54577, 54578, 54581, 54582, 54586, 54587, 54588, 54589, 54590, 54591, 54593, 54594, 54595, 54598, 54599, 54605, 54606, 54607, 54608, 54610, 54612, 54613, 54614, 54615, 54616, 54618, 54619, 54620, 54622, 54625, 54627, 54629, 54630, 54635, 54636, 54637, 54638, 54640, 54641, 54642, 54646, 54647, 54648, 54649, 54650, 54653, 54655, 54656, 54662, 54663, 54665, 54671, 54672, 54673, 54674, 54677, 54681, 54682, 54684, 54685, 54686, 54689, 54690, 54691, 54693, 54694, 54695, 54704, 54705, 54706, 54707, 54708, 54709, 54710, 54712, 54714, 54715, 54716, 54717, 54719, 54721, 54722, 54723, 54724, 54725, 54727, 54729, 54730, 54732, 54734, 54735, 54737, 54740, 54741, 54744, 54745, 54747, 54748, 54750, 54751, 54752, 54753, 54755, 54756, 54757, 54758, 54759, 54760, 54762, 54763, 54765, 54766, 54769, 54770, 54771, 54774, 54775, 54776, 54777, 54778, 54779, 54780, 54782, 54784, 54786, 54787, 54790, 54791, 54794, 54796, 54797, 54800, 54802, 54805, 54806, 54808, 54810, 54811, 54813, 54816, 54819, 54820, 54821, 54822, 54823, 54825, 54826, 54829, 54831, 54832, 54833, 54834, 54835, 54838, 54839, 54840, 54842, 54844, 54845, 54846, 54850, 54851, 54853, 54855, 54856, 54859, 54860, 54861, 54862, 54864, 54865, 54866, 54868, 54869, 54871, 54872, 54874, 54876, 54877, 54878, 54880, 54881, 54885, 54886, 54888, 54889, 54896, 54901, 54904, 54905, 54908, 54910, 54911, 54916, 54918, 54921, 54922, 54924, 54925, 54931, 54932, 54933, 54934, 54935, 54936, 54940, 54942, 54944, 54945, 54946, 54947, 54948, 54949, 54951, 54952, 54953, 54954, 54955, 54959, 54960, 54963, 54964, 54965, 54966, 54967, 54969, 54970, 54971, 54972, 54973, 54975, 54976, 54979, 54980, 54981, 54982, 54983, 54984, 54986, 54988, 54989, 54994, 54995, 54997, 55000, 55001, 55003, 55008, 55009, 55010, 55013, 55014, 55016, 55018, 55019, 55021, 55023, 55024, 55026, 55027, 55030, 55033, 55034, 55035, 55036, 55039, 55041, 55042, 55047, 55048, 55049, 55054, 55058, 55059, 55062, 55066, 55071, 55073, 55075, 55076, 55078, 55079, 55080, 55084, 55088, 55090, 55092, 55100, 55101, 55103, 55104, 55107, 55108, 55110, 55111, 55112, 55114, 55115, 55116, 55117, 55118, 55122, 55124, 55125, 55126, 55128, 55129, 55130, 55131, 55133, 55134, 55137, 55138, 55143, 55144, 55147, 55152, 55153, 55154, 55155, 55156, 55161, 55163, 55164, 55165, 55166, 55167, 55170, 55172, 55173, 55174, 55175, 55176, 55180, 55181, 55185, 55186, 55190, 55195, 55196, 55197, 55199, 55200, 55201, 55203, 55204, 55206, 55207, 55208, 55210, 55212, 55213, 55215, 55216, 55217, 55218, 55220, 55221, 55222, 55223, 55227, 55228, 55229, 55230, 55233, 55234, 55235, 55236, 55237, 55239, 55244, 55248, 55249, 55250, 55251, 55256, 55257, 55261, 55263, 55265, 55266, 55268, 55270, 55271, 55272, 55274, 55275, 55277, 55280, 55282, 55283, 55284, 55285, 55287, 55290, 55292, 55293, 55294, 55295, 55297, 55298, 55299, 55300, 55301, 55302, 55303, 55304, 55306, 55310, 55311, 55313, 55315, 55316, 55317, 55318, 55319, 55320, 55321, 55322, 55323, 55324, 55325, 55326, 55329, 55330, 55331, 55333, 55334, 55335, 55336, 55337, 55338, 55340, 55343, 55344, 55345, 55347, 55348, 55352, 55357, 55358, 55360, 55362, 55363, 55367, 55368, 55369, 55370, 55372, 55373, 55376, 55377, 55380, 55381, 55384, 55385, 55387, 55389, 55393, 55394, 55395, 55396, 55397, 55400, 55401, 55404, 55410, 55411, 55412, 55414, 55415, 55416, 55418, 55419, 55421, 55425, 55431, 55437, 55438, 55439, 55442, 55444, 55446, 55447, 55449, 55452, 55453, 55454, 55458, 55461, 55463, 55464, 55465, 55466, 55467, 55469, 55473, 55474, 55475, 55476, 55477, 55479, 55480, 55481, 55483, 55485, 55487, 55488, 55489, 55491, 55492, 55493, 55497, 55498, 55499, 55500, 55502, 55505, 55506, 55507, 55508, 55510, 55512, 55515, 55520, 55521, 55522, 55525, 55527, 55531, 55532, 55533, 55536, 55537, 55540, 55541, 55542, 55544, 55546, 55549, 55552, 55555, 55556, 55558, 55559, 55564, 55565, 55567, 55568, 55571, 55574, 55578, 55580, 55583, 55585, 55586, 55592, 55595, 55596, 55597, 55598, 55600, 55601, 55604, 55605, 55606, 55609, 55610, 55612, 55613, 55615, 55617, 55618, 55621, 55622, 55623, 55624, 55626, 55631, 55632, 55634, 55635, 55636, 55637, 55638, 55639, 55644, 55647, 55649, 55650, 55653, 55654, 55656, 55657, 55660, 55662, 55663, 55666, 55668, 55669, 55671, 55673, 55674, 55675, 55678, 55679, 55681, 55683, 55684, 55685, 55686, 55687, 55688, 55689, 55693, 55694, 55696, 55699, 55700, 55702, 55704, 55705, 55706, 55709, 55713, 55715, 55716, 55718, 55719, 55720, 55722, 55723, 55724, 55725, 55727, 55728, 55730, 55732, 55733, 55736, 55738, 55739, 55742, 55745, 55746, 55747, 55748, 55751, 55753, 55756, 55757, 55758, 55760, 55762, 55763, 55766, 55767, 55768, 55769, 55774, 55775, 55776, 55777, 55778, 55780, 55781, 55783, 55784, 55785, 55786, 55787, 55788, 55793, 55794, 55795, 55797, 55799, 55804, 55805, 55806, 55811, 55812, 55813, 55818, 55819, 55822, 55824, 55825, 55826, 55828, 55830, 55831, 55832, 55833, 55838, 55839, 55841, 55844, 55853, 55856, 55857, 55860, 55861, 55865, 55866, 55872, 55873, 55874, 55875, 55876, 55877, 55878, 55879, 55885, 55886, 55888, 55892, 55895, 55896, 55898, 55899, 55900, 55901, 55902, 55905, 55906, 55907, 55908, 55911, 55912, 55916, 55917, 55918, 55919, 55927, 55931, 55934, 55936, 55937, 55939, 55941, 55943, 55948, 55950, 55951, 55952, 55953, 55954, 55961, 55962, 55963, 55964, 55968, 55969, 55970, 55973, 55975, 55976, 55978, 55981, 55983, 55984, 55988, 55989, 55990, 55992, 55993, 55994, 55998, 55999, 56003, 56005, 56008, 56012, 56017, 56019, 56021, 56022, 56023, 56025, 56030, 56031, 56035, 56040, 56041, 56043, 56047, 56048, 56049, 56051, 56054, 56055, 56056, 56057, 56058, 56061, 56063, 56065, 56068, 56069, 56070, 56071, 56072, 56073, 56074, 56075, 56076, 56077, 56078, 56079, 56080, 56082, 56086, 56091, 56093, 56094, 56095, 56096, 56097, 56098, 56100, 56103, 56104, 56105, 56106, 56110, 56113, 56116, 56119, 56122, 56126, 56128, 56131, 56132, 56134, 56135, 56136, 56138, 56139, 56141, 56142, 56144, 56146, 56147, 56148, 56152, 56154, 56156, 56160, 56162, 56163, 56164, 56166, 56168, 56169, 56170, 56172, 56173, 56177, 56179, 56180, 56182, 56183, 56186, 56188, 56190, 56195, 56197, 56198, 56199, 56200, 56202, 56204, 56208, 56209, 56210, 56212, 56213, 56214, 56216, 56218, 56220, 56221, 56222, 56223, 56225, 56227, 56228, 56229, 56230, 56231, 56232, 56234, 56235, 56236, 56237, 56240, 56241, 56242, 56244, 56246, 56248, 56250, 56252, 56253, 56254, 56255, 56256, 56261, 56262, 56265, 56266, 56268, 56269, 56270, 56275, 56278, 56279, 56280, 56281, 56283, 56284, 56285, 56286, 56288, 56289, 56290, 56293, 56299, 56300, 56302, 56303, 56304, 56305, 56306, 56307, 56308, 56311, 56312, 56317, 56318, 56319, 56321, 56325, 56326, 56327, 56329, 56333, 56334, 56336, 56337, 56340, 56341, 56342, 56344, 56345, 56346, 56347, 56357, 56359, 56360, 56362, 56364, 56365, 56368, 56369, 56371, 56373, 56376, 56377, 56379, 56380, 56383, 56385, 56387, 56389, 56392, 56394, 56395, 56398, 56399, 56400, 56402, 56405, 56407, 56409, 56410, 56411, 56412, 56414, 56418, 56420, 56421, 56422, 56423, 56425, 56427, 56429, 56431, 56432, 56434, 56436, 56437, 56438, 56441, 56444, 56445, 56446, 56447, 56448, 56449, 56450, 56451, 56452, 56455, 56456, 56458, 56460, 56461, 56463, 56465, 56467, 56469, 56472, 56475, 56476, 56480, 56481, 56484, 56486, 56488, 56496, 56498, 56502, 56503, 56505, 56508, 56509, 56510, 56514, 56518, 56519, 56520, 56524, 56526, 56527, 56528, 56529, 56530, 56531, 56535, 56539, 56541, 56542, 56543, 56547, 56548, 56551, 56552, 56555, 56559, 56561, 56563, 56564, 56565, 56566, 56568, 56569, 56573, 56576, 56577, 56578, 56579, 56580, 56582, 56583, 56588, 56591, 56596, 56598, 56599, 56600, 56602, 56604, 56605, 56609, 56619, 56622, 56624, 56626, 56627, 56631, 56633, 56634, 56637, 56638, 56639, 56640, 56641, 56642, 56644, 56645, 56646, 56647, 56648, 56650, 56654, 56655, 56656, 56659, 56660, 56662, 56665, 56667, 56668, 56670, 56671, 56672, 56675, 56680, 56681, 56685, 56686, 56687, 56689, 56692, 56694, 56695, 56697, 56698, 56703, 56704, 56705, 56706, 56707, 56708, 56711, 56712, 56715, 56717, 56718, 56719, 56721, 56722, 56723, 56728, 56730, 56740, 56742, 56743, 56744, 56747, 56749, 56751, 56752, 56755, 56756, 56758, 56759, 56760, 56761, 56762, 56764, 56765, 56768, 56771, 56772, 56775, 56776, 56777, 56778, 56781, 56783, 56784, 56788, 56790, 56791, 56792, 56793, 56794, 56796, 56797, 56798, 56799, 56802, 56805, 56808, 56809, 56810, 56814, 56815, 56817, 56819, 56820, 56821, 56822, 56824, 56828, 56830, 56831, 56832, 56833, 56834, 56835, 56836, 56837, 56838, 56842, 56843, 56844, 56848, 56849, 56851, 56852, 56855, 56857, 56858, 56860, 56864, 56866, 56869, 56870, 56871, 56873, 56874, 56875, 56877, 56878, 56879, 56881, 56882, 56883, 56884, 56885, 56886, 56890, 56891, 56892, 56894, 56895, 56896, 56898, 56902, 56905, 56906, 56908, 56910, 56911, 56912, 56913, 56915, 56916, 56917, 56918, 56919, 56920, 56923, 56926, 56927, 56928, 56929, 56932, 56935, 56936, 56937, 56938, 56939, 56940, 56941, 56942, 56945, 56947, 56948, 56950, 56951, 56953, 56954, 56956, 56957, 56959, 56960, 56962, 56963, 56966, 56967, 56969, 56970, 56971, 56972, 56973, 56974, 56975, 56976, 56977, 56980, 56982, 56983, 56984, 56985, 56993, 56995, 56996, 56997, 56998, 57000, 57001, 57002, 57004, 57005, 57007, 57008, 57009, 57011, 57012, 57013, 57016, 57018, 57023, 57024, 57026, 57030, 57031, 57032, 57033, 57035, 57036, 57038, 57039, 57041, 57043, 57044, 57045, 57046, 57047, 57048, 57050, 57053, 57054, 57056, 57057, 57060, 57063, 57064, 57065, 57066, 57071, 57073, 57075, 57076, 57077, 57079, 57080, 57081, 57083, 57085, 57086, 57087, 57088, 57089, 57090, 57094, 57097, 57098, 57099, 57100, 57101, 57103, 57105, 57107, 57108, 57110, 57112, 57113, 57114, 57115, 57117, 57118, 57121, 57124, 57125, 57126, 57129, 57132, 57134, 57137, 57138, 57139, 57141, 57142, 57143, 57144, 57146, 57149, 57151, 57153, 57154, 57156, 57158, 57159, 57160, 57163, 57165, 57166, 57167, 57179, 57181, 57186, 57188, 57193, 57194, 57195, 57199, 57204, 57206, 57207, 57208, 57209, 57210, 57212, 57213, 57214, 57216, 57218, 57219, 57222, 57223, 57224, 57226, 57227, 57229, 57230, 57232, 57233, 57236, 57239, 57240, 57247, 57248, 57249, 57250, 57251, 57252, 57255, 57257, 57258, 57263, 57264, 57265, 57268, 57270, 57271, 57272, 57273, 57274, 57275, 57277, 57279, 57282, 57283, 57284, 57285, 57288, 57289, 57292, 57294, 57296, 57298, 57299, 57300, 57301, 57303, 57305, 57306, 57308, 57309, 57311, 57312, 57313, 57314, 57316, 57317, 57318, 57320, 57321, 57323, 57327, 57332, 57333, 57334, 57336, 57338, 57339, 57340, 57341, 57343, 57345, 57346, 57349, 57350, 57355, 57356, 57357, 57359, 57360, 57364, 57366, 57367, 57368, 57369, 57370, 57371, 57372, 57374, 57376, 57377, 57379, 57380, 57381, 57382, 57383, 57384, 57386, 57387, 57388, 57390, 57392, 57394, 57397, 57398, 57399, 57400, 57401, 57404, 57405, 57406, 57408, 57409, 57410, 57411, 57412, 57414, 57419, 57420, 57421, 57423, 57426, 57430, 57431, 57432, 57434, 57438, 57439, 57440, 57441, 57442, 57445, 57451, 57452, 57453, 57454, 57455, 57457, 57460, 57462, 57463, 57465, 57466, 57467, 57474, 57475, 57476, 57477, 57479, 57480, 57483, 57484, 57486, 57487, 57488, 57491, 57494, 57498, 57503, 57506, 57509, 57512, 57514, 57515, 57516, 57518, 57520, 57521, 57522, 57523, 57525, 57526, 57527, 57528, 57530, 57531, 57533, 57539, 57540, 57541, 57542, 57543, 57544, 57545, 57547, 57548, 57555, 57556, 57557, 57559, 57560, 57561, 57562, 57566, 57567, 57568, 57569, 57570, 57572, 57574, 57576, 57580, 57581, 57582, 57585, 57586, 57588, 57591, 57592, 57595, 57597, 57598, 57599, 57600, 57601, 57602, 57605, 57606, 57608, 57610, 57612, 57618, 57620, 57621, 57622, 57623, 57628, 57629, 57631, 57632, 57633, 57634, 57635, 57636, 57641, 57643, 57644, 57645, 57649, 57650, 57651, 57654, 57658, 57660, 57661, 57662, 57668, 57670, 57671, 57672, 57673, 57674, 57675, 57676, 57677, 57679, 57681, 57682, 57683, 57690, 57692, 57693, 57694, 57695, 57697, 57698, 57699, 57701, 57702, 57703, 57704, 57707, 57709, 57711, 57712, 57717, 57719, 57720, 57723, 57724, 57725, 57728, 57732, 57734, 57738, 57740, 57743, 57744, 57745, 57746, 57747, 57748, 57749, 57753, 57754, 57758, 57759, 57760, 57766, 57767, 57768, 57769, 57774, 57775, 57777, 57779, 57780, 57781, 57782, 57783, 57787, 57791, 57792, 57794, 57797, 57799, 57802, 57804, 57805, 57807, 57809, 57813, 57814, 57816, 57821, 57824, 57826, 57827, 57828, 57830, 57831, 57835, 57838, 57840, 57844, 57845, 57847, 57849, 57850, 57851, 57853, 57857, 57858, 57859, 57862, 57863, 57864, 57865, 57868, 57869, 57874, 57875, 57876, 57885, 57887, 57890, 57892, 57894, 57897, 57900, 57904, 57905, 57906, 57907, 57908, 57912, 57913, 57915, 57918, 57921, 57922, 57924, 57925, 57927, 57928, 57930, 57931, 57932, 57933, 57938, 57939, 57941, 57942, 57944, 57945, 57947, 57949, 57951, 57952, 57954, 57955, 57956, 57960, 57961, 57962, 57964, 57971, 57972, 57973, 57974, 57976, 57977, 57978, 57979, 57982, 57983, 57984, 57986, 57987, 57988, 57990, 57991, 57993, 57995, 57997, 57998, 57999, 58004, 58005, 58006, 58009, 58010, 58011, 58012, 58014, 58015, 58016, 58017, 58022, 58023, 58024, 58025, 58026, 58029, 58032, 58033, 58034, 58035, 58036, 58037, 58039, 58041, 58042, 58043, 58044, 58047, 58049, 58052, 58055, 58059, 58061, 58062, 58063, 58064, 58065, 58067, 58069, 58070, 58071, 58074, 58075, 58080, 58081, 58082, 58083, 58087, 58088, 58089, 58090, 58092, 58094, 58095, 58101, 58102, 58105, 58106, 58108, 58109, 58112, 58118, 58119, 58120, 58121, 58122, 58124, 58127, 58128, 58130, 58131, 58132, 58133, 58135, 58137, 58138, 58139, 58140, 58141, 58142, 58143, 58145, 58146, 58147, 58149, 58150, 58151, 58153, 58154, 58155, 58157, 58160, 58161, 58163, 58165, 58166, 58168, 58169, 58171, 58178, 58183, 58184, 58185, 58186, 58193, 58194, 58196, 58197, 58198, 58200, 58201, 58202, 58203, 58205, 58206, 58208, 58209, 58211, 58212, 58214, 58215, 58216, 58217, 58218, 58225, 58228, 58230, 58231, 58233, 58235, 58236, 58237, 58239, 58240, 58242, 58244, 58245, 58247, 58252, 58253, 58254, 58258, 58259, 58261, 58262, 58266, 58267, 58268, 58269, 58272, 58273, 58274, 58276, 58279, 58280, 58282, 58286, 58287, 58288, 58289, 58290, 58295, 58298, 58302, 58303, 58306, 58307, 58309, 58311, 58312, 58314, 58315, 58316, 58318, 58319, 58320, 58321, 58322, 58323, 58324, 58326, 58327, 58328, 58329, 58332, 58333, 58335, 58340, 58344, 58349, 58350, 58352, 58353, 58354, 58356, 58357, 58358, 58361, 58362, 58367, 58369, 58370, 58374, 58378, 58379, 58380, 58381, 58385, 58386, 58388, 58389, 58393, 58395, 58397, 58400, 58401, 58403, 58405, 58411, 58412, 58413, 58417, 58418, 58423, 58427, 58429, 58430, 58431, 58432, 58433, 58434, 58435, 58436, 58439, 58440, 58441, 58443, 58444, 58445, 58446, 58447, 58448, 58449, 58452, 58453, 58454, 58456, 58463, 58464, 58468, 58469, 58472, 58473, 58476, 58477, 58479, 58480, 58482, 58486, 58487, 58488, 58489, 58490, 58494, 58495, 58498, 58499, 58502, 58505, 58509, 58510, 58512, 58517, 58518, 58520, 58523, 58525, 58526, 58527, 58528, 58533, 58535, 58538, 58539, 58541, 58544, 58545, 58552, 58553, 58554, 58555, 58556, 58558, 58559, 58560, 58561, 58564, 58565, 58566, 58567, 58570, 58572, 58573, 58574, 58575, 58576, 58577, 58579, 58580, 58582, 58583, 58586, 58588, 58589, 58590, 58591, 58596, 58597, 58598, 58599, 58600, 58601, 58602, 58604, 58605, 58606, 58609, 58610, 58611, 58612, 58614, 58617, 58618, 58620, 58623, 58625, 58630, 58635, 58636, 58639, 58642, 58643, 58644, 58645, 58646, 58647, 58651, 58653, 58655, 58657, 58659, 58660, 58661, 58663, 58667, 58670, 58672, 58676, 58677, 58678, 58680, 58682, 58683, 58685, 58688, 58689, 58690, 58691, 58694, 58695, 58696, 58698, 58700, 58704, 58705, 58707, 58712, 58715, 58716, 58717, 58718, 58721, 58723, 58727, 58728, 58729, 58732, 58738, 58740, 58742, 58744, 58746, 58747, 58748, 58749, 58750, 58751, 58752, 58754, 58755, 58759, 58761, 58763, 58764, 58765, 58766, 58767, 58769, 58770, 58773, 58774, 58775, 58778, 58782, 58784, 58787, 58791, 58792, 58793, 58796, 58797, 58798, 58799, 58803, 58804, 58805, 58808, 58809, 58810, 58812, 58813, 58817, 58818, 58819, 58824, 58827, 58828, 58829, 58830, 58831, 58832, 58833, 58834, 58836, 58838, 58840, 58845, 58846, 58847, 58849, 58850, 58851, 58852, 58853, 58854, 58855, 58856, 58858, 58859, 58860, 58862, 58865, 58866, 58867, 58870, 58872, 58874, 58876, 58878, 58879, 58880, 58881, 58882, 58886, 58887, 58888, 58894, 58896, 58898, 58899, 58900, 58902, 58903, 58904, 58906, 58907, 58909, 58910, 58915, 58916, 58917, 58919, 58920, 58922, 58924, 58926, 58928, 58929, 58930, 58934, 58935, 58938, 58939, 58944, 58946, 58948, 58952, 58953, 58956, 58957, 58958, 58964, 58965, 58966, 58969, 58970, 58972, 58975, 58979, 58980, 58982, 58984, 58985, 58986, 58987, 58989, 58990, 58992, 58994, 58995, 58997, 58999, 59001, 59003, 59004, 59005, 59006, 59010, 59011, 59012, 59013, 59014, 59015, 59017, 59019, 59021, 59022, 59023, 59025, 59029, 59030, 59032, 59033, 59034, 59035, 59036, 59038, 59040, 59042, 59043, 59050, 59051, 59052, 59053, 59056, 59057, 59059, 59060, 59061, 59062, 59063, 59064, 59065, 59067, 59068, 59072, 59076, 59077, 59079, 59081, 59083, 59084, 59092, 59094, 59095, 59096, 59100, 59102, 59103, 59107, 59110, 59111, 59112, 59114, 59117, 59118, 59121, 59122, 59123, 59125, 59128, 59129, 59130, 59133, 59135, 59137, 59138, 59141, 59142, 59144, 59145, 59147, 59148, 59152, 59157, 59159, 59160, 59161, 59162, 59167, 59168, 59170, 59171, 59172, 59173, 59174, 59175, 59177, 59178, 59179, 59182, 59183, 59184, 59185, 59187, 59192, 59193, 59197, 59199, 59202, 59204, 59207, 59208, 59209, 59211, 59212, 59213, 59214, 59215, 59217, 59219, 59221, 59222, 59223, 59224, 59225, 59226, 59227, 59228, 59231, 59234, 59238, 59239, 59246, 59248, 59251, 59253, 59255, 59256, 59257, 59258, 59262, 59263, 59265, 59266, 59268, 59269, 59271, 59272, 59273, 59274, 59277, 59278, 59279, 59280, 59281, 59283, 59287, 59288, 59290, 59294, 59295, 59297, 59298, 59299, 59301, 59302, 59303, 59304, 59306, 59307, 59308, 59310, 59312, 59313, 59314, 59317, 59318, 59322, 59324, 59327, 59329, 59330, 59331, 59333, 59334, 59336, 59337, 59338, 59340, 59342, 59343, 59344, 59345, 59346, 59347, 59349, 59350, 59352, 59353, 59354, 59355, 59356, 59357, 59358, 59360, 59361, 59362, 59363, 59364, 59365, 59366, 59367, 59369, 59370, 59371, 59372, 59375, 59379, 59381, 59385, 59388, 59390, 59391, 59395, 59396, 59400, 59401, 59402, 59403, 59404, 59407, 59411, 59412, 59413, 59414, 59415, 59417, 59418, 59420, 59421, 59426, 59428, 59432, 59433, 59434, 59436, 59437, 59438, 59442, 59444, 59446, 59450, 59453, 59454, 59455, 59456, 59459, 59463, 59465, 59466, 59467, 59469, 59470, 59471, 59472, 59473, 59474, 59475, 59476, 59477, 59479, 59480, 59481, 59482, 59483, 59485, 59486, 59488, 59489, 59490, 59493, 59494, 59497, 59498, 59501, 59503, 59504, 59505, 59506, 59508, 59509, 59511, 59512, 59514, 59517, 59519, 59525, 59527, 59528, 59529, 59532, 59534, 59539, 59540, 59541, 59542, 59543, 59544, 59546, 59547, 59549, 59550, 59555, 59557, 59559, 59561, 59562, 59563, 59565, 59567, 59570, 59571, 59572, 59573, 59576, 59580, 59581, 59584, 59586, 59588, 59591, 59593, 59596, 59597, 59599, 59600, 59602, 59605, 59607, 59608, 59612, 59613, 59614, 59616, 59618, 59620, 59621, 59622, 59623, 59626, 59627, 59628, 59629, 59630, 59631, 59632, 59633, 59634, 59635, 59636, 59641, 59642, 59643, 59644, 59645, 59646, 59647, 59649, 59650, 59651, 59654, 59655, 59657, 59658, 59661, 59664, 59667, 59669, 59670, 59672, 59673, 59674, 59675, 59676, 59678, 59679, 59683, 59684, 59685, 59686, 59690, 59691, 59692, 59693, 59695, 59696, 59699, 59702, 59706, 59707, 59709, 59714, 59715, 59716, 59720, 59721, 59722, 59723, 59725, 59726, 59728, 59729, 59730, 59734, 59736, 59743, 59744, 59746, 59748, 59750, 59751, 59752, 59754, 59759, 59760, 59762, 59763, 59767, 59768, 59771, 59772, 59773, 59775, 59778, 59779, 59781, 59782, 59783, 59785, 59786, 59787, 59788, 59789, 59790, 59794, 59795, 59796, 59797, 59800, 59802, 59809, 59810, 59814, 59815, 59816, 59820, 59827, 59828, 59830, 59831, 59833, 59834, 59835, 59837, 59842, 59843, 59845, 59846, 59849, 59850, 59852, 59854, 59860, 59861, 59862, 59863, 59864, 59870, 59872, 59876, 59878, 59879, 59880, 59881, 59883, 59884, 59885, 59886, 59889, 59890, 59892, 59893, 59894, 59895, 59896, 59897, 59899, 59900, 59903, 59905, 59906, 59909, 59910, 59911, 59912, 59913, 59914, 59915, 59916, 59917, 59918, 59921, 59922, 59924, 59925, 59926, 59929, 59930, 59933, 59935, 59941, 59944, 59945, 59947, 59948, 59949, 59953, 59957, 59958, 59960, 59962, 59965, 59966, 59968, 59972, 59973, 59974, 59976, 59977, 59979, 59982, 59983, 59984, 59985, 59986, 59987, 59992, 59993, 59994, 59995, 59996, 59997, 59998, 59999, 60001, 60002, 60003, 60004, 60008, 60009, 60010, 60011, 60012, 60014, 60015, 60016, 60017, 60018, 60019, 60020, 60021, 60023, 60025, 60028, 60030, 60031, 60032, 60035, 60037, 60041, 60042, 60043, 60049, 60051, 60052, 60056, 60058, 60060, 60061, 60062, 60063, 60064, 60065, 60066, 60067, 60069, 60070, 60073, 60078, 60079, 60080, 60081, 60083, 60084, 60085, 60089, 60091, 60093, 60094, 60095, 60096, 60097, 60098, 60099, 60100, 60101, 60104, 60105, 60106, 60107, 60109, 60110, 60114, 60115, 60116, 60118, 60120, 60121, 60125, 60126, 60129, 60130, 60132, 60133, 60136, 60137, 60138, 60140, 60142, 60148, 60149, 60156, 60163, 60164, 60165, 60166, 60169, 60170, 60171, 60172, 60174, 60176, 60177, 60178, 60179, 60180, 60184, 60186, 60187, 60189, 60191, 60194, 60196, 60198, 60202, 60205, 60206, 60211, 60214, 60216, 60219, 60220, 60224, 60227, 60228, 60234, 60235, 60236, 60237, 60238, 60239, 60240, 60241, 60244, 60245, 60247, 60248, 60250, 60251, 60255, 60257, 60259, 60261, 60264, 60265, 60267, 60273, 60274, 60276, 60278, 60280, 60282, 60283, 60284, 60285, 60286, 60287, 60288, 60290, 60291, 60292, 60293, 60294, 60296, 60297, 60298, 60299, 60302, 60304, 60305, 60306, 60310, 60314, 60315, 60316, 60317, 60318, 60319, 60320, 60323, 60324, 60326, 60327, 60331, 60332, 60335, 60339, 60346, 60347, 60350, 60352, 60353, 60355, 60356, 60357, 60358, 60360, 60361, 60363, 60364, 60365, 60366, 60367, 60368, 60369, 60370, 60371, 60372, 60373, 60375, 60378, 60384, 60385, 60386, 60387, 60388, 60389, 60391, 60393, 60394, 60395, 60397, 60402, 60405, 60407, 60408, 60410, 60412, 60413, 60414, 60418, 60420, 60422, 60423, 60425, 60426, 60427, 60429, 60430, 60431, 60432, 60434, 60435, 60436, 60439, 60440, 60444, 60445, 60447, 60453, 60455, 60456, 60459, 60462, 60463, 60466, 60469, 60470, 60472, 60473, 60477, 60478, 60481, 60482, 60484, 60485, 60486, 60491, 60494, 60495, 60496, 60497, 60500, 60502, 60510, 60511, 60512, 60513, 60514, 60516, 60517, 60518, 60519, 60520, 60521, 60523, 60525, 60526, 60527, 60529, 60530, 60531, 60532, 60536, 60538, 60540, 60542, 60543, 60545, 60548, 60550, 60551, 60555, 60558, 60560, 60563, 60564, 60565, 60566, 60568, 60569, 60570, 60573, 60574, 60575, 60576, 60577, 60580, 60581, 60583, 60589, 60591, 60592, 60595, 60597, 60599, 60604, 60610, 60611, 60613, 60614, 60615, 60616, 60617, 60620, 60622, 60623, 60624, 60626, 60627, 60628, 60629, 60632, 60633, 60634, 60635, 60636, 60637, 60638, 60640, 60642, 60643, 60646, 60647, 60648, 60650, 60652, 60657, 60658, 60659, 60660, 60661, 60662, 60664, 60666, 60668, 60674, 60675, 60677, 60678, 60679, 60682, 60683, 60686, 60689, 60690, 60691, 60692, 60694, 60695, 60696, 60698, 60699, 60703, 60705, 60706, 60708, 60709, 60710, 60712, 60715, 60720, 60723, 60724, 60725, 60728, 60733, 60734, 60736, 60738, 60739, 60742, 60744, 60748, 60749, 60751, 60753, 60754, 60755, 60756, 60762, 60766, 60767, 60769, 60773, 60778, 60779, 60780, 60783, 60784, 60788, 60789, 60790, 60791, 60792, 60793, 60794, 60795, 60796, 60797, 60800, 60802, 60803, 60804, 60806, 60808, 60811, 60814, 60815, 60816, 60817, 60819, 60821, 60823, 60826, 60830, 60831, 60833, 60837, 60842, 60843, 60844, 60846, 60847, 60848, 60850, 60852, 60853, 60854, 60859, 60860, 60864, 60867, 60869, 60870, 60872, 60874, 60876, 60878, 60879, 60881, 60882, 60883, 60884, 60887, 60889, 60893, 60895, 60896, 60897, 60901, 60902, 60905, 60906, 60908, 60909, 60910, 60911, 60912, 60914, 60915, 60917, 60918, 60919, 60921, 60922, 60923, 60924, 60925, 60927, 60933, 60935, 60936, 60937, 60938, 60940, 60942, 60945, 60946, 60948, 60954, 60955, 60956, 60957, 60960, 60961, 60962, 60967, 60968, 60971, 60972, 60973, 60975, 60977, 60978, 60979, 60981, 60988, 60989, 60990, 60991, 60992, 60996, 60998, 61003, 61004, 61006, 61009, 61010, 61014, 61017, 61020, 61021, 61025, 61026, 61027, 61028, 61029, 61030, 61031, 61037, 61039, 61040, 61044, 61045, 61046, 61049, 61050, 61051, 61055, 61056, 61057, 61058, 61061, 61062, 61063, 61064, 61065, 61067, 61068, 61069, 61070, 61071, 61072, 61074, 61077, 61078, 61079, 61080, 61081, 61083, 61084, 61093, 61094, 61097, 61098, 61099, 61100, 61101, 61102, 61104, 61105, 61107, 61109, 61111, 61112, 61115, 61118, 61120, 61121, 61122, 61123, 61125, 61128, 61129, 61131, 61133, 61134, 61135, 61136, 61137, 61138, 61142, 61143, 61148, 61149, 61151, 61153, 61154, 61156, 61157, 61158, 61160, 61161, 61162, 61163, 61166, 61167, 61168, 61169, 61170, 61171, 61172, 61175, 61176, 61178, 61180, 61181, 61187, 61188, 61189, 61193, 61194, 61195, 61197, 61198, 61200, 61202, 61207, 61210, 61211, 61214, 61215, 61216, 61217, 61219, 61220, 61221, 61223, 61224, 61225, 61227, 61228, 61229, 61231, 61235, 61240, 61242, 61245, 61246, 61249, 61250, 61252, 61254, 61258, 61259, 61260, 61261, 61262, 61265, 61266, 61267, 61268, 61271, 61272, 61274, 61275, 61278, 61281, 61282, 61283, 61284, 61286, 61288, 61289, 61290, 61292, 61293, 61294, 61296, 61297, 61298, 61299, 61300, 61302, 61303, 61305, 61306, 61308, 61310, 61312, 61313, 61314, 61315, 61316, 61317, 61318, 61319, 61321, 61324, 61325, 61327, 61328, 61329, 61330, 61332, 61335, 61340, 61341, 61343, 61344, 61345, 61346, 61347, 61348, 61351, 61352, 61356, 61363, 61365, 61367, 61372, 61373, 61376, 61377, 61379, 61384, 61386, 61387, 61392, 61393, 61394, 61396, 61399, 61400, 61402, 61403, 61404, 61407, 61409, 61410, 61413, 61416, 61417, 61418, 61421, 61423, 61424, 61425, 61429, 61433, 61435, 61436, 61437, 61438, 61439, 61440, 61441, 61447, 61450, 61451, 61454, 61455, 61456, 61457, 61458, 61459, 61462, 61463, 61465, 61466, 61467, 61470, 61474, 61477, 61478, 61479, 61480, 61481, 61482, 61492, 61493, 61494, 61496, 61498, 61499, 61500, 61503, 61504, 61507, 61508, 61509, 61511, 61512, 61513, 61515, 61516, 61517, 61518, 61520, 61521, 61523, 61524, 61527, 61529, 61530, 61531, 61533, 61534, 61535, 61537, 61538, 61541, 61546, 61547, 61548, 61552, 61553, 61556, 61557, 61558, 61560, 61561, 61562, 61563, 61564, 61567, 61568, 61569, 61572, 61575, 61576, 61578, 61583, 61585, 61586, 61588, 61592, 61595, 61596, 61597, 61600, 61602, 61603, 61605, 61610, 61611, 61614, 61616, 61617, 61618, 61620, 61624, 61625, 61627, 61628, 61629, 61630, 61631, 61633, 61634, 61635, 61641, 61650, 61652, 61654, 61655, 61657, 61658, 61660, 61661, 61662, 61663, 61666, 61667, 61670, 61673, 61674, 61675, 61676, 61677, 61678, 61680, 61681, 61684, 61686, 61687, 61692, 61694, 61698, 61701, 61703, 61706, 61709, 61710, 61712, 61713, 61714, 61715, 61717, 61722, 61723, 61724, 61726, 61727, 61729, 61732, 61733, 61736, 61737, 61738, 61740, 61741, 61742, 61744, 61745, 61746, 61750, 61752, 61757, 61761, 61763, 61767, 61770, 61773, 61774, 61775, 61778, 61780, 61781, 61782, 61784, 61787, 61789, 61790, 61791, 61792, 61794, 61795, 61797, 61798, 61800, 61803, 61804, 61806, 61807, 61808, 61810, 61811, 61814, 61816, 61817, 61818, 61819, 61821, 61824, 61827, 61828, 61829, 61830, 61832, 61833, 61841, 61842, 61843, 61844, 61845, 61847, 61849, 61850, 61851, 61852, 61854, 61855, 61858, 61859, 61861, 61862, 61864, 61865, 61867, 61868, 61869, 61871, 61872, 61873, 61874, 61875, 61881, 61882, 61884, 61886, 61888, 61890, 61893, 61896, 61898, 61908, 61910, 61911, 61912, 61913, 61914, 61915, 61918, 61919, 61920, 61922, 61923, 61924, 61928, 61931, 61933, 61935, 61936, 61938, 61939, 61940, 61941, 61943, 61944, 61946, 61949, 61950, 61951, 61952, 61953, 61954, 61955, 61960, 61961, 61962, 61963, 61964, 61966, 61967, 61968, 61970, 61973, 61974, 61975, 61978, 61979, 61980, 61981, 61982, 61984, 61986, 61987, 61991, 61992, 61993, 61994, 61995, 61996, 61998, 62001, 62002, 62003, 62006, 62009, 62010, 62011, 62012, 62014, 62017, 62018, 62019, 62022, 62023, 62027, 62028, 62032, 62034, 62040, 62041, 62042, 62043, 62045, 62046, 62047, 62048, 62049, 62050, 62052, 62053, 62055, 62057, 62059, 62060, 62061, 62063, 62066, 62067, 62071, 62072, 62076, 62078, 62079, 62080, 62084, 62087, 62089, 62090, 62092, 62093, 62094, 62098, 62099, 62100, 62103, 62104, 62106, 62109, 62110, 62112, 62115, 62116, 62120, 62121, 62122, 62123, 62126, 62128, 62130, 62132, 62134, 62137, 62139, 62142, 62144, 62149, 62151, 62152, 62153, 62154, 62155, 62157, 62158, 62161, 62162, 62163, 62167, 62169, 62174, 62175, 62176, 62178, 62179, 62181, 62182, 62183, 62186, 62187, 62194, 62198, 62201, 62202, 62204, 62207, 62208, 62209, 62214, 62215, 62216, 62220, 62221, 62222, 62226, 62227, 62228, 62230, 62231, 62234, 62235, 62236, 62237, 62238, 62240, 62241, 62242, 62246, 62250, 62254, 62255, 62256, 62258, 62259, 62262, 62263, 62264, 62265, 62269, 62270, 62271, 62273, 62274, 62276, 62277, 62278, 62279, 62280, 62281, 62282, 62284, 62285, 62286, 62288, 62289, 62292, 62294, 62296, 62298, 62299, 62301, 62302, 62306, 62308, 62309, 62311, 62314, 62316, 62320, 62321, 62325, 62326, 62327, 62329, 62330, 62331, 62335, 62336, 62338, 62339, 62340, 62342, 62343, 62345, 62350, 62352, 62353, 62355, 62357, 62358, 62360, 62361, 62362, 62363, 62365, 62367, 62368, 62369, 62372, 62375, 62380, 62383, 62384, 62385, 62387, 62389, 62391, 62393, 62395, 62396, 62399, 62400, 62401, 62402, 62404, 62408, 62409, 62410, 62414, 62415, 62416, 62417, 62418, 62419, 62420, 62423, 62425, 62427, 62429, 62430, 62433, 62435, 62436, 62438, 62439, 62440, 62441, 62442, 62443, 62444, 62448, 62450, 62453, 62458, 62459, 62460, 62461, 62462, 62465, 62467, 62475, 62478, 62481, 62482, 62483, 62484, 62486, 62487, 62493, 62496, 62497, 62499, 62500, 62501, 62503, 62505, 62512, 62513, 62514, 62516, 62519, 62520, 62523, 62525, 62526, 62527, 62531, 62533, 62537, 62541, 62542, 62547, 62548, 62550, 62552, 62553, 62554, 62556, 62557, 62558, 62559, 62560, 62561, 62562, 62565, 62566, 62568, 62571, 62572, 62576, 62578, 62581, 62582, 62583, 62585, 62586, 62589, 62590, 62592, 62593, 62597, 62598, 62599, 62600, 62603, 62604, 62605, 62606, 62608, 62609, 62610, 62611, 62612, 62614, 62615, 62617, 62619, 62622, 62623, 62626, 62627, 62630, 62633, 62634, 62636, 62638, 62642, 62647, 62650, 62652, 62655, 62656, 62657, 62659, 62660, 62661, 62662, 62663, 62664, 62665, 62666, 62667, 62669, 62670, 62672, 62673, 62677, 62678, 62679, 62680, 62681, 62683, 62684, 62687, 62689, 62690, 62694, 62695, 62696, 62698, 62699, 62702, 62703, 62704, 62705, 62706, 62707, 62708, 62709, 62710, 62711, 62716, 62728, 62731, 62732, 62737, 62739, 62740, 62741, 62742, 62745, 62747, 62748, 62749, 62756, 62759, 62761, 62763, 62764, 62765, 62766, 62768, 62770, 62771, 62772, 62773, 62774, 62775, 62776, 62777, 62779, 62780, 62781, 62782, 62784, 62791, 62792, 62796, 62798, 62800, 62801, 62803, 62808, 62809, 62811, 62812, 62813, 62814, 62815, 62817, 62819, 62820, 62821, 62822, 62823, 62824, 62826, 62829, 62830, 62831, 62832, 62833, 62834, 62835, 62836, 62837, 62838, 62840, 62842, 62845, 62848, 62852, 62853, 62856, 62857, 62858, 62859, 62860, 62861, 62862, 62863, 62864, 62865, 62867, 62871, 62872, 62878, 62879, 62883, 62884, 62886, 62888, 62891, 62893, 62895, 62896, 62897, 62899, 62902, 62903, 62904, 62906, 62910, 62911, 62913, 62915, 62916, 62918, 62919, 62921, 62923, 62924, 62925, 62926, 62931, 62933, 62934, 62936, 62937, 62938, 62941, 62943, 62946, 62949, 62950, 62951, 62953, 62957, 62958, 62959, 62961, 62962, 62964, 62965, 62966, 62967, 62969, 62970, 62971, 62973, 62974, 62975, 62977, 62980, 62983, 62984, 62986, 62988, 62991, 62994, 62995, 62996, 62998, 62999, 63000, 63001, 63003, 63004, 63005, 63006, 63008, 63010, 63011, 63013, 63014, 63015, 63018, 63022, 63024, 63026, 63028, 63031, 63032, 63033, 63036, 63037, 63041, 63042, 63043, 63045, 63046, 63049, 63050, 63051, 63055, 63057, 63062, 63065, 63066, 63067, 63068, 63072, 63073, 63075, 63076, 63081, 63082, 63083, 63084, 63087, 63089, 63093, 63094, 63095, 63097, 63099, 63100, 63101, 63103, 63105, 63107, 63110, 63111, 63114, 63115, 63116, 63120, 63123, 63124, 63126, 63129, 63131, 63132, 63133, 63134, 63135, 63136, 63137, 63139, 63140, 63142, 63146, 63147, 63150, 63153, 63154, 63157, 63159, 63161, 63162, 63163, 63164, 63169, 63170, 63172, 63173, 63174, 63175, 63176, 63177, 63178, 63180, 63181, 63182, 63183, 63186, 63191, 63193, 63194, 63199, 63201, 63203, 63205, 63206, 63207, 63210, 63212, 63214, 63218, 63219, 63220, 63221, 63223, 63227, 63228, 63229, 63230, 63232, 63233, 63234, 63238, 63241, 63243, 63244, 63245, 63246, 63248, 63250, 63253, 63255, 63257, 63259, 63261, 63264, 63265, 63267, 63269, 63273, 63275, 63276, 63277, 63279, 63284, 63285, 63288, 63289, 63290, 63292, 63294, 63295, 63296, 63297, 63298, 63303, 63305, 63306, 63307, 63308, 63311, 63313, 63314, 63315, 63316, 63318, 63319, 63321, 63322, 63324, 63327, 63333, 63334, 63335, 63341, 63342, 63345, 63349, 63351, 63355, 63358, 63360, 63361, 63365, 63366, 63368, 63369, 63371, 63372, 63373, 63375, 63376, 63377, 63379, 63381, 63383, 63384, 63385, 63387, 63391, 63392, 63393, 63394, 63395, 63396, 63397, 63398, 63400, 63401, 63402, 63405, 63406, 63409, 63412, 63413, 63414, 63416, 63420, 63421, 63422, 63424, 63427, 63430, 63436, 63437, 63438, 63440, 63442, 63445, 63446, 63447, 63448, 63450, 63452, 63457, 63458, 63460, 63462, 63463, 63464, 63465, 63466, 63472, 63473, 63474, 63477, 63478, 63479, 63480, 63481, 63482, 63483, 63485, 63487, 63488, 63489, 63491, 63492, 63494, 63495, 63496, 63497, 63498, 63499, 63500, 63503, 63504, 63505, 63507, 63508, 63509, 63510, 63518, 63520, 63522, 63525, 63528, 63529, 63534, 63535, 63539, 63540, 63541, 63544, 63545, 63546, 63547, 63549, 63550, 63552, 63553, 63555, 63562, 63566, 63569, 63570, 63571, 63573, 63576, 63577, 63578, 63580, 63582, 63583, 63584, 63585, 63587, 63588, 63590, 63591, 63593, 63596, 63598, 63599, 63602, 63604, 63606, 63607, 63608, 63609, 63610, 63611, 63612, 63613, 63614, 63615, 63617, 63619, 63620, 63621, 63622, 63623, 63624, 63625, 63629, 63634, 63635, 63641, 63642, 63645, 63647, 63648, 63649, 63651, 63654, 63655, 63657, 63659, 63661, 63662, 63663, 63664, 63665, 63666, 63668, 63669, 63670, 63672, 63675, 63676, 63682, 63683, 63687, 63688, 63690, 63691, 63693, 63697, 63698, 63702, 63703, 63704, 63705, 63706, 63707, 63709, 63713, 63716, 63717, 63718, 63719, 63721, 63723, 63729, 63733, 63740, 63741, 63744, 63746, 63748, 63750, 63751, 63754, 63756, 63757, 63758, 63759, 63762, 63764, 63765, 63766, 63768, 63769, 63775, 63776, 63777, 63778, 63780, 63781, 63782, 63783, 63785, 63786, 63787, 63793, 63803, 63804, 63807, 63808, 63809, 63812, 63814, 63815, 63816, 63820, 63821, 63822, 63823, 63824, 63827, 63831, 63833, 63835, 63837, 63839, 63840, 63842, 63845, 63846, 63847, 63848, 63852, 63853, 63855, 63857, 63858, 63860, 63861, 63862, 63865, 63866, 63868, 63870, 63871, 63874, 63877, 63879, 63881, 63883, 63885, 63887, 63888, 63893, 63894, 63895, 63896, 63897, 63898, 63902, 63903, 63904, 63905, 63906, 63907, 63908, 63909, 63911, 63914, 63917, 63920, 63924, 63925, 63926, 63928, 63932, 63933, 63935, 63936, 63937, 63940, 63941, 63942, 63943, 63944, 63947, 63949, 63950, 63951, 63953, 63955, 63959, 63960, 63961, 63965, 63966, 63968, 63971, 63973, 63976, 63977, 63978, 63980, 63982, 63983, 63984, 63985, 63986, 63987, 63989, 63990, 63992, 63994, 63996, 63998, 63999, 64000, 64001, 64002, 64005, 64006, 64008, 64009, 64010, 64012, 64015, 64016, 64017, 64021, 64023, 64024, 64025, 64027, 64028, 64029, 64031, 64032, 64035, 64036, 64038, 64039, 64042, 64043, 64044, 64047, 64049, 64053, 64055, 64057, 64058, 64060, 64062, 64063, 64064, 64065, 64066, 64068, 64069, 64072, 64073, 64074, 64076, 64077, 64079, 64080, 64082, 64083, 64086, 64090, 64091, 64094, 64098, 64100, 64101, 64103, 64106, 64108, 64110, 64112, 64113, 64114, 64115, 64117, 64119, 64120, 64121, 64123, 64127, 64129, 64131, 64133, 64134, 64137, 64138, 64139, 64140, 64141, 64143, 64146, 64147, 64148, 64150, 64152, 64153, 64158, 64159, 64162, 64163, 64165, 64166, 64167, 64170, 64171, 64172, 64174, 64175, 64177, 64178, 64179, 64183, 64184, 64187, 64189, 64191, 64193, 64194, 64196, 64197, 64200, 64201, 64202, 64203, 64204, 64205, 64206, 64209, 64210, 64211, 64212, 64213, 64215, 64219, 64220, 64221, 64223, 64224, 64226, 64227, 64228, 64230, 64233, 64235, 64236, 64240, 64242, 64243, 64246, 64247, 64248, 64250, 64251, 64252, 64254, 64255, 64256, 64257, 64258, 64262, 64265, 64266, 64267, 64269, 64271, 64272, 64273, 64274, 64278, 64280, 64285, 64286, 64287, 64288, 64289, 64290, 64292, 64293, 64294, 64295, 64298, 64299, 64302, 64303, 64304, 64305, 64312, 64313, 64315, 64322, 64323, 64324, 64325, 64326, 64327, 64328, 64332, 64333, 64334, 64335, 64336, 64338, 64340, 64342, 64344, 64345, 64354, 64355, 64360, 64361, 64364, 64368, 64369, 64371, 64372, 64373, 64374, 64377, 64378, 64380, 64381, 64383, 64384, 64385, 64386, 64387, 64391, 64392, 64394, 64395, 64396, 64397, 64398, 64399, 64402, 64403, 64404, 64405, 64410, 64412, 64413, 64414, 64415, 64416, 64419, 64420, 64422, 64423, 64424, 64425, 64428, 64431, 64432, 64434, 64436, 64437, 64438, 64440, 64441, 64442, 64447, 64448, 64451, 64452, 64453, 64454, 64455, 64457, 64459, 64460, 64461, 64465, 64469, 64471, 64472, 64476, 64479, 64480, 64484, 64485, 64486, 64488, 64492, 64494, 64495, 64497, 64498, 64499, 64500, 64501, 64502, 64503, 64504, 64507, 64510, 64512, 64514, 64517, 64518, 64521, 64523, 64524, 64525, 64527, 64529, 64532, 64533, 64536, 64537, 64538, 64539, 64540, 64542, 64544, 64547, 64549, 64551, 64553, 64554, 64557, 64559, 64560, 64561, 64562, 64565, 64568, 64570, 64572, 64575, 64576, 64578, 64579, 64580, 64583, 64584, 64587, 64591, 64594, 64601, 64605, 64606, 64608, 64609, 64610, 64612, 64613, 64614, 64615, 64616, 64618, 64619, 64621, 64623, 64625, 64629, 64630, 64632, 64633, 64634, 64636, 64638, 64647, 64651, 64652, 64653, 64655, 64656, 64658, 64661, 64663, 64664, 64667, 64668, 64670, 64671, 64672, 64673, 64674, 64676, 64677, 64678, 64679, 64680, 64681, 64682, 64683, 64684, 64685, 64687, 64689, 64690, 64691, 64693, 64695, 64697, 64699, 64701, 64702, 64704, 64707, 64708, 64711, 64713, 64714, 64715, 64717, 64718, 64721, 64722, 64728, 64732, 64734, 64736, 64738, 64740, 64742, 64744, 64745, 64748, 64749, 64752, 64753, 64754, 64755, 64756, 64757, 64759, 64761, 64762, 64763, 64764, 64766, 64767, 64768, 64769, 64770, 64771, 64773, 64775, 64777, 64780, 64787, 64789, 64790, 64791, 64792, 64794, 64796, 64797, 64798, 64800, 64801, 64803, 64805, 64807, 64808, 64811, 64812, 64814, 64815, 64818, 64820, 64822, 64827, 64831, 64832, 64833, 64834, 64835, 64836, 64837, 64840, 64841, 64842, 64844, 64845, 64847, 64849, 64850, 64853, 64856, 64858, 64860, 64862, 64866, 64867, 64868, 64869, 64872, 64874, 64876, 64879, 64881, 64883, 64884, 64885, 64889, 64890, 64892, 64893, 64894, 64896, 64898, 64900, 64904, 64906, 64907, 64908, 64909, 64910, 64911, 64913, 64916, 64919, 64920, 64921, 64923, 64927, 64929, 64930, 64931, 64933, 64935, 64936, 64938, 64942, 64944, 64951, 64952, 64955, 64956, 64962, 64967, 64968, 64970, 64971, 64973, 64974, 64975, 64976, 64978, 64979, 64980, 64983, 64985, 64988, 64993, 64994, 64995, 64996, 64998, 65000, 65002, 65008, 65009, 65012, 65014, 65015, 65016, 65018, 65019, 65020, 65021, 65022, 65023, 65025, 65029, 65030, 65031, 65032, 65033, 65034, 65035, 65036, 65037, 65038, 65039, 65040, 65045, 65046, 65048, 65051, 65054, 65055, 65057, 65058, 65060, 65061, 65062, 65063, 65065, 65066, 65067, 65068, 65070, 65072, 65075, 65076, 65077, 65079, 65080, 65081, 65082, 65084, 65087, 65088, 65089, 65090, 65091, 65092, 65094, 65095, 65099, 65100, 65101, 65102, 65104, 65106, 65111, 65113, 65118, 65119, 65120, 65121, 65122, 65123, 65124, 65125, 65126, 65128, 65129, 65132, 65133, 65136, 65137, 65138, 65139, 65140, 65141, 65142, 65144, 65145, 65146, 65147, 65149, 65150, 65151, 65153, 65154, 65155, 65157, 65158, 65159, 65160, 65161, 65163, 65167, 65168, 65169, 65170, 65171, 65172, 65174, 65176, 65177, 65178, 65179, 65180, 65186, 65187, 65188, 65189, 65196, 65197, 65198, 65204, 65205, 65207, 65209, 65210, 65213, 65214, 65215, 65217, 65220, 65221, 65222, 65224, 65225, 65228, 65231, 65232, 65233, 65235, 65239, 65240, 65241, 65242, 65243, 65244, 65245, 65246, 65247, 65249, 65251, 65254, 65255, 65256, 65257, 65258, 65259, 65262, 65263, 65264, 65266, 65269, 65272, 65273, 65275, 65277, 65278, 65280, 65284, 65285, 65286, 65287, 65288, 65292, 65293, 65294, 65296, 65297, 65298, 65299, 65302, 65303, 65304, 65305, 65306, 65307, 65308, 65310, 65311, 65312, 65313, 65315, 65316, 65318, 65323, 65327, 65328, 65329, 65330, 65331, 65338, 65340, 65342, 65343, 65345, 65346, 65349, 65351, 65354, 65357, 65359, 65362, 65363, 65364, 65366, 65368, 65370, 65371, 65373, 65375, 65376, 65378, 65379, 65382, 65383, 65384, 65386, 65388, 65389, 65390, 65391, 65393, 65396, 65397, 65398, 65399, 65400, 65403, 65406, 65412, 65415, 65416, 65417, 65418, 65420, 65422, 65423, 65425, 65427, 65428, 65429, 65432, 65433, 65435, 65437, 65438, 65439, 65440, 65441, 65442, 65444, 65446, 65447, 65448, 65449, 65450, 65452, 65454, 65456, 65458, 65459, 65460, 65462, 65464, 65465, 65470, 65471, 65472, 65475, 65476, 65478, 65479, 65482, 65483, 65485, 65487, 65488, 65489, 65490, 65491, 65495, 65496, 65499, 65501, 65502, 65506, 65511, 65515, 65519, 65520, 65522, 65525, 65526, 65528, 65530, 65531, 65532, 65533, 65534, 65535, 65536, 65538, 65539, 65545, 65548, 65549, 65550, 65553, 65556, 65558, 65561, 65564, 65565, 65566, 65568, 65570, 65572, 65573, 65574, 65575, 65576, 65577, 65578, 65579, 65583, 65584, 65585, 65586, 65589, 65590, 65592, 65594, 65601, 65603, 65604, 65605, 65608, 65613, 65617, 65619, 65622, 65624, 65626, 65629, 65630, 65633, 65638, 65641, 65642, 65643, 65644, 65645, 65647, 65648, 65651, 65652, 65654, 65657, 65659, 65660, 65662, 65665, 65666, 65667, 65668, 65669, 65670, 65671, 65672, 65676, 65679, 65681, 65682, 65684, 65686, 65688, 65689, 65692, 65693, 65698, 65699, 65700, 65701, 65702, 65705, 65706, 65707, 65712, 65713, 65715, 65716, 65717, 65718, 65719, 65720, 65721, 65722, 65723, 65725, 65726, 65730, 65734, 65735, 65736, 65737, 65739, 65741, 65742, 65743, 65744, 65745, 65747, 65748, 65750, 65754, 65756, 65757, 65758, 65759, 65760, 65761, 65763, 65764, 65769, 65770, 65771, 65773, 65775, 65777, 65778, 65780, 65783, 65784, 65788, 65789, 65790, 65791, 65792, 65793, 65794, 65795, 65796, 65797, 65798, 65799, 65800, 65801, 65802, 65804, 65806, 65807, 65808, 65809, 65810, 65812, 65813, 65815, 65817, 65818, 65819, 65822, 65823, 65824, 65826, 65827, 65831, 65832, 65833, 65837, 65838, 65839, 65840, 65841, 65850, 65851, 65852, 65853, 65854, 65856, 65861, 65862, 65863, 65865, 65866, 65867, 65870, 65872, 65873, 65877, 65880, 65882, 65883, 65884, 65885, 65887, 65889, 65890, 65891, 65892, 65893, 65894, 65895, 65896, 65897, 65900, 65902, 65903, 65907, 65908, 65913, 65919, 65920, 65921, 65922, 65924, 65925, 65926, 65928, 65931, 65932, 65933, 65934, 65935, 65937, 65938, 65941, 65942, 65943, 65948, 65949, 65951, 65953, 65955, 65958, 65960, 65964, 65965, 65967, 65968, 65969, 65970, 65971, 65972, 65975, 65978, 65984, 65985, 65986, 65994, 65995, 65998, 65999, 66000, 66004, 66005, 66006, 66008, 66009, 66010, 66011, 66013, 66014, 66015, 66016, 66019, 66020, 66021, 66022, 66023, 66025, 66027, 66033, 66034, 66035, 66044, 66045, 66046, 66048, 66050, 66054, 66055, 66056, 66059, 66062, 66070, 66071, 66072, 66073, 66074, 66076, 66078, 66080, 66081, 66082, 66084, 66085, 66086, 66087, 66088, 66089, 66090, 66091, 66093, 66095, 66097, 66098, 66099, 66100, 66102, 66103, 66106, 66107, 66108, 66109, 66111, 66113, 66114, 66115, 66118, 66119, 66120, 66121, 66122, 66123, 66124, 66127, 66130, 66132, 66133, 66134, 66139, 66140, 66141, 66143, 66146, 66147, 66150, 66151, 66152, 66153, 66156, 66162, 66163, 66164, 66165, 66166, 66167, 66170, 66171, 66172, 66173, 66174, 66178, 66179, 66180, 66181, 66185, 66186, 66188, 66189, 66190, 66193, 66194, 66195, 66197, 66200, 66206, 66207, 66208, 66209, 66215, 66217, 66219, 66221, 66227, 66228, 66231, 66232, 66235, 66240, 66244, 66245, 66251, 66252, 66253, 66256, 66260, 66261, 66268, 66269, 66270, 66274, 66275, 66277, 66279, 66280, 66285, 66287, 66288, 66290, 66291, 66292, 66293, 66296, 66299, 66301, 66303, 66304, 66307, 66308, 66309, 66310, 66312, 66313, 66314, 66321, 66325, 66326, 66327, 66328, 66329, 66330, 66332, 66333, 66335, 66338, 66340, 66341, 66343, 66344, 66345, 66346, 66349, 66350, 66351, 66352, 66353, 66357, 66358, 66359, 66362, 66364, 66368, 66369, 66372, 66376, 66379, 66381, 66382, 66384, 66385, 66386, 66387, 66388, 66390, 66391, 66394, 66395, 66400, 66401, 66402, 66403, 66405, 66411, 66412, 66413, 66415, 66416, 66417, 66418, 66419, 66421, 66425, 66426, 66427, 66428, 66429, 66430, 66432, 66435, 66437, 66438, 66444, 66445, 66446, 66449, 66451, 66452, 66454, 66455, 66456, 66459, 66460, 66461, 66466, 66469, 66471, 66474, 66475, 66479, 66481, 66482, 66483, 66484, 66489, 66490, 66494, 66495, 66498, 66500, 66501, 66502, 66506, 66507, 66508, 66509, 66510, 66513, 66514, 66515, 66517, 66518, 66520, 66525, 66527, 66530, 66531, 66532, 66533, 66534, 66535, 66536, 66538, 66540, 66541, 66543, 66544, 66545, 66547, 66548, 66550, 66551, 66555, 66559, 66560, 66561, 66562, 66563, 66564, 66566, 66567, 66572, 66574, 66575, 66576, 66578, 66579, 66580, 66582, 66584, 66585, 66588, 66590, 66591, 66594, 66596, 66598, 66599, 66601, 66602, 66604, 66607, 66609, 66610, 66613, 66615, 66616, 66617, 66618, 66621, 66622, 66623, 66624, 66625, 66626, 66627, 66630, 66633, 66634, 66635, 66636, 66637, 66641, 66642, 66644, 66646, 66649, 66654, 66657, 66659, 66660, 66663, 66664, 66665, 66668, 66671, 66672, 66674, 66675, 66676, 66677, 66678, 66680, 66681, 66684, 66687, 66688, 66689, 66690, 66691, 66697, 66699, 66700, 66701, 66704, 66705, 66706, 66709, 66712, 66713, 66714, 66717, 66718, 66719, 66720, 66724, 66725, 66728, 66729, 66730, 66734, 66735, 66736, 66739, 66742, 66743, 66746, 66750, 66751, 66752, 66754, 66759, 66763, 66766, 66767, 66771, 66777, 66778, 66783, 66785, 66786, 66787, 66788, 66790, 66791, 66792, 66793, 66794, 66796, 66797, 66799, 66801, 66805, 66806, 66808, 66809, 66814, 66815, 66816, 66817, 66822, 66823, 66824, 66825, 66827, 66828, 66830, 66831, 66832, 66834, 66841, 66842, 66843, 66844, 66845, 66846, 66847, 66849, 66850, 66855, 66856, 66858, 66859, 66860, 66861, 66863, 66866, 66869, 66870, 66871, 66873, 66874, 66875, 66876, 66880, 66881, 66882, 66884, 66885, 66887, 66888, 66891, 66895, 66896, 66897, 66899, 66903, 66905, 66907, 66911, 66912, 66913, 66915, 66918, 66925, 66927, 66928, 66932, 66933, 66934, 66935, 66936, 66937, 66938, 66939, 66941, 66944, 66947, 66948, 66952, 66953, 66955, 66956, 66958, 66959, 66963, 66967, 66968, 66969, 66970, 66971, 66972, 66974, 66975, 66976, 66977, 66978, 66979, 66982, 66983, 66984, 66985, 66986, 66987, 66990, 66991, 66992, 66993, 66996, 67002, 67003, 67005, 67007, 67008, 67009, 67011, 67012, 67013, 67014, 67015, 67016, 67020, 67021, 67022, 67023, 67027, 67028, 67030, 67031, 67032, 67034, 67035, 67036, 67037, 67038, 67039, 67041, 67043, 67045, 67046, 67049, 67051, 67056, 67059, 67060, 67064, 67065, 67066, 67067, 67071, 67073, 67075, 67076, 67077, 67079, 67081, 67084, 67086, 67090, 67091, 67093, 67094, 67095, 67099, 67100, 67102, 67103, 67104, 67105, 67107, 67108, 67113, 67115, 67116, 67118, 67119, 67123, 67124, 67131, 67133, 67135, 67136, 67137, 67139, 67145, 67149, 67150, 67154, 67158, 67159, 67160, 67161, 67163, 67164, 67168, 67170, 67171, 67173, 67176, 67177, 67178, 67179, 67180, 67181, 67186, 67189, 67190, 67193, 67194, 67199, 67200, 67201, 67202, 67206, 67207, 67208, 67209, 67210, 67212, 67216, 67222, 67223, 67226, 67227, 67228, 67231, 67233, 67234, 67235, 67236, 67237, 67238, 67239, 67240, 67242, 67243, 67245, 67249, 67251, 67252, 67253, 67255, 67257, 67258, 67259, 67260, 67261, 67263, 67264, 67265, 67266, 67267, 67268, 67269, 67270, 67271, 67273, 67274, 67276, 67280, 67281, 67284, 67289, 67290, 67296, 67297, 67298, 67301, 67302, 67304, 67307, 67308, 67309, 67310, 67316, 67317, 67319, 67322, 67323, 67326, 67327, 67329, 67330, 67332, 67335, 67336, 67339, 67340, 67341, 67342, 67343, 67344, 67345, 67346, 67350, 67351, 67352, 67354, 67355, 67356, 67357, 67359, 67360, 67367, 67368, 67369, 67370, 67371, 67372, 67373, 67374, 67375, 67376, 67378, 67381, 67382, 67383, 67384, 67385, 67388, 67390, 67391, 67392, 67393, 67396, 67397, 67398, 67399, 67401, 67403, 67406, 67408, 67412, 67413, 67414, 67415, 67416, 67417, 67418, 67419, 67421, 67423, 67425, 67426, 67427, 67428, 67429, 67430, 67431, 67432, 67433, 67436, 67438, 67439, 67440, 67441, 67443, 67444, 67445, 67446, 67447, 67450, 67451, 67452, 67453, 67454, 67456, 67457, 67458, 67460, 67462, 67466, 67467, 67468, 67469, 67472, 67474, 67475, 67476, 67478, 67481, 67483, 67484, 67485, 67486, 67489, 67491, 67492, 67494, 67495, 67496, 67497, 67499, 67504, 67505, 67506, 67508, 67511, 67512, 67513, 67515, 67516, 67517, 67519, 67522, 67524, 67525, 67526, 67527, 67530, 67531, 67532, 67533, 67535, 67536, 67537, 67538, 67540, 67541, 67544, 67546, 67547, 67548, 67549, 67550, 67553, 67554, 67555, 67556, 67558, 67559, 67560, 67562, 67563, 67565, 67566, 67567, 67568, 67569, 67570, 67573, 67575, 67578, 67579, 67580, 67581, 67583, 67584, 67585, 67586, 67587, 67592, 67593, 67597, 67601, 67603, 67604, 67605, 67606, 67609, 67612, 67613, 67614, 67615, 67617, 67620, 67621, 67624, 67632, 67633, 67635, 67636, 67638, 67639, 67640, 67641, 67642, 67644, 67645, 67650, 67651, 67653, 67654, 67655, 67656, 67659, 67660, 67666, 67668, 67670, 67671, 67672, 67674, 67676, 67680, 67681, 67683, 67685, 67687, 67688, 67693, 67694, 67695, 67696, 67698, 67699, 67701, 67702, 67703, 67704, 67705, 67707, 67709, 67710, 67711, 67712, 67713, 67715, 67716, 67718, 67720, 67723, 67725, 67726, 67729, 67734, 67735, 67736, 67737, 67738, 67739, 67742, 67744, 67746, 67748, 67749, 67751, 67752, 67753, 67755, 67759, 67761, 67762, 67763, 67765, 67767, 67769, 67770, 67775, 67776, 67778, 67779, 67780, 67781, 67782, 67783, 67786, 67788, 67791, 67793, 67794, 67800, 67805, 67808, 67810, 67813, 67814, 67816, 67817, 67819, 67820, 67821, 67822, 67823, 67829, 67831, 67836, 67837, 67838, 67839, 67840, 67841, 67842, 67843, 67844, 67848, 67849, 67850, 67851, 67852, 67853, 67855, 67857, 67859, 67860, 67861, 67862, 67865, 67869, 67870, 67871, 67872, 67874, 67875, 67877, 67879, 67881, 67882, 67884, 67885, 67886, 67887, 67889, 67890, 67893, 67894, 67895, 67896, 67897, 67898, 67899, 67901, 67903, 67905, 67907, 67908, 67910, 67912, 67915, 67916, 67919, 67920, 67922, 67924, 67927, 67931, 67935, 67937, 67940, 67941, 67945, 67946, 67947, 67951, 67953, 67955, 67957, 67958, 67961, 67962, 67963, 67965, 67968, 67969, 67971, 67973, 67974, 67975, 67978, 67982, 67984, 67985, 67986, 67988, 67989, 67990, 67992, 67998, 68001, 68003, 68004, 68005, 68008, 68009, 68010, 68012, 68013, 68014, 68015, 68017, 68020, 68021, 68022, 68023, 68026, 68031, 68032, 68033, 68037, 68039, 68041, 68042, 68046, 68049, 68050, 68053, 68057, 68058, 68059, 68061, 68062, 68066, 68068, 68069, 68071, 68072, 68073, 68074, 68075, 68078, 68079, 68081, 68082, 68084, 68089, 68091, 68093, 68094, 68095, 68097, 68100, 68105, 68107, 68108, 68110, 68111, 68113, 68114, 68115, 68116, 68117, 68118, 68119, 68121, 68123, 68125, 68126, 68127, 68128, 68132, 68133, 68134, 68135, 68136, 68138, 68140, 68142, 68143, 68145, 68151, 68153, 68154, 68155, 68156, 68159, 68160, 68161, 68164, 68167, 68168, 68171, 68172, 68173, 68174, 68176, 68178, 68181, 68184, 68185, 68186, 68187, 68190, 68194, 68196, 68199, 68201, 68203, 68204, 68206, 68207, 68209, 68211, 68213, 68214, 68216, 68217, 68218, 68219, 68221, 68223, 68224, 68226, 68227, 68230, 68231, 68232, 68236, 68240, 68241, 68242, 68245, 68247, 68248, 68250, 68252, 68253, 68254, 68256, 68257, 68258, 68261, 68262, 68263, 68264, 68267, 68268, 68269, 68270, 68271, 68272, 68273, 68275, 68278, 68280, 68281, 68282, 68288, 68289, 68290, 68292, 68298, 68299, 68300, 68302, 68304, 68305, 68306, 68307, 68308, 68312, 68313, 68315, 68317, 68318, 68320, 68321, 68322, 68323, 68326, 68327, 68328, 68335, 68336, 68338, 68339, 68341, 68343, 68348, 68350, 68354, 68355, 68357, 68359, 68361, 68363, 68368, 68369, 68370, 68373, 68374, 68376, 68378, 68379, 68380, 68381, 68382, 68383, 68385, 68388, 68389, 68390, 68391, 68392, 68394, 68395, 68396, 68397, 68398, 68399, 68400, 68402, 68405, 68407, 68413, 68414, 68416, 68417, 68418, 68419, 68420, 68421, 68422, 68423, 68424, 68426, 68427, 68428, 68429, 68430, 68431, 68432, 68434, 68435, 68437, 68438, 68439, 68440, 68443, 68446, 68448, 68449, 68451, 68454, 68458, 68459, 68462, 68463, 68465, 68468, 68470, 68471, 68472, 68473, 68474, 68475, 68480, 68481, 68483, 68484, 68486, 68487, 68491, 68492, 68493, 68495, 68496, 68498, 68500, 68501, 68502, 68503, 68505, 68508, 68511, 68514, 68515, 68517, 68519, 68522, 68523, 68525, 68527, 68528, 68529, 68530, 68532, 68533, 68537, 68539, 68540, 68542, 68544, 68545, 68546, 68548, 68549, 68552, 68553, 68555, 68557, 68558, 68561, 68562, 68563, 68564, 68566, 68568, 68569, 68572, 68573, 68574, 68576, 68577, 68578, 68581, 68582, 68583, 68586, 68587, 68595, 68598, 68599, 68600, 68601, 68604, 68606, 68607, 68608, 68609, 68613, 68614, 68615, 68617, 68619, 68620, 68621, 68623, 68625, 68626, 68627, 68628, 68629, 68630, 68631, 68635, 68636, 68637, 68639, 68641, 68643, 68644, 68645, 68647, 68650, 68652, 68653, 68655, 68661, 68662, 68664, 68665, 68668, 68670, 68671, 68674, 68675, 68677, 68678, 68679, 68680, 68682, 68684, 68687, 68689, 68690, 68692, 68693, 68697, 68699, 68700, 68701, 68708, 68718, 68719, 68721, 68722, 68725, 68727, 68728, 68729, 68731, 68733, 68734, 68736, 68739, 68740, 68741, 68742, 68743, 68744, 68746, 68749, 68750, 68752, 68755, 68757, 68760, 68761, 68762, 68765, 68768, 68770, 68771, 68772, 68773, 68774, 68775, 68777, 68778, 68780, 68781, 68785, 68786, 68788, 68789, 68790, 68792, 68793, 68794, 68796, 68797, 68798, 68799, 68802, 68803, 68805, 68807, 68808, 68809, 68810, 68812, 68815, 68817, 68819, 68820, 68823, 68824, 68826, 68827, 68828, 68829, 68833, 68834, 68835, 68843, 68846, 68848, 68851, 68852, 68854, 68855, 68862, 68864, 68865, 68866, 68867, 68868, 68869, 68872, 68873, 68875, 68880, 68882, 68884, 68885, 68888, 68889, 68890, 68892, 68893, 68894, 68895, 68897, 68900, 68903, 68905, 68906, 68908, 68909, 68911, 68913, 68916, 68918, 68919, 68922, 68924, 68926, 68930, 68931, 68932, 68935, 68936, 68940, 68941, 68942, 68943, 68945, 68946, 68947, 68948, 68949, 68951, 68953, 68954, 68955, 68956, 68957, 68958, 68961, 68962, 68963, 68965, 68966, 68967, 68968, 68970, 68972, 68973, 68974, 68978, 68979, 68980, 68982, 68984, 68988, 68989, 68990, 68991, 68993, 68994, 68996, 68997, 69001, 69002, 69005, 69008, 69010, 69011, 69012, 69013, 69014, 69015, 69017, 69018, 69020, 69022, 69024, 69025, 69026, 69027, 69028, 69029, 69030, 69033, 69034, 69035, 69036, 69038, 69039, 69040, 69042, 69043, 69045, 69048, 69049, 69055, 69056, 69060, 69061, 69062, 69064, 69065, 69066, 69068, 69071, 69072, 69074, 69075, 69076, 69078, 69079, 69080, 69082, 69084, 69085, 69086, 69088, 69089, 69092, 69095, 69096, 69097, 69098, 69099, 69101, 69102, 69104, 69105, 69106, 69107, 69110, 69113, 69115, 69119, 69122, 69123, 69124, 69127, 69128, 69129, 69134, 69135, 69137, 69140, 69141, 69142, 69143, 69144, 69146, 69147, 69148, 69152, 69153, 69154, 69155, 69158, 69160, 69161, 69162, 69163, 69164, 69165, 69167, 69171, 69173, 69174, 69175, 69176, 69177, 69178, 69179, 69180, 69183, 69184, 69185, 69186, 69190, 69192, 69194, 69195, 69197, 69200, 69202, 69204, 69205, 69207, 69209, 69210, 69211, 69213, 69215, 69216, 69220, 69221, 69223, 69225, 69227, 69230, 69231, 69232, 69233, 69236, 69237, 69238, 69241, 69243, 69244, 69247, 69248, 69249, 69251, 69252, 69257, 69258, 69260, 69262, 69266, 69267, 69270, 69271, 69272, 69273, 69274, 69275, 69277, 69278, 69280, 69281, 69282, 69284, 69285, 69287, 69289, 69291, 69293, 69294, 69295, 69296, 69297, 69298, 69299, 69300, 69301, 69303, 69305, 69306, 69309, 69310, 69311, 69312, 69313, 69317, 69318, 69319, 69320, 69324, 69325, 69327, 69332, 69335, 69336, 69337, 69338, 69339, 69340, 69341, 69342, 69343, 69344, 69346, 69349, 69351, 69352, 69354, 69355, 69357, 69359, 69360, 69361, 69362, 69364, 69365, 69367, 69369, 69370, 69371, 69375, 69376, 69377, 69378, 69384, 69385, 69390, 69391, 69392, 69394, 69395, 69396, 69397, 69398, 69401, 69403, 69407, 69409, 69413, 69414, 69416, 69417, 69420, 69421, 69423, 69424, 69425, 69427, 69429, 69430, 69434, 69435, 69439, 69441, 69443, 69445, 69448, 69449, 69450, 69451, 69453, 69454, 69456, 69458, 69459, 69461, 69462, 69463, 69464, 69465, 69467, 69469, 69475, 69476, 69480, 69481, 69482, 69485, 69486, 69487, 69489, 69490, 69493, 69496, 69497, 69498, 69500, 69502, 69503, 69504, 69505, 69507, 69508, 69509, 69512, 69513, 69515, 69516, 69517, 69519, 69520, 69523, 69524, 69526, 69527, 69528, 69529, 69533, 69534, 69539, 69540, 69542, 69544, 69545, 69546, 69548, 69550, 69551, 69552, 69553, 69555, 69557, 69558, 69560, 69561, 69563, 69564, 69566, 69569, 69572, 69573, 69574, 69575, 69576, 69577, 69578, 69579, 69580, 69582, 69585, 69587, 69590, 69597, 69598, 69604, 69605, 69608, 69611, 69612, 69615, 69617, 69622, 69623, 69624, 69628, 69629, 69630, 69631, 69633, 69634, 69636, 69638, 69639, 69641, 69642, 69643, 69644, 69645, 69647, 69649, 69650, 69651, 69652, 69653, 69654, 69655, 69656, 69662, 69664, 69665, 69666, 69667, 69668, 69670, 69671, 69672, 69675, 69677, 69678, 69679, 69682, 69683, 69684, 69685, 69687, 69689, 69690, 69691, 69699, 69700, 69701, 69703, 69705, 69709, 69710, 69711, 69713, 69714, 69715, 69717, 69719, 69720, 69721, 69722, 69723, 69725, 69728, 69729, 69730, 69731, 69732, 69733, 69734, 69735, 69737, 69738, 69740, 69741, 69742, 69743, 69745, 69748, 69750, 69752, 69753, 69758, 69760, 69762, 69766, 69767, 69770, 69771, 69775, 69776, 69779, 69780, 69785, 69787, 69789, 69791, 69793, 69795, 69796, 69797, 69800, 69801, 69804, 69805, 69806, 69808, 69809, 69810, 69811, 69812, 69813, 69814, 69816, 69818, 69819, 69820, 69821, 69822, 69826, 69830, 69832, 69833, 69834, 69836, 69837, 69840, 69841, 69842, 69843, 69844, 69847, 69848, 69853, 69854, 69855, 69856, 69858, 69859, 69861, 69864, 69867, 69871, 69872, 69874, 69875, 69877, 69882, 69884, 69885, 69886, 69887, 69888, 69889, 69890, 69893, 69899, 69908, 69910, 69911, 69914, 69915, 69917, 69918, 69920, 69922, 69923, 69924, 69925, 69926, 69927, 69928, 69930, 69932, 69934, 69936, 69937, 69938, 69942, 69944, 69948, 69950, 69952, 69953, 69954, 69955, 69956, 69960, 69962, 69963, 69964, 69966, 69970, 69975, 69976, 69978, 69980, 69983, 69984, 69986, 69987, 69989, 69993, 69994, 69995, 69998, 69999, 70001, 70006, 70007, 70008, 70013, 70014, 70015, 70017, 70019, 70022, 70023, 70024, 70026, 70029, 70030, 70031, 70033, 70034, 70035, 70037, 70038, 70039, 70045, 70046, 70047, 70048, 70054, 70056, 70057, 70060, 70061, 70062, 70065, 70066, 70067, 70068, 70069, 70070, 70073, 70074, 70076, 70080, 70082, 70083, 70084, 70085, 70087, 70090, 70096, 70098, 70099, 70103, 70105, 70106, 70109, 70115, 70116, 70122, 70123, 70124, 70125, 70129, 70130, 70134, 70135, 70136, 70140, 70141, 70143, 70145, 70147, 70148, 70151, 70152, 70155, 70157, 70160, 70161, 70162, 70163, 70164, 70166, 70167, 70168, 70169, 70172, 70173, 70174, 70175, 70176, 70177, 70178, 70181, 70184, 70185, 70192, 70193, 70196, 70199, 70200, 70201, 70203, 70205, 70207, 70208, 70211, 70214, 70216, 70217, 70218, 70219, 70221, 70222, 70223, 70226, 70227, 70228, 70230, 70231, 70232, 70235, 70237, 70239, 70241, 70242, 70243, 70247, 70250, 70251, 70254, 70255, 70257, 70258, 70259, 70260, 70261, 70263, 70265, 70266, 70270, 70271, 70272, 70275, 70277, 70281, 70282, 70287, 70288, 70290, 70291, 70294, 70298, 70299, 70300, 70302, 70307, 70308, 70309, 70311, 70312, 70314, 70315, 70316, 70317, 70319, 70320, 70322, 70324, 70325, 70326, 70327, 70328, 70331, 70333, 70334, 70335, 70336, 70338, 70339, 70340, 70342, 70345, 70346, 70348, 70351, 70353, 70354, 70356, 70357, 70358, 70362, 70367, 70368, 70369, 70371, 70372, 70374, 70377, 70379, 70380, 70382, 70385, 70386, 70387, 70388, 70389, 70391, 70393, 70394, 70395, 70396, 70397, 70400, 70401, 70402, 70403, 70404, 70405, 70407, 70409, 70410, 70411, 70413, 70417, 70419, 70420, 70422, 70424, 70425, 70426, 70427, 70428, 70430, 70432, 70436, 70438, 70440, 70445, 70451, 70452, 70453, 70455, 70456, 70458, 70462, 70464, 70465, 70467, 70468, 70469, 70470, 70472, 70473, 70474, 70475, 70476, 70478, 70485, 70487, 70488, 70490, 70492, 70494, 70496, 70497, 70499, 70500, 70501, 70503, 70504, 70508, 70510, 70511, 70512, 70515, 70517, 70518, 70520, 70523, 70524, 70526, 70531, 70535, 70536, 70537, 70538, 70539, 70541, 70544, 70545, 70546, 70548, 70551, 70552, 70553, 70557, 70559, 70563, 70564, 70566, 70567, 70569, 70570, 70572, 70574, 70575, 70576, 70577, 70578, 70581, 70583, 70584, 70585, 70586, 70587, 70588, 70589, 70590, 70593, 70594, 70601, 70603, 70605, 70609, 70611, 70613, 70616, 70617, 70620, 70621, 70622, 70623, 70624, 70626, 70629, 70631, 70635, 70636, 70637, 70638, 70641, 70642, 70643, 70645, 70647, 70648, 70649, 70651, 70653, 70654, 70656, 70657, 70658, 70659, 70661, 70662, 70664, 70665, 70667, 70668, 70669, 70670, 70672, 70674, 70675, 70676, 70677, 70681, 70683, 70684, 70686, 70687, 70689, 70690, 70695, 70696, 70697, 70698, 70699, 70702, 70708, 70714, 70715, 70716, 70717, 70719, 70721, 70722, 70723, 70725, 70726, 70731, 70733, 70734, 70735, 70736, 70737, 70740, 70741, 70743, 70745, 70746, 70748, 70749, 70750, 70751, 70757, 70759, 70760, 70761, 70762, 70764, 70771, 70772, 70773, 70775, 70777, 70778, 70779, 70780, 70782, 70786, 70787, 70789, 70790, 70791, 70792, 70796, 70797, 70800, 70801, 70806, 70807, 70808, 70810, 70811, 70812, 70813, 70818, 70819, 70822, 70823, 70825, 70826, 70828, 70836, 70837, 70840, 70842, 70843, 70844, 70846, 70847, 70848, 70849, 70850, 70852, 70853, 70854, 70856, 70859, 70860, 70863, 70865, 70866, 70867, 70869, 70871, 70873, 70874, 70877, 70878, 70879, 70881, 70882, 70883, 70884, 70887, 70890, 70895, 70897, 70898, 70899, 70900, 70903, 70904, 70905, 70907, 70914, 70915, 70916, 70917, 70918, 70920, 70922, 70924, 70925, 70926, 70927, 70928, 70931, 70932, 70933, 70936, 70940, 70941, 70942, 70944, 70945, 70947, 70949, 70951, 70952, 70954, 70955, 70956, 70958, 70959, 70961, 70962, 70964, 70969, 70975, 70976, 70977, 70981, 70983, 70984, 70985, 70992, 70993, 70995, 70996, 70997, 70999, 71002, 71003, 71004, 71005, 71007, 71012, 71013, 71015, 71016, 71018, 71019, 71021, 71024, 71025, 71026, 71027, 71029, 71032, 71033, 71034, 71035, 71036, 71037, 71038, 71039, 71041, 71042, 71048, 71049, 71050, 71052, 71055, 71058, 71059, 71060, 71064, 71066, 71068, 71069, 71070, 71072, 71073, 71074, 71079, 71081, 71082, 71083, 71086, 71087, 71088, 71089, 71091, 71093, 71096, 71098, 71100, 71101, 71102, 71103, 71105, 71107, 71108, 71109, 71111, 71114, 71117, 71121, 71122, 71123, 71126, 71127, 71128, 71130, 71131, 71132, 71135, 71136, 71137, 71139, 71141, 71147, 71149, 71151, 71153, 71154, 71155, 71157, 71158, 71159, 71160, 71161, 71167, 71168, 71169, 71171, 71173, 71177, 71178, 71180, 71181, 71183, 71186, 71187, 71198, 71199, 71201, 71202, 71203, 71205, 71207, 71208, 71209, 71211, 71212, 71213, 71214, 71216, 71219, 71222, 71223, 71224, 71225, 71227, 71228, 71229, 71230, 71232, 71233, 71234, 71235, 71236, 71237, 71238, 71239, 71240, 71241, 71242, 71243, 71244, 71246, 71247, 71248, 71251, 71252, 71254, 71255, 71256, 71257, 71262, 71263, 71264, 71266, 71267, 71268, 71269, 71270, 71272, 71276, 71277, 71278, 71279, 71280, 71281, 71284, 71286, 71288, 71289, 71292, 71296, 71299, 71301, 71303, 71305, 71306, 71308, 71311, 71312, 71315, 71316, 71317, 71320, 71321, 71323, 71325, 71326, 71328, 71329, 71330, 71331, 71332, 71337, 71340, 71341, 71342, 71344, 71345, 71349, 71350, 71354, 71357, 71359, 71360, 71361, 71365, 71367, 71369, 71372, 71374, 71375, 71376, 71378, 71381, 71383, 71384, 71385, 71387, 71392, 71394, 71395, 71396, 71397, 71399, 71401, 71407, 71408, 71409, 71410, 71411, 71415, 71417, 71418, 71420, 71421, 71423, 71424, 71425, 71426, 71427, 71428, 71431, 71432, 71438, 71442, 71445, 71447, 71449, 71450, 71451, 71452, 71453, 71455, 71457, 71460, 71463, 71466, 71467, 71470, 71471, 71475, 71478, 71481, 71483, 71484, 71485, 71487, 71488, 71489, 71491, 71492, 71493, 71494, 71495, 71496, 71497, 71498, 71499, 71500, 71501, 71505, 71507, 71508, 71509, 71510, 71512, 71514, 71515, 71517, 71520, 71523, 71525, 71526, 71527, 71528, 71529, 71530, 71531, 71534, 71538, 71539, 71542, 71543, 71544, 71545, 71546, 71547, 71548, 71549, 71550, 71551, 71557, 71558, 71559, 71562, 71564, 71565, 71566, 71567, 71568, 71570, 71574, 71575, 71578, 71579, 71581, 71583, 71584, 71585, 71586, 71587, 71588, 71589, 71590, 71593, 71594, 71597, 71598, 71601, 71602, 71606, 71608, 71609, 71610, 71612, 71614, 71621, 71623, 71626, 71630, 71631, 71636, 71637, 71642, 71644, 71647, 71650, 71651, 71653, 71654, 71656, 71657, 71660, 71664, 71665, 71677, 71680, 71685, 71686, 71687, 71689, 71691, 71693, 71695, 71697, 71698, 71700, 71701, 71705, 71707, 71713, 71714, 71716, 71719, 71720, 71724, 71726, 71730, 71731, 71732, 71733, 71734, 71741, 71742, 71743, 71744, 71745, 71747, 71748, 71749, 71750, 71757, 71759, 71760, 71761, 71764, 71765, 71766, 71767, 71768, 71769, 71774, 71775, 71776, 71779, 71780, 71781, 71783, 71786, 71788, 71791, 71793, 71794, 71796, 71801, 71803, 71807, 71810, 71813, 71814, 71816, 71817, 71818, 71819, 71821, 71823, 71825, 71829, 71831, 71833, 71834, 71835, 71836, 71837, 71841, 71842, 71843, 71844, 71845, 71846, 71847, 71848, 71851, 71853, 71857, 71858, 71859, 71862, 71863, 71868, 71869, 71870, 71874, 71876, 71879, 71881, 71883, 71885, 71886, 71889, 71892, 71894, 71898, 71899, 71901, 71902, 71904, 71905, 71906, 71907, 71909, 71911, 71912, 71913, 71914, 71915, 71916, 71917, 71918, 71919, 71920, 71922, 71924, 71926, 71927, 71928, 71930, 71931, 71934, 71937, 71941, 71942, 71945, 71947, 71948, 71949, 71950, 71954, 71955, 71956, 71959, 71963, 71966, 71967, 71970, 71971, 71974, 71975, 71976, 71977, 71981, 71982, 71984, 71986, 71987, 71989, 71991, 71993, 71994, 71998, 72000, 72001, 72002, 72004, 72006, 72007, 72011, 72012, 72014, 72015, 72017, 72018, 72019, 72020, 72021, 72024, 72025, 72026, 72028, 72029, 72033, 72034, 72035, 72037, 72040, 72041, 72042, 72043, 72045, 72047, 72048, 72050, 72051, 72052, 72054, 72058, 72059, 72060, 72061, 72062, 72063, 72064, 72067, 72068, 72071, 72074, 72078, 72079, 72080, 72081, 72082, 72089, 72092, 72093, 72094, 72099, 72100, 72101, 72104, 72105, 72106, 72108, 72110, 72113, 72119, 72123, 72124, 72125, 72126, 72128, 72129, 72130, 72131, 72132, 72135, 72136, 72137, 72138, 72139, 72142, 72144, 72153, 72155, 72156, 72157, 72159, 72160, 72161, 72164, 72168, 72169, 72170, 72171, 72173, 72174, 72175, 72176, 72177, 72179, 72182, 72183, 72185, 72189, 72190, 72191, 72192, 72194, 72195, 72196, 72198, 72199, 72201, 72203, 72205, 72206, 72207, 72209, 72211, 72214, 72216, 72217, 72218, 72219, 72220, 72227, 72228, 72229, 72231, 72234, 72236, 72237, 72245, 72246, 72247, 72248, 72249, 72250, 72251, 72252, 72253, 72254, 72256, 72258, 72259, 72260, 72261, 72263, 72264, 72265, 72274, 72275, 72276, 72277, 72281, 72283, 72284, 72286, 72287, 72289, 72290, 72292, 72293, 72294, 72295, 72296, 72299, 72301, 72304, 72305, 72307, 72310, 72312, 72314, 72315, 72317, 72320, 72321, 72326, 72327, 72330, 72332, 72334, 72335, 72336, 72338, 72339, 72341, 72343, 72344, 72346, 72347, 72348, 72352, 72353, 72354, 72355, 72356, 72357, 72359, 72361, 72364, 72366, 72367, 72368, 72371, 72374, 72376, 72377, 72378, 72379, 72381, 72383, 72384, 72385, 72386, 72390, 72391, 72393, 72395, 72396, 72397, 72399, 72400, 72401, 72402, 72403, 72404, 72405, 72407, 72408, 72410, 72411, 72415, 72416, 72417, 72418, 72424, 72425, 72429, 72430, 72432, 72434, 72436, 72437, 72441, 72442, 72443, 72444, 72445, 72446, 72448, 72449, 72451, 72452, 72454, 72456, 72458, 72459, 72460, 72465, 72466, 72467, 72468, 72470, 72471, 72473, 72474, 72475, 72479, 72480, 72482, 72484, 72485, 72486, 72487, 72488, 72492, 72498, 72504, 72510, 72514, 72516, 72518, 72519, 72520, 72521, 72522, 72523, 72524, 72529, 72530, 72531, 72533, 72535, 72536, 72537, 72538, 72539, 72541, 72542, 72543, 72544, 72547, 72548, 72550, 72552, 72553, 72554, 72556, 72557, 72559, 72560, 72562, 72567, 72568, 72570, 72571, 72572, 72573, 72574, 72575, 72577, 72578, 72580, 72581, 72582, 72586, 72587, 72589, 72591, 72592, 72593, 72595, 72597, 72598, 72599, 72600, 72603, 72605, 72606, 72607, 72609, 72610, 72611, 72613, 72614, 72615, 72616, 72617, 72618, 72622, 72623, 72624, 72629, 72630, 72632, 72634, 72635, 72645, 72646, 72648, 72651, 72652, 72653, 72660, 72662, 72663, 72664, 72667, 72668, 72670, 72671, 72672, 72673, 72677, 72678, 72679, 72680, 72681, 72684, 72685, 72686, 72690, 72691, 72692, 72693, 72694, 72696, 72697, 72698, 72699, 72700, 72704, 72706, 72707, 72709, 72710, 72711, 72712, 72713, 72714, 72715, 72717, 72718, 72721, 72722, 72723, 72724, 72726, 72731, 72732, 72733, 72736, 72738, 72740, 72741, 72742, 72745, 72746, 72747, 72748, 72749, 72751, 72755, 72756, 72759, 72760, 72761, 72767, 72769, 72773, 72775, 72777, 72778, 72779, 72781, 72782, 72785, 72786, 72788, 72789, 72790, 72792, 72793, 72796, 72797, 72798, 72801, 72806, 72807, 72808, 72809, 72812, 72814, 72816, 72824, 72825, 72826, 72827, 72828, 72830, 72833, 72834, 72835, 72838, 72839, 72843, 72845, 72846, 72847, 72848, 72849, 72850, 72851, 72857, 72859, 72860, 72861, 72864, 72865, 72866, 72869, 72871, 72872, 72873, 72875, 72876, 72877, 72878, 72881, 72882, 72884, 72886, 72887, 72889, 72892, 72893, 72894, 72896, 72898, 72899, 72900, 72901, 72903, 72904, 72905, 72907, 72909, 72911, 72914, 72917, 72918, 72924, 72925, 72927, 72928, 72934, 72936, 72939, 72941, 72943, 72944, 72945, 72947, 72948, 72949, 72950, 72954, 72961, 72963, 72964, 72965, 72966, 72969, 72970, 72971, 72972, 72975, 72976, 72978, 72979, 72981, 72984, 72988, 72991, 72992, 72995, 72998, 72999, 73001, 73006, 73007, 73010, 73012, 73016, 73017, 73018, 73019, 73021, 73024, 73025, 73026, 73027, 73030, 73036, 73037, 73043, 73044, 73045, 73048, 73049, 73050, 73051, 73054, 73059, 73061, 73065, 73066, 73071, 73072, 73073, 73074, 73076, 73077, 73079, 73080, 73081, 73083, 73085, 73086, 73088, 73089, 73090, 73091, 73093, 73098, 73099, 73102, 73105, 73106, 73108, 73112, 73114, 73116, 73120, 73123, 73126, 73128, 73129, 73130, 73133, 73136, 73140, 73141, 73143, 73145, 73148, 73149, 73150, 73151, 73152, 73155, 73156, 73159, 73160, 73163, 73164, 73165, 73167, 73171, 73172, 73175, 73179, 73182, 73184, 73185, 73186, 73195, 73196, 73199, 73200, 73201, 73202, 73204, 73209, 73210, 73211, 73212, 73213, 73215, 73218, 73219, 73220, 73223, 73225, 73229, 73231, 73232, 73234, 73238, 73240, 73241, 73242, 73243, 73244, 73245, 73248, 73252, 73257, 73258, 73260, 73262, 73263, 73265, 73269, 73270, 73271, 73272, 73274, 73275, 73277, 73280, 73281, 73282, 73283, 73287, 73292, 73293, 73295, 73296, 73297, 73300, 73302, 73306, 73307, 73308, 73309, 73310, 73312, 73314, 73315, 73317, 73320, 73321, 73325, 73329, 73330, 73336, 73338, 73342, 73343, 73349, 73352, 73355, 73356, 73358, 73359, 73360, 73364, 73365, 73367, 73369, 73370, 73371, 73376, 73379, 73381, 73382, 73384, 73385, 73388, 73390, 73391, 73392, 73397, 73401, 73402, 73404, 73405, 73411, 73412, 73414, 73416, 73418, 73420, 73423, 73424, 73426, 73428, 73429, 73430, 73431, 73435, 73439, 73440, 73442, 73445, 73447, 73450, 73452, 73453, 73469, 73470, 73471, 73474, 73475, 73481, 73482, 73483, 73484, 73485, 73486, 73488, 73489, 73491, 73495, 73500, 73502, 73503, 73504, 73506, 73508, 73509, 73510, 73511, 73512, 73514, 73518, 73520, 73523, 73524, 73525, 73526, 73527, 73528, 73529, 73530, 73531, 73532, 73534, 73540, 73541, 73542, 73543, 73545, 73548, 73551, 73552, 73553, 73554, 73555, 73556, 73559, 73560, 73561, 73562, 73566, 73571, 73572, 73573, 73574, 73576, 73577, 73580, 73581, 73582, 73583, 73585, 73586, 73587, 73588, 73589, 73590, 73592, 73594, 73596, 73597, 73598, 73601, 73604, 73605, 73606, 73607, 73609, 73610, 73611, 73612, 73614, 73616, 73617, 73621, 73628, 73629, 73630, 73631, 73633, 73635, 73636, 73637, 73638, 73639, 73643, 73644, 73645, 73647, 73649, 73651, 73654, 73655, 73656, 73657, 73659, 73661, 73662, 73663, 73665, 73666, 73667, 73669, 73670, 73671, 73673, 73674, 73677, 73678, 73679, 73681, 73684, 73687, 73689, 73691, 73692, 73693, 73699, 73700, 73702, 73703, 73704, 73705, 73708, 73709, 73712, 73713, 73715, 73716, 73717, 73718, 73719, 73721, 73724, 73726, 73727, 73728, 73729, 73731, 73732, 73735, 73738, 73742, 73743, 73744, 73746, 73747, 73748, 73749, 73750, 73755, 73756, 73757, 73759, 73762, 73764, 73765, 73768, 73772, 73780, 73781, 73782, 73785, 73786, 73787, 73789, 73790, 73791, 73792, 73794, 73796, 73797, 73798, 73799, 73800, 73801, 73803, 73805, 73806, 73807, 73808, 73809, 73811, 73812, 73813, 73814, 73816, 73818, 73821, 73822, 73823, 73827, 73830, 73831, 73833, 73835, 73837, 73839, 73840, 73841, 73842, 73843, 73844, 73845, 73847, 73849, 73850, 73856, 73857, 73858, 73860, 73861, 73862, 73864, 73865, 73866, 73867, 73868, 73871, 73877, 73879, 73880, 73881, 73883, 73884, 73885, 73887, 73892, 73894, 73895, 73897, 73898, 73899, 73903, 73905, 73906, 73908, 73909, 73911, 73912, 73913, 73914, 73915, 73918, 73921, 73922, 73925, 73926, 73927, 73928, 73929, 73930, 73931, 73933, 73936, 73937, 73938, 73939, 73942, 73943, 73944, 73945, 73946, 73948, 73950, 73952, 73955, 73956, 73957, 73958, 73959, 73960, 73963, 73964, 73965, 73966, 73968, 73969, 73971, 73972, 73973, 73975, 73976, 73978, 73980, 73981, 73982, 73984, 73985, 73987, 73988, 73990, 73991, 73992, 73993, 73994, 73996, 73999, 74002, 74004, 74007, 74009, 74012, 74013, 74015, 74020, 74023, 74026, 74029, 74036, 74038, 74040, 74041, 74042, 74047, 74049, 74050, 74051, 74054, 74055, 74056, 74057, 74058, 74061, 74062, 74064, 74065, 74066, 74067, 74070, 74073, 74074, 74075, 74076, 74077, 74079, 74083, 74084, 74087, 74088, 74089, 74090, 74091, 74092, 74094, 74095, 74097, 74100, 74103, 74105, 74106, 74111, 74112, 74113, 74116, 74117, 74119, 74121, 74122, 74125, 74126, 74127, 74133, 74134, 74135, 74137, 74140, 74141, 74143, 74145, 74147, 74149, 74150, 74152, 74153, 74155, 74156, 74158, 74162, 74163, 74164, 74165, 74170, 74171, 74172, 74173, 74175, 74176, 74179, 74183, 74184, 74187, 74188, 74192, 74193, 74194, 74195, 74196, 74199, 74201, 74202, 74203, 74204, 74206, 74210, 74218, 74219, 74221, 74223, 74224, 74227, 74228, 74233, 74235, 74236, 74238, 74239, 74240, 74241, 74247, 74248, 74249, 74250, 74251, 74253, 74257, 74258, 74259, 74260, 74261, 74262, 74264, 74265, 74266, 74267, 74270, 74271, 74275, 74276, 74277, 74278, 74279, 74280, 74282, 74283, 74284, 74287, 74288, 74294, 74295, 74296, 74297, 74299, 74301, 74302, 74303, 74304, 74305, 74307, 74308, 74309, 74311, 74314, 74316, 74318, 74319, 74324, 74325, 74326, 74327, 74329, 74330, 74331, 74335, 74336, 74337, 74338, 74339, 74342, 74344, 74345, 74351, 74352, 74354, 74360, 74361, 74362, 74363, 74366, 74370, 74371, 74373, 74374, 74375, 74378, 74379, 74380, 74382, 74383, 74384, 74393, 74394, 74395, 74396, 74397, 74398, 74399, 74401, 74403, 74404, 74405, 74406, 74408, 74410, 74411, 74412, 74413, 74414, 74416, 74418, 74419, 74421, 74423, 74424, 74426, 74429, 74430, 74433, 74434, 74436, 74437, 74439, 74440, 74441, 74442, 74444, 74445, 74446, 74447, 74448, 74449, 74451, 74452, 74454, 74455, 74458, 74459, 74460, 74463, 74464, 74465, 74466, 74467, 74468, 74469, 74471, 74473, 74475, 74476, 74479, 74480, 74483, 74485, 74486, 74489, 74491, 74494, 74495, 74497, 74499, 74500, 74502, 74505, 74508, 74509, 74510, 74511, 74512, 74514, 74515, 74518, 74520, 74521, 74522, 74523, 74524, 74527, 74528, 74529, 74531, 74533, 74534, 74535, 74539, 74540, 74542, 74544, 74545, 74548, 74549, 74550, 74551, 74553, 74554, 74555, 74557, 74558, 74560, 74561, 74563, 74565, 74566, 74567, 74569, 74570, 74574, 74575, 74577, 74578, 74585, 74590, 74593, 74594, 74597, 74599, 74600, 74605, 74607, 74610, 74611, 74613, 74614, 74620, 74621, 74622, 74623, 74624, 74625, 74629, 74631, 74633, 74634, 74635, 74636, 74637, 74638, 74640, 74641, 74642, 74643, 74644, 74648, 74649, 74652, 74653, 74654, 74655, 74656, 74658, 74659, 74660, 74661, 74662, 74664, 74665, 74668, 74669, 74670, 74671, 74672, 74673, 74675, 74677, 74678, 74683, 74684, 74686, 74689, 74690, 74692, 74697, 74698, 74699, 74702, 74703, 74705, 74707, 74708, 74710, 74712, 74713, 74715, 74716, 74719, 74722, 74723, 74724, 74725, 74728, 74730, 74731, 74736, 74737, 74738, 74743, 74747, 74748, 74751, 74755, 74760, 74762, 74764, 74765, 74767, 74768, 74769, 74773, 74777, 74779, 74781, 74789, 74790, 74792, 74793, 74796, 74797, 74799, 74800, 74801, 74803, 74804, 74805, 74806, 74807, 74811, 74813, 74814, 74815, 74817, 74818, 74819, 74820, 74822, 74823, 74826, 74827, 74832, 74833, 74836, 74841, 74842, 74843, 74844, 74845, 74850, 74852, 74853, 74854, 74855, 74856, 74859, 74861, 74862, 74863, 74864, 74865, 74869, 74870, 74874, 74875, 74879, 74884, 74885, 74886, 74888, 74889, 74890, 74892, 74893, 74895, 74896, 74897, 74899, 74901, 74902, 74904, 74905, 74906, 74907, 74909, 74910, 74911, 74912, 74916, 74917, 74918, 74919, 74922, 74923, 74924, 74925, 74926, 74928, 74933, 74937, 74938, 74939, 74940, 74945, 74946, 74950, 74952, 74954, 74955, 74957, 74959, 74960, 74961, 74963, 74964, 74966, 74969, 74971, 74972, 74973, 74974, 74976, 74979, 74981, 74982, 74983, 74984, 74986, 74987, 74988, 74989, 74990, 74991, 74992, 74993, 74995, 74999, 75000, 75002, 75004, 75005, 75006, 75007, 75008, 75009, 75010, 75011, 75012, 75013, 75014, 75015, 75018, 75019, 75020, 75022, 75023, 75024, 75025, 75026, 75027, 75029, 75032, 75033, 75034, 75036, 75037, 75041, 75046, 75047, 75049, 75051, 75052, 75056, 75057, 75058, 75059, 75061, 75062, 75065, 75066, 75069, 75070, 75073, 75074, 75076, 75078, 75082, 75083, 75084, 75085, 75086, 75089, 75090, 75093, 75099, 75100, 75101, 75103, 75104, 75105, 75107, 75108, 75110, 75114, 75120, 75126, 75127, 75128, 75131, 75133, 75135, 75136, 75138, 75141, 75142, 75143, 75147, 75150, 75152, 75153, 75154, 75155, 75156, 75158, 75162, 75163, 75164, 75165, 75166, 75168, 75169, 75170, 75172, 75174, 75176, 75177, 75178, 75180, 75181, 75182, 75186, 75187, 75188, 75189, 75191, 75194, 75195, 75196, 75197, 75199, 75201, 75204, 75209, 75210, 75211, 75214, 75216, 75220, 75221, 75222, 75225, 75226, 75229, 75230, 75231, 75233, 75235, 75238, 75241, 75244, 75245, 75247, 75248, 75253, 75254, 75256, 75257, 75260, 75263, 75267, 75269, 75272, 75274, 75275, 75281, 75284, 75285, 75286, 75287, 75289, 75290, 75293, 75294, 75295, 75298, 75299, 75301, 75302, 75304, 75306, 75307, 75310, 75311, 75312, 75313, 75315, 75320, 75321, 75323, 75324, 75325, 75326, 75327, 75328, 75333, 75336, 75338, 75339, 75342, 75343, 75345, 75346, 75349, 75351, 75352, 75355, 75357, 75358, 75360, 75362, 75363, 75364, 75367, 75368, 75370, 75372, 75373, 75374, 75375, 75376, 75377, 75378, 75382, 75383, 75385, 75388, 75389, 75391, 75393, 75394, 75395, 75398, 75402, 75404, 75405, 75407, 75408, 75409, 75411, 75412, 75413, 75414, 75416, 75417, 75419, 75421, 75422, 75425, 75427, 75428, 75431, 75434, 75435, 75436, 75437, 75440, 75442, 75445, 75446, 75447, 75449, 75451, 75452, 75455, 75456, 75457, 75458, 75463, 75464, 75465, 75466, 75467, 75469, 75470, 75472, 75473, 75474, 75475, 75476, 75477, 75482, 75483, 75484, 75486, 75488, 75493, 75494, 75495, 75500, 75501, 75502, 75507, 75508, 75511, 75513, 75514, 75515, 75517, 75519, 75520, 75521, 75522, 75527, 75528, 75530, 75533, 75542, 75545, 75546, 75549, 75550, 75554, 75555, 75561, 75562, 75563, 75564, 75565, 75566, 75567, 75568, 75574, 75575, 75577, 75581, 75584, 75585, 75587, 75588, 75589, 75590, 75591, 75594, 75595, 75596, 75597, 75600, 75601, 75605, 75606, 75607, 75608, 75616, 75620, 75623, 75625, 75626, 75628, 75630, 75632, 75637, 75639, 75640, 75641, 75642, 75643, 75650, 75651, 75652, 75653, 75657, 75658, 75659, 75662, 75664, 75665, 75667, 75670, 75672, 75673, 75677, 75678, 75679, 75681, 75682, 75683, 75687, 75688, 75692, 75694, 75697, 75701, 75706, 75708, 75710, 75711, 75712, 75714, 75719, 75720, 75724, 75729, 75730, 75732, 75736, 75737, 75738, 75740, 75743, 75744, 75745, 75746, 75747, 75750, 75752, 75754, 75757, 75758, 75759, 75760, 75761, 75762, 75763, 75764, 75765, 75766, 75767, 75768, 75769, 75771, 75775, 75780, 75782, 75783, 75784, 75785, 75786, 75787, 75789, 75792, 75793, 75794, 75795, 75799, 75802, 75805, 75808, 75811, 75815, 75817, 75820, 75821, 75823, 75824, 75825, 75827, 75828, 75830, 75831, 75833, 75835, 75836, 75837, 75841, 75843, 75845, 75849, 75851, 75852, 75853, 75855, 75857, 75858, 75859, 75861, 75862, 75866, 75868, 75869, 75871, 75872, 75875, 75877, 75879, 75884, 75886, 75887, 75888, 75889, 75891, 75893, 75897, 75898, 75899, 75901, 75902, 75903, 75905, 75907, 75909, 75910, 75911, 75912, 75914, 75916, 75917, 75918, 75919, 75920, 75921, 75923, 75924, 75925, 75926, 75929, 75930, 75931, 75933, 75935, 75937, 75939, 75941, 75942, 75943, 75944, 75945, 75950, 75951, 75954, 75955, 75957, 75958, 75959, 75964, 75967, 75968, 75969, 75970, 75972, 75973, 75974, 75975, 75977, 75978, 75979, 75982, 75988, 75989, 75991, 75992, 75993, 75994, 75995, 75996, 75997, 76000, 76001, 76006, 76007, 76008, 76010, 76014, 76015, 76016, 76018, 76022, 76023, 76025, 76026, 76029, 76030, 76031, 76033, 76034, 76035, 76036, 76046, 76048, 76049, 76051, 76053, 76054, 76057, 76058, 76060, 76062, 76065, 76066, 76068, 76069, 76072, 76074, 76076, 76078, 76081, 76083, 76084, 76087, 76088, 76089, 76091, 76094, 76096, 76098, 76099, 76100, 76101, 76103, 76107, 76109, 76110, 76111, 76112, 76114, 76116, 76118, 76120, 76121, 76123, 76125, 76126, 76127, 76130, 76133, 76134, 76135, 76136, 76137, 76138, 76139, 76140, 76141, 76144, 76145, 76147, 76149, 76150, 76152, 76154, 76156, 76158, 76161, 76164, 76165, 76169, 76170, 76173, 76175, 76177, 76185, 76187, 76191, 76192, 76194, 76197, 76198, 76199, 76203, 76207, 76208, 76209, 76213, 76215, 76216, 76217, 76218, 76219, 76220, 76224, 76228, 76230, 76231, 76232, 76236, 76237, 76240, 76241, 76244, 76248, 76250, 76252, 76253, 76254, 76255, 76257, 76258, 76262, 76265, 76266, 76267, 76268, 76269, 76271, 76272, 76277, 76280, 76285, 76287, 76288, 76289, 76291, 76293, 76294, 76298, 76308, 76311, 76313, 76315, 76316, 76320, 76322, 76323, 76326, 76327, 76328, 76329, 76330, 76331, 76333, 76334, 76335, 76336, 76337, 76339, 76343, 76344, 76345, 76348, 76349, 76351, 76354, 76356, 76357, 76359, 76360, 76361, 76364, 76369, 76370, 76374, 76375, 76376, 76378, 76381, 76383, 76384, 76386, 76387, 76392, 76393, 76394, 76395, 76396, 76397, 76400, 76401, 76404, 76406, 76407, 76408, 76410, 76411, 76412, 76417, 76419, 76429, 76431, 76432, 76433, 76436, 76438, 76440, 76441, 76444, 76445, 76447, 76448, 76449, 76450, 76451, 76453, 76454, 76457, 76460, 76461, 76464, 76465, 76466, 76467, 76470, 76472, 76473, 76477, 76479, 76480, 76481, 76482, 76483, 76485, 76486, 76487, 76488, 76491, 76494, 76497, 76498, 76499, 76503, 76504, 76506, 76508, 76509, 76510, 76511, 76513, 76517, 76519, 76520, 76521, 76522, 76523, 76524, 76525, 76526, 76527, 76531, 76532, 76533, 76537, 76538, 76540, 76541, 76544, 76546, 76547, 76549, 76553, 76555, 76558, 76559, 76560, 76562, 76563, 76564, 76566, 76567, 76568, 76570, 76571, 76572, 76573, 76574, 76575, 76579, 76580, 76581, 76583, 76584, 76585, 76587, 76591, 76594, 76595, 76597, 76599, 76600, 76601, 76602, 76604, 76605, 76606, 76607, 76608, 76609, 76612, 76615, 76616, 76617, 76618, 76621, 76624, 76625, 76626, 76627, 76628, 76629, 76630, 76631, 76634, 76636, 76637, 76639, 76640, 76642, 76643, 76645, 76646, 76648, 76649, 76651, 76652, 76655, 76656, 76658, 76659, 76660, 76661, 76662, 76663, 76664, 76665, 76666, 76669, 76671, 76672, 76673, 76674, 76682, 76684, 76685, 76686, 76687, 76689, 76690, 76691, 76693, 76694, 76696, 76697, 76698, 76700, 76701, 76702, 76705, 76707, 76712, 76713, 76715, 76719, 76720, 76721, 76722, 76724, 76725, 76727, 76728, 76730, 76732, 76733, 76734, 76735, 76736, 76737, 76739, 76742, 76743, 76745, 76746, 76749, 76752, 76753, 76754, 76755, 76760, 76762, 76764, 76765, 76766, 76768, 76769, 76770, 76772, 76774, 76775, 76776, 76777, 76778, 76779, 76783, 76786, 76787, 76788, 76789, 76790, 76792, 76794, 76796, 76797, 76799, 76801, 76802, 76803, 76804, 76806, 76807, 76810, 76813, 76814, 76815, 76818, 76821, 76823, 76826, 76827, 76828, 76830, 76831, 76832, 76833, 76835, 76838, 76840, 76842, 76843, 76845, 76847, 76848, 76849, 76852, 76854, 76855, 76856, 76868, 76870, 76875, 76877, 76882, 76883, 76884, 76888, 76893, 76895, 76896, 76897, 76898, 76899, 76901, 76902, 76903, 76905, 76907, 76908, 76911, 76912, 76913, 76915, 76916, 76918, 76919, 76921, 76922, 76925, 76928, 76929, 76936, 76937, 76938, 76939, 76940, 76941, 76944, 76946, 76947, 76952, 76953, 76954, 76957, 76959, 76960, 76961, 76962, 76963, 76964, 76966, 76968, 76971, 76972, 76973, 76974, 76977, 76978, 76981, 76983, 76985, 76987, 76988, 76989, 76990, 76992, 76994, 76995, 76997, 76998, 77000, 77001, 77002, 77003, 77005, 77006, 77007, 77009, 77010, 77012, 77016, 77021, 77022, 77023, 77025, 77027, 77028, 77029, 77030, 77032, 77034, 77035, 77038, 77039, 77044, 77045, 77046, 77048, 77049, 77053, 77055, 77056, 77057, 77058, 77059, 77060, 77061, 77063, 77065, 77066, 77068, 77069, 77070, 77071, 77072, 77073, 77075, 77076, 77077, 77079, 77081, 77083, 77086, 77087, 77088, 77089, 77090, 77093, 77094, 77095, 77097, 77098, 77099, 77100, 77101, 77103, 77108, 77109, 77110, 77112, 77115, 77119, 77120, 77121, 77123, 77127, 77128, 77129, 77130, 77131, 77134, 77140, 77141, 77142, 77143, 77144, 77146, 77149, 77151, 77152, 77154, 77155, 77156, 77163, 77164, 77165, 77166, 77168, 77169, 77172, 77173, 77175, 77176, 77177, 77180, 77183, 77187, 77192, 77195, 77198, 77201, 77203, 77204, 77205, 77207, 77209, 77210, 77211, 77212, 77214, 77215, 77216, 77217, 77219, 77220, 77222, 77228, 77229, 77230, 77231, 77232, 77233, 77234, 77236, 77237, 77244, 77245, 77246, 77248, 77249, 77250, 77251, 77255, 77256, 77257, 77258, 77259, 77261, 77263, 77265, 77269, 77270, 77271, 77274, 77275, 77277, 77280, 77281, 77284, 77286, 77287, 77288, 77289, 77290, 77291, 77294, 77295, 77297, 77299, 77301, 77307, 77309, 77310, 77311, 77312, 77317, 77318, 77320, 77321, 77322, 77323, 77324, 77325, 77330, 77332, 77333, 77334, 77338, 77339, 77340, 77343, 77347, 77349, 77350, 77351, 77357, 77359, 77360, 77361, 77362, 77363, 77364, 77365, 77366, 77368, 77370, 77371, 77372, 77379, 77381, 77382, 77383, 77384, 77386, 77387, 77388, 77390, 77391, 77392, 77393, 77396, 77398, 77400, 77401, 77406, 77408, 77409, 77412, 77413, 77414, 77417, 77421, 77423, 77427, 77429, 77432, 77433, 77434, 77435, 77436, 77437, 77438, 77442, 77443, 77447, 77448, 77449, 77455, 77456, 77457, 77458, 77463, 77464, 77466, 77468, 77469, 77470, 77471, 77472, 77476, 77480, 77481, 77483, 77486, 77488, 77491, 77493, 77494, 77496, 77498, 77502, 77503, 77505, 77510, 77513, 77515, 77516, 77517, 77519, 77520, 77524, 77527, 77529, 77533, 77534, 77536, 77538, 77539, 77540, 77542, 77546, 77547, 77548, 77551, 77552, 77553, 77554, 77557, 77558, 77563, 77564, 77565, 77574, 77576, 77579, 77581, 77583, 77586, 77589, 77593, 77594, 77595, 77596, 77597, 77601, 77602, 77604, 77607, 77610, 77611, 77613, 77614, 77616, 77617, 77619, 77620, 77621, 77622, 77627, 77628, 77630, 77631, 77633, 77634, 77636, 77638, 77640, 77641, 77643, 77644, 77645, 77649, 77650, 77651, 77653, 77660, 77661, 77662, 77663, 77665, 77666, 77667, 77668, 77671, 77672, 77673, 77675, 77676, 77677, 77679, 77680, 77682, 77684, 77686, 77687, 77688, 77693, 77694, 77695, 77698, 77699, 77700, 77701, 77703, 77704, 77705, 77706, 77711, 77712, 77713, 77714, 77715, 77718, 77721, 77722, 77723, 77724, 77725, 77726, 77728, 77730, 77731, 77732, 77733, 77736, 77738, 77741, 77744, 77748, 77750, 77751, 77752, 77753, 77754, 77756, 77758, 77759, 77760, 77763, 77764, 77769, 77770, 77771, 77772, 77776, 77777, 77778, 77779, 77781, 77783, 77784, 77790, 77791, 77794, 77795, 77797, 77798, 77801, 77807, 77808, 77809, 77810, 77811, 77813, 77816, 77817, 77819, 77820, 77821, 77822, 77824, 77826, 77827, 77828, 77829, 77830, 77831, 77832, 77834, 77835, 77836, 77838, 77839, 77840, 77842, 77843, 77844, 77846, 77849, 77850, 77852, 77854, 77855, 77857, 77858, 77860, 77867, 77872, 77873, 77874, 77875, 77882, 77883, 77885, 77886, 77887, 77889, 77890, 77891, 77892, 77894, 77895, 77897, 77898, 77900, 77901, 77903, 77904, 77905, 77906, 77907, 77914, 77917, 77919, 77920, 77922, 77924, 77925, 77926, 77928, 77929, 77931, 77933, 77934, 77936, 77941, 77942, 77943, 77947, 77948, 77950, 77951, 77955, 77956, 77957, 77958, 77961, 77962, 77963, 77965, 77968, 77969, 77971, 77975, 77976, 77977, 77978, 77979, 77984, 77987, 77991, 77992, 77995, 77996, 77998, 78000, 78001, 78003, 78004, 78005, 78007, 78008, 78009, 78010, 78011, 78012, 78013, 78015, 78016, 78017, 78018, 78021, 78022, 78024, 78029, 78033, 78038, 78039, 78041, 78042, 78043, 78045, 78046, 78047, 78050, 78051, 78056, 78058, 78059, 78063, 78067, 78068, 78069, 78070, 78074, 78075, 78077, 78078, 78082, 78084, 78086, 78089, 78090, 78092, 78094, 78100, 78101, 78102, 78106, 78107, 78112, 78116, 78118, 78119, 78120, 78121, 78122, 78123, 78124, 78125, 78128, 78129, 78130, 78132, 78133, 78134, 78135, 78136, 78137, 78138, 78141, 78142, 78143, 78145, 78152, 78153, 78157, 78158, 78161, 78162, 78165, 78166, 78168, 78169, 78171, 78175, 78176, 78177, 78178, 78179, 78183, 78184, 78187, 78188, 78191, 78194, 78198, 78199, 78201, 78206, 78207, 78209, 78212, 78214, 78215, 78216, 78217, 78222, 78224, 78227, 78228, 78230, 78233, 78234, 78241, 78242, 78243, 78244, 78245, 78247, 78248, 78249, 78250, 78253, 78254, 78255, 78256, 78259, 78261, 78262, 78263, 78264, 78265, 78266, 78268, 78269, 78271, 78272, 78275, 78277, 78278, 78279, 78280, 78285, 78286, 78287, 78288, 78289, 78290, 78291, 78293, 78294, 78295, 78298, 78299, 78300, 78301, 78303, 78306, 78307, 78309, 78312, 78314, 78319, 78324, 78325, 78328, 78331, 78332, 78333, 78334, 78335, 78336, 78340, 78342, 78344, 78346, 78348, 78349, 78350, 78352, 78356, 78359, 78361, 78365, 78366, 78367, 78369, 78371, 78372, 78374, 78377, 78378, 78379, 78380, 78383, 78384, 78385, 78387, 78389, 78393, 78394, 78396, 78401, 78404, 78405, 78406, 78407, 78410, 78412, 78416, 78417, 78418, 78421, 78427, 78429, 78431, 78433, 78435, 78436, 78437, 78438, 78439, 78440, 78441, 78443, 78444, 78448, 78450, 78452, 78453, 78454, 78455, 78456, 78458, 78459, 78462, 78463, 78464, 78467, 78471, 78473, 78476, 78480, 78481, 78482, 78485, 78486, 78487, 78488, 78492, 78493, 78494, 78497, 78498, 78499, 78501, 78502, 78506, 78507, 78508, 78513, 78516, 78517, 78518, 78519, 78520, 78521, 78522, 78523, 78525, 78527, 78529, 78534, 78535, 78536, 78538, 78539, 78540, 78541, 78542, 78543, 78544, 78545, 78547, 78548, 78549, 78551, 78554, 78555, 78556, 78559, 78561, 78563, 78565, 78567, 78568, 78569, 78570, 78571, 78575, 78576, 78577, 78583, 78585, 78587, 78588, 78589, 78591, 78592, 78593, 78595, 78596, 78598, 78599, 78604, 78605, 78606, 78608, 78609, 78611, 78613, 78615, 78617, 78618, 78619, 78623, 78624, 78627, 78628, 78633, 78635, 78637, 78641, 78642, 78645, 78646, 78647, 78653, 78654, 78655, 78658, 78659, 78661, 78664, 78668, 78669, 78671, 78673, 78674, 78675, 78676, 78678, 78679, 78681, 78683, 78684, 78686, 78688, 78690, 78692, 78693, 78694, 78695, 78699, 78700, 78701, 78702, 78703, 78704, 78706, 78708, 78710, 78711, 78712, 78714, 78718, 78719, 78721, 78722, 78723, 78724, 78725, 78727, 78729, 78731, 78732, 78739, 78740, 78741, 78742, 78745, 78746, 78748, 78749, 78750, 78751, 78752, 78753, 78754, 78756, 78757, 78761, 78765, 78766, 78768, 78770, 78772, 78773, 78781, 78783, 78784, 78785, 78789, 78791, 78792, 78796, 78799, 78800, 78801, 78803, 78806, 78807, 78810, 78811, 78812, 78814, 78817, 78818, 78819, 78822, 78824, 78826, 78827, 78830, 78831, 78833, 78834, 78836, 78837, 78841, 78846, 78848, 78849, 78850, 78851, 78856, 78857, 78859, 78860, 78861, 78862, 78863, 78864, 78866, 78867, 78868, 78871, 78872, 78873, 78874, 78876, 78881, 78882, 78886, 78888, 78891, 78893, 78896, 78897, 78898, 78900, 78901, 78902, 78903, 78904, 78906, 78908, 78910, 78911, 78912, 78913, 78914, 78915, 78916, 78917, 78920, 78923, 78927, 78928, 78935, 78937, 78940, 78942, 78944, 78945, 78946, 78947, 78951, 78952, 78954, 78955, 78957, 78958, 78960, 78961, 78962, 78963, 78966, 78967, 78968, 78969, 78970, 78972, 78976, 78977, 78979, 78983, 78984, 78986, 78987, 78988, 78990, 78991, 78992, 78993, 78995, 78996, 78997, 78999, 79001, 79002, 79003, 79006, 79007, 79011, 79013, 79016, 79018, 79019, 79020, 79022, 79023, 79025, 79026, 79027, 79029, 79031, 79032, 79033, 79034, 79035, 79036, 79038, 79039, 79041, 79042, 79043, 79044, 79045, 79046, 79047, 79049, 79050, 79051, 79052, 79053, 79054, 79055, 79056, 79058, 79059, 79060, 79061, 79064, 79068, 79070, 79074, 79077, 79079, 79080, 79084, 79085, 79089, 79090, 79091, 79092, 79093, 79096, 79100, 79101, 79102, 79103, 79104, 79106, 79107, 79109, 79110, 79115, 79117, 79121, 79122, 79123, 79125, 79126, 79127, 79131, 79133, 79135, 79139, 79142, 79143, 79144, 79145, 79148, 79152, 79154, 79155, 79156, 79158, 79159, 79160, 79161, 79162, 79163, 79164, 79165, 79166, 79168, 79169, 79170, 79171, 79172, 79174, 79175, 79177, 79178, 79179, 79182, 79183, 79186, 79187, 79190, 79192, 79193, 79194, 79195, 79197, 79198, 79200, 79201, 79203, 79206, 79208, 79214, 79216, 79217, 79218, 79221, 79223, 79228, 79229, 79230, 79231, 79232, 79233, 79235, 79236, 79238, 79239, 79244, 79246, 79248, 79250, 79251, 79252, 79254, 79256, 79259, 79260, 79261, 79262, 79265, 79269, 79270, 79273, 79275, 79277, 79280, 79282, 79285, 79286, 79288, 79289, 79291, 79294, 79296, 79297, 79301, 79302, 79303, 79305, 79307, 79309, 79310, 79311, 79312, 79315, 79316, 79317, 79318, 79319, 79320, 79321, 79322, 79323, 79324, 79325, 79330, 79331, 79332, 79333, 79334, 79335, 79336, 79338, 79339, 79340, 79343, 79344, 79346, 79347, 79350, 79353, 79356, 79358, 79359, 79361, 79362, 79363, 79364, 79365, 79367, 79368, 79372, 79373, 79374, 79375, 79379, 79380, 79381, 79382, 79384, 79385, 79388, 79391, 79395, 79396, 79398, 79403, 79404, 79405, 79409, 79410, 79411, 79412, 79414, 79415, 79417, 79418, 79419, 79423, 79425, 79432, 79433, 79435, 79437, 79439, 79440, 79441, 79443, 79448, 79449, 79451, 79452, 79456, 79457, 79460, 79461, 79462, 79464, 79467, 79468, 79470, 79471, 79472, 79474, 79475, 79476, 79477, 79478, 79479, 79483, 79484, 79485, 79486, 79489, 79491, 79498, 79499, 79503, 79504, 79505, 79509, 79516, 79517, 79519, 79520, 79522, 79523, 79524, 79526, 79531, 79532, 79534, 79535, 79538, 79539, 79541, 79543, 79549, 79550, 79551, 79552, 79553, 79559, 79561, 79565, 79567, 79568, 79569, 79570, 79572, 79573, 79574, 79575, 79578, 79579, 79581, 79582, 79583, 79584, 79585, 79586, 79588, 79589, 79592, 79594, 79595, 79598, 79599, 79600, 79601, 79602, 79603, 79604, 79605, 79606, 79607, 79610, 79611, 79613, 79614, 79615, 79618, 79619, 79622, 79624, 79630, 79633, 79634, 79636, 79637, 79638, 79642, 79646, 79647, 79649, 79651, 79654, 79655, 79657, 79661, 79662, 79663, 79665, 79666, 79668, 79671, 79672, 79673, 79674, 79675, 79676, 79681, 79682, 79683, 79684, 79685, 79686, 79687, 79688, 79690, 79691, 79692, 79693, 79697, 79698, 79699, 79700, 79701, 79703, 79704, 79705, 79706, 79707, 79708, 79709, 79710, 79712, 79714, 79717, 79719, 79720, 79721, 79724, 79726, 79730, 79731, 79732, 79738, 79740, 79741, 79745, 79747, 79749, 79750, 79751, 79752, 79753, 79754, 79755, 79756, 79758, 79759, 79762, 79767, 79768, 79769, 79770, 79772, 79773, 79774, 79778, 79780, 79782, 79783, 79784, 79785, 79786, 79787, 79788, 79789, 79790, 79793, 79794, 79795, 79796, 79798, 79799, 79803, 79804, 79805, 79807, 79809, 79810, 79814, 79815, 79818, 79819, 79821, 79822, 79825, 79826, 79827, 79829, 79831, 79837, 79838, 79845, 79852, 79853, 79854, 79855, 79858, 79859, 79860, 79861, 79863, 79865, 79866, 79867, 79868, 79869, 79873, 79875, 79876, 79878, 79880, 79883, 79885, 79887, 79891, 79894, 79895, 79900, 79903, 79905, 79908, 79909, 79913, 79916, 79917, 79923, 79924, 79925, 79926, 79927, 79928, 79929, 79930, 79933, 79934, 79936, 79937, 79939, 79940, 79944, 79946, 79948, 79950, 79953, 79954, 79956, 79962, 79963, 79965, 79967, 79969, 79971, 79972, 79973, 79974, 79975, 79976, 79977, 79979, 79980, 79981, 79982, 79983, 79985, 79986, 79987, 79988, 79991, 79993, 79994, 79995, 79999, 80003, 80004, 80005, 80006, 80007, 80008, 80009, 80012, 80013, 80015, 80016, 80020, 80021, 80024, 80028, 80035, 80036, 80039, 80041, 80042, 80044, 80045, 80046, 80047, 80049, 80050, 80052, 80053, 80054, 80055, 80056, 80057, 80058, 80059, 80060, 80061, 80062, 80064, 80067, 80073, 80074, 80075, 80076, 80077, 80078, 80080, 80082, 80083, 80084, 80086, 80091, 80094, 80096, 80097, 80099, 80101, 80102, 80103, 80107, 80109, 80111, 80112, 80114, 80115, 80116, 80118, 80119, 80120, 80121, 80123, 80124, 80125, 80128, 80129, 80133, 80134, 80136, 80142, 80144, 80145, 80148, 80151, 80152, 80155, 80158, 80159, 80161, 80162, 80166, 80167, 80170, 80171, 80173, 80174, 80175, 80180, 80183, 80184, 80185, 80186, 80189, 80191, 80199, 80200, 80201, 80202, 80203, 80205, 80206, 80207, 80208, 80209, 80210, 80212, 80214, 80215, 80216, 80218, 80219, 80220, 80221, 80225, 80227, 80229, 80231, 80232, 80234, 80237, 80239, 80240, 80244, 80247, 80249, 80252, 80253, 80254, 80255, 80257, 80258, 80259, 80262, 80263, 80264, 80265, 80266, 80269, 80270, 80272, 80278, 80280, 80281, 80284, 80286, 80288, 80293, 80299, 80300, 80302, 80303, 80304, 80305, 80306, 80309, 80311, 80312, 80313, 80315, 80316, 80317, 80318, 80321, 80322, 80323, 80324, 80325, 80326, 80327, 80329, 80331, 80332, 80335, 80336, 80337, 80339, 80341, 80346, 80347, 80348, 80349, 80350, 80351, 80353, 80355, 80357, 80363, 80364, 80366, 80367, 80368, 80371, 80372, 80375, 80378, 80379, 80380, 80381, 80383, 80384, 80385, 80387, 80388, 80392, 80394, 80395, 80397, 80398, 80399, 80401, 80404, 80409, 80412, 80413, 80414, 80417, 80422, 80423, 80425, 80427, 80428, 80431, 80433, 80437, 80438, 80440, 80442, 80443, 80444, 80445, 80451, 80455, 80456, 80458, 80462, 80467, 80468, 80469, 80472, 80473, 80477, 80478, 80479, 80480, 80481, 80482, 80483, 80484, 80485, 80486, 80489, 80491, 80492, 80493, 80495, 80497, 80500, 80503, 80504, 80505, 80506, 80508, 80510, 80512, 80515, 80519, 80520, 80522, 80526, 80531, 80532, 80533, 80535, 80536, 80537, 80539, 80541, 80542, 80543, 80548, 80549, 80553, 80556, 80558, 80559, 80561, 80563, 80565, 80567, 80568, 80570, 80571, 80572, 80573, 80576, 80578, 80582, 80584, 80585, 80586, 80590, 80591, 80594, 80595, 80597, 80598, 80599, 80600, 80601, 80603, 80604, 80606, 80607, 80608, 80610, 80611, 80612, 80613, 80614, 80616, 80622, 80624, 80625, 80626, 80627, 80629, 80631, 80634, 80635, 80637, 80643, 80644, 80645, 80646, 80649, 80650, 80651, 80656, 80657, 80660, 80661, 80662, 80664, 80666, 80667, 80668, 80670, 80677, 80678, 80679, 80680, 80681, 80685, 80687, 80692, 80693, 80695, 80698, 80699, 80703, 80706, 80709, 80710, 80714, 80715, 80716, 80717, 80718, 80719, 80720, 80726, 80728, 80729, 80733, 80734, 80735, 80738, 80739, 80740, 80744, 80745, 80746, 80747, 80750, 80751, 80752, 80753, 80754, 80756, 80757, 80758, 80759, 80760, 80761, 80763, 80766, 80767, 80768, 80769, 80770, 80772, 80773, 80782, 80783, 80786, 80787, 80788, 80789, 80790, 80791, 80793, 80794, 80796, 80798, 80800, 80801, 80804, 80807, 80809, 80810, 80811, 80812, 80814, 80817, 80818, 80820, 80822, 80823, 80824, 80825, 80826, 80827, 80831, 80832, 80837, 80838, 80840, 80842, 80843, 80845, 80846, 80847, 80849, 80850, 80851, 80852, 80855, 80856, 80857, 80858, 80859, 80860, 80861, 80864, 80865, 80867, 80869, 80870, 80876, 80877, 80878, 80882, 80883, 80884, 80886, 80887, 80889, 80891, 80896, 80899, 80900, 80903, 80904, 80905, 80906, 80908, 80909, 80910, 80912, 80913, 80914, 80916, 80917, 80918, 80920, 80924, 80929, 80931, 80934, 80935, 80938, 80939, 80941, 80943, 80947, 80948, 80949, 80950, 80951, 80954, 80955, 80956, 80957, 80960, 80961, 80963, 80964, 80967, 80970, 80971, 80972, 80973, 80975, 80977, 80978, 80979, 80981, 80982, 80983, 80985, 80986, 80987, 80988, 80989, 80991, 80992, 80994, 80995, 80997, 80999, 81001, 81002, 81003, 81004, 81005, 81006, 81007, 81008, 81010, 81013, 81014, 81016, 81017, 81018, 81019, 81021, 81024, 81029, 81030, 81032, 81033, 81034, 81035, 81036, 81037, 81040, 81041, 81045, 81052, 81054, 81056, 81061, 81062, 81065, 81066, 81068, 81073, 81075, 81076, 81081, 81082, 81083, 81085, 81088, 81089, 81091, 81092, 81093, 81096, 81098, 81099, 81102, 81105, 81106, 81107, 81110, 81112, 81113, 81114, 81118, 81122, 81124, 81125, 81126, 81127, 81128, 81129, 81130, 81136, 81139, 81140, 81143, 81144, 81145, 81146, 81147, 81148, 81151, 81152, 81154, 81155, 81156, 81159, 81163, 81166, 81167, 81168, 81169, 81170, 81171, 81181, 81182, 81183, 81185, 81187, 81188, 81189, 81192, 81193, 81196, 81197, 81198, 81200, 81201, 81202, 81204, 81205, 81206, 81207, 81209, 81210, 81212, 81213, 81216, 81218, 81219, 81220, 81222, 81223, 81224, 81226, 81227, 81230, 81235, 81236, 81237, 81241, 81242, 81245, 81246, 81247, 81249, 81250, 81251, 81252, 81253, 81256, 81257, 81258, 81261, 81264, 81265, 81267, 81272, 81274, 81275, 81277, 81281, 81284, 81285, 81286, 81289, 81291, 81292, 81294, 81299, 81300, 81303, 81305, 81306, 81307, 81309, 81313, 81314, 81316, 81317, 81318, 81319, 81320, 81322, 81323, 81324, 81330, 81339, 81341, 81343, 81344, 81346, 81347, 81349, 81350, 81351, 81352, 81355, 81356, 81359, 81362, 81363, 81364, 81365, 81366, 81367, 81369, 81370, 81373, 81375, 81376, 81381, 81383, 81387, 81390, 81392, 81395, 81398, 81399, 81401, 81402, 81403, 81404, 81406, 81411, 81412, 81413, 81415, 81416, 81418, 81421, 81422, 81425, 81426, 81427, 81429, 81430, 81431, 81433, 81434, 81435, 81439, 81441, 81446, 81450, 81452, 81456, 81459, 81462, 81463, 81464, 81467, 81469, 81470, 81471, 81473, 81476, 81478, 81479, 81480, 81481, 81483, 81484, 81486, 81487, 81489, 81492, 81493, 81495, 81496, 81497, 81499, 81500, 81503, 81505, 81506, 81507, 81508, 81510, 81513, 81516, 81517, 81518, 81519, 81521, 81522, 81530, 81531, 81532, 81533, 81534, 81536, 81538, 81539, 81540, 81541, 81543, 81544, 81547, 81548, 81550, 81551, 81553, 81554, 81556, 81557, 81558, 81560, 81561, 81562, 81563, 81564, 81570, 81571, 81573, 81575, 81577, 81579, 81582, 81585, 81587, 81597, 81599, 81600, 81601, 81602, 81603, 81604, 81607, 81608, 81609, 81611, 81612, 81613, 81617, 81620, 81622, 81624, 81625, 81627, 81628, 81629, 81630, 81632, 81633, 81635, 81638, 81639, 81640, 81641, 81642, 81643, 81644, 81649, 81650, 81651, 81652, 81653, 81655, 81656, 81657, 81659, 81662, 81663, 81664, 81667, 81668, 81669, 81670, 81671, 81673, 81675, 81676, 81680, 81681, 81682, 81683, 81684, 81685, 81687, 81690, 81691, 81692, 81695, 81698, 81699, 81700, 81701, 81703, 81706, 81707, 81708, 81711, 81712, 81716, 81717, 81721, 81723, 81729, 81730, 81731, 81732, 81734, 81735, 81736, 81737, 81738, 81739, 81741, 81742, 81744, 81746, 81748, 81749, 81750, 81752, 81755, 81756, 81760, 81761, 81765, 81767, 81768, 81769, 81773, 81776, 81778, 81779, 81781, 81782, 81783, 81787, 81788, 81789, 81792, 81793, 81795, 81798, 81799, 81801, 81804, 81805, 81809, 81810, 81811, 81812, 81815, 81817, 81819, 81821, 81823, 81826, 81828, 81831, 81833, 81838, 81840, 81841, 81842, 81843, 81844, 81846, 81847, 81850, 81851, 81852, 81856, 81858, 81863, 81864, 81865, 81867, 81868, 81870, 81871, 81872, 81875, 81876, 81883, 81887, 81890, 81891, 81893, 81896, 81897, 81898, 81903, 81904, 81905, 81909, 81910, 81911, 81915, 81916, 81917, 81919, 81920, 81923, 81924, 81925, 81926, 81927, 81929, 81930, 81931, 81935, 81939, 81943, 81944, 81945, 81947, 81948, 81951, 81952, 81953, 81954, 81958, 81959, 81960, 81962, 81963, 81965, 81966, 81967, 81968, 81969, 81970, 81971, 81973, 81974, 81975, 81977, 81978, 81981, 81983, 81985, 81987, 81988, 81990, 81991, 81995, 81997, 81998, 82000, 82003, 82005, 82009, 82010, 82014, 82015, 82016, 82018, 82019, 82020, 82024, 82025, 82027, 82028, 82029, 82031, 82032, 82034, 82039, 82041, 82042, 82044, 82046, 82047, 82049, 82050, 82051, 82052, 82054, 82056, 82057, 82058, 82061, 82064, 82069, 82072, 82073, 82074, 82076, 82078, 82080, 82082, 82084, 82085, 82088, 82089, 82090, 82091, 82093, 82097, 82098, 82099, 82103, 82104, 82105, 82106, 82107, 82108, 82109, 82112, 82114, 82116, 82118, 82119, 82122, 82124, 82125, 82127, 82128, 82129, 82130, 82131, 82132, 82133, 82137, 82139, 82142, 82147, 82148, 82149, 82150, 82151, 82154, 82156, 82164, 82167, 82170, 82171, 82172, 82173, 82175, 82176, 82182, 82185, 82186, 82188, 82189, 82190, 82192, 82194, 82201, 82202, 82203, 82205, 82208, 82209, 82212, 82214, 82215, 82216, 82220, 82222, 82226, 82230, 82231, 82236, 82237, 82239, 82241, 82242, 82243, 82245, 82246, 82247, 82248, 82249, 82250, 82251, 82254, 82255, 82257, 82260, 82261, 82265, 82267, 82270, 82271, 82272, 82274, 82275, 82278, 82279, 82281, 82282, 82286, 82287, 82288, 82289, 82292, 82293, 82294, 82295, 82297, 82298, 82299, 82300, 82301, 82303, 82304, 82306, 82308, 82311, 82312, 82315, 82316, 82319, 82322, 82323, 82325, 82327, 82331, 82336, 82339, 82341, 82344, 82345, 82346, 82348, 82349, 82350, 82351, 82352, 82353, 82354, 82355, 82356, 82358, 82359, 82361, 82362, 82366, 82367, 82368, 82369, 82370, 82372, 82373, 82376, 82378, 82379, 82383, 82384, 82385, 82387, 82388, 82391, 82392, 82393, 82394, 82395, 82396, 82397, 82398, 82399, 82400, 82405, 82417, 82420, 82421, 82426, 82428, 82429, 82430, 82431, 82434, 82436, 82437, 82438, 82445, 82448, 82450, 82452, 82453, 82454, 82455, 82457, 82459, 82460, 82461, 82462, 82463, 82464, 82465, 82466, 82468, 82469, 82470, 82471, 82473, 82480, 82481, 82485, 82487, 82489, 82490, 82492, 82497, 82498, 82500, 82501, 82502, 82503, 82504, 82506, 82508, 82509, 82510, 82511, 82512, 82513, 82515, 82518, 82519, 82520, 82521, 82522, 82523, 82524, 82525, 82526, 82527, 82529, 82531, 82534, 82537, 82541, 82542, 82545, 82546, 82547, 82548, 82549, 82550, 82551, 82552, 82553, 82554, 82556, 82560, 82561, 82567, 82568, 82572, 82573, 82575, 82577, 82580, 82582, 82584, 82585, 82586, 82588, 82591, 82592, 82593, 82595, 82599, 82600, 82602, 82604, 82605, 82607, 82608, 82610, 82612, 82613, 82614, 82615, 82620, 82622, 82623, 82625, 82626, 82627, 82630, 82632, 82635, 82638, 82639, 82640, 82642, 82646, 82647, 82648, 82650, 82651, 82653, 82654, 82655, 82656, 82658, 82659, 82660, 82662, 82663, 82664, 82666, 82669, 82672, 82673, 82675, 82677, 82680, 82683, 82684, 82685, 82687, 82688, 82689, 82690, 82692, 82693, 82694, 82695, 82697, 82699, 82700, 82702, 82703, 82704, 82707, 82711, 82713, 82715, 82717, 82720, 82721, 82722, 82725, 82726, 82730, 82731, 82732, 82734, 82735, 82738, 82739, 82740, 82744, 82746, 82751, 82754, 82755, 82756, 82757, 82761, 82762, 82764, 82765, 82770, 82771, 82772, 82773, 82776, 82778, 82782, 82783, 82784, 82786, 82788, 82789, 82790, 82792, 82794, 82796, 82799, 82800, 82803, 82804, 82805, 82809, 82812, 82813, 82815, 82818, 82820, 82821, 82822, 82823, 82824, 82825, 82826, 82828, 82829, 82831, 82835, 82836, 82839, 82842, 82843, 82846, 82848, 82850, 82851, 82852, 82853, 82858, 82859, 82861, 82862, 82863, 82864, 82865, 82866, 82867, 82869, 82870, 82871, 82872, 82875, 82880, 82882, 82883, 82888, 82890, 82892, 82894, 82895, 82896, 82899, 82901, 82903, 82907, 82908, 82909, 82910, 82912, 82916, 82917, 82918, 82919, 82921, 82922, 82923, 82927, 82930, 82932, 82933, 82934, 82935, 82937, 82939, 82942, 82944, 82946, 82948, 82950, 82953, 82954, 82956, 82958, 82962, 82964, 82965, 82966, 82968, 82973, 82974, 82977, 82978, 82979, 82981, 82983, 82984, 82985, 82986, 82987, 82992, 82994, 82995, 82996, 82997, 83000, 83002, 83003, 83004, 83005, 83007, 83008, 83010, 83011, 83013, 83016, 83022, 83023, 83024, 83030, 83031, 83034, 83038, 83040, 83044, 83047, 83049, 83050, 83054, 83055, 83057, 83058, 83060, 83061, 83062, 83064, 83065, 83066, 83068, 83070, 83072, 83073, 83074, 83076, 83080, 83081, 83082, 83083, 83084, 83085, 83086, 83087, 83089, 83090, 83091, 83094, 83095, 83098, 83101, 83102, 83103, 83105, 83109, 83110, 83111, 83113, 83116, 83119, 83125, 83126, 83127, 83129, 83131, 83134, 83135, 83136, 83137, 83139, 83141, 83146, 83147, 83149, 83151, 83152, 83153, 83154, 83155, 83161, 83162, 83163, 83166, 83167, 83168, 83169, 83170, 83171, 83172, 83174, 83176, 83177, 83178, 83180, 83181, 83183, 83184, 83185, 83186, 83187, 83188, 83189, 83192, 83193, 83194, 83196, 83197, 83198, 83199, 83207, 83209, 83211, 83214, 83217, 83218, 83223, 83224, 83228, 83229, 83230, 83233, 83234, 83235, 83236, 83238, 83239, 83241, 83242, 83244, 83251, 83255, 83258, 83259, 83260, 83262, 83265, 83266, 83267, 83269, 83271, 83272, 83273, 83274, 83276, 83277, 83279, 83280, 83282, 83285, 83287, 83288, 83291, 83293, 83295, 83296, 83297, 83298, 83299, 83300, 83301, 83302, 83303, 83304, 83306, 83308, 83309, 83310, 83311, 83312, 83313, 83314, 83318, 83323, 83324, 83330, 83331, 83334, 83336, 83337, 83338, 83340, 83343, 83344, 83346, 83348, 83350, 83351, 83352, 83353, 83354, 83355, 83357, 83358, 83359, 83361, 83364, 83365, 83371, 83372, 83376, 83377, 83379, 83380, 83382, 83386, 83387, 83391, 83392, 83393, 83394, 83395, 83396, 83398, 83402, 83405, 83406, 83407, 83408, 83410, 83412, 83418, 83422, 83429, 83430, 83433, 83435, 83437, 83439, 83440, 83443, 83445, 83446, 83447, 83448, 83451, 83453, 83454, 83455, 83457, 83458, 83464, 83465, 83466, 83467, 83469, 83470, 83471, 83472, 83474, 83475, 83476, 83482, 83492, 83493, 83496, 83497, 83498, 83501, 83503, 83504, 83505, 83509, 83510, 83511, 83512, 83513, 83516, 83520, 83522, 83524, 83526, 83528, 83529, 83531, 83534, 83535, 83536, 83537, 83541, 83542, 83544, 83546, 83547, 83549, 83550, 83551, 83554, 83555, 83557, 83559, 83560, 83563, 83566, 83568, 83570, 83572, 83574, 83576, 83577, 83582, 83583, 83584, 83585, 83586, 83587, 83591, 83592, 83593, 83594, 83595, 83596, 83597, 83598, 83600, 83603, 83606, 83609, 83613, 83614, 83615, 83617, 83621, 83622, 83624, 83625, 83626, 83629, 83630, 83631, 83632, 83633, 83636, 83638, 83639, 83640, 83642, 83644, 83648, 83649, 83650, 83654, 83655, 83657, 83660, 83662, 83665, 83666, 83667, 83669, 83671, 83672, 83673, 83674, 83675, 83676, 83678, 83679, 83681, 83683, 83685, 83687, 83688, 83689, 83690, 83691, 83694, 83695, 83697, 83698, 83699, 83701, 83704, 83705, 83706, 83710, 83712, 83713, 83714, 83716, 83717, 83718, 83720, 83721, 83724, 83725, 83727, 83728, 83731, 83732, 83733, 83736, 83738, 83742, 83744, 83746, 83747, 83749, 83751, 83752, 83753, 83754, 83755, 83757, 83758, 83761, 83762, 83763, 83765, 83766, 83768, 83769, 83771, 83772, 83775, 83779, 83780, 83783, 83787, 83789, 83790, 83792, 83795, 83797, 83799, 83801, 83802, 83803, 83804, 83806, 83808, 83809, 83810, 83812, 83816, 83818, 83820, 83822, 83823, 83826, 83827, 83828, 83829, 83830, 83832, 83835, 83836, 83837, 83839, 83841, 83842, 83847, 83848, 83851, 83852, 83854, 83855, 83856, 83859, 83860, 83861, 83863, 83864, 83866, 83867, 83868, 83872, 83873, 83876, 83878, 83880, 83882, 83883, 83885, 83886, 83889, 83890, 83891, 83892, 83893, 83894, 83895, 83898, 83899, 83900, 83901, 83902, 83904, 83908, 83909, 83910, 83912, 83913, 83915, 83916, 83917, 83919, 83922, 83924, 83925, 83929, 83931, 83932, 83935, 83936, 83937, 83939, 83940, 83941, 83943, 83944, 83945, 83946, 83947, 83951, 83954, 83955, 83956, 83958, 83960, 83961, 83962, 83963, 83967, 83969, 83974, 83975, 83976, 83977, 83978, 83979, 83981, 83982, 83983, 83984, 83987, 83988, 83991, 83992, 83993, 83994, 84001, 84002, 84004, 84011, 84012, 84013, 84014, 84015, 84016, 84017, 84021, 84022, 84023, 84024, 84025, 84027, 84029, 84031, 84033, 84034, 84043, 84044, 84049, 84050, 84053, 84057, 84058, 84060, 84061, 84062, 84063, 84066, 84067, 84069, 84070, 84072, 84073, 84074, 84075, 84076, 84080, 84081, 84083, 84084, 84085, 84086, 84087, 84088, 84091, 84092, 84093, 84094, 84099, 84101, 84102, 84103, 84104, 84105, 84108, 84109, 84111, 84112, 84113, 84114, 84117, 84120, 84121, 84123, 84125, 84126, 84127, 84129, 84130, 84131, 84136, 84137, 84140, 84141, 84142, 84143, 84144, 84146, 84148, 84149, 84150, 84154, 84158, 84160, 84161, 84165, 84168, 84169, 84173, 84174, 84175, 84177, 84181, 84183, 84184, 84186, 84187, 84188, 84189, 84190, 84191, 84192, 84193, 84196, 84199, 84201, 84203, 84206, 84207, 84210, 84212, 84213, 84214, 84216, 84218, 84221, 84222, 84225, 84226, 84227, 84228, 84229, 84231, 84233, 84236, 84238, 84240, 84242, 84243, 84246, 84248, 84249, 84250, 84251, 84254, 84257, 84259, 84261, 84264, 84265, 84267, 84268, 84269, 84272, 84273, 84276, 84280, 84283, 84290, 84294, 84295, 84297, 84298, 84299, 84301, 84302, 84303, 84304, 84305, 84307, 84308, 84310, 84312, 84314, 84318, 84319, 84321, 84322, 84323, 84325, 84327, 84336, 84340, 84341, 84342, 84344, 84345, 84347, 84350, 84352, 84353, 84356, 84357, 84359, 84360, 84361, 84362, 84363, 84365, 84366, 84367, 84368, 84369, 84370, 84371, 84372, 84373, 84374, 84376, 84378, 84379, 84380, 84382, 84384, 84386, 84388, 84390, 84391, 84393, 84396, 84397, 84400, 84402, 84403, 84404, 84406, 84407, 84410, 84411, 84417, 84421, 84423, 84425, 84427, 84429, 84431, 84433, 84434, 84437, 84438, 84441, 84442, 84443, 84444, 84445, 84446, 84448, 84450, 84451, 84452, 84453, 84455, 84456, 84457, 84458, 84459, 84460, 84462, 84464, 84466, 84469, 84476, 84478, 84479, 84480, 84481, 84483, 84485, 84486, 84487, 84489, 84490, 84492, 84494, 84496, 84497, 84500, 84501, 84503, 84504, 84507, 84509, 84511, 84516, 84520, 84521, 84522, 84523, 84524, 84525, 84526, 84529, 84530, 84531, 84533, 84534, 84536, 84538, 84539, 84542, 84545, 84547, 84549, 84551, 84555, 84556, 84557, 84558, 84561, 84563, 84565, 84568, 84570, 84572, 84573, 84574, 84578, 84579, 84581, 84582, 84583, 84585, 84587, 84589, 84593, 84595, 84596, 84597, 84598, 84599, 84600, 84602, 84605, 84608, 84609, 84610, 84612, 84616, 84618, 84619, 84620, 84622, 84624, 84625, 84627, 84631, 84633, 84640, 84641, 84644, 84645, 84651, 84656, 84657, 84659, 84660, 84662, 84663, 84664, 84665, 84667, 84668, 84669, 84672, 84674, 84677, 84682, 84683, 84684, 84685, 84687, 84689, 84691, 84697, 84698, 84701, 84703, 84704, 84705, 84707, 84708, 84709, 84710, 84711, 84712, 84714, 84718, 84719, 84720, 84721, 84722, 84723, 84724, 84725, 84726, 84727, 84728, 84729, 84734, 84735, 84737, 84740, 84743, 84744, 84746, 84747, 84749, 84750, 84751, 84752, 84754, 84755, 84756, 84757, 84759, 84761, 84764, 84765, 84766, 84768, 84769, 84770, 84771, 84773, 84776, 84777, 84778, 84779, 84780, 84781, 84783, 84784, 84788, 84789, 84790, 84791, 84793, 84795, 84800, 84802, 84807, 84808, 84809, 84810, 84811, 84812, 84813, 84814, 84815, 84817, 84818, 84821, 84822, 84825, 84826, 84827, 84828, 84829, 84830, 84831, 84833, 84834, 84835, 84836, 84838, 84839, 84840, 84842, 84843, 84844, 84846, 84847, 84848, 84849, 84850, 84852, 84856, 84857, 84858, 84859, 84860, 84861, 84863, 84865, 84866, 84867, 84868, 84869, 84875, 84876, 84877, 84878, 84885, 84886, 84887, 84893, 84894, 84896, 84898, 84899, 84902, 84903, 84904, 84906, 84909, 84910, 84911, 84913, 84914, 84917, 84920, 84921, 84922, 84924, 84928, 84929, 84930, 84931, 84932, 84933, 84934, 84935, 84936, 84938, 84940, 84943, 84944, 84945, 84946, 84947, 84948, 84951, 84952, 84953, 84955, 84958, 84961, 84962, 84964, 84966, 84967, 84969, 84973, 84974, 84975, 84976, 84977, 84981, 84982, 84983, 84985, 84986, 84987, 84988, 84991, 84992, 84993, 84994, 84995, 84996, 84997, 84999, 85000, 85001, 85002, 85004, 85005, 85007, 85012, 85016, 85017, 85018, 85019, 85020, 85027, 85029, 85031, 85032, 85034, 85035, 85038, 85040, 85043, 85046, 85048, 85051, 85052, 85053, 85055, 85057, 85059, 85060, 85062, 85064, 85065, 85067, 85068, 85071, 85072, 85073, 85075, 85077, 85078, 85079, 85080, 85082, 85085, 85086, 85087, 85088, 85089, 85092, 85095, 85101, 85104, 85105, 85106, 85107, 85109, 85111, 85112, 85114, 85116, 85117, 85118, 85121, 85122, 85124, 85126, 85127, 85128, 85129, 85130, 85131, 85133, 85135, 85136, 85137, 85138, 85139, 85141, 85143, 85145, 85147, 85148, 85149, 85151, 85153, 85154, 85159, 85160, 85161, 85164, 85165, 85167, 85168, 85171, 85172, 85174, 85176, 85177, 85178, 85179, 85180, 85184, 85185, 85188, 85190, 85191, 85195, 85200, 85204, 85208, 85209, 85211, 85214, 85215, 85217, 85219, 85220, 85221, 85222, 85223, 85224, 85225, 85227, 85228, 85234, 85237, 85238, 85239, 85242, 85245, 85247, 85250, 85253, 85254, 85255, 85257, 85259, 85261, 85262, 85263, 85264, 85265, 85266, 85267, 85268, 85272, 85273, 85274, 85275, 85278, 85279, 85281, 85283, 85290, 85292, 85293, 85294, 85297, 85302, 85306, 85308, 85311, 85313, 85315, 85318, 85319, 85322, 85327, 85330, 85331, 85332, 85333, 85334, 85336, 85337, 85340, 85341, 85343, 85346, 85348, 85349, 85351, 85354, 85355, 85356, 85357, 85358, 85359, 85360, 85361, 85365, 85368, 85370, 85371, 85373, 85375, 85377, 85378, 85381, 85382, 85387, 85388, 85389, 85390, 85391, 85394, 85395, 85396, 85401, 85402, 85404, 85405, 85406, 85407, 85408, 85409, 85410, 85411, 85412, 85414, 85415, 85419, 85423, 85424, 85425, 85426, 85428, 85430, 85431, 85432, 85433, 85434, 85436, 85437, 85439, 85443, 85445, 85446, 85447, 85448, 85449, 85450, 85452, 85453, 85458, 85459, 85460, 85462, 85464, 85466, 85467, 85469, 85472, 85473, 85477, 85478, 85479, 85480, 85481, 85482, 85483, 85484, 85485, 85486, 85487, 85488, 85489, 85490, 85491, 85493, 85495, 85496, 85497, 85498, 85499, 85501, 85502, 85504, 85506, 85507, 85508, 85511, 85512, 85513, 85515, 85516, 85520, 85521, 85522, 85526, 85527, 85528, 85529, 85530, 85539, 85540, 85541, 85542, 85543, 85545, 85550, 85551, 85552, 85554, 85555, 85556, 85559, 85561, 85562, 85566, 85569, 85571, 85572, 85573, 85574, 85576, 85578, 85579, 85580, 85581, 85582, 85583, 85584, 85585, 85586, 85589, 85591, 85592, 85596, 85597, 85602, 85608, 85609, 85610, 85611, 85613, 85614, 85615, 85617, 85620, 85621, 85622, 85623, 85624, 85626, 85627, 85630, 85631, 85632, 85637, 85638, 85640, 85642, 85644, 85647, 85649, 85653, 85654, 85656, 85657, 85658, 85659, 85660, 85661, 85664, 85667, 85673, 85674, 85675, 85683, 85684, 85687, 85688, 85689, 85693, 85694, 85695, 85697, 85698, 85699, 85700, 85702, 85703, 85704, 85705, 85708, 85709, 85710, 85711, 85712, 85714, 85716, 85722, 85723, 85724, 85733, 85734, 85735, 85737, 85739, 85743, 85744, 85745, 85748, 85751, 85759, 85760, 85761, 85762, 85763, 85765, 85767, 85769, 85770, 85771, 85773, 85774, 85775, 85776, 85777, 85778, 85779, 85780, 85782, 85784, 85786, 85787, 85788, 85789, 85791, 85792, 85795, 85796, 85797, 85798, 85800, 85802, 85803, 85804, 85807, 85808, 85809, 85810, 85811, 85812, 85813, 85816, 85819, 85821, 85822, 85823, 85828, 85829, 85830, 85832, 85835, 85836, 85839, 85840, 85841, 85842, 85845, 85851, 85852, 85853, 85854, 85855, 85856, 85859, 85860, 85861, 85862, 85863, 85867, 85868, 85869, 85870, 85874, 85875, 85877, 85878, 85879, 85882, 85883, 85884, 85886, 85889, 85895, 85896, 85897, 85898, 85904, 85906, 85908, 85910, 85916, 85917, 85920, 85921, 85924, 85929, 85933, 85934, 85940, 85941, 85942, 85945, 85949, 85950, 85957, 85958, 85959, 85963, 85964, 85966, 85968, 85969, 85974, 85976, 85977, 85979, 85980, 85981, 85982, 85985, 85988, 85990, 85992, 85993, 85996, 85997, 85998, 85999, 86001, 86002, 86003, 86010, 86014, 86015, 86016, 86017, 86018, 86019, 86021, 86022, 86024, 86027, 86029, 86030, 86032, 86033, 86034, 86035, 86038, 86039, 86040, 86041, 86042, 86046, 86047, 86048, 86051, 86053, 86057, 86058, 86061, 86065, 86068, 86070, 86071, 86073, 86074, 86075, 86076, 86077, 86079, 86080, 86083, 86084, 86089, 86090, 86091, 86092, 86094, 86100, 86101, 86102, 86104, 86105, 86106, 86107, 86108, 86110, 86114, 86115, 86116, 86117, 86118, 86119, 86121, 86124, 86126, 86127, 86133, 86134, 86135, 86138, 86140, 86141, 86143, 86144, 86145, 86148, 86149, 86150, 86155, 86158, 86160, 86163, 86164, 86168, 86170, 86171, 86172, 86173, 86178, 86179, 86183, 86184, 86187, 86189, 86190, 86191, 86195, 86196, 86197, 86198, 86199, 86202, 86203, 86204, 86206, 86207, 86209, 86214, 86216, 86219, 86220, 86221, 86222, 86223, 86224, 86225, 86227, 86229, 86230, 86232, 86233, 86234, 86236, 86237, 86239, 86240, 86244, 86248, 86249, 86250, 86251, 86252, 86253, 86255, 86256, 86261, 86263, 86264, 86265, 86267, 86268, 86269, 86271, 86273, 86274, 86277, 86279, 86280, 86283, 86285, 86287, 86288, 86290, 86291, 86293, 86296, 86298, 86299, 86302, 86304, 86305, 86306, 86307, 86310, 86311, 86312, 86313, 86314, 86315, 86316, 86319, 86322, 86323, 86324, 86325, 86326, 86330, 86331, 86333, 86335, 86338, 86343, 86346, 86348, 86349, 86352, 86353, 86354, 86357, 86360, 86361, 86363, 86364, 86365, 86366, 86367, 86369, 86370, 86373, 86376, 86377, 86378, 86379, 86380, 86386, 86388, 86389, 86390, 86393, 86394, 86395, 86398, 86401, 86402, 86403, 86406, 86407, 86408, 86409, 86413, 86414, 86417, 86418, 86419, 86423, 86424, 86425, 86428, 86431, 86432, 86435, 86439, 86440, 86441, 86443, 86448, 86452, 86455, 86456, 86460, 86466, 86467, 86472, 86474, 86475, 86476, 86477, 86479, 86480, 86481, 86482, 86483, 86485, 86486, 86488, 86490, 86494, 86495, 86497, 86498, 86503, 86504, 86505, 86506, 86511, 86512, 86513, 86514, 86516, 86517, 86519, 86520, 86521, 86523, 86530, 86531, 86532, 86533, 86534, 86535, 86536, 86538, 86539, 86544, 86545, 86547, 86548, 86549, 86550, 86552, 86555, 86558, 86559, 86560, 86562, 86563, 86564, 86565, 86569, 86570, 86571, 86573, 86574, 86576, 86577, 86580, 86584, 86585, 86586, 86588, 86592, 86594, 86596, 86600, 86601, 86602, 86604, 86607, 86614, 86616, 86617, 86621, 86622, 86623, 86624, 86625, 86626, 86627, 86628, 86630, 86633, 86636, 86637, 86641, 86642, 86644, 86645, 86647, 86648, 86652, 86656, 86657, 86658, 86659, 86660, 86661, 86663, 86664, 86665, 86666, 86667, 86668, 86671, 86672, 86673, 86674, 86675, 86676, 86679, 86680, 86681, 86682, 86685, 86691, 86692, 86694, 86696, 86697, 86698, 86700, 86701, 86702, 86703, 86704, 86705, 86709, 86710, 86711, 86712, 86716, 86717, 86719, 86720, 86721, 86723, 86724, 86725, 86726, 86727, 86728, 86730, 86732, 86734, 86735, 86738, 86740, 86745, 86748, 86749, 86753, 86754, 86755, 86756, 86760, 86762, 86764, 86765, 86766, 86768, 86770, 86773, 86775, 86779, 86780, 86782, 86783, 86784, 86788, 86789, 86791, 86792, 86793, 86794, 86796, 86797, 86802, 86804, 86805, 86807, 86808, 86812, 86813, 86820, 86822, 86824, 86825, 86826, 86828, 86834, 86838, 86839, 86843, 86847, 86848, 86849, 86850, 86852, 86853, 86857, 86859, 86860, 86862, 86865, 86866, 86867, 86868, 86869, 86870, 86875, 86878, 86879, 86882, 86883, 86888, 86889, 86890, 86891, 86895, 86896, 86897, 86898, 86899, 86901, 86905, 86911, 86912, 86915, 86916, 86917, 86920, 86922, 86923, 86924, 86925, 86926, 86927, 86928, 86929, 86931, 86932, 86934, 86938, 86940, 86941, 86942, 86944, 86946, 86947, 86948, 86949, 86950, 86952, 86953, 86954, 86955, 86956, 86957, 86958, 86959, 86960, 86962, 86963, 86965, 86969, 86970, 86973, 86978, 86979, 86985, 86986, 86987, 86990, 86991, 86993, 86996, 86997, 86998, 86999, 87005, 87006, 87008, 87011, 87012, 87015, 87016, 87018, 87019, 87021, 87024, 87025, 87028, 87029, 87030, 87031, 87032, 87033, 87034, 87035, 87039, 87040, 87041, 87043, 87044, 87045, 87046, 87048, 87049, 87056, 87057, 87058, 87059, 87060, 87061, 87062, 87063, 87064, 87065, 87067, 87070, 87071, 87072, 87073, 87074, 87077, 87079, 87080, 87081, 87082, 87085, 87086, 87087, 87088, 87090, 87092, 87095, 87097, 87101, 87102, 87103, 87104, 87105, 87106, 87107, 87108, 87110, 87112, 87114, 87115, 87116, 87117, 87118, 87119, 87120, 87121, 87122, 87125, 87127, 87128, 87129, 87130, 87132, 87133, 87134, 87135, 87136, 87139, 87140, 87141, 87142, 87143, 87145, 87146, 87147, 87149, 87151, 87155, 87156, 87157, 87158, 87161, 87163, 87164, 87165, 87167, 87170, 87172, 87173, 87174, 87175, 87178, 87180, 87181, 87183, 87184, 87185, 87186, 87188, 87193, 87194, 87195, 87197, 87200, 87201, 87202, 87204, 87205, 87206, 87208, 87211, 87213, 87214, 87215, 87216, 87219, 87220, 87221, 87222, 87224, 87225, 87226, 87227, 87229, 87230, 87233, 87235, 87236, 87237, 87238, 87239, 87242, 87243, 87244, 87245, 87247, 87248, 87249, 87251, 87252, 87254, 87255, 87256, 87257, 87258, 87259, 87262, 87264, 87267, 87268, 87269, 87270, 87272, 87273, 87274, 87275, 87276, 87281, 87282, 87286, 87290, 87292, 87293, 87294, 87295, 87298, 87301, 87302, 87303, 87304, 87306, 87309, 87310, 87313, 87321, 87322, 87324, 87325, 87327, 87328, 87329, 87330, 87331, 87333, 87334, 87339, 87340, 87342, 87343, 87344, 87345, 87348, 87349, 87355, 87357, 87359, 87360, 87361, 87363, 87365, 87369, 87370, 87372, 87374, 87376, 87377, 87382, 87383, 87384, 87385, 87387, 87388, 87390, 87391, 87392, 87393, 87394, 87396, 87398, 87399, 87400, 87401, 87402, 87404, 87405, 87407, 87409, 87412, 87414, 87415, 87418, 87423, 87424, 87425, 87426, 87427, 87428, 87431, 87433, 87435, 87437, 87438, 87440, 87441, 87442, 87444, 87448, 87450, 87451, 87452, 87454, 87456, 87458, 87459, 87464, 87465, 87467, 87468, 87469, 87470, 87471, 87472, 87475, 87477, 87480, 87482, 87483, 87489, 87494, 87497, 87499, 87502, 87503, 87505, 87506, 87508, 87509, 87510, 87511, 87512, 87518, 87520, 87525, 87526, 87527, 87528, 87529, 87530, 87531, 87532, 87533, 87537, 87538, 87539, 87540, 87541, 87542, 87544, 87546, 87548, 87549, 87550, 87551, 87554, 87558, 87559, 87560, 87561, 87563, 87564, 87566, 87568, 87570, 87571, 87573, 87574, 87575, 87576, 87578, 87579, 87582, 87583, 87584, 87585, 87586, 87587, 87588, 87590, 87592, 87594, 87596, 87597, 87599, 87601, 87604, 87605, 87608, 87609, 87611, 87613, 87616, 87620, 87624, 87626, 87629, 87630, 87634, 87635, 87636, 87640, 87642, 87644, 87646, 87647, 87650, 87651, 87652, 87654, 87657, 87658, 87660, 87662, 87663, 87664, 87667, 87671, 87673, 87674, 87675, 87677, 87678, 87679, 87681, 87687, 87690, 87692, 87693, 87694, 87697, 87698, 87699, 87701, 87702, 87703, 87704, 87706, 87709, 87710, 87711, 87712, 87715, 87720, 87721, 87722, 87726, 87728, 87730, 87731, 87735, 87738, 87739, 87742, 87746, 87747, 87748, 87750, 87751, 87755, 87757, 87758, 87760, 87761, 87762, 87763, 87764, 87767, 87768, 87770, 87771, 87773, 87778, 87780, 87782, 87783, 87784, 87786, 87789, 87794, 87796, 87797, 87799, 87800, 87802, 87803, 87804, 87805, 87806, 87807, 87808, 87810, 87812, 87814, 87815, 87816, 87817, 87821, 87822, 87823, 87824, 87825, 87827, 87829, 87831, 87832, 87834, 87840, 87842, 87843, 87844, 87845, 87848, 87849, 87850, 87853, 87856, 87857, 87860, 87861, 87862, 87863, 87865, 87867, 87870, 87873, 87874, 87875, 87876, 87879, 87883, 87885, 87888, 87890, 87892, 87893, 87895, 87896, 87898, 87900, 87902, 87903, 87905, 87906, 87907, 87908, 87910, 87912, 87913, 87915, 87916, 87919, 87920, 87921, 87925, 87929, 87930, 87931, 87934, 87936, 87937, 87939, 87941, 87942, 87943, 87945, 87946, 87947, 87950, 87951, 87952, 87953, 87956, 87957, 87958, 87959, 87960, 87961, 87962, 87964, 87967, 87969, 87970, 87971, 87977, 87978, 87979, 87981, 87987, 87988, 87989, 87991, 87993, 87994, 87995, 87996, 87997, 88001, 88002, 88004, 88006, 88007, 88009, 88010, 88011, 88012, 88015, 88016, 88017, 88024, 88025, 88027, 88028, 88030, 88032, 88037, 88039, 88043, 88044, 88046, 88048, 88050, 88052, 88057, 88058, 88059, 88062, 88063, 88065, 88067, 88068, 88069, 88070, 88071, 88072, 88074, 88077, 88078, 88079, 88080, 88081, 88083, 88084, 88085, 88086, 88087, 88088, 88089, 88091, 88094, 88096, 88102, 88103, 88105, 88106, 88107, 88108, 88109, 88110, 88111, 88112, 88113, 88115, 88116, 88117, 88118, 88119, 88120, 88121, 88123, 88124, 88126, 88127, 88128, 88129, 88132, 88135, 88137, 88138, 88140, 88143, 88147, 88148, 88151, 88152, 88154, 88157, 88159, 88160, 88161, 88162, 88163, 88164, 88169, 88170, 88172, 88173, 88175, 88176, 88180, 88181, 88182, 88184, 88185, 88187, 88189, 88190, 88191, 88192, 88194, 88197, 88200, 88203, 88204, 88206, 88208, 88211, 88212, 88214, 88216, 88217, 88218, 88219, 88221, 88222, 88226, 88228, 88229, 88231, 88233, 88234, 88235, 88237, 88238, 88241, 88242, 88244, 88246, 88247, 88250, 88251, 88252, 88253, 88255, 88257, 88258, 88261, 88262, 88263, 88265, 88266, 88267, 88270, 88271, 88272, 88275, 88276, 88284, 88287, 88288, 88289, 88290, 88293, 88295, 88296, 88297, 88298, 88302, 88303, 88304, 88306, 88308, 88309, 88310, 88312, 88314, 88315, 88316, 88317, 88318, 88319, 88320, 88324, 88325, 88326, 88328, 88330, 88332, 88333, 88334, 88336, 88339, 88341, 88342, 88344, 88350, 88351, 88353, 88354, 88357, 88359, 88360, 88363, 88364, 88366, 88367, 88368, 88369, 88371, 88373, 88376, 88378, 88379, 88381, 88382, 88386, 88388, 88389, 88390, 88397, 88407, 88408, 88410, 88411, 88414, 88416, 88417, 88418, 88420, 88422, 88423, 88425, 88428, 88429, 88430, 88431, 88432, 88433, 88435, 88438, 88439, 88441, 88444, 88446, 88449, 88450, 88451, 88454, 88457, 88459, 88460, 88461, 88462, 88463, 88464, 88466, 88467, 88469, 88470, 88474, 88475, 88477, 88478, 88479, 88481, 88482, 88483, 88485, 88486, 88487, 88488, 88491, 88492, 88494, 88496, 88497, 88498, 88499, 88501, 88504, 88506, 88508, 88509, 88512, 88513, 88515, 88516, 88517, 88518, 88522, 88523, 88524, 88532, 88535, 88537, 88540, 88541, 88543, 88544, 88551, 88553, 88554, 88555, 88556, 88557, 88558, 88561, 88562, 88564, 88569, 88571, 88573, 88574, 88577, 88578, 88579, 88581, 88582, 88583, 88584, 88586, 88589, 88592, 88594, 88595, 88597, 88598, 88600, 88602, 88605, 88607, 88608, 88611, 88613, 88615, 88619, 88620, 88621, 88624, 88625, 88629, 88630, 88631, 88632, 88634, 88635, 88636, 88637, 88638, 88640, 88642, 88643, 88644, 88645, 88646, 88647, 88650, 88651, 88652, 88654, 88655, 88656, 88657, 88659, 88661, 88662, 88663, 88667, 88668, 88669, 88671, 88673, 88677, 88678, 88679, 88680, 88682, 88683, 88685, 88686, 88690, 88691, 88694, 88697, 88699, 88700, 88701, 88702, 88703, 88704, 88706, 88707, 88709, 88711, 88713, 88714, 88715, 88716, 88717, 88718, 88719, 88722, 88723, 88724, 88725, 88727, 88728, 88729, 88731, 88732, 88734, 88737, 88738, 88744, 88745, 88749, 88750, 88751, 88753, 88754, 88755, 88757, 88760, 88761, 88763, 88764, 88765, 88767, 88768, 88769, 88771, 88773, 88774, 88775, 88777, 88778, 88781, 88784, 88785, 88786, 88787, 88788, 88790, 88791, 88793, 88794, 88795, 88796, 88799, 88802, 88804, 88808, 88811, 88812, 88813, 88816, 88817, 88818, 88823, 88824, 88826, 88829, 88830, 88831, 88832, 88833, 88835, 88836, 88837, 88841, 88842, 88843, 88844, 88847, 88849, 88850, 88851, 88852, 88853, 88854, 88856, 88860, 88862, 88863, 88864, 88865, 88866, 88867, 88868, 88869, 88872, 88873, 88874, 88875, 88879, 88881, 88883, 88884, 88886, 88889, 88891, 88893, 88894, 88896, 88898, 88899, 88900, 88902, 88904, 88905, 88909, 88910, 88912, 88914, 88916, 88919, 88920, 88921, 88922, 88925, 88926, 88927, 88930, 88932, 88933, 88936, 88937, 88938, 88940, 88941, 88946, 88947, 88949, 88951, 88955, 88956, 88959, 88960, 88961, 88962, 88963, 88964, 88966, 88967, 88969, 88970, 88971, 88973, 88974, 88976, 88978, 88980, 88982, 88983, 88984, 88985, 88986, 88987, 88988, 88989, 88990, 88992, 88994, 88995, 88998, 88999, 89000, 89001, 89002, 89006, 89007, 89008, 89009, 89013, 89014, 89016, 89021, 89024, 89025, 89026, 89027, 89028, 89029, 89030, 89031, 89032, 89033, 89035, 89038, 89040, 89041, 89043, 89044, 89046, 89048, 89049, 89050, 89051, 89053, 89054, 89056, 89058, 89059, 89060, 89064, 89065, 89066, 89067, 89073, 89074, 89079, 89080, 89081, 89083, 89084, 89085, 89086, 89087, 89090, 89092, 89096, 89098, 89102, 89103, 89105, 89106, 89109, 89110, 89112, 89113, 89114, 89116, 89118, 89119, 89123, 89124, 89128, 89130, 89132, 89134, 89137, 89138, 89139, 89140, 89142, 89143, 89145, 89147, 89148, 89150, 89151, 89152, 89153, 89154, 89156, 89158, 89164, 89165, 89169, 89170, 89171, 89174, 89175, 89176, 89178, 89179, 89182, 89185, 89186, 89187, 89189, 89191, 89192, 89193, 89194, 89196, 89197, 89198, 89201, 89202, 89204, 89205, 89206, 89208, 89209, 89212, 89213, 89215, 89216, 89217, 89218, 89222, 89223, 89228, 89229, 89231, 89233, 89234, 89235, 89237, 89239, 89240, 89241, 89242, 89244, 89246, 89247, 89249, 89250, 89252, 89253, 89255, 89258, 89261, 89262, 89263, 89264, 89265, 89266, 89267, 89268, 89269, 89271, 89274, 89276, 89279, 89286, 89287, 89293, 89294, 89297, 89300, 89301, 89304, 89306, 89311, 89312, 89313, 89317, 89318, 89319, 89320, 89322, 89323, 89325, 89327, 89328, 89330, 89331, 89332, 89333, 89334, 89336, 89338, 89339, 89340, 89341, 89342, 89343, 89344, 89345, 89351, 89353, 89354, 89355, 89356, 89357, 89359, 89360, 89361, 89364, 89366, 89367, 89368, 89371, 89372, 89373, 89374, 89376, 89378, 89379, 89380, 89388, 89389, 89390, 89392, 89394, 89398, 89399, 89400, 89402, 89403, 89404, 89406, 89408, 89409, 89410, 89411, 89412, 89414, 89417, 89418, 89419, 89420, 89421, 89422, 89423, 89424, 89426, 89427, 89429, 89430, 89431, 89432, 89434, 89437, 89439, 89441, 89442, 89447, 89449, 89451, 89455, 89456, 89459, 89460, 89464, 89465, 89468, 89469, 89474, 89476, 89478, 89480, 89482, 89484, 89485, 89486, 89489, 89490, 89493, 89494, 89495, 89497, 89498, 89499, 89500, 89501, 89502, 89503, 89505, 89507, 89508, 89509, 89510, 89511, 89515, 89519, 89521, 89522, 89523, 89525, 89526, 89529, 89530, 89531, 89532, 89533, 89536, 89537, 89542, 89543, 89544, 89545, 89547, 89548, 89550, 89553, 89556, 89560, 89561, 89563, 89564, 89566, 89571, 89573, 89574, 89575, 89576, 89577, 89578, 89579, 89582, 89588, 89597, 89599, 89600, 89603, 89604, 89606, 89607, 89609, 89611, 89612, 89613, 89614, 89615, 89616, 89617, 89619, 89621, 89623, 89625, 89626, 89627, 89631, 89633, 89637, 89639, 89641, 89642, 89643, 89644, 89645, 89649, 89651, 89652, 89653, 89655, 89659, 89664, 89665, 89667, 89669, 89672, 89673, 89675, 89676, 89678, 89682, 89683, 89684, 89687, 89688, 89690, 89695, 89696, 89697, 89702, 89703, 89704, 89706, 89708, 89711, 89712, 89713, 89715, 89718, 89719, 89720, 89722, 89723, 89724, 89726, 89727, 89728, 89734, 89735, 89736, 89737, 89743, 89745, 89746, 89749, 89750, 89751, 89754, 89755, 89756, 89757, 89758, 89759, 89762, 89763, 89765, 89769, 89771, 89772, 89773, 89774, 89776, 89779, 89785, 89787, 89788, 89792, 89794, 89795, 89798, 89804, 89805, 89811, 89812, 89813, 89814, 89818, 89819, 89823, 89824, 89825, 89829, 89830, 89832, 89834, 89836, 89837, 89840, 89841, 89844, 89846, 89849, 89850, 89851, 89852, 89853, 89855, 89856, 89857, 89858, 89861, 89862, 89863, 89864, 89865, 89866, 89867, 89870, 89873, 89874, 89881, 89882, 89885, 89888, 89889, 89890, 89892, 89894, 89896, 89897, 89900, 89903, 89905, 89906, 89907, 89908, 89910, 89911, 89912, 89915, 89916, 89917, 89919, 89920, 89921, 89924, 89926, 89928, 89930, 89931, 89932, 89936, 89939, 89940, 89943, 89944, 89946, 89947, 89948, 89949, 89950, 89952, 89954, 89955, 89959, 89960, 89961, 89964, 89966, 89970, 89971, 89976, 89977, 89979, 89980, 89983, 89987, 89988, 89989, 89991, 89996, 89997, 89998, 90000, 90001, 90003, 90004, 90005, 90006, 90008, 90009, 90011, 90013, 90014, 90015, 90016, 90017, 90020, 90022, 90023, 90024, 90025, 90027, 90028, 90029, 90031, 90034, 90035, 90037, 90040, 90042, 90043, 90045, 90046, 90047, 90051, 90056, 90057, 90058, 90060, 90061, 90063, 90066, 90068, 90069, 90071, 90074, 90075, 90076, 90077, 90078, 90080, 90082, 90083, 90084, 90085, 90086, 90089, 90090, 90091, 90092, 90093, 90094, 90096, 90098, 90099, 90100, 90102, 90106, 90108, 90109, 90111, 90113, 90114, 90115, 90116, 90117, 90119, 90121, 90125, 90127, 90129, 90134, 90140, 90141, 90142, 90144, 90145, 90147, 90151, 90153, 90154, 90156, 90157, 90158, 90159, 90161, 90162, 90163, 90164, 90165, 90167, 90174, 90176, 90177, 90179, 90181, 90183, 90185, 90186, 90188, 90189, 90190, 90192, 90193, 90197, 90199, 90200, 90201, 90204, 90206, 90207, 90209, 90212, 90213, 90215, 90220, 90224, 90225, 90226, 90227, 90228, 90230, 90233, 90234, 90235, 90237, 90240, 90241, 90242, 90246, 90248, 90252, 90253, 90255, 90256, 90258, 90259, 90261, 90263, 90264, 90265, 90266, 90267, 90270, 90272, 90273, 90274, 90275, 90276, 90277, 90278, 90279, 90282, 90283, 90290, 90292, 90294, 90298, 90300, 90302, 90305, 90306, 90309, 90310, 90311, 90312, 90313, 90315, 90318, 90320, 90324, 90325, 90326, 90327, 90330, 90331, 90332, 90334, 90336, 90337, 90338, 90340, 90342, 90343, 90345, 90346, 90347, 90348, 90350, 90351, 90353, 90354, 90356, 90357, 90358, 90359, 90361, 90363, 90364, 90365, 90366, 90370, 90372, 90373, 90375, 90376, 90378, 90379, 90384, 90385, 90386, 90387, 90388, 90391, 90397, 90403, 90404, 90405, 90406, 90408, 90410, 90411, 90412, 90414, 90415, 90420, 90422, 90423, 90424, 90425, 90426, 90429, 90430, 90432, 90434, 90435, 90437, 90438, 90439, 90440, 90446, 90448, 90449, 90450, 90451, 90453, 90460, 90461, 90462, 90464, 90466, 90467, 90468, 90469, 90471, 90475, 90476, 90478, 90479, 90480, 90481, 90485, 90486, 90489, 90490, 90495, 90496, 90497, 90499, 90500, 90501, 90502, 90507, 90508, 90511, 90512, 90514, 90515, 90517, 90525, 90526, 90529, 90531, 90532, 90533, 90535, 90536, 90537, 90538, 90539, 90541, 90542, 90543, 90545, 90548, 90549, 90552, 90554, 90555, 90556, 90558, 90560, 90562, 90563, 90566, 90567, 90568, 90570, 90571, 90572, 90573, 90576, 90579, 90584, 90586, 90587, 90588, 90589, 90592, 90593, 90594, 90596, 90603, 90604, 90605, 90606, 90607, 90609, 90611, 90613, 90614, 90615, 90616, 90617, 90620, 90621, 90622, 90625, 90629, 90630, 90631, 90633, 90634, 90636, 90638, 90640, 90641, 90643, 90644, 90645, 90647, 90648, 90650, 90651, 90653, 90658, 90664, 90665, 90666, 90670, 90672, 90673, 90674, 90681, 90682, 90684, 90685, 90686, 90688, 90691, 90692, 90693, 90694, 90696, 90701, 90702, 90704, 90705, 90707, 90708, 90710, 90713, 90714, 90715, 90716, 90718, 90721, 90722, 90723, 90724, 90725, 90726, 90727, 90728, 90730, 90731, 90737, 90738, 90739, 90741, 90744, 90747, 90748, 90749, 90753, 90755, 90757, 90758, 90759, 90761, 90762, 90763, 90768, 90770, 90771, 90772, 90775, 90776, 90777, 90778, 90780, 90782, 90785, 90787, 90789, 90790, 90791, 90792, 90794, 90796, 90797, 90798, 90800, 90803, 90806, 90810, 90811, 90812, 90815, 90816, 90817, 90819, 90820, 90821, 90824, 90825, 90826, 90828, 90830, 90836, 90838, 90840, 90842, 90843, 90844, 90846, 90847, 90848, 90849, 90850, 90856, 90857, 90858, 90860, 90862, 90866, 90867, 90869, 90870, 90872, 90875, 90876, 90887, 90888, 90890, 90891, 90892, 90894, 90896, 90897, 90898, 90900, 90901, 90902, 90903, 90905, 90908, 90911, 90912, 90913, 90914, 90916, 90917, 90918, 90919, 90921, 90922, 90923, 90924, 90925, 90926, 90927, 90928, 90929, 90930, 90931, 90932, 90933, 90935, 90936, 90937, 90940, 90941, 90943, 90944, 90945, 90946, 90951, 90952, 90953, 90955, 90956, 90957, 90958, 90959, 90961, 90965, 90966, 90967, 90968, 90969, 90970, 90973, 90975, 90977, 90978, 90981, 90985, 90988, 90990, 90992, 90994, 90995, 90997, 91000, 91001, 91004, 91005, 91006, 91009, 91010, 91012, 91014, 91015, 91017, 91018, 91019, 91020, 91021, 91026, 91029, 91030, 91031, 91033, 91034, 91038, 91039, 91043, 91046, 91048, 91049, 91050, 91054, 91056, 91058, 91061, 91063, 91064, 91065, 91067, 91070, 91072, 91073, 91074, 91076, 91081, 91083, 91084, 91085, 91086, 91088, 91090, 91096, 91097, 91098, 91099, 91100, 91104, 91106, 91107, 91109, 91110, 91112, 91113, 91114, 91115, 91116, 91117, 91120, 91121, 91127, 91131, 91134, 91136, 91138, 91139, 91140, 91141, 91142, 91144, 91146, 91149, 91152, 91155, 91156, 91159, 91160, 91164, 91167, 91170, 91172, 91173, 91174, 91176, 91177, 91178, 91180, 91181, 91182, 91183, 91184, 91185, 91186, 91187, 91188, 91189, 91190, 91194, 91196, 91197, 91198, 91199, 91201, 91203, 91204, 91206, 91209, 91212, 91214, 91215, 91216, 91217, 91218, 91219, 91220, 91223, 91227, 91228, 91231, 91232, 91233, 91234, 91235, 91236, 91237, 91238, 91239, 91240, 91246, 91247, 91248, 91251, 91253, 91254, 91255, 91256, 91257, 91259, 91263, 91264, 91267, 91268, 91270, 91272, 91273, 91274, 91275, 91276, 91277, 91278, 91279, 91282, 91283, 91286, 91287, 91290, 91291, 91295, 91297, 91298, 91299, 91301, 91303, 91310, 91312, 91315, 91319, 91320, 91325, 91326, 91331, 91333, 91336, 91339, 91340, 91342, 91343, 91345, 91346, 91349, 91353, 91354, 91366, 91369, 91374, 91375, 91376, 91378, 91380, 91382, 91384, 91386, 91387, 91389, 91390, 91394, 91396, 91402, 91403, 91405, 91408, 91409, 91413, 91415, 91419, 91420, 91421, 91422, 91423, 91430, 91431, 91432, 91433, 91434, 91436, 91437, 91438, 91439, 91446, 91448, 91449, 91450, 91453, 91454, 91455, 91456, 91457, 91458, 91463, 91464, 91465, 91468, 91469, 91470, 91472, 91475, 91477, 91480, 91482, 91483, 91485, 91490, 91492, 91496, 91499, 91502, 91503, 91505, 91506, 91507, 91508, 91510, 91512, 91514, 91518, 91520, 91522, 91523, 91524, 91525, 91526, 91530, 91531, 91532, 91533, 91534, 91535, 91536, 91537, 91540, 91542, 91546, 91547, 91548, 91551, 91552, 91557, 91558, 91559, 91563, 91565, 91568, 91570, 91572, 91574, 91575, 91578, 91581, 91583, 91587, 91588, 91590, 91591, 91593, 91594, 91595, 91596, 91598, 91600, 91601, 91602, 91603, 91604, 91605, 91606, 91607, 91608, 91609, 91611, 91613, 91615, 91616, 91617, 91619, 91620, 91623, 91626, 91630, 91631, 91634, 91636, 91637, 91638, 91639, 91643, 91644, 91645, 91648, 91652, 91655, 91656, 91659, 91660, 91663, 91664, 91665, 91666, 91670, 91671, 91673, 91675, 91676, 91678, 91680, 91682, 91683, 91687, 91689, 91690, 91691, 91693, 91695, 91696, 91700, 91701, 91703, 91704, 91706, 91707, 91708, 91709, 91710, 91713, 91714, 91715, 91717, 91718, 91722, 91723, 91724, 91726, 91729, 91730, 91731, 91732, 91734, 91736, 91737, 91739, 91740, 91741, 91743, 91747, 91748, 91749, 91750, 91751, 91752, 91753, 91756, 91757, 91760, 91763, 91767, 91768, 91769, 91770, 91771, 91778, 91781, 91782, 91783, 91788, 91789, 91790, 91793, 91794, 91795, 91797, 91799, 91802, 91808, 91812, 91813, 91814, 91815, 91817, 91818, 91819, 91820, 91821, 91824, 91825, 91826, 91827, 91828, 91831, 91833, 91842, 91844, 91845, 91846, 91848, 91849, 91850, 91853, 91857, 91858, 91859, 91860, 91862, 91863, 91864, 91865, 91866, 91868, 91871, 91872, 91874, 91878, 91879, 91880, 91881, 91883, 91884, 91885, 91887, 91888, 91890, 91892, 91894, 91895, 91896, 91898, 91900, 91903, 91905, 91906, 91907, 91908, 91909, 91916, 91917, 91918, 91920, 91923, 91925, 91926, 91934, 91935, 91936, 91937, 91938, 91939, 91940, 91941, 91942, 91943, 91945, 91947, 91948, 91949, 91950, 91952, 91953, 91954, 91963, 91964, 91965, 91966, 91970, 91972, 91973, 91975, 91976, 91978, 91979, 91981, 91982, 91983, 91984, 91985, 91988, 91990, 91993, 91994, 91996, 91999, 92001, 92003, 92004, 92006, 92009, 92010, 92015, 92016, 92019, 92021, 92023, 92024, 92025, 92027, 92028, 92030, 92032, 92033, 92035, 92036, 92037, 92041, 92042, 92043, 92044, 92045, 92046, 92048, 92050, 92053, 92055, 92056, 92057, 92060, 92063, 92065, 92066, 92067, 92068, 92070, 92072, 92073, 92074, 92075, 92079, 92080, 92082, 92084, 92085, 92086, 92088, 92089, 92090, 92091, 92092, 92093, 92094, 92096, 92097, 92099, 92100, 92104, 92105, 92106, 92107, 92113, 92114, 92118, 92119, 92121, 92123, 92125, 92126, 92130, 92131, 92132, 92133, 92134, 92135, 92137, 92138, 92140, 92141, 92143, 92145, 92147, 92148, 92149, 92154, 92155, 92156, 92157, 92159, 92160, 92162, 92163, 92164, 92168, 92169, 92171, 92173, 92174, 92175, 92176, 92177, 92181, 92187, 92193, 92199, 92203, 92205, 92207, 92208, 92209, 92210, 92211, 92212, 92213, 92218, 92219, 92220, 92222, 92224, 92225, 92226, 92227, 92228, 92230, 92231, 92232, 92233, 92236, 92237, 92239, 92241, 92242, 92243, 92245, 92246, 92248, 92249, 92251, 92256, 92257, 92259, 92260, 92261, 92262, 92263, 92264, 92266, 92267, 92269, 92270, 92271, 92275, 92276, 92278, 92280, 92281, 92282, 92284, 92286, 92287, 92288, 92289, 92292, 92294, 92295, 92296, 92298, 92299, 92300, 92302, 92303, 92304, 92305, 92306, 92307, 92311, 92312, 92313, 92318, 92319, 92321, 92323, 92324, 92334, 92335, 92337, 92340, 92341, 92342, 92349, 92351, 92352, 92353, 92356, 92357, 92359, 92360, 92361, 92362, 92366, 92367, 92368, 92369, 92370, 92373, 92374, 92375, 92379, 92380, 92381, 92382, 92383, 92385, 92386, 92387, 92388, 92389, 92393, 92395, 92396, 92398, 92399, 92400, 92401, 92402, 92403, 92404, 92406, 92407, 92410, 92411, 92412, 92413, 92415, 92420, 92421, 92422, 92425, 92427, 92429, 92430, 92431, 92434, 92435, 92436, 92437, 92438, 92440, 92444, 92445, 92448, 92449, 92450, 92456, 92458, 92462, 92464, 92466, 92467, 92468, 92470, 92471, 92474, 92475, 92477, 92478, 92479, 92481, 92482, 92485, 92486, 92487, 92490, 92495, 92496, 92497, 92498, 92501, 92503, 92505, 92513, 92514, 92515, 92516, 92517, 92519, 92522, 92523, 92524, 92527, 92528, 92532, 92534, 92535, 92536, 92537, 92538, 92539, 92540, 92546, 92548, 92549, 92550, 92553, 92554, 92555, 92558, 92560, 92561, 92562, 92564, 92565, 92566, 92567, 92570, 92571, 92573, 92575, 92576, 92578, 92581, 92582, 92583, 92585, 92587, 92588, 92589, 92590, 92592, 92593, 92594, 92596, 92598, 92600, 92603, 92606, 92607, 92613, 92614, 92616, 92617, 92623, 92625, 92628, 92630, 92632, 92633, 92634, 92636, 92637, 92638, 92639, 92643, 92650, 92652, 92653, 92654, 92655, 92658, 92659, 92660, 92661, 92664, 92665, 92667, 92668, 92670, 92673, 92677, 92680, 92681, 92684, 92687, 92688, 92690, 92695, 92696, 92699, 92701, 92705, 92706, 92707, 92708, 92710, 92713, 92714, 92715, 92716, 92719, 92725, 92726, 92732, 92733, 92734, 92737, 92738, 92739, 92740, 92743, 92748, 92750, 92754, 92755, 92760, 92761, 92762, 92763, 92765, 92766, 92768, 92769, 92770, 92772, 92774, 92775, 92777, 92778, 92779, 92780, 92782, 92787, 92788, 92791, 92794, 92795, 92797, 92801, 92803, 92805, 92809, 92812, 92815, 92817, 92818, 92819, 92822, 92825, 92829, 92830, 92832, 92834, 92837, 92838, 92839, 92840, 92841, 92844, 92845, 92848, 92849, 92852, 92853, 92854, 92856, 92860, 92861, 92864, 92868, 92871, 92873, 92874, 92875, 92884, 92885, 92888, 92889, 92890, 92891, 92893, 92898, 92899, 92900, 92901, 92902, 92904, 92907, 92908, 92909, 92912, 92914, 92918, 92920, 92921, 92923, 92927, 92929, 92930, 92931, 92932, 92933, 92934, 92937, 92941, 92946, 92947, 92949, 92951, 92952, 92954, 92958, 92959, 92960, 92961, 92963, 92964, 92966, 92969, 92970, 92971, 92972, 92976, 92981, 92982, 92984, 92985, 92986, 92989, 92991, 92995, 92996, 92997, 92998, 92999, 93001, 93003, 93004, 93006, 93009, 93010, 93014, 93018, 93019, 93025, 93027, 93031, 93032, 93038, 93041, 93044, 93045, 93047, 93048, 93049, 93053, 93054, 93056, 93058, 93059, 93060, 93065, 93068, 93070, 93071, 93073, 93074, 93077, 93079, 93080, 93081, 93086, 93090, 93091, 93093, 93094, 93100, 93101, 93103, 93105, 93107, 93109, 93112, 93113, 93115, 93117, 93118, 93119, 93120, 93124, 93128, 93129, 93131, 93134, 93136, 93139, 93141, 93142, 93158, 93159, 93160, 93163, 93164, 93170, 93171, 93172, 93173, 93174, 93175, 93177, 93178, 93180, 93184, 93189, 93191, 93192, 93193, 93195, 93197, 93198, 93199, 93200, 93201, 93203, 93207, 93209, 93212, 93213, 93214, 93215, 93216, 93217, 93218, 93219, 93220, 93221, 93223, 93229, 93230, 93231, 93232, 93234, 93237, 93240, 93241, 93242, 93243, 93244, 93245, 93248, 93249, 93250, 93251, 93255, 93260, 93261, 93262, 93263, 93265, 93266, 93269, 93270, 93271, 93272, 93274, 93275, 93276, 93277, 93278, 93279, 93281, 93283, 93285, 93286, 93287, 93290, 93293, 93294, 93295, 93296, 93298, 93299, 93300, 93301, 93303, 93305, 93306, 93310, 93317, 93318, 93319, 93320, 93322, 93324, 93325, 93326, 93327, 93328, 93332, 93333, 93334, 93336, 93338, 93340, 93343, 93344, 93345, 93346, 93348, 93350, 93351, 93352, 93354, 93355, 93356, 93358, 93359, 93360, 93362, 93363, 93366, 93367, 93368, 93370, 93373, 93376, 93378, 93380, 93381, 93382, 93388, 93389, 93391, 93392, 93393, 93394, 93397, 93398, 93401, 93402, 93404, 93405, 93406, 93407, 93408, 93410, 93413, 93415, 93416, 93417, 93418, 93420, 93421, 93424, 93427, 93431, 93432, 93433, 93435, 93436, 93437, 93438, 93439, 93444, 93445, 93446, 93448, 93451, 93453, 93454, 93457, 93461, 93469, 93470, 93471, 93474, 93475, 93476, 93478, 93479, 93480, 93481, 93483, 93485, 93486, 93487, 93488, 93489, 93490, 93492, 93494, 93495, 93496, 93497, 93498, 93500, 93501, 93502, 93503, 93505, 93507, 93510, 93511, 93512, 93516, 93519, 93520, 93522, 93524, 93526, 93528, 93529, 93530, 93531, 93532, 93533, 93534, 93536, 93538, 93539, 93545, 93546, 93547, 93549, 93550, 93551, 93553, 93554, 93555, 93556, 93557, 93560, 93566, 93568, 93569, 93570, 93572, 93573, 93574, 93576, 93581, 93583, 93584, 93586, 93587, 93588, 93592, 93594, 93595, 93597, 93598, 93600, 93601, 93602, 93603, 93604, 93607, 93610, 93611, 93614, 93615, 93616, 93617, 93618, 93619, 93620, 93622, 93625, 93626, 93627, 93628, 93631, 93632, 93633, 93634, 93635, 93637, 93639, 93641, 93644, 93645, 93646, 93647, 93648, 93649, 93652, 93653, 93654, 93655, 93657, 93658, 93660, 93661, 93662, 93664, 93665, 93667, 93669, 93670, 93671, 93673, 93674, 93676, 93677, 93679, 93680, 93681, 93682, 93683, 93685, 93688, 93691, 93693, 93696, 93698, 93701, 93702, 93704, 93709, 93712, 93715, 93718, 93725, 93727, 93729, 93730, 93731, 93736, 93738, 93739, 93740, 93743, 93744, 93745, 93746, 93747, 93750, 93751, 93753, 93754, 93755, 93756, 93759, 93762, 93763, 93764, 93765, 93766, 93768, 93772, 93773, 93776, 93777, 93778, 93779, 93780, 93781, 93783, 93784, 93786, 93789, 93792, 93794, 93795, 93800, 93801, 93802, 93805, 93806, 93808, 93810, 93811, 93814, 93815, 93816, 93822, 93823, 93824, 93826, 93829, 93830, 93832, 93834, 93836, 93838, 93839, 93841, 93842, 93844, 93845, 93847, 93851, 93852, 93853, 93854, 93859, 93860, 93861, 93862, 93864, 93865, 93868, 93872, 93873, 93876, 93877, 93881, 93882, 93883, 93884, 93885, 93888, 93890, 93891, 93892, 93893, 93895, 93899, 93907, 93908, 93910, 93912, 93913, 93916, 93917, 93922, 93924, 93925, 93927, 93928, 93929, 93930, 93936, 93937, 93938, 93939, 93940, 93942, 93946, 93947, 93948, 93949, 93950, 93951, 93953, 93954, 93955, 93956, 93959, 93960, 93964, 93965, 93966, 93967, 93968, 93969, 93971, 93972, 93973, 93976, 93977, 93983, 93984, 93985, 93986, 93988, 93990, 93991, 93992, 93993, 93994, 93996, 93997, 93998, 94000, 94003, 94005, 94007, 94008, 94013, 94014, 94015, 94016, 94018, 94019, 94020, 94024, 94025, 94026, 94027, 94028, 94031, 94033, 94034, 94040, 94041, 94043, 94049, 94050, 94051, 94052, 94055, 94059, 94060, 94062, 94063, 94064, 94067, 94068, 94069, 94071, 94072, 94073, 94082, 94083, 94084, 94085, 94086, 94087, 94088, 94090, 94092, 94093, 94094, 94095, 94097, 94099, 94100, 94101, 94102, 94103, 94105, 94107, 94108, 94110, 94112, 94113, 94115, 94118, 94119, 94122, 94123, 94125, 94126, 94128, 94129, 94130, 94131, 94133, 94134, 94135, 94136, 94137, 94138, 94140, 94141, 94143, 94144, 94147, 94148, 94149, 94152, 94153, 94154, 94155, 94156, 94157, 94158, 94160, 94162, 94164, 94165, 94168, 94169, 94172, 94174, 94175, 94178, 94180, 94183, 94184, 94186, 94188, 94189, 94191, 94194, 94197, 94198, 94199, 94200, 94201, 94203, 94204, 94207, 94209, 94210, 94211, 94212, 94213, 94216, 94217, 94218, 94220, 94222, 94223, 94224, 94228, 94229, 94231, 94233, 94234, 94237, 94238, 94239, 94240, 94242, 94243, 94244, 94246, 94247, 94249, 94250, 94252, 94254, 94255, 94256, 94258, 94259, 94263, 94264, 94266, 94267, 94274, 94279, 94282, 94283, 94286, 94288, 94289, 94294, 94296, 94299, 94300, 94302, 94303, 94309, 94310, 94311, 94312, 94313, 94314, 94318, 94320, 94322, 94323, 94324, 94325, 94326, 94327, 94329, 94330, 94331, 94332, 94333, 94337, 94338, 94341, 94342, 94343, 94344, 94345, 94347, 94348, 94349, 94350, 94351, 94353, 94354, 94357, 94358, 94359, 94360, 94361, 94362, 94364, 94366, 94367, 94372, 94373, 94375, 94378, 94379, 94381, 94386, 94387, 94388, 94391, 94392, 94394, 94396, 94397, 94399, 94401, 94402, 94404, 94405, 94408, 94411, 94412, 94413, 94414, 94417, 94419, 94420, 94425, 94426, 94427, 94432, 94436, 94437, 94440, 94444, 94449, 94451, 94453, 94454, 94456, 94457, 94458, 94462, 94466, 94468, 94470, 94478, 94479, 94481, 94482, 94485, 94486, 94488, 94489, 94490, 94492, 94493, 94494, 94495, 94496, 94500, 94502, 94503, 94504, 94506, 94507, 94508, 94509, 94511, 94512, 94515, 94516, 94521, 94522, 94525, 94530, 94531, 94532, 94533, 94534, 94539, 94541, 94542, 94543, 94544, 94545, 94548, 94550, 94551, 94552, 94553, 94554, 94558, 94559, 94563, 94564, 94568, 94573, 94574, 94575, 94577, 94578, 94579, 94581, 94582, 94584, 94585, 94586, 94588, 94590, 94591, 94593, 94594, 94595, 94596, 94598, 94599, 94600, 94601, 94605, 94606, 94607, 94608, 94611, 94612, 94613, 94614, 94615, 94617, 94622, 94626, 94627, 94628, 94629, 94634, 94635, 94639, 94641, 94643, 94644, 94646, 94648, 94649, 94650, 94652, 94653, 94655, 94658, 94660, 94661, 94662, 94663, 94665, 94668, 94670, 94671, 94672, 94673, 94675, 94676, 94677, 94678, 94679, 94680, 94681, 94682, 94684, 94688, 94689, 94691, 94693, 94694, 94695, 94696, 94697, 94698, 94699, 94700, 94701, 94702, 94703, 94704, 94707, 94708, 94709, 94711, 94712, 94713, 94714, 94715, 94716, 94718, 94721, 94722, 94723, 94725, 94726, 94730, 94735, 94736, 94738, 94740, 94741, 94745, 94746, 94747, 94748, 94750, 94751, 94754, 94755, 94758, 94759, 94762, 94763, 94765, 94767, 94771, 94772, 94773, 94774, 94775, 94778, 94779, 94782, 94788, 94789, 94790, 94792, 94793, 94794, 94796, 94797, 94799, 94803, 94809, 94815, 94816, 94817, 94820, 94822, 94824, 94825, 94827, 94830, 94831, 94832, 94836, 94839, 94841, 94842, 94843, 94844, 94845, 94847, 94851, 94852, 94853, 94854, 94855, 94857, 94858, 94859, 94861, 94863, 94865, 94866, 94867, 94869, 94870, 94871, 94875, 94876, 94877, 94878, 94880, 94883, 94884, 94885, 94886, 94888, 94890, 94893, 94898, 94899, 94900, 94903, 94905, 94909, 94910, 94911, 94914, 94915, 94918, 94919, 94920, 94922, 94924, 94927, 94930, 94933, 94934, 94936, 94937, 94942, 94943, 94945, 94946, 94949, 94952, 94956, 94958, 94961, 94963, 94964, 94970, 94973, 94974, 94975, 94976, 94978, 94979, 94982, 94983, 94984, 94987, 94988, 94990, 94991, 94993, 94995, 94996, 94999, 95000, 95001, 95002, 95004, 95009, 95010, 95012, 95013, 95014, 95015, 95016, 95017, 95022, 95025, 95027, 95028, 95031, 95032, 95034, 95035, 95038, 95040, 95041, 95044, 95046, 95047, 95049, 95051, 95052, 95053, 95056, 95057, 95059, 95061, 95062, 95063, 95064, 95065, 95066, 95067, 95071, 95072, 95074, 95077, 95078, 95080, 95082, 95083, 95084, 95087, 95091, 95093, 95094, 95096, 95097, 95098, 95100, 95101, 95102, 95103, 95105, 95106, 95108, 95110, 95111, 95114, 95116, 95117, 95120, 95123, 95124, 95125, 95126, 95129, 95131, 95134, 95135, 95136, 95138, 95140, 95141, 95144, 95145, 95146, 95147, 95152, 95153, 95154, 95155, 95156, 95158, 95159, 95161, 95162, 95163, 95164, 95165, 95166, 95171, 95172, 95173, 95175, 95177, 95182, 95183, 95184, 95189, 95190, 95191, 95196, 95197, 95200, 95202, 95203, 95204, 95206, 95208, 95209, 95210, 95211, 95216, 95217, 95219, 95222, 95231, 95234, 95235, 95238, 95239, 95243, 95244, 95250, 95251, 95252, 95253, 95254, 95255, 95256, 95257, 95263, 95264, 95266, 95270, 95273, 95274, 95276, 95277, 95278, 95279, 95280, 95283, 95284, 95285, 95286, 95289, 95290, 95294, 95295, 95296, 95297, 95305, 95309, 95312, 95314, 95315, 95317, 95319, 95321, 95326, 95328, 95329, 95330, 95331, 95332, 95339, 95340, 95341, 95342, 95346, 95347, 95348, 95351, 95353, 95354, 95356, 95359, 95361, 95362, 95366, 95367, 95368, 95370, 95371, 95372, 95376, 95377, 95381, 95383, 95386, 95390, 95395, 95397, 95399, 95400, 95401, 95403, 95408, 95409, 95413, 95418, 95419, 95421, 95425, 95426, 95427, 95429, 95432, 95433, 95434, 95435, 95436, 95439, 95441, 95443, 95446, 95447, 95448, 95449, 95450, 95451, 95452, 95453, 95454, 95455, 95456, 95457, 95458, 95460, 95464, 95469, 95471, 95472, 95473, 95474, 95475, 95476, 95478, 95481, 95482, 95483, 95484, 95488, 95491, 95494, 95497, 95500, 95504, 95506, 95509, 95510, 95512, 95513, 95514, 95516, 95517, 95519, 95520, 95522, 95524, 95525, 95526, 95530, 95532, 95534, 95538, 95540, 95541, 95542, 95544, 95546, 95547, 95548, 95550, 95551, 95555, 95557, 95558, 95560, 95561, 95564, 95566, 95568, 95573, 95575, 95576, 95577, 95578, 95580, 95582, 95586, 95587, 95588, 95590, 95591, 95592, 95594, 95596, 95598, 95599, 95600, 95601, 95603, 95605, 95606, 95607, 95608, 95609, 95610, 95612, 95613, 95614, 95615, 95618, 95619, 95620, 95622, 95624, 95626, 95628, 95630, 95631, 95632, 95633, 95634, 95639, 95640, 95643, 95644, 95646, 95647, 95648, 95653, 95656, 95657, 95658, 95659, 95661, 95662, 95663, 95664, 95666, 95667, 95668, 95671, 95677, 95678, 95680, 95681, 95682, 95683, 95684, 95685, 95686, 95689, 95690, 95695, 95696, 95697, 95699, 95703, 95704, 95705, 95707, 95711, 95712, 95714, 95715, 95718, 95719, 95720, 95722, 95723, 95724, 95725, 95735, 95737, 95738, 95740, 95742, 95743, 95746, 95747, 95749, 95751, 95754, 95755, 95757, 95758, 95761, 95763, 95765, 95767, 95770, 95772, 95773, 95776, 95777, 95778, 95780, 95783, 95785, 95787, 95788, 95789, 95790, 95792, 95796, 95798, 95799, 95800, 95801, 95803, 95805, 95807, 95809, 95810, 95812, 95814, 95815, 95816, 95819, 95822, 95823, 95824, 95825, 95826, 95827, 95828, 95829, 95830, 95833, 95834, 95836, 95838, 95839, 95841, 95843, 95845, 95847, 95850, 95853, 95854, 95858, 95859, 95862, 95864, 95866, 95874, 95876, 95880, 95881, 95883, 95886, 95887, 95888, 95892, 95896, 95897, 95898, 95902, 95904, 95905, 95906, 95907, 95908, 95909, 95913, 95917, 95919, 95920, 95921, 95925, 95926, 95929, 95930, 95933, 95937, 95939, 95941, 95942, 95943, 95944, 95946, 95947, 95951, 95954, 95955, 95956, 95957, 95958, 95960, 95961, 95966, 95969, 95974, 95976, 95977, 95978, 95980, 95982, 95983, 95987, 95997, 96000, 96002, 96004, 96005, 96009, 96011, 96012, 96015, 96016, 96017, 96018, 96019, 96020, 96022, 96023, 96024, 96025, 96026, 96028, 96032, 96033, 96034, 96037, 96038, 96040, 96043, 96045, 96046, 96048, 96049, 96050, 96053, 96058, 96059, 96063, 96064, 96065, 96067, 96070, 96072, 96073, 96075, 96076, 96081, 96082, 96083, 96084, 96085, 96086, 96089, 96090, 96093, 96095, 96096, 96097, 96099, 96100, 96101, 96106, 96108, 96118, 96120, 96121, 96122, 96125, 96127, 96129, 96130, 96133, 96134, 96136, 96137, 96138, 96139, 96140, 96142, 96143, 96146, 96149, 96150, 96153, 96154, 96155, 96156, 96159, 96161, 96162, 96166, 96168, 96169, 96170, 96171, 96172, 96174, 96175, 96176, 96177, 96180, 96183, 96186, 96187, 96188, 96192, 96193, 96195, 96197, 96198, 96199, 96200, 96202, 96206, 96208, 96209, 96210, 96211, 96212, 96213, 96214, 96215, 96216, 96220, 96221, 96222, 96226, 96227, 96229, 96230, 96233, 96235, 96236, 96238, 96242, 96244, 96247, 96248, 96249, 96251, 96252, 96253, 96255, 96256, 96257, 96259, 96260, 96261, 96262, 96263, 96264, 96268, 96269, 96270, 96272, 96273, 96274, 96276, 96280, 96283, 96284, 96286, 96288, 96289, 96290, 96291, 96293, 96294, 96295, 96296, 96297, 96298, 96301, 96304, 96305, 96306, 96307, 96310, 96313, 96314, 96315, 96316, 96317, 96318, 96319, 96320, 96323, 96325, 96326, 96328, 96329, 96331, 96332, 96334, 96335, 96337, 96338, 96340, 96341, 96344, 96345, 96347, 96348, 96349, 96350, 96351, 96352, 96353, 96354, 96355, 96358, 96360, 96361, 96362, 96363, 96371, 96373, 96374, 96375, 96376, 96378, 96379, 96380, 96382, 96383, 96385, 96386, 96387, 96389, 96390, 96391, 96394, 96396, 96401, 96402, 96404, 96408, 96409, 96410, 96411, 96413, 96414, 96416, 96417, 96419, 96421, 96422, 96423, 96424, 96425, 96426, 96428, 96431, 96432, 96434, 96435, 96438, 96441, 96442, 96443, 96444, 96449, 96451, 96453, 96454, 96455, 96457, 96458, 96459, 96461, 96463, 96464, 96465, 96466, 96467, 96468, 96472, 96475, 96476, 96477, 96478, 96479, 96481, 96483, 96485, 96486, 96488, 96490, 96491, 96492, 96493, 96495, 96496, 96499, 96502, 96503, 96504, 96507, 96510, 96512, 96515, 96516, 96517, 96519, 96520, 96521, 96522, 96524, 96527, 96529, 96531, 96532, 96534, 96536, 96537, 96538, 96541, 96543, 96544, 96545, 96557, 96559, 96564, 96566, 96571, 96572, 96573, 96577, 96582, 96584, 96585, 96586, 96587, 96588, 96590, 96591, 96592, 96594, 96596, 96597, 96600, 96601, 96602, 96604, 96605, 96607, 96608, 96610, 96611, 96614, 96617, 96618, 96625, 96626, 96627, 96628, 96629, 96630, 96633, 96635, 96636, 96641, 96642, 96643, 96646, 96648, 96649, 96650, 96651, 96652, 96653, 96655, 96657, 96660, 96661, 96662, 96663, 96666, 96667, 96670, 96672, 96674, 96676, 96677, 96678, 96679, 96681, 96683, 96684, 96686, 96687, 96689, 96690, 96691, 96692, 96694, 96695, 96696, 96698, 96699, 96701, 96705, 96710, 96711, 96712, 96714, 96716, 96717, 96718, 96719, 96721, 96723, 96724, 96727, 96728, 96733, 96734, 96735, 96737, 96738, 96742, 96744, 96745, 96746, 96747, 96748, 96749, 96750, 96752, 96754, 96755, 96757, 96758, 96759, 96760, 96761, 96762, 96764, 96765, 96766, 96768, 96770, 96772, 96775, 96776, 96777, 96778, 96779, 96782, 96783, 96784, 96786, 96787, 96788, 96789, 96790, 96792, 96797, 96798, 96799, 96801, 96804, 96808, 96809, 96810, 96812, 96816, 96817, 96818, 96819, 96820, 96823, 96829, 96830, 96831, 96832, 96833, 96835, 96838, 96840, 96841, 96843, 96844, 96845, 96852, 96853, 96854, 96855, 96857, 96858, 96861, 96862, 96864, 96865, 96866, 96869, 96872, 96876, 96881, 96884, 96887, 96890, 96892, 96893, 96894, 96896, 96898, 96899, 96900, 96901, 96903, 96904, 96905, 96906, 96908, 96909, 96911, 96917, 96918, 96919, 96920, 96921, 96922, 96923, 96925, 96926, 96933, 96934, 96935, 96937, 96938, 96939, 96940, 96944, 96945, 96946, 96947, 96948, 96950, 96952, 96954, 96958, 96959, 96960, 96963, 96964, 96966, 96969, 96970, 96973, 96975, 96976, 96977, 96978, 96979, 96980, 96983, 96984, 96986, 96988, 96990, 96996, 96998, 96999, 97000, 97001, 97006, 97007, 97009, 97010, 97011, 97012, 97013, 97014, 97019, 97021, 97022, 97023, 97027, 97028, 97029, 97032, 97036, 97038, 97039, 97040, 97046, 97048, 97049, 97050, 97051, 97052, 97053, 97054, 97055, 97057, 97059, 97060, 97061, 97068, 97070, 97071, 97072, 97073, 97075, 97076, 97077, 97079, 97080, 97081, 97082, 97085, 97087, 97089, 97090, 97095, 97097, 97098, 97101, 97102, 97103, 97106, 97110, 97112, 97116, 97118, 97121, 97122, 97123, 97124, 97125, 97126, 97127, 97131, 97132, 97136, 97137, 97138, 97144, 97145, 97146, 97147, 97152, 97153, 97155, 97157, 97158, 97159, 97160, 97161, 97165, 97169, 97170, 97172, 97175, 97177, 97180, 97182, 97183, 97185, 97187, 97191, 97192, 97194, 97199, 97202, 97204, 97205, 97206, 97208, 97209, 97213, 97216, 97218, 97222, 97223, 97225, 97227, 97228, 97229, 97231, 97235, 97236, 97237, 97240, 97241, 97242, 97243, 97246, 97247, 97252, 97253, 97254, 97263, 97265, 97268, 97270, 97272, 97275, 97278, 97282, 97283, 97284, 97285, 97286, 97290, 97291, 97293, 97296, 97299, 97300, 97302, 97303, 97305, 97306, 97308, 97309, 97310, 97311, 97316, 97317, 97319, 97320, 97322, 97323, 97325, 97327, 97329, 97330, 97332, 97333, 97334, 97338, 97339, 97340, 97342, 97349, 97350, 97351, 97352, 97354, 97355, 97356, 97357, 97360, 97361, 97362, 97364, 97365, 97366, 97368, 97369, 97371, 97373, 97375, 97376, 97377, 97382, 97383, 97384, 97387, 97388, 97389, 97390, 97392, 97393, 97394, 97395, 97400, 97401, 97402, 97403, 97404, 97407, 97410, 97411, 97412, 97413, 97414, 97415, 97417, 97419, 97420, 97421, 97422, 97425, 97427, 97430, 97433, 97437, 97439, 97440, 97441, 97442, 97443, 97445, 97447, 97448, 97449, 97452, 97453, 97458, 97459, 97460, 97461, 97465, 97466, 97467, 97468, 97470, 97472, 97473, 97479, 97480, 97483, 97484, 97486, 97487, 97490, 97496, 97497, 97498, 97499, 97500, 97502, 97505, 97506, 97508, 97509, 97510, 97511, 97513, 97515, 97516, 97517, 97518, 97519, 97520, 97521, 97523, 97524, 97525, 97527, 97528, 97529, 97531, 97532, 97533, 97535, 97538, 97539, 97541, 97543, 97544, 97546, 97547, 97549, 97556, 97561, 97562, 97563, 97564, 97571, 97572, 97574, 97575, 97576, 97578, 97579, 97580, 97581, 97583, 97584, 97586, 97587, 97589, 97590, 97592, 97593, 97594, 97595, 97596, 97603, 97606, 97608, 97609, 97611, 97613, 97614, 97615, 97617, 97618, 97620, 97622, 97623, 97625, 97630, 97631, 97632, 97636, 97637, 97639, 97640, 97644, 97645, 97646, 97647, 97650, 97651, 97652, 97654, 97657, 97658, 97660, 97664, 97665, 97666, 97667, 97668, 97673, 97676, 97680, 97681, 97684, 97685, 97687, 97689, 97690, 97692, 97693, 97694, 97696, 97697, 97698, 97699, 97700, 97701, 97702, 97704, 97705, 97706, 97707, 97710, 97711, 97713, 97718, 97722, 97727, 97728, 97730, 97731, 97732, 97734, 97735, 97736, 97739, 97740, 97745, 97747, 97748, 97752, 97756, 97757, 97758, 97759, 97763, 97764, 97766, 97767, 97771, 97773, 97775, 97778, 97779, 97781, 97783, 97789, 97790, 97791, 97795, 97796, 97801, 97805, 97807, 97808, 97809, 97810, 97811, 97812, 97813, 97814, 97817, 97818, 97819, 97821, 97822, 97823, 97824, 97825, 97826, 97827, 97830, 97831, 97832, 97834, 97841, 97842, 97846, 97847, 97850, 97851, 97854, 97855, 97857, 97858, 97860, 97864, 97865, 97866, 97867, 97868, 97872, 97873, 97876, 97877, 97880, 97883, 97887, 97888, 97890, 97895, 97896, 97898, 97901, 97903, 97904, 97905, 97906, 97911, 97913, 97916, 97917, 97919, 97922, 97923, 97930, 97931, 97932, 97933, 97934, 97936, 97937, 97938, 97939, 97942, 97943, 97944, 97945, 97948, 97950, 97951, 97952, 97953, 97954, 97955, 97957, 97958, 97960, 97961, 97964, 97966, 97967, 97968, 97969, 97974, 97975, 97976, 97977, 97978, 97979, 97980, 97982, 97983, 97984, 97987, 97988, 97989, 97990, 97992, 97995, 97996, 97998, 98001, 98003, 98008, 98013, 98014, 98017, 98020, 98021, 98022, 98023, 98024, 98025, 98029, 98031, 98033, 98035, 98037, 98038, 98039, 98041, 98045, 98048, 98050, 98054, 98055, 98056, 98058, 98060, 98061, 98063, 98066, 98067, 98068, 98069, 98072, 98073, 98074, 98076, 98078, 98082, 98083, 98085, 98090, 98093, 98094, 98095, 98096, 98099, 98101, 98105, 98106, 98107, 98110, 98116, 98118, 98120, 98122, 98124, 98125, 98126, 98127, 98128, 98129, 98130, 98132, 98133, 98137, 98139, 98141, 98142, 98143, 98144, 98145, 98147, 98148, 98151, 98152, 98153, 98156, 98160, 98162, 98165, 98169, 98170, 98171, 98174, 98175, 98176, 98177, 98181, 98182, 98183, 98186, 98187, 98188, 98190, 98191, 98195, 98196, 98197, 98202, 98205, 98206, 98207, 98208, 98209, 98210, 98211, 98212, 98214, 98216, 98218, 98223, 98224, 98225, 98227, 98228, 98229, 98230, 98231, 98232, 98233, 98234, 98236, 98237, 98238, 98240, 98243, 98244, 98245, 98248, 98250, 98252, 98254, 98256, 98257, 98258, 98259, 98260, 98264, 98265, 98266, 98272, 98274, 98276, 98277, 98278, 98280, 98281, 98282, 98284, 98285, 98287, 98288, 98293, 98294, 98295, 98297, 98298, 98300, 98302, 98304, 98306, 98307, 98308, 98312, 98313, 98316, 98317, 98322, 98324, 98326, 98330, 98331, 98334, 98335, 98336, 98342, 98343, 98344, 98347, 98348, 98350, 98353, 98357, 98358, 98360, 98362, 98363, 98364, 98365, 98367, 98368, 98370, 98372, 98373, 98375, 98377, 98379, 98381, 98382, 98383, 98384, 98388, 98389, 98390, 98391, 98392, 98393, 98395, 98397, 98399, 98400, 98401, 98403, 98407, 98408, 98410, 98411, 98412, 98413, 98414, 98416, 98418, 98420, 98421, 98428, 98429, 98430, 98431, 98434, 98435, 98437, 98438, 98439, 98440, 98441, 98442, 98443]\n"
     ]
    }
   ],
   "source": [
    "more_than_15_df_idx = list(more_than_15_df[more_than_15_df].index)\n",
    "print(more_than_15_df_idx)"
   ]
  },
  {
   "cell_type": "code",
   "execution_count": 378,
   "id": "51ede89c",
   "metadata": {},
   "outputs": [
    {
     "data": {
      "text/html": [
       "<div>\n",
       "<style scoped>\n",
       "    .dataframe tbody tr th:only-of-type {\n",
       "        vertical-align: middle;\n",
       "    }\n",
       "\n",
       "    .dataframe tbody tr th {\n",
       "        vertical-align: top;\n",
       "    }\n",
       "\n",
       "    .dataframe thead th {\n",
       "        text-align: right;\n",
       "    }\n",
       "</style>\n",
       "<table border=\"1\" class=\"dataframe\">\n",
       "  <thead>\n",
       "    <tr style=\"text-align: right;\">\n",
       "      <th></th>\n",
       "      <th>idx</th>\n",
       "      <th>class</th>\n",
       "      <th>conversation</th>\n",
       "      <th>types</th>\n",
       "      <th>intensity</th>\n",
       "      <th>is_immoral</th>\n",
       "    </tr>\n",
       "  </thead>\n",
       "  <tbody>\n",
       "    <tr>\n",
       "      <th>0</th>\n",
       "      <td>0</td>\n",
       "      <td>위협대화</td>\n",
       "      <td>형광색 바지 입는 급식들 왜 이렇게 많아?\\nㅈ같은 유행 돌았나보네ㅋㅋ\\n형광 바지...</td>\n",
       "      <td>IMMORAL_NONE\\nABUSE\\nVIOLENCE</td>\n",
       "      <td>[0, 1.6, 1.8]</td>\n",
       "      <td>[False, True, True]</td>\n",
       "    </tr>\n",
       "    <tr>\n",
       "      <th>1</th>\n",
       "      <td>1</td>\n",
       "      <td>위협대화</td>\n",
       "      <td>자기 몸 긍정 운동가들이라고 하면서 꼴값 떠는 한녀들을 죽여 버리고 싶다.\\n자기 ...</td>\n",
       "      <td>HATE\\nVIOLENCE\\nIMMORAL_NONE\\nIMMORAL_NONE\\nIM...</td>\n",
       "      <td>[1.6, 0, 0, 0, 0]</td>\n",
       "      <td>[True, False, False, False, False]</td>\n",
       "    </tr>\n",
       "    <tr>\n",
       "      <th>5</th>\n",
       "      <td>5</td>\n",
       "      <td>위협대화</td>\n",
       "      <td>#@#들은 3.6cm이라 #@#해도 느낌도 안난다더라 ㅋㅋ\\n니가 만나봤어??먼 말...</td>\n",
       "      <td>CENSURE\\nSEXUAL\\nIMMORAL_NONE\\nIMMORAL_NONE</td>\n",
       "      <td>[1.6, 0, 0]</td>\n",
       "      <td>[True, False, False]</td>\n",
       "    </tr>\n",
       "    <tr>\n",
       "      <th>9</th>\n",
       "      <td>9</td>\n",
       "      <td>위협대화</td>\n",
       "      <td>#@# 주변 지나갈 일이 있었는데, 클럽 앞에 사람들 엄청 바글바글하더라\\n저 노는...</td>\n",
       "      <td>IMMORAL_NONE\\nCENSURE\\nHATE\\nCENSURE\\nVIOLENCE</td>\n",
       "      <td>[0, 1.8, 2.4]</td>\n",
       "      <td>[False, True, True]</td>\n",
       "    </tr>\n",
       "    <tr>\n",
       "      <th>10</th>\n",
       "      <td>10</td>\n",
       "      <td>위협대화</td>\n",
       "      <td>쟤네 결혼 앞두고 헤어졌다며?\\n그렇대 남자가 찌질하게 반반결혼 요구했나 봐\\n어휴...</td>\n",
       "      <td>IMMORAL_NONE\\nDISCRIMINATION\\nCENSURE\\nHATE\\nC...</td>\n",
       "      <td>[0, 1.6, 1.8]</td>\n",
       "      <td>[False, True, True]</td>\n",
       "    </tr>\n",
       "    <tr>\n",
       "      <th>...</th>\n",
       "      <td>...</td>\n",
       "      <td>...</td>\n",
       "      <td>...</td>\n",
       "      <td>...</td>\n",
       "      <td>...</td>\n",
       "      <td>...</td>\n",
       "    </tr>\n",
       "    <tr>\n",
       "      <th>98439</th>\n",
       "      <td>98439</td>\n",
       "      <td>위협대화</td>\n",
       "      <td>설거지는 딸래미들이 해라\\n오빠들은 내가 전 부칠때부터 아무것도 안했는데?\\n너희는...</td>\n",
       "      <td>DISCRIMINATION\\nIMMORAL_NONE\\nDISCRIMINATION</td>\n",
       "      <td>[1.4, 0, 1.6]</td>\n",
       "      <td>[True, False, True]</td>\n",
       "    </tr>\n",
       "    <tr>\n",
       "      <th>98440</th>\n",
       "      <td>98440</td>\n",
       "      <td>위협대화</td>\n",
       "      <td>울 학교 선배들 벌써부터 군기 잡더라\\n머가리 곡괭이로 요단강 내버리고 싶겠네ㅋㅋ\\...</td>\n",
       "      <td>IMMORAL_NONE\\nVIOLENCE\\nVIOLENCE</td>\n",
       "      <td>[0, 1.8, 1.8]</td>\n",
       "      <td>[False, True, True]</td>\n",
       "    </tr>\n",
       "    <tr>\n",
       "      <th>98441</th>\n",
       "      <td>98441</td>\n",
       "      <td>위협대화</td>\n",
       "      <td>월급 들어오기까지 한참 남았는데 돈 나갈 일이 너무 많네\\n너 여자니까 몸이 상품이...</td>\n",
       "      <td>IMMORAL_NONE\\nDISCRIMINATION\\nHATE\\nCENSURE\\nS...</td>\n",
       "      <td>[0, 1.8, 1.8]</td>\n",
       "      <td>[False, True, True]</td>\n",
       "    </tr>\n",
       "    <tr>\n",
       "      <th>98442</th>\n",
       "      <td>98442</td>\n",
       "      <td>위협대화</td>\n",
       "      <td>쟤 아버지가 도박 중독자라며?\\n맞아 조만간 빚더미에 앉을걸?\\n도박하는 사람들이랑...</td>\n",
       "      <td>CENSURE\\nCENSURE\\nIMMORAL_NONE\\nDISCRIMINATION...</td>\n",
       "      <td>[1.6, 1.4, 0, 1.6, 1.4]</td>\n",
       "      <td>[True, True, False, True, True]</td>\n",
       "    </tr>\n",
       "    <tr>\n",
       "      <th>98443</th>\n",
       "      <td>98443</td>\n",
       "      <td>위협대화</td>\n",
       "      <td>너 여자친구랑 동거해?\\n응응 동거하지\\n진짜 징하게 먹겠네</td>\n",
       "      <td>IMMORAL_NONE\\nIMMORAL_NONE\\nSEXUAL</td>\n",
       "      <td>[0, 0, 1.8]</td>\n",
       "      <td>[False, False, True]</td>\n",
       "    </tr>\n",
       "  </tbody>\n",
       "</table>\n",
       "<p>53220 rows × 6 columns</p>\n",
       "</div>"
      ],
      "text/plain": [
       "         idx class                                       conversation  \\\n",
       "0          0  위협대화  형광색 바지 입는 급식들 왜 이렇게 많아?\\nㅈ같은 유행 돌았나보네ㅋㅋ\\n형광 바지...   \n",
       "1          1  위협대화  자기 몸 긍정 운동가들이라고 하면서 꼴값 떠는 한녀들을 죽여 버리고 싶다.\\n자기 ...   \n",
       "5          5  위협대화  #@#들은 3.6cm이라 #@#해도 느낌도 안난다더라 ㅋㅋ\\n니가 만나봤어??먼 말...   \n",
       "9          9  위협대화  #@# 주변 지나갈 일이 있었는데, 클럽 앞에 사람들 엄청 바글바글하더라\\n저 노는...   \n",
       "10        10  위협대화  쟤네 결혼 앞두고 헤어졌다며?\\n그렇대 남자가 찌질하게 반반결혼 요구했나 봐\\n어휴...   \n",
       "...      ...   ...                                                ...   \n",
       "98439  98439  위협대화  설거지는 딸래미들이 해라\\n오빠들은 내가 전 부칠때부터 아무것도 안했는데?\\n너희는...   \n",
       "98440  98440  위협대화  울 학교 선배들 벌써부터 군기 잡더라\\n머가리 곡괭이로 요단강 내버리고 싶겠네ㅋㅋ\\...   \n",
       "98441  98441  위협대화  월급 들어오기까지 한참 남았는데 돈 나갈 일이 너무 많네\\n너 여자니까 몸이 상품이...   \n",
       "98442  98442  위협대화  쟤 아버지가 도박 중독자라며?\\n맞아 조만간 빚더미에 앉을걸?\\n도박하는 사람들이랑...   \n",
       "98443  98443  위협대화                  너 여자친구랑 동거해?\\n응응 동거하지\\n진짜 징하게 먹겠네   \n",
       "\n",
       "                                                   types  \\\n",
       "0                          IMMORAL_NONE\\nABUSE\\nVIOLENCE   \n",
       "1      HATE\\nVIOLENCE\\nIMMORAL_NONE\\nIMMORAL_NONE\\nIM...   \n",
       "5            CENSURE\\nSEXUAL\\nIMMORAL_NONE\\nIMMORAL_NONE   \n",
       "9         IMMORAL_NONE\\nCENSURE\\nHATE\\nCENSURE\\nVIOLENCE   \n",
       "10     IMMORAL_NONE\\nDISCRIMINATION\\nCENSURE\\nHATE\\nC...   \n",
       "...                                                  ...   \n",
       "98439       DISCRIMINATION\\nIMMORAL_NONE\\nDISCRIMINATION   \n",
       "98440                   IMMORAL_NONE\\nVIOLENCE\\nVIOLENCE   \n",
       "98441  IMMORAL_NONE\\nDISCRIMINATION\\nHATE\\nCENSURE\\nS...   \n",
       "98442  CENSURE\\nCENSURE\\nIMMORAL_NONE\\nDISCRIMINATION...   \n",
       "98443                 IMMORAL_NONE\\nIMMORAL_NONE\\nSEXUAL   \n",
       "\n",
       "                     intensity                          is_immoral  \n",
       "0                [0, 1.6, 1.8]                 [False, True, True]  \n",
       "1            [1.6, 0, 0, 0, 0]  [True, False, False, False, False]  \n",
       "5                  [1.6, 0, 0]                [True, False, False]  \n",
       "9                [0, 1.8, 2.4]                 [False, True, True]  \n",
       "10               [0, 1.6, 1.8]                 [False, True, True]  \n",
       "...                        ...                                 ...  \n",
       "98439            [1.4, 0, 1.6]                 [True, False, True]  \n",
       "98440            [0, 1.8, 1.8]                 [False, True, True]  \n",
       "98441            [0, 1.8, 1.8]                 [False, True, True]  \n",
       "98442  [1.6, 1.4, 0, 1.6, 1.4]     [True, True, False, True, True]  \n",
       "98443              [0, 0, 1.8]                [False, False, True]  \n",
       "\n",
       "[53220 rows x 6 columns]"
      ]
     },
     "execution_count": 378,
     "metadata": {},
     "output_type": "execute_result"
    }
   ],
   "source": [
    "commit_df = try_df.iloc[more_than_15_df_idx]\n",
    "commit_df"
   ]
  },
  {
   "cell_type": "code",
   "execution_count": 379,
   "id": "3f607f79",
   "metadata": {},
   "outputs": [],
   "source": [
    "commit_df = commit_df[['class', 'conversation', 'types']]\n",
    "commit_df = commit_df.reset_index().reset_index()\n",
    "commit_df.drop(labels=\"index\", axis=1, inplace=True)\n",
    "commit_df.rename(columns={'level_0': 'idx'}, inplace=True)"
   ]
  },
  {
   "cell_type": "code",
   "execution_count": 381,
   "id": "5c35220e",
   "metadata": {},
   "outputs": [],
   "source": [
    "commit_df.to_csv(\"more_than_15_immoral.csv\", index=False)"
   ]
  },
  {
   "cell_type": "code",
   "execution_count": null,
   "id": "db26588a",
   "metadata": {},
   "outputs": [],
   "source": []
  },
  {
   "cell_type": "code",
   "execution_count": 397,
   "id": "2d3bd6b6",
   "metadata": {},
   "outputs": [],
   "source": [
    "def range_intensity(values):\n",
    "    return any([value >= 1.9 for value in values])"
   ]
  },
  {
   "cell_type": "code",
   "execution_count": 383,
   "id": "fc6b6fe1",
   "metadata": {},
   "outputs": [],
   "source": [
    "def range_df():\n",
    "    df = try_df['intensity'].apply(range_intensity)\n",
    "    df = list(df[df].index)\n",
    "    df = try_df.iloc[df]\n",
    "    df = df[['class', 'conversation', 'types']]\n",
    "    df = df.reset_index().reset_index()\n",
    "    df.drop(labels=\"index\", axis=1, inplace=True)\n",
    "    df.rename(columns={'level_0': 'idx'}, inplace=True)\n",
    "    return df"
   ]
  },
  {
   "cell_type": "code",
   "execution_count": 398,
   "id": "9d88832f",
   "metadata": {},
   "outputs": [],
   "source": [
    "df_19 = range_df()"
   ]
  },
  {
   "cell_type": "code",
   "execution_count": 390,
   "id": "2ee1192a",
   "metadata": {},
   "outputs": [],
   "source": [
    "df_16.to_csv(\"more_than_16_immoral.csv\", index=False)"
   ]
  },
  {
   "cell_type": "code",
   "execution_count": 393,
   "id": "8a9afbc1",
   "metadata": {},
   "outputs": [],
   "source": [
    "df_17.to_csv(\"more_than_17_immoral.csv\", index=False)"
   ]
  },
  {
   "cell_type": "code",
   "execution_count": 396,
   "id": "0a087cd6",
   "metadata": {},
   "outputs": [],
   "source": [
    "df_18.to_csv(\"more_than_18_immoral.csv\", index=False)"
   ]
  },
  {
   "cell_type": "code",
   "execution_count": 399,
   "id": "533f55e5",
   "metadata": {},
   "outputs": [],
   "source": [
    "df_19.to_csv(\"more_than_19_immoral.csv\", index=False)"
   ]
  },
  {
   "cell_type": "code",
   "execution_count": 404,
   "id": "536ea6ae",
   "metadata": {},
   "outputs": [
    {
     "data": {
      "text/plain": [
       "(53220, 53220, 31840, 31840, 14305, 14305)"
      ]
     },
     "execution_count": 404,
     "metadata": {},
     "output_type": "execute_result"
    }
   ],
   "source": [
    "len(commit_df), len(df_16), len(df_17), len(df_18), len(df_19), len(commit_dfs)"
   ]
  },
  {
   "cell_type": "code",
   "execution_count": null,
   "id": "308ce931",
   "metadata": {},
   "outputs": [],
   "source": []
  },
  {
   "cell_type": "code",
   "execution_count": 406,
   "id": "e22ab18f",
   "metadata": {},
   "outputs": [],
   "source": [
    "try_df.to_csv(\"immoral(entire).csv\", index=False)"
   ]
  },
  {
   "cell_type": "code",
   "execution_count": null,
   "id": "f9022fb2",
   "metadata": {},
   "outputs": [],
   "source": []
  }
 ],
 "metadata": {
  "kernelspec": {
   "display_name": "Python 3 (ipykernel)",
   "language": "python",
   "name": "python3"
  },
  "language_info": {
   "codemirror_mode": {
    "name": "ipython",
    "version": 3
   },
   "file_extension": ".py",
   "mimetype": "text/x-python",
   "name": "python",
   "nbconvert_exporter": "python",
   "pygments_lexer": "ipython3",
   "version": "3.9.7"
  }
 },
 "nbformat": 4,
 "nbformat_minor": 5
}
