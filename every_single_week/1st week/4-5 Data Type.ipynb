{
 "cells": [
  {
   "cell_type": "code",
   "execution_count": 42,
   "id": "8df2ccb9",
   "metadata": {},
   "outputs": [
    {
     "name": "stdout",
     "output_type": "stream",
     "text": [
      "[1, 2, 3]\n",
      "['AIFFEl', '화이팅']\n",
      "[1, 2, 'AIFFEl', '화이팅']\n",
      "[1, 2, ['AIFFEl', '화이팅']]\n",
      "[]\n",
      "[]\n",
      "4\n",
      "5\n",
      "f = [['a', 'b', 'c']]\n",
      "e : ['1']\n",
      "f + e =[['a', 'b', 'c'], '1']\n",
      "['a', 'b', 8, 5]\n",
      "[5]\n"
     ]
    }
   ],
   "source": [
    "#list 안에는 어떠한 자료형도 포함 가능\n",
    "a = [1, 2, 3]\n",
    "b = [\"AIFFEl\", \"화이팅\"]\n",
    "c = [1, 2, \"AIFFEl\", \"화이팅\"]\n",
    "d = [1, 2, [\"AIFFEl\", \"화이팅\"]]\n",
    "print(a, b, c, d, sep = \"\\n\")\n",
    "\n",
    "#비어있는 list 생성\n",
    "e = []\n",
    "print(e)\n",
    "\n",
    "#list() 함수를 사용해서 빈 리스트 만들 수 있다.\n",
    "f = list()\n",
    "print(f)\n",
    "\n",
    "#문자열과 동일하게 인덱싱\n",
    "g = [1, 2, 3, 4, 5]\n",
    "print(g[3], g[-1], sep = \"\\n\")\n",
    "\n",
    "# 리스트 사이의 + 연산자는 리스트를 합친다.\n",
    "# g = f.append(1) -> 새로운 식별자에 넣을 수 없다.\n",
    "#또한 append, extend 한개만 추가 가능 list 사용시 다양하게 가능\n",
    "#e.extend('1') -> 문자열만 추가 가능\n",
    "#f.append(['a', 'b', 'c']) ->  f = [['a', 'b', 'c']] 중첩 list\n",
    "f.append(1)\n",
    "e.extend(['a', 'b', 'c'])\n",
    "print(\"f = {}\\ne : {}\\nf + e ={}\".format(f, e, f + e))\n",
    "\n",
    "\n",
    "#list의 요소는 수정(교체) 가능\n",
    "g = ['a', 'b', 8, 'd']\n",
    "g[3] = 5\n",
    "print(g)\n",
    "\n",
    "\n",
    "#예약어 del(ete)로 요소 삭제 가능\n",
    "del g[:-2 + 1]\n",
    "print(g)"
   ]
  },
  {
   "cell_type": "code",
   "execution_count": 47,
   "id": "fe7d5d4e",
   "metadata": {},
   "outputs": [
    {
     "name": "stdout",
     "output_type": "stream",
     "text": [
      "[5, 3, 2, 'the']\n",
      "[5, 3, 2, 'the', ['east', 'eggs', 5]]\n",
      "[['east', 'eggs', 5], 'the', 2, 3, 5]\n",
      "[['east', 'eggs', 5], 'the', 2, 3, 5]\n",
      "[['east', 'eggs', 5], 'better', 'the', 2, 3, 5]\n",
      "remove 썼당\n",
      "[['east', 'eggs', 5], 'better', 'the', 2, 3]\n",
      "pop 썼당:\n",
      "[['east', 'eggs', 5], 'better', 'the', 2]\n",
      "[['east', 'eggs', 5], 'better', 'the', 2]\n",
      "[['east', 'eggs', 5], 'better', 'the', 2, 5, 't', 'h', 'e']\n",
      "h +=i 했당\n",
      "[['east', 'eggs', 5], 'better', 'the', 2, 5, 't', 'h', 'e', 5, 6, 7]\n"
     ]
    }
   ],
   "source": [
    "#list 맨 마지막에 요소 추가 = append()\n",
    "h = [5, 3, 2]\n",
    "h.append(\"the\")\n",
    "print(h)\n",
    "h.append([\"east\", \"eggs\", 5])\n",
    "print(h)\n",
    "#append()함수에는 1개의 argument만 받는다.\n",
    "\n",
    "#정렬 sort()  ==  str & int 같이 적용 안된다. ㅠㅠ 사요나라....\n",
    "\n",
    "\n",
    "#뒤집기 reverse()\n",
    "h.reverse()\n",
    "print(h)\n",
    "\n",
    "# 위치 반환 index()\n",
    "#중복 일때는 해당 갯수 만큼 반환\n",
    "#없는 요소 입력시 error\n",
    "h.index(\"the\")\n",
    "print(h)\n",
    "\n",
    "\n",
    "#요소 삽입 insert(,) 1번째에 better 생성, index의 숫자가 크면 맨 뒤에 적용.\n",
    "h.insert(1, \"better\")\n",
    "print(h)\n",
    "\n",
    "#요소 제거 remove()\n",
    "#중복일 때도 왼쪽 정렬 기준으로 처음 발견 된 것만 제거\n",
    "h.remove(5)\n",
    "print(\"remove 썼당\\n{}\".format(h))\n",
    "\n",
    "#요소 끄집어 내기 pop() 맨 마지막 요소 반환 및 그 요소 삭제 -> 단독으로 사용해야 할 듯..\n",
    "h.pop()\n",
    "print(\"pop 썼당:\\n{}\".format(h))\n",
    "\n",
    "#특정 개수 세기 count() 해당 갯수 만큼 반환 -> 따로 단독으로 써야 할 듯...\n",
    "h.count(\"the\")\n",
    "print(h)\n",
    "\n",
    "#list 확장 extend()\n",
    "h.extend([5,'t', 'h', 'e'])\n",
    "print(h)\n",
    "\n",
    "#h.extend(i) ==  h += i\n",
    "i = [5, 6, 7]\n",
    "\n",
    "h += i\n",
    "print(\"h +=i 했당\\n{}\".format(h))"
   ]
  },
  {
   "cell_type": "code",
   "execution_count": 53,
   "id": "83db0ca3",
   "metadata": {},
   "outputs": [
    {
     "name": "stdout",
     "output_type": "stream",
     "text": [
      "(5, 4, 3, 2, 1)\n",
      "(1, 2, 3, 4, 5, '배', '고', '파')\n",
      "('배', '고', '파', '배', '고', '파')\n"
     ]
    }
   ],
   "source": [
    "#튜플_tuple\n",
    "#tuple 요소를 인덱싱 & 슬라이싱 가능\n",
    "j = 1, 2, 3, 4, 5\n",
    "print(j[::-1])\n",
    "\n",
    "k = \"배\", \"고\", \"파\"\n",
    "print(j + k)\n",
    "\n",
    "#사칙연산 밖에 가능 + - / *\n",
    "print(k * 2)\n",
    "\n",
    "#변경 및 삭제 불가능\n",
    "\n",
    "#튜플의 내부 구조가 단순한 만큼 더 적은 메모리를 사용하고 읽는 속도도 빠릅니다.\n",
    "#편집할 수 없기 때문에 안정적입니다."
   ]
  },
  {
   "cell_type": "code",
   "execution_count": 12,
   "id": "3662b198",
   "metadata": {},
   "outputs": [
    {
     "name": "stdout",
     "output_type": "stream",
     "text": [
      "{'apple': '꿀사과', 'orange': '오렌지', 'melon': '멜론', 'num': 8, 'num_2': 8}\n",
      "{'apple': '꿀사과', 'orange': '오렌지', 'melon': '멜론', 'num': 8, 'num_2': 8, 3: 35}\n",
      "{'apple': '꿀사과', 'orange': '오렌지', 'melon': '멜론', 'num': 8, 'num_2': 8, 3: 35, 'list': [1, 3, 5]}\n",
      "key 값 apple 삭제 \n",
      "{'orange': '오렌지', 'melon': '멜론', 'num': 8, 'num_2': 8, 3: 35, 'list': [1, 3, 5]}\n",
      "key 값 value 수정 \n",
      "{'orange': '오렌지', 'melon': '멜론', 'num': 8, 'num_2': 8, 3: 35, 'list': [20, 300, 500]}\n",
      "오렌지\n",
      "오렌지\n"
     ]
    }
   ],
   "source": [
    "#{key} : value, {key} : value, ...\n",
    "#순서가 달라도 동일한 딕션너리dictionary\n",
    "#중복되는 key가 있을 경우 마지막에 key에 해당하는 value로 변경.\n",
    "l = {'apple' : '사과', 'orange' : '오렌지', 'melon': '멜론', \\\n",
    "    'num' : 8, 'apple' : '꿀사과', 'num_2': 8}\n",
    "print(l)\n",
    "#새로운 key 값으로 기존 딕션너리에 추가.\n",
    "l[3] = 35\n",
    "print(l)\n",
    "#value에 리스트도 할당 가능.\n",
    "l['list'] = [1, 3, 5]\n",
    "print(l)\n",
    "#예약어 del로 요소 삭제\n",
    "del l['apple']\n",
    "print(\"key 값 apple 삭제 \\n{}\".format(l))\n",
    "#Value 수정\n",
    "l['list'] = [20, 300, 500]\n",
    "print(\"key 값 value 수정 \\n{}\".format(l))\n",
    "#key 값을 통해서 value 값 확인 가능.!!! get()으로도 확인 가능!!!\n",
    "print(l['orange'])\n",
    "print(l.get('orange'))\n",
    "#list, tuple 처럼 인덱싱 불가."
   ]
  },
  {
   "cell_type": "code",
   "execution_count": 10,
   "id": "28d35f63",
   "metadata": {
    "scrolled": true
   },
   "outputs": [
    {
     "name": "stdout",
     "output_type": "stream",
     "text": [
      "dict_keys(['orange', 'melon', 'num', 'num_2', 3, 'list'])\n",
      "<built-in method values of dict object at 0x7f33183a9fc0>\n",
      "dict_items([('orange', '오렌지'), ('melon', '멜론'), ('num', 8), ('num_2', 8), (3, 35), ('list', [20, 300, 500])])\n",
      "None\n"
     ]
    }
   ],
   "source": [
    "#keys()로 딕션너리에 있는 keys 값들 다 출력\n",
    "print(l.keys())\n",
    "\n",
    "#values()로 딕션너리에 있는 values 값들 다 출력\n",
    "print(l.values)\n",
    "\n",
    "#items()로 딕셔너리에 있는 keys & values 값 다 출력\n",
    "print(l.items())\n",
    "\n",
    "#clear()로 keys & values 값 다 삭제.\n",
    "print(l.clear())"
   ]
  },
  {
   "cell_type": "code",
   "execution_count": 18,
   "id": "b51cbbfc",
   "metadata": {},
   "outputs": [
    {
     "name": "stdout",
     "output_type": "stream",
     "text": [
      "True\n",
      "False\n"
     ]
    }
   ],
   "source": [
    "m = {'name' : '규봉이', 'breed' : '진돗개', 'colour' : 'brown'}\n",
    "\n",
    "# 참 인지 거짓인지 확인\n",
    "print('name' in m)\n",
    "# Key 값만 확인 가능.\n",
    "print('규봉이' in m)"
   ]
  },
  {
   "cell_type": "markdown",
   "id": "f1740b76",
   "metadata": {},
   "source": [
    "## 집합(set)"
   ]
  },
  {
   "cell_type": "code",
   "execution_count": 22,
   "id": "f87b7c3a",
   "metadata": {},
   "outputs": [
    {
     "name": "stdout",
     "output_type": "stream",
     "text": [
      "{'china', 'korea', 'japan'}\n",
      "set()\n",
      "<class 'set'>\n",
      "{}\n",
      "<class 'dict'>\n",
      "Hi, my dears의 결과 값 \n",
      "{'e', 'y', 'r', ',', 'm', 'i', 'H', 'a', ' ', 's', 'd'}\n",
      "{3, 4, 5}\n",
      "<class 'set'>\n",
      "{1, 2, 3}\n",
      "<class 'set'>\n",
      "{'colour', 'breed', 'name'}\n",
      "<class 'set'>\n"
     ]
    }
   ],
   "source": [
    "#{}사용. value 값 넣기. 중복은 X. 중복 제거를 위한 필터 역할로 사용.\n",
    "asia = {'korea', 'japan', 'china', 'korea'}\n",
    "print(asia)\n",
    "\n",
    "#set()으로  빈 집합 만들 수 있다.\n",
    "n = set()\n",
    "print(n)\n",
    "print(type(n))\n",
    "\n",
    "# {}로 만들면 빈 딕셔너리와 혼동할 수 있다.\n",
    "o = {}\n",
    "print(o)\n",
    "print(type(o))\n",
    "\n",
    "#set()로 문자열 넣기.\n",
    "n = set('Hi, my dears')\n",
    "print(\"Hi, my dears의 결과 값 \\n{}\".format(n))\n",
    "\n",
    "#set() 중복이 안되나봐유 그리구 리스트로 넣으면 set 타입으로 호출\n",
    "n = set([5, 4, 3])\n",
    "print(n)\n",
    "print(type(n))\n",
    "\n",
    "#set() 튜플 넣기. 중복 안됨 씹힘. type.set 으로 호출\n",
    "n = set((1, 2, 3))\n",
    "print(n)\n",
    "print(type(n))\n",
    "\n",
    "#set()으로 dictionary . 역시나 중복 안됨. type.set으로 호출\n",
    "#key 값만 출력. value은 없다.\n",
    "n = set({'name' : '하늘' , 'breed' : '포메', 'colour' : 'white & brown'})\n",
    "print(n)\n",
    "print(type(n))"
   ]
  },
  {
   "cell_type": "markdown",
   "id": "74eca1c4",
   "metadata": {},
   "source": [
    "# unoion()       -> 합집합      -> | (shift + \\)\n",
    "# intersection() -> 교집합      -> &\n",
    "# difference()   -> 차집합      -> -\n",
    "# symmetric_difference()    -> 배타적 차집합 - >^\n",
    "#### a.(좌우)대칭적인"
   ]
  },
  {
   "cell_type": "code",
   "execution_count": 50,
   "id": "4f32c2ca",
   "metadata": {},
   "outputs": [
    {
     "name": "stdout",
     "output_type": "stream",
     "text": [
      "o : {2, 4, 6, 8, 10, 12, 14, 16}\n",
      "p : {9, 3, 12, 6}\n",
      "합집합\n",
      "{2, 3, 4, 6, 8, 9, 10, 12, 14, 16}\n",
      "{2, 3, 4, 6, 8, 9, 10, 12, 14, 16}\n",
      "교집합\n",
      "{12, 6}\n",
      "{12, 6}\n",
      "차집합\n",
      "{2, 4, 8, 10, 14, 16}\n",
      "{2, 4, 8, 10, 14, 16}\n",
      "배타적 차집합\n",
      "{2, 3, 4, 8, 9, 10, 14, 16}\n",
      "{2, 3, 4, 8, 9, 10, 14, 16}\n"
     ]
    }
   ],
   "source": [
    "o = {2, 4, 6, 8, 10, 12, 14 ,16}\n",
    "p = {3 ,6 ,9, 12}\n",
    "#p = {range(3, 15 + 1, 3)}\n",
    "#-> {range(3, 16, 3)} , type_set\n",
    "\n",
    "# z = range(3, 15 +1, 3)\n",
    "# ->range(3, 16, 3)\n",
    "print(\"o : {}\".format(o))\n",
    "print(\"p : {}\".format(p))\n",
    "print(\"합집합\")\n",
    "print(o|p)\n",
    "print(o.union(p))\n",
    "print(\"교집합\")\n",
    "print(o&p)\n",
    "print(o.intersection(p))\n",
    "print(\"차집합\")\n",
    "print(o-p)\n",
    "print(o.difference(p))\n",
    "print(\"배타적 차집합\")\n",
    "print(o^p)\n",
    "print(o.symmetric_difference(p))"
   ]
  },
  {
   "cell_type": "code",
   "execution_count": 3,
   "id": "d5e882e8",
   "metadata": {},
   "outputs": [
    {
     "name": "stdout",
     "output_type": "stream",
     "text": [
      "[3]\n",
      "[3, 6]\n",
      "[3, 6, 9]\n",
      "[3, 6, 9, 12]\n",
      "[3, 6, 9, 12, 15]\n"
     ]
    }
   ],
   "source": [
    "#한 줄로 격하게 출력시키고 싶다.\n",
    "\n",
    "zh = []\n",
    "\n",
    "for z in range(3, 15 +1, 3):\n",
    "    if z not in zh:\n",
    "        zh += [z]\n",
    "        print(zh)"
   ]
  },
  {
   "cell_type": "code",
   "execution_count": 57,
   "id": "a36f04bc",
   "metadata": {},
   "outputs": [
    {
     "name": "stdout",
     "output_type": "stream",
     "text": [
      "{'나나', 5, 6, 7, 9}\n",
      "{'나나', 5, 6, 7, 9, 8, '큐우'}\n",
      "{'나나', 5, 6, 9, 8, '큐우'}\n"
     ]
    }
   ],
   "source": [
    "#add() 한 개의 원소만\n",
    "# 숫자는 맨 뒤로, 문자는 맨 앞으로 배치\n",
    "q = {5, 6, 7}\n",
    "q.add('나나')\n",
    "q.add(9)\n",
    "print(q)\n",
    "\n",
    "#update() 여러 개 원소\n",
    "#뒤로 배치, 겹치는 숫자는 제외\n",
    "q.update({7, 8, '큐우'})\n",
    "print(q)\n",
    "\n",
    "#remove()\n",
    "q.remove(7)\n",
    "print(q)"
   ]
  },
  {
   "cell_type": "code",
   "execution_count": 64,
   "id": "e729930a",
   "metadata": {},
   "outputs": [
    {
     "name": "stdout",
     "output_type": "stream",
     "text": [
      "<class 'bool'> <class 'tuple'>\n",
      "True\n"
     ]
    },
    {
     "data": {
      "text/plain": [
       "False"
      ]
     },
     "execution_count": 64,
     "metadata": {},
     "output_type": "execute_result"
    }
   ],
   "source": [
    "r = True\n",
    "s = True, False\n",
    "print(type(r), type(s))\n",
    "\n",
    "t = 15\n",
    "u = 9\n",
    "print(t > u)\n",
    "\n",
    "#Flase  -> \"\"빈string, []빈list, ()빈tuple, {}빈dict, set()빈 집합, 0, 0.0, None\n",
    "bool(0.8)"
   ]
  },
  {
   "cell_type": "code",
   "execution_count": 71,
   "id": "3d2702ad",
   "metadata": {
    "scrolled": true
   },
   "outputs": [
    {
     "name": "stdout",
     "output_type": "stream",
     "text": [
      "modu [1, 3, 5] [2, 4, 6]\n",
      "7 5\n",
      "low\n",
      "True\n",
      "[2, 4, 6] [1, 3, 5]\n"
     ]
    }
   ],
   "source": [
    "#Variable 변수\n",
    "aiffel = 'modu'\n",
    "List_01 = [1, 3, 5]\n",
    "list_02 = [2, 4, 6]\n",
    "print(aiffel,\n",
    "      List_01, list_02)\n",
    "#첫 자리 숫자 불가능, 예약어[키워드] 사용 불가\n",
    "\n",
    "#튜플로도 사용 가능 (value 갯수만 맞춘다면)\n",
    "v, w, x, y = 9, 7, 6, 5\n",
    "print(w, y)\n",
    "\n",
    "#리스트 사용 가능\n",
    "[zz, yy] = [\"ha\", 'low']\n",
    "print(yy)\n",
    "\n",
    "#여러 개의 변수에 같은 값을 할당 가능\n",
    "xx = ww = True\n",
    "print(ww)\n",
    "\n",
    "#두 변수 값 바꿀 수 있다.\n",
    "List_01, list_02 = list_02, List_01\n",
    "print(List_01, list_02)"
   ]
  },
  {
   "cell_type": "code",
   "execution_count": 10,
   "id": "060e12a4",
   "metadata": {},
   "outputs": [
    {
     "name": "stdout",
     "output_type": "stream",
     "text": [
      "[1, 2, 3, 1, 2, 3]\n",
      "[1, 2, 3, 2]\n",
      "[1, 2, 3, 1, 2, 3, 1, 2, 3, 1, 2, 3, 1, 2, 3]\n"
     ]
    },
    {
     "ename": "TypeError",
     "evalue": "unsupported operand type(s) for ** or pow(): 'list' and 'int'",
     "output_type": "error",
     "traceback": [
      "\u001b[0;31m---------------------------------------------------------------------------\u001b[0m",
      "\u001b[0;31mTypeError\u001b[0m                                 Traceback (most recent call last)",
      "\u001b[0;32m/tmp/ipykernel_49/684339133.py\u001b[0m in \u001b[0;36m<module>\u001b[0;34m\u001b[0m\n\u001b[1;32m      6\u001b[0m \u001b[0ma\u001b[0m \u001b[0;34m=\u001b[0m \u001b[0ma\u001b[0m \u001b[0;34m*\u001b[0m \u001b[0;36m5\u001b[0m\u001b[0;34m\u001b[0m\u001b[0;34m\u001b[0m\u001b[0m\n\u001b[1;32m      7\u001b[0m \u001b[0mprint\u001b[0m\u001b[0;34m(\u001b[0m\u001b[0ma\u001b[0m\u001b[0;34m)\u001b[0m\u001b[0;34m\u001b[0m\u001b[0;34m\u001b[0m\u001b[0m\n\u001b[0;32m----> 8\u001b[0;31m \u001b[0md\u001b[0m \u001b[0;34m=\u001b[0m \u001b[0ma\u001b[0m \u001b[0;34m**\u001b[0m \u001b[0;36m2\u001b[0m\u001b[0;34m\u001b[0m\u001b[0;34m\u001b[0m\u001b[0m\n\u001b[0m\u001b[1;32m      9\u001b[0m \u001b[0mprint\u001b[0m\u001b[0;34m(\u001b[0m\u001b[0md\u001b[0m\u001b[0;34m)\u001b[0m\u001b[0;34m\u001b[0m\u001b[0;34m\u001b[0m\u001b[0m\n",
      "\u001b[0;31mTypeError\u001b[0m: unsupported operand type(s) for ** or pow(): 'list' and 'int'"
     ]
    }
   ],
   "source": [
    "a = [1, 2, 3]\n",
    "b = a * 2\n",
    "print(b)\n",
    "c = a + [2]\n",
    "print(c)\n",
    "a = a * 5\n",
    "print(a)\n"
   ]
  },
  {
   "cell_type": "code",
   "execution_count": null,
   "id": "9b280525",
   "metadata": {},
   "outputs": [],
   "source": []
  }
 ],
 "metadata": {
  "kernelspec": {
   "display_name": "Python 3 (ipykernel)",
   "language": "python",
   "name": "python3"
  },
  "language_info": {
   "codemirror_mode": {
    "name": "ipython",
    "version": 3
   },
   "file_extension": ".py",
   "mimetype": "text/x-python",
   "name": "python",
   "nbconvert_exporter": "python",
   "pygments_lexer": "ipython3",
   "version": "3.9.7"
  }
 },
 "nbformat": 4,
 "nbformat_minor": 5
}
