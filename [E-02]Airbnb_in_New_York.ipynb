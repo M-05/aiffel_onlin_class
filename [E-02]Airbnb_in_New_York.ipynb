{
 "cells": [
  {
   "cell_type": "markdown",
   "id": "4df57ba4",
   "metadata": {},
   "source": [
    "### Baseline\n",
    "library & data 불러오기\n",
    "  \n",
    "https://www.kaggle.com/datasets/dgomonov/new-york-city-airbnb-open-data/code?datasetId=268833&sortBy=voteCount"
   ]
  },
  {
   "cell_type": "code",
   "execution_count": 1,
   "id": "9a4e07e6",
   "metadata": {},
   "outputs": [],
   "source": [
    "import pandas as pd\n",
    "import os"
   ]
  },
  {
   "cell_type": "code",
   "execution_count": 2,
   "id": "ebbe81a7",
   "metadata": {},
   "outputs": [],
   "source": [
    "path = os.getenv(\"HOME\") + \"/data/\"\n",
    "\n",
    "tr = pd.read_csv( path +'train.csv')\n",
    "te = pd.read_csv( path +'test.csv')\n",
    "y_te = pd.read_csv( path + 'y_test.csv')"
   ]
  },
  {
   "cell_type": "markdown",
   "id": "63c13659",
   "metadata": {},
   "source": [
    "### EDA\n",
    "exploration data analysis 데이터 내부 살펴보기"
   ]
  },
  {
   "cell_type": "code",
   "execution_count": 3,
   "id": "a7939dfd",
   "metadata": {},
   "outputs": [
    {
     "data": {
      "text/html": [
       "<div>\n",
       "<style scoped>\n",
       "    .dataframe tbody tr th:only-of-type {\n",
       "        vertical-align: middle;\n",
       "    }\n",
       "\n",
       "    .dataframe tbody tr th {\n",
       "        vertical-align: top;\n",
       "    }\n",
       "\n",
       "    .dataframe thead th {\n",
       "        text-align: right;\n",
       "    }\n",
       "</style>\n",
       "<table border=\"1\" class=\"dataframe\">\n",
       "  <thead>\n",
       "    <tr style=\"text-align: right;\">\n",
       "      <th></th>\n",
       "      <th>id</th>\n",
       "      <th>name</th>\n",
       "      <th>host_id</th>\n",
       "      <th>host_name</th>\n",
       "      <th>neighbourhood_group</th>\n",
       "      <th>neighbourhood</th>\n",
       "      <th>latitude</th>\n",
       "      <th>longitude</th>\n",
       "      <th>room_type</th>\n",
       "      <th>price</th>\n",
       "      <th>minimum_nights</th>\n",
       "      <th>number_of_reviews</th>\n",
       "      <th>last_review</th>\n",
       "      <th>reviews_per_month</th>\n",
       "      <th>calculated_host_listings_count</th>\n",
       "      <th>availability_365</th>\n",
       "    </tr>\n",
       "  </thead>\n",
       "  <tbody>\n",
       "    <tr>\n",
       "      <th>0</th>\n",
       "      <td>14963583</td>\n",
       "      <td>Room in South Harlem near Central Park</td>\n",
       "      <td>94219511</td>\n",
       "      <td>Gilles</td>\n",
       "      <td>Manhattan</td>\n",
       "      <td>Harlem</td>\n",
       "      <td>40.80167</td>\n",
       "      <td>-73.95781</td>\n",
       "      <td>Private room</td>\n",
       "      <td>70</td>\n",
       "      <td>3</td>\n",
       "      <td>3</td>\n",
       "      <td>2019-01-01</td>\n",
       "      <td>0.09</td>\n",
       "      <td>2</td>\n",
       "      <td>0</td>\n",
       "    </tr>\n",
       "    <tr>\n",
       "      <th>1</th>\n",
       "      <td>9458704</td>\n",
       "      <td>Large 1BR Apartment, near Times Sq (2nd Floor)</td>\n",
       "      <td>49015331</td>\n",
       "      <td>Iradj</td>\n",
       "      <td>Manhattan</td>\n",
       "      <td>Hell's Kitchen</td>\n",
       "      <td>40.76037</td>\n",
       "      <td>-73.99016</td>\n",
       "      <td>Entire home/apt</td>\n",
       "      <td>240</td>\n",
       "      <td>2</td>\n",
       "      <td>64</td>\n",
       "      <td>2019-06-30</td>\n",
       "      <td>1.68</td>\n",
       "      <td>2</td>\n",
       "      <td>262</td>\n",
       "    </tr>\n",
       "    <tr>\n",
       "      <th>2</th>\n",
       "      <td>26871281</td>\n",
       "      <td>West Village Apartment</td>\n",
       "      <td>440022</td>\n",
       "      <td>Petter</td>\n",
       "      <td>Manhattan</td>\n",
       "      <td>West Village</td>\n",
       "      <td>40.73001</td>\n",
       "      <td>-74.00562</td>\n",
       "      <td>Entire home/apt</td>\n",
       "      <td>150</td>\n",
       "      <td>60</td>\n",
       "      <td>1</td>\n",
       "      <td>2019-02-07</td>\n",
       "      <td>0.20</td>\n",
       "      <td>1</td>\n",
       "      <td>0</td>\n",
       "    </tr>\n",
       "    <tr>\n",
       "      <th>3</th>\n",
       "      <td>698132</td>\n",
       "      <td>LARGE PRIVATE FLOOR IN BROOKLYN, NY</td>\n",
       "      <td>3577509</td>\n",
       "      <td>Eric</td>\n",
       "      <td>Brooklyn</td>\n",
       "      <td>Bedford-Stuyvesant</td>\n",
       "      <td>40.69128</td>\n",
       "      <td>-73.93653</td>\n",
       "      <td>Entire home/apt</td>\n",
       "      <td>85</td>\n",
       "      <td>4</td>\n",
       "      <td>239</td>\n",
       "      <td>2019-06-26</td>\n",
       "      <td>2.89</td>\n",
       "      <td>2</td>\n",
       "      <td>1</td>\n",
       "    </tr>\n",
       "    <tr>\n",
       "      <th>4</th>\n",
       "      <td>15783953</td>\n",
       "      <td>Sun-drenched apartment, 20 mins to Manhattan</td>\n",
       "      <td>12475280</td>\n",
       "      <td>George</td>\n",
       "      <td>Brooklyn</td>\n",
       "      <td>Bedford-Stuyvesant</td>\n",
       "      <td>40.68899</td>\n",
       "      <td>-73.95555</td>\n",
       "      <td>Private room</td>\n",
       "      <td>44</td>\n",
       "      <td>28</td>\n",
       "      <td>0</td>\n",
       "      <td>NaN</td>\n",
       "      <td>NaN</td>\n",
       "      <td>1</td>\n",
       "      <td>0</td>\n",
       "    </tr>\n",
       "  </tbody>\n",
       "</table>\n",
       "</div>"
      ],
      "text/plain": [
       "         id                                            name   host_id  \\\n",
       "0  14963583          Room in South Harlem near Central Park  94219511   \n",
       "1   9458704  Large 1BR Apartment, near Times Sq (2nd Floor)  49015331   \n",
       "2  26871281                          West Village Apartment    440022   \n",
       "3    698132             LARGE PRIVATE FLOOR IN BROOKLYN, NY   3577509   \n",
       "4  15783953    Sun-drenched apartment, 20 mins to Manhattan  12475280   \n",
       "\n",
       "  host_name neighbourhood_group       neighbourhood  latitude  longitude  \\\n",
       "0    Gilles           Manhattan              Harlem  40.80167  -73.95781   \n",
       "1     Iradj           Manhattan      Hell's Kitchen  40.76037  -73.99016   \n",
       "2    Petter           Manhattan        West Village  40.73001  -74.00562   \n",
       "3      Eric            Brooklyn  Bedford-Stuyvesant  40.69128  -73.93653   \n",
       "4    George            Brooklyn  Bedford-Stuyvesant  40.68899  -73.95555   \n",
       "\n",
       "         room_type  price  minimum_nights  number_of_reviews last_review  \\\n",
       "0     Private room     70               3                  3  2019-01-01   \n",
       "1  Entire home/apt    240               2                 64  2019-06-30   \n",
       "2  Entire home/apt    150              60                  1  2019-02-07   \n",
       "3  Entire home/apt     85               4                239  2019-06-26   \n",
       "4     Private room     44              28                  0         NaN   \n",
       "\n",
       "   reviews_per_month  calculated_host_listings_count  availability_365  \n",
       "0               0.09                               2                 0  \n",
       "1               1.68                               2               262  \n",
       "2               0.20                               1                 0  \n",
       "3               2.89                               2                 1  \n",
       "4                NaN                               1                 0  "
      ]
     },
     "execution_count": 3,
     "metadata": {},
     "output_type": "execute_result"
    }
   ],
   "source": [
    "tr.head()"
   ]
  },
  {
   "cell_type": "code",
   "execution_count": 4,
   "id": "44ac9489",
   "metadata": {},
   "outputs": [
    {
     "name": "stdout",
     "output_type": "stream",
     "text": [
      "<class 'pandas.core.frame.DataFrame'>\n",
      "RangeIndex: 39116 entries, 0 to 39115\n",
      "Data columns (total 16 columns):\n",
      " #   Column                          Non-Null Count  Dtype  \n",
      "---  ------                          --------------  -----  \n",
      " 0   id                              39116 non-null  int64  \n",
      " 1   name                            39104 non-null  object \n",
      " 2   host_id                         39116 non-null  int64  \n",
      " 3   host_name                       39099 non-null  object \n",
      " 4   neighbourhood_group             39116 non-null  object \n",
      " 5   neighbourhood                   39116 non-null  object \n",
      " 6   latitude                        39116 non-null  float64\n",
      " 7   longitude                       39116 non-null  float64\n",
      " 8   room_type                       39116 non-null  object \n",
      " 9   price                           39116 non-null  int64  \n",
      " 10  minimum_nights                  39116 non-null  int64  \n",
      " 11  number_of_reviews               39116 non-null  int64  \n",
      " 12  last_review                     31122 non-null  object \n",
      " 13  reviews_per_month               31122 non-null  float64\n",
      " 14  calculated_host_listings_count  39116 non-null  int64  \n",
      " 15  availability_365                39116 non-null  int64  \n",
      "dtypes: float64(3), int64(7), object(6)\n",
      "memory usage: 4.8+ MB\n"
     ]
    }
   ],
   "source": [
    "tr.info()"
   ]
  },
  {
   "cell_type": "markdown",
   "id": "2f499ba3",
   "metadata": {},
   "source": [
    "### Pandas에서 시각화 하는 종류가 이렇게 있나봐요!  \n",
    "The kind of plot to produce:\n",
    "\n",
    "‘line’ : line plot (default)\n",
    "\n",
    "‘bar’ : vertical bar plot  \n",
    "‘barh’ : horizontal bar plot  \n",
    "‘hist’ : histogram  \n",
    "\n",
    "‘box’ : boxplot  \n",
    "‘kde’ : Kernel Density Estimation plot  \n",
    "‘density’ : same as ‘kde’  \n",
    "\n",
    "‘area’ : area plot  \n",
    "‘pie’ : pie plot  \n",
    "‘scatter’ : scatter plot (DataFrame only)  \n",
    "\n",
    "‘hexbin’ : hexbin plot (DataFrame only\n",
    "\n",
    "https://pandas.pydata.org/docs/reference/api/pandas.DataFrame.plot.html?highlight=plot#pandas.DataFrame.plot"
   ]
  },
  {
   "cell_type": "code",
   "execution_count": 5,
   "id": "d0343d96",
   "metadata": {},
   "outputs": [
    {
     "data": {
      "text/plain": [
       "<AxesSubplot:>"
      ]
     },
     "execution_count": 5,
     "metadata": {},
     "output_type": "execute_result"
    },
    {
     "data": {
      "image/png": "[encoded data removed]",
      "text/plain": [
       "<Figure size 432x288 with 1 Axes>"
      ]
     },
     "metadata": {
      "needs_background": "light"
     },
     "output_type": "display_data"
    }
   ],
   "source": [
    "tr['calculated_host_listings_count'].hist(bins = 10)"
   ]
  },
  {
   "cell_type": "code",
   "execution_count": 6,
   "id": "198a1386",
   "metadata": {},
   "outputs": [
    {
     "data": {
      "text/plain": [
       "array(['Private room', 'Entire home/apt', 'Shared room'], dtype=object)"
      ]
     },
     "execution_count": 6,
     "metadata": {},
     "output_type": "execute_result"
    }
   ],
   "source": [
    "tr['room_type'].unique()"
   ]
  },
  {
   "cell_type": "code",
   "execution_count": 7,
   "id": "b30e9094",
   "metadata": {},
   "outputs": [
    {
     "data": {
      "text/plain": [
       "count    39116.000000\n",
       "mean       112.980826\n",
       "std        131.674306\n",
       "min          0.000000\n",
       "25%          0.000000\n",
       "50%         45.000000\n",
       "75%        228.000000\n",
       "max        365.000000\n",
       "Name: availability_365, dtype: float64"
      ]
     },
     "execution_count": 7,
     "metadata": {},
     "output_type": "execute_result"
    }
   ],
   "source": [
    "tr['availability_365'].describe()"
   ]
  },
  {
   "cell_type": "code",
   "execution_count": 8,
   "id": "1ec64bf4",
   "metadata": {},
   "outputs": [
    {
     "data": {
      "text/plain": [
       "room_type\n",
       "Entire home/apt    111.852899\n",
       "Private room       111.645111\n",
       "Shared room        162.686504\n",
       "Name: availability_365, dtype: float64"
      ]
     },
     "execution_count": 8,
     "metadata": {},
     "output_type": "execute_result"
    }
   ],
   "source": [
    "avail = tr.groupby(\"room_type\")[\"availability_365\"].mean()\n",
    "avail"
   ]
  },
  {
   "cell_type": "code",
   "execution_count": 9,
   "id": "8ebc4356",
   "metadata": {},
   "outputs": [
    {
     "data": {
      "text/plain": [
       "<AxesSubplot:xlabel='room_type'>"
      ]
     },
     "execution_count": 9,
     "metadata": {},
     "output_type": "execute_result"
    },
    {
     "data": {
      "image/png": "[encoded data removed]",
      "text/plain": [
       "<Figure size 432x288 with 1 Axes>"
      ]
     },
     "metadata": {
      "needs_background": "light"
     },
     "output_type": "display_data"
    }
   ],
   "source": [
    "avail.plot.bar()"
   ]
  },
  {
   "cell_type": "code",
   "execution_count": 10,
   "id": "867ff768",
   "metadata": {},
   "outputs": [
    {
     "data": {
      "text/plain": [
       "room_type\n",
       "Entire home/apt    211.438642\n",
       "Private room        90.519188\n",
       "Shared room         68.969182\n",
       "Name: price, dtype: float64"
      ]
     },
     "execution_count": 10,
     "metadata": {},
     "output_type": "execute_result"
    }
   ],
   "source": [
    "room = tr.groupby(\"room_type\")[\"price\"].mean()\n",
    "room"
   ]
  },
  {
   "cell_type": "code",
   "execution_count": 11,
   "id": "e3025b08",
   "metadata": {},
   "outputs": [
    {
     "data": {
      "text/plain": [
       "<AxesSubplot:xlabel='room_type'>"
      ]
     },
     "execution_count": 11,
     "metadata": {},
     "output_type": "execute_result"
    },
    {
     "data": {
      "image/png": "[encoded data removed]",
      "text/plain": [
       "<Figure size 432x288 with 1 Axes>"
      ]
     },
     "metadata": {
      "needs_background": "light"
     },
     "output_type": "display_data"
    }
   ],
   "source": [
    "room.plot.bar()"
   ]
  },
  {
   "cell_type": "code",
   "execution_count": 12,
   "id": "29b30438",
   "metadata": {},
   "outputs": [
    {
     "data": {
      "text/plain": [
       "((39116, 16), (9779, 15), (9779, 1))"
      ]
     },
     "execution_count": 12,
     "metadata": {},
     "output_type": "execute_result"
    }
   ],
   "source": [
    "tr.shape, te.shape, y_te.shape"
   ]
  },
  {
   "cell_type": "code",
   "execution_count": 13,
   "id": "c0f4ead3",
   "metadata": {},
   "outputs": [
    {
     "data": {
      "text/html": [
       "<div>\n",
       "<style scoped>\n",
       "    .dataframe tbody tr th:only-of-type {\n",
       "        vertical-align: middle;\n",
       "    }\n",
       "\n",
       "    .dataframe tbody tr th {\n",
       "        vertical-align: top;\n",
       "    }\n",
       "\n",
       "    .dataframe thead th {\n",
       "        text-align: right;\n",
       "    }\n",
       "</style>\n",
       "<table border=\"1\" class=\"dataframe\">\n",
       "  <thead>\n",
       "    <tr style=\"text-align: right;\">\n",
       "      <th></th>\n",
       "      <th>id</th>\n",
       "      <th>name</th>\n",
       "      <th>host_id</th>\n",
       "      <th>host_name</th>\n",
       "      <th>neighbourhood_group</th>\n",
       "      <th>neighbourhood</th>\n",
       "      <th>latitude</th>\n",
       "      <th>longitude</th>\n",
       "      <th>room_type</th>\n",
       "      <th>minimum_nights</th>\n",
       "      <th>number_of_reviews</th>\n",
       "      <th>last_review</th>\n",
       "      <th>reviews_per_month</th>\n",
       "      <th>calculated_host_listings_count</th>\n",
       "      <th>availability_365</th>\n",
       "    </tr>\n",
       "  </thead>\n",
       "  <tbody>\n",
       "    <tr>\n",
       "      <th>0</th>\n",
       "      <td>30913224</td>\n",
       "      <td>Cozy and Sunny Room Williamsburg, Luxury Building</td>\n",
       "      <td>33771081</td>\n",
       "      <td>Rémy</td>\n",
       "      <td>Brooklyn</td>\n",
       "      <td>Williamsburg</td>\n",
       "      <td>40.70959</td>\n",
       "      <td>-73.94652</td>\n",
       "      <td>Private room</td>\n",
       "      <td>3</td>\n",
       "      <td>2</td>\n",
       "      <td>2019-05-08</td>\n",
       "      <td>0.31</td>\n",
       "      <td>1</td>\n",
       "      <td>0</td>\n",
       "    </tr>\n",
       "    <tr>\n",
       "      <th>1</th>\n",
       "      <td>971247</td>\n",
       "      <td>Sunny Artist Live/Work Apartment</td>\n",
       "      <td>5308961</td>\n",
       "      <td>Larry</td>\n",
       "      <td>Manhattan</td>\n",
       "      <td>Upper West Side</td>\n",
       "      <td>40.79368</td>\n",
       "      <td>-73.96487</td>\n",
       "      <td>Entire home/apt</td>\n",
       "      <td>3</td>\n",
       "      <td>159</td>\n",
       "      <td>2019-07-03</td>\n",
       "      <td>2.09</td>\n",
       "      <td>1</td>\n",
       "      <td>244</td>\n",
       "    </tr>\n",
       "    <tr>\n",
       "      <th>2</th>\n",
       "      <td>414801</td>\n",
       "      <td>Industrial Brooklyn Loft with Tree-Lined Windows</td>\n",
       "      <td>319077</td>\n",
       "      <td>Shell</td>\n",
       "      <td>Brooklyn</td>\n",
       "      <td>Clinton Hill</td>\n",
       "      <td>40.68722</td>\n",
       "      <td>-73.96289</td>\n",
       "      <td>Entire home/apt</td>\n",
       "      <td>1</td>\n",
       "      <td>54</td>\n",
       "      <td>2019-03-24</td>\n",
       "      <td>0.65</td>\n",
       "      <td>4</td>\n",
       "      <td>365</td>\n",
       "    </tr>\n",
       "    <tr>\n",
       "      <th>3</th>\n",
       "      <td>21815842</td>\n",
       "      <td>Spacious 2 bedroom in beautiful Clinton Hill</td>\n",
       "      <td>1931990</td>\n",
       "      <td>Yarden</td>\n",
       "      <td>Brooklyn</td>\n",
       "      <td>Clinton Hill</td>\n",
       "      <td>40.68859</td>\n",
       "      <td>-73.96035</td>\n",
       "      <td>Entire home/apt</td>\n",
       "      <td>3</td>\n",
       "      <td>2</td>\n",
       "      <td>2018-05-11</td>\n",
       "      <td>0.13</td>\n",
       "      <td>1</td>\n",
       "      <td>0</td>\n",
       "    </tr>\n",
       "    <tr>\n",
       "      <th>4</th>\n",
       "      <td>13576581</td>\n",
       "      <td>Modern Central Park Apartment close to everything</td>\n",
       "      <td>78325795</td>\n",
       "      <td>Bozhena</td>\n",
       "      <td>Manhattan</td>\n",
       "      <td>Harlem</td>\n",
       "      <td>40.80573</td>\n",
       "      <td>-73.94994</td>\n",
       "      <td>Entire home/apt</td>\n",
       "      <td>1</td>\n",
       "      <td>160</td>\n",
       "      <td>2019-06-23</td>\n",
       "      <td>4.31</td>\n",
       "      <td>3</td>\n",
       "      <td>246</td>\n",
       "    </tr>\n",
       "  </tbody>\n",
       "</table>\n",
       "</div>"
      ],
      "text/plain": [
       "         id                                               name   host_id  \\\n",
       "0  30913224  Cozy and Sunny Room Williamsburg, Luxury Building  33771081   \n",
       "1    971247                   Sunny Artist Live/Work Apartment   5308961   \n",
       "2    414801   Industrial Brooklyn Loft with Tree-Lined Windows    319077   \n",
       "3  21815842       Spacious 2 bedroom in beautiful Clinton Hill   1931990   \n",
       "4  13576581  Modern Central Park Apartment close to everything  78325795   \n",
       "\n",
       "  host_name neighbourhood_group    neighbourhood  latitude  longitude  \\\n",
       "0      Rémy            Brooklyn     Williamsburg  40.70959  -73.94652   \n",
       "1     Larry           Manhattan  Upper West Side  40.79368  -73.96487   \n",
       "2     Shell            Brooklyn     Clinton Hill  40.68722  -73.96289   \n",
       "3    Yarden            Brooklyn     Clinton Hill  40.68859  -73.96035   \n",
       "4   Bozhena           Manhattan           Harlem  40.80573  -73.94994   \n",
       "\n",
       "         room_type  minimum_nights  number_of_reviews last_review  \\\n",
       "0     Private room               3                  2  2019-05-08   \n",
       "1  Entire home/apt               3                159  2019-07-03   \n",
       "2  Entire home/apt               1                 54  2019-03-24   \n",
       "3  Entire home/apt               3                  2  2018-05-11   \n",
       "4  Entire home/apt               1                160  2019-06-23   \n",
       "\n",
       "   reviews_per_month  calculated_host_listings_count  availability_365  \n",
       "0               0.31                               1                 0  \n",
       "1               2.09                               1               244  \n",
       "2               0.65                               4               365  \n",
       "3               0.13                               1                 0  \n",
       "4               4.31                               3               246  "
      ]
     },
     "execution_count": 13,
     "metadata": {},
     "output_type": "execute_result"
    }
   ],
   "source": [
    "te.head()"
   ]
  },
  {
   "cell_type": "code",
   "execution_count": 14,
   "id": "ee59af8b",
   "metadata": {},
   "outputs": [
    {
     "name": "stdout",
     "output_type": "stream",
     "text": [
      "<class 'pandas.core.frame.DataFrame'>\n",
      "RangeIndex: 9779 entries, 0 to 9778\n",
      "Data columns (total 15 columns):\n",
      " #   Column                          Non-Null Count  Dtype  \n",
      "---  ------                          --------------  -----  \n",
      " 0   id                              9779 non-null   int64  \n",
      " 1   name                            9775 non-null   object \n",
      " 2   host_id                         9779 non-null   int64  \n",
      " 3   host_name                       9775 non-null   object \n",
      " 4   neighbourhood_group             9779 non-null   object \n",
      " 5   neighbourhood                   9779 non-null   object \n",
      " 6   latitude                        9779 non-null   float64\n",
      " 7   longitude                       9779 non-null   float64\n",
      " 8   room_type                       9779 non-null   object \n",
      " 9   minimum_nights                  9779 non-null   int64  \n",
      " 10  number_of_reviews               9779 non-null   int64  \n",
      " 11  last_review                     7721 non-null   object \n",
      " 12  reviews_per_month               7721 non-null   float64\n",
      " 13  calculated_host_listings_count  9779 non-null   int64  \n",
      " 14  availability_365                9779 non-null   int64  \n",
      "dtypes: float64(3), int64(6), object(6)\n",
      "memory usage: 1.1+ MB\n"
     ]
    }
   ],
   "source": [
    "te.info()"
   ]
  },
  {
   "cell_type": "code",
   "execution_count": 15,
   "id": "64310a70",
   "metadata": {},
   "outputs": [
    {
     "data": {
      "text/html": [
       "<div>\n",
       "<style scoped>\n",
       "    .dataframe tbody tr th:only-of-type {\n",
       "        vertical-align: middle;\n",
       "    }\n",
       "\n",
       "    .dataframe tbody tr th {\n",
       "        vertical-align: top;\n",
       "    }\n",
       "\n",
       "    .dataframe thead th {\n",
       "        text-align: right;\n",
       "    }\n",
       "</style>\n",
       "<table border=\"1\" class=\"dataframe\">\n",
       "  <thead>\n",
       "    <tr style=\"text-align: right;\">\n",
       "      <th></th>\n",
       "      <th>price</th>\n",
       "    </tr>\n",
       "  </thead>\n",
       "  <tbody>\n",
       "    <tr>\n",
       "      <th>0</th>\n",
       "      <td>80</td>\n",
       "    </tr>\n",
       "    <tr>\n",
       "      <th>1</th>\n",
       "      <td>190</td>\n",
       "    </tr>\n",
       "    <tr>\n",
       "      <th>2</th>\n",
       "      <td>500</td>\n",
       "    </tr>\n",
       "    <tr>\n",
       "      <th>3</th>\n",
       "      <td>93</td>\n",
       "    </tr>\n",
       "    <tr>\n",
       "      <th>4</th>\n",
       "      <td>129</td>\n",
       "    </tr>\n",
       "  </tbody>\n",
       "</table>\n",
       "</div>"
      ],
      "text/plain": [
       "   price\n",
       "0     80\n",
       "1    190\n",
       "2    500\n",
       "3     93\n",
       "4    129"
      ]
     },
     "execution_count": 15,
     "metadata": {},
     "output_type": "execute_result"
    }
   ],
   "source": [
    "y_te.head()"
   ]
  },
  {
   "cell_type": "code",
   "execution_count": 16,
   "id": "dd9081a7",
   "metadata": {},
   "outputs": [
    {
     "name": "stdout",
     "output_type": "stream",
     "text": [
      "<class 'pandas.core.frame.DataFrame'>\n",
      "RangeIndex: 9779 entries, 0 to 9778\n",
      "Data columns (total 1 columns):\n",
      " #   Column  Non-Null Count  Dtype\n",
      "---  ------  --------------  -----\n",
      " 0   price   9779 non-null   int64\n",
      "dtypes: int64(1)\n",
      "memory usage: 76.5 KB\n"
     ]
    }
   ],
   "source": [
    "y_te.info()"
   ]
  },
  {
   "cell_type": "code",
   "execution_count": 17,
   "id": "0ca069f7",
   "metadata": {},
   "outputs": [
    {
     "data": {
      "text/plain": [
       "id                                   0\n",
       "name                                12\n",
       "host_id                              0\n",
       "host_name                           17\n",
       "neighbourhood_group                  0\n",
       "neighbourhood                        0\n",
       "latitude                             0\n",
       "longitude                            0\n",
       "room_type                            0\n",
       "price                                0\n",
       "minimum_nights                       0\n",
       "number_of_reviews                    0\n",
       "last_review                       7994\n",
       "reviews_per_month                 7994\n",
       "calculated_host_listings_count       0\n",
       "availability_365                     0\n",
       "dtype: int64"
      ]
     },
     "execution_count": 17,
     "metadata": {},
     "output_type": "execute_result"
    }
   ],
   "source": [
    "tr.isnull().sum()"
   ]
  },
  {
   "cell_type": "code",
   "execution_count": 18,
   "id": "3531b5db",
   "metadata": {},
   "outputs": [
    {
     "data": {
      "text/plain": [
       "id                                   0\n",
       "name                                 4\n",
       "host_id                              0\n",
       "host_name                            4\n",
       "neighbourhood_group                  0\n",
       "neighbourhood                        0\n",
       "latitude                             0\n",
       "longitude                            0\n",
       "room_type                            0\n",
       "minimum_nights                       0\n",
       "number_of_reviews                    0\n",
       "last_review                       2058\n",
       "reviews_per_month                 2058\n",
       "calculated_host_listings_count       0\n",
       "availability_365                     0\n",
       "dtype: int64"
      ]
     },
     "execution_count": 18,
     "metadata": {},
     "output_type": "execute_result"
    }
   ],
   "source": [
    "te.isnull().sum()"
   ]
  },
  {
   "cell_type": "code",
   "execution_count": 19,
   "id": "d81f857a",
   "metadata": {},
   "outputs": [
    {
     "data": {
      "text/plain": [
       "price    0\n",
       "dtype: int64"
      ]
     },
     "execution_count": 19,
     "metadata": {},
     "output_type": "execute_result"
    }
   ],
   "source": [
    "y_te.isnull().sum()"
   ]
  },
  {
   "cell_type": "markdown",
   "id": "1e507687",
   "metadata": {},
   "source": [
    "### Preprocessing data\n",
    "결측치(missing data) 및 이상치(차이가 큰 data) 처리"
   ]
  },
  {
   "cell_type": "code",
   "execution_count": 20,
   "id": "e694670b",
   "metadata": {},
   "outputs": [],
   "source": [
    "import numpy as np"
   ]
  },
  {
   "cell_type": "code",
   "execution_count": 21,
   "id": "d00a298e",
   "metadata": {},
   "outputs": [],
   "source": [
    "tr['reviews_per_month'] = tr['reviews_per_month'].fillna(0)\n",
    "te[['reviews_per_month']] = te[['reviews_per_month']].fillna(0)"
   ]
  },
  {
   "cell_type": "code",
   "execution_count": 22,
   "id": "65b74deb",
   "metadata": {
    "scrolled": true
   },
   "outputs": [
    {
     "data": {
      "text/plain": [
       "id                                   0\n",
       "name                                12\n",
       "host_id                              0\n",
       "host_name                           17\n",
       "neighbourhood_group                  0\n",
       "neighbourhood                        0\n",
       "latitude                             0\n",
       "longitude                            0\n",
       "room_type                            0\n",
       "price                                0\n",
       "minimum_nights                       0\n",
       "number_of_reviews                    0\n",
       "last_review                       7994\n",
       "reviews_per_month                    0\n",
       "calculated_host_listings_count       0\n",
       "availability_365                     0\n",
       "dtype: int64"
      ]
     },
     "execution_count": 22,
     "metadata": {},
     "output_type": "execute_result"
    }
   ],
   "source": [
    "tr.isnull().sum()"
   ]
  },
  {
   "cell_type": "code",
   "execution_count": 23,
   "id": "ba817adf",
   "metadata": {},
   "outputs": [
    {
     "data": {
      "text/html": [
       "<div>\n",
       "<style scoped>\n",
       "    .dataframe tbody tr th:only-of-type {\n",
       "        vertical-align: middle;\n",
       "    }\n",
       "\n",
       "    .dataframe tbody tr th {\n",
       "        vertical-align: top;\n",
       "    }\n",
       "\n",
       "    .dataframe thead th {\n",
       "        text-align: right;\n",
       "    }\n",
       "</style>\n",
       "<table border=\"1\" class=\"dataframe\">\n",
       "  <thead>\n",
       "    <tr style=\"text-align: right;\">\n",
       "      <th></th>\n",
       "      <th>id</th>\n",
       "      <th>name</th>\n",
       "      <th>host_id</th>\n",
       "      <th>neighbourhood_group</th>\n",
       "      <th>neighbourhood</th>\n",
       "      <th>latitude</th>\n",
       "      <th>longitude</th>\n",
       "      <th>room_type</th>\n",
       "      <th>price</th>\n",
       "      <th>minimum_nights</th>\n",
       "      <th>number_of_reviews</th>\n",
       "      <th>last_review</th>\n",
       "      <th>reviews_per_month</th>\n",
       "      <th>calculated_host_listings_count</th>\n",
       "      <th>availability_365</th>\n",
       "    </tr>\n",
       "  </thead>\n",
       "  <tbody>\n",
       "    <tr>\n",
       "      <th>0</th>\n",
       "      <td>14963583</td>\n",
       "      <td>Room in South Harlem near Central Park</td>\n",
       "      <td>94219511</td>\n",
       "      <td>Manhattan</td>\n",
       "      <td>Harlem</td>\n",
       "      <td>40.80167</td>\n",
       "      <td>-73.95781</td>\n",
       "      <td>Private room</td>\n",
       "      <td>70</td>\n",
       "      <td>3</td>\n",
       "      <td>3</td>\n",
       "      <td>2019-01-01</td>\n",
       "      <td>0.09</td>\n",
       "      <td>2</td>\n",
       "      <td>0</td>\n",
       "    </tr>\n",
       "    <tr>\n",
       "      <th>1</th>\n",
       "      <td>9458704</td>\n",
       "      <td>Large 1BR Apartment, near Times Sq (2nd Floor)</td>\n",
       "      <td>49015331</td>\n",
       "      <td>Manhattan</td>\n",
       "      <td>Hell's Kitchen</td>\n",
       "      <td>40.76037</td>\n",
       "      <td>-73.99016</td>\n",
       "      <td>Entire home/apt</td>\n",
       "      <td>240</td>\n",
       "      <td>2</td>\n",
       "      <td>64</td>\n",
       "      <td>2019-06-30</td>\n",
       "      <td>1.68</td>\n",
       "      <td>2</td>\n",
       "      <td>262</td>\n",
       "    </tr>\n",
       "    <tr>\n",
       "      <th>2</th>\n",
       "      <td>26871281</td>\n",
       "      <td>West Village Apartment</td>\n",
       "      <td>440022</td>\n",
       "      <td>Manhattan</td>\n",
       "      <td>West Village</td>\n",
       "      <td>40.73001</td>\n",
       "      <td>-74.00562</td>\n",
       "      <td>Entire home/apt</td>\n",
       "      <td>150</td>\n",
       "      <td>60</td>\n",
       "      <td>1</td>\n",
       "      <td>2019-02-07</td>\n",
       "      <td>0.20</td>\n",
       "      <td>1</td>\n",
       "      <td>0</td>\n",
       "    </tr>\n",
       "    <tr>\n",
       "      <th>3</th>\n",
       "      <td>698132</td>\n",
       "      <td>LARGE PRIVATE FLOOR IN BROOKLYN, NY</td>\n",
       "      <td>3577509</td>\n",
       "      <td>Brooklyn</td>\n",
       "      <td>Bedford-Stuyvesant</td>\n",
       "      <td>40.69128</td>\n",
       "      <td>-73.93653</td>\n",
       "      <td>Entire home/apt</td>\n",
       "      <td>85</td>\n",
       "      <td>4</td>\n",
       "      <td>239</td>\n",
       "      <td>2019-06-26</td>\n",
       "      <td>2.89</td>\n",
       "      <td>2</td>\n",
       "      <td>1</td>\n",
       "    </tr>\n",
       "    <tr>\n",
       "      <th>4</th>\n",
       "      <td>15783953</td>\n",
       "      <td>Sun-drenched apartment, 20 mins to Manhattan</td>\n",
       "      <td>12475280</td>\n",
       "      <td>Brooklyn</td>\n",
       "      <td>Bedford-Stuyvesant</td>\n",
       "      <td>40.68899</td>\n",
       "      <td>-73.95555</td>\n",
       "      <td>Private room</td>\n",
       "      <td>44</td>\n",
       "      <td>28</td>\n",
       "      <td>0</td>\n",
       "      <td>NaN</td>\n",
       "      <td>0.00</td>\n",
       "      <td>1</td>\n",
       "      <td>0</td>\n",
       "    </tr>\n",
       "    <tr>\n",
       "      <th>...</th>\n",
       "      <td>...</td>\n",
       "      <td>...</td>\n",
       "      <td>...</td>\n",
       "      <td>...</td>\n",
       "      <td>...</td>\n",
       "      <td>...</td>\n",
       "      <td>...</td>\n",
       "      <td>...</td>\n",
       "      <td>...</td>\n",
       "      <td>...</td>\n",
       "      <td>...</td>\n",
       "      <td>...</td>\n",
       "      <td>...</td>\n",
       "      <td>...</td>\n",
       "      <td>...</td>\n",
       "    </tr>\n",
       "    <tr>\n",
       "      <th>39111</th>\n",
       "      <td>35425034</td>\n",
       "      <td>Stylish studio by Fulton station</td>\n",
       "      <td>107724585</td>\n",
       "      <td>Manhattan</td>\n",
       "      <td>Financial District</td>\n",
       "      <td>40.71035</td>\n",
       "      <td>-74.00734</td>\n",
       "      <td>Entire home/apt</td>\n",
       "      <td>185</td>\n",
       "      <td>30</td>\n",
       "      <td>0</td>\n",
       "      <td>NaN</td>\n",
       "      <td>0.00</td>\n",
       "      <td>2</td>\n",
       "      <td>346</td>\n",
       "    </tr>\n",
       "    <tr>\n",
       "      <th>39112</th>\n",
       "      <td>29754544</td>\n",
       "      <td>Comfortable- JFK,LGA Best Value</td>\n",
       "      <td>223846870</td>\n",
       "      <td>Queens</td>\n",
       "      <td>Springfield Gardens</td>\n",
       "      <td>40.66102</td>\n",
       "      <td>-73.77035</td>\n",
       "      <td>Private room</td>\n",
       "      <td>50</td>\n",
       "      <td>1</td>\n",
       "      <td>57</td>\n",
       "      <td>2019-06-21</td>\n",
       "      <td>7.28</td>\n",
       "      <td>3</td>\n",
       "      <td>342</td>\n",
       "    </tr>\n",
       "    <tr>\n",
       "      <th>39113</th>\n",
       "      <td>13261616</td>\n",
       "      <td>Sunny, Accessible, UES Apt - Summer in the City</td>\n",
       "      <td>24693048</td>\n",
       "      <td>Manhattan</td>\n",
       "      <td>Upper East Side</td>\n",
       "      <td>40.77693</td>\n",
       "      <td>-73.94524</td>\n",
       "      <td>Entire home/apt</td>\n",
       "      <td>120</td>\n",
       "      <td>7</td>\n",
       "      <td>0</td>\n",
       "      <td>NaN</td>\n",
       "      <td>0.00</td>\n",
       "      <td>1</td>\n",
       "      <td>0</td>\n",
       "    </tr>\n",
       "    <tr>\n",
       "      <th>39114</th>\n",
       "      <td>531258</td>\n",
       "      <td>1 BR Village - 30 day+ stay</td>\n",
       "      <td>2609535</td>\n",
       "      <td>Manhattan</td>\n",
       "      <td>Greenwich Village</td>\n",
       "      <td>40.73110</td>\n",
       "      <td>-73.99913</td>\n",
       "      <td>Entire home/apt</td>\n",
       "      <td>165</td>\n",
       "      <td>30</td>\n",
       "      <td>19</td>\n",
       "      <td>2018-10-15</td>\n",
       "      <td>0.23</td>\n",
       "      <td>1</td>\n",
       "      <td>259</td>\n",
       "    </tr>\n",
       "    <tr>\n",
       "      <th>39115</th>\n",
       "      <td>17041225</td>\n",
       "      <td>Funky 3 Bedroom Duplex in hip Greenpoint, Broo...</td>\n",
       "      <td>1239078</td>\n",
       "      <td>Brooklyn</td>\n",
       "      <td>Greenpoint</td>\n",
       "      <td>40.72881</td>\n",
       "      <td>-73.95817</td>\n",
       "      <td>Entire home/apt</td>\n",
       "      <td>200</td>\n",
       "      <td>2</td>\n",
       "      <td>35</td>\n",
       "      <td>2017-09-15</td>\n",
       "      <td>1.19</td>\n",
       "      <td>2</td>\n",
       "      <td>0</td>\n",
       "    </tr>\n",
       "  </tbody>\n",
       "</table>\n",
       "<p>39116 rows × 15 columns</p>\n",
       "</div>"
      ],
      "text/plain": [
       "             id                                               name    host_id  \\\n",
       "0      14963583             Room in South Harlem near Central Park   94219511   \n",
       "1       9458704     Large 1BR Apartment, near Times Sq (2nd Floor)   49015331   \n",
       "2      26871281                             West Village Apartment     440022   \n",
       "3        698132                LARGE PRIVATE FLOOR IN BROOKLYN, NY    3577509   \n",
       "4      15783953       Sun-drenched apartment, 20 mins to Manhattan   12475280   \n",
       "...         ...                                                ...        ...   \n",
       "39111  35425034                   Stylish studio by Fulton station  107724585   \n",
       "39112  29754544                    Comfortable- JFK,LGA Best Value  223846870   \n",
       "39113  13261616    Sunny, Accessible, UES Apt - Summer in the City   24693048   \n",
       "39114    531258                        1 BR Village - 30 day+ stay    2609535   \n",
       "39115  17041225  Funky 3 Bedroom Duplex in hip Greenpoint, Broo...    1239078   \n",
       "\n",
       "      neighbourhood_group        neighbourhood  latitude  longitude  \\\n",
       "0               Manhattan               Harlem  40.80167  -73.95781   \n",
       "1               Manhattan       Hell's Kitchen  40.76037  -73.99016   \n",
       "2               Manhattan         West Village  40.73001  -74.00562   \n",
       "3                Brooklyn   Bedford-Stuyvesant  40.69128  -73.93653   \n",
       "4                Brooklyn   Bedford-Stuyvesant  40.68899  -73.95555   \n",
       "...                   ...                  ...       ...        ...   \n",
       "39111           Manhattan   Financial District  40.71035  -74.00734   \n",
       "39112              Queens  Springfield Gardens  40.66102  -73.77035   \n",
       "39113           Manhattan      Upper East Side  40.77693  -73.94524   \n",
       "39114           Manhattan    Greenwich Village  40.73110  -73.99913   \n",
       "39115            Brooklyn           Greenpoint  40.72881  -73.95817   \n",
       "\n",
       "             room_type  price  minimum_nights  number_of_reviews last_review  \\\n",
       "0         Private room     70               3                  3  2019-01-01   \n",
       "1      Entire home/apt    240               2                 64  2019-06-30   \n",
       "2      Entire home/apt    150              60                  1  2019-02-07   \n",
       "3      Entire home/apt     85               4                239  2019-06-26   \n",
       "4         Private room     44              28                  0         NaN   \n",
       "...                ...    ...             ...                ...         ...   \n",
       "39111  Entire home/apt    185              30                  0         NaN   \n",
       "39112     Private room     50               1                 57  2019-06-21   \n",
       "39113  Entire home/apt    120               7                  0         NaN   \n",
       "39114  Entire home/apt    165              30                 19  2018-10-15   \n",
       "39115  Entire home/apt    200               2                 35  2017-09-15   \n",
       "\n",
       "       reviews_per_month  calculated_host_listings_count  availability_365  \n",
       "0                   0.09                               2                 0  \n",
       "1                   1.68                               2               262  \n",
       "2                   0.20                               1                 0  \n",
       "3                   2.89                               2                 1  \n",
       "4                   0.00                               1                 0  \n",
       "...                  ...                             ...               ...  \n",
       "39111               0.00                               2               346  \n",
       "39112               7.28                               3               342  \n",
       "39113               0.00                               1                 0  \n",
       "39114               0.23                               1               259  \n",
       "39115               1.19                               2                 0  \n",
       "\n",
       "[39116 rows x 15 columns]"
      ]
     },
     "execution_count": 23,
     "metadata": {},
     "output_type": "execute_result"
    }
   ],
   "source": [
    "tr = tr.drop(\"host_name\", axis = 1)\n",
    "tr"
   ]
  },
  {
   "cell_type": "code",
   "execution_count": 24,
   "id": "41260991",
   "metadata": {},
   "outputs": [
    {
     "data": {
      "text/plain": [
       "Home away from home                                   15\n",
       "Hillside Hotel                                        15\n",
       "New york Multi-unit building                          13\n",
       "Brooklyn Apartment                                     9\n",
       "Private Room                                           8\n",
       "                                                      ..\n",
       "Luxury One Bedroom UWS                                 1\n",
       "Your Home by the Park                                  1\n",
       "Spacious Studio- Midtown Manhattan!                    1\n",
       "A Perfect Midtown Studio (24/hr Doorman)               1\n",
       "Funky 3 Bedroom Duplex in hip Greenpoint, Brooklyn     1\n",
       "Name: name, Length: 38420, dtype: int64"
      ]
     },
     "execution_count": 24,
     "metadata": {},
     "output_type": "execute_result"
    }
   ],
   "source": [
    "tr['name'].value_counts()"
   ]
  },
  {
   "cell_type": "code",
   "execution_count": 25,
   "id": "76e07437",
   "metadata": {},
   "outputs": [
    {
     "data": {
      "text/plain": [
       "0                   Room in South Harlem near Central Park\n",
       "1           Large 1BR Apartment, near Times Sq (2nd Floor)\n",
       "2                                   West Village Apartment\n",
       "3                      LARGE PRIVATE FLOOR IN BROOKLYN, NY\n",
       "4             Sun-drenched apartment, 20 mins to Manhattan\n",
       "                               ...                        \n",
       "39111                     Stylish studio by Fulton station\n",
       "39112                      Comfortable- JFK,LGA Best Value\n",
       "39113      Sunny, Accessible, UES Apt - Summer in the City\n",
       "39114                          1 BR Village - 30 day+ stay\n",
       "39115    Funky 3 Bedroom Duplex in hip Greenpoint, Broo...\n",
       "Name: name, Length: 39116, dtype: object"
      ]
     },
     "execution_count": 25,
     "metadata": {},
     "output_type": "execute_result"
    }
   ],
   "source": [
    "tr[\"name\"] = tr[\"name\"].fillna(\"nan\")\n",
    "tr['name']"
   ]
  },
  {
   "cell_type": "code",
   "execution_count": 26,
   "id": "4c01f961",
   "metadata": {},
   "outputs": [
    {
     "data": {
      "text/plain": [
       "Home away from home                                   15\n",
       "Hillside Hotel                                        15\n",
       "New york Multi-unit building                          13\n",
       "nan                                                   12\n",
       "Brooklyn Apartment                                     9\n",
       "                                                      ..\n",
       "Luxury One Bedroom UWS                                 1\n",
       "Your Home by the Park                                  1\n",
       "Spacious Studio- Midtown Manhattan!                    1\n",
       "A Perfect Midtown Studio (24/hr Doorman)               1\n",
       "Funky 3 Bedroom Duplex in hip Greenpoint, Brooklyn     1\n",
       "Name: name, Length: 38421, dtype: int64"
      ]
     },
     "execution_count": 26,
     "metadata": {},
     "output_type": "execute_result"
    }
   ],
   "source": [
    "tr['name'].value_counts()"
   ]
  },
  {
   "cell_type": "code",
   "execution_count": 27,
   "id": "aa2df293",
   "metadata": {},
   "outputs": [
    {
     "data": {
      "text/plain": [
       "id                                   0\n",
       "name                                 0\n",
       "host_id                              0\n",
       "neighbourhood_group                  0\n",
       "neighbourhood                        0\n",
       "latitude                             0\n",
       "longitude                            0\n",
       "room_type                            0\n",
       "price                                0\n",
       "minimum_nights                       0\n",
       "number_of_reviews                    0\n",
       "last_review                       7994\n",
       "reviews_per_month                    0\n",
       "calculated_host_listings_count       0\n",
       "availability_365                     0\n",
       "dtype: int64"
      ]
     },
     "execution_count": 27,
     "metadata": {},
     "output_type": "execute_result"
    }
   ],
   "source": [
    "tr.isnull().sum()"
   ]
  },
  {
   "cell_type": "code",
   "execution_count": 28,
   "id": "13c48670",
   "metadata": {},
   "outputs": [
    {
     "data": {
      "text/html": [
       "<div>\n",
       "<style scoped>\n",
       "    .dataframe tbody tr th:only-of-type {\n",
       "        vertical-align: middle;\n",
       "    }\n",
       "\n",
       "    .dataframe tbody tr th {\n",
       "        vertical-align: top;\n",
       "    }\n",
       "\n",
       "    .dataframe thead th {\n",
       "        text-align: right;\n",
       "    }\n",
       "</style>\n",
       "<table border=\"1\" class=\"dataframe\">\n",
       "  <thead>\n",
       "    <tr style=\"text-align: right;\">\n",
       "      <th></th>\n",
       "      <th>id</th>\n",
       "      <th>name</th>\n",
       "      <th>host_id</th>\n",
       "      <th>neighbourhood_group</th>\n",
       "      <th>neighbourhood</th>\n",
       "      <th>latitude</th>\n",
       "      <th>longitude</th>\n",
       "      <th>room_type</th>\n",
       "      <th>price</th>\n",
       "      <th>minimum_nights</th>\n",
       "      <th>number_of_reviews</th>\n",
       "      <th>reviews_per_month</th>\n",
       "      <th>calculated_host_listings_count</th>\n",
       "      <th>availability_365</th>\n",
       "    </tr>\n",
       "  </thead>\n",
       "  <tbody>\n",
       "    <tr>\n",
       "      <th>0</th>\n",
       "      <td>14963583</td>\n",
       "      <td>Room in South Harlem near Central Park</td>\n",
       "      <td>94219511</td>\n",
       "      <td>Manhattan</td>\n",
       "      <td>Harlem</td>\n",
       "      <td>40.80167</td>\n",
       "      <td>-73.95781</td>\n",
       "      <td>Private room</td>\n",
       "      <td>70</td>\n",
       "      <td>3</td>\n",
       "      <td>3</td>\n",
       "      <td>0.09</td>\n",
       "      <td>2</td>\n",
       "      <td>0</td>\n",
       "    </tr>\n",
       "    <tr>\n",
       "      <th>1</th>\n",
       "      <td>9458704</td>\n",
       "      <td>Large 1BR Apartment, near Times Sq (2nd Floor)</td>\n",
       "      <td>49015331</td>\n",
       "      <td>Manhattan</td>\n",
       "      <td>Hell's Kitchen</td>\n",
       "      <td>40.76037</td>\n",
       "      <td>-73.99016</td>\n",
       "      <td>Entire home/apt</td>\n",
       "      <td>240</td>\n",
       "      <td>2</td>\n",
       "      <td>64</td>\n",
       "      <td>1.68</td>\n",
       "      <td>2</td>\n",
       "      <td>262</td>\n",
       "    </tr>\n",
       "    <tr>\n",
       "      <th>2</th>\n",
       "      <td>26871281</td>\n",
       "      <td>West Village Apartment</td>\n",
       "      <td>440022</td>\n",
       "      <td>Manhattan</td>\n",
       "      <td>West Village</td>\n",
       "      <td>40.73001</td>\n",
       "      <td>-74.00562</td>\n",
       "      <td>Entire home/apt</td>\n",
       "      <td>150</td>\n",
       "      <td>60</td>\n",
       "      <td>1</td>\n",
       "      <td>0.20</td>\n",
       "      <td>1</td>\n",
       "      <td>0</td>\n",
       "    </tr>\n",
       "    <tr>\n",
       "      <th>3</th>\n",
       "      <td>698132</td>\n",
       "      <td>LARGE PRIVATE FLOOR IN BROOKLYN, NY</td>\n",
       "      <td>3577509</td>\n",
       "      <td>Brooklyn</td>\n",
       "      <td>Bedford-Stuyvesant</td>\n",
       "      <td>40.69128</td>\n",
       "      <td>-73.93653</td>\n",
       "      <td>Entire home/apt</td>\n",
       "      <td>85</td>\n",
       "      <td>4</td>\n",
       "      <td>239</td>\n",
       "      <td>2.89</td>\n",
       "      <td>2</td>\n",
       "      <td>1</td>\n",
       "    </tr>\n",
       "    <tr>\n",
       "      <th>4</th>\n",
       "      <td>15783953</td>\n",
       "      <td>Sun-drenched apartment, 20 mins to Manhattan</td>\n",
       "      <td>12475280</td>\n",
       "      <td>Brooklyn</td>\n",
       "      <td>Bedford-Stuyvesant</td>\n",
       "      <td>40.68899</td>\n",
       "      <td>-73.95555</td>\n",
       "      <td>Private room</td>\n",
       "      <td>44</td>\n",
       "      <td>28</td>\n",
       "      <td>0</td>\n",
       "      <td>0.00</td>\n",
       "      <td>1</td>\n",
       "      <td>0</td>\n",
       "    </tr>\n",
       "    <tr>\n",
       "      <th>...</th>\n",
       "      <td>...</td>\n",
       "      <td>...</td>\n",
       "      <td>...</td>\n",
       "      <td>...</td>\n",
       "      <td>...</td>\n",
       "      <td>...</td>\n",
       "      <td>...</td>\n",
       "      <td>...</td>\n",
       "      <td>...</td>\n",
       "      <td>...</td>\n",
       "      <td>...</td>\n",
       "      <td>...</td>\n",
       "      <td>...</td>\n",
       "      <td>...</td>\n",
       "    </tr>\n",
       "    <tr>\n",
       "      <th>39111</th>\n",
       "      <td>35425034</td>\n",
       "      <td>Stylish studio by Fulton station</td>\n",
       "      <td>107724585</td>\n",
       "      <td>Manhattan</td>\n",
       "      <td>Financial District</td>\n",
       "      <td>40.71035</td>\n",
       "      <td>-74.00734</td>\n",
       "      <td>Entire home/apt</td>\n",
       "      <td>185</td>\n",
       "      <td>30</td>\n",
       "      <td>0</td>\n",
       "      <td>0.00</td>\n",
       "      <td>2</td>\n",
       "      <td>346</td>\n",
       "    </tr>\n",
       "    <tr>\n",
       "      <th>39112</th>\n",
       "      <td>29754544</td>\n",
       "      <td>Comfortable- JFK,LGA Best Value</td>\n",
       "      <td>223846870</td>\n",
       "      <td>Queens</td>\n",
       "      <td>Springfield Gardens</td>\n",
       "      <td>40.66102</td>\n",
       "      <td>-73.77035</td>\n",
       "      <td>Private room</td>\n",
       "      <td>50</td>\n",
       "      <td>1</td>\n",
       "      <td>57</td>\n",
       "      <td>7.28</td>\n",
       "      <td>3</td>\n",
       "      <td>342</td>\n",
       "    </tr>\n",
       "    <tr>\n",
       "      <th>39113</th>\n",
       "      <td>13261616</td>\n",
       "      <td>Sunny, Accessible, UES Apt - Summer in the City</td>\n",
       "      <td>24693048</td>\n",
       "      <td>Manhattan</td>\n",
       "      <td>Upper East Side</td>\n",
       "      <td>40.77693</td>\n",
       "      <td>-73.94524</td>\n",
       "      <td>Entire home/apt</td>\n",
       "      <td>120</td>\n",
       "      <td>7</td>\n",
       "      <td>0</td>\n",
       "      <td>0.00</td>\n",
       "      <td>1</td>\n",
       "      <td>0</td>\n",
       "    </tr>\n",
       "    <tr>\n",
       "      <th>39114</th>\n",
       "      <td>531258</td>\n",
       "      <td>1 BR Village - 30 day+ stay</td>\n",
       "      <td>2609535</td>\n",
       "      <td>Manhattan</td>\n",
       "      <td>Greenwich Village</td>\n",
       "      <td>40.73110</td>\n",
       "      <td>-73.99913</td>\n",
       "      <td>Entire home/apt</td>\n",
       "      <td>165</td>\n",
       "      <td>30</td>\n",
       "      <td>19</td>\n",
       "      <td>0.23</td>\n",
       "      <td>1</td>\n",
       "      <td>259</td>\n",
       "    </tr>\n",
       "    <tr>\n",
       "      <th>39115</th>\n",
       "      <td>17041225</td>\n",
       "      <td>Funky 3 Bedroom Duplex in hip Greenpoint, Broo...</td>\n",
       "      <td>1239078</td>\n",
       "      <td>Brooklyn</td>\n",
       "      <td>Greenpoint</td>\n",
       "      <td>40.72881</td>\n",
       "      <td>-73.95817</td>\n",
       "      <td>Entire home/apt</td>\n",
       "      <td>200</td>\n",
       "      <td>2</td>\n",
       "      <td>35</td>\n",
       "      <td>1.19</td>\n",
       "      <td>2</td>\n",
       "      <td>0</td>\n",
       "    </tr>\n",
       "  </tbody>\n",
       "</table>\n",
       "<p>39116 rows × 14 columns</p>\n",
       "</div>"
      ],
      "text/plain": [
       "             id                                               name    host_id  \\\n",
       "0      14963583             Room in South Harlem near Central Park   94219511   \n",
       "1       9458704     Large 1BR Apartment, near Times Sq (2nd Floor)   49015331   \n",
       "2      26871281                             West Village Apartment     440022   \n",
       "3        698132                LARGE PRIVATE FLOOR IN BROOKLYN, NY    3577509   \n",
       "4      15783953       Sun-drenched apartment, 20 mins to Manhattan   12475280   \n",
       "...         ...                                                ...        ...   \n",
       "39111  35425034                   Stylish studio by Fulton station  107724585   \n",
       "39112  29754544                    Comfortable- JFK,LGA Best Value  223846870   \n",
       "39113  13261616    Sunny, Accessible, UES Apt - Summer in the City   24693048   \n",
       "39114    531258                        1 BR Village - 30 day+ stay    2609535   \n",
       "39115  17041225  Funky 3 Bedroom Duplex in hip Greenpoint, Broo...    1239078   \n",
       "\n",
       "      neighbourhood_group        neighbourhood  latitude  longitude  \\\n",
       "0               Manhattan               Harlem  40.80167  -73.95781   \n",
       "1               Manhattan       Hell's Kitchen  40.76037  -73.99016   \n",
       "2               Manhattan         West Village  40.73001  -74.00562   \n",
       "3                Brooklyn   Bedford-Stuyvesant  40.69128  -73.93653   \n",
       "4                Brooklyn   Bedford-Stuyvesant  40.68899  -73.95555   \n",
       "...                   ...                  ...       ...        ...   \n",
       "39111           Manhattan   Financial District  40.71035  -74.00734   \n",
       "39112              Queens  Springfield Gardens  40.66102  -73.77035   \n",
       "39113           Manhattan      Upper East Side  40.77693  -73.94524   \n",
       "39114           Manhattan    Greenwich Village  40.73110  -73.99913   \n",
       "39115            Brooklyn           Greenpoint  40.72881  -73.95817   \n",
       "\n",
       "             room_type  price  minimum_nights  number_of_reviews  \\\n",
       "0         Private room     70               3                  3   \n",
       "1      Entire home/apt    240               2                 64   \n",
       "2      Entire home/apt    150              60                  1   \n",
       "3      Entire home/apt     85               4                239   \n",
       "4         Private room     44              28                  0   \n",
       "...                ...    ...             ...                ...   \n",
       "39111  Entire home/apt    185              30                  0   \n",
       "39112     Private room     50               1                 57   \n",
       "39113  Entire home/apt    120               7                  0   \n",
       "39114  Entire home/apt    165              30                 19   \n",
       "39115  Entire home/apt    200               2                 35   \n",
       "\n",
       "       reviews_per_month  calculated_host_listings_count  availability_365  \n",
       "0                   0.09                               2                 0  \n",
       "1                   1.68                               2               262  \n",
       "2                   0.20                               1                 0  \n",
       "3                   2.89                               2                 1  \n",
       "4                   0.00                               1                 0  \n",
       "...                  ...                             ...               ...  \n",
       "39111               0.00                               2               346  \n",
       "39112               7.28                               3               342  \n",
       "39113               0.00                               1                 0  \n",
       "39114               0.23                               1               259  \n",
       "39115               1.19                               2                 0  \n",
       "\n",
       "[39116 rows x 14 columns]"
      ]
     },
     "execution_count": 28,
     "metadata": {},
     "output_type": "execute_result"
    }
   ],
   "source": [
    "tr = tr.drop(\"last_review\", axis = 1)\n",
    "tr"
   ]
  },
  {
   "cell_type": "code",
   "execution_count": 29,
   "id": "6befdea8",
   "metadata": {},
   "outputs": [
    {
     "data": {
      "text/plain": [
       "id                                0\n",
       "name                              0\n",
       "host_id                           0\n",
       "neighbourhood_group               0\n",
       "neighbourhood                     0\n",
       "latitude                          0\n",
       "longitude                         0\n",
       "room_type                         0\n",
       "price                             0\n",
       "minimum_nights                    0\n",
       "number_of_reviews                 0\n",
       "reviews_per_month                 0\n",
       "calculated_host_listings_count    0\n",
       "availability_365                  0\n",
       "dtype: int64"
      ]
     },
     "execution_count": 29,
     "metadata": {},
     "output_type": "execute_result"
    }
   ],
   "source": [
    "tr.isnull().sum()"
   ]
  },
  {
   "cell_type": "code",
   "execution_count": 30,
   "id": "c3684a4b",
   "metadata": {},
   "outputs": [
    {
     "name": "stdout",
     "output_type": "stream",
     "text": [
      "<class 'pandas.core.frame.DataFrame'>\n",
      "RangeIndex: 39116 entries, 0 to 39115\n",
      "Data columns (total 14 columns):\n",
      " #   Column                          Non-Null Count  Dtype  \n",
      "---  ------                          --------------  -----  \n",
      " 0   id                              39116 non-null  int64  \n",
      " 1   name                            39116 non-null  object \n",
      " 2   host_id                         39116 non-null  int64  \n",
      " 3   neighbourhood_group             39116 non-null  object \n",
      " 4   neighbourhood                   39116 non-null  object \n",
      " 5   latitude                        39116 non-null  float64\n",
      " 6   longitude                       39116 non-null  float64\n",
      " 7   room_type                       39116 non-null  object \n",
      " 8   price                           39116 non-null  int64  \n",
      " 9   minimum_nights                  39116 non-null  int64  \n",
      " 10  number_of_reviews               39116 non-null  int64  \n",
      " 11  reviews_per_month               39116 non-null  float64\n",
      " 12  calculated_host_listings_count  39116 non-null  int64  \n",
      " 13  availability_365                39116 non-null  int64  \n",
      "dtypes: float64(3), int64(7), object(4)\n",
      "memory usage: 4.2+ MB\n"
     ]
    }
   ],
   "source": [
    "tr.info()"
   ]
  },
  {
   "cell_type": "markdown",
   "id": "3f40f792",
   "metadata": {},
   "source": [
    "### target -> 예측할 값"
   ]
  },
  {
   "cell_type": "code",
   "execution_count": 31,
   "id": "9123ad64",
   "metadata": {},
   "outputs": [
    {
     "data": {
      "text/plain": [
       "0         70\n",
       "1        240\n",
       "2        150\n",
       "3         85\n",
       "4         44\n",
       "        ... \n",
       "39111    185\n",
       "39112     50\n",
       "39113    120\n",
       "39114    165\n",
       "39115    200\n",
       "Name: price, Length: 39116, dtype: int64"
      ]
     },
     "execution_count": 31,
     "metadata": {},
     "output_type": "execute_result"
    }
   ],
   "source": [
    "tr[\"price\"]"
   ]
  },
  {
   "cell_type": "code",
   "execution_count": 32,
   "id": "ae4c05ad",
   "metadata": {},
   "outputs": [
    {
     "data": {
      "text/html": [
       "<div>\n",
       "<style scoped>\n",
       "    .dataframe tbody tr th:only-of-type {\n",
       "        vertical-align: middle;\n",
       "    }\n",
       "\n",
       "    .dataframe tbody tr th {\n",
       "        vertical-align: top;\n",
       "    }\n",
       "\n",
       "    .dataframe thead th {\n",
       "        text-align: right;\n",
       "    }\n",
       "</style>\n",
       "<table border=\"1\" class=\"dataframe\">\n",
       "  <thead>\n",
       "    <tr style=\"text-align: right;\">\n",
       "      <th></th>\n",
       "      <th>id</th>\n",
       "      <th>name</th>\n",
       "      <th>host_id</th>\n",
       "      <th>neighbourhood_group</th>\n",
       "      <th>neighbourhood</th>\n",
       "      <th>latitude</th>\n",
       "      <th>longitude</th>\n",
       "      <th>room_type</th>\n",
       "      <th>minimum_nights</th>\n",
       "      <th>number_of_reviews</th>\n",
       "      <th>reviews_per_month</th>\n",
       "      <th>calculated_host_listings_count</th>\n",
       "      <th>availability_365</th>\n",
       "    </tr>\n",
       "  </thead>\n",
       "  <tbody>\n",
       "    <tr>\n",
       "      <th>0</th>\n",
       "      <td>14963583</td>\n",
       "      <td>Room in South Harlem near Central Park</td>\n",
       "      <td>94219511</td>\n",
       "      <td>Manhattan</td>\n",
       "      <td>Harlem</td>\n",
       "      <td>40.80167</td>\n",
       "      <td>-73.95781</td>\n",
       "      <td>Private room</td>\n",
       "      <td>3</td>\n",
       "      <td>3</td>\n",
       "      <td>0.09</td>\n",
       "      <td>2</td>\n",
       "      <td>0</td>\n",
       "    </tr>\n",
       "    <tr>\n",
       "      <th>1</th>\n",
       "      <td>9458704</td>\n",
       "      <td>Large 1BR Apartment, near Times Sq (2nd Floor)</td>\n",
       "      <td>49015331</td>\n",
       "      <td>Manhattan</td>\n",
       "      <td>Hell's Kitchen</td>\n",
       "      <td>40.76037</td>\n",
       "      <td>-73.99016</td>\n",
       "      <td>Entire home/apt</td>\n",
       "      <td>2</td>\n",
       "      <td>64</td>\n",
       "      <td>1.68</td>\n",
       "      <td>2</td>\n",
       "      <td>262</td>\n",
       "    </tr>\n",
       "    <tr>\n",
       "      <th>2</th>\n",
       "      <td>26871281</td>\n",
       "      <td>West Village Apartment</td>\n",
       "      <td>440022</td>\n",
       "      <td>Manhattan</td>\n",
       "      <td>West Village</td>\n",
       "      <td>40.73001</td>\n",
       "      <td>-74.00562</td>\n",
       "      <td>Entire home/apt</td>\n",
       "      <td>60</td>\n",
       "      <td>1</td>\n",
       "      <td>0.20</td>\n",
       "      <td>1</td>\n",
       "      <td>0</td>\n",
       "    </tr>\n",
       "    <tr>\n",
       "      <th>3</th>\n",
       "      <td>698132</td>\n",
       "      <td>LARGE PRIVATE FLOOR IN BROOKLYN, NY</td>\n",
       "      <td>3577509</td>\n",
       "      <td>Brooklyn</td>\n",
       "      <td>Bedford-Stuyvesant</td>\n",
       "      <td>40.69128</td>\n",
       "      <td>-73.93653</td>\n",
       "      <td>Entire home/apt</td>\n",
       "      <td>4</td>\n",
       "      <td>239</td>\n",
       "      <td>2.89</td>\n",
       "      <td>2</td>\n",
       "      <td>1</td>\n",
       "    </tr>\n",
       "    <tr>\n",
       "      <th>4</th>\n",
       "      <td>15783953</td>\n",
       "      <td>Sun-drenched apartment, 20 mins to Manhattan</td>\n",
       "      <td>12475280</td>\n",
       "      <td>Brooklyn</td>\n",
       "      <td>Bedford-Stuyvesant</td>\n",
       "      <td>40.68899</td>\n",
       "      <td>-73.95555</td>\n",
       "      <td>Private room</td>\n",
       "      <td>28</td>\n",
       "      <td>0</td>\n",
       "      <td>0.00</td>\n",
       "      <td>1</td>\n",
       "      <td>0</td>\n",
       "    </tr>\n",
       "    <tr>\n",
       "      <th>...</th>\n",
       "      <td>...</td>\n",
       "      <td>...</td>\n",
       "      <td>...</td>\n",
       "      <td>...</td>\n",
       "      <td>...</td>\n",
       "      <td>...</td>\n",
       "      <td>...</td>\n",
       "      <td>...</td>\n",
       "      <td>...</td>\n",
       "      <td>...</td>\n",
       "      <td>...</td>\n",
       "      <td>...</td>\n",
       "      <td>...</td>\n",
       "    </tr>\n",
       "    <tr>\n",
       "      <th>39111</th>\n",
       "      <td>35425034</td>\n",
       "      <td>Stylish studio by Fulton station</td>\n",
       "      <td>107724585</td>\n",
       "      <td>Manhattan</td>\n",
       "      <td>Financial District</td>\n",
       "      <td>40.71035</td>\n",
       "      <td>-74.00734</td>\n",
       "      <td>Entire home/apt</td>\n",
       "      <td>30</td>\n",
       "      <td>0</td>\n",
       "      <td>0.00</td>\n",
       "      <td>2</td>\n",
       "      <td>346</td>\n",
       "    </tr>\n",
       "    <tr>\n",
       "      <th>39112</th>\n",
       "      <td>29754544</td>\n",
       "      <td>Comfortable- JFK,LGA Best Value</td>\n",
       "      <td>223846870</td>\n",
       "      <td>Queens</td>\n",
       "      <td>Springfield Gardens</td>\n",
       "      <td>40.66102</td>\n",
       "      <td>-73.77035</td>\n",
       "      <td>Private room</td>\n",
       "      <td>1</td>\n",
       "      <td>57</td>\n",
       "      <td>7.28</td>\n",
       "      <td>3</td>\n",
       "      <td>342</td>\n",
       "    </tr>\n",
       "    <tr>\n",
       "      <th>39113</th>\n",
       "      <td>13261616</td>\n",
       "      <td>Sunny, Accessible, UES Apt - Summer in the City</td>\n",
       "      <td>24693048</td>\n",
       "      <td>Manhattan</td>\n",
       "      <td>Upper East Side</td>\n",
       "      <td>40.77693</td>\n",
       "      <td>-73.94524</td>\n",
       "      <td>Entire home/apt</td>\n",
       "      <td>7</td>\n",
       "      <td>0</td>\n",
       "      <td>0.00</td>\n",
       "      <td>1</td>\n",
       "      <td>0</td>\n",
       "    </tr>\n",
       "    <tr>\n",
       "      <th>39114</th>\n",
       "      <td>531258</td>\n",
       "      <td>1 BR Village - 30 day+ stay</td>\n",
       "      <td>2609535</td>\n",
       "      <td>Manhattan</td>\n",
       "      <td>Greenwich Village</td>\n",
       "      <td>40.73110</td>\n",
       "      <td>-73.99913</td>\n",
       "      <td>Entire home/apt</td>\n",
       "      <td>30</td>\n",
       "      <td>19</td>\n",
       "      <td>0.23</td>\n",
       "      <td>1</td>\n",
       "      <td>259</td>\n",
       "    </tr>\n",
       "    <tr>\n",
       "      <th>39115</th>\n",
       "      <td>17041225</td>\n",
       "      <td>Funky 3 Bedroom Duplex in hip Greenpoint, Broo...</td>\n",
       "      <td>1239078</td>\n",
       "      <td>Brooklyn</td>\n",
       "      <td>Greenpoint</td>\n",
       "      <td>40.72881</td>\n",
       "      <td>-73.95817</td>\n",
       "      <td>Entire home/apt</td>\n",
       "      <td>2</td>\n",
       "      <td>35</td>\n",
       "      <td>1.19</td>\n",
       "      <td>2</td>\n",
       "      <td>0</td>\n",
       "    </tr>\n",
       "  </tbody>\n",
       "</table>\n",
       "<p>39116 rows × 13 columns</p>\n",
       "</div>"
      ],
      "text/plain": [
       "             id                                               name    host_id  \\\n",
       "0      14963583             Room in South Harlem near Central Park   94219511   \n",
       "1       9458704     Large 1BR Apartment, near Times Sq (2nd Floor)   49015331   \n",
       "2      26871281                             West Village Apartment     440022   \n",
       "3        698132                LARGE PRIVATE FLOOR IN BROOKLYN, NY    3577509   \n",
       "4      15783953       Sun-drenched apartment, 20 mins to Manhattan   12475280   \n",
       "...         ...                                                ...        ...   \n",
       "39111  35425034                   Stylish studio by Fulton station  107724585   \n",
       "39112  29754544                    Comfortable- JFK,LGA Best Value  223846870   \n",
       "39113  13261616    Sunny, Accessible, UES Apt - Summer in the City   24693048   \n",
       "39114    531258                        1 BR Village - 30 day+ stay    2609535   \n",
       "39115  17041225  Funky 3 Bedroom Duplex in hip Greenpoint, Broo...    1239078   \n",
       "\n",
       "      neighbourhood_group        neighbourhood  latitude  longitude  \\\n",
       "0               Manhattan               Harlem  40.80167  -73.95781   \n",
       "1               Manhattan       Hell's Kitchen  40.76037  -73.99016   \n",
       "2               Manhattan         West Village  40.73001  -74.00562   \n",
       "3                Brooklyn   Bedford-Stuyvesant  40.69128  -73.93653   \n",
       "4                Brooklyn   Bedford-Stuyvesant  40.68899  -73.95555   \n",
       "...                   ...                  ...       ...        ...   \n",
       "39111           Manhattan   Financial District  40.71035  -74.00734   \n",
       "39112              Queens  Springfield Gardens  40.66102  -73.77035   \n",
       "39113           Manhattan      Upper East Side  40.77693  -73.94524   \n",
       "39114           Manhattan    Greenwich Village  40.73110  -73.99913   \n",
       "39115            Brooklyn           Greenpoint  40.72881  -73.95817   \n",
       "\n",
       "             room_type  minimum_nights  number_of_reviews  reviews_per_month  \\\n",
       "0         Private room               3                  3               0.09   \n",
       "1      Entire home/apt               2                 64               1.68   \n",
       "2      Entire home/apt              60                  1               0.20   \n",
       "3      Entire home/apt               4                239               2.89   \n",
       "4         Private room              28                  0               0.00   \n",
       "...                ...             ...                ...                ...   \n",
       "39111  Entire home/apt              30                  0               0.00   \n",
       "39112     Private room               1                 57               7.28   \n",
       "39113  Entire home/apt               7                  0               0.00   \n",
       "39114  Entire home/apt              30                 19               0.23   \n",
       "39115  Entire home/apt               2                 35               1.19   \n",
       "\n",
       "       calculated_host_listings_count  availability_365  \n",
       "0                                   2                 0  \n",
       "1                                   2               262  \n",
       "2                                   1                 0  \n",
       "3                                   2                 1  \n",
       "4                                   1                 0  \n",
       "...                               ...               ...  \n",
       "39111                               2               346  \n",
       "39112                               3               342  \n",
       "39113                               1                 0  \n",
       "39114                               1               259  \n",
       "39115                               2                 0  \n",
       "\n",
       "[39116 rows x 13 columns]"
      ]
     },
     "execution_count": 32,
     "metadata": {},
     "output_type": "execute_result"
    }
   ],
   "source": [
    "target = tr[\"price\"]\n",
    "tr = tr.drop(\"price\", axis = 1)\n",
    "tr"
   ]
  },
  {
   "cell_type": "markdown",
   "id": "fcb59a88",
   "metadata": {},
   "source": [
    "cols = [\n",
    "    \"name\",\n",
    "    \"neighbourhood_group\",\n",
    "    \"neighbourhood\",\n",
    "    \"room_type\"\n",
    "]"
   ]
  },
  {
   "cell_type": "code",
   "execution_count": 33,
   "id": "13cf2caa",
   "metadata": {
    "scrolled": true
   },
   "outputs": [],
   "source": [
    "cols = tr.select_dtypes(include = \"object\").columns"
   ]
  },
  {
   "cell_type": "markdown",
   "id": "2fca69a7",
   "metadata": {},
   "source": [
    "te라는 data의 결측치 제거 안한듯 싶어서 확인해보니 name열에 있기에 제거"
   ]
  },
  {
   "cell_type": "code",
   "execution_count": 34,
   "id": "d509ffaf",
   "metadata": {},
   "outputs": [],
   "source": [
    "te = te.fillna(\"nan\")"
   ]
  },
  {
   "cell_type": "markdown",
   "id": "7ea90190",
   "metadata": {},
   "source": [
    "https://scikit-learn.org/stable/modules/generated/sklearn.preprocessing.LabelEncoder.html#sklearn.preprocessing.LabelEncoder.fit_transform  \n",
    "sklearn.preprocessing.LabelEncoder"
   ]
  },
  {
   "cell_type": "code",
   "execution_count": 35,
   "id": "2a664143",
   "metadata": {},
   "outputs": [],
   "source": [
    "from sklearn.preprocessing import LabelEncoder\n",
    "le = LabelEncoder()"
   ]
  },
  {
   "cell_type": "code",
   "execution_count": 36,
   "id": "517e0d71",
   "metadata": {},
   "outputs": [],
   "source": [
    "for col in cols:\n",
    "    tr[col] = le.fit_transform(tr[col])\n",
    "    te[col] = le.fit_transform(te[col])"
   ]
  },
  {
   "cell_type": "code",
   "execution_count": 37,
   "id": "fb8633d8",
   "metadata": {},
   "outputs": [
    {
     "data": {
      "text/html": [
       "<div>\n",
       "<style scoped>\n",
       "    .dataframe tbody tr th:only-of-type {\n",
       "        vertical-align: middle;\n",
       "    }\n",
       "\n",
       "    .dataframe tbody tr th {\n",
       "        vertical-align: top;\n",
       "    }\n",
       "\n",
       "    .dataframe thead th {\n",
       "        text-align: right;\n",
       "    }\n",
       "</style>\n",
       "<table border=\"1\" class=\"dataframe\">\n",
       "  <thead>\n",
       "    <tr style=\"text-align: right;\">\n",
       "      <th></th>\n",
       "      <th>id</th>\n",
       "      <th>name</th>\n",
       "      <th>host_id</th>\n",
       "      <th>neighbourhood_group</th>\n",
       "      <th>neighbourhood</th>\n",
       "      <th>latitude</th>\n",
       "      <th>longitude</th>\n",
       "      <th>room_type</th>\n",
       "      <th>minimum_nights</th>\n",
       "      <th>number_of_reviews</th>\n",
       "      <th>reviews_per_month</th>\n",
       "      <th>calculated_host_listings_count</th>\n",
       "      <th>availability_365</th>\n",
       "    </tr>\n",
       "  </thead>\n",
       "  <tbody>\n",
       "    <tr>\n",
       "      <th>0</th>\n",
       "      <td>14963583</td>\n",
       "      <td>29228</td>\n",
       "      <td>94219511</td>\n",
       "      <td>2</td>\n",
       "      <td>94</td>\n",
       "      <td>40.80167</td>\n",
       "      <td>-73.95781</td>\n",
       "      <td>1</td>\n",
       "      <td>3</td>\n",
       "      <td>3</td>\n",
       "      <td>0.09</td>\n",
       "      <td>2</td>\n",
       "      <td>0</td>\n",
       "    </tr>\n",
       "    <tr>\n",
       "      <th>1</th>\n",
       "      <td>9458704</td>\n",
       "      <td>19434</td>\n",
       "      <td>49015331</td>\n",
       "      <td>2</td>\n",
       "      <td>95</td>\n",
       "      <td>40.76037</td>\n",
       "      <td>-73.99016</td>\n",
       "      <td>0</td>\n",
       "      <td>2</td>\n",
       "      <td>64</td>\n",
       "      <td>1.68</td>\n",
       "      <td>2</td>\n",
       "      <td>262</td>\n",
       "    </tr>\n",
       "    <tr>\n",
       "      <th>2</th>\n",
       "      <td>26871281</td>\n",
       "      <td>36855</td>\n",
       "      <td>440022</td>\n",
       "      <td>2</td>\n",
       "      <td>209</td>\n",
       "      <td>40.73001</td>\n",
       "      <td>-74.00562</td>\n",
       "      <td>0</td>\n",
       "      <td>60</td>\n",
       "      <td>1</td>\n",
       "      <td>0.20</td>\n",
       "      <td>1</td>\n",
       "      <td>0</td>\n",
       "    </tr>\n",
       "    <tr>\n",
       "      <th>3</th>\n",
       "      <td>698132</td>\n",
       "      <td>19041</td>\n",
       "      <td>3577509</td>\n",
       "      <td>1</td>\n",
       "      <td>13</td>\n",
       "      <td>40.69128</td>\n",
       "      <td>-73.93653</td>\n",
       "      <td>0</td>\n",
       "      <td>4</td>\n",
       "      <td>239</td>\n",
       "      <td>2.89</td>\n",
       "      <td>2</td>\n",
       "      <td>1</td>\n",
       "    </tr>\n",
       "    <tr>\n",
       "      <th>4</th>\n",
       "      <td>15783953</td>\n",
       "      <td>33319</td>\n",
       "      <td>12475280</td>\n",
       "      <td>1</td>\n",
       "      <td>13</td>\n",
       "      <td>40.68899</td>\n",
       "      <td>-73.95555</td>\n",
       "      <td>1</td>\n",
       "      <td>28</td>\n",
       "      <td>0</td>\n",
       "      <td>0.00</td>\n",
       "      <td>1</td>\n",
       "      <td>0</td>\n",
       "    </tr>\n",
       "  </tbody>\n",
       "</table>\n",
       "</div>"
      ],
      "text/plain": [
       "         id   name   host_id  neighbourhood_group  neighbourhood  latitude  \\\n",
       "0  14963583  29228  94219511                    2             94  40.80167   \n",
       "1   9458704  19434  49015331                    2             95  40.76037   \n",
       "2  26871281  36855    440022                    2            209  40.73001   \n",
       "3    698132  19041   3577509                    1             13  40.69128   \n",
       "4  15783953  33319  12475280                    1             13  40.68899   \n",
       "\n",
       "   longitude  room_type  minimum_nights  number_of_reviews  reviews_per_month  \\\n",
       "0  -73.95781          1               3                  3               0.09   \n",
       "1  -73.99016          0               2                 64               1.68   \n",
       "2  -74.00562          0              60                  1               0.20   \n",
       "3  -73.93653          0               4                239               2.89   \n",
       "4  -73.95555          1              28                  0               0.00   \n",
       "\n",
       "   calculated_host_listings_count  availability_365  \n",
       "0                               2                 0  \n",
       "1                               2               262  \n",
       "2                               1                 0  \n",
       "3                               2                 1  \n",
       "4                               1                 0  "
      ]
     },
     "execution_count": 37,
     "metadata": {},
     "output_type": "execute_result"
    }
   ],
   "source": [
    "tr.head()"
   ]
  },
  {
   "cell_type": "code",
   "execution_count": 38,
   "id": "fb0ddc09",
   "metadata": {
    "scrolled": true
   },
   "outputs": [
    {
     "name": "stdout",
     "output_type": "stream",
     "text": [
      "<class 'pandas.core.frame.DataFrame'>\n",
      "RangeIndex: 39116 entries, 0 to 39115\n",
      "Data columns (total 13 columns):\n",
      " #   Column                          Non-Null Count  Dtype  \n",
      "---  ------                          --------------  -----  \n",
      " 0   id                              39116 non-null  int64  \n",
      " 1   name                            39116 non-null  int64  \n",
      " 2   host_id                         39116 non-null  int64  \n",
      " 3   neighbourhood_group             39116 non-null  int64  \n",
      " 4   neighbourhood                   39116 non-null  int64  \n",
      " 5   latitude                        39116 non-null  float64\n",
      " 6   longitude                       39116 non-null  float64\n",
      " 7   room_type                       39116 non-null  int64  \n",
      " 8   minimum_nights                  39116 non-null  int64  \n",
      " 9   number_of_reviews               39116 non-null  int64  \n",
      " 10  reviews_per_month               39116 non-null  float64\n",
      " 11  calculated_host_listings_count  39116 non-null  int64  \n",
      " 12  availability_365                39116 non-null  int64  \n",
      "dtypes: float64(3), int64(10)\n",
      "memory usage: 3.9 MB\n"
     ]
    }
   ],
   "source": [
    "tr.info()"
   ]
  },
  {
   "cell_type": "code",
   "execution_count": 39,
   "id": "03c66008",
   "metadata": {},
   "outputs": [
    {
     "data": {
      "text/html": [
       "<div>\n",
       "<style scoped>\n",
       "    .dataframe tbody tr th:only-of-type {\n",
       "        vertical-align: middle;\n",
       "    }\n",
       "\n",
       "    .dataframe tbody tr th {\n",
       "        vertical-align: top;\n",
       "    }\n",
       "\n",
       "    .dataframe thead th {\n",
       "        text-align: right;\n",
       "    }\n",
       "</style>\n",
       "<table border=\"1\" class=\"dataframe\">\n",
       "  <thead>\n",
       "    <tr style=\"text-align: right;\">\n",
       "      <th></th>\n",
       "      <th>id</th>\n",
       "      <th>name</th>\n",
       "      <th>host_id</th>\n",
       "      <th>host_name</th>\n",
       "      <th>neighbourhood_group</th>\n",
       "      <th>neighbourhood</th>\n",
       "      <th>latitude</th>\n",
       "      <th>longitude</th>\n",
       "      <th>room_type</th>\n",
       "      <th>minimum_nights</th>\n",
       "      <th>number_of_reviews</th>\n",
       "      <th>last_review</th>\n",
       "      <th>reviews_per_month</th>\n",
       "      <th>calculated_host_listings_count</th>\n",
       "      <th>availability_365</th>\n",
       "    </tr>\n",
       "  </thead>\n",
       "  <tbody>\n",
       "    <tr>\n",
       "      <th>0</th>\n",
       "      <td>30913224</td>\n",
       "      <td>3178</td>\n",
       "      <td>33771081</td>\n",
       "      <td>Rémy</td>\n",
       "      <td>1</td>\n",
       "      <td>187</td>\n",
       "      <td>40.70959</td>\n",
       "      <td>-73.94652</td>\n",
       "      <td>1</td>\n",
       "      <td>3</td>\n",
       "      <td>2</td>\n",
       "      <td>2019-05-08</td>\n",
       "      <td>0.31</td>\n",
       "      <td>1</td>\n",
       "      <td>0</td>\n",
       "    </tr>\n",
       "    <tr>\n",
       "      <th>1</th>\n",
       "      <td>971247</td>\n",
       "      <td>8473</td>\n",
       "      <td>5308961</td>\n",
       "      <td>Larry</td>\n",
       "      <td>2</td>\n",
       "      <td>177</td>\n",
       "      <td>40.79368</td>\n",
       "      <td>-73.96487</td>\n",
       "      <td>0</td>\n",
       "      <td>3</td>\n",
       "      <td>159</td>\n",
       "      <td>2019-07-03</td>\n",
       "      <td>2.09</td>\n",
       "      <td>1</td>\n",
       "      <td>244</td>\n",
       "    </tr>\n",
       "    <tr>\n",
       "      <th>2</th>\n",
       "      <td>414801</td>\n",
       "      <td>4697</td>\n",
       "      <td>319077</td>\n",
       "      <td>Shell</td>\n",
       "      <td>1</td>\n",
       "      <td>35</td>\n",
       "      <td>40.68722</td>\n",
       "      <td>-73.96289</td>\n",
       "      <td>0</td>\n",
       "      <td>1</td>\n",
       "      <td>54</td>\n",
       "      <td>2019-03-24</td>\n",
       "      <td>0.65</td>\n",
       "      <td>4</td>\n",
       "      <td>365</td>\n",
       "    </tr>\n",
       "    <tr>\n",
       "      <th>3</th>\n",
       "      <td>21815842</td>\n",
       "      <td>7765</td>\n",
       "      <td>1931990</td>\n",
       "      <td>Yarden</td>\n",
       "      <td>1</td>\n",
       "      <td>35</td>\n",
       "      <td>40.68859</td>\n",
       "      <td>-73.96035</td>\n",
       "      <td>0</td>\n",
       "      <td>3</td>\n",
       "      <td>2</td>\n",
       "      <td>2018-05-11</td>\n",
       "      <td>0.13</td>\n",
       "      <td>1</td>\n",
       "      <td>0</td>\n",
       "    </tr>\n",
       "    <tr>\n",
       "      <th>4</th>\n",
       "      <td>13576581</td>\n",
       "      <td>5755</td>\n",
       "      <td>78325795</td>\n",
       "      <td>Bozhena</td>\n",
       "      <td>2</td>\n",
       "      <td>83</td>\n",
       "      <td>40.80573</td>\n",
       "      <td>-73.94994</td>\n",
       "      <td>0</td>\n",
       "      <td>1</td>\n",
       "      <td>160</td>\n",
       "      <td>2019-06-23</td>\n",
       "      <td>4.31</td>\n",
       "      <td>3</td>\n",
       "      <td>246</td>\n",
       "    </tr>\n",
       "  </tbody>\n",
       "</table>\n",
       "</div>"
      ],
      "text/plain": [
       "         id  name   host_id host_name  neighbourhood_group  neighbourhood  \\\n",
       "0  30913224  3178  33771081      Rémy                    1            187   \n",
       "1    971247  8473   5308961     Larry                    2            177   \n",
       "2    414801  4697    319077     Shell                    1             35   \n",
       "3  21815842  7765   1931990    Yarden                    1             35   \n",
       "4  13576581  5755  78325795   Bozhena                    2             83   \n",
       "\n",
       "   latitude  longitude  room_type  minimum_nights  number_of_reviews  \\\n",
       "0  40.70959  -73.94652          1               3                  2   \n",
       "1  40.79368  -73.96487          0               3                159   \n",
       "2  40.68722  -73.96289          0               1                 54   \n",
       "3  40.68859  -73.96035          0               3                  2   \n",
       "4  40.80573  -73.94994          0               1                160   \n",
       "\n",
       "  last_review  reviews_per_month  calculated_host_listings_count  \\\n",
       "0  2019-05-08               0.31                               1   \n",
       "1  2019-07-03               2.09                               1   \n",
       "2  2019-03-24               0.65                               4   \n",
       "3  2018-05-11               0.13                               1   \n",
       "4  2019-06-23               4.31                               3   \n",
       "\n",
       "   availability_365  \n",
       "0                 0  \n",
       "1               244  \n",
       "2               365  \n",
       "3                 0  \n",
       "4               246  "
      ]
     },
     "execution_count": 39,
     "metadata": {},
     "output_type": "execute_result"
    }
   ],
   "source": [
    "te.head()"
   ]
  },
  {
   "cell_type": "markdown",
   "id": "abc0bf4d",
   "metadata": {},
   "source": [
    "### 검증 데이터 분리\n",
    "수치형(n) 및 범주형(c) 데이터로 분리 df의 unique 확인   \n",
    "Train 데이터로 학습(훈련)  ->  X_train, y_train  \n",
    "Validation(검증용) 데이터로 예측  ->  X_val,  y_val  "
   ]
  },
  {
   "cell_type": "markdown",
   "id": "89fb86f5",
   "metadata": {},
   "source": [
    "https://scikit-learn.org/stable/modules/generated/sklearn.model_selection.train_test_split.html#sklearn.model_selection.train_test_split  \n",
    "sklearn.model_selection.train_test_split  \n",
    "(*arrays, test_size=None, train_size=None, random_state=None, shuffle=True, stratify=None)"
   ]
  },
  {
   "cell_type": "code",
   "execution_count": 40,
   "id": "1db1750f",
   "metadata": {},
   "outputs": [],
   "source": [
    "from sklearn.model_selection import train_test_split"
   ]
  },
  {
   "cell_type": "code",
   "execution_count": 41,
   "id": "6f6c7944",
   "metadata": {},
   "outputs": [],
   "source": [
    "X_train, X_val, y_train, y_val = train_test_split(tr, target, test_size = 0.4, random_state = 1)"
   ]
  },
  {
   "cell_type": "code",
   "execution_count": 42,
   "id": "8038e501",
   "metadata": {},
   "outputs": [
    {
     "data": {
      "text/plain": [
       "((23469, 13), (15647, 13), (23469,), (15647,))"
      ]
     },
     "execution_count": 42,
     "metadata": {},
     "output_type": "execute_result"
    }
   ],
   "source": [
    "X_train.shape, X_val.shape, y_train.shape, y_val.shape"
   ]
  },
  {
   "cell_type": "code",
   "execution_count": null,
   "id": "e2ef09a2",
   "metadata": {},
   "outputs": [],
   "source": []
  },
  {
   "cell_type": "markdown",
   "id": "b979c990",
   "metadata": {},
   "source": [
    "## Machine learning\n",
    "Regression 회귀 방식 이용  \n",
    "선형Linear 로지스틱Logistic 리지Ridge 라쏘Lasso RandomForest Xgboost\n",
    "\n",
    "https://scikit-learn.org/stable/modules/generated/sklearn.linear_model.Ridge.html#sklearn.linear_model.Ridge  \n",
    "### sklearn.linear_model.Ridge  \n",
    "(alpha=1.0, *, fit_intercept=True, copy_X=True, max_iter=None, tol=0.0001, solver='auto', positive=False, random_state=None)\n",
    "\n",
    "https://scikit-learn.org/stable/modules/generated/sklearn.metrics.mean_squared_error.html#sklearn.metrics.mean_squared_error\n",
    "### sklearn.metrics.mean_squared_error  \n",
    "(y_true, y_pred, *, sample_weight=None, multioutput='uniform_average', squared=True)"
   ]
  },
  {
   "cell_type": "markdown",
   "id": "e977bd99",
   "metadata": {},
   "source": [
    "### from sklearn.linear_model import RidgeClassifier  \n",
    "도 존재한다. 미묘한 글자 장난을 뒤늦게 알아차렸다."
   ]
  },
  {
   "cell_type": "code",
   "execution_count": 74,
   "id": "8b8f8339",
   "metadata": {},
   "outputs": [],
   "source": [
    "from sklearn.linear_model import Ridge\n",
    "from sklearn.metrics import mean_squared_error\n",
    "model = Ridge(random_state = 1)"
   ]
  },
  {
   "cell_type": "markdown",
   "id": "513bd4b9",
   "metadata": {},
   "source": [
    "#### fit(X, y, sample_weight=None)"
   ]
  },
  {
   "cell_type": "code",
   "execution_count": 75,
   "id": "8c8f76c1",
   "metadata": {},
   "outputs": [
    {
     "name": "stderr",
     "output_type": "stream",
     "text": [
      "/opt/conda/lib/python3.9/site-packages/sklearn/linear_model/_ridge.py:156: LinAlgWarning: Ill-conditioned matrix (rcond=2.66951e-19): result may not be accurate.\n",
      "  return linalg.solve(A, Xy, sym_pos=True, overwrite_a=True).T\n"
     ]
    },
    {
     "data": {
      "text/plain": [
       "46614.48345787007"
      ]
     },
     "execution_count": 75,
     "metadata": {},
     "output_type": "execute_result"
    }
   ],
   "source": [
    "model.fit(X_train, y_train)\n",
    "pred = model.predict(X_val)\n",
    "mean_squared_error(y_val, pred)"
   ]
  },
  {
   "cell_type": "code",
   "execution_count": 45,
   "id": "1f281363",
   "metadata": {},
   "outputs": [
    {
     "data": {
      "text/html": [
       "<div>\n",
       "<style scoped>\n",
       "    .dataframe tbody tr th:only-of-type {\n",
       "        vertical-align: middle;\n",
       "    }\n",
       "\n",
       "    .dataframe tbody tr th {\n",
       "        vertical-align: top;\n",
       "    }\n",
       "\n",
       "    .dataframe thead th {\n",
       "        text-align: right;\n",
       "    }\n",
       "</style>\n",
       "<table border=\"1\" class=\"dataframe\">\n",
       "  <thead>\n",
       "    <tr style=\"text-align: right;\">\n",
       "      <th></th>\n",
       "      <th>id</th>\n",
       "      <th>name</th>\n",
       "      <th>host_id</th>\n",
       "      <th>neighbourhood_group</th>\n",
       "      <th>neighbourhood</th>\n",
       "      <th>latitude</th>\n",
       "      <th>longitude</th>\n",
       "      <th>room_type</th>\n",
       "      <th>minimum_nights</th>\n",
       "      <th>number_of_reviews</th>\n",
       "      <th>reviews_per_month</th>\n",
       "      <th>calculated_host_listings_count</th>\n",
       "      <th>availability_365</th>\n",
       "    </tr>\n",
       "  </thead>\n",
       "  <tbody>\n",
       "    <tr>\n",
       "      <th>38190</th>\n",
       "      <td>9168809</td>\n",
       "      <td>17183</td>\n",
       "      <td>47718277</td>\n",
       "      <td>1</td>\n",
       "      <td>13</td>\n",
       "      <td>40.68878</td>\n",
       "      <td>-73.93109</td>\n",
       "      <td>1</td>\n",
       "      <td>1</td>\n",
       "      <td>71</td>\n",
       "      <td>1.61</td>\n",
       "      <td>1</td>\n",
       "      <td>0</td>\n",
       "    </tr>\n",
       "    <tr>\n",
       "      <th>33914</th>\n",
       "      <td>5649580</td>\n",
       "      <td>2131</td>\n",
       "      <td>29278028</td>\n",
       "      <td>2</td>\n",
       "      <td>201</td>\n",
       "      <td>40.77618</td>\n",
       "      <td>-73.95627</td>\n",
       "      <td>1</td>\n",
       "      <td>5</td>\n",
       "      <td>56</td>\n",
       "      <td>1.10</td>\n",
       "      <td>4</td>\n",
       "      <td>145</td>\n",
       "    </tr>\n",
       "    <tr>\n",
       "      <th>4966</th>\n",
       "      <td>22289185</td>\n",
       "      <td>36384</td>\n",
       "      <td>24715671</td>\n",
       "      <td>2</td>\n",
       "      <td>127</td>\n",
       "      <td>40.74197</td>\n",
       "      <td>-73.98328</td>\n",
       "      <td>0</td>\n",
       "      <td>30</td>\n",
       "      <td>1</td>\n",
       "      <td>0.08</td>\n",
       "      <td>4</td>\n",
       "      <td>177</td>\n",
       "    </tr>\n",
       "    <tr>\n",
       "      <th>18742</th>\n",
       "      <td>34594081</td>\n",
       "      <td>20193</td>\n",
       "      <td>26552242</td>\n",
       "      <td>1</td>\n",
       "      <td>214</td>\n",
       "      <td>40.71054</td>\n",
       "      <td>-73.95908</td>\n",
       "      <td>1</td>\n",
       "      <td>2</td>\n",
       "      <td>2</td>\n",
       "      <td>1.25</td>\n",
       "      <td>1</td>\n",
       "      <td>19</td>\n",
       "    </tr>\n",
       "    <tr>\n",
       "      <th>511</th>\n",
       "      <td>8368973</td>\n",
       "      <td>22791</td>\n",
       "      <td>28916226</td>\n",
       "      <td>1</td>\n",
       "      <td>159</td>\n",
       "      <td>40.65774</td>\n",
       "      <td>-73.95202</td>\n",
       "      <td>0</td>\n",
       "      <td>1</td>\n",
       "      <td>0</td>\n",
       "      <td>0.00</td>\n",
       "      <td>1</td>\n",
       "      <td>0</td>\n",
       "    </tr>\n",
       "    <tr>\n",
       "      <th>...</th>\n",
       "      <td>...</td>\n",
       "      <td>...</td>\n",
       "      <td>...</td>\n",
       "      <td>...</td>\n",
       "      <td>...</td>\n",
       "      <td>...</td>\n",
       "      <td>...</td>\n",
       "      <td>...</td>\n",
       "      <td>...</td>\n",
       "      <td>...</td>\n",
       "      <td>...</td>\n",
       "      <td>...</td>\n",
       "      <td>...</td>\n",
       "    </tr>\n",
       "    <tr>\n",
       "      <th>7813</th>\n",
       "      <td>31212571</td>\n",
       "      <td>35875</td>\n",
       "      <td>201112506</td>\n",
       "      <td>2</td>\n",
       "      <td>95</td>\n",
       "      <td>40.76662</td>\n",
       "      <td>-73.98864</td>\n",
       "      <td>0</td>\n",
       "      <td>35</td>\n",
       "      <td>0</td>\n",
       "      <td>0.00</td>\n",
       "      <td>1</td>\n",
       "      <td>58</td>\n",
       "    </tr>\n",
       "    <tr>\n",
       "      <th>32511</th>\n",
       "      <td>29596175</td>\n",
       "      <td>27004</td>\n",
       "      <td>222782619</td>\n",
       "      <td>1</td>\n",
       "      <td>214</td>\n",
       "      <td>40.71560</td>\n",
       "      <td>-73.95233</td>\n",
       "      <td>1</td>\n",
       "      <td>2</td>\n",
       "      <td>7</td>\n",
       "      <td>0.86</td>\n",
       "      <td>1</td>\n",
       "      <td>0</td>\n",
       "    </tr>\n",
       "    <tr>\n",
       "      <th>5192</th>\n",
       "      <td>34504997</td>\n",
       "      <td>10106</td>\n",
       "      <td>252646618</td>\n",
       "      <td>3</td>\n",
       "      <td>4</td>\n",
       "      <td>40.76440</td>\n",
       "      <td>-73.91208</td>\n",
       "      <td>1</td>\n",
       "      <td>1</td>\n",
       "      <td>2</td>\n",
       "      <td>2.00</td>\n",
       "      <td>2</td>\n",
       "      <td>0</td>\n",
       "    </tr>\n",
       "    <tr>\n",
       "      <th>12172</th>\n",
       "      <td>544131</td>\n",
       "      <td>17580</td>\n",
       "      <td>534328</td>\n",
       "      <td>2</td>\n",
       "      <td>92</td>\n",
       "      <td>40.72987</td>\n",
       "      <td>-74.00082</td>\n",
       "      <td>1</td>\n",
       "      <td>4</td>\n",
       "      <td>87</td>\n",
       "      <td>1.02</td>\n",
       "      <td>1</td>\n",
       "      <td>30</td>\n",
       "    </tr>\n",
       "    <tr>\n",
       "      <th>33003</th>\n",
       "      <td>16965291</td>\n",
       "      <td>37599</td>\n",
       "      <td>10737943</td>\n",
       "      <td>2</td>\n",
       "      <td>202</td>\n",
       "      <td>40.78068</td>\n",
       "      <td>-73.97670</td>\n",
       "      <td>1</td>\n",
       "      <td>30</td>\n",
       "      <td>5</td>\n",
       "      <td>0.18</td>\n",
       "      <td>10</td>\n",
       "      <td>341</td>\n",
       "    </tr>\n",
       "  </tbody>\n",
       "</table>\n",
       "<p>23469 rows × 13 columns</p>\n",
       "</div>"
      ],
      "text/plain": [
       "             id   name    host_id  neighbourhood_group  neighbourhood  \\\n",
       "38190   9168809  17183   47718277                    1             13   \n",
       "33914   5649580   2131   29278028                    2            201   \n",
       "4966   22289185  36384   24715671                    2            127   \n",
       "18742  34594081  20193   26552242                    1            214   \n",
       "511     8368973  22791   28916226                    1            159   \n",
       "...         ...    ...        ...                  ...            ...   \n",
       "7813   31212571  35875  201112506                    2             95   \n",
       "32511  29596175  27004  222782619                    1            214   \n",
       "5192   34504997  10106  252646618                    3              4   \n",
       "12172    544131  17580     534328                    2             92   \n",
       "33003  16965291  37599   10737943                    2            202   \n",
       "\n",
       "       latitude  longitude  room_type  minimum_nights  number_of_reviews  \\\n",
       "38190  40.68878  -73.93109          1               1                 71   \n",
       "33914  40.77618  -73.95627          1               5                 56   \n",
       "4966   40.74197  -73.98328          0              30                  1   \n",
       "18742  40.71054  -73.95908          1               2                  2   \n",
       "511    40.65774  -73.95202          0               1                  0   \n",
       "...         ...        ...        ...             ...                ...   \n",
       "7813   40.76662  -73.98864          0              35                  0   \n",
       "32511  40.71560  -73.95233          1               2                  7   \n",
       "5192   40.76440  -73.91208          1               1                  2   \n",
       "12172  40.72987  -74.00082          1               4                 87   \n",
       "33003  40.78068  -73.97670          1              30                  5   \n",
       "\n",
       "       reviews_per_month  calculated_host_listings_count  availability_365  \n",
       "38190               1.61                               1                 0  \n",
       "33914               1.10                               4               145  \n",
       "4966                0.08                               4               177  \n",
       "18742               1.25                               1                19  \n",
       "511                 0.00                               1                 0  \n",
       "...                  ...                             ...               ...  \n",
       "7813                0.00                               1                58  \n",
       "32511               0.86                               1                 0  \n",
       "5192                2.00                               2                 0  \n",
       "12172               1.02                               1                30  \n",
       "33003               0.18                              10               341  \n",
       "\n",
       "[23469 rows x 13 columns]"
      ]
     },
     "execution_count": 45,
     "metadata": {},
     "output_type": "execute_result"
    }
   ],
   "source": [
    "X_train"
   ]
  },
  {
   "cell_type": "markdown",
   "id": "fa5c4d1e",
   "metadata": {},
   "source": []
  },
  {
   "cell_type": "markdown",
   "id": "8404bb65",
   "metadata": {},
   "source": [
    "https://scikit-learn.org/stable/modules/generated/sklearn.linear_model.ElasticNet.html#sklearn.linear_model.ElasticNet  \n",
    "### sklearn.linear_model.ElasticNet  \n",
    "(alpha=1.0, *, l1_ratio=0.5, fit_intercept=True, precompute=False, max_iter=1000, copy_X=True, tol=0.0001, warm_start=False, positive=False, random_state=None, selection='cyclic')"
   ]
  },
  {
   "cell_type": "code",
   "execution_count": 46,
   "id": "9a7afaf6",
   "metadata": {},
   "outputs": [],
   "source": [
    "from sklearn.linear_model import ElasticNet"
   ]
  },
  {
   "cell_type": "code",
   "execution_count": 73,
   "id": "625af70a",
   "metadata": {},
   "outputs": [
    {
     "data": {
      "text/plain": [
       "48879.45856688488"
      ]
     },
     "execution_count": 73,
     "metadata": {},
     "output_type": "execute_result"
    }
   ],
   "source": [
    "model = ElasticNet(random_state = 1000)\n",
    "model.fit(X_train, y_train)\n",
    "pred = model.predict(X_val)\n",
    "mean_squared_error(y_val, pred)"
   ]
  },
  {
   "cell_type": "markdown",
   "id": "374846a2",
   "metadata": {},
   "source": [
    "https://xgboost.readthedocs.io/en/stable/python/python_api.html#xgboost.XGBRegressor  \n",
    "### xgboost.XGBRegressor  \n",
    "(*, objective='reg:squarederror', **kwargs)"
   ]
  },
  {
   "cell_type": "code",
   "execution_count": 48,
   "id": "b11a4d39",
   "metadata": {
    "scrolled": true
   },
   "outputs": [],
   "source": [
    "from xgboost import XGBRegressor"
   ]
  },
  {
   "cell_type": "code",
   "execution_count": 60,
   "id": "2fd022ab",
   "metadata": {
    "scrolled": true
   },
   "outputs": [
    {
     "data": {
      "text/plain": [
       "54099.81685355695"
      ]
     },
     "execution_count": 60,
     "metadata": {},
     "output_type": "execute_result"
    }
   ],
   "source": [
    "model = XGBRegressor(random_state=2)\n",
    "\n",
    "model.fit(X_train, y_train)\n",
    "pred = model.predict(X_val)\n",
    "mean_squared_error(y_val, pred)"
   ]
  },
  {
   "cell_type": "code",
   "execution_count": 50,
   "id": "26cdab2e",
   "metadata": {
    "scrolled": true
   },
   "outputs": [
    {
     "name": "stdout",
     "output_type": "stream",
     "text": [
      "Requirement already satisfied: xgboost in /opt/conda/lib/python3.9/site-packages (1.7.2)\n",
      "Requirement already satisfied: scipy in /opt/conda/lib/python3.9/site-packages (from xgboost) (1.7.1)\n",
      "Requirement already satisfied: numpy in /opt/conda/lib/python3.9/site-packages (from xgboost) (1.22.2)\n",
      "\u001b[33mWARNING: Running pip as the 'root' user can result in broken permissions and conflicting behaviour with the system package manager. It is recommended to use a virtual environment instead: https://pip.pypa.io/warnings/venv\u001b[0m\u001b[33m\n",
      "\u001b[0mNote: you may need to restart the kernel to use updated packages.\n"
     ]
    }
   ],
   "source": [
    "pip install xgboost"
   ]
  },
  {
   "cell_type": "code",
   "execution_count": 51,
   "id": "bda03c9c",
   "metadata": {},
   "outputs": [],
   "source": [
    "from xgboost import XGBRegressor"
   ]
  },
  {
   "cell_type": "code",
   "execution_count": 59,
   "id": "f40b53b2",
   "metadata": {},
   "outputs": [
    {
     "data": {
      "text/plain": [
       "54099.81685355695"
      ]
     },
     "execution_count": 59,
     "metadata": {},
     "output_type": "execute_result"
    }
   ],
   "source": [
    "model.fit(X_train, y_train)\n",
    "pred = model.predict(X_val)\n",
    "mean_squared_error(y_val, pred)"
   ]
  },
  {
   "cell_type": "code",
   "execution_count": 53,
   "id": "eb298109",
   "metadata": {},
   "outputs": [
    {
     "name": "stdout",
     "output_type": "stream",
     "text": [
      "Requirement already satisfied: xgboost in /opt/conda/lib/python3.9/site-packages (1.7.2)\n",
      "Requirement already satisfied: numpy in /opt/conda/lib/python3.9/site-packages (from xgboost) (1.22.2)\n",
      "Requirement already satisfied: scipy in /opt/conda/lib/python3.9/site-packages (from xgboost) (1.7.1)\n",
      "\u001b[33mWARNING: Running pip as the 'root' user can result in broken permissions and conflicting behaviour with the system package manager. It is recommended to use a virtual environment instead: https://pip.pypa.io/warnings/venv\u001b[0m\u001b[33m\n",
      "\u001b[0mNote: you may need to restart the kernel to use updated packages.\n"
     ]
    }
   ],
   "source": [
    "pip install xgboost --upgrade"
   ]
  },
  {
   "cell_type": "code",
   "execution_count": 54,
   "id": "84df4c4f",
   "metadata": {},
   "outputs": [],
   "source": [
    "import xgboost as xg"
   ]
  },
  {
   "cell_type": "code",
   "execution_count": 55,
   "id": "3f638295",
   "metadata": {},
   "outputs": [
    {
     "data": {
      "text/plain": [
       "'1.7.2'"
      ]
     },
     "execution_count": 55,
     "metadata": {},
     "output_type": "execute_result"
    }
   ],
   "source": [
    "xg.__version__"
   ]
  },
  {
   "cell_type": "markdown",
   "id": "ef6cff63",
   "metadata": {},
   "source": [
    "https://scikit-learn.org/stable/modules/generated/sklearn.linear_model.Lasso.html#sklearn.linear_model.Lasso  \n",
    "### sklearn.linear_model.Lasso  \n",
    "(alpha=1.0, *, fit_intercept=True, precompute=False, copy_X=True, max_iter=1000, tol=0.0001, warm_start=False, positive=False, random_state=None, selection='cyclic')\n"
   ]
  },
  {
   "cell_type": "code",
   "execution_count": 69,
   "id": "57584c6d",
   "metadata": {},
   "outputs": [],
   "source": [
    "from sklearn.linear_model import Lasso"
   ]
  },
  {
   "cell_type": "code",
   "execution_count": 70,
   "id": "2729f319",
   "metadata": {},
   "outputs": [
    {
     "data": {
      "text/plain": [
       "47249.1231410426"
      ]
     },
     "execution_count": 70,
     "metadata": {},
     "output_type": "execute_result"
    }
   ],
   "source": [
    "model = Lasso()\n",
    "model.fit(X_train, y_train)\n",
    "pred = model.predict(X_val)\n",
    "mean_squared_error(y_val, pred)"
   ]
  },
  {
   "cell_type": "code",
   "execution_count": null,
   "id": "9b51b481",
   "metadata": {},
   "outputs": [],
   "source": []
  },
  {
   "cell_type": "markdown",
   "id": "ba876393",
   "metadata": {},
   "source": [
    "첫번째 실패했던 MSE 채점을 통해서  \n",
    "test라는 dataframe을 이런 저런 전처리 과정을 거치지 않았다는 사실을 알게되어 시작하려고 합니다."
   ]
  },
  {
   "cell_type": "code",
   "execution_count": 56,
   "id": "585c2391",
   "metadata": {},
   "outputs": [
    {
     "name": "stdout",
     "output_type": "stream",
     "text": [
      "<class 'pandas.core.frame.DataFrame'>\n",
      "RangeIndex: 9779 entries, 0 to 9778\n",
      "Data columns (total 15 columns):\n",
      " #   Column                          Non-Null Count  Dtype  \n",
      "---  ------                          --------------  -----  \n",
      " 0   id                              9779 non-null   int64  \n",
      " 1   name                            9779 non-null   int64  \n",
      " 2   host_id                         9779 non-null   int64  \n",
      " 3   host_name                       9779 non-null   object \n",
      " 4   neighbourhood_group             9779 non-null   int64  \n",
      " 5   neighbourhood                   9779 non-null   int64  \n",
      " 6   latitude                        9779 non-null   float64\n",
      " 7   longitude                       9779 non-null   float64\n",
      " 8   room_type                       9779 non-null   int64  \n",
      " 9   minimum_nights                  9779 non-null   int64  \n",
      " 10  number_of_reviews               9779 non-null   int64  \n",
      " 11  last_review                     9779 non-null   object \n",
      " 12  reviews_per_month               9779 non-null   float64\n",
      " 13  calculated_host_listings_count  9779 non-null   int64  \n",
      " 14  availability_365                9779 non-null   int64  \n",
      "dtypes: float64(3), int64(10), object(2)\n",
      "memory usage: 1.1+ MB\n"
     ]
    }
   ],
   "source": [
    "te.info()"
   ]
  },
  {
   "cell_type": "markdown",
   "id": "edda6cba",
   "metadata": {},
   "source": [
    "te라는 dataframe을 tr이라는 dataframe처럼 똑같이 만들어야 겠어요."
   ]
  },
  {
   "cell_type": "code",
   "execution_count": 57,
   "id": "d0c99111",
   "metadata": {},
   "outputs": [],
   "source": [
    "te = te.drop([\"host_name\", 'last_review'], axis = 1)"
   ]
  },
  {
   "cell_type": "markdown",
   "id": "7856f30b",
   "metadata": {},
   "source": [
    "### MSE 채점\n",
    "mean_squared_error(y_test, pred)  \n",
    "https://scikit-learn.org/stable/modules/generated/sklearn.metrics.mean_squared_error.html#sklearn.metrics.mean_squared_error"
   ]
  },
  {
   "cell_type": "code",
   "execution_count": 76,
   "id": "87ec8b9e",
   "metadata": {},
   "outputs": [
    {
     "data": {
      "text/plain": [
       "49389.70276091616"
      ]
     },
     "execution_count": 76,
     "metadata": {},
     "output_type": "execute_result"
    }
   ],
   "source": [
    "pred = model.predict(te)\n",
    "mean_squared_error(y_te, pred)"
   ]
  },
  {
   "cell_type": "code",
   "execution_count": null,
   "id": "3ac40c28",
   "metadata": {},
   "outputs": [],
   "source": []
  },
  {
   "cell_type": "code",
   "execution_count": null,
   "id": "a96d7cfe",
   "metadata": {},
   "outputs": [],
   "source": []
  },
  {
   "cell_type": "code",
   "execution_count": null,
   "id": "a13264c8",
   "metadata": {},
   "outputs": [],
   "source": []
  },
  {
   "cell_type": "markdown",
   "id": "b7df4a27",
   "metadata": {},
   "source": [
    "### 첫 번째 실패작"
   ]
  },
  {
   "cell_type": "code",
   "execution_count": 441,
   "id": "55a72641",
   "metadata": {
    "scrolled": false
   },
   "outputs": [
    {
     "name": "stderr",
     "output_type": "stream",
     "text": [
      "/opt/conda/lib/python3.9/site-packages/sklearn/base.py:484: FutureWarning: The feature names should match those that were passed during fit. Starting version 1.2, an error will be raised.\n",
      "Feature names unseen at fit time:\n",
      "- host_name\n",
      "- last_review\n",
      "Feature names seen at fit time, yet now missing:\n",
      "- host_id\n",
      "- id\n",
      "\n",
      "  warnings.warn(message, FutureWarning)\n"
     ]
    },
    {
     "data": {
      "text/plain": [
       "3568513001.551075"
      ]
     },
     "execution_count": 441,
     "metadata": {},
     "output_type": "execute_result"
    }
   ],
   "source": [
    "pred = model.predict(te)\n",
    "mean_squared_error(y_te, pred)"
   ]
  },
  {
   "cell_type": "markdown",
   "id": "1f3ac201",
   "metadata": {},
   "source": [
    "왜 35억?  \n",
    "te라는 데이터프레임을 전처리를 하지도 않았다.  \n",
    "나는 바보였다."
   ]
  },
  {
   "cell_type": "markdown",
   "id": "2e3ae891",
   "metadata": {},
   "source": []
  },
  {
   "cell_type": "markdown",
   "id": "b25f17ad",
   "metadata": {},
   "source": [
    "## 회고\n",
    "프로젝트 목적: 가격 예측(price)  \n",
    "제공 데이터(3개): train.csv, test.csv, y_test(최종 채점용)  \n",
    "평가 방식: MSE (평균제곱오차/ 실제 값과 예측 값 차이 ->제곱해 평균)\n",
    "\n",
    "Ridge 회귀 모델을 사용하여 49389.70276091616 이라는 값을 얻었습니다.\n",
    "51xxx보다는 낮은 수치를 얻었지만 스케일링 작업을 하지 않은 상태여서   \n",
    "회고를 다 쓰고 난 후에 다시 도전 해봐야겠다는 마음가짐이 생겼습니다.  \n",
    "\n",
    "#### 느낀점  \n",
    "\n",
    "1.EDA  \n",
    "의미없는 테스트를 하고 왜 해야하는지 의문을 품으면서 다음으로 넘어갔거든요.  \n",
    "데이터를 바라보는 저 자신의 마음가짐이 부족했다고 생각합니다.  \n",
    "왜 하는지 어떻게 해야하는지 제대로 인지 못한 상태에서 프로젝트를 시작하게 되었거든요.  \n",
    "https://jalynne-kim.medium.com/데이터분석-기초-eda의-개념과-데이터분석-잘-하는-법-a3cac2cc5ebc  \n",
    "위에 사이트를 덕분에 EDA의 중요성을 많이 느꼈습니다.  \n",
    "데이터를 잘 읽어내는 힘이 필요하다.  \n",
    "결측치 처리 및 데이터 필터링 기술이 필요하다.  \n",
    "누구에게나 이해하기 쉬운 시각화를 해야한다.  \n",
    "나 자신이 너무 가벼운 마음가짐으로 데이터를 임했다는 부분이 부끄러워졌습니다.  \n",
    "\n",
    "2.표준화 및 정규화  \n",
    "실질적인 사용 방법 및 활용 그리고 이론 또한 잘 모르기에 시간을 다른 부분에 많은 소비를 하게 되어  \n",
    "표준화 및 정규화 작업을 생략하게 되어 더 좋은 결과를 만들지 못 했습니다.  \n",
    "\n",
    "3.Ridge, Ridgeclassifier  \n",
    "두가지 종류가 있다는 사실을 처음 알게 되었습니다.  \n",
    "마치 pandas의 series, dataframe은 느낌을 받았습니다.  \n",
    "같은 것만 같은데 종종 다른 사용 방식 및 의미를 가졌더라구요.  \n",
    "\n",
    "\n",
    "이와 같은 과정을 겪어 짧게만 느껴졌던 1일 동안 더 넓은 시야를 얻게되고 마음가짐도 단단해지고 나름 성장한 시간이였습니다.\n",
    "\n",
    "P.S. 날씨가 쌀쌀하네요. 건강 유의하세요 :)"
   ]
  },
  {
   "cell_type": "code",
   "execution_count": null,
   "id": "e165512d",
   "metadata": {},
   "outputs": [],
   "source": []
  }
 ],
 "metadata": {
  "kernelspec": {
   "display_name": "Python 3 (ipykernel)",
   "language": "python",
   "name": "python3"
  },
  "language_info": {
   "codemirror_mode": {
    "name": "ipython",
    "version": 3
   },
   "file_extension": ".py",
   "mimetype": "text/x-python",
   "name": "python",
   "nbconvert_exporter": "python",
   "pygments_lexer": "ipython3",
   "version": "3.9.7"
  }
 },
 "nbformat": 4,
 "nbformat_minor": 5
}
