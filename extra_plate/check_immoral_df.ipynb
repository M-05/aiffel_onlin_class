{
 "cells": [
  {
   "cell_type": "code",
   "execution_count": 1,
   "id": "d4f4a175",
   "metadata": {},
   "outputs": [],
   "source": [
    "import pandas as pd\n",
    "import json\n",
    "import os\n",
    "import numpy as np\n",
    "from tqdm import tqdm"
   ]
  },
  {
   "cell_type": "code",
   "execution_count": 4,
   "id": "716da77b",
   "metadata": {},
   "outputs": [
    {
     "data": {
      "text/html": [
       "<div>\n",
       "<style scoped>\n",
       "    .dataframe tbody tr th:only-of-type {\n",
       "        vertical-align: middle;\n",
       "    }\n",
       "\n",
       "    .dataframe tbody tr th {\n",
       "        vertical-align: top;\n",
       "    }\n",
       "\n",
       "    .dataframe thead th {\n",
       "        text-align: right;\n",
       "    }\n",
       "</style>\n",
       "<table border=\"1\" class=\"dataframe\">\n",
       "  <thead>\n",
       "    <tr style=\"text-align: right;\">\n",
       "      <th></th>\n",
       "      <th>idx</th>\n",
       "      <th>class</th>\n",
       "      <th>conversation</th>\n",
       "      <th>types</th>\n",
       "      <th>intensity</th>\n",
       "      <th>is_immoral</th>\n",
       "    </tr>\n",
       "  </thead>\n",
       "  <tbody>\n",
       "    <tr>\n",
       "      <th>0</th>\n",
       "      <td>0</td>\n",
       "      <td>위협대화</td>\n",
       "      <td>형광색 바지 입는 급식들 왜 이렇게 많아?\\nㅈ같은 유행 돌았나보네ㅋㅋ\\n형광 바지...</td>\n",
       "      <td>IMMORAL_NONE\\nABUSE\\nVIOLENCE</td>\n",
       "      <td>[0, 1.6, 1.8]</td>\n",
       "      <td>[False, True, True]</td>\n",
       "    </tr>\n",
       "    <tr>\n",
       "      <th>1</th>\n",
       "      <td>1</td>\n",
       "      <td>위협대화</td>\n",
       "      <td>자기 몸 긍정 운동가들이라고 하면서 꼴값 떠는 한녀들을 죽여 버리고 싶다.\\n자기 ...</td>\n",
       "      <td>HATE\\nVIOLENCE\\nIMMORAL_NONE\\nIMMORAL_NONE\\nIM...</td>\n",
       "      <td>[1.6, 0, 0, 0, 0]</td>\n",
       "      <td>[True, False, False, False, False]</td>\n",
       "    </tr>\n",
       "    <tr>\n",
       "      <th>2</th>\n",
       "      <td>2</td>\n",
       "      <td>위협대화</td>\n",
       "      <td>난 아침에는 항상 시리얼을 먹어\\n그딴 과자부스러기를 왜먹어?\\n너도 같은 부스러기...</td>\n",
       "      <td>IMMORAL_NONE\\nCENSURE\\nHATE\\nCENSURE</td>\n",
       "      <td>[0, 1.0, 1.4]</td>\n",
       "      <td>[False, True, True]</td>\n",
       "    </tr>\n",
       "    <tr>\n",
       "      <th>3</th>\n",
       "      <td>3</td>\n",
       "      <td>위협대화</td>\n",
       "      <td>저는 제 와이프가 너무 자랑스러워요\\n유일하게 남자들 세계를 잘 이해해주거든요\\n자...</td>\n",
       "      <td>IMMORAL_NONE\\nIMMORAL_NONE\\nCENSURE</td>\n",
       "      <td>[0, 0, 1.0]</td>\n",
       "      <td>[False, False, True]</td>\n",
       "    </tr>\n",
       "    <tr>\n",
       "      <th>4</th>\n",
       "      <td>4</td>\n",
       "      <td>위협대화</td>\n",
       "      <td>애들은 흙을 좀 만지면서 커야 해.\\n그랬다가 나중에 공부라도 못하게 된다면 도시로...</td>\n",
       "      <td>IMMORAL_NONE\\nCENSURE\\nCENSURE</td>\n",
       "      <td>[0, 1.4, 1.0]</td>\n",
       "      <td>[False, True, True]</td>\n",
       "    </tr>\n",
       "    <tr>\n",
       "      <th>...</th>\n",
       "      <td>...</td>\n",
       "      <td>...</td>\n",
       "      <td>...</td>\n",
       "      <td>...</td>\n",
       "      <td>...</td>\n",
       "      <td>...</td>\n",
       "    </tr>\n",
       "    <tr>\n",
       "      <th>98440</th>\n",
       "      <td>98440</td>\n",
       "      <td>위협대화</td>\n",
       "      <td>울 학교 선배들 벌써부터 군기 잡더라\\n머가리 곡괭이로 요단강 내버리고 싶겠네ㅋㅋ\\...</td>\n",
       "      <td>IMMORAL_NONE\\nVIOLENCE\\nVIOLENCE</td>\n",
       "      <td>[0, 1.8, 1.8]</td>\n",
       "      <td>[False, True, True]</td>\n",
       "    </tr>\n",
       "    <tr>\n",
       "      <th>98441</th>\n",
       "      <td>98441</td>\n",
       "      <td>위협대화</td>\n",
       "      <td>월급 들어오기까지 한참 남았는데 돈 나갈 일이 너무 많네\\n너 여자니까 몸이 상품이...</td>\n",
       "      <td>IMMORAL_NONE\\nDISCRIMINATION\\nHATE\\nCENSURE\\nS...</td>\n",
       "      <td>[0, 1.8, 1.8]</td>\n",
       "      <td>[False, True, True]</td>\n",
       "    </tr>\n",
       "    <tr>\n",
       "      <th>98442</th>\n",
       "      <td>98442</td>\n",
       "      <td>위협대화</td>\n",
       "      <td>쟤 아버지가 도박 중독자라며?\\n맞아 조만간 빚더미에 앉을걸?\\n도박하는 사람들이랑...</td>\n",
       "      <td>CENSURE\\nCENSURE\\nIMMORAL_NONE\\nDISCRIMINATION...</td>\n",
       "      <td>[1.6, 1.4, 0, 1.6, 1.4]</td>\n",
       "      <td>[True, True, False, True, True]</td>\n",
       "    </tr>\n",
       "    <tr>\n",
       "      <th>98443</th>\n",
       "      <td>98443</td>\n",
       "      <td>위협대화</td>\n",
       "      <td>너 여자친구랑 동거해?\\n응응 동거하지\\n진짜 징하게 먹겠네</td>\n",
       "      <td>IMMORAL_NONE\\nIMMORAL_NONE\\nSEXUAL</td>\n",
       "      <td>[0, 0, 1.8]</td>\n",
       "      <td>[False, False, True]</td>\n",
       "    </tr>\n",
       "    <tr>\n",
       "      <th>98444</th>\n",
       "      <td>98444</td>\n",
       "      <td>위협대화</td>\n",
       "      <td>생각 좀 하고 살았으면 좋겠다 보통 누가 저런짓을 하냐\\n지가 개념이 없는거면서 남...</td>\n",
       "      <td>IMMORAL_NONE\\nIMMORAL_NONE\\nCENSURE</td>\n",
       "      <td>[0, 0, 1.0]</td>\n",
       "      <td>[False, False, True]</td>\n",
       "    </tr>\n",
       "  </tbody>\n",
       "</table>\n",
       "<p>98445 rows × 6 columns</p>\n",
       "</div>"
      ],
      "text/plain": [
       "         idx class                                       conversation  \\\n",
       "0          0  위협대화  형광색 바지 입는 급식들 왜 이렇게 많아?\\nㅈ같은 유행 돌았나보네ㅋㅋ\\n형광 바지...   \n",
       "1          1  위협대화  자기 몸 긍정 운동가들이라고 하면서 꼴값 떠는 한녀들을 죽여 버리고 싶다.\\n자기 ...   \n",
       "2          2  위협대화  난 아침에는 항상 시리얼을 먹어\\n그딴 과자부스러기를 왜먹어?\\n너도 같은 부스러기...   \n",
       "3          3  위협대화  저는 제 와이프가 너무 자랑스러워요\\n유일하게 남자들 세계를 잘 이해해주거든요\\n자...   \n",
       "4          4  위협대화  애들은 흙을 좀 만지면서 커야 해.\\n그랬다가 나중에 공부라도 못하게 된다면 도시로...   \n",
       "...      ...   ...                                                ...   \n",
       "98440  98440  위협대화  울 학교 선배들 벌써부터 군기 잡더라\\n머가리 곡괭이로 요단강 내버리고 싶겠네ㅋㅋ\\...   \n",
       "98441  98441  위협대화  월급 들어오기까지 한참 남았는데 돈 나갈 일이 너무 많네\\n너 여자니까 몸이 상품이...   \n",
       "98442  98442  위협대화  쟤 아버지가 도박 중독자라며?\\n맞아 조만간 빚더미에 앉을걸?\\n도박하는 사람들이랑...   \n",
       "98443  98443  위협대화                  너 여자친구랑 동거해?\\n응응 동거하지\\n진짜 징하게 먹겠네   \n",
       "98444  98444  위협대화  생각 좀 하고 살았으면 좋겠다 보통 누가 저런짓을 하냐\\n지가 개념이 없는거면서 남...   \n",
       "\n",
       "                                                   types  \\\n",
       "0                          IMMORAL_NONE\\nABUSE\\nVIOLENCE   \n",
       "1      HATE\\nVIOLENCE\\nIMMORAL_NONE\\nIMMORAL_NONE\\nIM...   \n",
       "2                   IMMORAL_NONE\\nCENSURE\\nHATE\\nCENSURE   \n",
       "3                    IMMORAL_NONE\\nIMMORAL_NONE\\nCENSURE   \n",
       "4                         IMMORAL_NONE\\nCENSURE\\nCENSURE   \n",
       "...                                                  ...   \n",
       "98440                   IMMORAL_NONE\\nVIOLENCE\\nVIOLENCE   \n",
       "98441  IMMORAL_NONE\\nDISCRIMINATION\\nHATE\\nCENSURE\\nS...   \n",
       "98442  CENSURE\\nCENSURE\\nIMMORAL_NONE\\nDISCRIMINATION...   \n",
       "98443                 IMMORAL_NONE\\nIMMORAL_NONE\\nSEXUAL   \n",
       "98444                IMMORAL_NONE\\nIMMORAL_NONE\\nCENSURE   \n",
       "\n",
       "                     intensity                          is_immoral  \n",
       "0                [0, 1.6, 1.8]                 [False, True, True]  \n",
       "1            [1.6, 0, 0, 0, 0]  [True, False, False, False, False]  \n",
       "2                [0, 1.0, 1.4]                 [False, True, True]  \n",
       "3                  [0, 0, 1.0]                [False, False, True]  \n",
       "4                [0, 1.4, 1.0]                 [False, True, True]  \n",
       "...                        ...                                 ...  \n",
       "98440            [0, 1.8, 1.8]                 [False, True, True]  \n",
       "98441            [0, 1.8, 1.8]                 [False, True, True]  \n",
       "98442  [1.6, 1.4, 0, 1.6, 1.4]     [True, True, False, True, True]  \n",
       "98443              [0, 0, 1.8]                [False, False, True]  \n",
       "98444              [0, 0, 1.0]                [False, False, True]  \n",
       "\n",
       "[98445 rows x 6 columns]"
      ]
     },
     "execution_count": 4,
     "metadata": {},
     "output_type": "execute_result"
    }
   ],
   "source": [
    "try_df = pd.read_csv(\"immoral(entire).csv\")\n",
    "try_df"
   ]
  },
  {
   "cell_type": "markdown",
   "id": "76dac397",
   "metadata": {},
   "source": [
    "### 2.0 이상 있는지 없는지 확인"
   ]
  },
  {
   "cell_type": "code",
   "execution_count": null,
   "id": "e23f8d5c",
   "metadata": {},
   "outputs": [],
   "source": [
    "def range_intensity(values):\n",
    "    return any([value >= 2.0 for value in values])"
   ]
  },
  {
   "cell_type": "code",
   "execution_count": null,
   "id": "ddc3fcef",
   "metadata": {},
   "outputs": [],
   "source": [
    "# df = try_df['intensity'].apply(range_intensity)"
   ]
  },
  {
   "cell_type": "markdown",
   "id": "1a3c1499",
   "metadata": {},
   "source": [
    "### 분리하는 함수 정의하기"
   ]
  },
  {
   "cell_type": "code",
   "execution_count": null,
   "id": "1821f041",
   "metadata": {},
   "outputs": [],
   "source": [
    "def range_df():\n",
    "    df = try_df['intensity'].apply(range_intensity)\n",
    "    df = list(df[df].index) # index만 추출\n",
    "    df = try_df.iloc[df]\n",
    "    df = df[['class', 'conversation', 'types']]\n",
    "    df = df.reset_index().reset_index()\n",
    "    df.drop(labels=\"index\", axis=1, inplace=True)\n",
    "    df.rename(columns={'level_0': 'idx'}, inplace=True)\n",
    "    return df"
   ]
  },
  {
   "cell_type": "markdown",
   "id": "671d9b97",
   "metadata": {},
   "source": [
    "### 실행"
   ]
  },
  {
   "cell_type": "code",
   "execution_count": null,
   "id": "dd97b47a",
   "metadata": {},
   "outputs": [],
   "source": [
    "df_20 = range_df()"
   ]
  },
  {
   "cell_type": "markdown",
   "id": "5e07de36",
   "metadata": {},
   "source": [
    "### 저장"
   ]
  },
  {
   "cell_type": "code",
   "execution_count": null,
   "id": "69f37aa3",
   "metadata": {},
   "outputs": [],
   "source": [
    "df_20.to_csv(\"more_than_20_immoral.csv\", index=False)"
   ]
  },
  {
   "cell_type": "code",
   "execution_count": null,
   "id": "040dce47",
   "metadata": {},
   "outputs": [],
   "source": []
  },
  {
   "cell_type": "code",
   "execution_count": null,
   "id": "152a3c7e",
   "metadata": {},
   "outputs": [],
   "source": []
  },
  {
   "cell_type": "code",
   "execution_count": null,
   "id": "d5b1a605",
   "metadata": {},
   "outputs": [],
   "source": []
  },
  {
   "cell_type": "markdown",
   "id": "b304aee4",
   "metadata": {},
   "source": [
    "### 번외\n",
    "json2csv"
   ]
  },
  {
   "cell_type": "code",
   "execution_count": null,
   "id": "9c800740",
   "metadata": {},
   "outputs": [],
   "source": [
    "def make_dataframe(json_data):\n",
    "    pd.DataFrame(index=range(0, len(json_data)), columns=['idx', 'class','conversation', 'types', 'intensity', 'is_immoral'])\n",
    "\n",
    "    for i in tqdm(range(len(json_data))):\n",
    "        text = []\n",
    "        intensity = []\n",
    "        is_immoral = []\n",
    "        types = []\n",
    "        for j in range(len(json_data[i]['sentences'])):\n",
    "            text.append(json_data[i]['sentences'][j]['text'])\n",
    "            intensity.append(json_data[i]['sentences'][j]['intensity'])  # 2.0 <=\n",
    "            is_immoral.append(json_data[i]['sentences'][j]['is_immoral']) # True\n",
    "            types += json_data[i]['sentences'][j]['types'] # censure\n",
    "\n",
    "        # 타입을 평탄화 및 리스트 형태로 변경\n",
    "        types = np.ndarray.flatten(np.array(types)).tolist()\n",
    "\n",
    "        # dataframe 에 넣기\n",
    "        df['idx'][i] = i\n",
    "        df['class'][i] = \"위협대화\"\n",
    "        df['conversation'][i] = \"\\n\".join(text)\n",
    "        df['types'][i] = \"\\n\".join(types)\n",
    "        df['intensity'][i] = intensity\n",
    "        df['is_immoral'][i] = is_immoral\n",
    "        \n",
    "    return df"
   ]
  },
  {
   "cell_type": "markdown",
   "id": "b126a369",
   "metadata": {},
   "source": [
    "### 위치 지정"
   ]
  },
  {
   "cell_type": "code",
   "execution_count": 5,
   "id": "645a6a4e",
   "metadata": {},
   "outputs": [],
   "source": [
    "json_files = os.listdir(\"immoral_json_talksets\")\n",
    "json_files.sort()\n",
    "path = \"immoral_json_talksets\""
   ]
  },
  {
   "cell_type": "code",
   "execution_count": 6,
   "id": "94eabe99",
   "metadata": {},
   "outputs": [
    {
     "data": {
      "text/plain": [
       "['talksets-train-1_aihub.json',\n",
       " 'talksets-train-2.json',\n",
       " 'talksets-train-3.json',\n",
       " 'talksets-train-4.json',\n",
       " 'talksets-train-5.json']"
      ]
     },
     "execution_count": 6,
     "metadata": {},
     "output_type": "execute_result"
    }
   ],
   "source": [
    "json_files"
   ]
  },
  {
   "cell_type": "markdown",
   "id": "ec329650",
   "metadata": {},
   "source": [
    "### json 불러오기"
   ]
  },
  {
   "cell_type": "code",
   "execution_count": null,
   "id": "5a1d564b",
   "metadata": {},
   "outputs": [],
   "source": [
    "with open(os.path.join(path, json_files[0]), 'r') as f:\n",
    "    json_data = json.load(f)"
   ]
  },
  {
   "cell_type": "markdown",
   "id": "80bd4153",
   "metadata": {},
   "source": [
    "### 함수 실행"
   ]
  },
  {
   "cell_type": "code",
   "execution_count": null,
   "id": "21cb5ac9",
   "metadata": {},
   "outputs": [],
   "source": [
    "dataframe = make_dataframe(json_data)"
   ]
  }
 ],
 "metadata": {
  "kernelspec": {
   "display_name": "Python 3 (ipykernel)",
   "language": "python",
   "name": "python3"
  },
  "language_info": {
   "codemirror_mode": {
    "name": "ipython",
    "version": 3
   },
   "file_extension": ".py",
   "mimetype": "text/x-python",
   "name": "python",
   "nbconvert_exporter": "python",
   "pygments_lexer": "ipython3",
   "version": "3.9.7"
  }
 },
 "nbformat": 4,
 "nbformat_minor": 5
}
