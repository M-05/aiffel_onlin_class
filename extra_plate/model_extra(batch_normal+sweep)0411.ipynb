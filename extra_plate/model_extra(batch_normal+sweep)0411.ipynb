{
 "cells": [
  {
   "cell_type": "markdown",
   "id": "d3ca97e1",
   "metadata": {},
   "source": [
    "### 가진 데이터셋 imp, exp 분류를 위한 Model_extra 만들기 및 위협대화를 exp,imp로 구분\n",
    "\n",
    "\n",
    "Model_extra : 일반적인 대화 문맥 데이터와 /명시적 언어폭력만을 학습해서,{dktc로는 학습을 하지 않음}  \n",
    "우리가 가진 dktc 데이터 중 exp와 imp를 분리한다.  \n",
    "\n",
    "모델1, 2와의 차이점? : 모델 1이 우리가 가진 dktc데이터 중의 exp만으로 학습을 해야 하기 때문에  \n",
    "dktc 데이터를 exp, imp로 분류하는 모델이 model_extra다. 원리는 모델1과 같음(쓰레스홀딩해서 imp 빼기)  \n",
    "\n",
    "\n",
    "쓸 데이터셋 : 일상대화문, 비윤리대화문 immoral.csv  \n"
   ]
  },
  {
   "cell_type": "code",
   "execution_count": null,
   "id": "e64c677a",
   "metadata": {},
   "outputs": [],
   "source": [
    "!pip install keras-bert\n",
    "!pip install keras-radam\n",
    "!pip install wandb\n",
    "\n",
    "# !pip install tensorflow==2.12.0"
   ]
  },
  {
   "cell_type": "code",
   "execution_count": 1,
   "id": "88022199",
   "metadata": {},
   "outputs": [],
   "source": [
    "# 라이브러리 import 및 주요 라이브러리 버전 확인 \n",
    "import wandb\n",
    "from wandb.keras import WandbCallback\n",
    "\n",
    "import uuid\n",
    "# uuid.uuid4() -> UUID('e4392169-4184-43ba-88c9-157d87472c82')\n",
    "\n",
    "import tensorflow as tf\n",
    "from tensorflow.keras.layers import GlobalAveragePooling1D, Dense, GlobalMaxPooling1D\n",
    "\n",
    "import pandas as pd\n",
    "import numpy as np  \n",
    "import re\n",
    "import pickle\n",
    "from sklearn.model_selection import train_test_split\n",
    "\n",
    "import keras as keras\n",
    "from keras.models import load_model\n",
    "from keras import backend as K\n",
    "from keras import Input, Model\n",
    "from keras import optimizers\n",
    "\n",
    "import codecs\n",
    "from tqdm import tqdm\n",
    "import shutil\n",
    "\n",
    "import json\n",
    "\n",
    "import os\n",
    "import warnings\n",
    "import tensorflow as tf\n",
    "warnings.filterwarnings(action='ignore')\n",
    "os.environ['TF_CPP_MIN_LOG_LEVEL'] = '3' \n",
    "# tf.logging.set_verbosity(tf.logging.ERROR)\n",
    "\n",
    "from keras_bert import load_trained_model_from_checkpoint, load_vocabulary\n",
    "from keras_bert import Tokenizer\n",
    "from keras_bert import AdamWarmup, calc_train_steps\n",
    "\n",
    "from keras_radam import RAdam\n",
    "from keras_radam.training import RAdamOptimizer"
   ]
  },
  {
   "cell_type": "markdown",
   "id": "c25c4781",
   "metadata": {},
   "source": [
    "## 학습에 쓸 데이터 로딩"
   ]
  },
  {
   "cell_type": "code",
   "execution_count": 2,
   "id": "be2bbfc1",
   "metadata": {},
   "outputs": [],
   "source": [
    "# daily train & validation\n",
    "daily_train_df = pd.read_csv(\"daily_train.csv\", usecols=['class','conversation']) #일상대화 train 병합 데이터\n",
    "daily_val_df = pd.read_csv(\"daily_val.csv\", usecols=['class','conversation']) #일상대화 val 병합 데이터"
   ]
  },
  {
   "cell_type": "code",
   "execution_count": 3,
   "id": "44bcf0d1",
   "metadata": {},
   "outputs": [],
   "source": [
    "#immoral.csv -> immoral_extra.csv\n",
    "immoral_df = pd.read_csv(\"immoral_extra.csv\", usecols=['class','conversation']) #명시적인 위협적 언어폭력만을 모아둠. 모델 extra의 학습할 데이터가 된다.\n",
    "immoral_df = immoral_df.sample(frac=1).reset_index(drop=True) # 행 섞기\n",
    "\n",
    "\n",
    "# hate train_validation_split\n",
    "hate_train_df, hate_val_df = train_test_split(immoral_df, test_size=0.2)"
   ]
  },
  {
   "cell_type": "code",
   "execution_count": 4,
   "id": "cb439128",
   "metadata": {},
   "outputs": [
    {
     "name": "stdout",
     "output_type": "stream",
     "text": [
      "(87690, 2)\n",
      "(10962, 2)\n"
     ]
    }
   ],
   "source": [
    "print(daily_train_df.shape)\n",
    "print(daily_val_df.shape)"
   ]
  },
  {
   "cell_type": "code",
   "execution_count": 5,
   "id": "86bef72f",
   "metadata": {},
   "outputs": [
    {
     "name": "stdout",
     "output_type": "stream",
     "text": [
      "(94512, 2)\n",
      "(23628, 2)\n"
     ]
    }
   ],
   "source": [
    "print(hate_train_df.shape)\n",
    "print(hate_val_df.shape)"
   ]
  },
  {
   "cell_type": "code",
   "execution_count": 4,
   "id": "3d6d3e13",
   "metadata": {},
   "outputs": [],
   "source": [
    "## 테스트를 위한 샘플 만들어두기\n",
    "\n",
    "daily_train_df_t =daily_train_df.sample(n=50, random_state=1004)\n",
    "hate_train_df_t =hate_train_df.sample(n=50, random_state=1004)\n",
    "\n",
    "#몇개만 샘플링\n",
    "\n",
    "hate_train_df_t['conversation'] = hate_train_df_t['conversation'].apply(lambda x: re.sub(r'[^\\w\\s]', '', x))\n",
    "\n",
    "\n",
    "train_df_t = pd.concat([daily_train_df_t, hate_train_df_t], join=\"inner\")\n",
    "train_df_t.reset_index(drop=\"index\", inplace=True)"
   ]
  },
  {
   "cell_type": "code",
   "execution_count": 5,
   "id": "aef6eb76",
   "metadata": {},
   "outputs": [],
   "source": [
    "daily_train_df =daily_train_df.sample(n=50, random_state=1004)\n",
    "daily_val_df =daily_val_df.sample(n=10, random_state=1004)\n",
    "\n",
    "hate_train_df =hate_train_df.sample(n=50, random_state=1004)\n",
    "hate_val_df =hate_val_df.sample(n=10, random_state=1004)\n",
    "#몇개만 샘플링\n",
    "\n",
    "hate_train_df['conversation'] = hate_train_df['conversation'].apply(lambda x: re.sub(r'[^\\w\\s]', '', x))\n",
    "hate_val_df['conversation'] = hate_val_df['conversation'].apply(lambda x: re.sub(r'[^\\w\\s]', '', x))\n",
    "#특수문자 제거"
   ]
  },
  {
   "cell_type": "code",
   "execution_count": 6,
   "id": "6d7d8f88",
   "metadata": {},
   "outputs": [],
   "source": [
    "train_df = pd.concat([daily_train_df, hate_train_df], join=\"inner\")\n",
    "train_df.reset_index(drop=\"index\", inplace=True)"
   ]
  },
  {
   "cell_type": "code",
   "execution_count": 7,
   "id": "f1713269",
   "metadata": {},
   "outputs": [],
   "source": [
    "val_df = pd.concat([daily_val_df, hate_val_df], join=\"inner\")\n",
    "val_df.reset_index(drop=\"index\", inplace=True)"
   ]
  },
  {
   "cell_type": "code",
   "execution_count": 8,
   "id": "7f57fc2f",
   "metadata": {},
   "outputs": [],
   "source": [
    "for i in range(10):\n",
    "    train_df = train_df.sample(frac=1).reset_index(drop=True) #많이 섞기\n",
    "\n",
    "for i in range(10):\n",
    "    val_df = val_df.sample(frac=1).reset_index(drop=True)#많이 섞기"
   ]
  },
  {
   "cell_type": "code",
   "execution_count": 12,
   "id": "3f0a305a",
   "metadata": {},
   "outputs": [
    {
     "data": {
      "text/plain": [
       "(   class                                       conversation\n",
       " 0   일상대화  요즘 불임부부도 많대.\\n맞아 공해와 스트레스 때문이라네\\n맞아 주변에도 쉽게 찾아...\n",
       " 1   일상대화  네가 추천해준 가비지타임이라는 웹툰 정말 재미있더라\\n네가 농구 좋아해서 그것도 좋...\n",
       " 2   일상대화  한식 자격증이나 한번 심심한데 따볼까?\\n한식은 이미 잘하니까 다른거 따보자.\\n그...\n",
       " 3   위협대화  너는 거지 인증 하는 것도 아니고 또 돈뜯을 궁리만 하냐\\n거지도 너만큼 돈 뜯어내...\n",
       " 4   위협대화  아 우리 회사 밥 너무 개같이 나옴\\n그런 폐급 회사 다니면서 뭔 밥이 잘나오길 기...\n",
       " ..   ...                                                ...\n",
       " 95  일상대화  * 벌써 백신 70% 맞았대\\n와우 우리가 그럼 삼십퍼\\n그래 어쩐지 주위에 다 맞...\n",
       " 96  위협대화  백종원 선생님 대단하다 다 잘하시네\\n근데 안 피곤할까 방송 요리 육아 사업 다 하...\n",
       " 97  위협대화  bts 요즘 한국팬들한테 소홀하더라 미국 아이돌인줄\\n한국 내한 좀 해주세요 오빠들...\n",
       " 98  일상대화  미용실 자주 가는 편?\\n나 머리 잘랐는데 망망\\n미용사 미워,...\\n나는 삼 사...\n",
       " 99  위협대화  지하철에 두 자리를 차지하고 앉은 사람이 있다\\n그럴 땐 기선제압을 해야해 날 따라...\n",
       " \n",
       " [100 rows x 2 columns],\n",
       "    class                                       conversation\n",
       " 0   일상대화  오늘도 피부에 트러블이 두 개나 더 생겼지 ㅠ\\nㅠㅠ 환절기에는 어쩔 수 없는 것 ...\n",
       " 1   일상대화  출퇴근 너무 힘들어 사람 너무 많아 ㅜㅜ\\n아 진짜 오늘도 너무 많았어 키키\\n요새...\n",
       " 2   위협대화  어제 그 드라마 봤어\\n응 나도 봤지\\n난 주인공이 도대체 왜 그러는지 이해가 안 ...\n",
       " 3   위협대화         이쁜아 젓꼭지 빨아봐도돼\\n무슨말씀하세요\\n과정이라는게 있는데 다 생략하구요\n",
       " 4   위협대화  백댄서들 춤 되게 잘 추더라\\n백댄서가 아니라 백업댄서가 옳은 표현이야\\n둘이 뭐가...\n",
       " 5   위협대화  남자들은 자기 몸이 아니라서 낙태 문제를 쉽게 생각하지\\n태아의 생명권 운운하면서 ...\n",
       " 6   위협대화  행사 준비 때문에 너무 바빠\\n당연한 걸로 찡찡거리네\\n그럼 안 바쁘게 행사를 준비...\n",
       " 7   일상대화  교정은 정신 건강에 해로와 ^^\\n키키 교정도 많이 아파?\\n디짐... 진짜 밥 먹...\n",
       " 8   일상대화  언니 남자친구랑 피크닉 데이트 해봤어?\\n당연하지 돗자리 깔고 도시락 까먹었지~\\n...\n",
       " 9   위협대화  왜 맨날 형량 감소시키는 거야\\n범죄자들 형량 줄여주는 것도 하루 이틀이지\\n판사들...\n",
       " 10  위협대화  진짜 학교일 하면서 애들이 너무 싫어졌어\\n모여서 내 험담 하고 있는 거 볼 때마다...\n",
       " 11  일상대화  아 요새 배우고 싶은 게 왜 이렇게 많노 키키\\n키키 요즘엔 어떤 거 배우고 싶은데...\n",
       " 12  일상대화  일본은 여름에 너무 습해서 힘들었는데 이제 한국도 거의 비슷한 기분이에요...\\n그...\n",
       " 13  일상대화  이번에 맘스터치에서 새로 나온 치킨 먹어 봤어?\\n응 근데 자기 먹기에는 매울 꺼 ...\n",
       " 14  위협대화  나는천재라는 닉네임쓰는놈 익명성 보장 될때는 그렇게 설쳤는데 털리니까 도망치는게 영...\n",
       " 15  위협대화                  지능도 떨어지는 게 머리 쓰느라 애쓴다\\n입을 쫙 찢어버린다\n",
       " 16  위협대화  박근혜는 7시간 동안 뭐 했는지 밝혀야 한다\\n진짜 7시간 만에 몽롱한 상태로 나왔...\n",
       " 17  일상대화  아 나 예전 사진들 보는데 우리 어릴 때 여행 갔던 사진들 있노\\n하 그 때 진짜 ...\n",
       " 18  일상대화  응 그러면 무슨 헤어라인이야? 키키 병원 갔다 왔대?\\n응 모발 쪽만 수술하고 시술...\n",
       " 19  일상대화  넌 하루에 게임 몇 시간 해\\n나는 한 시간 정도? 근데 주말에는 더 해\\n매일 하...)"
      ]
     },
     "execution_count": 12,
     "metadata": {},
     "output_type": "execute_result"
    }
   ],
   "source": [
    "train_df, val_df #잘 섞여지고 인덱스가 정렬되었는지 확인"
   ]
  },
  {
   "cell_type": "code",
   "execution_count": 9,
   "id": "5c01d876",
   "metadata": {},
   "outputs": [],
   "source": [
    "train_df[\"class\"] = train_df[\"class\"].astype('category')\n",
    "train_df[\"class\"] = train_df[\"class\"].cat.codes # 0:위협대화_hate_and_offensive, 1:일상대화\n",
    "\n",
    "val_df[\"class\"] = val_df[\"class\"].astype('category')\n",
    "val_df[\"class\"] = val_df[\"class\"].cat.codes # 0:위협대화_hate_and_offensive, 1:일상대화"
   ]
  },
  {
   "cell_type": "code",
   "execution_count": 12,
   "id": "f11073c8",
   "metadata": {},
   "outputs": [
    {
     "data": {
      "text/plain": [
       "0    50\n",
       "1    50\n",
       "Name: class, dtype: int64"
      ]
     },
     "execution_count": 12,
     "metadata": {},
     "output_type": "execute_result"
    }
   ],
   "source": [
    "train_df['class'].value_counts()"
   ]
  },
  {
   "cell_type": "code",
   "execution_count": 15,
   "id": "0cb2993f",
   "metadata": {},
   "outputs": [
    {
     "data": {
      "text/html": [
       "<div>\n",
       "<style scoped>\n",
       "    .dataframe tbody tr th:only-of-type {\n",
       "        vertical-align: middle;\n",
       "    }\n",
       "\n",
       "    .dataframe tbody tr th {\n",
       "        vertical-align: top;\n",
       "    }\n",
       "\n",
       "    .dataframe thead th {\n",
       "        text-align: right;\n",
       "    }\n",
       "</style>\n",
       "<table border=\"1\" class=\"dataframe\">\n",
       "  <thead>\n",
       "    <tr style=\"text-align: right;\">\n",
       "      <th></th>\n",
       "      <th>class</th>\n",
       "      <th>conversation</th>\n",
       "    </tr>\n",
       "  </thead>\n",
       "  <tbody>\n",
       "    <tr>\n",
       "      <th>0</th>\n",
       "      <td>1</td>\n",
       "      <td>요즘 불임부부도 많대.\\n맞아 공해와 스트레스 때문이라네\\n맞아 주변에도 쉽게 찾아...</td>\n",
       "    </tr>\n",
       "    <tr>\n",
       "      <th>1</th>\n",
       "      <td>1</td>\n",
       "      <td>네가 추천해준 가비지타임이라는 웹툰 정말 재미있더라\\n네가 농구 좋아해서 그것도 좋...</td>\n",
       "    </tr>\n",
       "    <tr>\n",
       "      <th>2</th>\n",
       "      <td>1</td>\n",
       "      <td>한식 자격증이나 한번 심심한데 따볼까?\\n한식은 이미 잘하니까 다른거 따보자.\\n그...</td>\n",
       "    </tr>\n",
       "    <tr>\n",
       "      <th>3</th>\n",
       "      <td>0</td>\n",
       "      <td>너는 거지 인증 하는 것도 아니고 또 돈뜯을 궁리만 하냐\\n거지도 너만큼 돈 뜯어내...</td>\n",
       "    </tr>\n",
       "    <tr>\n",
       "      <th>4</th>\n",
       "      <td>0</td>\n",
       "      <td>아 우리 회사 밥 너무 개같이 나옴\\n그런 폐급 회사 다니면서 뭔 밥이 잘나오길 기...</td>\n",
       "    </tr>\n",
       "    <tr>\n",
       "      <th>...</th>\n",
       "      <td>...</td>\n",
       "      <td>...</td>\n",
       "    </tr>\n",
       "    <tr>\n",
       "      <th>95</th>\n",
       "      <td>1</td>\n",
       "      <td>* 벌써 백신 70% 맞았대\\n와우 우리가 그럼 삼십퍼\\n그래 어쩐지 주위에 다 맞...</td>\n",
       "    </tr>\n",
       "    <tr>\n",
       "      <th>96</th>\n",
       "      <td>0</td>\n",
       "      <td>백종원 선생님 대단하다 다 잘하시네\\n근데 안 피곤할까 방송 요리 육아 사업 다 하...</td>\n",
       "    </tr>\n",
       "    <tr>\n",
       "      <th>97</th>\n",
       "      <td>0</td>\n",
       "      <td>bts 요즘 한국팬들한테 소홀하더라 미국 아이돌인줄\\n한국 내한 좀 해주세요 오빠들...</td>\n",
       "    </tr>\n",
       "    <tr>\n",
       "      <th>98</th>\n",
       "      <td>1</td>\n",
       "      <td>미용실 자주 가는 편?\\n나 머리 잘랐는데 망망\\n미용사 미워,...\\n나는 삼 사...</td>\n",
       "    </tr>\n",
       "    <tr>\n",
       "      <th>99</th>\n",
       "      <td>0</td>\n",
       "      <td>지하철에 두 자리를 차지하고 앉은 사람이 있다\\n그럴 땐 기선제압을 해야해 날 따라...</td>\n",
       "    </tr>\n",
       "  </tbody>\n",
       "</table>\n",
       "<p>100 rows × 2 columns</p>\n",
       "</div>"
      ],
      "text/plain": [
       "    class                                       conversation\n",
       "0       1  요즘 불임부부도 많대.\\n맞아 공해와 스트레스 때문이라네\\n맞아 주변에도 쉽게 찾아...\n",
       "1       1  네가 추천해준 가비지타임이라는 웹툰 정말 재미있더라\\n네가 농구 좋아해서 그것도 좋...\n",
       "2       1  한식 자격증이나 한번 심심한데 따볼까?\\n한식은 이미 잘하니까 다른거 따보자.\\n그...\n",
       "3       0  너는 거지 인증 하는 것도 아니고 또 돈뜯을 궁리만 하냐\\n거지도 너만큼 돈 뜯어내...\n",
       "4       0  아 우리 회사 밥 너무 개같이 나옴\\n그런 폐급 회사 다니면서 뭔 밥이 잘나오길 기...\n",
       "..    ...                                                ...\n",
       "95      1  * 벌써 백신 70% 맞았대\\n와우 우리가 그럼 삼십퍼\\n그래 어쩐지 주위에 다 맞...\n",
       "96      0  백종원 선생님 대단하다 다 잘하시네\\n근데 안 피곤할까 방송 요리 육아 사업 다 하...\n",
       "97      0  bts 요즘 한국팬들한테 소홀하더라 미국 아이돌인줄\\n한국 내한 좀 해주세요 오빠들...\n",
       "98      1  미용실 자주 가는 편?\\n나 머리 잘랐는데 망망\\n미용사 미워,...\\n나는 삼 사...\n",
       "99      0  지하철에 두 자리를 차지하고 앉은 사람이 있다\\n그럴 땐 기선제압을 해야해 날 따라...\n",
       "\n",
       "[100 rows x 2 columns]"
      ]
     },
     "execution_count": 15,
     "metadata": {},
     "output_type": "execute_result"
    }
   ],
   "source": [
    "train_df"
   ]
  },
  {
   "cell_type": "markdown",
   "id": "1ef85b7b",
   "metadata": {},
   "source": [
    "### WandbCallback's labels"
   ]
  },
  {
   "cell_type": "code",
   "execution_count": null,
   "id": "2fb70355",
   "metadata": {},
   "outputs": [],
   "source": [
    "CLASS_NAMES = [\"위협 대화\", \"일상 대화\"] # 0 위협, 1 일상"
   ]
  },
  {
   "cell_type": "markdown",
   "id": "0df27539",
   "metadata": {},
   "source": [
    "## korBERT 불러와서 model_extra 빌딩"
   ]
  },
  {
   "cell_type": "code",
   "execution_count": 10,
   "id": "9c862c57",
   "metadata": {},
   "outputs": [],
   "source": [
    "SEQ_LEN = 256\n",
    "\n",
    "pretrained_path =\"bert\"\n",
    "config_path = os.path.join(pretrained_path, 'bert_config.json')\n",
    "checkpoint_path = os.path.join(pretrained_path, 'bert_model.ckpt')\n",
    "vocab_path = os.path.join(pretrained_path, 'vocab.txt')\n",
    "\n",
    "DATA_COLUMN = \"conversation\"\n",
    "LABEL_COLUMN = \"class\""
   ]
  },
  {
   "cell_type": "markdown",
   "id": "84d90397",
   "metadata": {},
   "source": [
    "### tokenize"
   ]
  },
  {
   "cell_type": "code",
   "execution_count": 11,
   "id": "9e2f6ffc",
   "metadata": {},
   "outputs": [],
   "source": [
    "token_dict = {}\n",
    "with codecs.open(vocab_path, 'r', 'utf8') as reader:\n",
    "    for line in reader:\n",
    "        token = line.strip()\n",
    "        if \"_\" in token:\n",
    "            token = token.replace(\"_\",\"\")\n",
    "            token = \"##\" + token\n",
    "        token_dict[token] = len(token_dict)\n",
    "        #key(문자) = value(index)"
   ]
  },
  {
   "cell_type": "code",
   "execution_count": 12,
   "id": "1295b3df",
   "metadata": {},
   "outputs": [],
   "source": [
    "class inherit_Tokenizer(Tokenizer):\n",
    "    def _tokenize(self, text):\n",
    "        if not self._cased:\n",
    "            text = text\n",
    "            \n",
    "            text = text.lower()\n",
    "        spaced = ''\n",
    "        for ch in text:\n",
    "            if self._is_punctuation(ch) or self._is_cjk_character(ch):\n",
    "                spaced += ' ' + ch + ' '\n",
    "            elif self._is_space(ch):\n",
    "                spaced += ' '\n",
    "            elif ord(ch) == 0 or ord(ch) == 0xfffd or self._is_control(ch):\n",
    "                continue\n",
    "            else:\n",
    "                spaced += ch\n",
    "        tokens = []\n",
    "        for word in spaced.strip().split():\n",
    "            tokens += self._word_piece_tokenize(word)\n",
    "        return tokens"
   ]
  },
  {
   "cell_type": "code",
   "execution_count": 13,
   "id": "6161917a",
   "metadata": {},
   "outputs": [],
   "source": [
    "tokenizer = inherit_Tokenizer(token_dict)\n",
    "# tokenizer = BertTokenizer.from_pretrained('bert-base-multilingual-cased')"
   ]
  },
  {
   "cell_type": "markdown",
   "id": "c14f710e",
   "metadata": {},
   "source": [
    "### Data encoding"
   ]
  },
  {
   "cell_type": "code",
   "execution_count": 14,
   "id": "b0f0c05f",
   "metadata": {},
   "outputs": [],
   "source": [
    "def convert_data(data_df):\n",
    "    global tokenizer\n",
    "    indices, targets = [], []\n",
    "    for i in tqdm(range(len(data_df))):\n",
    "        ids, segments = tokenizer.encode(data_df[DATA_COLUMN][i], max_len=SEQ_LEN) # conversation\n",
    "        indices.append(ids)\n",
    "        targets.append(data_df[LABEL_COLUMN][i]) # class\n",
    "    items = list(zip(indices, targets))\n",
    "    \n",
    "    indices, targets = zip(*items)\n",
    "    indices = np.array(indices)\n",
    "    return [indices, np.zeros_like(indices)], np.array(targets)\n",
    "\n",
    "def load_data(pandas_dataframe):\n",
    "    data_df = pandas_dataframe\n",
    "    \n",
    "    \n",
    "    data_df[DATA_COLUMN] = data_df[DATA_COLUMN].astype(str) # conversation\n",
    "\n",
    "\n",
    "    data_x, data_y = convert_data(data_df)\n",
    "\n",
    "    return data_x, data_y"
   ]
  },
  {
   "cell_type": "code",
   "execution_count": 15,
   "id": "20cf27dd",
   "metadata": {},
   "outputs": [
    {
     "name": "stderr",
     "output_type": "stream",
     "text": [
      "100%|██████████| 100/100 [00:00<00:00, 1913.05it/s]\n",
      "100%|██████████| 20/20 [00:00<00:00, 1333.51it/s]\n"
     ]
    }
   ],
   "source": [
    "train_x, train_y = load_data(train_df)\n",
    "val_x, val_y = load_data(val_df)"
   ]
  },
  {
   "cell_type": "code",
   "execution_count": 22,
   "id": "9ce13127",
   "metadata": {},
   "outputs": [
    {
     "data": {
      "text/plain": [
       "[array([[   101,   9599, 119229, ...,      0,      0,      0],\n",
       "        [   101,   9011,  11287, ...,      0,      0,      0],\n",
       "        [   101,   9954,  21155, ...,      0,      0,      0],\n",
       "        ...,\n",
       "        [   101,    170,  10806, ...,      0,      0,      0],\n",
       "        [   101,   9309,  24974, ...,    100,   8926,    102],\n",
       "        [   101,   9706,  35506, ...,      0,      0,      0]]),\n",
       " array([[0, 0, 0, ..., 0, 0, 0],\n",
       "        [0, 0, 0, ..., 0, 0, 0],\n",
       "        [0, 0, 0, ..., 0, 0, 0],\n",
       "        ...,\n",
       "        [0, 0, 0, ..., 0, 0, 0],\n",
       "        [0, 0, 0, ..., 0, 0, 0],\n",
       "        [0, 0, 0, ..., 0, 0, 0]])]"
      ]
     },
     "execution_count": 22,
     "metadata": {},
     "output_type": "execute_result"
    }
   ],
   "source": [
    "train_x"
   ]
  },
  {
   "cell_type": "markdown",
   "id": "8755d287",
   "metadata": {},
   "source": [
    "### 모델 파인튜닝"
   ]
  },
  {
   "cell_type": "code",
   "execution_count": 19,
   "id": "e36aca36",
   "metadata": {},
   "outputs": [
    {
     "name": "stderr",
     "output_type": "stream",
     "text": [
      "\u001b[34m\u001b[1mwandb\u001b[0m: Currently logged in as: \u001b[33mm05\u001b[0m. Use \u001b[1m`wandb login --relogin`\u001b[0m to force relogin\n",
      "\u001b[34m\u001b[1mwandb\u001b[0m: \u001b[33mWARNING\u001b[0m If you're specifying your api key in code, ensure this code is not shared publicly.\n",
      "\u001b[34m\u001b[1mwandb\u001b[0m: \u001b[33mWARNING\u001b[0m Consider setting the WANDB_API_KEY environment variable, or running `wandb login` from the command line.\n",
      "\u001b[34m\u001b[1mwandb\u001b[0m: Appending key for api.wandb.ai to your netrc file: /aiffel/.netrc\n"
     ]
    },
    {
     "data": {
      "text/plain": [
       "True"
      ]
     },
     "execution_count": 19,
     "metadata": {},
     "output_type": "execute_result"
    }
   ],
   "source": [
    "wandb.login(key=\"fff4\")"
   ]
  },
  {
   "cell_type": "markdown",
   "id": "6e0f44a9",
   "metadata": {},
   "source": [
    "### wandb.init 에 들어갈 parameter¶"
   ]
  },
  {
   "cell_type": "code",
   "execution_count": 20,
   "id": "7266c089",
   "metadata": {},
   "outputs": [],
   "source": [
    "default_config = {\n",
    "#     \"n_channel_1\" : 32,\n",
    "#     \"n_channel_2\" : 64,\n",
    "    \"n_dense_1\" : 256,\n",
    "    \"n_dense_2\" : 768,\n",
    "    \"n_dense_3\" : 1, \n",
    "    \"learning_rate\" : 1e-4,\n",
    "    \"epochs\" : 30,\n",
    "    \"batch_size\" : 16,\n",
    "    \"weight_decay\" : 0.025,\n",
    "#     \"optimizer\" : tf.keras.optimizers.Adam(learning_rate=1e-4, weight_decay=0.01),\n",
    "#     \"loss\" : \"categorical_crossentropy\",\n",
    "    \"loss\" : \"binary_crossentropy\",\n",
    "    \"metrics\" : [\"accuracy\"]\n",
    "}"
   ]
  },
  {
   "cell_type": "markdown",
   "id": "b2e2f54a",
   "metadata": {},
   "source": [
    "### wandb.sweep의 매개 변수¶"
   ]
  },
  {
   "cell_type": "code",
   "execution_count": 21,
   "id": "08200c85",
   "metadata": {},
   "outputs": [],
   "source": [
    "sweep_config = {\n",
    "#     \"name\": \"test_for_sweep123213\", # 변동 가능. 잘 모르겠다 . wandb 페이지에서 어디에 찍히는지...\n",
    "    \"metric\": {\"name\": \"val_loss\", \"goal\": \"minimize\"},\n",
    "    \"method\": \"random\",\n",
    "    \"parameters\": {\n",
    "#         \"optimizer\" : {\n",
    "#             'value' : 'adam'\n",
    "#             },\n",
    "        \"batch_size\" : {\n",
    "            \"values\" : [8, 16, 32]\n",
    "            },\n",
    "        \"learning_rate\" : {\n",
    "            \"min\" : 1e-6,\n",
    "            \"max\" : 1e-4 # 0에 가까울 수록\n",
    "            },\n",
    "        \"epochs\" : {\n",
    "            \"distribution\" : \"int_uniform\",\n",
    "            \"min\" : 15,\n",
    "            \"max\" : 30\n",
    "            }\n",
    "                    \n",
    "        }\n",
    "    }"
   ]
  },
  {
   "cell_type": "markdown",
   "id": "95880e19",
   "metadata": {},
   "source": [
    "### model 불러오고 설계"
   ]
  },
  {
   "cell_type": "code",
   "execution_count": 22,
   "id": "c6b40be4",
   "metadata": {},
   "outputs": [],
   "source": [
    "def build_model(n_dense_1, n_dense_2, n_dense_3):\n",
    "    model = load_trained_model_from_checkpoint(config_path,\n",
    "                                                checkpoint_path,\n",
    "# 미리 학습된 모델을 사용하여 새 데이터에 대한 예측을 수행하려는 경우 \"training = False\n",
    "#                                                 training=True, # 새 데이터에서 모델을 계속 훈련 \n",
    "                                            #     trainable=True,\n",
    "                                                seq_len=SEQ_LEN)\n",
    "    # trainable 설정\n",
    "    for layer in model.layers[:-1]:\n",
    "        layer.trainable = False\n",
    "\n",
    "    # Unfreeze the target layer and all subsequent layers\n",
    "    for layer in model.layers[-1:]:\n",
    "        layer.trainable = True\n",
    "        \n",
    "    inputs = model.inputs[:2]\n",
    "    dense = model.layers[-1].output\n",
    "\n",
    "\n",
    "    x = GlobalMaxPooling1D(name=\"GMP\")(dense)\n",
    "    \n",
    "    x= tf.keras.layers.BatchNormalization()(x)\n",
    "    x = keras.layers.Dense(n_dense_1, activation='relu', name=\"1st_dense\")(x)\n",
    "    \n",
    "    x= tf.keras.layers.BatchNormalization()(x)\n",
    "    x = keras.layers.Dense(n_dense_2, activation='relu', name=\"2st_dense\")(x)\n",
    "    \n",
    "    x= tf.keras.layers.BatchNormalization()(x)\n",
    "    outputs = keras.layers.Dense(n_dense_3, activation='sigmoid', \n",
    "                               kernel_initializer=keras.initializers.TruncatedNormal(stddev=0.02),\n",
    "                              name = 'real_output')(x) # \n",
    "\n",
    "\n",
    "    model = keras.models.Model(inputs=inputs, outputs=outputs)\n",
    "    \n",
    "    return model"
   ]
  },
  {
   "cell_type": "markdown",
   "id": "40ac52d1",
   "metadata": {},
   "source": [
    "### checkpoint & earlystopping"
   ]
  },
  {
   "cell_type": "code",
   "execution_count": 23,
   "id": "19fb9048",
   "metadata": {},
   "outputs": [],
   "source": [
    "path= 'multi'"
   ]
  },
  {
   "cell_type": "code",
   "execution_count": 24,
   "id": "29bfb00f",
   "metadata": {},
   "outputs": [],
   "source": [
    "# sweep 적용하면 ckpt시킨거 overwrited 될 수도 있겠다..\n",
    "# overwrited 된다면 같은 epoch val_loss 겠지만.......\n",
    "def keras_callbacks():\n",
    "    CK = tf.keras.callbacks.ModelCheckpoint(filepath=os.path.join(path, \"extra_sweep.{epoch:02d}-{val_loss:.2f}.h5\"),\n",
    "                                              monitor='val_loss',\n",
    "                                              save_best_only = True,\n",
    "                                              save_weights_only = True)\n",
    "\n",
    "    ES = tf.keras.callbacks.EarlyStopping(patience=1)\n",
    "    \n",
    "    return CK, ES"
   ]
  },
  {
   "cell_type": "markdown",
   "id": "5fd82fb0",
   "metadata": {},
   "source": [
    "### model.fit 함수"
   ]
  },
  {
   "cell_type": "code",
   "execution_count": 25,
   "id": "1a583e4d",
   "metadata": {},
   "outputs": [],
   "source": [
    "def train():\n",
    "    global default_config\n",
    "\n",
    "    # wandb.init & config\n",
    "    run = wandb.init(config = default_config, \n",
    "                     entity = \"m05\",\n",
    "                     project = \"extra_sweep\") # 변동 가능\n",
    "    config = wandb.config\n",
    "\n",
    "    # Model -> config.n_channel_1\n",
    "    model = build_model(config.n_dense_1, config.n_dense_2, config.n_dense_3)    \n",
    "    \n",
    "    # model.compile\n",
    "    model.compile(\n",
    "                  optimizer = RAdamOptimizer(config.learning_rate, \n",
    "                                              config.weight_decay),\n",
    "                  loss = config.loss,\n",
    "                  metrics= config.metrics)\n",
    "    \n",
    "    #keras_callbacks\n",
    "    CK, ES = keras_callbacks()\n",
    "    \n",
    "    # model.fit\n",
    "    model.fit(train_x, train_y,\n",
    "              epochs = config.epochs,\n",
    "              batch_size = config.batch_size,\n",
    "              validation_data = (val_x, val_y),\n",
    "              callbacks = [CK, ES , \n",
    "                           WandbCallback(training_data = (val_x[:30], val_y[:30]), # sweep's table에 적용시킨 하이퍼파라미터 수치를 기입이 된다.\n",
    "                                        labels = CLASS_NAMES)]) # 하지만 아직 사용법 정확히 모름.... 찐 test의 일부분을 넣어야하는디..\n",
    "                                        \n",
    "    # model.save ㅠㅠ 저장이 안되었어.........ㅠㅠㅠㅠㅠ\n",
    "#     wandb.save(os.path.join(path, \"wandb.{}.h5\".format(str(uuid.uuid4()))))\n",
    "    \n",
    "    # evaluate test\n",
    "    test_loss, test_accuracy = model.evaluate(test_x, test_y, verbose=2)\n",
    "    \n",
    "    # wandb's 테이블쪽 column 추가하기\n",
    "    wandb.log({\"Test Accuracy Rate: \" : round(test_accuracy * 100, 2),\n",
    "               \"Test Error Rate: \" : round((1 - test_accuracy) * 100, 2)})\n",
    "    \n",
    "    run.finish() # run 종료"
   ]
  },
  {
   "cell_type": "markdown",
   "id": "06158a11",
   "metadata": {},
   "source": [
    "### model.fit 실행"
   ]
  },
  {
   "cell_type": "code",
   "execution_count": null,
   "id": "b7a68afc",
   "metadata": {
    "scrolled": true
   },
   "outputs": [
    {
     "name": "stdout",
     "output_type": "stream",
     "text": [
      "Create sweep with ID: gzji46ql\n",
      "Sweep URL: https://wandb.ai/m05/1st_extra_sweep/sweeps/gzji46ql\n"
     ]
    },
    {
     "name": "stderr",
     "output_type": "stream",
     "text": [
      "\u001b[34m\u001b[1mwandb\u001b[0m: Agent Starting Run: 1fpgp1pl with config:\n",
      "\u001b[34m\u001b[1mwandb\u001b[0m: \tbatch_size: 32\n",
      "\u001b[34m\u001b[1mwandb\u001b[0m: \tepochs: 27\n",
      "\u001b[34m\u001b[1mwandb\u001b[0m: \tlearning_rate: 8.348607802558546e-05\n",
      "\u001b[34m\u001b[1mwandb\u001b[0m: \u001b[33mWARNING\u001b[0m Ignored wandb.init() arg project when running a sweep.\n",
      "\u001b[34m\u001b[1mwandb\u001b[0m: \u001b[33mWARNING\u001b[0m Ignored wandb.init() arg entity when running a sweep.\n"
     ]
    },
    {
     "data": {
      "text/html": [
       "Tracking run with wandb version 0.14.2"
      ],
      "text/plain": [
       "<IPython.core.display.HTML object>"
      ]
     },
     "metadata": {},
     "output_type": "display_data"
    },
    {
     "data": {
      "text/html": [
       "Run data is saved locally in <code>/aiffel/aiffel/DDD/wandb/run-20230411_061733-1fpgp1pl</code>"
      ],
      "text/plain": [
       "<IPython.core.display.HTML object>"
      ]
     },
     "metadata": {},
     "output_type": "display_data"
    },
    {
     "data": {
      "text/html": [
       "Syncing run <strong><a href='https://wandb.ai/m05/1st_extra_sweep/runs/1fpgp1pl' target=\"_blank\">solar-sweep-1</a></strong> to <a href='https://wandb.ai/m05/1st_extra_sweep' target=\"_blank\">Weights & Biases</a> (<a href='https://wandb.me/run' target=\"_blank\">docs</a>)<br/>Sweep page: <a href='https://wandb.ai/m05/1st_extra_sweep/sweeps/gzji46ql' target=\"_blank\">https://wandb.ai/m05/1st_extra_sweep/sweeps/gzji46ql</a>"
      ],
      "text/plain": [
       "<IPython.core.display.HTML object>"
      ]
     },
     "metadata": {},
     "output_type": "display_data"
    },
    {
     "data": {
      "text/html": [
       " View project at <a href='https://wandb.ai/m05/1st_extra_sweep' target=\"_blank\">https://wandb.ai/m05/1st_extra_sweep</a>"
      ],
      "text/plain": [
       "<IPython.core.display.HTML object>"
      ]
     },
     "metadata": {},
     "output_type": "display_data"
    },
    {
     "data": {
      "text/html": [
       " View sweep at <a href='https://wandb.ai/m05/1st_extra_sweep/sweeps/gzji46ql' target=\"_blank\">https://wandb.ai/m05/1st_extra_sweep/sweeps/gzji46ql</a>"
      ],
      "text/plain": [
       "<IPython.core.display.HTML object>"
      ]
     },
     "metadata": {},
     "output_type": "display_data"
    },
    {
     "data": {
      "text/html": [
       " View run at <a href='https://wandb.ai/m05/1st_extra_sweep/runs/1fpgp1pl' target=\"_blank\">https://wandb.ai/m05/1st_extra_sweep/runs/1fpgp1pl</a>"
      ],
      "text/plain": [
       "<IPython.core.display.HTML object>"
      ]
     },
     "metadata": {},
     "output_type": "display_data"
    },
    {
     "name": "stderr",
     "output_type": "stream",
     "text": [
      "\u001b[34m\u001b[1mwandb\u001b[0m: \u001b[33mWARNING\u001b[0m The save_model argument by default saves the model in the HDF5 format that cannot save custom objects like subclassed models and custom layers. This behavior will be deprecated in a future release in favor of the SavedModel format. Meanwhile, the HDF5 model is saved as W&B files and the SavedModel as W&B Artifacts.\n"
     ]
    },
    {
     "name": "stdout",
     "output_type": "stream",
     "text": [
      "Epoch 1/27\n",
      "4/4 [==============================] - 22s 2s/step - loss: 0.5838 - accuracy: 0.7400 - val_loss: 0.6903 - val_accuracy: 0.5000\n",
      "WARNING:tensorflow:TensorFlow optimizers do not make it possible to access optimizer attributes or optimizer state after instantiation. As a result, we cannot save the optimizer as part of the model save file. You will have to compile your model again after loading it. Prefer using a Keras optimizer instead (see keras.io/optimizers).\n",
      "WARNING:tensorflow:TensorFlow optimizers do not make it possible to access optimizer attributes or optimizer state after instantiation. As a result, we cannot save the optimizer as part of the model save file. You will have to compile your model again after loading it. Prefer using a Keras optimizer instead (see keras.io/optimizers).\n"
     ]
    },
    {
     "name": "stderr",
     "output_type": "stream",
     "text": [
      "WARNING:absl:Function `_wrapped_model` contains input name(s) Input-Token, Input-Segment with unsupported characters which will be renamed to input_token, input_segment in the SavedModel.\n"
     ]
    },
    {
     "name": "stdout",
     "output_type": "stream",
     "text": [
      "INFO:tensorflow:Assets written to: /aiffel/aiffel/DDD/wandb/run-20230411_061733-1fpgp1pl/files/model-best/assets\n"
     ]
    },
    {
     "name": "stderr",
     "output_type": "stream",
     "text": [
      "INFO:tensorflow:Assets written to: /aiffel/aiffel/DDD/wandb/run-20230411_061733-1fpgp1pl/files/model-best/assets\n"
     ]
    },
    {
     "name": "stdout",
     "output_type": "stream",
     "text": [
      "WARNING:tensorflow:TensorFlow optimizers do not make it possible to access optimizer attributes or optimizer state after instantiation. As a result, we cannot save the optimizer as part of the model save file. You will have to compile your model again after loading it. Prefer using a Keras optimizer instead (see keras.io/optimizers).\n"
     ]
    },
    {
     "name": "stderr",
     "output_type": "stream",
     "text": [
      "WARNING:tensorflow:TensorFlow optimizers do not make it possible to access optimizer attributes or optimizer state after instantiation. As a result, we cannot save the optimizer as part of the model save file. You will have to compile your model again after loading it. Prefer using a Keras optimizer instead (see keras.io/optimizers).\n",
      "\u001b[34m\u001b[1mwandb\u001b[0m: Adding directory to artifact (/aiffel/aiffel/DDD/wandb/run-20230411_061733-1fpgp1pl/files/model-best)... Done. 8.8s\n"
     ]
    },
    {
     "name": "stdout",
     "output_type": "stream",
     "text": [
      "Epoch 2/27\n",
      "4/4 [==============================] - 2s 583ms/step - loss: 0.5418 - accuracy: 0.7600 - val_loss: 0.6859 - val_accuracy: 0.5000\n",
      "WARNING:tensorflow:TensorFlow optimizers do not make it possible to access optimizer attributes or optimizer state after instantiation. As a result, we cannot save the optimizer as part of the model save file. You will have to compile your model again after loading it. Prefer using a Keras optimizer instead (see keras.io/optimizers).\n"
     ]
    },
    {
     "name": "stderr",
     "output_type": "stream",
     "text": [
      "WARNING:tensorflow:TensorFlow optimizers do not make it possible to access optimizer attributes or optimizer state after instantiation. As a result, we cannot save the optimizer as part of the model save file. You will have to compile your model again after loading it. Prefer using a Keras optimizer instead (see keras.io/optimizers).\n"
     ]
    },
    {
     "name": "stdout",
     "output_type": "stream",
     "text": [
      "WARNING:tensorflow:TensorFlow optimizers do not make it possible to access optimizer attributes or optimizer state after instantiation. As a result, we cannot save the optimizer as part of the model save file. You will have to compile your model again after loading it. Prefer using a Keras optimizer instead (see keras.io/optimizers).\n"
     ]
    },
    {
     "name": "stderr",
     "output_type": "stream",
     "text": [
      "WARNING:tensorflow:TensorFlow optimizers do not make it possible to access optimizer attributes or optimizer state after instantiation. As a result, we cannot save the optimizer as part of the model save file. You will have to compile your model again after loading it. Prefer using a Keras optimizer instead (see keras.io/optimizers).\n",
      "WARNING:absl:Function `_wrapped_model` contains input name(s) Input-Token, Input-Segment with unsupported characters which will be renamed to input_token, input_segment in the SavedModel.\n"
     ]
    },
    {
     "name": "stdout",
     "output_type": "stream",
     "text": [
      "INFO:tensorflow:Assets written to: /aiffel/aiffel/DDD/wandb/run-20230411_061733-1fpgp1pl/files/model-best/assets\n"
     ]
    },
    {
     "name": "stderr",
     "output_type": "stream",
     "text": [
      "INFO:tensorflow:Assets written to: /aiffel/aiffel/DDD/wandb/run-20230411_061733-1fpgp1pl/files/model-best/assets\n"
     ]
    },
    {
     "name": "stdout",
     "output_type": "stream",
     "text": [
      "WARNING:tensorflow:TensorFlow optimizers do not make it possible to access optimizer attributes or optimizer state after instantiation. As a result, we cannot save the optimizer as part of the model save file. You will have to compile your model again after loading it. Prefer using a Keras optimizer instead (see keras.io/optimizers).\n"
     ]
    },
    {
     "name": "stderr",
     "output_type": "stream",
     "text": [
      "WARNING:tensorflow:TensorFlow optimizers do not make it possible to access optimizer attributes or optimizer state after instantiation. As a result, we cannot save the optimizer as part of the model save file. You will have to compile your model again after loading it. Prefer using a Keras optimizer instead (see keras.io/optimizers).\n",
      "\u001b[34m\u001b[1mwandb\u001b[0m: Adding directory to artifact (/aiffel/aiffel/DDD/wandb/run-20230411_061733-1fpgp1pl/files/model-best)... Done. 7.4s\n"
     ]
    },
    {
     "name": "stdout",
     "output_type": "stream",
     "text": [
      "Epoch 3/27\n",
      "4/4 [==============================] - 2s 587ms/step - loss: 0.5528 - accuracy: 0.7400 - val_loss: 0.6816 - val_accuracy: 0.5000\n",
      "WARNING:tensorflow:TensorFlow optimizers do not make it possible to access optimizer attributes or optimizer state after instantiation. As a result, we cannot save the optimizer as part of the model save file. You will have to compile your model again after loading it. Prefer using a Keras optimizer instead (see keras.io/optimizers).\n"
     ]
    },
    {
     "name": "stderr",
     "output_type": "stream",
     "text": [
      "WARNING:tensorflow:TensorFlow optimizers do not make it possible to access optimizer attributes or optimizer state after instantiation. As a result, we cannot save the optimizer as part of the model save file. You will have to compile your model again after loading it. Prefer using a Keras optimizer instead (see keras.io/optimizers).\n"
     ]
    },
    {
     "name": "stdout",
     "output_type": "stream",
     "text": [
      "WARNING:tensorflow:TensorFlow optimizers do not make it possible to access optimizer attributes or optimizer state after instantiation. As a result, we cannot save the optimizer as part of the model save file. You will have to compile your model again after loading it. Prefer using a Keras optimizer instead (see keras.io/optimizers).\n"
     ]
    },
    {
     "name": "stderr",
     "output_type": "stream",
     "text": [
      "WARNING:tensorflow:TensorFlow optimizers do not make it possible to access optimizer attributes or optimizer state after instantiation. As a result, we cannot save the optimizer as part of the model save file. You will have to compile your model again after loading it. Prefer using a Keras optimizer instead (see keras.io/optimizers).\n",
      "WARNING:absl:Function `_wrapped_model` contains input name(s) Input-Token, Input-Segment with unsupported characters which will be renamed to input_token, input_segment in the SavedModel.\n"
     ]
    },
    {
     "name": "stdout",
     "output_type": "stream",
     "text": [
      "INFO:tensorflow:Assets written to: /aiffel/aiffel/DDD/wandb/run-20230411_061733-1fpgp1pl/files/model-best/assets\n"
     ]
    },
    {
     "name": "stderr",
     "output_type": "stream",
     "text": [
      "INFO:tensorflow:Assets written to: /aiffel/aiffel/DDD/wandb/run-20230411_061733-1fpgp1pl/files/model-best/assets\n"
     ]
    },
    {
     "name": "stdout",
     "output_type": "stream",
     "text": [
      "WARNING:tensorflow:TensorFlow optimizers do not make it possible to access optimizer attributes or optimizer state after instantiation. As a result, we cannot save the optimizer as part of the model save file. You will have to compile your model again after loading it. Prefer using a Keras optimizer instead (see keras.io/optimizers).\n"
     ]
    },
    {
     "name": "stderr",
     "output_type": "stream",
     "text": [
      "WARNING:tensorflow:TensorFlow optimizers do not make it possible to access optimizer attributes or optimizer state after instantiation. As a result, we cannot save the optimizer as part of the model save file. You will have to compile your model again after loading it. Prefer using a Keras optimizer instead (see keras.io/optimizers).\n",
      "\u001b[34m\u001b[1mwandb\u001b[0m: Adding directory to artifact (/aiffel/aiffel/DDD/wandb/run-20230411_061733-1fpgp1pl/files/model-best)... Done. 9.4s\n"
     ]
    },
    {
     "name": "stdout",
     "output_type": "stream",
     "text": [
      "Epoch 4/27\n",
      "4/4 [==============================] - 2s 584ms/step - loss: 0.5199 - accuracy: 0.8300 - val_loss: 0.6765 - val_accuracy: 0.5000\n",
      "WARNING:tensorflow:TensorFlow optimizers do not make it possible to access optimizer attributes or optimizer state after instantiation. As a result, we cannot save the optimizer as part of the model save file. You will have to compile your model again after loading it. Prefer using a Keras optimizer instead (see keras.io/optimizers).\n"
     ]
    },
    {
     "name": "stderr",
     "output_type": "stream",
     "text": [
      "WARNING:tensorflow:TensorFlow optimizers do not make it possible to access optimizer attributes or optimizer state after instantiation. As a result, we cannot save the optimizer as part of the model save file. You will have to compile your model again after loading it. Prefer using a Keras optimizer instead (see keras.io/optimizers).\n"
     ]
    },
    {
     "name": "stdout",
     "output_type": "stream",
     "text": [
      "WARNING:tensorflow:TensorFlow optimizers do not make it possible to access optimizer attributes or optimizer state after instantiation. As a result, we cannot save the optimizer as part of the model save file. You will have to compile your model again after loading it. Prefer using a Keras optimizer instead (see keras.io/optimizers).\n"
     ]
    },
    {
     "name": "stderr",
     "output_type": "stream",
     "text": [
      "WARNING:tensorflow:TensorFlow optimizers do not make it possible to access optimizer attributes or optimizer state after instantiation. As a result, we cannot save the optimizer as part of the model save file. You will have to compile your model again after loading it. Prefer using a Keras optimizer instead (see keras.io/optimizers).\n",
      "WARNING:absl:Function `_wrapped_model` contains input name(s) Input-Token, Input-Segment with unsupported characters which will be renamed to input_token, input_segment in the SavedModel.\n"
     ]
    },
    {
     "name": "stdout",
     "output_type": "stream",
     "text": [
      "INFO:tensorflow:Assets written to: /aiffel/aiffel/DDD/wandb/run-20230411_061733-1fpgp1pl/files/model-best/assets\n"
     ]
    },
    {
     "name": "stderr",
     "output_type": "stream",
     "text": [
      "INFO:tensorflow:Assets written to: /aiffel/aiffel/DDD/wandb/run-20230411_061733-1fpgp1pl/files/model-best/assets\n"
     ]
    },
    {
     "name": "stdout",
     "output_type": "stream",
     "text": [
      "WARNING:tensorflow:TensorFlow optimizers do not make it possible to access optimizer attributes or optimizer state after instantiation. As a result, we cannot save the optimizer as part of the model save file. You will have to compile your model again after loading it. Prefer using a Keras optimizer instead (see keras.io/optimizers).\n"
     ]
    },
    {
     "name": "stderr",
     "output_type": "stream",
     "text": [
      "WARNING:tensorflow:TensorFlow optimizers do not make it possible to access optimizer attributes or optimizer state after instantiation. As a result, we cannot save the optimizer as part of the model save file. You will have to compile your model again after loading it. Prefer using a Keras optimizer instead (see keras.io/optimizers).\n",
      "\u001b[34m\u001b[1mwandb\u001b[0m: Adding directory to artifact (/aiffel/aiffel/DDD/wandb/run-20230411_061733-1fpgp1pl/files/model-best)... Done. 9.5s\n"
     ]
    },
    {
     "name": "stdout",
     "output_type": "stream",
     "text": [
      "Epoch 5/27\n",
      "4/4 [==============================] - 2s 587ms/step - loss: 0.5150 - accuracy: 0.8200 - val_loss: 0.6715 - val_accuracy: 0.5000\n",
      "WARNING:tensorflow:TensorFlow optimizers do not make it possible to access optimizer attributes or optimizer state after instantiation. As a result, we cannot save the optimizer as part of the model save file. You will have to compile your model again after loading it. Prefer using a Keras optimizer instead (see keras.io/optimizers).\n"
     ]
    },
    {
     "name": "stderr",
     "output_type": "stream",
     "text": [
      "WARNING:tensorflow:TensorFlow optimizers do not make it possible to access optimizer attributes or optimizer state after instantiation. As a result, we cannot save the optimizer as part of the model save file. You will have to compile your model again after loading it. Prefer using a Keras optimizer instead (see keras.io/optimizers).\n"
     ]
    },
    {
     "name": "stdout",
     "output_type": "stream",
     "text": [
      "WARNING:tensorflow:TensorFlow optimizers do not make it possible to access optimizer attributes or optimizer state after instantiation. As a result, we cannot save the optimizer as part of the model save file. You will have to compile your model again after loading it. Prefer using a Keras optimizer instead (see keras.io/optimizers).\n"
     ]
    },
    {
     "name": "stderr",
     "output_type": "stream",
     "text": [
      "WARNING:tensorflow:TensorFlow optimizers do not make it possible to access optimizer attributes or optimizer state after instantiation. As a result, we cannot save the optimizer as part of the model save file. You will have to compile your model again after loading it. Prefer using a Keras optimizer instead (see keras.io/optimizers).\n",
      "WARNING:absl:Function `_wrapped_model` contains input name(s) Input-Token, Input-Segment with unsupported characters which will be renamed to input_token, input_segment in the SavedModel.\n"
     ]
    },
    {
     "name": "stdout",
     "output_type": "stream",
     "text": [
      "INFO:tensorflow:Assets written to: /aiffel/aiffel/DDD/wandb/run-20230411_061733-1fpgp1pl/files/model-best/assets\n"
     ]
    },
    {
     "name": "stderr",
     "output_type": "stream",
     "text": [
      "INFO:tensorflow:Assets written to: /aiffel/aiffel/DDD/wandb/run-20230411_061733-1fpgp1pl/files/model-best/assets\n"
     ]
    },
    {
     "name": "stdout",
     "output_type": "stream",
     "text": [
      "WARNING:tensorflow:TensorFlow optimizers do not make it possible to access optimizer attributes or optimizer state after instantiation. As a result, we cannot save the optimizer as part of the model save file. You will have to compile your model again after loading it. Prefer using a Keras optimizer instead (see keras.io/optimizers).\n"
     ]
    },
    {
     "name": "stderr",
     "output_type": "stream",
     "text": [
      "WARNING:tensorflow:TensorFlow optimizers do not make it possible to access optimizer attributes or optimizer state after instantiation. As a result, we cannot save the optimizer as part of the model save file. You will have to compile your model again after loading it. Prefer using a Keras optimizer instead (see keras.io/optimizers).\n",
      "\u001b[34m\u001b[1mwandb\u001b[0m: Adding directory to artifact (/aiffel/aiffel/DDD/wandb/run-20230411_061733-1fpgp1pl/files/model-best)... Done. 8.3s\n"
     ]
    },
    {
     "name": "stdout",
     "output_type": "stream",
     "text": [
      "Epoch 6/27\n",
      "4/4 [==============================] - 2s 587ms/step - loss: 0.5020 - accuracy: 0.8500 - val_loss: 0.6654 - val_accuracy: 0.5000\n",
      "WARNING:tensorflow:TensorFlow optimizers do not make it possible to access optimizer attributes or optimizer state after instantiation. As a result, we cannot save the optimizer as part of the model save file. You will have to compile your model again after loading it. Prefer using a Keras optimizer instead (see keras.io/optimizers).\n"
     ]
    },
    {
     "name": "stderr",
     "output_type": "stream",
     "text": [
      "WARNING:tensorflow:TensorFlow optimizers do not make it possible to access optimizer attributes or optimizer state after instantiation. As a result, we cannot save the optimizer as part of the model save file. You will have to compile your model again after loading it. Prefer using a Keras optimizer instead (see keras.io/optimizers).\n"
     ]
    },
    {
     "name": "stdout",
     "output_type": "stream",
     "text": [
      "WARNING:tensorflow:TensorFlow optimizers do not make it possible to access optimizer attributes or optimizer state after instantiation. As a result, we cannot save the optimizer as part of the model save file. You will have to compile your model again after loading it. Prefer using a Keras optimizer instead (see keras.io/optimizers).\n"
     ]
    },
    {
     "name": "stderr",
     "output_type": "stream",
     "text": [
      "WARNING:tensorflow:TensorFlow optimizers do not make it possible to access optimizer attributes or optimizer state after instantiation. As a result, we cannot save the optimizer as part of the model save file. You will have to compile your model again after loading it. Prefer using a Keras optimizer instead (see keras.io/optimizers).\n",
      "WARNING:absl:Function `_wrapped_model` contains input name(s) Input-Token, Input-Segment with unsupported characters which will be renamed to input_token, input_segment in the SavedModel.\n"
     ]
    },
    {
     "name": "stdout",
     "output_type": "stream",
     "text": [
      "INFO:tensorflow:Assets written to: /aiffel/aiffel/DDD/wandb/run-20230411_061733-1fpgp1pl/files/model-best/assets\n"
     ]
    },
    {
     "name": "stderr",
     "output_type": "stream",
     "text": [
      "INFO:tensorflow:Assets written to: /aiffel/aiffel/DDD/wandb/run-20230411_061733-1fpgp1pl/files/model-best/assets\n"
     ]
    },
    {
     "name": "stdout",
     "output_type": "stream",
     "text": [
      "WARNING:tensorflow:TensorFlow optimizers do not make it possible to access optimizer attributes or optimizer state after instantiation. As a result, we cannot save the optimizer as part of the model save file. You will have to compile your model again after loading it. Prefer using a Keras optimizer instead (see keras.io/optimizers).\n"
     ]
    },
    {
     "name": "stderr",
     "output_type": "stream",
     "text": [
      "WARNING:tensorflow:TensorFlow optimizers do not make it possible to access optimizer attributes or optimizer state after instantiation. As a result, we cannot save the optimizer as part of the model save file. You will have to compile your model again after loading it. Prefer using a Keras optimizer instead (see keras.io/optimizers).\n",
      "\u001b[34m\u001b[1mwandb\u001b[0m: Adding directory to artifact (/aiffel/aiffel/DDD/wandb/run-20230411_061733-1fpgp1pl/files/model-best)... Done. 7.2s\n"
     ]
    },
    {
     "name": "stdout",
     "output_type": "stream",
     "text": [
      "Epoch 7/27\n",
      "4/4 [==============================] - 2s 589ms/step - loss: 0.5176 - accuracy: 0.7800 - val_loss: 0.6599 - val_accuracy: 0.5000\n",
      "WARNING:tensorflow:TensorFlow optimizers do not make it possible to access optimizer attributes or optimizer state after instantiation. As a result, we cannot save the optimizer as part of the model save file. You will have to compile your model again after loading it. Prefer using a Keras optimizer instead (see keras.io/optimizers).\n"
     ]
    },
    {
     "name": "stderr",
     "output_type": "stream",
     "text": [
      "WARNING:tensorflow:TensorFlow optimizers do not make it possible to access optimizer attributes or optimizer state after instantiation. As a result, we cannot save the optimizer as part of the model save file. You will have to compile your model again after loading it. Prefer using a Keras optimizer instead (see keras.io/optimizers).\n"
     ]
    },
    {
     "name": "stdout",
     "output_type": "stream",
     "text": [
      "WARNING:tensorflow:TensorFlow optimizers do not make it possible to access optimizer attributes or optimizer state after instantiation. As a result, we cannot save the optimizer as part of the model save file. You will have to compile your model again after loading it. Prefer using a Keras optimizer instead (see keras.io/optimizers).\n"
     ]
    },
    {
     "name": "stderr",
     "output_type": "stream",
     "text": [
      "WARNING:tensorflow:TensorFlow optimizers do not make it possible to access optimizer attributes or optimizer state after instantiation. As a result, we cannot save the optimizer as part of the model save file. You will have to compile your model again after loading it. Prefer using a Keras optimizer instead (see keras.io/optimizers).\n",
      "WARNING:absl:Function `_wrapped_model` contains input name(s) Input-Token, Input-Segment with unsupported characters which will be renamed to input_token, input_segment in the SavedModel.\n"
     ]
    },
    {
     "name": "stdout",
     "output_type": "stream",
     "text": [
      "INFO:tensorflow:Assets written to: /aiffel/aiffel/DDD/wandb/run-20230411_061733-1fpgp1pl/files/model-best/assets\n"
     ]
    },
    {
     "name": "stderr",
     "output_type": "stream",
     "text": [
      "INFO:tensorflow:Assets written to: /aiffel/aiffel/DDD/wandb/run-20230411_061733-1fpgp1pl/files/model-best/assets\n"
     ]
    },
    {
     "name": "stdout",
     "output_type": "stream",
     "text": [
      "WARNING:tensorflow:TensorFlow optimizers do not make it possible to access optimizer attributes or optimizer state after instantiation. As a result, we cannot save the optimizer as part of the model save file. You will have to compile your model again after loading it. Prefer using a Keras optimizer instead (see keras.io/optimizers).\n"
     ]
    },
    {
     "name": "stderr",
     "output_type": "stream",
     "text": [
      "WARNING:tensorflow:TensorFlow optimizers do not make it possible to access optimizer attributes or optimizer state after instantiation. As a result, we cannot save the optimizer as part of the model save file. You will have to compile your model again after loading it. Prefer using a Keras optimizer instead (see keras.io/optimizers).\n",
      "\u001b[34m\u001b[1mwandb\u001b[0m: Adding directory to artifact (/aiffel/aiffel/DDD/wandb/run-20230411_061733-1fpgp1pl/files/model-best)... Done. 7.3s\n"
     ]
    },
    {
     "name": "stdout",
     "output_type": "stream",
     "text": [
      "Epoch 8/27\n",
      "4/4 [==============================] - 2s 588ms/step - loss: 0.5238 - accuracy: 0.8200 - val_loss: 0.6541 - val_accuracy: 0.5000\n",
      "WARNING:tensorflow:TensorFlow optimizers do not make it possible to access optimizer attributes or optimizer state after instantiation. As a result, we cannot save the optimizer as part of the model save file. You will have to compile your model again after loading it. Prefer using a Keras optimizer instead (see keras.io/optimizers).\n"
     ]
    },
    {
     "name": "stderr",
     "output_type": "stream",
     "text": [
      "WARNING:tensorflow:TensorFlow optimizers do not make it possible to access optimizer attributes or optimizer state after instantiation. As a result, we cannot save the optimizer as part of the model save file. You will have to compile your model again after loading it. Prefer using a Keras optimizer instead (see keras.io/optimizers).\n"
     ]
    },
    {
     "name": "stdout",
     "output_type": "stream",
     "text": [
      "WARNING:tensorflow:TensorFlow optimizers do not make it possible to access optimizer attributes or optimizer state after instantiation. As a result, we cannot save the optimizer as part of the model save file. You will have to compile your model again after loading it. Prefer using a Keras optimizer instead (see keras.io/optimizers).\n"
     ]
    },
    {
     "name": "stderr",
     "output_type": "stream",
     "text": [
      "WARNING:tensorflow:TensorFlow optimizers do not make it possible to access optimizer attributes or optimizer state after instantiation. As a result, we cannot save the optimizer as part of the model save file. You will have to compile your model again after loading it. Prefer using a Keras optimizer instead (see keras.io/optimizers).\n",
      "WARNING:absl:Function `_wrapped_model` contains input name(s) Input-Token, Input-Segment with unsupported characters which will be renamed to input_token, input_segment in the SavedModel.\n"
     ]
    },
    {
     "name": "stdout",
     "output_type": "stream",
     "text": [
      "INFO:tensorflow:Assets written to: /aiffel/aiffel/DDD/wandb/run-20230411_061733-1fpgp1pl/files/model-best/assets\n"
     ]
    },
    {
     "name": "stderr",
     "output_type": "stream",
     "text": [
      "INFO:tensorflow:Assets written to: /aiffel/aiffel/DDD/wandb/run-20230411_061733-1fpgp1pl/files/model-best/assets\n"
     ]
    },
    {
     "name": "stdout",
     "output_type": "stream",
     "text": [
      "WARNING:tensorflow:TensorFlow optimizers do not make it possible to access optimizer attributes or optimizer state after instantiation. As a result, we cannot save the optimizer as part of the model save file. You will have to compile your model again after loading it. Prefer using a Keras optimizer instead (see keras.io/optimizers).\n"
     ]
    },
    {
     "name": "stderr",
     "output_type": "stream",
     "text": [
      "WARNING:tensorflow:TensorFlow optimizers do not make it possible to access optimizer attributes or optimizer state after instantiation. As a result, we cannot save the optimizer as part of the model save file. You will have to compile your model again after loading it. Prefer using a Keras optimizer instead (see keras.io/optimizers).\n",
      "\u001b[34m\u001b[1mwandb\u001b[0m: Adding directory to artifact (/aiffel/aiffel/DDD/wandb/run-20230411_061733-1fpgp1pl/files/model-best)... Done. 9.0s\n"
     ]
    },
    {
     "name": "stdout",
     "output_type": "stream",
     "text": [
      "Epoch 9/27\n",
      "4/4 [==============================] - 2s 589ms/step - loss: 0.4998 - accuracy: 0.8300 - val_loss: 0.6471 - val_accuracy: 0.5000\n",
      "WARNING:tensorflow:TensorFlow optimizers do not make it possible to access optimizer attributes or optimizer state after instantiation. As a result, we cannot save the optimizer as part of the model save file. You will have to compile your model again after loading it. Prefer using a Keras optimizer instead (see keras.io/optimizers).\n"
     ]
    },
    {
     "name": "stderr",
     "output_type": "stream",
     "text": [
      "WARNING:tensorflow:TensorFlow optimizers do not make it possible to access optimizer attributes or optimizer state after instantiation. As a result, we cannot save the optimizer as part of the model save file. You will have to compile your model again after loading it. Prefer using a Keras optimizer instead (see keras.io/optimizers).\n"
     ]
    },
    {
     "name": "stdout",
     "output_type": "stream",
     "text": [
      "WARNING:tensorflow:TensorFlow optimizers do not make it possible to access optimizer attributes or optimizer state after instantiation. As a result, we cannot save the optimizer as part of the model save file. You will have to compile your model again after loading it. Prefer using a Keras optimizer instead (see keras.io/optimizers).\n"
     ]
    },
    {
     "name": "stderr",
     "output_type": "stream",
     "text": [
      "WARNING:tensorflow:TensorFlow optimizers do not make it possible to access optimizer attributes or optimizer state after instantiation. As a result, we cannot save the optimizer as part of the model save file. You will have to compile your model again after loading it. Prefer using a Keras optimizer instead (see keras.io/optimizers).\n",
      "WARNING:absl:Function `_wrapped_model` contains input name(s) Input-Token, Input-Segment with unsupported characters which will be renamed to input_token, input_segment in the SavedModel.\n"
     ]
    },
    {
     "name": "stdout",
     "output_type": "stream",
     "text": [
      "INFO:tensorflow:Assets written to: /aiffel/aiffel/DDD/wandb/run-20230411_061733-1fpgp1pl/files/model-best/assets\n"
     ]
    },
    {
     "name": "stderr",
     "output_type": "stream",
     "text": [
      "INFO:tensorflow:Assets written to: /aiffel/aiffel/DDD/wandb/run-20230411_061733-1fpgp1pl/files/model-best/assets\n"
     ]
    },
    {
     "name": "stdout",
     "output_type": "stream",
     "text": [
      "WARNING:tensorflow:TensorFlow optimizers do not make it possible to access optimizer attributes or optimizer state after instantiation. As a result, we cannot save the optimizer as part of the model save file. You will have to compile your model again after loading it. Prefer using a Keras optimizer instead (see keras.io/optimizers).\n"
     ]
    },
    {
     "name": "stderr",
     "output_type": "stream",
     "text": [
      "WARNING:tensorflow:TensorFlow optimizers do not make it possible to access optimizer attributes or optimizer state after instantiation. As a result, we cannot save the optimizer as part of the model save file. You will have to compile your model again after loading it. Prefer using a Keras optimizer instead (see keras.io/optimizers).\n",
      "\u001b[34m\u001b[1mwandb\u001b[0m: Adding directory to artifact (/aiffel/aiffel/DDD/wandb/run-20230411_061733-1fpgp1pl/files/model-best)... Done. 8.2s\n"
     ]
    },
    {
     "name": "stdout",
     "output_type": "stream",
     "text": [
      "Epoch 10/27\n",
      "4/4 [==============================] - 2s 591ms/step - loss: 0.4756 - accuracy: 0.9000 - val_loss: 0.6399 - val_accuracy: 0.5000\n",
      "WARNING:tensorflow:TensorFlow optimizers do not make it possible to access optimizer attributes or optimizer state after instantiation. As a result, we cannot save the optimizer as part of the model save file. You will have to compile your model again after loading it. Prefer using a Keras optimizer instead (see keras.io/optimizers).\n"
     ]
    },
    {
     "name": "stderr",
     "output_type": "stream",
     "text": [
      "WARNING:tensorflow:TensorFlow optimizers do not make it possible to access optimizer attributes or optimizer state after instantiation. As a result, we cannot save the optimizer as part of the model save file. You will have to compile your model again after loading it. Prefer using a Keras optimizer instead (see keras.io/optimizers).\n"
     ]
    },
    {
     "name": "stdout",
     "output_type": "stream",
     "text": [
      "WARNING:tensorflow:TensorFlow optimizers do not make it possible to access optimizer attributes or optimizer state after instantiation. As a result, we cannot save the optimizer as part of the model save file. You will have to compile your model again after loading it. Prefer using a Keras optimizer instead (see keras.io/optimizers).\n"
     ]
    },
    {
     "name": "stderr",
     "output_type": "stream",
     "text": [
      "WARNING:tensorflow:TensorFlow optimizers do not make it possible to access optimizer attributes or optimizer state after instantiation. As a result, we cannot save the optimizer as part of the model save file. You will have to compile your model again after loading it. Prefer using a Keras optimizer instead (see keras.io/optimizers).\n",
      "WARNING:absl:Function `_wrapped_model` contains input name(s) Input-Token, Input-Segment with unsupported characters which will be renamed to input_token, input_segment in the SavedModel.\n"
     ]
    },
    {
     "name": "stdout",
     "output_type": "stream",
     "text": [
      "INFO:tensorflow:Assets written to: /aiffel/aiffel/DDD/wandb/run-20230411_061733-1fpgp1pl/files/model-best/assets\n"
     ]
    },
    {
     "name": "stderr",
     "output_type": "stream",
     "text": [
      "INFO:tensorflow:Assets written to: /aiffel/aiffel/DDD/wandb/run-20230411_061733-1fpgp1pl/files/model-best/assets\n"
     ]
    },
    {
     "name": "stdout",
     "output_type": "stream",
     "text": [
      "WARNING:tensorflow:TensorFlow optimizers do not make it possible to access optimizer attributes or optimizer state after instantiation. As a result, we cannot save the optimizer as part of the model save file. You will have to compile your model again after loading it. Prefer using a Keras optimizer instead (see keras.io/optimizers).\n"
     ]
    },
    {
     "name": "stderr",
     "output_type": "stream",
     "text": [
      "WARNING:tensorflow:TensorFlow optimizers do not make it possible to access optimizer attributes or optimizer state after instantiation. As a result, we cannot save the optimizer as part of the model save file. You will have to compile your model again after loading it. Prefer using a Keras optimizer instead (see keras.io/optimizers).\n",
      "\u001b[34m\u001b[1mwandb\u001b[0m: Adding directory to artifact (/aiffel/aiffel/DDD/wandb/run-20230411_061733-1fpgp1pl/files/model-best)... Done. 7.6s\n"
     ]
    },
    {
     "name": "stdout",
     "output_type": "stream",
     "text": [
      "Epoch 11/27\n",
      "4/4 [==============================] - 2s 590ms/step - loss: 0.4517 - accuracy: 0.8300 - val_loss: 0.6328 - val_accuracy: 0.5000\n",
      "WARNING:tensorflow:TensorFlow optimizers do not make it possible to access optimizer attributes or optimizer state after instantiation. As a result, we cannot save the optimizer as part of the model save file. You will have to compile your model again after loading it. Prefer using a Keras optimizer instead (see keras.io/optimizers).\n"
     ]
    },
    {
     "name": "stderr",
     "output_type": "stream",
     "text": [
      "WARNING:tensorflow:TensorFlow optimizers do not make it possible to access optimizer attributes or optimizer state after instantiation. As a result, we cannot save the optimizer as part of the model save file. You will have to compile your model again after loading it. Prefer using a Keras optimizer instead (see keras.io/optimizers).\n"
     ]
    },
    {
     "name": "stdout",
     "output_type": "stream",
     "text": [
      "WARNING:tensorflow:TensorFlow optimizers do not make it possible to access optimizer attributes or optimizer state after instantiation. As a result, we cannot save the optimizer as part of the model save file. You will have to compile your model again after loading it. Prefer using a Keras optimizer instead (see keras.io/optimizers).\n"
     ]
    },
    {
     "name": "stderr",
     "output_type": "stream",
     "text": [
      "WARNING:tensorflow:TensorFlow optimizers do not make it possible to access optimizer attributes or optimizer state after instantiation. As a result, we cannot save the optimizer as part of the model save file. You will have to compile your model again after loading it. Prefer using a Keras optimizer instead (see keras.io/optimizers).\n",
      "WARNING:absl:Function `_wrapped_model` contains input name(s) Input-Token, Input-Segment with unsupported characters which will be renamed to input_token, input_segment in the SavedModel.\n"
     ]
    },
    {
     "name": "stdout",
     "output_type": "stream",
     "text": [
      "INFO:tensorflow:Assets written to: /aiffel/aiffel/DDD/wandb/run-20230411_061733-1fpgp1pl/files/model-best/assets\n"
     ]
    },
    {
     "name": "stderr",
     "output_type": "stream",
     "text": [
      "INFO:tensorflow:Assets written to: /aiffel/aiffel/DDD/wandb/run-20230411_061733-1fpgp1pl/files/model-best/assets\n"
     ]
    },
    {
     "name": "stdout",
     "output_type": "stream",
     "text": [
      "WARNING:tensorflow:TensorFlow optimizers do not make it possible to access optimizer attributes or optimizer state after instantiation. As a result, we cannot save the optimizer as part of the model save file. You will have to compile your model again after loading it. Prefer using a Keras optimizer instead (see keras.io/optimizers).\n"
     ]
    },
    {
     "name": "stderr",
     "output_type": "stream",
     "text": [
      "WARNING:tensorflow:TensorFlow optimizers do not make it possible to access optimizer attributes or optimizer state after instantiation. As a result, we cannot save the optimizer as part of the model save file. You will have to compile your model again after loading it. Prefer using a Keras optimizer instead (see keras.io/optimizers).\n",
      "\u001b[34m\u001b[1mwandb\u001b[0m: Adding directory to artifact (/aiffel/aiffel/DDD/wandb/run-20230411_061733-1fpgp1pl/files/model-best)... Done. 7.8s\n"
     ]
    },
    {
     "name": "stdout",
     "output_type": "stream",
     "text": [
      "Epoch 12/27\n",
      "4/4 [==============================] - 2s 589ms/step - loss: 0.4382 - accuracy: 0.9000 - val_loss: 0.6254 - val_accuracy: 0.5000\n",
      "WARNING:tensorflow:TensorFlow optimizers do not make it possible to access optimizer attributes or optimizer state after instantiation. As a result, we cannot save the optimizer as part of the model save file. You will have to compile your model again after loading it. Prefer using a Keras optimizer instead (see keras.io/optimizers).\n"
     ]
    },
    {
     "name": "stderr",
     "output_type": "stream",
     "text": [
      "WARNING:tensorflow:TensorFlow optimizers do not make it possible to access optimizer attributes or optimizer state after instantiation. As a result, we cannot save the optimizer as part of the model save file. You will have to compile your model again after loading it. Prefer using a Keras optimizer instead (see keras.io/optimizers).\n"
     ]
    },
    {
     "name": "stdout",
     "output_type": "stream",
     "text": [
      "WARNING:tensorflow:TensorFlow optimizers do not make it possible to access optimizer attributes or optimizer state after instantiation. As a result, we cannot save the optimizer as part of the model save file. You will have to compile your model again after loading it. Prefer using a Keras optimizer instead (see keras.io/optimizers).\n"
     ]
    },
    {
     "name": "stderr",
     "output_type": "stream",
     "text": [
      "WARNING:tensorflow:TensorFlow optimizers do not make it possible to access optimizer attributes or optimizer state after instantiation. As a result, we cannot save the optimizer as part of the model save file. You will have to compile your model again after loading it. Prefer using a Keras optimizer instead (see keras.io/optimizers).\n",
      "WARNING:absl:Function `_wrapped_model` contains input name(s) Input-Token, Input-Segment with unsupported characters which will be renamed to input_token, input_segment in the SavedModel.\n"
     ]
    },
    {
     "name": "stdout",
     "output_type": "stream",
     "text": [
      "INFO:tensorflow:Assets written to: /aiffel/aiffel/DDD/wandb/run-20230411_061733-1fpgp1pl/files/model-best/assets\n"
     ]
    },
    {
     "name": "stderr",
     "output_type": "stream",
     "text": [
      "INFO:tensorflow:Assets written to: /aiffel/aiffel/DDD/wandb/run-20230411_061733-1fpgp1pl/files/model-best/assets\n"
     ]
    },
    {
     "name": "stdout",
     "output_type": "stream",
     "text": [
      "WARNING:tensorflow:TensorFlow optimizers do not make it possible to access optimizer attributes or optimizer state after instantiation. As a result, we cannot save the optimizer as part of the model save file. You will have to compile your model again after loading it. Prefer using a Keras optimizer instead (see keras.io/optimizers).\n"
     ]
    },
    {
     "name": "stderr",
     "output_type": "stream",
     "text": [
      "WARNING:tensorflow:TensorFlow optimizers do not make it possible to access optimizer attributes or optimizer state after instantiation. As a result, we cannot save the optimizer as part of the model save file. You will have to compile your model again after loading it. Prefer using a Keras optimizer instead (see keras.io/optimizers).\n",
      "\u001b[34m\u001b[1mwandb\u001b[0m: Adding directory to artifact (/aiffel/aiffel/DDD/wandb/run-20230411_061733-1fpgp1pl/files/model-best)... Done. 9.8s\n"
     ]
    },
    {
     "name": "stdout",
     "output_type": "stream",
     "text": [
      "Epoch 13/27\n",
      "4/4 [==============================] - 2s 591ms/step - loss: 0.4248 - accuracy: 0.9000 - val_loss: 0.6173 - val_accuracy: 0.5000\n",
      "WARNING:tensorflow:TensorFlow optimizers do not make it possible to access optimizer attributes or optimizer state after instantiation. As a result, we cannot save the optimizer as part of the model save file. You will have to compile your model again after loading it. Prefer using a Keras optimizer instead (see keras.io/optimizers).\n"
     ]
    },
    {
     "name": "stderr",
     "output_type": "stream",
     "text": [
      "WARNING:tensorflow:TensorFlow optimizers do not make it possible to access optimizer attributes or optimizer state after instantiation. As a result, we cannot save the optimizer as part of the model save file. You will have to compile your model again after loading it. Prefer using a Keras optimizer instead (see keras.io/optimizers).\n"
     ]
    },
    {
     "name": "stdout",
     "output_type": "stream",
     "text": [
      "WARNING:tensorflow:TensorFlow optimizers do not make it possible to access optimizer attributes or optimizer state after instantiation. As a result, we cannot save the optimizer as part of the model save file. You will have to compile your model again after loading it. Prefer using a Keras optimizer instead (see keras.io/optimizers).\n"
     ]
    },
    {
     "name": "stderr",
     "output_type": "stream",
     "text": [
      "WARNING:tensorflow:TensorFlow optimizers do not make it possible to access optimizer attributes or optimizer state after instantiation. As a result, we cannot save the optimizer as part of the model save file. You will have to compile your model again after loading it. Prefer using a Keras optimizer instead (see keras.io/optimizers).\n",
      "WARNING:absl:Function `_wrapped_model` contains input name(s) Input-Token, Input-Segment with unsupported characters which will be renamed to input_token, input_segment in the SavedModel.\n"
     ]
    },
    {
     "name": "stdout",
     "output_type": "stream",
     "text": [
      "INFO:tensorflow:Assets written to: /aiffel/aiffel/DDD/wandb/run-20230411_061733-1fpgp1pl/files/model-best/assets\n"
     ]
    },
    {
     "name": "stderr",
     "output_type": "stream",
     "text": [
      "INFO:tensorflow:Assets written to: /aiffel/aiffel/DDD/wandb/run-20230411_061733-1fpgp1pl/files/model-best/assets\n"
     ]
    },
    {
     "name": "stdout",
     "output_type": "stream",
     "text": [
      "WARNING:tensorflow:TensorFlow optimizers do not make it possible to access optimizer attributes or optimizer state after instantiation. As a result, we cannot save the optimizer as part of the model save file. You will have to compile your model again after loading it. Prefer using a Keras optimizer instead (see keras.io/optimizers).\n"
     ]
    },
    {
     "name": "stderr",
     "output_type": "stream",
     "text": [
      "WARNING:tensorflow:TensorFlow optimizers do not make it possible to access optimizer attributes or optimizer state after instantiation. As a result, we cannot save the optimizer as part of the model save file. You will have to compile your model again after loading it. Prefer using a Keras optimizer instead (see keras.io/optimizers).\n",
      "\u001b[34m\u001b[1mwandb\u001b[0m: Adding directory to artifact (/aiffel/aiffel/DDD/wandb/run-20230411_061733-1fpgp1pl/files/model-best)... Done. 7.2s\n"
     ]
    },
    {
     "name": "stdout",
     "output_type": "stream",
     "text": [
      "Epoch 14/27\n",
      "4/4 [==============================] - 2s 589ms/step - loss: 0.3994 - accuracy: 0.9000 - val_loss: 0.6083 - val_accuracy: 0.5000\n",
      "WARNING:tensorflow:TensorFlow optimizers do not make it possible to access optimizer attributes or optimizer state after instantiation. As a result, we cannot save the optimizer as part of the model save file. You will have to compile your model again after loading it. Prefer using a Keras optimizer instead (see keras.io/optimizers).\n"
     ]
    },
    {
     "name": "stderr",
     "output_type": "stream",
     "text": [
      "WARNING:tensorflow:TensorFlow optimizers do not make it possible to access optimizer attributes or optimizer state after instantiation. As a result, we cannot save the optimizer as part of the model save file. You will have to compile your model again after loading it. Prefer using a Keras optimizer instead (see keras.io/optimizers).\n"
     ]
    },
    {
     "name": "stdout",
     "output_type": "stream",
     "text": [
      "WARNING:tensorflow:TensorFlow optimizers do not make it possible to access optimizer attributes or optimizer state after instantiation. As a result, we cannot save the optimizer as part of the model save file. You will have to compile your model again after loading it. Prefer using a Keras optimizer instead (see keras.io/optimizers).\n"
     ]
    },
    {
     "name": "stderr",
     "output_type": "stream",
     "text": [
      "WARNING:tensorflow:TensorFlow optimizers do not make it possible to access optimizer attributes or optimizer state after instantiation. As a result, we cannot save the optimizer as part of the model save file. You will have to compile your model again after loading it. Prefer using a Keras optimizer instead (see keras.io/optimizers).\n",
      "WARNING:absl:Function `_wrapped_model` contains input name(s) Input-Token, Input-Segment with unsupported characters which will be renamed to input_token, input_segment in the SavedModel.\n"
     ]
    },
    {
     "name": "stdout",
     "output_type": "stream",
     "text": [
      "INFO:tensorflow:Assets written to: /aiffel/aiffel/DDD/wandb/run-20230411_061733-1fpgp1pl/files/model-best/assets\n"
     ]
    },
    {
     "name": "stderr",
     "output_type": "stream",
     "text": [
      "INFO:tensorflow:Assets written to: /aiffel/aiffel/DDD/wandb/run-20230411_061733-1fpgp1pl/files/model-best/assets\n"
     ]
    },
    {
     "name": "stdout",
     "output_type": "stream",
     "text": [
      "WARNING:tensorflow:TensorFlow optimizers do not make it possible to access optimizer attributes or optimizer state after instantiation. As a result, we cannot save the optimizer as part of the model save file. You will have to compile your model again after loading it. Prefer using a Keras optimizer instead (see keras.io/optimizers).\n"
     ]
    },
    {
     "name": "stderr",
     "output_type": "stream",
     "text": [
      "WARNING:tensorflow:TensorFlow optimizers do not make it possible to access optimizer attributes or optimizer state after instantiation. As a result, we cannot save the optimizer as part of the model save file. You will have to compile your model again after loading it. Prefer using a Keras optimizer instead (see keras.io/optimizers).\n",
      "\u001b[34m\u001b[1mwandb\u001b[0m: Adding directory to artifact (/aiffel/aiffel/DDD/wandb/run-20230411_061733-1fpgp1pl/files/model-best)... Done. 8.7s\n"
     ]
    },
    {
     "name": "stdout",
     "output_type": "stream",
     "text": [
      "Epoch 15/27\n",
      "4/4 [==============================] - 2s 589ms/step - loss: 0.4006 - accuracy: 0.9100 - val_loss: 0.5994 - val_accuracy: 0.5000\n",
      "WARNING:tensorflow:TensorFlow optimizers do not make it possible to access optimizer attributes or optimizer state after instantiation. As a result, we cannot save the optimizer as part of the model save file. You will have to compile your model again after loading it. Prefer using a Keras optimizer instead (see keras.io/optimizers).\n"
     ]
    },
    {
     "name": "stderr",
     "output_type": "stream",
     "text": [
      "WARNING:tensorflow:TensorFlow optimizers do not make it possible to access optimizer attributes or optimizer state after instantiation. As a result, we cannot save the optimizer as part of the model save file. You will have to compile your model again after loading it. Prefer using a Keras optimizer instead (see keras.io/optimizers).\n"
     ]
    },
    {
     "name": "stdout",
     "output_type": "stream",
     "text": [
      "WARNING:tensorflow:TensorFlow optimizers do not make it possible to access optimizer attributes or optimizer state after instantiation. As a result, we cannot save the optimizer as part of the model save file. You will have to compile your model again after loading it. Prefer using a Keras optimizer instead (see keras.io/optimizers).\n"
     ]
    },
    {
     "name": "stderr",
     "output_type": "stream",
     "text": [
      "WARNING:tensorflow:TensorFlow optimizers do not make it possible to access optimizer attributes or optimizer state after instantiation. As a result, we cannot save the optimizer as part of the model save file. You will have to compile your model again after loading it. Prefer using a Keras optimizer instead (see keras.io/optimizers).\n",
      "WARNING:absl:Function `_wrapped_model` contains input name(s) Input-Token, Input-Segment with unsupported characters which will be renamed to input_token, input_segment in the SavedModel.\n"
     ]
    },
    {
     "name": "stdout",
     "output_type": "stream",
     "text": [
      "INFO:tensorflow:Assets written to: /aiffel/aiffel/DDD/wandb/run-20230411_061733-1fpgp1pl/files/model-best/assets\n"
     ]
    },
    {
     "name": "stderr",
     "output_type": "stream",
     "text": [
      "INFO:tensorflow:Assets written to: /aiffel/aiffel/DDD/wandb/run-20230411_061733-1fpgp1pl/files/model-best/assets\n"
     ]
    },
    {
     "name": "stdout",
     "output_type": "stream",
     "text": [
      "WARNING:tensorflow:TensorFlow optimizers do not make it possible to access optimizer attributes or optimizer state after instantiation. As a result, we cannot save the optimizer as part of the model save file. You will have to compile your model again after loading it. Prefer using a Keras optimizer instead (see keras.io/optimizers).\n"
     ]
    },
    {
     "name": "stderr",
     "output_type": "stream",
     "text": [
      "WARNING:tensorflow:TensorFlow optimizers do not make it possible to access optimizer attributes or optimizer state after instantiation. As a result, we cannot save the optimizer as part of the model save file. You will have to compile your model again after loading it. Prefer using a Keras optimizer instead (see keras.io/optimizers).\n",
      "\u001b[34m\u001b[1mwandb\u001b[0m: Adding directory to artifact (/aiffel/aiffel/DDD/wandb/run-20230411_061733-1fpgp1pl/files/model-best)... Done. 8.3s\n"
     ]
    },
    {
     "name": "stdout",
     "output_type": "stream",
     "text": [
      "Epoch 16/27\n",
      "4/4 [==============================] - 2s 591ms/step - loss: 0.3941 - accuracy: 0.9000 - val_loss: 0.5893 - val_accuracy: 0.5000\n",
      "WARNING:tensorflow:TensorFlow optimizers do not make it possible to access optimizer attributes or optimizer state after instantiation. As a result, we cannot save the optimizer as part of the model save file. You will have to compile your model again after loading it. Prefer using a Keras optimizer instead (see keras.io/optimizers).\n"
     ]
    },
    {
     "name": "stderr",
     "output_type": "stream",
     "text": [
      "WARNING:tensorflow:TensorFlow optimizers do not make it possible to access optimizer attributes or optimizer state after instantiation. As a result, we cannot save the optimizer as part of the model save file. You will have to compile your model again after loading it. Prefer using a Keras optimizer instead (see keras.io/optimizers).\n"
     ]
    },
    {
     "name": "stdout",
     "output_type": "stream",
     "text": [
      "WARNING:tensorflow:TensorFlow optimizers do not make it possible to access optimizer attributes or optimizer state after instantiation. As a result, we cannot save the optimizer as part of the model save file. You will have to compile your model again after loading it. Prefer using a Keras optimizer instead (see keras.io/optimizers).\n"
     ]
    },
    {
     "name": "stderr",
     "output_type": "stream",
     "text": [
      "WARNING:tensorflow:TensorFlow optimizers do not make it possible to access optimizer attributes or optimizer state after instantiation. As a result, we cannot save the optimizer as part of the model save file. You will have to compile your model again after loading it. Prefer using a Keras optimizer instead (see keras.io/optimizers).\n",
      "WARNING:absl:Function `_wrapped_model` contains input name(s) Input-Token, Input-Segment with unsupported characters which will be renamed to input_token, input_segment in the SavedModel.\n"
     ]
    },
    {
     "name": "stdout",
     "output_type": "stream",
     "text": [
      "INFO:tensorflow:Assets written to: /aiffel/aiffel/DDD/wandb/run-20230411_061733-1fpgp1pl/files/model-best/assets\n"
     ]
    },
    {
     "name": "stderr",
     "output_type": "stream",
     "text": [
      "INFO:tensorflow:Assets written to: /aiffel/aiffel/DDD/wandb/run-20230411_061733-1fpgp1pl/files/model-best/assets\n"
     ]
    },
    {
     "name": "stdout",
     "output_type": "stream",
     "text": [
      "WARNING:tensorflow:TensorFlow optimizers do not make it possible to access optimizer attributes or optimizer state after instantiation. As a result, we cannot save the optimizer as part of the model save file. You will have to compile your model again after loading it. Prefer using a Keras optimizer instead (see keras.io/optimizers).\n"
     ]
    },
    {
     "name": "stderr",
     "output_type": "stream",
     "text": [
      "WARNING:tensorflow:TensorFlow optimizers do not make it possible to access optimizer attributes or optimizer state after instantiation. As a result, we cannot save the optimizer as part of the model save file. You will have to compile your model again after loading it. Prefer using a Keras optimizer instead (see keras.io/optimizers).\n",
      "\u001b[34m\u001b[1mwandb\u001b[0m: Adding directory to artifact (/aiffel/aiffel/DDD/wandb/run-20230411_061733-1fpgp1pl/files/model-best)... Done. 9.1s\n"
     ]
    },
    {
     "name": "stdout",
     "output_type": "stream",
     "text": [
      "Epoch 17/27\n",
      "4/4 [==============================] - 2s 591ms/step - loss: 0.3438 - accuracy: 0.9600 - val_loss: 0.5798 - val_accuracy: 0.5000\n",
      "WARNING:tensorflow:TensorFlow optimizers do not make it possible to access optimizer attributes or optimizer state after instantiation. As a result, we cannot save the optimizer as part of the model save file. You will have to compile your model again after loading it. Prefer using a Keras optimizer instead (see keras.io/optimizers).\n"
     ]
    },
    {
     "name": "stderr",
     "output_type": "stream",
     "text": [
      "WARNING:tensorflow:TensorFlow optimizers do not make it possible to access optimizer attributes or optimizer state after instantiation. As a result, we cannot save the optimizer as part of the model save file. You will have to compile your model again after loading it. Prefer using a Keras optimizer instead (see keras.io/optimizers).\n"
     ]
    },
    {
     "name": "stdout",
     "output_type": "stream",
     "text": [
      "WARNING:tensorflow:TensorFlow optimizers do not make it possible to access optimizer attributes or optimizer state after instantiation. As a result, we cannot save the optimizer as part of the model save file. You will have to compile your model again after loading it. Prefer using a Keras optimizer instead (see keras.io/optimizers).\n"
     ]
    },
    {
     "name": "stderr",
     "output_type": "stream",
     "text": [
      "WARNING:tensorflow:TensorFlow optimizers do not make it possible to access optimizer attributes or optimizer state after instantiation. As a result, we cannot save the optimizer as part of the model save file. You will have to compile your model again after loading it. Prefer using a Keras optimizer instead (see keras.io/optimizers).\n",
      "WARNING:absl:Function `_wrapped_model` contains input name(s) Input-Token, Input-Segment with unsupported characters which will be renamed to input_token, input_segment in the SavedModel.\n"
     ]
    },
    {
     "name": "stdout",
     "output_type": "stream",
     "text": [
      "INFO:tensorflow:Assets written to: /aiffel/aiffel/DDD/wandb/run-20230411_061733-1fpgp1pl/files/model-best/assets\n"
     ]
    },
    {
     "name": "stderr",
     "output_type": "stream",
     "text": [
      "INFO:tensorflow:Assets written to: /aiffel/aiffel/DDD/wandb/run-20230411_061733-1fpgp1pl/files/model-best/assets\n"
     ]
    },
    {
     "name": "stdout",
     "output_type": "stream",
     "text": [
      "WARNING:tensorflow:TensorFlow optimizers do not make it possible to access optimizer attributes or optimizer state after instantiation. As a result, we cannot save the optimizer as part of the model save file. You will have to compile your model again after loading it. Prefer using a Keras optimizer instead (see keras.io/optimizers).\n"
     ]
    },
    {
     "name": "stderr",
     "output_type": "stream",
     "text": [
      "WARNING:tensorflow:TensorFlow optimizers do not make it possible to access optimizer attributes or optimizer state after instantiation. As a result, we cannot save the optimizer as part of the model save file. You will have to compile your model again after loading it. Prefer using a Keras optimizer instead (see keras.io/optimizers).\n",
      "\u001b[34m\u001b[1mwandb\u001b[0m: Adding directory to artifact (/aiffel/aiffel/DDD/wandb/run-20230411_061733-1fpgp1pl/files/model-best)... Done. 9.2s\n"
     ]
    },
    {
     "name": "stdout",
     "output_type": "stream",
     "text": [
      "Epoch 18/27\n",
      "4/4 [==============================] - 2s 591ms/step - loss: 0.3424 - accuracy: 0.9200 - val_loss: 0.5699 - val_accuracy: 0.5000\n",
      "WARNING:tensorflow:TensorFlow optimizers do not make it possible to access optimizer attributes or optimizer state after instantiation. As a result, we cannot save the optimizer as part of the model save file. You will have to compile your model again after loading it. Prefer using a Keras optimizer instead (see keras.io/optimizers).\n"
     ]
    },
    {
     "name": "stderr",
     "output_type": "stream",
     "text": [
      "WARNING:tensorflow:TensorFlow optimizers do not make it possible to access optimizer attributes or optimizer state after instantiation. As a result, we cannot save the optimizer as part of the model save file. You will have to compile your model again after loading it. Prefer using a Keras optimizer instead (see keras.io/optimizers).\n"
     ]
    },
    {
     "name": "stdout",
     "output_type": "stream",
     "text": [
      "WARNING:tensorflow:TensorFlow optimizers do not make it possible to access optimizer attributes or optimizer state after instantiation. As a result, we cannot save the optimizer as part of the model save file. You will have to compile your model again after loading it. Prefer using a Keras optimizer instead (see keras.io/optimizers).\n"
     ]
    },
    {
     "name": "stderr",
     "output_type": "stream",
     "text": [
      "WARNING:tensorflow:TensorFlow optimizers do not make it possible to access optimizer attributes or optimizer state after instantiation. As a result, we cannot save the optimizer as part of the model save file. You will have to compile your model again after loading it. Prefer using a Keras optimizer instead (see keras.io/optimizers).\n",
      "WARNING:absl:Function `_wrapped_model` contains input name(s) Input-Token, Input-Segment with unsupported characters which will be renamed to input_token, input_segment in the SavedModel.\n"
     ]
    },
    {
     "name": "stdout",
     "output_type": "stream",
     "text": [
      "INFO:tensorflow:Assets written to: /aiffel/aiffel/DDD/wandb/run-20230411_061733-1fpgp1pl/files/model-best/assets\n"
     ]
    },
    {
     "name": "stderr",
     "output_type": "stream",
     "text": [
      "INFO:tensorflow:Assets written to: /aiffel/aiffel/DDD/wandb/run-20230411_061733-1fpgp1pl/files/model-best/assets\n"
     ]
    },
    {
     "name": "stdout",
     "output_type": "stream",
     "text": [
      "WARNING:tensorflow:TensorFlow optimizers do not make it possible to access optimizer attributes or optimizer state after instantiation. As a result, we cannot save the optimizer as part of the model save file. You will have to compile your model again after loading it. Prefer using a Keras optimizer instead (see keras.io/optimizers).\n"
     ]
    },
    {
     "name": "stderr",
     "output_type": "stream",
     "text": [
      "WARNING:tensorflow:TensorFlow optimizers do not make it possible to access optimizer attributes or optimizer state after instantiation. As a result, we cannot save the optimizer as part of the model save file. You will have to compile your model again after loading it. Prefer using a Keras optimizer instead (see keras.io/optimizers).\n",
      "\u001b[34m\u001b[1mwandb\u001b[0m: Adding directory to artifact (/aiffel/aiffel/DDD/wandb/run-20230411_061733-1fpgp1pl/files/model-best)... Done. 8.5s\n"
     ]
    },
    {
     "name": "stdout",
     "output_type": "stream",
     "text": [
      "Epoch 19/27\n",
      "4/4 [==============================] - 2s 590ms/step - loss: 0.3377 - accuracy: 0.9400 - val_loss: 0.5591 - val_accuracy: 0.5000\n",
      "WARNING:tensorflow:TensorFlow optimizers do not make it possible to access optimizer attributes or optimizer state after instantiation. As a result, we cannot save the optimizer as part of the model save file. You will have to compile your model again after loading it. Prefer using a Keras optimizer instead (see keras.io/optimizers).\n"
     ]
    },
    {
     "name": "stderr",
     "output_type": "stream",
     "text": [
      "WARNING:tensorflow:TensorFlow optimizers do not make it possible to access optimizer attributes or optimizer state after instantiation. As a result, we cannot save the optimizer as part of the model save file. You will have to compile your model again after loading it. Prefer using a Keras optimizer instead (see keras.io/optimizers).\n"
     ]
    },
    {
     "name": "stdout",
     "output_type": "stream",
     "text": [
      "WARNING:tensorflow:TensorFlow optimizers do not make it possible to access optimizer attributes or optimizer state after instantiation. As a result, we cannot save the optimizer as part of the model save file. You will have to compile your model again after loading it. Prefer using a Keras optimizer instead (see keras.io/optimizers).\n"
     ]
    },
    {
     "name": "stderr",
     "output_type": "stream",
     "text": [
      "WARNING:tensorflow:TensorFlow optimizers do not make it possible to access optimizer attributes or optimizer state after instantiation. As a result, we cannot save the optimizer as part of the model save file. You will have to compile your model again after loading it. Prefer using a Keras optimizer instead (see keras.io/optimizers).\n",
      "WARNING:absl:Function `_wrapped_model` contains input name(s) Input-Token, Input-Segment with unsupported characters which will be renamed to input_token, input_segment in the SavedModel.\n"
     ]
    },
    {
     "name": "stdout",
     "output_type": "stream",
     "text": [
      "INFO:tensorflow:Assets written to: /aiffel/aiffel/DDD/wandb/run-20230411_061733-1fpgp1pl/files/model-best/assets\n"
     ]
    },
    {
     "name": "stderr",
     "output_type": "stream",
     "text": [
      "INFO:tensorflow:Assets written to: /aiffel/aiffel/DDD/wandb/run-20230411_061733-1fpgp1pl/files/model-best/assets\n"
     ]
    },
    {
     "name": "stdout",
     "output_type": "stream",
     "text": [
      "WARNING:tensorflow:TensorFlow optimizers do not make it possible to access optimizer attributes or optimizer state after instantiation. As a result, we cannot save the optimizer as part of the model save file. You will have to compile your model again after loading it. Prefer using a Keras optimizer instead (see keras.io/optimizers).\n"
     ]
    },
    {
     "name": "stderr",
     "output_type": "stream",
     "text": [
      "WARNING:tensorflow:TensorFlow optimizers do not make it possible to access optimizer attributes or optimizer state after instantiation. As a result, we cannot save the optimizer as part of the model save file. You will have to compile your model again after loading it. Prefer using a Keras optimizer instead (see keras.io/optimizers).\n",
      "\u001b[34m\u001b[1mwandb\u001b[0m: Adding directory to artifact (/aiffel/aiffel/DDD/wandb/run-20230411_061733-1fpgp1pl/files/model-best)... Done. 9.2s\n"
     ]
    },
    {
     "name": "stdout",
     "output_type": "stream",
     "text": [
      "Epoch 20/27\n",
      "4/4 [==============================] - 2s 588ms/step - loss: 0.3561 - accuracy: 0.9200 - val_loss: 0.5498 - val_accuracy: 0.5000\n",
      "WARNING:tensorflow:TensorFlow optimizers do not make it possible to access optimizer attributes or optimizer state after instantiation. As a result, we cannot save the optimizer as part of the model save file. You will have to compile your model again after loading it. Prefer using a Keras optimizer instead (see keras.io/optimizers).\n"
     ]
    },
    {
     "name": "stderr",
     "output_type": "stream",
     "text": [
      "WARNING:tensorflow:TensorFlow optimizers do not make it possible to access optimizer attributes or optimizer state after instantiation. As a result, we cannot save the optimizer as part of the model save file. You will have to compile your model again after loading it. Prefer using a Keras optimizer instead (see keras.io/optimizers).\n"
     ]
    },
    {
     "name": "stdout",
     "output_type": "stream",
     "text": [
      "WARNING:tensorflow:TensorFlow optimizers do not make it possible to access optimizer attributes or optimizer state after instantiation. As a result, we cannot save the optimizer as part of the model save file. You will have to compile your model again after loading it. Prefer using a Keras optimizer instead (see keras.io/optimizers).\n"
     ]
    },
    {
     "name": "stderr",
     "output_type": "stream",
     "text": [
      "WARNING:tensorflow:TensorFlow optimizers do not make it possible to access optimizer attributes or optimizer state after instantiation. As a result, we cannot save the optimizer as part of the model save file. You will have to compile your model again after loading it. Prefer using a Keras optimizer instead (see keras.io/optimizers).\n",
      "WARNING:absl:Function `_wrapped_model` contains input name(s) Input-Token, Input-Segment with unsupported characters which will be renamed to input_token, input_segment in the SavedModel.\n"
     ]
    },
    {
     "name": "stdout",
     "output_type": "stream",
     "text": [
      "INFO:tensorflow:Assets written to: /aiffel/aiffel/DDD/wandb/run-20230411_061733-1fpgp1pl/files/model-best/assets\n"
     ]
    },
    {
     "name": "stderr",
     "output_type": "stream",
     "text": [
      "INFO:tensorflow:Assets written to: /aiffel/aiffel/DDD/wandb/run-20230411_061733-1fpgp1pl/files/model-best/assets\n"
     ]
    },
    {
     "name": "stdout",
     "output_type": "stream",
     "text": [
      "WARNING:tensorflow:TensorFlow optimizers do not make it possible to access optimizer attributes or optimizer state after instantiation. As a result, we cannot save the optimizer as part of the model save file. You will have to compile your model again after loading it. Prefer using a Keras optimizer instead (see keras.io/optimizers).\n"
     ]
    },
    {
     "name": "stderr",
     "output_type": "stream",
     "text": [
      "WARNING:tensorflow:TensorFlow optimizers do not make it possible to access optimizer attributes or optimizer state after instantiation. As a result, we cannot save the optimizer as part of the model save file. You will have to compile your model again after loading it. Prefer using a Keras optimizer instead (see keras.io/optimizers).\n",
      "\u001b[34m\u001b[1mwandb\u001b[0m: Adding directory to artifact (/aiffel/aiffel/DDD/wandb/run-20230411_061733-1fpgp1pl/files/model-best)... Done. 9.2s\n"
     ]
    },
    {
     "name": "stdout",
     "output_type": "stream",
     "text": [
      "Epoch 21/27\n",
      "4/4 [==============================] - 2s 591ms/step - loss: 0.3623 - accuracy: 0.9100 - val_loss: 0.5386 - val_accuracy: 0.5000\n",
      "WARNING:tensorflow:TensorFlow optimizers do not make it possible to access optimizer attributes or optimizer state after instantiation. As a result, we cannot save the optimizer as part of the model save file. You will have to compile your model again after loading it. Prefer using a Keras optimizer instead (see keras.io/optimizers).\n"
     ]
    },
    {
     "name": "stderr",
     "output_type": "stream",
     "text": [
      "WARNING:tensorflow:TensorFlow optimizers do not make it possible to access optimizer attributes or optimizer state after instantiation. As a result, we cannot save the optimizer as part of the model save file. You will have to compile your model again after loading it. Prefer using a Keras optimizer instead (see keras.io/optimizers).\n"
     ]
    },
    {
     "name": "stdout",
     "output_type": "stream",
     "text": [
      "WARNING:tensorflow:TensorFlow optimizers do not make it possible to access optimizer attributes or optimizer state after instantiation. As a result, we cannot save the optimizer as part of the model save file. You will have to compile your model again after loading it. Prefer using a Keras optimizer instead (see keras.io/optimizers).\n"
     ]
    },
    {
     "name": "stderr",
     "output_type": "stream",
     "text": [
      "WARNING:tensorflow:TensorFlow optimizers do not make it possible to access optimizer attributes or optimizer state after instantiation. As a result, we cannot save the optimizer as part of the model save file. You will have to compile your model again after loading it. Prefer using a Keras optimizer instead (see keras.io/optimizers).\n",
      "WARNING:absl:Function `_wrapped_model` contains input name(s) Input-Token, Input-Segment with unsupported characters which will be renamed to input_token, input_segment in the SavedModel.\n"
     ]
    },
    {
     "name": "stdout",
     "output_type": "stream",
     "text": [
      "INFO:tensorflow:Assets written to: /aiffel/aiffel/DDD/wandb/run-20230411_061733-1fpgp1pl/files/model-best/assets\n"
     ]
    },
    {
     "name": "stderr",
     "output_type": "stream",
     "text": [
      "INFO:tensorflow:Assets written to: /aiffel/aiffel/DDD/wandb/run-20230411_061733-1fpgp1pl/files/model-best/assets\n"
     ]
    },
    {
     "name": "stdout",
     "output_type": "stream",
     "text": [
      "WARNING:tensorflow:TensorFlow optimizers do not make it possible to access optimizer attributes or optimizer state after instantiation. As a result, we cannot save the optimizer as part of the model save file. You will have to compile your model again after loading it. Prefer using a Keras optimizer instead (see keras.io/optimizers).\n"
     ]
    },
    {
     "name": "stderr",
     "output_type": "stream",
     "text": [
      "WARNING:tensorflow:TensorFlow optimizers do not make it possible to access optimizer attributes or optimizer state after instantiation. As a result, we cannot save the optimizer as part of the model save file. You will have to compile your model again after loading it. Prefer using a Keras optimizer instead (see keras.io/optimizers).\n",
      "\u001b[34m\u001b[1mwandb\u001b[0m: Adding directory to artifact (/aiffel/aiffel/DDD/wandb/run-20230411_061733-1fpgp1pl/files/model-best)... Done. 9.0s\n"
     ]
    },
    {
     "name": "stdout",
     "output_type": "stream",
     "text": [
      "Epoch 22/27\n",
      "4/4 [==============================] - 2s 589ms/step - loss: 0.3367 - accuracy: 0.9300 - val_loss: 0.5285 - val_accuracy: 0.5000\n",
      "WARNING:tensorflow:TensorFlow optimizers do not make it possible to access optimizer attributes or optimizer state after instantiation. As a result, we cannot save the optimizer as part of the model save file. You will have to compile your model again after loading it. Prefer using a Keras optimizer instead (see keras.io/optimizers).\n"
     ]
    },
    {
     "name": "stderr",
     "output_type": "stream",
     "text": [
      "WARNING:tensorflow:TensorFlow optimizers do not make it possible to access optimizer attributes or optimizer state after instantiation. As a result, we cannot save the optimizer as part of the model save file. You will have to compile your model again after loading it. Prefer using a Keras optimizer instead (see keras.io/optimizers).\n"
     ]
    },
    {
     "name": "stdout",
     "output_type": "stream",
     "text": [
      "WARNING:tensorflow:TensorFlow optimizers do not make it possible to access optimizer attributes or optimizer state after instantiation. As a result, we cannot save the optimizer as part of the model save file. You will have to compile your model again after loading it. Prefer using a Keras optimizer instead (see keras.io/optimizers).\n"
     ]
    },
    {
     "name": "stderr",
     "output_type": "stream",
     "text": [
      "WARNING:tensorflow:TensorFlow optimizers do not make it possible to access optimizer attributes or optimizer state after instantiation. As a result, we cannot save the optimizer as part of the model save file. You will have to compile your model again after loading it. Prefer using a Keras optimizer instead (see keras.io/optimizers).\n",
      "WARNING:absl:Function `_wrapped_model` contains input name(s) Input-Token, Input-Segment with unsupported characters which will be renamed to input_token, input_segment in the SavedModel.\n"
     ]
    },
    {
     "name": "stdout",
     "output_type": "stream",
     "text": [
      "INFO:tensorflow:Assets written to: /aiffel/aiffel/DDD/wandb/run-20230411_061733-1fpgp1pl/files/model-best/assets\n"
     ]
    },
    {
     "name": "stderr",
     "output_type": "stream",
     "text": [
      "INFO:tensorflow:Assets written to: /aiffel/aiffel/DDD/wandb/run-20230411_061733-1fpgp1pl/files/model-best/assets\n"
     ]
    },
    {
     "name": "stdout",
     "output_type": "stream",
     "text": [
      "WARNING:tensorflow:TensorFlow optimizers do not make it possible to access optimizer attributes or optimizer state after instantiation. As a result, we cannot save the optimizer as part of the model save file. You will have to compile your model again after loading it. Prefer using a Keras optimizer instead (see keras.io/optimizers).\n"
     ]
    },
    {
     "name": "stderr",
     "output_type": "stream",
     "text": [
      "WARNING:tensorflow:TensorFlow optimizers do not make it possible to access optimizer attributes or optimizer state after instantiation. As a result, we cannot save the optimizer as part of the model save file. You will have to compile your model again after loading it. Prefer using a Keras optimizer instead (see keras.io/optimizers).\n",
      "\u001b[34m\u001b[1mwandb\u001b[0m: Adding directory to artifact (/aiffel/aiffel/DDD/wandb/run-20230411_061733-1fpgp1pl/files/model-best)... Done. 8.8s\n"
     ]
    },
    {
     "name": "stdout",
     "output_type": "stream",
     "text": [
      "Epoch 23/27\n",
      "4/4 [==============================] - 2s 590ms/step - loss: 0.3126 - accuracy: 0.9400 - val_loss: 0.5172 - val_accuracy: 0.5000\n",
      "WARNING:tensorflow:TensorFlow optimizers do not make it possible to access optimizer attributes or optimizer state after instantiation. As a result, we cannot save the optimizer as part of the model save file. You will have to compile your model again after loading it. Prefer using a Keras optimizer instead (see keras.io/optimizers).\n"
     ]
    },
    {
     "name": "stderr",
     "output_type": "stream",
     "text": [
      "WARNING:tensorflow:TensorFlow optimizers do not make it possible to access optimizer attributes or optimizer state after instantiation. As a result, we cannot save the optimizer as part of the model save file. You will have to compile your model again after loading it. Prefer using a Keras optimizer instead (see keras.io/optimizers).\n"
     ]
    },
    {
     "name": "stdout",
     "output_type": "stream",
     "text": [
      "WARNING:tensorflow:TensorFlow optimizers do not make it possible to access optimizer attributes or optimizer state after instantiation. As a result, we cannot save the optimizer as part of the model save file. You will have to compile your model again after loading it. Prefer using a Keras optimizer instead (see keras.io/optimizers).\n"
     ]
    },
    {
     "name": "stderr",
     "output_type": "stream",
     "text": [
      "WARNING:tensorflow:TensorFlow optimizers do not make it possible to access optimizer attributes or optimizer state after instantiation. As a result, we cannot save the optimizer as part of the model save file. You will have to compile your model again after loading it. Prefer using a Keras optimizer instead (see keras.io/optimizers).\n",
      "WARNING:absl:Function `_wrapped_model` contains input name(s) Input-Token, Input-Segment with unsupported characters which will be renamed to input_token, input_segment in the SavedModel.\n"
     ]
    },
    {
     "name": "stdout",
     "output_type": "stream",
     "text": [
      "INFO:tensorflow:Assets written to: /aiffel/aiffel/DDD/wandb/run-20230411_061733-1fpgp1pl/files/model-best/assets\n"
     ]
    },
    {
     "name": "stderr",
     "output_type": "stream",
     "text": [
      "INFO:tensorflow:Assets written to: /aiffel/aiffel/DDD/wandb/run-20230411_061733-1fpgp1pl/files/model-best/assets\n"
     ]
    },
    {
     "name": "stdout",
     "output_type": "stream",
     "text": [
      "WARNING:tensorflow:TensorFlow optimizers do not make it possible to access optimizer attributes or optimizer state after instantiation. As a result, we cannot save the optimizer as part of the model save file. You will have to compile your model again after loading it. Prefer using a Keras optimizer instead (see keras.io/optimizers).\n"
     ]
    },
    {
     "name": "stderr",
     "output_type": "stream",
     "text": [
      "WARNING:tensorflow:TensorFlow optimizers do not make it possible to access optimizer attributes or optimizer state after instantiation. As a result, we cannot save the optimizer as part of the model save file. You will have to compile your model again after loading it. Prefer using a Keras optimizer instead (see keras.io/optimizers).\n",
      "\u001b[34m\u001b[1mwandb\u001b[0m: Adding directory to artifact (/aiffel/aiffel/DDD/wandb/run-20230411_061733-1fpgp1pl/files/model-best)... Done. 8.7s\n"
     ]
    },
    {
     "name": "stdout",
     "output_type": "stream",
     "text": [
      "Epoch 24/27\n",
      "4/4 [==============================] - 2s 591ms/step - loss: 0.3496 - accuracy: 0.9000 - val_loss: 0.5065 - val_accuracy: 0.5000\n",
      "WARNING:tensorflow:TensorFlow optimizers do not make it possible to access optimizer attributes or optimizer state after instantiation. As a result, we cannot save the optimizer as part of the model save file. You will have to compile your model again after loading it. Prefer using a Keras optimizer instead (see keras.io/optimizers).\n"
     ]
    },
    {
     "name": "stderr",
     "output_type": "stream",
     "text": [
      "WARNING:tensorflow:TensorFlow optimizers do not make it possible to access optimizer attributes or optimizer state after instantiation. As a result, we cannot save the optimizer as part of the model save file. You will have to compile your model again after loading it. Prefer using a Keras optimizer instead (see keras.io/optimizers).\n"
     ]
    },
    {
     "name": "stdout",
     "output_type": "stream",
     "text": [
      "WARNING:tensorflow:TensorFlow optimizers do not make it possible to access optimizer attributes or optimizer state after instantiation. As a result, we cannot save the optimizer as part of the model save file. You will have to compile your model again after loading it. Prefer using a Keras optimizer instead (see keras.io/optimizers).\n"
     ]
    },
    {
     "name": "stderr",
     "output_type": "stream",
     "text": [
      "WARNING:tensorflow:TensorFlow optimizers do not make it possible to access optimizer attributes or optimizer state after instantiation. As a result, we cannot save the optimizer as part of the model save file. You will have to compile your model again after loading it. Prefer using a Keras optimizer instead (see keras.io/optimizers).\n",
      "WARNING:absl:Function `_wrapped_model` contains input name(s) Input-Token, Input-Segment with unsupported characters which will be renamed to input_token, input_segment in the SavedModel.\n"
     ]
    },
    {
     "name": "stdout",
     "output_type": "stream",
     "text": [
      "INFO:tensorflow:Assets written to: /aiffel/aiffel/DDD/wandb/run-20230411_061733-1fpgp1pl/files/model-best/assets\n"
     ]
    },
    {
     "name": "stderr",
     "output_type": "stream",
     "text": [
      "INFO:tensorflow:Assets written to: /aiffel/aiffel/DDD/wandb/run-20230411_061733-1fpgp1pl/files/model-best/assets\n"
     ]
    },
    {
     "name": "stdout",
     "output_type": "stream",
     "text": [
      "WARNING:tensorflow:TensorFlow optimizers do not make it possible to access optimizer attributes or optimizer state after instantiation. As a result, we cannot save the optimizer as part of the model save file. You will have to compile your model again after loading it. Prefer using a Keras optimizer instead (see keras.io/optimizers).\n"
     ]
    },
    {
     "name": "stderr",
     "output_type": "stream",
     "text": [
      "WARNING:tensorflow:TensorFlow optimizers do not make it possible to access optimizer attributes or optimizer state after instantiation. As a result, we cannot save the optimizer as part of the model save file. You will have to compile your model again after loading it. Prefer using a Keras optimizer instead (see keras.io/optimizers).\n",
      "\u001b[34m\u001b[1mwandb\u001b[0m: Adding directory to artifact (/aiffel/aiffel/DDD/wandb/run-20230411_061733-1fpgp1pl/files/model-best)... Done. 18.6s\n"
     ]
    },
    {
     "name": "stdout",
     "output_type": "stream",
     "text": [
      "Epoch 25/27\n",
      "4/4 [==============================] - 2s 590ms/step - loss: 0.2857 - accuracy: 0.9500 - val_loss: 0.4957 - val_accuracy: 0.5500\n",
      "WARNING:tensorflow:TensorFlow optimizers do not make it possible to access optimizer attributes or optimizer state after instantiation. As a result, we cannot save the optimizer as part of the model save file. You will have to compile your model again after loading it. Prefer using a Keras optimizer instead (see keras.io/optimizers).\n"
     ]
    },
    {
     "name": "stderr",
     "output_type": "stream",
     "text": [
      "WARNING:tensorflow:TensorFlow optimizers do not make it possible to access optimizer attributes or optimizer state after instantiation. As a result, we cannot save the optimizer as part of the model save file. You will have to compile your model again after loading it. Prefer using a Keras optimizer instead (see keras.io/optimizers).\n"
     ]
    },
    {
     "name": "stdout",
     "output_type": "stream",
     "text": [
      "WARNING:tensorflow:TensorFlow optimizers do not make it possible to access optimizer attributes or optimizer state after instantiation. As a result, we cannot save the optimizer as part of the model save file. You will have to compile your model again after loading it. Prefer using a Keras optimizer instead (see keras.io/optimizers).\n"
     ]
    },
    {
     "name": "stderr",
     "output_type": "stream",
     "text": [
      "WARNING:tensorflow:TensorFlow optimizers do not make it possible to access optimizer attributes or optimizer state after instantiation. As a result, we cannot save the optimizer as part of the model save file. You will have to compile your model again after loading it. Prefer using a Keras optimizer instead (see keras.io/optimizers).\n",
      "WARNING:absl:Function `_wrapped_model` contains input name(s) Input-Token, Input-Segment with unsupported characters which will be renamed to input_token, input_segment in the SavedModel.\n"
     ]
    },
    {
     "name": "stdout",
     "output_type": "stream",
     "text": [
      "INFO:tensorflow:Assets written to: /aiffel/aiffel/DDD/wandb/run-20230411_061733-1fpgp1pl/files/model-best/assets\n"
     ]
    },
    {
     "name": "stderr",
     "output_type": "stream",
     "text": [
      "INFO:tensorflow:Assets written to: /aiffel/aiffel/DDD/wandb/run-20230411_061733-1fpgp1pl/files/model-best/assets\n"
     ]
    },
    {
     "name": "stdout",
     "output_type": "stream",
     "text": [
      "WARNING:tensorflow:TensorFlow optimizers do not make it possible to access optimizer attributes or optimizer state after instantiation. As a result, we cannot save the optimizer as part of the model save file. You will have to compile your model again after loading it. Prefer using a Keras optimizer instead (see keras.io/optimizers).\n"
     ]
    },
    {
     "name": "stderr",
     "output_type": "stream",
     "text": [
      "WARNING:tensorflow:TensorFlow optimizers do not make it possible to access optimizer attributes or optimizer state after instantiation. As a result, we cannot save the optimizer as part of the model save file. You will have to compile your model again after loading it. Prefer using a Keras optimizer instead (see keras.io/optimizers).\n",
      "\u001b[34m\u001b[1mwandb\u001b[0m: Adding directory to artifact (/aiffel/aiffel/DDD/wandb/run-20230411_061733-1fpgp1pl/files/model-best)... Done. 18.6s\n"
     ]
    },
    {
     "name": "stdout",
     "output_type": "stream",
     "text": [
      "Epoch 26/27\n",
      "4/4 [==============================] - 2s 587ms/step - loss: 0.3322 - accuracy: 0.8900 - val_loss: 0.4843 - val_accuracy: 0.5500\n",
      "WARNING:tensorflow:TensorFlow optimizers do not make it possible to access optimizer attributes or optimizer state after instantiation. As a result, we cannot save the optimizer as part of the model save file. You will have to compile your model again after loading it. Prefer using a Keras optimizer instead (see keras.io/optimizers).\n"
     ]
    },
    {
     "name": "stderr",
     "output_type": "stream",
     "text": [
      "WARNING:tensorflow:TensorFlow optimizers do not make it possible to access optimizer attributes or optimizer state after instantiation. As a result, we cannot save the optimizer as part of the model save file. You will have to compile your model again after loading it. Prefer using a Keras optimizer instead (see keras.io/optimizers).\n"
     ]
    },
    {
     "name": "stdout",
     "output_type": "stream",
     "text": [
      "WARNING:tensorflow:TensorFlow optimizers do not make it possible to access optimizer attributes or optimizer state after instantiation. As a result, we cannot save the optimizer as part of the model save file. You will have to compile your model again after loading it. Prefer using a Keras optimizer instead (see keras.io/optimizers).\n"
     ]
    },
    {
     "name": "stderr",
     "output_type": "stream",
     "text": [
      "WARNING:tensorflow:TensorFlow optimizers do not make it possible to access optimizer attributes or optimizer state after instantiation. As a result, we cannot save the optimizer as part of the model save file. You will have to compile your model again after loading it. Prefer using a Keras optimizer instead (see keras.io/optimizers).\n",
      "WARNING:absl:Function `_wrapped_model` contains input name(s) Input-Token, Input-Segment with unsupported characters which will be renamed to input_token, input_segment in the SavedModel.\n"
     ]
    },
    {
     "name": "stdout",
     "output_type": "stream",
     "text": [
      "INFO:tensorflow:Assets written to: /aiffel/aiffel/DDD/wandb/run-20230411_061733-1fpgp1pl/files/model-best/assets\n"
     ]
    },
    {
     "name": "stderr",
     "output_type": "stream",
     "text": [
      "INFO:tensorflow:Assets written to: /aiffel/aiffel/DDD/wandb/run-20230411_061733-1fpgp1pl/files/model-best/assets\n"
     ]
    },
    {
     "name": "stdout",
     "output_type": "stream",
     "text": [
      "WARNING:tensorflow:TensorFlow optimizers do not make it possible to access optimizer attributes or optimizer state after instantiation. As a result, we cannot save the optimizer as part of the model save file. You will have to compile your model again after loading it. Prefer using a Keras optimizer instead (see keras.io/optimizers).\n"
     ]
    },
    {
     "name": "stderr",
     "output_type": "stream",
     "text": [
      "WARNING:tensorflow:TensorFlow optimizers do not make it possible to access optimizer attributes or optimizer state after instantiation. As a result, we cannot save the optimizer as part of the model save file. You will have to compile your model again after loading it. Prefer using a Keras optimizer instead (see keras.io/optimizers).\n",
      "\u001b[34m\u001b[1mwandb\u001b[0m: Adding directory to artifact (/aiffel/aiffel/DDD/wandb/run-20230411_061733-1fpgp1pl/files/model-best)... Done. 21.3s\n"
     ]
    },
    {
     "name": "stdout",
     "output_type": "stream",
     "text": [
      "Epoch 27/27\n",
      "4/4 [==============================] - 2s 587ms/step - loss: 0.2961 - accuracy: 0.9300 - val_loss: 0.4751 - val_accuracy: 0.6000\n",
      "WARNING:tensorflow:TensorFlow optimizers do not make it possible to access optimizer attributes or optimizer state after instantiation. As a result, we cannot save the optimizer as part of the model save file. You will have to compile your model again after loading it. Prefer using a Keras optimizer instead (see keras.io/optimizers).\n"
     ]
    },
    {
     "name": "stderr",
     "output_type": "stream",
     "text": [
      "WARNING:tensorflow:TensorFlow optimizers do not make it possible to access optimizer attributes or optimizer state after instantiation. As a result, we cannot save the optimizer as part of the model save file. You will have to compile your model again after loading it. Prefer using a Keras optimizer instead (see keras.io/optimizers).\n"
     ]
    },
    {
     "name": "stdout",
     "output_type": "stream",
     "text": [
      "WARNING:tensorflow:TensorFlow optimizers do not make it possible to access optimizer attributes or optimizer state after instantiation. As a result, we cannot save the optimizer as part of the model save file. You will have to compile your model again after loading it. Prefer using a Keras optimizer instead (see keras.io/optimizers).\n"
     ]
    },
    {
     "name": "stderr",
     "output_type": "stream",
     "text": [
      "WARNING:tensorflow:TensorFlow optimizers do not make it possible to access optimizer attributes or optimizer state after instantiation. As a result, we cannot save the optimizer as part of the model save file. You will have to compile your model again after loading it. Prefer using a Keras optimizer instead (see keras.io/optimizers).\n",
      "WARNING:absl:Function `_wrapped_model` contains input name(s) Input-Token, Input-Segment with unsupported characters which will be renamed to input_token, input_segment in the SavedModel.\n"
     ]
    },
    {
     "name": "stdout",
     "output_type": "stream",
     "text": [
      "INFO:tensorflow:Assets written to: /aiffel/aiffel/DDD/wandb/run-20230411_061733-1fpgp1pl/files/model-best/assets\n"
     ]
    },
    {
     "name": "stderr",
     "output_type": "stream",
     "text": [
      "INFO:tensorflow:Assets written to: /aiffel/aiffel/DDD/wandb/run-20230411_061733-1fpgp1pl/files/model-best/assets\n"
     ]
    },
    {
     "name": "stdout",
     "output_type": "stream",
     "text": [
      "WARNING:tensorflow:TensorFlow optimizers do not make it possible to access optimizer attributes or optimizer state after instantiation. As a result, we cannot save the optimizer as part of the model save file. You will have to compile your model again after loading it. Prefer using a Keras optimizer instead (see keras.io/optimizers).\n"
     ]
    },
    {
     "name": "stderr",
     "output_type": "stream",
     "text": [
      "WARNING:tensorflow:TensorFlow optimizers do not make it possible to access optimizer attributes or optimizer state after instantiation. As a result, we cannot save the optimizer as part of the model save file. You will have to compile your model again after loading it. Prefer using a Keras optimizer instead (see keras.io/optimizers).\n",
      "\u001b[34m\u001b[1mwandb\u001b[0m: Adding directory to artifact (/aiffel/aiffel/DDD/wandb/run-20230411_061733-1fpgp1pl/files/model-best)... Done. 12.7s\n"
     ]
    },
    {
     "data": {
      "text/html": [
       "Waiting for W&B process to finish... <strong style=\"color:red\">(failed 1).</strong> Press Control-C to abort syncing."
      ],
      "text/plain": [
       "<IPython.core.display.HTML object>"
      ]
     },
     "metadata": {},
     "output_type": "display_data"
    },
    {
     "data": {
      "text/html": [
       "<style>\n",
       "    table.wandb td:nth-child(1) { padding: 0 10px; text-align: left ; width: auto;} td:nth-child(2) {text-align: left ; width: 100%}\n",
       "    .wandb-row { display: flex; flex-direction: row; flex-wrap: wrap; justify-content: flex-start; width: 100% }\n",
       "    .wandb-col { display: flex; flex-direction: column; flex-basis: 100%; flex: 1; padding: 10px; }\n",
       "    </style>\n",
       "<div class=\"wandb-row\"><div class=\"wandb-col\"><h3>Run history:</h3><br/><table class=\"wandb\"><tr><td>accuracy</td><td>▁▂▁▄▄▅▂▄▄▆▄▆▆▆▆▆█▇▇▇▆▇▇▆█▆▇</td></tr><tr><td>epoch</td><td>▁▁▂▂▂▂▃▃▃▃▄▄▄▅▅▅▅▆▆▆▆▇▇▇▇██</td></tr><tr><td>loss</td><td>█▇▇▆▆▆▆▇▆▅▅▅▄▄▄▄▂▂▂▃▃▂▂▂▁▂▁</td></tr><tr><td>val_accuracy</td><td>▁▁▁▁▁▁▁▁▁▁▁▁▁▁▁▁▁▁▁▁▁▁▁▁▅▅█</td></tr><tr><td>val_loss</td><td>████▇▇▇▇▇▆▆▆▆▅▅▅▄▄▄▃▃▃▂▂▂▁▁</td></tr></table><br/></div><div class=\"wandb-col\"><h3>Run summary:</h3><br/><table class=\"wandb\"><tr><td>accuracy</td><td>0.93</td></tr><tr><td>best_epoch</td><td>26</td></tr><tr><td>best_val_loss</td><td>0.47514</td></tr><tr><td>epoch</td><td>26</td></tr><tr><td>loss</td><td>0.29612</td></tr><tr><td>val_accuracy</td><td>0.6</td></tr><tr><td>val_loss</td><td>0.47514</td></tr></table><br/></div></div>"
      ],
      "text/plain": [
       "<IPython.core.display.HTML object>"
      ]
     },
     "metadata": {},
     "output_type": "display_data"
    },
    {
     "data": {
      "text/html": [
       " View run <strong style=\"color:#cdcd00\">solar-sweep-1</strong> at: <a href='https://wandb.ai/m05/1st_extra_sweep/runs/1fpgp1pl' target=\"_blank\">https://wandb.ai/m05/1st_extra_sweep/runs/1fpgp1pl</a><br/>Synced 5 W&B file(s), 1 media file(s), 108 artifact file(s) and 1 other file(s)"
      ],
      "text/plain": [
       "<IPython.core.display.HTML object>"
      ]
     },
     "metadata": {},
     "output_type": "display_data"
    },
    {
     "data": {
      "text/html": [
       "Find logs at: <code>./wandb/run-20230411_061733-1fpgp1pl/logs</code>"
      ],
      "text/plain": [
       "<IPython.core.display.HTML object>"
      ]
     },
     "metadata": {},
     "output_type": "display_data"
    },
    {
     "name": "stderr",
     "output_type": "stream",
     "text": [
      "Run 1fpgp1pl errored: NameError(\"name 'test_x' is not defined\")\n",
      "\u001b[34m\u001b[1mwandb\u001b[0m: \u001b[32m\u001b[41mERROR\u001b[0m Run 1fpgp1pl errored: NameError(\"name 'test_x' is not defined\")\n",
      "\u001b[34m\u001b[1mwandb\u001b[0m: Agent Starting Run: 0c04u42g with config:\n",
      "\u001b[34m\u001b[1mwandb\u001b[0m: \tbatch_size: 8\n",
      "\u001b[34m\u001b[1mwandb\u001b[0m: \tepochs: 25\n",
      "\u001b[34m\u001b[1mwandb\u001b[0m: \tlearning_rate: 2.159968874684303e-05\n",
      "\u001b[34m\u001b[1mwandb\u001b[0m: \u001b[33mWARNING\u001b[0m Ignored wandb.init() arg project when running a sweep.\n",
      "\u001b[34m\u001b[1mwandb\u001b[0m: \u001b[33mWARNING\u001b[0m Ignored wandb.init() arg entity when running a sweep.\n"
     ]
    },
    {
     "data": {
      "text/html": [
       "Tracking run with wandb version 0.14.2"
      ],
      "text/plain": [
       "<IPython.core.display.HTML object>"
      ]
     },
     "metadata": {},
     "output_type": "display_data"
    },
    {
     "data": {
      "text/html": [
       "Run data is saved locally in <code>/aiffel/aiffel/DDD/wandb/run-20230411_064551-0c04u42g</code>"
      ],
      "text/plain": [
       "<IPython.core.display.HTML object>"
      ]
     },
     "metadata": {},
     "output_type": "display_data"
    },
    {
     "data": {
      "text/html": [
       "Syncing run <strong><a href='https://wandb.ai/m05/1st_extra_sweep/runs/0c04u42g' target=\"_blank\">dulcet-sweep-2</a></strong> to <a href='https://wandb.ai/m05/1st_extra_sweep' target=\"_blank\">Weights & Biases</a> (<a href='https://wandb.me/run' target=\"_blank\">docs</a>)<br/>Sweep page: <a href='https://wandb.ai/m05/1st_extra_sweep/sweeps/gzji46ql' target=\"_blank\">https://wandb.ai/m05/1st_extra_sweep/sweeps/gzji46ql</a>"
      ],
      "text/plain": [
       "<IPython.core.display.HTML object>"
      ]
     },
     "metadata": {},
     "output_type": "display_data"
    },
    {
     "data": {
      "text/html": [
       " View project at <a href='https://wandb.ai/m05/1st_extra_sweep' target=\"_blank\">https://wandb.ai/m05/1st_extra_sweep</a>"
      ],
      "text/plain": [
       "<IPython.core.display.HTML object>"
      ]
     },
     "metadata": {},
     "output_type": "display_data"
    },
    {
     "data": {
      "text/html": [
       " View sweep at <a href='https://wandb.ai/m05/1st_extra_sweep/sweeps/gzji46ql' target=\"_blank\">https://wandb.ai/m05/1st_extra_sweep/sweeps/gzji46ql</a>"
      ],
      "text/plain": [
       "<IPython.core.display.HTML object>"
      ]
     },
     "metadata": {},
     "output_type": "display_data"
    },
    {
     "data": {
      "text/html": [
       " View run at <a href='https://wandb.ai/m05/1st_extra_sweep/runs/0c04u42g' target=\"_blank\">https://wandb.ai/m05/1st_extra_sweep/runs/0c04u42g</a>"
      ],
      "text/plain": [
       "<IPython.core.display.HTML object>"
      ]
     },
     "metadata": {},
     "output_type": "display_data"
    },
    {
     "name": "stdout",
     "output_type": "stream",
     "text": [
      "Epoch 1/25\n",
      "13/13 [==============================] - 22s 486ms/step - loss: 0.7659 - accuracy: 0.4100 - val_loss: 0.7167 - val_accuracy: 0.5000\n",
      "WARNING:tensorflow:TensorFlow optimizers do not make it possible to access optimizer attributes or optimizer state after instantiation. As a result, we cannot save the optimizer as part of the model save file. You will have to compile your model again after loading it. Prefer using a Keras optimizer instead (see keras.io/optimizers).\n"
     ]
    },
    {
     "name": "stderr",
     "output_type": "stream",
     "text": [
      "WARNING:tensorflow:TensorFlow optimizers do not make it possible to access optimizer attributes or optimizer state after instantiation. As a result, we cannot save the optimizer as part of the model save file. You will have to compile your model again after loading it. Prefer using a Keras optimizer instead (see keras.io/optimizers).\n"
     ]
    },
    {
     "name": "stdout",
     "output_type": "stream",
     "text": [
      "WARNING:tensorflow:TensorFlow optimizers do not make it possible to access optimizer attributes or optimizer state after instantiation. As a result, we cannot save the optimizer as part of the model save file. You will have to compile your model again after loading it. Prefer using a Keras optimizer instead (see keras.io/optimizers).\n"
     ]
    },
    {
     "name": "stderr",
     "output_type": "stream",
     "text": [
      "WARNING:tensorflow:TensorFlow optimizers do not make it possible to access optimizer attributes or optimizer state after instantiation. As a result, we cannot save the optimizer as part of the model save file. You will have to compile your model again after loading it. Prefer using a Keras optimizer instead (see keras.io/optimizers).\n",
      "WARNING:absl:Function `_wrapped_model` contains input name(s) Input-Token, Input-Segment with unsupported characters which will be renamed to input_token, input_segment in the SavedModel.\n"
     ]
    },
    {
     "name": "stdout",
     "output_type": "stream",
     "text": [
      "INFO:tensorflow:Assets written to: /aiffel/aiffel/DDD/wandb/run-20230411_064551-0c04u42g/files/model-best/assets\n"
     ]
    },
    {
     "name": "stderr",
     "output_type": "stream",
     "text": [
      "INFO:tensorflow:Assets written to: /aiffel/aiffel/DDD/wandb/run-20230411_064551-0c04u42g/files/model-best/assets\n"
     ]
    },
    {
     "name": "stdout",
     "output_type": "stream",
     "text": [
      "WARNING:tensorflow:TensorFlow optimizers do not make it possible to access optimizer attributes or optimizer state after instantiation. As a result, we cannot save the optimizer as part of the model save file. You will have to compile your model again after loading it. Prefer using a Keras optimizer instead (see keras.io/optimizers).\n"
     ]
    },
    {
     "name": "stderr",
     "output_type": "stream",
     "text": [
      "WARNING:tensorflow:TensorFlow optimizers do not make it possible to access optimizer attributes or optimizer state after instantiation. As a result, we cannot save the optimizer as part of the model save file. You will have to compile your model again after loading it. Prefer using a Keras optimizer instead (see keras.io/optimizers).\n",
      "\u001b[34m\u001b[1mwandb\u001b[0m: Adding directory to artifact (/aiffel/aiffel/DDD/wandb/run-20230411_064551-0c04u42g/files/model-best)... Done. 8.1s\n"
     ]
    },
    {
     "name": "stdout",
     "output_type": "stream",
     "text": [
      "Epoch 2/25\n",
      "13/13 [==============================] - 3s 198ms/step - loss: 0.7478 - accuracy: 0.4800 - val_loss: 0.7131 - val_accuracy: 0.5000\n",
      "WARNING:tensorflow:TensorFlow optimizers do not make it possible to access optimizer attributes or optimizer state after instantiation. As a result, we cannot save the optimizer as part of the model save file. You will have to compile your model again after loading it. Prefer using a Keras optimizer instead (see keras.io/optimizers).\n"
     ]
    },
    {
     "name": "stderr",
     "output_type": "stream",
     "text": [
      "WARNING:tensorflow:TensorFlow optimizers do not make it possible to access optimizer attributes or optimizer state after instantiation. As a result, we cannot save the optimizer as part of the model save file. You will have to compile your model again after loading it. Prefer using a Keras optimizer instead (see keras.io/optimizers).\n"
     ]
    },
    {
     "name": "stdout",
     "output_type": "stream",
     "text": [
      "WARNING:tensorflow:TensorFlow optimizers do not make it possible to access optimizer attributes or optimizer state after instantiation. As a result, we cannot save the optimizer as part of the model save file. You will have to compile your model again after loading it. Prefer using a Keras optimizer instead (see keras.io/optimizers).\n"
     ]
    },
    {
     "name": "stderr",
     "output_type": "stream",
     "text": [
      "WARNING:tensorflow:TensorFlow optimizers do not make it possible to access optimizer attributes or optimizer state after instantiation. As a result, we cannot save the optimizer as part of the model save file. You will have to compile your model again after loading it. Prefer using a Keras optimizer instead (see keras.io/optimizers).\n",
      "WARNING:absl:Function `_wrapped_model` contains input name(s) Input-Token, Input-Segment with unsupported characters which will be renamed to input_token, input_segment in the SavedModel.\n"
     ]
    },
    {
     "name": "stdout",
     "output_type": "stream",
     "text": [
      "INFO:tensorflow:Assets written to: /aiffel/aiffel/DDD/wandb/run-20230411_064551-0c04u42g/files/model-best/assets\n"
     ]
    },
    {
     "name": "stderr",
     "output_type": "stream",
     "text": [
      "INFO:tensorflow:Assets written to: /aiffel/aiffel/DDD/wandb/run-20230411_064551-0c04u42g/files/model-best/assets\n"
     ]
    },
    {
     "name": "stdout",
     "output_type": "stream",
     "text": [
      "WARNING:tensorflow:TensorFlow optimizers do not make it possible to access optimizer attributes or optimizer state after instantiation. As a result, we cannot save the optimizer as part of the model save file. You will have to compile your model again after loading it. Prefer using a Keras optimizer instead (see keras.io/optimizers).\n"
     ]
    },
    {
     "name": "stderr",
     "output_type": "stream",
     "text": [
      "WARNING:tensorflow:TensorFlow optimizers do not make it possible to access optimizer attributes or optimizer state after instantiation. As a result, we cannot save the optimizer as part of the model save file. You will have to compile your model again after loading it. Prefer using a Keras optimizer instead (see keras.io/optimizers).\n",
      "\u001b[34m\u001b[1mwandb\u001b[0m: Adding directory to artifact (/aiffel/aiffel/DDD/wandb/run-20230411_064551-0c04u42g/files/model-best)... Done. 20.1s\n"
     ]
    },
    {
     "name": "stdout",
     "output_type": "stream",
     "text": [
      "Epoch 3/25\n",
      "13/13 [==============================] - 3s 197ms/step - loss: 0.7742 - accuracy: 0.4300 - val_loss: 0.7102 - val_accuracy: 0.5000\n",
      "WARNING:tensorflow:TensorFlow optimizers do not make it possible to access optimizer attributes or optimizer state after instantiation. As a result, we cannot save the optimizer as part of the model save file. You will have to compile your model again after loading it. Prefer using a Keras optimizer instead (see keras.io/optimizers).\n"
     ]
    },
    {
     "name": "stderr",
     "output_type": "stream",
     "text": [
      "WARNING:tensorflow:TensorFlow optimizers do not make it possible to access optimizer attributes or optimizer state after instantiation. As a result, we cannot save the optimizer as part of the model save file. You will have to compile your model again after loading it. Prefer using a Keras optimizer instead (see keras.io/optimizers).\n"
     ]
    },
    {
     "name": "stdout",
     "output_type": "stream",
     "text": [
      "WARNING:tensorflow:TensorFlow optimizers do not make it possible to access optimizer attributes or optimizer state after instantiation. As a result, we cannot save the optimizer as part of the model save file. You will have to compile your model again after loading it. Prefer using a Keras optimizer instead (see keras.io/optimizers).\n"
     ]
    },
    {
     "name": "stderr",
     "output_type": "stream",
     "text": [
      "WARNING:tensorflow:TensorFlow optimizers do not make it possible to access optimizer attributes or optimizer state after instantiation. As a result, we cannot save the optimizer as part of the model save file. You will have to compile your model again after loading it. Prefer using a Keras optimizer instead (see keras.io/optimizers).\n",
      "WARNING:absl:Function `_wrapped_model` contains input name(s) Input-Token, Input-Segment with unsupported characters which will be renamed to input_token, input_segment in the SavedModel.\n"
     ]
    },
    {
     "name": "stdout",
     "output_type": "stream",
     "text": [
      "INFO:tensorflow:Assets written to: /aiffel/aiffel/DDD/wandb/run-20230411_064551-0c04u42g/files/model-best/assets\n"
     ]
    },
    {
     "name": "stderr",
     "output_type": "stream",
     "text": [
      "INFO:tensorflow:Assets written to: /aiffel/aiffel/DDD/wandb/run-20230411_064551-0c04u42g/files/model-best/assets\n"
     ]
    },
    {
     "name": "stdout",
     "output_type": "stream",
     "text": [
      "WARNING:tensorflow:TensorFlow optimizers do not make it possible to access optimizer attributes or optimizer state after instantiation. As a result, we cannot save the optimizer as part of the model save file. You will have to compile your model again after loading it. Prefer using a Keras optimizer instead (see keras.io/optimizers).\n"
     ]
    },
    {
     "name": "stderr",
     "output_type": "stream",
     "text": [
      "WARNING:tensorflow:TensorFlow optimizers do not make it possible to access optimizer attributes or optimizer state after instantiation. As a result, we cannot save the optimizer as part of the model save file. You will have to compile your model again after loading it. Prefer using a Keras optimizer instead (see keras.io/optimizers).\n",
      "\u001b[34m\u001b[1mwandb\u001b[0m: Adding directory to artifact (/aiffel/aiffel/DDD/wandb/run-20230411_064551-0c04u42g/files/model-best)... Done. 11.0s\n"
     ]
    },
    {
     "name": "stdout",
     "output_type": "stream",
     "text": [
      "Epoch 4/25\n",
      "13/13 [==============================] - 3s 198ms/step - loss: 0.7447 - accuracy: 0.4700 - val_loss: 0.7036 - val_accuracy: 0.4500\n",
      "WARNING:tensorflow:TensorFlow optimizers do not make it possible to access optimizer attributes or optimizer state after instantiation. As a result, we cannot save the optimizer as part of the model save file. You will have to compile your model again after loading it. Prefer using a Keras optimizer instead (see keras.io/optimizers).\n"
     ]
    },
    {
     "name": "stderr",
     "output_type": "stream",
     "text": [
      "WARNING:tensorflow:TensorFlow optimizers do not make it possible to access optimizer attributes or optimizer state after instantiation. As a result, we cannot save the optimizer as part of the model save file. You will have to compile your model again after loading it. Prefer using a Keras optimizer instead (see keras.io/optimizers).\n"
     ]
    },
    {
     "name": "stdout",
     "output_type": "stream",
     "text": [
      "WARNING:tensorflow:TensorFlow optimizers do not make it possible to access optimizer attributes or optimizer state after instantiation. As a result, we cannot save the optimizer as part of the model save file. You will have to compile your model again after loading it. Prefer using a Keras optimizer instead (see keras.io/optimizers).\n"
     ]
    },
    {
     "name": "stderr",
     "output_type": "stream",
     "text": [
      "WARNING:tensorflow:TensorFlow optimizers do not make it possible to access optimizer attributes or optimizer state after instantiation. As a result, we cannot save the optimizer as part of the model save file. You will have to compile your model again after loading it. Prefer using a Keras optimizer instead (see keras.io/optimizers).\n",
      "WARNING:absl:Function `_wrapped_model` contains input name(s) Input-Token, Input-Segment with unsupported characters which will be renamed to input_token, input_segment in the SavedModel.\n"
     ]
    },
    {
     "name": "stdout",
     "output_type": "stream",
     "text": [
      "INFO:tensorflow:Assets written to: /aiffel/aiffel/DDD/wandb/run-20230411_064551-0c04u42g/files/model-best/assets\n"
     ]
    },
    {
     "name": "stderr",
     "output_type": "stream",
     "text": [
      "INFO:tensorflow:Assets written to: /aiffel/aiffel/DDD/wandb/run-20230411_064551-0c04u42g/files/model-best/assets\n"
     ]
    },
    {
     "name": "stdout",
     "output_type": "stream",
     "text": [
      "WARNING:tensorflow:TensorFlow optimizers do not make it possible to access optimizer attributes or optimizer state after instantiation. As a result, we cannot save the optimizer as part of the model save file. You will have to compile your model again after loading it. Prefer using a Keras optimizer instead (see keras.io/optimizers).\n"
     ]
    },
    {
     "name": "stderr",
     "output_type": "stream",
     "text": [
      "WARNING:tensorflow:TensorFlow optimizers do not make it possible to access optimizer attributes or optimizer state after instantiation. As a result, we cannot save the optimizer as part of the model save file. You will have to compile your model again after loading it. Prefer using a Keras optimizer instead (see keras.io/optimizers).\n",
      "\u001b[34m\u001b[1mwandb\u001b[0m: Adding directory to artifact (/aiffel/aiffel/DDD/wandb/run-20230411_064551-0c04u42g/files/model-best)... Done. 18.1s\n"
     ]
    },
    {
     "name": "stdout",
     "output_type": "stream",
     "text": [
      "Epoch 5/25\n",
      "13/13 [==============================] - 3s 198ms/step - loss: 0.7231 - accuracy: 0.5300 - val_loss: 0.6969 - val_accuracy: 0.4500\n",
      "WARNING:tensorflow:TensorFlow optimizers do not make it possible to access optimizer attributes or optimizer state after instantiation. As a result, we cannot save the optimizer as part of the model save file. You will have to compile your model again after loading it. Prefer using a Keras optimizer instead (see keras.io/optimizers).\n"
     ]
    },
    {
     "name": "stderr",
     "output_type": "stream",
     "text": [
      "WARNING:tensorflow:TensorFlow optimizers do not make it possible to access optimizer attributes or optimizer state after instantiation. As a result, we cannot save the optimizer as part of the model save file. You will have to compile your model again after loading it. Prefer using a Keras optimizer instead (see keras.io/optimizers).\n"
     ]
    },
    {
     "name": "stdout",
     "output_type": "stream",
     "text": [
      "WARNING:tensorflow:TensorFlow optimizers do not make it possible to access optimizer attributes or optimizer state after instantiation. As a result, we cannot save the optimizer as part of the model save file. You will have to compile your model again after loading it. Prefer using a Keras optimizer instead (see keras.io/optimizers).\n"
     ]
    },
    {
     "name": "stderr",
     "output_type": "stream",
     "text": [
      "WARNING:tensorflow:TensorFlow optimizers do not make it possible to access optimizer attributes or optimizer state after instantiation. As a result, we cannot save the optimizer as part of the model save file. You will have to compile your model again after loading it. Prefer using a Keras optimizer instead (see keras.io/optimizers).\n",
      "WARNING:absl:Function `_wrapped_model` contains input name(s) Input-Token, Input-Segment with unsupported characters which will be renamed to input_token, input_segment in the SavedModel.\n"
     ]
    },
    {
     "name": "stdout",
     "output_type": "stream",
     "text": [
      "INFO:tensorflow:Assets written to: /aiffel/aiffel/DDD/wandb/run-20230411_064551-0c04u42g/files/model-best/assets\n"
     ]
    },
    {
     "name": "stderr",
     "output_type": "stream",
     "text": [
      "INFO:tensorflow:Assets written to: /aiffel/aiffel/DDD/wandb/run-20230411_064551-0c04u42g/files/model-best/assets\n"
     ]
    },
    {
     "name": "stdout",
     "output_type": "stream",
     "text": [
      "WARNING:tensorflow:TensorFlow optimizers do not make it possible to access optimizer attributes or optimizer state after instantiation. As a result, we cannot save the optimizer as part of the model save file. You will have to compile your model again after loading it. Prefer using a Keras optimizer instead (see keras.io/optimizers).\n"
     ]
    },
    {
     "name": "stderr",
     "output_type": "stream",
     "text": [
      "WARNING:tensorflow:TensorFlow optimizers do not make it possible to access optimizer attributes or optimizer state after instantiation. As a result, we cannot save the optimizer as part of the model save file. You will have to compile your model again after loading it. Prefer using a Keras optimizer instead (see keras.io/optimizers).\n",
      "\u001b[34m\u001b[1mwandb\u001b[0m: Adding directory to artifact (/aiffel/aiffel/DDD/wandb/run-20230411_064551-0c04u42g/files/model-best)... Done. 22.7s\n"
     ]
    },
    {
     "name": "stdout",
     "output_type": "stream",
     "text": [
      "Epoch 6/25\n",
      "13/13 [==============================] - 3s 198ms/step - loss: 0.6798 - accuracy: 0.5600 - val_loss: 0.6863 - val_accuracy: 0.5000\n",
      "WARNING:tensorflow:TensorFlow optimizers do not make it possible to access optimizer attributes or optimizer state after instantiation. As a result, we cannot save the optimizer as part of the model save file. You will have to compile your model again after loading it. Prefer using a Keras optimizer instead (see keras.io/optimizers).\n"
     ]
    },
    {
     "name": "stderr",
     "output_type": "stream",
     "text": [
      "WARNING:tensorflow:TensorFlow optimizers do not make it possible to access optimizer attributes or optimizer state after instantiation. As a result, we cannot save the optimizer as part of the model save file. You will have to compile your model again after loading it. Prefer using a Keras optimizer instead (see keras.io/optimizers).\n"
     ]
    },
    {
     "name": "stdout",
     "output_type": "stream",
     "text": [
      "WARNING:tensorflow:TensorFlow optimizers do not make it possible to access optimizer attributes or optimizer state after instantiation. As a result, we cannot save the optimizer as part of the model save file. You will have to compile your model again after loading it. Prefer using a Keras optimizer instead (see keras.io/optimizers).\n"
     ]
    },
    {
     "name": "stderr",
     "output_type": "stream",
     "text": [
      "WARNING:tensorflow:TensorFlow optimizers do not make it possible to access optimizer attributes or optimizer state after instantiation. As a result, we cannot save the optimizer as part of the model save file. You will have to compile your model again after loading it. Prefer using a Keras optimizer instead (see keras.io/optimizers).\n",
      "WARNING:absl:Function `_wrapped_model` contains input name(s) Input-Token, Input-Segment with unsupported characters which will be renamed to input_token, input_segment in the SavedModel.\n"
     ]
    },
    {
     "name": "stdout",
     "output_type": "stream",
     "text": [
      "INFO:tensorflow:Assets written to: /aiffel/aiffel/DDD/wandb/run-20230411_064551-0c04u42g/files/model-best/assets\n"
     ]
    },
    {
     "name": "stderr",
     "output_type": "stream",
     "text": [
      "INFO:tensorflow:Assets written to: /aiffel/aiffel/DDD/wandb/run-20230411_064551-0c04u42g/files/model-best/assets\n"
     ]
    },
    {
     "name": "stdout",
     "output_type": "stream",
     "text": [
      "WARNING:tensorflow:TensorFlow optimizers do not make it possible to access optimizer attributes or optimizer state after instantiation. As a result, we cannot save the optimizer as part of the model save file. You will have to compile your model again after loading it. Prefer using a Keras optimizer instead (see keras.io/optimizers).\n"
     ]
    },
    {
     "name": "stderr",
     "output_type": "stream",
     "text": [
      "WARNING:tensorflow:TensorFlow optimizers do not make it possible to access optimizer attributes or optimizer state after instantiation. As a result, we cannot save the optimizer as part of the model save file. You will have to compile your model again after loading it. Prefer using a Keras optimizer instead (see keras.io/optimizers).\n",
      "\u001b[34m\u001b[1mwandb\u001b[0m: Adding directory to artifact (/aiffel/aiffel/DDD/wandb/run-20230411_064551-0c04u42g/files/model-best)... Done. 17.9s\n"
     ]
    },
    {
     "name": "stdout",
     "output_type": "stream",
     "text": [
      "Epoch 7/25\n",
      "13/13 [==============================] - 3s 197ms/step - loss: 0.6511 - accuracy: 0.6500 - val_loss: 0.6749 - val_accuracy: 0.6000\n",
      "WARNING:tensorflow:TensorFlow optimizers do not make it possible to access optimizer attributes or optimizer state after instantiation. As a result, we cannot save the optimizer as part of the model save file. You will have to compile your model again after loading it. Prefer using a Keras optimizer instead (see keras.io/optimizers).\n"
     ]
    },
    {
     "name": "stderr",
     "output_type": "stream",
     "text": [
      "WARNING:tensorflow:TensorFlow optimizers do not make it possible to access optimizer attributes or optimizer state after instantiation. As a result, we cannot save the optimizer as part of the model save file. You will have to compile your model again after loading it. Prefer using a Keras optimizer instead (see keras.io/optimizers).\n"
     ]
    },
    {
     "name": "stdout",
     "output_type": "stream",
     "text": [
      "WARNING:tensorflow:TensorFlow optimizers do not make it possible to access optimizer attributes or optimizer state after instantiation. As a result, we cannot save the optimizer as part of the model save file. You will have to compile your model again after loading it. Prefer using a Keras optimizer instead (see keras.io/optimizers).\n"
     ]
    },
    {
     "name": "stderr",
     "output_type": "stream",
     "text": [
      "WARNING:tensorflow:TensorFlow optimizers do not make it possible to access optimizer attributes or optimizer state after instantiation. As a result, we cannot save the optimizer as part of the model save file. You will have to compile your model again after loading it. Prefer using a Keras optimizer instead (see keras.io/optimizers).\n",
      "WARNING:absl:Function `_wrapped_model` contains input name(s) Input-Token, Input-Segment with unsupported characters which will be renamed to input_token, input_segment in the SavedModel.\n"
     ]
    },
    {
     "name": "stdout",
     "output_type": "stream",
     "text": [
      "INFO:tensorflow:Assets written to: /aiffel/aiffel/DDD/wandb/run-20230411_064551-0c04u42g/files/model-best/assets\n"
     ]
    },
    {
     "name": "stderr",
     "output_type": "stream",
     "text": [
      "INFO:tensorflow:Assets written to: /aiffel/aiffel/DDD/wandb/run-20230411_064551-0c04u42g/files/model-best/assets\n"
     ]
    },
    {
     "name": "stdout",
     "output_type": "stream",
     "text": [
      "WARNING:tensorflow:TensorFlow optimizers do not make it possible to access optimizer attributes or optimizer state after instantiation. As a result, we cannot save the optimizer as part of the model save file. You will have to compile your model again after loading it. Prefer using a Keras optimizer instead (see keras.io/optimizers).\n"
     ]
    },
    {
     "name": "stderr",
     "output_type": "stream",
     "text": [
      "WARNING:tensorflow:TensorFlow optimizers do not make it possible to access optimizer attributes or optimizer state after instantiation. As a result, we cannot save the optimizer as part of the model save file. You will have to compile your model again after loading it. Prefer using a Keras optimizer instead (see keras.io/optimizers).\n",
      "\u001b[34m\u001b[1mwandb\u001b[0m: Adding directory to artifact (/aiffel/aiffel/DDD/wandb/run-20230411_064551-0c04u42g/files/model-best)... Done. 17.3s\n"
     ]
    },
    {
     "name": "stdout",
     "output_type": "stream",
     "text": [
      "Epoch 8/25\n",
      "13/13 [==============================] - 3s 198ms/step - loss: 0.6264 - accuracy: 0.6800 - val_loss: 0.6587 - val_accuracy: 0.6500\n",
      "WARNING:tensorflow:TensorFlow optimizers do not make it possible to access optimizer attributes or optimizer state after instantiation. As a result, we cannot save the optimizer as part of the model save file. You will have to compile your model again after loading it. Prefer using a Keras optimizer instead (see keras.io/optimizers).\n"
     ]
    },
    {
     "name": "stderr",
     "output_type": "stream",
     "text": [
      "WARNING:tensorflow:TensorFlow optimizers do not make it possible to access optimizer attributes or optimizer state after instantiation. As a result, we cannot save the optimizer as part of the model save file. You will have to compile your model again after loading it. Prefer using a Keras optimizer instead (see keras.io/optimizers).\n"
     ]
    },
    {
     "name": "stdout",
     "output_type": "stream",
     "text": [
      "WARNING:tensorflow:TensorFlow optimizers do not make it possible to access optimizer attributes or optimizer state after instantiation. As a result, we cannot save the optimizer as part of the model save file. You will have to compile your model again after loading it. Prefer using a Keras optimizer instead (see keras.io/optimizers).\n"
     ]
    },
    {
     "name": "stderr",
     "output_type": "stream",
     "text": [
      "WARNING:tensorflow:TensorFlow optimizers do not make it possible to access optimizer attributes or optimizer state after instantiation. As a result, we cannot save the optimizer as part of the model save file. You will have to compile your model again after loading it. Prefer using a Keras optimizer instead (see keras.io/optimizers).\n",
      "WARNING:absl:Function `_wrapped_model` contains input name(s) Input-Token, Input-Segment with unsupported characters which will be renamed to input_token, input_segment in the SavedModel.\n"
     ]
    },
    {
     "name": "stdout",
     "output_type": "stream",
     "text": [
      "INFO:tensorflow:Assets written to: /aiffel/aiffel/DDD/wandb/run-20230411_064551-0c04u42g/files/model-best/assets\n"
     ]
    },
    {
     "name": "stderr",
     "output_type": "stream",
     "text": [
      "INFO:tensorflow:Assets written to: /aiffel/aiffel/DDD/wandb/run-20230411_064551-0c04u42g/files/model-best/assets\n"
     ]
    },
    {
     "name": "stdout",
     "output_type": "stream",
     "text": [
      "WARNING:tensorflow:TensorFlow optimizers do not make it possible to access optimizer attributes or optimizer state after instantiation. As a result, we cannot save the optimizer as part of the model save file. You will have to compile your model again after loading it. Prefer using a Keras optimizer instead (see keras.io/optimizers).\n"
     ]
    },
    {
     "name": "stderr",
     "output_type": "stream",
     "text": [
      "WARNING:tensorflow:TensorFlow optimizers do not make it possible to access optimizer attributes or optimizer state after instantiation. As a result, we cannot save the optimizer as part of the model save file. You will have to compile your model again after loading it. Prefer using a Keras optimizer instead (see keras.io/optimizers).\n",
      "\u001b[34m\u001b[1mwandb\u001b[0m: Adding directory to artifact (/aiffel/aiffel/DDD/wandb/run-20230411_064551-0c04u42g/files/model-best)... Done. 22.2s\n"
     ]
    },
    {
     "name": "stdout",
     "output_type": "stream",
     "text": [
      "Epoch 9/25\n",
      "13/13 [==============================] - 3s 196ms/step - loss: 0.6143 - accuracy: 0.6900 - val_loss: 0.6405 - val_accuracy: 0.6500\n",
      "WARNING:tensorflow:TensorFlow optimizers do not make it possible to access optimizer attributes or optimizer state after instantiation. As a result, we cannot save the optimizer as part of the model save file. You will have to compile your model again after loading it. Prefer using a Keras optimizer instead (see keras.io/optimizers).\n"
     ]
    },
    {
     "name": "stderr",
     "output_type": "stream",
     "text": [
      "WARNING:tensorflow:TensorFlow optimizers do not make it possible to access optimizer attributes or optimizer state after instantiation. As a result, we cannot save the optimizer as part of the model save file. You will have to compile your model again after loading it. Prefer using a Keras optimizer instead (see keras.io/optimizers).\n"
     ]
    },
    {
     "name": "stdout",
     "output_type": "stream",
     "text": [
      "WARNING:tensorflow:TensorFlow optimizers do not make it possible to access optimizer attributes or optimizer state after instantiation. As a result, we cannot save the optimizer as part of the model save file. You will have to compile your model again after loading it. Prefer using a Keras optimizer instead (see keras.io/optimizers).\n"
     ]
    },
    {
     "name": "stderr",
     "output_type": "stream",
     "text": [
      "WARNING:tensorflow:TensorFlow optimizers do not make it possible to access optimizer attributes or optimizer state after instantiation. As a result, we cannot save the optimizer as part of the model save file. You will have to compile your model again after loading it. Prefer using a Keras optimizer instead (see keras.io/optimizers).\n",
      "WARNING:absl:Function `_wrapped_model` contains input name(s) Input-Token, Input-Segment with unsupported characters which will be renamed to input_token, input_segment in the SavedModel.\n"
     ]
    },
    {
     "name": "stdout",
     "output_type": "stream",
     "text": [
      "INFO:tensorflow:Assets written to: /aiffel/aiffel/DDD/wandb/run-20230411_064551-0c04u42g/files/model-best/assets\n"
     ]
    },
    {
     "name": "stderr",
     "output_type": "stream",
     "text": [
      "INFO:tensorflow:Assets written to: /aiffel/aiffel/DDD/wandb/run-20230411_064551-0c04u42g/files/model-best/assets\n"
     ]
    },
    {
     "name": "stdout",
     "output_type": "stream",
     "text": [
      "WARNING:tensorflow:TensorFlow optimizers do not make it possible to access optimizer attributes or optimizer state after instantiation. As a result, we cannot save the optimizer as part of the model save file. You will have to compile your model again after loading it. Prefer using a Keras optimizer instead (see keras.io/optimizers).\n"
     ]
    },
    {
     "name": "stderr",
     "output_type": "stream",
     "text": [
      "WARNING:tensorflow:TensorFlow optimizers do not make it possible to access optimizer attributes or optimizer state after instantiation. As a result, we cannot save the optimizer as part of the model save file. You will have to compile your model again after loading it. Prefer using a Keras optimizer instead (see keras.io/optimizers).\n",
      "\u001b[34m\u001b[1mwandb\u001b[0m: Adding directory to artifact (/aiffel/aiffel/DDD/wandb/run-20230411_064551-0c04u42g/files/model-best)... Done. 17.8s\n"
     ]
    },
    {
     "name": "stdout",
     "output_type": "stream",
     "text": [
      "Epoch 10/25\n",
      "13/13 [==============================] - 3s 197ms/step - loss: 0.6165 - accuracy: 0.7400 - val_loss: 0.6206 - val_accuracy: 0.7000\n",
      "WARNING:tensorflow:TensorFlow optimizers do not make it possible to access optimizer attributes or optimizer state after instantiation. As a result, we cannot save the optimizer as part of the model save file. You will have to compile your model again after loading it. Prefer using a Keras optimizer instead (see keras.io/optimizers).\n"
     ]
    },
    {
     "name": "stderr",
     "output_type": "stream",
     "text": [
      "WARNING:tensorflow:TensorFlow optimizers do not make it possible to access optimizer attributes or optimizer state after instantiation. As a result, we cannot save the optimizer as part of the model save file. You will have to compile your model again after loading it. Prefer using a Keras optimizer instead (see keras.io/optimizers).\n"
     ]
    },
    {
     "name": "stdout",
     "output_type": "stream",
     "text": [
      "WARNING:tensorflow:TensorFlow optimizers do not make it possible to access optimizer attributes or optimizer state after instantiation. As a result, we cannot save the optimizer as part of the model save file. You will have to compile your model again after loading it. Prefer using a Keras optimizer instead (see keras.io/optimizers).\n"
     ]
    },
    {
     "name": "stderr",
     "output_type": "stream",
     "text": [
      "WARNING:tensorflow:TensorFlow optimizers do not make it possible to access optimizer attributes or optimizer state after instantiation. As a result, we cannot save the optimizer as part of the model save file. You will have to compile your model again after loading it. Prefer using a Keras optimizer instead (see keras.io/optimizers).\n",
      "WARNING:absl:Function `_wrapped_model` contains input name(s) Input-Token, Input-Segment with unsupported characters which will be renamed to input_token, input_segment in the SavedModel.\n"
     ]
    },
    {
     "name": "stdout",
     "output_type": "stream",
     "text": [
      "INFO:tensorflow:Assets written to: /aiffel/aiffel/DDD/wandb/run-20230411_064551-0c04u42g/files/model-best/assets\n"
     ]
    },
    {
     "name": "stderr",
     "output_type": "stream",
     "text": [
      "INFO:tensorflow:Assets written to: /aiffel/aiffel/DDD/wandb/run-20230411_064551-0c04u42g/files/model-best/assets\n"
     ]
    },
    {
     "name": "stdout",
     "output_type": "stream",
     "text": [
      "WARNING:tensorflow:TensorFlow optimizers do not make it possible to access optimizer attributes or optimizer state after instantiation. As a result, we cannot save the optimizer as part of the model save file. You will have to compile your model again after loading it. Prefer using a Keras optimizer instead (see keras.io/optimizers).\n"
     ]
    },
    {
     "name": "stderr",
     "output_type": "stream",
     "text": [
      "WARNING:tensorflow:TensorFlow optimizers do not make it possible to access optimizer attributes or optimizer state after instantiation. As a result, we cannot save the optimizer as part of the model save file. You will have to compile your model again after loading it. Prefer using a Keras optimizer instead (see keras.io/optimizers).\n",
      "\u001b[34m\u001b[1mwandb\u001b[0m: Adding directory to artifact (/aiffel/aiffel/DDD/wandb/run-20230411_064551-0c04u42g/files/model-best)... Done. 17.7s\n"
     ]
    },
    {
     "name": "stdout",
     "output_type": "stream",
     "text": [
      "Epoch 11/25\n",
      "13/13 [==============================] - 3s 197ms/step - loss: 0.5766 - accuracy: 0.7400 - val_loss: 0.5987 - val_accuracy: 0.7000\n",
      "WARNING:tensorflow:TensorFlow optimizers do not make it possible to access optimizer attributes or optimizer state after instantiation. As a result, we cannot save the optimizer as part of the model save file. You will have to compile your model again after loading it. Prefer using a Keras optimizer instead (see keras.io/optimizers).\n"
     ]
    },
    {
     "name": "stderr",
     "output_type": "stream",
     "text": [
      "WARNING:tensorflow:TensorFlow optimizers do not make it possible to access optimizer attributes or optimizer state after instantiation. As a result, we cannot save the optimizer as part of the model save file. You will have to compile your model again after loading it. Prefer using a Keras optimizer instead (see keras.io/optimizers).\n"
     ]
    },
    {
     "name": "stdout",
     "output_type": "stream",
     "text": [
      "WARNING:tensorflow:TensorFlow optimizers do not make it possible to access optimizer attributes or optimizer state after instantiation. As a result, we cannot save the optimizer as part of the model save file. You will have to compile your model again after loading it. Prefer using a Keras optimizer instead (see keras.io/optimizers).\n"
     ]
    },
    {
     "name": "stderr",
     "output_type": "stream",
     "text": [
      "WARNING:tensorflow:TensorFlow optimizers do not make it possible to access optimizer attributes or optimizer state after instantiation. As a result, we cannot save the optimizer as part of the model save file. You will have to compile your model again after loading it. Prefer using a Keras optimizer instead (see keras.io/optimizers).\n",
      "WARNING:absl:Function `_wrapped_model` contains input name(s) Input-Token, Input-Segment with unsupported characters which will be renamed to input_token, input_segment in the SavedModel.\n"
     ]
    },
    {
     "name": "stdout",
     "output_type": "stream",
     "text": [
      "INFO:tensorflow:Assets written to: /aiffel/aiffel/DDD/wandb/run-20230411_064551-0c04u42g/files/model-best/assets\n"
     ]
    },
    {
     "name": "stderr",
     "output_type": "stream",
     "text": [
      "INFO:tensorflow:Assets written to: /aiffel/aiffel/DDD/wandb/run-20230411_064551-0c04u42g/files/model-best/assets\n"
     ]
    },
    {
     "name": "stdout",
     "output_type": "stream",
     "text": [
      "WARNING:tensorflow:TensorFlow optimizers do not make it possible to access optimizer attributes or optimizer state after instantiation. As a result, we cannot save the optimizer as part of the model save file. You will have to compile your model again after loading it. Prefer using a Keras optimizer instead (see keras.io/optimizers).\n"
     ]
    },
    {
     "name": "stderr",
     "output_type": "stream",
     "text": [
      "WARNING:tensorflow:TensorFlow optimizers do not make it possible to access optimizer attributes or optimizer state after instantiation. As a result, we cannot save the optimizer as part of the model save file. You will have to compile your model again after loading it. Prefer using a Keras optimizer instead (see keras.io/optimizers).\n",
      "\u001b[34m\u001b[1mwandb\u001b[0m: Adding directory to artifact (/aiffel/aiffel/DDD/wandb/run-20230411_064551-0c04u42g/files/model-best)... Done. 17.5s\n"
     ]
    },
    {
     "name": "stdout",
     "output_type": "stream",
     "text": [
      "Epoch 12/25\n",
      "13/13 [==============================] - 3s 199ms/step - loss: 0.5430 - accuracy: 0.7900 - val_loss: 0.5720 - val_accuracy: 0.7500\n",
      "WARNING:tensorflow:TensorFlow optimizers do not make it possible to access optimizer attributes or optimizer state after instantiation. As a result, we cannot save the optimizer as part of the model save file. You will have to compile your model again after loading it. Prefer using a Keras optimizer instead (see keras.io/optimizers).\n"
     ]
    },
    {
     "name": "stderr",
     "output_type": "stream",
     "text": [
      "WARNING:tensorflow:TensorFlow optimizers do not make it possible to access optimizer attributes or optimizer state after instantiation. As a result, we cannot save the optimizer as part of the model save file. You will have to compile your model again after loading it. Prefer using a Keras optimizer instead (see keras.io/optimizers).\n"
     ]
    },
    {
     "name": "stdout",
     "output_type": "stream",
     "text": [
      "WARNING:tensorflow:TensorFlow optimizers do not make it possible to access optimizer attributes or optimizer state after instantiation. As a result, we cannot save the optimizer as part of the model save file. You will have to compile your model again after loading it. Prefer using a Keras optimizer instead (see keras.io/optimizers).\n"
     ]
    },
    {
     "name": "stderr",
     "output_type": "stream",
     "text": [
      "WARNING:tensorflow:TensorFlow optimizers do not make it possible to access optimizer attributes or optimizer state after instantiation. As a result, we cannot save the optimizer as part of the model save file. You will have to compile your model again after loading it. Prefer using a Keras optimizer instead (see keras.io/optimizers).\n",
      "WARNING:absl:Function `_wrapped_model` contains input name(s) Input-Token, Input-Segment with unsupported characters which will be renamed to input_token, input_segment in the SavedModel.\n"
     ]
    },
    {
     "name": "stdout",
     "output_type": "stream",
     "text": [
      "INFO:tensorflow:Assets written to: /aiffel/aiffel/DDD/wandb/run-20230411_064551-0c04u42g/files/model-best/assets\n"
     ]
    },
    {
     "name": "stderr",
     "output_type": "stream",
     "text": [
      "INFO:tensorflow:Assets written to: /aiffel/aiffel/DDD/wandb/run-20230411_064551-0c04u42g/files/model-best/assets\n"
     ]
    },
    {
     "name": "stdout",
     "output_type": "stream",
     "text": [
      "WARNING:tensorflow:TensorFlow optimizers do not make it possible to access optimizer attributes or optimizer state after instantiation. As a result, we cannot save the optimizer as part of the model save file. You will have to compile your model again after loading it. Prefer using a Keras optimizer instead (see keras.io/optimizers).\n"
     ]
    },
    {
     "name": "stderr",
     "output_type": "stream",
     "text": [
      "WARNING:tensorflow:TensorFlow optimizers do not make it possible to access optimizer attributes or optimizer state after instantiation. As a result, we cannot save the optimizer as part of the model save file. You will have to compile your model again after loading it. Prefer using a Keras optimizer instead (see keras.io/optimizers).\n",
      "\u001b[34m\u001b[1mwandb\u001b[0m: Adding directory to artifact (/aiffel/aiffel/DDD/wandb/run-20230411_064551-0c04u42g/files/model-best)... Done. 19.3s\n"
     ]
    },
    {
     "name": "stdout",
     "output_type": "stream",
     "text": [
      "Epoch 13/25\n",
      "13/13 [==============================] - 3s 199ms/step - loss: 0.5401 - accuracy: 0.7600 - val_loss: 0.5445 - val_accuracy: 0.8500\n",
      "WARNING:tensorflow:TensorFlow optimizers do not make it possible to access optimizer attributes or optimizer state after instantiation. As a result, we cannot save the optimizer as part of the model save file. You will have to compile your model again after loading it. Prefer using a Keras optimizer instead (see keras.io/optimizers).\n"
     ]
    },
    {
     "name": "stderr",
     "output_type": "stream",
     "text": [
      "WARNING:tensorflow:TensorFlow optimizers do not make it possible to access optimizer attributes or optimizer state after instantiation. As a result, we cannot save the optimizer as part of the model save file. You will have to compile your model again after loading it. Prefer using a Keras optimizer instead (see keras.io/optimizers).\n"
     ]
    },
    {
     "name": "stdout",
     "output_type": "stream",
     "text": [
      "WARNING:tensorflow:TensorFlow optimizers do not make it possible to access optimizer attributes or optimizer state after instantiation. As a result, we cannot save the optimizer as part of the model save file. You will have to compile your model again after loading it. Prefer using a Keras optimizer instead (see keras.io/optimizers).\n"
     ]
    },
    {
     "name": "stderr",
     "output_type": "stream",
     "text": [
      "WARNING:tensorflow:TensorFlow optimizers do not make it possible to access optimizer attributes or optimizer state after instantiation. As a result, we cannot save the optimizer as part of the model save file. You will have to compile your model again after loading it. Prefer using a Keras optimizer instead (see keras.io/optimizers).\n",
      "WARNING:absl:Function `_wrapped_model` contains input name(s) Input-Token, Input-Segment with unsupported characters which will be renamed to input_token, input_segment in the SavedModel.\n"
     ]
    },
    {
     "name": "stdout",
     "output_type": "stream",
     "text": [
      "INFO:tensorflow:Assets written to: /aiffel/aiffel/DDD/wandb/run-20230411_064551-0c04u42g/files/model-best/assets\n"
     ]
    },
    {
     "name": "stderr",
     "output_type": "stream",
     "text": [
      "INFO:tensorflow:Assets written to: /aiffel/aiffel/DDD/wandb/run-20230411_064551-0c04u42g/files/model-best/assets\n"
     ]
    },
    {
     "name": "stdout",
     "output_type": "stream",
     "text": [
      "WARNING:tensorflow:TensorFlow optimizers do not make it possible to access optimizer attributes or optimizer state after instantiation. As a result, we cannot save the optimizer as part of the model save file. You will have to compile your model again after loading it. Prefer using a Keras optimizer instead (see keras.io/optimizers).\n"
     ]
    },
    {
     "name": "stderr",
     "output_type": "stream",
     "text": [
      "WARNING:tensorflow:TensorFlow optimizers do not make it possible to access optimizer attributes or optimizer state after instantiation. As a result, we cannot save the optimizer as part of the model save file. You will have to compile your model again after loading it. Prefer using a Keras optimizer instead (see keras.io/optimizers).\n",
      "\u001b[34m\u001b[1mwandb\u001b[0m: Adding directory to artifact (/aiffel/aiffel/DDD/wandb/run-20230411_064551-0c04u42g/files/model-best)... Done. 13.5s\n"
     ]
    },
    {
     "name": "stdout",
     "output_type": "stream",
     "text": [
      "Epoch 14/25\n",
      "13/13 [==============================] - 3s 199ms/step - loss: 0.4994 - accuracy: 0.8200 - val_loss: 0.5155 - val_accuracy: 0.8500\n",
      "WARNING:tensorflow:TensorFlow optimizers do not make it possible to access optimizer attributes or optimizer state after instantiation. As a result, we cannot save the optimizer as part of the model save file. You will have to compile your model again after loading it. Prefer using a Keras optimizer instead (see keras.io/optimizers).\n"
     ]
    },
    {
     "name": "stderr",
     "output_type": "stream",
     "text": [
      "WARNING:tensorflow:TensorFlow optimizers do not make it possible to access optimizer attributes or optimizer state after instantiation. As a result, we cannot save the optimizer as part of the model save file. You will have to compile your model again after loading it. Prefer using a Keras optimizer instead (see keras.io/optimizers).\n"
     ]
    },
    {
     "name": "stdout",
     "output_type": "stream",
     "text": [
      "WARNING:tensorflow:TensorFlow optimizers do not make it possible to access optimizer attributes or optimizer state after instantiation. As a result, we cannot save the optimizer as part of the model save file. You will have to compile your model again after loading it. Prefer using a Keras optimizer instead (see keras.io/optimizers).\n"
     ]
    },
    {
     "name": "stderr",
     "output_type": "stream",
     "text": [
      "WARNING:tensorflow:TensorFlow optimizers do not make it possible to access optimizer attributes or optimizer state after instantiation. As a result, we cannot save the optimizer as part of the model save file. You will have to compile your model again after loading it. Prefer using a Keras optimizer instead (see keras.io/optimizers).\n",
      "WARNING:absl:Function `_wrapped_model` contains input name(s) Input-Token, Input-Segment with unsupported characters which will be renamed to input_token, input_segment in the SavedModel.\n"
     ]
    },
    {
     "name": "stdout",
     "output_type": "stream",
     "text": [
      "INFO:tensorflow:Assets written to: /aiffel/aiffel/DDD/wandb/run-20230411_064551-0c04u42g/files/model-best/assets\n"
     ]
    },
    {
     "name": "stderr",
     "output_type": "stream",
     "text": [
      "INFO:tensorflow:Assets written to: /aiffel/aiffel/DDD/wandb/run-20230411_064551-0c04u42g/files/model-best/assets\n"
     ]
    },
    {
     "name": "stdout",
     "output_type": "stream",
     "text": [
      "WARNING:tensorflow:TensorFlow optimizers do not make it possible to access optimizer attributes or optimizer state after instantiation. As a result, we cannot save the optimizer as part of the model save file. You will have to compile your model again after loading it. Prefer using a Keras optimizer instead (see keras.io/optimizers).\n"
     ]
    },
    {
     "name": "stderr",
     "output_type": "stream",
     "text": [
      "WARNING:tensorflow:TensorFlow optimizers do not make it possible to access optimizer attributes or optimizer state after instantiation. As a result, we cannot save the optimizer as part of the model save file. You will have to compile your model again after loading it. Prefer using a Keras optimizer instead (see keras.io/optimizers).\n",
      "\u001b[34m\u001b[1mwandb\u001b[0m: Adding directory to artifact (/aiffel/aiffel/DDD/wandb/run-20230411_064551-0c04u42g/files/model-best)... Done. 17.1s\n"
     ]
    },
    {
     "name": "stdout",
     "output_type": "stream",
     "text": [
      "Epoch 15/25\n",
      "13/13 [==============================] - 3s 199ms/step - loss: 0.4899 - accuracy: 0.8200 - val_loss: 0.4881 - val_accuracy: 0.8500\n",
      "WARNING:tensorflow:TensorFlow optimizers do not make it possible to access optimizer attributes or optimizer state after instantiation. As a result, we cannot save the optimizer as part of the model save file. You will have to compile your model again after loading it. Prefer using a Keras optimizer instead (see keras.io/optimizers).\n"
     ]
    },
    {
     "name": "stderr",
     "output_type": "stream",
     "text": [
      "WARNING:tensorflow:TensorFlow optimizers do not make it possible to access optimizer attributes or optimizer state after instantiation. As a result, we cannot save the optimizer as part of the model save file. You will have to compile your model again after loading it. Prefer using a Keras optimizer instead (see keras.io/optimizers).\n"
     ]
    },
    {
     "name": "stdout",
     "output_type": "stream",
     "text": [
      "WARNING:tensorflow:TensorFlow optimizers do not make it possible to access optimizer attributes or optimizer state after instantiation. As a result, we cannot save the optimizer as part of the model save file. You will have to compile your model again after loading it. Prefer using a Keras optimizer instead (see keras.io/optimizers).\n"
     ]
    },
    {
     "name": "stderr",
     "output_type": "stream",
     "text": [
      "WARNING:tensorflow:TensorFlow optimizers do not make it possible to access optimizer attributes or optimizer state after instantiation. As a result, we cannot save the optimizer as part of the model save file. You will have to compile your model again after loading it. Prefer using a Keras optimizer instead (see keras.io/optimizers).\n",
      "WARNING:absl:Function `_wrapped_model` contains input name(s) Input-Token, Input-Segment with unsupported characters which will be renamed to input_token, input_segment in the SavedModel.\n"
     ]
    },
    {
     "name": "stdout",
     "output_type": "stream",
     "text": [
      "INFO:tensorflow:Assets written to: /aiffel/aiffel/DDD/wandb/run-20230411_064551-0c04u42g/files/model-best/assets\n"
     ]
    },
    {
     "name": "stderr",
     "output_type": "stream",
     "text": [
      "INFO:tensorflow:Assets written to: /aiffel/aiffel/DDD/wandb/run-20230411_064551-0c04u42g/files/model-best/assets\n"
     ]
    },
    {
     "name": "stdout",
     "output_type": "stream",
     "text": [
      "WARNING:tensorflow:TensorFlow optimizers do not make it possible to access optimizer attributes or optimizer state after instantiation. As a result, we cannot save the optimizer as part of the model save file. You will have to compile your model again after loading it. Prefer using a Keras optimizer instead (see keras.io/optimizers).\n"
     ]
    },
    {
     "name": "stderr",
     "output_type": "stream",
     "text": [
      "WARNING:tensorflow:TensorFlow optimizers do not make it possible to access optimizer attributes or optimizer state after instantiation. As a result, we cannot save the optimizer as part of the model save file. You will have to compile your model again after loading it. Prefer using a Keras optimizer instead (see keras.io/optimizers).\n",
      "\u001b[34m\u001b[1mwandb\u001b[0m: Adding directory to artifact (/aiffel/aiffel/DDD/wandb/run-20230411_064551-0c04u42g/files/model-best)... Done. 12.5s\n"
     ]
    },
    {
     "name": "stdout",
     "output_type": "stream",
     "text": [
      "Epoch 16/25\n",
      "13/13 [==============================] - 3s 200ms/step - loss: 0.4583 - accuracy: 0.8400 - val_loss: 0.4593 - val_accuracy: 0.9000\n",
      "WARNING:tensorflow:TensorFlow optimizers do not make it possible to access optimizer attributes or optimizer state after instantiation. As a result, we cannot save the optimizer as part of the model save file. You will have to compile your model again after loading it. Prefer using a Keras optimizer instead (see keras.io/optimizers).\n"
     ]
    },
    {
     "name": "stderr",
     "output_type": "stream",
     "text": [
      "WARNING:tensorflow:TensorFlow optimizers do not make it possible to access optimizer attributes or optimizer state after instantiation. As a result, we cannot save the optimizer as part of the model save file. You will have to compile your model again after loading it. Prefer using a Keras optimizer instead (see keras.io/optimizers).\n"
     ]
    },
    {
     "name": "stdout",
     "output_type": "stream",
     "text": [
      "WARNING:tensorflow:TensorFlow optimizers do not make it possible to access optimizer attributes or optimizer state after instantiation. As a result, we cannot save the optimizer as part of the model save file. You will have to compile your model again after loading it. Prefer using a Keras optimizer instead (see keras.io/optimizers).\n"
     ]
    },
    {
     "name": "stderr",
     "output_type": "stream",
     "text": [
      "WARNING:tensorflow:TensorFlow optimizers do not make it possible to access optimizer attributes or optimizer state after instantiation. As a result, we cannot save the optimizer as part of the model save file. You will have to compile your model again after loading it. Prefer using a Keras optimizer instead (see keras.io/optimizers).\n",
      "WARNING:absl:Function `_wrapped_model` contains input name(s) Input-Token, Input-Segment with unsupported characters which will be renamed to input_token, input_segment in the SavedModel.\n"
     ]
    },
    {
     "name": "stdout",
     "output_type": "stream",
     "text": [
      "INFO:tensorflow:Assets written to: /aiffel/aiffel/DDD/wandb/run-20230411_064551-0c04u42g/files/model-best/assets\n"
     ]
    },
    {
     "name": "stderr",
     "output_type": "stream",
     "text": [
      "INFO:tensorflow:Assets written to: /aiffel/aiffel/DDD/wandb/run-20230411_064551-0c04u42g/files/model-best/assets\n"
     ]
    },
    {
     "name": "stdout",
     "output_type": "stream",
     "text": [
      "WARNING:tensorflow:TensorFlow optimizers do not make it possible to access optimizer attributes or optimizer state after instantiation. As a result, we cannot save the optimizer as part of the model save file. You will have to compile your model again after loading it. Prefer using a Keras optimizer instead (see keras.io/optimizers).\n"
     ]
    },
    {
     "name": "stderr",
     "output_type": "stream",
     "text": [
      "WARNING:tensorflow:TensorFlow optimizers do not make it possible to access optimizer attributes or optimizer state after instantiation. As a result, we cannot save the optimizer as part of the model save file. You will have to compile your model again after loading it. Prefer using a Keras optimizer instead (see keras.io/optimizers).\n",
      "\u001b[34m\u001b[1mwandb\u001b[0m: Adding directory to artifact (/aiffel/aiffel/DDD/wandb/run-20230411_064551-0c04u42g/files/model-best)... Done. 15.9s\n"
     ]
    },
    {
     "name": "stdout",
     "output_type": "stream",
     "text": [
      "Epoch 17/25\n",
      "13/13 [==============================] - 3s 197ms/step - loss: 0.4252 - accuracy: 0.8500 - val_loss: 0.4312 - val_accuracy: 0.9000\n",
      "WARNING:tensorflow:TensorFlow optimizers do not make it possible to access optimizer attributes or optimizer state after instantiation. As a result, we cannot save the optimizer as part of the model save file. You will have to compile your model again after loading it. Prefer using a Keras optimizer instead (see keras.io/optimizers).\n"
     ]
    },
    {
     "name": "stderr",
     "output_type": "stream",
     "text": [
      "WARNING:tensorflow:TensorFlow optimizers do not make it possible to access optimizer attributes or optimizer state after instantiation. As a result, we cannot save the optimizer as part of the model save file. You will have to compile your model again after loading it. Prefer using a Keras optimizer instead (see keras.io/optimizers).\n"
     ]
    },
    {
     "name": "stdout",
     "output_type": "stream",
     "text": [
      "WARNING:tensorflow:TensorFlow optimizers do not make it possible to access optimizer attributes or optimizer state after instantiation. As a result, we cannot save the optimizer as part of the model save file. You will have to compile your model again after loading it. Prefer using a Keras optimizer instead (see keras.io/optimizers).\n"
     ]
    },
    {
     "name": "stderr",
     "output_type": "stream",
     "text": [
      "WARNING:tensorflow:TensorFlow optimizers do not make it possible to access optimizer attributes or optimizer state after instantiation. As a result, we cannot save the optimizer as part of the model save file. You will have to compile your model again after loading it. Prefer using a Keras optimizer instead (see keras.io/optimizers).\n",
      "WARNING:absl:Function `_wrapped_model` contains input name(s) Input-Token, Input-Segment with unsupported characters which will be renamed to input_token, input_segment in the SavedModel.\n"
     ]
    },
    {
     "name": "stdout",
     "output_type": "stream",
     "text": [
      "INFO:tensorflow:Assets written to: /aiffel/aiffel/DDD/wandb/run-20230411_064551-0c04u42g/files/model-best/assets\n"
     ]
    },
    {
     "name": "stderr",
     "output_type": "stream",
     "text": [
      "INFO:tensorflow:Assets written to: /aiffel/aiffel/DDD/wandb/run-20230411_064551-0c04u42g/files/model-best/assets\n"
     ]
    },
    {
     "name": "stdout",
     "output_type": "stream",
     "text": [
      "WARNING:tensorflow:TensorFlow optimizers do not make it possible to access optimizer attributes or optimizer state after instantiation. As a result, we cannot save the optimizer as part of the model save file. You will have to compile your model again after loading it. Prefer using a Keras optimizer instead (see keras.io/optimizers).\n"
     ]
    },
    {
     "name": "stderr",
     "output_type": "stream",
     "text": [
      "WARNING:tensorflow:TensorFlow optimizers do not make it possible to access optimizer attributes or optimizer state after instantiation. As a result, we cannot save the optimizer as part of the model save file. You will have to compile your model again after loading it. Prefer using a Keras optimizer instead (see keras.io/optimizers).\n",
      "\u001b[34m\u001b[1mwandb\u001b[0m: Adding directory to artifact (/aiffel/aiffel/DDD/wandb/run-20230411_064551-0c04u42g/files/model-best)... Done. 16.7s\n"
     ]
    },
    {
     "name": "stdout",
     "output_type": "stream",
     "text": [
      "Epoch 18/25\n",
      "13/13 [==============================] - 3s 198ms/step - loss: 0.4328 - accuracy: 0.8700 - val_loss: 0.4013 - val_accuracy: 0.9000\n",
      "WARNING:tensorflow:TensorFlow optimizers do not make it possible to access optimizer attributes or optimizer state after instantiation. As a result, we cannot save the optimizer as part of the model save file. You will have to compile your model again after loading it. Prefer using a Keras optimizer instead (see keras.io/optimizers).\n"
     ]
    },
    {
     "name": "stderr",
     "output_type": "stream",
     "text": [
      "WARNING:tensorflow:TensorFlow optimizers do not make it possible to access optimizer attributes or optimizer state after instantiation. As a result, we cannot save the optimizer as part of the model save file. You will have to compile your model again after loading it. Prefer using a Keras optimizer instead (see keras.io/optimizers).\n"
     ]
    },
    {
     "name": "stdout",
     "output_type": "stream",
     "text": [
      "WARNING:tensorflow:TensorFlow optimizers do not make it possible to access optimizer attributes or optimizer state after instantiation. As a result, we cannot save the optimizer as part of the model save file. You will have to compile your model again after loading it. Prefer using a Keras optimizer instead (see keras.io/optimizers).\n"
     ]
    },
    {
     "name": "stderr",
     "output_type": "stream",
     "text": [
      "WARNING:tensorflow:TensorFlow optimizers do not make it possible to access optimizer attributes or optimizer state after instantiation. As a result, we cannot save the optimizer as part of the model save file. You will have to compile your model again after loading it. Prefer using a Keras optimizer instead (see keras.io/optimizers).\n",
      "WARNING:absl:Function `_wrapped_model` contains input name(s) Input-Token, Input-Segment with unsupported characters which will be renamed to input_token, input_segment in the SavedModel.\n"
     ]
    },
    {
     "name": "stdout",
     "output_type": "stream",
     "text": [
      "INFO:tensorflow:Assets written to: /aiffel/aiffel/DDD/wandb/run-20230411_064551-0c04u42g/files/model-best/assets\n"
     ]
    },
    {
     "name": "stderr",
     "output_type": "stream",
     "text": [
      "INFO:tensorflow:Assets written to: /aiffel/aiffel/DDD/wandb/run-20230411_064551-0c04u42g/files/model-best/assets\n"
     ]
    },
    {
     "name": "stdout",
     "output_type": "stream",
     "text": [
      "WARNING:tensorflow:TensorFlow optimizers do not make it possible to access optimizer attributes or optimizer state after instantiation. As a result, we cannot save the optimizer as part of the model save file. You will have to compile your model again after loading it. Prefer using a Keras optimizer instead (see keras.io/optimizers).\n"
     ]
    },
    {
     "name": "stderr",
     "output_type": "stream",
     "text": [
      "WARNING:tensorflow:TensorFlow optimizers do not make it possible to access optimizer attributes or optimizer state after instantiation. As a result, we cannot save the optimizer as part of the model save file. You will have to compile your model again after loading it. Prefer using a Keras optimizer instead (see keras.io/optimizers).\n",
      "\u001b[34m\u001b[1mwandb\u001b[0m: Adding directory to artifact (/aiffel/aiffel/DDD/wandb/run-20230411_064551-0c04u42g/files/model-best)... Done. 18.2s\n"
     ]
    },
    {
     "name": "stdout",
     "output_type": "stream",
     "text": [
      "Epoch 19/25\n",
      "13/13 [==============================] - 3s 198ms/step - loss: 0.4527 - accuracy: 0.8100 - val_loss: 0.3743 - val_accuracy: 0.9000\n",
      "WARNING:tensorflow:TensorFlow optimizers do not make it possible to access optimizer attributes or optimizer state after instantiation. As a result, we cannot save the optimizer as part of the model save file. You will have to compile your model again after loading it. Prefer using a Keras optimizer instead (see keras.io/optimizers).\n"
     ]
    },
    {
     "name": "stderr",
     "output_type": "stream",
     "text": [
      "WARNING:tensorflow:TensorFlow optimizers do not make it possible to access optimizer attributes or optimizer state after instantiation. As a result, we cannot save the optimizer as part of the model save file. You will have to compile your model again after loading it. Prefer using a Keras optimizer instead (see keras.io/optimizers).\n"
     ]
    },
    {
     "name": "stdout",
     "output_type": "stream",
     "text": [
      "WARNING:tensorflow:TensorFlow optimizers do not make it possible to access optimizer attributes or optimizer state after instantiation. As a result, we cannot save the optimizer as part of the model save file. You will have to compile your model again after loading it. Prefer using a Keras optimizer instead (see keras.io/optimizers).\n"
     ]
    },
    {
     "name": "stderr",
     "output_type": "stream",
     "text": [
      "WARNING:tensorflow:TensorFlow optimizers do not make it possible to access optimizer attributes or optimizer state after instantiation. As a result, we cannot save the optimizer as part of the model save file. You will have to compile your model again after loading it. Prefer using a Keras optimizer instead (see keras.io/optimizers).\n",
      "WARNING:absl:Function `_wrapped_model` contains input name(s) Input-Token, Input-Segment with unsupported characters which will be renamed to input_token, input_segment in the SavedModel.\n"
     ]
    },
    {
     "name": "stdout",
     "output_type": "stream",
     "text": [
      "INFO:tensorflow:Assets written to: /aiffel/aiffel/DDD/wandb/run-20230411_064551-0c04u42g/files/model-best/assets\n"
     ]
    },
    {
     "name": "stderr",
     "output_type": "stream",
     "text": [
      "INFO:tensorflow:Assets written to: /aiffel/aiffel/DDD/wandb/run-20230411_064551-0c04u42g/files/model-best/assets\n"
     ]
    },
    {
     "name": "stdout",
     "output_type": "stream",
     "text": [
      "WARNING:tensorflow:TensorFlow optimizers do not make it possible to access optimizer attributes or optimizer state after instantiation. As a result, we cannot save the optimizer as part of the model save file. You will have to compile your model again after loading it. Prefer using a Keras optimizer instead (see keras.io/optimizers).\n"
     ]
    },
    {
     "name": "stderr",
     "output_type": "stream",
     "text": [
      "WARNING:tensorflow:TensorFlow optimizers do not make it possible to access optimizer attributes or optimizer state after instantiation. As a result, we cannot save the optimizer as part of the model save file. You will have to compile your model again after loading it. Prefer using a Keras optimizer instead (see keras.io/optimizers).\n",
      "\u001b[34m\u001b[1mwandb\u001b[0m: Adding directory to artifact (/aiffel/aiffel/DDD/wandb/run-20230411_064551-0c04u42g/files/model-best)... Done. 17.9s\n"
     ]
    },
    {
     "name": "stdout",
     "output_type": "stream",
     "text": [
      "Epoch 20/25\n",
      "13/13 [==============================] - 3s 197ms/step - loss: 0.4201 - accuracy: 0.8500 - val_loss: 0.3444 - val_accuracy: 0.9500\n",
      "WARNING:tensorflow:TensorFlow optimizers do not make it possible to access optimizer attributes or optimizer state after instantiation. As a result, we cannot save the optimizer as part of the model save file. You will have to compile your model again after loading it. Prefer using a Keras optimizer instead (see keras.io/optimizers).\n"
     ]
    },
    {
     "name": "stderr",
     "output_type": "stream",
     "text": [
      "WARNING:tensorflow:TensorFlow optimizers do not make it possible to access optimizer attributes or optimizer state after instantiation. As a result, we cannot save the optimizer as part of the model save file. You will have to compile your model again after loading it. Prefer using a Keras optimizer instead (see keras.io/optimizers).\n"
     ]
    },
    {
     "name": "stdout",
     "output_type": "stream",
     "text": [
      "WARNING:tensorflow:TensorFlow optimizers do not make it possible to access optimizer attributes or optimizer state after instantiation. As a result, we cannot save the optimizer as part of the model save file. You will have to compile your model again after loading it. Prefer using a Keras optimizer instead (see keras.io/optimizers).\n"
     ]
    },
    {
     "name": "stderr",
     "output_type": "stream",
     "text": [
      "WARNING:tensorflow:TensorFlow optimizers do not make it possible to access optimizer attributes or optimizer state after instantiation. As a result, we cannot save the optimizer as part of the model save file. You will have to compile your model again after loading it. Prefer using a Keras optimizer instead (see keras.io/optimizers).\n",
      "WARNING:absl:Function `_wrapped_model` contains input name(s) Input-Token, Input-Segment with unsupported characters which will be renamed to input_token, input_segment in the SavedModel.\n"
     ]
    },
    {
     "name": "stdout",
     "output_type": "stream",
     "text": [
      "INFO:tensorflow:Assets written to: /aiffel/aiffel/DDD/wandb/run-20230411_064551-0c04u42g/files/model-best/assets\n"
     ]
    },
    {
     "name": "stderr",
     "output_type": "stream",
     "text": [
      "INFO:tensorflow:Assets written to: /aiffel/aiffel/DDD/wandb/run-20230411_064551-0c04u42g/files/model-best/assets\n"
     ]
    },
    {
     "name": "stdout",
     "output_type": "stream",
     "text": [
      "WARNING:tensorflow:TensorFlow optimizers do not make it possible to access optimizer attributes or optimizer state after instantiation. As a result, we cannot save the optimizer as part of the model save file. You will have to compile your model again after loading it. Prefer using a Keras optimizer instead (see keras.io/optimizers).\n"
     ]
    },
    {
     "name": "stderr",
     "output_type": "stream",
     "text": [
      "WARNING:tensorflow:TensorFlow optimizers do not make it possible to access optimizer attributes or optimizer state after instantiation. As a result, we cannot save the optimizer as part of the model save file. You will have to compile your model again after loading it. Prefer using a Keras optimizer instead (see keras.io/optimizers).\n",
      "\u001b[34m\u001b[1mwandb\u001b[0m: Adding directory to artifact (/aiffel/aiffel/DDD/wandb/run-20230411_064551-0c04u42g/files/model-best)... Done. 20.5s\n"
     ]
    },
    {
     "name": "stdout",
     "output_type": "stream",
     "text": [
      "Epoch 21/25\n",
      "13/13 [==============================] - 3s 196ms/step - loss: 0.3617 - accuracy: 0.9100 - val_loss: 0.3187 - val_accuracy: 1.0000\n",
      "WARNING:tensorflow:TensorFlow optimizers do not make it possible to access optimizer attributes or optimizer state after instantiation. As a result, we cannot save the optimizer as part of the model save file. You will have to compile your model again after loading it. Prefer using a Keras optimizer instead (see keras.io/optimizers).\n"
     ]
    },
    {
     "name": "stderr",
     "output_type": "stream",
     "text": [
      "WARNING:tensorflow:TensorFlow optimizers do not make it possible to access optimizer attributes or optimizer state after instantiation. As a result, we cannot save the optimizer as part of the model save file. You will have to compile your model again after loading it. Prefer using a Keras optimizer instead (see keras.io/optimizers).\n"
     ]
    },
    {
     "name": "stdout",
     "output_type": "stream",
     "text": [
      "WARNING:tensorflow:TensorFlow optimizers do not make it possible to access optimizer attributes or optimizer state after instantiation. As a result, we cannot save the optimizer as part of the model save file. You will have to compile your model again after loading it. Prefer using a Keras optimizer instead (see keras.io/optimizers).\n"
     ]
    },
    {
     "name": "stderr",
     "output_type": "stream",
     "text": [
      "WARNING:tensorflow:TensorFlow optimizers do not make it possible to access optimizer attributes or optimizer state after instantiation. As a result, we cannot save the optimizer as part of the model save file. You will have to compile your model again after loading it. Prefer using a Keras optimizer instead (see keras.io/optimizers).\n",
      "WARNING:absl:Function `_wrapped_model` contains input name(s) Input-Token, Input-Segment with unsupported characters which will be renamed to input_token, input_segment in the SavedModel.\n"
     ]
    },
    {
     "name": "stdout",
     "output_type": "stream",
     "text": [
      "INFO:tensorflow:Assets written to: /aiffel/aiffel/DDD/wandb/run-20230411_064551-0c04u42g/files/model-best/assets\n"
     ]
    },
    {
     "name": "stderr",
     "output_type": "stream",
     "text": [
      "INFO:tensorflow:Assets written to: /aiffel/aiffel/DDD/wandb/run-20230411_064551-0c04u42g/files/model-best/assets\n"
     ]
    },
    {
     "name": "stdout",
     "output_type": "stream",
     "text": [
      "WARNING:tensorflow:TensorFlow optimizers do not make it possible to access optimizer attributes or optimizer state after instantiation. As a result, we cannot save the optimizer as part of the model save file. You will have to compile your model again after loading it. Prefer using a Keras optimizer instead (see keras.io/optimizers).\n"
     ]
    },
    {
     "name": "stderr",
     "output_type": "stream",
     "text": [
      "WARNING:tensorflow:TensorFlow optimizers do not make it possible to access optimizer attributes or optimizer state after instantiation. As a result, we cannot save the optimizer as part of the model save file. You will have to compile your model again after loading it. Prefer using a Keras optimizer instead (see keras.io/optimizers).\n",
      "\u001b[34m\u001b[1mwandb\u001b[0m: Adding directory to artifact (/aiffel/aiffel/DDD/wandb/run-20230411_064551-0c04u42g/files/model-best)... Done. 19.3s\n"
     ]
    },
    {
     "name": "stdout",
     "output_type": "stream",
     "text": [
      "Epoch 22/25\n",
      "13/13 [==============================] - 3s 199ms/step - loss: 0.3516 - accuracy: 0.9300 - val_loss: 0.2942 - val_accuracy: 1.0000\n",
      "WARNING:tensorflow:TensorFlow optimizers do not make it possible to access optimizer attributes or optimizer state after instantiation. As a result, we cannot save the optimizer as part of the model save file. You will have to compile your model again after loading it. Prefer using a Keras optimizer instead (see keras.io/optimizers).\n"
     ]
    },
    {
     "name": "stderr",
     "output_type": "stream",
     "text": [
      "WARNING:tensorflow:TensorFlow optimizers do not make it possible to access optimizer attributes or optimizer state after instantiation. As a result, we cannot save the optimizer as part of the model save file. You will have to compile your model again after loading it. Prefer using a Keras optimizer instead (see keras.io/optimizers).\n"
     ]
    },
    {
     "name": "stdout",
     "output_type": "stream",
     "text": [
      "WARNING:tensorflow:TensorFlow optimizers do not make it possible to access optimizer attributes or optimizer state after instantiation. As a result, we cannot save the optimizer as part of the model save file. You will have to compile your model again after loading it. Prefer using a Keras optimizer instead (see keras.io/optimizers).\n"
     ]
    },
    {
     "name": "stderr",
     "output_type": "stream",
     "text": [
      "WARNING:tensorflow:TensorFlow optimizers do not make it possible to access optimizer attributes or optimizer state after instantiation. As a result, we cannot save the optimizer as part of the model save file. You will have to compile your model again after loading it. Prefer using a Keras optimizer instead (see keras.io/optimizers).\n",
      "WARNING:absl:Function `_wrapped_model` contains input name(s) Input-Token, Input-Segment with unsupported characters which will be renamed to input_token, input_segment in the SavedModel.\n"
     ]
    },
    {
     "name": "stdout",
     "output_type": "stream",
     "text": [
      "INFO:tensorflow:Assets written to: /aiffel/aiffel/DDD/wandb/run-20230411_064551-0c04u42g/files/model-best/assets\n"
     ]
    },
    {
     "name": "stderr",
     "output_type": "stream",
     "text": [
      "INFO:tensorflow:Assets written to: /aiffel/aiffel/DDD/wandb/run-20230411_064551-0c04u42g/files/model-best/assets\n"
     ]
    },
    {
     "name": "stdout",
     "output_type": "stream",
     "text": [
      "WARNING:tensorflow:TensorFlow optimizers do not make it possible to access optimizer attributes or optimizer state after instantiation. As a result, we cannot save the optimizer as part of the model save file. You will have to compile your model again after loading it. Prefer using a Keras optimizer instead (see keras.io/optimizers).\n"
     ]
    },
    {
     "name": "stderr",
     "output_type": "stream",
     "text": [
      "WARNING:tensorflow:TensorFlow optimizers do not make it possible to access optimizer attributes or optimizer state after instantiation. As a result, we cannot save the optimizer as part of the model save file. You will have to compile your model again after loading it. Prefer using a Keras optimizer instead (see keras.io/optimizers).\n",
      "\u001b[34m\u001b[1mwandb\u001b[0m: Adding directory to artifact (/aiffel/aiffel/DDD/wandb/run-20230411_064551-0c04u42g/files/model-best)... Done. 19.1s\n"
     ]
    },
    {
     "name": "stdout",
     "output_type": "stream",
     "text": [
      "Epoch 23/25\n",
      "13/13 [==============================] - 3s 199ms/step - loss: 0.3651 - accuracy: 0.9000 - val_loss: 0.2726 - val_accuracy: 1.0000\n",
      "WARNING:tensorflow:TensorFlow optimizers do not make it possible to access optimizer attributes or optimizer state after instantiation. As a result, we cannot save the optimizer as part of the model save file. You will have to compile your model again after loading it. Prefer using a Keras optimizer instead (see keras.io/optimizers).\n"
     ]
    },
    {
     "name": "stderr",
     "output_type": "stream",
     "text": [
      "WARNING:tensorflow:TensorFlow optimizers do not make it possible to access optimizer attributes or optimizer state after instantiation. As a result, we cannot save the optimizer as part of the model save file. You will have to compile your model again after loading it. Prefer using a Keras optimizer instead (see keras.io/optimizers).\n"
     ]
    },
    {
     "name": "stdout",
     "output_type": "stream",
     "text": [
      "WARNING:tensorflow:TensorFlow optimizers do not make it possible to access optimizer attributes or optimizer state after instantiation. As a result, we cannot save the optimizer as part of the model save file. You will have to compile your model again after loading it. Prefer using a Keras optimizer instead (see keras.io/optimizers).\n"
     ]
    },
    {
     "name": "stderr",
     "output_type": "stream",
     "text": [
      "WARNING:tensorflow:TensorFlow optimizers do not make it possible to access optimizer attributes or optimizer state after instantiation. As a result, we cannot save the optimizer as part of the model save file. You will have to compile your model again after loading it. Prefer using a Keras optimizer instead (see keras.io/optimizers).\n",
      "WARNING:absl:Function `_wrapped_model` contains input name(s) Input-Token, Input-Segment with unsupported characters which will be renamed to input_token, input_segment in the SavedModel.\n"
     ]
    },
    {
     "name": "stdout",
     "output_type": "stream",
     "text": [
      "INFO:tensorflow:Assets written to: /aiffel/aiffel/DDD/wandb/run-20230411_064551-0c04u42g/files/model-best/assets\n"
     ]
    },
    {
     "name": "stderr",
     "output_type": "stream",
     "text": [
      "INFO:tensorflow:Assets written to: /aiffel/aiffel/DDD/wandb/run-20230411_064551-0c04u42g/files/model-best/assets\n"
     ]
    },
    {
     "name": "stdout",
     "output_type": "stream",
     "text": [
      "WARNING:tensorflow:TensorFlow optimizers do not make it possible to access optimizer attributes or optimizer state after instantiation. As a result, we cannot save the optimizer as part of the model save file. You will have to compile your model again after loading it. Prefer using a Keras optimizer instead (see keras.io/optimizers).\n"
     ]
    },
    {
     "name": "stderr",
     "output_type": "stream",
     "text": [
      "WARNING:tensorflow:TensorFlow optimizers do not make it possible to access optimizer attributes or optimizer state after instantiation. As a result, we cannot save the optimizer as part of the model save file. You will have to compile your model again after loading it. Prefer using a Keras optimizer instead (see keras.io/optimizers).\n",
      "\u001b[34m\u001b[1mwandb\u001b[0m: Adding directory to artifact (/aiffel/aiffel/DDD/wandb/run-20230411_064551-0c04u42g/files/model-best)... Done. 29.2s\n"
     ]
    },
    {
     "name": "stdout",
     "output_type": "stream",
     "text": [
      "Epoch 24/25\n",
      "13/13 [==============================] - 3s 199ms/step - loss: 0.3976 - accuracy: 0.8800 - val_loss: 0.2509 - val_accuracy: 1.0000\n",
      "WARNING:tensorflow:TensorFlow optimizers do not make it possible to access optimizer attributes or optimizer state after instantiation. As a result, we cannot save the optimizer as part of the model save file. You will have to compile your model again after loading it. Prefer using a Keras optimizer instead (see keras.io/optimizers).\n"
     ]
    },
    {
     "name": "stderr",
     "output_type": "stream",
     "text": [
      "WARNING:tensorflow:TensorFlow optimizers do not make it possible to access optimizer attributes or optimizer state after instantiation. As a result, we cannot save the optimizer as part of the model save file. You will have to compile your model again after loading it. Prefer using a Keras optimizer instead (see keras.io/optimizers).\n"
     ]
    }
   ],
   "source": [
    "sweep_id = wandb.sweep(sweep_config,\n",
    "                       entity = 'm05', # 고유명사\n",
    "                       project = '1st_extra_sweep') # 변동가능\n",
    "\n",
    "# run the sweep\n",
    "wandb.agent(sweep_id,\n",
    "            count=10, # 10회만 돌린다.\n",
    "            function=train)"
   ]
  },
  {
   "cell_type": "markdown",
   "id": "0ac0280c",
   "metadata": {},
   "source": [
    "### Load_weights"
   ]
  },
  {
   "cell_type": "code",
   "execution_count": 16,
   "id": "f446b37d",
   "metadata": {},
   "outputs": [],
   "source": [
    "# layer_num = 12\n",
    "model = load_trained_model_from_checkpoint(\n",
    "    config_path,\n",
    "    checkpoint_path,\n",
    "    \n",
    "# 미리 학습된 모델을 사용하여 새 데이터에 대한 예측을 수행하려는 경우 \"training = False\n",
    "#     training=True, # 새 데이터에서 모델을 계속 훈련 \n",
    "#     trainable=True,\n",
    "    \n",
    "    seq_len=SEQ_LEN,) # 최대 문장의 길이 256"
   ]
  },
  {
   "cell_type": "code",
   "execution_count": 17,
   "id": "ae1d40a7",
   "metadata": {},
   "outputs": [],
   "source": [
    "def load_model(model):\n",
    "     # trainable 설정\n",
    "    for layer in model.layers[:-1]:\n",
    "        layer.trainable = False\n",
    "\n",
    "    # Unfreeze the target layer and all subsequent layers\n",
    "    for layer in model.layers[-1:]:\n",
    "        layer.trainable = True\n",
    "    \n",
    "    \n",
    "    inputs = model.inputs[:3]\n",
    "    dense = model.layers[-1].output\n",
    "    \n",
    "    x = GlobalMaxPooling1D(name=\"GMP\")(dense)\n",
    "    x = tf.keras.layers.BatchNormalization()(x)\n",
    "    x = keras.layers.Dense(256, activation='relu', name=\"1st_dense\")(x)\n",
    "    \n",
    "    x = tf.keras.layers.BatchNormalization()(x)\n",
    "    x = keras.layers.Dense(768, activation='relu', name=\"2st_dense\")(x)\n",
    "    \n",
    "    x = tf.keras.layers.BatchNormalization()(x)\n",
    "    outputs = keras.layers.Dense(1, activation='sigmoid', \n",
    "                               kernel_initializer=keras.initializers.TruncatedNormal(stddev=0.02),\n",
    "                              name = 'real_output')(x) # \n",
    "\n",
    "\n",
    "    model = keras.models.Model(inputs=inputs, outputs=outputs)\n",
    "\n",
    "    model.compile(\n",
    "                optimizer = RAdamOptimizer(learning_rate=1e-4, \n",
    "                                              weight_decay=0.025),\n",
    "                loss = \"binary_crossentropy\", \n",
    "#                 loss =tf.keras.losses.CategoricalCrossentropy(),\n",
    "                metrics= [\"accuracy\"])\n",
    "\n",
    "    return model"
   ]
  },
  {
   "cell_type": "code",
   "execution_count": 18,
   "id": "520914cc",
   "metadata": {},
   "outputs": [],
   "source": [
    "model_extra = load_model(model)"
   ]
  },
  {
   "cell_type": "code",
   "execution_count": 21,
   "id": "ea11f346",
   "metadata": {},
   "outputs": [],
   "source": [
    "path = 'multi'"
   ]
  },
  {
   "cell_type": "code",
   "execution_count": 24,
   "id": "043d5f53",
   "metadata": {},
   "outputs": [],
   "source": [
    "model_extra.load_weights(os.path.join(path,\"extra_sweep.27-0.48.h5\"))"
   ]
  },
  {
   "cell_type": "code",
   "execution_count": 25,
   "id": "ad2ba055",
   "metadata": {},
   "outputs": [
    {
     "name": "stdout",
     "output_type": "stream",
     "text": [
      "Model: \"model_2\"\n",
      "__________________________________________________________________________________________________\n",
      "Layer (type)                    Output Shape         Param #     Connected to                     \n",
      "==================================================================================================\n",
      "Input-Token (InputLayer)        [(None, 256)]        0                                            \n",
      "__________________________________________________________________________________________________\n",
      "Input-Segment (InputLayer)      [(None, 256)]        0                                            \n",
      "__________________________________________________________________________________________________\n",
      "Embedding-Token (TokenEmbedding [(None, 256, 768), ( 91812096    Input-Token[0][0]                \n",
      "__________________________________________________________________________________________________\n",
      "Embedding-Segment (Embedding)   (None, 256, 768)     1536        Input-Segment[0][0]              \n",
      "__________________________________________________________________________________________________\n",
      "Embedding-Token-Segment (Add)   (None, 256, 768)     0           Embedding-Token[0][0]            \n",
      "                                                                 Embedding-Segment[0][0]          \n",
      "__________________________________________________________________________________________________\n",
      "Embedding-Position (PositionEmb (None, 256, 768)     196608      Embedding-Token-Segment[0][0]    \n",
      "__________________________________________________________________________________________________\n",
      "Embedding-Dropout (Dropout)     (None, 256, 768)     0           Embedding-Position[0][0]         \n",
      "__________________________________________________________________________________________________\n",
      "Embedding-Norm (LayerNormalizat (None, 256, 768)     1536        Embedding-Dropout[0][0]          \n",
      "__________________________________________________________________________________________________\n",
      "Encoder-1-MultiHeadSelfAttentio (None, 256, 768)     2362368     Embedding-Norm[0][0]             \n",
      "__________________________________________________________________________________________________\n",
      "Encoder-1-MultiHeadSelfAttentio (None, 256, 768)     0           Encoder-1-MultiHeadSelfAttention[\n",
      "__________________________________________________________________________________________________\n",
      "Encoder-1-MultiHeadSelfAttentio (None, 256, 768)     0           Embedding-Norm[0][0]             \n",
      "                                                                 Encoder-1-MultiHeadSelfAttention-\n",
      "__________________________________________________________________________________________________\n",
      "Encoder-1-MultiHeadSelfAttentio (None, 256, 768)     1536        Encoder-1-MultiHeadSelfAttention-\n",
      "__________________________________________________________________________________________________\n",
      "Encoder-1-FeedForward (FeedForw (None, 256, 768)     4722432     Encoder-1-MultiHeadSelfAttention-\n",
      "__________________________________________________________________________________________________\n",
      "Encoder-1-FeedForward-Dropout ( (None, 256, 768)     0           Encoder-1-FeedForward[0][0]      \n",
      "__________________________________________________________________________________________________\n",
      "Encoder-1-FeedForward-Add (Add) (None, 256, 768)     0           Encoder-1-MultiHeadSelfAttention-\n",
      "                                                                 Encoder-1-FeedForward-Dropout[0][\n",
      "__________________________________________________________________________________________________\n",
      "Encoder-1-FeedForward-Norm (Lay (None, 256, 768)     1536        Encoder-1-FeedForward-Add[0][0]  \n",
      "__________________________________________________________________________________________________\n",
      "Encoder-2-MultiHeadSelfAttentio (None, 256, 768)     2362368     Encoder-1-FeedForward-Norm[0][0] \n",
      "__________________________________________________________________________________________________\n",
      "Encoder-2-MultiHeadSelfAttentio (None, 256, 768)     0           Encoder-2-MultiHeadSelfAttention[\n",
      "__________________________________________________________________________________________________\n",
      "Encoder-2-MultiHeadSelfAttentio (None, 256, 768)     0           Encoder-1-FeedForward-Norm[0][0] \n",
      "                                                                 Encoder-2-MultiHeadSelfAttention-\n",
      "__________________________________________________________________________________________________\n",
      "Encoder-2-MultiHeadSelfAttentio (None, 256, 768)     1536        Encoder-2-MultiHeadSelfAttention-\n",
      "__________________________________________________________________________________________________\n",
      "Encoder-2-FeedForward (FeedForw (None, 256, 768)     4722432     Encoder-2-MultiHeadSelfAttention-\n",
      "__________________________________________________________________________________________________\n",
      "Encoder-2-FeedForward-Dropout ( (None, 256, 768)     0           Encoder-2-FeedForward[0][0]      \n",
      "__________________________________________________________________________________________________\n",
      "Encoder-2-FeedForward-Add (Add) (None, 256, 768)     0           Encoder-2-MultiHeadSelfAttention-\n",
      "                                                                 Encoder-2-FeedForward-Dropout[0][\n",
      "__________________________________________________________________________________________________\n",
      "Encoder-2-FeedForward-Norm (Lay (None, 256, 768)     1536        Encoder-2-FeedForward-Add[0][0]  \n",
      "__________________________________________________________________________________________________\n",
      "Encoder-3-MultiHeadSelfAttentio (None, 256, 768)     2362368     Encoder-2-FeedForward-Norm[0][0] \n",
      "__________________________________________________________________________________________________\n",
      "Encoder-3-MultiHeadSelfAttentio (None, 256, 768)     0           Encoder-3-MultiHeadSelfAttention[\n",
      "__________________________________________________________________________________________________\n",
      "Encoder-3-MultiHeadSelfAttentio (None, 256, 768)     0           Encoder-2-FeedForward-Norm[0][0] \n",
      "                                                                 Encoder-3-MultiHeadSelfAttention-\n",
      "__________________________________________________________________________________________________\n",
      "Encoder-3-MultiHeadSelfAttentio (None, 256, 768)     1536        Encoder-3-MultiHeadSelfAttention-\n",
      "__________________________________________________________________________________________________\n",
      "Encoder-3-FeedForward (FeedForw (None, 256, 768)     4722432     Encoder-3-MultiHeadSelfAttention-\n",
      "__________________________________________________________________________________________________\n",
      "Encoder-3-FeedForward-Dropout ( (None, 256, 768)     0           Encoder-3-FeedForward[0][0]      \n",
      "__________________________________________________________________________________________________\n",
      "Encoder-3-FeedForward-Add (Add) (None, 256, 768)     0           Encoder-3-MultiHeadSelfAttention-\n",
      "                                                                 Encoder-3-FeedForward-Dropout[0][\n",
      "__________________________________________________________________________________________________\n",
      "Encoder-3-FeedForward-Norm (Lay (None, 256, 768)     1536        Encoder-3-FeedForward-Add[0][0]  \n",
      "__________________________________________________________________________________________________\n",
      "Encoder-4-MultiHeadSelfAttentio (None, 256, 768)     2362368     Encoder-3-FeedForward-Norm[0][0] \n",
      "__________________________________________________________________________________________________\n",
      "Encoder-4-MultiHeadSelfAttentio (None, 256, 768)     0           Encoder-4-MultiHeadSelfAttention[\n",
      "__________________________________________________________________________________________________\n",
      "Encoder-4-MultiHeadSelfAttentio (None, 256, 768)     0           Encoder-3-FeedForward-Norm[0][0] \n",
      "                                                                 Encoder-4-MultiHeadSelfAttention-\n",
      "__________________________________________________________________________________________________\n",
      "Encoder-4-MultiHeadSelfAttentio (None, 256, 768)     1536        Encoder-4-MultiHeadSelfAttention-\n",
      "__________________________________________________________________________________________________\n",
      "Encoder-4-FeedForward (FeedForw (None, 256, 768)     4722432     Encoder-4-MultiHeadSelfAttention-\n",
      "__________________________________________________________________________________________________\n",
      "Encoder-4-FeedForward-Dropout ( (None, 256, 768)     0           Encoder-4-FeedForward[0][0]      \n",
      "__________________________________________________________________________________________________\n",
      "Encoder-4-FeedForward-Add (Add) (None, 256, 768)     0           Encoder-4-MultiHeadSelfAttention-\n",
      "                                                                 Encoder-4-FeedForward-Dropout[0][\n",
      "__________________________________________________________________________________________________\n",
      "Encoder-4-FeedForward-Norm (Lay (None, 256, 768)     1536        Encoder-4-FeedForward-Add[0][0]  \n",
      "__________________________________________________________________________________________________\n",
      "Encoder-5-MultiHeadSelfAttentio (None, 256, 768)     2362368     Encoder-4-FeedForward-Norm[0][0] \n",
      "__________________________________________________________________________________________________\n",
      "Encoder-5-MultiHeadSelfAttentio (None, 256, 768)     0           Encoder-5-MultiHeadSelfAttention[\n",
      "__________________________________________________________________________________________________\n",
      "Encoder-5-MultiHeadSelfAttentio (None, 256, 768)     0           Encoder-4-FeedForward-Norm[0][0] \n",
      "                                                                 Encoder-5-MultiHeadSelfAttention-\n",
      "__________________________________________________________________________________________________\n",
      "Encoder-5-MultiHeadSelfAttentio (None, 256, 768)     1536        Encoder-5-MultiHeadSelfAttention-\n",
      "__________________________________________________________________________________________________\n",
      "Encoder-5-FeedForward (FeedForw (None, 256, 768)     4722432     Encoder-5-MultiHeadSelfAttention-\n",
      "__________________________________________________________________________________________________\n",
      "Encoder-5-FeedForward-Dropout ( (None, 256, 768)     0           Encoder-5-FeedForward[0][0]      \n",
      "__________________________________________________________________________________________________\n",
      "Encoder-5-FeedForward-Add (Add) (None, 256, 768)     0           Encoder-5-MultiHeadSelfAttention-\n",
      "                                                                 Encoder-5-FeedForward-Dropout[0][\n",
      "__________________________________________________________________________________________________\n",
      "Encoder-5-FeedForward-Norm (Lay (None, 256, 768)     1536        Encoder-5-FeedForward-Add[0][0]  \n",
      "__________________________________________________________________________________________________\n",
      "Encoder-6-MultiHeadSelfAttentio (None, 256, 768)     2362368     Encoder-5-FeedForward-Norm[0][0] \n",
      "__________________________________________________________________________________________________\n",
      "Encoder-6-MultiHeadSelfAttentio (None, 256, 768)     0           Encoder-6-MultiHeadSelfAttention[\n",
      "__________________________________________________________________________________________________\n",
      "Encoder-6-MultiHeadSelfAttentio (None, 256, 768)     0           Encoder-5-FeedForward-Norm[0][0] \n",
      "                                                                 Encoder-6-MultiHeadSelfAttention-\n",
      "__________________________________________________________________________________________________\n",
      "Encoder-6-MultiHeadSelfAttentio (None, 256, 768)     1536        Encoder-6-MultiHeadSelfAttention-\n",
      "__________________________________________________________________________________________________\n",
      "Encoder-6-FeedForward (FeedForw (None, 256, 768)     4722432     Encoder-6-MultiHeadSelfAttention-\n",
      "__________________________________________________________________________________________________\n",
      "Encoder-6-FeedForward-Dropout ( (None, 256, 768)     0           Encoder-6-FeedForward[0][0]      \n",
      "__________________________________________________________________________________________________\n",
      "Encoder-6-FeedForward-Add (Add) (None, 256, 768)     0           Encoder-6-MultiHeadSelfAttention-\n",
      "                                                                 Encoder-6-FeedForward-Dropout[0][\n",
      "__________________________________________________________________________________________________\n",
      "Encoder-6-FeedForward-Norm (Lay (None, 256, 768)     1536        Encoder-6-FeedForward-Add[0][0]  \n",
      "__________________________________________________________________________________________________\n",
      "Encoder-7-MultiHeadSelfAttentio (None, 256, 768)     2362368     Encoder-6-FeedForward-Norm[0][0] \n",
      "__________________________________________________________________________________________________\n",
      "Encoder-7-MultiHeadSelfAttentio (None, 256, 768)     0           Encoder-7-MultiHeadSelfAttention[\n",
      "__________________________________________________________________________________________________\n",
      "Encoder-7-MultiHeadSelfAttentio (None, 256, 768)     0           Encoder-6-FeedForward-Norm[0][0] \n",
      "                                                                 Encoder-7-MultiHeadSelfAttention-\n",
      "__________________________________________________________________________________________________\n",
      "Encoder-7-MultiHeadSelfAttentio (None, 256, 768)     1536        Encoder-7-MultiHeadSelfAttention-\n",
      "__________________________________________________________________________________________________\n",
      "Encoder-7-FeedForward (FeedForw (None, 256, 768)     4722432     Encoder-7-MultiHeadSelfAttention-\n",
      "__________________________________________________________________________________________________\n",
      "Encoder-7-FeedForward-Dropout ( (None, 256, 768)     0           Encoder-7-FeedForward[0][0]      \n",
      "__________________________________________________________________________________________________\n",
      "Encoder-7-FeedForward-Add (Add) (None, 256, 768)     0           Encoder-7-MultiHeadSelfAttention-\n",
      "                                                                 Encoder-7-FeedForward-Dropout[0][\n",
      "__________________________________________________________________________________________________\n",
      "Encoder-7-FeedForward-Norm (Lay (None, 256, 768)     1536        Encoder-7-FeedForward-Add[0][0]  \n",
      "__________________________________________________________________________________________________\n",
      "Encoder-8-MultiHeadSelfAttentio (None, 256, 768)     2362368     Encoder-7-FeedForward-Norm[0][0] \n",
      "__________________________________________________________________________________________________\n",
      "Encoder-8-MultiHeadSelfAttentio (None, 256, 768)     0           Encoder-8-MultiHeadSelfAttention[\n",
      "__________________________________________________________________________________________________\n",
      "Encoder-8-MultiHeadSelfAttentio (None, 256, 768)     0           Encoder-7-FeedForward-Norm[0][0] \n",
      "                                                                 Encoder-8-MultiHeadSelfAttention-\n",
      "__________________________________________________________________________________________________\n",
      "Encoder-8-MultiHeadSelfAttentio (None, 256, 768)     1536        Encoder-8-MultiHeadSelfAttention-\n",
      "__________________________________________________________________________________________________\n",
      "Encoder-8-FeedForward (FeedForw (None, 256, 768)     4722432     Encoder-8-MultiHeadSelfAttention-\n",
      "__________________________________________________________________________________________________\n",
      "Encoder-8-FeedForward-Dropout ( (None, 256, 768)     0           Encoder-8-FeedForward[0][0]      \n",
      "__________________________________________________________________________________________________\n",
      "Encoder-8-FeedForward-Add (Add) (None, 256, 768)     0           Encoder-8-MultiHeadSelfAttention-\n",
      "                                                                 Encoder-8-FeedForward-Dropout[0][\n",
      "__________________________________________________________________________________________________\n",
      "Encoder-8-FeedForward-Norm (Lay (None, 256, 768)     1536        Encoder-8-FeedForward-Add[0][0]  \n",
      "__________________________________________________________________________________________________\n",
      "Encoder-9-MultiHeadSelfAttentio (None, 256, 768)     2362368     Encoder-8-FeedForward-Norm[0][0] \n",
      "__________________________________________________________________________________________________\n",
      "Encoder-9-MultiHeadSelfAttentio (None, 256, 768)     0           Encoder-9-MultiHeadSelfAttention[\n",
      "__________________________________________________________________________________________________\n",
      "Encoder-9-MultiHeadSelfAttentio (None, 256, 768)     0           Encoder-8-FeedForward-Norm[0][0] \n",
      "                                                                 Encoder-9-MultiHeadSelfAttention-\n",
      "__________________________________________________________________________________________________\n",
      "Encoder-9-MultiHeadSelfAttentio (None, 256, 768)     1536        Encoder-9-MultiHeadSelfAttention-\n",
      "__________________________________________________________________________________________________\n",
      "Encoder-9-FeedForward (FeedForw (None, 256, 768)     4722432     Encoder-9-MultiHeadSelfAttention-\n",
      "__________________________________________________________________________________________________\n",
      "Encoder-9-FeedForward-Dropout ( (None, 256, 768)     0           Encoder-9-FeedForward[0][0]      \n",
      "__________________________________________________________________________________________________\n",
      "Encoder-9-FeedForward-Add (Add) (None, 256, 768)     0           Encoder-9-MultiHeadSelfAttention-\n",
      "                                                                 Encoder-9-FeedForward-Dropout[0][\n",
      "__________________________________________________________________________________________________\n",
      "Encoder-9-FeedForward-Norm (Lay (None, 256, 768)     1536        Encoder-9-FeedForward-Add[0][0]  \n",
      "__________________________________________________________________________________________________\n",
      "Encoder-10-MultiHeadSelfAttenti (None, 256, 768)     2362368     Encoder-9-FeedForward-Norm[0][0] \n",
      "__________________________________________________________________________________________________\n",
      "Encoder-10-MultiHeadSelfAttenti (None, 256, 768)     0           Encoder-10-MultiHeadSelfAttention\n",
      "__________________________________________________________________________________________________\n",
      "Encoder-10-MultiHeadSelfAttenti (None, 256, 768)     0           Encoder-9-FeedForward-Norm[0][0] \n",
      "                                                                 Encoder-10-MultiHeadSelfAttention\n",
      "__________________________________________________________________________________________________\n",
      "Encoder-10-MultiHeadSelfAttenti (None, 256, 768)     1536        Encoder-10-MultiHeadSelfAttention\n",
      "__________________________________________________________________________________________________\n",
      "Encoder-10-FeedForward (FeedFor (None, 256, 768)     4722432     Encoder-10-MultiHeadSelfAttention\n",
      "__________________________________________________________________________________________________\n",
      "Encoder-10-FeedForward-Dropout  (None, 256, 768)     0           Encoder-10-FeedForward[0][0]     \n",
      "__________________________________________________________________________________________________\n",
      "Encoder-10-FeedForward-Add (Add (None, 256, 768)     0           Encoder-10-MultiHeadSelfAttention\n",
      "                                                                 Encoder-10-FeedForward-Dropout[0]\n",
      "__________________________________________________________________________________________________\n",
      "Encoder-10-FeedForward-Norm (La (None, 256, 768)     1536        Encoder-10-FeedForward-Add[0][0] \n",
      "__________________________________________________________________________________________________\n",
      "Encoder-11-MultiHeadSelfAttenti (None, 256, 768)     2362368     Encoder-10-FeedForward-Norm[0][0]\n",
      "__________________________________________________________________________________________________\n",
      "Encoder-11-MultiHeadSelfAttenti (None, 256, 768)     0           Encoder-11-MultiHeadSelfAttention\n",
      "__________________________________________________________________________________________________\n",
      "Encoder-11-MultiHeadSelfAttenti (None, 256, 768)     0           Encoder-10-FeedForward-Norm[0][0]\n",
      "                                                                 Encoder-11-MultiHeadSelfAttention\n",
      "__________________________________________________________________________________________________\n",
      "Encoder-11-MultiHeadSelfAttenti (None, 256, 768)     1536        Encoder-11-MultiHeadSelfAttention\n",
      "__________________________________________________________________________________________________\n",
      "Encoder-11-FeedForward (FeedFor (None, 256, 768)     4722432     Encoder-11-MultiHeadSelfAttention\n",
      "__________________________________________________________________________________________________\n",
      "Encoder-11-FeedForward-Dropout  (None, 256, 768)     0           Encoder-11-FeedForward[0][0]     \n",
      "__________________________________________________________________________________________________\n",
      "Encoder-11-FeedForward-Add (Add (None, 256, 768)     0           Encoder-11-MultiHeadSelfAttention\n",
      "                                                                 Encoder-11-FeedForward-Dropout[0]\n",
      "__________________________________________________________________________________________________\n",
      "Encoder-11-FeedForward-Norm (La (None, 256, 768)     1536        Encoder-11-FeedForward-Add[0][0] \n",
      "__________________________________________________________________________________________________\n",
      "Encoder-12-MultiHeadSelfAttenti (None, 256, 768)     2362368     Encoder-11-FeedForward-Norm[0][0]\n",
      "__________________________________________________________________________________________________\n",
      "Encoder-12-MultiHeadSelfAttenti (None, 256, 768)     0           Encoder-12-MultiHeadSelfAttention\n",
      "__________________________________________________________________________________________________\n",
      "Encoder-12-MultiHeadSelfAttenti (None, 256, 768)     0           Encoder-11-FeedForward-Norm[0][0]\n",
      "                                                                 Encoder-12-MultiHeadSelfAttention\n",
      "__________________________________________________________________________________________________\n",
      "Encoder-12-MultiHeadSelfAttenti (None, 256, 768)     1536        Encoder-12-MultiHeadSelfAttention\n",
      "__________________________________________________________________________________________________\n",
      "Encoder-12-FeedForward (FeedFor (None, 256, 768)     4722432     Encoder-12-MultiHeadSelfAttention\n",
      "__________________________________________________________________________________________________\n",
      "Encoder-12-FeedForward-Dropout  (None, 256, 768)     0           Encoder-12-FeedForward[0][0]     \n",
      "__________________________________________________________________________________________________\n",
      "Encoder-12-FeedForward-Add (Add (None, 256, 768)     0           Encoder-12-MultiHeadSelfAttention\n",
      "                                                                 Encoder-12-FeedForward-Dropout[0]\n",
      "__________________________________________________________________________________________________\n",
      "Encoder-12-FeedForward-Norm (La (None, 256, 768)     1536        Encoder-12-FeedForward-Add[0][0] \n",
      "__________________________________________________________________________________________________\n",
      "GMP (GlobalMaxPooling1D)        (None, 768)          0           Encoder-12-FeedForward-Norm[0][0]\n",
      "__________________________________________________________________________________________________\n",
      "batch_normalization (BatchNorma (None, 768)          3072        GMP[0][0]                        \n",
      "__________________________________________________________________________________________________\n",
      "1st_dense (Dense)               (None, 256)          196864      batch_normalization[0][0]        \n",
      "__________________________________________________________________________________________________\n",
      "batch_normalization_1 (BatchNor (None, 256)          1024        1st_dense[0][0]                  \n",
      "__________________________________________________________________________________________________\n",
      "2st_dense (Dense)               (None, 768)          197376      batch_normalization_1[0][0]      \n",
      "__________________________________________________________________________________________________\n",
      "batch_normalization_2 (BatchNor (None, 768)          3072        2st_dense[0][0]                  \n",
      "__________________________________________________________________________________________________\n",
      "real_output (Dense)             (None, 1)            769         batch_normalization_2[0][0]      \n",
      "==================================================================================================\n",
      "Total params: 177,468,417\n",
      "Trainable params: 400,129\n",
      "Non-trainable params: 177,068,288\n",
      "__________________________________________________________________________________________________\n"
     ]
    }
   ],
   "source": [
    "model_extra.summary()"
   ]
  },
  {
   "cell_type": "markdown",
   "id": "24d09344",
   "metadata": {},
   "source": [
    "### Data encoding"
   ]
  },
  {
   "cell_type": "code",
   "execution_count": 26,
   "id": "9b9890d5",
   "metadata": {},
   "outputs": [],
   "source": [
    "def convert_data(data_df):\n",
    "    global tokenizer\n",
    "    indices, targets = [], []\n",
    "    for i in tqdm(range(len(data_df))):\n",
    "        ids, segments = tokenizer.encode(data_df[DATA_COLUMN][i], max_len=SEQ_LEN) # conversation\n",
    "        indices.append(ids)\n",
    "        targets.append(data_df[LABEL_COLUMN][i]) # class\n",
    "    items = list(zip(indices, targets))\n",
    "    \n",
    "    indices, targets = zip(*items)\n",
    "    indices = np.array(indices)\n",
    "    return [indices, np.zeros_like(indices)], np.array(targets)\n",
    "\n",
    "def load_data(pandas_dataframe):\n",
    "    data_df = pandas_dataframe\n",
    "    \n",
    "    \n",
    "    data_df[DATA_COLUMN] = data_df[DATA_COLUMN].astype(str) # conversation\n",
    "\n",
    "\n",
    "    data_x, data_y = convert_data(data_df)\n",
    "\n",
    "    return data_x, data_y"
   ]
  },
  {
   "cell_type": "code",
   "execution_count": 27,
   "id": "664b1fed",
   "metadata": {},
   "outputs": [
    {
     "name": "stderr",
     "output_type": "stream",
     "text": [
      "100%|██████████| 100/100 [00:00<00:00, 1859.63it/s]\n"
     ]
    }
   ],
   "source": [
    "train_x_t, train_y_t = load_data(train_df_t)"
   ]
  },
  {
   "cell_type": "code",
   "execution_count": 28,
   "id": "b7f13176",
   "metadata": {},
   "outputs": [],
   "source": [
    "tensor = tf.convert_to_tensor(np.array(train_x_t))"
   ]
  },
  {
   "cell_type": "markdown",
   "id": "7416b317",
   "metadata": {},
   "source": [
    "---\n",
    "train_x = tf.convert_to_tensor(train_x)  \n",
    "train_x[0, :, :],train_x[1, :, :]  \n",
    "val_x = tf.convert_to_tensor(val_x)  "
   ]
  },
  {
   "cell_type": "markdown",
   "id": "56f8a746",
   "metadata": {},
   "source": [
    "### predict 1 : train_df 일부분으로 뺀 거"
   ]
  },
  {
   "cell_type": "code",
   "execution_count": 29,
   "id": "e441cd84",
   "metadata": {},
   "outputs": [
    {
     "name": "stdout",
     "output_type": "stream",
     "text": [
      "4/4 [==============================] - 7s 404ms/step\n"
     ]
    }
   ],
   "source": [
    "p = model_extra.predict(x=(tensor[0,:,:], tensor[1,:,:]), verbose=1)"
   ]
  },
  {
   "cell_type": "code",
   "execution_count": 30,
   "id": "08b86e50",
   "metadata": {
    "scrolled": true
   },
   "outputs": [
    {
     "data": {
      "text/plain": [
       "array([[0.8541627 ],\n",
       "       [0.9133216 ],\n",
       "       [0.80159545],\n",
       "       [0.74095505],\n",
       "       [0.8471909 ],\n",
       "       [0.8630834 ],\n",
       "       [0.9127383 ],\n",
       "       [0.8537537 ],\n",
       "       [0.81938636],\n",
       "       [0.8232654 ],\n",
       "       [0.862426  ],\n",
       "       [0.8573731 ],\n",
       "       [0.88749605],\n",
       "       [0.8830369 ],\n",
       "       [0.8606315 ],\n",
       "       [0.8099732 ],\n",
       "       [0.85034597],\n",
       "       [0.8437979 ],\n",
       "       [0.8924318 ],\n",
       "       [0.8324937 ],\n",
       "       [0.87852293],\n",
       "       [0.7911664 ],\n",
       "       [0.82286054],\n",
       "       [0.85601586],\n",
       "       [0.7915448 ],\n",
       "       [0.8512537 ],\n",
       "       [0.84664154],\n",
       "       [0.8757268 ],\n",
       "       [0.77075696],\n",
       "       [0.8873754 ],\n",
       "       [0.8507114 ],\n",
       "       [0.8124236 ],\n",
       "       [0.79863274],\n",
       "       [0.8258251 ],\n",
       "       [0.68374246],\n",
       "       [0.8270655 ],\n",
       "       [0.84216696],\n",
       "       [0.8073744 ],\n",
       "       [0.8514049 ],\n",
       "       [0.85849035],\n",
       "       [0.80502814],\n",
       "       [0.81427324],\n",
       "       [0.87596655],\n",
       "       [0.8683567 ],\n",
       "       [0.84250784],\n",
       "       [0.7340654 ],\n",
       "       [0.73694533],\n",
       "       [0.8503239 ],\n",
       "       [0.863334  ],\n",
       "       [0.8624707 ],\n",
       "       [0.48726964],\n",
       "       [0.55495745],\n",
       "       [0.6527183 ],\n",
       "       [0.6450472 ],\n",
       "       [0.52746576],\n",
       "       [0.7008636 ],\n",
       "       [0.47051644],\n",
       "       [0.5234478 ],\n",
       "       [0.59112984],\n",
       "       [0.54858696],\n",
       "       [0.59868646],\n",
       "       [0.59971   ],\n",
       "       [0.61638385],\n",
       "       [0.6728193 ],\n",
       "       [0.63169605],\n",
       "       [0.66311365],\n",
       "       [0.63897127],\n",
       "       [0.5651756 ],\n",
       "       [0.68397105],\n",
       "       [0.49227974],\n",
       "       [0.52909833],\n",
       "       [0.40900123],\n",
       "       [0.49224985],\n",
       "       [0.63229513],\n",
       "       [0.4176544 ],\n",
       "       [0.6220113 ],\n",
       "       [0.635346  ],\n",
       "       [0.590226  ],\n",
       "       [0.5488932 ],\n",
       "       [0.5247091 ],\n",
       "       [0.6576624 ],\n",
       "       [0.6582875 ],\n",
       "       [0.4982682 ],\n",
       "       [0.56451976],\n",
       "       [0.7886155 ],\n",
       "       [0.59877086],\n",
       "       [0.51010865],\n",
       "       [0.65825725],\n",
       "       [0.65556765],\n",
       "       [0.43134555],\n",
       "       [0.6288911 ],\n",
       "       [0.5721632 ],\n",
       "       [0.5918021 ],\n",
       "       [0.62833315],\n",
       "       [0.5961562 ],\n",
       "       [0.5853801 ],\n",
       "       [0.6595554 ],\n",
       "       [0.53671974],\n",
       "       [0.7224887 ],\n",
       "       [0.66153055]], dtype=float32)"
      ]
     },
     "execution_count": 30,
     "metadata": {},
     "output_type": "execute_result"
    }
   ],
   "source": [
    "p"
   ]
  },
  {
   "cell_type": "code",
   "execution_count": 31,
   "id": "e91aa92b",
   "metadata": {},
   "outputs": [
    {
     "data": {
      "text/html": [
       "<div>\n",
       "<style scoped>\n",
       "    .dataframe tbody tr th:only-of-type {\n",
       "        vertical-align: middle;\n",
       "    }\n",
       "\n",
       "    .dataframe tbody tr th {\n",
       "        vertical-align: top;\n",
       "    }\n",
       "\n",
       "    .dataframe thead th {\n",
       "        text-align: right;\n",
       "    }\n",
       "</style>\n",
       "<table border=\"1\" class=\"dataframe\">\n",
       "  <thead>\n",
       "    <tr style=\"text-align: right;\">\n",
       "      <th></th>\n",
       "      <th>class</th>\n",
       "      <th>conversation</th>\n",
       "    </tr>\n",
       "  </thead>\n",
       "  <tbody>\n",
       "    <tr>\n",
       "      <th>0</th>\n",
       "      <td>일상대화</td>\n",
       "      <td>올해 수능에서도 수험생들 마스크 끼고 시험쳐야한대\\n2차백신까지 맞았어도?\\n응 예...</td>\n",
       "    </tr>\n",
       "    <tr>\n",
       "      <th>1</th>\n",
       "      <td>일상대화</td>\n",
       "      <td>다들 무신사 많이 써?\\n나 완전 많이 쓰지 잘 못 사지만\\n키키 옷 사기 맨날 실...</td>\n",
       "    </tr>\n",
       "    <tr>\n",
       "      <th>2</th>\n",
       "      <td>일상대화</td>\n",
       "      <td>네가 추천해준 가비지타임이라는 웹툰 정말 재미있더라\\n네가 농구 좋아해서 그것도 좋...</td>\n",
       "    </tr>\n",
       "    <tr>\n",
       "      <th>3</th>\n",
       "      <td>일상대화</td>\n",
       "      <td>나 본캐 바꾸려고\\n헐? 왜?\\n갑자기 아델이 재미없어졌어\\n근데 본캐 바꾸기엔 레...</td>\n",
       "    </tr>\n",
       "    <tr>\n",
       "      <th>4</th>\n",
       "      <td>일상대화</td>\n",
       "      <td>미용실 자주 가는 편?\\n나 머리 잘랐는데 망망\\n미용사 미워,...\\n나는 삼 사...</td>\n",
       "    </tr>\n",
       "    <tr>\n",
       "      <th>...</th>\n",
       "      <td>...</td>\n",
       "      <td>...</td>\n",
       "    </tr>\n",
       "    <tr>\n",
       "      <th>95</th>\n",
       "      <td>위협대화</td>\n",
       "      <td>외국인들은 나이가 몇살인지 감이 전혀 안오네\\n양키들 10대 후반 지나면 폭삭 늙잔...</td>\n",
       "    </tr>\n",
       "    <tr>\n",
       "      <th>96</th>\n",
       "      <td>위협대화</td>\n",
       "      <td>아니 근데 저 여자도 똑같이 더러운인간이면서 왜저렇게 나대는거야\\n아니 내말이 진짜...</td>\n",
       "    </tr>\n",
       "    <tr>\n",
       "      <th>97</th>\n",
       "      <td>위협대화</td>\n",
       "      <td>인간이 왜 보고 장난이냐\\n엄청예쁘구만쩝\\n세숫대야 웃긴다\\n성격은 어떨까\\n으냄새...</td>\n",
       "    </tr>\n",
       "    <tr>\n",
       "      <th>98</th>\n",
       "      <td>위협대화</td>\n",
       "      <td>자기 감정 앞세워서 징징대는 애들 너무 싫다\\n그런 애들은 아빠한테 골프채로 맞은 ...</td>\n",
       "    </tr>\n",
       "    <tr>\n",
       "      <th>99</th>\n",
       "      <td>위협대화</td>\n",
       "      <td>식당에 손님으로 아재들이 웃기지도 않은 이야기하면서 드립 치는 거 너무 잣 같음\\n...</td>\n",
       "    </tr>\n",
       "  </tbody>\n",
       "</table>\n",
       "<p>100 rows × 2 columns</p>\n",
       "</div>"
      ],
      "text/plain": [
       "   class                                       conversation\n",
       "0   일상대화  올해 수능에서도 수험생들 마스크 끼고 시험쳐야한대\\n2차백신까지 맞았어도?\\n응 예...\n",
       "1   일상대화  다들 무신사 많이 써?\\n나 완전 많이 쓰지 잘 못 사지만\\n키키 옷 사기 맨날 실...\n",
       "2   일상대화  네가 추천해준 가비지타임이라는 웹툰 정말 재미있더라\\n네가 농구 좋아해서 그것도 좋...\n",
       "3   일상대화  나 본캐 바꾸려고\\n헐? 왜?\\n갑자기 아델이 재미없어졌어\\n근데 본캐 바꾸기엔 레...\n",
       "4   일상대화  미용실 자주 가는 편?\\n나 머리 잘랐는데 망망\\n미용사 미워,...\\n나는 삼 사...\n",
       "..   ...                                                ...\n",
       "95  위협대화  외국인들은 나이가 몇살인지 감이 전혀 안오네\\n양키들 10대 후반 지나면 폭삭 늙잔...\n",
       "96  위협대화  아니 근데 저 여자도 똑같이 더러운인간이면서 왜저렇게 나대는거야\\n아니 내말이 진짜...\n",
       "97  위협대화  인간이 왜 보고 장난이냐\\n엄청예쁘구만쩝\\n세숫대야 웃긴다\\n성격은 어떨까\\n으냄새...\n",
       "98  위협대화  자기 감정 앞세워서 징징대는 애들 너무 싫다\\n그런 애들은 아빠한테 골프채로 맞은 ...\n",
       "99  위협대화  식당에 손님으로 아재들이 웃기지도 않은 이야기하면서 드립 치는 거 너무 잣 같음\\n...\n",
       "\n",
       "[100 rows x 2 columns]"
      ]
     },
     "execution_count": 31,
     "metadata": {},
     "output_type": "execute_result"
    }
   ],
   "source": [
    "train_df_t"
   ]
  },
  {
   "cell_type": "markdown",
   "id": "294df846",
   "metadata": {},
   "source": [
    "### predict 2 : dktc 데이터셋 불러와서 테스트 해보기."
   ]
  },
  {
   "cell_type": "code",
   "execution_count": 32,
   "id": "fd87b3f7",
   "metadata": {},
   "outputs": [],
   "source": [
    "dktc_df = pd.read_csv(\"DKTC_train.csv\", usecols=['class','conversation']) #dktc_train (dktc는 train만 레이블이 달려 있어서 train만 써서 확인해봄)"
   ]
  },
  {
   "cell_type": "code",
   "execution_count": 33,
   "id": "8f724122",
   "metadata": {},
   "outputs": [
    {
     "data": {
      "text/html": [
       "<div>\n",
       "<style scoped>\n",
       "    .dataframe tbody tr th:only-of-type {\n",
       "        vertical-align: middle;\n",
       "    }\n",
       "\n",
       "    .dataframe tbody tr th {\n",
       "        vertical-align: top;\n",
       "    }\n",
       "\n",
       "    .dataframe thead th {\n",
       "        text-align: right;\n",
       "    }\n",
       "</style>\n",
       "<table border=\"1\" class=\"dataframe\">\n",
       "  <thead>\n",
       "    <tr style=\"text-align: right;\">\n",
       "      <th></th>\n",
       "      <th>class</th>\n",
       "      <th>conversation</th>\n",
       "    </tr>\n",
       "  </thead>\n",
       "  <tbody>\n",
       "    <tr>\n",
       "      <th>0</th>\n",
       "      <td>협박 대화</td>\n",
       "      <td>지금 너 스스로를 죽여달라고 애원하는 것인가?\\n 아닙니다. 죄송합니다.\\n 죽을 ...</td>\n",
       "    </tr>\n",
       "    <tr>\n",
       "      <th>1</th>\n",
       "      <td>협박 대화</td>\n",
       "      <td>길동경찰서입니다.\\n9시 40분 마트에 폭발물을 설치할거다.\\n네?\\n똑바로 들어 ...</td>\n",
       "    </tr>\n",
       "    <tr>\n",
       "      <th>2</th>\n",
       "      <td>기타 괴롭힘 대화</td>\n",
       "      <td>너 되게 귀여운거 알지? 나보다 작은 남자는 첨봤어.\\n그만해. 니들 놀리는거 재미...</td>\n",
       "    </tr>\n",
       "    <tr>\n",
       "      <th>3</th>\n",
       "      <td>갈취 대화</td>\n",
       "      <td>어이 거기\\n예??\\n너 말이야 너. 이리 오라고\\n무슨 일.\\n너 옷 좋아보인다?...</td>\n",
       "    </tr>\n",
       "    <tr>\n",
       "      <th>4</th>\n",
       "      <td>갈취 대화</td>\n",
       "      <td>저기요 혹시 날이 너무 뜨겁잖아요? 저희 회사에서 이 선크림 파는데 한 번 손등에 ...</td>\n",
       "    </tr>\n",
       "    <tr>\n",
       "      <th>...</th>\n",
       "      <td>...</td>\n",
       "      <td>...</td>\n",
       "    </tr>\n",
       "    <tr>\n",
       "      <th>3945</th>\n",
       "      <td>기타 괴롭힘 대화</td>\n",
       "      <td>준하야 넌 대가리가 왜이렇게 크냐?\\n내 머리가 뭐.\\n밥먹으면 대가리만 크냐 너는...</td>\n",
       "    </tr>\n",
       "    <tr>\n",
       "      <th>3946</th>\n",
       "      <td>갈취 대화</td>\n",
       "      <td>내가 지금 너 아들 김길준 데리고 있어. 살리고 싶으면 계좌에 1억만 보내\\n예.?...</td>\n",
       "    </tr>\n",
       "    <tr>\n",
       "      <th>3947</th>\n",
       "      <td>직장 내 괴롭힘 대화</td>\n",
       "      <td>나는 씨 같은 사람 보면 참 신기하더라. 어떻게 저렇게 살지.\\n왜 그래. 들리겠어...</td>\n",
       "    </tr>\n",
       "    <tr>\n",
       "      <th>3948</th>\n",
       "      <td>갈취 대화</td>\n",
       "      <td>누구맘대로 여기서 장사하래?\\n이게 무슨일입니까?\\n남의 구역에서 장사하려면 자릿세...</td>\n",
       "    </tr>\n",
       "    <tr>\n",
       "      <th>3949</th>\n",
       "      <td>직장 내 괴롭힘 대화</td>\n",
       "      <td>희정씨\\n네?\\n주말에 시간이 넘쳐나나봐\\n갑자기 왜그러세요?\\n손이 빤짝빤짝 네일...</td>\n",
       "    </tr>\n",
       "  </tbody>\n",
       "</table>\n",
       "<p>3950 rows × 2 columns</p>\n",
       "</div>"
      ],
      "text/plain": [
       "            class                                       conversation\n",
       "0           협박 대화  지금 너 스스로를 죽여달라고 애원하는 것인가?\\n 아닙니다. 죄송합니다.\\n 죽을 ...\n",
       "1           협박 대화  길동경찰서입니다.\\n9시 40분 마트에 폭발물을 설치할거다.\\n네?\\n똑바로 들어 ...\n",
       "2       기타 괴롭힘 대화  너 되게 귀여운거 알지? 나보다 작은 남자는 첨봤어.\\n그만해. 니들 놀리는거 재미...\n",
       "3           갈취 대화  어이 거기\\n예??\\n너 말이야 너. 이리 오라고\\n무슨 일.\\n너 옷 좋아보인다?...\n",
       "4           갈취 대화  저기요 혹시 날이 너무 뜨겁잖아요? 저희 회사에서 이 선크림 파는데 한 번 손등에 ...\n",
       "...           ...                                                ...\n",
       "3945    기타 괴롭힘 대화  준하야 넌 대가리가 왜이렇게 크냐?\\n내 머리가 뭐.\\n밥먹으면 대가리만 크냐 너는...\n",
       "3946        갈취 대화  내가 지금 너 아들 김길준 데리고 있어. 살리고 싶으면 계좌에 1억만 보내\\n예.?...\n",
       "3947  직장 내 괴롭힘 대화  나는 씨 같은 사람 보면 참 신기하더라. 어떻게 저렇게 살지.\\n왜 그래. 들리겠어...\n",
       "3948        갈취 대화  누구맘대로 여기서 장사하래?\\n이게 무슨일입니까?\\n남의 구역에서 장사하려면 자릿세...\n",
       "3949  직장 내 괴롭힘 대화  희정씨\\n네?\\n주말에 시간이 넘쳐나나봐\\n갑자기 왜그러세요?\\n손이 빤짝빤짝 네일...\n",
       "\n",
       "[3950 rows x 2 columns]"
      ]
     },
     "execution_count": 33,
     "metadata": {},
     "output_type": "execute_result"
    }
   ],
   "source": [
    "dktc_df"
   ]
  },
  {
   "cell_type": "code",
   "execution_count": 34,
   "id": "b658390d",
   "metadata": {},
   "outputs": [
    {
     "name": "stderr",
     "output_type": "stream",
     "text": [
      "100%|██████████| 3950/3950 [00:02<00:00, 1936.19it/s]\n"
     ]
    }
   ],
   "source": [
    "dktc_x , dktc_y = load_data(dktc_df)"
   ]
  },
  {
   "cell_type": "code",
   "execution_count": 35,
   "id": "b276afc4",
   "metadata": {},
   "outputs": [
    {
     "data": {
      "text/plain": [
       "[array([[   101,   9706,  40032, ...,      0,      0,      0],\n",
       "        [   101,   8934,  18778, ...,      0,      0,      0],\n",
       "        [   101,   9004,   9098, ...,      0,      0,      0],\n",
       "        ...,\n",
       "        [   101, 100585,   9516, ...,      0,      0,      0],\n",
       "        [   101,   9032,  17196, ...,      0,      0,      0],\n",
       "        [   101,  10023,  16605, ...,      0,      0,      0]]),\n",
       " array([[0, 0, 0, ..., 0, 0, 0],\n",
       "        [0, 0, 0, ..., 0, 0, 0],\n",
       "        [0, 0, 0, ..., 0, 0, 0],\n",
       "        ...,\n",
       "        [0, 0, 0, ..., 0, 0, 0],\n",
       "        [0, 0, 0, ..., 0, 0, 0],\n",
       "        [0, 0, 0, ..., 0, 0, 0]])]"
      ]
     },
     "execution_count": 35,
     "metadata": {},
     "output_type": "execute_result"
    }
   ],
   "source": [
    "dktc_x"
   ]
  },
  {
   "cell_type": "code",
   "execution_count": 36,
   "id": "dfe0d942",
   "metadata": {},
   "outputs": [],
   "source": [
    "tensor_dktc = tf.convert_to_tensor(np.array(dktc_x))"
   ]
  },
  {
   "cell_type": "code",
   "execution_count": 37,
   "id": "cd563051",
   "metadata": {},
   "outputs": [
    {
     "name": "stdout",
     "output_type": "stream",
     "text": [
      "124/124 [==============================] - 75s 601ms/step\n"
     ]
    }
   ],
   "source": [
    "p2 = model_extra.predict(x=(tensor_dktc[0,:,:], tensor_dktc[1,:,:]), verbose=1)"
   ]
  },
  {
   "cell_type": "code",
   "execution_count": 38,
   "id": "43a1d71f",
   "metadata": {},
   "outputs": [],
   "source": [
    "np.set_printoptions(threshold=np.inf)"
   ]
  },
  {
   "cell_type": "code",
   "execution_count": 39,
   "id": "626b76b6",
   "metadata": {},
   "outputs": [
    {
     "data": {
      "text/plain": [
       "array([[0.81259763],\n",
       "       [0.78753245],\n",
       "       [0.8169827 ],\n",
       "       [0.5499896 ],\n",
       "       [0.8927549 ],\n",
       "       [0.8614259 ],\n",
       "       [0.82730615],\n",
       "       [0.88624156],\n",
       "       [0.77648044],\n",
       "       [0.8152153 ],\n",
       "       [0.80438155],\n",
       "       [0.7531689 ],\n",
       "       [0.87285274],\n",
       "       [0.79886407],\n",
       "       [0.82578564],\n",
       "       [0.7852048 ],\n",
       "       [0.6828916 ],\n",
       "       [0.6990942 ],\n",
       "       [0.6942336 ],\n",
       "       [0.8341991 ],\n",
       "       [0.86575425],\n",
       "       [0.7225031 ],\n",
       "       [0.67104346],\n",
       "       [0.8309041 ],\n",
       "       [0.8868462 ],\n",
       "       [0.7340534 ],\n",
       "       [0.8504095 ],\n",
       "       [0.83627343],\n",
       "       [0.7192826 ],\n",
       "       [0.7481024 ],\n",
       "       [0.8227325 ],\n",
       "       [0.7961058 ],\n",
       "       [0.8207298 ],\n",
       "       [0.78747654],\n",
       "       [0.68713313],\n",
       "       [0.66900486],\n",
       "       [0.76819766],\n",
       "       [0.7512221 ],\n",
       "       [0.8225511 ],\n",
       "       [0.79676205],\n",
       "       [0.665672  ],\n",
       "       [0.8205601 ],\n",
       "       [0.7467665 ],\n",
       "       [0.8341277 ],\n",
       "       [0.8285322 ],\n",
       "       [0.7282777 ],\n",
       "       [0.8266344 ],\n",
       "       [0.8309225 ],\n",
       "       [0.62916523],\n",
       "       [0.8659724 ],\n",
       "       [0.84712493],\n",
       "       [0.69444513],\n",
       "       [0.8136622 ],\n",
       "       [0.5774488 ],\n",
       "       [0.8088825 ],\n",
       "       [0.85880005],\n",
       "       [0.62707424],\n",
       "       [0.682049  ],\n",
       "       [0.6845616 ],\n",
       "       [0.723254  ],\n",
       "       [0.79454994],\n",
       "       [0.8637614 ],\n",
       "       [0.69007295],\n",
       "       [0.8495108 ],\n",
       "       [0.79356205],\n",
       "       [0.73262984],\n",
       "       [0.8841268 ],\n",
       "       [0.8004773 ],\n",
       "       [0.79550844],\n",
       "       [0.7167011 ],\n",
       "       [0.87889767],\n",
       "       [0.8961265 ],\n",
       "       [0.84552217],\n",
       "       [0.7340062 ],\n",
       "       [0.8369266 ],\n",
       "       [0.78793395],\n",
       "       [0.69140685],\n",
       "       [0.6667589 ],\n",
       "       [0.8078217 ],\n",
       "       [0.79242456],\n",
       "       [0.8179301 ],\n",
       "       [0.8343499 ],\n",
       "       [0.6975647 ],\n",
       "       [0.6340682 ],\n",
       "       [0.66995233],\n",
       "       [0.72650474],\n",
       "       [0.85868543],\n",
       "       [0.83515155],\n",
       "       [0.8519993 ],\n",
       "       [0.75090235],\n",
       "       [0.7027574 ],\n",
       "       [0.79151314],\n",
       "       [0.8656554 ],\n",
       "       [0.7437967 ],\n",
       "       [0.72296286],\n",
       "       [0.66781676],\n",
       "       [0.8872791 ],\n",
       "       [0.81574607],\n",
       "       [0.8091178 ],\n",
       "       [0.8453269 ],\n",
       "       [0.7826054 ],\n",
       "       [0.78825885],\n",
       "       [0.84124285],\n",
       "       [0.68408084],\n",
       "       [0.8533859 ],\n",
       "       [0.5953855 ],\n",
       "       [0.6719776 ],\n",
       "       [0.756633  ],\n",
       "       [0.7690369 ],\n",
       "       [0.7511416 ],\n",
       "       [0.83528405],\n",
       "       [0.7933909 ],\n",
       "       [0.77939093],\n",
       "       [0.7741199 ],\n",
       "       [0.7198048 ],\n",
       "       [0.70871234],\n",
       "       [0.81523854],\n",
       "       [0.7806292 ],\n",
       "       [0.65314287],\n",
       "       [0.74030066],\n",
       "       [0.67459077],\n",
       "       [0.72813904],\n",
       "       [0.58171684],\n",
       "       [0.86696404],\n",
       "       [0.8543306 ],\n",
       "       [0.8130267 ],\n",
       "       [0.724676  ],\n",
       "       [0.6844747 ],\n",
       "       [0.7499772 ],\n",
       "       [0.6022063 ],\n",
       "       [0.8292702 ],\n",
       "       [0.8101241 ],\n",
       "       [0.7826872 ],\n",
       "       [0.79103035],\n",
       "       [0.8383948 ],\n",
       "       [0.8340828 ],\n",
       "       [0.6906405 ],\n",
       "       [0.8842469 ],\n",
       "       [0.7527915 ],\n",
       "       [0.8521133 ],\n",
       "       [0.6917893 ],\n",
       "       [0.84834754],\n",
       "       [0.8866723 ],\n",
       "       [0.7462628 ],\n",
       "       [0.8824461 ],\n",
       "       [0.72750014],\n",
       "       [0.7897483 ],\n",
       "       [0.710119  ],\n",
       "       [0.6395404 ],\n",
       "       [0.7631809 ],\n",
       "       [0.70355386],\n",
       "       [0.8783488 ],\n",
       "       [0.58470297],\n",
       "       [0.7908487 ],\n",
       "       [0.652002  ],\n",
       "       [0.8175645 ],\n",
       "       [0.72109765],\n",
       "       [0.6907117 ],\n",
       "       [0.7760883 ],\n",
       "       [0.8090529 ],\n",
       "       [0.87598395],\n",
       "       [0.63186073],\n",
       "       [0.8179644 ],\n",
       "       [0.8145444 ],\n",
       "       [0.8710918 ],\n",
       "       [0.6355449 ],\n",
       "       [0.7946811 ],\n",
       "       [0.62931913],\n",
       "       [0.8025286 ],\n",
       "       [0.8115258 ],\n",
       "       [0.80751246],\n",
       "       [0.7861598 ],\n",
       "       [0.87110364],\n",
       "       [0.83541536],\n",
       "       [0.8577922 ],\n",
       "       [0.7784685 ],\n",
       "       [0.78787225],\n",
       "       [0.8102416 ],\n",
       "       [0.7587501 ],\n",
       "       [0.81949234],\n",
       "       [0.68039197],\n",
       "       [0.8532876 ],\n",
       "       [0.86200076],\n",
       "       [0.8296462 ],\n",
       "       [0.801786  ],\n",
       "       [0.8689105 ],\n",
       "       [0.5847013 ],\n",
       "       [0.7277687 ],\n",
       "       [0.68887997],\n",
       "       [0.7955964 ],\n",
       "       [0.7928733 ],\n",
       "       [0.6669686 ],\n",
       "       [0.78322506],\n",
       "       [0.8448428 ],\n",
       "       [0.79559743],\n",
       "       [0.83394724],\n",
       "       [0.87748784],\n",
       "       [0.74074614],\n",
       "       [0.8148151 ],\n",
       "       [0.7205156 ],\n",
       "       [0.8899736 ],\n",
       "       [0.62069315],\n",
       "       [0.7879581 ],\n",
       "       [0.5897513 ],\n",
       "       [0.8589027 ],\n",
       "       [0.75891715],\n",
       "       [0.8838794 ],\n",
       "       [0.7985492 ],\n",
       "       [0.5289972 ],\n",
       "       [0.8440783 ],\n",
       "       [0.8033176 ],\n",
       "       [0.6360236 ],\n",
       "       [0.65730983],\n",
       "       [0.73875755],\n",
       "       [0.65800434],\n",
       "       [0.7324214 ],\n",
       "       [0.84856814],\n",
       "       [0.6719062 ],\n",
       "       [0.76274866],\n",
       "       [0.8672327 ],\n",
       "       [0.6956219 ],\n",
       "       [0.73413044],\n",
       "       [0.73859894],\n",
       "       [0.71031654],\n",
       "       [0.82002586],\n",
       "       [0.8291664 ],\n",
       "       [0.80277896],\n",
       "       [0.69703627],\n",
       "       [0.76699096],\n",
       "       [0.7317042 ],\n",
       "       [0.7149998 ],\n",
       "       [0.7055686 ],\n",
       "       [0.7203142 ],\n",
       "       [0.85287344],\n",
       "       [0.7057859 ],\n",
       "       [0.74045277],\n",
       "       [0.79957503],\n",
       "       [0.8672073 ],\n",
       "       [0.8245371 ],\n",
       "       [0.81578714],\n",
       "       [0.668689  ],\n",
       "       [0.6444593 ],\n",
       "       [0.82628685],\n",
       "       [0.8679124 ],\n",
       "       [0.8467549 ],\n",
       "       [0.7923827 ],\n",
       "       [0.76461935],\n",
       "       [0.71684587],\n",
       "       [0.76432145],\n",
       "       [0.86889017],\n",
       "       [0.75632006],\n",
       "       [0.8355729 ],\n",
       "       [0.7337684 ],\n",
       "       [0.86752206],\n",
       "       [0.8289313 ],\n",
       "       [0.8044225 ],\n",
       "       [0.86499614],\n",
       "       [0.73720485],\n",
       "       [0.8268359 ],\n",
       "       [0.8316396 ],\n",
       "       [0.8489358 ],\n",
       "       [0.6022173 ],\n",
       "       [0.79837924],\n",
       "       [0.8561304 ],\n",
       "       [0.875701  ],\n",
       "       [0.82523227],\n",
       "       [0.7672219 ],\n",
       "       [0.7475612 ],\n",
       "       [0.6461007 ],\n",
       "       [0.85749745],\n",
       "       [0.6884368 ],\n",
       "       [0.7007302 ],\n",
       "       [0.72874904],\n",
       "       [0.72297597],\n",
       "       [0.8239669 ],\n",
       "       [0.86851114],\n",
       "       [0.727073  ],\n",
       "       [0.74228597],\n",
       "       [0.84875053],\n",
       "       [0.87641114],\n",
       "       [0.7398437 ],\n",
       "       [0.68635345],\n",
       "       [0.7811254 ],\n",
       "       [0.7749968 ],\n",
       "       [0.7815572 ],\n",
       "       [0.5785396 ],\n",
       "       [0.6108005 ],\n",
       "       [0.81587404],\n",
       "       [0.7016504 ],\n",
       "       [0.80364186],\n",
       "       [0.83932644],\n",
       "       [0.80957216],\n",
       "       [0.75266653],\n",
       "       [0.50400466],\n",
       "       [0.74365956],\n",
       "       [0.7551786 ],\n",
       "       [0.84320116],\n",
       "       [0.8351176 ],\n",
       "       [0.6883037 ],\n",
       "       [0.7768343 ],\n",
       "       [0.80795467],\n",
       "       [0.5951069 ],\n",
       "       [0.8270137 ],\n",
       "       [0.7915711 ],\n",
       "       [0.75354046],\n",
       "       [0.6740368 ],\n",
       "       [0.8442289 ],\n",
       "       [0.72001743],\n",
       "       [0.8082319 ],\n",
       "       [0.6930027 ],\n",
       "       [0.8237296 ],\n",
       "       [0.7198006 ],\n",
       "       [0.8619269 ],\n",
       "       [0.61953354],\n",
       "       [0.799151  ],\n",
       "       [0.7707624 ],\n",
       "       [0.7960798 ],\n",
       "       [0.86310345],\n",
       "       [0.82340306],\n",
       "       [0.88013977],\n",
       "       [0.8055542 ],\n",
       "       [0.74761266],\n",
       "       [0.75352365],\n",
       "       [0.78337556],\n",
       "       [0.66210026],\n",
       "       [0.84531504],\n",
       "       [0.76251435],\n",
       "       [0.8005515 ],\n",
       "       [0.8597632 ],\n",
       "       [0.75669986],\n",
       "       [0.740035  ],\n",
       "       [0.846013  ],\n",
       "       [0.8594999 ],\n",
       "       [0.8445924 ],\n",
       "       [0.8726439 ],\n",
       "       [0.86462665],\n",
       "       [0.8900219 ],\n",
       "       [0.78243726],\n",
       "       [0.65486646],\n",
       "       [0.757494  ],\n",
       "       [0.7212386 ],\n",
       "       [0.6626441 ],\n",
       "       [0.759119  ],\n",
       "       [0.7881776 ],\n",
       "       [0.7071443 ],\n",
       "       [0.7400117 ],\n",
       "       [0.7906277 ],\n",
       "       [0.8390781 ],\n",
       "       [0.87036306],\n",
       "       [0.6406977 ],\n",
       "       [0.872946  ],\n",
       "       [0.8163759 ],\n",
       "       [0.7977896 ],\n",
       "       [0.56617665],\n",
       "       [0.78500915],\n",
       "       [0.7091241 ],\n",
       "       [0.83451164],\n",
       "       [0.7334085 ],\n",
       "       [0.7215933 ],\n",
       "       [0.7849325 ],\n",
       "       [0.8266729 ],\n",
       "       [0.7006363 ],\n",
       "       [0.7372295 ],\n",
       "       [0.8559505 ],\n",
       "       [0.81897736],\n",
       "       [0.729116  ],\n",
       "       [0.8693341 ],\n",
       "       [0.8538429 ],\n",
       "       [0.8094049 ],\n",
       "       [0.7918001 ],\n",
       "       [0.7878672 ],\n",
       "       [0.69123995],\n",
       "       [0.65203494],\n",
       "       [0.8412573 ],\n",
       "       [0.7426582 ],\n",
       "       [0.8436419 ],\n",
       "       [0.8019256 ],\n",
       "       [0.81362975],\n",
       "       [0.74517083],\n",
       "       [0.85948503],\n",
       "       [0.7988834 ],\n",
       "       [0.8634073 ],\n",
       "       [0.85573643],\n",
       "       [0.81405884],\n",
       "       [0.76836634],\n",
       "       [0.76161325],\n",
       "       [0.82990646],\n",
       "       [0.7491663 ],\n",
       "       [0.706811  ],\n",
       "       [0.76760095],\n",
       "       [0.79925734],\n",
       "       [0.50644714],\n",
       "       [0.7481024 ],\n",
       "       [0.75704503],\n",
       "       [0.8030687 ],\n",
       "       [0.7748331 ],\n",
       "       [0.75009227],\n",
       "       [0.7419435 ],\n",
       "       [0.8736534 ],\n",
       "       [0.85570073],\n",
       "       [0.7510792 ],\n",
       "       [0.81907505],\n",
       "       [0.8428446 ],\n",
       "       [0.75629777],\n",
       "       [0.8241811 ],\n",
       "       [0.64160126],\n",
       "       [0.7509523 ],\n",
       "       [0.6800876 ],\n",
       "       [0.5875808 ],\n",
       "       [0.8473224 ],\n",
       "       [0.8754366 ],\n",
       "       [0.7530824 ],\n",
       "       [0.8603579 ],\n",
       "       [0.8256927 ],\n",
       "       [0.8281594 ],\n",
       "       [0.8508579 ],\n",
       "       [0.7331224 ],\n",
       "       [0.7390132 ],\n",
       "       [0.83665437],\n",
       "       [0.87772775],\n",
       "       [0.8473679 ],\n",
       "       [0.73359615],\n",
       "       [0.82270855],\n",
       "       [0.7837051 ],\n",
       "       [0.8254617 ],\n",
       "       [0.8616727 ],\n",
       "       [0.73489404],\n",
       "       [0.85920817],\n",
       "       [0.7806087 ],\n",
       "       [0.5953339 ],\n",
       "       [0.79355425],\n",
       "       [0.7652831 ],\n",
       "       [0.7888319 ],\n",
       "       [0.826414  ],\n",
       "       [0.85128623],\n",
       "       [0.7832626 ],\n",
       "       [0.8788771 ],\n",
       "       [0.769441  ],\n",
       "       [0.79236525],\n",
       "       [0.791415  ],\n",
       "       [0.81848305],\n",
       "       [0.8069084 ],\n",
       "       [0.80056953],\n",
       "       [0.7765013 ],\n",
       "       [0.73503774],\n",
       "       [0.8285117 ],\n",
       "       [0.72724223],\n",
       "       [0.7153643 ],\n",
       "       [0.86919105],\n",
       "       [0.7749202 ],\n",
       "       [0.80795777],\n",
       "       [0.7376089 ],\n",
       "       [0.7957277 ],\n",
       "       [0.7676844 ],\n",
       "       [0.7484143 ],\n",
       "       [0.7361404 ],\n",
       "       [0.77757424],\n",
       "       [0.8233165 ],\n",
       "       [0.84647286],\n",
       "       [0.79789686],\n",
       "       [0.84191865],\n",
       "       [0.73607385],\n",
       "       [0.86411464],\n",
       "       [0.8251515 ],\n",
       "       [0.8767469 ],\n",
       "       [0.84603935],\n",
       "       [0.8627603 ],\n",
       "       [0.84664536],\n",
       "       [0.8478237 ],\n",
       "       [0.7604132 ],\n",
       "       [0.7794974 ],\n",
       "       [0.73409134],\n",
       "       [0.7422547 ],\n",
       "       [0.832392  ],\n",
       "       [0.7933462 ],\n",
       "       [0.79493433],\n",
       "       [0.7860819 ],\n",
       "       [0.85706556],\n",
       "       [0.79280686],\n",
       "       [0.8004227 ],\n",
       "       [0.60631096],\n",
       "       [0.6415689 ],\n",
       "       [0.8654857 ],\n",
       "       [0.822659  ],\n",
       "       [0.78903586],\n",
       "       [0.85373926],\n",
       "       [0.5586959 ],\n",
       "       [0.8592717 ],\n",
       "       [0.72399604],\n",
       "       [0.8321728 ],\n",
       "       [0.84903634],\n",
       "       [0.8441936 ],\n",
       "       [0.81856614],\n",
       "       [0.8368051 ],\n",
       "       [0.7940536 ],\n",
       "       [0.73020065],\n",
       "       [0.817987  ],\n",
       "       [0.73839074],\n",
       "       [0.84951454],\n",
       "       [0.8098767 ],\n",
       "       [0.8322541 ],\n",
       "       [0.77280736],\n",
       "       [0.8462185 ],\n",
       "       [0.7265577 ],\n",
       "       [0.70749354],\n",
       "       [0.58625805],\n",
       "       [0.7904582 ],\n",
       "       [0.74634504],\n",
       "       [0.7313113 ],\n",
       "       [0.809602  ],\n",
       "       [0.72281724],\n",
       "       [0.807653  ],\n",
       "       [0.7536473 ],\n",
       "       [0.77868295],\n",
       "       [0.8097648 ],\n",
       "       [0.57670915],\n",
       "       [0.84612846],\n",
       "       [0.72901356],\n",
       "       [0.66197926],\n",
       "       [0.69144464],\n",
       "       [0.7984435 ],\n",
       "       [0.7719574 ],\n",
       "       [0.7940856 ],\n",
       "       [0.7475612 ],\n",
       "       [0.87645906],\n",
       "       [0.764287  ],\n",
       "       [0.69481575],\n",
       "       [0.7795653 ],\n",
       "       [0.78599143],\n",
       "       [0.59440625],\n",
       "       [0.5826986 ],\n",
       "       [0.72188425],\n",
       "       [0.8646535 ],\n",
       "       [0.7904393 ],\n",
       "       [0.8599487 ],\n",
       "       [0.7439935 ],\n",
       "       [0.74028033],\n",
       "       [0.7073828 ],\n",
       "       [0.7490266 ],\n",
       "       [0.8604774 ],\n",
       "       [0.507836  ],\n",
       "       [0.7789234 ],\n",
       "       [0.5215752 ],\n",
       "       [0.8476043 ],\n",
       "       [0.8603423 ],\n",
       "       [0.8336442 ],\n",
       "       [0.812737  ],\n",
       "       [0.78888243],\n",
       "       [0.6095042 ],\n",
       "       [0.8753052 ],\n",
       "       [0.8665971 ],\n",
       "       [0.67481655],\n",
       "       [0.7267697 ],\n",
       "       [0.7769277 ],\n",
       "       [0.76803786],\n",
       "       [0.75196177],\n",
       "       [0.84293276],\n",
       "       [0.6338818 ],\n",
       "       [0.78437686],\n",
       "       [0.8074558 ],\n",
       "       [0.84988594],\n",
       "       [0.83509696],\n",
       "       [0.78301287],\n",
       "       [0.76268846],\n",
       "       [0.75273037],\n",
       "       [0.8325955 ],\n",
       "       [0.7128225 ],\n",
       "       [0.7500662 ],\n",
       "       [0.69151604],\n",
       "       [0.75154096],\n",
       "       [0.6564974 ],\n",
       "       [0.7816394 ],\n",
       "       [0.63525915],\n",
       "       [0.8479739 ],\n",
       "       [0.6879964 ],\n",
       "       [0.70391476],\n",
       "       [0.69341046],\n",
       "       [0.698448  ],\n",
       "       [0.82293874],\n",
       "       [0.8473538 ],\n",
       "       [0.7631427 ],\n",
       "       [0.85384613],\n",
       "       [0.8197142 ],\n",
       "       [0.8885195 ],\n",
       "       [0.8062546 ],\n",
       "       [0.7248808 ],\n",
       "       [0.85132295],\n",
       "       [0.5866333 ],\n",
       "       [0.8257134 ],\n",
       "       [0.79076487],\n",
       "       [0.8370802 ],\n",
       "       [0.6889226 ],\n",
       "       [0.8347428 ],\n",
       "       [0.52827954],\n",
       "       [0.78107077],\n",
       "       [0.777994  ],\n",
       "       [0.85546905],\n",
       "       [0.82064855],\n",
       "       [0.67409045],\n",
       "       [0.8482374 ],\n",
       "       [0.86136943],\n",
       "       [0.80518746],\n",
       "       [0.80309606],\n",
       "       [0.6034677 ],\n",
       "       [0.91400987],\n",
       "       [0.88822687],\n",
       "       [0.8203033 ],\n",
       "       [0.85094285],\n",
       "       [0.6365612 ],\n",
       "       [0.86678267],\n",
       "       [0.81489646],\n",
       "       [0.86064637],\n",
       "       [0.7487965 ],\n",
       "       [0.89108574],\n",
       "       [0.6533928 ],\n",
       "       [0.8463246 ],\n",
       "       [0.7972434 ],\n",
       "       [0.8411478 ],\n",
       "       [0.8631982 ],\n",
       "       [0.7952396 ],\n",
       "       [0.7827245 ],\n",
       "       [0.8053576 ],\n",
       "       [0.8553802 ],\n",
       "       [0.7529396 ],\n",
       "       [0.68694746],\n",
       "       [0.69231224],\n",
       "       [0.77141446],\n",
       "       [0.87421364],\n",
       "       [0.7923075 ],\n",
       "       [0.8185757 ],\n",
       "       [0.8035249 ],\n",
       "       [0.6749485 ],\n",
       "       [0.6509944 ],\n",
       "       [0.66258526],\n",
       "       [0.7724353 ],\n",
       "       [0.7829313 ],\n",
       "       [0.746554  ],\n",
       "       [0.6614357 ],\n",
       "       [0.8532483 ],\n",
       "       [0.6202393 ],\n",
       "       [0.6976583 ],\n",
       "       [0.52694935],\n",
       "       [0.8253845 ],\n",
       "       [0.84687316],\n",
       "       [0.85996556],\n",
       "       [0.8306151 ],\n",
       "       [0.81208664],\n",
       "       [0.8751495 ],\n",
       "       [0.68603724],\n",
       "       [0.8788346 ],\n",
       "       [0.78784025],\n",
       "       [0.8025501 ],\n",
       "       [0.7709201 ],\n",
       "       [0.772243  ],\n",
       "       [0.8066173 ],\n",
       "       [0.78673625],\n",
       "       [0.8670204 ],\n",
       "       [0.8112757 ],\n",
       "       [0.74856895],\n",
       "       [0.8692642 ],\n",
       "       [0.8836086 ],\n",
       "       [0.8453935 ],\n",
       "       [0.64294666],\n",
       "       [0.5505117 ],\n",
       "       [0.8336989 ],\n",
       "       [0.7791632 ],\n",
       "       [0.8208139 ],\n",
       "       [0.57169133],\n",
       "       [0.6663989 ],\n",
       "       [0.61813205],\n",
       "       [0.8908611 ],\n",
       "       [0.7168577 ],\n",
       "       [0.7769704 ],\n",
       "       [0.83436716],\n",
       "       [0.79382163],\n",
       "       [0.7658341 ],\n",
       "       [0.64790785],\n",
       "       [0.85481787],\n",
       "       [0.8196512 ],\n",
       "       [0.8929574 ],\n",
       "       [0.8798709 ],\n",
       "       [0.8092399 ],\n",
       "       [0.78607136],\n",
       "       [0.87532765],\n",
       "       [0.83039665],\n",
       "       [0.8127983 ],\n",
       "       [0.7829919 ],\n",
       "       [0.7246553 ],\n",
       "       [0.81155723],\n",
       "       [0.8376957 ],\n",
       "       [0.67307127],\n",
       "       [0.7919142 ],\n",
       "       [0.7160558 ],\n",
       "       [0.71503437],\n",
       "       [0.7519085 ],\n",
       "       [0.8306107 ],\n",
       "       [0.8488031 ],\n",
       "       [0.8214104 ],\n",
       "       [0.759818  ],\n",
       "       [0.7509411 ],\n",
       "       [0.7387136 ],\n",
       "       [0.74671525],\n",
       "       [0.7719999 ],\n",
       "       [0.67573637],\n",
       "       [0.66865927],\n",
       "       [0.87576026],\n",
       "       [0.87014025],\n",
       "       [0.5484559 ],\n",
       "       [0.7469127 ],\n",
       "       [0.8433925 ],\n",
       "       [0.81645554],\n",
       "       [0.87419444],\n",
       "       [0.6453344 ],\n",
       "       [0.7352009 ],\n",
       "       [0.8264094 ],\n",
       "       [0.8515461 ],\n",
       "       [0.65251875],\n",
       "       [0.8776044 ],\n",
       "       [0.789271  ],\n",
       "       [0.7447725 ],\n",
       "       [0.685288  ],\n",
       "       [0.8445    ],\n",
       "       [0.7222019 ],\n",
       "       [0.8524861 ],\n",
       "       [0.6813838 ],\n",
       "       [0.7395365 ],\n",
       "       [0.77956593],\n",
       "       [0.7929993 ],\n",
       "       [0.7509922 ],\n",
       "       [0.72363913],\n",
       "       [0.74450773],\n",
       "       [0.6447515 ],\n",
       "       [0.8185756 ],\n",
       "       [0.8178509 ],\n",
       "       [0.6320681 ],\n",
       "       [0.7985232 ],\n",
       "       [0.66271967],\n",
       "       [0.6362391 ],\n",
       "       [0.60592926],\n",
       "       [0.77316207],\n",
       "       [0.7361003 ],\n",
       "       [0.7318856 ],\n",
       "       [0.8581264 ],\n",
       "       [0.5622966 ],\n",
       "       [0.6606043 ],\n",
       "       [0.8154737 ],\n",
       "       [0.8247864 ],\n",
       "       [0.76242244],\n",
       "       [0.8195951 ],\n",
       "       [0.88567454],\n",
       "       [0.8370506 ],\n",
       "       [0.8517113 ],\n",
       "       [0.79671973],\n",
       "       [0.6982596 ],\n",
       "       [0.82055044],\n",
       "       [0.8380417 ],\n",
       "       [0.7260051 ],\n",
       "       [0.82130224],\n",
       "       [0.7106148 ],\n",
       "       [0.6672843 ],\n",
       "       [0.67727107],\n",
       "       [0.7044898 ],\n",
       "       [0.65261585],\n",
       "       [0.8105529 ],\n",
       "       [0.7978535 ],\n",
       "       [0.75187886],\n",
       "       [0.7471402 ],\n",
       "       [0.7882714 ],\n",
       "       [0.8116485 ],\n",
       "       [0.771658  ],\n",
       "       [0.8411227 ],\n",
       "       [0.58482224],\n",
       "       [0.8854612 ],\n",
       "       [0.8547303 ],\n",
       "       [0.83952326],\n",
       "       [0.8909162 ],\n",
       "       [0.7500847 ],\n",
       "       [0.8983508 ],\n",
       "       [0.77254474],\n",
       "       [0.7219077 ],\n",
       "       [0.5633471 ],\n",
       "       [0.8584178 ],\n",
       "       [0.64502907],\n",
       "       [0.79295564],\n",
       "       [0.851439  ],\n",
       "       [0.8660988 ],\n",
       "       [0.74049306],\n",
       "       [0.8165888 ],\n",
       "       [0.7632605 ],\n",
       "       [0.6749485 ],\n",
       "       [0.8848303 ],\n",
       "       [0.85492206],\n",
       "       [0.86414534],\n",
       "       [0.7328331 ],\n",
       "       [0.7232593 ],\n",
       "       [0.84443456],\n",
       "       [0.75488514],\n",
       "       [0.84289753],\n",
       "       [0.83474636],\n",
       "       [0.8070703 ],\n",
       "       [0.74268866],\n",
       "       [0.82026404],\n",
       "       [0.745704  ],\n",
       "       [0.6251791 ],\n",
       "       [0.55813086],\n",
       "       [0.7484472 ],\n",
       "       [0.731391  ],\n",
       "       [0.5025798 ],\n",
       "       [0.72818035],\n",
       "       [0.89016116],\n",
       "       [0.68634915],\n",
       "       [0.7321447 ],\n",
       "       [0.78144354],\n",
       "       [0.80239147],\n",
       "       [0.8623512 ],\n",
       "       [0.8298443 ],\n",
       "       [0.7921224 ],\n",
       "       [0.81905794],\n",
       "       [0.8473393 ],\n",
       "       [0.8965553 ],\n",
       "       [0.84849393],\n",
       "       [0.75317043],\n",
       "       [0.7279891 ],\n",
       "       [0.8069199 ],\n",
       "       [0.74049306],\n",
       "       [0.7392239 ],\n",
       "       [0.8337514 ],\n",
       "       [0.7421136 ],\n",
       "       [0.7841205 ],\n",
       "       [0.80193067],\n",
       "       [0.743727  ],\n",
       "       [0.84090894],\n",
       "       [0.8666399 ],\n",
       "       [0.8811892 ],\n",
       "       [0.67414737],\n",
       "       [0.9141542 ],\n",
       "       [0.78006613],\n",
       "       [0.74453425],\n",
       "       [0.76737696],\n",
       "       [0.7141497 ],\n",
       "       [0.6823964 ],\n",
       "       [0.86994374],\n",
       "       [0.8448818 ],\n",
       "       [0.8450483 ],\n",
       "       [0.779272  ],\n",
       "       [0.65037346],\n",
       "       [0.7632901 ],\n",
       "       [0.63469136],\n",
       "       [0.8215969 ],\n",
       "       [0.72523963],\n",
       "       [0.73010635],\n",
       "       [0.7990216 ],\n",
       "       [0.7411905 ],\n",
       "       [0.7505485 ],\n",
       "       [0.80466026],\n",
       "       [0.7567975 ],\n",
       "       [0.7903544 ],\n",
       "       [0.6823289 ],\n",
       "       [0.8165567 ],\n",
       "       [0.82405543],\n",
       "       [0.7547474 ],\n",
       "       [0.7373145 ],\n",
       "       [0.83476347],\n",
       "       [0.8773238 ],\n",
       "       [0.8009683 ],\n",
       "       [0.82822925],\n",
       "       [0.78837115],\n",
       "       [0.80009586],\n",
       "       [0.7456036 ],\n",
       "       [0.87014025],\n",
       "       [0.7305791 ],\n",
       "       [0.6750642 ],\n",
       "       [0.7053    ],\n",
       "       [0.8021313 ],\n",
       "       [0.84560144],\n",
       "       [0.6461994 ],\n",
       "       [0.80990565],\n",
       "       [0.6779835 ],\n",
       "       [0.6871517 ],\n",
       "       [0.61953354],\n",
       "       [0.74908775],\n",
       "       [0.86201316],\n",
       "       [0.8449789 ],\n",
       "       [0.8081666 ],\n",
       "       [0.77493954],\n",
       "       [0.83396524],\n",
       "       [0.7950757 ],\n",
       "       [0.7113152 ],\n",
       "       [0.7166499 ],\n",
       "       [0.7597118 ],\n",
       "       [0.8142644 ],\n",
       "       [0.733538  ],\n",
       "       [0.7471906 ],\n",
       "       [0.8242744 ],\n",
       "       [0.6848593 ],\n",
       "       [0.76554674],\n",
       "       [0.86377126],\n",
       "       [0.83613235],\n",
       "       [0.89044094],\n",
       "       [0.7205341 ],\n",
       "       [0.80909383],\n",
       "       [0.7988349 ],\n",
       "       [0.8216082 ],\n",
       "       [0.89022464],\n",
       "       [0.7492293 ],\n",
       "       [0.7274404 ],\n",
       "       [0.8680981 ],\n",
       "       [0.8338161 ],\n",
       "       [0.7547611 ],\n",
       "       [0.79682446],\n",
       "       [0.51020527],\n",
       "       [0.73631257],\n",
       "       [0.8551796 ],\n",
       "       [0.6652035 ],\n",
       "       [0.85862243],\n",
       "       [0.5549091 ],\n",
       "       [0.51161987],\n",
       "       [0.86141884],\n",
       "       [0.8405471 ],\n",
       "       [0.78290474],\n",
       "       [0.65244704],\n",
       "       [0.7137981 ],\n",
       "       [0.86799073],\n",
       "       [0.7802356 ],\n",
       "       [0.7782608 ],\n",
       "       [0.7355323 ],\n",
       "       [0.75601256],\n",
       "       [0.63891715],\n",
       "       [0.86626333],\n",
       "       [0.7248808 ],\n",
       "       [0.7618691 ],\n",
       "       [0.76764846],\n",
       "       [0.79837924],\n",
       "       [0.688403  ],\n",
       "       [0.8028462 ],\n",
       "       [0.8556298 ],\n",
       "       [0.6137605 ],\n",
       "       [0.7839648 ],\n",
       "       [0.8363501 ],\n",
       "       [0.7105093 ],\n",
       "       [0.8047102 ],\n",
       "       [0.750686  ],\n",
       "       [0.8746834 ],\n",
       "       [0.7402578 ],\n",
       "       [0.860046  ],\n",
       "       [0.62413806],\n",
       "       [0.66675836],\n",
       "       [0.8325476 ],\n",
       "       [0.78117305],\n",
       "       [0.83216923],\n",
       "       [0.8175094 ],\n",
       "       [0.81785405],\n",
       "       [0.6920491 ],\n",
       "       [0.8447624 ],\n",
       "       [0.78544337],\n",
       "       [0.7299928 ],\n",
       "       [0.73319954],\n",
       "       [0.79174876],\n",
       "       [0.8369455 ],\n",
       "       [0.82137126],\n",
       "       [0.7991252 ],\n",
       "       [0.8837637 ],\n",
       "       [0.74122906],\n",
       "       [0.7424382 ],\n",
       "       [0.80688024],\n",
       "       [0.89471817],\n",
       "       [0.7368613 ],\n",
       "       [0.7496541 ],\n",
       "       [0.84086055],\n",
       "       [0.8571122 ],\n",
       "       [0.7491725 ],\n",
       "       [0.7507653 ],\n",
       "       [0.7473797 ],\n",
       "       [0.5892039 ],\n",
       "       [0.82771087],\n",
       "       [0.6189555 ],\n",
       "       [0.68789274],\n",
       "       [0.80733687],\n",
       "       [0.7361538 ],\n",
       "       [0.6882273 ],\n",
       "       [0.83419406],\n",
       "       [0.68742424],\n",
       "       [0.8205487 ],\n",
       "       [0.85874575],\n",
       "       [0.7904411 ],\n",
       "       [0.661748  ],\n",
       "       [0.7057167 ],\n",
       "       [0.8168772 ],\n",
       "       [0.72243756],\n",
       "       [0.6480391 ],\n",
       "       [0.8610179 ],\n",
       "       [0.7806734 ],\n",
       "       [0.57197225],\n",
       "       [0.87549555],\n",
       "       [0.7419875 ],\n",
       "       [0.74092907],\n",
       "       [0.7731088 ],\n",
       "       [0.8657834 ],\n",
       "       [0.84296715],\n",
       "       [0.8552588 ],\n",
       "       [0.8812837 ],\n",
       "       [0.7982968 ],\n",
       "       [0.8412326 ],\n",
       "       [0.7123931 ],\n",
       "       [0.68639237],\n",
       "       [0.72774494],\n",
       "       [0.7878774 ],\n",
       "       [0.6371115 ],\n",
       "       [0.77119297],\n",
       "       [0.6518328 ],\n",
       "       [0.8794535 ],\n",
       "       [0.8250635 ],\n",
       "       [0.82869375],\n",
       "       [0.7762628 ],\n",
       "       [0.8471519 ],\n",
       "       [0.7239988 ],\n",
       "       [0.6486692 ],\n",
       "       [0.7520757 ],\n",
       "       [0.5892117 ],\n",
       "       [0.66908437],\n",
       "       [0.5729226 ],\n",
       "       [0.8788037 ],\n",
       "       [0.6425201 ],\n",
       "       [0.77888775],\n",
       "       [0.8132305 ],\n",
       "       [0.6076324 ],\n",
       "       [0.8743611 ],\n",
       "       [0.52879614],\n",
       "       [0.82188284],\n",
       "       [0.63495195],\n",
       "       [0.74601567],\n",
       "       [0.7167794 ],\n",
       "       [0.8249571 ],\n",
       "       [0.6682089 ],\n",
       "       [0.8518357 ],\n",
       "       [0.8464371 ],\n",
       "       [0.8765501 ],\n",
       "       [0.71854186],\n",
       "       [0.48621842],\n",
       "       [0.79151744],\n",
       "       [0.7287413 ],\n",
       "       [0.86796755],\n",
       "       [0.75426227],\n",
       "       [0.7807466 ],\n",
       "       [0.7828942 ],\n",
       "       [0.7680582 ],\n",
       "       [0.8039163 ],\n",
       "       [0.81420755],\n",
       "       [0.729273  ],\n",
       "       [0.58944976],\n",
       "       [0.7265464 ],\n",
       "       [0.6005227 ],\n",
       "       [0.78425103],\n",
       "       [0.8709226 ],\n",
       "       [0.82120466],\n",
       "       [0.799056  ],\n",
       "       [0.8404253 ],\n",
       "       [0.76701945],\n",
       "       [0.8644321 ],\n",
       "       [0.792836  ],\n",
       "       [0.6869438 ],\n",
       "       [0.8432788 ],\n",
       "       [0.75770885],\n",
       "       [0.8839251 ],\n",
       "       [0.7095801 ],\n",
       "       [0.86586994],\n",
       "       [0.77354866],\n",
       "       [0.731017  ],\n",
       "       [0.83240914],\n",
       "       [0.82158816],\n",
       "       [0.74395657],\n",
       "       [0.73938096],\n",
       "       [0.7967221 ],\n",
       "       [0.781623  ],\n",
       "       [0.80069184],\n",
       "       [0.8655771 ],\n",
       "       [0.79953974],\n",
       "       [0.7612844 ],\n",
       "       [0.8703432 ],\n",
       "       [0.7752481 ],\n",
       "       [0.73597896],\n",
       "       [0.8702108 ],\n",
       "       [0.7666159 ],\n",
       "       [0.73613054],\n",
       "       [0.8216594 ],\n",
       "       [0.6285648 ],\n",
       "       [0.628459  ],\n",
       "       [0.79356176],\n",
       "       [0.7753256 ],\n",
       "       [0.85315335],\n",
       "       [0.6394638 ],\n",
       "       [0.8365923 ],\n",
       "       [0.8461658 ],\n",
       "       [0.6996167 ],\n",
       "       [0.8350828 ],\n",
       "       [0.8147185 ],\n",
       "       [0.8232752 ],\n",
       "       [0.7766771 ],\n",
       "       [0.629179  ],\n",
       "       [0.7540887 ],\n",
       "       [0.72531134],\n",
       "       [0.6445608 ],\n",
       "       [0.77426314],\n",
       "       [0.82601625],\n",
       "       [0.87321264],\n",
       "       [0.7491012 ],\n",
       "       [0.769478  ],\n",
       "       [0.88318616],\n",
       "       [0.857427  ],\n",
       "       [0.71231973],\n",
       "       [0.81044304],\n",
       "       [0.76227397],\n",
       "       [0.74609077],\n",
       "       [0.8254228 ],\n",
       "       [0.7783958 ],\n",
       "       [0.73860765],\n",
       "       [0.7317334 ],\n",
       "       [0.87544173],\n",
       "       [0.6946582 ],\n",
       "       [0.8153719 ],\n",
       "       [0.7660037 ],\n",
       "       [0.8123732 ],\n",
       "       [0.7401505 ],\n",
       "       [0.7061481 ],\n",
       "       [0.4879463 ],\n",
       "       [0.8819531 ],\n",
       "       [0.77154595],\n",
       "       [0.7601829 ],\n",
       "       [0.717975  ],\n",
       "       [0.81309676],\n",
       "       [0.66271806],\n",
       "       [0.7580564 ],\n",
       "       [0.76558447],\n",
       "       [0.82845443],\n",
       "       [0.8415867 ],\n",
       "       [0.60194296],\n",
       "       [0.8477162 ],\n",
       "       [0.7841291 ],\n",
       "       [0.8412032 ],\n",
       "       [0.8380365 ],\n",
       "       [0.84404373],\n",
       "       [0.6009289 ],\n",
       "       [0.74356616],\n",
       "       [0.8615403 ],\n",
       "       [0.83397603],\n",
       "       [0.80673   ],\n",
       "       [0.74695176],\n",
       "       [0.49197698],\n",
       "       [0.8122389 ],\n",
       "       [0.7944303 ],\n",
       "       [0.6572432 ],\n",
       "       [0.8904702 ],\n",
       "       [0.78570056],\n",
       "       [0.7848544 ],\n",
       "       [0.6968296 ],\n",
       "       [0.82417274],\n",
       "       [0.6191677 ],\n",
       "       [0.47500336],\n",
       "       [0.7381371 ],\n",
       "       [0.82682914],\n",
       "       [0.7115425 ],\n",
       "       [0.6759724 ],\n",
       "       [0.82692474],\n",
       "       [0.65555346],\n",
       "       [0.560851  ],\n",
       "       [0.8850707 ],\n",
       "       [0.7966932 ],\n",
       "       [0.7681367 ],\n",
       "       [0.7554076 ],\n",
       "       [0.8333984 ],\n",
       "       [0.85565805],\n",
       "       [0.68973047],\n",
       "       [0.8011627 ],\n",
       "       [0.5730013 ],\n",
       "       [0.77895725],\n",
       "       [0.77892643],\n",
       "       [0.58290154],\n",
       "       [0.88586235],\n",
       "       [0.6807259 ],\n",
       "       [0.6308703 ],\n",
       "       [0.7287647 ],\n",
       "       [0.7363156 ],\n",
       "       [0.7734348 ],\n",
       "       [0.8197345 ],\n",
       "       [0.7644219 ],\n",
       "       [0.84393454],\n",
       "       [0.7572988 ],\n",
       "       [0.81608367],\n",
       "       [0.84553605],\n",
       "       [0.8370629 ],\n",
       "       [0.6968296 ],\n",
       "       [0.75561506],\n",
       "       [0.8190395 ],\n",
       "       [0.8137276 ],\n",
       "       [0.63474846],\n",
       "       [0.8626621 ],\n",
       "       [0.8703034 ],\n",
       "       [0.8479938 ],\n",
       "       [0.68085456],\n",
       "       [0.7683985 ],\n",
       "       [0.83075774],\n",
       "       [0.54394644],\n",
       "       [0.7409972 ],\n",
       "       [0.8812837 ],\n",
       "       [0.7913333 ],\n",
       "       [0.8446941 ],\n",
       "       [0.7177944 ],\n",
       "       [0.7858637 ],\n",
       "       [0.68094516],\n",
       "       [0.74035275],\n",
       "       [0.88517344],\n",
       "       [0.7100083 ],\n",
       "       [0.7907305 ],\n",
       "       [0.88067555],\n",
       "       [0.8155861 ],\n",
       "       [0.86729336],\n",
       "       [0.7295256 ],\n",
       "       [0.6801203 ],\n",
       "       [0.8029903 ],\n",
       "       [0.9056739 ],\n",
       "       [0.6489799 ],\n",
       "       [0.7394393 ],\n",
       "       [0.84293735],\n",
       "       [0.76799273],\n",
       "       [0.7427416 ],\n",
       "       [0.8528123 ],\n",
       "       [0.83271337],\n",
       "       [0.76532835],\n",
       "       [0.80594236],\n",
       "       [0.820822  ],\n",
       "       [0.7850792 ],\n",
       "       [0.8416068 ],\n",
       "       [0.7536166 ],\n",
       "       [0.8524276 ],\n",
       "       [0.7224274 ],\n",
       "       [0.7060173 ],\n",
       "       [0.86439556],\n",
       "       [0.58692354],\n",
       "       [0.8203316 ],\n",
       "       [0.86251616],\n",
       "       [0.61964417],\n",
       "       [0.84014225],\n",
       "       [0.70209146],\n",
       "       [0.7879902 ],\n",
       "       [0.7554648 ],\n",
       "       [0.8127088 ],\n",
       "       [0.7544366 ],\n",
       "       [0.8662762 ],\n",
       "       [0.7860149 ],\n",
       "       [0.7323159 ],\n",
       "       [0.8604609 ],\n",
       "       [0.89388627],\n",
       "       [0.8900707 ],\n",
       "       [0.5841156 ],\n",
       "       [0.8709729 ],\n",
       "       [0.8545022 ],\n",
       "       [0.8700969 ],\n",
       "       [0.79128444],\n",
       "       [0.7543176 ],\n",
       "       [0.731017  ],\n",
       "       [0.7173544 ],\n",
       "       [0.6281865 ],\n",
       "       [0.8164885 ],\n",
       "       [0.83125335],\n",
       "       [0.78331614],\n",
       "       [0.72135794],\n",
       "       [0.75228715],\n",
       "       [0.8207026 ],\n",
       "       [0.7588906 ],\n",
       "       [0.8789536 ],\n",
       "       [0.80754936],\n",
       "       [0.6209416 ],\n",
       "       [0.8028704 ],\n",
       "       [0.7555169 ],\n",
       "       [0.70356816],\n",
       "       [0.8508458 ],\n",
       "       [0.8041058 ],\n",
       "       [0.8572352 ],\n",
       "       [0.7172194 ],\n",
       "       [0.84521663],\n",
       "       [0.5971186 ],\n",
       "       [0.72756875],\n",
       "       [0.7144478 ],\n",
       "       [0.63744485],\n",
       "       [0.83192647],\n",
       "       [0.70197314],\n",
       "       [0.7771453 ],\n",
       "       [0.84165305],\n",
       "       [0.8327501 ],\n",
       "       [0.79928523],\n",
       "       [0.88371164],\n",
       "       [0.6824952 ],\n",
       "       [0.6938    ],\n",
       "       [0.88453203],\n",
       "       [0.7631391 ],\n",
       "       [0.7915558 ],\n",
       "       [0.7759171 ],\n",
       "       [0.67329264],\n",
       "       [0.74577576],\n",
       "       [0.7690762 ],\n",
       "       [0.8117206 ],\n",
       "       [0.7269854 ],\n",
       "       [0.7520195 ],\n",
       "       [0.6518972 ],\n",
       "       [0.71124023],\n",
       "       [0.78889036],\n",
       "       [0.7871983 ],\n",
       "       [0.7259297 ],\n",
       "       [0.69598347],\n",
       "       [0.8402687 ],\n",
       "       [0.7942408 ],\n",
       "       [0.804422  ],\n",
       "       [0.7691667 ],\n",
       "       [0.7760131 ],\n",
       "       [0.82285845],\n",
       "       [0.8299475 ],\n",
       "       [0.87438595],\n",
       "       [0.6944259 ],\n",
       "       [0.7285038 ],\n",
       "       [0.7510198 ],\n",
       "       [0.76208335],\n",
       "       [0.59153   ],\n",
       "       [0.71447146],\n",
       "       [0.82728624],\n",
       "       [0.862029  ],\n",
       "       [0.7491491 ],\n",
       "       [0.8717855 ],\n",
       "       [0.75577646],\n",
       "       [0.8718453 ],\n",
       "       [0.72473216],\n",
       "       [0.62617   ],\n",
       "       [0.73696417],\n",
       "       [0.8293394 ],\n",
       "       [0.85757154],\n",
       "       [0.7261535 ],\n",
       "       [0.85184807],\n",
       "       [0.6353477 ],\n",
       "       [0.7611946 ],\n",
       "       [0.8684837 ],\n",
       "       [0.84146136],\n",
       "       [0.60536724],\n",
       "       [0.85565585],\n",
       "       [0.7988735 ],\n",
       "       [0.8320725 ],\n",
       "       [0.8378937 ],\n",
       "       [0.8283299 ],\n",
       "       [0.8219969 ],\n",
       "       [0.7769326 ],\n",
       "       [0.758632  ],\n",
       "       [0.7860515 ],\n",
       "       [0.7796866 ],\n",
       "       [0.5720357 ],\n",
       "       [0.7798534 ],\n",
       "       [0.74876636],\n",
       "       [0.803619  ],\n",
       "       [0.819462  ],\n",
       "       [0.8162697 ],\n",
       "       [0.7571354 ],\n",
       "       [0.651613  ],\n",
       "       [0.7820685 ],\n",
       "       [0.74684227],\n",
       "       [0.7649538 ],\n",
       "       [0.73525584],\n",
       "       [0.7658607 ],\n",
       "       [0.7254976 ],\n",
       "       [0.7455023 ],\n",
       "       [0.8566629 ],\n",
       "       [0.891693  ],\n",
       "       [0.86978525],\n",
       "       [0.75196296],\n",
       "       [0.8445948 ],\n",
       "       [0.81850284],\n",
       "       [0.7374492 ],\n",
       "       [0.70287824],\n",
       "       [0.80200565],\n",
       "       [0.67773294],\n",
       "       [0.80565995],\n",
       "       [0.7055407 ],\n",
       "       [0.82347864],\n",
       "       [0.87679076],\n",
       "       [0.665463  ],\n",
       "       [0.86067593],\n",
       "       [0.82129896],\n",
       "       [0.89754593],\n",
       "       [0.7321637 ],\n",
       "       [0.70289624],\n",
       "       [0.7771563 ],\n",
       "       [0.82646847],\n",
       "       [0.7528196 ],\n",
       "       [0.7983851 ],\n",
       "       [0.8722473 ],\n",
       "       [0.8000913 ],\n",
       "       [0.8211328 ],\n",
       "       [0.76556414],\n",
       "       [0.7742857 ],\n",
       "       [0.77233845],\n",
       "       [0.8036604 ],\n",
       "       [0.69755507],\n",
       "       [0.8602296 ],\n",
       "       [0.7692871 ],\n",
       "       [0.85315055],\n",
       "       [0.8558191 ],\n",
       "       [0.8650788 ],\n",
       "       [0.877938  ],\n",
       "       [0.87295985],\n",
       "       [0.8350408 ],\n",
       "       [0.8717309 ],\n",
       "       [0.79800266],\n",
       "       [0.7377976 ],\n",
       "       [0.6305762 ],\n",
       "       [0.787479  ],\n",
       "       [0.65459454],\n",
       "       [0.7538937 ],\n",
       "       [0.73575234],\n",
       "       [0.75710034],\n",
       "       [0.8161479 ],\n",
       "       [0.7729813 ],\n",
       "       [0.8306606 ],\n",
       "       [0.786007  ],\n",
       "       [0.85191834],\n",
       "       [0.7943197 ],\n",
       "       [0.6856923 ],\n",
       "       [0.7496027 ],\n",
       "       [0.4933433 ],\n",
       "       [0.8118426 ],\n",
       "       [0.7932535 ],\n",
       "       [0.80909383],\n",
       "       [0.8351747 ],\n",
       "       [0.87866575],\n",
       "       [0.86622065],\n",
       "       [0.66874284],\n",
       "       [0.83453614],\n",
       "       [0.74842983],\n",
       "       [0.620421  ],\n",
       "       [0.8424801 ],\n",
       "       [0.6335625 ],\n",
       "       [0.8759569 ],\n",
       "       [0.6867212 ],\n",
       "       [0.82946354],\n",
       "       [0.704366  ],\n",
       "       [0.8081753 ],\n",
       "       [0.6545151 ],\n",
       "       [0.78143924],\n",
       "       [0.73084676],\n",
       "       [0.60062826],\n",
       "       [0.6754873 ],\n",
       "       [0.830427  ],\n",
       "       [0.6910052 ],\n",
       "       [0.6700199 ],\n",
       "       [0.8829395 ],\n",
       "       [0.7430515 ],\n",
       "       [0.68081516],\n",
       "       [0.7113759 ],\n",
       "       [0.7113759 ],\n",
       "       [0.7443697 ],\n",
       "       [0.6297386 ],\n",
       "       [0.8767444 ],\n",
       "       [0.76823425],\n",
       "       [0.62801546],\n",
       "       [0.73651123],\n",
       "       [0.7166657 ],\n",
       "       [0.7025626 ],\n",
       "       [0.5195766 ],\n",
       "       [0.86969197],\n",
       "       [0.72702044],\n",
       "       [0.6714839 ],\n",
       "       [0.8694487 ],\n",
       "       [0.78200334],\n",
       "       [0.85931796],\n",
       "       [0.7814905 ],\n",
       "       [0.66953295],\n",
       "       [0.87959945],\n",
       "       [0.7346072 ],\n",
       "       [0.8695107 ],\n",
       "       [0.8128183 ],\n",
       "       [0.8045111 ],\n",
       "       [0.8333253 ],\n",
       "       [0.6805413 ],\n",
       "       [0.86413896],\n",
       "       [0.714743  ],\n",
       "       [0.789349  ],\n",
       "       [0.76927185],\n",
       "       [0.685288  ],\n",
       "       [0.76686126],\n",
       "       [0.72263813],\n",
       "       [0.6838622 ],\n",
       "       [0.59771895],\n",
       "       [0.7872332 ],\n",
       "       [0.82849973],\n",
       "       [0.84720594],\n",
       "       [0.7613558 ],\n",
       "       [0.82414407],\n",
       "       [0.7640822 ],\n",
       "       [0.81950593],\n",
       "       [0.6733461 ],\n",
       "       [0.85503334],\n",
       "       [0.69907373],\n",
       "       [0.8259934 ],\n",
       "       [0.8254065 ],\n",
       "       [0.8244316 ],\n",
       "       [0.85761267],\n",
       "       [0.7054104 ],\n",
       "       [0.7172194 ],\n",
       "       [0.76785976],\n",
       "       [0.75317043],\n",
       "       [0.66006297],\n",
       "       [0.7053    ],\n",
       "       [0.7969189 ],\n",
       "       [0.8086976 ],\n",
       "       [0.82859576],\n",
       "       [0.73409927],\n",
       "       [0.85481673],\n",
       "       [0.8365272 ],\n",
       "       [0.81117344],\n",
       "       [0.57883465],\n",
       "       [0.7285586 ],\n",
       "       [0.82392985],\n",
       "       [0.69359   ],\n",
       "       [0.7611499 ],\n",
       "       [0.7549373 ],\n",
       "       [0.7111135 ],\n",
       "       [0.7583561 ],\n",
       "       [0.8283583 ],\n",
       "       [0.7703478 ],\n",
       "       [0.5914758 ],\n",
       "       [0.56188184],\n",
       "       [0.72037745],\n",
       "       [0.8129037 ],\n",
       "       [0.81987375],\n",
       "       [0.86193675],\n",
       "       [0.819202  ],\n",
       "       [0.67857075],\n",
       "       [0.7667218 ],\n",
       "       [0.77206695],\n",
       "       [0.82980216],\n",
       "       [0.78656167],\n",
       "       [0.73013127],\n",
       "       [0.74517083],\n",
       "       [0.78607666],\n",
       "       [0.81100005],\n",
       "       [0.7708239 ],\n",
       "       [0.7383283 ],\n",
       "       [0.8115534 ],\n",
       "       [0.8097723 ],\n",
       "       [0.7647762 ],\n",
       "       [0.8091271 ],\n",
       "       [0.7132704 ],\n",
       "       [0.80391824],\n",
       "       [0.88535017],\n",
       "       [0.85848737],\n",
       "       [0.8028665 ],\n",
       "       [0.85659456],\n",
       "       [0.76972556],\n",
       "       [0.7752395 ],\n",
       "       [0.8578384 ],\n",
       "       [0.868603  ],\n",
       "       [0.7542251 ],\n",
       "       [0.58482224],\n",
       "       [0.7458619 ],\n",
       "       [0.6517398 ],\n",
       "       [0.77028316],\n",
       "       [0.875571  ],\n",
       "       [0.81885976],\n",
       "       [0.8013554 ],\n",
       "       [0.64764714],\n",
       "       [0.7599263 ],\n",
       "       [0.63031316],\n",
       "       [0.87419444],\n",
       "       [0.74548495],\n",
       "       [0.6301636 ],\n",
       "       [0.81246173],\n",
       "       [0.8602362 ],\n",
       "       [0.7096934 ],\n",
       "       [0.7528978 ],\n",
       "       [0.86460066],\n",
       "       [0.88439906],\n",
       "       [0.78961354],\n",
       "       [0.87177   ],\n",
       "       [0.76597035],\n",
       "       [0.72009146],\n",
       "       [0.7297913 ],\n",
       "       [0.81499   ],\n",
       "       [0.833918  ],\n",
       "       [0.702595  ],\n",
       "       [0.8161448 ],\n",
       "       [0.81943023],\n",
       "       [0.75302005],\n",
       "       [0.81168675],\n",
       "       [0.77622813],\n",
       "       [0.68104434],\n",
       "       [0.83456147],\n",
       "       [0.8568226 ],\n",
       "       [0.61514723],\n",
       "       [0.6708059 ],\n",
       "       [0.748241  ],\n",
       "       [0.9185063 ],\n",
       "       [0.7064613 ],\n",
       "       [0.8601069 ],\n",
       "       [0.7627822 ],\n",
       "       [0.52505386],\n",
       "       [0.8648111 ],\n",
       "       [0.7075108 ],\n",
       "       [0.72455037],\n",
       "       [0.82335967],\n",
       "       [0.85332793],\n",
       "       [0.80485076],\n",
       "       [0.6942748 ],\n",
       "       [0.7286896 ],\n",
       "       [0.82406133],\n",
       "       [0.84840435],\n",
       "       [0.8427672 ],\n",
       "       [0.8370871 ],\n",
       "       [0.7676707 ],\n",
       "       [0.8107049 ],\n",
       "       [0.9011613 ],\n",
       "       [0.7498824 ],\n",
       "       [0.71851647],\n",
       "       [0.8024917 ],\n",
       "       [0.8733368 ],\n",
       "       [0.74543375],\n",
       "       [0.8053125 ],\n",
       "       [0.88835394],\n",
       "       [0.8307348 ],\n",
       "       [0.6159932 ],\n",
       "       [0.7761128 ],\n",
       "       [0.865098  ],\n",
       "       [0.7909259 ],\n",
       "       [0.7645442 ],\n",
       "       [0.621288  ],\n",
       "       [0.7621373 ],\n",
       "       [0.84052616],\n",
       "       [0.78358924],\n",
       "       [0.86342514],\n",
       "       [0.83900476],\n",
       "       [0.829041  ],\n",
       "       [0.76036465],\n",
       "       [0.64688766],\n",
       "       [0.7010136 ],\n",
       "       [0.8161881 ],\n",
       "       [0.7521355 ],\n",
       "       [0.75784767],\n",
       "       [0.84537226],\n",
       "       [0.7879573 ],\n",
       "       [0.8228788 ],\n",
       "       [0.7592476 ],\n",
       "       [0.7505002 ],\n",
       "       [0.89243484],\n",
       "       [0.81871283],\n",
       "       [0.71522266],\n",
       "       [0.8112223 ],\n",
       "       [0.84754926],\n",
       "       [0.82744896],\n",
       "       [0.60242593],\n",
       "       [0.804692  ],\n",
       "       [0.70519906],\n",
       "       [0.7811517 ],\n",
       "       [0.8500965 ],\n",
       "       [0.79273444],\n",
       "       [0.8621242 ],\n",
       "       [0.6228703 ],\n",
       "       [0.7052994 ],\n",
       "       [0.85779464],\n",
       "       [0.82091695],\n",
       "       [0.79510975],\n",
       "       [0.76329124],\n",
       "       [0.82996136],\n",
       "       [0.76751226],\n",
       "       [0.77511364],\n",
       "       [0.7349437 ],\n",
       "       [0.8668645 ],\n",
       "       [0.78049827],\n",
       "       [0.7159404 ],\n",
       "       [0.73226076],\n",
       "       [0.71803945],\n",
       "       [0.77931136],\n",
       "       [0.5972221 ],\n",
       "       [0.8420319 ],\n",
       "       [0.85999507],\n",
       "       [0.79954976],\n",
       "       [0.8607929 ],\n",
       "       [0.8106372 ],\n",
       "       [0.80173945],\n",
       "       [0.7814293 ],\n",
       "       [0.6834271 ],\n",
       "       [0.6268674 ],\n",
       "       [0.7295642 ],\n",
       "       [0.88797015],\n",
       "       [0.87985003],\n",
       "       [0.7462725 ],\n",
       "       [0.8584666 ],\n",
       "       [0.6388374 ],\n",
       "       [0.8067041 ],\n",
       "       [0.629364  ],\n",
       "       [0.8158853 ],\n",
       "       [0.7267867 ],\n",
       "       [0.6022161 ],\n",
       "       [0.5623716 ],\n",
       "       [0.7919628 ],\n",
       "       [0.83337694],\n",
       "       [0.86813426],\n",
       "       [0.83348066],\n",
       "       [0.5792985 ],\n",
       "       [0.79158574],\n",
       "       [0.84245414],\n",
       "       [0.7476806 ],\n",
       "       [0.872527  ],\n",
       "       [0.76573753],\n",
       "       [0.6764318 ],\n",
       "       [0.76554716],\n",
       "       [0.8652249 ],\n",
       "       [0.67607325],\n",
       "       [0.6899865 ],\n",
       "       [0.87342745],\n",
       "       [0.86979896],\n",
       "       [0.80170673],\n",
       "       [0.812743  ],\n",
       "       [0.8569993 ],\n",
       "       [0.8356518 ],\n",
       "       [0.83063936],\n",
       "       [0.81774324],\n",
       "       [0.62147063],\n",
       "       [0.837258  ],\n",
       "       [0.79730403],\n",
       "       [0.8477162 ],\n",
       "       [0.8401138 ],\n",
       "       [0.7829424 ],\n",
       "       [0.7866597 ],\n",
       "       [0.7749744 ],\n",
       "       [0.74129647],\n",
       "       [0.72391   ],\n",
       "       [0.8612612 ],\n",
       "       [0.7869359 ],\n",
       "       [0.6866382 ],\n",
       "       [0.83212584],\n",
       "       [0.767662  ],\n",
       "       [0.6829281 ],\n",
       "       [0.75488514],\n",
       "       [0.8341723 ],\n",
       "       [0.79216295],\n",
       "       [0.7016977 ],\n",
       "       [0.8673058 ],\n",
       "       [0.7207792 ],\n",
       "       [0.6839705 ],\n",
       "       [0.847249  ],\n",
       "       [0.8622642 ],\n",
       "       [0.75190115],\n",
       "       [0.80078375],\n",
       "       [0.62832993],\n",
       "       [0.59987545],\n",
       "       [0.68163955],\n",
       "       [0.8099275 ],\n",
       "       [0.88802564],\n",
       "       [0.7715049 ],\n",
       "       [0.84713393],\n",
       "       [0.8535032 ],\n",
       "       [0.7608691 ],\n",
       "       [0.83741677],\n",
       "       [0.7362785 ],\n",
       "       [0.70860577],\n",
       "       [0.8657342 ],\n",
       "       [0.6960163 ],\n",
       "       [0.8231551 ],\n",
       "       [0.8363901 ],\n",
       "       [0.7496473 ],\n",
       "       [0.8305069 ],\n",
       "       [0.8145238 ],\n",
       "       [0.8277973 ],\n",
       "       [0.7836171 ],\n",
       "       [0.83622026],\n",
       "       [0.56847733],\n",
       "       [0.8291625 ],\n",
       "       [0.7006363 ],\n",
       "       [0.75223047],\n",
       "       [0.78717667],\n",
       "       [0.70562637],\n",
       "       [0.7817224 ],\n",
       "       [0.86503637],\n",
       "       [0.71184486],\n",
       "       [0.7102735 ],\n",
       "       [0.8638676 ],\n",
       "       [0.81409234],\n",
       "       [0.5987156 ],\n",
       "       [0.7303675 ],\n",
       "       [0.8037878 ],\n",
       "       [0.7956228 ],\n",
       "       [0.8509485 ],\n",
       "       [0.78492427],\n",
       "       [0.5890629 ],\n",
       "       [0.8832871 ],\n",
       "       [0.77535605],\n",
       "       [0.72116214],\n",
       "       [0.8446897 ],\n",
       "       [0.7117441 ],\n",
       "       [0.763433  ],\n",
       "       [0.820618  ],\n",
       "       [0.74757993],\n",
       "       [0.8089516 ],\n",
       "       [0.8315714 ],\n",
       "       [0.80398375],\n",
       "       [0.82896423],\n",
       "       [0.74710697],\n",
       "       [0.7353466 ],\n",
       "       [0.60257035],\n",
       "       [0.80292875],\n",
       "       [0.8710513 ],\n",
       "       [0.829266  ],\n",
       "       [0.6788765 ],\n",
       "       [0.85356987],\n",
       "       [0.85766613],\n",
       "       [0.8571572 ],\n",
       "       [0.61850065],\n",
       "       [0.6489258 ],\n",
       "       [0.7115458 ],\n",
       "       [0.86753446],\n",
       "       [0.87412465],\n",
       "       [0.82982   ],\n",
       "       [0.87468326],\n",
       "       [0.79450774],\n",
       "       [0.88907903],\n",
       "       [0.8171852 ],\n",
       "       [0.78571725],\n",
       "       [0.6613013 ],\n",
       "       [0.80210155],\n",
       "       [0.74208117],\n",
       "       [0.72462976],\n",
       "       [0.7821861 ],\n",
       "       [0.87278026],\n",
       "       [0.7663315 ],\n",
       "       [0.7189281 ],\n",
       "       [0.75314486],\n",
       "       [0.8415867 ],\n",
       "       [0.76534677],\n",
       "       [0.8357154 ],\n",
       "       [0.6949611 ],\n",
       "       [0.86282676],\n",
       "       [0.82963884],\n",
       "       [0.8976314 ],\n",
       "       [0.8202345 ],\n",
       "       [0.7121993 ],\n",
       "       [0.8414297 ],\n",
       "       [0.874811  ],\n",
       "       [0.8861502 ],\n",
       "       [0.73485696],\n",
       "       [0.8148645 ],\n",
       "       [0.7248168 ],\n",
       "       [0.76683843],\n",
       "       [0.84090173],\n",
       "       [0.7722663 ],\n",
       "       [0.6751469 ],\n",
       "       [0.75835204],\n",
       "       [0.846381  ],\n",
       "       [0.76103723],\n",
       "       [0.8770236 ],\n",
       "       [0.85863024],\n",
       "       [0.71262425],\n",
       "       [0.87164474],\n",
       "       [0.7553804 ],\n",
       "       [0.82981837],\n",
       "       [0.85349536],\n",
       "       [0.76339805],\n",
       "       [0.6698039 ],\n",
       "       [0.77222466],\n",
       "       [0.7830509 ],\n",
       "       [0.7319592 ],\n",
       "       [0.8731223 ],\n",
       "       [0.71288943],\n",
       "       [0.83788884],\n",
       "       [0.71977645],\n",
       "       [0.77901125],\n",
       "       [0.7975926 ],\n",
       "       [0.75257194],\n",
       "       [0.8363761 ],\n",
       "       [0.7194734 ],\n",
       "       [0.8323753 ],\n",
       "       [0.7143918 ],\n",
       "       [0.78765875],\n",
       "       [0.73742396],\n",
       "       [0.67973703],\n",
       "       [0.65000576],\n",
       "       [0.81625175],\n",
       "       [0.7762895 ],\n",
       "       [0.8306235 ],\n",
       "       [0.7421286 ],\n",
       "       [0.7458919 ],\n",
       "       [0.85990906],\n",
       "       [0.69316053],\n",
       "       [0.632075  ],\n",
       "       [0.8395026 ],\n",
       "       [0.68690795],\n",
       "       [0.6506083 ],\n",
       "       [0.8338266 ],\n",
       "       [0.87945557],\n",
       "       [0.6931378 ],\n",
       "       [0.75144464],\n",
       "       [0.87303376],\n",
       "       [0.5514439 ],\n",
       "       [0.7322058 ],\n",
       "       [0.8668974 ],\n",
       "       [0.8100942 ],\n",
       "       [0.7148264 ],\n",
       "       [0.8024786 ],\n",
       "       [0.8220156 ],\n",
       "       [0.8664166 ],\n",
       "       [0.89469343],\n",
       "       [0.76116407],\n",
       "       [0.7622644 ],\n",
       "       [0.862029  ],\n",
       "       [0.79929733],\n",
       "       [0.81257826],\n",
       "       [0.7763794 ],\n",
       "       [0.89396286],\n",
       "       [0.79193646],\n",
       "       [0.81445503],\n",
       "       [0.73501474],\n",
       "       [0.831356  ],\n",
       "       [0.7822891 ],\n",
       "       [0.72937745],\n",
       "       [0.74741596],\n",
       "       [0.772805  ],\n",
       "       [0.84469324],\n",
       "       [0.84122854],\n",
       "       [0.82398224],\n",
       "       [0.6513168 ],\n",
       "       [0.7648966 ],\n",
       "       [0.8187293 ],\n",
       "       [0.77388036],\n",
       "       [0.8579072 ],\n",
       "       [0.91469574],\n",
       "       [0.8712448 ],\n",
       "       [0.8468999 ],\n",
       "       [0.85158455],\n",
       "       [0.78432524],\n",
       "       [0.6237632 ],\n",
       "       [0.8089933 ],\n",
       "       [0.81051874],\n",
       "       [0.8583261 ],\n",
       "       [0.71845245],\n",
       "       [0.82067174],\n",
       "       [0.729984  ],\n",
       "       [0.60592926],\n",
       "       [0.6909116 ],\n",
       "       [0.8295533 ],\n",
       "       [0.617314  ],\n",
       "       [0.86196834],\n",
       "       [0.68456405],\n",
       "       [0.8068364 ],\n",
       "       [0.58889073],\n",
       "       [0.7707793 ],\n",
       "       [0.6718909 ],\n",
       "       [0.80440223],\n",
       "       [0.69803226],\n",
       "       [0.8433653 ],\n",
       "       [0.6758638 ],\n",
       "       [0.47403935],\n",
       "       [0.7322196 ],\n",
       "       [0.75492024],\n",
       "       [0.71936154],\n",
       "       [0.607677  ],\n",
       "       [0.8542683 ],\n",
       "       [0.8276413 ],\n",
       "       [0.7481243 ],\n",
       "       [0.8060773 ],\n",
       "       [0.78914964],\n",
       "       [0.83960646],\n",
       "       [0.74049944],\n",
       "       [0.7294094 ],\n",
       "       [0.8272967 ],\n",
       "       [0.65612286],\n",
       "       [0.8740265 ],\n",
       "       [0.7772828 ],\n",
       "       [0.8286008 ],\n",
       "       [0.6335086 ],\n",
       "       [0.88329256],\n",
       "       [0.63474846],\n",
       "       [0.75029707],\n",
       "       [0.7179904 ],\n",
       "       [0.75357085],\n",
       "       [0.8444431 ],\n",
       "       [0.7398386 ],\n",
       "       [0.7960928 ],\n",
       "       [0.72418606],\n",
       "       [0.7968496 ],\n",
       "       [0.78895634],\n",
       "       [0.74831367],\n",
       "       [0.54764855],\n",
       "       [0.8043881 ],\n",
       "       [0.8449568 ],\n",
       "       [0.84482443],\n",
       "       [0.8804614 ],\n",
       "       [0.431902  ],\n",
       "       [0.84344906],\n",
       "       [0.7510742 ],\n",
       "       [0.73593885],\n",
       "       [0.85946494],\n",
       "       [0.6873952 ],\n",
       "       [0.6899767 ],\n",
       "       [0.7822128 ],\n",
       "       [0.8714766 ],\n",
       "       [0.83041775],\n",
       "       [0.7194303 ],\n",
       "       [0.8150367 ],\n",
       "       [0.53305954],\n",
       "       [0.7824136 ],\n",
       "       [0.7447446 ],\n",
       "       [0.83490026],\n",
       "       [0.7463883 ],\n",
       "       [0.87477374],\n",
       "       [0.6449656 ],\n",
       "       [0.7278838 ],\n",
       "       [0.705582  ],\n",
       "       [0.7305261 ],\n",
       "       [0.8856724 ],\n",
       "       [0.8850306 ],\n",
       "       [0.8823759 ],\n",
       "       [0.718874  ],\n",
       "       [0.82829213],\n",
       "       [0.7740767 ],\n",
       "       [0.7911029 ],\n",
       "       [0.81066453],\n",
       "       [0.7768288 ],\n",
       "       [0.76392484],\n",
       "       [0.7621272 ],\n",
       "       [0.6624378 ],\n",
       "       [0.8436299 ],\n",
       "       [0.7780763 ],\n",
       "       [0.8258212 ],\n",
       "       [0.7721388 ],\n",
       "       [0.7503781 ],\n",
       "       [0.6573861 ],\n",
       "       [0.8504421 ],\n",
       "       [0.7586517 ],\n",
       "       [0.76184165],\n",
       "       [0.8250635 ],\n",
       "       [0.8187881 ],\n",
       "       [0.79959095],\n",
       "       [0.7195889 ],\n",
       "       [0.74379224],\n",
       "       [0.8098598 ],\n",
       "       [0.7278091 ],\n",
       "       [0.86147344],\n",
       "       [0.6654257 ],\n",
       "       [0.77607757],\n",
       "       [0.8645814 ],\n",
       "       [0.84182876],\n",
       "       [0.80411494],\n",
       "       [0.6395011 ],\n",
       "       [0.8360287 ],\n",
       "       [0.74876356],\n",
       "       [0.7869793 ],\n",
       "       [0.79089147],\n",
       "       [0.85667014],\n",
       "       [0.60234976],\n",
       "       [0.74864733],\n",
       "       [0.8631295 ],\n",
       "       [0.69109035],\n",
       "       [0.8240539 ],\n",
       "       [0.67724895],\n",
       "       [0.76841336],\n",
       "       [0.7807663 ],\n",
       "       [0.76930106],\n",
       "       [0.7724799 ],\n",
       "       [0.69246805],\n",
       "       [0.8523262 ],\n",
       "       [0.788365  ],\n",
       "       [0.75223047],\n",
       "       [0.8036656 ],\n",
       "       [0.75633717],\n",
       "       [0.7390406 ],\n",
       "       [0.7635483 ],\n",
       "       [0.74603915],\n",
       "       [0.6189233 ],\n",
       "       [0.69863117],\n",
       "       [0.88908416],\n",
       "       [0.8657101 ],\n",
       "       [0.7460399 ],\n",
       "       [0.6225424 ],\n",
       "       [0.7409189 ],\n",
       "       [0.7007536 ],\n",
       "       [0.69806594],\n",
       "       [0.7472618 ],\n",
       "       [0.7406219 ],\n",
       "       [0.76201296],\n",
       "       [0.84879595],\n",
       "       [0.6096342 ],\n",
       "       [0.6953865 ],\n",
       "       [0.68676627],\n",
       "       [0.70742625],\n",
       "       [0.80161935],\n",
       "       [0.78639233],\n",
       "       [0.68618953],\n",
       "       [0.7417221 ],\n",
       "       [0.769326  ],\n",
       "       [0.7093613 ],\n",
       "       [0.8527369 ],\n",
       "       [0.78031915],\n",
       "       [0.6837845 ],\n",
       "       [0.8480164 ],\n",
       "       [0.69063246],\n",
       "       [0.8400776 ],\n",
       "       [0.82762736],\n",
       "       [0.68967444],\n",
       "       [0.8373144 ],\n",
       "       [0.697497  ],\n",
       "       [0.84180343],\n",
       "       [0.8493881 ],\n",
       "       [0.8581178 ],\n",
       "       [0.86702687],\n",
       "       [0.8653753 ],\n",
       "       [0.8628888 ],\n",
       "       [0.85013384],\n",
       "       [0.807341  ],\n",
       "       [0.68349725],\n",
       "       [0.8329803 ],\n",
       "       [0.8167798 ],\n",
       "       [0.881156  ],\n",
       "       [0.77639115],\n",
       "       [0.69918084],\n",
       "       [0.7076321 ],\n",
       "       [0.81067806],\n",
       "       [0.8762251 ],\n",
       "       [0.7608889 ],\n",
       "       [0.81443375],\n",
       "       [0.69572204],\n",
       "       [0.77819157],\n",
       "       [0.89242506],\n",
       "       [0.5651087 ],\n",
       "       [0.7348315 ],\n",
       "       [0.79086494],\n",
       "       [0.8253013 ],\n",
       "       [0.8018048 ],\n",
       "       [0.6845195 ],\n",
       "       [0.6911928 ],\n",
       "       [0.8146638 ],\n",
       "       [0.75053483],\n",
       "       [0.6983987 ],\n",
       "       [0.81127626],\n",
       "       [0.75421244],\n",
       "       [0.8353483 ],\n",
       "       [0.73034143],\n",
       "       [0.7739646 ],\n",
       "       [0.84067625],\n",
       "       [0.78931403],\n",
       "       [0.6648304 ],\n",
       "       [0.83975875],\n",
       "       [0.79550725],\n",
       "       [0.7341926 ],\n",
       "       [0.87689614],\n",
       "       [0.8067594 ],\n",
       "       [0.81997716],\n",
       "       [0.7214099 ],\n",
       "       [0.6849142 ],\n",
       "       [0.84546787],\n",
       "       [0.8326039 ],\n",
       "       [0.65603626],\n",
       "       [0.81517065],\n",
       "       [0.79168254],\n",
       "       [0.7146187 ],\n",
       "       [0.78823054],\n",
       "       [0.8330438 ],\n",
       "       [0.54091847],\n",
       "       [0.8094416 ],\n",
       "       [0.8638441 ],\n",
       "       [0.83409977],\n",
       "       [0.8420058 ],\n",
       "       [0.88062775],\n",
       "       [0.7466552 ],\n",
       "       [0.6998905 ],\n",
       "       [0.7680605 ],\n",
       "       [0.602616  ],\n",
       "       [0.7685588 ],\n",
       "       [0.71196824],\n",
       "       [0.8024641 ],\n",
       "       [0.8726968 ],\n",
       "       [0.6824799 ],\n",
       "       [0.88087445],\n",
       "       [0.8364351 ],\n",
       "       [0.8331556 ],\n",
       "       [0.73464227],\n",
       "       [0.80886984],\n",
       "       [0.8652884 ],\n",
       "       [0.668012  ],\n",
       "       [0.8416188 ],\n",
       "       [0.813876  ],\n",
       "       [0.76359516],\n",
       "       [0.6556483 ],\n",
       "       [0.78765875],\n",
       "       [0.6150132 ],\n",
       "       [0.8204601 ],\n",
       "       [0.7248661 ],\n",
       "       [0.84355724],\n",
       "       [0.663035  ],\n",
       "       [0.81052756],\n",
       "       [0.8011525 ],\n",
       "       [0.67307127],\n",
       "       [0.79591393],\n",
       "       [0.72634184],\n",
       "       [0.8378167 ],\n",
       "       [0.6150447 ],\n",
       "       [0.7838906 ],\n",
       "       [0.8737416 ],\n",
       "       [0.6748071 ],\n",
       "       [0.8360013 ],\n",
       "       [0.69003206],\n",
       "       [0.77030504],\n",
       "       [0.83277535],\n",
       "       [0.707213  ],\n",
       "       [0.6365697 ],\n",
       "       [0.70767355],\n",
       "       [0.8274726 ],\n",
       "       [0.70464337],\n",
       "       [0.74761826],\n",
       "       [0.8170291 ],\n",
       "       [0.82953495],\n",
       "       [0.6537031 ],\n",
       "       [0.71998197],\n",
       "       [0.80729544],\n",
       "       [0.7307071 ],\n",
       "       [0.74586976],\n",
       "       [0.8347787 ],\n",
       "       [0.8797283 ],\n",
       "       [0.84153605],\n",
       "       [0.86232424],\n",
       "       [0.7677271 ],\n",
       "       [0.791402  ],\n",
       "       [0.8344984 ],\n",
       "       [0.7968834 ],\n",
       "       [0.67724895],\n",
       "       [0.72363216],\n",
       "       [0.826125  ],\n",
       "       [0.7220741 ],\n",
       "       [0.8094244 ],\n",
       "       [0.8270141 ],\n",
       "       [0.8668605 ],\n",
       "       [0.8291239 ],\n",
       "       [0.66341966],\n",
       "       [0.79460573],\n",
       "       [0.69888765],\n",
       "       [0.717935  ],\n",
       "       [0.87371814],\n",
       "       [0.85452336],\n",
       "       [0.7428657 ],\n",
       "       [0.60173345],\n",
       "       [0.85474575],\n",
       "       [0.8404564 ],\n",
       "       [0.8331336 ],\n",
       "       [0.8541841 ],\n",
       "       [0.8445424 ],\n",
       "       [0.73588014],\n",
       "       [0.8404995 ],\n",
       "       [0.6964525 ],\n",
       "       [0.8460295 ],\n",
       "       [0.85058725],\n",
       "       [0.61494017],\n",
       "       [0.87351924],\n",
       "       [0.8764837 ],\n",
       "       [0.8600614 ],\n",
       "       [0.6654649 ],\n",
       "       [0.83499944],\n",
       "       [0.8500991 ],\n",
       "       [0.71533525],\n",
       "       [0.8871842 ],\n",
       "       [0.71073574],\n",
       "       [0.7948992 ],\n",
       "       [0.79220647],\n",
       "       [0.6680491 ],\n",
       "       [0.72459954],\n",
       "       [0.76328135],\n",
       "       [0.8323779 ],\n",
       "       [0.89520884],\n",
       "       [0.7780491 ],\n",
       "       [0.6007478 ],\n",
       "       [0.7348787 ],\n",
       "       [0.8120373 ],\n",
       "       [0.64680153],\n",
       "       [0.6948716 ],\n",
       "       [0.84633327],\n",
       "       [0.7525281 ],\n",
       "       [0.8430376 ],\n",
       "       [0.86415863],\n",
       "       [0.68713313],\n",
       "       [0.7196239 ],\n",
       "       [0.8752396 ],\n",
       "       [0.78522104],\n",
       "       [0.58858514],\n",
       "       [0.72098875],\n",
       "       [0.74461764],\n",
       "       [0.7381371 ],\n",
       "       [0.69762534],\n",
       "       [0.7124648 ],\n",
       "       [0.7990074 ],\n",
       "       [0.77428275],\n",
       "       [0.7943492 ],\n",
       "       [0.62660766],\n",
       "       [0.87907875],\n",
       "       [0.6107175 ],\n",
       "       [0.73899347],\n",
       "       [0.76279974],\n",
       "       [0.8462224 ],\n",
       "       [0.8070331 ],\n",
       "       [0.8263922 ],\n",
       "       [0.7943927 ],\n",
       "       [0.6262333 ],\n",
       "       [0.852685  ],\n",
       "       [0.70043993],\n",
       "       [0.74218124],\n",
       "       [0.6500653 ],\n",
       "       [0.58340967],\n",
       "       [0.7541595 ],\n",
       "       [0.88646543],\n",
       "       [0.6599488 ],\n",
       "       [0.88226384],\n",
       "       [0.7143218 ],\n",
       "       [0.670328  ],\n",
       "       [0.7792889 ],\n",
       "       [0.63963944],\n",
       "       [0.7300772 ],\n",
       "       [0.8245945 ],\n",
       "       [0.6162719 ],\n",
       "       [0.762087  ],\n",
       "       [0.70808005],\n",
       "       [0.78502756],\n",
       "       [0.86617476],\n",
       "       [0.7259769 ],\n",
       "       [0.8643083 ],\n",
       "       [0.7811628 ],\n",
       "       [0.7061937 ],\n",
       "       [0.8221726 ],\n",
       "       [0.73212177],\n",
       "       [0.8782358 ],\n",
       "       [0.79893047],\n",
       "       [0.8143165 ],\n",
       "       [0.80319995],\n",
       "       [0.6187582 ],\n",
       "       [0.7737773 ],\n",
       "       [0.7562486 ],\n",
       "       [0.83248746],\n",
       "       [0.8861342 ],\n",
       "       [0.66271806],\n",
       "       [0.75901145],\n",
       "       [0.7763927 ],\n",
       "       [0.8062889 ],\n",
       "       [0.7689495 ],\n",
       "       [0.78075397],\n",
       "       [0.79630554],\n",
       "       [0.81925267],\n",
       "       [0.79355156],\n",
       "       [0.67065483],\n",
       "       [0.81539077],\n",
       "       [0.79147726],\n",
       "       [0.7941635 ],\n",
       "       [0.8246285 ],\n",
       "       [0.84837765],\n",
       "       [0.7841441 ],\n",
       "       [0.8099795 ],\n",
       "       [0.87547886],\n",
       "       [0.7654073 ],\n",
       "       [0.73533535],\n",
       "       [0.7062265 ],\n",
       "       [0.67241937],\n",
       "       [0.70479065],\n",
       "       [0.8094391 ],\n",
       "       [0.83096826],\n",
       "       [0.7732082 ],\n",
       "       [0.5505117 ],\n",
       "       [0.7656637 ],\n",
       "       [0.8262784 ],\n",
       "       [0.75003755],\n",
       "       [0.8605189 ],\n",
       "       [0.811717  ],\n",
       "       [0.5863954 ],\n",
       "       [0.586246  ],\n",
       "       [0.6549024 ],\n",
       "       [0.8282698 ],\n",
       "       [0.6371815 ],\n",
       "       [0.7348315 ],\n",
       "       [0.82837325],\n",
       "       [0.8408489 ],\n",
       "       [0.78606313],\n",
       "       [0.8143312 ],\n",
       "       [0.85952014],\n",
       "       [0.7072477 ],\n",
       "       [0.86840373],\n",
       "       [0.77892154],\n",
       "       [0.8227088 ],\n",
       "       [0.72424847],\n",
       "       [0.8690403 ],\n",
       "       [0.89452684],\n",
       "       [0.81244767],\n",
       "       [0.837174  ],\n",
       "       [0.7961095 ],\n",
       "       [0.8127517 ],\n",
       "       [0.8229002 ],\n",
       "       [0.67080957],\n",
       "       [0.7109331 ],\n",
       "       [0.8432607 ],\n",
       "       [0.63031316],\n",
       "       [0.7839202 ],\n",
       "       [0.8883073 ],\n",
       "       [0.7345714 ],\n",
       "       [0.8861616 ],\n",
       "       [0.76854795],\n",
       "       [0.76677215],\n",
       "       [0.7692319 ],\n",
       "       [0.8706947 ],\n",
       "       [0.8034762 ],\n",
       "       [0.8072086 ],\n",
       "       [0.6493175 ],\n",
       "       [0.8409729 ],\n",
       "       [0.65521675],\n",
       "       [0.5570784 ],\n",
       "       [0.77607286],\n",
       "       [0.7810231 ],\n",
       "       [0.8108057 ],\n",
       "       [0.8302064 ],\n",
       "       [0.8698055 ],\n",
       "       [0.7385173 ],\n",
       "       [0.77331793],\n",
       "       [0.8505645 ],\n",
       "       [0.7586358 ],\n",
       "       [0.7084001 ],\n",
       "       [0.7814317 ],\n",
       "       [0.85343003],\n",
       "       [0.60880846],\n",
       "       [0.6801129 ],\n",
       "       [0.8287348 ],\n",
       "       [0.7629828 ],\n",
       "       [0.7035554 ],\n",
       "       [0.7819623 ],\n",
       "       [0.8178333 ],\n",
       "       [0.7438106 ],\n",
       "       [0.78368324],\n",
       "       [0.75259197],\n",
       "       [0.8018425 ],\n",
       "       [0.8488855 ],\n",
       "       [0.80862606],\n",
       "       [0.6806235 ],\n",
       "       [0.8691946 ],\n",
       "       [0.80043644],\n",
       "       [0.8103507 ],\n",
       "       [0.6938    ],\n",
       "       [0.7632132 ],\n",
       "       [0.7885631 ],\n",
       "       [0.7950038 ],\n",
       "       [0.7961058 ],\n",
       "       [0.79238355],\n",
       "       [0.7283863 ],\n",
       "       [0.64636946],\n",
       "       [0.7924924 ],\n",
       "       [0.8519038 ],\n",
       "       [0.74458534],\n",
       "       [0.84844786],\n",
       "       [0.7857511 ],\n",
       "       [0.8437478 ],\n",
       "       [0.7721011 ],\n",
       "       [0.76699054],\n",
       "       [0.6367683 ],\n",
       "       [0.7941511 ],\n",
       "       [0.6674374 ],\n",
       "       [0.72768813],\n",
       "       [0.8619379 ],\n",
       "       [0.7805693 ],\n",
       "       [0.73590994],\n",
       "       [0.62280446],\n",
       "       [0.8556795 ],\n",
       "       [0.5634395 ],\n",
       "       [0.898686  ],\n",
       "       [0.7313962 ],\n",
       "       [0.8123651 ],\n",
       "       [0.7501853 ],\n",
       "       [0.7896449 ],\n",
       "       [0.7717961 ],\n",
       "       [0.820129  ],\n",
       "       [0.8124821 ],\n",
       "       [0.7697352 ],\n",
       "       [0.730572  ],\n",
       "       [0.80695814],\n",
       "       [0.75496984],\n",
       "       [0.88030976],\n",
       "       [0.8381895 ],\n",
       "       [0.7566951 ],\n",
       "       [0.805667  ],\n",
       "       [0.90131027],\n",
       "       [0.84392154],\n",
       "       [0.6892387 ],\n",
       "       [0.7824635 ],\n",
       "       [0.72657156],\n",
       "       [0.81300896],\n",
       "       [0.78349894],\n",
       "       [0.8594729 ],\n",
       "       [0.7464174 ],\n",
       "       [0.799601  ],\n",
       "       [0.8501662 ],\n",
       "       [0.72980106],\n",
       "       [0.66665095],\n",
       "       [0.82600325],\n",
       "       [0.665231  ],\n",
       "       [0.69627213],\n",
       "       [0.86887765],\n",
       "       [0.7014042 ],\n",
       "       [0.78126806],\n",
       "       [0.8623512 ],\n",
       "       [0.7686971 ],\n",
       "       [0.8249417 ],\n",
       "       [0.7919887 ],\n",
       "       [0.7683469 ],\n",
       "       [0.8685796 ],\n",
       "       [0.812737  ],\n",
       "       [0.619351  ],\n",
       "       [0.82026225],\n",
       "       [0.7608601 ],\n",
       "       [0.6984971 ],\n",
       "       [0.72512853],\n",
       "       [0.83795303],\n",
       "       [0.74190235],\n",
       "       [0.7493629 ],\n",
       "       [0.8800349 ],\n",
       "       [0.8227799 ],\n",
       "       [0.8716966 ],\n",
       "       [0.6720034 ],\n",
       "       [0.7093747 ],\n",
       "       [0.87370557],\n",
       "       [0.6797218 ],\n",
       "       [0.837258  ],\n",
       "       [0.74731445],\n",
       "       [0.8046541 ],\n",
       "       [0.69520444],\n",
       "       [0.75201523],\n",
       "       [0.75221354],\n",
       "       [0.77227044],\n",
       "       [0.80871695],\n",
       "       [0.85331964],\n",
       "       [0.7586027 ],\n",
       "       [0.81775916],\n",
       "       [0.72488713],\n",
       "       [0.6747766 ],\n",
       "       [0.7625889 ],\n",
       "       [0.8949944 ],\n",
       "       [0.81999576],\n",
       "       [0.80415946],\n",
       "       [0.5894413 ],\n",
       "       [0.65123355],\n",
       "       [0.7866919 ],\n",
       "       [0.8777042 ],\n",
       "       [0.836305  ],\n",
       "       [0.6824391 ],\n",
       "       [0.84776485],\n",
       "       [0.79450905],\n",
       "       [0.8080731 ],\n",
       "       [0.80420905],\n",
       "       [0.68225086],\n",
       "       [0.837689  ],\n",
       "       [0.73830104],\n",
       "       [0.8374925 ],\n",
       "       [0.8892924 ],\n",
       "       [0.76816446],\n",
       "       [0.7814905 ],\n",
       "       [0.757177  ],\n",
       "       [0.8072101 ],\n",
       "       [0.7382311 ],\n",
       "       [0.7323802 ],\n",
       "       [0.787502  ],\n",
       "       [0.7036256 ],\n",
       "       [0.6869725 ],\n",
       "       [0.78284425],\n",
       "       [0.6390331 ],\n",
       "       [0.7904429 ],\n",
       "       [0.7742727 ],\n",
       "       [0.7974363 ],\n",
       "       [0.7421286 ],\n",
       "       [0.75302744],\n",
       "       [0.78133386],\n",
       "       [0.80089736],\n",
       "       [0.76420593],\n",
       "       [0.83206236],\n",
       "       [0.76250654],\n",
       "       [0.6847596 ],\n",
       "       [0.7944957 ],\n",
       "       [0.8072748 ],\n",
       "       [0.6751169 ],\n",
       "       [0.85372794],\n",
       "       [0.85763705],\n",
       "       [0.7550243 ],\n",
       "       [0.8625151 ],\n",
       "       [0.74690247],\n",
       "       [0.8069158 ],\n",
       "       [0.7740306 ],\n",
       "       [0.8748193 ],\n",
       "       [0.7350883 ],\n",
       "       [0.7525281 ],\n",
       "       [0.8029903 ],\n",
       "       [0.8448054 ],\n",
       "       [0.71886337],\n",
       "       [0.77756095],\n",
       "       [0.685441  ],\n",
       "       [0.63529134],\n",
       "       [0.7242907 ],\n",
       "       [0.74255854],\n",
       "       [0.8475714 ],\n",
       "       [0.8607804 ],\n",
       "       [0.8105529 ],\n",
       "       [0.6770945 ],\n",
       "       [0.8777018 ],\n",
       "       [0.84469444],\n",
       "       [0.8916852 ],\n",
       "       [0.788058  ],\n",
       "       [0.61158144],\n",
       "       [0.86464566],\n",
       "       [0.83950806],\n",
       "       [0.829547  ],\n",
       "       [0.7850502 ],\n",
       "       [0.881046  ],\n",
       "       [0.6238207 ],\n",
       "       [0.59818596],\n",
       "       [0.7565809 ],\n",
       "       [0.8733625 ],\n",
       "       [0.75273037],\n",
       "       [0.7207892 ],\n",
       "       [0.766703  ],\n",
       "       [0.8703962 ],\n",
       "       [0.89051294],\n",
       "       [0.79607236],\n",
       "       [0.87881386],\n",
       "       [0.81235605],\n",
       "       [0.85814375],\n",
       "       [0.85078835],\n",
       "       [0.8345294 ],\n",
       "       [0.8452309 ],\n",
       "       [0.61857456],\n",
       "       [0.83245116],\n",
       "       [0.66627026],\n",
       "       [0.63662523],\n",
       "       [0.79608756],\n",
       "       [0.73228174],\n",
       "       [0.83142114],\n",
       "       [0.85943633],\n",
       "       [0.70570844],\n",
       "       [0.77480316],\n",
       "       [0.7722641 ],\n",
       "       [0.8123327 ],\n",
       "       [0.5910356 ],\n",
       "       [0.8146866 ],\n",
       "       [0.5937731 ],\n",
       "       [0.66908437],\n",
       "       [0.8733803 ],\n",
       "       [0.7458025 ],\n",
       "       [0.70767355],\n",
       "       [0.828648  ],\n",
       "       [0.72357726],\n",
       "       [0.85327   ],\n",
       "       [0.8253581 ],\n",
       "       [0.8149937 ],\n",
       "       [0.7338832 ],\n",
       "       [0.82376087],\n",
       "       [0.8185588 ],\n",
       "       [0.7536953 ],\n",
       "       [0.5362647 ],\n",
       "       [0.64502907],\n",
       "       [0.7053486 ],\n",
       "       [0.79853934],\n",
       "       [0.8574497 ],\n",
       "       [0.7764231 ],\n",
       "       [0.7739244 ],\n",
       "       [0.8247678 ],\n",
       "       [0.72829026],\n",
       "       [0.7006277 ],\n",
       "       [0.8047502 ],\n",
       "       [0.86420125],\n",
       "       [0.6274186 ],\n",
       "       [0.55068314],\n",
       "       [0.6860934 ],\n",
       "       [0.73816276],\n",
       "       [0.77046686],\n",
       "       [0.8245632 ],\n",
       "       [0.76562446],\n",
       "       [0.8574041 ],\n",
       "       [0.73926586],\n",
       "       [0.86618   ],\n",
       "       [0.8594048 ],\n",
       "       [0.7722751 ],\n",
       "       [0.737792  ],\n",
       "       [0.78247213],\n",
       "       [0.73413044],\n",
       "       [0.8478862 ],\n",
       "       [0.6998977 ],\n",
       "       [0.7575265 ],\n",
       "       [0.6807836 ],\n",
       "       [0.7062495 ],\n",
       "       [0.5097524 ],\n",
       "       [0.8400946 ],\n",
       "       [0.86139756],\n",
       "       [0.79148424],\n",
       "       [0.8169378 ],\n",
       "       [0.85738146],\n",
       "       [0.68556374],\n",
       "       [0.81134665],\n",
       "       [0.872076  ],\n",
       "       [0.8226967 ],\n",
       "       [0.79283935],\n",
       "       [0.54049736],\n",
       "       [0.5556922 ],\n",
       "       [0.8128037 ],\n",
       "       [0.8592705 ],\n",
       "       [0.76962066],\n",
       "       [0.71392906],\n",
       "       [0.7307071 ],\n",
       "       [0.7843469 ],\n",
       "       [0.79143834],\n",
       "       [0.81472635],\n",
       "       [0.85985714],\n",
       "       [0.7562486 ],\n",
       "       [0.8060073 ],\n",
       "       [0.8040037 ],\n",
       "       [0.8678944 ],\n",
       "       [0.8394701 ],\n",
       "       [0.8752797 ],\n",
       "       [0.88465583],\n",
       "       [0.83960646],\n",
       "       [0.71291274],\n",
       "       [0.8079144 ],\n",
       "       [0.87117153],\n",
       "       [0.66659284],\n",
       "       [0.79324484],\n",
       "       [0.74079114],\n",
       "       [0.58908665],\n",
       "       [0.74340403],\n",
       "       [0.80516124],\n",
       "       [0.6347152 ],\n",
       "       [0.7643302 ],\n",
       "       [0.75945574],\n",
       "       [0.801384  ],\n",
       "       [0.78960335],\n",
       "       [0.8266307 ],\n",
       "       [0.64158106],\n",
       "       [0.8095628 ],\n",
       "       [0.86754924],\n",
       "       [0.7538488 ],\n",
       "       [0.76181954],\n",
       "       [0.8601633 ],\n",
       "       [0.7896756 ],\n",
       "       [0.8371921 ],\n",
       "       [0.8608226 ],\n",
       "       [0.7355616 ],\n",
       "       [0.85251   ],\n",
       "       [0.7094212 ],\n",
       "       [0.80359757],\n",
       "       [0.85854113],\n",
       "       [0.7341827 ],\n",
       "       [0.786472  ],\n",
       "       [0.82173645],\n",
       "       [0.5902594 ],\n",
       "       [0.72939306],\n",
       "       [0.8215008 ],\n",
       "       [0.72488713],\n",
       "       [0.73296726],\n",
       "       [0.816366  ],\n",
       "       [0.8763766 ],\n",
       "       [0.87639487],\n",
       "       [0.82335955],\n",
       "       [0.81144744],\n",
       "       [0.73116684],\n",
       "       [0.7086103 ],\n",
       "       [0.7509725 ],\n",
       "       [0.88138473],\n",
       "       [0.68351614],\n",
       "       [0.76671726],\n",
       "       [0.7891212 ],\n",
       "       [0.7913319 ],\n",
       "       [0.86388034],\n",
       "       [0.7699492 ],\n",
       "       [0.76764387],\n",
       "       [0.7999505 ],\n",
       "       [0.8066706 ],\n",
       "       [0.6634534 ],\n",
       "       [0.8552269 ],\n",
       "       [0.86945355],\n",
       "       [0.8286957 ],\n",
       "       [0.8179474 ],\n",
       "       [0.7659054 ],\n",
       "       [0.7442979 ],\n",
       "       [0.7919156 ],\n",
       "       [0.6834571 ],\n",
       "       [0.66612065],\n",
       "       [0.69833803],\n",
       "       [0.80522925],\n",
       "       [0.761594  ],\n",
       "       [0.8605633 ],\n",
       "       [0.8816879 ],\n",
       "       [0.6791279 ],\n",
       "       [0.74714804],\n",
       "       [0.65652245],\n",
       "       [0.7219077 ],\n",
       "       [0.70907444],\n",
       "       [0.79912364],\n",
       "       [0.85107803],\n",
       "       [0.8415374 ],\n",
       "       [0.8032167 ],\n",
       "       [0.7987398 ],\n",
       "       [0.70245904],\n",
       "       [0.75270593],\n",
       "       [0.7342557 ],\n",
       "       [0.859891  ],\n",
       "       [0.78815466],\n",
       "       [0.7977234 ],\n",
       "       [0.81863433],\n",
       "       [0.81439483],\n",
       "       [0.83222073],\n",
       "       [0.8573824 ],\n",
       "       [0.82781446],\n",
       "       [0.8541842 ],\n",
       "       [0.5486654 ],\n",
       "       [0.8389065 ],\n",
       "       [0.72772473],\n",
       "       [0.7178369 ],\n",
       "       [0.71318364],\n",
       "       [0.65698296],\n",
       "       [0.8314341 ],\n",
       "       [0.7564837 ],\n",
       "       [0.8435715 ],\n",
       "       [0.67894614],\n",
       "       [0.7341711 ],\n",
       "       [0.75043017],\n",
       "       [0.67584515],\n",
       "       [0.81476146],\n",
       "       [0.753127  ],\n",
       "       [0.740035  ],\n",
       "       [0.875725  ],\n",
       "       [0.90007347],\n",
       "       [0.8795663 ],\n",
       "       [0.7273733 ],\n",
       "       [0.7850271 ],\n",
       "       [0.8641569 ],\n",
       "       [0.8757365 ],\n",
       "       [0.76252186],\n",
       "       [0.7692595 ],\n",
       "       [0.85248256],\n",
       "       [0.8691334 ],\n",
       "       [0.84645027],\n",
       "       [0.7668756 ],\n",
       "       [0.8012144 ],\n",
       "       [0.8811661 ],\n",
       "       [0.74292433],\n",
       "       [0.6978076 ],\n",
       "       [0.63239294],\n",
       "       [0.8138048 ],\n",
       "       [0.56340545],\n",
       "       [0.7275925 ],\n",
       "       [0.82479167],\n",
       "       [0.7542805 ],\n",
       "       [0.8902673 ],\n",
       "       [0.84004104],\n",
       "       [0.70616126],\n",
       "       [0.7895337 ],\n",
       "       [0.77788794],\n",
       "       [0.73129785],\n",
       "       [0.6387689 ],\n",
       "       [0.74942136],\n",
       "       [0.69845563],\n",
       "       [0.7704153 ],\n",
       "       [0.71912646],\n",
       "       [0.71444863],\n",
       "       [0.8677186 ],\n",
       "       [0.81250185],\n",
       "       [0.88411224],\n",
       "       [0.8520802 ],\n",
       "       [0.67728984],\n",
       "       [0.8307284 ],\n",
       "       [0.79470766],\n",
       "       [0.77737886],\n",
       "       [0.77624696],\n",
       "       [0.78121454],\n",
       "       [0.85724807],\n",
       "       [0.7874275 ],\n",
       "       [0.7531402 ],\n",
       "       [0.7963747 ],\n",
       "       [0.7267621 ],\n",
       "       [0.88766956],\n",
       "       [0.6329582 ],\n",
       "       [0.74341387],\n",
       "       [0.7172288 ],\n",
       "       [0.84024626],\n",
       "       [0.78588605],\n",
       "       [0.8478839 ],\n",
       "       [0.7571397 ],\n",
       "       [0.7699032 ],\n",
       "       [0.78284425],\n",
       "       [0.865506  ],\n",
       "       [0.8522898 ],\n",
       "       [0.6624606 ],\n",
       "       [0.7956228 ],\n",
       "       [0.62732744],\n",
       "       [0.7906431 ],\n",
       "       [0.7046361 ],\n",
       "       [0.8628373 ],\n",
       "       [0.68348855],\n",
       "       [0.7036259 ],\n",
       "       [0.74401313],\n",
       "       [0.9084721 ],\n",
       "       [0.76987314],\n",
       "       [0.7511385 ],\n",
       "       [0.79865   ],\n",
       "       [0.71306527],\n",
       "       [0.87147814],\n",
       "       [0.830355  ],\n",
       "       [0.7803486 ],\n",
       "       [0.65352035],\n",
       "       [0.77187914],\n",
       "       [0.80434275],\n",
       "       [0.688373  ],\n",
       "       [0.65365547],\n",
       "       [0.855387  ],\n",
       "       [0.85565805],\n",
       "       [0.78973734],\n",
       "       [0.75754195],\n",
       "       [0.7753172 ],\n",
       "       [0.76078236],\n",
       "       [0.8618965 ],\n",
       "       [0.76772016],\n",
       "       [0.7254789 ],\n",
       "       [0.631349  ],\n",
       "       [0.85472274],\n",
       "       [0.75147116],\n",
       "       [0.7516921 ],\n",
       "       [0.64791524],\n",
       "       [0.7822128 ],\n",
       "       [0.75378776],\n",
       "       [0.69120955],\n",
       "       [0.8688079 ],\n",
       "       [0.799558  ],\n",
       "       [0.884249  ],\n",
       "       [0.7765757 ],\n",
       "       [0.7424382 ],\n",
       "       [0.8107943 ],\n",
       "       [0.7478586 ],\n",
       "       [0.8435962 ],\n",
       "       [0.6820781 ],\n",
       "       [0.6956951 ],\n",
       "       [0.6748058 ],\n",
       "       [0.7948611 ],\n",
       "       [0.69299036],\n",
       "       [0.81929964],\n",
       "       [0.6895654 ],\n",
       "       [0.62777525],\n",
       "       [0.85109997],\n",
       "       [0.87165636],\n",
       "       [0.8447974 ],\n",
       "       [0.8262523 ],\n",
       "       [0.73533577],\n",
       "       [0.7128511 ],\n",
       "       [0.7870176 ],\n",
       "       [0.6473918 ],\n",
       "       [0.8473025 ],\n",
       "       [0.90773267],\n",
       "       [0.79399204],\n",
       "       [0.8041926 ],\n",
       "       [0.86553407],\n",
       "       [0.8386964 ],\n",
       "       [0.82013154],\n",
       "       [0.677924  ],\n",
       "       [0.8199485 ],\n",
       "       [0.85031056],\n",
       "       [0.74746084],\n",
       "       [0.87119377],\n",
       "       [0.86984193],\n",
       "       [0.75976306],\n",
       "       [0.72167903],\n",
       "       [0.7960729 ],\n",
       "       [0.87881875],\n",
       "       [0.750686  ],\n",
       "       [0.79594225],\n",
       "       [0.74068   ],\n",
       "       [0.79566765],\n",
       "       [0.8093733 ],\n",
       "       [0.8644784 ],\n",
       "       [0.7518052 ],\n",
       "       [0.84303415],\n",
       "       [0.7693131 ],\n",
       "       [0.7564183 ],\n",
       "       [0.83249915],\n",
       "       [0.81169194],\n",
       "       [0.76806676],\n",
       "       [0.77258736],\n",
       "       [0.8869244 ],\n",
       "       [0.8399516 ],\n",
       "       [0.7164682 ],\n",
       "       [0.7872352 ],\n",
       "       [0.8434    ],\n",
       "       [0.8451407 ],\n",
       "       [0.8178772 ],\n",
       "       [0.80522424],\n",
       "       [0.80937386],\n",
       "       [0.77652985],\n",
       "       [0.7776171 ],\n",
       "       [0.60592705],\n",
       "       [0.85941815],\n",
       "       [0.7814705 ],\n",
       "       [0.65752107],\n",
       "       [0.69241476],\n",
       "       [0.7638914 ],\n",
       "       [0.81004155],\n",
       "       [0.7700185 ],\n",
       "       [0.74980444],\n",
       "       [0.8468854 ],\n",
       "       [0.7754428 ],\n",
       "       [0.7910054 ],\n",
       "       [0.70114183],\n",
       "       [0.72523165],\n",
       "       [0.6103514 ],\n",
       "       [0.8432372 ],\n",
       "       [0.8437747 ],\n",
       "       [0.83127445],\n",
       "       [0.80744785],\n",
       "       [0.62571925],\n",
       "       [0.84498304],\n",
       "       [0.6802506 ],\n",
       "       [0.7223248 ],\n",
       "       [0.7677437 ],\n",
       "       [0.75185573],\n",
       "       [0.81311953],\n",
       "       [0.85847557],\n",
       "       [0.83504397],\n",
       "       [0.7148458 ],\n",
       "       [0.81645554],\n",
       "       [0.7839969 ],\n",
       "       [0.7742429 ],\n",
       "       [0.8160866 ],\n",
       "       [0.831588  ],\n",
       "       [0.80152625],\n",
       "       [0.6205896 ],\n",
       "       [0.7057195 ],\n",
       "       [0.7400512 ],\n",
       "       [0.8147642 ],\n",
       "       [0.7337004 ],\n",
       "       [0.86920583],\n",
       "       [0.678666  ],\n",
       "       [0.8158836 ],\n",
       "       [0.700513  ],\n",
       "       [0.68919694],\n",
       "       [0.8823031 ],\n",
       "       [0.8559605 ],\n",
       "       [0.8597901 ],\n",
       "       [0.78584135],\n",
       "       [0.8461219 ],\n",
       "       [0.8069204 ],\n",
       "       [0.8544878 ],\n",
       "       [0.8064696 ],\n",
       "       [0.82661915],\n",
       "       [0.69022024],\n",
       "       [0.7397806 ],\n",
       "       [0.7101151 ],\n",
       "       [0.6357695 ],\n",
       "       [0.71312356],\n",
       "       [0.8893208 ],\n",
       "       [0.77595484],\n",
       "       [0.76095885],\n",
       "       [0.5902594 ],\n",
       "       [0.8150698 ],\n",
       "       [0.7084835 ],\n",
       "       [0.835932  ],\n",
       "       [0.6970881 ],\n",
       "       [0.7633109 ],\n",
       "       [0.8060111 ],\n",
       "       [0.68416804],\n",
       "       [0.8692088 ],\n",
       "       [0.7753337 ],\n",
       "       [0.66568273],\n",
       "       [0.7649999 ],\n",
       "       [0.80617857],\n",
       "       [0.83196133],\n",
       "       [0.831568  ],\n",
       "       [0.7608408 ],\n",
       "       [0.8663221 ],\n",
       "       [0.8345294 ],\n",
       "       [0.83318424],\n",
       "       [0.82207644],\n",
       "       [0.7024924 ],\n",
       "       [0.84495515],\n",
       "       [0.68843585],\n",
       "       [0.7053608 ],\n",
       "       [0.5383154 ],\n",
       "       [0.71723646],\n",
       "       [0.7386547 ],\n",
       "       [0.5685078 ],\n",
       "       [0.8163395 ],\n",
       "       [0.7757019 ],\n",
       "       [0.8310183 ],\n",
       "       [0.81855357],\n",
       "       [0.7762741 ],\n",
       "       [0.66115695],\n",
       "       [0.71493983],\n",
       "       [0.77687544],\n",
       "       [0.72459275],\n",
       "       [0.83947426],\n",
       "       [0.81026673],\n",
       "       [0.7768458 ],\n",
       "       [0.81019074],\n",
       "       [0.80188966],\n",
       "       [0.8445274 ],\n",
       "       [0.821165  ],\n",
       "       [0.8313909 ],\n",
       "       [0.86374   ],\n",
       "       [0.8252399 ],\n",
       "       [0.64617723],\n",
       "       [0.7930576 ],\n",
       "       [0.8312904 ],\n",
       "       [0.78927284],\n",
       "       [0.5421594 ],\n",
       "       [0.7509648 ],\n",
       "       [0.78793585],\n",
       "       [0.7049895 ],\n",
       "       [0.61337423],\n",
       "       [0.8886536 ],\n",
       "       [0.84483963],\n",
       "       [0.8813301 ],\n",
       "       [0.8254364 ],\n",
       "       [0.73277223],\n",
       "       [0.8925504 ],\n",
       "       [0.6837311 ],\n",
       "       [0.53305954],\n",
       "       [0.82946503],\n",
       "       [0.5769877 ],\n",
       "       [0.85202444],\n",
       "       [0.74018407],\n",
       "       [0.8155177 ],\n",
       "       [0.8149043 ],\n",
       "       [0.77405345],\n",
       "       [0.7669017 ],\n",
       "       [0.7820984 ],\n",
       "       [0.6084683 ],\n",
       "       [0.83175445],\n",
       "       [0.81221765],\n",
       "       [0.7000776 ],\n",
       "       [0.7952459 ],\n",
       "       [0.6553924 ],\n",
       "       [0.7745782 ],\n",
       "       [0.72190887],\n",
       "       [0.74049944],\n",
       "       [0.49806055],\n",
       "       [0.6520575 ],\n",
       "       [0.61878204],\n",
       "       [0.7799193 ],\n",
       "       [0.8011486 ],\n",
       "       [0.80172634],\n",
       "       [0.8051476 ],\n",
       "       [0.64045197],\n",
       "       [0.82623756],\n",
       "       [0.7984033 ],\n",
       "       [0.76927185],\n",
       "       [0.7090623 ],\n",
       "       [0.80304784],\n",
       "       [0.79963124],\n",
       "       [0.8056554 ],\n",
       "       [0.66659284],\n",
       "       [0.86226296],\n",
       "       [0.7510117 ],\n",
       "       [0.72741026],\n",
       "       [0.7888237 ],\n",
       "       [0.68792963],\n",
       "       [0.83742046],\n",
       "       [0.816945  ],\n",
       "       [0.7099218 ],\n",
       "       [0.7406349 ],\n",
       "       [0.80943096],\n",
       "       [0.6858924 ],\n",
       "       [0.8678101 ],\n",
       "       [0.83769864],\n",
       "       [0.83824015],\n",
       "       [0.8022061 ],\n",
       "       [0.6553874 ],\n",
       "       [0.68728286],\n",
       "       [0.84917504],\n",
       "       [0.7109097 ],\n",
       "       [0.698578  ],\n",
       "       [0.8396237 ],\n",
       "       [0.77282935],\n",
       "       [0.7127534 ],\n",
       "       [0.68992764],\n",
       "       [0.7283055 ],\n",
       "       [0.79501665],\n",
       "       [0.76897556],\n",
       "       [0.7135539 ],\n",
       "       [0.89529854],\n",
       "       [0.8076229 ],\n",
       "       [0.75531167],\n",
       "       [0.53862584],\n",
       "       [0.7884933 ],\n",
       "       [0.86099976],\n",
       "       [0.7634149 ],\n",
       "       [0.8209752 ],\n",
       "       [0.8138011 ],\n",
       "       [0.84410363],\n",
       "       [0.74494916],\n",
       "       [0.851636  ],\n",
       "       [0.9026123 ],\n",
       "       [0.7611728 ],\n",
       "       [0.82834315],\n",
       "       [0.786399  ],\n",
       "       [0.8403185 ],\n",
       "       [0.8078927 ],\n",
       "       [0.7975032 ],\n",
       "       [0.7655475 ],\n",
       "       [0.5759363 ],\n",
       "       [0.77478325],\n",
       "       [0.8040979 ],\n",
       "       [0.62821573],\n",
       "       [0.8237398 ],\n",
       "       [0.66322756],\n",
       "       [0.5983393 ],\n",
       "       [0.7131017 ],\n",
       "       [0.8760086 ],\n",
       "       [0.8261175 ],\n",
       "       [0.8217326 ],\n",
       "       [0.7568119 ],\n",
       "       [0.65636826],\n",
       "       [0.8468469 ],\n",
       "       [0.7007235 ],\n",
       "       [0.8006912 ],\n",
       "       [0.77146494],\n",
       "       [0.6136715 ],\n",
       "       [0.8599631 ],\n",
       "       [0.67651385],\n",
       "       [0.8462731 ],\n",
       "       [0.7642549 ],\n",
       "       [0.771431  ],\n",
       "       [0.7212386 ],\n",
       "       [0.806692  ],\n",
       "       [0.7371996 ],\n",
       "       [0.7443437 ],\n",
       "       [0.7865239 ],\n",
       "       [0.6139131 ],\n",
       "       [0.79835755],\n",
       "       [0.81331235],\n",
       "       [0.7784396 ],\n",
       "       [0.73384684],\n",
       "       [0.7198048 ],\n",
       "       [0.7267457 ],\n",
       "       [0.63343704],\n",
       "       [0.8906992 ],\n",
       "       [0.72210985],\n",
       "       [0.8803961 ],\n",
       "       [0.7998801 ],\n",
       "       [0.6564153 ],\n",
       "       [0.77883387],\n",
       "       [0.65776265],\n",
       "       [0.68433595],\n",
       "       [0.7008266 ],\n",
       "       [0.76336324],\n",
       "       [0.8057476 ],\n",
       "       [0.61621994],\n",
       "       [0.7982069 ],\n",
       "       [0.66127676],\n",
       "       [0.7865862 ],\n",
       "       [0.8401358 ],\n",
       "       [0.6986992 ],\n",
       "       [0.64143395],\n",
       "       [0.88107   ],\n",
       "       [0.75152314],\n",
       "       [0.75803953],\n",
       "       [0.79509014],\n",
       "       [0.6992858 ],\n",
       "       [0.8736776 ],\n",
       "       [0.8032167 ],\n",
       "       [0.87387925],\n",
       "       [0.88750637],\n",
       "       [0.8767469 ],\n",
       "       [0.7542788 ],\n",
       "       [0.6798969 ],\n",
       "       [0.70456773],\n",
       "       [0.86835194],\n",
       "       [0.7853907 ],\n",
       "       [0.8072682 ],\n",
       "       [0.8343705 ],\n",
       "       [0.7196376 ],\n",
       "       [0.7968567 ],\n",
       "       [0.8862221 ],\n",
       "       [0.7398538 ],\n",
       "       [0.8738185 ],\n",
       "       [0.77180445],\n",
       "       [0.7643416 ],\n",
       "       [0.7898396 ],\n",
       "       [0.89549536],\n",
       "       [0.82658476],\n",
       "       [0.8283455 ],\n",
       "       [0.86758447],\n",
       "       [0.8609206 ],\n",
       "       [0.6142822 ],\n",
       "       [0.81691855],\n",
       "       [0.6093954 ],\n",
       "       [0.8173562 ],\n",
       "       [0.780943  ],\n",
       "       [0.74669224],\n",
       "       [0.7268335 ],\n",
       "       [0.77188915],\n",
       "       [0.876845  ],\n",
       "       [0.6136715 ],\n",
       "       [0.8395327 ],\n",
       "       [0.6844937 ],\n",
       "       [0.8218036 ],\n",
       "       [0.7579421 ],\n",
       "       [0.8041069 ],\n",
       "       [0.8090293 ],\n",
       "       [0.88516057],\n",
       "       [0.86026657],\n",
       "       [0.7166994 ],\n",
       "       [0.852725  ],\n",
       "       [0.831588  ],\n",
       "       [0.6711659 ],\n",
       "       [0.8172004 ],\n",
       "       [0.8061057 ],\n",
       "       [0.8591554 ],\n",
       "       [0.7248155 ],\n",
       "       [0.8759875 ],\n",
       "       [0.75069416],\n",
       "       [0.699843  ],\n",
       "       [0.7489089 ],\n",
       "       [0.8470849 ],\n",
       "       [0.8478464 ],\n",
       "       [0.7830791 ],\n",
       "       [0.8530116 ],\n",
       "       [0.5917286 ],\n",
       "       [0.6133316 ],\n",
       "       [0.6911957 ],\n",
       "       [0.8244066 ],\n",
       "       [0.77717847],\n",
       "       [0.7214021 ],\n",
       "       [0.7744024 ],\n",
       "       [0.8508593 ],\n",
       "       [0.602616  ],\n",
       "       [0.86577165],\n",
       "       [0.6460615 ],\n",
       "       [0.85731167],\n",
       "       [0.8884215 ],\n",
       "       [0.7999681 ],\n",
       "       [0.57197225],\n",
       "       [0.8673017 ],\n",
       "       [0.7904093 ],\n",
       "       [0.8232131 ],\n",
       "       [0.85342216],\n",
       "       [0.77449447],\n",
       "       [0.8530875 ],\n",
       "       [0.8214104 ],\n",
       "       [0.82279485],\n",
       "       [0.6630212 ],\n",
       "       [0.85770994],\n",
       "       [0.75759196],\n",
       "       [0.8085297 ],\n",
       "       [0.7222614 ],\n",
       "       [0.7330651 ],\n",
       "       [0.8344816 ],\n",
       "       [0.8411597 ],\n",
       "       [0.8036937 ],\n",
       "       [0.85244286],\n",
       "       [0.8936545 ],\n",
       "       [0.8400292 ],\n",
       "       [0.76537037],\n",
       "       [0.6805413 ],\n",
       "       [0.7003449 ],\n",
       "       [0.77157974],\n",
       "       [0.79933286],\n",
       "       [0.73170483],\n",
       "       [0.78373533],\n",
       "       [0.8157465 ],\n",
       "       [0.73640615],\n",
       "       [0.80659986],\n",
       "       [0.8476272 ],\n",
       "       [0.6963074 ],\n",
       "       [0.8352805 ],\n",
       "       [0.75561494],\n",
       "       [0.8632031 ],\n",
       "       [0.7131211 ],\n",
       "       [0.85480654],\n",
       "       [0.77905047],\n",
       "       [0.69163305],\n",
       "       [0.6615119 ],\n",
       "       [0.6217578 ],\n",
       "       [0.7958905 ],\n",
       "       [0.77073544],\n",
       "       [0.8041086 ],\n",
       "       [0.8441336 ],\n",
       "       [0.849259  ],\n",
       "       [0.7052994 ],\n",
       "       [0.7822448 ],\n",
       "       [0.8265049 ],\n",
       "       [0.7875864 ],\n",
       "       [0.8931911 ],\n",
       "       [0.72939306],\n",
       "       [0.81579405],\n",
       "       [0.7011369 ],\n",
       "       [0.79773045],\n",
       "       [0.58858514],\n",
       "       [0.8503765 ],\n",
       "       [0.7122861 ],\n",
       "       [0.72678655],\n",
       "       [0.848681  ],\n",
       "       [0.68903595],\n",
       "       [0.83047515],\n",
       "       [0.8682093 ],\n",
       "       [0.84777576],\n",
       "       [0.8721415 ],\n",
       "       [0.65685207],\n",
       "       [0.8104987 ],\n",
       "       [0.75559497],\n",
       "       [0.78250843],\n",
       "       [0.61339605],\n",
       "       [0.8621446 ],\n",
       "       [0.8348433 ],\n",
       "       [0.8567605 ],\n",
       "       [0.8062116 ],\n",
       "       [0.8846504 ],\n",
       "       [0.8142363 ],\n",
       "       [0.812546  ],\n",
       "       [0.81642056],\n",
       "       [0.8237965 ],\n",
       "       [0.8042848 ],\n",
       "       [0.67515016],\n",
       "       [0.706811  ],\n",
       "       [0.7769499 ],\n",
       "       [0.84322846],\n",
       "       [0.7871917 ],\n",
       "       [0.79500115],\n",
       "       [0.6807259 ],\n",
       "       [0.8508886 ],\n",
       "       [0.80832666],\n",
       "       [0.84290785],\n",
       "       [0.82149184],\n",
       "       [0.6972813 ],\n",
       "       [0.70390445],\n",
       "       [0.8493944 ],\n",
       "       [0.8896942 ],\n",
       "       [0.660548  ],\n",
       "       [0.7872502 ],\n",
       "       [0.8108751 ],\n",
       "       [0.8457275 ],\n",
       "       [0.8006347 ],\n",
       "       [0.8256305 ],\n",
       "       [0.8214157 ],\n",
       "       [0.7644555 ],\n",
       "       [0.6941936 ],\n",
       "       [0.62741905],\n",
       "       [0.819736  ],\n",
       "       [0.8207405 ],\n",
       "       [0.76183033],\n",
       "       [0.73740447],\n",
       "       [0.8386473 ],\n",
       "       [0.72131276],\n",
       "       [0.90130824],\n",
       "       [0.6585852 ],\n",
       "       [0.8139557 ],\n",
       "       [0.802912  ],\n",
       "       [0.83441514],\n",
       "       [0.73748   ],\n",
       "       [0.8200249 ],\n",
       "       [0.8608774 ],\n",
       "       [0.81817234],\n",
       "       [0.8325476 ],\n",
       "       [0.8160545 ],\n",
       "       [0.7004766 ],\n",
       "       [0.8479611 ],\n",
       "       [0.8042512 ],\n",
       "       [0.862907  ],\n",
       "       [0.8188165 ],\n",
       "       [0.6803753 ],\n",
       "       [0.86619174],\n",
       "       [0.7627621 ],\n",
       "       [0.75589514],\n",
       "       [0.7886205 ],\n",
       "       [0.8471715 ],\n",
       "       [0.6759721 ],\n",
       "       [0.8605483 ],\n",
       "       [0.7363658 ],\n",
       "       [0.5671995 ],\n",
       "       [0.7309495 ],\n",
       "       [0.7439078 ],\n",
       "       [0.81052756],\n",
       "       [0.6451936 ],\n",
       "       [0.79087776],\n",
       "       [0.79086107],\n",
       "       [0.73860866],\n",
       "       [0.8088615 ],\n",
       "       [0.8201536 ],\n",
       "       [0.65464485],\n",
       "       [0.7429931 ],\n",
       "       [0.8256126 ],\n",
       "       [0.68147534],\n",
       "       [0.75080556],\n",
       "       [0.83613807],\n",
       "       [0.6727249 ],\n",
       "       [0.80885875],\n",
       "       [0.7189281 ],\n",
       "       [0.8685099 ],\n",
       "       [0.81677455],\n",
       "       [0.7706709 ],\n",
       "       [0.7427244 ],\n",
       "       [0.66474855],\n",
       "       [0.65522903],\n",
       "       [0.7467625 ],\n",
       "       [0.7667847 ],\n",
       "       [0.7681842 ],\n",
       "       [0.8458173 ],\n",
       "       [0.8174245 ],\n",
       "       [0.82112867],\n",
       "       [0.6341552 ],\n",
       "       [0.6169849 ],\n",
       "       [0.7781976 ],\n",
       "       [0.7214099 ],\n",
       "       [0.7307873 ],\n",
       "       [0.7176284 ],\n",
       "       [0.7351273 ],\n",
       "       [0.79725283],\n",
       "       [0.6134829 ],\n",
       "       [0.73490393],\n",
       "       [0.7944723 ],\n",
       "       [0.8148694 ],\n",
       "       [0.5888025 ],\n",
       "       [0.6485483 ],\n",
       "       [0.69177973],\n",
       "       [0.7631948 ],\n",
       "       [0.65037346],\n",
       "       [0.7904042 ],\n",
       "       [0.79488206],\n",
       "       [0.563503  ],\n",
       "       [0.83216476],\n",
       "       [0.7905516 ],\n",
       "       [0.73132056],\n",
       "       [0.7284004 ],\n",
       "       [0.7030779 ],\n",
       "       [0.87913465],\n",
       "       [0.68314874],\n",
       "       [0.78735524],\n",
       "       [0.7623551 ],\n",
       "       [0.6413707 ],\n",
       "       [0.7472838 ],\n",
       "       [0.735144  ],\n",
       "       [0.843405  ],\n",
       "       [0.66615   ],\n",
       "       [0.6379824 ],\n",
       "       [0.8486304 ],\n",
       "       [0.6844131 ],\n",
       "       [0.8759044 ],\n",
       "       [0.72962964],\n",
       "       [0.86835426],\n",
       "       [0.80181724],\n",
       "       [0.7161007 ],\n",
       "       [0.8416423 ],\n",
       "       [0.8576288 ],\n",
       "       [0.6144614 ],\n",
       "       [0.83433634],\n",
       "       [0.78896487],\n",
       "       [0.5570681 ],\n",
       "       [0.84619015],\n",
       "       [0.8485942 ],\n",
       "       [0.6689535 ],\n",
       "       [0.776675  ],\n",
       "       [0.7546556 ],\n",
       "       [0.78901625],\n",
       "       [0.8598964 ],\n",
       "       [0.86566097],\n",
       "       [0.813703  ],\n",
       "       [0.7749118 ],\n",
       "       [0.69814956],\n",
       "       [0.7975186 ],\n",
       "       [0.7510117 ],\n",
       "       [0.7356115 ],\n",
       "       [0.8501145 ],\n",
       "       [0.83721423],\n",
       "       [0.7592872 ],\n",
       "       [0.893227  ],\n",
       "       [0.8394325 ],\n",
       "       [0.832547  ],\n",
       "       [0.8740753 ],\n",
       "       [0.79579026],\n",
       "       [0.88671815],\n",
       "       [0.8418063 ],\n",
       "       [0.85876054],\n",
       "       [0.7981695 ],\n",
       "       [0.72817564],\n",
       "       [0.8574882 ],\n",
       "       [0.73620194],\n",
       "       [0.6707916 ],\n",
       "       [0.8930644 ],\n",
       "       [0.86217105],\n",
       "       [0.83810115],\n",
       "       [0.7933249 ],\n",
       "       [0.85088223],\n",
       "       [0.7482184 ],\n",
       "       [0.7495771 ],\n",
       "       [0.68346775],\n",
       "       [0.8195197 ],\n",
       "       [0.83844554],\n",
       "       [0.77624255],\n",
       "       [0.8082132 ],\n",
       "       [0.7877786 ],\n",
       "       [0.73125166],\n",
       "       [0.7746175 ],\n",
       "       [0.7050412 ],\n",
       "       [0.7129488 ],\n",
       "       [0.7156595 ],\n",
       "       [0.76117635],\n",
       "       [0.8491969 ],\n",
       "       [0.83528197],\n",
       "       [0.6894147 ],\n",
       "       [0.72355217],\n",
       "       [0.6323541 ],\n",
       "       [0.78661853],\n",
       "       [0.80687827],\n",
       "       [0.66600883],\n",
       "       [0.8600265 ],\n",
       "       [0.8657598 ],\n",
       "       [0.7772902 ],\n",
       "       [0.8717195 ],\n",
       "       [0.7919769 ],\n",
       "       [0.8876002 ],\n",
       "       [0.7880533 ],\n",
       "       [0.89634806],\n",
       "       [0.7399311 ],\n",
       "       [0.7246395 ],\n",
       "       [0.7855688 ],\n",
       "       [0.8378105 ],\n",
       "       [0.85189176],\n",
       "       [0.84892607],\n",
       "       [0.7575469 ],\n",
       "       [0.6133472 ],\n",
       "       [0.78086144],\n",
       "       [0.6330914 ],\n",
       "       [0.7134768 ],\n",
       "       [0.7469715 ],\n",
       "       [0.54091847],\n",
       "       [0.8672263 ],\n",
       "       [0.86961097],\n",
       "       [0.6960006 ],\n",
       "       [0.86933744],\n",
       "       [0.76502085],\n",
       "       [0.6130813 ],\n",
       "       [0.7661347 ],\n",
       "       [0.80444336],\n",
       "       [0.79964036],\n",
       "       [0.8043958 ],\n",
       "       [0.7222831 ],\n",
       "       [0.8486496 ],\n",
       "       [0.6743429 ],\n",
       "       [0.67562574],\n",
       "       [0.7676081 ],\n",
       "       [0.6762598 ],\n",
       "       [0.78194135],\n",
       "       [0.8513726 ],\n",
       "       [0.74027944],\n",
       "       [0.6239509 ],\n",
       "       [0.7584735 ],\n",
       "       [0.84467596],\n",
       "       [0.8248449 ],\n",
       "       [0.8656534 ],\n",
       "       [0.77414006],\n",
       "       [0.698094  ],\n",
       "       [0.8625447 ],\n",
       "       [0.77350104],\n",
       "       [0.6688267 ],\n",
       "       [0.77168244],\n",
       "       [0.87747586],\n",
       "       [0.8476249 ],\n",
       "       [0.74357116],\n",
       "       [0.7267802 ],\n",
       "       [0.8646664 ],\n",
       "       [0.8509064 ],\n",
       "       [0.74428976],\n",
       "       [0.7698303 ],\n",
       "       [0.7959701 ],\n",
       "       [0.68304735],\n",
       "       [0.6087635 ],\n",
       "       [0.62480366],\n",
       "       [0.81997603],\n",
       "       [0.83309674],\n",
       "       [0.8104304 ],\n",
       "       [0.7923264 ],\n",
       "       [0.9049255 ],\n",
       "       [0.7968686 ],\n",
       "       [0.7307293 ],\n",
       "       [0.7825742 ],\n",
       "       [0.8697167 ],\n",
       "       [0.88148373],\n",
       "       [0.7626072 ],\n",
       "       [0.880462  ],\n",
       "       [0.8752082 ],\n",
       "       [0.692616  ],\n",
       "       [0.799351  ],\n",
       "       [0.7695801 ],\n",
       "       [0.8416958 ],\n",
       "       [0.8285853 ],\n",
       "       [0.83250713],\n",
       "       [0.81843054],\n",
       "       [0.859262  ],\n",
       "       [0.5978064 ],\n",
       "       [0.62832993],\n",
       "       [0.8696404 ],\n",
       "       [0.83302134],\n",
       "       [0.6905349 ],\n",
       "       [0.9013199 ],\n",
       "       [0.81881756],\n",
       "       [0.71266395],\n",
       "       [0.70335865],\n",
       "       [0.68973047],\n",
       "       [0.85698   ],\n",
       "       [0.6446355 ],\n",
       "       [0.81761414],\n",
       "       [0.7930618 ],\n",
       "       [0.7399818 ],\n",
       "       [0.6539988 ],\n",
       "       [0.8498364 ],\n",
       "       [0.783419  ],\n",
       "       [0.85394645],\n",
       "       [0.8766086 ],\n",
       "       [0.66338664],\n",
       "       [0.8237298 ],\n",
       "       [0.832876  ],\n",
       "       [0.79321975],\n",
       "       [0.763102  ],\n",
       "       [0.7393377 ],\n",
       "       [0.75377744],\n",
       "       [0.68928635],\n",
       "       [0.8967862 ],\n",
       "       [0.85256267],\n",
       "       [0.71525586],\n",
       "       [0.6159932 ],\n",
       "       [0.73841244],\n",
       "       [0.764401  ],\n",
       "       [0.7538356 ],\n",
       "       [0.8726302 ],\n",
       "       [0.7710766 ],\n",
       "       [0.7465765 ],\n",
       "       [0.7882004 ],\n",
       "       [0.79241645],\n",
       "       [0.8415018 ],\n",
       "       [0.6930315 ],\n",
       "       [0.813372  ],\n",
       "       [0.70484865],\n",
       "       [0.72737736],\n",
       "       [0.6776623 ],\n",
       "       [0.8329482 ],\n",
       "       [0.8167109 ],\n",
       "       [0.7860202 ],\n",
       "       [0.82316047],\n",
       "       [0.74663675],\n",
       "       [0.8324736 ],\n",
       "       [0.8742107 ],\n",
       "       [0.88781774],\n",
       "       [0.86150354],\n",
       "       [0.53562087],\n",
       "       [0.785498  ],\n",
       "       [0.75162137],\n",
       "       [0.8645766 ],\n",
       "       [0.70139885],\n",
       "       [0.79189754],\n",
       "       [0.6688267 ],\n",
       "       [0.8471032 ],\n",
       "       [0.55813086],\n",
       "       [0.84098893],\n",
       "       [0.80002475],\n",
       "       [0.7368731 ],\n",
       "       [0.7282771 ],\n",
       "       [0.8367623 ],\n",
       "       [0.831456  ],\n",
       "       [0.6286339 ],\n",
       "       [0.86664724],\n",
       "       [0.563503  ],\n",
       "       [0.85130286],\n",
       "       [0.7445589 ],\n",
       "       [0.7317478 ],\n",
       "       [0.7669348 ],\n",
       "       [0.71070445],\n",
       "       [0.7360663 ],\n",
       "       [0.7261328 ],\n",
       "       [0.83418417],\n",
       "       [0.85814774],\n",
       "       [0.73450744],\n",
       "       [0.66285515],\n",
       "       [0.7153815 ],\n",
       "       [0.7767637 ],\n",
       "       [0.85061216],\n",
       "       [0.8530356 ],\n",
       "       [0.75199515],\n",
       "       [0.7869561 ],\n",
       "       [0.84551126],\n",
       "       [0.8370115 ],\n",
       "       [0.79523975],\n",
       "       [0.73913693],\n",
       "       [0.7804758 ],\n",
       "       [0.85140914],\n",
       "       [0.70607084],\n",
       "       [0.7920238 ],\n",
       "       [0.88231677],\n",
       "       [0.63495195],\n",
       "       [0.69986904],\n",
       "       [0.7994543 ],\n",
       "       [0.70355624],\n",
       "       [0.72440684],\n",
       "       [0.8435751 ],\n",
       "       [0.8144534 ],\n",
       "       [0.6596348 ],\n",
       "       [0.785143  ],\n",
       "       [0.70860577],\n",
       "       [0.7567975 ],\n",
       "       [0.77211034],\n",
       "       [0.84850824],\n",
       "       [0.6149806 ],\n",
       "       [0.77481985],\n",
       "       [0.76409304],\n",
       "       [0.8397932 ],\n",
       "       [0.7580249 ],\n",
       "       [0.75200635],\n",
       "       [0.7765787 ],\n",
       "       [0.614182  ],\n",
       "       [0.83537763],\n",
       "       [0.82461596],\n",
       "       [0.791869  ],\n",
       "       [0.7992117 ],\n",
       "       [0.75110245],\n",
       "       [0.53986776],\n",
       "       [0.6880459 ],\n",
       "       [0.8380031 ],\n",
       "       [0.8767723 ],\n",
       "       [0.71076465],\n",
       "       [0.8395928 ],\n",
       "       [0.8540104 ],\n",
       "       [0.8666159 ],\n",
       "       [0.8508431 ],\n",
       "       [0.77403206],\n",
       "       [0.7901018 ],\n",
       "       [0.75902843],\n",
       "       [0.8561543 ],\n",
       "       [0.8518438 ],\n",
       "       [0.7446186 ],\n",
       "       [0.7326212 ],\n",
       "       [0.4956331 ],\n",
       "       [0.90935695],\n",
       "       [0.6291355 ],\n",
       "       [0.7418986 ],\n",
       "       [0.7836104 ],\n",
       "       [0.78897923],\n",
       "       [0.8226932 ],\n",
       "       [0.85752475],\n",
       "       [0.85078704],\n",
       "       [0.82655174],\n",
       "       [0.88830173],\n",
       "       [0.6789707 ],\n",
       "       [0.72643733],\n",
       "       [0.770202  ],\n",
       "       [0.7594929 ],\n",
       "       [0.80932105],\n",
       "       [0.7469948 ],\n",
       "       [0.5584958 ],\n",
       "       [0.6856593 ],\n",
       "       [0.84703714],\n",
       "       [0.809563  ],\n",
       "       [0.6942614 ],\n",
       "       [0.7162643 ],\n",
       "       [0.67289186],\n",
       "       [0.8551325 ],\n",
       "       [0.7984033 ],\n",
       "       [0.84571695],\n",
       "       [0.8319562 ],\n",
       "       [0.7981007 ],\n",
       "       [0.8754774 ],\n",
       "       [0.7138817 ],\n",
       "       [0.7479173 ],\n",
       "       [0.81052417],\n",
       "       [0.71132475],\n",
       "       [0.7162922 ],\n",
       "       [0.8625914 ],\n",
       "       [0.771342  ],\n",
       "       [0.7317956 ],\n",
       "       [0.8225031 ],\n",
       "       [0.8207934 ],\n",
       "       [0.83185816],\n",
       "       [0.7682404 ],\n",
       "       [0.759889  ],\n",
       "       [0.80985206],\n",
       "       [0.72296286],\n",
       "       [0.75192124],\n",
       "       [0.8716344 ],\n",
       "       [0.8696435 ],\n",
       "       [0.84629977],\n",
       "       [0.81478804],\n",
       "       [0.6573473 ],\n",
       "       [0.89644617],\n",
       "       [0.85359305],\n",
       "       [0.8973854 ],\n",
       "       [0.90218544],\n",
       "       [0.788144  ],\n",
       "       [0.7618227 ],\n",
       "       [0.88043875],\n",
       "       [0.87083524],\n",
       "       [0.8856133 ],\n",
       "       [0.78630406],\n",
       "       [0.7667051 ],\n",
       "       [0.6012403 ],\n",
       "       [0.7625355 ],\n",
       "       [0.8830042 ],\n",
       "       [0.7022754 ],\n",
       "       [0.7752893 ],\n",
       "       [0.5992686 ],\n",
       "       [0.7531908 ],\n",
       "       [0.7092332 ],\n",
       "       [0.7849792 ],\n",
       "       [0.76175326],\n",
       "       [0.81019706],\n",
       "       [0.7969474 ],\n",
       "       [0.8157525 ],\n",
       "       [0.8328242 ],\n",
       "       [0.63091403],\n",
       "       [0.77202106],\n",
       "       [0.72764283],\n",
       "       [0.75188905],\n",
       "       [0.7849378 ],\n",
       "       [0.7743379 ],\n",
       "       [0.80806667],\n",
       "       [0.8168359 ],\n",
       "       [0.8548574 ],\n",
       "       [0.74092567],\n",
       "       [0.88733524],\n",
       "       [0.7682151 ],\n",
       "       [0.8836154 ],\n",
       "       [0.731259  ],\n",
       "       [0.58021396],\n",
       "       [0.7243714 ],\n",
       "       [0.83076024],\n",
       "       [0.81083894],\n",
       "       [0.8472797 ],\n",
       "       [0.80935884],\n",
       "       [0.66896725],\n",
       "       [0.7446993 ],\n",
       "       [0.83795303],\n",
       "       [0.80565053],\n",
       "       [0.781305  ],\n",
       "       [0.7655693 ],\n",
       "       [0.8606804 ],\n",
       "       [0.8158412 ],\n",
       "       [0.8760878 ],\n",
       "       [0.709595  ],\n",
       "       [0.6857731 ],\n",
       "       [0.75088584],\n",
       "       [0.89501905],\n",
       "       [0.86626786],\n",
       "       [0.77178353],\n",
       "       [0.8806519 ],\n",
       "       [0.888383  ],\n",
       "       [0.8792538 ],\n",
       "       [0.59846145],\n",
       "       [0.76550835],\n",
       "       [0.81660265],\n",
       "       [0.8160653 ],\n",
       "       [0.8062127 ],\n",
       "       [0.699984  ]], dtype=float32)"
      ]
     },
     "execution_count": 39,
     "metadata": {},
     "output_type": "execute_result"
    }
   ],
   "source": [
    "p2"
   ]
  },
  {
   "cell_type": "code",
   "execution_count": 40,
   "id": "4054fefd",
   "metadata": {},
   "outputs": [
    {
     "data": {
      "text/plain": [
       "(3950, 1)"
      ]
     },
     "execution_count": 40,
     "metadata": {},
     "output_type": "execute_result"
    }
   ],
   "source": [
    "p2.shape"
   ]
  },
  {
   "cell_type": "code",
   "execution_count": 41,
   "id": "5cecd379",
   "metadata": {},
   "outputs": [
    {
     "name": "stdout",
     "output_type": "stream",
     "text": [
      "[0.91400987]\n",
      "[0.9141542]\n",
      "[0.9056739]\n",
      "[0.9185063]\n",
      "[0.9011613]\n",
      "[0.91469574]\n",
      "[0.90131027]\n",
      "[0.90007347]\n",
      "[0.9084721]\n",
      "[0.90773267]\n",
      "[0.9026123]\n",
      "[0.90130824]\n",
      "[0.9049255]\n",
      "[0.9013199]\n",
      "[0.90935695]\n",
      "[0.90218544]\n"
     ]
    }
   ],
   "source": [
    "indices = []\n",
    "i=0\n",
    "for p in p2:\n",
    "    if p>0.9:\n",
    "        print(p)\n",
    "        indices.append(i)\n",
    "    i+=1\n",
    "            \n",
    "    #(0:협박, 1:일상)"
   ]
  },
  {
   "cell_type": "code",
   "execution_count": 42,
   "id": "305effad",
   "metadata": {},
   "outputs": [
    {
     "data": {
      "text/plain": [
       "[604,\n",
       " 835,\n",
       " 1219,\n",
       " 1595,\n",
       " 1614,\n",
       " 1927,\n",
       " 2481,\n",
       " 2826,\n",
       " 2896,\n",
       " 2951,\n",
       " 3192,\n",
       " 3444,\n",
       " 3672,\n",
       " 3694,\n",
       " 3831,\n",
       " 3884]"
      ]
     },
     "execution_count": 42,
     "metadata": {},
     "output_type": "execute_result"
    }
   ],
   "source": [
    "indices"
   ]
  },
  {
   "cell_type": "code",
   "execution_count": 43,
   "id": "39ab65cd",
   "metadata": {},
   "outputs": [],
   "source": [
    "np.set_printoptions(threshold=10)"
   ]
  },
  {
   "cell_type": "code",
   "execution_count": 45,
   "id": "cc6bbc1f",
   "metadata": {},
   "outputs": [
    {
     "data": {
      "text/html": [
       "<div>\n",
       "<style scoped>\n",
       "    .dataframe tbody tr th:only-of-type {\n",
       "        vertical-align: middle;\n",
       "    }\n",
       "\n",
       "    .dataframe tbody tr th {\n",
       "        vertical-align: top;\n",
       "    }\n",
       "\n",
       "    .dataframe thead th {\n",
       "        text-align: right;\n",
       "    }\n",
       "</style>\n",
       "<table border=\"1\" class=\"dataframe\">\n",
       "  <thead>\n",
       "    <tr style=\"text-align: right;\">\n",
       "      <th></th>\n",
       "      <th>conversation</th>\n",
       "    </tr>\n",
       "  </thead>\n",
       "  <tbody>\n",
       "    <tr>\n",
       "      <th>0</th>\n",
       "      <td>지금 너 스스로를 죽여달라고 애원하는 것인가?\\n 아닙니다. 죄송합니다.\\n 죽을 ...</td>\n",
       "    </tr>\n",
       "    <tr>\n",
       "      <th>1</th>\n",
       "      <td>길동경찰서입니다.\\n9시 40분 마트에 폭발물을 설치할거다.\\n네?\\n똑바로 들어 ...</td>\n",
       "    </tr>\n",
       "    <tr>\n",
       "      <th>2</th>\n",
       "      <td>너 되게 귀여운거 알지? 나보다 작은 남자는 첨봤어.\\n그만해. 니들 놀리는거 재미...</td>\n",
       "    </tr>\n",
       "    <tr>\n",
       "      <th>3</th>\n",
       "      <td>어이 거기\\n예??\\n너 말이야 너. 이리 오라고\\n무슨 일.\\n너 옷 좋아보인다?...</td>\n",
       "    </tr>\n",
       "    <tr>\n",
       "      <th>4</th>\n",
       "      <td>저기요 혹시 날이 너무 뜨겁잖아요? 저희 회사에서 이 선크림 파는데 한 번 손등에 ...</td>\n",
       "    </tr>\n",
       "    <tr>\n",
       "      <th>...</th>\n",
       "      <td>...</td>\n",
       "    </tr>\n",
       "    <tr>\n",
       "      <th>3945</th>\n",
       "      <td>준하야 넌 대가리가 왜이렇게 크냐?\\n내 머리가 뭐.\\n밥먹으면 대가리만 크냐 너는...</td>\n",
       "    </tr>\n",
       "    <tr>\n",
       "      <th>3946</th>\n",
       "      <td>내가 지금 너 아들 김길준 데리고 있어. 살리고 싶으면 계좌에 1억만 보내\\n예.?...</td>\n",
       "    </tr>\n",
       "    <tr>\n",
       "      <th>3947</th>\n",
       "      <td>나는 씨 같은 사람 보면 참 신기하더라. 어떻게 저렇게 살지.\\n왜 그래. 들리겠어...</td>\n",
       "    </tr>\n",
       "    <tr>\n",
       "      <th>3948</th>\n",
       "      <td>누구맘대로 여기서 장사하래?\\n이게 무슨일입니까?\\n남의 구역에서 장사하려면 자릿세...</td>\n",
       "    </tr>\n",
       "    <tr>\n",
       "      <th>3949</th>\n",
       "      <td>희정씨\\n네?\\n주말에 시간이 넘쳐나나봐\\n갑자기 왜그러세요?\\n손이 빤짝빤짝 네일...</td>\n",
       "    </tr>\n",
       "  </tbody>\n",
       "</table>\n",
       "<p>3950 rows × 1 columns</p>\n",
       "</div>"
      ],
      "text/plain": [
       "                                           conversation\n",
       "0     지금 너 스스로를 죽여달라고 애원하는 것인가?\\n 아닙니다. 죄송합니다.\\n 죽을 ...\n",
       "1     길동경찰서입니다.\\n9시 40분 마트에 폭발물을 설치할거다.\\n네?\\n똑바로 들어 ...\n",
       "2     너 되게 귀여운거 알지? 나보다 작은 남자는 첨봤어.\\n그만해. 니들 놀리는거 재미...\n",
       "3     어이 거기\\n예??\\n너 말이야 너. 이리 오라고\\n무슨 일.\\n너 옷 좋아보인다?...\n",
       "4     저기요 혹시 날이 너무 뜨겁잖아요? 저희 회사에서 이 선크림 파는데 한 번 손등에 ...\n",
       "...                                                 ...\n",
       "3945  준하야 넌 대가리가 왜이렇게 크냐?\\n내 머리가 뭐.\\n밥먹으면 대가리만 크냐 너는...\n",
       "3946  내가 지금 너 아들 김길준 데리고 있어. 살리고 싶으면 계좌에 1억만 보내\\n예.?...\n",
       "3947  나는 씨 같은 사람 보면 참 신기하더라. 어떻게 저렇게 살지.\\n왜 그래. 들리겠어...\n",
       "3948  누구맘대로 여기서 장사하래?\\n이게 무슨일입니까?\\n남의 구역에서 장사하려면 자릿세...\n",
       "3949  희정씨\\n네?\\n주말에 시간이 넘쳐나나봐\\n갑자기 왜그러세요?\\n손이 빤짝빤짝 네일...\n",
       "\n",
       "[3950 rows x 1 columns]"
      ]
     },
     "execution_count": 45,
     "metadata": {},
     "output_type": "execute_result"
    }
   ],
   "source": [
    "dktc_df[['conversation']]"
   ]
  },
  {
   "cell_type": "code",
   "execution_count": 46,
   "id": "812f4e5b",
   "metadata": {},
   "outputs": [
    {
     "name": "stdout",
     "output_type": "stream",
     "text": [
      "conversation    고객님 고객님의 정보가 유출되었습니다. 어제부터 모르는 번호로 전화가 오지 않으셨습...\n",
      "Name: 604, dtype: object\n",
      "====================================================\n",
      "conversation    저 그 이번 주말에 거리에서 집회가 있을 예정입니다. 각 가맹점 마다 사람 세 명씩...\n",
      "Name: 835, dtype: object\n",
      "====================================================\n",
      "conversation    어떻게 너 같은 애가 우리 오빠랑 결혼을 할 수가 있어?\\n선아야. 무슨 말을 그렇...\n",
      "Name: 1219, dtype: object\n",
      "====================================================\n",
      "conversation    강대리 당신 자리는 오늘부터 저기야\\n네.? 저기 몇 년간 사용 안 하던 창고 아닙...\n",
      "Name: 1595, dtype: object\n",
      "====================================================\n",
      "conversation    오늘 저녁에 회사 업무 끝나고 사장님 생일 때 할 공연 준비해야하는거 알지? 다 남...\n",
      "Name: 1614, dtype: object\n",
      "====================================================\n",
      "conversation    강인턴 혹시 대학은 뭐 어디 나왔나? 아 이런거 물어보는 거 실례려나\\n아유 실례는...\n",
      "Name: 1927, dtype: object\n",
      "====================================================\n",
      "conversation    민지야 나 요즘 댄스 배우는데 돈이 없어 7만원만 빌려주라.\\n응? 7만원?? 나 ...\n",
      "Name: 2481, dtype: object\n",
      "====================================================\n",
      "conversation    8시에 회의 못한다는게 말이 돼?\\n출근시간이 9시인데 어떻게 8시에 해요?\\n임원...\n",
      "Name: 2826, dtype: object\n",
      "====================================================\n",
      "conversation    오는 연휴에 연차 1일 더 써서 조금 길게 쉬고올 수 있을까요?\\n안돼. 뭐 땜에 ...\n",
      "Name: 2896, dtype: object\n",
      "====================================================\n",
      "conversation    와 진짜 쟨 진짜 회사를 차라리 나오지를 말지 일도 못하는게\\n네?!\\n뭔 대들어 ...\n",
      "Name: 2951, dtype: object\n",
      "====================================================\n",
      "conversation    저기 우리 애가 아직 어린데 애기 안고 영화보면 저 1명 몫만 영화값 내면 되죠?\\...\n",
      "Name: 3192, dtype: object\n",
      "====================================================\n",
      "conversation    오늘 신규 입사하신 분과 담당할 동물 다시 재 배정하겠습니다. 이 배정 그대로 5년...\n",
      "Name: 3444, dtype: object\n",
      "====================================================\n",
      "conversation    안녕하세요 상담원 안보미입니다. 무엇을 도와드릴까요?\\n 제가 이번에 테블렛를 샀는...\n",
      "Name: 3672, dtype: object\n",
      "====================================================\n",
      "conversation    너는 여기에 와서는 안되는 사람이야 알어?\\n네? 저는 애들을 가르킨 죄밖에 없어요...\n",
      "Name: 3694, dtype: object\n",
      "====================================================\n",
      "conversation    야 넌 무슨 지금 이 시기에 전기방석을 쓰고 있냐?\\n아 제가 몸이 차가운 성질이라...\n",
      "Name: 3831, dtype: object\n",
      "====================================================\n",
      "conversation    어이 김사원 이리 좀 와보게나\\n예 사장님 무슨일이십니까?\\n내가 어제 구두를 맡긴...\n",
      "Name: 3884, dtype: object\n",
      "====================================================\n"
     ]
    }
   ],
   "source": [
    "for i in indices:\n",
    "    print(dktc_df[['conversation']].iloc[i])\n",
    "    print('====================================================')"
   ]
  },
  {
   "cell_type": "code",
   "execution_count": null,
   "id": "4d66efeb",
   "metadata": {},
   "outputs": [],
   "source": []
  }
 ],
 "metadata": {
  "kernelspec": {
   "display_name": "Python 3 (ipykernel)",
   "language": "python",
   "name": "python3"
  },
  "language_info": {
   "codemirror_mode": {
    "name": "ipython",
    "version": 3
   },
   "file_extension": ".py",
   "mimetype": "text/x-python",
   "name": "python",
   "nbconvert_exporter": "python",
   "pygments_lexer": "ipython3",
   "version": "3.9.7"
  }
 },
 "nbformat": 4,
 "nbformat_minor": 5
}
