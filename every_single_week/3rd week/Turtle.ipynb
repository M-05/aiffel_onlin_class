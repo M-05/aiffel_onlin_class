{
 "cells": [
  {
   "cell_type": "code",
   "execution_count": 1,
   "id": "1641f715",
   "metadata": {
    "collapsed": true
   },
   "outputs": [
    {
     "name": "stdout",
     "output_type": "stream",
     "text": [
      "Collecting ColabTurtle\n",
      "  Downloading ColabTurtle-2.1.0.tar.gz (6.8 kB)\n",
      "  Preparing metadata (setup.py) ... \u001b[?25ldone\n",
      "\u001b[?25hBuilding wheels for collected packages: ColabTurtle\n",
      "  Building wheel for ColabTurtle (setup.py) ... \u001b[?25ldone\n",
      "\u001b[?25h  Created wheel for ColabTurtle: filename=ColabTurtle-2.1.0-py3-none-any.whl size=7657 sha256=2f3e4509d660db3201f8fd0a2dcf198595eaebd855e297f5daeb1397ff28413c\n",
      "  Stored in directory: /aiffel/.cache/pip/wheels/a8/ab/ce/4aca5e858d2561104f45e6164390067231381836678b908064\n",
      "Successfully built ColabTurtle\n",
      "Installing collected packages: ColabTurtle\n",
      "Successfully installed ColabTurtle-2.1.0\n",
      "\u001b[33mWARNING: Running pip as the 'root' user can result in broken permissions and conflicting behaviour with the system package manager. It is recommended to use a virtual environment instead: https://pip.pypa.io/warnings/venv\u001b[0m\u001b[33m\n",
      "\u001b[0m"
     ]
    }
   ],
   "source": [
    "!pip install ColabTurtle"
   ]
  },
  {
   "cell_type": "code",
   "execution_count": 1,
   "id": "3d76353e",
   "metadata": {},
   "outputs": [
    {
     "data": {
      "text/html": [
       "\n",
       "      <svg width=\"800\" height=\"500\">\n",
       "        <rect width=\"100%\" height=\"100%\" fill=\"black\"/>\n",
       "        \n",
       "        <g visibility=visible transform=\"rotate(360,400,250) translate(382, 232)\">\n",
       "<path style=\" stroke:none;fill-rule:evenodd;fill:white;fill-opacity:1;\" d=\"M 18.214844 0.632812 C 16.109375 1.800781 15.011719 4.074219 15.074219 7.132812 L 15.085938 7.652344 L 14.785156 7.496094 C 13.476562 6.824219 11.957031 6.671875 10.40625 7.066406 C 8.46875 7.550781 6.515625 9.15625 4.394531 11.992188 C 3.0625 13.777344 2.679688 14.636719 3.042969 15.027344 L 3.15625 15.152344 L 3.519531 15.152344 C 4.238281 15.152344 4.828125 14.886719 8.1875 13.039062 C 9.386719 12.378906 10.371094 11.839844 10.378906 11.839844 C 10.386719 11.839844 10.355469 11.929688 10.304688 12.035156 C 9.832031 13.09375 9.257812 14.820312 8.96875 16.078125 C 7.914062 20.652344 8.617188 24.53125 11.070312 27.660156 C 11.351562 28.015625 11.363281 27.914062 10.972656 28.382812 C 8.925781 30.84375 7.945312 33.28125 8.238281 35.1875 C 8.289062 35.527344 8.28125 35.523438 8.917969 35.523438 C 10.941406 35.523438 13.074219 34.207031 15.136719 31.6875 C 15.359375 31.417969 15.328125 31.425781 15.5625 31.574219 C 16.292969 32.042969 18.023438 32.964844 18.175781 32.964844 C 18.335938 32.964844 19.941406 32.210938 20.828125 31.71875 C 20.996094 31.625 21.136719 31.554688 21.136719 31.558594 C 21.203125 31.664062 21.898438 32.414062 22.222656 32.730469 C 23.835938 34.300781 25.5625 35.132812 27.582031 35.300781 C 27.90625 35.328125 27.9375 35.308594 28.007812 34.984375 C 28.382812 33.242188 27.625 30.925781 25.863281 28.425781 L 25.542969 27.96875 L 25.699219 27.785156 C 28.945312 23.960938 29.132812 18.699219 26.257812 11.96875 L 26.207031 11.84375 L 27.945312 12.703125 C 31.53125 14.476562 32.316406 14.800781 33.03125 14.800781 C 33.976562 14.800781 33.78125 13.9375 32.472656 12.292969 C 28.519531 7.355469 25.394531 5.925781 21.921875 7.472656 L 21.558594 7.636719 L 21.578125 7.542969 C 21.699219 6.992188 21.761719 5.742188 21.699219 5.164062 C 21.496094 3.296875 20.664062 1.964844 19.003906 0.855469 C 18.480469 0.503906 18.457031 0.5 18.214844 0.632812\"/>\n",
       "</g>\n",
       "      </svg>\n",
       "    "
      ],
      "text/plain": [
       "<IPython.core.display.HTML object>"
      ]
     },
     "metadata": {},
     "output_type": "display_data"
    }
   ],
   "source": [
    "from ColabTurtle.Turtle import *\n",
    "import ColabTurtle.Turtle as t\n",
    "initializeTurtle()\n",
    "t.shape('turtle')"
   ]
  },
  {
   "cell_type": "code",
   "execution_count": 4,
   "id": "1b916dd7",
   "metadata": {
    "collapsed": true
   },
   "outputs": [
    {
     "data": {
      "text/plain": [
       "['DEFAULT_BACKGROUND_COLOR',\n",
       " 'DEFAULT_IS_PEN_DOWN',\n",
       " 'DEFAULT_PEN_COLOR',\n",
       " 'DEFAULT_PEN_WIDTH',\n",
       " 'DEFAULT_SPEED',\n",
       " 'DEFAULT_SVG_LINES_STRING',\n",
       " 'DEFAULT_TURTLE_DEGREE',\n",
       " 'DEFAULT_TURTLE_SHAPE',\n",
       " 'DEFAULT_TURTLE_VISIBILITY',\n",
       " 'DEFAULT_WINDOW_SIZE',\n",
       " 'HTML',\n",
       " 'SPEED_TO_SEC_MAP',\n",
       " 'SVG_TEMPLATE',\n",
       " 'TURTLE_CIRCLE_SVG_TEMPLATE',\n",
       " 'TURTLE_TURTLE_SVG_TEMPLATE',\n",
       " 'VALID_COLORS',\n",
       " 'VALID_COLORS_SET',\n",
       " 'VALID_TURTLE_SHAPES',\n",
       " '__builtins__',\n",
       " '__cached__',\n",
       " '__doc__',\n",
       " '__file__',\n",
       " '__loader__',\n",
       " '__name__',\n",
       " '__package__',\n",
       " '__spec__',\n",
       " '_generateSvgDrawing',\n",
       " '_generateTurtleSvgDrawing',\n",
       " '_moveToNewPosition',\n",
       " '_processColor',\n",
       " '_speedToSec',\n",
       " '_updateDrawing',\n",
       " '_validateColorString',\n",
       " '_validateColorTuple',\n",
       " 'back',\n",
       " 'background_color',\n",
       " 'backward',\n",
       " 'bgcolor',\n",
       " 'bk',\n",
       " 'clear',\n",
       " 'color',\n",
       " 'display',\n",
       " 'distance',\n",
       " 'down',\n",
       " 'drawing_window',\n",
       " 'face',\n",
       " 'fd',\n",
       " 'forward',\n",
       " 'getheading',\n",
       " 'getx',\n",
       " 'gety',\n",
       " 'goto',\n",
       " 'heading',\n",
       " 'hideturtle',\n",
       " 'home',\n",
       " 'ht',\n",
       " 'initializeTurtle',\n",
       " 'is_pen_down',\n",
       " 'is_turtle_visible',\n",
       " 'isdown',\n",
       " 'isvisible',\n",
       " 'left',\n",
       " 'lt',\n",
       " 'math',\n",
       " 'pd',\n",
       " 'pen_color',\n",
       " 'pen_width',\n",
       " 'pencolor',\n",
       " 'pendown',\n",
       " 'pensize',\n",
       " 'penup',\n",
       " 'pos',\n",
       " 'position',\n",
       " 'pu',\n",
       " 're',\n",
       " 'right',\n",
       " 'rt',\n",
       " 'seth',\n",
       " 'setheading',\n",
       " 'setpos',\n",
       " 'setposition',\n",
       " 'setx',\n",
       " 'sety',\n",
       " 'shape',\n",
       " 'showturtle',\n",
       " 'speed',\n",
       " 'st',\n",
       " 'svg_lines_string',\n",
       " 'time',\n",
       " 'turtle_degree',\n",
       " 'turtle_pos',\n",
       " 'turtle_shape',\n",
       " 'turtle_speed',\n",
       " 'up',\n",
       " 'width',\n",
       " 'window_height',\n",
       " 'window_size',\n",
       " 'window_width',\n",
       " 'write',\n",
       " 'xcor',\n",
       " 'ycor']"
      ]
     },
     "execution_count": 4,
     "metadata": {},
     "output_type": "execute_result"
    }
   ],
   "source": [
    "dir(t)\n",
    "#forward() right() left() backward() color() speed() bgcolor()"
   ]
  },
  {
   "cell_type": "code",
   "execution_count": 14,
   "id": "384664f3",
   "metadata": {},
   "outputs": [
    {
     "data": {
      "text/html": [
       "\n",
       "      <svg width=\"800\" height=\"500\">\n",
       "        <rect width=\"100%\" height=\"100%\" fill=\"grey\"/>\n",
       "        <line x1=\"400\" y1=\"250\" x2=\"400.0\" y2=\"100.0\" stroke-linecap=\"round\" style=\"stroke:white;stroke-width:4\"/><line x1=\"400.0\" y1=\"100.0\" x2=\"250.0\" y2=\"100.0\" stroke-linecap=\"round\" style=\"stroke:white;stroke-width:4\"/><line x1=\"250.0\" y1=\"100.0\" x2=\"250.0\" y2=\"250.0\" stroke-linecap=\"round\" style=\"stroke:white;stroke-width:4\"/><line x1=\"250.0\" y1=\"250.0\" x2=\"400.0\" y2=\"250.0\" stroke-linecap=\"round\" style=\"stroke:white;stroke-width:4\"/>\n",
       "        <g visibility=visible transform=\"rotate(360,400.0,250.0) translate(382.0, 232.0)\">\n",
       "<path style=\" stroke:none;fill-rule:evenodd;fill:white;fill-opacity:1;\" d=\"M 18.214844 0.632812 C 16.109375 1.800781 15.011719 4.074219 15.074219 7.132812 L 15.085938 7.652344 L 14.785156 7.496094 C 13.476562 6.824219 11.957031 6.671875 10.40625 7.066406 C 8.46875 7.550781 6.515625 9.15625 4.394531 11.992188 C 3.0625 13.777344 2.679688 14.636719 3.042969 15.027344 L 3.15625 15.152344 L 3.519531 15.152344 C 4.238281 15.152344 4.828125 14.886719 8.1875 13.039062 C 9.386719 12.378906 10.371094 11.839844 10.378906 11.839844 C 10.386719 11.839844 10.355469 11.929688 10.304688 12.035156 C 9.832031 13.09375 9.257812 14.820312 8.96875 16.078125 C 7.914062 20.652344 8.617188 24.53125 11.070312 27.660156 C 11.351562 28.015625 11.363281 27.914062 10.972656 28.382812 C 8.925781 30.84375 7.945312 33.28125 8.238281 35.1875 C 8.289062 35.527344 8.28125 35.523438 8.917969 35.523438 C 10.941406 35.523438 13.074219 34.207031 15.136719 31.6875 C 15.359375 31.417969 15.328125 31.425781 15.5625 31.574219 C 16.292969 32.042969 18.023438 32.964844 18.175781 32.964844 C 18.335938 32.964844 19.941406 32.210938 20.828125 31.71875 C 20.996094 31.625 21.136719 31.554688 21.136719 31.558594 C 21.203125 31.664062 21.898438 32.414062 22.222656 32.730469 C 23.835938 34.300781 25.5625 35.132812 27.582031 35.300781 C 27.90625 35.328125 27.9375 35.308594 28.007812 34.984375 C 28.382812 33.242188 27.625 30.925781 25.863281 28.425781 L 25.542969 27.96875 L 25.699219 27.785156 C 28.945312 23.960938 29.132812 18.699219 26.257812 11.96875 L 26.207031 11.84375 L 27.945312 12.703125 C 31.53125 14.476562 32.316406 14.800781 33.03125 14.800781 C 33.976562 14.800781 33.78125 13.9375 32.472656 12.292969 C 28.519531 7.355469 25.394531 5.925781 21.921875 7.472656 L 21.558594 7.636719 L 21.578125 7.542969 C 21.699219 6.992188 21.761719 5.742188 21.699219 5.164062 C 21.496094 3.296875 20.664062 1.964844 19.003906 0.855469 C 18.480469 0.503906 18.457031 0.5 18.214844 0.632812\"/>\n",
       "</g>\n",
       "      </svg>\n",
       "    "
      ],
      "text/plain": [
       "<IPython.core.display.HTML object>"
      ]
     },
     "metadata": {},
     "output_type": "display_data"
    }
   ],
   "source": [
    "t.initializeTurtle()\n",
    "\n",
    "t.forward(150)\n",
    "t.left(90)\n",
    "t.forward(150)\n",
    "t.left(90)\n",
    "t.forward(150)\n",
    "t.left(90)\n",
    "t.forward(150)\n",
    "t.left(90)\n",
    "\n",
    "#자유분방하게 이동할 경우도 있다."
   ]
  },
  {
   "cell_type": "code",
   "execution_count": 25,
   "id": "0e96cd1c",
   "metadata": {},
   "outputs": [],
   "source": [
    "t.bgcolor(\"grey\")"
   ]
  },
  {
   "cell_type": "code",
   "execution_count": 27,
   "id": "def5a60b",
   "metadata": {},
   "outputs": [
    {
     "data": {
      "text/html": [
       "\n",
       "      <svg width=\"800\" height=\"500\">\n",
       "        <rect width=\"100%\" height=\"100%\" fill=\"black\"/>\n",
       "        <line x1=\"400\" y1=\"250\" x2=\"400.0\" y2=\"240.0\" stroke-linecap=\"round\" style=\"stroke:white;stroke-width:4\"/><line x1=\"400.0\" y1=\"240.0\" x2=\"398.955\" y2=\"230.055\" stroke-linecap=\"round\" style=\"stroke:white;stroke-width:4\"/><line x1=\"398.955\" y1=\"230.055\" x2=\"396.876\" y2=\"220.274\" stroke-linecap=\"round\" style=\"stroke:white;stroke-width:4\"/><line x1=\"396.876\" y1=\"220.274\" x2=\"393.786\" y2=\"210.763\" stroke-linecap=\"round\" style=\"stroke:white;stroke-width:4\"/><line x1=\"393.786\" y1=\"210.763\" x2=\"389.719\" y2=\"201.628\" stroke-linecap=\"round\" style=\"stroke:white;stroke-width:4\"/><line x1=\"389.719\" y1=\"201.628\" x2=\"384.719\" y2=\"192.968\" stroke-linecap=\"round\" style=\"stroke:white;stroke-width:4\"/><line x1=\"384.719\" y1=\"192.968\" x2=\"378.841\" y2=\"184.878\" stroke-linecap=\"round\" style=\"stroke:white;stroke-width:4\"/><line x1=\"378.841\" y1=\"184.878\" x2=\"372.15\" y2=\"177.447\" stroke-linecap=\"round\" style=\"stroke:white;stroke-width:4\"/><line x1=\"372.15\" y1=\"177.447\" x2=\"364.719\" y2=\"170.756\" stroke-linecap=\"round\" style=\"stroke:white;stroke-width:4\"/><line x1=\"364.719\" y1=\"170.756\" x2=\"356.629\" y2=\"164.878\" stroke-linecap=\"round\" style=\"stroke:white;stroke-width:4\"/><line x1=\"356.629\" y1=\"164.878\" x2=\"347.969\" y2=\"159.878\" stroke-linecap=\"round\" style=\"stroke:white;stroke-width:4\"/><line x1=\"347.969\" y1=\"159.878\" x2=\"338.834\" y2=\"155.811\" stroke-linecap=\"round\" style=\"stroke:white;stroke-width:4\"/><line x1=\"338.834\" y1=\"155.811\" x2=\"329.323\" y2=\"152.721\" stroke-linecap=\"round\" style=\"stroke:white;stroke-width:4\"/><line x1=\"329.323\" y1=\"152.721\" x2=\"319.542\" y2=\"150.642\" stroke-linecap=\"round\" style=\"stroke:white;stroke-width:4\"/><line x1=\"319.542\" y1=\"150.642\" x2=\"309.597\" y2=\"149.597\" stroke-linecap=\"round\" style=\"stroke:white;stroke-width:4\"/><line x1=\"309.597\" y1=\"149.597\" x2=\"299.597\" y2=\"149.597\" stroke-linecap=\"round\" style=\"stroke:white;stroke-width:4\"/><line x1=\"299.597\" y1=\"149.597\" x2=\"289.652\" y2=\"150.642\" stroke-linecap=\"round\" style=\"stroke:white;stroke-width:4\"/><line x1=\"289.652\" y1=\"150.642\" x2=\"279.871\" y2=\"152.721\" stroke-linecap=\"round\" style=\"stroke:white;stroke-width:4\"/><line x1=\"279.871\" y1=\"152.721\" x2=\"270.36\" y2=\"155.811\" stroke-linecap=\"round\" style=\"stroke:white;stroke-width:4\"/><line x1=\"270.36\" y1=\"155.811\" x2=\"261.225\" y2=\"159.878\" stroke-linecap=\"round\" style=\"stroke:white;stroke-width:4\"/><line x1=\"261.225\" y1=\"159.878\" x2=\"252.565\" y2=\"164.878\" stroke-linecap=\"round\" style=\"stroke:white;stroke-width:4\"/><line x1=\"252.565\" y1=\"164.878\" x2=\"244.475\" y2=\"170.756\" stroke-linecap=\"round\" style=\"stroke:white;stroke-width:4\"/><line x1=\"244.475\" y1=\"170.756\" x2=\"237.044\" y2=\"177.447\" stroke-linecap=\"round\" style=\"stroke:white;stroke-width:4\"/><line x1=\"237.044\" y1=\"177.447\" x2=\"230.353\" y2=\"184.878\" stroke-linecap=\"round\" style=\"stroke:white;stroke-width:4\"/><line x1=\"230.353\" y1=\"184.878\" x2=\"224.475\" y2=\"192.968\" stroke-linecap=\"round\" style=\"stroke:white;stroke-width:4\"/><line x1=\"224.475\" y1=\"192.968\" x2=\"219.475\" y2=\"201.628\" stroke-linecap=\"round\" style=\"stroke:white;stroke-width:4\"/><line x1=\"219.475\" y1=\"201.628\" x2=\"215.408\" y2=\"210.763\" stroke-linecap=\"round\" style=\"stroke:white;stroke-width:4\"/><line x1=\"215.408\" y1=\"210.763\" x2=\"212.318\" y2=\"220.274\" stroke-linecap=\"round\" style=\"stroke:white;stroke-width:4\"/><line x1=\"212.318\" y1=\"220.274\" x2=\"210.239\" y2=\"230.055\" stroke-linecap=\"round\" style=\"stroke:white;stroke-width:4\"/><line x1=\"210.239\" y1=\"230.055\" x2=\"209.194\" y2=\"240.0\" stroke-linecap=\"round\" style=\"stroke:white;stroke-width:4\"/><line x1=\"209.194\" y1=\"240.0\" x2=\"209.194\" y2=\"250.0\" stroke-linecap=\"round\" style=\"stroke:white;stroke-width:4\"/><line x1=\"209.194\" y1=\"250.0\" x2=\"210.239\" y2=\"259.945\" stroke-linecap=\"round\" style=\"stroke:white;stroke-width:4\"/><line x1=\"210.239\" y1=\"259.945\" x2=\"212.318\" y2=\"269.726\" stroke-linecap=\"round\" style=\"stroke:white;stroke-width:4\"/><line x1=\"212.318\" y1=\"269.726\" x2=\"215.408\" y2=\"279.237\" stroke-linecap=\"round\" style=\"stroke:white;stroke-width:4\"/><line x1=\"215.408\" y1=\"279.237\" x2=\"219.475\" y2=\"288.372\" stroke-linecap=\"round\" style=\"stroke:white;stroke-width:4\"/><line x1=\"219.475\" y1=\"288.372\" x2=\"224.475\" y2=\"297.032\" stroke-linecap=\"round\" style=\"stroke:white;stroke-width:4\"/><line x1=\"224.475\" y1=\"297.032\" x2=\"230.353\" y2=\"305.122\" stroke-linecap=\"round\" style=\"stroke:white;stroke-width:4\"/><line x1=\"230.353\" y1=\"305.122\" x2=\"237.044\" y2=\"312.553\" stroke-linecap=\"round\" style=\"stroke:white;stroke-width:4\"/><line x1=\"237.044\" y1=\"312.553\" x2=\"244.475\" y2=\"319.244\" stroke-linecap=\"round\" style=\"stroke:white;stroke-width:4\"/><line x1=\"244.475\" y1=\"319.244\" x2=\"252.565\" y2=\"325.122\" stroke-linecap=\"round\" style=\"stroke:white;stroke-width:4\"/><line x1=\"252.565\" y1=\"325.122\" x2=\"261.225\" y2=\"330.122\" stroke-linecap=\"round\" style=\"stroke:white;stroke-width:4\"/><line x1=\"261.225\" y1=\"330.122\" x2=\"270.36\" y2=\"334.189\" stroke-linecap=\"round\" style=\"stroke:white;stroke-width:4\"/><line x1=\"270.36\" y1=\"334.189\" x2=\"279.871\" y2=\"337.279\" stroke-linecap=\"round\" style=\"stroke:white;stroke-width:4\"/><line x1=\"279.871\" y1=\"337.279\" x2=\"289.652\" y2=\"339.358\" stroke-linecap=\"round\" style=\"stroke:white;stroke-width:4\"/><line x1=\"289.652\" y1=\"339.358\" x2=\"299.597\" y2=\"340.403\" stroke-linecap=\"round\" style=\"stroke:white;stroke-width:4\"/><line x1=\"299.597\" y1=\"340.403\" x2=\"309.597\" y2=\"340.403\" stroke-linecap=\"round\" style=\"stroke:white;stroke-width:4\"/><line x1=\"309.597\" y1=\"340.403\" x2=\"319.542\" y2=\"339.358\" stroke-linecap=\"round\" style=\"stroke:white;stroke-width:4\"/><line x1=\"319.542\" y1=\"339.358\" x2=\"329.323\" y2=\"337.279\" stroke-linecap=\"round\" style=\"stroke:white;stroke-width:4\"/><line x1=\"329.323\" y1=\"337.279\" x2=\"338.834\" y2=\"334.189\" stroke-linecap=\"round\" style=\"stroke:white;stroke-width:4\"/><line x1=\"338.834\" y1=\"334.189\" x2=\"347.969\" y2=\"330.122\" stroke-linecap=\"round\" style=\"stroke:white;stroke-width:4\"/><line x1=\"347.969\" y1=\"330.122\" x2=\"356.629\" y2=\"325.122\" stroke-linecap=\"round\" style=\"stroke:white;stroke-width:4\"/><line x1=\"356.629\" y1=\"325.122\" x2=\"364.719\" y2=\"319.244\" stroke-linecap=\"round\" style=\"stroke:white;stroke-width:4\"/><line x1=\"364.719\" y1=\"319.244\" x2=\"372.15\" y2=\"312.553\" stroke-linecap=\"round\" style=\"stroke:white;stroke-width:4\"/><line x1=\"372.15\" y1=\"312.553\" x2=\"378.841\" y2=\"305.122\" stroke-linecap=\"round\" style=\"stroke:white;stroke-width:4\"/><line x1=\"378.841\" y1=\"305.122\" x2=\"384.719\" y2=\"297.032\" stroke-linecap=\"round\" style=\"stroke:white;stroke-width:4\"/><line x1=\"384.719\" y1=\"297.032\" x2=\"389.719\" y2=\"288.372\" stroke-linecap=\"round\" style=\"stroke:white;stroke-width:4\"/><line x1=\"389.719\" y1=\"288.372\" x2=\"393.786\" y2=\"279.237\" stroke-linecap=\"round\" style=\"stroke:white;stroke-width:4\"/><line x1=\"393.786\" y1=\"279.237\" x2=\"396.876\" y2=\"269.726\" stroke-linecap=\"round\" style=\"stroke:white;stroke-width:4\"/><line x1=\"396.876\" y1=\"269.726\" x2=\"398.955\" y2=\"259.945\" stroke-linecap=\"round\" style=\"stroke:white;stroke-width:4\"/><line x1=\"398.955\" y1=\"259.945\" x2=\"400.0\" y2=\"250.0\" stroke-linecap=\"round\" style=\"stroke:white;stroke-width:4\"/>\n",
       "        <g visibility=visible transform=\"rotate(360.0,400.0,250.0) translate(382.0, 232.0)\">\n",
       "<path style=\" stroke:none;fill-rule:evenodd;fill:white;fill-opacity:1;\" d=\"M 18.214844 0.632812 C 16.109375 1.800781 15.011719 4.074219 15.074219 7.132812 L 15.085938 7.652344 L 14.785156 7.496094 C 13.476562 6.824219 11.957031 6.671875 10.40625 7.066406 C 8.46875 7.550781 6.515625 9.15625 4.394531 11.992188 C 3.0625 13.777344 2.679688 14.636719 3.042969 15.027344 L 3.15625 15.152344 L 3.519531 15.152344 C 4.238281 15.152344 4.828125 14.886719 8.1875 13.039062 C 9.386719 12.378906 10.371094 11.839844 10.378906 11.839844 C 10.386719 11.839844 10.355469 11.929688 10.304688 12.035156 C 9.832031 13.09375 9.257812 14.820312 8.96875 16.078125 C 7.914062 20.652344 8.617188 24.53125 11.070312 27.660156 C 11.351562 28.015625 11.363281 27.914062 10.972656 28.382812 C 8.925781 30.84375 7.945312 33.28125 8.238281 35.1875 C 8.289062 35.527344 8.28125 35.523438 8.917969 35.523438 C 10.941406 35.523438 13.074219 34.207031 15.136719 31.6875 C 15.359375 31.417969 15.328125 31.425781 15.5625 31.574219 C 16.292969 32.042969 18.023438 32.964844 18.175781 32.964844 C 18.335938 32.964844 19.941406 32.210938 20.828125 31.71875 C 20.996094 31.625 21.136719 31.554688 21.136719 31.558594 C 21.203125 31.664062 21.898438 32.414062 22.222656 32.730469 C 23.835938 34.300781 25.5625 35.132812 27.582031 35.300781 C 27.90625 35.328125 27.9375 35.308594 28.007812 34.984375 C 28.382812 33.242188 27.625 30.925781 25.863281 28.425781 L 25.542969 27.96875 L 25.699219 27.785156 C 28.945312 23.960938 29.132812 18.699219 26.257812 11.96875 L 26.207031 11.84375 L 27.945312 12.703125 C 31.53125 14.476562 32.316406 14.800781 33.03125 14.800781 C 33.976562 14.800781 33.78125 13.9375 32.472656 12.292969 C 28.519531 7.355469 25.394531 5.925781 21.921875 7.472656 L 21.558594 7.636719 L 21.578125 7.542969 C 21.699219 6.992188 21.761719 5.742188 21.699219 5.164062 C 21.496094 3.296875 20.664062 1.964844 19.003906 0.855469 C 18.480469 0.503906 18.457031 0.5 18.214844 0.632812\"/>\n",
       "</g>\n",
       "      </svg>\n",
       "    "
      ],
      "text/plain": [
       "<IPython.core.display.HTML object>"
      ]
     },
     "metadata": {},
     "output_type": "display_data"
    }
   ],
   "source": [
    "def Circle(length, n):\n",
    "    for x in range(n):\n",
    "        t.forward(length)\n",
    "        t.left(360 / n)\n",
    "        \n",
    "t.initializeTurtle()\n",
    "t.speed(13)\n",
    "\n",
    "Circle(10, 60)"
   ]
  },
  {
   "cell_type": "code",
   "execution_count": 2,
   "id": "2115b8c3",
   "metadata": {},
   "outputs": [
    {
     "data": {
      "text/html": [
       "\n",
       "      <svg width=\"800\" height=\"500\">\n",
       "        <rect width=\"100%\" height=\"100%\" fill=\"black\"/>\n",
       "        <line x1=\"400\" y1=\"250\" x2=\"400.0\" y2=\"240.0\" stroke-linecap=\"round\" style=\"stroke:white;stroke-width:4\"/><line x1=\"400.0\" y1=\"240.0\" x2=\"398.955\" y2=\"230.055\" stroke-linecap=\"round\" style=\"stroke:red;stroke-width:4\"/><line x1=\"398.955\" y1=\"230.055\" x2=\"396.876\" y2=\"220.274\" stroke-linecap=\"round\" style=\"stroke:white;stroke-width:4\"/><line x1=\"396.876\" y1=\"220.274\" x2=\"393.786\" y2=\"210.763\" stroke-linecap=\"round\" style=\"stroke:purple;stroke-width:4\"/><line x1=\"393.786\" y1=\"210.763\" x2=\"389.719\" y2=\"201.628\" stroke-linecap=\"round\" style=\"stroke:red;stroke-width:4\"/><line x1=\"389.719\" y1=\"201.628\" x2=\"384.719\" y2=\"192.968\" stroke-linecap=\"round\" style=\"stroke:white;stroke-width:4\"/><line x1=\"384.719\" y1=\"192.968\" x2=\"378.841\" y2=\"184.878\" stroke-linecap=\"round\" style=\"stroke:purple;stroke-width:4\"/><line x1=\"378.841\" y1=\"184.878\" x2=\"372.15\" y2=\"177.447\" stroke-linecap=\"round\" style=\"stroke:red;stroke-width:4\"/><line x1=\"372.15\" y1=\"177.447\" x2=\"364.719\" y2=\"170.756\" stroke-linecap=\"round\" style=\"stroke:white;stroke-width:4\"/><line x1=\"364.719\" y1=\"170.756\" x2=\"356.629\" y2=\"164.878\" stroke-linecap=\"round\" style=\"stroke:purple;stroke-width:4\"/><line x1=\"356.629\" y1=\"164.878\" x2=\"347.969\" y2=\"159.878\" stroke-linecap=\"round\" style=\"stroke:red;stroke-width:4\"/><line x1=\"347.969\" y1=\"159.878\" x2=\"338.834\" y2=\"155.811\" stroke-linecap=\"round\" style=\"stroke:white;stroke-width:4\"/><line x1=\"338.834\" y1=\"155.811\" x2=\"329.323\" y2=\"152.721\" stroke-linecap=\"round\" style=\"stroke:purple;stroke-width:4\"/><line x1=\"329.323\" y1=\"152.721\" x2=\"319.542\" y2=\"150.642\" stroke-linecap=\"round\" style=\"stroke:red;stroke-width:4\"/><line x1=\"319.542\" y1=\"150.642\" x2=\"309.597\" y2=\"149.597\" stroke-linecap=\"round\" style=\"stroke:white;stroke-width:4\"/><line x1=\"309.597\" y1=\"149.597\" x2=\"299.597\" y2=\"149.597\" stroke-linecap=\"round\" style=\"stroke:purple;stroke-width:4\"/><line x1=\"299.597\" y1=\"149.597\" x2=\"289.652\" y2=\"150.642\" stroke-linecap=\"round\" style=\"stroke:red;stroke-width:4\"/><line x1=\"289.652\" y1=\"150.642\" x2=\"279.871\" y2=\"152.721\" stroke-linecap=\"round\" style=\"stroke:white;stroke-width:4\"/><line x1=\"279.871\" y1=\"152.721\" x2=\"270.36\" y2=\"155.811\" stroke-linecap=\"round\" style=\"stroke:purple;stroke-width:4\"/><line x1=\"270.36\" y1=\"155.811\" x2=\"261.225\" y2=\"159.878\" stroke-linecap=\"round\" style=\"stroke:red;stroke-width:4\"/><line x1=\"261.225\" y1=\"159.878\" x2=\"252.565\" y2=\"164.878\" stroke-linecap=\"round\" style=\"stroke:white;stroke-width:4\"/><line x1=\"252.565\" y1=\"164.878\" x2=\"244.475\" y2=\"170.756\" stroke-linecap=\"round\" style=\"stroke:purple;stroke-width:4\"/><line x1=\"244.475\" y1=\"170.756\" x2=\"237.044\" y2=\"177.447\" stroke-linecap=\"round\" style=\"stroke:red;stroke-width:4\"/><line x1=\"237.044\" y1=\"177.447\" x2=\"230.353\" y2=\"184.878\" stroke-linecap=\"round\" style=\"stroke:white;stroke-width:4\"/><line x1=\"230.353\" y1=\"184.878\" x2=\"224.475\" y2=\"192.968\" stroke-linecap=\"round\" style=\"stroke:purple;stroke-width:4\"/><line x1=\"224.475\" y1=\"192.968\" x2=\"219.475\" y2=\"201.628\" stroke-linecap=\"round\" style=\"stroke:red;stroke-width:4\"/><line x1=\"219.475\" y1=\"201.628\" x2=\"215.408\" y2=\"210.763\" stroke-linecap=\"round\" style=\"stroke:white;stroke-width:4\"/><line x1=\"215.408\" y1=\"210.763\" x2=\"212.318\" y2=\"220.274\" stroke-linecap=\"round\" style=\"stroke:purple;stroke-width:4\"/><line x1=\"212.318\" y1=\"220.274\" x2=\"210.239\" y2=\"230.055\" stroke-linecap=\"round\" style=\"stroke:red;stroke-width:4\"/><line x1=\"210.239\" y1=\"230.055\" x2=\"209.194\" y2=\"240.0\" stroke-linecap=\"round\" style=\"stroke:white;stroke-width:4\"/><line x1=\"209.194\" y1=\"240.0\" x2=\"209.194\" y2=\"250.0\" stroke-linecap=\"round\" style=\"stroke:purple;stroke-width:4\"/><line x1=\"209.194\" y1=\"250.0\" x2=\"210.239\" y2=\"259.945\" stroke-linecap=\"round\" style=\"stroke:red;stroke-width:4\"/><line x1=\"210.239\" y1=\"259.945\" x2=\"212.318\" y2=\"269.726\" stroke-linecap=\"round\" style=\"stroke:white;stroke-width:4\"/><line x1=\"212.318\" y1=\"269.726\" x2=\"215.408\" y2=\"279.237\" stroke-linecap=\"round\" style=\"stroke:purple;stroke-width:4\"/><line x1=\"215.408\" y1=\"279.237\" x2=\"219.475\" y2=\"288.372\" stroke-linecap=\"round\" style=\"stroke:red;stroke-width:4\"/><line x1=\"219.475\" y1=\"288.372\" x2=\"224.475\" y2=\"297.032\" stroke-linecap=\"round\" style=\"stroke:white;stroke-width:4\"/><line x1=\"224.475\" y1=\"297.032\" x2=\"230.353\" y2=\"305.122\" stroke-linecap=\"round\" style=\"stroke:purple;stroke-width:4\"/><line x1=\"230.353\" y1=\"305.122\" x2=\"237.044\" y2=\"312.553\" stroke-linecap=\"round\" style=\"stroke:red;stroke-width:4\"/><line x1=\"237.044\" y1=\"312.553\" x2=\"244.475\" y2=\"319.244\" stroke-linecap=\"round\" style=\"stroke:white;stroke-width:4\"/><line x1=\"244.475\" y1=\"319.244\" x2=\"252.565\" y2=\"325.122\" stroke-linecap=\"round\" style=\"stroke:purple;stroke-width:4\"/><line x1=\"252.565\" y1=\"325.122\" x2=\"261.225\" y2=\"330.122\" stroke-linecap=\"round\" style=\"stroke:red;stroke-width:4\"/><line x1=\"261.225\" y1=\"330.122\" x2=\"270.36\" y2=\"334.189\" stroke-linecap=\"round\" style=\"stroke:white;stroke-width:4\"/><line x1=\"270.36\" y1=\"334.189\" x2=\"279.871\" y2=\"337.279\" stroke-linecap=\"round\" style=\"stroke:purple;stroke-width:4\"/><line x1=\"279.871\" y1=\"337.279\" x2=\"289.652\" y2=\"339.358\" stroke-linecap=\"round\" style=\"stroke:red;stroke-width:4\"/><line x1=\"289.652\" y1=\"339.358\" x2=\"299.597\" y2=\"340.403\" stroke-linecap=\"round\" style=\"stroke:white;stroke-width:4\"/><line x1=\"299.597\" y1=\"340.403\" x2=\"309.597\" y2=\"340.403\" stroke-linecap=\"round\" style=\"stroke:purple;stroke-width:4\"/><line x1=\"309.597\" y1=\"340.403\" x2=\"319.542\" y2=\"339.358\" stroke-linecap=\"round\" style=\"stroke:red;stroke-width:4\"/><line x1=\"319.542\" y1=\"339.358\" x2=\"329.323\" y2=\"337.279\" stroke-linecap=\"round\" style=\"stroke:white;stroke-width:4\"/><line x1=\"329.323\" y1=\"337.279\" x2=\"338.834\" y2=\"334.189\" stroke-linecap=\"round\" style=\"stroke:purple;stroke-width:4\"/><line x1=\"338.834\" y1=\"334.189\" x2=\"347.969\" y2=\"330.122\" stroke-linecap=\"round\" style=\"stroke:red;stroke-width:4\"/><line x1=\"347.969\" y1=\"330.122\" x2=\"356.629\" y2=\"325.122\" stroke-linecap=\"round\" style=\"stroke:white;stroke-width:4\"/><line x1=\"356.629\" y1=\"325.122\" x2=\"364.719\" y2=\"319.244\" stroke-linecap=\"round\" style=\"stroke:purple;stroke-width:4\"/><line x1=\"364.719\" y1=\"319.244\" x2=\"372.15\" y2=\"312.553\" stroke-linecap=\"round\" style=\"stroke:red;stroke-width:4\"/><line x1=\"372.15\" y1=\"312.553\" x2=\"378.841\" y2=\"305.122\" stroke-linecap=\"round\" style=\"stroke:white;stroke-width:4\"/><line x1=\"378.841\" y1=\"305.122\" x2=\"384.719\" y2=\"297.032\" stroke-linecap=\"round\" style=\"stroke:purple;stroke-width:4\"/><line x1=\"384.719\" y1=\"297.032\" x2=\"389.719\" y2=\"288.372\" stroke-linecap=\"round\" style=\"stroke:red;stroke-width:4\"/><line x1=\"389.719\" y1=\"288.372\" x2=\"393.786\" y2=\"279.237\" stroke-linecap=\"round\" style=\"stroke:white;stroke-width:4\"/><line x1=\"393.786\" y1=\"279.237\" x2=\"396.876\" y2=\"269.726\" stroke-linecap=\"round\" style=\"stroke:purple;stroke-width:4\"/><line x1=\"396.876\" y1=\"269.726\" x2=\"398.955\" y2=\"259.945\" stroke-linecap=\"round\" style=\"stroke:red;stroke-width:4\"/><line x1=\"398.955\" y1=\"259.945\" x2=\"400.0\" y2=\"250.0\" stroke-linecap=\"round\" style=\"stroke:white;stroke-width:4\"/>\n",
       "        <g visibility=visible transform=\"rotate(360.0,400.0,250.0) translate(382.0, 232.0)\">\n",
       "<path style=\" stroke:none;fill-rule:evenodd;fill:purple;fill-opacity:1;\" d=\"M 18.214844 0.632812 C 16.109375 1.800781 15.011719 4.074219 15.074219 7.132812 L 15.085938 7.652344 L 14.785156 7.496094 C 13.476562 6.824219 11.957031 6.671875 10.40625 7.066406 C 8.46875 7.550781 6.515625 9.15625 4.394531 11.992188 C 3.0625 13.777344 2.679688 14.636719 3.042969 15.027344 L 3.15625 15.152344 L 3.519531 15.152344 C 4.238281 15.152344 4.828125 14.886719 8.1875 13.039062 C 9.386719 12.378906 10.371094 11.839844 10.378906 11.839844 C 10.386719 11.839844 10.355469 11.929688 10.304688 12.035156 C 9.832031 13.09375 9.257812 14.820312 8.96875 16.078125 C 7.914062 20.652344 8.617188 24.53125 11.070312 27.660156 C 11.351562 28.015625 11.363281 27.914062 10.972656 28.382812 C 8.925781 30.84375 7.945312 33.28125 8.238281 35.1875 C 8.289062 35.527344 8.28125 35.523438 8.917969 35.523438 C 10.941406 35.523438 13.074219 34.207031 15.136719 31.6875 C 15.359375 31.417969 15.328125 31.425781 15.5625 31.574219 C 16.292969 32.042969 18.023438 32.964844 18.175781 32.964844 C 18.335938 32.964844 19.941406 32.210938 20.828125 31.71875 C 20.996094 31.625 21.136719 31.554688 21.136719 31.558594 C 21.203125 31.664062 21.898438 32.414062 22.222656 32.730469 C 23.835938 34.300781 25.5625 35.132812 27.582031 35.300781 C 27.90625 35.328125 27.9375 35.308594 28.007812 34.984375 C 28.382812 33.242188 27.625 30.925781 25.863281 28.425781 L 25.542969 27.96875 L 25.699219 27.785156 C 28.945312 23.960938 29.132812 18.699219 26.257812 11.96875 L 26.207031 11.84375 L 27.945312 12.703125 C 31.53125 14.476562 32.316406 14.800781 33.03125 14.800781 C 33.976562 14.800781 33.78125 13.9375 32.472656 12.292969 C 28.519531 7.355469 25.394531 5.925781 21.921875 7.472656 L 21.558594 7.636719 L 21.578125 7.542969 C 21.699219 6.992188 21.761719 5.742188 21.699219 5.164062 C 21.496094 3.296875 20.664062 1.964844 19.003906 0.855469 C 18.480469 0.503906 18.457031 0.5 18.214844 0.632812\"/>\n",
       "</g>\n",
       "      </svg>\n",
       "    "
      ],
      "text/plain": [
       "<IPython.core.display.HTML object>"
      ]
     },
     "metadata": {},
     "output_type": "display_data"
    }
   ],
   "source": [
    "colors = [\"red\", \"white\", \"purple\"]\n",
    "\n",
    "def Circle(length, n):\n",
    "    for x in range(n):\n",
    "        t.forward(length)\n",
    "        t.color(colors[x % 3])\n",
    "        t.left(360 / n)\n",
    "        \n",
    "t.initializeTurtle()\n",
    "t.speed(12)\n",
    "\n",
    "Circle(10, 60)"
   ]
  },
  {
   "cell_type": "code",
   "execution_count": 4,
   "id": "59113377",
   "metadata": {},
   "outputs": [
    {
     "data": {
      "text/html": [
       "\n",
       "      <svg width=\"800\" height=\"500\">\n",
       "        <rect width=\"100%\" height=\"100%\" fill=\"black\"/>\n",
       "        <line x1=\"400\" y1=\"250\" x2=\"400.0\" y2=\"206.0\" stroke-linecap=\"round\" style=\"stroke:white;stroke-width:4\"/><line x1=\"400.0\" y1=\"206.0\" x2=\"412.718\" y2=\"226.353\" stroke-linecap=\"round\" style=\"stroke:red;stroke-width:4\"/><line x1=\"412.718\" y1=\"226.353\" x2=\"405.857\" y2=\"194.074\" stroke-linecap=\"round\" style=\"stroke:blue;stroke-width:4\"/><line x1=\"405.857\" y1=\"194.074\" x2=\"445.726\" y2=\"177.966\" stroke-linecap=\"round\" style=\"stroke:orange;stroke-width:4\"/><line x1=\"445.726\" y1=\"177.966\" x2=\"416.158\" y2=\"142.728\" stroke-linecap=\"round\" style=\"stroke:red;stroke-width:4\"/><line x1=\"416.158\" y1=\"142.728\" x2=\"346.519\" y2=\"189.7\" stroke-linecap=\"round\" style=\"stroke:blue;stroke-width:4\"/><line x1=\"346.519\" y1=\"189.7\" x2=\"341.285\" y2=\"289.563\" stroke-linecap=\"round\" style=\"stroke:orange;stroke-width:4\"/><line x1=\"341.285\" y1=\"289.563\" x2=\"254.462\" y2=\"256.235\" stroke-linecap=\"round\" style=\"stroke:red;stroke-width:4\"/><line x1=\"254.462\" y1=\"256.235\" x2=\"244.559\" y2=\"257.627\" stroke-linecap=\"round\" style=\"stroke:blue;stroke-width:4\"/><line x1=\"244.559\" y1=\"257.627\" x2=\"271.788\" y2=\"206.416\" stroke-linecap=\"round\" style=\"stroke:orange;stroke-width:4\"/><line x1=\"271.788\" y1=\"206.416\" x2=\"229.347\" y2=\"165.431\" stroke-linecap=\"round\" style=\"stroke:red;stroke-width:4\"/><line x1=\"229.347\" y1=\"165.431\" x2=\"254.773\" y2=\"217.561\" stroke-linecap=\"round\" style=\"stroke:blue;stroke-width:4\"/><line x1=\"254.773\" y1=\"217.561\" x2=\"261.656\" y2=\"227.391\" stroke-linecap=\"round\" style=\"stroke:orange;stroke-width:4\"/><line x1=\"261.656\" y1=\"227.391\" x2=\"288.226\" y2=\"164.797\" stroke-linecap=\"round\" style=\"stroke:red;stroke-width:4\"/><line x1=\"288.226\" y1=\"164.797\" x2=\"296.517\" y2=\"112.45\" stroke-linecap=\"round\" style=\"stroke:blue;stroke-width:4\"/><line x1=\"296.517\" y1=\"112.45\" x2=\"248.417\" y2=\"103.1\" stroke-linecap=\"round\" style=\"stroke:orange;stroke-width:4\"/><line x1=\"248.417\" y1=\"103.1\" x2=\"168.129\" y2=\"133.92\" stroke-linecap=\"round\" style=\"stroke:red;stroke-width:4\"/><line x1=\"168.129\" y1=\"133.92\" x2=\"188.701\" y2=\"121.559\" stroke-linecap=\"round\" style=\"stroke:blue;stroke-width:4\"/><line x1=\"188.701\" y1=\"121.559\" x2=\"235.701\" y2=\"202.965\" stroke-linecap=\"round\" style=\"stroke:orange;stroke-width:4\"/><line x1=\"235.701\" y1=\"202.965\" x2=\"270.629\" y2=\"234.414\" stroke-linecap=\"round\" style=\"stroke:red;stroke-width:4\"/><line x1=\"270.629\" y1=\"234.414\" x2=\"334.539\" y2=\"291.959\" stroke-linecap=\"round\" style=\"stroke:blue;stroke-width:4\"/><line x1=\"334.539\" y1=\"291.959\" x2=\"271.549\" y2=\"290.859\" stroke-linecap=\"round\" style=\"stroke:orange;stroke-width:4\"/><line x1=\"271.549\" y1=\"290.859\" x2=\"286.645\" y2=\"300.663\" stroke-linecap=\"round\" style=\"stroke:red;stroke-width:4\"/><line x1=\"286.645\" y1=\"300.663\" x2=\"340.44\" y2=\"305.369\" stroke-linecap=\"round\" style=\"stroke:blue;stroke-width:4\"/><line x1=\"340.44\" y1=\"305.369\" x2=\"353.737\" y2=\"389.323\" stroke-linecap=\"round\" style=\"stroke:orange;stroke-width:4\"/><line x1=\"353.737\" y1=\"389.323\" x2=\"431.011\" y2=\"410.029\" stroke-linecap=\"round\" style=\"stroke:red;stroke-width:4\"/><line x1=\"431.011\" y1=\"410.029\" x2=\"413.186\" y2=\"407.524\" stroke-linecap=\"round\" style=\"stroke:blue;stroke-width:4\"/><line x1=\"413.186\" y1=\"407.524\" x2=\"381.191\" y2=\"408.082\" stroke-linecap=\"round\" style=\"stroke:orange;stroke-width:4\"/><line x1=\"381.191\" y1=\"408.082\" x2=\"285.564\" y2=\"433.705\" stroke-linecap=\"round\" style=\"stroke:red;stroke-width:4\"/><line x1=\"285.564\" y1=\"433.705\" x2=\"264.701\" y2=\"491.026\" stroke-linecap=\"round\" style=\"stroke:blue;stroke-width:4\"/><line x1=\"264.701\" y1=\"491.026\" x2=\"223.192\" y2=\"454.943\" stroke-linecap=\"round\" style=\"stroke:orange;stroke-width:4\"/><line x1=\"223.192\" y1=\"454.943\" x2=\"281.074\" y2=\"477.162\" stroke-linecap=\"round\" style=\"stroke:red;stroke-width:4\"/><line x1=\"281.074\" y1=\"477.162\" x2=\"262.371\" y2=\"495.223\" stroke-linecap=\"round\" style=\"stroke:blue;stroke-width:4\"/><line x1=\"262.371\" y1=\"495.223\" x2=\"234.937\" y2=\"525.692\" stroke-linecap=\"round\" style=\"stroke:orange;stroke-width:4\"/><line x1=\"234.937\" y1=\"525.692\" x2=\"189.682\" y2=\"570.947\" stroke-linecap=\"round\" style=\"stroke:red;stroke-width:4\"/><line x1=\"189.682\" y1=\"570.947\" x2=\"168.393\" y2=\"656.333\" stroke-linecap=\"round\" style=\"stroke:blue;stroke-width:4\"/><line x1=\"168.393\" y1=\"656.333\" x2=\"173.627\" y2=\"556.47\" stroke-linecap=\"round\" style=\"stroke:orange;stroke-width:4\"/><line x1=\"173.627\" y1=\"556.47\" x2=\"169.362\" y2=\"591.209\" stroke-linecap=\"round\" style=\"stroke:red;stroke-width:4\"/><line x1=\"169.362\" y1=\"591.209\" x2=\"177.862\" y2=\"605.931\" stroke-linecap=\"round\" style=\"stroke:blue;stroke-width:4\"/><line x1=\"177.862\" y1=\"605.931\" x2=\"164.706\" y2=\"601.143\" stroke-linecap=\"round\" style=\"stroke:orange;stroke-width:4\"/><line x1=\"164.706\" y1=\"601.143\" x2=\"113.547\" y2=\"634.366\" stroke-linecap=\"round\" style=\"stroke:red;stroke-width:4\"/><line x1=\"113.547\" y1=\"634.366\" x2=\"161.094\" y2=\"675.698\" stroke-linecap=\"round\" style=\"stroke:blue;stroke-width:4\"/><line x1=\"161.094\" y1=\"675.698\" x2=\"136.23\" y2=\"668.096\" stroke-linecap=\"round\" style=\"stroke:orange;stroke-width:4\"/><line x1=\"136.23\" y1=\"668.096\" x2=\"138.568\" y2=\"735.055\" stroke-linecap=\"round\" style=\"stroke:red;stroke-width:4\"/><line x1=\"138.568\" y1=\"735.055\" x2=\"196.538\" y2=\"672.89\" stroke-linecap=\"round\" style=\"stroke:blue;stroke-width:4\"/><line x1=\"196.538\" y1=\"672.89\" x2=\"254.951\" y2=\"649.29\" stroke-linecap=\"round\" style=\"stroke:orange;stroke-width:4\"/><line x1=\"254.951\" y1=\"649.29\" x2=\"217.441\" y2=\"737.658\" stroke-linecap=\"round\" style=\"stroke:red;stroke-width:4\"/><line x1=\"217.441\" y1=\"737.658\" x2=\"209.946\" y2=\"651.985\" stroke-linecap=\"round\" style=\"stroke:blue;stroke-width:4\"/><line x1=\"209.946\" y1=\"651.985\" x2=\"246.675\" y2=\"565.458\" stroke-linecap=\"round\" style=\"stroke:orange;stroke-width:4\"/><line x1=\"246.675\" y1=\"565.458\" x2=\"253.708\" y2=\"548.889\" stroke-linecap=\"round\" style=\"stroke:red;stroke-width:4\"/><line x1=\"253.708\" y1=\"548.889\" x2=\"239.629\" y2=\"637.781\" stroke-linecap=\"round\" style=\"stroke:blue;stroke-width:4\"/><line x1=\"239.629\" y1=\"637.781\" x2=\"246.518\" y2=\"626.756\" stroke-linecap=\"round\" style=\"stroke:orange;stroke-width:4\"/><line x1=\"246.518\" y1=\"626.756\" x2=\"303.346\" y2=\"571.878\" stroke-linecap=\"round\" style=\"stroke:red;stroke-width:4\"/><line x1=\"303.346\" y1=\"571.878\" x2=\"235.605\" y2=\"565.951\" stroke-linecap=\"round\" style=\"stroke:blue;stroke-width:4\"/><line x1=\"235.605\" y1=\"565.951\" x2=\"171.644\" y2=\"568.185\" stroke-linecap=\"round\" style=\"stroke:orange;stroke-width:4\"/><line x1=\"171.644\" y1=\"568.185\" x2=\"250.174\" y2=\"583.45\" stroke-linecap=\"round\" style=\"stroke:red;stroke-width:4\"/><line x1=\"250.174\" y1=\"583.45\" x2=\"329.87\" y2=\"576.478\" stroke-linecap=\"round\" style=\"stroke:blue;stroke-width:4\"/><line x1=\"329.87\" y1=\"576.478\" x2=\"395.236\" y2=\"595.221\" stroke-linecap=\"round\" style=\"stroke:orange;stroke-width:4\"/><line x1=\"395.236\" y1=\"595.221\" x2=\"303.521\" y2=\"563.641\" stroke-linecap=\"round\" style=\"stroke:red;stroke-width:4\"/><line x1=\"303.521\" y1=\"563.641\" x2=\"378.904\" y2=\"502.597\" stroke-linecap=\"round\" style=\"stroke:blue;stroke-width:4\"/><line x1=\"378.904\" y1=\"502.597\" x2=\"322.98\" y2=\"442.626\" stroke-linecap=\"round\" style=\"stroke:orange;stroke-width:4\"/><line x1=\"322.98\" y1=\"442.626\" x2=\"310.778\" y2=\"519.666\" stroke-linecap=\"round\" style=\"stroke:red;stroke-width:4\"/><line x1=\"310.778\" y1=\"519.666\" x2=\"348.962\" y2=\"557.85\" stroke-linecap=\"round\" style=\"stroke:blue;stroke-width:4\"/><line x1=\"348.962\" y1=\"557.85\" x2=\"364.901\" y2=\"559.244\" stroke-linecap=\"round\" style=\"stroke:orange;stroke-width:4\"/><line x1=\"364.901\" y1=\"559.244\" x2=\"345.167\" y2=\"552.062\" stroke-linecap=\"round\" style=\"stroke:red;stroke-width:4\"/><line x1=\"345.167\" y1=\"552.062\" x2=\"329.68\" y2=\"454.281\" stroke-linecap=\"round\" style=\"stroke:blue;stroke-width:4\"/><line x1=\"329.68\" y1=\"454.281\" x2=\"329.052\" y2=\"466.265\" stroke-linecap=\"round\" style=\"stroke:orange;stroke-width:4\"/><line x1=\"329.052\" y1=\"466.265\" x2=\"309.755\" y2=\"529.381\" stroke-linecap=\"round\" style=\"stroke:red;stroke-width:4\"/><line x1=\"309.755\" y1=\"529.381\" x2=\"370.616\" y2=\"541.211\" stroke-linecap=\"round\" style=\"stroke:blue;stroke-width:4\"/><line x1=\"370.616\" y1=\"541.211\" x2=\"367.109\" y2=\"608.119\" stroke-linecap=\"round\" style=\"stroke:orange;stroke-width:4\"/><line x1=\"367.109\" y1=\"608.119\" x2=\"323.17\" y2=\"578.482\" stroke-linecap=\"round\" style=\"stroke:red;stroke-width:4\"/><line x1=\"323.17\" y1=\"578.482\" x2=\"354.625\" y2=\"519.325\" stroke-linecap=\"round\" style=\"stroke:blue;stroke-width:4\"/><line x1=\"354.625\" y1=\"519.325\" x2=\"344.922\" y2=\"516.906\" stroke-linecap=\"round\" style=\"stroke:orange;stroke-width:4\"/><line x1=\"344.922\" y1=\"516.906\" x2=\"311.451\" y2=\"527.139\" stroke-linecap=\"round\" style=\"stroke:red;stroke-width:4\"/><line x1=\"311.451\" y1=\"527.139\" x2=\"311.451\" y2=\"613.139\" stroke-linecap=\"round\" style=\"stroke:blue;stroke-width:4\"/><line x1=\"311.451\" y1=\"613.139\" x2=\"318.05\" y2=\"575.716\" stroke-linecap=\"round\" style=\"stroke:orange;stroke-width:4\"/><line x1=\"318.05\" y1=\"575.716\" x2=\"251.896\" y2=\"504.775\" stroke-linecap=\"round\" style=\"stroke:red;stroke-width:4\"/><line x1=\"251.896\" y1=\"504.775\" x2=\"268.554\" y2=\"538.929\" stroke-linecap=\"round\" style=\"stroke:blue;stroke-width:4\"/><line x1=\"268.554\" y1=\"538.929\" x2=\"257.287\" y2=\"560.12\" stroke-linecap=\"round\" style=\"stroke:orange;stroke-width:4\"/><line x1=\"257.287\" y1=\"560.12\" x2=\"243.364\" y2=\"472.216\" stroke-linecap=\"round\" style=\"stroke:red;stroke-width:4\"/><line x1=\"243.364\" y1=\"472.216\" x2=\"252.375\" y2=\"478.525\" stroke-linecap=\"round\" style=\"stroke:blue;stroke-width:4\"/><line x1=\"252.375\" y1=\"478.525\" x2=\"231.178\" y2=\"444.603\" stroke-linecap=\"round\" style=\"stroke:orange;stroke-width:4\"/><line x1=\"231.178\" y1=\"444.603\" x2=\"194.559\" y2=\"513.473\" stroke-linecap=\"round\" style=\"stroke:red;stroke-width:4\"/><line x1=\"194.559\" y1=\"513.473\" x2=\"244.545\" y2=\"527.806\" stroke-linecap=\"round\" style=\"stroke:blue;stroke-width:4\"/><line x1=\"244.545\" y1=\"527.806\" x2=\"315.842\" y2=\"479.715\" stroke-linecap=\"round\" style=\"stroke:orange;stroke-width:4\"/><line x1=\"315.842\" y1=\"479.715\" x2=\"385.763\" y2=\"492.044\" stroke-linecap=\"round\" style=\"stroke:red;stroke-width:4\"/><line x1=\"385.763\" y1=\"492.044\" x2=\"379.313\" y2=\"418.326\" stroke-linecap=\"round\" style=\"stroke:blue;stroke-width:4\"/><line x1=\"379.313\" y1=\"418.326\" x2=\"457.878\" y2=\"453.305\" stroke-linecap=\"round\" style=\"stroke:orange;stroke-width:4\"/><line x1=\"457.878\" y1=\"453.305\" x2=\"437.78\" y2=\"462.253\" stroke-linecap=\"round\" style=\"stroke:red;stroke-width:4\"/><line x1=\"437.78\" y1=\"462.253\" x2=\"403.919\" y2=\"418.912\" stroke-linecap=\"round\" style=\"stroke:blue;stroke-width:4\"/><line x1=\"403.919\" y1=\"418.912\" x2=\"439.039\" y2=\"327.421\" stroke-linecap=\"round\" style=\"stroke:orange;stroke-width:4\"/><line x1=\"439.039\" y1=\"327.421\" x2=\"464.595\" y2=\"308.163\" stroke-linecap=\"round\" style=\"stroke:red;stroke-width:4\"/><line x1=\"464.595\" y1=\"308.163\" x2=\"417.314\" y2=\"271.223\" stroke-linecap=\"round\" style=\"stroke:blue;stroke-width:4\"/><line x1=\"417.314\" y1=\"271.223\" x2=\"511.032\" y2=\"299.875\" stroke-linecap=\"round\" style=\"stroke:orange;stroke-width:4\"/><line x1=\"511.032\" y1=\"299.875\" x2=\"467.032\" y2=\"223.665\" stroke-linecap=\"round\" style=\"stroke:red;stroke-width:4\"/><line x1=\"467.032\" y1=\"223.665\" x2=\"480.518\" y2=\"257.044\" stroke-linecap=\"round\" style=\"stroke:blue;stroke-width:4\"/><line x1=\"480.518\" y1=\"257.044\" x2=\"570.504\" y2=\"258.615\" stroke-linecap=\"round\" style=\"stroke:orange;stroke-width:4\"/><line x1=\"570.504\" y1=\"258.615\" x2=\"527.563\" y2=\"260.865\" stroke-linecap=\"round\" style=\"stroke:red;stroke-width:4\"/><line x1=\"527.563\" y1=\"260.865\" x2=\"543.553\" y2=\"261.423\" stroke-linecap=\"round\" style=\"stroke:blue;stroke-width:4\"/><line x1=\"543.553\" y1=\"261.423\" x2=\"532.425\" y2=\"243.614\" stroke-linecap=\"round\" style=\"stroke:orange;stroke-width:4\"/>\n",
       "        <g visibility=visible transform=\"rotate(233,532.425,243.614) translate(514.425, 225.614)\">\n",
       "<path style=\" stroke:none;fill-rule:evenodd;fill:red;fill-opacity:1;\" d=\"M 18.214844 0.632812 C 16.109375 1.800781 15.011719 4.074219 15.074219 7.132812 L 15.085938 7.652344 L 14.785156 7.496094 C 13.476562 6.824219 11.957031 6.671875 10.40625 7.066406 C 8.46875 7.550781 6.515625 9.15625 4.394531 11.992188 C 3.0625 13.777344 2.679688 14.636719 3.042969 15.027344 L 3.15625 15.152344 L 3.519531 15.152344 C 4.238281 15.152344 4.828125 14.886719 8.1875 13.039062 C 9.386719 12.378906 10.371094 11.839844 10.378906 11.839844 C 10.386719 11.839844 10.355469 11.929688 10.304688 12.035156 C 9.832031 13.09375 9.257812 14.820312 8.96875 16.078125 C 7.914062 20.652344 8.617188 24.53125 11.070312 27.660156 C 11.351562 28.015625 11.363281 27.914062 10.972656 28.382812 C 8.925781 30.84375 7.945312 33.28125 8.238281 35.1875 C 8.289062 35.527344 8.28125 35.523438 8.917969 35.523438 C 10.941406 35.523438 13.074219 34.207031 15.136719 31.6875 C 15.359375 31.417969 15.328125 31.425781 15.5625 31.574219 C 16.292969 32.042969 18.023438 32.964844 18.175781 32.964844 C 18.335938 32.964844 19.941406 32.210938 20.828125 31.71875 C 20.996094 31.625 21.136719 31.554688 21.136719 31.558594 C 21.203125 31.664062 21.898438 32.414062 22.222656 32.730469 C 23.835938 34.300781 25.5625 35.132812 27.582031 35.300781 C 27.90625 35.328125 27.9375 35.308594 28.007812 34.984375 C 28.382812 33.242188 27.625 30.925781 25.863281 28.425781 L 25.542969 27.96875 L 25.699219 27.785156 C 28.945312 23.960938 29.132812 18.699219 26.257812 11.96875 L 26.207031 11.84375 L 27.945312 12.703125 C 31.53125 14.476562 32.316406 14.800781 33.03125 14.800781 C 33.976562 14.800781 33.78125 13.9375 32.472656 12.292969 C 28.519531 7.355469 25.394531 5.925781 21.921875 7.472656 L 21.558594 7.636719 L 21.578125 7.542969 C 21.699219 6.992188 21.761719 5.742188 21.699219 5.164062 C 21.496094 3.296875 20.664062 1.964844 19.003906 0.855469 C 18.480469 0.503906 18.457031 0.5 18.214844 0.632812\"/>\n",
       "</g>\n",
       "      </svg>\n",
       "    "
      ],
      "text/plain": [
       "<IPython.core.display.HTML object>"
      ]
     },
     "metadata": {},
     "output_type": "display_data"
    }
   ],
   "source": [
    "import random\n",
    "colors = [\"red\", \"blue\", \"orange\"]\n",
    "\n",
    "def moving(n):\n",
    "    for x in range(n):\n",
    "        t.forward(random.randint(10, 100))\n",
    "        t.color(colors[x % 3])\n",
    "        t.left(random.randint(1, 360))\n",
    "        \n",
    "t.initializeTurtle()\n",
    "t.speed(12)\n",
    "\n",
    "moving(100)"
   ]
  },
  {
   "cell_type": "code",
   "execution_count": 11,
   "id": "bb4b68a3",
   "metadata": {},
   "outputs": [
    {
     "data": {
      "text/html": [
       "\n",
       "      <svg width=\"800\" height=\"500\">\n",
       "        <rect width=\"100%\" height=\"100%\" fill=\"black\"/>\n",
       "        <line x1=\"400\" y1=\"250\" x2=\"400.0\" y2=\"240.0\" stroke-linecap=\"round\" style=\"stroke:white;stroke-width:4\"/><line x1=\"400.0\" y1=\"240.0\" x2=\"395.933\" y2=\"230.865\" stroke-linecap=\"round\" style=\"stroke:white;stroke-width:4\"/><line x1=\"395.933\" y1=\"230.865\" x2=\"388.502\" y2=\"224.174\" stroke-linecap=\"round\" style=\"stroke:white;stroke-width:4\"/><line x1=\"388.502\" y1=\"224.174\" x2=\"378.991\" y2=\"221.084\" stroke-linecap=\"round\" style=\"stroke:white;stroke-width:4\"/><line x1=\"378.991\" y1=\"221.084\" x2=\"369.046\" y2=\"222.129\" stroke-linecap=\"round\" style=\"stroke:white;stroke-width:4\"/><line x1=\"369.046\" y1=\"222.129\" x2=\"360.386\" y2=\"227.129\" stroke-linecap=\"round\" style=\"stroke:white;stroke-width:4\"/><line x1=\"360.386\" y1=\"227.129\" x2=\"354.508\" y2=\"235.219\" stroke-linecap=\"round\" style=\"stroke:white;stroke-width:4\"/><line x1=\"354.508\" y1=\"235.219\" x2=\"352.429\" y2=\"245.0\" stroke-linecap=\"round\" style=\"stroke:white;stroke-width:4\"/><line x1=\"352.429\" y1=\"245.0\" x2=\"354.508\" y2=\"254.781\" stroke-linecap=\"round\" style=\"stroke:white;stroke-width:4\"/><line x1=\"354.508\" y1=\"254.781\" x2=\"360.386\" y2=\"262.871\" stroke-linecap=\"round\" style=\"stroke:white;stroke-width:4\"/><line x1=\"360.386\" y1=\"262.871\" x2=\"369.046\" y2=\"267.871\" stroke-linecap=\"round\" style=\"stroke:white;stroke-width:4\"/><line x1=\"369.046\" y1=\"267.871\" x2=\"378.991\" y2=\"268.916\" stroke-linecap=\"round\" style=\"stroke:white;stroke-width:4\"/><line x1=\"378.991\" y1=\"268.916\" x2=\"388.502\" y2=\"265.826\" stroke-linecap=\"round\" style=\"stroke:white;stroke-width:4\"/><line x1=\"388.502\" y1=\"265.826\" x2=\"395.933\" y2=\"259.135\" stroke-linecap=\"round\" style=\"stroke:white;stroke-width:4\"/><line x1=\"395.933\" y1=\"259.135\" x2=\"400.0\" y2=\"250.0\" stroke-linecap=\"round\" style=\"stroke:white;stroke-width:4\"/><line x1=\"400.0\" y1=\"250.0\" x2=\"400.0\" y2=\"230.0\" stroke-linecap=\"round\" style=\"stroke:white;stroke-width:4\"/><line x1=\"400.0\" y1=\"230.0\" x2=\"391.865\" y2=\"211.729\" stroke-linecap=\"round\" style=\"stroke:white;stroke-width:4\"/><line x1=\"391.865\" y1=\"211.729\" x2=\"377.002\" y2=\"198.346\" stroke-linecap=\"round\" style=\"stroke:white;stroke-width:4\"/><line x1=\"377.002\" y1=\"198.346\" x2=\"357.981\" y2=\"192.166\" stroke-linecap=\"round\" style=\"stroke:white;stroke-width:4\"/><line x1=\"357.981\" y1=\"192.166\" x2=\"338.091\" y2=\"194.257\" stroke-linecap=\"round\" style=\"stroke:white;stroke-width:4\"/><line x1=\"338.091\" y1=\"194.257\" x2=\"320.77\" y2=\"204.257\" stroke-linecap=\"round\" style=\"stroke:white;stroke-width:4\"/><line x1=\"320.77\" y1=\"204.257\" x2=\"309.014\" y2=\"220.437\" stroke-linecap=\"round\" style=\"stroke:white;stroke-width:4\"/><line x1=\"309.014\" y1=\"220.437\" x2=\"304.856\" y2=\"240.0\" stroke-linecap=\"round\" style=\"stroke:white;stroke-width:4\"/><line x1=\"304.856\" y1=\"240.0\" x2=\"309.014\" y2=\"259.563\" stroke-linecap=\"round\" style=\"stroke:white;stroke-width:4\"/><line x1=\"309.014\" y1=\"259.563\" x2=\"320.77\" y2=\"275.743\" stroke-linecap=\"round\" style=\"stroke:white;stroke-width:4\"/><line x1=\"320.77\" y1=\"275.743\" x2=\"338.091\" y2=\"285.743\" stroke-linecap=\"round\" style=\"stroke:white;stroke-width:4\"/><line x1=\"338.091\" y1=\"285.743\" x2=\"357.981\" y2=\"287.834\" stroke-linecap=\"round\" style=\"stroke:white;stroke-width:4\"/><line x1=\"357.981\" y1=\"287.834\" x2=\"377.002\" y2=\"281.654\" stroke-linecap=\"round\" style=\"stroke:white;stroke-width:4\"/><line x1=\"377.002\" y1=\"281.654\" x2=\"391.865\" y2=\"268.271\" stroke-linecap=\"round\" style=\"stroke:white;stroke-width:4\"/><line x1=\"391.865\" y1=\"268.271\" x2=\"400.0\" y2=\"250.0\" stroke-linecap=\"round\" style=\"stroke:white;stroke-width:4\"/><line x1=\"400.0\" y1=\"250.0\" x2=\"400.0\" y2=\"220.0\" stroke-linecap=\"round\" style=\"stroke:white;stroke-width:4\"/><line x1=\"400.0\" y1=\"220.0\" x2=\"387.798\" y2=\"192.594\" stroke-linecap=\"round\" style=\"stroke:white;stroke-width:4\"/><line x1=\"387.798\" y1=\"192.594\" x2=\"365.504\" y2=\"172.52\" stroke-linecap=\"round\" style=\"stroke:white;stroke-width:4\"/><line x1=\"365.504\" y1=\"172.52\" x2=\"336.972\" y2=\"163.249\" stroke-linecap=\"round\" style=\"stroke:white;stroke-width:4\"/><line x1=\"336.972\" y1=\"163.249\" x2=\"307.136\" y2=\"166.385\" stroke-linecap=\"round\" style=\"stroke:white;stroke-width:4\"/><line x1=\"307.136\" y1=\"166.385\" x2=\"281.155\" y2=\"181.385\" stroke-linecap=\"round\" style=\"stroke:white;stroke-width:4\"/><line x1=\"281.155\" y1=\"181.385\" x2=\"263.521\" y2=\"205.656\" stroke-linecap=\"round\" style=\"stroke:white;stroke-width:4\"/><line x1=\"263.521\" y1=\"205.656\" x2=\"257.284\" y2=\"235.0\" stroke-linecap=\"round\" style=\"stroke:white;stroke-width:4\"/><line x1=\"257.284\" y1=\"235.0\" x2=\"263.521\" y2=\"264.344\" stroke-linecap=\"round\" style=\"stroke:white;stroke-width:4\"/><line x1=\"263.521\" y1=\"264.344\" x2=\"281.155\" y2=\"288.615\" stroke-linecap=\"round\" style=\"stroke:white;stroke-width:4\"/><line x1=\"281.155\" y1=\"288.615\" x2=\"307.136\" y2=\"303.615\" stroke-linecap=\"round\" style=\"stroke:white;stroke-width:4\"/><line x1=\"307.136\" y1=\"303.615\" x2=\"336.972\" y2=\"306.751\" stroke-linecap=\"round\" style=\"stroke:white;stroke-width:4\"/><line x1=\"336.972\" y1=\"306.751\" x2=\"365.504\" y2=\"297.48\" stroke-linecap=\"round\" style=\"stroke:white;stroke-width:4\"/><line x1=\"365.504\" y1=\"297.48\" x2=\"387.798\" y2=\"277.406\" stroke-linecap=\"round\" style=\"stroke:white;stroke-width:4\"/><line x1=\"387.798\" y1=\"277.406\" x2=\"400.0\" y2=\"250.0\" stroke-linecap=\"round\" style=\"stroke:white;stroke-width:4\"/><line x1=\"400.0\" y1=\"250.0\" x2=\"400.0\" y2=\"210.0\" stroke-linecap=\"round\" style=\"stroke:white;stroke-width:4\"/><line x1=\"400.0\" y1=\"210.0\" x2=\"383.731\" y2=\"173.458\" stroke-linecap=\"round\" style=\"stroke:white;stroke-width:4\"/><line x1=\"383.731\" y1=\"173.458\" x2=\"354.005\" y2=\"146.693\" stroke-linecap=\"round\" style=\"stroke:white;stroke-width:4\"/><line x1=\"354.005\" y1=\"146.693\" x2=\"315.963\" y2=\"134.332\" stroke-linecap=\"round\" style=\"stroke:white;stroke-width:4\"/><line x1=\"315.963\" y1=\"134.332\" x2=\"276.182\" y2=\"138.513\" stroke-linecap=\"round\" style=\"stroke:white;stroke-width:4\"/><line x1=\"276.182\" y1=\"138.513\" x2=\"241.541\" y2=\"158.513\" stroke-linecap=\"round\" style=\"stroke:white;stroke-width:4\"/><line x1=\"241.541\" y1=\"158.513\" x2=\"218.03\" y2=\"190.874\" stroke-linecap=\"round\" style=\"stroke:white;stroke-width:4\"/><line x1=\"218.03\" y1=\"190.874\" x2=\"209.714\" y2=\"230.0\" stroke-linecap=\"round\" style=\"stroke:white;stroke-width:4\"/><line x1=\"209.714\" y1=\"230.0\" x2=\"218.03\" y2=\"269.126\" stroke-linecap=\"round\" style=\"stroke:white;stroke-width:4\"/><line x1=\"218.03\" y1=\"269.126\" x2=\"241.541\" y2=\"301.487\" stroke-linecap=\"round\" style=\"stroke:white;stroke-width:4\"/><line x1=\"241.541\" y1=\"301.487\" x2=\"276.182\" y2=\"321.487\" stroke-linecap=\"round\" style=\"stroke:white;stroke-width:4\"/><line x1=\"276.182\" y1=\"321.487\" x2=\"315.963\" y2=\"325.668\" stroke-linecap=\"round\" style=\"stroke:white;stroke-width:4\"/><line x1=\"315.963\" y1=\"325.668\" x2=\"354.005\" y2=\"313.307\" stroke-linecap=\"round\" style=\"stroke:white;stroke-width:4\"/><line x1=\"354.005\" y1=\"313.307\" x2=\"383.731\" y2=\"286.542\" stroke-linecap=\"round\" style=\"stroke:white;stroke-width:4\"/><line x1=\"383.731\" y1=\"286.542\" x2=\"400.0\" y2=\"250.0\" stroke-linecap=\"round\" style=\"stroke:white;stroke-width:4\"/><line x1=\"400.0\" y1=\"250.0\" x2=\"400.0\" y2=\"200.0\" stroke-linecap=\"round\" style=\"stroke:white;stroke-width:4\"/><line x1=\"400.0\" y1=\"200.0\" x2=\"379.663\" y2=\"154.323\" stroke-linecap=\"round\" style=\"stroke:white;stroke-width:4\"/><line x1=\"379.663\" y1=\"154.323\" x2=\"342.506\" y2=\"120.866\" stroke-linecap=\"round\" style=\"stroke:white;stroke-width:4\"/><line x1=\"342.506\" y1=\"120.866\" x2=\"294.953\" y2=\"105.415\" stroke-linecap=\"round\" style=\"stroke:white;stroke-width:4\"/><line x1=\"294.953\" y1=\"105.415\" x2=\"245.227\" y2=\"110.641\" stroke-linecap=\"round\" style=\"stroke:white;stroke-width:4\"/><line x1=\"245.227\" y1=\"110.641\" x2=\"201.926\" y2=\"135.641\" stroke-linecap=\"round\" style=\"stroke:white;stroke-width:4\"/><line x1=\"201.926\" y1=\"135.641\" x2=\"172.537\" y2=\"176.092\" stroke-linecap=\"round\" style=\"stroke:white;stroke-width:4\"/><line x1=\"172.537\" y1=\"176.092\" x2=\"162.141\" y2=\"224.999\" stroke-linecap=\"round\" style=\"stroke:white;stroke-width:4\"/><line x1=\"162.141\" y1=\"224.999\" x2=\"172.537\" y2=\"273.906\" stroke-linecap=\"round\" style=\"stroke:white;stroke-width:4\"/><line x1=\"172.537\" y1=\"273.906\" x2=\"201.926\" y2=\"314.357\" stroke-linecap=\"round\" style=\"stroke:white;stroke-width:4\"/><line x1=\"201.926\" y1=\"314.357\" x2=\"245.227\" y2=\"339.357\" stroke-linecap=\"round\" style=\"stroke:white;stroke-width:4\"/><line x1=\"245.227\" y1=\"339.357\" x2=\"294.953\" y2=\"344.583\" stroke-linecap=\"round\" style=\"stroke:white;stroke-width:4\"/><line x1=\"294.953\" y1=\"344.583\" x2=\"342.506\" y2=\"329.132\" stroke-linecap=\"round\" style=\"stroke:white;stroke-width:4\"/><line x1=\"342.506\" y1=\"329.132\" x2=\"379.663\" y2=\"295.675\" stroke-linecap=\"round\" style=\"stroke:white;stroke-width:4\"/><line x1=\"379.663\" y1=\"295.675\" x2=\"400.0\" y2=\"249.998\" stroke-linecap=\"round\" style=\"stroke:white;stroke-width:4\"/><line x1=\"400.0\" y1=\"249.998\" x2=\"400.0\" y2=\"189.998\" stroke-linecap=\"round\" style=\"stroke:white;stroke-width:4\"/><line x1=\"400.0\" y1=\"189.998\" x2=\"375.596\" y2=\"135.185\" stroke-linecap=\"round\" style=\"stroke:white;stroke-width:4\"/><line x1=\"375.596\" y1=\"135.185\" x2=\"331.007\" y2=\"95.037\" stroke-linecap=\"round\" style=\"stroke:white;stroke-width:4\"/><line x1=\"331.007\" y1=\"95.037\" x2=\"273.944\" y2=\"76.496\" stroke-linecap=\"round\" style=\"stroke:white;stroke-width:4\"/><line x1=\"273.944\" y1=\"76.496\" x2=\"214.273\" y2=\"82.768\" stroke-linecap=\"round\" style=\"stroke:white;stroke-width:4\"/><line x1=\"214.273\" y1=\"82.768\" x2=\"162.311\" y2=\"112.768\" stroke-linecap=\"round\" style=\"stroke:white;stroke-width:4\"/><line x1=\"162.311\" y1=\"112.768\" x2=\"127.044\" y2=\"161.309\" stroke-linecap=\"round\" style=\"stroke:white;stroke-width:4\"/><line x1=\"127.044\" y1=\"161.309\" x2=\"114.569\" y2=\"219.998\" stroke-linecap=\"round\" style=\"stroke:white;stroke-width:4\"/><line x1=\"114.569\" y1=\"219.998\" x2=\"127.044\" y2=\"278.687\" stroke-linecap=\"round\" style=\"stroke:white;stroke-width:4\"/><line x1=\"127.044\" y1=\"278.687\" x2=\"162.311\" y2=\"327.228\" stroke-linecap=\"round\" style=\"stroke:white;stroke-width:4\"/><line x1=\"162.311\" y1=\"327.228\" x2=\"214.273\" y2=\"357.228\" stroke-linecap=\"round\" style=\"stroke:white;stroke-width:4\"/><line x1=\"214.273\" y1=\"357.228\" x2=\"273.944\" y2=\"363.5\" stroke-linecap=\"round\" style=\"stroke:white;stroke-width:4\"/><line x1=\"273.944\" y1=\"363.5\" x2=\"331.007\" y2=\"344.959\" stroke-linecap=\"round\" style=\"stroke:white;stroke-width:4\"/><line x1=\"331.007\" y1=\"344.959\" x2=\"375.596\" y2=\"304.811\" stroke-linecap=\"round\" style=\"stroke:white;stroke-width:4\"/><line x1=\"375.596\" y1=\"304.811\" x2=\"400.0\" y2=\"249.998\" stroke-linecap=\"round\" style=\"stroke:white;stroke-width:4\"/><line x1=\"400.0\" y1=\"249.998\" x2=\"400.0\" y2=\"179.998\" stroke-linecap=\"round\" style=\"stroke:white;stroke-width:4\"/><line x1=\"400.0\" y1=\"179.998\" x2=\"371.528\" y2=\"116.05\" stroke-linecap=\"round\" style=\"stroke:white;stroke-width:4\"/><line x1=\"371.528\" y1=\"116.05\" x2=\"319.508\" y2=\"69.211\" stroke-linecap=\"round\" style=\"stroke:white;stroke-width:4\"/><line x1=\"319.508\" y1=\"69.211\" x2=\"252.934\" y2=\"47.58\" stroke-linecap=\"round\" style=\"stroke:white;stroke-width:4\"/><line x1=\"252.934\" y1=\"47.58\" x2=\"183.317\" y2=\"54.897\" stroke-linecap=\"round\" style=\"stroke:white;stroke-width:4\"/><line x1=\"183.317\" y1=\"54.897\" x2=\"122.695\" y2=\"89.897\" stroke-linecap=\"round\" style=\"stroke:white;stroke-width:4\"/><line x1=\"122.695\" y1=\"89.897\" x2=\"81.55\" y2=\"146.528\" stroke-linecap=\"round\" style=\"stroke:white;stroke-width:4\"/><line x1=\"81.55\" y1=\"146.528\" x2=\"66.996\" y2=\"214.998\" stroke-linecap=\"round\" style=\"stroke:white;stroke-width:4\"/><line x1=\"66.996\" y1=\"214.998\" x2=\"81.55\" y2=\"283.468\" stroke-linecap=\"round\" style=\"stroke:white;stroke-width:4\"/><line x1=\"81.55\" y1=\"283.468\" x2=\"122.695\" y2=\"340.099\" stroke-linecap=\"round\" style=\"stroke:white;stroke-width:4\"/><line x1=\"122.695\" y1=\"340.099\" x2=\"183.317\" y2=\"375.099\" stroke-linecap=\"round\" style=\"stroke:white;stroke-width:4\"/><line x1=\"183.317\" y1=\"375.099\" x2=\"252.934\" y2=\"382.416\" stroke-linecap=\"round\" style=\"stroke:white;stroke-width:4\"/><line x1=\"252.934\" y1=\"382.416\" x2=\"319.508\" y2=\"360.785\" stroke-linecap=\"round\" style=\"stroke:white;stroke-width:4\"/><line x1=\"319.508\" y1=\"360.785\" x2=\"371.528\" y2=\"313.946\" stroke-linecap=\"round\" style=\"stroke:white;stroke-width:4\"/><line x1=\"371.528\" y1=\"313.946\" x2=\"400.0\" y2=\"249.998\" stroke-linecap=\"round\" style=\"stroke:white;stroke-width:4\"/>\n",
       "        <g visibility=visible transform=\"rotate(360.0,400.0,249.998) translate(382.0, 231.998)\">\n",
       "<path style=\" stroke:none;fill-rule:evenodd;fill:white;fill-opacity:1;\" d=\"M 18.214844 0.632812 C 16.109375 1.800781 15.011719 4.074219 15.074219 7.132812 L 15.085938 7.652344 L 14.785156 7.496094 C 13.476562 6.824219 11.957031 6.671875 10.40625 7.066406 C 8.46875 7.550781 6.515625 9.15625 4.394531 11.992188 C 3.0625 13.777344 2.679688 14.636719 3.042969 15.027344 L 3.15625 15.152344 L 3.519531 15.152344 C 4.238281 15.152344 4.828125 14.886719 8.1875 13.039062 C 9.386719 12.378906 10.371094 11.839844 10.378906 11.839844 C 10.386719 11.839844 10.355469 11.929688 10.304688 12.035156 C 9.832031 13.09375 9.257812 14.820312 8.96875 16.078125 C 7.914062 20.652344 8.617188 24.53125 11.070312 27.660156 C 11.351562 28.015625 11.363281 27.914062 10.972656 28.382812 C 8.925781 30.84375 7.945312 33.28125 8.238281 35.1875 C 8.289062 35.527344 8.28125 35.523438 8.917969 35.523438 C 10.941406 35.523438 13.074219 34.207031 15.136719 31.6875 C 15.359375 31.417969 15.328125 31.425781 15.5625 31.574219 C 16.292969 32.042969 18.023438 32.964844 18.175781 32.964844 C 18.335938 32.964844 19.941406 32.210938 20.828125 31.71875 C 20.996094 31.625 21.136719 31.554688 21.136719 31.558594 C 21.203125 31.664062 21.898438 32.414062 22.222656 32.730469 C 23.835938 34.300781 25.5625 35.132812 27.582031 35.300781 C 27.90625 35.328125 27.9375 35.308594 28.007812 34.984375 C 28.382812 33.242188 27.625 30.925781 25.863281 28.425781 L 25.542969 27.96875 L 25.699219 27.785156 C 28.945312 23.960938 29.132812 18.699219 26.257812 11.96875 L 26.207031 11.84375 L 27.945312 12.703125 C 31.53125 14.476562 32.316406 14.800781 33.03125 14.800781 C 33.976562 14.800781 33.78125 13.9375 32.472656 12.292969 C 28.519531 7.355469 25.394531 5.925781 21.921875 7.472656 L 21.558594 7.636719 L 21.578125 7.542969 C 21.699219 6.992188 21.761719 5.742188 21.699219 5.164062 C 21.496094 3.296875 20.664062 1.964844 19.003906 0.855469 C 18.480469 0.503906 18.457031 0.5 18.214844 0.632812\"/>\n",
       "</g>\n",
       "      </svg>\n",
       "    "
      ],
      "text/plain": [
       "<IPython.core.display.HTML object>"
      ]
     },
     "metadata": {},
     "output_type": "display_data"
    }
   ],
   "source": [
    "def Circle(length, n):\n",
    "    for x in range(n):\n",
    "        t.forward(length)\n",
    "        t.left(360 / n)\n",
    "def Sp():\n",
    "    r = 10\n",
    "    while r <= 70:\n",
    "        Circle(r, 15)\n",
    "        r = r +10\n",
    "        \n",
    "t.initializeTurtle()\n",
    "t.speed(13)\n",
    "\n",
    "Sp()\n"
   ]
  },
  {
   "cell_type": "code",
   "execution_count": 12,
   "id": "e4b03958",
   "metadata": {},
   "outputs": [
    {
     "data": {
      "text/html": [
       "\n",
       "      <svg width=\"800\" height=\"500\">\n",
       "        <rect width=\"100%\" height=\"100%\" fill=\"black\"/>\n",
       "        \n",
       "        <g visibility=visible transform=\"rotate(360,400,250) translate(382, 232)\">\n",
       "<path style=\" stroke:none;fill-rule:evenodd;fill:white;fill-opacity:1;\" d=\"M 18.214844 0.632812 C 16.109375 1.800781 15.011719 4.074219 15.074219 7.132812 L 15.085938 7.652344 L 14.785156 7.496094 C 13.476562 6.824219 11.957031 6.671875 10.40625 7.066406 C 8.46875 7.550781 6.515625 9.15625 4.394531 11.992188 C 3.0625 13.777344 2.679688 14.636719 3.042969 15.027344 L 3.15625 15.152344 L 3.519531 15.152344 C 4.238281 15.152344 4.828125 14.886719 8.1875 13.039062 C 9.386719 12.378906 10.371094 11.839844 10.378906 11.839844 C 10.386719 11.839844 10.355469 11.929688 10.304688 12.035156 C 9.832031 13.09375 9.257812 14.820312 8.96875 16.078125 C 7.914062 20.652344 8.617188 24.53125 11.070312 27.660156 C 11.351562 28.015625 11.363281 27.914062 10.972656 28.382812 C 8.925781 30.84375 7.945312 33.28125 8.238281 35.1875 C 8.289062 35.527344 8.28125 35.523438 8.917969 35.523438 C 10.941406 35.523438 13.074219 34.207031 15.136719 31.6875 C 15.359375 31.417969 15.328125 31.425781 15.5625 31.574219 C 16.292969 32.042969 18.023438 32.964844 18.175781 32.964844 C 18.335938 32.964844 19.941406 32.210938 20.828125 31.71875 C 20.996094 31.625 21.136719 31.554688 21.136719 31.558594 C 21.203125 31.664062 21.898438 32.414062 22.222656 32.730469 C 23.835938 34.300781 25.5625 35.132812 27.582031 35.300781 C 27.90625 35.328125 27.9375 35.308594 28.007812 34.984375 C 28.382812 33.242188 27.625 30.925781 25.863281 28.425781 L 25.542969 27.96875 L 25.699219 27.785156 C 28.945312 23.960938 29.132812 18.699219 26.257812 11.96875 L 26.207031 11.84375 L 27.945312 12.703125 C 31.53125 14.476562 32.316406 14.800781 33.03125 14.800781 C 33.976562 14.800781 33.78125 13.9375 32.472656 12.292969 C 28.519531 7.355469 25.394531 5.925781 21.921875 7.472656 L 21.558594 7.636719 L 21.578125 7.542969 C 21.699219 6.992188 21.761719 5.742188 21.699219 5.164062 C 21.496094 3.296875 20.664062 1.964844 19.003906 0.855469 C 18.480469 0.503906 18.457031 0.5 18.214844 0.632812\"/>\n",
       "</g>\n",
       "      </svg>\n",
       "    "
      ],
      "text/plain": [
       "<IPython.core.display.HTML object>"
      ]
     },
     "metadata": {},
     "output_type": "display_data"
    },
    {
     "data": {
      "text/plain": [
       "<__main__.Turtle at 0x7fe0bbf8c790>"
      ]
     },
     "execution_count": 12,
     "metadata": {},
     "output_type": "execute_result"
    }
   ],
   "source": [
    "class Turtle:\n",
    "    t.initializeTurtle()\n",
    "    t.speed(13)\n",
    "    \n",
    "    def Circle(length, n):\n",
    "        for x in range(n):\n",
    "            t.forward(length)\n",
    "            t.left(360 / n)\n",
    "    def Sp():\n",
    "        r = 10\n",
    "        while r <= 70:\n",
    "            Circle(r, 15)\n",
    "            r = r +10\n",
    "            \n",
    "tur = Turtle()\n",
    "tur"
   ]
  },
  {
   "cell_type": "code",
   "execution_count": 13,
   "id": "d9ba236a",
   "metadata": {},
   "outputs": [
    {
     "data": {
      "text/html": [
       "\n",
       "      <svg width=\"800\" height=\"500\">\n",
       "        <rect width=\"100%\" height=\"100%\" fill=\"black\"/>\n",
       "        <line x1=\"400\" y1=\"250\" x2=\"400.0\" y2=\"200.0\" stroke-linecap=\"round\" style=\"stroke:white;stroke-width:4\"/><line x1=\"400.0\" y1=\"200.0\" x2=\"350.76\" y2=\"191.318\" stroke-linecap=\"round\" style=\"stroke:white;stroke-width:4\"/><line x1=\"350.76\" y1=\"191.318\" x2=\"333.659\" y2=\"238.303\" stroke-linecap=\"round\" style=\"stroke:white;stroke-width:4\"/><line x1=\"333.659\" y1=\"238.303\" x2=\"376.96\" y2=\"263.303\" stroke-linecap=\"round\" style=\"stroke:white;stroke-width:4\"/><line x1=\"376.96\" y1=\"263.303\" x2=\"409.099\" y2=\"225.001\" stroke-linecap=\"round\" style=\"stroke:white;stroke-width:4\"/>\n",
       "        <g visibility=visible transform=\"rotate(320,409.099,225.001) translate(391.099, 207.001)\">\n",
       "<path style=\" stroke:none;fill-rule:evenodd;fill:white;fill-opacity:1;\" d=\"M 18.214844 0.632812 C 16.109375 1.800781 15.011719 4.074219 15.074219 7.132812 L 15.085938 7.652344 L 14.785156 7.496094 C 13.476562 6.824219 11.957031 6.671875 10.40625 7.066406 C 8.46875 7.550781 6.515625 9.15625 4.394531 11.992188 C 3.0625 13.777344 2.679688 14.636719 3.042969 15.027344 L 3.15625 15.152344 L 3.519531 15.152344 C 4.238281 15.152344 4.828125 14.886719 8.1875 13.039062 C 9.386719 12.378906 10.371094 11.839844 10.378906 11.839844 C 10.386719 11.839844 10.355469 11.929688 10.304688 12.035156 C 9.832031 13.09375 9.257812 14.820312 8.96875 16.078125 C 7.914062 20.652344 8.617188 24.53125 11.070312 27.660156 C 11.351562 28.015625 11.363281 27.914062 10.972656 28.382812 C 8.925781 30.84375 7.945312 33.28125 8.238281 35.1875 C 8.289062 35.527344 8.28125 35.523438 8.917969 35.523438 C 10.941406 35.523438 13.074219 34.207031 15.136719 31.6875 C 15.359375 31.417969 15.328125 31.425781 15.5625 31.574219 C 16.292969 32.042969 18.023438 32.964844 18.175781 32.964844 C 18.335938 32.964844 19.941406 32.210938 20.828125 31.71875 C 20.996094 31.625 21.136719 31.554688 21.136719 31.558594 C 21.203125 31.664062 21.898438 32.414062 22.222656 32.730469 C 23.835938 34.300781 25.5625 35.132812 27.582031 35.300781 C 27.90625 35.328125 27.9375 35.308594 28.007812 34.984375 C 28.382812 33.242188 27.625 30.925781 25.863281 28.425781 L 25.542969 27.96875 L 25.699219 27.785156 C 28.945312 23.960938 29.132812 18.699219 26.257812 11.96875 L 26.207031 11.84375 L 27.945312 12.703125 C 31.53125 14.476562 32.316406 14.800781 33.03125 14.800781 C 33.976562 14.800781 33.78125 13.9375 32.472656 12.292969 C 28.519531 7.355469 25.394531 5.925781 21.921875 7.472656 L 21.558594 7.636719 L 21.578125 7.542969 C 21.699219 6.992188 21.761719 5.742188 21.699219 5.164062 C 21.496094 3.296875 20.664062 1.964844 19.003906 0.855469 C 18.480469 0.503906 18.457031 0.5 18.214844 0.632812\"/>\n",
       "</g>\n",
       "      </svg>\n",
       "    "
      ],
      "text/plain": [
       "<IPython.core.display.HTML object>"
      ]
     },
     "metadata": {},
     "output_type": "display_data"
    }
   ],
   "source": [
    "t.initializeTurtle()\n",
    "\n",
    "n = 5\n",
    "for i in range(n):\n",
    "    t.forward(50)\n",
    "    t.right(10 ** n)"
   ]
  },
  {
   "cell_type": "code",
   "execution_count": null,
   "id": "24db487d",
   "metadata": {},
   "outputs": [],
   "source": []
  },
  {
   "cell_type": "code",
   "execution_count": 18,
   "id": "ae55d0a9",
   "metadata": {},
   "outputs": [
    {
     "ename": "TypeError",
     "evalue": "'NoneType' object is not iterable",
     "output_type": "error",
     "traceback": [
      "\u001b[0;31m---------------------------------------------------------------------------\u001b[0m",
      "\u001b[0;31mTypeError\u001b[0m                                 Traceback (most recent call last)",
      "\u001b[0;32m/tmp/ipykernel_77/385863926.py\u001b[0m in \u001b[0;36m<module>\u001b[0;34m\u001b[0m\n\u001b[1;32m      9\u001b[0m     \u001b[0mg\u001b[0m \u001b[0;34m=\u001b[0m \u001b[0mf\u001b[0m \u001b[0;34m*\u001b[0m \u001b[0;36m9\u001b[0m\u001b[0;34m\u001b[0m\u001b[0;34m\u001b[0m\u001b[0m\n\u001b[1;32m     10\u001b[0m \u001b[0;34m\u001b[0m\u001b[0m\n\u001b[0;32m---> 11\u001b[0;31m \u001b[0;32mfor\u001b[0m \u001b[0mx\u001b[0m \u001b[0;32min\u001b[0m \u001b[0mtype_check\u001b[0m\u001b[0;34m(\u001b[0m\u001b[0;34m)\u001b[0m\u001b[0;34m:\u001b[0m\u001b[0;34m\u001b[0m\u001b[0;34m\u001b[0m\u001b[0m\n\u001b[0m\u001b[1;32m     12\u001b[0m     \u001b[0mprint\u001b[0m\u001b[0;34m(\u001b[0m\u001b[0mtype\u001b[0m\u001b[0;34m(\u001b[0m\u001b[0mx\u001b[0m\u001b[0;34m)\u001b[0m\u001b[0;34m)\u001b[0m\u001b[0;34m\u001b[0m\u001b[0;34m\u001b[0m\u001b[0m\n",
      "\u001b[0;31mTypeError\u001b[0m: 'NoneType' object is not iterable"
     ]
    }
   ],
   "source": [
    "#17-2\n",
    "def type_check():\n",
    "    a = True\n",
    "    b = 45\n",
    "    c = \"Galaxy\"\n",
    "    d = \"True\"\n",
    "    e = b / 9\n",
    "    f = c + d\n",
    "    g = f * 9\n",
    "    \n",
    "for x in type_check():\n",
    "    print(type(x))\n"
   ]
  },
  {
   "cell_type": "code",
   "execution_count": 25,
   "id": "67442db9",
   "metadata": {},
   "outputs": [
    {
     "data": {
      "text/plain": [
       "str"
      ]
     },
     "execution_count": 25,
     "metadata": {},
     "output_type": "execute_result"
    }
   ],
   "source": [
    "a = True\n",
    "b = 45\n",
    "c = \"Galaxy\"\n",
    "d = \"True\"\n",
    "e = b / 9\n",
    "f = c + d\n",
    "g = f * 9\n",
    "type(g)"
   ]
  },
  {
   "cell_type": "code",
   "execution_count": null,
   "id": "15791930",
   "metadata": {},
   "outputs": [],
   "source": []
  }
 ],
 "metadata": {
  "kernelspec": {
   "display_name": "Python 3 (ipykernel)",
   "language": "python",
   "name": "python3"
  },
  "language_info": {
   "codemirror_mode": {
    "name": "ipython",
    "version": 3
   },
   "file_extension": ".py",
   "mimetype": "text/x-python",
   "name": "python",
   "nbconvert_exporter": "python",
   "pygments_lexer": "ipython3",
   "version": "3.9.7"
  }
 },
 "nbformat": 4,
 "nbformat_minor": 5
}
