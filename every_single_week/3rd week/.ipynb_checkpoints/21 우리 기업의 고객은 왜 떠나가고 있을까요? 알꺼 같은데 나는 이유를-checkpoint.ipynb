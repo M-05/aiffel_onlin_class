{
 "cells": [
  {
   "cell_type": "code",
   "execution_count": 3,
   "id": "3263ca47",
   "metadata": {},
   "outputs": [
    {
     "name": "stdout",
     "output_type": "stream",
     "text": [
      "ln: failed to create symbolic link '/aiffel/aiffel/data_analysis_basic/data/customer_04_7.csv': File exists\r\n",
      "ln: failed to create symbolic link '/aiffel/aiffel/data_analysis_basic/data/customer_7.csv': File exists\r\n",
      "ln: failed to create symbolic link '/aiffel/aiffel/data_analysis_basic/data/sales_7.csv': File exists\r\n"
     ]
    }
   ],
   "source": [
    "!mkdir -p ~/aiffel/data_analysis_basic/data\n",
    "!ln -s ~/data/* ~/aiffel/data_analysis_basic/data"
   ]
  },
  {
   "cell_type": "code",
   "execution_count": 4,
   "id": "5da7a674",
   "metadata": {},
   "outputs": [],
   "source": [
    "# Pandas, Numpy, Matplotlib, Seaborn을 호출\n",
    "import pandas as pd\n",
    "import numpy as np\n",
    "import matplotlib.pyplot as plt\n",
    "plt.style.use('default')\n",
    "import seaborn as sns"
   ]
  },
  {
   "cell_type": "code",
   "execution_count": 5,
   "id": "8dee6e6d",
   "metadata": {},
   "outputs": [],
   "source": [
    "# sales_data, customer_data 변수를 만들고 각 데이터 값을 할당\n",
    "sal_d = pd.read_csv('~/aiffel/data_analysis_basic/data/sales_7.csv')\n",
    "cus_d = pd.read_csv('~/aiffel/data_analysis_basic/data/customer_7.csv')"
   ]
  },
  {
   "cell_type": "code",
   "execution_count": 7,
   "id": "fa4dba05",
   "metadata": {},
   "outputs": [
    {
     "data": {
      "text/html": [
       "<div>\n",
       "<style scoped>\n",
       "    .dataframe tbody tr th:only-of-type {\n",
       "        vertical-align: middle;\n",
       "    }\n",
       "\n",
       "    .dataframe tbody tr th {\n",
       "        vertical-align: top;\n",
       "    }\n",
       "\n",
       "    .dataframe thead th {\n",
       "        text-align: right;\n",
       "    }\n",
       "</style>\n",
       "<table border=\"1\" class=\"dataframe\">\n",
       "  <thead>\n",
       "    <tr style=\"text-align: right;\">\n",
       "      <th></th>\n",
       "      <th>Customer_ID</th>\n",
       "      <th>Name</th>\n",
       "      <th>Nickname</th>\n",
       "      <th>Password</th>\n",
       "      <th>Email</th>\n",
       "      <th>Birth</th>\n",
       "      <th>Gender</th>\n",
       "      <th>C.P.</th>\n",
       "      <th>MobileCompany</th>\n",
       "      <th>OS</th>\n",
       "    </tr>\n",
       "  </thead>\n",
       "  <tbody>\n",
       "    <tr>\n",
       "      <th>0</th>\n",
       "      <td>facilis140</td>\n",
       "      <td>이영순</td>\n",
       "      <td>quos</td>\n",
       "      <td>********</td>\n",
       "      <td>coejongsu@yu.kr</td>\n",
       "      <td>1989-03-11</td>\n",
       "      <td>female</td>\n",
       "      <td>01x9-4x625-x5x3x</td>\n",
       "      <td>LGU</td>\n",
       "      <td>iOS</td>\n",
       "    </tr>\n",
       "    <tr>\n",
       "      <th>1</th>\n",
       "      <td>debitis994</td>\n",
       "      <td>김중수</td>\n",
       "      <td>molestiae</td>\n",
       "      <td>********</td>\n",
       "      <td>jiweon02@ju.org</td>\n",
       "      <td>1995-11-19</td>\n",
       "      <td>male</td>\n",
       "      <td>01x9-3x228-x3x9x</td>\n",
       "      <td>KT</td>\n",
       "      <td>iOS</td>\n",
       "    </tr>\n",
       "    <tr>\n",
       "      <th>2</th>\n",
       "      <td>possimus246</td>\n",
       "      <td>양은경</td>\n",
       "      <td>rem</td>\n",
       "      <td>********</td>\n",
       "      <td>coesubin@jusighoesa.com</td>\n",
       "      <td>2005-12-24</td>\n",
       "      <td>female</td>\n",
       "      <td>01x9-7x873-x2x2x</td>\n",
       "      <td>LGU</td>\n",
       "      <td>Android</td>\n",
       "    </tr>\n",
       "    <tr>\n",
       "      <th>3</th>\n",
       "      <td>occaecati138</td>\n",
       "      <td>백도윤</td>\n",
       "      <td>libero</td>\n",
       "      <td>********</td>\n",
       "      <td>yeongceol80@gangryu.kr</td>\n",
       "      <td>2003-02-09</td>\n",
       "      <td>female</td>\n",
       "      <td>01x9-3x519-x7x1x</td>\n",
       "      <td>SKT</td>\n",
       "      <td>iOS</td>\n",
       "    </tr>\n",
       "    <tr>\n",
       "      <th>4</th>\n",
       "      <td>corrupti325</td>\n",
       "      <td>김영수</td>\n",
       "      <td>temporibus</td>\n",
       "      <td>********</td>\n",
       "      <td>jiweon96@yu.net</td>\n",
       "      <td>2004-05-04</td>\n",
       "      <td>male</td>\n",
       "      <td>01x9-0x079-x9x2x</td>\n",
       "      <td>LGU</td>\n",
       "      <td>Android</td>\n",
       "    </tr>\n",
       "  </tbody>\n",
       "</table>\n",
       "</div>"
      ],
      "text/plain": [
       "    Customer_ID Name    Nickname  Password                    Email  \\\n",
       "0    facilis140  이영순        quos  ********          coejongsu@yu.kr   \n",
       "1    debitis994  김중수   molestiae  ********          jiweon02@ju.org   \n",
       "2   possimus246  양은경         rem  ********  coesubin@jusighoesa.com   \n",
       "3  occaecati138  백도윤      libero  ********   yeongceol80@gangryu.kr   \n",
       "4   corrupti325  김영수  temporibus  ********          jiweon96@yu.net   \n",
       "\n",
       "        Birth  Gender              C.P. MobileCompany       OS  \n",
       "0  1989-03-11  female  01x9-4x625-x5x3x           LGU      iOS  \n",
       "1  1995-11-19    male  01x9-3x228-x3x9x            KT      iOS  \n",
       "2  2005-12-24  female  01x9-7x873-x2x2x           LGU  Android  \n",
       "3  2003-02-09  female  01x9-3x519-x7x1x           SKT      iOS  \n",
       "4  2004-05-04    male  01x9-0x079-x9x2x           LGU  Android  "
      ]
     },
     "execution_count": 7,
     "metadata": {},
     "output_type": "execute_result"
    }
   ],
   "source": [
    "# customer_data의 head 값 확인하기\n",
    "cus_d.head()"
   ]
  },
  {
   "cell_type": "code",
   "execution_count": 8,
   "id": "4fc50e84",
   "metadata": {},
   "outputs": [
    {
     "name": "stdout",
     "output_type": "stream",
     "text": [
      "<class 'pandas.core.frame.DataFrame'>\n",
      "RangeIndex: 99845 entries, 0 to 99844\n",
      "Data columns (total 10 columns):\n",
      " #   Column         Non-Null Count  Dtype \n",
      "---  ------         --------------  ----- \n",
      " 0   Customer_ID    99845 non-null  object\n",
      " 1   Name           99845 non-null  object\n",
      " 2   Nickname       99845 non-null  object\n",
      " 3   Password       99845 non-null  object\n",
      " 4   Email          99845 non-null  object\n",
      " 5   Birth          99845 non-null  object\n",
      " 6   Gender         99845 non-null  object\n",
      " 7   C.P.           99845 non-null  object\n",
      " 8   MobileCompany  99845 non-null  object\n",
      " 9   OS             99845 non-null  object\n",
      "dtypes: object(10)\n",
      "memory usage: 7.6+ MB\n"
     ]
    }
   ],
   "source": [
    "cus_d.info()"
   ]
  },
  {
   "cell_type": "code",
   "execution_count": null,
   "id": "f3e4fbf5",
   "metadata": {},
   "outputs": [],
   "source": [
    "# sales_data와 customer_data를 Customer_ID열을 기준으로 합치고 customer_03 변수에 할당\n",
    "customer_03 = pd.merㅎe(sales_data, customer_data, on=\"Customer_ID\")\n",
    "customer_03.head()"
   ]
  }
 ],
 "metadata": {
  "kernelspec": {
   "display_name": "Python 3 (ipykernel)",
   "language": "python",
   "name": "python3"
  },
  "language_info": {
   "codemirror_mode": {
    "name": "ipython",
    "version": 3
   },
   "file_extension": ".py",
   "mimetype": "text/x-python",
   "name": "python",
   "nbconvert_exporter": "python",
   "pygments_lexer": "ipython3",
   "version": "3.9.7"
  }
 },
 "nbformat": 4,
 "nbformat_minor": 5
}
