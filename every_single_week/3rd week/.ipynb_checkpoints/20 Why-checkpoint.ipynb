{
 "cells": [
  {
   "cell_type": "code",
   "execution_count": 2,
   "id": "02ffa1ef",
   "metadata": {},
   "outputs": [
    {
     "name": "stdout",
     "output_type": "stream",
     "text": [
      "ln: failed to create symbolic link '/aiffel/aiffel/data_analysis_basic/data/sales_6.csv': File exists\r\n",
      "ln: failed to create symbolic link '/aiffel/aiffel/data_analysis_basic/data/sales.csv': File exists\r\n"
     ]
    }
   ],
   "source": [
    "!mkdir -p ~/aiffel/data_analysis_basic/data\n",
    "!ln -s ~/data/* ~/aiffel/data_analysis_basic/data"
   ]
  },
  {
   "cell_type": "code",
   "execution_count": 3,
   "id": "ec71db63",
   "metadata": {},
   "outputs": [],
   "source": [
    "# Pandas, Numpy, Matplotlib, Seaborn을 호출\n",
    "import pandas as pd\n",
    "import numpy as np\n",
    "import matplotlib.pyplot as plt\n",
    "plt.style.use('default')\n",
    "import seaborn as sns"
   ]
  },
  {
   "cell_type": "code",
   "execution_count": 6,
   "id": "b5557839",
   "metadata": {},
   "outputs": [
    {
     "data": {
      "text/html": [
       "<div>\n",
       "<style scoped>\n",
       "    .dataframe tbody tr th:only-of-type {\n",
       "        vertical-align: middle;\n",
       "    }\n",
       "\n",
       "    .dataframe tbody tr th {\n",
       "        vertical-align: top;\n",
       "    }\n",
       "\n",
       "    .dataframe thead th {\n",
       "        text-align: right;\n",
       "    }\n",
       "</style>\n",
       "<table border=\"1\" class=\"dataframe\">\n",
       "  <thead>\n",
       "    <tr style=\"text-align: right;\">\n",
       "      <th></th>\n",
       "      <th>install</th>\n",
       "      <th>Time_stamp</th>\n",
       "      <th>Game_Name</th>\n",
       "      <th>Status</th>\n",
       "      <th>Payment</th>\n",
       "      <th>Customer_ID</th>\n",
       "    </tr>\n",
       "  </thead>\n",
       "  <tbody>\n",
       "    <tr>\n",
       "      <th>0</th>\n",
       "      <td>2022-01-08</td>\n",
       "      <td>2022-02-05</td>\n",
       "      <td>MineGround</td>\n",
       "      <td>play</td>\n",
       "      <td>4900</td>\n",
       "      <td>facilis140</td>\n",
       "    </tr>\n",
       "    <tr>\n",
       "      <th>1</th>\n",
       "      <td>2022-01-05</td>\n",
       "      <td>2022-02-17</td>\n",
       "      <td>MineGround</td>\n",
       "      <td>play</td>\n",
       "      <td>29900</td>\n",
       "      <td>debitis994</td>\n",
       "    </tr>\n",
       "    <tr>\n",
       "      <th>2</th>\n",
       "      <td>2022-01-29</td>\n",
       "      <td>2022-02-06</td>\n",
       "      <td>MineGround</td>\n",
       "      <td>play</td>\n",
       "      <td>4900</td>\n",
       "      <td>possimus246</td>\n",
       "    </tr>\n",
       "    <tr>\n",
       "      <th>3</th>\n",
       "      <td>2022-01-09</td>\n",
       "      <td>2022-02-05</td>\n",
       "      <td>MineGround</td>\n",
       "      <td>play</td>\n",
       "      <td>900</td>\n",
       "      <td>occaecati138</td>\n",
       "    </tr>\n",
       "    <tr>\n",
       "      <th>4</th>\n",
       "      <td>2022-01-08</td>\n",
       "      <td>2022-02-01</td>\n",
       "      <td>MineGround</td>\n",
       "      <td>play</td>\n",
       "      <td>900</td>\n",
       "      <td>corrupti325</td>\n",
       "    </tr>\n",
       "  </tbody>\n",
       "</table>\n",
       "</div>"
      ],
      "text/plain": [
       "      install  Time_stamp   Game_Name Status  Payment   Customer_ID\n",
       "0  2022-01-08  2022-02-05  MineGround   play     4900    facilis140\n",
       "1  2022-01-05  2022-02-17  MineGround   play    29900    debitis994\n",
       "2  2022-01-29  2022-02-06  MineGround   play     4900   possimus246\n",
       "3  2022-01-09  2022-02-05  MineGround   play      900  occaecati138\n",
       "4  2022-01-08  2022-02-01  MineGround   play      900   corrupti325"
      ]
     },
     "execution_count": 6,
     "metadata": {},
     "output_type": "execute_result"
    }
   ],
   "source": [
    "# sales_data 변수를 만들고 각 데이터 값을 할당\n",
    "sal_d = pd.read_csv('~/aiffel/data_analysis_basic/data/sales_6.csv')\n",
    "\n",
    "# 변수 sales_data의 head 값 확인하기\n",
    "sal_d.head()"
   ]
  },
  {
   "cell_type": "code",
   "execution_count": 5,
   "id": "06ba59fe",
   "metadata": {
    "collapsed": true
   },
   "outputs": [
    {
     "name": "stdout",
     "output_type": "stream",
     "text": [
      "Help on function use in module matplotlib.style.core:\n",
      "\n",
      "use(style)\n",
      "    Use Matplotlib style settings from a style specification.\n",
      "    \n",
      "    The style name of 'default' is reserved for reverting back to\n",
      "    the default style settings.\n",
      "    \n",
      "    .. note::\n",
      "    \n",
      "       This updates the `.rcParams` with the settings from the style.\n",
      "       `.rcParams` not defined in the style are kept.\n",
      "    \n",
      "    Parameters\n",
      "    ----------\n",
      "    style : str, dict, Path or list\n",
      "        A style specification. Valid options are:\n",
      "    \n",
      "        +------+-------------------------------------------------------------+\n",
      "        | str  | The name of a style or a path/URL to a style file. For a    |\n",
      "        |      | list of available style names, see `style.available`.       |\n",
      "        +------+-------------------------------------------------------------+\n",
      "        | dict | Dictionary with valid key/value pairs for                   |\n",
      "        |      | `matplotlib.rcParams`.                                      |\n",
      "        +------+-------------------------------------------------------------+\n",
      "        | Path | A path-like object which is a path to a style file.         |\n",
      "        +------+-------------------------------------------------------------+\n",
      "        | list | A list of style specifiers (str, Path or dict) applied from |\n",
      "        |      | first to last in the list.                                  |\n",
      "        +------+-------------------------------------------------------------+\n",
      "\n"
     ]
    }
   ],
   "source": [
    "help(plt.style.use)"
   ]
  },
  {
   "cell_type": "code",
   "execution_count": 10,
   "id": "e80215b8",
   "metadata": {},
   "outputs": [
    {
     "data": {
      "text/html": [
       "<div>\n",
       "<style scoped>\n",
       "    .dataframe tbody tr th:only-of-type {\n",
       "        vertical-align: middle;\n",
       "    }\n",
       "\n",
       "    .dataframe tbody tr th {\n",
       "        vertical-align: top;\n",
       "    }\n",
       "\n",
       "    .dataframe thead th {\n",
       "        text-align: right;\n",
       "    }\n",
       "</style>\n",
       "<table border=\"1\" class=\"dataframe\">\n",
       "  <thead>\n",
       "    <tr style=\"text-align: right;\">\n",
       "      <th></th>\n",
       "      <th>install</th>\n",
       "      <th>Time_stamp</th>\n",
       "      <th>Game_Name</th>\n",
       "      <th>Status</th>\n",
       "      <th>Payment</th>\n",
       "      <th>Customer_ID</th>\n",
       "      <th>Date</th>\n",
       "    </tr>\n",
       "  </thead>\n",
       "  <tbody>\n",
       "    <tr>\n",
       "      <th>99840</th>\n",
       "      <td>2022-03-27</td>\n",
       "      <td>2022-03-27</td>\n",
       "      <td>SoccerManager</td>\n",
       "      <td>install</td>\n",
       "      <td>0</td>\n",
       "      <td>dicta630</td>\n",
       "      <td>2022-03</td>\n",
       "    </tr>\n",
       "    <tr>\n",
       "      <th>99841</th>\n",
       "      <td>2022-03-28</td>\n",
       "      <td>2022-03-28</td>\n",
       "      <td>SoccerManager</td>\n",
       "      <td>install</td>\n",
       "      <td>0</td>\n",
       "      <td>tempora976</td>\n",
       "      <td>2022-03</td>\n",
       "    </tr>\n",
       "    <tr>\n",
       "      <th>99842</th>\n",
       "      <td>2022-03-26</td>\n",
       "      <td>2022-03-26</td>\n",
       "      <td>SoccerManager</td>\n",
       "      <td>install</td>\n",
       "      <td>0</td>\n",
       "      <td>iusto840</td>\n",
       "      <td>2022-03</td>\n",
       "    </tr>\n",
       "    <tr>\n",
       "      <th>99843</th>\n",
       "      <td>2022-03-20</td>\n",
       "      <td>2022-03-20</td>\n",
       "      <td>SoccerManager</td>\n",
       "      <td>install</td>\n",
       "      <td>0</td>\n",
       "      <td>nemo273</td>\n",
       "      <td>2022-03</td>\n",
       "    </tr>\n",
       "    <tr>\n",
       "      <th>99844</th>\n",
       "      <td>2022-03-07</td>\n",
       "      <td>2022-03-07</td>\n",
       "      <td>SoccerManager</td>\n",
       "      <td>install</td>\n",
       "      <td>0</td>\n",
       "      <td>consequatur371</td>\n",
       "      <td>2022-03</td>\n",
       "    </tr>\n",
       "  </tbody>\n",
       "</table>\n",
       "</div>"
      ],
      "text/plain": [
       "          install  Time_stamp      Game_Name   Status  Payment  \\\n",
       "99840  2022-03-27  2022-03-27  SoccerManager  install        0   \n",
       "99841  2022-03-28  2022-03-28  SoccerManager  install        0   \n",
       "99842  2022-03-26  2022-03-26  SoccerManager  install        0   \n",
       "99843  2022-03-20  2022-03-20  SoccerManager  install        0   \n",
       "99844  2022-03-07  2022-03-07  SoccerManager  install        0   \n",
       "\n",
       "          Customer_ID     Date  \n",
       "99840        dicta630  2022-03  \n",
       "99841      tempora976  2022-03  \n",
       "99842        iusto840  2022-03  \n",
       "99843         nemo273  2022-03  \n",
       "99844  consequatur371  2022-03  "
      ]
     },
     "execution_count": 10,
     "metadata": {},
     "output_type": "execute_result"
    }
   ],
   "source": [
    "sal_d['Date'] = sal_d['Time_stamp'].str[:7]\n",
    "sal_d.tail()\n",
    "# Date 열 만들고, 그 안에 Time_stamp의 문자열 0~6까지를 값을 표시해줘"
   ]
  },
  {
   "cell_type": "code",
   "execution_count": 9,
   "id": "8de1f917",
   "metadata": {},
   "outputs": [
    {
     "data": {
      "text/plain": [
       "2022-03    50465\n",
       "2022-02    49380\n",
       "Name: Date, dtype: int64"
      ]
     },
     "execution_count": 9,
     "metadata": {},
     "output_type": "execute_result"
    }
   ],
   "source": [
    "sal_d['Date'].value_counts()"
   ]
  },
  {
   "cell_type": "code",
   "execution_count": null,
   "id": "bf4b48c8",
   "metadata": {},
   "outputs": [],
   "source": []
  },
  {
   "cell_type": "code",
   "execution_count": 15,
   "id": "fac6218a",
   "metadata": {},
   "outputs": [
    {
     "data": {
      "image/png": "[encoded data removed]",
      "text/plain": [
       "<Figure size 640x480 with 1 Axes>"
      ]
     },
     "metadata": {},
     "output_type": "display_data"
    }
   ],
   "source": [
    "ax = sns.countplot(data = sal_d, x = 'Date')"
   ]
  },
  {
   "cell_type": "code",
   "execution_count": 16,
   "id": "9912c419",
   "metadata": {},
   "outputs": [
    {
     "data": {
      "text/plain": [
       "[Text(0, 0, '49,380'), Text(0, 0, '50,465')]"
      ]
     },
     "execution_count": 16,
     "metadata": {},
     "output_type": "execute_result"
    }
   ],
   "source": [
    "containers = ax.containers[0]\n",
    "ax.bar_label(containers, labels = [f'{x:,.0f}' for x in containers.datavalues], label_type = 'center')"
   ]
  },
  {
   "cell_type": "code",
   "execution_count": null,
   "id": "3562a2a5",
   "metadata": {},
   "outputs": [],
   "source": []
  },
  {
   "cell_type": "code",
   "execution_count": 21,
   "id": "6d85e23c",
   "metadata": {},
   "outputs": [
    {
     "data": {
      "image/png": "[encoded data removed]",
      "text/plain": [
       "<Figure size 640x480 with 1 Axes>"
      ]
     },
     "metadata": {},
     "output_type": "display_data"
    }
   ],
   "source": [
    "ax = sns.countplot(data = sal_d, x = 'Date')\n",
    "containers = ax.containers[0]\n",
    "ax.bar_label(containers, labels = [f'{x:,.0f}' for x in containers.datavalues], label_type = 'center')\n",
    "plt.show()"
   ]
  },
  {
   "cell_type": "code",
   "execution_count": null,
   "id": "87574595",
   "metadata": {},
   "outputs": [],
   "source": []
  },
  {
   "cell_type": "code",
   "execution_count": 17,
   "id": "e3f9d239",
   "metadata": {},
   "outputs": [
    {
     "data": {
      "text/plain": [
       "[Text(0, 0, '49,380'), Text(0, 0, '50,465')]"
      ]
     },
     "execution_count": 17,
     "metadata": {},
     "output_type": "execute_result"
    }
   ],
   "source": [
    "containers0 = ax.containers[-1]\n",
    "ax.bar_label(containers0, labels=[f'{x:,.0f}' for x in containers0.datavalues], label_type='center')"
   ]
  },
  {
   "cell_type": "markdown",
   "id": "7eb5640e",
   "metadata": {},
   "source": [
    ".0f\n",
    "소수 자리의 0은 소수첫째자리에서 반올림하여 정수?로 출력하라\n",
    ".1f\n",
    "소수 자리의 1은 소수둘째자리에서 반올림하여 첫째자리까지만 출력하라\n",
    "[Text(0, 0, '49,380.0'), Text(0, 0, '50,465.0')]\n",
    "\n",
    "%3.1f’에서 정수 자리의 3은 오른쪽 정렬을 위한 숫자\n"
   ]
  },
  {
   "cell_type": "code",
   "execution_count": 30,
   "id": "1a50977f",
   "metadata": {},
   "outputs": [
    {
     "data": {
      "text/plain": [
       "[Text(0, 0, '49,380.0'), Text(0, 0, '50,465.0')]"
      ]
     },
     "execution_count": 30,
     "metadata": {},
     "output_type": "execute_result"
    },
    {
     "data": {
      "image/png": "[encoded data removed]",
      "text/plain": [
       "<Figure size 640x480 with 1 Axes>"
      ]
     },
     "metadata": {},
     "output_type": "display_data"
    }
   ],
   "source": [
    "# ax = sns.countplot(data = sal_d, x = 'Date')\n",
    "\n",
    "# containers0 = ax.containers[-1]\n",
    "# ax.bar_label(containers0, labels=[f'{x:,.1f}' for x in containers0.datavalues], label_type='center')\n",
    "\n",
    "# #plt.show()\n",
    "\n",
    "# #{x:,.1f} -> x: 는 고정인가봐유"
   ]
  },
  {
   "cell_type": "code",
   "execution_count": null,
   "id": "7c16a5d6",
   "metadata": {},
   "outputs": [],
   "source": []
  },
  {
   "cell_type": "code",
   "execution_count": 18,
   "id": "51eafccf",
   "metadata": {},
   "outputs": [
    {
     "data": {
      "image/png": "[encoded data removed]",
      "text/plain": [
       "<Figure size 640x480 with 1 Axes>"
      ]
     },
     "metadata": {},
     "output_type": "display_data"
    }
   ],
   "source": [
    "plt.title(\"Customer By Month\")\n",
    "plt.show()"
   ]
  },
  {
   "cell_type": "code",
   "execution_count": 19,
   "id": "a7ff75d2",
   "metadata": {},
   "outputs": [
    {
     "data": {
      "image/png": "[encoded data removed]",
      "text/plain": [
       "<Figure size 640x480 with 1 Axes>"
      ]
     },
     "metadata": {},
     "output_type": "display_data"
    }
   ],
   "source": [
    "ax = sns.countplot(data = sal_d, x = 'Date')\n",
    "containers = ax.containers[0]\n",
    "ax.bar_label(containers, labels = [f'{x:,.0f}' for x in containers.datavalues], label_type = 'center')\n",
    "containers0 = ax.containers[-1]\n",
    "ax.bar_label(containers0, labels=[f'{x:,.0f}' for x in containers0.datavalues], label_type='center')\n",
    "plt.title(\"Customer By Month\")\n",
    "plt.show()"
   ]
  },
  {
   "cell_type": "code",
   "execution_count": 31,
   "id": "7192f1a1",
   "metadata": {},
   "outputs": [
    {
     "data": {
      "text/plain": [
       "Index(['install', 'Time_stamp', 'Game_Name', 'Status', 'Payment',\n",
       "       'Customer_ID', 'Date'],\n",
       "      dtype='object')"
      ]
     },
     "execution_count": 31,
     "metadata": {},
     "output_type": "execute_result"
    }
   ],
   "source": [
    "sal_d.columns"
   ]
  },
  {
   "cell_type": "code",
   "execution_count": 32,
   "id": "45a6959b",
   "metadata": {},
   "outputs": [
    {
     "data": {
      "text/plain": [
       "Date     Game_Name    \n",
       "2022-02  MineGround       27721\n",
       "         SoccerManager    21659\n",
       "2022-03  MineGround       32192\n",
       "         SoccerManager    18273\n",
       "Name: Status, dtype: int64"
      ]
     },
     "execution_count": 32,
     "metadata": {},
     "output_type": "execute_result"
    }
   ],
   "source": [
    "# 월별 각 게임 고객 수 분류하기\n",
    "gru = sal_d['Status'].groupby([sal_d['Date'], sal_d['Game_Name']]).count()\n",
    "gru"
   ]
  },
  {
   "cell_type": "code",
   "execution_count": 33,
   "id": "5cc56626",
   "metadata": {},
   "outputs": [
    {
     "data": {
      "image/png": "[encoded data removed]",
      "text/plain": [
       "<Figure size 640x480 with 1 Axes>"
      ]
     },
     "metadata": {},
     "output_type": "display_data"
    }
   ],
   "source": [
    "ax = sns.barplot(data=gru.reset_index(), x = 'Date', y = 'Status', hue = 'Game_Name')"
   ]
  },
  {
   "cell_type": "code",
   "execution_count": 39,
   "id": "8b65d448",
   "metadata": {},
   "outputs": [
    {
     "data": {
      "text/plain": [
       "[Text(0, 0, '21,659'), Text(0, 0, '18,273')]"
      ]
     },
     "execution_count": 39,
     "metadata": {},
     "output_type": "execute_result"
    }
   ],
   "source": [
    "containers = ax.containers[-1]\n",
    "ax.bar_label(containers, labels=[f'{x:,.0f}' for x in containers.datavalues], label_type='center')"
   ]
  },
  {
   "cell_type": "code",
   "execution_count": 40,
   "id": "e6bd2385",
   "metadata": {},
   "outputs": [
    {
     "data": {
      "text/plain": [
       "[Text(0, 0, '27,721'), Text(0, 0, '32,192')]"
      ]
     },
     "execution_count": 40,
     "metadata": {},
     "output_type": "execute_result"
    }
   ],
   "source": [
    "containers0 = ax.containers[0]\n",
    "ax.bar_label(containers0, labels=[f'{x:,.0f}' for x in containers0.datavalues], label_type='center')"
   ]
  },
  {
   "cell_type": "code",
   "execution_count": 41,
   "id": "ed49742a",
   "metadata": {},
   "outputs": [
    {
     "data": {
      "image/png": "[encoded data removed]",
      "text/plain": [
       "<Figure size 640x480 with 1 Axes>"
      ]
     },
     "metadata": {},
     "output_type": "display_data"
    }
   ],
   "source": [
    "# 월별 각 게임 고객 수 시각화하기\n",
    "ax = sns.barplot(data=gru.reset_index(), x = 'Date', y = 'Status', hue = 'Game_Name')\n",
    "\n",
    "containers = ax.containers[-1]\n",
    "containers0 = ax.containers[0]\n",
    "ax.bar_label(containers, labels=[f'{x:,.0f}' for x in containers.datavalues], label_type='center')\n",
    "ax.bar_label(containers0, labels=[f'{x:,.0f}' for x in containers0.datavalues], label_type='center')\n",
    "plt.title('Customer Count by Game')\n",
    "plt.show()"
   ]
  },
  {
   "cell_type": "code",
   "execution_count": 47,
   "id": "dc587a33",
   "metadata": {},
   "outputs": [
    {
     "data": {
      "text/plain": [
       "array(['play', 'play', 'play', ..., 'install', 'install', 'install'],\n",
       "      dtype=object)"
      ]
     },
     "execution_count": 47,
     "metadata": {},
     "output_type": "execute_result"
    }
   ],
   "source": [
    "sal_d['Status'].values"
   ]
  },
  {
   "cell_type": "code",
   "execution_count": 42,
   "id": "2bb11452",
   "metadata": {},
   "outputs": [
    {
     "data": {
      "text/plain": [
       "play       84821\n",
       "install    15024\n",
       "Name: Status, dtype: int64"
      ]
     },
     "execution_count": 42,
     "metadata": {},
     "output_type": "execute_result"
    }
   ],
   "source": [
    "# sales_data의 Status 열에 포함된 값들의 개수 세어보기\n",
    "sal_d['Status'].value_counts()"
   ]
  },
  {
   "cell_type": "markdown",
   "id": "492adbb4",
   "metadata": {},
   "source": [
    "### 월별 결제 건수 "
   ]
  },
  {
   "cell_type": "code",
   "execution_count": 51,
   "id": "121bda1f",
   "metadata": {},
   "outputs": [
    {
     "data": {
      "text/html": [
       "<div>\n",
       "<style scoped>\n",
       "    .dataframe tbody tr th:only-of-type {\n",
       "        vertical-align: middle;\n",
       "    }\n",
       "\n",
       "    .dataframe tbody tr th {\n",
       "        vertical-align: top;\n",
       "    }\n",
       "\n",
       "    .dataframe thead th {\n",
       "        text-align: right;\n",
       "    }\n",
       "</style>\n",
       "<table border=\"1\" class=\"dataframe\">\n",
       "  <thead>\n",
       "    <tr style=\"text-align: right;\">\n",
       "      <th></th>\n",
       "      <th>install</th>\n",
       "      <th>Time_stamp</th>\n",
       "      <th>Game_Name</th>\n",
       "      <th>Status</th>\n",
       "      <th>Payment</th>\n",
       "      <th>Customer_ID</th>\n",
       "      <th>Date</th>\n",
       "    </tr>\n",
       "  </thead>\n",
       "  <tbody>\n",
       "    <tr>\n",
       "      <th>0</th>\n",
       "      <td>2022-01-08</td>\n",
       "      <td>2022-02-05</td>\n",
       "      <td>MineGround</td>\n",
       "      <td>play</td>\n",
       "      <td>4900</td>\n",
       "      <td>facilis140</td>\n",
       "      <td>2022-02</td>\n",
       "    </tr>\n",
       "    <tr>\n",
       "      <th>1</th>\n",
       "      <td>2022-01-05</td>\n",
       "      <td>2022-02-17</td>\n",
       "      <td>MineGround</td>\n",
       "      <td>play</td>\n",
       "      <td>29900</td>\n",
       "      <td>debitis994</td>\n",
       "      <td>2022-02</td>\n",
       "    </tr>\n",
       "    <tr>\n",
       "      <th>2</th>\n",
       "      <td>2022-01-29</td>\n",
       "      <td>2022-02-06</td>\n",
       "      <td>MineGround</td>\n",
       "      <td>play</td>\n",
       "      <td>4900</td>\n",
       "      <td>possimus246</td>\n",
       "      <td>2022-02</td>\n",
       "    </tr>\n",
       "    <tr>\n",
       "      <th>3</th>\n",
       "      <td>2022-01-09</td>\n",
       "      <td>2022-02-05</td>\n",
       "      <td>MineGround</td>\n",
       "      <td>play</td>\n",
       "      <td>900</td>\n",
       "      <td>occaecati138</td>\n",
       "      <td>2022-02</td>\n",
       "    </tr>\n",
       "    <tr>\n",
       "      <th>4</th>\n",
       "      <td>2022-01-08</td>\n",
       "      <td>2022-02-01</td>\n",
       "      <td>MineGround</td>\n",
       "      <td>play</td>\n",
       "      <td>900</td>\n",
       "      <td>corrupti325</td>\n",
       "      <td>2022-02</td>\n",
       "    </tr>\n",
       "  </tbody>\n",
       "</table>\n",
       "</div>"
      ],
      "text/plain": [
       "      install  Time_stamp   Game_Name Status  Payment   Customer_ID     Date\n",
       "0  2022-01-08  2022-02-05  MineGround   play     4900    facilis140  2022-02\n",
       "1  2022-01-05  2022-02-17  MineGround   play    29900    debitis994  2022-02\n",
       "2  2022-01-29  2022-02-06  MineGround   play     4900   possimus246  2022-02\n",
       "3  2022-01-09  2022-02-05  MineGround   play      900  occaecati138  2022-02\n",
       "4  2022-01-08  2022-02-01  MineGround   play      900   corrupti325  2022-02"
      ]
     },
     "execution_count": 51,
     "metadata": {},
     "output_type": "execute_result"
    }
   ],
   "source": [
    "sal_d.head()"
   ]
  },
  {
   "cell_type": "code",
   "execution_count": 58,
   "id": "864ea80f",
   "metadata": {},
   "outputs": [
    {
     "data": {
      "text/plain": [
       "Index(['install', 'Time_stamp', 'Game_Name', 'Status', 'Payment',\n",
       "       'Customer_ID', 'Date'],\n",
       "      dtype='object')"
      ]
     },
     "execution_count": 58,
     "metadata": {},
     "output_type": "execute_result"
    }
   ],
   "source": [
    "sal_d.columns"
   ]
  },
  {
   "cell_type": "code",
   "execution_count": 49,
   "id": "dda3b6eb",
   "metadata": {},
   "outputs": [
    {
     "data": {
      "text/plain": [
       "0         4900\n",
       "1        29900\n",
       "2         4900\n",
       "3          900\n",
       "4          900\n",
       "         ...  \n",
       "99840        0\n",
       "99841        0\n",
       "99842        0\n",
       "99843        0\n",
       "99844        0\n",
       "Name: Payment, Length: 99845, dtype: int64"
      ]
     },
     "execution_count": 49,
     "metadata": {},
     "output_type": "execute_result"
    }
   ],
   "source": [
    "sal_d[\"Payment\"]\n",
    "#sal_d.Payment"
   ]
  },
  {
   "cell_type": "code",
   "execution_count": 67,
   "id": "82bb4d31",
   "metadata": {},
   "outputs": [
    {
     "data": {
      "text/plain": [
       "0         True\n",
       "1         True\n",
       "2         True\n",
       "3         True\n",
       "4         True\n",
       "         ...  \n",
       "99840    False\n",
       "99841    False\n",
       "99842    False\n",
       "99843    False\n",
       "99844    False\n",
       "Name: Payment, Length: 99845, dtype: bool"
      ]
     },
     "execution_count": 67,
     "metadata": {},
     "output_type": "execute_result"
    }
   ],
   "source": [
    "sal_d[\"Payment\"] != 0"
   ]
  },
  {
   "cell_type": "code",
   "execution_count": 72,
   "id": "46ce5db8",
   "metadata": {},
   "outputs": [
    {
     "data": {
      "text/plain": [
       "0         4900\n",
       "1        29900\n",
       "2         4900\n",
       "3          900\n",
       "4          900\n",
       "         ...  \n",
       "99840        0\n",
       "99841        0\n",
       "99842        0\n",
       "99843        0\n",
       "99844        0\n",
       "Name: Payment, Length: 99845, dtype: int64"
      ]
     },
     "execution_count": 72,
     "metadata": {},
     "output_type": "execute_result"
    }
   ],
   "source": [
    "sal_d[\"Payment\"]"
   ]
  },
  {
   "cell_type": "code",
   "execution_count": 69,
   "id": "ee6edacb",
   "metadata": {},
   "outputs": [
    {
     "data": {
      "text/html": [
       "<div>\n",
       "<style scoped>\n",
       "    .dataframe tbody tr th:only-of-type {\n",
       "        vertical-align: middle;\n",
       "    }\n",
       "\n",
       "    .dataframe tbody tr th {\n",
       "        vertical-align: top;\n",
       "    }\n",
       "\n",
       "    .dataframe thead th {\n",
       "        text-align: right;\n",
       "    }\n",
       "</style>\n",
       "<table border=\"1\" class=\"dataframe\">\n",
       "  <thead>\n",
       "    <tr style=\"text-align: right;\">\n",
       "      <th></th>\n",
       "      <th>install</th>\n",
       "      <th>Time_stamp</th>\n",
       "      <th>Game_Name</th>\n",
       "      <th>Status</th>\n",
       "      <th>Payment</th>\n",
       "      <th>Customer_ID</th>\n",
       "      <th>Date</th>\n",
       "    </tr>\n",
       "  </thead>\n",
       "  <tbody>\n",
       "    <tr>\n",
       "      <th>0</th>\n",
       "      <td>2022-01-08</td>\n",
       "      <td>2022-02-05</td>\n",
       "      <td>MineGround</td>\n",
       "      <td>play</td>\n",
       "      <td>4900</td>\n",
       "      <td>facilis140</td>\n",
       "      <td>2022-02</td>\n",
       "    </tr>\n",
       "    <tr>\n",
       "      <th>1</th>\n",
       "      <td>2022-01-05</td>\n",
       "      <td>2022-02-17</td>\n",
       "      <td>MineGround</td>\n",
       "      <td>play</td>\n",
       "      <td>29900</td>\n",
       "      <td>debitis994</td>\n",
       "      <td>2022-02</td>\n",
       "    </tr>\n",
       "    <tr>\n",
       "      <th>2</th>\n",
       "      <td>2022-01-29</td>\n",
       "      <td>2022-02-06</td>\n",
       "      <td>MineGround</td>\n",
       "      <td>play</td>\n",
       "      <td>4900</td>\n",
       "      <td>possimus246</td>\n",
       "      <td>2022-02</td>\n",
       "    </tr>\n",
       "    <tr>\n",
       "      <th>3</th>\n",
       "      <td>2022-01-09</td>\n",
       "      <td>2022-02-05</td>\n",
       "      <td>MineGround</td>\n",
       "      <td>play</td>\n",
       "      <td>900</td>\n",
       "      <td>occaecati138</td>\n",
       "      <td>2022-02</td>\n",
       "    </tr>\n",
       "    <tr>\n",
       "      <th>4</th>\n",
       "      <td>2022-01-08</td>\n",
       "      <td>2022-02-01</td>\n",
       "      <td>MineGround</td>\n",
       "      <td>play</td>\n",
       "      <td>900</td>\n",
       "      <td>corrupti325</td>\n",
       "      <td>2022-02</td>\n",
       "    </tr>\n",
       "    <tr>\n",
       "      <th>...</th>\n",
       "      <td>...</td>\n",
       "      <td>...</td>\n",
       "      <td>...</td>\n",
       "      <td>...</td>\n",
       "      <td>...</td>\n",
       "      <td>...</td>\n",
       "      <td>...</td>\n",
       "    </tr>\n",
       "    <tr>\n",
       "      <th>43452</th>\n",
       "      <td>2022-02-01</td>\n",
       "      <td>2022-03-14</td>\n",
       "      <td>MineGround</td>\n",
       "      <td>play</td>\n",
       "      <td>49900</td>\n",
       "      <td>iure492</td>\n",
       "      <td>2022-03</td>\n",
       "    </tr>\n",
       "    <tr>\n",
       "      <th>43453</th>\n",
       "      <td>2022-02-15</td>\n",
       "      <td>2022-03-10</td>\n",
       "      <td>MineGround</td>\n",
       "      <td>play</td>\n",
       "      <td>49900</td>\n",
       "      <td>eius867</td>\n",
       "      <td>2022-03</td>\n",
       "    </tr>\n",
       "    <tr>\n",
       "      <th>43454</th>\n",
       "      <td>2022-02-06</td>\n",
       "      <td>2022-03-01</td>\n",
       "      <td>MineGround</td>\n",
       "      <td>play</td>\n",
       "      <td>49900</td>\n",
       "      <td>in180</td>\n",
       "      <td>2022-03</td>\n",
       "    </tr>\n",
       "    <tr>\n",
       "      <th>43455</th>\n",
       "      <td>2022-02-09</td>\n",
       "      <td>2022-03-23</td>\n",
       "      <td>MineGround</td>\n",
       "      <td>play</td>\n",
       "      <td>49900</td>\n",
       "      <td>molestiae845</td>\n",
       "      <td>2022-03</td>\n",
       "    </tr>\n",
       "    <tr>\n",
       "      <th>43456</th>\n",
       "      <td>2022-02-05</td>\n",
       "      <td>2022-03-21</td>\n",
       "      <td>MineGround</td>\n",
       "      <td>play</td>\n",
       "      <td>49900</td>\n",
       "      <td>earum183</td>\n",
       "      <td>2022-03</td>\n",
       "    </tr>\n",
       "  </tbody>\n",
       "</table>\n",
       "<p>15440 rows × 7 columns</p>\n",
       "</div>"
      ],
      "text/plain": [
       "          install  Time_stamp   Game_Name Status  Payment   Customer_ID  \\\n",
       "0      2022-01-08  2022-02-05  MineGround   play     4900    facilis140   \n",
       "1      2022-01-05  2022-02-17  MineGround   play    29900    debitis994   \n",
       "2      2022-01-29  2022-02-06  MineGround   play     4900   possimus246   \n",
       "3      2022-01-09  2022-02-05  MineGround   play      900  occaecati138   \n",
       "4      2022-01-08  2022-02-01  MineGround   play      900   corrupti325   \n",
       "...           ...         ...         ...    ...      ...           ...   \n",
       "43452  2022-02-01  2022-03-14  MineGround   play    49900       iure492   \n",
       "43453  2022-02-15  2022-03-10  MineGround   play    49900       eius867   \n",
       "43454  2022-02-06  2022-03-01  MineGround   play    49900         in180   \n",
       "43455  2022-02-09  2022-03-23  MineGround   play    49900  molestiae845   \n",
       "43456  2022-02-05  2022-03-21  MineGround   play    49900      earum183   \n",
       "\n",
       "          Date  \n",
       "0      2022-02  \n",
       "1      2022-02  \n",
       "2      2022-02  \n",
       "3      2022-02  \n",
       "4      2022-02  \n",
       "...        ...  \n",
       "43452  2022-03  \n",
       "43453  2022-03  \n",
       "43454  2022-03  \n",
       "43455  2022-03  \n",
       "43456  2022-03  \n",
       "\n",
       "[15440 rows x 7 columns]"
      ]
     },
     "execution_count": 69,
     "metadata": {},
     "output_type": "execute_result"
    }
   ],
   "source": [
    "sal_d[sal_d[\"Payment\"] != 0]"
   ]
  },
  {
   "cell_type": "code",
   "execution_count": 71,
   "id": "e4ee939c",
   "metadata": {},
   "outputs": [
    {
     "data": {
      "text/html": [
       "<div>\n",
       "<style scoped>\n",
       "    .dataframe tbody tr th:only-of-type {\n",
       "        vertical-align: middle;\n",
       "    }\n",
       "\n",
       "    .dataframe tbody tr th {\n",
       "        vertical-align: top;\n",
       "    }\n",
       "\n",
       "    .dataframe thead th {\n",
       "        text-align: right;\n",
       "    }\n",
       "</style>\n",
       "<table border=\"1\" class=\"dataframe\">\n",
       "  <thead>\n",
       "    <tr style=\"text-align: right;\">\n",
       "      <th></th>\n",
       "      <th>install</th>\n",
       "      <th>Time_stamp</th>\n",
       "      <th>Game_Name</th>\n",
       "      <th>Status</th>\n",
       "      <th>Payment</th>\n",
       "      <th>Customer_ID</th>\n",
       "      <th>Date</th>\n",
       "    </tr>\n",
       "  </thead>\n",
       "  <tbody>\n",
       "    <tr>\n",
       "      <th>15309</th>\n",
       "      <td>2022-02-12</td>\n",
       "      <td>2022-02-16</td>\n",
       "      <td>MineGround</td>\n",
       "      <td>play</td>\n",
       "      <td>0</td>\n",
       "      <td>dignissimos292</td>\n",
       "      <td>2022-02</td>\n",
       "    </tr>\n",
       "    <tr>\n",
       "      <th>15310</th>\n",
       "      <td>2022-02-02</td>\n",
       "      <td>2022-02-04</td>\n",
       "      <td>MineGround</td>\n",
       "      <td>play</td>\n",
       "      <td>0</td>\n",
       "      <td>nulla778</td>\n",
       "      <td>2022-02</td>\n",
       "    </tr>\n",
       "    <tr>\n",
       "      <th>15311</th>\n",
       "      <td>2022-02-18</td>\n",
       "      <td>2022-02-20</td>\n",
       "      <td>MineGround</td>\n",
       "      <td>play</td>\n",
       "      <td>0</td>\n",
       "      <td>aliquid307</td>\n",
       "      <td>2022-02</td>\n",
       "    </tr>\n",
       "    <tr>\n",
       "      <th>15312</th>\n",
       "      <td>2022-02-12</td>\n",
       "      <td>2022-02-15</td>\n",
       "      <td>MineGround</td>\n",
       "      <td>play</td>\n",
       "      <td>0</td>\n",
       "      <td>cupiditate228</td>\n",
       "      <td>2022-02</td>\n",
       "    </tr>\n",
       "    <tr>\n",
       "      <th>15313</th>\n",
       "      <td>2022-02-09</td>\n",
       "      <td>2022-02-11</td>\n",
       "      <td>MineGround</td>\n",
       "      <td>play</td>\n",
       "      <td>0</td>\n",
       "      <td>nam311</td>\n",
       "      <td>2022-02</td>\n",
       "    </tr>\n",
       "    <tr>\n",
       "      <th>...</th>\n",
       "      <td>...</td>\n",
       "      <td>...</td>\n",
       "      <td>...</td>\n",
       "      <td>...</td>\n",
       "      <td>...</td>\n",
       "      <td>...</td>\n",
       "      <td>...</td>\n",
       "    </tr>\n",
       "    <tr>\n",
       "      <th>99840</th>\n",
       "      <td>2022-03-27</td>\n",
       "      <td>2022-03-27</td>\n",
       "      <td>SoccerManager</td>\n",
       "      <td>install</td>\n",
       "      <td>0</td>\n",
       "      <td>dicta630</td>\n",
       "      <td>2022-03</td>\n",
       "    </tr>\n",
       "    <tr>\n",
       "      <th>99841</th>\n",
       "      <td>2022-03-28</td>\n",
       "      <td>2022-03-28</td>\n",
       "      <td>SoccerManager</td>\n",
       "      <td>install</td>\n",
       "      <td>0</td>\n",
       "      <td>tempora976</td>\n",
       "      <td>2022-03</td>\n",
       "    </tr>\n",
       "    <tr>\n",
       "      <th>99842</th>\n",
       "      <td>2022-03-26</td>\n",
       "      <td>2022-03-26</td>\n",
       "      <td>SoccerManager</td>\n",
       "      <td>install</td>\n",
       "      <td>0</td>\n",
       "      <td>iusto840</td>\n",
       "      <td>2022-03</td>\n",
       "    </tr>\n",
       "    <tr>\n",
       "      <th>99843</th>\n",
       "      <td>2022-03-20</td>\n",
       "      <td>2022-03-20</td>\n",
       "      <td>SoccerManager</td>\n",
       "      <td>install</td>\n",
       "      <td>0</td>\n",
       "      <td>nemo273</td>\n",
       "      <td>2022-03</td>\n",
       "    </tr>\n",
       "    <tr>\n",
       "      <th>99844</th>\n",
       "      <td>2022-03-07</td>\n",
       "      <td>2022-03-07</td>\n",
       "      <td>SoccerManager</td>\n",
       "      <td>install</td>\n",
       "      <td>0</td>\n",
       "      <td>consequatur371</td>\n",
       "      <td>2022-03</td>\n",
       "    </tr>\n",
       "  </tbody>\n",
       "</table>\n",
       "<p>84405 rows × 7 columns</p>\n",
       "</div>"
      ],
      "text/plain": [
       "          install  Time_stamp      Game_Name   Status  Payment  \\\n",
       "15309  2022-02-12  2022-02-16     MineGround     play        0   \n",
       "15310  2022-02-02  2022-02-04     MineGround     play        0   \n",
       "15311  2022-02-18  2022-02-20     MineGround     play        0   \n",
       "15312  2022-02-12  2022-02-15     MineGround     play        0   \n",
       "15313  2022-02-09  2022-02-11     MineGround     play        0   \n",
       "...           ...         ...            ...      ...      ...   \n",
       "99840  2022-03-27  2022-03-27  SoccerManager  install        0   \n",
       "99841  2022-03-28  2022-03-28  SoccerManager  install        0   \n",
       "99842  2022-03-26  2022-03-26  SoccerManager  install        0   \n",
       "99843  2022-03-20  2022-03-20  SoccerManager  install        0   \n",
       "99844  2022-03-07  2022-03-07  SoccerManager  install        0   \n",
       "\n",
       "          Customer_ID     Date  \n",
       "15309  dignissimos292  2022-02  \n",
       "15310        nulla778  2022-02  \n",
       "15311      aliquid307  2022-02  \n",
       "15312   cupiditate228  2022-02  \n",
       "15313          nam311  2022-02  \n",
       "...               ...      ...  \n",
       "99840        dicta630  2022-03  \n",
       "99841      tempora976  2022-03  \n",
       "99842        iusto840  2022-03  \n",
       "99843         nemo273  2022-03  \n",
       "99844  consequatur371  2022-03  \n",
       "\n",
       "[84405 rows x 7 columns]"
      ]
     },
     "execution_count": 71,
     "metadata": {},
     "output_type": "execute_result"
    }
   ],
   "source": [
    "sal_d[sal_d[\"Payment\"] == 0]"
   ]
  },
  {
   "cell_type": "markdown",
   "id": "7319d812",
   "metadata": {},
   "source": [
    "99,845 - 84,405 = 15,440\n",
    "total payment - payment = 0  =  payment > 0"
   ]
  },
  {
   "cell_type": "code",
   "execution_count": 73,
   "id": "7207779c",
   "metadata": {},
   "outputs": [
    {
     "data": {
      "text/plain": [
       "install     Time_stamp  Game_Name      Status   Payment  Customer_ID       Date   \n",
       "2022-01-01  2022-02-01  MineGround     play     0        beatae824         2022-02    1\n",
       "2022-02-16  2022-02-16  SoccerManager  install  0        magni029          2022-02    1\n",
       "                                                         reprehenderit235  2022-02    1\n",
       "                                                         recusandae214     2022-02    1\n",
       "                                                         ratione982        2022-02    1\n",
       "                                                                                     ..\n",
       "2022-02-01  2022-03-18  SoccerManager  play     0        ratione913        2022-03    1\n",
       "                                                         quis959           2022-03    1\n",
       "                                                         quis180           2022-03    1\n",
       "                                                         provident790      2022-03    1\n",
       "2022-03-30  2022-03-30  SoccerManager  install  0        voluptatum672     2022-03    1\n",
       "Length: 99845, dtype: int64"
      ]
     },
     "execution_count": 73,
     "metadata": {},
     "output_type": "execute_result"
    }
   ],
   "source": [
    "sal_d.value_counts()"
   ]
  },
  {
   "cell_type": "code",
   "execution_count": 75,
   "id": "be6608dc",
   "metadata": {},
   "outputs": [
    {
     "data": {
      "text/plain": [
       "install     Time_stamp  Game_Name      Status  Payment  Customer_ID     Date   \n",
       "2022-01-01  2022-02-01  MineGround     play    900      incidunt027     2022-02    1\n",
       "2022-02-08  2022-03-23  MineGround     play    900      provident287    2022-03    1\n",
       "2022-02-09  2022-02-10  MineGround     play    4900     earum007        2022-02    1\n",
       "                                                        in721           2022-02    1\n",
       "                                                        in917           2022-02    1\n",
       "                                                                                  ..\n",
       "2022-01-20  2022-02-03  MineGround     play    900      dignissimos422  2022-02    1\n",
       "                                                        non557          2022-02    1\n",
       "                                                        nulla998        2022-02    1\n",
       "                                               9900     eum639          2022-02    1\n",
       "2022-03-25  2022-03-30  SoccerManager  play    4900     cumque943       2022-03    1\n",
       "Length: 15440, dtype: int64"
      ]
     },
     "execution_count": 75,
     "metadata": {},
     "output_type": "execute_result"
    }
   ],
   "source": [
    "sal_d[sal_d[\"Payment\"] != 0].value_counts()"
   ]
  },
  {
   "cell_type": "code",
   "execution_count": 76,
   "id": "94c1f4e0",
   "metadata": {},
   "outputs": [
    {
     "data": {
      "text/plain": [
       "install     Time_stamp  Game_Name      Status   Payment  Customer_ID     Date   \n",
       "2022-01-01  2022-02-01  MineGround     play     0        beatae824       2022-02    1\n",
       "2022-02-16  2022-03-28  SoccerManager  play     0        repudiandae704  2022-03    1\n",
       "                                                         rem702          2022-03    1\n",
       "                                                         quibusdam223    2022-03    1\n",
       "                                                         pariatur095     2022-03    1\n",
       "                                                                                   ..\n",
       "2022-02-03  2022-02-08  MineGround     play     0        magni598        2022-02    1\n",
       "                                                         laboriosam593   2022-02    1\n",
       "                                                         labore689       2022-02    1\n",
       "                                                         labore186       2022-02    1\n",
       "2022-03-30  2022-03-30  SoccerManager  install  0        voluptatum672   2022-03    1\n",
       "Length: 84405, dtype: int64"
      ]
     },
     "execution_count": 76,
     "metadata": {},
     "output_type": "execute_result"
    }
   ],
   "source": [
    "sal_d[sal_d[\"Payment\"] == 0].value_counts()"
   ]
  },
  {
   "cell_type": "code",
   "execution_count": null,
   "id": "18ad136e",
   "metadata": {},
   "outputs": [],
   "source": []
  }
 ],
 "metadata": {
  "kernelspec": {
   "display_name": "Python 3 (ipykernel)",
   "language": "python",
   "name": "python3"
  },
  "language_info": {
   "codemirror_mode": {
    "name": "ipython",
    "version": 3
   },
   "file_extension": ".py",
   "mimetype": "text/x-python",
   "name": "python",
   "nbconvert_exporter": "python",
   "pygments_lexer": "ipython3",
   "version": "3.9.7"
  }
 },
 "nbformat": 4,
 "nbformat_minor": 5
}
