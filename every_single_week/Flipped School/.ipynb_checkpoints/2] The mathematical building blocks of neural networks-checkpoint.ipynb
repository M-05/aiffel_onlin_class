{
 "cells": [
  {
   "cell_type": "markdown",
   "id": "54cd3299",
   "metadata": {},
   "source": [
    "# 케라스에서 MNIST 데이터셋 적재하기"
   ]
  },
  {
   "cell_type": "code",
   "execution_count": 2,
   "id": "312c7f07",
   "metadata": {},
   "outputs": [],
   "source": [
    "import numpy as np"
   ]
  },
  {
   "cell_type": "code",
   "execution_count": 17,
   "id": "c52943ab",
   "metadata": {},
   "outputs": [
    {
     "data": {
      "text/plain": [
       "array([[[ 1,  2],\n",
       "        [ 3,  4],\n",
       "        [ 5,  6],\n",
       "        [ 7,  8],\n",
       "        [ 9, 10],\n",
       "        [11, 12],\n",
       "        [13, 14],\n",
       "        [15, 16],\n",
       "        [17, 18]],\n",
       "\n",
       "       [[19, 20],\n",
       "        [21, 22],\n",
       "        [23, 24],\n",
       "        [25, 26],\n",
       "        [27, 28],\n",
       "        [29, 30],\n",
       "        [31, 32],\n",
       "        [33, 34],\n",
       "        [35, 36]]])"
      ]
     },
     "execution_count": 17,
     "metadata": {},
     "output_type": "execute_result"
    }
   ],
   "source": [
    "a = np.arange(1, 37).reshape(2, 9, 2)\n",
    "a\n"
   ]
  },
  {
   "cell_type": "code",
   "execution_count": 22,
   "id": "4200d57a",
   "metadata": {},
   "outputs": [],
   "source": [
    "import tensorflow as tf"
   ]
  },
  {
   "cell_type": "code",
   "execution_count": 23,
   "id": "bbd003d2",
   "metadata": {},
   "outputs": [],
   "source": [
    "rank_4_tensor = tf.zeros([3, 2, 4, 5])"
   ]
  },
  {
   "cell_type": "code",
   "execution_count": 24,
   "id": "05875f4e",
   "metadata": {},
   "outputs": [
    {
     "data": {
      "text/plain": [
       "<tf.Tensor: shape=(3, 2, 4, 5), dtype=float32, numpy=\n",
       "array([[[[0., 0., 0., 0., 0.],\n",
       "         [0., 0., 0., 0., 0.],\n",
       "         [0., 0., 0., 0., 0.],\n",
       "         [0., 0., 0., 0., 0.]],\n",
       "\n",
       "        [[0., 0., 0., 0., 0.],\n",
       "         [0., 0., 0., 0., 0.],\n",
       "         [0., 0., 0., 0., 0.],\n",
       "         [0., 0., 0., 0., 0.]]],\n",
       "\n",
       "\n",
       "       [[[0., 0., 0., 0., 0.],\n",
       "         [0., 0., 0., 0., 0.],\n",
       "         [0., 0., 0., 0., 0.],\n",
       "         [0., 0., 0., 0., 0.]],\n",
       "\n",
       "        [[0., 0., 0., 0., 0.],\n",
       "         [0., 0., 0., 0., 0.],\n",
       "         [0., 0., 0., 0., 0.],\n",
       "         [0., 0., 0., 0., 0.]]],\n",
       "\n",
       "\n",
       "       [[[0., 0., 0., 0., 0.],\n",
       "         [0., 0., 0., 0., 0.],\n",
       "         [0., 0., 0., 0., 0.],\n",
       "         [0., 0., 0., 0., 0.]],\n",
       "\n",
       "        [[0., 0., 0., 0., 0.],\n",
       "         [0., 0., 0., 0., 0.],\n",
       "         [0., 0., 0., 0., 0.],\n",
       "         [0., 0., 0., 0., 0.]]]], dtype=float32)>"
      ]
     },
     "execution_count": 24,
     "metadata": {},
     "output_type": "execute_result"
    }
   ],
   "source": [
    "rank_4_tensor"
   ]
  },
  {
   "cell_type": "code",
   "execution_count": 211,
   "id": "e31a2d7e",
   "metadata": {},
   "outputs": [
    {
     "data": {
      "text/plain": [
       "'2.6.0'"
      ]
     },
     "execution_count": 211,
     "metadata": {},
     "output_type": "execute_result"
    }
   ],
   "source": [
    "tensorflow.__version__"
   ]
  },
  {
   "cell_type": "code",
   "execution_count": 1,
   "id": "7797bba1",
   "metadata": {},
   "outputs": [
    {
     "name": "stdout",
     "output_type": "stream",
     "text": [
      "Downloading data from https://storage.googleapis.com/tensorflow/tf-keras-datasets/mnist.npz\n",
      "11493376/11490434 [==============================] - 0s 0us/step\n",
      "11501568/11490434 [==============================] - 0s 0us/step\n"
     ]
    }
   ],
   "source": [
    "from tensorflow.keras.datasets import mnist\n",
    "(train_images, train_labels), (test_images, test_labels) = mnist.load_data()"
   ]
  },
  {
   "cell_type": "code",
   "execution_count": 3,
   "id": "1f639689",
   "metadata": {},
   "outputs": [
    {
     "data": {
      "text/plain": [
       "((60000, 28, 28), (10000, 28, 28), (60000,), (10000,))"
      ]
     },
     "execution_count": 3,
     "metadata": {},
     "output_type": "execute_result"
    }
   ],
   "source": [
    "train_images.shape, test_images.shape, train_labels.shape, test_labels.shape"
   ]
  },
  {
   "cell_type": "code",
   "execution_count": 4,
   "id": "aeca4689",
   "metadata": {},
   "outputs": [
    {
     "data": {
      "text/plain": [
       "numpy.ndarray"
      ]
     },
     "execution_count": 4,
     "metadata": {},
     "output_type": "execute_result"
    }
   ],
   "source": [
    "type(train_images)"
   ]
  },
  {
   "cell_type": "code",
   "execution_count": 5,
   "id": "58da253c",
   "metadata": {
    "collapsed": true
   },
   "outputs": [
    {
     "data": {
      "text/plain": [
       "array([[[0, 0, 0, ..., 0, 0, 0],\n",
       "        [0, 0, 0, ..., 0, 0, 0],\n",
       "        [0, 0, 0, ..., 0, 0, 0],\n",
       "        ...,\n",
       "        [0, 0, 0, ..., 0, 0, 0],\n",
       "        [0, 0, 0, ..., 0, 0, 0],\n",
       "        [0, 0, 0, ..., 0, 0, 0]],\n",
       "\n",
       "       [[0, 0, 0, ..., 0, 0, 0],\n",
       "        [0, 0, 0, ..., 0, 0, 0],\n",
       "        [0, 0, 0, ..., 0, 0, 0],\n",
       "        ...,\n",
       "        [0, 0, 0, ..., 0, 0, 0],\n",
       "        [0, 0, 0, ..., 0, 0, 0],\n",
       "        [0, 0, 0, ..., 0, 0, 0]],\n",
       "\n",
       "       [[0, 0, 0, ..., 0, 0, 0],\n",
       "        [0, 0, 0, ..., 0, 0, 0],\n",
       "        [0, 0, 0, ..., 0, 0, 0],\n",
       "        ...,\n",
       "        [0, 0, 0, ..., 0, 0, 0],\n",
       "        [0, 0, 0, ..., 0, 0, 0],\n",
       "        [0, 0, 0, ..., 0, 0, 0]],\n",
       "\n",
       "       ...,\n",
       "\n",
       "       [[0, 0, 0, ..., 0, 0, 0],\n",
       "        [0, 0, 0, ..., 0, 0, 0],\n",
       "        [0, 0, 0, ..., 0, 0, 0],\n",
       "        ...,\n",
       "        [0, 0, 0, ..., 0, 0, 0],\n",
       "        [0, 0, 0, ..., 0, 0, 0],\n",
       "        [0, 0, 0, ..., 0, 0, 0]],\n",
       "\n",
       "       [[0, 0, 0, ..., 0, 0, 0],\n",
       "        [0, 0, 0, ..., 0, 0, 0],\n",
       "        [0, 0, 0, ..., 0, 0, 0],\n",
       "        ...,\n",
       "        [0, 0, 0, ..., 0, 0, 0],\n",
       "        [0, 0, 0, ..., 0, 0, 0],\n",
       "        [0, 0, 0, ..., 0, 0, 0]],\n",
       "\n",
       "       [[0, 0, 0, ..., 0, 0, 0],\n",
       "        [0, 0, 0, ..., 0, 0, 0],\n",
       "        [0, 0, 0, ..., 0, 0, 0],\n",
       "        ...,\n",
       "        [0, 0, 0, ..., 0, 0, 0],\n",
       "        [0, 0, 0, ..., 0, 0, 0],\n",
       "        [0, 0, 0, ..., 0, 0, 0]]], dtype=uint8)"
      ]
     },
     "execution_count": 5,
     "metadata": {},
     "output_type": "execute_result"
    }
   ],
   "source": [
    "train_images"
   ]
  },
  {
   "cell_type": "code",
   "execution_count": 7,
   "id": "f8b71db1",
   "metadata": {},
   "outputs": [
    {
     "data": {
      "text/plain": [
       "array([5, 0, 4, ..., 5, 6, 8], dtype=uint8)"
      ]
     },
     "execution_count": 7,
     "metadata": {},
     "output_type": "execute_result"
    }
   ],
   "source": [
    "train_labels"
   ]
  },
  {
   "cell_type": "code",
   "execution_count": 8,
   "id": "90ec6fe0",
   "metadata": {},
   "outputs": [
    {
     "data": {
      "text/plain": [
       "array([7, 2, 1, ..., 4, 5, 6], dtype=uint8)"
      ]
     },
     "execution_count": 8,
     "metadata": {},
     "output_type": "execute_result"
    }
   ],
   "source": [
    "test_labels"
   ]
  },
  {
   "cell_type": "markdown",
   "id": "7dcb875d",
   "metadata": {},
   "source": [
    "# 신경망 구조"
   ]
  },
  {
   "cell_type": "markdown",
   "id": "2eac0c1c",
   "metadata": {},
   "source": [
    "A Sequential model is not appropriate when:\n",
    "\n",
    "\n",
    "1. 모델에 다중 입력 or 다중 출력\n",
    "2. 레이어에 다중 입력 or 다중 출력\n",
    "3. 레이어 공유\n",
    "4. non-linear topology를 원합(예: 잔류 연결, 다중 분기 모델)\n",
    "\n",
    "tf.keras.Sequential(\n",
    "    layers=None, name=None\n",
    ")  \n",
    "https://www.tensorflow.org/api_docs/python/tf/keras/Sequential"
   ]
  },
  {
   "cell_type": "code",
   "execution_count": 9,
   "id": "092ea892",
   "metadata": {},
   "outputs": [],
   "source": [
    "from tensorflow import keras\n",
    "from tensorflow.keras import layers\n",
    "model = keras.Sequential([\n",
    "    layers.Dense(512, activation= \"relu\"),\n",
    "    layers.Dense(10, activation= \"softmax\")\n",
    "])"
   ]
  },
  {
   "cell_type": "markdown",
   "id": "9551a5c0",
   "metadata": {},
   "source": [
    "https://www.tensorflow.org/api_docs/python/tf/keras/activations  \n",
    "Activation Functions  \n",
    "1. sigmoid\n",
    "2. tanh\n",
    "3. elu\n",
    "4. softmax\n",
    "5. selu\n",
    "6. softplus\n",
    "7. softsign\n",
    "8. relu\n",
    "9. hard_sigmoid\n",
    "10. exponential\n",
    "11. linear  \n",
    "\n",
    "https://keras.io/ko/activations/"
   ]
  },
  {
   "cell_type": "markdown",
   "id": "371b0eb2",
   "metadata": {},
   "source": [
    "# 컴파일 단계\n",
    "compile(\n",
    "    optimizer='rmsprop',\n",
    "    loss=None,\n",
    "    metrics=None,\n",
    "    loss_weights=None,\n",
    "    weighted_metrics=None,\n",
    "    run_eagerly=None,\n",
    "    steps_per_execution=None,\n",
    "    jit_compile=None,\n",
    "    **kwargs\n",
    ")\n",
    "https://www.tensorflow.org/api_docs/python/tf/keras/Model  \n",
    "\n",
    "optimizer = SGD, Adam, RMSprop  \n",
    "손실 함수을 통해 얻은 손실값으로부터 모델을 업데이트하는 방식"
   ]
  },
  {
   "cell_type": "code",
   "execution_count": 15,
   "id": "17b8debd",
   "metadata": {},
   "outputs": [],
   "source": [
    "model.compile(optimizer= \"rmsprop\",\n",
    "              loss= \"sparse_categorical_crossentropy\",\n",
    "              metrics= [\"accuracy\"])\n",
    "#metrics 척도しゃくど [尺度] 기준, 표준."
   ]
  },
  {
   "cell_type": "markdown",
   "id": "48a492c2",
   "metadata": {},
   "source": [
    "# 이미지 데이터 준비하기"
   ]
  },
  {
   "cell_type": "code",
   "execution_count": 11,
   "id": "5fcb1360",
   "metadata": {},
   "outputs": [],
   "source": [
    "train_images = train_images.reshape((60000, 28 * 28))\n",
    "train_images = train_images.astype(\"float32\") / 255\n",
    "test_images = test_images.reshape((10000, 28 * 28))\n",
    "test_images = test_images.astype(\"float32\") / 255"
   ]
  },
  {
   "cell_type": "code",
   "execution_count": 12,
   "id": "55122af6",
   "metadata": {},
   "outputs": [
    {
     "data": {
      "text/plain": [
       "array([[0., 0., 0., ..., 0., 0., 0.],\n",
       "       [0., 0., 0., ..., 0., 0., 0.],\n",
       "       [0., 0., 0., ..., 0., 0., 0.],\n",
       "       ...,\n",
       "       [0., 0., 0., ..., 0., 0., 0.],\n",
       "       [0., 0., 0., ..., 0., 0., 0.],\n",
       "       [0., 0., 0., ..., 0., 0., 0.]], dtype=float32)"
      ]
     },
     "execution_count": 12,
     "metadata": {},
     "output_type": "execute_result"
    }
   ],
   "source": [
    "train_images"
   ]
  },
  {
   "cell_type": "code",
   "execution_count": 13,
   "id": "dbb5f7b0",
   "metadata": {},
   "outputs": [
    {
     "data": {
      "text/plain": [
       "array([[0., 0., 0., ..., 0., 0., 0.],\n",
       "       [0., 0., 0., ..., 0., 0., 0.],\n",
       "       [0., 0., 0., ..., 0., 0., 0.],\n",
       "       ...,\n",
       "       [0., 0., 0., ..., 0., 0., 0.],\n",
       "       [0., 0., 0., ..., 0., 0., 0.],\n",
       "       [0., 0., 0., ..., 0., 0., 0.]], dtype=float32)"
      ]
     },
     "execution_count": 13,
     "metadata": {},
     "output_type": "execute_result"
    }
   ],
   "source": [
    "test_images"
   ]
  },
  {
   "cell_type": "markdown",
   "id": "ca8a82fb",
   "metadata": {},
   "source": [
    "# 모델 훈련"
   ]
  },
  {
   "cell_type": "markdown",
   "id": "dd7e1878",
   "metadata": {},
   "source": [
    "batch_size  \n",
    "전체 데이터셋을 한 번에 학습시키자니,  \n",
    "데이터가 너무 크기 때문에 메모리 과부하와 속도 저하 문제가 발생하므로,  \n",
    "데이터를 Batch size만큼 쪼개서 학습을 시키는 것을 의미"
   ]
  },
  {
   "cell_type": "code",
   "execution_count": 14,
   "id": "c7d1f779",
   "metadata": {},
   "outputs": [
    {
     "name": "stdout",
     "output_type": "stream",
     "text": [
      "Epoch 1/5\n",
      "469/469 [==============================] - 6s 10ms/step - loss: 0.2536 - accuracy: 0.9263\n",
      "Epoch 2/5\n",
      "469/469 [==============================] - 5s 10ms/step - loss: 0.1028 - accuracy: 0.9696\n",
      "Epoch 3/5\n",
      "469/469 [==============================] - 5s 10ms/step - loss: 0.0674 - accuracy: 0.9796\n",
      "Epoch 4/5\n",
      "469/469 [==============================] - 5s 10ms/step - loss: 0.0503 - accuracy: 0.9847\n",
      "Epoch 5/5\n",
      "469/469 [==============================] - 5s 10ms/step - loss: 0.0369 - accuracy: 0.9886\n"
     ]
    },
    {
     "data": {
      "text/plain": [
       "<keras.callbacks.History at 0x7fa73226e2b0>"
      ]
     },
     "execution_count": 14,
     "metadata": {},
     "output_type": "execute_result"
    }
   ],
   "source": [
    "model.fit(train_images, train_labels, epochs=5, batch_size=128)"
   ]
  },
  {
   "cell_type": "markdown",
   "id": "acdb8b0f",
   "metadata": {},
   "source": [
    "# 모델을 사용해 예측 만들기"
   ]
  },
  {
   "cell_type": "code",
   "execution_count": 16,
   "id": "cf4b4a04",
   "metadata": {},
   "outputs": [
    {
     "data": {
      "text/plain": [
       "array([2.5627607e-09, 5.3022083e-11, 3.5032699e-07, 1.0802543e-05,\n",
       "       1.0260519e-12, 4.9742566e-09, 4.8575327e-14, 9.9998856e-01,\n",
       "       1.6544289e-08, 2.2555498e-07], dtype=float32)"
      ]
     },
     "execution_count": 16,
     "metadata": {},
     "output_type": "execute_result"
    }
   ],
   "source": [
    "test_digits = test_images[0:10]\n",
    "predictions = model.predict(test_digits)\n",
    "predictions[0]"
   ]
  },
  {
   "cell_type": "code",
   "execution_count": 17,
   "id": "81b2158c",
   "metadata": {},
   "outputs": [
    {
     "data": {
      "text/plain": [
       "array([[0., 0., 0., ..., 0., 0., 0.],\n",
       "       [0., 0., 0., ..., 0., 0., 0.],\n",
       "       [0., 0., 0., ..., 0., 0., 0.],\n",
       "       ...,\n",
       "       [0., 0., 0., ..., 0., 0., 0.],\n",
       "       [0., 0., 0., ..., 0., 0., 0.],\n",
       "       [0., 0., 0., ..., 0., 0., 0.]], dtype=float32)"
      ]
     },
     "execution_count": 17,
     "metadata": {},
     "output_type": "execute_result"
    }
   ],
   "source": [
    "test_digits"
   ]
  },
  {
   "cell_type": "code",
   "execution_count": 19,
   "id": "7f45ba06",
   "metadata": {},
   "outputs": [
    {
     "data": {
      "text/plain": [
       "(10, 10)"
      ]
     },
     "execution_count": 19,
     "metadata": {},
     "output_type": "execute_result"
    }
   ],
   "source": [
    "predictions.shape"
   ]
  },
  {
   "cell_type": "code",
   "execution_count": 20,
   "id": "79d0e966",
   "metadata": {},
   "outputs": [
    {
     "data": {
      "text/plain": [
       "7"
      ]
     },
     "execution_count": 20,
     "metadata": {},
     "output_type": "execute_result"
    }
   ],
   "source": [
    "predictions[0].argmax()\n",
    "#9.9998856e-01"
   ]
  },
  {
   "cell_type": "code",
   "execution_count": 21,
   "id": "ba6fb05a",
   "metadata": {},
   "outputs": [
    {
     "data": {
      "text/plain": [
       "6"
      ]
     },
     "execution_count": 21,
     "metadata": {},
     "output_type": "execute_result"
    }
   ],
   "source": [
    "predictions[0].argmin()\n",
    "#4.8575327e-14"
   ]
  },
  {
   "cell_type": "code",
   "execution_count": 22,
   "id": "11a6cc74",
   "metadata": {},
   "outputs": [
    {
     "data": {
      "text/plain": [
       "0.99998856"
      ]
     },
     "execution_count": 22,
     "metadata": {},
     "output_type": "execute_result"
    }
   ],
   "source": [
    "predictions[0].max()"
   ]
  },
  {
   "cell_type": "code",
   "execution_count": 23,
   "id": "74663cb1",
   "metadata": {},
   "outputs": [
    {
     "data": {
      "text/plain": [
       "4.8575327e-14"
      ]
     },
     "execution_count": 23,
     "metadata": {},
     "output_type": "execute_result"
    }
   ],
   "source": [
    "predictions[0].min()"
   ]
  },
  {
   "cell_type": "code",
   "execution_count": 24,
   "id": "e58d2f91",
   "metadata": {},
   "outputs": [
    {
     "data": {
      "text/plain": [
       "0.99998856"
      ]
     },
     "execution_count": 24,
     "metadata": {},
     "output_type": "execute_result"
    }
   ],
   "source": [
    "predictions[0][7]\n",
    "#9.9998856e-01"
   ]
  },
  {
   "cell_type": "code",
   "execution_count": 25,
   "id": "5999adfc",
   "metadata": {},
   "outputs": [
    {
     "data": {
      "text/plain": [
       "7"
      ]
     },
     "execution_count": 25,
     "metadata": {},
     "output_type": "execute_result"
    }
   ],
   "source": [
    "test_labels[0]"
   ]
  },
  {
   "cell_type": "code",
   "execution_count": 26,
   "id": "c07a52da",
   "metadata": {},
   "outputs": [
    {
     "data": {
      "text/plain": [
       "(10000,)"
      ]
     },
     "execution_count": 26,
     "metadata": {},
     "output_type": "execute_result"
    }
   ],
   "source": [
    "test_labels.shape"
   ]
  },
  {
   "cell_type": "code",
   "execution_count": 27,
   "id": "01db0bf4",
   "metadata": {},
   "outputs": [
    {
     "data": {
      "text/plain": [
       "array([7, 2, 1, ..., 4, 5, 6], dtype=uint8)"
      ]
     },
     "execution_count": 27,
     "metadata": {},
     "output_type": "execute_result"
    }
   ],
   "source": [
    "test_labels"
   ]
  },
  {
   "cell_type": "markdown",
   "id": "45d31097",
   "metadata": {},
   "source": [
    "# 새로운 데이터에서 모델 평가하기\n",
    "evaluate 함수를 사용하면 모델의 최종적인 정답률과 loss 값을 알 수 있다.  \n",
    "loss는 예측값과 실제값이 차이나는 정도를 나타내는 지표이다.  \n",
    "작을 수록 좋다."
   ]
  },
  {
   "cell_type": "code",
   "execution_count": 28,
   "id": "127247bd",
   "metadata": {},
   "outputs": [
    {
     "name": "stdout",
     "output_type": "stream",
     "text": [
      "313/313 [==============================] - 1s 2ms/step - loss: 0.0696 - accuracy: 0.9797\n",
      "테스트 정확도: 0.9797000288963318\n"
     ]
    }
   ],
   "source": [
    "test_loss, test_acc = model.evaluate(test_images, test_labels)\n",
    "print(f\"테스트 정확도: {test_acc}\")"
   ]
  },
  {
   "cell_type": "code",
   "execution_count": 29,
   "id": "7dafb18b",
   "metadata": {},
   "outputs": [
    {
     "data": {
      "text/plain": [
       "0.06955656409263611"
      ]
     },
     "execution_count": 29,
     "metadata": {},
     "output_type": "execute_result"
    }
   ],
   "source": [
    "test_loss"
   ]
  },
  {
   "cell_type": "code",
   "execution_count": 30,
   "id": "efe4b566",
   "metadata": {},
   "outputs": [
    {
     "data": {
      "text/plain": [
       "0.9797000288963318"
      ]
     },
     "execution_count": 30,
     "metadata": {},
     "output_type": "execute_result"
    }
   ],
   "source": [
    "test_acc"
   ]
  },
  {
   "cell_type": "code",
   "execution_count": 32,
   "id": "b5dafe36",
   "metadata": {},
   "outputs": [
    {
     "data": {
      "text/plain": [
       "'2.6.0'"
      ]
     },
     "execution_count": 32,
     "metadata": {},
     "output_type": "execute_result"
    }
   ],
   "source": [
    "import tensorflow\n",
    "tensorflow.__version__"
   ]
  },
  {
   "cell_type": "markdown",
   "id": "c4adf9ba",
   "metadata": {},
   "source": [
    "# 신경망을 위한 데이터 표현\n",
    "### 스칼라 (랭크-0 텐서)"
   ]
  },
  {
   "cell_type": "code",
   "execution_count": 37,
   "id": "a85bb6ab",
   "metadata": {},
   "outputs": [
    {
     "data": {
      "text/plain": [
       "array(12)"
      ]
     },
     "execution_count": 37,
     "metadata": {},
     "output_type": "execute_result"
    }
   ],
   "source": [
    "import numpy as np\n",
    "x = np.array(12)\n",
    "x"
   ]
  },
  {
   "cell_type": "code",
   "execution_count": 40,
   "id": "09ce6b49",
   "metadata": {},
   "outputs": [
    {
     "data": {
      "text/plain": [
       "0"
      ]
     },
     "execution_count": 40,
     "metadata": {},
     "output_type": "execute_result"
    }
   ],
   "source": [
    "x.ndim"
   ]
  },
  {
   "cell_type": "markdown",
   "id": "bbb52655",
   "metadata": {},
   "source": [
    "# 벡터 (랭크-1 텐서)"
   ]
  },
  {
   "cell_type": "code",
   "execution_count": 41,
   "id": "47661d54",
   "metadata": {},
   "outputs": [
    {
     "data": {
      "text/plain": [
       "array([12,  3,  6, 14,  7])"
      ]
     },
     "execution_count": 41,
     "metadata": {},
     "output_type": "execute_result"
    }
   ],
   "source": [
    "x = np.array([12, 3, 6, 14, 7])\n",
    "x"
   ]
  },
  {
   "cell_type": "code",
   "execution_count": 42,
   "id": "c9ab539c",
   "metadata": {},
   "outputs": [
    {
     "data": {
      "text/plain": [
       "1"
      ]
     },
     "execution_count": 42,
     "metadata": {},
     "output_type": "execute_result"
    }
   ],
   "source": [
    "x.ndim"
   ]
  },
  {
   "cell_type": "markdown",
   "id": "1b8cfbec",
   "metadata": {},
   "source": [
    "# 행렬 (랭크-2 텐서)"
   ]
  },
  {
   "cell_type": "code",
   "execution_count": 43,
   "id": "f449b053",
   "metadata": {},
   "outputs": [
    {
     "data": {
      "text/plain": [
       "2"
      ]
     },
     "execution_count": 43,
     "metadata": {},
     "output_type": "execute_result"
    }
   ],
   "source": [
    "x = np.array([[5, 78, 2, 34, 0],\n",
    "              [6, 79, 3, 35, 1],\n",
    "              [7, 80, 4, 36, 2]])\n",
    "x.ndim"
   ]
  },
  {
   "cell_type": "markdown",
   "id": "46626bc9",
   "metadata": {},
   "source": [
    "# 랭크-3 텐서와 더 높은 랭크의 텐서"
   ]
  },
  {
   "cell_type": "code",
   "execution_count": 18,
   "id": "9f754c1b",
   "metadata": {},
   "outputs": [
    {
     "data": {
      "text/plain": [
       "3"
      ]
     },
     "execution_count": 18,
     "metadata": {},
     "output_type": "execute_result"
    }
   ],
   "source": [
    "x = np.array([[[5, 78, 2, 34, 0],\n",
    "               [6, 79, 3, 35, 1],\n",
    "               [7, 80, 4, 36, 2]],\n",
    "              [[5, 78, 2, 34, 0],\n",
    "               [6, 79, 3, 35, 1],\n",
    "               [7, 80, 4, 36, 2]],\n",
    "              [[5, 78, 2, 34, 0],\n",
    "               [6, 79, 3, 35, 1],\n",
    "               [7, 80, 4, 36, 2]]])\n",
    "x.ndim"
   ]
  },
  {
   "cell_type": "code",
   "execution_count": 19,
   "id": "a2de201e",
   "metadata": {},
   "outputs": [
    {
     "data": {
      "text/plain": [
       "(3, 3, 5)"
      ]
     },
     "execution_count": 19,
     "metadata": {},
     "output_type": "execute_result"
    }
   ],
   "source": [
    "x.shape"
   ]
  },
  {
   "cell_type": "markdown",
   "id": "2beabc3e",
   "metadata": {},
   "source": [
    "# 핵심 속성"
   ]
  },
  {
   "cell_type": "code",
   "execution_count": 45,
   "id": "a07464ec",
   "metadata": {},
   "outputs": [],
   "source": [
    "from tensorflow.keras.datasets import mnist\n",
    "(train_images, train_labels), (test_images, test_labels) = mnist.load_data()"
   ]
  },
  {
   "cell_type": "code",
   "execution_count": 47,
   "id": "b3a88cc8",
   "metadata": {},
   "outputs": [
    {
     "data": {
      "text/plain": [
       "(60000, 28, 28)"
      ]
     },
     "execution_count": 47,
     "metadata": {},
     "output_type": "execute_result"
    }
   ],
   "source": [
    "train_images.shape"
   ]
  },
  {
   "cell_type": "code",
   "execution_count": 48,
   "id": "4fe2ca07",
   "metadata": {},
   "outputs": [
    {
     "data": {
      "text/plain": [
       "3"
      ]
     },
     "execution_count": 48,
     "metadata": {},
     "output_type": "execute_result"
    }
   ],
   "source": [
    "train_images.ndim"
   ]
  },
  {
   "cell_type": "code",
   "execution_count": 55,
   "id": "5bc8a024",
   "metadata": {},
   "outputs": [
    {
     "data": {
      "text/plain": [
       "array([[  0,   0,   0,   0,   0,   0,   0,   0,   0,   0,   0,   0,   0,\n",
       "          0,   0,   0,   0,   0,   0,   0,   0,   0,   0,   0,   0,   0,\n",
       "          0,   0],\n",
       "       [  0,   0,   0,   0,   0,   0,   0,   0,   0,   0,   0,   0,   0,\n",
       "          0,   0,   0,   0,   0,   0,   0,   0,   0,   0,   0,   0,   0,\n",
       "          0,   0],\n",
       "       [  0,   0,   0,   0,   0,   0,   0,   0,   0,   0,   0,   0,   0,\n",
       "          0,   0,   0,   0,   0,   0,   0,   0,   0,   0,   0,   0,   0,\n",
       "          0,   0],\n",
       "       [  0,   0,   0,   0,   0,   0,   0,   0,   0,   0,   0,   0,   0,\n",
       "          0,   0,   0,   0,   0,   0,   0,   0,   0,   0,   0,   0,   0,\n",
       "          0,   0],\n",
       "       [  0,   0,   0,   0,   0,   0,   0,   0,   0,   0,   0,   0,   0,\n",
       "          0,   0,   0,   0,   0,   0,   0,   0,   0,   0,   0,   0,   0,\n",
       "          0,   0],\n",
       "       [  0,   0,   0,   0,   0,   0,   0,   0,   0,   0,   0,   0,   3,\n",
       "         18,  18,  18, 126, 136, 175,  26, 166, 255, 247, 127,   0,   0,\n",
       "          0,   0],\n",
       "       [  0,   0,   0,   0,   0,   0,   0,   0,  30,  36,  94, 154, 170,\n",
       "        253, 253, 253, 253, 253, 225, 172, 253, 242, 195,  64,   0,   0,\n",
       "          0,   0],\n",
       "       [  0,   0,   0,   0,   0,   0,   0,  49, 238, 253, 253, 253, 253,\n",
       "        253, 253, 253, 253, 251,  93,  82,  82,  56,  39,   0,   0,   0,\n",
       "          0,   0],\n",
       "       [  0,   0,   0,   0,   0,   0,   0,  18, 219, 253, 253, 253, 253,\n",
       "        253, 198, 182, 247, 241,   0,   0,   0,   0,   0,   0,   0,   0,\n",
       "          0,   0],\n",
       "       [  0,   0,   0,   0,   0,   0,   0,   0,  80, 156, 107, 253, 253,\n",
       "        205,  11,   0,  43, 154,   0,   0,   0,   0,   0,   0,   0,   0,\n",
       "          0,   0],\n",
       "       [  0,   0,   0,   0,   0,   0,   0,   0,   0,  14,   1, 154, 253,\n",
       "         90,   0,   0,   0,   0,   0,   0,   0,   0,   0,   0,   0,   0,\n",
       "          0,   0],\n",
       "       [  0,   0,   0,   0,   0,   0,   0,   0,   0,   0,   0, 139, 253,\n",
       "        190,   2,   0,   0,   0,   0,   0,   0,   0,   0,   0,   0,   0,\n",
       "          0,   0],\n",
       "       [  0,   0,   0,   0,   0,   0,   0,   0,   0,   0,   0,  11, 190,\n",
       "        253,  70,   0,   0,   0,   0,   0,   0,   0,   0,   0,   0,   0,\n",
       "          0,   0],\n",
       "       [  0,   0,   0,   0,   0,   0,   0,   0,   0,   0,   0,   0,  35,\n",
       "        241, 225, 160, 108,   1,   0,   0,   0,   0,   0,   0,   0,   0,\n",
       "          0,   0],\n",
       "       [  0,   0,   0,   0,   0,   0,   0,   0,   0,   0,   0,   0,   0,\n",
       "         81, 240, 253, 253, 119,  25,   0,   0,   0,   0,   0,   0,   0,\n",
       "          0,   0],\n",
       "       [  0,   0,   0,   0,   0,   0,   0,   0,   0,   0,   0,   0,   0,\n",
       "          0,  45, 186, 253, 253, 150,  27,   0,   0,   0,   0,   0,   0,\n",
       "          0,   0],\n",
       "       [  0,   0,   0,   0,   0,   0,   0,   0,   0,   0,   0,   0,   0,\n",
       "          0,   0,  16,  93, 252, 253, 187,   0,   0,   0,   0,   0,   0,\n",
       "          0,   0],\n",
       "       [  0,   0,   0,   0,   0,   0,   0,   0,   0,   0,   0,   0,   0,\n",
       "          0,   0,   0,   0, 249, 253, 249,  64,   0,   0,   0,   0,   0,\n",
       "          0,   0],\n",
       "       [  0,   0,   0,   0,   0,   0,   0,   0,   0,   0,   0,   0,   0,\n",
       "          0,  46, 130, 183, 253, 253, 207,   2,   0,   0,   0,   0,   0,\n",
       "          0,   0],\n",
       "       [  0,   0,   0,   0,   0,   0,   0,   0,   0,   0,   0,   0,  39,\n",
       "        148, 229, 253, 253, 253, 250, 182,   0,   0,   0,   0,   0,   0,\n",
       "          0,   0],\n",
       "       [  0,   0,   0,   0,   0,   0,   0,   0,   0,   0,  24, 114, 221,\n",
       "        253, 253, 253, 253, 201,  78,   0,   0,   0,   0,   0,   0,   0,\n",
       "          0,   0],\n",
       "       [  0,   0,   0,   0,   0,   0,   0,   0,  23,  66, 213, 253, 253,\n",
       "        253, 253, 198,  81,   2,   0,   0,   0,   0,   0,   0,   0,   0,\n",
       "          0,   0],\n",
       "       [  0,   0,   0,   0,   0,   0,  18, 171, 219, 253, 253, 253, 253,\n",
       "        195,  80,   9,   0,   0,   0,   0,   0,   0,   0,   0,   0,   0,\n",
       "          0,   0],\n",
       "       [  0,   0,   0,   0,  55, 172, 226, 253, 253, 253, 253, 244, 133,\n",
       "         11,   0,   0,   0,   0,   0,   0,   0,   0,   0,   0,   0,   0,\n",
       "          0,   0],\n",
       "       [  0,   0,   0,   0, 136, 253, 253, 253, 212, 135, 132,  16,   0,\n",
       "          0,   0,   0,   0,   0,   0,   0,   0,   0,   0,   0,   0,   0,\n",
       "          0,   0],\n",
       "       [  0,   0,   0,   0,   0,   0,   0,   0,   0,   0,   0,   0,   0,\n",
       "          0,   0,   0,   0,   0,   0,   0,   0,   0,   0,   0,   0,   0,\n",
       "          0,   0],\n",
       "       [  0,   0,   0,   0,   0,   0,   0,   0,   0,   0,   0,   0,   0,\n",
       "          0,   0,   0,   0,   0,   0,   0,   0,   0,   0,   0,   0,   0,\n",
       "          0,   0],\n",
       "       [  0,   0,   0,   0,   0,   0,   0,   0,   0,   0,   0,   0,   0,\n",
       "          0,   0,   0,   0,   0,   0,   0,   0,   0,   0,   0,   0,   0,\n",
       "          0,   0]], dtype=uint8)"
      ]
     },
     "execution_count": 55,
     "metadata": {},
     "output_type": "execute_result"
    }
   ],
   "source": [
    "train_images[0]"
   ]
  },
  {
   "cell_type": "code",
   "execution_count": 56,
   "id": "ffea9e54",
   "metadata": {},
   "outputs": [
    {
     "data": {
      "text/plain": [
       "dtype('uint8')"
      ]
     },
     "execution_count": 56,
     "metadata": {},
     "output_type": "execute_result"
    }
   ],
   "source": [
    "train_images.dtype"
   ]
  },
  {
   "cell_type": "markdown",
   "id": "8a90a8bb",
   "metadata": {},
   "source": [
    "# 다섯 번째 이미지 출력하기"
   ]
  },
  {
   "cell_type": "markdown",
   "id": "3617f2b0",
   "metadata": {},
   "source": [
    "plt.cm.rainbow, plt.cm.Blues, plt.cm.autumn, plt.cm.RdYlGn"
   ]
  },
  {
   "cell_type": "code",
   "execution_count": 57,
   "id": "8e5f9893",
   "metadata": {
    "scrolled": false
   },
   "outputs": [
    {
     "data": {
      "image/png": "[encoded data removed]",
      "text/plain": [
       "<Figure size 432x288 with 1 Axes>"
      ]
     },
     "metadata": {
      "needs_background": "light"
     },
     "output_type": "display_data"
    }
   ],
   "source": [
    "import matplotlib.pyplot as plt\n",
    "digit = train_images[4]\n",
    "plt.imshow(digit, cmap=plt.cm.binary)\n",
    "plt.show()"
   ]
  },
  {
   "cell_type": "code",
   "execution_count": 97,
   "id": "b69e7434",
   "metadata": {},
   "outputs": [
    {
     "data": {
      "text/plain": [
       "(60000,)"
      ]
     },
     "execution_count": 97,
     "metadata": {},
     "output_type": "execute_result"
    }
   ],
   "source": [
    "train_labels.shape"
   ]
  },
  {
   "cell_type": "code",
   "execution_count": 71,
   "id": "e6b208b9",
   "metadata": {},
   "outputs": [
    {
     "data": {
      "text/plain": [
       "9"
      ]
     },
     "execution_count": 71,
     "metadata": {},
     "output_type": "execute_result"
    }
   ],
   "source": [
    "train_labels[4]"
   ]
  },
  {
   "cell_type": "code",
   "execution_count": 58,
   "id": "76b00a6c",
   "metadata": {
    "scrolled": true
   },
   "outputs": [
    {
     "data": {
      "image/png": "[encoded data removed]",
      "text/html": [
       "<div style=\"vertical-align: middle;\"><strong>binary</strong> </div><div class=\"cmap\"><img alt=\"binary colormap\" title=\"binary\" style=\"border: 1px solid #555;\" src=\"data:image/png;base64,iVBORw0KGgoAAAANSUhEUgAAAgAAAABACAYAAABsv8+/AAAAFXRFWHRUaXRsZQBiaW5hcnkgY29sb3JtYXDgovmoAAAAG3RFWHREZXNjcmlwdGlvbgBiaW5hcnkgY29sb3JtYXCpNeFMAAAAMHRFWHRBdXRob3IATWF0cGxvdGxpYiB2My40LjMsIGh0dHBzOi8vbWF0cGxvdGxpYi5vcmcJXfPTAAAAMnRFWHRTb2Z0d2FyZQBNYXRwbG90bGliIHYzLjQuMywgaHR0cHM6Ly9tYXRwbG90bGliLm9yZyf7bPQAAAFQSURBVHic7dYxDsIwFAXBD/c/s01DJERHBBLRzjRWCvul3Nvee8/MPA/nl8611ryyb//K+2ffO+4d32f/x/5/7H/6zvu9s/9h/zf79wEAcgQAAAQJAAAIEgAAECQAACBIAABAkAAAgCABAABBAgAAggQAAAQJAAAIEgAAECQAACBIAABAkAAAgCABAABBAgAAggQAAAQJAAAIEgAAECQAACBIAABAkAAAgCABAABBAgAAggQAAAQJAAAIEgAAECQAACBIAABAkAAAgCABAABBAgAAggQAAAQJAAAIEgAAECQAACBIAABAkAAAgCABAABBAgAAggQAAAQJAAAIEgAAECQAACBIAABAkAAAgCABAABBAgAAggQAAAQJAAAIEgAAECQAACBIAABAkAAAgCABAABBAgAAggQAAAQJAAAIEgAAECQAACBIAABAkAAAgKAHBe68nT8SsbMAAAAASUVORK5CYII=\"></div><div style=\"vertical-align: middle; max-width: 514px; display: flex; justify-content: space-between;\"><div style=\"float: left;\"><div title=\"#ffffffff\" style=\"display: inline-block; width: 1em; height: 1em; margin: 0; vertical-align: middle; border: 1px solid #555; background-color: #ffffffff;\"></div> under</div><div style=\"margin: 0 auto; display: inline-block;\">bad <div title=\"#00000000\" style=\"display: inline-block; width: 1em; height: 1em; margin: 0; vertical-align: middle; border: 1px solid #555; background-color: #00000000;\"></div></div><div style=\"float: right;\">over <div title=\"#000000ff\" style=\"display: inline-block; width: 1em; height: 1em; margin: 0; vertical-align: middle; border: 1px solid #555; background-color: #000000ff;\"></div></div>"
      ],
      "text/plain": [
       "<matplotlib.colors.LinearSegmentedColormap at 0x7fa6f5ccb790>"
      ]
     },
     "execution_count": 58,
     "metadata": {},
     "output_type": "execute_result"
    }
   ],
   "source": [
    "plt.cm.binary"
   ]
  },
  {
   "cell_type": "code",
   "execution_count": 59,
   "id": "dc34045a",
   "metadata": {},
   "outputs": [
    {
     "data": {
      "text/plain": [
       "array([[  0,   0,   0,   0,   0,   0,   0,   0,   0,   0,   0,   0,   0,\n",
       "          0,   0,   0,   0,   0,   0,   0,   0,   0,   0,   0,   0,   0,\n",
       "          0,   0],\n",
       "       [  0,   0,   0,   0,   0,   0,   0,   0,   0,   0,   0,   0,   0,\n",
       "          0,   0,   0,   0,   0,   0,   0,   0,   0,   0,   0,   0,   0,\n",
       "          0,   0],\n",
       "       [  0,   0,   0,   0,   0,   0,   0,   0,   0,   0,   0,   0,   0,\n",
       "          0,   0,   0,   0,   0,   0,   0,   0,   0,   0,   0,   0,   0,\n",
       "          0,   0],\n",
       "       [  0,   0,   0,   0,   0,   0,   0,   0,   0,   0,   0,   0,   0,\n",
       "          0,   0,   0,   0,   0,   0,   0,   0,   0,   0,   0,   0,   0,\n",
       "          0,   0],\n",
       "       [  0,   0,   0,   0,   0,   0,   0,   0,   0,   0,   0,   0,   0,\n",
       "          0,   0,   0,   0,   0,   0,   0,   0,   0,   0,   0,   0,   0,\n",
       "          0,   0],\n",
       "       [  0,   0,   0,   0,   0,   0,   0,   0,   0,   0,   0,   0,   0,\n",
       "          0,   0,   0,   0,   0,   0,   0,   0,   0,   0,   0,   0,   0,\n",
       "          0,   0],\n",
       "       [  0,   0,   0,   0,   0,   0,   0,   0,   0,   0,   0,   0,   0,\n",
       "          0,   0,   0,   0,   0,   0,   0,   0,   0,   0,   0,   0,   0,\n",
       "          0,   0],\n",
       "       [  0,   0,   0,   0,   0,   0,   0,   0,   0,   0,   0,   0,  55,\n",
       "        148, 210, 253, 253, 113,  87, 148,  55,   0,   0,   0,   0,   0,\n",
       "          0,   0],\n",
       "       [  0,   0,   0,   0,   0,   0,   0,   0,   0,   0,   0,  87, 232,\n",
       "        252, 253, 189, 210, 252, 252, 253, 168,   0,   0,   0,   0,   0,\n",
       "          0,   0],\n",
       "       [  0,   0,   0,   0,   0,   0,   0,   0,   0,   4,  57, 242, 252,\n",
       "        190,  65,   5,  12, 182, 252, 253, 116,   0,   0,   0,   0,   0,\n",
       "          0,   0],\n",
       "       [  0,   0,   0,   0,   0,   0,   0,   0,   0,  96, 252, 252, 183,\n",
       "         14,   0,   0,  92, 252, 252, 225,  21,   0,   0,   0,   0,   0,\n",
       "          0,   0],\n",
       "       [  0,   0,   0,   0,   0,   0,   0,   0, 132, 253, 252, 146,  14,\n",
       "          0,   0,   0, 215, 252, 252,  79,   0,   0,   0,   0,   0,   0,\n",
       "          0,   0],\n",
       "       [  0,   0,   0,   0,   0,   0,   0, 126, 253, 247, 176,   9,   0,\n",
       "          0,   8,  78, 245, 253, 129,   0,   0,   0,   0,   0,   0,   0,\n",
       "          0,   0],\n",
       "       [  0,   0,   0,   0,   0,   0,  16, 232, 252, 176,   0,   0,   0,\n",
       "         36, 201, 252, 252, 169,  11,   0,   0,   0,   0,   0,   0,   0,\n",
       "          0,   0],\n",
       "       [  0,   0,   0,   0,   0,   0,  22, 252, 252,  30,  22, 119, 197,\n",
       "        241, 253, 252, 251,  77,   0,   0,   0,   0,   0,   0,   0,   0,\n",
       "          0,   0],\n",
       "       [  0,   0,   0,   0,   0,   0,  16, 231, 252, 253, 252, 252, 252,\n",
       "        226, 227, 252, 231,   0,   0,   0,   0,   0,   0,   0,   0,   0,\n",
       "          0,   0],\n",
       "       [  0,   0,   0,   0,   0,   0,   0,  55, 235, 253, 217, 138,  42,\n",
       "         24, 192, 252, 143,   0,   0,   0,   0,   0,   0,   0,   0,   0,\n",
       "          0,   0],\n",
       "       [  0,   0,   0,   0,   0,   0,   0,   0,   0,   0,   0,   0,   0,\n",
       "         62, 255, 253, 109,   0,   0,   0,   0,   0,   0,   0,   0,   0,\n",
       "          0,   0],\n",
       "       [  0,   0,   0,   0,   0,   0,   0,   0,   0,   0,   0,   0,   0,\n",
       "         71, 253, 252,  21,   0,   0,   0,   0,   0,   0,   0,   0,   0,\n",
       "          0,   0],\n",
       "       [  0,   0,   0,   0,   0,   0,   0,   0,   0,   0,   0,   0,   0,\n",
       "          0, 253, 252,  21,   0,   0,   0,   0,   0,   0,   0,   0,   0,\n",
       "          0,   0],\n",
       "       [  0,   0,   0,   0,   0,   0,   0,   0,   0,   0,   0,   0,   0,\n",
       "         71, 253, 252,  21,   0,   0,   0,   0,   0,   0,   0,   0,   0,\n",
       "          0,   0],\n",
       "       [  0,   0,   0,   0,   0,   0,   0,   0,   0,   0,   0,   0,   0,\n",
       "        106, 253, 252,  21,   0,   0,   0,   0,   0,   0,   0,   0,   0,\n",
       "          0,   0],\n",
       "       [  0,   0,   0,   0,   0,   0,   0,   0,   0,   0,   0,   0,   0,\n",
       "         45, 255, 253,  21,   0,   0,   0,   0,   0,   0,   0,   0,   0,\n",
       "          0,   0],\n",
       "       [  0,   0,   0,   0,   0,   0,   0,   0,   0,   0,   0,   0,   0,\n",
       "          0, 218, 252,  56,   0,   0,   0,   0,   0,   0,   0,   0,   0,\n",
       "          0,   0],\n",
       "       [  0,   0,   0,   0,   0,   0,   0,   0,   0,   0,   0,   0,   0,\n",
       "          0,  96, 252, 189,  42,   0,   0,   0,   0,   0,   0,   0,   0,\n",
       "          0,   0],\n",
       "       [  0,   0,   0,   0,   0,   0,   0,   0,   0,   0,   0,   0,   0,\n",
       "          0,  14, 184, 252, 170,  11,   0,   0,   0,   0,   0,   0,   0,\n",
       "          0,   0],\n",
       "       [  0,   0,   0,   0,   0,   0,   0,   0,   0,   0,   0,   0,   0,\n",
       "          0,   0,  14, 147, 252,  42,   0,   0,   0,   0,   0,   0,   0,\n",
       "          0,   0],\n",
       "       [  0,   0,   0,   0,   0,   0,   0,   0,   0,   0,   0,   0,   0,\n",
       "          0,   0,   0,   0,   0,   0,   0,   0,   0,   0,   0,   0,   0,\n",
       "          0,   0]], dtype=uint8)"
      ]
     },
     "execution_count": 59,
     "metadata": {},
     "output_type": "execute_result"
    }
   ],
   "source": [
    "train_images[4]"
   ]
  },
  {
   "cell_type": "markdown",
   "id": "e6ffe13a",
   "metadata": {},
   "source": [
    "https://matplotlib.org/stable/api/cm_api.html  \n",
    "import matplotlib as mpl  \n",
    "cmap = mpl.colormaps['viridis']  \n",
    "matplotlib.cm"
   ]
  },
  {
   "cell_type": "code",
   "execution_count": 63,
   "id": "b76ccf0d",
   "metadata": {},
   "outputs": [
    {
     "data": {
      "image/png": "[encoded data removed]",
      "text/plain": [
       "<Figure size 432x288 with 1 Axes>"
      ]
     },
     "metadata": {
      "needs_background": "light"
     },
     "output_type": "display_data"
    }
   ],
   "source": [
    "digit2 = train_images[28]\n",
    "plt.imshow(digit2, cmap= plt.cm.pink)\n",
    "plt.show()"
   ]
  },
  {
   "cell_type": "code",
   "execution_count": 67,
   "id": "3a8e54dc",
   "metadata": {},
   "outputs": [
    {
     "data": {
      "image/png": "[encoded data removed]",
      "text/plain": [
       "<Figure size 432x288 with 1 Axes>"
      ]
     },
     "metadata": {
      "needs_background": "light"
     },
     "output_type": "display_data"
    }
   ],
   "source": [
    "digit3 = train_images[20]\n",
    "plt.imshow(digit3, cmap= \"hsv\")\n",
    "plt.show()"
   ]
  },
  {
   "cell_type": "code",
   "execution_count": 70,
   "id": "8fe7d0a7",
   "metadata": {},
   "outputs": [
    {
     "data": {
      "image/png": "[encoded data removed]",
      "text/plain": [
       "<Figure size 432x288 with 1 Axes>"
      ]
     },
     "metadata": {
      "needs_background": "light"
     },
     "output_type": "display_data"
    }
   ],
   "source": [
    "digit4 = train_images[20]\n",
    "plt.imshow(digit4, cmap= plt.cm.gray)\n",
    "plt.show()"
   ]
  },
  {
   "cell_type": "code",
   "execution_count": 72,
   "id": "a4069007",
   "metadata": {},
   "outputs": [
    {
     "data": {
      "text/plain": [
       "4"
      ]
     },
     "execution_count": 72,
     "metadata": {},
     "output_type": "execute_result"
    }
   ],
   "source": [
    "train_labels[20]"
   ]
  },
  {
   "cell_type": "markdown",
   "id": "bb3bb145",
   "metadata": {},
   "source": [
    "https://matplotlib.org/stable/tutorials/colors/colormaps.html#sphx-glr-tutorials-colors-colormaps-py"
   ]
  },
  {
   "cell_type": "markdown",
   "id": "d4e8134a",
   "metadata": {},
   "source": [
    "# 넘파이로 텐서 조작하기"
   ]
  },
  {
   "cell_type": "code",
   "execution_count": 73,
   "id": "a768815b",
   "metadata": {},
   "outputs": [
    {
     "data": {
      "text/plain": [
       "(90, 28, 28)"
      ]
     },
     "execution_count": 73,
     "metadata": {},
     "output_type": "execute_result"
    }
   ],
   "source": [
    "my_slice = train_images[10:100]\n",
    "my_slice.shape"
   ]
  },
  {
   "cell_type": "code",
   "execution_count": 74,
   "id": "158886df",
   "metadata": {},
   "outputs": [
    {
     "data": {
      "text/plain": [
       "array([[[0, 0, 0, ..., 0, 0, 0],\n",
       "        [0, 0, 0, ..., 0, 0, 0],\n",
       "        [0, 0, 0, ..., 0, 0, 0],\n",
       "        ...,\n",
       "        [0, 0, 0, ..., 0, 0, 0],\n",
       "        [0, 0, 0, ..., 0, 0, 0],\n",
       "        [0, 0, 0, ..., 0, 0, 0]],\n",
       "\n",
       "       [[0, 0, 0, ..., 0, 0, 0],\n",
       "        [0, 0, 0, ..., 0, 0, 0],\n",
       "        [0, 0, 0, ..., 0, 0, 0],\n",
       "        ...,\n",
       "        [0, 0, 0, ..., 0, 0, 0],\n",
       "        [0, 0, 0, ..., 0, 0, 0],\n",
       "        [0, 0, 0, ..., 0, 0, 0]],\n",
       "\n",
       "       [[0, 0, 0, ..., 0, 0, 0],\n",
       "        [0, 0, 0, ..., 0, 0, 0],\n",
       "        [0, 0, 0, ..., 0, 0, 0],\n",
       "        ...,\n",
       "        [0, 0, 0, ..., 0, 0, 0],\n",
       "        [0, 0, 0, ..., 0, 0, 0],\n",
       "        [0, 0, 0, ..., 0, 0, 0]],\n",
       "\n",
       "       ...,\n",
       "\n",
       "       [[0, 0, 0, ..., 0, 0, 0],\n",
       "        [0, 0, 0, ..., 0, 0, 0],\n",
       "        [0, 0, 0, ..., 0, 0, 0],\n",
       "        ...,\n",
       "        [0, 0, 0, ..., 0, 0, 0],\n",
       "        [0, 0, 0, ..., 0, 0, 0],\n",
       "        [0, 0, 0, ..., 0, 0, 0]],\n",
       "\n",
       "       [[0, 0, 0, ..., 0, 0, 0],\n",
       "        [0, 0, 0, ..., 0, 0, 0],\n",
       "        [0, 0, 0, ..., 0, 0, 0],\n",
       "        ...,\n",
       "        [0, 0, 0, ..., 0, 0, 0],\n",
       "        [0, 0, 0, ..., 0, 0, 0],\n",
       "        [0, 0, 0, ..., 0, 0, 0]],\n",
       "\n",
       "       [[0, 0, 0, ..., 0, 0, 0],\n",
       "        [0, 0, 0, ..., 0, 0, 0],\n",
       "        [0, 0, 0, ..., 0, 0, 0],\n",
       "        ...,\n",
       "        [0, 0, 0, ..., 0, 0, 0],\n",
       "        [0, 0, 0, ..., 0, 0, 0],\n",
       "        [0, 0, 0, ..., 0, 0, 0]]], dtype=uint8)"
      ]
     },
     "execution_count": 74,
     "metadata": {},
     "output_type": "execute_result"
    }
   ],
   "source": [
    "train_images[10:100]"
   ]
  },
  {
   "cell_type": "code",
   "execution_count": 75,
   "id": "2368d295",
   "metadata": {},
   "outputs": [
    {
     "data": {
      "text/plain": [
       "(90, 28, 28)"
      ]
     },
     "execution_count": 75,
     "metadata": {},
     "output_type": "execute_result"
    }
   ],
   "source": [
    "my_slice = train_images[10:100, :, :]\n",
    "my_slice.shape"
   ]
  },
  {
   "cell_type": "code",
   "execution_count": 76,
   "id": "4c8cafd6",
   "metadata": {},
   "outputs": [
    {
     "data": {
      "text/plain": [
       "array([[[0, 0, 0, ..., 0, 0, 0],\n",
       "        [0, 0, 0, ..., 0, 0, 0],\n",
       "        [0, 0, 0, ..., 0, 0, 0],\n",
       "        ...,\n",
       "        [0, 0, 0, ..., 0, 0, 0],\n",
       "        [0, 0, 0, ..., 0, 0, 0],\n",
       "        [0, 0, 0, ..., 0, 0, 0]],\n",
       "\n",
       "       [[0, 0, 0, ..., 0, 0, 0],\n",
       "        [0, 0, 0, ..., 0, 0, 0],\n",
       "        [0, 0, 0, ..., 0, 0, 0],\n",
       "        ...,\n",
       "        [0, 0, 0, ..., 0, 0, 0],\n",
       "        [0, 0, 0, ..., 0, 0, 0],\n",
       "        [0, 0, 0, ..., 0, 0, 0]],\n",
       "\n",
       "       [[0, 0, 0, ..., 0, 0, 0],\n",
       "        [0, 0, 0, ..., 0, 0, 0],\n",
       "        [0, 0, 0, ..., 0, 0, 0],\n",
       "        ...,\n",
       "        [0, 0, 0, ..., 0, 0, 0],\n",
       "        [0, 0, 0, ..., 0, 0, 0],\n",
       "        [0, 0, 0, ..., 0, 0, 0]],\n",
       "\n",
       "       ...,\n",
       "\n",
       "       [[0, 0, 0, ..., 0, 0, 0],\n",
       "        [0, 0, 0, ..., 0, 0, 0],\n",
       "        [0, 0, 0, ..., 0, 0, 0],\n",
       "        ...,\n",
       "        [0, 0, 0, ..., 0, 0, 0],\n",
       "        [0, 0, 0, ..., 0, 0, 0],\n",
       "        [0, 0, 0, ..., 0, 0, 0]],\n",
       "\n",
       "       [[0, 0, 0, ..., 0, 0, 0],\n",
       "        [0, 0, 0, ..., 0, 0, 0],\n",
       "        [0, 0, 0, ..., 0, 0, 0],\n",
       "        ...,\n",
       "        [0, 0, 0, ..., 0, 0, 0],\n",
       "        [0, 0, 0, ..., 0, 0, 0],\n",
       "        [0, 0, 0, ..., 0, 0, 0]],\n",
       "\n",
       "       [[0, 0, 0, ..., 0, 0, 0],\n",
       "        [0, 0, 0, ..., 0, 0, 0],\n",
       "        [0, 0, 0, ..., 0, 0, 0],\n",
       "        ...,\n",
       "        [0, 0, 0, ..., 0, 0, 0],\n",
       "        [0, 0, 0, ..., 0, 0, 0],\n",
       "        [0, 0, 0, ..., 0, 0, 0]]], dtype=uint8)"
      ]
     },
     "execution_count": 76,
     "metadata": {},
     "output_type": "execute_result"
    }
   ],
   "source": [
    "train_images[10:100, :, :]"
   ]
  },
  {
   "cell_type": "code",
   "execution_count": 77,
   "id": "c8542c47",
   "metadata": {},
   "outputs": [
    {
     "data": {
      "text/plain": [
       "(90, 28, 28)"
      ]
     },
     "execution_count": 77,
     "metadata": {},
     "output_type": "execute_result"
    }
   ],
   "source": [
    "my_slice = train_images[10:100, 0:28, 0:28]\n",
    "my_slice.shape"
   ]
  },
  {
   "cell_type": "code",
   "execution_count": 86,
   "id": "3a55c571",
   "metadata": {},
   "outputs": [
    {
     "data": {
      "text/plain": [
       "array([[[0, 0, 0, ..., 0, 0, 0],\n",
       "        [0, 0, 0, ..., 0, 0, 0],\n",
       "        [0, 0, 0, ..., 0, 0, 0],\n",
       "        ...,\n",
       "        [0, 0, 0, ..., 0, 0, 0],\n",
       "        [0, 0, 0, ..., 0, 0, 0],\n",
       "        [0, 0, 0, ..., 0, 0, 0]],\n",
       "\n",
       "       [[0, 0, 0, ..., 0, 0, 0],\n",
       "        [0, 0, 0, ..., 0, 0, 0],\n",
       "        [0, 0, 0, ..., 0, 0, 0],\n",
       "        ...,\n",
       "        [0, 0, 0, ..., 0, 0, 0],\n",
       "        [0, 0, 0, ..., 0, 0, 0],\n",
       "        [0, 0, 0, ..., 0, 0, 0]],\n",
       "\n",
       "       [[0, 0, 0, ..., 0, 0, 0],\n",
       "        [0, 0, 0, ..., 0, 0, 0],\n",
       "        [0, 0, 0, ..., 0, 0, 0],\n",
       "        ...,\n",
       "        [0, 0, 0, ..., 0, 0, 0],\n",
       "        [0, 0, 0, ..., 0, 0, 0],\n",
       "        [0, 0, 0, ..., 0, 0, 0]],\n",
       "\n",
       "       ...,\n",
       "\n",
       "       [[0, 0, 0, ..., 0, 0, 0],\n",
       "        [0, 0, 0, ..., 0, 0, 0],\n",
       "        [0, 0, 0, ..., 0, 0, 0],\n",
       "        ...,\n",
       "        [0, 0, 0, ..., 0, 0, 0],\n",
       "        [0, 0, 0, ..., 0, 0, 0],\n",
       "        [0, 0, 0, ..., 0, 0, 0]],\n",
       "\n",
       "       [[0, 0, 0, ..., 0, 0, 0],\n",
       "        [0, 0, 0, ..., 0, 0, 0],\n",
       "        [0, 0, 0, ..., 0, 0, 0],\n",
       "        ...,\n",
       "        [0, 0, 0, ..., 0, 0, 0],\n",
       "        [0, 0, 0, ..., 0, 0, 0],\n",
       "        [0, 0, 0, ..., 0, 0, 0]],\n",
       "\n",
       "       [[0, 0, 0, ..., 0, 0, 0],\n",
       "        [0, 0, 0, ..., 0, 0, 0],\n",
       "        [0, 0, 0, ..., 0, 0, 0],\n",
       "        ...,\n",
       "        [0, 0, 0, ..., 0, 0, 0],\n",
       "        [0, 0, 0, ..., 0, 0, 0],\n",
       "        [0, 0, 0, ..., 0, 0, 0]]], dtype=uint8)"
      ]
     },
     "execution_count": 86,
     "metadata": {},
     "output_type": "execute_result"
    }
   ],
   "source": [
    "train_images[10:100, 0:28, 0:28]"
   ]
  },
  {
   "cell_type": "code",
   "execution_count": 84,
   "id": "53463859",
   "metadata": {},
   "outputs": [
    {
     "data": {
      "text/plain": [
       "(60000, 14, 14)"
      ]
     },
     "execution_count": 84,
     "metadata": {},
     "output_type": "execute_result"
    }
   ],
   "source": [
    "my_slice1 = train_images[:, 14:, 14:]\n",
    "my_slice1.shape"
   ]
  },
  {
   "cell_type": "code",
   "execution_count": 83,
   "id": "e521acf0",
   "metadata": {},
   "outputs": [
    {
     "data": {
      "text/plain": [
       "(60000, 14, 14)"
      ]
     },
     "execution_count": 83,
     "metadata": {},
     "output_type": "execute_result"
    }
   ],
   "source": [
    "my_slice2 = train_images[:, 7:-7, 7:-7]\n",
    "my_slice2.shape"
   ]
  },
  {
   "cell_type": "markdown",
   "id": "faa72037",
   "metadata": {},
   "source": [
    "# 배치 데이터"
   ]
  },
  {
   "cell_type": "code",
   "execution_count": 88,
   "id": "d6bc88f3",
   "metadata": {},
   "outputs": [
    {
     "data": {
      "text/plain": [
       "(128, 28, 28)"
      ]
     },
     "execution_count": 88,
     "metadata": {},
     "output_type": "execute_result"
    }
   ],
   "source": [
    "batch1 = train_images[:128]\n",
    "batch1.shape"
   ]
  },
  {
   "cell_type": "code",
   "execution_count": 90,
   "id": "c894b4e5",
   "metadata": {},
   "outputs": [
    {
     "data": {
      "text/plain": [
       "(128, 28, 28)"
      ]
     },
     "execution_count": 90,
     "metadata": {},
     "output_type": "execute_result"
    }
   ],
   "source": [
    "batch2 = train_images[128:256]\n",
    "batch2.shape"
   ]
  },
  {
   "cell_type": "code",
   "execution_count": 94,
   "id": "224c9d2d",
   "metadata": {},
   "outputs": [
    {
     "data": {
      "text/plain": [
       "(128, 28, 28)"
      ]
     },
     "execution_count": 94,
     "metadata": {},
     "output_type": "execute_result"
    }
   ],
   "source": [
    "n = 3\n",
    "batch3 = train_images[128 * n:128 * (n + 1)]\n",
    "batch3.shape"
   ]
  },
  {
   "cell_type": "code",
   "execution_count": 100,
   "id": "d0204b47",
   "metadata": {},
   "outputs": [
    {
     "data": {
      "image/png": "[encoded data removed]",
      "text/plain": [
       "<Figure size 432x288 with 1 Axes>"
      ]
     },
     "metadata": {
      "needs_background": "light"
     },
     "output_type": "display_data"
    }
   ],
   "source": [
    "plt.imshow(batch3[4], cmap= \"twilight\")\n",
    "plt.show()"
   ]
  },
  {
   "cell_type": "markdown",
   "id": "f48fa9bc",
   "metadata": {},
   "source": [
    "# 원소별 연산"
   ]
  },
  {
   "cell_type": "code",
   "execution_count": 101,
   "id": "122a3bba",
   "metadata": {},
   "outputs": [],
   "source": [
    "def naive_relu(x):\n",
    "    assert len(x.shape) == 2\n",
    "    x = x.copy()\n",
    "    for i in range(x.shape[0]):\n",
    "        for j in range(x.shape[1]):\n",
    "            x[i, j] = max(x[i, j], 0)\n",
    "    return x"
   ]
  },
  {
   "cell_type": "code",
   "execution_count": 102,
   "id": "d0f571d3",
   "metadata": {},
   "outputs": [],
   "source": [
    "def naive_add(x, y):\n",
    "    assert len(x.shape) == 2\n",
    "    assert x.shape == y.shape\n",
    "    x = x.copy()\n",
    "    for i in range(x.shape[0]):\n",
    "        for j in range(x.shape[1]):\n",
    "            x[i, j] += y[i, j]\n",
    "    return x"
   ]
  },
  {
   "cell_type": "code",
   "execution_count": 110,
   "id": "d13d64a8",
   "metadata": {},
   "outputs": [
    {
     "name": "stdout",
     "output_type": "stream",
     "text": [
      "걸린 시간: 0.00695 s\n"
     ]
    }
   ],
   "source": [
    "import time\n",
    "\n",
    "x = np.random.random((20, 100))\n",
    "y = np.random.random((20, 100))\n",
    "\n",
    "t0 = time.time()\n",
    "for _ in range(1000):\n",
    "    z = x + y\n",
    "    z = np.maximum(z, 0.)\n",
    "print(\"걸린 시간: {0:.5f} s\".format(time.time() - t0))"
   ]
  },
  {
   "cell_type": "code",
   "execution_count": 113,
   "id": "23252c6f",
   "metadata": {},
   "outputs": [
    {
     "name": "stdout",
     "output_type": "stream",
     "text": [
      "걸린 시간: 2.03 s\n"
     ]
    }
   ],
   "source": [
    "t0 = time.time()\n",
    "for _ in range(1000 +1):\n",
    "    z = naive_add(x, y)\n",
    "    z = naive_relu(z)\n",
    "print(\"걸린 시간: {0:.2f} s\".format(time.time() - t0))"
   ]
  },
  {
   "cell_type": "markdown",
   "id": "bbb19a34",
   "metadata": {},
   "source": [
    "# 브로드캐스팅"
   ]
  },
  {
   "cell_type": "code",
   "execution_count": 114,
   "id": "32d36414",
   "metadata": {},
   "outputs": [],
   "source": [
    "import numpy as np\n",
    "X = np.random.random((32, 10))\n",
    "y = np.random.random((10,))"
   ]
  },
  {
   "cell_type": "code",
   "execution_count": 117,
   "id": "21dca228",
   "metadata": {},
   "outputs": [
    {
     "data": {
      "text/plain": [
       "array([[0.30981565, 0.71263233, 0.77380305, 0.2524068 , 0.22076337,\n",
       "        0.37946507, 0.66819255, 0.6099942 , 0.30694838, 0.70760024],\n",
       "       [0.91234765, 0.28442762, 0.73911501, 0.85646645, 0.23245887,\n",
       "        0.57077464, 0.01017097, 0.70174665, 0.70171581, 0.51542663],\n",
       "       [0.21008094, 0.59868382, 0.22039395, 0.96522654, 0.74019662,\n",
       "        0.23404803, 0.26152537, 0.63487079, 0.60378866, 0.14472433],\n",
       "       [0.71829524, 0.14622292, 0.2754711 , 0.53557499, 0.96250221,\n",
       "        0.6282015 , 0.465638  , 0.80291762, 0.75665636, 0.66636206],\n",
       "       [0.78621649, 0.80393779, 0.06343949, 0.93007392, 0.69372584,\n",
       "        0.28605659, 0.16628979, 0.98790841, 0.20989931, 0.8759567 ],\n",
       "       [0.76984296, 0.63555419, 0.68031698, 0.18350254, 0.09393596,\n",
       "        0.78969477, 0.63484376, 0.64407823, 0.91417376, 0.39819159],\n",
       "       [0.55925049, 0.81659677, 0.97218136, 0.65476438, 0.5475993 ,\n",
       "        0.12600231, 0.55089176, 0.40828357, 0.52163029, 0.92295727],\n",
       "       [0.83994119, 0.68348631, 0.58550392, 0.11224655, 0.96084484,\n",
       "        0.87505143, 0.61996489, 0.2359403 , 0.91026012, 0.19298356],\n",
       "       [0.61962832, 0.79663916, 0.57347662, 0.29614293, 0.11225412,\n",
       "        0.14381922, 0.46363456, 0.95425777, 0.52136451, 0.56348606],\n",
       "       [0.25934829, 0.76440164, 0.95524374, 0.08898715, 0.58736393,\n",
       "        0.26102321, 0.83900537, 0.37909767, 0.79216936, 0.54750396],\n",
       "       [0.31415687, 0.16267884, 0.59081149, 0.13083902, 0.08956808,\n",
       "        0.08768082, 0.94293129, 0.28817271, 0.69054391, 0.16003846],\n",
       "       [0.26705569, 0.58240877, 0.98500216, 0.9627587 , 0.59259385,\n",
       "        0.41115401, 0.51895197, 0.81528965, 0.11285912, 0.23555289],\n",
       "       [0.02289457, 0.48623911, 0.07564451, 0.50144193, 0.40876552,\n",
       "        0.84574836, 0.86290827, 0.29419209, 0.58419638, 0.8663106 ],\n",
       "       [0.29697741, 0.73569974, 0.34949958, 0.04093255, 0.14192916,\n",
       "        0.09387917, 0.68162367, 0.55545808, 0.30774994, 0.83546536],\n",
       "       [0.58598403, 0.51535054, 0.61666617, 0.99226948, 0.43599272,\n",
       "        0.51012922, 0.32481775, 0.61693121, 0.60399154, 0.20866678],\n",
       "       [0.93714101, 0.73537704, 0.39004021, 0.70870472, 0.99549501,\n",
       "        0.37033566, 0.55366206, 0.61329088, 0.18821739, 0.01262281],\n",
       "       [0.77881945, 0.24098283, 0.46962156, 0.36306621, 0.27003452,\n",
       "        0.27230177, 0.412569  , 0.24233553, 0.90087015, 0.85863188],\n",
       "       [0.90022158, 0.52734329, 0.32449815, 0.87178207, 0.38931941,\n",
       "        0.19989869, 0.59686763, 0.17724842, 0.13564716, 0.68858814],\n",
       "       [0.89686418, 0.22422597, 0.25444385, 0.93545662, 0.63314901,\n",
       "        0.60323886, 0.39373635, 0.22758262, 0.34466673, 0.75621474],\n",
       "       [0.90963812, 0.66700168, 0.61404073, 0.62109277, 0.71055424,\n",
       "        0.44235192, 0.5854472 , 0.52738978, 0.74387973, 0.91241872],\n",
       "       [0.03951274, 0.89687158, 0.16819265, 0.97244573, 0.4724485 ,\n",
       "        0.83248631, 0.12596089, 0.95915749, 0.52264166, 0.05133365],\n",
       "       [0.78680717, 0.55370866, 0.52658051, 0.15471495, 0.9199484 ,\n",
       "        0.72873121, 0.9822111 , 0.70588314, 0.01733152, 0.60267986],\n",
       "       [0.8692259 , 0.82149813, 0.65421642, 0.80854307, 0.69320792,\n",
       "        0.56805485, 0.81181195, 0.93780573, 0.90038829, 0.99930043],\n",
       "       [0.23359461, 0.69956236, 0.90638569, 0.47758019, 0.62190451,\n",
       "        0.12430868, 0.71301323, 0.40410394, 0.29742243, 0.24722237],\n",
       "       [0.42553216, 0.89300103, 0.89797149, 0.5265402 , 0.07765032,\n",
       "        0.7748061 , 0.25900672, 0.80056791, 0.62260268, 0.02193878],\n",
       "       [0.88474593, 0.20134392, 0.69776439, 0.9037961 , 0.09079446,\n",
       "        0.47432807, 0.10628993, 0.11215947, 0.71115376, 0.61579093],\n",
       "       [0.96357818, 0.56298266, 0.17203539, 0.8470895 , 0.90135305,\n",
       "        0.62333584, 0.04598388, 0.88801561, 0.66415096, 0.93683661],\n",
       "       [0.59411699, 0.54253102, 0.427598  , 0.72757791, 0.91510748,\n",
       "        0.80630543, 0.16301183, 0.55593321, 0.35069703, 0.85059819],\n",
       "       [0.07769135, 0.69608546, 0.70636205, 0.59159682, 0.26086385,\n",
       "        0.50206263, 0.76208937, 0.24173895, 0.61681662, 0.47208005],\n",
       "       [0.67021415, 0.24511224, 0.05399092, 0.22422313, 0.03157916,\n",
       "        0.00227654, 0.25877089, 0.56336628, 0.64294111, 0.6398216 ],\n",
       "       [0.58660193, 0.14587398, 0.25769425, 0.25307223, 0.0269612 ,\n",
       "        0.21810155, 0.81831969, 0.44536023, 0.43320476, 0.97396976],\n",
       "       [0.95650742, 0.16009563, 0.92337545, 0.47398566, 0.90720211,\n",
       "        0.6784596 , 0.98813102, 0.12178126, 0.33212971, 0.41090911]])"
      ]
     },
     "execution_count": 117,
     "metadata": {},
     "output_type": "execute_result"
    }
   ],
   "source": [
    "X"
   ]
  },
  {
   "cell_type": "code",
   "execution_count": 118,
   "id": "73a0f999",
   "metadata": {},
   "outputs": [
    {
     "data": {
      "text/plain": [
       "array([0.18063364, 0.14734421, 0.60095911, 0.36661369, 0.77455891,\n",
       "       0.42033244, 0.13985998, 0.59087523, 0.69321666, 0.87499943])"
      ]
     },
     "execution_count": 118,
     "metadata": {},
     "output_type": "execute_result"
    }
   ],
   "source": [
    "y"
   ]
  },
  {
   "cell_type": "markdown",
   "id": "4b7e2ec8",
   "metadata": {},
   "source": [
    "expand_dims  \n",
    "Tensor의 어떤 요소를 추가하는 것이 아니라 차원(dims)을 추가해주는 함수이다.  \n",
    "여기서 axis는 차원의 어떤 부분(position)에 추가해줄 것인지를 결정하는 매개변수라고 볼 수 있다."
   ]
  },
  {
   "cell_type": "code",
   "execution_count": 120,
   "id": "34efb615",
   "metadata": {},
   "outputs": [],
   "source": [
    "y = np.expand_dims(y, axis=0)"
   ]
  },
  {
   "cell_type": "code",
   "execution_count": 121,
   "id": "0a75ec36",
   "metadata": {},
   "outputs": [
    {
     "data": {
      "text/plain": [
       "array([[[0.18063364, 0.14734421, 0.60095911, 0.36661369, 0.77455891,\n",
       "         0.42033244, 0.13985998, 0.59087523, 0.69321666, 0.87499943]]])"
      ]
     },
     "execution_count": 121,
     "metadata": {},
     "output_type": "execute_result"
    }
   ],
   "source": [
    "y"
   ]
  },
  {
   "cell_type": "code",
   "execution_count": 122,
   "id": "682e1d84",
   "metadata": {},
   "outputs": [],
   "source": [
    "Y = np.concatenate([y] * 32, axis=0)"
   ]
  },
  {
   "cell_type": "code",
   "execution_count": 123,
   "id": "3ea150d9",
   "metadata": {},
   "outputs": [
    {
     "data": {
      "text/plain": [
       "array([[[0.18063364, 0.14734421, 0.60095911, 0.36661369, 0.77455891,\n",
       "         0.42033244, 0.13985998, 0.59087523, 0.69321666, 0.87499943]],\n",
       "\n",
       "       [[0.18063364, 0.14734421, 0.60095911, 0.36661369, 0.77455891,\n",
       "         0.42033244, 0.13985998, 0.59087523, 0.69321666, 0.87499943]],\n",
       "\n",
       "       [[0.18063364, 0.14734421, 0.60095911, 0.36661369, 0.77455891,\n",
       "         0.42033244, 0.13985998, 0.59087523, 0.69321666, 0.87499943]],\n",
       "\n",
       "       [[0.18063364, 0.14734421, 0.60095911, 0.36661369, 0.77455891,\n",
       "         0.42033244, 0.13985998, 0.59087523, 0.69321666, 0.87499943]],\n",
       "\n",
       "       [[0.18063364, 0.14734421, 0.60095911, 0.36661369, 0.77455891,\n",
       "         0.42033244, 0.13985998, 0.59087523, 0.69321666, 0.87499943]],\n",
       "\n",
       "       [[0.18063364, 0.14734421, 0.60095911, 0.36661369, 0.77455891,\n",
       "         0.42033244, 0.13985998, 0.59087523, 0.69321666, 0.87499943]],\n",
       "\n",
       "       [[0.18063364, 0.14734421, 0.60095911, 0.36661369, 0.77455891,\n",
       "         0.42033244, 0.13985998, 0.59087523, 0.69321666, 0.87499943]],\n",
       "\n",
       "       [[0.18063364, 0.14734421, 0.60095911, 0.36661369, 0.77455891,\n",
       "         0.42033244, 0.13985998, 0.59087523, 0.69321666, 0.87499943]],\n",
       "\n",
       "       [[0.18063364, 0.14734421, 0.60095911, 0.36661369, 0.77455891,\n",
       "         0.42033244, 0.13985998, 0.59087523, 0.69321666, 0.87499943]],\n",
       "\n",
       "       [[0.18063364, 0.14734421, 0.60095911, 0.36661369, 0.77455891,\n",
       "         0.42033244, 0.13985998, 0.59087523, 0.69321666, 0.87499943]],\n",
       "\n",
       "       [[0.18063364, 0.14734421, 0.60095911, 0.36661369, 0.77455891,\n",
       "         0.42033244, 0.13985998, 0.59087523, 0.69321666, 0.87499943]],\n",
       "\n",
       "       [[0.18063364, 0.14734421, 0.60095911, 0.36661369, 0.77455891,\n",
       "         0.42033244, 0.13985998, 0.59087523, 0.69321666, 0.87499943]],\n",
       "\n",
       "       [[0.18063364, 0.14734421, 0.60095911, 0.36661369, 0.77455891,\n",
       "         0.42033244, 0.13985998, 0.59087523, 0.69321666, 0.87499943]],\n",
       "\n",
       "       [[0.18063364, 0.14734421, 0.60095911, 0.36661369, 0.77455891,\n",
       "         0.42033244, 0.13985998, 0.59087523, 0.69321666, 0.87499943]],\n",
       "\n",
       "       [[0.18063364, 0.14734421, 0.60095911, 0.36661369, 0.77455891,\n",
       "         0.42033244, 0.13985998, 0.59087523, 0.69321666, 0.87499943]],\n",
       "\n",
       "       [[0.18063364, 0.14734421, 0.60095911, 0.36661369, 0.77455891,\n",
       "         0.42033244, 0.13985998, 0.59087523, 0.69321666, 0.87499943]],\n",
       "\n",
       "       [[0.18063364, 0.14734421, 0.60095911, 0.36661369, 0.77455891,\n",
       "         0.42033244, 0.13985998, 0.59087523, 0.69321666, 0.87499943]],\n",
       "\n",
       "       [[0.18063364, 0.14734421, 0.60095911, 0.36661369, 0.77455891,\n",
       "         0.42033244, 0.13985998, 0.59087523, 0.69321666, 0.87499943]],\n",
       "\n",
       "       [[0.18063364, 0.14734421, 0.60095911, 0.36661369, 0.77455891,\n",
       "         0.42033244, 0.13985998, 0.59087523, 0.69321666, 0.87499943]],\n",
       "\n",
       "       [[0.18063364, 0.14734421, 0.60095911, 0.36661369, 0.77455891,\n",
       "         0.42033244, 0.13985998, 0.59087523, 0.69321666, 0.87499943]],\n",
       "\n",
       "       [[0.18063364, 0.14734421, 0.60095911, 0.36661369, 0.77455891,\n",
       "         0.42033244, 0.13985998, 0.59087523, 0.69321666, 0.87499943]],\n",
       "\n",
       "       [[0.18063364, 0.14734421, 0.60095911, 0.36661369, 0.77455891,\n",
       "         0.42033244, 0.13985998, 0.59087523, 0.69321666, 0.87499943]],\n",
       "\n",
       "       [[0.18063364, 0.14734421, 0.60095911, 0.36661369, 0.77455891,\n",
       "         0.42033244, 0.13985998, 0.59087523, 0.69321666, 0.87499943]],\n",
       "\n",
       "       [[0.18063364, 0.14734421, 0.60095911, 0.36661369, 0.77455891,\n",
       "         0.42033244, 0.13985998, 0.59087523, 0.69321666, 0.87499943]],\n",
       "\n",
       "       [[0.18063364, 0.14734421, 0.60095911, 0.36661369, 0.77455891,\n",
       "         0.42033244, 0.13985998, 0.59087523, 0.69321666, 0.87499943]],\n",
       "\n",
       "       [[0.18063364, 0.14734421, 0.60095911, 0.36661369, 0.77455891,\n",
       "         0.42033244, 0.13985998, 0.59087523, 0.69321666, 0.87499943]],\n",
       "\n",
       "       [[0.18063364, 0.14734421, 0.60095911, 0.36661369, 0.77455891,\n",
       "         0.42033244, 0.13985998, 0.59087523, 0.69321666, 0.87499943]],\n",
       "\n",
       "       [[0.18063364, 0.14734421, 0.60095911, 0.36661369, 0.77455891,\n",
       "         0.42033244, 0.13985998, 0.59087523, 0.69321666, 0.87499943]],\n",
       "\n",
       "       [[0.18063364, 0.14734421, 0.60095911, 0.36661369, 0.77455891,\n",
       "         0.42033244, 0.13985998, 0.59087523, 0.69321666, 0.87499943]],\n",
       "\n",
       "       [[0.18063364, 0.14734421, 0.60095911, 0.36661369, 0.77455891,\n",
       "         0.42033244, 0.13985998, 0.59087523, 0.69321666, 0.87499943]],\n",
       "\n",
       "       [[0.18063364, 0.14734421, 0.60095911, 0.36661369, 0.77455891,\n",
       "         0.42033244, 0.13985998, 0.59087523, 0.69321666, 0.87499943]],\n",
       "\n",
       "       [[0.18063364, 0.14734421, 0.60095911, 0.36661369, 0.77455891,\n",
       "         0.42033244, 0.13985998, 0.59087523, 0.69321666, 0.87499943]]])"
      ]
     },
     "execution_count": 123,
     "metadata": {},
     "output_type": "execute_result"
    }
   ],
   "source": [
    "Y"
   ]
  },
  {
   "cell_type": "code",
   "execution_count": 124,
   "id": "0303346f",
   "metadata": {},
   "outputs": [],
   "source": [
    "def naive_add_matrix_and_vector(x, y):\n",
    "    assert len(x.shape) == 2\n",
    "    assert len(y.shape) == 1\n",
    "    assert x.shape[1] == y.shape[0]\n",
    "    x = x.copy()\n",
    "    for i in range(x.shape[0]):\n",
    "        for j in range(x.shape[1]):\n",
    "            x[i, j] += y[j]\n",
    "    return x"
   ]
  },
  {
   "cell_type": "code",
   "execution_count": 125,
   "id": "ea3a60d9",
   "metadata": {},
   "outputs": [],
   "source": [
    "import numpy as np\n",
    "x = np.random.random((64, 3, 32, 10))\n",
    "y = np.random.random((32, 10))\n",
    "z = np.maximum(x, y)"
   ]
  },
  {
   "cell_type": "code",
   "execution_count": 128,
   "id": "4c593b03",
   "metadata": {},
   "outputs": [
    {
     "data": {
      "text/plain": [
       "array([[[[0.9046365 , 0.9095051 , 0.7243599 , ..., 0.73457228,\n",
       "          0.86876151, 0.31478853],\n",
       "         [0.96656934, 0.48998491, 0.63259851, ..., 0.9062373 ,\n",
       "          0.18246139, 0.26596804],\n",
       "         [0.49878906, 0.62886173, 0.45071691, ..., 0.75907979,\n",
       "          0.86016341, 0.66952381],\n",
       "         ...,\n",
       "         [0.69282762, 0.85865193, 0.9432195 , ..., 0.73015848,\n",
       "          0.4741142 , 0.835168  ],\n",
       "         [0.36612944, 0.61608936, 0.98889408, ..., 0.83699293,\n",
       "          0.54269505, 0.16494209],\n",
       "         [0.64982138, 0.52316069, 0.99884904, ..., 0.77037517,\n",
       "          0.62757937, 0.94652061]],\n",
       "\n",
       "        [[0.9046365 , 0.9095051 , 0.7243599 , ..., 0.76990484,\n",
       "          0.16578318, 0.44774845],\n",
       "         [0.43877228, 0.48998491, 0.63259851, ..., 0.9062373 ,\n",
       "          0.62895362, 0.35820972],\n",
       "         [0.56076051, 0.64564446, 0.99595571, ..., 0.69367259,\n",
       "          0.86016341, 0.66952381],\n",
       "         ...,\n",
       "         [0.77022773, 0.55300382, 0.77322686, ..., 0.73015848,\n",
       "          0.4741142 , 0.84995027],\n",
       "         [0.60069042, 0.61608936, 0.98889408, ..., 0.78598644,\n",
       "          0.34086208, 0.07439213],\n",
       "         [0.64982138, 0.941033  , 0.78921461, ..., 0.77037517,\n",
       "          0.89973392, 0.94652061]],\n",
       "\n",
       "        [[0.9046365 , 0.9095051 , 0.7243599 , ..., 0.76747023,\n",
       "          0.19588376, 0.99884128],\n",
       "         [0.38717446, 0.48998491, 0.77301443, ..., 0.9062373 ,\n",
       "          0.37036875, 0.95174339],\n",
       "         [0.49878906, 0.62886173, 0.23663733, ..., 0.69367259,\n",
       "          0.86016341, 0.79960109],\n",
       "         ...,\n",
       "         [0.69282762, 0.71435696, 0.1610781 , ..., 0.73015848,\n",
       "          0.56513537, 0.3127248 ],\n",
       "         [0.16606743, 0.9547064 , 0.98889408, ..., 0.78598644,\n",
       "          0.29963957, 0.475611  ],\n",
       "         [0.64982138, 0.817866  , 0.61590762, ..., 0.99112362,\n",
       "          0.71563598, 0.94652061]]],\n",
       "\n",
       "\n",
       "       [[[0.9046365 , 0.9095051 , 0.7243599 , ..., 0.99896758,\n",
       "          0.43753116, 0.34875039],\n",
       "         [0.33693267, 0.48998491, 0.63259851, ..., 0.9062373 ,\n",
       "          0.18246139, 0.6536797 ],\n",
       "         [0.73515987, 0.76944324, 0.23663733, ..., 0.80851475,\n",
       "          0.86016341, 0.9621119 ],\n",
       "         ...,\n",
       "         [0.69282762, 0.51343441, 0.56718941, ..., 0.93151043,\n",
       "          0.4741142 , 0.84453053],\n",
       "         [0.1457058 , 0.6246592 , 0.98889408, ..., 0.97933161,\n",
       "          0.34679837, 0.75481384],\n",
       "         [0.64982138, 0.36654572, 0.85284739, ..., 0.77037517,\n",
       "          0.62757937, 0.94652061]],\n",
       "\n",
       "        [[0.9046365 , 0.9095051 , 0.7243599 , ..., 0.99316204,\n",
       "          0.79305715, 0.89050711],\n",
       "         [0.33693267, 0.69784334, 0.63259851, ..., 0.9062373 ,\n",
       "          0.18246139, 0.54644193],\n",
       "         [0.49878906, 0.62886173, 0.39061143, ..., 0.75638763,\n",
       "          0.86016341, 0.66952381],\n",
       "         ...,\n",
       "         [0.87077561, 0.51343441, 0.32752483, ..., 0.73015848,\n",
       "          0.58430372, 0.11082248],\n",
       "         [0.09632321, 0.61608936, 0.98889408, ..., 0.78598644,\n",
       "          0.29963957, 0.70122971],\n",
       "         [0.64982138, 0.18825895, 0.856807  , ..., 0.99909485,\n",
       "          0.76319745, 0.94652061]],\n",
       "\n",
       "        [[0.9046365 , 0.9095051 , 0.7243599 , ..., 0.69678205,\n",
       "          0.96262447, 0.43287127],\n",
       "         [0.6028577 , 0.57937958, 0.72445626, ..., 0.9062373 ,\n",
       "          0.93730795, 0.26596804],\n",
       "         [0.5190297 , 0.62886173, 0.43298153, ..., 0.69367259,\n",
       "          0.92426442, 0.66952381],\n",
       "         ...,\n",
       "         [0.69282762, 0.51343441, 0.75030168, ..., 0.85463204,\n",
       "          0.58750406, 0.4464712 ],\n",
       "         [0.09632321, 0.61608936, 0.98889408, ..., 0.78598644,\n",
       "          0.30505236, 0.564385  ],\n",
       "         [0.64982138, 0.77956731, 0.94431153, ..., 0.77037517,\n",
       "          0.62757937, 0.94652061]]],\n",
       "\n",
       "\n",
       "       [[[0.9046365 , 0.9095051 , 0.7243599 , ..., 0.69678205,\n",
       "          0.71507813, 0.31478853],\n",
       "         [0.96550024, 0.62936669, 0.63259851, ..., 0.9062373 ,\n",
       "          0.76645875, 0.31734069],\n",
       "         [0.49878906, 0.62886173, 0.65025054, ..., 0.69367259,\n",
       "          0.86016341, 0.66952381],\n",
       "         ...,\n",
       "         [0.76840935, 0.51343441, 0.22568725, ..., 0.89722137,\n",
       "          0.95611571, 0.63372135],\n",
       "         [0.74930622, 0.61608936, 0.98889408, ..., 0.78598644,\n",
       "          0.31566144, 0.24768432],\n",
       "         [0.75682841, 0.18825895, 0.61590762, ..., 0.81191262,\n",
       "          0.62757937, 0.94652061]],\n",
       "\n",
       "        [[0.9046365 , 0.9095051 , 0.7243599 , ..., 0.69678205,\n",
       "          0.56654029, 0.55682121],\n",
       "         [0.33693267, 0.70237876, 0.63259851, ..., 0.9062373 ,\n",
       "          0.19277945, 0.29750115],\n",
       "         [0.49878906, 0.70003853, 0.45844949, ..., 0.71922527,\n",
       "          0.86016341, 0.66952381],\n",
       "         ...,\n",
       "         [0.73098031, 0.51343441, 0.450815  , ..., 0.73015848,\n",
       "          0.4741142 , 0.16123941],\n",
       "         [0.50310798, 0.85537872, 0.98889408, ..., 0.78598644,\n",
       "          0.53920094, 0.24761099],\n",
       "         [0.85534349, 0.22898647, 0.86967032, ..., 0.77037517,\n",
       "          0.62757937, 0.94652061]],\n",
       "\n",
       "        [[0.9046365 , 0.9095051 , 0.9822182 , ..., 0.69678205,\n",
       "          0.96369358, 0.31478853],\n",
       "         [0.75924864, 0.8053572 , 0.63259851, ..., 0.9062373 ,\n",
       "          0.26147119, 0.39345412],\n",
       "         [0.73984857, 0.62886173, 0.28186157, ..., 0.85391236,\n",
       "          0.86016341, 0.89547159],\n",
       "         ...,\n",
       "         [0.69282762, 0.77130432, 0.99200005, ..., 0.73015848,\n",
       "          0.4741142 , 0.29230826],\n",
       "         [0.58545083, 0.78949278, 0.98889408, ..., 0.78598644,\n",
       "          0.90822325, 0.197945  ],\n",
       "         [0.82892645, 0.77608006, 0.92575394, ..., 0.77037517,\n",
       "          0.85027134, 0.98378121]]],\n",
       "\n",
       "\n",
       "       ...,\n",
       "\n",
       "\n",
       "       [[[0.9046365 , 0.9095051 , 0.7243599 , ..., 0.69678205,\n",
       "          0.85143546, 0.88982665],\n",
       "         [0.61406594, 0.48998491, 0.63259851, ..., 0.9062373 ,\n",
       "          0.7671214 , 0.26596804],\n",
       "         [0.58365136, 0.78969039, 0.35434094, ..., 0.70340908,\n",
       "          0.86016341, 0.66952381],\n",
       "         ...,\n",
       "         [0.69282762, 0.51343441, 0.82013056, ..., 0.73015848,\n",
       "          0.57807841, 0.43114955],\n",
       "         [0.36151297, 0.76313717, 0.98889408, ..., 0.97881457,\n",
       "          0.29963957, 0.93281642],\n",
       "         [0.80802694, 0.51775719, 0.61590762, ..., 0.77037517,\n",
       "          0.62757937, 0.94652061]],\n",
       "\n",
       "        [[0.94581455, 0.9095051 , 0.7243599 , ..., 0.69678205,\n",
       "          0.62266531, 0.31478853],\n",
       "         [0.98630232, 0.48998491, 0.68505015, ..., 0.9062373 ,\n",
       "          0.18246139, 0.39783547],\n",
       "         [0.49878906, 0.62886173, 0.61652501, ..., 0.96918753,\n",
       "          0.86016341, 0.66952381],\n",
       "         ...,\n",
       "         [0.77249363, 0.51343441, 0.57773024, ..., 0.73015848,\n",
       "          0.4741142 , 0.41605588],\n",
       "         [0.68453761, 0.61608936, 0.98889408, ..., 0.78598644,\n",
       "          0.9761827 , 0.91094486],\n",
       "         [0.64982138, 0.32875134, 0.61590762, ..., 0.77037517,\n",
       "          0.71180665, 0.94652061]],\n",
       "\n",
       "        [[0.9046365 , 0.96459753, 0.81345671, ..., 0.69678205,\n",
       "          0.16578318, 0.72179614],\n",
       "         [0.39165766, 0.48998491, 0.89744353, ..., 0.9062373 ,\n",
       "          0.31771477, 0.26596804],\n",
       "         [0.66498258, 0.78734314, 0.55431129, ..., 0.69367259,\n",
       "          0.86016341, 0.66952381],\n",
       "         ...,\n",
       "         [0.89232143, 0.61847088, 0.44814776, ..., 0.73015848,\n",
       "          0.76716894, 0.64387984],\n",
       "         [0.72567892, 0.61608936, 0.98889408, ..., 0.78598644,\n",
       "          0.67937896, 0.27697735],\n",
       "         [0.64982138, 0.18825895, 0.61590762, ..., 0.98421007,\n",
       "          0.81779569, 0.94652061]]],\n",
       "\n",
       "\n",
       "       [[[0.9046365 , 0.9095051 , 0.92657948, ..., 0.73473888,\n",
       "          0.16578318, 0.80548014],\n",
       "         [0.48361165, 0.48998491, 0.63259851, ..., 0.9062373 ,\n",
       "          0.48784828, 0.81512361],\n",
       "         [0.57527576, 0.62886173, 0.67170654, ..., 0.69367259,\n",
       "          0.86016341, 0.86436819],\n",
       "         ...,\n",
       "         [0.69282762, 0.88967323, 0.58424152, ..., 0.73015848,\n",
       "          0.4741142 , 0.11962758],\n",
       "         [0.89311667, 0.61608936, 0.98889408, ..., 0.78598644,\n",
       "          0.98360679, 0.59652891],\n",
       "         [0.64982138, 0.85466833, 0.61590762, ..., 0.77037517,\n",
       "          0.62757937, 0.94652061]],\n",
       "\n",
       "        [[0.9046365 , 0.9095051 , 0.7243599 , ..., 0.69678205,\n",
       "          0.25933932, 0.31478853],\n",
       "         [0.91490429, 0.48998491, 0.71833408, ..., 0.93474292,\n",
       "          0.60554526, 0.53704354],\n",
       "         [0.55646625, 0.62886173, 0.73551036, ..., 0.69367259,\n",
       "          0.86016341, 0.68712057],\n",
       "         ...,\n",
       "         [0.74408086, 0.51343441, 0.19400179, ..., 0.74399569,\n",
       "          0.65809185, 0.92145416],\n",
       "         [0.33282232, 0.61608936, 0.98889408, ..., 0.78598644,\n",
       "          0.66097341, 0.10265586],\n",
       "         [0.64982138, 0.94669612, 0.61590762, ..., 0.77037517,\n",
       "          0.62757937, 0.94652061]],\n",
       "\n",
       "        [[0.9046365 , 0.9095051 , 0.7243599 , ..., 0.69678205,\n",
       "          0.62990221, 0.43022452],\n",
       "         [0.33693267, 0.48998491, 0.67194473, ..., 0.9062373 ,\n",
       "          0.99029271, 0.28470487],\n",
       "         [0.49878906, 0.62886173, 0.31567922, ..., 0.69367259,\n",
       "          0.86016341, 0.67943344],\n",
       "         ...,\n",
       "         [0.69282762, 0.51343441, 0.53356692, ..., 0.73015848,\n",
       "          0.4741142 , 0.94366652],\n",
       "         [0.42465759, 0.61608936, 0.98889408, ..., 0.78598644,\n",
       "          0.81610166, 0.37125111],\n",
       "         [0.760429  , 0.73262294, 0.62915706, ..., 0.77037517,\n",
       "          0.62757937, 0.9966115 ]]],\n",
       "\n",
       "\n",
       "       [[[0.9046365 , 0.9095051 , 0.7243599 , ..., 0.69678205,\n",
       "          0.89156665, 0.61754669],\n",
       "         [0.33693267, 0.60865812, 0.63259851, ..., 0.9062373 ,\n",
       "          0.33680444, 0.35469524],\n",
       "         [0.49878906, 0.74075948, 0.23767826, ..., 0.69367259,\n",
       "          0.86016341, 0.66952381],\n",
       "         ...,\n",
       "         [0.69282762, 0.81361295, 0.93466441, ..., 0.73015848,\n",
       "          0.4741142 , 0.11082248],\n",
       "         [0.65705948, 0.61608936, 0.98889408, ..., 0.78598644,\n",
       "          0.98030066, 0.61370248],\n",
       "         [0.64982138, 0.92165323, 0.65241157, ..., 0.77037517,\n",
       "          0.99980589, 0.94652061]],\n",
       "\n",
       "        [[0.96800963, 0.9095051 , 0.7243599 , ..., 0.69678205,\n",
       "          0.16578318, 0.31478853],\n",
       "         [0.60705528, 0.80944089, 0.63259851, ..., 0.9062373 ,\n",
       "          0.36999875, 0.26596804],\n",
       "         [0.49878906, 0.62886173, 0.24355244, ..., 0.69367259,\n",
       "          0.86016341, 0.86308443],\n",
       "         ...,\n",
       "         [0.69282762, 0.82152182, 0.71459095, ..., 0.73015848,\n",
       "          0.4741142 , 0.66291943],\n",
       "         [0.50354229, 0.61608936, 0.98889408, ..., 0.78598644,\n",
       "          0.37063898, 0.6155958 ],\n",
       "         [0.81528475, 0.18825895, 0.61590762, ..., 0.77037517,\n",
       "          0.62757937, 0.94652061]],\n",
       "\n",
       "        [[0.9046365 , 0.9095051 , 0.7243599 , ..., 0.69678205,\n",
       "          0.95463475, 0.47071516],\n",
       "         [0.88928679, 0.73211616, 0.63259851, ..., 0.9062373 ,\n",
       "          0.22273126, 0.94707384],\n",
       "         [0.49878906, 0.72958592, 0.79607155, ..., 0.94877256,\n",
       "          0.86016341, 0.89886202],\n",
       "         ...,\n",
       "         [0.69282762, 0.78451621, 0.63875845, ..., 0.73015848,\n",
       "          0.4741142 , 0.13337487],\n",
       "         [0.55156344, 0.61608936, 0.98889408, ..., 0.78598644,\n",
       "          0.4656825 , 0.68966909],\n",
       "         [0.64982138, 0.56871441, 0.61590762, ..., 0.77037517,\n",
       "          0.62757937, 0.94652061]]]])"
      ]
     },
     "execution_count": 128,
     "metadata": {},
     "output_type": "execute_result"
    }
   ],
   "source": [
    "z"
   ]
  },
  {
   "cell_type": "markdown",
   "id": "7a0de074",
   "metadata": {},
   "source": [
    "# 텐서 곱셈"
   ]
  },
  {
   "cell_type": "code",
   "execution_count": 129,
   "id": "1f315960",
   "metadata": {},
   "outputs": [],
   "source": [
    "x = np.random.random((32,))\n",
    "y = np.random.random((32,))\n",
    "z = np.dot(x, y)"
   ]
  },
  {
   "cell_type": "code",
   "execution_count": 146,
   "id": "c29e9092",
   "metadata": {},
   "outputs": [
    {
     "data": {
      "text/plain": [
       "array([0.7570747 , 0.69912855, 0.71870408, 0.26003319, 0.25394509,\n",
       "       0.80954656, 0.80611638, 0.74049527, 0.858909  , 0.12362567,\n",
       "       0.68377813, 0.86917738, 0.57549138, 0.77291556, 0.15457548,\n",
       "       0.79665434, 0.39578924, 0.42502072, 0.18674825, 0.08730488,\n",
       "       0.33276539, 0.3759032 , 0.49847389, 0.4931088 , 0.52461931,\n",
       "       0.54135291, 0.26906229, 0.43606011, 0.17221244, 0.37960197,\n",
       "       0.20745631, 0.57656404])"
      ]
     },
     "execution_count": 146,
     "metadata": {},
     "output_type": "execute_result"
    }
   ],
   "source": [
    "x"
   ]
  },
  {
   "cell_type": "code",
   "execution_count": 138,
   "id": "1a2a4196",
   "metadata": {},
   "outputs": [
    {
     "data": {
      "text/plain": [
       "6.8387368229500165"
      ]
     },
     "execution_count": 138,
     "metadata": {},
     "output_type": "execute_result"
    }
   ],
   "source": [
    "z"
   ]
  },
  {
   "cell_type": "code",
   "execution_count": 147,
   "id": "bc744ad6",
   "metadata": {},
   "outputs": [],
   "source": [
    "def naive_vector_dot(x, y):\n",
    "    assert len(x.shape) == 1\n",
    "    assert len(y.shape) == 1\n",
    "    assert x.shape[0] == y.shape[0]\n",
    "    z = 0.\n",
    "    for i in range(x.shape[0]):\n",
    "        z += x[i] * y[i]\n",
    "    return z"
   ]
  },
  {
   "cell_type": "code",
   "execution_count": 148,
   "id": "b4e34e75",
   "metadata": {},
   "outputs": [],
   "source": [
    "def naive_matrix_vector_dot(x, y):\n",
    "    assert len(x.shape) == 2\n",
    "    assert len(y.shape) == 1\n",
    "    assert x.shape[1] == y.shape[0]\n",
    "    z = np.zeros(x.shape[0])\n",
    "    for i in range(x.shape[0]):\n",
    "        for j in range(x.shape[1]):\n",
    "            z[i] += x[i, j] * y[j]\n",
    "    return z"
   ]
  },
  {
   "cell_type": "code",
   "execution_count": 149,
   "id": "42c1979f",
   "metadata": {},
   "outputs": [],
   "source": [
    "def naive_matrix_vector_dot(x, y):\n",
    "    z = np.zeros(x.shape[0])\n",
    "    for i in range(x.shape[0]):\n",
    "        z[i] = naive_vector_dot(x[i, :], y)\n",
    "    return z"
   ]
  },
  {
   "cell_type": "code",
   "execution_count": 150,
   "id": "672992e0",
   "metadata": {},
   "outputs": [],
   "source": [
    "def naive_matrix_dot(x, y):\n",
    "    assert len(x.shape) == 2\n",
    "    assert len(y.shape) == 2\n",
    "    assert x.shape[1] == y.shape[0]\n",
    "    z = np.zeros((x.shape[0], y.shape[1]))\n",
    "    for i in range(x.shape[0]):\n",
    "        for j in range(y.shape[1]):\n",
    "            row_x = x[i, :]\n",
    "            column_y = y[:, j]\n",
    "            z[i, j] = naive_vector_dot(row_x, column_y)\n",
    "    return z"
   ]
  },
  {
   "cell_type": "markdown",
   "id": "fe876ee3",
   "metadata": {},
   "source": [
    "# 텐서 크기 변환\n"
   ]
  },
  {
   "cell_type": "code",
   "execution_count": 151,
   "id": "dba7a0ff",
   "metadata": {},
   "outputs": [],
   "source": [
    "train_images = train_images.reshape((60000, 28 * 28))"
   ]
  },
  {
   "cell_type": "code",
   "execution_count": 156,
   "id": "c9c88280",
   "metadata": {},
   "outputs": [
    {
     "data": {
      "text/plain": [
       "array([[0, 0, 0, ..., 0, 0, 0],\n",
       "       [0, 0, 0, ..., 0, 0, 0],\n",
       "       [0, 0, 0, ..., 0, 0, 0],\n",
       "       ...,\n",
       "       [0, 0, 0, ..., 0, 0, 0],\n",
       "       [0, 0, 0, ..., 0, 0, 0],\n",
       "       [0, 0, 0, ..., 0, 0, 0]], dtype=uint8)"
      ]
     },
     "execution_count": 156,
     "metadata": {},
     "output_type": "execute_result"
    }
   ],
   "source": [
    "train_images"
   ]
  },
  {
   "cell_type": "code",
   "execution_count": 157,
   "id": "74e9eca3",
   "metadata": {},
   "outputs": [
    {
     "data": {
      "text/plain": [
       "(3, 2)"
      ]
     },
     "execution_count": 157,
     "metadata": {},
     "output_type": "execute_result"
    }
   ],
   "source": [
    "x = np.array([[0., 1.],\n",
    "             [2., 3.],\n",
    "             [4., 5.]])\n",
    "x.shape"
   ]
  },
  {
   "cell_type": "code",
   "execution_count": 158,
   "id": "64a05eae",
   "metadata": {},
   "outputs": [
    {
     "data": {
      "text/plain": [
       "array([[0.],\n",
       "       [1.],\n",
       "       [2.],\n",
       "       [3.],\n",
       "       [4.],\n",
       "       [5.]])"
      ]
     },
     "execution_count": 158,
     "metadata": {},
     "output_type": "execute_result"
    }
   ],
   "source": [
    "x = x.reshape((6, 1))\n",
    "x"
   ]
  },
  {
   "cell_type": "code",
   "execution_count": 159,
   "id": "fb3b9f1e",
   "metadata": {},
   "outputs": [
    {
     "data": {
      "text/plain": [
       "array([[0., 1., 2.],\n",
       "       [3., 4., 5.]])"
      ]
     },
     "execution_count": 159,
     "metadata": {},
     "output_type": "execute_result"
    }
   ],
   "source": [
    "x = x.reshape((2, 3))\n",
    "x"
   ]
  },
  {
   "cell_type": "code",
   "execution_count": 160,
   "id": "c58b5916",
   "metadata": {},
   "outputs": [
    {
     "data": {
      "text/plain": [
       "(20, 300)"
      ]
     },
     "execution_count": 160,
     "metadata": {},
     "output_type": "execute_result"
    }
   ],
   "source": [
    "x = np.zeros((300, 20))\n",
    "x = np.transpose(x)\n",
    "x.shape"
   ]
  },
  {
   "cell_type": "code",
   "execution_count": 169,
   "id": "727c82d7",
   "metadata": {},
   "outputs": [],
   "source": [
    "import tensorflow as tf\n",
    "x = tf.Variable(0.)\n",
    "with tf.GradientTape() as tape:\n",
    "    y = 2 * x + 3\n",
    "grad_of_y_wrt_x = tape.gradient(y, x)"
   ]
  },
  {
   "cell_type": "code",
   "execution_count": 170,
   "id": "df854950",
   "metadata": {
    "scrolled": true
   },
   "outputs": [
    {
     "data": {
      "text/plain": [
       "<tf.Variable 'Variable:0' shape=() dtype=float32, numpy=0.0>"
      ]
     },
     "execution_count": 170,
     "metadata": {},
     "output_type": "execute_result"
    }
   ],
   "source": [
    "x"
   ]
  },
  {
   "cell_type": "code",
   "execution_count": 171,
   "id": "4bb69843",
   "metadata": {},
   "outputs": [
    {
     "data": {
      "text/plain": [
       "<tf.Tensor: shape=(), dtype=float32, numpy=3.0>"
      ]
     },
     "execution_count": 171,
     "metadata": {},
     "output_type": "execute_result"
    }
   ],
   "source": [
    "y"
   ]
  },
  {
   "cell_type": "code",
   "execution_count": 172,
   "id": "0d7b3a85",
   "metadata": {},
   "outputs": [
    {
     "data": {
      "text/plain": [
       "<tf.Tensor: shape=(), dtype=float32, numpy=2.0>"
      ]
     },
     "execution_count": 172,
     "metadata": {},
     "output_type": "execute_result"
    }
   ],
   "source": [
    "grad_of_y_wrt_x"
   ]
  },
  {
   "cell_type": "code",
   "execution_count": 173,
   "id": "d3ef940a",
   "metadata": {},
   "outputs": [],
   "source": [
    "x = tf.Variable(tf.zeros((2, 2)))\n",
    "with tf.GradientTape() as tape:\n",
    "    y = 2 * x + 3\n",
    "grad_of_y_wrt_x = tape.gradient(y, x)"
   ]
  },
  {
   "cell_type": "code",
   "execution_count": 174,
   "id": "00d28abb",
   "metadata": {},
   "outputs": [
    {
     "data": {
      "text/plain": [
       "<tf.Variable 'Variable:0' shape=(2, 2) dtype=float32, numpy=\n",
       "array([[0., 0.],\n",
       "       [0., 0.]], dtype=float32)>"
      ]
     },
     "execution_count": 174,
     "metadata": {},
     "output_type": "execute_result"
    }
   ],
   "source": [
    "x"
   ]
  },
  {
   "cell_type": "code",
   "execution_count": 175,
   "id": "d0cbda7a",
   "metadata": {},
   "outputs": [
    {
     "data": {
      "text/plain": [
       "<tf.Tensor: shape=(2, 2), dtype=float32, numpy=\n",
       "array([[3., 3.],\n",
       "       [3., 3.]], dtype=float32)>"
      ]
     },
     "execution_count": 175,
     "metadata": {},
     "output_type": "execute_result"
    }
   ],
   "source": [
    "y"
   ]
  },
  {
   "cell_type": "code",
   "execution_count": 176,
   "id": "bf868939",
   "metadata": {},
   "outputs": [
    {
     "data": {
      "text/plain": [
       "<tf.Tensor: shape=(2, 2), dtype=float32, numpy=\n",
       "array([[2., 2.],\n",
       "       [2., 2.]], dtype=float32)>"
      ]
     },
     "execution_count": 176,
     "metadata": {},
     "output_type": "execute_result"
    }
   ],
   "source": [
    "grad_of_y_wrt_x"
   ]
  },
  {
   "cell_type": "code",
   "execution_count": 182,
   "id": "514ef583",
   "metadata": {},
   "outputs": [],
   "source": [
    "W = tf.Variable(tf.random.uniform((2, 2)))\n",
    "b = tf.Variable(tf.zeros((2,)))\n",
    "x = tf.random.uniform((2, 2))\n",
    "with tf.GradientTape() as tape:\n",
    "    y = tf.matmul(x, W) + b\n",
    "grad_of_y_wrt_W_and_b = tape.gradient(y, [W, b])"
   ]
  },
  {
   "cell_type": "code",
   "execution_count": 183,
   "id": "ffe02063",
   "metadata": {},
   "outputs": [
    {
     "data": {
      "text/plain": [
       "<tf.Variable 'Variable:0' shape=(2, 2) dtype=float32, numpy=\n",
       "array([[0.15619397, 0.07910931],\n",
       "       [0.7926326 , 0.99902797]], dtype=float32)>"
      ]
     },
     "execution_count": 183,
     "metadata": {},
     "output_type": "execute_result"
    }
   ],
   "source": [
    "W"
   ]
  },
  {
   "cell_type": "code",
   "execution_count": 184,
   "id": "1aeb52f5",
   "metadata": {},
   "outputs": [
    {
     "data": {
      "text/plain": [
       "<tf.Variable 'Variable:0' shape=(2,) dtype=float32, numpy=array([0., 0.], dtype=float32)>"
      ]
     },
     "execution_count": 184,
     "metadata": {},
     "output_type": "execute_result"
    }
   ],
   "source": [
    "b"
   ]
  },
  {
   "cell_type": "code",
   "execution_count": 185,
   "id": "94735ba6",
   "metadata": {},
   "outputs": [
    {
     "data": {
      "text/plain": [
       "<tf.Tensor: shape=(2, 2), dtype=float32, numpy=\n",
       "array([[0.53012526, 0.81131923],\n",
       "       [0.91700995, 0.91360915]], dtype=float32)>"
      ]
     },
     "execution_count": 185,
     "metadata": {},
     "output_type": "execute_result"
    }
   ],
   "source": [
    "x"
   ]
  },
  {
   "cell_type": "code",
   "execution_count": 186,
   "id": "b19eacc6",
   "metadata": {},
   "outputs": [
    {
     "data": {
      "text/plain": [
       "<tf.Tensor: shape=(2, 2), dtype=float32, numpy=\n",
       "array([[0.7258804 , 0.85246843],\n",
       "       [0.8673878 , 0.98526514]], dtype=float32)>"
      ]
     },
     "execution_count": 186,
     "metadata": {},
     "output_type": "execute_result"
    }
   ],
   "source": [
    "y"
   ]
  },
  {
   "cell_type": "code",
   "execution_count": 187,
   "id": "c4e71943",
   "metadata": {},
   "outputs": [
    {
     "data": {
      "text/plain": [
       "[<tf.Tensor: shape=(2, 2), dtype=float32, numpy=\n",
       " array([[1.4471352, 1.4471352],\n",
       "        [1.7249284, 1.7249284]], dtype=float32)>,\n",
       " <tf.Tensor: shape=(2,), dtype=float32, numpy=array([2., 2.], dtype=float32)>]"
      ]
     },
     "execution_count": 187,
     "metadata": {},
     "output_type": "execute_result"
    }
   ],
   "source": [
    "grad_of_y_wrt_W_and_b"
   ]
  },
  {
   "cell_type": "markdown",
   "id": "789adbb1",
   "metadata": {},
   "source": [
    "# 첫 번째 예제 다시 살펴보기"
   ]
  },
  {
   "cell_type": "code",
   "execution_count": 188,
   "id": "273fce43",
   "metadata": {},
   "outputs": [],
   "source": [
    "(train_images, train_labels), (test_images, test_labels) = mnist.load_data()\n",
    "train_images = train_images.reshape((60000, 28 * 28))\n",
    "train_images = train_images.astype(\"float32\") / 255\n",
    "test_images = test_images.reshape((10000, 28 * 28))\n",
    "test_images = test_images.astype(\"float32\") / 255"
   ]
  },
  {
   "cell_type": "code",
   "execution_count": 189,
   "id": "b89c671c",
   "metadata": {},
   "outputs": [
    {
     "data": {
      "text/plain": [
       "array([[0., 0., 0., ..., 0., 0., 0.],\n",
       "       [0., 0., 0., ..., 0., 0., 0.],\n",
       "       [0., 0., 0., ..., 0., 0., 0.],\n",
       "       ...,\n",
       "       [0., 0., 0., ..., 0., 0., 0.],\n",
       "       [0., 0., 0., ..., 0., 0., 0.],\n",
       "       [0., 0., 0., ..., 0., 0., 0.]], dtype=float32)"
      ]
     },
     "execution_count": 189,
     "metadata": {},
     "output_type": "execute_result"
    }
   ],
   "source": [
    "train_images"
   ]
  },
  {
   "cell_type": "code",
   "execution_count": 190,
   "id": "8f2e113c",
   "metadata": {},
   "outputs": [
    {
     "data": {
      "text/plain": [
       "array([[0., 0., 0., ..., 0., 0., 0.],\n",
       "       [0., 0., 0., ..., 0., 0., 0.],\n",
       "       [0., 0., 0., ..., 0., 0., 0.],\n",
       "       ...,\n",
       "       [0., 0., 0., ..., 0., 0., 0.],\n",
       "       [0., 0., 0., ..., 0., 0., 0.],\n",
       "       [0., 0., 0., ..., 0., 0., 0.]], dtype=float32)"
      ]
     },
     "execution_count": 190,
     "metadata": {},
     "output_type": "execute_result"
    }
   ],
   "source": [
    "test_images"
   ]
  },
  {
   "cell_type": "code",
   "execution_count": 191,
   "id": "7a5269cf",
   "metadata": {},
   "outputs": [],
   "source": [
    "model = keras.Sequential([\n",
    "    layers.Dense(512, activation=\"relu\"),\n",
    "    layers.Dense(10, activation=\"softmax\")\n",
    "])"
   ]
  },
  {
   "cell_type": "code",
   "execution_count": 192,
   "id": "55721f6d",
   "metadata": {},
   "outputs": [],
   "source": [
    "model.compile(optimizer=\"rmsprop\",\n",
    "              loss=\"sparse_categorical_crossentropy\",\n",
    "              metrics=[\"accuracy\"])"
   ]
  },
  {
   "cell_type": "code",
   "execution_count": 193,
   "id": "28114a11",
   "metadata": {},
   "outputs": [
    {
     "name": "stdout",
     "output_type": "stream",
     "text": [
      "Epoch 1/5\n",
      "469/469 [==============================] - 5s 10ms/step - loss: 0.2597 - accuracy: 0.9246\n",
      "Epoch 2/5\n",
      "469/469 [==============================] - 5s 10ms/step - loss: 0.1059 - accuracy: 0.9689\n",
      "Epoch 3/5\n",
      "469/469 [==============================] - 5s 10ms/step - loss: 0.0690 - accuracy: 0.9796\n",
      "Epoch 4/5\n",
      "469/469 [==============================] - 4s 10ms/step - loss: 0.0505 - accuracy: 0.9849\n",
      "Epoch 5/5\n",
      "469/469 [==============================] - 4s 10ms/step - loss: 0.0385 - accuracy: 0.9886\n"
     ]
    },
    {
     "data": {
      "text/plain": [
       "<keras.callbacks.History at 0x7fa6fafb64c0>"
      ]
     },
     "execution_count": 193,
     "metadata": {},
     "output_type": "execute_result"
    }
   ],
   "source": [
    "model.fit(train_images, train_labels, epochs=5, batch_size=128)"
   ]
  },
  {
   "cell_type": "markdown",
   "id": "904b9931",
   "metadata": {},
   "source": [
    "# 텐서플로를 사용해 첫 번째 예제를 밑바닥부터 다시 구현하기\n",
    "# 단순한 Dense 클래스"
   ]
  },
  {
   "cell_type": "code",
   "execution_count": 194,
   "id": "1c7f1ba5",
   "metadata": {},
   "outputs": [],
   "source": [
    "import tensorflow as tf\n",
    "\n",
    "class NaiveDense:\n",
    "    def __init__(self, input_size, output_size, activation):\n",
    "        self.activation = activation\n",
    "\n",
    "        w_shape = (input_size, output_size)\n",
    "        w_initial_value = tf.random.uniform(w_shape, minval=0, maxval=1e-1)\n",
    "        self.W = tf.Variable(w_initial_value)\n",
    "\n",
    "        b_shape = (output_size,)\n",
    "        b_initial_value = tf.zeros(b_shape)\n",
    "        self.b = tf.Variable(b_initial_value)\n",
    "\n",
    "    def __call__(self, inputs):\n",
    "        return self.activation(tf.matmul(inputs, self.W) + self.b)\n",
    "\n",
    "    @property\n",
    "    def weights(self):\n",
    "        return [self.W, self.b]"
   ]
  },
  {
   "cell_type": "markdown",
   "id": "372c59d5",
   "metadata": {},
   "source": [
    "# 단순한 Sequential 클래스"
   ]
  },
  {
   "cell_type": "code",
   "execution_count": 195,
   "id": "d681bfc4",
   "metadata": {},
   "outputs": [],
   "source": [
    "class NaiveSequential:\n",
    "    def __init__(self, layers):\n",
    "        self.layers = layers\n",
    "\n",
    "    def __call__(self, inputs):\n",
    "        x = inputs\n",
    "        for layer in self.layers:\n",
    "           x = layer(x)\n",
    "        return x\n",
    "\n",
    "    @property\n",
    "    def weights(self):\n",
    "       weights = []\n",
    "       for layer in self.layers:\n",
    "           weights += layer.weights\n",
    "       return weights"
   ]
  },
  {
   "cell_type": "code",
   "execution_count": 196,
   "id": "5346fc32",
   "metadata": {},
   "outputs": [],
   "source": [
    "model = NaiveSequential([\n",
    "    NaiveDense(input_size=28 * 28, \n",
    "               output_size=512, \n",
    "               activation=tf.nn.relu),\n",
    "    NaiveDense(input_size=512, \n",
    "               output_size=10, \n",
    "               activation=tf.nn.softmax)\n",
    "])\n",
    "assert len(model.weights) == 4"
   ]
  },
  {
   "cell_type": "code",
   "execution_count": 197,
   "id": "ac04761d",
   "metadata": {},
   "outputs": [
    {
     "data": {
      "text/plain": [
       "__main__.NaiveDense"
      ]
     },
     "execution_count": 197,
     "metadata": {},
     "output_type": "execute_result"
    }
   ],
   "source": [
    "NaiveDense"
   ]
  },
  {
   "cell_type": "markdown",
   "id": "6bf40d02",
   "metadata": {},
   "source": [
    "# 배치 제너레이터"
   ]
  },
  {
   "cell_type": "code",
   "execution_count": 198,
   "id": "9c4c1eab",
   "metadata": {},
   "outputs": [],
   "source": [
    "import math\n",
    "\n",
    "class BatchGenerator:\n",
    "    def __init__(self, images, labels, batch_size=128):\n",
    "        assert len(images) == len(labels)\n",
    "        self.index = 0\n",
    "        self.images = images\n",
    "        self.labels = labels\n",
    "        self.batch_size = batch_size\n",
    "        self.num_batches = math.ceil(len(images) / batch_size)\n",
    "\n",
    "    def next(self):\n",
    "        images = self.images[self.index : self.index + self.batch_size]\n",
    "        labels = self.labels[self.index : self.index + self.batch_size]\n",
    "        self.index += self.batch_size\n",
    "        return images, labels"
   ]
  },
  {
   "cell_type": "markdown",
   "id": "ef6c87d0",
   "metadata": {},
   "source": [
    "# 훈련 스텝 실행하기"
   ]
  },
  {
   "cell_type": "code",
   "execution_count": 199,
   "id": "6eed35f5",
   "metadata": {},
   "outputs": [],
   "source": [
    "def one_training_step(model, images_batch, labels_batch):\n",
    "    with tf.GradientTape() as tape:\n",
    "        predictions = model(images_batch)\n",
    "        per_sample_losses = tf.keras.losses.sparse_categorical_crossentropy(\n",
    "            labels_batch, predictions)\n",
    "        average_loss = tf.reduce_mean(per_sample_losses)\n",
    "    gradients = tape.gradient(average_loss, model.weights)\n",
    "    update_weights(gradients, model.weights)\n",
    "    return average_loss"
   ]
  },
  {
   "cell_type": "code",
   "execution_count": 200,
   "id": "20016e20",
   "metadata": {},
   "outputs": [],
   "source": [
    "learning_rate = 1e-3\n",
    "\n",
    "def update_weights(gradients, weights):\n",
    "    for g, w in zip(gradients, weights):\n",
    "        w.assign_sub(g * learning_rate)"
   ]
  },
  {
   "cell_type": "code",
   "execution_count": 202,
   "id": "ca71c47d",
   "metadata": {},
   "outputs": [],
   "source": [
    "from tensorflow.keras import optimizers\n",
    "\n",
    "optimizer = optimizers.SGD(learning_rate=1e-3)\n",
    "\n",
    "def update_weights(gradients, weights):\n",
    "    optimizer.apply_gradients(zip(gradients, weights))"
   ]
  },
  {
   "cell_type": "markdown",
   "id": "a6d63bb7",
   "metadata": {},
   "source": [
    "# 전체 훈련 루프"
   ]
  },
  {
   "cell_type": "code",
   "execution_count": 203,
   "id": "c4eb5e49",
   "metadata": {},
   "outputs": [],
   "source": [
    "def fit(model, images, labels, epochs, batch_size=128):\n",
    "    for epoch_counter in range(epochs):\n",
    "        print(f\"에포크 {epoch_counter}\")\n",
    "        batch_generator = BatchGenerator(images, labels)\n",
    "        for batch_counter in range(batch_generator.num_batches):\n",
    "            images_batch, labels_batch = batch_generator.next()\n",
    "            loss = one_training_step(model, images_batch, labels_batch)\n",
    "            if batch_counter % 100 == 0:\n",
    "                print(f\"{batch_counter}번째 배치 손실: {loss:.2f}\")"
   ]
  },
  {
   "cell_type": "code",
   "execution_count": 205,
   "id": "08d24909",
   "metadata": {},
   "outputs": [
    {
     "name": "stdout",
     "output_type": "stream",
     "text": [
      "에포크 0\n",
      "0번째 배치 손실: 3.67\n",
      "100번째 배치 손실: 2.23\n",
      "200번째 배치 손실: 2.19\n",
      "300번째 배치 손실: 2.12\n",
      "400번째 배치 손실: 2.22\n",
      "에포크 1\n",
      "0번째 배치 손실: 1.92\n",
      "100번째 배치 손실: 1.87\n",
      "200번째 배치 손실: 1.80\n",
      "300번째 배치 손실: 1.73\n",
      "400번째 배치 손실: 1.83\n",
      "에포크 2\n",
      "0번째 배치 손실: 1.58\n",
      "100번째 배치 손실: 1.57\n",
      "200번째 배치 손실: 1.48\n",
      "300번째 배치 손실: 1.44\n",
      "400번째 배치 손실: 1.51\n",
      "에포크 3\n",
      "0번째 배치 손실: 1.32\n",
      "100번째 배치 손실: 1.33\n",
      "200번째 배치 손실: 1.21\n",
      "300번째 배치 손실: 1.22\n",
      "400번째 배치 손실: 1.27\n",
      "에포크 4\n",
      "0번째 배치 손실: 1.12\n",
      "100번째 배치 손실: 1.15\n",
      "200번째 배치 손실: 1.01\n",
      "300번째 배치 손실: 1.05\n",
      "400번째 배치 손실: 1.11\n",
      "에포크 5\n",
      "0번째 배치 손실: 0.97\n",
      "100번째 배치 손실: 1.01\n",
      "200번째 배치 손실: 0.88\n",
      "300번째 배치 손실: 0.93\n",
      "400번째 배치 손실: 0.99\n",
      "에포크 6\n",
      "0번째 배치 손실: 0.87\n",
      "100번째 배치 손실: 0.90\n",
      "200번째 배치 손실: 0.78\n",
      "300번째 배치 손실: 0.84\n",
      "400번째 배치 손실: 0.90\n",
      "에포크 7\n",
      "0번째 배치 손실: 0.78\n",
      "100번째 배치 손실: 0.82\n",
      "200번째 배치 손실: 0.70\n",
      "300번째 배치 손실: 0.77\n",
      "400번째 배치 손실: 0.83\n",
      "에포크 8\n",
      "0번째 배치 손실: 0.72\n",
      "100번째 배치 손실: 0.75\n",
      "200번째 배치 손실: 0.64\n",
      "300번째 배치 손실: 0.72\n",
      "400번째 배치 손실: 0.78\n",
      "에포크 9\n",
      "0번째 배치 손실: 0.67\n",
      "100번째 배치 손실: 0.70\n",
      "200번째 배치 손실: 0.59\n",
      "300번째 배치 손실: 0.67\n",
      "400번째 배치 손실: 0.74\n"
     ]
    }
   ],
   "source": [
    "from tensorflow.keras.datasets import mnist\n",
    "(train_images, train_labels), (test_images, test_labels) = mnist.load_data()\n",
    "\n",
    "train_images = train_images.reshape((60000, 28 * 28))\n",
    "train_images = train_images.astype(\"float32\") / 255\n",
    "test_images = test_images.reshape((10000, 28 * 28))\n",
    "test_images = test_images.astype(\"float32\") / 255\n",
    "\n",
    "fit(model, train_images, train_labels, epochs=10, batch_size=128)"
   ]
  },
  {
   "cell_type": "markdown",
   "id": "50c4d65d",
   "metadata": {},
   "source": [
    "# 모델 평가하기"
   ]
  },
  {
   "cell_type": "code",
   "execution_count": 210,
   "id": "31417b8c",
   "metadata": {},
   "outputs": [
    {
     "name": "stdout",
     "output_type": "stream",
     "text": [
      "tf.Tensor(\n",
      "[[8.40394199e-03 9.69019427e-04 2.59925192e-03 ... 8.67336690e-01\n",
      "  6.89561618e-03 7.62411281e-02]\n",
      " [8.79807472e-02 1.62254572e-02 3.03024083e-01 ... 1.00358308e-03\n",
      "  4.76296358e-02 2.09717569e-03]\n",
      " [3.30742425e-03 8.49774599e-01 2.60093510e-02 ... 1.18871620e-02\n",
      "  3.37779634e-02 1.17838616e-02]\n",
      " ...\n",
      " [1.02068146e-03 4.65542590e-03 1.96510484e-03 ... 3.52219418e-02\n",
      "  8.28246772e-02 3.80484402e-01]\n",
      " [7.06440508e-02 9.62926522e-02 3.30551751e-02 ... 5.22544459e-02\n",
      "  2.18403995e-01 5.48073314e-02]\n",
      " [2.20986381e-02 5.51157682e-05 1.30393775e-02 ... 5.21761904e-05\n",
      "  9.31586896e-04 9.16570367e-04]], shape=(10000, 10), dtype=float32)\n",
      "오.\n",
      "[[8.40394199e-03 9.69019427e-04 2.59925192e-03 ... 8.67336690e-01\n",
      "  6.89561618e-03 7.62411281e-02]\n",
      " [8.79807472e-02 1.62254572e-02 3.03024083e-01 ... 1.00358308e-03\n",
      "  4.76296358e-02 2.09717569e-03]\n",
      " [3.30742425e-03 8.49774599e-01 2.60093510e-02 ... 1.18871620e-02\n",
      "  3.37779634e-02 1.17838616e-02]\n",
      " ...\n",
      " [1.02068146e-03 4.65542590e-03 1.96510484e-03 ... 3.52219418e-02\n",
      "  8.28246772e-02 3.80484402e-01]\n",
      " [7.06440508e-02 9.62926522e-02 3.30551751e-02 ... 5.22544459e-02\n",
      "  2.18403995e-01 5.48073314e-02]\n",
      " [2.20986381e-02 5.51157682e-05 1.30393775e-02 ... 5.21761904e-05\n",
      "  9.31586896e-04 9.16570367e-04]]\n",
      "오..\n",
      "[7 6 1 ... 4 8 6]\n",
      "오...\n",
      "[ True False  True ...  True False  True]\n",
      "오....\n",
      "정확도: 0.8219000000\n"
     ]
    }
   ],
   "source": [
    "predictions = model(test_images)\n",
    "print(predictions)\n",
    "print(\"오.\")\n",
    "predictions = predictions.numpy()\n",
    "print(predictions)\n",
    "print(\"오..\")\n",
    "predicted_labels = np.argmax(predictions, axis=1)\n",
    "print(predicted_labels)\n",
    "print(\"오...\")\n",
    "matches = predicted_labels == test_labels\n",
    "print(matches)\n",
    "print(\"오....\")\n",
    "print(f\"정확도: {matches.mean():.10f}\")"
   ]
  },
  {
   "cell_type": "code",
   "execution_count": null,
   "id": "4265777b",
   "metadata": {},
   "outputs": [],
   "source": []
  }
 ],
 "metadata": {
  "kernelspec": {
   "display_name": "Python 3 (ipykernel)",
   "language": "python",
   "name": "python3"
  },
  "language_info": {
   "codemirror_mode": {
    "name": "ipython",
    "version": 3
   },
   "file_extension": ".py",
   "mimetype": "text/x-python",
   "name": "python",
   "nbconvert_exporter": "python",
   "pygments_lexer": "ipython3",
   "version": "3.9.7"
  }
 },
 "nbformat": 4,
 "nbformat_minor": 5
}
