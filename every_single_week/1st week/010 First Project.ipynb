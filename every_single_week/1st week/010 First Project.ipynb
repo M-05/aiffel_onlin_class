{
 "cells": [
  {
   "cell_type": "markdown",
   "id": "adb10fda",
   "metadata": {},
   "source": [
    "## 電話番号 隠すね。"
   ]
  },
  {
   "cell_type": "code",
   "execution_count": null,
   "id": "93e6d77c",
   "metadata": {},
   "outputs": [],
   "source": []
  },
  {
   "cell_type": "code",
   "execution_count": 6,
   "id": "e2a5aafa",
   "metadata": {},
   "outputs": [
    {
     "data": {
      "text/plain": [
       "7"
      ]
     },
     "execution_count": 6,
     "metadata": {},
     "output_type": "execute_result"
    }
   ],
   "source": [
    "numbers = '010-12345-23456'\n",
    "# numbers[-5:]\n",
    "numbers.index(\"4\")"
   ]
  },
  {
   "cell_type": "code",
   "execution_count": 7,
   "id": "8ae2d002",
   "metadata": {
    "scrolled": true
   },
   "outputs": [
    {
     "data": {
      "text/plain": [
       "7"
      ]
     },
     "execution_count": 7,
     "metadata": {},
     "output_type": "execute_result"
    }
   ],
   "source": [
    "numbers.index(\"2\",5)"
   ]
  },
  {
   "cell_type": "code",
   "execution_count": 16,
   "id": "f6f33e58",
   "metadata": {},
   "outputs": [
    {
     "data": {
      "text/plain": [
       "10"
      ]
     },
     "execution_count": 16,
     "metadata": {},
     "output_type": "execute_result"
    }
   ],
   "source": [
    "numbers.index(\"2\", 7)"
   ]
  },
  {
   "cell_type": "code",
   "execution_count": 15,
   "id": "bd975be2",
   "metadata": {},
   "outputs": [
    {
     "data": {
      "text/plain": [
       "'23456'"
      ]
     },
     "execution_count": 15,
     "metadata": {},
     "output_type": "execute_result"
    }
   ],
   "source": [
    "numbers[numbers.index(\"2\", 6,):]"
   ]
  },
  {
   "cell_type": "code",
   "execution_count": null,
   "id": "ec071dc5",
   "metadata": {},
   "outputs": [],
   "source": []
  },
  {
   "cell_type": "code",
   "execution_count": 10,
   "id": "818011cd",
   "metadata": {},
   "outputs": [
    {
     "data": {
      "text/plain": [
       "'5678'"
      ]
     },
     "execution_count": 10,
     "metadata": {},
     "output_type": "execute_result"
    }
   ],
   "source": [
    "numb = '010-1234-5678'\n",
    "numb[-4:]"
   ]
  },
  {
   "cell_type": "code",
   "execution_count": 11,
   "id": "112c861f",
   "metadata": {},
   "outputs": [
    {
     "data": {
      "text/plain": [
       "'010-1234-****'"
      ]
     },
     "execution_count": 11,
     "metadata": {},
     "output_type": "execute_result"
    }
   ],
   "source": [
    "numb.replace(numb[-4:], \"*\" * 4)"
   ]
  },
  {
   "cell_type": "code",
   "execution_count": 12,
   "id": "a13a9ed0",
   "metadata": {},
   "outputs": [
    {
     "data": {
      "text/plain": [
       "13"
      ]
     },
     "execution_count": 12,
     "metadata": {},
     "output_type": "execute_result"
    }
   ],
   "source": [
    "len(numb)"
   ]
  },
  {
   "cell_type": "code",
   "execution_count": 13,
   "id": "300bbeee",
   "metadata": {},
   "outputs": [
    {
     "data": {
      "text/plain": [
       "4"
      ]
     },
     "execution_count": 13,
     "metadata": {},
     "output_type": "execute_result"
    }
   ],
   "source": [
    "len(numb[-4:])"
   ]
  },
  {
   "cell_type": "code",
   "execution_count": 14,
   "id": "15c06767",
   "metadata": {},
   "outputs": [
    {
     "data": {
      "text/plain": [
       "'010-1234-****'"
      ]
     },
     "execution_count": 14,
     "metadata": {},
     "output_type": "execute_result"
    }
   ],
   "source": [
    "numb.replace(numb[-4:], \"*\" * len(numb[-4:]))"
   ]
  },
  {
   "cell_type": "code",
   "execution_count": 10,
   "id": "61853897",
   "metadata": {},
   "outputs": [
    {
     "data": {
      "text/plain": [
       "9"
      ]
     },
     "execution_count": 10,
     "metadata": {},
     "output_type": "execute_result"
    }
   ],
   "source": [
    "#find(value, start, end)\n",
    "#If not found, it will return -1.\n",
    "numb.find('5')"
   ]
  },
  {
   "cell_type": "code",
   "execution_count": 14,
   "id": "2be911c6",
   "metadata": {},
   "outputs": [
    {
     "name": "stdout",
     "output_type": "stream",
     "text": [
      "5\n"
     ]
    }
   ],
   "source": [
    "a = numb.find('5') - len(numb[-4:])\n",
    "print(a)"
   ]
  },
  {
   "cell_type": "markdown",
   "id": "8f509ccd",
   "metadata": {},
   "source": [
    "## プロジェクト 1"
   ]
  },
  {
   "cell_type": "code",
   "execution_count": 15,
   "id": "f381e62e",
   "metadata": {},
   "outputs": [],
   "source": [
    "def change_num(nums):\n",
    "    answer = nums.replace(nums[-5:], '%' * len(nums[-5:]))\n",
    "    return answer"
   ]
  },
  {
   "cell_type": "code",
   "execution_count": 16,
   "id": "89afa16f",
   "metadata": {},
   "outputs": [
    {
     "data": {
      "text/plain": [
       "'010-98765-%%%%%'"
      ]
     },
     "execution_count": 16,
     "metadata": {},
     "output_type": "execute_result"
    }
   ],
   "source": [
    "change_num(\"010-98765-87654\")"
   ]
  },
  {
   "cell_type": "code",
   "execution_count": 18,
   "id": "c9c31a8d",
   "metadata": {},
   "outputs": [
    {
     "ename": "NameError",
     "evalue": "name 'answer' is not defined",
     "output_type": "error",
     "traceback": [
      "\u001b[0;31m---------------------------------------------------------------------------\u001b[0m",
      "\u001b[0;31mNameError\u001b[0m                                 Traceback (most recent call last)",
      "\u001b[0;32m/tmp/ipykernel_31/2841501080.py\u001b[0m in \u001b[0;36m<module>\u001b[0;34m\u001b[0m\n\u001b[0;32m----> 1\u001b[0;31m \u001b[0mprint\u001b[0m\u001b[0;34m(\u001b[0m\u001b[0manswer\u001b[0m\u001b[0;34m)\u001b[0m\u001b[0;34m\u001b[0m\u001b[0;34m\u001b[0m\u001b[0m\n\u001b[0m",
      "\u001b[0;31mNameError\u001b[0m: name 'answer' is not defined"
     ]
    }
   ],
   "source": [
    "# 해당 함수를 건드릴 때만 해당 함수의 return 값이 표시가 된다?!\n",
    "print(answer)"
   ]
  },
  {
   "cell_type": "markdown",
   "id": "d2b6e389",
   "metadata": {},
   "source": [
    "## 리스트 평탄화"
   ]
  },
  {
   "cell_type": "code",
   "execution_count": 19,
   "id": "8dcf93d6",
   "metadata": {},
   "outputs": [
    {
     "name": "stdout",
     "output_type": "stream",
     "text": [
      "[1, 2]\n",
      "3\n",
      "[[4, 5, 6], 7]\n",
      "8\n",
      "9\n"
     ]
    }
   ],
   "source": [
    "overlap = [[1, 2], 3, [[4, 5, 6], 7], 8, 9]\n",
    "\n",
    "for plz in overlap:\n",
    "    print(plz)"
   ]
  },
  {
   "cell_type": "code",
   "execution_count": 23,
   "id": "1a333495",
   "metadata": {},
   "outputs": [
    {
     "ename": "TypeError",
     "evalue": "'int' object is not iterable",
     "output_type": "error",
     "traceback": [
      "\u001b[0;31m---------------------------------------------------------------------------\u001b[0m",
      "\u001b[0;31mTypeError\u001b[0m                                 Traceback (most recent call last)",
      "\u001b[0;32m/tmp/ipykernel_31/1227419162.py\u001b[0m in \u001b[0;36m<module>\u001b[0;34m\u001b[0m\n\u001b[1;32m      2\u001b[0m \u001b[0;34m\u001b[0m\u001b[0m\n\u001b[1;32m      3\u001b[0m \u001b[0;32mfor\u001b[0m \u001b[0mplz\u001b[0m \u001b[0;32min\u001b[0m \u001b[0moverlap\u001b[0m\u001b[0;34m:\u001b[0m\u001b[0;34m\u001b[0m\u001b[0;34m\u001b[0m\u001b[0m\n\u001b[0;32m----> 4\u001b[0;31m     \u001b[0m완성\u001b[0m \u001b[0;34m+=\u001b[0m \u001b[0mplz\u001b[0m\u001b[0;34m\u001b[0m\u001b[0;34m\u001b[0m\u001b[0m\n\u001b[0m\u001b[1;32m      5\u001b[0m \u001b[0m완성\u001b[0m\u001b[0;34m\u001b[0m\u001b[0;34m\u001b[0m\u001b[0m\n",
      "\u001b[0;31mTypeError\u001b[0m: 'int' object is not iterable"
     ]
    }
   ],
   "source": [
    "완성 = []\n",
    "\n",
    "for plz in overlap:\n",
    "    완성 += plz\n",
    "완성"
   ]
  },
  {
   "cell_type": "code",
   "execution_count": 24,
   "id": "9482c5cb",
   "metadata": {},
   "outputs": [
    {
     "ename": "TypeError",
     "evalue": "can only concatenate list (not \"int\") to list",
     "output_type": "error",
     "traceback": [
      "\u001b[0;31m---------------------------------------------------------------------------\u001b[0m",
      "\u001b[0;31mTypeError\u001b[0m                                 Traceback (most recent call last)",
      "\u001b[0;32m/tmp/ipykernel_31/3924760754.py\u001b[0m in \u001b[0;36m<module>\u001b[0;34m\u001b[0m\n\u001b[1;32m      2\u001b[0m \u001b[0;34m\u001b[0m\u001b[0m\n\u001b[1;32m      3\u001b[0m \u001b[0;32mfor\u001b[0m \u001b[0mplz\u001b[0m \u001b[0;32min\u001b[0m \u001b[0moverlap\u001b[0m\u001b[0;34m:\u001b[0m\u001b[0;34m\u001b[0m\u001b[0;34m\u001b[0m\u001b[0m\n\u001b[0;32m----> 4\u001b[0;31m     \u001b[0m완성\u001b[0m \u001b[0;34m=\u001b[0m \u001b[0m완성\u001b[0m \u001b[0;34m+\u001b[0m \u001b[0mplz\u001b[0m\u001b[0;34m\u001b[0m\u001b[0;34m\u001b[0m\u001b[0m\n\u001b[0m\u001b[1;32m      5\u001b[0m \u001b[0m완성\u001b[0m\u001b[0;34m\u001b[0m\u001b[0;34m\u001b[0m\u001b[0m\n",
      "\u001b[0;31mTypeError\u001b[0m: can only concatenate list (not \"int\") to list"
     ]
    }
   ],
   "source": [
    "완성 = []\n",
    "\n",
    "for plz in overlap:\n",
    "    완성 = 완성 + plz\n",
    "완성\n",
    "#can only concatenate list (not \"int\") to list"
   ]
  },
  {
   "cell_type": "code",
   "execution_count": 27,
   "id": "273ec7ab",
   "metadata": {},
   "outputs": [
    {
     "ename": "AttributeError",
     "evalue": "'int' object has no attribute 'append'",
     "output_type": "error",
     "traceback": [
      "\u001b[0;31m---------------------------------------------------------------------------\u001b[0m",
      "\u001b[0;31mAttributeError\u001b[0m                            Traceback (most recent call last)",
      "\u001b[0;32m/tmp/ipykernel_31/3966045551.py\u001b[0m in \u001b[0;36m<module>\u001b[0;34m\u001b[0m\n\u001b[1;32m      5\u001b[0m         \u001b[0m완성\u001b[0m \u001b[0;34m+=\u001b[0m \u001b[0mplz\u001b[0m\u001b[0;34m\u001b[0m\u001b[0;34m\u001b[0m\u001b[0m\n\u001b[1;32m      6\u001b[0m     \u001b[0;32melse\u001b[0m\u001b[0;34m:\u001b[0m\u001b[0;34m\u001b[0m\u001b[0;34m\u001b[0m\u001b[0m\n\u001b[0;32m----> 7\u001b[0;31m         \u001b[0mplz\u001b[0m\u001b[0;34m.\u001b[0m\u001b[0mappend\u001b[0m\u001b[0;34m(\u001b[0m\u001b[0;34m)\u001b[0m\u001b[0;34m\u001b[0m\u001b[0;34m\u001b[0m\u001b[0m\n\u001b[0m\u001b[1;32m      8\u001b[0m \u001b[0m완성\u001b[0m\u001b[0;34m\u001b[0m\u001b[0;34m\u001b[0m\u001b[0m\n",
      "\u001b[0;31mAttributeError\u001b[0m: 'int' object has no attribute 'append'"
     ]
    }
   ],
   "source": [
    "완성 = []\n",
    "\n",
    "for plz in overlap:\n",
    "    if type(plz) is list:\n",
    "        완성 += plz\n",
    "    else:\n",
    "        plz.append()\n",
    "완성"
   ]
  },
  {
   "cell_type": "code",
   "execution_count": 30,
   "id": "a9816321",
   "metadata": {},
   "outputs": [
    {
     "data": {
      "text/plain": [
       "[1, 2, 3, [4, 5, 6], 7, 8, 9]"
      ]
     },
     "execution_count": 30,
     "metadata": {},
     "output_type": "execute_result"
    }
   ],
   "source": [
    "완성 = []\n",
    "\n",
    "for plz in overlap:\n",
    "    if type(plz) is list:\n",
    "        완성 += plz\n",
    "    else:\n",
    "        완성.append(plz)\n",
    "완성"
   ]
  },
  {
   "cell_type": "code",
   "execution_count": 31,
   "id": "d9a4e3c5",
   "metadata": {},
   "outputs": [
    {
     "name": "stdout",
     "output_type": "stream",
     "text": [
      "9\n"
     ]
    }
   ],
   "source": [
    "print(plz)"
   ]
  },
  {
   "cell_type": "code",
   "execution_count": 32,
   "id": "327e5f1d",
   "metadata": {},
   "outputs": [
    {
     "name": "stdout",
     "output_type": "stream",
     "text": [
      "[[1, 2], 3, [[4, 5, 6], 7], 8, 9]\n"
     ]
    }
   ],
   "source": [
    "print(overlap)"
   ]
  },
  {
   "cell_type": "code",
   "execution_count": 35,
   "id": "2638e442",
   "metadata": {},
   "outputs": [
    {
     "ename": "IndentationError",
     "evalue": "expected an indented block (3924043508.py, line 7)",
     "output_type": "error",
     "traceback": [
      "\u001b[0;36m  File \u001b[0;32m\"/tmp/ipykernel_31/3924043508.py\"\u001b[0;36m, line \u001b[0;32m7\u001b[0m\n\u001b[0;31m    elif type(plz) == list:\u001b[0m\n\u001b[0m    ^\u001b[0m\n\u001b[0;31mIndentationError\u001b[0m\u001b[0;31m:\u001b[0m expected an indented block\n"
     ]
    }
   ],
   "source": [
    "완성 = []\n",
    "\n",
    "for plz in overlap:\n",
    "    if type(plz) is list:\n",
    "        완성 += plz\n",
    "        for plzz in plz:\n",
    "    elif type(plz) == list:\n",
    "        완성 == plz\n",
    "    else:\n",
    "        완성.append(plz)\n",
    "완성"
   ]
  },
  {
   "cell_type": "code",
   "execution_count": 36,
   "id": "8cfaa6f7",
   "metadata": {},
   "outputs": [
    {
     "data": {
      "text/plain": [
       "[1, 2, 3, [4, 5, 6], 7, 8, 9]"
      ]
     },
     "execution_count": 36,
     "metadata": {},
     "output_type": "execute_result"
    }
   ],
   "source": [
    "완성"
   ]
  },
  {
   "cell_type": "code",
   "execution_count": 38,
   "id": "5e20a746",
   "metadata": {},
   "outputs": [
    {
     "ename": "TypeError",
     "evalue": "'int' object is not iterable",
     "output_type": "error",
     "traceback": [
      "\u001b[0;31m---------------------------------------------------------------------------\u001b[0m",
      "\u001b[0;31mTypeError\u001b[0m                                 Traceback (most recent call last)",
      "\u001b[0;32m/tmp/ipykernel_31/2697985251.py\u001b[0m in \u001b[0;36m<module>\u001b[0;34m\u001b[0m\n\u001b[1;32m      3\u001b[0m \u001b[0;32mfor\u001b[0m \u001b[0mplzzz\u001b[0m \u001b[0;32min\u001b[0m \u001b[0m완성\u001b[0m\u001b[0;34m:\u001b[0m\u001b[0;34m\u001b[0m\u001b[0;34m\u001b[0m\u001b[0m\n\u001b[1;32m      4\u001b[0m     \u001b[0;32mif\u001b[0m \u001b[0mtype\u001b[0m\u001b[0;34m(\u001b[0m\u001b[0m완성\u001b[0m\u001b[0;34m)\u001b[0m \u001b[0;32mis\u001b[0m \u001b[0mlist\u001b[0m\u001b[0;34m:\u001b[0m\u001b[0;34m\u001b[0m\u001b[0;34m\u001b[0m\u001b[0m\n\u001b[0;32m----> 5\u001b[0;31m         \u001b[0m찐_완성\u001b[0m \u001b[0;34m+=\u001b[0m \u001b[0mplzzz\u001b[0m\u001b[0;34m\u001b[0m\u001b[0;34m\u001b[0m\u001b[0m\n\u001b[0m\u001b[1;32m      6\u001b[0m     \u001b[0;32melse\u001b[0m\u001b[0;34m:\u001b[0m\u001b[0;34m\u001b[0m\u001b[0;34m\u001b[0m\u001b[0m\n\u001b[1;32m      7\u001b[0m         \u001b[0m찐_완성\u001b[0m\u001b[0;34m.\u001b[0m\u001b[0mappend\u001b[0m\u001b[0;34m(\u001b[0m\u001b[0mplzzz\u001b[0m\u001b[0;34m)\u001b[0m\u001b[0;34m\u001b[0m\u001b[0;34m\u001b[0m\u001b[0m\n",
      "\u001b[0;31mTypeError\u001b[0m: 'int' object is not iterable"
     ]
    }
   ],
   "source": [
    "찐_완성 = []\n",
    "\n",
    "for plzzz in 완성:\n",
    "    if type(완성) is list:\n",
    "        찐_완성 += plzzz\n",
    "    else:\n",
    "        찐_완성.append(plzzz)\n",
    "print(찐_완성)"
   ]
  },
  {
   "cell_type": "code",
   "execution_count": 39,
   "id": "bf5787df",
   "metadata": {},
   "outputs": [
    {
     "ename": "TypeError",
     "evalue": "can only concatenate list (not \"int\") to list",
     "output_type": "error",
     "traceback": [
      "\u001b[0;31m---------------------------------------------------------------------------\u001b[0m",
      "\u001b[0;31mTypeError\u001b[0m                                 Traceback (most recent call last)",
      "\u001b[0;32m/tmp/ipykernel_31/1625635251.py\u001b[0m in \u001b[0;36m<module>\u001b[0;34m\u001b[0m\n\u001b[1;32m      3\u001b[0m \u001b[0;32mfor\u001b[0m \u001b[0mplzzz\u001b[0m \u001b[0;32min\u001b[0m \u001b[0m완성\u001b[0m\u001b[0;34m:\u001b[0m\u001b[0;34m\u001b[0m\u001b[0;34m\u001b[0m\u001b[0m\n\u001b[1;32m      4\u001b[0m     \u001b[0;32mif\u001b[0m \u001b[0mtype\u001b[0m\u001b[0;34m(\u001b[0m\u001b[0m완성\u001b[0m\u001b[0;34m)\u001b[0m \u001b[0;32mis\u001b[0m \u001b[0mlist\u001b[0m\u001b[0;34m:\u001b[0m\u001b[0;34m\u001b[0m\u001b[0;34m\u001b[0m\u001b[0m\n\u001b[0;32m----> 5\u001b[0;31m         \u001b[0m찐_완성\u001b[0m \u001b[0;34m=\u001b[0m \u001b[0m찐_완성\u001b[0m \u001b[0;34m+\u001b[0m \u001b[0mplzzz\u001b[0m\u001b[0;34m\u001b[0m\u001b[0;34m\u001b[0m\u001b[0m\n\u001b[0m\u001b[1;32m      6\u001b[0m     \u001b[0;32melse\u001b[0m\u001b[0;34m:\u001b[0m\u001b[0;34m\u001b[0m\u001b[0;34m\u001b[0m\u001b[0m\n\u001b[1;32m      7\u001b[0m         \u001b[0m찐_완성\u001b[0m\u001b[0;34m.\u001b[0m\u001b[0mappend\u001b[0m\u001b[0;34m(\u001b[0m\u001b[0mplzzz\u001b[0m\u001b[0;34m)\u001b[0m\u001b[0;34m\u001b[0m\u001b[0;34m\u001b[0m\u001b[0m\n",
      "\u001b[0;31mTypeError\u001b[0m: can only concatenate list (not \"int\") to list"
     ]
    }
   ],
   "source": [
    "찐_완성 = []\n",
    "\n",
    "for plzzz in 완성:\n",
    "    if type(완성) is list:\n",
    "        찐_완성 = 찐_완성 + plzzz\n",
    "    else:\n",
    "        찐_완성.append(plzzz)\n",
    "print(찐_완성)"
   ]
  },
  {
   "cell_type": "code",
   "execution_count": 40,
   "id": "4eb6a40b",
   "metadata": {},
   "outputs": [
    {
     "name": "stdout",
     "output_type": "stream",
     "text": [
      "[1, 2, 3, 4, 5, 6, 7, 8, 9]\n"
     ]
    }
   ],
   "source": [
    "찐_완성 = []\n",
    "\n",
    "for plzzz in 완성:\n",
    "    if type(plzzz) is list:\n",
    "        찐_완성 = 찐_완성 + plzzz\n",
    "    else:\n",
    "        찐_완성.append(plzzz)\n",
    "print(찐_완성)"
   ]
  },
  {
   "cell_type": "markdown",
   "id": "9006d22b",
   "metadata": {},
   "source": [
    "### プロジェット ２"
   ]
  },
  {
   "cell_type": "code",
   "execution_count": 42,
   "id": "46d5edf6",
   "metadata": {},
   "outputs": [],
   "source": [
    "def flatten(data):\n",
    "    output = []  # 빈 리스트를 만듭니다.\n",
    "    for i in data:\n",
    "        if type(i) is list:\n",
    "            output += i\n",
    "        else:\n",
    "            output.append(i)\n",
    "    return output"
   ]
  },
  {
   "cell_type": "code",
   "execution_count": 43,
   "id": "8ef5a9bb",
   "metadata": {},
   "outputs": [
    {
     "data": {
      "text/plain": [
       "[1, 2, 3, [4, 5, 6], 7, 8, 9]"
      ]
     },
     "execution_count": 43,
     "metadata": {},
     "output_type": "execute_result"
    }
   ],
   "source": [
    "a = [[1, 2], 3, [[4, 5, 6], 7], 8, 9]\n",
    "flatten(a)"
   ]
  },
  {
   "cell_type": "code",
   "execution_count": 44,
   "id": "e0fb3366",
   "metadata": {},
   "outputs": [],
   "source": [
    "def flatten(data):\n",
    "    output = []  # 빈 리스트를 만듭니다.\n",
    "    for i in data:\n",
    "        if type(i) is list:\n",
    "            output += flatten(i)\n",
    "        else:\n",
    "            output.append(i)\n",
    "    return output"
   ]
  },
  {
   "cell_type": "code",
   "execution_count": 45,
   "id": "43883ee1",
   "metadata": {},
   "outputs": [
    {
     "data": {
      "text/plain": [
       "[1, 2, 3, 4, 5, 6, 7, 8, 9]"
      ]
     },
     "execution_count": 45,
     "metadata": {},
     "output_type": "execute_result"
    }
   ],
   "source": [
    "a = [[1, 2], 3, [[4, 5, 6], 7], 8, 9]\n",
    "flatten(a)"
   ]
  },
  {
   "cell_type": "markdown",
   "id": "22c71c5f",
   "metadata": {},
   "source": [
    "## 10以下の数字の掛け算"
   ]
  },
  {
   "cell_type": "code",
   "execution_count": 46,
   "id": "7d179f47",
   "metadata": {},
   "outputs": [
    {
     "ename": "SyntaxError",
     "evalue": "invalid syntax (327389315.py, line 2)",
     "output_type": "error",
     "traceback": [
      "\u001b[0;36m  File \u001b[0;32m\"/tmp/ipykernel_31/327389315.py\"\u001b[0;36m, line \u001b[0;32m2\u001b[0m\n\u001b[0;31m    if x and y =< 10:\u001b[0m\n\u001b[0m               ^\u001b[0m\n\u001b[0;31mSyntaxError\u001b[0m\u001b[0;31m:\u001b[0m invalid syntax\n"
     ]
    }
   ],
   "source": [
    "def int_divider(x, y):\n",
    "    if x and y =< 10:\n",
    "        return x / y\n",
    "    else:\n",
    "        print(\"10이하의 정수가 아니라구! 냥!\")"
   ]
  },
  {
   "cell_type": "code",
   "execution_count": 47,
   "id": "a413eb9e",
   "metadata": {},
   "outputs": [],
   "source": [
    "def int_divider(x, y):\n",
    "    if x and y <= 10:\n",
    "        return x / y\n",
    "    else:\n",
    "        print(\"10이하의 정수가 아니라구! 냥!\")"
   ]
  },
  {
   "cell_type": "code",
   "execution_count": 49,
   "id": "3065b395",
   "metadata": {},
   "outputs": [
    {
     "name": "stdout",
     "output_type": "stream",
     "text": [
      "3.3333333333333335\n",
      "-1.1111111111111112\n",
      "3.0\n"
     ]
    }
   ],
   "source": [
    "print(int_divider(10,3))\n",
    "print(int_divider(-1, 0.9))\n",
    "print(int_divider(6.0, 2))"
   ]
  },
  {
   "cell_type": "code",
   "execution_count": 62,
   "id": "bcc2906e",
   "metadata": {},
   "outputs": [],
   "source": [
    "def int_mul(x, y):\n",
    "    if x and y <= 10:\n",
    "        return x * y\n",
    "    else:\n",
    "        print(\"입력해둔 {},{}는 10이하의 정수가 아니라구! 냥!\".format(x,y))"
   ]
  },
  {
   "cell_type": "code",
   "execution_count": 63,
   "id": "5937655a",
   "metadata": {},
   "outputs": [
    {
     "name": "stdout",
     "output_type": "stream",
     "text": [
      "30\n",
      "-0.9\n",
      "12.0\n",
      "입력해둔 11,11는 10이하의 정수가 아니라구! 냥!\n",
      "None\n"
     ]
    }
   ],
   "source": [
    "print(int_mul(10,3))\n",
    "print(int_mul(-1, 0.9))\n",
    "print(int_mul(6.0, 2))\n",
    "print(int_mul(11,11))"
   ]
  },
  {
   "cell_type": "code",
   "execution_count": 53,
   "id": "5f0fc8da",
   "metadata": {
    "scrolled": false
   },
   "outputs": [
    {
     "ename": "SyntaxError",
     "evalue": "invalid syntax (3852543248.py, line 5)",
     "output_type": "error",
     "traceback": [
      "\u001b[0;36m  File \u001b[0;32m\"/tmp/ipykernel_31/3852543248.py\"\u001b[0;36m, line \u001b[0;32m5\u001b[0m\n\u001b[0;31m    return output *= i\u001b[0m\n\u001b[0m                  ^\u001b[0m\n\u001b[0;31mSyntaxError\u001b[0m\u001b[0;31m:\u001b[0m invalid syntax\n"
     ]
    }
   ],
   "source": [
    "def mul(*values):\n",
    "    output = 1\n",
    "    for i in values:\n",
    "        if i <= 10:\n",
    "            return output *= i\n",
    "        else:\n",
    "            pass\n",
    "            print(\"또 너냐 냥! 10이하 정수만 입력해두라구 냥!\")"
   ]
  },
  {
   "cell_type": "code",
   "execution_count": 54,
   "id": "8807852a",
   "metadata": {},
   "outputs": [],
   "source": [
    "def mul(*values):\n",
    "    output = 1\n",
    "    for i in values:\n",
    "        if i <= 10:\n",
    "            output *= i\n",
    "        else:\n",
    "            pass\n",
    "            print(\"또 너냐 냥! 10이하 정수만 입력해두라구 냥!\")\n",
    "    return"
   ]
  },
  {
   "cell_type": "code",
   "execution_count": 57,
   "id": "336012d6",
   "metadata": {},
   "outputs": [
    {
     "name": "stdout",
     "output_type": "stream",
     "text": [
      "또 너냐 냥! 10이하 정수만 입력해두라구 냥!\n",
      "또 너냐 냥! 10이하 정수만 입력해두라구 냥!\n"
     ]
    }
   ],
   "source": [
    "mul(4, 10, 11, 100)"
   ]
  },
  {
   "cell_type": "code",
   "execution_count": 18,
   "id": "0e4d0255",
   "metadata": {},
   "outputs": [],
   "source": [
    "def mul(*values):\n",
    "    output = 1\n",
    "    for i in values:\n",
    "        if i <= 10:\n",
    "            output *= i\n",
    "        else:\n",
    "            pass\n",
    "            print(\"또 너냐 냥! 10이하 정수만 입력해두라구 냥!\")\n",
    "    return output"
   ]
  },
  {
   "cell_type": "code",
   "execution_count": 8,
   "id": "00fc0ca7",
   "metadata": {},
   "outputs": [
    {
     "name": "stdout",
     "output_type": "stream",
     "text": [
      "또 너냐 냥! 10이하 정수만 입력해두라구 냥!\n",
      "또 너냐 냥! 10이하 정수만 입력해두라구 냥!\n",
      "40\n",
      "120\n",
      "3840\n"
     ]
    }
   ],
   "source": [
    "print(mul(4, 10, 11, 100))\n",
    "print(mul(1, 2, 3, 4, 5))\n",
    "print(mul(2, 4, 6, 8, 10))"
   ]
  },
  {
   "cell_type": "code",
   "execution_count": 20,
   "id": "a02b3d0a",
   "metadata": {},
   "outputs": [
    {
     "name": "stdout",
     "output_type": "stream",
     "text": [
      "또 너냐 냥! 10이하 정수만 입력해두라구 냥!\n",
      "또 너냐 냥! 10이하 정수만 입력해두라구 냥!\n",
      "40\n",
      "\n",
      "120\n",
      "\n",
      "-3840\n"
     ]
    }
   ],
   "source": [
    "print(mul(4, 10, 11, 100))\n",
    "print()\n",
    "print(mul(1, 2, 3, 4, 5))\n",
    "print()\n",
    "print(mul(-1, 2, 4, 6, 8, 10))"
   ]
  },
  {
   "cell_type": "code",
   "execution_count": null,
   "id": "65e4a506",
   "metadata": {},
   "outputs": [],
   "source": []
  }
 ],
 "metadata": {
  "kernelspec": {
   "display_name": "Python 3 (ipykernel)",
   "language": "python",
   "name": "python3"
  },
  "language_info": {
   "codemirror_mode": {
    "name": "ipython",
    "version": 3
   },
   "file_extension": ".py",
   "mimetype": "text/x-python",
   "name": "python",
   "nbconvert_exporter": "python",
   "pygments_lexer": "ipython3",
   "version": "3.9.7"
  }
 },
 "nbformat": 4,
 "nbformat_minor": 5
}
