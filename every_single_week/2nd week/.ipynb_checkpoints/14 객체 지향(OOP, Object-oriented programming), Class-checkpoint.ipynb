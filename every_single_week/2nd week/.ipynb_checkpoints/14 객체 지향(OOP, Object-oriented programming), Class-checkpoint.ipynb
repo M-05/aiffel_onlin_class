{
 "cells": [
  {
   "cell_type": "code",
   "execution_count": 6,
   "id": "5edc25db",
   "metadata": {},
   "outputs": [],
   "source": [
    "#class 속성 = attribute 는 상태 = state로 표현. attribute = 속성은 변수로 나타낸다.\n",
    "#속성 ?= 자질 ?= 독립체\n",
    "class Car:\n",
    "    colour = 'red'\n",
    "    category = 'sports car'\n",
    "    \n",
    "#동작 = behavior 은 method = def    \n",
    "    def drive(self):\n",
    "#drive method\n",
    "        print(\"I'm driving\")\n",
    "        \n",
    "    def accel(self, speed_up, cnt_speed = 10): # 가속(str), 현재 속도(str)\n",
    "#accel method\n",
    "        self.speed_up = speed_up\n",
    "        self.cnt_speed = cnt_speed + speed_up\n",
    "        print(\"speed up\", self.speed_up, \"driving at\", self.cnt_speed)"
   ]
  },
  {
   "cell_type": "code",
   "execution_count": 25,
   "id": "5878bbcd",
   "metadata": {},
   "outputs": [
    {
     "name": "stdout",
     "output_type": "stream",
     "text": [
      "red\n"
     ]
    }
   ],
   "source": [
    "# mycar = Car  --> mycar.drive() 하면, TypeError.\n",
    "mycar = Car()\n",
    "print(mycar.colour)"
   ]
  },
  {
   "cell_type": "code",
   "execution_count": 17,
   "id": "764f20ed",
   "metadata": {},
   "outputs": [
    {
     "ename": "AttributeError",
     "evalue": "type object 'Car' has no attribute 'price'",
     "output_type": "error",
     "traceback": [
      "\u001b[0;31m---------------------------------------------------------------------------\u001b[0m",
      "\u001b[0;31mAttributeError\u001b[0m                            Traceback (most recent call last)",
      "\u001b[0;32m/tmp/ipykernel_31/4236691067.py\u001b[0m in \u001b[0;36m<module>\u001b[0;34m\u001b[0m\n\u001b[0;32m----> 1\u001b[0;31m \u001b[0mmycar\u001b[0m\u001b[0;34m.\u001b[0m\u001b[0mprice\u001b[0m\u001b[0;34m\u001b[0m\u001b[0;34m\u001b[0m\u001b[0m\n\u001b[0m",
      "\u001b[0;31mAttributeError\u001b[0m: type object 'Car' has no attribute 'price'"
     ]
    }
   ],
   "source": [
    "mycar.price"
   ]
  },
  {
   "cell_type": "code",
   "execution_count": 40,
   "id": "d27b943d",
   "metadata": {},
   "outputs": [
    {
     "name": "stdout",
     "output_type": "stream",
     "text": [
      "speed up 55 driving at 140\n"
     ]
    }
   ],
   "source": [
    "#mycar.accel(self, speed_up = 55, cnt_speed = 105) -> NameError : name self is not defined\n",
    "#mycar.accel(speed_up = 55, cnt_speed = 105) # 동작\n",
    "mycar.accel(55, 85) # 동작"
   ]
  },
  {
   "cell_type": "code",
   "execution_count": 37,
   "id": "88af12ab",
   "metadata": {},
   "outputs": [
    {
     "name": "stdout",
     "output_type": "stream",
     "text": [
      "I'm driving\n"
     ]
    }
   ],
   "source": [
    "#mycar = Car -> mycar.drive(mycar[self]) -> print(\"I'm driving\") \n",
    "Car.drive(mycar)"
   ]
  },
  {
   "cell_type": "code",
   "execution_count": null,
   "id": "56689931",
   "metadata": {},
   "outputs": [],
   "source": [
    "\n"
   ]
  },
  {
   "cell_type": "code",
   "execution_count": 41,
   "id": "78e9357f",
   "metadata": {},
   "outputs": [],
   "source": [
    "class Test:\n",
    "    def run1(self):\n",
    "        print(\"ruuuun!111\")\n",
    "        \n",
    "    def run2():\n",
    "        print(\"ruuuun!222\")\n",
    "        \n",
    "t = Test()"
   ]
  },
  {
   "cell_type": "code",
   "execution_count": 42,
   "id": "5fae60e4",
   "metadata": {},
   "outputs": [
    {
     "name": "stdout",
     "output_type": "stream",
     "text": [
      "ruuuun!111\n"
     ]
    }
   ],
   "source": [
    "t.run1()"
   ]
  },
  {
   "cell_type": "code",
   "execution_count": 45,
   "id": "aa0e4df3",
   "metadata": {},
   "outputs": [
    {
     "ename": "TypeError",
     "evalue": "run2() takes 0 positional arguments but 1 was given",
     "output_type": "error",
     "traceback": [
      "\u001b[0;31m---------------------------------------------------------------------------\u001b[0m",
      "\u001b[0;31mTypeError\u001b[0m                                 Traceback (most recent call last)",
      "\u001b[0;32m/tmp/ipykernel_31/2830249385.py\u001b[0m in \u001b[0;36m<module>\u001b[0;34m\u001b[0m\n\u001b[0;32m----> 1\u001b[0;31m \u001b[0mt\u001b[0m\u001b[0;34m.\u001b[0m\u001b[0mrun2\u001b[0m\u001b[0;34m(\u001b[0m\u001b[0;34m)\u001b[0m\u001b[0;34m\u001b[0m\u001b[0;34m\u001b[0m\u001b[0m\n\u001b[0m",
      "\u001b[0;31mTypeError\u001b[0m: run2() takes 0 positional arguments but 1 was given"
     ]
    }
   ],
   "source": [
    "t.run2()"
   ]
  },
  {
   "cell_type": "code",
   "execution_count": 56,
   "id": "a56f452e",
   "metadata": {},
   "outputs": [],
   "source": [
    "class Test2:\n",
    "    def run1(self, a):\n",
    "#self.a        \n",
    "        self.a = float(a) * 10\n",
    "        print(self.a)\n",
    "        \n",
    "    def run2(self, b):\n",
    "#self.b로 하면 작동\n",
    "        b = float(b) + 10\n",
    "        print(self.b)\n",
    "        \n",
    "t = Test2()"
   ]
  },
  {
   "cell_type": "code",
   "execution_count": 50,
   "id": "fbcbce2a",
   "metadata": {},
   "outputs": [
    {
     "name": "stdout",
     "output_type": "stream",
     "text": [
      "15.0\n"
     ]
    }
   ],
   "source": [
    "t.run1(1.5)"
   ]
  },
  {
   "cell_type": "code",
   "execution_count": 57,
   "id": "37f7b0ee",
   "metadata": {
    "scrolled": true
   },
   "outputs": [
    {
     "ename": "AttributeError",
     "evalue": "'Test2' object has no attribute 'b'",
     "output_type": "error",
     "traceback": [
      "\u001b[0;31m---------------------------------------------------------------------------\u001b[0m",
      "\u001b[0;31mAttributeError\u001b[0m                            Traceback (most recent call last)",
      "\u001b[0;32m/tmp/ipykernel_31/3249229194.py\u001b[0m in \u001b[0;36m<module>\u001b[0;34m\u001b[0m\n\u001b[0;32m----> 1\u001b[0;31m \u001b[0mt\u001b[0m\u001b[0;34m.\u001b[0m\u001b[0mrun2\u001b[0m\u001b[0;34m(\u001b[0m\u001b[0mb\u001b[0m \u001b[0;34m=\u001b[0m \u001b[0;36m2.5\u001b[0m\u001b[0;34m)\u001b[0m\u001b[0;34m\u001b[0m\u001b[0;34m\u001b[0m\u001b[0m\n\u001b[0m",
      "\u001b[0;32m/tmp/ipykernel_31/742310539.py\u001b[0m in \u001b[0;36mrun2\u001b[0;34m(self, b)\u001b[0m\n\u001b[1;32m      6\u001b[0m     \u001b[0;32mdef\u001b[0m \u001b[0mrun2\u001b[0m\u001b[0;34m(\u001b[0m\u001b[0mself\u001b[0m\u001b[0;34m,\u001b[0m \u001b[0mb\u001b[0m\u001b[0;34m)\u001b[0m\u001b[0;34m:\u001b[0m\u001b[0;34m\u001b[0m\u001b[0;34m\u001b[0m\u001b[0m\n\u001b[1;32m      7\u001b[0m         \u001b[0mb\u001b[0m \u001b[0;34m=\u001b[0m \u001b[0mfloat\u001b[0m\u001b[0;34m(\u001b[0m\u001b[0mb\u001b[0m\u001b[0;34m)\u001b[0m \u001b[0;34m+\u001b[0m \u001b[0;36m10\u001b[0m\u001b[0;34m\u001b[0m\u001b[0;34m\u001b[0m\u001b[0m\n\u001b[0;32m----> 8\u001b[0;31m         \u001b[0mprint\u001b[0m\u001b[0;34m(\u001b[0m\u001b[0mself\u001b[0m\u001b[0;34m.\u001b[0m\u001b[0mb\u001b[0m\u001b[0;34m)\u001b[0m\u001b[0;34m\u001b[0m\u001b[0;34m\u001b[0m\u001b[0m\n\u001b[0m\u001b[1;32m      9\u001b[0m \u001b[0;34m\u001b[0m\u001b[0m\n\u001b[1;32m     10\u001b[0m \u001b[0mt\u001b[0m \u001b[0;34m=\u001b[0m \u001b[0mTest2\u001b[0m\u001b[0;34m(\u001b[0m\u001b[0;34m)\u001b[0m\u001b[0;34m\u001b[0m\u001b[0;34m\u001b[0m\u001b[0m\n",
      "\u001b[0;31mAttributeError\u001b[0m: 'Test2' object has no attribute 'b'"
     ]
    }
   ],
   "source": [
    "t.run2(b = 2.5)"
   ]
  },
  {
   "cell_type": "code",
   "execution_count": null,
   "id": "12996dfd",
   "metadata": {},
   "outputs": [],
   "source": []
  },
  {
   "cell_type": "code",
   "execution_count": 58,
   "id": "4b95eff1",
   "metadata": {},
   "outputs": [],
   "source": [
    "class Car:\n",
    "    colour = 'red'\n",
    "    category = 'sports car'\n",
    "     \n",
    "    def drive(self):\n",
    "        print(\"I'm driving\")\n",
    "        \n",
    "    def accel(self, speed_up, cnt_speed = 10):\n",
    "        self.speed_up = speed_up\n",
    "        self.cnt_speed = cnt_speed + speed_up\n",
    "        print(\"speed up\", self.speed_up, \"driving at\", self.cnt_speed)"
   ]
  },
  {
   "cell_type": "code",
   "execution_count": 59,
   "id": "ebf4f7c7",
   "metadata": {},
   "outputs": [],
   "source": [
    "class Car2:\n",
    "    def __init__(self, colour, category):\n",
    "        self.colour = colour\n",
    "        self.category = category\n",
    "\n",
    "    def drive(self):\n",
    "        print(\"I'm driving\")\n",
    "\n",
    "    def accel(self, speed_up, cnt_speed=10):\n",
    "        self.speed_up = speed_up\n",
    "        self.cnt_speed = cnt_speed + self.speed_up\n",
    "        print(\"speed up\", self.speed_up, \"driving at\", self.cnt_speed)"
   ]
  },
  {
   "cell_type": "code",
   "execution_count": 60,
   "id": "03ef822b",
   "metadata": {},
   "outputs": [],
   "source": [
    "#인스턴스 객체 선언\n",
    "car1 = Car()\n",
    "car2 = Car2('yellow', 'sedan')"
   ]
  },
  {
   "cell_type": "code",
   "execution_count": 69,
   "id": "b4bf6524",
   "metadata": {},
   "outputs": [
    {
     "name": "stdout",
     "output_type": "stream",
     "text": [
      "red\n",
      "sports car\n",
      "yellow\n",
      "sedan\n"
     ]
    }
   ],
   "source": [
    "print(car1.colour)\n",
    "print(car1.category) # print(car1.category()) -> X\n",
    "print(car2.colour)\n",
    "print(car2.category)"
   ]
  },
  {
   "cell_type": "code",
   "execution_count": null,
   "id": "582a83df",
   "metadata": {},
   "outputs": [],
   "source": []
  },
  {
   "cell_type": "code",
   "execution_count": 70,
   "id": "22be2638",
   "metadata": {},
   "outputs": [],
   "source": [
    "class 차:\n",
    "    Manufacture = \"India\"\n",
    "    \n",
    "    def __init__(self, colour, category = 'sedan'):\n",
    "        self.colour = colour\n",
    "        self.category = category"
   ]
  },
  {
   "cell_type": "code",
   "execution_count": 73,
   "id": "6410a646",
   "metadata": {},
   "outputs": [
    {
     "name": "stdout",
     "output_type": "stream",
     "text": [
      "India red sports car\n",
      "India white sedan\n"
     ]
    }
   ],
   "source": [
    "car1 = 차('red', 'sports car')\n",
    "car2 = 차('white') # 차(self, 'white') -> X NameError self is not defined\n",
    "print(car1.Manufacture, car1.colour, car1.category)\n",
    "print(car2.Manufacture, car2.colour, car2.category)"
   ]
  },
  {
   "cell_type": "code",
   "execution_count": null,
   "id": "2e931e72",
   "metadata": {},
   "outputs": [],
   "source": []
  },
  {
   "cell_type": "code",
   "execution_count": 91,
   "id": "b2eff6d1",
   "metadata": {},
   "outputs": [],
   "source": [
    "class Car:\n",
    "    Manufacture = \"Aussie\"\n",
    "    \n",
    "    def __init__(self, colour = \"purple\", category = 'sedan'):\n",
    "        self.colour = colour\n",
    "        self.category = category\n",
    "        \n",
    "    def drive(self):\n",
    "        print(\"i'm gonna driving\")\n",
    "        \n",
    "    def accel(self, speed_up, cnt_speed = 40):\n",
    "        self.speed_up = speed_up\n",
    "        self.cnt_speed = cnt_speed + self.speed_up  #speed_up 만 써도 되네유\n",
    "# cnt_speed는 40이니까 self 속성이 필요 없고, speed_up은 정의 안되어있기에 self 필요?        \n",
    "        print(\"speed_up :{}\\ndriving at {}\".format(self.speed_up, self.cnt_speed))"
   ]
  },
  {
   "cell_type": "code",
   "execution_count": 98,
   "id": "d5586b23",
   "metadata": {},
   "outputs": [
    {
     "name": "stdout",
     "output_type": "stream",
     "text": [
      "speed_up :20\n",
      "driving at 60\n"
     ]
    },
    {
     "data": {
      "text/plain": [
       "'pink'"
      ]
     },
     "execution_count": 98,
     "metadata": {},
     "output_type": "execute_result"
    }
   ],
   "source": [
    "car1 = Car(\"pink\")\n",
    "car1.accel(20)\n",
    "car1.colour"
   ]
  },
  {
   "cell_type": "code",
   "execution_count": 99,
   "id": "f215c315",
   "metadata": {},
   "outputs": [
    {
     "name": "stdout",
     "output_type": "stream",
     "text": [
      "i'm gonna driving\n",
      "speed_up :40\n",
      "driving at 80\n"
     ]
    }
   ],
   "source": [
    "class NewCar(Car):\n",
    "    pass\n",
    "\n",
    "car2 = NewCar()\n",
    "car2.drive()\n",
    "car2.accel(40)"
   ]
  },
  {
   "cell_type": "code",
   "execution_count": 100,
   "id": "d50290a5",
   "metadata": {},
   "outputs": [
    {
     "data": {
      "text/plain": [
       "'Porsche'"
      ]
     },
     "execution_count": 100,
     "metadata": {},
     "output_type": "execute_result"
    }
   ],
   "source": [
    "class NewCar(Car):\n",
    "    maker = 'Porsche'\n",
    "    \n",
    "car3 = NewCar()\n",
    "car3.maker"
   ]
  },
  {
   "cell_type": "code",
   "execution_count": 101,
   "id": "bedda7c1",
   "metadata": {},
   "outputs": [],
   "source": [
    "#over-ride 기존 method를 변경 = method override\n",
    "#자식 class에 새로운 method 추가 = create method\n",
    "class NewCar(Car):\n",
    "    def fly(self):\n",
    "        print(\"I'm flying!! It's awesome\")\n",
    "    def drive(self):\n",
    "        print(\"I'm driving and able to fly\")"
   ]
  },
  {
   "cell_type": "code",
   "execution_count": 107,
   "id": "6ae77a5d",
   "metadata": {
    "scrolled": true
   },
   "outputs": [
    {
     "name": "stdout",
     "output_type": "stream",
     "text": [
      "I'm driving and able to fly\n",
      "None\n",
      "I'm driving and able to fly\n",
      "None\n"
     ]
    }
   ],
   "source": [
    "print(car3.drive()) # it was I', gonna driving\n",
    "car3 = NewCar()\n",
    "print(car3.drive())"
   ]
  },
  {
   "cell_type": "code",
   "execution_count": 108,
   "id": "a1aedd52",
   "metadata": {},
   "outputs": [],
   "source": [
    "class NewCar(Car):\n",
    "    def __init__(self, colour, category, maker):\n",
    "        super().__init__(colour, category)\n",
    "        self.maker = maker\n",
    "\n",
    "    def fly(self):\n",
    "        print(\"I'm flying!! This is the new car!!\")\n",
    "\n",
    "    def accel(self, speed_up, level=1, cnt_speed = 45):\n",
    "        self.boost[level] = {1 : 0, 2 : 30, 3 : 50}\n",
    "        self.speed_up = speed_up + self.boost[level]\n",
    "        self.cnt_speed = cnt_speed + self.speed_up\n",
    "        print(\"speed up : {}\\ndriving at {}\".format(self.speed-up, self.cnt_speed))"
   ]
  },
  {
   "cell_type": "code",
   "execution_count": 109,
   "id": "518da9bc",
   "metadata": {},
   "outputs": [
    {
     "name": "stdout",
     "output_type": "stream",
     "text": [
      "2020Y sports car\n"
     ]
    }
   ],
   "source": [
    "class Car:\n",
    "    Manufacture = \"India\"\n",
    "\n",
    "    def __init__(self, colour='red', category='sedan'):\n",
    "        self.colour = colour \n",
    "        self.category = '2020Y '+ category\n",
    "\n",
    "\n",
    "class NewCar(Car):\n",
    "    def __init__(self, colour, category, maker):\n",
    "        super().__init__(colour, category)\n",
    "        self.maker = maker\n",
    "\n",
    "newcar = NewCar('red','sports car', 'Kia')\n",
    "print(newcar.category)"
   ]
  },
  {
   "cell_type": "code",
   "execution_count": 110,
   "id": "91e1fc79",
   "metadata": {},
   "outputs": [],
   "source": [
    "a = 123\n",
    "b = 123"
   ]
  },
  {
   "cell_type": "code",
   "execution_count": 111,
   "id": "b1e403c7",
   "metadata": {},
   "outputs": [
    {
     "data": {
      "text/plain": [
       "True"
      ]
     },
     "execution_count": 111,
     "metadata": {},
     "output_type": "execute_result"
    }
   ],
   "source": [
    "a == b"
   ]
  },
  {
   "cell_type": "code",
   "execution_count": 112,
   "id": "6f936eab",
   "metadata": {},
   "outputs": [
    {
     "data": {
      "text/plain": [
       "True"
      ]
     },
     "execution_count": 112,
     "metadata": {},
     "output_type": "execute_result"
    }
   ],
   "source": [
    "a is b"
   ]
  },
  {
   "cell_type": "code",
   "execution_count": null,
   "id": "3dbd507d",
   "metadata": {},
   "outputs": [],
   "source": []
  },
  {
   "cell_type": "code",
   "execution_count": null,
   "id": "260786c0",
   "metadata": {},
   "outputs": [],
   "source": [
    "def main():\n",
    "    n = get_inputs()\n",
    "    mydice = FunnyDice(n)\n",
    "    mydice.throw()\n",
    "    print(\"행운의 숫자는? {}\".format(mydice.getval()))"
   ]
  },
  {
   "cell_type": "code",
   "execution_count": null,
   "id": "79402784",
   "metadata": {},
   "outputs": [],
   "source": [
    "class FunnyDice:\n",
    "    def __init__(self, n):\n",
    "            self.n = n\n",
    "    \n",
    "    def throw(self):\n",
    "        pass\n",
    "    \n",
    "    def getval(self):\n",
    "        pass\n",
    "\n",
    "    def setval(self, val):\n",
    "        pass"
   ]
  },
  {
   "cell_type": "code",
   "execution_count": null,
   "id": "c96ebb66",
   "metadata": {},
   "outputs": [],
   "source": [
    "from random import randrange\n",
    "\n",
    "class FunnyDice:\n",
    "    def __init__(self, n=6):\n",
    "        self.n = int(n)\n",
    "        self.numbers = list(range(1, n+1))\n",
    "        self.index = randrange(0, self.n)\n",
    "        self.val = self.numbers[self.index]"
   ]
  },
  {
   "cell_type": "code",
   "execution_count": null,
   "id": "589536d3",
   "metadata": {},
   "outputs": [],
   "source": [
    "from random import randrange\n",
    "\n",
    "class FunnyDice:\n",
    "    def throw(self):\n",
    "        self.index = randrange(0, self.n)\n",
    "        self.val = self.numbers[self.index]\n",
    "    \n",
    "    def getval(self):\n",
    "        return self.val"
   ]
  },
  {
   "cell_type": "code",
   "execution_count": null,
   "id": "2403880e",
   "metadata": {},
   "outputs": [],
   "source": [
    "from random import randrange\n",
    "\n",
    "class FunnyDice:    \n",
    "    def setval(self, val:int):\n",
    "        if val <= self.n:\n",
    "            self.val = val\n",
    "        else:\n",
    "            msg = \"주사위에 없는 숫자입니다. 주사위는 1 ~ {0}까지 있습니다. \".format(self.n)\n",
    "            raise ValueError(msg)"
   ]
  },
  {
   "cell_type": "code",
   "execution_count": null,
   "id": "04a99f0b",
   "metadata": {},
   "outputs": [],
   "source": [
    "class FunnyDice:\n",
    "    def __init__(self, n=6):\n",
    "        self.n = int(n)\n",
    "        self.numbers = list(range(1, n+1))\n",
    "        self.index = randrange(0, self.n)\n",
    "        self.val = self.numbers[self.index]\n",
    "\n",
    "    def throw(self):\n",
    "        self.index = randrange(0, self.n)\n",
    "        self.val = self.numbers[self.index]\n",
    "\n",
    "    def getval(self):\n",
    "        return self.val\n",
    "\n",
    "    def setval(self, val):\n",
    "        if val <= self.n:\n",
    "            self.val = val\n",
    "        else:\n",
    "            msg = \"주사위에 없는 숫자입니다. 주사위는 1 ~ {0}까지 있습니다. \".format(self.n)\n",
    "            raise ValueError(msg)"
   ]
  },
  {
   "cell_type": "code",
   "execution_count": null,
   "id": "a5c66973",
   "metadata": {},
   "outputs": [],
   "source": [
    "def get_inputs():\n",
    "    n = int(input(\"주사위 면의 개수를 입력하세요: \"))\n",
    "    return n"
   ]
  },
  {
   "cell_type": "code",
   "execution_count": null,
   "id": "e16ecff0",
   "metadata": {},
   "outputs": [],
   "source": []
  },
  {
   "cell_type": "code",
   "execution_count": null,
   "id": "50f1bd6e",
   "metadata": {},
   "outputs": [],
   "source": []
  },
  {
   "cell_type": "code",
   "execution_count": null,
   "id": "f1736474",
   "metadata": {},
   "outputs": [],
   "source": []
  }
 ],
 "metadata": {
  "kernelspec": {
   "display_name": "Python 3 (ipykernel)",
   "language": "python",
   "name": "python3"
  },
  "language_info": {
   "codemirror_mode": {
    "name": "ipython",
    "version": 3
   },
   "file_extension": ".py",
   "mimetype": "text/x-python",
   "name": "python",
   "nbconvert_exporter": "python",
   "pygments_lexer": "ipython3",
   "version": "3.9.7"
  }
 },
 "nbformat": 4,
 "nbformat_minor": 5
}
